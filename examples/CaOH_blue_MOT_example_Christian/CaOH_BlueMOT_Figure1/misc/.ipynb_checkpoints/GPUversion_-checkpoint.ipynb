{
 "cells": [
  {
   "cell_type": "code",
   "execution_count": 1,
   "id": "cd1bdc86-d5f8-4e56-9837-8216c2077551",
   "metadata": {},
   "outputs": [],
   "source": [
    "using Distributed\n",
    "procs_to_use = 5\n",
    "if nprocs() <= procs_to_use\n",
    "    addprocs(procs_to_use-nprocs())\n",
    "end\n",
    ";"
   ]
  },
  {
   "cell_type": "code",
   "execution_count": 2,
   "id": "cded89ae-07a0-483a-9966-0b1fcbd4b4a7",
   "metadata": {},
   "outputs": [
    {
     "name": "stderr",
     "output_type": "stream",
     "text": [
      "\u001b[32m\u001b[1mPrecompiling\u001b[22m\u001b[39m QuantumStates\n",
      "\u001b[36m\u001b[1m        Info\u001b[22m\u001b[39m Given QuantumStates was explicitly requested, output will be shown live \u001b[0K\n",
      "\u001b[0KWARNING: Method definition TDM(Any, Any) in module QuantumStates at C:\\Google Drive\\github\\QuantumStates\\src\\HundsCaseB_LinearMolecule.jl:327 overwritten at C:\\Google Drive\\github\\QuantumStates\\src\\HundsCaseB_LinearMolecule.jl:328.\n",
      "\u001b[0KERROR: Method overwriting is not permitted during Module precompilation. Use `__precompile__(false)` to opt-out of precompilation.\n",
      "\u001b[33m  ? \u001b[39mQuantumStates\n",
      "\u001b[36m\u001b[1m[ \u001b[22m\u001b[39m\u001b[36m\u001b[1mInfo: \u001b[22m\u001b[39mPrecompiling QuantumStates [17f0441f-15e0-42ae-a101-302633ff8f0f]\n",
      "WARNING: Method definition TDM(Any, Any) in module QuantumStates at C:\\Google Drive\\github\\QuantumStates\\src\\HundsCaseB_LinearMolecule.jl:327 overwritten at C:\\Google Drive\\github\\QuantumStates\\src\\HundsCaseB_LinearMolecule.jl:328.\n",
      "ERROR: Method overwriting is not permitted during Module precompilation. Use `__precompile__(false)` to opt-out of precompilation.\n",
      "\u001b[36m\u001b[1m[ \u001b[22m\u001b[39m\u001b[36m\u001b[1mInfo: \u001b[22m\u001b[39mSkipping precompilation since __precompile__(false). Importing QuantumStates [17f0441f-15e0-42ae-a101-302633ff8f0f].\n"
     ]
    },
    {
     "name": "stdout",
     "output_type": "stream",
     "text": [
      "      From worker 3:\tWARNING: Method definition TDM(Any, Any) in module QuantumStates at C:\\Google Drive\\github\\QuantumStates\\src\\HundsCaseB_LinearMolecule.jl:327 overwritten at C:\\Google Drive\\github\\QuantumStates\\src\\HundsCaseB_LinearMolecule.jl:328.\n",
      "      From worker 3:\tERROR: Method overwriting is not permitted during Module precompilation. Use `__precompile__(false)` to opt-out of precompilation.\n",
      "      From worker 5:\tWARNING: Method definition TDM(Any, Any) in module QuantumStates at C:\\Google Drive\\github\\QuantumStates\\src\\HundsCaseB_LinearMolecule.jl:327 overwritten at C:\\Google Drive\\github\\QuantumStates\\src\\HundsCaseB_LinearMolecule.jl:328.\n",
      "      From worker 5:\tERROR: Method overwriting is not permitted during Module precompilation. Use `__precompile__(false)` to opt-out of precompilation.\n",
      "      From worker 4:\tWARNING: Method definition TDM(Any, Any) in module QuantumStates at C:\\Google Drive\\github\\QuantumStates\\src\\HundsCaseB_LinearMolecule.jl:327 overwritten at C:\\Google Drive\\github\\QuantumStates\\src\\HundsCaseB_LinearMolecule.jl:328.\n",
      "      From worker 4:\tERROR: Method overwriting is not permitted during Module precompilation. Use `__precompile__(false)` to opt-out of precompilation.\n",
      "      From worker 2:\tWARNING: Method definition TDM(Any, Any) in module QuantumStates at C:\\Google Drive\\github\\QuantumStates\\src\\HundsCaseB_LinearMolecule.jl:327 overwritten at C:\\Google Drive\\github\\QuantumStates\\src\\HundsCaseB_LinearMolecule.jl:328.\n",
      "      From worker 2:\tERROR: Method overwriting is not permitted during Module precompilation. Use `__precompile__(false)` to opt-out of precompilation.\n"
     ]
    }
   ],
   "source": [
    "@everywhere using\n",
    "    QuantumStates,\n",
    "    OpticalBlochEquations,\n",
    "    DifferentialEquations,\n",
    "    UnitsToValue,\n",
    "    StructArrays,\n",
    "    StaticArrays,\n",
    "    LoopVectorization,\n",
    "    Parameters,\n",
    "    MutableNamedTuples,\n",
    "    StatsBase, \n",
    "    Plots, \n",
    "    Distributions\n",
    ";"
   ]
  },
  {
   "cell_type": "code",
   "execution_count": 3,
   "id": "13e88a7c-78bb-49c1-ac88-85d6c1d28f94",
   "metadata": {},
   "outputs": [],
   "source": [
    "@everywhere include(\"helper_functions.jl\")\n",
    ";"
   ]
  },
  {
   "cell_type": "markdown",
   "id": "fa87f6bd-3aaf-4a02-a76b-4ebd717d9f0b",
   "metadata": {},
   "source": [
    "# Define molecular states for the laser cooling transition"
   ]
  },
  {
   "cell_type": "code",
   "execution_count": 4,
   "id": "66770bda-7989-4dbe-83ab-ac95c20e8bf7",
   "metadata": {},
   "outputs": [],
   "source": [
    "# Define constants for the laser cooling transition\n",
    "@everywhere begin\n",
    "    @consts begin\n",
    "        λ = 626e-9             # wavelength of transition\n",
    "        Γ = 2π * 6.4e6         # transition linewidth\n",
    "        m = @with_unit 57 \"u\"  # mass of CaOH\n",
    "        k = 2π / λ             # wavenumber of transition\n",
    "    end\n",
    "end\n",
    ";"
   ]
  },
  {
   "cell_type": "code",
   "execution_count": 5,
   "id": "ce07cee9-83e1-4a56-a01b-d170b84bdf0a",
   "metadata": {},
   "outputs": [],
   "source": [
    "@everywhere include(\"CaOH_X(000).jl\")\n",
    "@everywhere include(\"CaOH_A(000).jl\")\n",
    ";"
   ]
  },
  {
   "cell_type": "code",
   "execution_count": 6,
   "id": "6d76e827-b3a2-4669-b1ce-484ef176f67e",
   "metadata": {},
   "outputs": [],
   "source": [
    "@everywhere begin\n",
    "    H = CombinedHamiltonian([X_state_ham, A_state_ham])\n",
    "    evaluate!(H)\n",
    "    QuantumStates.solve!(H)\n",
    "    update_basis_tdms!(H)\n",
    "    update_tdms!(H)\n",
    "    \n",
    "    ground_state_idxs = 1:12\n",
    "    excited_state_idxs = 17:20\n",
    "    states_idxs = [ground_state_idxs; excited_state_idxs]\n",
    "    \n",
    "    ground_states = H.states[ground_state_idxs]\n",
    "    excited_states = H.states[excited_state_idxs]\n",
    "    \n",
    "    d = H.tdms[states_idxs, states_idxs, :]\n",
    "    states = H.states[states_idxs]\n",
    "end"
   ]
  },
  {
   "cell_type": "code",
   "execution_count": 7,
   "id": "aa6d22e8-acf8-4b71-b64a-d250185a7297",
   "metadata": {},
   "outputs": [],
   "source": [
    "@everywhere begin\n",
    "    Zeeman_x(state, state′) = (Zeeman(state, state′,-1) - Zeeman(state, state′,1))/sqrt(2)\n",
    "    Zeeman_y(state, state′) = im*(Zeeman(state, state′,-1) + Zeeman(state, state′,1))/sqrt(2)\n",
    "    Zeeman_z(state, state′) = Zeeman(state, state′, 0)\n",
    "    \n",
    "    Zeeman_x_mat = StructArray(operator_to_matrix_zero_padding2(Zeeman_x, ground_states, excited_states) .* (1e-4 * gS * μB * (2π/Γ) / h))\n",
    "    Zeeman_y_mat = StructArray(operator_to_matrix_zero_padding2(Zeeman_y, ground_states, excited_states) .* (1e-4 * gS * μB * (2π/Γ) / h))\n",
    "    Zeeman_z_mat = StructArray(operator_to_matrix_zero_padding2(Zeeman_z, ground_states, excited_states) .* (1e-4 * gS * μB * (2π/Γ) / h))\n",
    "end\n",
    ";"
   ]
  },
  {
   "cell_type": "markdown",
   "id": "7e552063-78b1-4945-87e4-dc31c11bbd3e",
   "metadata": {},
   "source": [
    "# Define experimental parameters"
   ]
  },
  {
   "cell_type": "code",
   "execution_count": 8,
   "id": "cd0a818a",
   "metadata": {},
   "outputs": [],
   "source": [
    "@everywhere begin\n",
    "     \n",
    "    Isat = π*h*c*Γ/(3λ^3)\n",
    "    P = 0.5 * 0.7 * 13.1e-3 # 13.1 mW/1 V, factor of 0.5 to match scattering rates\n",
    "    I = 2P / (π * 5e-3^2) # 8 mm 1/e^2 diameter beams\n",
    "    s = I / Isat\n",
    "    \n",
    "    # Define B field gradient and ramp time\n",
    "    B_grad_start = 0.\n",
    "    B_grad_end = 78.\n",
    "    ramp_time = 4e-3 / (1/Γ)\n",
    "    detuning = +7.6\n",
    "    δ1 = +0.0\n",
    "    δ2 = +0.0\n",
    "    δ3 = -1.00\n",
    "    δ4 = +0.75\n",
    "    \n",
    "    Δ1 = 1e6 * (detuning + δ1)\n",
    "    Δ2 = 1e6 * (detuning + δ2)\n",
    "    Δ3 = 1e6 * (detuning + δ3)\n",
    "    Δ4 = 1e6 * (detuning + δ4)\n",
    "    \n",
    "    s1 = 0.00I/Isat\n",
    "    s2 = 0.37I/Isat\n",
    "    s3 = 0.28I/Isat\n",
    "    s4 = 0.35I/Isat\n",
    "    \n",
    "    T_initial = 35e-6\n",
    "    \n",
    "    params = MutableNamedTuple(\n",
    "        pol1_x=σ⁺, pol2_x=σ⁻, pol3_x=σ⁺, pol4_x=σ⁻,\n",
    "        s1=s1, s2=s2, s3=s3, s4=s4,\n",
    "        Δ1=Δ1, Δ2=Δ2, Δ3=Δ3, Δ4=Δ4,\n",
    "        \n",
    "        B_grad_start = B_grad_start,\n",
    "        B_grad_end = B_grad_end,\n",
    "        B_ramp_time = ramp_time,\n",
    "        \n",
    "        s_ramp_time = ramp_time,\n",
    "        s_ramp_factor = 1.,\n",
    "\n",
    "        photon_budget = rand(Geometric(1/13500)),\n",
    "        \n",
    "        x_dist = Normal(0,700e-6),\n",
    "        y_dist = Normal(0,700e-6),\n",
    "        z_dist = Normal(0,400e-6),\n",
    "\n",
    "        vx_dist = Normal(0, sqrt(kB*T_initial/2m)),\n",
    "        vy_dist = Normal(0, sqrt(kB*T_initial/2m)),\n",
    "        vz_dist = Normal(0, sqrt(kB*T_initial/2m)),\n",
    "\n",
    "        Zeeman_Hx = Zeeman_x_mat,\n",
    "        Zeeman_Hy = Zeeman_y_mat,\n",
    "        Zeeman_Hz = Zeeman_z_mat\n",
    "    )\n",
    "end"
   ]
  },
  {
   "cell_type": "code",
   "execution_count": 9,
   "id": "9791859b-037b-4369-936d-7d0e29764dc5",
   "metadata": {},
   "outputs": [],
   "source": [
    "@everywhere begin\n",
    "    include(\"define_lasers.jl\")\n",
    "    lasers = define_lasers(\n",
    "        states,\n",
    "        params.s1,\n",
    "        params.s2,\n",
    "        params.s3,\n",
    "        params.s4,\n",
    "        params.Δ1,\n",
    "        params.Δ2,\n",
    "        params.Δ3,\n",
    "        params.Δ4,\n",
    "        params.pol1_x,\n",
    "        params.pol2_x,\n",
    "        params.pol3_x,\n",
    "        params.pol4_x,\n",
    "        params.s_ramp_time,\n",
    "        params.s_ramp_factor\n",
    "    )\n",
    "end\n",
    ";"
   ]
  },
  {
   "cell_type": "code",
   "execution_count": null,
   "id": "49efc1c6-e899-4c6c-b74d-876f30bd7c15",
   "metadata": {},
   "outputs": [],
   "source": [
    "@everywhere function update_H_and_∇H(H, p, r, t)\n",
    "\n",
    "    Zeeman_Hz = p.params.Zeeman_Hz\n",
    "    Zeeman_Hx = p.params.Zeeman_Hx\n",
    "    Zeeman_Hy = p.params.Zeeman_Hy\n",
    "\n",
    "    # set ramp factor\n",
    "    scalar = t/p.params.B_ramp_time\n",
    "    scalar = min(scalar, 1.0)\n",
    "    \n",
    "    B_grad = scalar * (p.params.B_grad_end - p.params.B_grad_start) + p.params.B_grad_start\n",
    "    \n",
    "    gradient_x = +scalar * B_grad * 1e2 / k / 2\n",
    "    gradient_y = +scalar * B_grad * 1e2 / k / 2\n",
    "    gradient_z = -scalar * B_grad * 1e2 / k\n",
    "    \n",
    "    Bx = gradient_x * r[1]\n",
    "    By = gradient_y * r[2]\n",
    "    Bz = gradient_z * r[3]\n",
    "    \n",
    "    @turbo for i in eachindex(H)\n",
    "        H.re[i] = Bx * Zeeman_Hx.re[i] + By * Zeeman_Hy.re[i] + Bz * Zeeman_Hz.re[i]\n",
    "        H.im[i] = Bx * Zeeman_Hx.im[i] + By * Zeeman_Hy.im[i] + Bz * Zeeman_Hz.im[i]\n",
    "    end\n",
    "\n",
    "    ∇H = SVector{3, Float64}(0,0,0)\n",
    "  \n",
    "    return ∇H\n",
    "end"
   ]
  },
  {
   "cell_type": "markdown",
   "id": "74422ad4-55a8-4c10-9bd9-c9dd057a9fea",
   "metadata": {
    "tags": []
   },
   "source": [
    "## Simulate trajectory for single particle"
   ]
  },
  {
   "cell_type": "code",
   "execution_count": null,
   "id": "d04f08dc-7bbd-44d3-a19b-950445a01297",
   "metadata": {},
   "outputs": [
    {
     "name": "stdout",
     "output_type": "stream",
     "text": [
      " 22.419810 seconds (30.02 M allocations: 1.928 GiB, 6.94% gc time, 62.67% compilation time)\n"
     ]
    }
   ],
   "source": [
    "@everywhere begin\n",
    "    t_start = 0.0\n",
    "    t_end   = 6e-3\n",
    "    t_span  = (t_start, t_end) ./ (1/Γ)\n",
    "\n",
    "    ψ₀ = zeros(ComplexF64, length(states))\n",
    "    ψ₀[1] = 1.0\n",
    "\n",
    "    diffusion_constant_simple = ones(3) .* (ħ^2*k^2/3) ./ (m*ħ*Γ)\n",
    "    \n",
    "    particle = Particle()\n",
    "    particle.r = (0,0,0.3e-3) ./ (1/k)\n",
    "    \n",
    "    p = schrodinger_stochastic(particle, states, lasers, d, ψ₀, m/(ħ*k^2/Γ), 4; params=params, λ=λ, Γ=Γ, update_H_and_∇H=update_H_and_∇H, diffusion_constant=diffusion_constant_simple)\n",
    "    cb1 = ContinuousCallback(condition, stochastic_collapse!, nothing, save_positions=(false,false))\n",
    "    cb2 = DiscreteCallback(terminate_condition, terminate!)\n",
    "    cbs = CallbackSet(cb1,cb2)\n",
    "    prob = ODEProblem(ψ_stochastic_diffusion!, p.ψ, t_span, p; alg=DP5(), maxiters=200000000, callback=cbs, reltol=1e-3, saveat=1000)\n",
    "end\n",
    "@time sol = DifferentialEquations.solve(prob)\n",
    ";"
   ]
  },
  {
   "cell_type": "code",
   "execution_count": 21,
   "id": "652f424f-65bc-44f4-8f31-181ea2519250",
   "metadata": {},
   "outputs": [
    {
     "name": "stdout",
     "output_type": "stream",
     "text": [
      " 73.944810 seconds (448.67 k allocations: 43.531 MiB, 0.01% compilation time: 100% of which was recompilation)\n"
     ]
    }
   ],
   "source": [
    "ensemble_prob = EnsembleProblem(prob; prob_func=prob_func)\n",
    "@time ensemble_sol = solve(ensemble_prob, EnsembleDistributed(); trajectories=10)\n",
    ";"
   ]
  },
  {
   "cell_type": "code",
   "execution_count": 18,
   "id": "5b6dbfc1-0aba-40e8-9ce5-2882d3fddd8c",
   "metadata": {},
   "outputs": [],
   "source": [
    "using DiffEqGPU, CUDA"
   ]
  },
  {
   "cell_type": "code",
   "execution_count": 23,
   "id": "cee86a8e-59f1-4039-a47f-3210c6754c8b",
   "metadata": {},
   "outputs": [
    {
     "ename": "LoadError",
     "evalue": "InvalidIRError: compiling MethodInstance for DiffEqGPU.gpu_gpu_kernel(::KernelAbstractions.CompilerMetadata{KernelAbstractions.NDIteration.DynamicSize, KernelAbstractions.NDIteration.DynamicCheck, Nothing, CartesianIndices{1, Tuple{Base.OneTo{Int64}}}, KernelAbstractions.NDIteration.NDRange{1, KernelAbstractions.NDIteration.DynamicSize, KernelAbstractions.NDIteration.DynamicSize, CartesianIndices{1, Tuple{Base.OneTo{Int64}}}, CartesianIndices{1, Tuple{Base.OneTo{Int64}}}}}, ::typeof(ψ_stochastic_diffusion!), ::CuDeviceMatrix{ComplexF64, 1}, ::CuDeviceMatrix{ComplexF64, 1}, ::CuDeviceMatrix{MutableNamedTuple{(:H, :H₀, :∇H, :ψ, :dψ, :ψ_soa, :dψ_soa, :ω, :eiωt, :Js, :states, :fields, :r0, :r, :v, :d, :d_nnz, :λ, :k, :Γ, :E, :E_k, :ds, :ds_state1, :ds_state2, :params, :mass, :update_H_and_∇H, :populations, :n_scatters, :save_counter, :n_states, :n_ground, :n_excited, :trajectory, :decay_dist, :time_to_decay, :last_decay_time, :∇H_x, :∇H_y, :∇H_z, :∇H_x_ψ, :∇H_y_ψ, :∇H_z_ψ, :H_nh, :diffusion_constant), Tuple{Base.RefValue{StructArray{ComplexF64, 2, @NamedTuple{re::Matrix{Float64}, im::Matrix{Float64}}, Int64}}, Base.RefValue{StructArray{ComplexF64, 2, @NamedTuple{re::Matrix{Float64}, im::Matrix{Float64}}, Int64}}, Base.RefValue{SVector{3, ComplexF64}}, Base.RefValue{Vector{ComplexF64}}, Base.RefValue{Vector{ComplexF64}}, Base.RefValue{StructVector{ComplexF64, @NamedTuple{re::Vector{Float64}, im::Vector{Float64}}, Int64}}, Base.RefValue{StructVector{ComplexF64, @NamedTuple{re::Vector{Float64}, im::Vector{Float64}}, Int64}}, Base.RefValue{Vector{Float64}}, Base.RefValue{StructVector{ComplexF64, @NamedTuple{re::Vector{Float64}, im::Vector{Float64}}, Int64}}, Base.RefValue{Vector{OpticalBlochEquations.Jump}}, Base.RefValue{StructVector{State{HundsCaseB_LinearMolecule}, @NamedTuple{E::Vector{Float64}, basis::Vector{Vector{HundsCaseB_LinearMolecule}}, coeffs::Vector{Vector{ComplexF64}}, idx::Vector{Int64}}, Int64}}, Base.RefValue{StructVector{Field{Float64, var\"#25#29\"{SVector{3, ComplexF64}}, var\"#26#31\"{Float64, Float64, Tuple{Int64, Int64}}}, @NamedTuple{k::Vector{SVector{3, Float64}}, ϵ::Vector{var\"#25#29\"{SVector{3, ComplexF64}}}, ϵ_val::Vector{SVector{3, ComplexF64}}, ω::Vector{Float64}, s_max::Vector{Float64}, s_scalar_func::Vector{var\"#26#31\"{Float64, Float64, Tuple{Int64, Int64}}}, s::Vector{Float64}, re::Vector{Float64}, im::Vector{Float64}, kr::Vector{Float64}, E::Vector{SVector{3, ComplexF64}}, ϕ::Vector{Float64}}, Int64}}, Base.RefValue{MVector{3, Float64}}, Base.RefValue{MVector{3, Float64}}, Base.RefValue{MVector{3, Float64}}, Base.RefValue{Array{ComplexF64, 3}}, Base.RefValue{Vector{Vector{CartesianIndex{2}}}}, Base.RefValue{Float64}, Base.RefValue{Float64}, Base.RefValue{Float64}, Base.RefValue{SVector{3, ComplexF64}}, Base.RefValue{Vector{SVector{3, ComplexF64}}}, Base.RefValue{Vector{StructVector{ComplexF64, @NamedTuple{re::Vector{Float64}, im::Vector{Float64}}, Int64}}}, Base.RefValue{Vector{Vector{Int64}}}, Base.RefValue{Vector{Vector{Int64}}}, Base.RefValue{MutableNamedTuple{(:pol1_x, :pol2_x, :pol3_x, :pol4_x, :s1, :s2, :s3, :s4, :Δ1, :Δ2, :Δ3, :Δ4, :B_grad_start, :B_grad_end, :B_ramp_time, :s_ramp_time, :s_ramp_factor, :photon_budget, :x_dist, :y_dist, :z_dist, :vx_dist, :vy_dist, :vz_dist, :Zeeman_Hx, :Zeeman_Hy, :Zeeman_Hz), Tuple{Base.RefValue{SVector{3, ComplexF64}}, Base.RefValue{SVector{3, ComplexF64}}, Base.RefValue{SVector{3, ComplexF64}}, Base.RefValue{SVector{3, ComplexF64}}, Base.RefValue{Float64}, Base.RefValue{Float64}, Base.RefValue{Float64}, Base.RefValue{Float64}, Base.RefValue{Float64}, Base.RefValue{Float64}, Base.RefValue{Float64}, Base.RefValue{Float64}, Base.RefValue{Float64}, Base.RefValue{Float64}, Base.RefValue{Float64}, Base.RefValue{Float64}, Base.RefValue{Float64}, Base.RefValue{Int64}, Base.RefValue{Normal{Float64}}, Base.RefValue{Normal{Float64}}, Base.RefValue{Normal{Float64}}, Base.RefValue{Normal{Float64}}, Base.RefValue{Normal{Float64}}, Base.RefValue{Normal{Float64}}, Base.RefValue{StructArray{ComplexF64, 2, @NamedTuple{re::Matrix{Float64}, im::Matrix{Float64}}, Int64}}, Base.RefValue{StructArray{ComplexF64, 2, @NamedTuple{re::Matrix{Float64}, im::Matrix{Float64}}, Int64}}, Base.RefValue{StructArray{ComplexF64, 2, @NamedTuple{re::Matrix{Float64}, im::Matrix{Float64}}, Int64}}}}}, Base.RefValue{Float64}, Base.RefValue{typeof(update_H_and_∇H)}, Base.RefValue{Vector{Float64}}, Base.RefValue{Int64}, Base.RefValue{Int64}, Base.RefValue{Int64}, Base.RefValue{Int64}, Base.RefValue{Int64}, Base.RefValue{Vector{Vector{ComplexF64}}}, Base.RefValue{Exponential{Float64}}, Base.RefValue{Float64}, Base.RefValue{Float64}, Base.RefValue{StructArray{ComplexF64, 2, @NamedTuple{re::Matrix{Float64}, im::Matrix{Float64}}, Int64}}, Base.RefValue{StructArray{ComplexF64, 2, @NamedTuple{re::Matrix{Float64}, im::Matrix{Float64}}, Int64}}, Base.RefValue{StructArray{ComplexF64, 2, @NamedTuple{re::Matrix{Float64}, im::Matrix{Float64}}, Int64}}, Base.RefValue{StructVector{ComplexF64, @NamedTuple{re::Vector{Float64}, im::Vector{Float64}}, Int64}}, Base.RefValue{StructVector{ComplexF64, @NamedTuple{re::Vector{Float64}, im::Vector{Float64}}, Int64}}, Base.RefValue{StructVector{ComplexF64, @NamedTuple{re::Vector{Float64}, im::Vector{Float64}}, Int64}}, Base.RefValue{StructArray{ComplexF64, 2, @NamedTuple{re::Matrix{Float64}, im::Matrix{Float64}}, Int64}}, Base.RefValue{Vector{Float64}}}}, 1}, ::Float64) resulted in invalid LLVM IR\n\u001b[31mReason: unsupported dynamic function invocation\u001b[39m\u001b[31m (call to base_to_soa!)\u001b[39m\nStacktrace:\n [1] \u001b[0m\u001b[1mψ_stochastic_diffusion!\u001b[22m\n\u001b[90m   @\u001b[39m \u001b[90mC:\\Google Drive\\github\\OpticalBlochEquations\\src\\\u001b[39m\u001b[90m\u001b[4mstochastic_schrodinger_diffusion_forcevariance.jl:35\u001b[24m\u001b[39m\n [2] \u001b[0m\u001b[1mmacro expansion\u001b[22m\n\u001b[90m   @\u001b[39m \u001b[90mC:\\Users\\Christian\\.julia\\packages\\DiffEqGPU\\I999k\\src\\ensemblegpuarray\\\u001b[39m\u001b[90m\u001b[4mkernels.jl:45\u001b[24m\u001b[39m\n [3] \u001b[0m\u001b[1mgpu_gpu_kernel\u001b[22m\n\u001b[90m   @\u001b[39m \u001b[90mC:\\Users\\Christian\\.julia\\packages\\KernelAbstractions\\xRXlv\\src\\\u001b[39m\u001b[90m\u001b[4mmacros.jl:95\u001b[24m\u001b[39m\n [4] \u001b[0m\u001b[1mgpu_gpu_kernel\u001b[22m\n\u001b[90m   @\u001b[39m \u001b[90m.\\\u001b[39m\u001b[90m\u001b[4mnone:0\u001b[24m\u001b[39m\n\u001b[36m\u001b[1mHint\u001b[22m\u001b[39m\u001b[36m: catch this exception as `err` and call `code_typed(err; interactive = true)` to introspect the erronous code with Cthulhu.jl\u001b[39m",
     "output_type": "error",
     "traceback": [
      "InvalidIRError: compiling MethodInstance for DiffEqGPU.gpu_gpu_kernel(::KernelAbstractions.CompilerMetadata{KernelAbstractions.NDIteration.DynamicSize, KernelAbstractions.NDIteration.DynamicCheck, Nothing, CartesianIndices{1, Tuple{Base.OneTo{Int64}}}, KernelAbstractions.NDIteration.NDRange{1, KernelAbstractions.NDIteration.DynamicSize, KernelAbstractions.NDIteration.DynamicSize, CartesianIndices{1, Tuple{Base.OneTo{Int64}}}, CartesianIndices{1, Tuple{Base.OneTo{Int64}}}}}, ::typeof(ψ_stochastic_diffusion!), ::CuDeviceMatrix{ComplexF64, 1}, ::CuDeviceMatrix{ComplexF64, 1}, ::CuDeviceMatrix{MutableNamedTuple{(:H, :H₀, :∇H, :ψ, :dψ, :ψ_soa, :dψ_soa, :ω, :eiωt, :Js, :states, :fields, :r0, :r, :v, :d, :d_nnz, :λ, :k, :Γ, :E, :E_k, :ds, :ds_state1, :ds_state2, :params, :mass, :update_H_and_∇H, :populations, :n_scatters, :save_counter, :n_states, :n_ground, :n_excited, :trajectory, :decay_dist, :time_to_decay, :last_decay_time, :∇H_x, :∇H_y, :∇H_z, :∇H_x_ψ, :∇H_y_ψ, :∇H_z_ψ, :H_nh, :diffusion_constant), Tuple{Base.RefValue{StructArray{ComplexF64, 2, @NamedTuple{re::Matrix{Float64}, im::Matrix{Float64}}, Int64}}, Base.RefValue{StructArray{ComplexF64, 2, @NamedTuple{re::Matrix{Float64}, im::Matrix{Float64}}, Int64}}, Base.RefValue{SVector{3, ComplexF64}}, Base.RefValue{Vector{ComplexF64}}, Base.RefValue{Vector{ComplexF64}}, Base.RefValue{StructVector{ComplexF64, @NamedTuple{re::Vector{Float64}, im::Vector{Float64}}, Int64}}, Base.RefValue{StructVector{ComplexF64, @NamedTuple{re::Vector{Float64}, im::Vector{Float64}}, Int64}}, Base.RefValue{Vector{Float64}}, Base.RefValue{StructVector{ComplexF64, @NamedTuple{re::Vector{Float64}, im::Vector{Float64}}, Int64}}, Base.RefValue{Vector{OpticalBlochEquations.Jump}}, Base.RefValue{StructVector{State{HundsCaseB_LinearMolecule}, @NamedTuple{E::Vector{Float64}, basis::Vector{Vector{HundsCaseB_LinearMolecule}}, coeffs::Vector{Vector{ComplexF64}}, idx::Vector{Int64}}, Int64}}, Base.RefValue{StructVector{Field{Float64, var\"#25#29\"{SVector{3, ComplexF64}}, var\"#26#31\"{Float64, Float64, Tuple{Int64, Int64}}}, @NamedTuple{k::Vector{SVector{3, Float64}}, ϵ::Vector{var\"#25#29\"{SVector{3, ComplexF64}}}, ϵ_val::Vector{SVector{3, ComplexF64}}, ω::Vector{Float64}, s_max::Vector{Float64}, s_scalar_func::Vector{var\"#26#31\"{Float64, Float64, Tuple{Int64, Int64}}}, s::Vector{Float64}, re::Vector{Float64}, im::Vector{Float64}, kr::Vector{Float64}, E::Vector{SVector{3, ComplexF64}}, ϕ::Vector{Float64}}, Int64}}, Base.RefValue{MVector{3, Float64}}, Base.RefValue{MVector{3, Float64}}, Base.RefValue{MVector{3, Float64}}, Base.RefValue{Array{ComplexF64, 3}}, Base.RefValue{Vector{Vector{CartesianIndex{2}}}}, Base.RefValue{Float64}, Base.RefValue{Float64}, Base.RefValue{Float64}, Base.RefValue{SVector{3, ComplexF64}}, Base.RefValue{Vector{SVector{3, ComplexF64}}}, Base.RefValue{Vector{StructVector{ComplexF64, @NamedTuple{re::Vector{Float64}, im::Vector{Float64}}, Int64}}}, Base.RefValue{Vector{Vector{Int64}}}, Base.RefValue{Vector{Vector{Int64}}}, Base.RefValue{MutableNamedTuple{(:pol1_x, :pol2_x, :pol3_x, :pol4_x, :s1, :s2, :s3, :s4, :Δ1, :Δ2, :Δ3, :Δ4, :B_grad_start, :B_grad_end, :B_ramp_time, :s_ramp_time, :s_ramp_factor, :photon_budget, :x_dist, :y_dist, :z_dist, :vx_dist, :vy_dist, :vz_dist, :Zeeman_Hx, :Zeeman_Hy, :Zeeman_Hz), Tuple{Base.RefValue{SVector{3, ComplexF64}}, Base.RefValue{SVector{3, ComplexF64}}, Base.RefValue{SVector{3, ComplexF64}}, Base.RefValue{SVector{3, ComplexF64}}, Base.RefValue{Float64}, Base.RefValue{Float64}, Base.RefValue{Float64}, Base.RefValue{Float64}, Base.RefValue{Float64}, Base.RefValue{Float64}, Base.RefValue{Float64}, Base.RefValue{Float64}, Base.RefValue{Float64}, Base.RefValue{Float64}, Base.RefValue{Float64}, Base.RefValue{Float64}, Base.RefValue{Float64}, Base.RefValue{Int64}, Base.RefValue{Normal{Float64}}, Base.RefValue{Normal{Float64}}, Base.RefValue{Normal{Float64}}, Base.RefValue{Normal{Float64}}, Base.RefValue{Normal{Float64}}, Base.RefValue{Normal{Float64}}, Base.RefValue{StructArray{ComplexF64, 2, @NamedTuple{re::Matrix{Float64}, im::Matrix{Float64}}, Int64}}, Base.RefValue{StructArray{ComplexF64, 2, @NamedTuple{re::Matrix{Float64}, im::Matrix{Float64}}, Int64}}, Base.RefValue{StructArray{ComplexF64, 2, @NamedTuple{re::Matrix{Float64}, im::Matrix{Float64}}, Int64}}}}}, Base.RefValue{Float64}, Base.RefValue{typeof(update_H_and_∇H)}, Base.RefValue{Vector{Float64}}, Base.RefValue{Int64}, Base.RefValue{Int64}, Base.RefValue{Int64}, Base.RefValue{Int64}, Base.RefValue{Int64}, Base.RefValue{Vector{Vector{ComplexF64}}}, Base.RefValue{Exponential{Float64}}, Base.RefValue{Float64}, Base.RefValue{Float64}, Base.RefValue{StructArray{ComplexF64, 2, @NamedTuple{re::Matrix{Float64}, im::Matrix{Float64}}, Int64}}, Base.RefValue{StructArray{ComplexF64, 2, @NamedTuple{re::Matrix{Float64}, im::Matrix{Float64}}, Int64}}, Base.RefValue{StructArray{ComplexF64, 2, @NamedTuple{re::Matrix{Float64}, im::Matrix{Float64}}, Int64}}, Base.RefValue{StructVector{ComplexF64, @NamedTuple{re::Vector{Float64}, im::Vector{Float64}}, Int64}}, Base.RefValue{StructVector{ComplexF64, @NamedTuple{re::Vector{Float64}, im::Vector{Float64}}, Int64}}, Base.RefValue{StructVector{ComplexF64, @NamedTuple{re::Vector{Float64}, im::Vector{Float64}}, Int64}}, Base.RefValue{StructArray{ComplexF64, 2, @NamedTuple{re::Matrix{Float64}, im::Matrix{Float64}}, Int64}}, Base.RefValue{Vector{Float64}}}}, 1}, ::Float64) resulted in invalid LLVM IR\n\u001b[31mReason: unsupported dynamic function invocation\u001b[39m\u001b[31m (call to base_to_soa!)\u001b[39m\nStacktrace:\n [1] \u001b[0m\u001b[1mψ_stochastic_diffusion!\u001b[22m\n\u001b[90m   @\u001b[39m \u001b[90mC:\\Google Drive\\github\\OpticalBlochEquations\\src\\\u001b[39m\u001b[90m\u001b[4mstochastic_schrodinger_diffusion_forcevariance.jl:35\u001b[24m\u001b[39m\n [2] \u001b[0m\u001b[1mmacro expansion\u001b[22m\n\u001b[90m   @\u001b[39m \u001b[90mC:\\Users\\Christian\\.julia\\packages\\DiffEqGPU\\I999k\\src\\ensemblegpuarray\\\u001b[39m\u001b[90m\u001b[4mkernels.jl:45\u001b[24m\u001b[39m\n [3] \u001b[0m\u001b[1mgpu_gpu_kernel\u001b[22m\n\u001b[90m   @\u001b[39m \u001b[90mC:\\Users\\Christian\\.julia\\packages\\KernelAbstractions\\xRXlv\\src\\\u001b[39m\u001b[90m\u001b[4mmacros.jl:95\u001b[24m\u001b[39m\n [4] \u001b[0m\u001b[1mgpu_gpu_kernel\u001b[22m\n\u001b[90m   @\u001b[39m \u001b[90m.\\\u001b[39m\u001b[90m\u001b[4mnone:0\u001b[24m\u001b[39m\n\u001b[36m\u001b[1mHint\u001b[22m\u001b[39m\u001b[36m: catch this exception as `err` and call `code_typed(err; interactive = true)` to introspect the erronous code with Cthulhu.jl\u001b[39m",
      "",
      "Stacktrace:",
      "  [1] check_ir(job::GPUCompiler.CompilerJob{GPUCompiler.PTXCompilerTarget, CUDA.CUDACompilerParams}, args::LLVM.Module)",
      "    @ GPUCompiler C:\\Users\\Christian\\.julia\\packages\\GPUCompiler\\2CW9L\\src\\validation.jl:147",
      "  [2] macro expansion",
      "    @ C:\\Users\\Christian\\.julia\\packages\\GPUCompiler\\2CW9L\\src\\driver.jl:382 [inlined]",
      "  [3] macro expansion",
      "    @ C:\\Users\\Christian\\.julia\\packages\\TimerOutputs\\Lw5SP\\src\\TimerOutput.jl:253 [inlined]",
      "  [4] macro expansion",
      "    @ C:\\Users\\Christian\\.julia\\packages\\GPUCompiler\\2CW9L\\src\\driver.jl:381 [inlined]",
      "  [5] emit_llvm(job::GPUCompiler.CompilerJob; toplevel::Bool, libraries::Bool, optimize::Bool, cleanup::Bool, validate::Bool, only_entry::Bool)",
      "    @ GPUCompiler C:\\Users\\Christian\\.julia\\packages\\GPUCompiler\\2CW9L\\src\\utils.jl:108",
      "  [6] emit_llvm",
      "    @ C:\\Users\\Christian\\.julia\\packages\\GPUCompiler\\2CW9L\\src\\utils.jl:106 [inlined]",
      "  [7] codegen(output::Symbol, job::GPUCompiler.CompilerJob; toplevel::Bool, libraries::Bool, optimize::Bool, cleanup::Bool, validate::Bool, strip::Bool, only_entry::Bool, parent_job::Nothing)",
      "    @ GPUCompiler C:\\Users\\Christian\\.julia\\packages\\GPUCompiler\\2CW9L\\src\\driver.jl:100",
      "  [8] codegen",
      "    @ C:\\Users\\Christian\\.julia\\packages\\GPUCompiler\\2CW9L\\src\\driver.jl:82 [inlined]",
      "  [9] compile(target::Symbol, job::GPUCompiler.CompilerJob; kwargs::@Kwargs{})",
      "    @ GPUCompiler C:\\Users\\Christian\\.julia\\packages\\GPUCompiler\\2CW9L\\src\\driver.jl:79",
      " [10] compile",
      "    @ C:\\Users\\Christian\\.julia\\packages\\GPUCompiler\\2CW9L\\src\\driver.jl:74 [inlined]",
      " [11] #1145",
      "    @ C:\\Users\\Christian\\.julia\\packages\\CUDA\\2kjXI\\src\\compiler\\compilation.jl:250 [inlined]",
      " [12] JuliaContext(f::CUDA.var\"#1145#1148\"{GPUCompiler.CompilerJob{GPUCompiler.PTXCompilerTarget, CUDA.CUDACompilerParams}}; kwargs::@Kwargs{})",
      "    @ GPUCompiler C:\\Users\\Christian\\.julia\\packages\\GPUCompiler\\2CW9L\\src\\driver.jl:34",
      " [13] JuliaContext(f::Function)",
      "    @ GPUCompiler C:\\Users\\Christian\\.julia\\packages\\GPUCompiler\\2CW9L\\src\\driver.jl:25",
      " [14] compile(job::GPUCompiler.CompilerJob)",
      "    @ CUDA C:\\Users\\Christian\\.julia\\packages\\CUDA\\2kjXI\\src\\compiler\\compilation.jl:249",
      " [15] actual_compilation(cache::Dict{Any, CuFunction}, src::Core.MethodInstance, world::UInt64, cfg::GPUCompiler.CompilerConfig{GPUCompiler.PTXCompilerTarget, CUDA.CUDACompilerParams}, compiler::typeof(CUDA.compile), linker::typeof(CUDA.link))",
      "    @ GPUCompiler C:\\Users\\Christian\\.julia\\packages\\GPUCompiler\\2CW9L\\src\\execution.jl:237",
      " [16] cached_compilation(cache::Dict{Any, CuFunction}, src::Core.MethodInstance, cfg::GPUCompiler.CompilerConfig{GPUCompiler.PTXCompilerTarget, CUDA.CUDACompilerParams}, compiler::Function, linker::Function)",
      "    @ GPUCompiler C:\\Users\\Christian\\.julia\\packages\\GPUCompiler\\2CW9L\\src\\execution.jl:151",
      " [17] macro expansion",
      "    @ C:\\Users\\Christian\\.julia\\packages\\CUDA\\2kjXI\\src\\compiler\\execution.jl:380 [inlined]",
      " [18] macro expansion",
      "    @ .\\lock.jl:267 [inlined]",
      " [19] cufunction(f::typeof(DiffEqGPU.gpu_gpu_kernel), tt::Type{Tuple{KernelAbstractions.CompilerMetadata{KernelAbstractions.NDIteration.DynamicSize, KernelAbstractions.NDIteration.DynamicCheck, Nothing, CartesianIndices{1, Tuple{Base.OneTo{Int64}}}, KernelAbstractions.NDIteration.NDRange{1, KernelAbstractions.NDIteration.DynamicSize, KernelAbstractions.NDIteration.DynamicSize, CartesianIndices{1, Tuple{Base.OneTo{Int64}}}, CartesianIndices{1, Tuple{Base.OneTo{Int64}}}}}, typeof(ψ_stochastic_diffusion!), CuDeviceMatrix{ComplexF64, 1}, CuDeviceMatrix{ComplexF64, 1}, CuDeviceMatrix{MutableNamedTuple{(:H, :H₀, :∇H, :ψ, :dψ, :ψ_soa, :dψ_soa, :ω, :eiωt, :Js, :states, :fields, :r0, :r, :v, :d, :d_nnz, :λ, :k, :Γ, :E, :E_k, :ds, :ds_state1, :ds_state2, :params, :mass, :update_H_and_∇H, :populations, :n_scatters, :save_counter, :n_states, :n_ground, :n_excited, :trajectory, :decay_dist, :time_to_decay, :last_decay_time, :∇H_x, :∇H_y, :∇H_z, :∇H_x_ψ, :∇H_y_ψ, :∇H_z_ψ, :H_nh, :diffusion_constant), Tuple{Base.RefValue{StructArray{ComplexF64, 2, @NamedTuple{re::Matrix{Float64}, im::Matrix{Float64}}, Int64}}, Base.RefValue{StructArray{ComplexF64, 2, @NamedTuple{re::Matrix{Float64}, im::Matrix{Float64}}, Int64}}, Base.RefValue{SVector{3, ComplexF64}}, Base.RefValue{Vector{ComplexF64}}, Base.RefValue{Vector{ComplexF64}}, Base.RefValue{StructVector{ComplexF64, @NamedTuple{re::Vector{Float64}, im::Vector{Float64}}, Int64}}, Base.RefValue{StructVector{ComplexF64, @NamedTuple{re::Vector{Float64}, im::Vector{Float64}}, Int64}}, Base.RefValue{Vector{Float64}}, Base.RefValue{StructVector{ComplexF64, @NamedTuple{re::Vector{Float64}, im::Vector{Float64}}, Int64}}, Base.RefValue{Vector{OpticalBlochEquations.Jump}}, Base.RefValue{StructVector{State{HundsCaseB_LinearMolecule}, @NamedTuple{E::Vector{Float64}, basis::Vector{Vector{HundsCaseB_LinearMolecule}}, coeffs::Vector{Vector{ComplexF64}}, idx::Vector{Int64}}, Int64}}, Base.RefValue{StructVector{Field{Float64, var\"#25#29\"{SVector{3, ComplexF64}}, var\"#26#31\"{Float64, Float64, Tuple{Int64, Int64}}}, @NamedTuple{k::Vector{SVector{3, Float64}}, ϵ::Vector{var\"#25#29\"{SVector{3, ComplexF64}}}, ϵ_val::Vector{SVector{3, ComplexF64}}, ω::Vector{Float64}, s_max::Vector{Float64}, s_scalar_func::Vector{var\"#26#31\"{Float64, Float64, Tuple{Int64, Int64}}}, s::Vector{Float64}, re::Vector{Float64}, im::Vector{Float64}, kr::Vector{Float64}, E::Vector{SVector{3, ComplexF64}}, ϕ::Vector{Float64}}, Int64}}, Base.RefValue{MVector{3, Float64}}, Base.RefValue{MVector{3, Float64}}, Base.RefValue{MVector{3, Float64}}, Base.RefValue{Array{ComplexF64, 3}}, Base.RefValue{Vector{Vector{CartesianIndex{2}}}}, Base.RefValue{Float64}, Base.RefValue{Float64}, Base.RefValue{Float64}, Base.RefValue{SVector{3, ComplexF64}}, Base.RefValue{Vector{SVector{3, ComplexF64}}}, Base.RefValue{Vector{StructVector{ComplexF64, @NamedTuple{re::Vector{Float64}, im::Vector{Float64}}, Int64}}}, Base.RefValue{Vector{Vector{Int64}}}, Base.RefValue{Vector{Vector{Int64}}}, Base.RefValue{MutableNamedTuple{(:pol1_x, :pol2_x, :pol3_x, :pol4_x, :s1, :s2, :s3, :s4, :Δ1, :Δ2, :Δ3, :Δ4, :B_grad_start, :B_grad_end, :B_ramp_time, :s_ramp_time, :s_ramp_factor, :photon_budget, :x_dist, :y_dist, :z_dist, :vx_dist, :vy_dist, :vz_dist, :Zeeman_Hx, :Zeeman_Hy, :Zeeman_Hz), Tuple{Base.RefValue{SVector{3, ComplexF64}}, Base.RefValue{SVector{3, ComplexF64}}, Base.RefValue{SVector{3, ComplexF64}}, Base.RefValue{SVector{3, ComplexF64}}, Base.RefValue{Float64}, Base.RefValue{Float64}, Base.RefValue{Float64}, Base.RefValue{Float64}, Base.RefValue{Float64}, Base.RefValue{Float64}, Base.RefValue{Float64}, Base.RefValue{Float64}, Base.RefValue{Float64}, Base.RefValue{Float64}, Base.RefValue{Float64}, Base.RefValue{Float64}, Base.RefValue{Float64}, Base.RefValue{Int64}, Base.RefValue{Normal{Float64}}, Base.RefValue{Normal{Float64}}, Base.RefValue{Normal{Float64}}, Base.RefValue{Normal{Float64}}, Base.RefValue{Normal{Float64}}, Base.RefValue{Normal{Float64}}, Base.RefValue{StructArray{ComplexF64, 2, @NamedTuple{re::Matrix{Float64}, im::Matrix{Float64}}, Int64}}, Base.RefValue{StructArray{ComplexF64, 2, @NamedTuple{re::Matrix{Float64}, im::Matrix{Float64}}, Int64}}, Base.RefValue{StructArray{ComplexF64, 2, @NamedTuple{re::Matrix{Float64}, im::Matrix{Float64}}, Int64}}}}}, Base.RefValue{Float64}, Base.RefValue{typeof(update_H_and_∇H)}, Base.RefValue{Vector{Float64}}, Base.RefValue{Int64}, Base.RefValue{Int64}, Base.RefValue{Int64}, Base.RefValue{Int64}, Base.RefValue{Int64}, Base.RefValue{Vector{Vector{ComplexF64}}}, Base.RefValue{Exponential{Float64}}, Base.RefValue{Float64}, Base.RefValue{Float64}, Base.RefValue{StructArray{ComplexF64, 2, @NamedTuple{re::Matrix{Float64}, im::Matrix{Float64}}, Int64}}, Base.RefValue{StructArray{ComplexF64, 2, @NamedTuple{re::Matrix{Float64}, im::Matrix{Float64}}, Int64}}, Base.RefValue{StructArray{ComplexF64, 2, @NamedTuple{re::Matrix{Float64}, im::Matrix{Float64}}, Int64}}, Base.RefValue{StructVector{ComplexF64, @NamedTuple{re::Vector{Float64}, im::Vector{Float64}}, Int64}}, Base.RefValue{StructVector{ComplexF64, @NamedTuple{re::Vector{Float64}, im::Vector{Float64}}, Int64}}, Base.RefValue{StructVector{ComplexF64, @NamedTuple{re::Vector{Float64}, im::Vector{Float64}}, Int64}}, Base.RefValue{StructArray{ComplexF64, 2, @NamedTuple{re::Matrix{Float64}, im::Matrix{Float64}}, Int64}}, Base.RefValue{Vector{Float64}}}}, 1}, Float64}}; kwargs::@Kwargs{always_inline::Bool, maxthreads::Nothing})",
      "    @ CUDA C:\\Users\\Christian\\.julia\\packages\\CUDA\\2kjXI\\src\\compiler\\execution.jl:375",
      " [20] macro expansion",
      "    @ C:\\Users\\Christian\\.julia\\packages\\CUDA\\2kjXI\\src\\compiler\\execution.jl:112 [inlined]",
      " [21] (::KernelAbstractions.Kernel{CUDABackend, KernelAbstractions.NDIteration.DynamicSize, KernelAbstractions.NDIteration.DynamicSize, typeof(DiffEqGPU.gpu_gpu_kernel)})(::Function, ::Vararg{Any}; ndrange::Int64, workgroupsize::Int64)",
      "    @ CUDA.CUDAKernels C:\\Users\\Christian\\.julia\\packages\\CUDA\\2kjXI\\src\\CUDAKernels.jl:103",
      " [22] Kernel",
      "    @ C:\\Users\\Christian\\.julia\\packages\\CUDA\\2kjXI\\src\\CUDAKernels.jl:89 [inlined]",
      " [23] #12",
      "    @ C:\\Users\\Christian\\.julia\\packages\\DiffEqGPU\\I999k\\src\\ensemblegpuarray\\problem_generation.jl:10 [inlined]",
      " [24] ODEFunction",
      "    @ C:\\Users\\Christian\\.julia\\packages\\SciMLBase\\EiBzT\\src\\scimlfunctions.jl:2335 [inlined]",
      " [25] initialize!(integrator::OrdinaryDiffEqCore.ODEIntegrator{Tsit5{typeof(OrdinaryDiffEqCore.trivial_limiter!), typeof(OrdinaryDiffEqCore.trivial_limiter!), Static.False}, true, CuArray{ComplexF64, 2, CUDA.DeviceMemory}, Nothing, Float64, CuArray{MutableNamedTuple{(:H, :H₀, :∇H, :ψ, :dψ, :ψ_soa, :dψ_soa, :ω, :eiωt, :Js, :states, :fields, :r0, :r, :v, :d, :d_nnz, :λ, :k, :Γ, :E, :E_k, :ds, :ds_state1, :ds_state2, :params, :mass, :update_H_and_∇H, :populations, :n_scatters, :save_counter, :n_states, :n_ground, :n_excited, :trajectory, :decay_dist, :time_to_decay, :last_decay_time, :∇H_x, :∇H_y, :∇H_z, :∇H_x_ψ, :∇H_y_ψ, :∇H_z_ψ, :H_nh, :diffusion_constant), Tuple{Base.RefValue{StructArray{ComplexF64, 2, @NamedTuple{re::Matrix{Float64}, im::Matrix{Float64}}, Int64}}, Base.RefValue{StructArray{ComplexF64, 2, @NamedTuple{re::Matrix{Float64}, im::Matrix{Float64}}, Int64}}, Base.RefValue{SVector{3, ComplexF64}}, Base.RefValue{Vector{ComplexF64}}, Base.RefValue{Vector{ComplexF64}}, Base.RefValue{StructVector{ComplexF64, @NamedTuple{re::Vector{Float64}, im::Vector{Float64}}, Int64}}, Base.RefValue{StructVector{ComplexF64, @NamedTuple{re::Vector{Float64}, im::Vector{Float64}}, Int64}}, Base.RefValue{Vector{Float64}}, Base.RefValue{StructVector{ComplexF64, @NamedTuple{re::Vector{Float64}, im::Vector{Float64}}, Int64}}, Base.RefValue{Vector{OpticalBlochEquations.Jump}}, Base.RefValue{StructVector{State{HundsCaseB_LinearMolecule}, @NamedTuple{E::Vector{Float64}, basis::Vector{Vector{HundsCaseB_LinearMolecule}}, coeffs::Vector{Vector{ComplexF64}}, idx::Vector{Int64}}, Int64}}, Base.RefValue{StructVector{Field{Float64, var\"#25#29\"{SVector{3, ComplexF64}}, var\"#26#31\"{Float64, Float64, Tuple{Int64, Int64}}}, @NamedTuple{k::Vector{SVector{3, Float64}}, ϵ::Vector{var\"#25#29\"{SVector{3, ComplexF64}}}, ϵ_val::Vector{SVector{3, ComplexF64}}, ω::Vector{Float64}, s_max::Vector{Float64}, s_scalar_func::Vector{var\"#26#31\"{Float64, Float64, Tuple{Int64, Int64}}}, s::Vector{Float64}, re::Vector{Float64}, im::Vector{Float64}, kr::Vector{Float64}, E::Vector{SVector{3, ComplexF64}}, ϕ::Vector{Float64}}, Int64}}, Base.RefValue{MVector{3, Float64}}, Base.RefValue{MVector{3, Float64}}, Base.RefValue{MVector{3, Float64}}, Base.RefValue{Array{ComplexF64, 3}}, Base.RefValue{Vector{Vector{CartesianIndex{2}}}}, Base.RefValue{Float64}, Base.RefValue{Float64}, Base.RefValue{Float64}, Base.RefValue{SVector{3, ComplexF64}}, Base.RefValue{Vector{SVector{3, ComplexF64}}}, Base.RefValue{Vector{StructVector{ComplexF64, @NamedTuple{re::Vector{Float64}, im::Vector{Float64}}, Int64}}}, Base.RefValue{Vector{Vector{Int64}}}, Base.RefValue{Vector{Vector{Int64}}}, Base.RefValue{MutableNamedTuple{(:pol1_x, :pol2_x, :pol3_x, :pol4_x, :s1, :s2, :s3, :s4, :Δ1, :Δ2, :Δ3, :Δ4, :B_grad_start, :B_grad_end, :B_ramp_time, :s_ramp_time, :s_ramp_factor, :photon_budget, :x_dist, :y_dist, :z_dist, :vx_dist, :vy_dist, :vz_dist, :Zeeman_Hx, :Zeeman_Hy, :Zeeman_Hz), Tuple{Base.RefValue{SVector{3, ComplexF64}}, Base.RefValue{SVector{3, ComplexF64}}, Base.RefValue{SVector{3, ComplexF64}}, Base.RefValue{SVector{3, ComplexF64}}, Base.RefValue{Float64}, Base.RefValue{Float64}, Base.RefValue{Float64}, Base.RefValue{Float64}, Base.RefValue{Float64}, Base.RefValue{Float64}, Base.RefValue{Float64}, Base.RefValue{Float64}, Base.RefValue{Float64}, Base.RefValue{Float64}, Base.RefValue{Float64}, Base.RefValue{Float64}, Base.RefValue{Float64}, Base.RefValue{Int64}, Base.RefValue{Normal{Float64}}, Base.RefValue{Normal{Float64}}, Base.RefValue{Normal{Float64}}, Base.RefValue{Normal{Float64}}, Base.RefValue{Normal{Float64}}, Base.RefValue{Normal{Float64}}, Base.RefValue{StructArray{ComplexF64, 2, @NamedTuple{re::Matrix{Float64}, im::Matrix{Float64}}, Int64}}, Base.RefValue{StructArray{ComplexF64, 2, @NamedTuple{re::Matrix{Float64}, im::Matrix{Float64}}, Int64}}, Base.RefValue{StructArray{ComplexF64, 2, @NamedTuple{re::Matrix{Float64}, im::Matrix{Float64}}, Int64}}}}}, Base.RefValue{Float64}, Base.RefValue{typeof(update_H_and_∇H)}, Base.RefValue{Vector{Float64}}, Base.RefValue{Int64}, Base.RefValue{Int64}, Base.RefValue{Int64}, Base.RefValue{Int64}, Base.RefValue{Int64}, Base.RefValue{Vector{Vector{ComplexF64}}}, Base.RefValue{Exponential{Float64}}, Base.RefValue{Float64}, Base.RefValue{Float64}, Base.RefValue{StructArray{ComplexF64, 2, @NamedTuple{re::Matrix{Float64}, im::Matrix{Float64}}, Int64}}, Base.RefValue{StructArray{ComplexF64, 2, @NamedTuple{re::Matrix{Float64}, im::Matrix{Float64}}, Int64}}, Base.RefValue{StructArray{ComplexF64, 2, @NamedTuple{re::Matrix{Float64}, im::Matrix{Float64}}, Int64}}, Base.RefValue{StructVector{ComplexF64, @NamedTuple{re::Vector{Float64}, im::Vector{Float64}}, Int64}}, Base.RefValue{StructVector{ComplexF64, @NamedTuple{re::Vector{Float64}, im::Vector{Float64}}, Int64}}, Base.RefValue{StructVector{ComplexF64, @NamedTuple{re::Vector{Float64}, im::Vector{Float64}}, Int64}}, Base.RefValue{StructArray{ComplexF64, 2, @NamedTuple{re::Matrix{Float64}, im::Matrix{Float64}}, Int64}}, Base.RefValue{Vector{Float64}}}}, 2, CUDA.DeviceMemory}, Float64, Float64, Float64, Float64, Vector{CuArray{ComplexF64, 2, CUDA.DeviceMemory}}, ODESolution{ComplexF64, 3, Vector{CuArray{ComplexF64, 2, CUDA.DeviceMemory}}, Nothing, Nothing, Vector{Float64}, Vector{Vector{CuArray{ComplexF64, 2, CUDA.DeviceMemory}}}, Nothing, ODEProblem{CuArray{ComplexF64, 2, CUDA.DeviceMemory}, Tuple{Float64, Float64}, true, CuArray{MutableNamedTuple{(:H, :H₀, :∇H, :ψ, :dψ, :ψ_soa, :dψ_soa, :ω, :eiωt, :Js, :states, :fields, :r0, :r, :v, :d, :d_nnz, :λ, :k, :Γ, :E, :E_k, :ds, :ds_state1, :ds_state2, :params, :mass, :update_H_and_∇H, :populations, :n_scatters, :save_counter, :n_states, :n_ground, :n_excited, :trajectory, :decay_dist, :time_to_decay, :last_decay_time, :∇H_x, :∇H_y, :∇H_z, :∇H_x_ψ, :∇H_y_ψ, :∇H_z_ψ, :H_nh, :diffusion_constant), Tuple{Base.RefValue{StructArray{ComplexF64, 2, @NamedTuple{re::Matrix{Float64}, im::Matrix{Float64}}, Int64}}, Base.RefValue{StructArray{ComplexF64, 2, @NamedTuple{re::Matrix{Float64}, im::Matrix{Float64}}, Int64}}, Base.RefValue{SVector{3, ComplexF64}}, Base.RefValue{Vector{ComplexF64}}, Base.RefValue{Vector{ComplexF64}}, Base.RefValue{StructVector{ComplexF64, @NamedTuple{re::Vector{Float64}, im::Vector{Float64}}, Int64}}, Base.RefValue{StructVector{ComplexF64, @NamedTuple{re::Vector{Float64}, im::Vector{Float64}}, Int64}}, Base.RefValue{Vector{Float64}}, Base.RefValue{StructVector{ComplexF64, @NamedTuple{re::Vector{Float64}, im::Vector{Float64}}, Int64}}, Base.RefValue{Vector{OpticalBlochEquations.Jump}}, Base.RefValue{StructVector{State{HundsCaseB_LinearMolecule}, @NamedTuple{E::Vector{Float64}, basis::Vector{Vector{HundsCaseB_LinearMolecule}}, coeffs::Vector{Vector{ComplexF64}}, idx::Vector{Int64}}, Int64}}, Base.RefValue{StructVector{Field{Float64, var\"#25#29\"{SVector{3, ComplexF64}}, var\"#26#31\"{Float64, Float64, Tuple{Int64, Int64}}}, @NamedTuple{k::Vector{SVector{3, Float64}}, ϵ::Vector{var\"#25#29\"{SVector{3, ComplexF64}}}, ϵ_val::Vector{SVector{3, ComplexF64}}, ω::Vector{Float64}, s_max::Vector{Float64}, s_scalar_func::Vector{var\"#26#31\"{Float64, Float64, Tuple{Int64, Int64}}}, s::Vector{Float64}, re::Vector{Float64}, im::Vector{Float64}, kr::Vector{Float64}, E::Vector{SVector{3, ComplexF64}}, ϕ::Vector{Float64}}, Int64}}, Base.RefValue{MVector{3, Float64}}, Base.RefValue{MVector{3, Float64}}, Base.RefValue{MVector{3, Float64}}, Base.RefValue{Array{ComplexF64, 3}}, Base.RefValue{Vector{Vector{CartesianIndex{2}}}}, Base.RefValue{Float64}, Base.RefValue{Float64}, Base.RefValue{Float64}, Base.RefValue{SVector{3, ComplexF64}}, Base.RefValue{Vector{SVector{3, ComplexF64}}}, Base.RefValue{Vector{StructVector{ComplexF64, @NamedTuple{re::Vector{Float64}, im::Vector{Float64}}, Int64}}}, Base.RefValue{Vector{Vector{Int64}}}, Base.RefValue{Vector{Vector{Int64}}}, Base.RefValue{MutableNamedTuple{(:pol1_x, :pol2_x, :pol3_x, :pol4_x, :s1, :s2, :s3, :s4, :Δ1, :Δ2, :Δ3, :Δ4, :B_grad_start, :B_grad_end, :B_ramp_time, :s_ramp_time, :s_ramp_factor, :photon_budget, :x_dist, :y_dist, :z_dist, :vx_dist, :vy_dist, :vz_dist, :Zeeman_Hx, :Zeeman_Hy, :Zeeman_Hz), Tuple{Base.RefValue{SVector{3, ComplexF64}}, Base.RefValue{SVector{3, ComplexF64}}, Base.RefValue{SVector{3, ComplexF64}}, Base.RefValue{SVector{3, ComplexF64}}, Base.RefValue{Float64}, Base.RefValue{Float64}, Base.RefValue{Float64}, Base.RefValue{Float64}, Base.RefValue{Float64}, Base.RefValue{Float64}, Base.RefValue{Float64}, Base.RefValue{Float64}, Base.RefValue{Float64}, Base.RefValue{Float64}, Base.RefValue{Float64}, Base.RefValue{Float64}, Base.RefValue{Float64}, Base.RefValue{Int64}, Base.RefValue{Normal{Float64}}, Base.RefValue{Normal{Float64}}, Base.RefValue{Normal{Float64}}, Base.RefValue{Normal{Float64}}, Base.RefValue{Normal{Float64}}, Base.RefValue{Normal{Float64}}, Base.RefValue{StructArray{ComplexF64, 2, @NamedTuple{re::Matrix{Float64}, im::Matrix{Float64}}, Int64}}, Base.RefValue{StructArray{ComplexF64, 2, @NamedTuple{re::Matrix{Float64}, im::Matrix{Float64}}, Int64}}, Base.RefValue{StructArray{ComplexF64, 2, @NamedTuple{re::Matrix{Float64}, im::Matrix{Float64}}, Int64}}}}}, Base.RefValue{Float64}, Base.RefValue{typeof(update_H_and_∇H)}, Base.RefValue{Vector{Float64}}, Base.RefValue{Int64}, Base.RefValue{Int64}, Base.RefValue{Int64}, Base.RefValue{Int64}, Base.RefValue{Int64}, Base.RefValue{Vector{Vector{ComplexF64}}}, Base.RefValue{Exponential{Float64}}, Base.RefValue{Float64}, Base.RefValue{Float64}, Base.RefValue{StructArray{ComplexF64, 2, @NamedTuple{re::Matrix{Float64}, im::Matrix{Float64}}, Int64}}, Base.RefValue{StructArray{ComplexF64, 2, @NamedTuple{re::Matrix{Float64}, im::Matrix{Float64}}, Int64}}, Base.RefValue{StructArray{ComplexF64, 2, @NamedTuple{re::Matrix{Float64}, im::Matrix{Float64}}, Int64}}, Base.RefValue{StructVector{ComplexF64, @NamedTuple{re::Vector{Float64}, im::Vector{Float64}}, Int64}}, Base.RefValue{StructVector{ComplexF64, @NamedTuple{re::Vector{Float64}, im::Vector{Float64}}, Int64}}, Base.RefValue{StructVector{ComplexF64, @NamedTuple{re::Vector{Float64}, im::Vector{Float64}}, Int64}}, Base.RefValue{StructArray{ComplexF64, 2, @NamedTuple{re::Matrix{Float64}, im::Matrix{Float64}}, Int64}}, Base.RefValue{Vector{Float64}}}}, 2, CUDA.DeviceMemory}, ODEFunction{true, SciMLBase.FullSpecialize, DiffEqGPU.var\"#12#16\"{typeof(ψ_stochastic_diffusion!), typeof(DiffEqGPU.gpu_kernel)}, LinearAlgebra.UniformScaling{Bool}, Nothing, Nothing, Nothing, Nothing, Nothing, Nothing, Nothing, Nothing, Nothing, Nothing, Nothing, typeof(SciMLBase.DEFAULT_OBSERVED), Nothing, Nothing, Nothing, Nothing}, @Kwargs{alg::DP5{typeof(OrdinaryDiffEqCore.trivial_limiter!), typeof(OrdinaryDiffEqCore.trivial_limiter!), Static.False}, maxiters::Int64, callback::CallbackSet{Tuple{ContinuousCallback{typeof(condition), typeof(stochastic_collapse!), Nothing, typeof(SciMLBase.INITIALIZE_DEFAULT), typeof(SciMLBase.FINALIZE_DEFAULT), Float64, Int64, Rational{Int64}, Nothing, Nothing, Int64}}, Tuple{DiscreteCallback{typeof(terminate_condition), typeof(terminate!), typeof(SciMLBase.INITIALIZE_DEFAULT), typeof(SciMLBase.FINALIZE_DEFAULT), Nothing}}}, reltol::Float64, saveat::Int64}, SciMLBase.StandardODEProblem}, Tsit5{typeof(OrdinaryDiffEqCore.trivial_limiter!), typeof(OrdinaryDiffEqCore.trivial_limiter!), Static.False}, OrdinaryDiffEqCore.InterpolationData{ODEFunction{true, SciMLBase.FullSpecialize, DiffEqGPU.var\"#12#16\"{typeof(ψ_stochastic_diffusion!), typeof(DiffEqGPU.gpu_kernel)}, LinearAlgebra.UniformScaling{Bool}, Nothing, Nothing, Nothing, Nothing, Nothing, Nothing, Nothing, Nothing, Nothing, Nothing, Nothing, typeof(SciMLBase.DEFAULT_OBSERVED), Nothing, Nothing, Nothing, Nothing}, Vector{CuArray{ComplexF64, 2, CUDA.DeviceMemory}}, Vector{Float64}, Vector{Vector{CuArray{ComplexF64, 2, CUDA.DeviceMemory}}}, Nothing, OrdinaryDiffEqTsit5.Tsit5Cache{CuArray{ComplexF64, 2, CUDA.DeviceMemory}, CuArray{ComplexF64, 2, CUDA.DeviceMemory}, CuArray{ComplexF64, 2, CUDA.DeviceMemory}, typeof(OrdinaryDiffEqCore.trivial_limiter!), typeof(OrdinaryDiffEqCore.trivial_limiter!), Static.False}, Nothing}, SciMLBase.DEStats, Nothing, Nothing, Nothing}, ODEFunction{true, SciMLBase.FullSpecialize, DiffEqGPU.var\"#12#16\"{typeof(ψ_stochastic_diffusion!), typeof(DiffEqGPU.gpu_kernel)}, LinearAlgebra.UniformScaling{Bool}, Nothing, Nothing, Nothing, Nothing, Nothing, Nothing, Nothing, Nothing, Nothing, Nothing, Nothing, typeof(SciMLBase.DEFAULT_OBSERVED), Nothing, Nothing, Nothing, Nothing}, OrdinaryDiffEqTsit5.Tsit5Cache{CuArray{ComplexF64, 2, CUDA.DeviceMemory}, CuArray{ComplexF64, 2, CUDA.DeviceMemory}, CuArray{ComplexF64, 2, CUDA.DeviceMemory}, typeof(OrdinaryDiffEqCore.trivial_limiter!), typeof(OrdinaryDiffEqCore.trivial_limiter!), Static.False}, OrdinaryDiffEqCore.DEOptions{Float64, Float64, Float64, Float64, PIController{Rational{Int64}}, typeof(DiffEqGPU.diffeqgpunorm), typeof(LinearAlgebra.opnorm), Nothing, CallbackSet{Tuple{VectorContinuousCallback{DiffEqGPU.var\"#1#4\"{typeof(condition)}, DiffEqGPU.var\"#2#5\"{typeof(stochastic_collapse!)}, DiffEqGPU.var\"#3#6\"{Nothing}, typeof(SciMLBase.INITIALIZE_DEFAULT), typeof(SciMLBase.FINALIZE_DEFAULT), Float64, Int64, Rational{Int64}, Nothing, Nothing, Int64}}, Tuple{DiscreteCallback{DiffEqGPU.var\"#41#45\"{typeof(terminate_condition)}, DiffEqGPU.var\"#42#46\"{typeof(terminate!)}, typeof(SciMLBase.INITIALIZE_DEFAULT), typeof(SciMLBase.FINALIZE_DEFAULT), Nothing}}}, typeof(DiffEqBase.ODE_DEFAULT_ISOUTOFDOMAIN), typeof(DiffEqBase.ODE_DEFAULT_PROG_MESSAGE), DiffEqGPU.var\"#114#120\", DataStructures.BinaryHeap{Float64, DataStructures.FasterForward}, DataStructures.BinaryHeap{Float64, DataStructures.FasterForward}, Nothing, Nothing, Int64, Tuple{}, Int64, Tuple{}}, CuArray{ComplexF64, 2, CUDA.DeviceMemory}, ComplexF64, DiffEqBase.CallbackCache{CuArray{Float64, 1, CUDA.DeviceMemory}, CuArray{Float64, 1, CUDA.DeviceMemory}}, OrdinaryDiffEqCore.DefaultInit, Nothing}, cache::OrdinaryDiffEqTsit5.Tsit5Cache{CuArray{ComplexF64, 2, CUDA.DeviceMemory}, CuArray{ComplexF64, 2, CUDA.DeviceMemory}, CuArray{ComplexF64, 2, CUDA.DeviceMemory}, typeof(OrdinaryDiffEqCore.trivial_limiter!), typeof(OrdinaryDiffEqCore.trivial_limiter!), Static.False})",
      "    @ OrdinaryDiffEqTsit5 C:\\Users\\Christian\\.julia\\packages\\OrdinaryDiffEqTsit5\\DHYtz\\src\\tsit_perform_step.jl:175",
      " [26] __init(prob::ODEProblem{CuArray{ComplexF64, 2, CUDA.DeviceMemory}, Tuple{Float64, Float64}, true, CuArray{MutableNamedTuple{(:H, :H₀, :∇H, :ψ, :dψ, :ψ_soa, :dψ_soa, :ω, :eiωt, :Js, :states, :fields, :r0, :r, :v, :d, :d_nnz, :λ, :k, :Γ, :E, :E_k, :ds, :ds_state1, :ds_state2, :params, :mass, :update_H_and_∇H, :populations, :n_scatters, :save_counter, :n_states, :n_ground, :n_excited, :trajectory, :decay_dist, :time_to_decay, :last_decay_time, :∇H_x, :∇H_y, :∇H_z, :∇H_x_ψ, :∇H_y_ψ, :∇H_z_ψ, :H_nh, :diffusion_constant), Tuple{Base.RefValue{StructArray{ComplexF64, 2, @NamedTuple{re::Matrix{Float64}, im::Matrix{Float64}}, Int64}}, Base.RefValue{StructArray{ComplexF64, 2, @NamedTuple{re::Matrix{Float64}, im::Matrix{Float64}}, Int64}}, Base.RefValue{SVector{3, ComplexF64}}, Base.RefValue{Vector{ComplexF64}}, Base.RefValue{Vector{ComplexF64}}, Base.RefValue{StructVector{ComplexF64, @NamedTuple{re::Vector{Float64}, im::Vector{Float64}}, Int64}}, Base.RefValue{StructVector{ComplexF64, @NamedTuple{re::Vector{Float64}, im::Vector{Float64}}, Int64}}, Base.RefValue{Vector{Float64}}, Base.RefValue{StructVector{ComplexF64, @NamedTuple{re::Vector{Float64}, im::Vector{Float64}}, Int64}}, Base.RefValue{Vector{OpticalBlochEquations.Jump}}, Base.RefValue{StructVector{State{HundsCaseB_LinearMolecule}, @NamedTuple{E::Vector{Float64}, basis::Vector{Vector{HundsCaseB_LinearMolecule}}, coeffs::Vector{Vector{ComplexF64}}, idx::Vector{Int64}}, Int64}}, Base.RefValue{StructVector{Field{Float64, var\"#25#29\"{SVector{3, ComplexF64}}, var\"#26#31\"{Float64, Float64, Tuple{Int64, Int64}}}, @NamedTuple{k::Vector{SVector{3, Float64}}, ϵ::Vector{var\"#25#29\"{SVector{3, ComplexF64}}}, ϵ_val::Vector{SVector{3, ComplexF64}}, ω::Vector{Float64}, s_max::Vector{Float64}, s_scalar_func::Vector{var\"#26#31\"{Float64, Float64, Tuple{Int64, Int64}}}, s::Vector{Float64}, re::Vector{Float64}, im::Vector{Float64}, kr::Vector{Float64}, E::Vector{SVector{3, ComplexF64}}, ϕ::Vector{Float64}}, Int64}}, Base.RefValue{MVector{3, Float64}}, Base.RefValue{MVector{3, Float64}}, Base.RefValue{MVector{3, Float64}}, Base.RefValue{Array{ComplexF64, 3}}, Base.RefValue{Vector{Vector{CartesianIndex{2}}}}, Base.RefValue{Float64}, Base.RefValue{Float64}, Base.RefValue{Float64}, Base.RefValue{SVector{3, ComplexF64}}, Base.RefValue{Vector{SVector{3, ComplexF64}}}, Base.RefValue{Vector{StructVector{ComplexF64, @NamedTuple{re::Vector{Float64}, im::Vector{Float64}}, Int64}}}, Base.RefValue{Vector{Vector{Int64}}}, Base.RefValue{Vector{Vector{Int64}}}, Base.RefValue{MutableNamedTuple{(:pol1_x, :pol2_x, :pol3_x, :pol4_x, :s1, :s2, :s3, :s4, :Δ1, :Δ2, :Δ3, :Δ4, :B_grad_start, :B_grad_end, :B_ramp_time, :s_ramp_time, :s_ramp_factor, :photon_budget, :x_dist, :y_dist, :z_dist, :vx_dist, :vy_dist, :vz_dist, :Zeeman_Hx, :Zeeman_Hy, :Zeeman_Hz), Tuple{Base.RefValue{SVector{3, ComplexF64}}, Base.RefValue{SVector{3, ComplexF64}}, Base.RefValue{SVector{3, ComplexF64}}, Base.RefValue{SVector{3, ComplexF64}}, Base.RefValue{Float64}, Base.RefValue{Float64}, Base.RefValue{Float64}, Base.RefValue{Float64}, Base.RefValue{Float64}, Base.RefValue{Float64}, Base.RefValue{Float64}, Base.RefValue{Float64}, Base.RefValue{Float64}, Base.RefValue{Float64}, Base.RefValue{Float64}, Base.RefValue{Float64}, Base.RefValue{Float64}, Base.RefValue{Int64}, Base.RefValue{Normal{Float64}}, Base.RefValue{Normal{Float64}}, Base.RefValue{Normal{Float64}}, Base.RefValue{Normal{Float64}}, Base.RefValue{Normal{Float64}}, Base.RefValue{Normal{Float64}}, Base.RefValue{StructArray{ComplexF64, 2, @NamedTuple{re::Matrix{Float64}, im::Matrix{Float64}}, Int64}}, Base.RefValue{StructArray{ComplexF64, 2, @NamedTuple{re::Matrix{Float64}, im::Matrix{Float64}}, Int64}}, Base.RefValue{StructArray{ComplexF64, 2, @NamedTuple{re::Matrix{Float64}, im::Matrix{Float64}}, Int64}}}}}, Base.RefValue{Float64}, Base.RefValue{typeof(update_H_and_∇H)}, Base.RefValue{Vector{Float64}}, Base.RefValue{Int64}, Base.RefValue{Int64}, Base.RefValue{Int64}, Base.RefValue{Int64}, Base.RefValue{Int64}, Base.RefValue{Vector{Vector{ComplexF64}}}, Base.RefValue{Exponential{Float64}}, Base.RefValue{Float64}, Base.RefValue{Float64}, Base.RefValue{StructArray{ComplexF64, 2, @NamedTuple{re::Matrix{Float64}, im::Matrix{Float64}}, Int64}}, Base.RefValue{StructArray{ComplexF64, 2, @NamedTuple{re::Matrix{Float64}, im::Matrix{Float64}}, Int64}}, Base.RefValue{StructArray{ComplexF64, 2, @NamedTuple{re::Matrix{Float64}, im::Matrix{Float64}}, Int64}}, Base.RefValue{StructVector{ComplexF64, @NamedTuple{re::Vector{Float64}, im::Vector{Float64}}, Int64}}, Base.RefValue{StructVector{ComplexF64, @NamedTuple{re::Vector{Float64}, im::Vector{Float64}}, Int64}}, Base.RefValue{StructVector{ComplexF64, @NamedTuple{re::Vector{Float64}, im::Vector{Float64}}, Int64}}, Base.RefValue{StructArray{ComplexF64, 2, @NamedTuple{re::Matrix{Float64}, im::Matrix{Float64}}, Int64}}, Base.RefValue{Vector{Float64}}}}, 2, CUDA.DeviceMemory}, ODEFunction{true, SciMLBase.FullSpecialize, DiffEqGPU.var\"#12#16\"{typeof(ψ_stochastic_diffusion!), typeof(DiffEqGPU.gpu_kernel)}, LinearAlgebra.UniformScaling{Bool}, Nothing, Nothing, Nothing, Nothing, Nothing, Nothing, Nothing, Nothing, Nothing, Nothing, Nothing, typeof(SciMLBase.DEFAULT_OBSERVED), Nothing, Nothing, Nothing, Nothing}, @Kwargs{alg::DP5{typeof(OrdinaryDiffEqCore.trivial_limiter!), typeof(OrdinaryDiffEqCore.trivial_limiter!), Static.False}, maxiters::Int64, callback::CallbackSet{Tuple{ContinuousCallback{typeof(condition), typeof(stochastic_collapse!), Nothing, typeof(SciMLBase.INITIALIZE_DEFAULT), typeof(SciMLBase.FINALIZE_DEFAULT), Float64, Int64, Rational{Int64}, Nothing, Nothing, Int64}}, Tuple{DiscreteCallback{typeof(terminate_condition), typeof(terminate!), typeof(SciMLBase.INITIALIZE_DEFAULT), typeof(SciMLBase.FINALIZE_DEFAULT), Nothing}}}, reltol::Float64, saveat::Int64}, SciMLBase.StandardODEProblem}, alg::Tsit5{typeof(OrdinaryDiffEqCore.trivial_limiter!), typeof(OrdinaryDiffEqCore.trivial_limiter!), Static.False}, timeseries_init::Tuple{}, ts_init::Tuple{}, ks_init::Tuple{}, recompile::Type{Val{true}}; saveat::Int64, tstops::Tuple{}, d_discontinuities::Tuple{}, save_idxs::Nothing, save_everystep::Bool, save_on::Bool, save_start::Bool, save_end::Nothing, callback::CallbackSet{Tuple{VectorContinuousCallback{DiffEqGPU.var\"#1#4\"{typeof(condition)}, DiffEqGPU.var\"#2#5\"{typeof(stochastic_collapse!)}, DiffEqGPU.var\"#3#6\"{Nothing}, typeof(SciMLBase.INITIALIZE_DEFAULT), typeof(SciMLBase.FINALIZE_DEFAULT), Float64, Int64, Rational{Int64}, Nothing, Nothing, Int64}}, Tuple{DiscreteCallback{DiffEqGPU.var\"#41#45\"{typeof(terminate_condition)}, DiffEqGPU.var\"#42#46\"{typeof(terminate!)}, typeof(SciMLBase.INITIALIZE_DEFAULT), typeof(SciMLBase.FINALIZE_DEFAULT), Nothing}}}, dense::Bool, calck::Bool, dt::Float64, dtmin::Float64, dtmax::Float64, force_dtmin::Bool, adaptive::Bool, gamma::Rational{Int64}, abstol::Nothing, reltol::Float64, qmin::Rational{Int64}, qmax::Int64, qsteady_min::Int64, qsteady_max::Int64, beta1::Nothing, beta2::Nothing, qoldinit::Rational{Int64}, controller::Nothing, fullnormalize::Bool, failfactor::Int64, maxiters::Int64, internalnorm::typeof(DiffEqGPU.diffeqgpunorm), internalopnorm::typeof(LinearAlgebra.opnorm), isoutofdomain::typeof(DiffEqBase.ODE_DEFAULT_ISOUTOFDOMAIN), unstable_check::DiffEqGPU.var\"#114#120\", verbose::Bool, timeseries_errors::Bool, dense_errors::Bool, advance_to_tstop::Bool, stop_at_next_tstop::Bool, initialize_save::Bool, progress::Bool, progress_steps::Int64, progress_name::String, progress_message::typeof(DiffEqBase.ODE_DEFAULT_PROG_MESSAGE), progress_id::Symbol, userdata::Nothing, allow_extrapolation::Bool, initialize_integrator::Bool, alias_u0::Bool, alias_du0::Bool, initializealg::OrdinaryDiffEqCore.DefaultInit, kwargs::@Kwargs{alg::DP5{typeof(OrdinaryDiffEqCore.trivial_limiter!), typeof(OrdinaryDiffEqCore.trivial_limiter!), Static.False}})",
      "    @ OrdinaryDiffEqCore C:\\Users\\Christian\\.julia\\packages\\OrdinaryDiffEqCore\\55UVY\\src\\solve.jl:525",
      " [27] __init (repeats 5 times)",
      "    @ C:\\Users\\Christian\\.julia\\packages\\OrdinaryDiffEqCore\\55UVY\\src\\solve.jl:11 [inlined]",
      " [28] #__solve#75",
      "    @ C:\\Users\\Christian\\.julia\\packages\\OrdinaryDiffEqCore\\55UVY\\src\\solve.jl:6 [inlined]",
      " [29] __solve",
      "    @ C:\\Users\\Christian\\.julia\\packages\\OrdinaryDiffEqCore\\55UVY\\src\\solve.jl:1 [inlined]",
      " [30] solve_call(_prob::ODEProblem{CuArray{ComplexF64, 2, CUDA.DeviceMemory}, Tuple{Float64, Float64}, true, CuArray{MutableNamedTuple{(:H, :H₀, :∇H, :ψ, :dψ, :ψ_soa, :dψ_soa, :ω, :eiωt, :Js, :states, :fields, :r0, :r, :v, :d, :d_nnz, :λ, :k, :Γ, :E, :E_k, :ds, :ds_state1, :ds_state2, :params, :mass, :update_H_and_∇H, :populations, :n_scatters, :save_counter, :n_states, :n_ground, :n_excited, :trajectory, :decay_dist, :time_to_decay, :last_decay_time, :∇H_x, :∇H_y, :∇H_z, :∇H_x_ψ, :∇H_y_ψ, :∇H_z_ψ, :H_nh, :diffusion_constant), Tuple{Base.RefValue{StructArray{ComplexF64, 2, @NamedTuple{re::Matrix{Float64}, im::Matrix{Float64}}, Int64}}, Base.RefValue{StructArray{ComplexF64, 2, @NamedTuple{re::Matrix{Float64}, im::Matrix{Float64}}, Int64}}, Base.RefValue{SVector{3, ComplexF64}}, Base.RefValue{Vector{ComplexF64}}, Base.RefValue{Vector{ComplexF64}}, Base.RefValue{StructVector{ComplexF64, @NamedTuple{re::Vector{Float64}, im::Vector{Float64}}, Int64}}, Base.RefValue{StructVector{ComplexF64, @NamedTuple{re::Vector{Float64}, im::Vector{Float64}}, Int64}}, Base.RefValue{Vector{Float64}}, Base.RefValue{StructVector{ComplexF64, @NamedTuple{re::Vector{Float64}, im::Vector{Float64}}, Int64}}, Base.RefValue{Vector{OpticalBlochEquations.Jump}}, Base.RefValue{StructVector{State{HundsCaseB_LinearMolecule}, @NamedTuple{E::Vector{Float64}, basis::Vector{Vector{HundsCaseB_LinearMolecule}}, coeffs::Vector{Vector{ComplexF64}}, idx::Vector{Int64}}, Int64}}, Base.RefValue{StructVector{Field{Float64, var\"#25#29\"{SVector{3, ComplexF64}}, var\"#26#31\"{Float64, Float64, Tuple{Int64, Int64}}}, @NamedTuple{k::Vector{SVector{3, Float64}}, ϵ::Vector{var\"#25#29\"{SVector{3, ComplexF64}}}, ϵ_val::Vector{SVector{3, ComplexF64}}, ω::Vector{Float64}, s_max::Vector{Float64}, s_scalar_func::Vector{var\"#26#31\"{Float64, Float64, Tuple{Int64, Int64}}}, s::Vector{Float64}, re::Vector{Float64}, im::Vector{Float64}, kr::Vector{Float64}, E::Vector{SVector{3, ComplexF64}}, ϕ::Vector{Float64}}, Int64}}, Base.RefValue{MVector{3, Float64}}, Base.RefValue{MVector{3, Float64}}, Base.RefValue{MVector{3, Float64}}, Base.RefValue{Array{ComplexF64, 3}}, Base.RefValue{Vector{Vector{CartesianIndex{2}}}}, Base.RefValue{Float64}, Base.RefValue{Float64}, Base.RefValue{Float64}, Base.RefValue{SVector{3, ComplexF64}}, Base.RefValue{Vector{SVector{3, ComplexF64}}}, Base.RefValue{Vector{StructVector{ComplexF64, @NamedTuple{re::Vector{Float64}, im::Vector{Float64}}, Int64}}}, Base.RefValue{Vector{Vector{Int64}}}, Base.RefValue{Vector{Vector{Int64}}}, Base.RefValue{MutableNamedTuple{(:pol1_x, :pol2_x, :pol3_x, :pol4_x, :s1, :s2, :s3, :s4, :Δ1, :Δ2, :Δ3, :Δ4, :B_grad_start, :B_grad_end, :B_ramp_time, :s_ramp_time, :s_ramp_factor, :photon_budget, :x_dist, :y_dist, :z_dist, :vx_dist, :vy_dist, :vz_dist, :Zeeman_Hx, :Zeeman_Hy, :Zeeman_Hz), Tuple{Base.RefValue{SVector{3, ComplexF64}}, Base.RefValue{SVector{3, ComplexF64}}, Base.RefValue{SVector{3, ComplexF64}}, Base.RefValue{SVector{3, ComplexF64}}, Base.RefValue{Float64}, Base.RefValue{Float64}, Base.RefValue{Float64}, Base.RefValue{Float64}, Base.RefValue{Float64}, Base.RefValue{Float64}, Base.RefValue{Float64}, Base.RefValue{Float64}, Base.RefValue{Float64}, Base.RefValue{Float64}, Base.RefValue{Float64}, Base.RefValue{Float64}, Base.RefValue{Float64}, Base.RefValue{Int64}, Base.RefValue{Normal{Float64}}, Base.RefValue{Normal{Float64}}, Base.RefValue{Normal{Float64}}, Base.RefValue{Normal{Float64}}, Base.RefValue{Normal{Float64}}, Base.RefValue{Normal{Float64}}, Base.RefValue{StructArray{ComplexF64, 2, @NamedTuple{re::Matrix{Float64}, im::Matrix{Float64}}, Int64}}, Base.RefValue{StructArray{ComplexF64, 2, @NamedTuple{re::Matrix{Float64}, im::Matrix{Float64}}, Int64}}, Base.RefValue{StructArray{ComplexF64, 2, @NamedTuple{re::Matrix{Float64}, im::Matrix{Float64}}, Int64}}}}}, Base.RefValue{Float64}, Base.RefValue{typeof(update_H_and_∇H)}, Base.RefValue{Vector{Float64}}, Base.RefValue{Int64}, Base.RefValue{Int64}, Base.RefValue{Int64}, Base.RefValue{Int64}, Base.RefValue{Int64}, Base.RefValue{Vector{Vector{ComplexF64}}}, Base.RefValue{Exponential{Float64}}, Base.RefValue{Float64}, Base.RefValue{Float64}, Base.RefValue{StructArray{ComplexF64, 2, @NamedTuple{re::Matrix{Float64}, im::Matrix{Float64}}, Int64}}, Base.RefValue{StructArray{ComplexF64, 2, @NamedTuple{re::Matrix{Float64}, im::Matrix{Float64}}, Int64}}, Base.RefValue{StructArray{ComplexF64, 2, @NamedTuple{re::Matrix{Float64}, im::Matrix{Float64}}, Int64}}, Base.RefValue{StructVector{ComplexF64, @NamedTuple{re::Vector{Float64}, im::Vector{Float64}}, Int64}}, Base.RefValue{StructVector{ComplexF64, @NamedTuple{re::Vector{Float64}, im::Vector{Float64}}, Int64}}, Base.RefValue{StructVector{ComplexF64, @NamedTuple{re::Vector{Float64}, im::Vector{Float64}}, Int64}}, Base.RefValue{StructArray{ComplexF64, 2, @NamedTuple{re::Matrix{Float64}, im::Matrix{Float64}}, Int64}}, Base.RefValue{Vector{Float64}}}}, 2, CUDA.DeviceMemory}, ODEFunction{true, SciMLBase.FullSpecialize, DiffEqGPU.var\"#12#16\"{typeof(ψ_stochastic_diffusion!), typeof(DiffEqGPU.gpu_kernel)}, LinearAlgebra.UniformScaling{Bool}, Nothing, Nothing, Nothing, Nothing, Nothing, Nothing, Nothing, Nothing, Nothing, Nothing, Nothing, typeof(SciMLBase.DEFAULT_OBSERVED), Nothing, Nothing, Nothing, Nothing}, @Kwargs{alg::DP5{typeof(OrdinaryDiffEqCore.trivial_limiter!), typeof(OrdinaryDiffEqCore.trivial_limiter!), Static.False}, maxiters::Int64, callback::CallbackSet{Tuple{ContinuousCallback{typeof(condition), typeof(stochastic_collapse!), Nothing, typeof(SciMLBase.INITIALIZE_DEFAULT), typeof(SciMLBase.FINALIZE_DEFAULT), Float64, Int64, Rational{Int64}, Nothing, Nothing, Int64}}, Tuple{DiscreteCallback{typeof(terminate_condition), typeof(terminate!), typeof(SciMLBase.INITIALIZE_DEFAULT), typeof(SciMLBase.FINALIZE_DEFAULT), Nothing}}}, reltol::Float64, saveat::Int64}, SciMLBase.StandardODEProblem}, args::Tsit5{typeof(OrdinaryDiffEqCore.trivial_limiter!), typeof(OrdinaryDiffEqCore.trivial_limiter!), Static.False}; merge_callbacks::Bool, kwargshandle::Nothing, kwargs::@Kwargs{adaptive::Bool, unstable_check::DiffEqGPU.var\"#114#120\", callback::CallbackSet{Tuple{VectorContinuousCallback{DiffEqGPU.var\"#1#4\"{typeof(condition)}, DiffEqGPU.var\"#2#5\"{typeof(stochastic_collapse!)}, DiffEqGPU.var\"#3#6\"{Nothing}, typeof(SciMLBase.INITIALIZE_DEFAULT), typeof(SciMLBase.FINALIZE_DEFAULT), Float64, Int64, Rational{Int64}, Nothing, Nothing, Int64}}, Tuple{DiscreteCallback{DiffEqGPU.var\"#41#45\"{typeof(terminate_condition)}, DiffEqGPU.var\"#42#46\"{typeof(terminate!)}, typeof(SciMLBase.INITIALIZE_DEFAULT), typeof(SciMLBase.FINALIZE_DEFAULT), Nothing}}}, internalnorm::typeof(DiffEqGPU.diffeqgpunorm)})",
      "    @ DiffEqBase C:\\Users\\Christian\\.julia\\packages\\DiffEqBase\\vscDj\\src\\solve.jl:612",
      " [31] solve_call",
      "    @ C:\\Users\\Christian\\.julia\\packages\\DiffEqBase\\vscDj\\src\\solve.jl:569 [inlined]",
      " [32] #solve_up#53",
      "    @ C:\\Users\\Christian\\.julia\\packages\\DiffEqBase\\vscDj\\src\\solve.jl:1084 [inlined]",
      " [33] solve_up",
      "    @ C:\\Users\\Christian\\.julia\\packages\\DiffEqBase\\vscDj\\src\\solve.jl:1070 [inlined]",
      " [34] #solve#51",
      "    @ C:\\Users\\Christian\\.julia\\packages\\DiffEqBase\\vscDj\\src\\solve.jl:1007 [inlined]",
      " [35] batch_solve_up(ensembleprob::EnsembleProblem{ODEProblem{Vector{ComplexF64}, Tuple{Float64, Float64}, true, MutableNamedTuple{(:H, :H₀, :∇H, :ψ, :dψ, :ψ_soa, :dψ_soa, :ω, :eiωt, :Js, :states, :fields, :r0, :r, :v, :d, :d_nnz, :λ, :k, :Γ, :E, :E_k, :ds, :ds_state1, :ds_state2, :params, :mass, :update_H_and_∇H, :populations, :n_scatters, :save_counter, :n_states, :n_ground, :n_excited, :trajectory, :decay_dist, :time_to_decay, :last_decay_time, :∇H_x, :∇H_y, :∇H_z, :∇H_x_ψ, :∇H_y_ψ, :∇H_z_ψ, :H_nh, :diffusion_constant), Tuple{Base.RefValue{StructArray{ComplexF64, 2, @NamedTuple{re::Matrix{Float64}, im::Matrix{Float64}}, Int64}}, Base.RefValue{StructArray{ComplexF64, 2, @NamedTuple{re::Matrix{Float64}, im::Matrix{Float64}}, Int64}}, Base.RefValue{SVector{3, ComplexF64}}, Base.RefValue{Vector{ComplexF64}}, Base.RefValue{Vector{ComplexF64}}, Base.RefValue{StructVector{ComplexF64, @NamedTuple{re::Vector{Float64}, im::Vector{Float64}}, Int64}}, Base.RefValue{StructVector{ComplexF64, @NamedTuple{re::Vector{Float64}, im::Vector{Float64}}, Int64}}, Base.RefValue{Vector{Float64}}, Base.RefValue{StructVector{ComplexF64, @NamedTuple{re::Vector{Float64}, im::Vector{Float64}}, Int64}}, Base.RefValue{Vector{OpticalBlochEquations.Jump}}, Base.RefValue{StructVector{State{HundsCaseB_LinearMolecule}, @NamedTuple{E::Vector{Float64}, basis::Vector{Vector{HundsCaseB_LinearMolecule}}, coeffs::Vector{Vector{ComplexF64}}, idx::Vector{Int64}}, Int64}}, Base.RefValue{StructVector{Field{Float64, var\"#25#29\"{SVector{3, ComplexF64}}, var\"#26#31\"{Float64, Float64, Tuple{Int64, Int64}}}, @NamedTuple{k::Vector{SVector{3, Float64}}, ϵ::Vector{var\"#25#29\"{SVector{3, ComplexF64}}}, ϵ_val::Vector{SVector{3, ComplexF64}}, ω::Vector{Float64}, s_max::Vector{Float64}, s_scalar_func::Vector{var\"#26#31\"{Float64, Float64, Tuple{Int64, Int64}}}, s::Vector{Float64}, re::Vector{Float64}, im::Vector{Float64}, kr::Vector{Float64}, E::Vector{SVector{3, ComplexF64}}, ϕ::Vector{Float64}}, Int64}}, Base.RefValue{MVector{3, Float64}}, Base.RefValue{MVector{3, Float64}}, Base.RefValue{MVector{3, Float64}}, Base.RefValue{Array{ComplexF64, 3}}, Base.RefValue{Vector{Vector{CartesianIndex{2}}}}, Base.RefValue{Float64}, Base.RefValue{Float64}, Base.RefValue{Float64}, Base.RefValue{SVector{3, ComplexF64}}, Base.RefValue{Vector{SVector{3, ComplexF64}}}, Base.RefValue{Vector{StructVector{ComplexF64, @NamedTuple{re::Vector{Float64}, im::Vector{Float64}}, Int64}}}, Base.RefValue{Vector{Vector{Int64}}}, Base.RefValue{Vector{Vector{Int64}}}, Base.RefValue{MutableNamedTuple{(:pol1_x, :pol2_x, :pol3_x, :pol4_x, :s1, :s2, :s3, :s4, :Δ1, :Δ2, :Δ3, :Δ4, :B_grad_start, :B_grad_end, :B_ramp_time, :s_ramp_time, :s_ramp_factor, :photon_budget, :x_dist, :y_dist, :z_dist, :vx_dist, :vy_dist, :vz_dist, :Zeeman_Hx, :Zeeman_Hy, :Zeeman_Hz), Tuple{Base.RefValue{SVector{3, ComplexF64}}, Base.RefValue{SVector{3, ComplexF64}}, Base.RefValue{SVector{3, ComplexF64}}, Base.RefValue{SVector{3, ComplexF64}}, Base.RefValue{Float64}, Base.RefValue{Float64}, Base.RefValue{Float64}, Base.RefValue{Float64}, Base.RefValue{Float64}, Base.RefValue{Float64}, Base.RefValue{Float64}, Base.RefValue{Float64}, Base.RefValue{Float64}, Base.RefValue{Float64}, Base.RefValue{Float64}, Base.RefValue{Float64}, Base.RefValue{Float64}, Base.RefValue{Int64}, Base.RefValue{Normal{Float64}}, Base.RefValue{Normal{Float64}}, Base.RefValue{Normal{Float64}}, Base.RefValue{Normal{Float64}}, Base.RefValue{Normal{Float64}}, Base.RefValue{Normal{Float64}}, Base.RefValue{StructArray{ComplexF64, 2, @NamedTuple{re::Matrix{Float64}, im::Matrix{Float64}}, Int64}}, Base.RefValue{StructArray{ComplexF64, 2, @NamedTuple{re::Matrix{Float64}, im::Matrix{Float64}}, Int64}}, Base.RefValue{StructArray{ComplexF64, 2, @NamedTuple{re::Matrix{Float64}, im::Matrix{Float64}}, Int64}}}}}, Base.RefValue{Float64}, Base.RefValue{typeof(update_H_and_∇H)}, Base.RefValue{Vector{Float64}}, Base.RefValue{Int64}, Base.RefValue{Int64}, Base.RefValue{Int64}, Base.RefValue{Int64}, Base.RefValue{Int64}, Base.RefValue{Vector{Vector{ComplexF64}}}, Base.RefValue{Exponential{Float64}}, Base.RefValue{Float64}, Base.RefValue{Float64}, Base.RefValue{StructArray{ComplexF64, 2, @NamedTuple{re::Matrix{Float64}, im::Matrix{Float64}}, Int64}}, Base.RefValue{StructArray{ComplexF64, 2, @NamedTuple{re::Matrix{Float64}, im::Matrix{Float64}}, Int64}}, Base.RefValue{StructArray{ComplexF64, 2, @NamedTuple{re::Matrix{Float64}, im::Matrix{Float64}}, Int64}}, Base.RefValue{StructVector{ComplexF64, @NamedTuple{re::Vector{Float64}, im::Vector{Float64}}, Int64}}, Base.RefValue{StructVector{ComplexF64, @NamedTuple{re::Vector{Float64}, im::Vector{Float64}}, Int64}}, Base.RefValue{StructVector{ComplexF64, @NamedTuple{re::Vector{Float64}, im::Vector{Float64}}, Int64}}, Base.RefValue{StructArray{ComplexF64, 2, @NamedTuple{re::Matrix{Float64}, im::Matrix{Float64}}, Int64}}, Base.RefValue{Vector{Float64}}}}, ODEFunction{true, SciMLBase.AutoSpecialize, typeof(ψ_stochastic_diffusion!), LinearAlgebra.UniformScaling{Bool}, Nothing, Nothing, Nothing, Nothing, Nothing, Nothing, Nothing, Nothing, Nothing, Nothing, Nothing, typeof(SciMLBase.DEFAULT_OBSERVED), Nothing, Nothing, Nothing, Nothing}, @Kwargs{alg::DP5{typeof(OrdinaryDiffEqCore.trivial_limiter!), typeof(OrdinaryDiffEqCore.trivial_limiter!), Static.False}, maxiters::Int64, callback::CallbackSet{Tuple{ContinuousCallback{typeof(condition), typeof(stochastic_collapse!), Nothing, typeof(SciMLBase.INITIALIZE_DEFAULT), typeof(SciMLBase.FINALIZE_DEFAULT), Float64, Int64, Rational{Int64}, Nothing, Nothing, Int64}}, Tuple{DiscreteCallback{typeof(terminate_condition), typeof(terminate!), typeof(SciMLBase.INITIALIZE_DEFAULT), typeof(SciMLBase.FINALIZE_DEFAULT), Nothing}}}, reltol::Float64, saveat::Int64}, SciMLBase.StandardODEProblem}, typeof(prob_func), typeof(SciMLBase.DEFAULT_OUTPUT_FUNC), typeof(SciMLBase.DEFAULT_REDUCTION), Nothing}, probs::Vector{ODEProblem{Vector{ComplexF64}, Tuple{Float64, Float64}, true, MutableNamedTuple{(:H, :H₀, :∇H, :ψ, :dψ, :ψ_soa, :dψ_soa, :ω, :eiωt, :Js, :states, :fields, :r0, :r, :v, :d, :d_nnz, :λ, :k, :Γ, :E, :E_k, :ds, :ds_state1, :ds_state2, :params, :mass, :update_H_and_∇H, :populations, :n_scatters, :save_counter, :n_states, :n_ground, :n_excited, :trajectory, :decay_dist, :time_to_decay, :last_decay_time, :∇H_x, :∇H_y, :∇H_z, :∇H_x_ψ, :∇H_y_ψ, :∇H_z_ψ, :H_nh, :diffusion_constant), Tuple{Base.RefValue{StructArray{ComplexF64, 2, @NamedTuple{re::Matrix{Float64}, im::Matrix{Float64}}, Int64}}, Base.RefValue{StructArray{ComplexF64, 2, @NamedTuple{re::Matrix{Float64}, im::Matrix{Float64}}, Int64}}, Base.RefValue{SVector{3, ComplexF64}}, Base.RefValue{Vector{ComplexF64}}, Base.RefValue{Vector{ComplexF64}}, Base.RefValue{StructVector{ComplexF64, @NamedTuple{re::Vector{Float64}, im::Vector{Float64}}, Int64}}, Base.RefValue{StructVector{ComplexF64, @NamedTuple{re::Vector{Float64}, im::Vector{Float64}}, Int64}}, Base.RefValue{Vector{Float64}}, Base.RefValue{StructVector{ComplexF64, @NamedTuple{re::Vector{Float64}, im::Vector{Float64}}, Int64}}, Base.RefValue{Vector{OpticalBlochEquations.Jump}}, Base.RefValue{StructVector{State{HundsCaseB_LinearMolecule}, @NamedTuple{E::Vector{Float64}, basis::Vector{Vector{HundsCaseB_LinearMolecule}}, coeffs::Vector{Vector{ComplexF64}}, idx::Vector{Int64}}, Int64}}, Base.RefValue{StructVector{Field{Float64, var\"#25#29\"{SVector{3, ComplexF64}}, var\"#26#31\"{Float64, Float64, Tuple{Int64, Int64}}}, @NamedTuple{k::Vector{SVector{3, Float64}}, ϵ::Vector{var\"#25#29\"{SVector{3, ComplexF64}}}, ϵ_val::Vector{SVector{3, ComplexF64}}, ω::Vector{Float64}, s_max::Vector{Float64}, s_scalar_func::Vector{var\"#26#31\"{Float64, Float64, Tuple{Int64, Int64}}}, s::Vector{Float64}, re::Vector{Float64}, im::Vector{Float64}, kr::Vector{Float64}, E::Vector{SVector{3, ComplexF64}}, ϕ::Vector{Float64}}, Int64}}, Base.RefValue{MVector{3, Float64}}, Base.RefValue{MVector{3, Float64}}, Base.RefValue{MVector{3, Float64}}, Base.RefValue{Array{ComplexF64, 3}}, Base.RefValue{Vector{Vector{CartesianIndex{2}}}}, Base.RefValue{Float64}, Base.RefValue{Float64}, Base.RefValue{Float64}, Base.RefValue{SVector{3, ComplexF64}}, Base.RefValue{Vector{SVector{3, ComplexF64}}}, Base.RefValue{Vector{StructVector{ComplexF64, @NamedTuple{re::Vector{Float64}, im::Vector{Float64}}, Int64}}}, Base.RefValue{Vector{Vector{Int64}}}, Base.RefValue{Vector{Vector{Int64}}}, Base.RefValue{MutableNamedTuple{(:pol1_x, :pol2_x, :pol3_x, :pol4_x, :s1, :s2, :s3, :s4, :Δ1, :Δ2, :Δ3, :Δ4, :B_grad_start, :B_grad_end, :B_ramp_time, :s_ramp_time, :s_ramp_factor, :photon_budget, :x_dist, :y_dist, :z_dist, :vx_dist, :vy_dist, :vz_dist, :Zeeman_Hx, :Zeeman_Hy, :Zeeman_Hz), Tuple{Base.RefValue{SVector{3, ComplexF64}}, Base.RefValue{SVector{3, ComplexF64}}, Base.RefValue{SVector{3, ComplexF64}}, Base.RefValue{SVector{3, ComplexF64}}, Base.RefValue{Float64}, Base.RefValue{Float64}, Base.RefValue{Float64}, Base.RefValue{Float64}, Base.RefValue{Float64}, Base.RefValue{Float64}, Base.RefValue{Float64}, Base.RefValue{Float64}, Base.RefValue{Float64}, Base.RefValue{Float64}, Base.RefValue{Float64}, Base.RefValue{Float64}, Base.RefValue{Float64}, Base.RefValue{Int64}, Base.RefValue{Normal{Float64}}, Base.RefValue{Normal{Float64}}, Base.RefValue{Normal{Float64}}, Base.RefValue{Normal{Float64}}, Base.RefValue{Normal{Float64}}, Base.RefValue{Normal{Float64}}, Base.RefValue{StructArray{ComplexF64, 2, @NamedTuple{re::Matrix{Float64}, im::Matrix{Float64}}, Int64}}, Base.RefValue{StructArray{ComplexF64, 2, @NamedTuple{re::Matrix{Float64}, im::Matrix{Float64}}, Int64}}, Base.RefValue{StructArray{ComplexF64, 2, @NamedTuple{re::Matrix{Float64}, im::Matrix{Float64}}, Int64}}}}}, Base.RefValue{Float64}, Base.RefValue{typeof(update_H_and_∇H)}, Base.RefValue{Vector{Float64}}, Base.RefValue{Int64}, Base.RefValue{Int64}, Base.RefValue{Int64}, Base.RefValue{Int64}, Base.RefValue{Int64}, Base.RefValue{Vector{Vector{ComplexF64}}}, Base.RefValue{Exponential{Float64}}, Base.RefValue{Float64}, Base.RefValue{Float64}, Base.RefValue{StructArray{ComplexF64, 2, @NamedTuple{re::Matrix{Float64}, im::Matrix{Float64}}, Int64}}, Base.RefValue{StructArray{ComplexF64, 2, @NamedTuple{re::Matrix{Float64}, im::Matrix{Float64}}, Int64}}, Base.RefValue{StructArray{ComplexF64, 2, @NamedTuple{re::Matrix{Float64}, im::Matrix{Float64}}, Int64}}, Base.RefValue{StructVector{ComplexF64, @NamedTuple{re::Vector{Float64}, im::Vector{Float64}}, Int64}}, Base.RefValue{StructVector{ComplexF64, @NamedTuple{re::Vector{Float64}, im::Vector{Float64}}, Int64}}, Base.RefValue{StructVector{ComplexF64, @NamedTuple{re::Vector{Float64}, im::Vector{Float64}}, Int64}}, Base.RefValue{StructArray{ComplexF64, 2, @NamedTuple{re::Matrix{Float64}, im::Matrix{Float64}}, Int64}}, Base.RefValue{Vector{Float64}}}}, ODEFunction{true, SciMLBase.AutoSpecialize, typeof(ψ_stochastic_diffusion!), LinearAlgebra.UniformScaling{Bool}, Nothing, Nothing, Nothing, Nothing, Nothing, Nothing, Nothing, Nothing, Nothing, Nothing, Nothing, typeof(SciMLBase.DEFAULT_OBSERVED), Nothing, Nothing, Nothing, Nothing}, @Kwargs{alg::DP5{typeof(OrdinaryDiffEqCore.trivial_limiter!), typeof(OrdinaryDiffEqCore.trivial_limiter!), Static.False}, maxiters::Int64, callback::CallbackSet{Tuple{ContinuousCallback{typeof(condition), typeof(stochastic_collapse!), Nothing, typeof(SciMLBase.INITIALIZE_DEFAULT), typeof(SciMLBase.FINALIZE_DEFAULT), Float64, Int64, Rational{Int64}, Nothing, Nothing, Int64}}, Tuple{DiscreteCallback{typeof(terminate_condition), typeof(terminate!), typeof(SciMLBase.INITIALIZE_DEFAULT), typeof(SciMLBase.FINALIZE_DEFAULT), Nothing}}}, reltol::Float64, saveat::Int64}, SciMLBase.StandardODEProblem}}, alg::Tsit5{typeof(OrdinaryDiffEqCore.trivial_limiter!), typeof(OrdinaryDiffEqCore.trivial_limiter!), Static.False}, ensemblealg::EnsembleGPUArray{CUDABackend}, I::UnitRange{Int64}, u0::Matrix{ComplexF64}, p::Matrix{MutableNamedTuple{(:H, :H₀, :∇H, :ψ, :dψ, :ψ_soa, :dψ_soa, :ω, :eiωt, :Js, :states, :fields, :r0, :r, :v, :d, :d_nnz, :λ, :k, :Γ, :E, :E_k, :ds, :ds_state1, :ds_state2, :params, :mass, :update_H_and_∇H, :populations, :n_scatters, :save_counter, :n_states, :n_ground, :n_excited, :trajectory, :decay_dist, :time_to_decay, :last_decay_time, :∇H_x, :∇H_y, :∇H_z, :∇H_x_ψ, :∇H_y_ψ, :∇H_z_ψ, :H_nh, :diffusion_constant), Tuple{Base.RefValue{StructArray{ComplexF64, 2, @NamedTuple{re::Matrix{Float64}, im::Matrix{Float64}}, Int64}}, Base.RefValue{StructArray{ComplexF64, 2, @NamedTuple{re::Matrix{Float64}, im::Matrix{Float64}}, Int64}}, Base.RefValue{SVector{3, ComplexF64}}, Base.RefValue{Vector{ComplexF64}}, Base.RefValue{Vector{ComplexF64}}, Base.RefValue{StructVector{ComplexF64, @NamedTuple{re::Vector{Float64}, im::Vector{Float64}}, Int64}}, Base.RefValue{StructVector{ComplexF64, @NamedTuple{re::Vector{Float64}, im::Vector{Float64}}, Int64}}, Base.RefValue{Vector{Float64}}, Base.RefValue{StructVector{ComplexF64, @NamedTuple{re::Vector{Float64}, im::Vector{Float64}}, Int64}}, Base.RefValue{Vector{OpticalBlochEquations.Jump}}, Base.RefValue{StructVector{State{HundsCaseB_LinearMolecule}, @NamedTuple{E::Vector{Float64}, basis::Vector{Vector{HundsCaseB_LinearMolecule}}, coeffs::Vector{Vector{ComplexF64}}, idx::Vector{Int64}}, Int64}}, Base.RefValue{StructVector{Field{Float64, var\"#25#29\"{SVector{3, ComplexF64}}, var\"#26#31\"{Float64, Float64, Tuple{Int64, Int64}}}, @NamedTuple{k::Vector{SVector{3, Float64}}, ϵ::Vector{var\"#25#29\"{SVector{3, ComplexF64}}}, ϵ_val::Vector{SVector{3, ComplexF64}}, ω::Vector{Float64}, s_max::Vector{Float64}, s_scalar_func::Vector{var\"#26#31\"{Float64, Float64, Tuple{Int64, Int64}}}, s::Vector{Float64}, re::Vector{Float64}, im::Vector{Float64}, kr::Vector{Float64}, E::Vector{SVector{3, ComplexF64}}, ϕ::Vector{Float64}}, Int64}}, Base.RefValue{MVector{3, Float64}}, Base.RefValue{MVector{3, Float64}}, Base.RefValue{MVector{3, Float64}}, Base.RefValue{Array{ComplexF64, 3}}, Base.RefValue{Vector{Vector{CartesianIndex{2}}}}, Base.RefValue{Float64}, Base.RefValue{Float64}, Base.RefValue{Float64}, Base.RefValue{SVector{3, ComplexF64}}, Base.RefValue{Vector{SVector{3, ComplexF64}}}, Base.RefValue{Vector{StructVector{ComplexF64, @NamedTuple{re::Vector{Float64}, im::Vector{Float64}}, Int64}}}, Base.RefValue{Vector{Vector{Int64}}}, Base.RefValue{Vector{Vector{Int64}}}, Base.RefValue{MutableNamedTuple{(:pol1_x, :pol2_x, :pol3_x, :pol4_x, :s1, :s2, :s3, :s4, :Δ1, :Δ2, :Δ3, :Δ4, :B_grad_start, :B_grad_end, :B_ramp_time, :s_ramp_time, :s_ramp_factor, :photon_budget, :x_dist, :y_dist, :z_dist, :vx_dist, :vy_dist, :vz_dist, :Zeeman_Hx, :Zeeman_Hy, :Zeeman_Hz), Tuple{Base.RefValue{SVector{3, ComplexF64}}, Base.RefValue{SVector{3, ComplexF64}}, Base.RefValue{SVector{3, ComplexF64}}, Base.RefValue{SVector{3, ComplexF64}}, Base.RefValue{Float64}, Base.RefValue{Float64}, Base.RefValue{Float64}, Base.RefValue{Float64}, Base.RefValue{Float64}, Base.RefValue{Float64}, Base.RefValue{Float64}, Base.RefValue{Float64}, Base.RefValue{Float64}, Base.RefValue{Float64}, Base.RefValue{Float64}, Base.RefValue{Float64}, Base.RefValue{Float64}, Base.RefValue{Int64}, Base.RefValue{Normal{Float64}}, Base.RefValue{Normal{Float64}}, Base.RefValue{Normal{Float64}}, Base.RefValue{Normal{Float64}}, Base.RefValue{Normal{Float64}}, Base.RefValue{Normal{Float64}}, Base.RefValue{StructArray{ComplexF64, 2, @NamedTuple{re::Matrix{Float64}, im::Matrix{Float64}}, Int64}}, Base.RefValue{StructArray{ComplexF64, 2, @NamedTuple{re::Matrix{Float64}, im::Matrix{Float64}}, Int64}}, Base.RefValue{StructArray{ComplexF64, 2, @NamedTuple{re::Matrix{Float64}, im::Matrix{Float64}}, Int64}}}}}, Base.RefValue{Float64}, Base.RefValue{typeof(update_H_and_∇H)}, Base.RefValue{Vector{Float64}}, Base.RefValue{Int64}, Base.RefValue{Int64}, Base.RefValue{Int64}, Base.RefValue{Int64}, Base.RefValue{Int64}, Base.RefValue{Vector{Vector{ComplexF64}}}, Base.RefValue{Exponential{Float64}}, Base.RefValue{Float64}, Base.RefValue{Float64}, Base.RefValue{StructArray{ComplexF64, 2, @NamedTuple{re::Matrix{Float64}, im::Matrix{Float64}}, Int64}}, Base.RefValue{StructArray{ComplexF64, 2, @NamedTuple{re::Matrix{Float64}, im::Matrix{Float64}}, Int64}}, Base.RefValue{StructArray{ComplexF64, 2, @NamedTuple{re::Matrix{Float64}, im::Matrix{Float64}}, Int64}}, Base.RefValue{StructVector{ComplexF64, @NamedTuple{re::Vector{Float64}, im::Vector{Float64}}, Int64}}, Base.RefValue{StructVector{ComplexF64, @NamedTuple{re::Vector{Float64}, im::Vector{Float64}}, Int64}}, Base.RefValue{StructVector{ComplexF64, @NamedTuple{re::Vector{Float64}, im::Vector{Float64}}, Int64}}, Base.RefValue{StructArray{ComplexF64, 2, @NamedTuple{re::Matrix{Float64}, im::Matrix{Float64}}, Int64}}, Base.RefValue{Vector{Float64}}}}}; kwargs::@Kwargs{adaptive::Bool, unstable_check::DiffEqGPU.var\"#114#120\"})",
      "    @ DiffEqGPU C:\\Users\\Christian\\.julia\\packages\\DiffEqGPU\\I999k\\src\\solve.jl:315",
      " [36] batch_solve(ensembleprob::EnsembleProblem{ODEProblem{Vector{ComplexF64}, Tuple{Float64, Float64}, true, MutableNamedTuple{(:H, :H₀, :∇H, :ψ, :dψ, :ψ_soa, :dψ_soa, :ω, :eiωt, :Js, :states, :fields, :r0, :r, :v, :d, :d_nnz, :λ, :k, :Γ, :E, :E_k, :ds, :ds_state1, :ds_state2, :params, :mass, :update_H_and_∇H, :populations, :n_scatters, :save_counter, :n_states, :n_ground, :n_excited, :trajectory, :decay_dist, :time_to_decay, :last_decay_time, :∇H_x, :∇H_y, :∇H_z, :∇H_x_ψ, :∇H_y_ψ, :∇H_z_ψ, :H_nh, :diffusion_constant), Tuple{Base.RefValue{StructArray{ComplexF64, 2, @NamedTuple{re::Matrix{Float64}, im::Matrix{Float64}}, Int64}}, Base.RefValue{StructArray{ComplexF64, 2, @NamedTuple{re::Matrix{Float64}, im::Matrix{Float64}}, Int64}}, Base.RefValue{SVector{3, ComplexF64}}, Base.RefValue{Vector{ComplexF64}}, Base.RefValue{Vector{ComplexF64}}, Base.RefValue{StructVector{ComplexF64, @NamedTuple{re::Vector{Float64}, im::Vector{Float64}}, Int64}}, Base.RefValue{StructVector{ComplexF64, @NamedTuple{re::Vector{Float64}, im::Vector{Float64}}, Int64}}, Base.RefValue{Vector{Float64}}, Base.RefValue{StructVector{ComplexF64, @NamedTuple{re::Vector{Float64}, im::Vector{Float64}}, Int64}}, Base.RefValue{Vector{OpticalBlochEquations.Jump}}, Base.RefValue{StructVector{State{HundsCaseB_LinearMolecule}, @NamedTuple{E::Vector{Float64}, basis::Vector{Vector{HundsCaseB_LinearMolecule}}, coeffs::Vector{Vector{ComplexF64}}, idx::Vector{Int64}}, Int64}}, Base.RefValue{StructVector{Field{Float64, var\"#25#29\"{SVector{3, ComplexF64}}, var\"#26#31\"{Float64, Float64, Tuple{Int64, Int64}}}, @NamedTuple{k::Vector{SVector{3, Float64}}, ϵ::Vector{var\"#25#29\"{SVector{3, ComplexF64}}}, ϵ_val::Vector{SVector{3, ComplexF64}}, ω::Vector{Float64}, s_max::Vector{Float64}, s_scalar_func::Vector{var\"#26#31\"{Float64, Float64, Tuple{Int64, Int64}}}, s::Vector{Float64}, re::Vector{Float64}, im::Vector{Float64}, kr::Vector{Float64}, E::Vector{SVector{3, ComplexF64}}, ϕ::Vector{Float64}}, Int64}}, Base.RefValue{MVector{3, Float64}}, Base.RefValue{MVector{3, Float64}}, Base.RefValue{MVector{3, Float64}}, Base.RefValue{Array{ComplexF64, 3}}, Base.RefValue{Vector{Vector{CartesianIndex{2}}}}, Base.RefValue{Float64}, Base.RefValue{Float64}, Base.RefValue{Float64}, Base.RefValue{SVector{3, ComplexF64}}, Base.RefValue{Vector{SVector{3, ComplexF64}}}, Base.RefValue{Vector{StructVector{ComplexF64, @NamedTuple{re::Vector{Float64}, im::Vector{Float64}}, Int64}}}, Base.RefValue{Vector{Vector{Int64}}}, Base.RefValue{Vector{Vector{Int64}}}, Base.RefValue{MutableNamedTuple{(:pol1_x, :pol2_x, :pol3_x, :pol4_x, :s1, :s2, :s3, :s4, :Δ1, :Δ2, :Δ3, :Δ4, :B_grad_start, :B_grad_end, :B_ramp_time, :s_ramp_time, :s_ramp_factor, :photon_budget, :x_dist, :y_dist, :z_dist, :vx_dist, :vy_dist, :vz_dist, :Zeeman_Hx, :Zeeman_Hy, :Zeeman_Hz), Tuple{Base.RefValue{SVector{3, ComplexF64}}, Base.RefValue{SVector{3, ComplexF64}}, Base.RefValue{SVector{3, ComplexF64}}, Base.RefValue{SVector{3, ComplexF64}}, Base.RefValue{Float64}, Base.RefValue{Float64}, Base.RefValue{Float64}, Base.RefValue{Float64}, Base.RefValue{Float64}, Base.RefValue{Float64}, Base.RefValue{Float64}, Base.RefValue{Float64}, Base.RefValue{Float64}, Base.RefValue{Float64}, Base.RefValue{Float64}, Base.RefValue{Float64}, Base.RefValue{Float64}, Base.RefValue{Int64}, Base.RefValue{Normal{Float64}}, Base.RefValue{Normal{Float64}}, Base.RefValue{Normal{Float64}}, Base.RefValue{Normal{Float64}}, Base.RefValue{Normal{Float64}}, Base.RefValue{Normal{Float64}}, Base.RefValue{StructArray{ComplexF64, 2, @NamedTuple{re::Matrix{Float64}, im::Matrix{Float64}}, Int64}}, Base.RefValue{StructArray{ComplexF64, 2, @NamedTuple{re::Matrix{Float64}, im::Matrix{Float64}}, Int64}}, Base.RefValue{StructArray{ComplexF64, 2, @NamedTuple{re::Matrix{Float64}, im::Matrix{Float64}}, Int64}}}}}, Base.RefValue{Float64}, Base.RefValue{typeof(update_H_and_∇H)}, Base.RefValue{Vector{Float64}}, Base.RefValue{Int64}, Base.RefValue{Int64}, Base.RefValue{Int64}, Base.RefValue{Int64}, Base.RefValue{Int64}, Base.RefValue{Vector{Vector{ComplexF64}}}, Base.RefValue{Exponential{Float64}}, Base.RefValue{Float64}, Base.RefValue{Float64}, Base.RefValue{StructArray{ComplexF64, 2, @NamedTuple{re::Matrix{Float64}, im::Matrix{Float64}}, Int64}}, Base.RefValue{StructArray{ComplexF64, 2, @NamedTuple{re::Matrix{Float64}, im::Matrix{Float64}}, Int64}}, Base.RefValue{StructArray{ComplexF64, 2, @NamedTuple{re::Matrix{Float64}, im::Matrix{Float64}}, Int64}}, Base.RefValue{StructVector{ComplexF64, @NamedTuple{re::Vector{Float64}, im::Vector{Float64}}, Int64}}, Base.RefValue{StructVector{ComplexF64, @NamedTuple{re::Vector{Float64}, im::Vector{Float64}}, Int64}}, Base.RefValue{StructVector{ComplexF64, @NamedTuple{re::Vector{Float64}, im::Vector{Float64}}, Int64}}, Base.RefValue{StructArray{ComplexF64, 2, @NamedTuple{re::Matrix{Float64}, im::Matrix{Float64}}, Int64}}, Base.RefValue{Vector{Float64}}}}, ODEFunction{true, SciMLBase.AutoSpecialize, typeof(ψ_stochastic_diffusion!), LinearAlgebra.UniformScaling{Bool}, Nothing, Nothing, Nothing, Nothing, Nothing, Nothing, Nothing, Nothing, Nothing, Nothing, Nothing, typeof(SciMLBase.DEFAULT_OBSERVED), Nothing, Nothing, Nothing, Nothing}, @Kwargs{alg::DP5{typeof(OrdinaryDiffEqCore.trivial_limiter!), typeof(OrdinaryDiffEqCore.trivial_limiter!), Static.False}, maxiters::Int64, callback::CallbackSet{Tuple{ContinuousCallback{typeof(condition), typeof(stochastic_collapse!), Nothing, typeof(SciMLBase.INITIALIZE_DEFAULT), typeof(SciMLBase.FINALIZE_DEFAULT), Float64, Int64, Rational{Int64}, Nothing, Nothing, Int64}}, Tuple{DiscreteCallback{typeof(terminate_condition), typeof(terminate!), typeof(SciMLBase.INITIALIZE_DEFAULT), typeof(SciMLBase.FINALIZE_DEFAULT), Nothing}}}, reltol::Float64, saveat::Int64}, SciMLBase.StandardODEProblem}, typeof(prob_func), typeof(SciMLBase.DEFAULT_OUTPUT_FUNC), typeof(SciMLBase.DEFAULT_REDUCTION), Nothing}, alg::Tsit5{typeof(OrdinaryDiffEqCore.trivial_limiter!), typeof(OrdinaryDiffEqCore.trivial_limiter!), Static.False}, ensemblealg::EnsembleGPUArray{CUDABackend}, I::UnitRange{Int64}, adaptive::Bool; kwargs::@Kwargs{unstable_check::DiffEqGPU.var\"#114#120\"})",
      "    @ DiffEqGPU C:\\Users\\Christian\\.julia\\packages\\DiffEqGPU\\I999k\\src\\solve.jl:242",
      " [37] macro expansion",
      "    @ .\\timing.jl:395 [inlined]",
      " [38] __solve(ensembleprob::EnsembleProblem{ODEProblem{Vector{ComplexF64}, Tuple{Float64, Float64}, true, MutableNamedTuple{(:H, :H₀, :∇H, :ψ, :dψ, :ψ_soa, :dψ_soa, :ω, :eiωt, :Js, :states, :fields, :r0, :r, :v, :d, :d_nnz, :λ, :k, :Γ, :E, :E_k, :ds, :ds_state1, :ds_state2, :params, :mass, :update_H_and_∇H, :populations, :n_scatters, :save_counter, :n_states, :n_ground, :n_excited, :trajectory, :decay_dist, :time_to_decay, :last_decay_time, :∇H_x, :∇H_y, :∇H_z, :∇H_x_ψ, :∇H_y_ψ, :∇H_z_ψ, :H_nh, :diffusion_constant), Tuple{Base.RefValue{StructArray{ComplexF64, 2, @NamedTuple{re::Matrix{Float64}, im::Matrix{Float64}}, Int64}}, Base.RefValue{StructArray{ComplexF64, 2, @NamedTuple{re::Matrix{Float64}, im::Matrix{Float64}}, Int64}}, Base.RefValue{SVector{3, ComplexF64}}, Base.RefValue{Vector{ComplexF64}}, Base.RefValue{Vector{ComplexF64}}, Base.RefValue{StructVector{ComplexF64, @NamedTuple{re::Vector{Float64}, im::Vector{Float64}}, Int64}}, Base.RefValue{StructVector{ComplexF64, @NamedTuple{re::Vector{Float64}, im::Vector{Float64}}, Int64}}, Base.RefValue{Vector{Float64}}, Base.RefValue{StructVector{ComplexF64, @NamedTuple{re::Vector{Float64}, im::Vector{Float64}}, Int64}}, Base.RefValue{Vector{OpticalBlochEquations.Jump}}, Base.RefValue{StructVector{State{HundsCaseB_LinearMolecule}, @NamedTuple{E::Vector{Float64}, basis::Vector{Vector{HundsCaseB_LinearMolecule}}, coeffs::Vector{Vector{ComplexF64}}, idx::Vector{Int64}}, Int64}}, Base.RefValue{StructVector{Field{Float64, var\"#25#29\"{SVector{3, ComplexF64}}, var\"#26#31\"{Float64, Float64, Tuple{Int64, Int64}}}, @NamedTuple{k::Vector{SVector{3, Float64}}, ϵ::Vector{var\"#25#29\"{SVector{3, ComplexF64}}}, ϵ_val::Vector{SVector{3, ComplexF64}}, ω::Vector{Float64}, s_max::Vector{Float64}, s_scalar_func::Vector{var\"#26#31\"{Float64, Float64, Tuple{Int64, Int64}}}, s::Vector{Float64}, re::Vector{Float64}, im::Vector{Float64}, kr::Vector{Float64}, E::Vector{SVector{3, ComplexF64}}, ϕ::Vector{Float64}}, Int64}}, Base.RefValue{MVector{3, Float64}}, Base.RefValue{MVector{3, Float64}}, Base.RefValue{MVector{3, Float64}}, Base.RefValue{Array{ComplexF64, 3}}, Base.RefValue{Vector{Vector{CartesianIndex{2}}}}, Base.RefValue{Float64}, Base.RefValue{Float64}, Base.RefValue{Float64}, Base.RefValue{SVector{3, ComplexF64}}, Base.RefValue{Vector{SVector{3, ComplexF64}}}, Base.RefValue{Vector{StructVector{ComplexF64, @NamedTuple{re::Vector{Float64}, im::Vector{Float64}}, Int64}}}, Base.RefValue{Vector{Vector{Int64}}}, Base.RefValue{Vector{Vector{Int64}}}, Base.RefValue{MutableNamedTuple{(:pol1_x, :pol2_x, :pol3_x, :pol4_x, :s1, :s2, :s3, :s4, :Δ1, :Δ2, :Δ3, :Δ4, :B_grad_start, :B_grad_end, :B_ramp_time, :s_ramp_time, :s_ramp_factor, :photon_budget, :x_dist, :y_dist, :z_dist, :vx_dist, :vy_dist, :vz_dist, :Zeeman_Hx, :Zeeman_Hy, :Zeeman_Hz), Tuple{Base.RefValue{SVector{3, ComplexF64}}, Base.RefValue{SVector{3, ComplexF64}}, Base.RefValue{SVector{3, ComplexF64}}, Base.RefValue{SVector{3, ComplexF64}}, Base.RefValue{Float64}, Base.RefValue{Float64}, Base.RefValue{Float64}, Base.RefValue{Float64}, Base.RefValue{Float64}, Base.RefValue{Float64}, Base.RefValue{Float64}, Base.RefValue{Float64}, Base.RefValue{Float64}, Base.RefValue{Float64}, Base.RefValue{Float64}, Base.RefValue{Float64}, Base.RefValue{Float64}, Base.RefValue{Int64}, Base.RefValue{Normal{Float64}}, Base.RefValue{Normal{Float64}}, Base.RefValue{Normal{Float64}}, Base.RefValue{Normal{Float64}}, Base.RefValue{Normal{Float64}}, Base.RefValue{Normal{Float64}}, Base.RefValue{StructArray{ComplexF64, 2, @NamedTuple{re::Matrix{Float64}, im::Matrix{Float64}}, Int64}}, Base.RefValue{StructArray{ComplexF64, 2, @NamedTuple{re::Matrix{Float64}, im::Matrix{Float64}}, Int64}}, Base.RefValue{StructArray{ComplexF64, 2, @NamedTuple{re::Matrix{Float64}, im::Matrix{Float64}}, Int64}}}}}, Base.RefValue{Float64}, Base.RefValue{typeof(update_H_and_∇H)}, Base.RefValue{Vector{Float64}}, Base.RefValue{Int64}, Base.RefValue{Int64}, Base.RefValue{Int64}, Base.RefValue{Int64}, Base.RefValue{Int64}, Base.RefValue{Vector{Vector{ComplexF64}}}, Base.RefValue{Exponential{Float64}}, Base.RefValue{Float64}, Base.RefValue{Float64}, Base.RefValue{StructArray{ComplexF64, 2, @NamedTuple{re::Matrix{Float64}, im::Matrix{Float64}}, Int64}}, Base.RefValue{StructArray{ComplexF64, 2, @NamedTuple{re::Matrix{Float64}, im::Matrix{Float64}}, Int64}}, Base.RefValue{StructArray{ComplexF64, 2, @NamedTuple{re::Matrix{Float64}, im::Matrix{Float64}}, Int64}}, Base.RefValue{StructVector{ComplexF64, @NamedTuple{re::Vector{Float64}, im::Vector{Float64}}, Int64}}, Base.RefValue{StructVector{ComplexF64, @NamedTuple{re::Vector{Float64}, im::Vector{Float64}}, Int64}}, Base.RefValue{StructVector{ComplexF64, @NamedTuple{re::Vector{Float64}, im::Vector{Float64}}, Int64}}, Base.RefValue{StructArray{ComplexF64, 2, @NamedTuple{re::Matrix{Float64}, im::Matrix{Float64}}, Int64}}, Base.RefValue{Vector{Float64}}}}, ODEFunction{true, SciMLBase.AutoSpecialize, typeof(ψ_stochastic_diffusion!), LinearAlgebra.UniformScaling{Bool}, Nothing, Nothing, Nothing, Nothing, Nothing, Nothing, Nothing, Nothing, Nothing, Nothing, Nothing, typeof(SciMLBase.DEFAULT_OBSERVED), Nothing, Nothing, Nothing, Nothing}, @Kwargs{alg::DP5{typeof(OrdinaryDiffEqCore.trivial_limiter!), typeof(OrdinaryDiffEqCore.trivial_limiter!), Static.False}, maxiters::Int64, callback::CallbackSet{Tuple{ContinuousCallback{typeof(condition), typeof(stochastic_collapse!), Nothing, typeof(SciMLBase.INITIALIZE_DEFAULT), typeof(SciMLBase.FINALIZE_DEFAULT), Float64, Int64, Rational{Int64}, Nothing, Nothing, Int64}}, Tuple{DiscreteCallback{typeof(terminate_condition), typeof(terminate!), typeof(SciMLBase.INITIALIZE_DEFAULT), typeof(SciMLBase.FINALIZE_DEFAULT), Nothing}}}, reltol::Float64, saveat::Int64}, SciMLBase.StandardODEProblem}, typeof(prob_func), typeof(SciMLBase.DEFAULT_OUTPUT_FUNC), typeof(SciMLBase.DEFAULT_REDUCTION), Nothing}, alg::Tsit5{typeof(OrdinaryDiffEqCore.trivial_limiter!), typeof(OrdinaryDiffEqCore.trivial_limiter!), Static.False}, ensemblealg::EnsembleGPUArray{CUDABackend}; trajectories::Int64, batch_size::Int64, unstable_check::Function, adaptive::Bool, kwargs::@Kwargs{})",
      "    @ DiffEqGPU C:\\Users\\Christian\\.julia\\packages\\DiffEqGPU\\I999k\\src\\solve.jl:55",
      " [39] __solve",
      "    @ C:\\Users\\Christian\\.julia\\packages\\DiffEqGPU\\I999k\\src\\solve.jl:1 [inlined]",
      " [40] #solve#55",
      "    @ C:\\Users\\Christian\\.julia\\packages\\DiffEqBase\\vscDj\\src\\solve.jl:1100 [inlined]",
      " [41] macro expansion",
      "    @ .\\timing.jl:279 [inlined]",
      " [42] top-level scope",
      "    @ .\\In[23]:2"
     ]
    }
   ],
   "source": [
    "ensemble_prob = EnsembleProblem(prob; prob_func=prob_func)\n",
    "@time ensemble_sol = solve(ensemble_prob, Tsit5(), EnsembleGPUArray(CUDA.CUDABackend()); trajectories=10)\n",
    ";"
   ]
  },
  {
   "cell_type": "code",
   "execution_count": null,
   "id": "4c8bf1c6-2bcc-4bce-978c-40d5115b8dad",
   "metadata": {},
   "outputs": [],
   "source": []
  }
 ],
 "metadata": {
  "kernelspec": {
   "display_name": "Julia 1.10.5",
   "language": "julia",
   "name": "julia-1.10"
  },
  "language_info": {
   "file_extension": ".jl",
   "mimetype": "application/julia",
   "name": "julia",
   "version": "1.10.5"
  }
 },
 "nbformat": 4,
 "nbformat_minor": 5
}
