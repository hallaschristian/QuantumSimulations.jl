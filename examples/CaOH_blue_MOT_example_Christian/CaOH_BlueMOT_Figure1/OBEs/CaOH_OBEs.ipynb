{
 "cells": [
  {
   "cell_type": "code",
   "execution_count": 1,
   "id": "c05bd6ac-6f65-4a91-aef2-2f26ddb6732a",
   "metadata": {},
   "outputs": [],
   "source": [
    "using Revise"
   ]
  },
  {
   "cell_type": "code",
   "execution_count": 2,
   "id": "13a2d3b4-f957-4a81-92c2-7c9aef2cd93b",
   "metadata": {},
   "outputs": [],
   "source": [
    "using Distributed\n",
    "procs_to_use = 1\n",
    "if nprocs() <= procs_to_use\n",
    "    addprocs(procs_to_use-nprocs())\n",
    "end\n",
    ";"
   ]
  },
  {
   "cell_type": "code",
   "execution_count": 3,
   "id": "5d78d0f6-e8eb-470a-b184-e2a3e18f35eb",
   "metadata": {},
   "outputs": [
    {
     "name": "stderr",
     "output_type": "stream",
     "text": [
      "\u001b[32m\u001b[1mPrecompiling\u001b[22m\u001b[39m QuantumStates\n",
      "\u001b[32m  ✓ \u001b[39mQuantumStates\n",
      "  1 dependency successfully precompiled in 23 seconds. 325 already precompiled.\n",
      "\u001b[32m\u001b[1mPrecompiling\u001b[22m\u001b[39m OpticalBlochEquations\n",
      "\u001b[32m  ✓ \u001b[39mOpticalBlochEquations\n",
      "  1 dependency successfully precompiled in 20 seconds. 357 already precompiled.\n"
     ]
    }
   ],
   "source": [
    "@everywhere using QuantumStates, OpticalBlochEquations, DifferentialEquations, UnitsToValue, StructArrays, StaticArrays, \n",
    "    Parameters\n",
    "\n",
    "@everywhere import Distributions: Normal, Geometric, Exponential\n",
    "@everywhere using ProgressMeter, Plots\n",
    ";"
   ]
  }
 ],
 "metadata": {
  "kernelspec": {
   "display_name": "Julia 1.10.5",
   "language": "julia",
   "name": "julia-1.10"
  },
  "language_info": {
   "file_extension": ".jl",
   "mimetype": "application/julia",
   "name": "julia",
   "version": "1.10.5"
  }
 },
 "nbformat": 4,
 "nbformat_minor": 5
}
