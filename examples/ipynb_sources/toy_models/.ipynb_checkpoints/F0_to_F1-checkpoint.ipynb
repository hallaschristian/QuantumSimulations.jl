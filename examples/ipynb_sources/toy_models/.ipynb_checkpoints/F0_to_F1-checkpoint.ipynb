{
 "cells": [
  {
   "cell_type": "code",
   "execution_count": 1,
   "id": "5fcb35b6-eb12-4811-a9a6-a3b687c9a7fc",
   "metadata": {},
   "outputs": [],
   "source": [
    "using Revise"
   ]
  },
  {
   "cell_type": "code",
   "execution_count": 2,
   "id": "635e84b6-4338-4ff4-910e-504be9a213dd",
   "metadata": {},
   "outputs": [],
   "source": [
    "using\n",
    "    QuantumStates,\n",
    "    OpticalBlochEquations,\n",
    "    DifferentialEquations,\n",
    "    UnitsToValue,\n",
    "    LinearAlgebra\n",
    ";"
   ]
  },
  {
   "cell_type": "code",
   "execution_count": 27,
   "id": "281294a7-c469-47a1-8437-199274d64600",
   "metadata": {},
   "outputs": [],
   "source": [
    "const λ = 1\n",
    "const Γ = 2π\n",
    "const m = 1\n",
    "const k = 2π / λ\n",
    ";"
   ]
  },
  {
   "cell_type": "code",
   "execution_count": 28,
   "id": "51a8b3c5-721e-4b44-be0a-eb391d57c5fb",
   "metadata": {},
   "outputs": [],
   "source": [
    "H_operator = :(\n",
    "    T * L +\n",
    "    B_z * Zeeman_L0\n",
    ")\n",
    "parameters = @params begin\n",
    "    T = 1e3\n",
    "    B_z = 0.0\n",
    "end\n",
    "\n",
    "# Create basis states\n",
    "QN_bounds = (L = 0, N = 0)\n",
    "ground_states = enumerate_states(AngularMomentumState_Labelled, QN_bounds)\n",
    "QN_bounds = (L = 1, N = 1)\n",
    "excited_states = enumerate_states(AngularMomentumState_Labelled, QN_bounds)\n",
    "\n",
    "# Create Hamiltonian\n",
    "basis = [ground_states; excited_states]\n",
    "H = Hamiltonian(basis=basis, operator=H_operator, parameters=parameters)\n",
    "\n",
    "evaluate!(H)\n",
    "QuantumStates.solve!(H)\n",
    ";"
   ]
  },
  {
   "cell_type": "code",
   "execution_count": 29,
   "id": "f38f5ba5-40dd-422c-aba6-5e1a7ebcaf47",
   "metadata": {},
   "outputs": [],
   "source": [
    "update_basis_tdms!(H)\n",
    "update_tdms!(H)\n",
    "d = H.tdms\n",
    "\n",
    "d[1, 2:end, :] ./= sqrt(sum(d[1, 2:end, 1].^2))\n",
    "d[2:end, 1, :] ./= sqrt(sum(d[2:end, 1, 1].^2))\n",
    ";"
   ]
  },
  {
   "cell_type": "code",
   "execution_count": 30,
   "id": "c817fa06-ef52-4cb2-84fb-1f60c2277605",
   "metadata": {},
   "outputs": [],
   "source": [
    "# Laser parameters\n",
    "Δ = +2Γ\n",
    "s = 1.0\n",
    "\n",
    "# Frequency of the lasers (in angular frequency units)\n",
    "ω1 = 2π * (energy(H.states[end]) - energy(H.states[1])) + Δ\n",
    "ω2 = 2π * (energy(H.states[end]) - energy(H.states[4])) - Δ\n",
    "\n",
    "ϵ_(ϵ1) = t -> ϵ1\n",
    "\n",
    "k̂ = +x̂; ϵ1 = ϵ_( -im .* rotate_pol(σ⁺, k̂)); laser1 = Field(k̂, ϵ1, ω1, s)\n",
    "k̂ = -x̂; ϵ2 = ϵ_( -im .* rotate_pol(σ⁺, k̂)); laser2 = Field(k̂, ϵ2, ω1, s)\n",
    "k̂ = +ŷ; ϵ3 = ϵ_( -rotate_pol(σ⁺, k̂)); laser3 = Field(k̂, ϵ3, ω1, s)\n",
    "k̂ = -ŷ; ϵ4 = ϵ_( -rotate_pol(σ⁺, k̂)); laser4 = Field(k̂, ϵ4, ω1, s)\n",
    "k̂ = +ẑ; ϵ5 = ϵ_( rotate_pol(σ⁺, k̂)); laser5 = Field(k̂, ϵ5, ω1, s)\n",
    "k̂ = -ẑ; ϵ6 = ϵ_( rotate_pol(σ⁺, k̂)); laser6 = Field(k̂, ϵ6, ω1, s)\n",
    "\n",
    "lasers = [laser1, laser2, laser3, laser4, laser5, laser6]\n",
    ";"
   ]
  },
  {
   "cell_type": "code",
   "execution_count": 31,
   "id": "b0f6b34b-f2d0-43e9-a9c0-588d50707703",
   "metadata": {},
   "outputs": [],
   "source": [
    "particle = Particle()\n",
    "ρ0 = zeros(ComplexF64, length(H.states), length(H.states))\n",
    "ρ0[1,1] = 1.0\n",
    "freq_res = 1e-2\n",
    "\n",
    "p = obe(ρ0, particle, H.states, lasers, d, d, true, true, λ, Γ, freq_res, nothing)\n",
    "\n",
    "t_end = 20p.period\n",
    "tspan = (0., t_end)\n",
    "prob = ODEProblem(ρ!, p.ρ0_vec, tspan, p)\n",
    ";"
   ]
  },
  {
   "cell_type": "code",
   "execution_count": null,
   "id": "72f0edc2-c4b2-44eb-92a4-cdee8a88bd74",
   "metadata": {
    "tags": []
   },
   "outputs": [],
   "source": [
    "callback = PeriodicCallback(reset_force!, prob.p.period)\n",
    "\n",
    "prob.p.r0 = (0., 0., 0.) .* 2π\n",
    "prob.p.v = (0., 0., 0.)\n",
    "@time sol = DifferentialEquations.solve(prob, alg=DP5(), reltol=1e-3, callback=callback)\n",
    "prob.p.force_last_period .* 1e3"
   ]
  },
  {
   "cell_type": "code",
   "execution_count": null,
   "id": "1f20a1c9-8955-44d1-9fd3-ac85a3a6ea23",
   "metadata": {},
   "outputs": [],
   "source": [
    "using Plots\n",
    "plot_us = sol.u#[1:10:end]\n",
    "plot_ts = sol.t#[1:10:end]\n",
    "\n",
    "n_states = size(p.ρ_soa, 1)\n",
    "plot(size=(800, 400), ylim=(-0.1, 1.1), legend=nothing)\n",
    "for i in 1:n_states\n",
    "    state_idx = n_states*(i-1) + i\n",
    "    plot!(plot_ts, [real(u[state_idx]) for u in plot_us])\n",
    "end\n",
    "plot!()\n",
    "offset = 0\n",
    "vline!([sol.t[end] - prob.p.period - offset, sol.t[end] - offset], color=\"red\", linestyle=:dash)"
   ]
  },
  {
   "cell_type": "code",
   "execution_count": null,
   "id": "91f57c43-631e-468c-872d-7db3fd27773b",
   "metadata": {},
   "outputs": [],
   "source": [
    "plot(size=(800, 400), legend=nothing)\n",
    "plot!(plot_ts, 1e3 .* [real(u[end-2]) for u in plot_us] ./ prob.p.period)\n",
    "plot!(plot_ts, 1e3 .* [real(u[end-1]) for u in plot_us] ./ prob.p.period)\n",
    "plot!(plot_ts, 1e3 .* [real(u[end]) for u in plot_us] ./ prob.p.period)\n",
    "plot!()\n",
    "offset = 0\n",
    "vline!([sol.t[end] - prob.p.period - offset, sol.t[end] - offset], color=\"red\", linestyle=:dash)"
   ]
  },
  {
   "cell_type": "code",
   "execution_count": null,
   "id": "1ebf0fc8-30d1-4e77-8bd2-8f20abb6b894",
   "metadata": {},
   "outputs": [],
   "source": [
    "using Distributions\n",
    "uniform_dist = Uniform(0, 2π)\n",
    "function sample_direction(r=1.0)\n",
    "    θ = 2π * rand()\n",
    "    z = rand() * 2 - 1\n",
    "    return (r * sqrt(1 - z^2) * cos(θ), r * sqrt(1 - z^2) * sin(θ), r * z)\n",
    "end\n",
    ";"
   ]
  },
  {
   "cell_type": "markdown",
   "id": "1e7623f1-955d-4f2d-8fbb-2c68c74311c6",
   "metadata": {
    "tags": []
   },
   "source": [
    "## Force versus magnetic field"
   ]
  },
  {
   "cell_type": "code",
   "execution_count": null,
   "id": "1afcc768-7819-41ba-8399-9f483f0e6cfc",
   "metadata": {},
   "outputs": [],
   "source": [
    "function prob_func!(prob, scan_params, i)\n",
    "    p = prob.p\n",
    "    \n",
    "    # Update velocity and position\n",
    "    p.particle.v .= scan_params[i].v\n",
    "    p.particle.r0 .= scan_params[i].r\n",
    "    \n",
    "    # Update magnetic field\n",
    "    H = p.extra_p.H\n",
    "    H.parameters.B_z = scan_params[i].B\n",
    "    evaluate!(H)\n",
    "    QuantumStates.solve!(H)\n",
    "    \n",
    "    # Update transition dipole moments\n",
    "    update_basis_tdms!(H)\n",
    "    update_tdms!(H)\n",
    "    new_d = H.tdms\n",
    "    \n",
    "    new_p = obe(p.ρ0, p.particle, H.states, p.extra_p.lasers, new_d, nothing, true, true, p.λ, p.Γ, p.freq_res, p.extra_p)\n",
    "    \n",
    "    return remake(prob, p=new_p)\n",
    "end\n",
    "function output_func(p, sol)\n",
    "    f = p.force_last_period\n",
    "    return f\n",
    "end\n",
    ";"
   ]
  },
  {
   "cell_type": "code",
   "execution_count": null,
   "id": "ec4884ee-af42-4711-a764-e83901400a52",
   "metadata": {},
   "outputs": [],
   "source": [
    "using RectiGrids\n",
    "\n",
    "freq_res = 1e-2\n",
    "extra_p = (H=H, lasers=lasers)\n",
    "p = obe(ρ0, particle, H.states, lasers, d, d, true, true, λ, Γ, freq_res, extra_p)\n",
    "\n",
    "t_end = 10p.period+1; tspan = (0., t_end)\n",
    "prob = ODEProblem(ρ!, p.ρ0_vec, tspan, p, reltol=1e-3, save_on=false)\n",
    "\n",
    "Bs = (0:0.05:3.0)\n",
    "di = 7\n",
    "rs = vcat([(n1*λ/(di+1), n2*λ/(di+1), n3*λ/(di+1)) .* 2π for n1 ∈ 0:di, n2 ∈ 0:di, n3 ∈ 0:di]...)\n",
    "vs = [sample_direction(0.0) for _ in 1:1]\n",
    "\n",
    "scan_values = (B = Bs, r = rs, v = vs)\n",
    "scan_values_grid = RectiGrids.grid(scan_values)\n",
    ";"
   ]
  },
  {
   "cell_type": "code",
   "execution_count": null,
   "id": "675136bd-462b-4e5a-8735-aba35ce405a2",
   "metadata": {},
   "outputs": [],
   "source": [
    "@time forces, populations = force_scan_v2(prob, scan_values_grid, prob_func!, output_func);"
   ]
  },
  {
   "cell_type": "code",
   "execution_count": null,
   "id": "059c3793-2744-4638-92c8-a31788a16c70",
   "metadata": {},
   "outputs": [],
   "source": [
    "averaged_forces = []\n",
    "@time for (i,B) ∈ enumerate(Bs)\n",
    "    idxs = [j for (j,x) ∈ enumerate(scan_values_grid) if x.B == B]\n",
    "    push!(averaged_forces, mean([f[3] for f in forces[idxs]]))\n",
    "end"
   ]
  },
  {
   "cell_type": "code",
   "execution_count": null,
   "id": "7af54d25-1337-4ec8-b91c-27c6189542d0",
   "metadata": {},
   "outputs": [],
   "source": [
    "plot(Bs, 1e3 .* averaged_forces,\n",
    "    xlabel=\"Magnetic field (G)\",\n",
    "    ylabel=\"a (10³ m/s²)\",\n",
    "    framestyle=:box,\n",
    "    linewidth=2.5,\n",
    "    labelfontsize=14,\n",
    "    tickfont=12,\n",
    "    legendfont=11,\n",
    "    # ylim=(-3,23),\n",
    "    size=(600,500)\n",
    "    )"
   ]
  },
  {
   "cell_type": "code",
   "execution_count": null,
   "id": "d1a7448c-d44c-4628-93c2-a495976e7c1c",
   "metadata": {},
   "outputs": [],
   "source": [
    "averaged_populations = []\n",
    "@time for (i,B) ∈ enumerate(Bs)\n",
    "    idxs = [j for (j,x) ∈ enumerate(scan_values_grid) if x.B == B]\n",
    "    push!(averaged_populations, mean([p for p in populations[idxs,:]], dims=1))\n",
    "end"
   ]
  },
  {
   "cell_type": "code",
   "execution_count": null,
   "id": "fd598175-31e5-404f-ad2e-15292606eec9",
   "metadata": {},
   "outputs": [],
   "source": [
    "averaged_populations[3]'"
   ]
  },
  {
   "cell_type": "code",
   "execution_count": null,
   "id": "8665ff03-3939-4c76-a159-7b72c2c5d5c6",
   "metadata": {},
   "outputs": [],
   "source": []
  }
 ],
 "metadata": {
  "kernelspec": {
   "display_name": "Julia (20 threads) 1.9.0-rc3",
   "language": "julia",
   "name": "julia-_20-threads_-1.9"
  },
  "language_info": {
   "file_extension": ".jl",
   "mimetype": "application/julia",
   "name": "julia",
   "version": "1.9.0"
  }
 },
 "nbformat": 4,
 "nbformat_minor": 5
}
