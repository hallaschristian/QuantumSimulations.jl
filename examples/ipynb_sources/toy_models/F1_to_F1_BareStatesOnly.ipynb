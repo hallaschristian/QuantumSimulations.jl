{
 "cells": [
  {
   "cell_type": "code",
   "execution_count": 1,
   "id": "5fcb35b6-eb12-4811-a9a6-a3b687c9a7fc",
   "metadata": {},
   "outputs": [],
   "source": [
    "using Revise"
   ]
  },
  {
   "cell_type": "code",
   "execution_count": 22,
   "id": "635e84b6-4338-4ff4-910e-504be9a213dd",
   "metadata": {},
   "outputs": [],
   "source": [
    "using\n",
    "    QuantumStates,\n",
    "    OpticalBlochEquations,\n",
    "    DifferentialEquations,\n",
    "    UnitsToValue,\n",
    "    LinearAlgebra\n",
    ";"
   ]
  },
  {
   "cell_type": "code",
   "execution_count": 24,
   "id": "281294a7-c469-47a1-8437-199274d64600",
   "metadata": {},
   "outputs": [],
   "source": [
    "const λ = 626e-9\n",
    "const Γ = 2π * 6.4e6\n",
    "const m = @with_unit 57 \"u\"\n",
    "const k = 2π / λ\n",
    ";"
   ]
  },
  {
   "cell_type": "code",
   "execution_count": 97,
   "id": "51a8b3c5-721e-4b44-be0a-eb391d57c5fb",
   "metadata": {},
   "outputs": [],
   "source": [
    "H_operator = :(\n",
    "    T * L +\n",
    "    B_z * (1.4e6 * Zeeman_L0)\n",
    ")\n",
    "parameters = @params begin\n",
    "    T = 478e12\n",
    "    B_z = 0.\n",
    "end\n",
    "\n",
    "# Create basis states\n",
    "QN_bounds = (L = 0, N = 1)\n",
    "ground_states = enumerate_states(AngularMomentumState_Labelled, QN_bounds)\n",
    "QN_bounds = (L = 1, N = 1)\n",
    "excited_states = enumerate_states(AngularMomentumState_Labelled, QN_bounds)\n",
    "\n",
    "# Create Hamiltonian\n",
    "basis = [ground_states; excited_states]\n",
    "H = Hamiltonian(basis=basis, operator=H_operator, parameters=parameters)\n",
    "H.parameters.B_z = 0.\n",
    "\n",
    "evaluate!(H)\n",
    "QuantumStates.solve!(H)\n",
    "\n",
    "update_basis_tdms!(H)\n",
    "update_tdms!(H)\n",
    "d = H.tdms\n",
    "\n",
    "# d[1:5, 6:end, 1] ./= sqrt(sum(d[1:5, 6:end, 1].^2))\n",
    "# d[6:end, 1:5, 1] ./= sqrt(sum(d[6:end, 1:5, 1].^2))\n",
    "# d[1:5, 6:end, 2] ./= sqrt(sum(d[1:5, 6:end, 2].^2))\n",
    "# d[6:end, 1:5, 2] ./= sqrt(sum(d[6:end, 1:5, 2].^2))\n",
    "# d[1:5, 6:end, 3] ./= sqrt(sum(d[1:5, 6:end, 3].^2))\n",
    "# d[6:end, 1:5, 3] ./= sqrt(sum(d[6:end, 1:5, 3].^2))\n",
    "# d[1:5,1:5,:] .= 0.0\n",
    "# d[6:8,6:8,:] .= 0.0\n",
    ";"
   ]
  },
  {
   "cell_type": "code",
   "execution_count": 272,
   "id": "c817fa06-ef52-4cb2-84fb-1f60c2277605",
   "metadata": {},
   "outputs": [],
   "source": [
    "# Laser parameters\n",
    "Δ = +1.0Γ\n",
    "s = 3.0\n",
    "\n",
    "# Frequency of the lasers (in angular frequency units)\n",
    "ω = 2π * (energy(H.states[end]) - energy(H.states[1])) + Δ\n",
    "\n",
    "ϵ_(ϵ1) = t -> ϵ1\n",
    "\n",
    "k̂ = +x̂; ϵ1 = ϵ_(rotate_pol(σ⁺, k̂)); laser1 = Field(k̂, ϵ1, ω, s)\n",
    "k̂ = -x̂; ϵ2 = ϵ_(rotate_pol(σ⁺, k̂)); laser2 = Field(k̂, ϵ2, ω, s)\n",
    "k̂ = +ŷ; ϵ3 = ϵ_(rotate_pol(σ⁺, k̂)); laser3 = Field(k̂, ϵ3, ω, s)\n",
    "k̂ = -ŷ; ϵ4 = ϵ_(rotate_pol(σ⁺, k̂)); laser4 = Field(k̂, ϵ4, ω, s)\n",
    "k̂ = +ẑ; ϵ5 = ϵ_(rotate_pol(σ⁺, k̂)); laser5 = Field(k̂, ϵ5, ω, s)\n",
    "k̂ = -ẑ; ϵ6 = ϵ_(rotate_pol(σ⁺, k̂)); laser6 = Field(k̂, ϵ6, ω, s)\n",
    "\n",
    "lasers = [laser1, laser2, laser3, laser4, laser5, laser6]\n",
    ";"
   ]
  },
  {
   "cell_type": "code",
   "execution_count": 273,
   "id": "b0f6b34b-f2d0-43e9-a9c0-588d50707703",
   "metadata": {},
   "outputs": [],
   "source": [
    "particle = Particle()\n",
    "ρ0 = zeros(ComplexF64, length(H.states), length(H.states))\n",
    "ρ0[1,1] = 1.0\n",
    "freq_res = 1e-2\n",
    "\n",
    "p = obe(ρ0, particle, H.states, lasers, d, d, true, true, λ, Γ, freq_res, nothing)\n",
    "\n",
    "t_end = 10p.period\n",
    "tspan = (0., t_end)\n",
    "prob = ODEProblem(ρ!, p.ρ0_vec, tspan, p)\n",
    ";"
   ]
  },
  {
   "cell_type": "code",
   "execution_count": 274,
   "id": "72f0edc2-c4b2-44eb-92a4-cdee8a88bd74",
   "metadata": {
    "tags": []
   },
   "outputs": [
    {
     "name": "stdout",
     "output_type": "stream",
     "text": [
      "  3.059162 seconds (4.00 M allocations: 274.107 MiB, 3.15% gc time, 99.37% compilation time)\n"
     ]
    },
    {
     "data": {
      "text/plain": [
       "3-element StaticArraysCore.SVector{3, Float64} with indices SOneTo(3):\n",
       "  5.841057768167707e-21\n",
       " -2.442212592283606e-20\n",
       "  7.21384453836069e-7"
      ]
     },
     "execution_count": 274,
     "metadata": {},
     "output_type": "execute_result"
    }
   ],
   "source": [
    "callback = PeriodicCallback(reset_force!, prob.p.period)\n",
    "\n",
    "prob.p.r0 = (0., 0., 0.) .* 2π\n",
    "prob.p.v = (0., 0., 0.)\n",
    "@time sol = DifferentialEquations.solve(prob, alg=DP5(), reltol=1e-3, callback=callback)\n",
    "prob.p.force_last_period .* 1e3"
   ]
  },
  {
   "cell_type": "code",
   "execution_count": 275,
   "id": "1f20a1c9-8955-44d1-9fd3-ac85a3a6ea23",
   "metadata": {},
   "outputs": [],
   "source": [
    "# using Plots\n",
    "# plot_us = sol.u#[1:10:end]\n",
    "# plot_ts = sol.t#[1:10:end]\n",
    "\n",
    "# n_states = size(p.ρ_soa, 1)\n",
    "# plot(size=(800, 400), ylim=(-0.1, 1.1), legend=nothing)\n",
    "# for i in 1:n_states\n",
    "#     state_idx = n_states*(i-1) + i\n",
    "#     plot!(plot_ts, [real(u[state_idx]) for u in plot_us])\n",
    "# end\n",
    "# plot!()\n",
    "# offset = 0\n",
    "# vline!([sol.t[end] - prob.p.period - offset, sol.t[end] - offset], color=\"red\", linestyle=:dash)"
   ]
  },
  {
   "cell_type": "code",
   "execution_count": 276,
   "id": "31aa9410",
   "metadata": {},
   "outputs": [
    {
     "data": {
      "text/plain": [
       "6-element Vector{ComplexF64}:\n",
       "    0.5000000008373755 + 0.0im\n",
       "                   0.0 + 0.0im\n",
       "    0.5000000008373755 + 0.0im\n",
       "                   0.0 + 0.0im\n",
       " -1.674748330149584e-9 + 0.0im\n",
       "                   0.0 + 0.0im"
      ]
     },
     "execution_count": 276,
     "metadata": {},
     "output_type": "execute_result"
    }
   ],
   "source": [
    "prob.p.populations"
   ]
  },
  {
   "cell_type": "code",
   "execution_count": 277,
   "id": "91f57c43-631e-468c-872d-7db3fd27773b",
   "metadata": {},
   "outputs": [],
   "source": [
    "# plot(size=(800, 400), legend=nothing)\n",
    "# plot!(plot_ts, 1e3 .* [real(u[end-2]) for u in plot_us] ./ prob.p.period)\n",
    "# plot!(plot_ts, 1e3 .* [real(u[end-1]) for u in plot_us] ./ prob.p.period)\n",
    "# plot!(plot_ts, 1e3 .* [real(u[end]) for u in plot_us] ./ prob.p.period)\n",
    "# plot!()\n",
    "# offset = 0\n",
    "# vline!([sol.t[end] - prob.p.period - offset, sol.t[end] - offset], color=\"red\", linestyle=:dash)"
   ]
  },
  {
   "cell_type": "code",
   "execution_count": 278,
   "id": "1ebf0fc8-30d1-4e77-8bd2-8f20abb6b894",
   "metadata": {},
   "outputs": [],
   "source": [
    "using Distributions\n",
    "uniform_dist = Uniform(0, 2π)\n",
    "function sample_direction(r=1.0)\n",
    "    θ = 2π * rand()\n",
    "    z = rand() * 2 - 1\n",
    "    return (r * sqrt(1 - z^2) * cos(θ), r * sqrt(1 - z^2) * sin(θ), r * z)\n",
    "end\n",
    ";"
   ]
  },
  {
   "cell_type": "markdown",
   "id": "1e7623f1-955d-4f2d-8fbb-2c68c74311c6",
   "metadata": {},
   "source": [
    "## Laser cooling force versus magnetic field"
   ]
  },
  {
   "cell_type": "code",
   "execution_count": 279,
   "id": "1afcc768-7819-41ba-8399-9f483f0e6cfc",
   "metadata": {},
   "outputs": [],
   "source": [
    "function prob_func!(prob, scan_params, i)\n",
    "    p = prob.p\n",
    "    \n",
    "    # Update position\n",
    "    p.particle.v .= scan_params[i].v\n",
    "    p.particle.r0 .= scan_params[i].r\n",
    "    \n",
    "    # Update laser phases\n",
    "    ω = p.extra_p.ω\n",
    "    s = p.extra_p.s\n",
    "    \n",
    "    k̂ = +x̂; ϵ1 = ϵ_(exp(im * scan_params[i].ϕ1) * rotate_pol(σ⁺, k̂)); laser1 = Field(k̂, ϵ1, ω, s)\n",
    "    k̂ = -x̂; ϵ2 = ϵ_(exp(im * scan_params[i].ϕ1) * rotate_pol(σ⁺, k̂)); laser2 = Field(k̂, ϵ2, ω, s)\n",
    "    k̂ = +ŷ; ϵ3 = ϵ_(exp(im * scan_params[i].ϕ2) * rotate_pol(σ⁺, k̂)); laser3 = Field(k̂, ϵ3, ω, s)\n",
    "    k̂ = -ŷ; ϵ4 = ϵ_(exp(im * scan_params[i].ϕ2) * rotate_pol(σ⁺, k̂)); laser4 = Field(k̂, ϵ4, ω, s)\n",
    "    k̂ = +ẑ; ϵ5 = ϵ_(rotate_pol(σ⁺, k̂)); laser5 = Field(k̂, ϵ5, ω, s)\n",
    "    k̂ = -ẑ; ϵ6 = ϵ_(rotate_pol(σ⁺, k̂)); laser6 = Field(k̂, ϵ6, ω, s)\n",
    "    lasers = [laser1, laser2, laser3, laser4, laser5, laser6]\n",
    "    \n",
    "    # Update magnetic field\n",
    "    H = p.extra_p.H\n",
    "    H.parameters.B_z = scan_params[i].B\n",
    "    evaluate!(H)\n",
    "    QuantumStates.solve!(H)\n",
    "    \n",
    "    # Update transition dipole moments\n",
    "    update_basis_tdms!(H)\n",
    "    update_tdms!(H)\n",
    "    new_d = H.tdms\n",
    "    \n",
    "    new_p = obe(p.ρ0, p.particle, H.states, lasers, new_d, nothing, true, true, p.λ, p.Γ, p.freq_res, p.extra_p)\n",
    "    \n",
    "    return remake(prob, p=new_p)\n",
    "end\n",
    "function output_func(p, sol)\n",
    "    f = p.force_last_period\n",
    "    return f\n",
    "end\n",
    ";"
   ]
  },
  {
   "cell_type": "code",
   "execution_count": 287,
   "id": "ec4884ee-af42-4711-a764-e83901400a52",
   "metadata": {},
   "outputs": [],
   "source": [
    "using RectiGrids\n",
    "\n",
    "freq_res = 1e-1\n",
    "extra_p = (H=H, ω=ω,  s=s)\n",
    "p = obe(ρ0, particle, H.states, lasers, d, d, true, true, λ, Γ, freq_res, extra_p)\n",
    "\n",
    "t_end = 10p.period+1; tspan = (0., t_end)\n",
    "prob = ODEProblem(ρ!, p.ρ0_vec, tspan, p, reltol=1e-3, save_on=false)\n",
    "\n",
    "Bs = LinRange(0,20,10)\n",
    "di = 7\n",
    "rs = vcat([(n1/(di+1), n2/(di+1), n3/(di+1)) .* 2π for n1 ∈ 0:di, n2 ∈ 0:di, n3 ∈ 0:di]...)\n",
    "vs = [0.0]\n",
    "ϕ1s = LinRange(0, 2π, 8)\n",
    "ϕ2s = LinRange(0, 2π, 8)\n",
    "\n",
    "scan_values = (B = Bs, r = rs, v = vs, ϕ1 = ϕ1s, ϕ2 = ϕ2s)\n",
    "scan_values_grid = RectiGrids.grid(scan_values)\n",
    ";"
   ]
  },
  {
   "cell_type": "code",
   "execution_count": 288,
   "id": "675136bd-462b-4e5a-8735-aba35ce405a2",
   "metadata": {},
   "outputs": [
    {
     "name": "stderr",
     "output_type": "stream",
     "text": [
      "\u001b[32mProgress: 100%|█████████████████████████████████████████| Time: 0:01:54\u001b[39m\n"
     ]
    },
    {
     "name": "stdout",
     "output_type": "stream",
     "text": [
      "114.302978 seconds (187.04 M allocations: 30.788 GiB, 2.44% gc time)\n"
     ]
    }
   ],
   "source": [
    "@time forces, populations = force_scan_v2(prob, scan_values_grid, prob_func!, output_func);"
   ]
  },
  {
   "cell_type": "code",
   "execution_count": 290,
   "id": "059c3793-2744-4638-92c8-a31788a16c70",
   "metadata": {},
   "outputs": [
    {
     "name": "stdout",
     "output_type": "stream",
     "text": [
      "  0.240439 seconds (80.89 k allocations: 23.209 MiB, 16.86% gc time, 54.84% compilation time)\n",
      "  0.190133 seconds (55.36 k allocations: 41.512 MiB, 58.83% compilation time)\n"
     ]
    }
   ],
   "source": [
    "averaged_forces = []\n",
    "@time for (i,B) ∈ enumerate(Bs)\n",
    "    idxs = [j for (j,x) ∈ enumerate(scan_values_grid) if x.B == B]\n",
    "    push!(averaged_forces, mean([f[3] for f in forces[idxs]]))\n",
    "end\n",
    "averaged_populations = []\n",
    "@time for (i,B) ∈ enumerate(Bs)\n",
    "    idxs = [j for (j,x) ∈ enumerate(scan_values_grid) if x.B == B]\n",
    "    push!(averaged_populations, mean([p for p in populations[idxs,:]], dims=1))\n",
    "end"
   ]
  },
  {
   "cell_type": "code",
   "execution_count": 291,
   "id": "7af54d25-1337-4ec8-b91c-27c6189542d0",
   "metadata": {},
   "outputs": [
    {
     "data": {
      "image/png": "[encoded data removed]",
      "image/svg+xml": [
       "<?xml version=\"1.0\" encoding=\"utf-8\"?>\n",
       "<svg xmlns=\"http://www.w3.org/2000/svg\" xmlns:xlink=\"http://www.w3.org/1999/xlink\" width=\"600\" height=\"400\" viewBox=\"0 0 2400 1600\">\n",
       "<defs>\n",
       "  <clipPath id=\"clip210\">\n",
       "    <rect x=\"0\" y=\"0\" width=\"2400\" height=\"1600\"/>\n",
       "  </clipPath>\n",
       "</defs>\n",
       "<path clip-path=\"url(#clip210)\" d=\"M0 1600 L2400 1600 L2400 0 L0 0  Z\" fill=\"#ffffff\" fill-rule=\"evenodd\" fill-opacity=\"1\"/>\n",
       "<defs>\n",
       "  <clipPath id=\"clip211\">\n",
       "    <rect x=\"480\" y=\"0\" width=\"1681\" height=\"1600\"/>\n",
       "  </clipPath>\n",
       "</defs>\n",
       "<path clip-path=\"url(#clip210)\" d=\"M212.459 1423.18 L2352.76 1423.18 L2352.76 47.2441 L212.459 47.2441  Z\" fill=\"#ffffff\" fill-rule=\"evenodd\" fill-opacity=\"1\"/>\n",
       "<defs>\n",
       "  <clipPath id=\"clip212\">\n",
       "    <rect x=\"212\" y=\"47\" width=\"2141\" height=\"1377\"/>\n",
       "  </clipPath>\n",
       "</defs>\n",
       "<polyline clip-path=\"url(#clip212)\" style=\"stroke:#000000; stroke-linecap:round; stroke-linejoin:round; stroke-width:2; stroke-opacity:0.1; fill:none\" points=\"273.033,1423.18 273.033,47.2441 \"/>\n",
       "<polyline clip-path=\"url(#clip212)\" style=\"stroke:#000000; stroke-linecap:round; stroke-linejoin:round; stroke-width:2; stroke-opacity:0.1; fill:none\" points=\"777.82,1423.18 777.82,47.2441 \"/>\n",
       "<polyline clip-path=\"url(#clip212)\" style=\"stroke:#000000; stroke-linecap:round; stroke-linejoin:round; stroke-width:2; stroke-opacity:0.1; fill:none\" points=\"1282.61,1423.18 1282.61,47.2441 \"/>\n",
       "<polyline clip-path=\"url(#clip212)\" style=\"stroke:#000000; stroke-linecap:round; stroke-linejoin:round; stroke-width:2; stroke-opacity:0.1; fill:none\" points=\"1787.39,1423.18 1787.39,47.2441 \"/>\n",
       "<polyline clip-path=\"url(#clip212)\" style=\"stroke:#000000; stroke-linecap:round; stroke-linejoin:round; stroke-width:2; stroke-opacity:0.1; fill:none\" points=\"2292.18,1423.18 2292.18,47.2441 \"/>\n",
       "<polyline clip-path=\"url(#clip210)\" style=\"stroke:#000000; stroke-linecap:round; stroke-linejoin:round; stroke-width:4; stroke-opacity:1; fill:none\" points=\"212.459,1423.18 2352.76,1423.18 \"/>\n",
       "<polyline clip-path=\"url(#clip210)\" style=\"stroke:#000000; stroke-linecap:round; stroke-linejoin:round; stroke-width:4; stroke-opacity:1; fill:none\" points=\"212.459,47.2441 2352.76,47.2441 \"/>\n",
       "<polyline clip-path=\"url(#clip210)\" style=\"stroke:#000000; stroke-linecap:round; stroke-linejoin:round; stroke-width:4; stroke-opacity:1; fill:none\" points=\"273.033,1423.18 273.033,1404.28 \"/>\n",
       "<polyline clip-path=\"url(#clip210)\" style=\"stroke:#000000; stroke-linecap:round; stroke-linejoin:round; stroke-width:4; stroke-opacity:1; fill:none\" points=\"777.82,1423.18 777.82,1404.28 \"/>\n",
       "<polyline clip-path=\"url(#clip210)\" style=\"stroke:#000000; stroke-linecap:round; stroke-linejoin:round; stroke-width:4; stroke-opacity:1; fill:none\" points=\"1282.61,1423.18 1282.61,1404.28 \"/>\n",
       "<polyline clip-path=\"url(#clip210)\" style=\"stroke:#000000; stroke-linecap:round; stroke-linejoin:round; stroke-width:4; stroke-opacity:1; fill:none\" points=\"1787.39,1423.18 1787.39,1404.28 \"/>\n",
       "<polyline clip-path=\"url(#clip210)\" style=\"stroke:#000000; stroke-linecap:round; stroke-linejoin:round; stroke-width:4; stroke-opacity:1; fill:none\" points=\"2292.18,1423.18 2292.18,1404.28 \"/>\n",
       "<path clip-path=\"url(#clip210)\" d=\"M273.033 1454.1 Q269.422 1454.1 267.594 1457.66 Q265.788 1461.2 265.788 1468.33 Q265.788 1475.44 267.594 1479.01 Q269.422 1482.55 273.033 1482.55 Q276.668 1482.55 278.473 1479.01 Q280.302 1475.44 280.302 1468.33 Q280.302 1461.2 278.473 1457.66 Q276.668 1454.1 273.033 1454.1 M273.033 1450.39 Q278.843 1450.39 281.899 1455 Q284.978 1459.58 284.978 1468.33 Q284.978 1477.06 281.899 1481.67 Q278.843 1486.25 273.033 1486.25 Q267.223 1486.25 264.145 1481.67 Q261.089 1477.06 261.089 1468.33 Q261.089 1459.58 264.145 1455 Q267.223 1450.39 273.033 1450.39 Z\" fill=\"#000000\" fill-rule=\"nonzero\" fill-opacity=\"1\" /><path clip-path=\"url(#clip210)\" d=\"M768.098 1451.02 L786.455 1451.02 L786.455 1454.96 L772.381 1454.96 L772.381 1463.43 Q773.399 1463.08 774.418 1462.92 Q775.436 1462.73 776.455 1462.73 Q782.242 1462.73 785.621 1465.9 Q789.001 1469.08 789.001 1474.49 Q789.001 1480.07 785.529 1483.17 Q782.056 1486.25 775.737 1486.25 Q773.561 1486.25 771.293 1485.88 Q769.047 1485.51 766.64 1484.77 L766.64 1480.07 Q768.723 1481.2 770.945 1481.76 Q773.168 1482.32 775.644 1482.32 Q779.649 1482.32 781.987 1480.21 Q784.325 1478.1 784.325 1474.49 Q784.325 1470.88 781.987 1468.77 Q779.649 1466.67 775.644 1466.67 Q773.769 1466.67 771.894 1467.08 Q770.043 1467.5 768.098 1468.38 L768.098 1451.02 Z\" fill=\"#000000\" fill-rule=\"nonzero\" fill-opacity=\"1\" /><path clip-path=\"url(#clip210)\" d=\"M1257.3 1481.64 L1264.93 1481.64 L1264.93 1455.28 L1256.62 1456.95 L1256.62 1452.69 L1264.89 1451.02 L1269.56 1451.02 L1269.56 1481.64 L1277.2 1481.64 L1277.2 1485.58 L1257.3 1485.58 L1257.3 1481.64 Z\" fill=\"#000000\" fill-rule=\"nonzero\" fill-opacity=\"1\" /><path clip-path=\"url(#clip210)\" d=\"M1296.65 1454.1 Q1293.04 1454.1 1291.21 1457.66 Q1289.4 1461.2 1289.4 1468.33 Q1289.4 1475.44 1291.21 1479.01 Q1293.04 1482.55 1296.65 1482.55 Q1300.28 1482.55 1302.09 1479.01 Q1303.92 1475.44 1303.92 1468.33 Q1303.92 1461.2 1302.09 1457.66 Q1300.28 1454.1 1296.65 1454.1 M1296.65 1450.39 Q1302.46 1450.39 1305.51 1455 Q1308.59 1459.58 1308.59 1468.33 Q1308.59 1477.06 1305.51 1481.67 Q1302.46 1486.25 1296.65 1486.25 Q1290.84 1486.25 1287.76 1481.67 Q1284.7 1477.06 1284.7 1468.33 Q1284.7 1459.58 1287.76 1455 Q1290.84 1450.39 1296.65 1450.39 Z\" fill=\"#000000\" fill-rule=\"nonzero\" fill-opacity=\"1\" /><path clip-path=\"url(#clip210)\" d=\"M1762.58 1481.64 L1770.22 1481.64 L1770.22 1455.28 L1761.91 1456.95 L1761.91 1452.69 L1770.17 1451.02 L1774.85 1451.02 L1774.85 1481.64 L1782.49 1481.64 L1782.49 1485.58 L1762.58 1485.58 L1762.58 1481.64 Z\" fill=\"#000000\" fill-rule=\"nonzero\" fill-opacity=\"1\" /><path clip-path=\"url(#clip210)\" d=\"M1791.98 1451.02 L1810.33 1451.02 L1810.33 1454.96 L1796.26 1454.96 L1796.26 1463.43 Q1797.28 1463.08 1798.3 1462.92 Q1799.32 1462.73 1800.33 1462.73 Q1806.12 1462.73 1809.5 1465.9 Q1812.88 1469.08 1812.88 1474.49 Q1812.88 1480.07 1809.41 1483.17 Q1805.94 1486.25 1799.62 1486.25 Q1797.44 1486.25 1795.17 1485.88 Q1792.93 1485.51 1790.52 1484.77 L1790.52 1480.07 Q1792.6 1481.2 1794.82 1481.76 Q1797.05 1482.32 1799.52 1482.32 Q1803.53 1482.32 1805.87 1480.21 Q1808.2 1478.1 1808.2 1474.49 Q1808.2 1470.88 1805.87 1468.77 Q1803.53 1466.67 1799.52 1466.67 Q1797.65 1466.67 1795.77 1467.08 Q1793.92 1467.5 1791.98 1468.38 L1791.98 1451.02 Z\" fill=\"#000000\" fill-rule=\"nonzero\" fill-opacity=\"1\" /><path clip-path=\"url(#clip210)\" d=\"M2270.95 1481.64 L2287.27 1481.64 L2287.27 1485.58 L2265.33 1485.58 L2265.33 1481.64 Q2267.99 1478.89 2272.58 1474.26 Q2277.18 1469.61 2278.36 1468.27 Q2280.61 1465.74 2281.49 1464.01 Q2282.39 1462.25 2282.39 1460.56 Q2282.39 1457.8 2280.45 1456.07 Q2278.52 1454.33 2275.42 1454.33 Q2273.22 1454.33 2270.77 1455.09 Q2268.34 1455.86 2265.56 1457.41 L2265.56 1452.69 Q2268.39 1451.55 2270.84 1450.97 Q2273.29 1450.39 2275.33 1450.39 Q2280.7 1450.39 2283.89 1453.08 Q2287.09 1455.77 2287.09 1460.26 Q2287.09 1462.39 2286.28 1464.31 Q2285.49 1466.2 2283.39 1468.8 Q2282.81 1469.47 2279.7 1472.69 Q2276.6 1475.88 2270.95 1481.64 Z\" fill=\"#000000\" fill-rule=\"nonzero\" fill-opacity=\"1\" /><path clip-path=\"url(#clip210)\" d=\"M2307.09 1454.1 Q2303.48 1454.1 2301.65 1457.66 Q2299.84 1461.2 2299.84 1468.33 Q2299.84 1475.44 2301.65 1479.01 Q2303.48 1482.55 2307.09 1482.55 Q2310.72 1482.55 2312.53 1479.01 Q2314.36 1475.44 2314.36 1468.33 Q2314.36 1461.2 2312.53 1457.66 Q2310.72 1454.1 2307.09 1454.1 M2307.09 1450.39 Q2312.9 1450.39 2315.95 1455 Q2319.03 1459.58 2319.03 1468.33 Q2319.03 1477.06 2315.95 1481.67 Q2312.9 1486.25 2307.09 1486.25 Q2301.28 1486.25 2298.2 1481.67 Q2295.14 1477.06 2295.14 1468.33 Q2295.14 1459.58 2298.2 1455 Q2301.28 1450.39 2307.09 1450.39 Z\" fill=\"#000000\" fill-rule=\"nonzero\" fill-opacity=\"1\" /><path clip-path=\"url(#clip210)\" d=\"M997.631 1520.52 L1007.21 1520.52 L1019.34 1552.86 L1031.53 1520.52 L1041.11 1520.52 L1041.11 1568.04 L1034.84 1568.04 L1034.84 1526.32 L1022.58 1558.91 L1016.12 1558.91 L1003.87 1526.32 L1003.87 1568.04 L997.631 1568.04 L997.631 1520.52 Z\" fill=\"#000000\" fill-rule=\"nonzero\" fill-opacity=\"1\" /><path clip-path=\"url(#clip210)\" d=\"M1069.82 1550.12 Q1062.72 1550.12 1059.98 1551.75 Q1057.25 1553.37 1057.25 1557.29 Q1057.25 1560.4 1059.28 1562.25 Q1061.35 1564.07 1064.88 1564.07 Q1069.75 1564.07 1072.68 1560.63 Q1075.64 1557.16 1075.64 1551.43 L1075.64 1550.12 L1069.82 1550.12 M1081.5 1547.71 L1081.5 1568.04 L1075.64 1568.04 L1075.64 1562.63 Q1073.64 1565.88 1070.65 1567.44 Q1067.65 1568.97 1063.32 1568.97 Q1057.85 1568.97 1054.6 1565.91 Q1051.39 1562.82 1051.39 1557.67 Q1051.39 1551.65 1055.4 1548.6 Q1059.44 1545.54 1067.43 1545.54 L1075.64 1545.54 L1075.64 1544.97 Q1075.64 1540.93 1072.97 1538.73 Q1070.33 1536.5 1065.52 1536.5 Q1062.47 1536.5 1059.57 1537.23 Q1056.67 1537.97 1054 1539.43 L1054 1534.02 Q1057.21 1532.78 1060.24 1532.17 Q1063.26 1531.54 1066.13 1531.54 Q1073.86 1531.54 1077.68 1535.55 Q1081.5 1539.56 1081.5 1547.71 Z\" fill=\"#000000\" fill-rule=\"nonzero\" fill-opacity=\"1\" /><path clip-path=\"url(#clip210)\" d=\"M1117.02 1549.81 Q1117.02 1543.44 1114.38 1539.94 Q1111.77 1536.44 1107.03 1536.44 Q1102.31 1536.44 1099.67 1539.94 Q1097.06 1543.44 1097.06 1549.81 Q1097.06 1556.14 1099.67 1559.64 Q1102.31 1563.14 1107.03 1563.14 Q1111.77 1563.14 1114.38 1559.64 Q1117.02 1556.14 1117.02 1549.81 M1122.88 1563.62 Q1122.88 1572.72 1118.83 1577.15 Q1114.79 1581.6 1106.45 1581.6 Q1103.37 1581.6 1100.63 1581.13 Q1097.89 1580.68 1095.31 1579.72 L1095.31 1574.03 Q1097.89 1575.43 1100.4 1576.1 Q1102.92 1576.76 1105.53 1576.76 Q1111.29 1576.76 1114.15 1573.74 Q1117.02 1570.75 1117.02 1564.67 L1117.02 1561.77 Q1115.21 1564.92 1112.37 1566.48 Q1109.54 1568.04 1105.59 1568.04 Q1099.04 1568.04 1095.03 1563.05 Q1091.02 1558.05 1091.02 1549.81 Q1091.02 1541.53 1095.03 1536.53 Q1099.04 1531.54 1105.59 1531.54 Q1109.54 1531.54 1112.37 1533.1 Q1115.21 1534.66 1117.02 1537.81 L1117.02 1532.4 L1122.88 1532.4 L1122.88 1563.62 Z\" fill=\"#000000\" fill-rule=\"nonzero\" fill-opacity=\"1\" /><path clip-path=\"url(#clip210)\" d=\"M1164.57 1546.53 L1164.57 1568.04 L1158.71 1568.04 L1158.71 1546.72 Q1158.71 1541.66 1156.74 1539.14 Q1154.77 1536.63 1150.82 1536.63 Q1146.08 1536.63 1143.34 1539.65 Q1140.6 1542.68 1140.6 1547.9 L1140.6 1568.04 L1134.72 1568.04 L1134.72 1532.4 L1140.6 1532.4 L1140.6 1537.93 Q1142.71 1534.72 1145.54 1533.13 Q1148.4 1531.54 1152.13 1531.54 Q1158.27 1531.54 1161.42 1535.36 Q1164.57 1539.14 1164.57 1546.53 Z\" fill=\"#000000\" fill-rule=\"nonzero\" fill-opacity=\"1\" /><path clip-path=\"url(#clip210)\" d=\"M1206.74 1548.76 L1206.74 1551.62 L1179.82 1551.62 Q1180.2 1557.67 1183.45 1560.85 Q1186.72 1564 1192.55 1564 Q1195.92 1564 1199.07 1563.17 Q1202.26 1562.35 1205.38 1560.69 L1205.38 1566.23 Q1202.22 1567.57 1198.91 1568.27 Q1195.6 1568.97 1192.2 1568.97 Q1183.67 1568.97 1178.67 1564 Q1173.71 1559.04 1173.71 1550.57 Q1173.71 1541.82 1178.42 1536.69 Q1183.16 1531.54 1191.18 1531.54 Q1198.37 1531.54 1202.54 1536.18 Q1206.74 1540.8 1206.74 1548.76 M1200.89 1547.04 Q1200.82 1542.23 1198.18 1539.37 Q1195.57 1536.5 1191.24 1536.5 Q1186.34 1536.5 1183.38 1539.27 Q1180.45 1542.04 1180.01 1547.07 L1200.89 1547.04 Z\" fill=\"#000000\" fill-rule=\"nonzero\" fill-opacity=\"1\" /><path clip-path=\"url(#clip210)\" d=\"M1222.15 1522.27 L1222.15 1532.4 L1234.21 1532.4 L1234.21 1536.95 L1222.15 1536.95 L1222.15 1556.3 Q1222.15 1560.66 1223.33 1561.9 Q1224.54 1563.14 1228.2 1563.14 L1234.21 1563.14 L1234.21 1568.04 L1228.2 1568.04 Q1221.42 1568.04 1218.84 1565.53 Q1216.26 1562.98 1216.26 1556.3 L1216.26 1536.95 L1211.96 1536.95 L1211.96 1532.4 L1216.26 1532.4 L1216.26 1522.27 L1222.15 1522.27 Z\" fill=\"#000000\" fill-rule=\"nonzero\" fill-opacity=\"1\" /><path clip-path=\"url(#clip210)\" d=\"M1241.91 1532.4 L1247.77 1532.4 L1247.77 1568.04 L1241.91 1568.04 L1241.91 1532.4 M1241.91 1518.52 L1247.77 1518.52 L1247.77 1525.93 L1241.91 1525.93 L1241.91 1518.52 Z\" fill=\"#000000\" fill-rule=\"nonzero\" fill-opacity=\"1\" /><path clip-path=\"url(#clip210)\" d=\"M1285.68 1533.76 L1285.68 1539.24 Q1283.2 1537.87 1280.68 1537.2 Q1278.2 1536.5 1275.65 1536.5 Q1269.96 1536.5 1266.8 1540.13 Q1263.65 1543.73 1263.65 1550.25 Q1263.65 1556.78 1266.8 1560.4 Q1269.96 1564 1275.65 1564 Q1278.2 1564 1280.68 1563.33 Q1283.2 1562.63 1285.68 1561.26 L1285.68 1566.68 Q1283.23 1567.82 1280.59 1568.39 Q1277.98 1568.97 1275.02 1568.97 Q1266.96 1568.97 1262.22 1563.91 Q1257.48 1558.85 1257.48 1550.25 Q1257.48 1541.53 1262.25 1536.53 Q1267.06 1531.54 1275.4 1531.54 Q1278.1 1531.54 1280.68 1532.11 Q1283.26 1532.65 1285.68 1533.76 Z\" fill=\"#000000\" fill-rule=\"nonzero\" fill-opacity=\"1\" /><path clip-path=\"url(#clip210)\" d=\"M1334.63 1518.52 L1334.63 1523.39 L1329.03 1523.39 Q1325.88 1523.39 1324.64 1524.66 Q1323.43 1525.93 1323.43 1529.24 L1323.43 1532.4 L1333.07 1532.4 L1333.07 1536.95 L1323.43 1536.95 L1323.43 1568.04 L1317.54 1568.04 L1317.54 1536.95 L1311.94 1536.95 L1311.94 1532.4 L1317.54 1532.4 L1317.54 1529.91 Q1317.54 1523.96 1320.31 1521.26 Q1323.08 1518.52 1329.09 1518.52 L1334.63 1518.52 Z\" fill=\"#000000\" fill-rule=\"nonzero\" fill-opacity=\"1\" /><path clip-path=\"url(#clip210)\" d=\"M1339.53 1532.4 L1345.39 1532.4 L1345.39 1568.04 L1339.53 1568.04 L1339.53 1532.4 M1339.53 1518.52 L1345.39 1518.52 L1345.39 1525.93 L1339.53 1525.93 L1339.53 1518.52 Z\" fill=\"#000000\" fill-rule=\"nonzero\" fill-opacity=\"1\" /><path clip-path=\"url(#clip210)\" d=\"M1388.13 1548.76 L1388.13 1551.62 L1361.21 1551.62 Q1361.59 1557.67 1364.84 1560.85 Q1368.11 1564 1373.94 1564 Q1377.31 1564 1380.46 1563.17 Q1383.65 1562.35 1386.77 1560.69 L1386.77 1566.23 Q1383.62 1567.57 1380.31 1568.27 Q1376.99 1568.97 1373.59 1568.97 Q1365.06 1568.97 1360.06 1564 Q1355.1 1559.04 1355.1 1550.57 Q1355.1 1541.82 1359.81 1536.69 Q1364.55 1531.54 1372.57 1531.54 Q1379.76 1531.54 1383.93 1536.18 Q1388.13 1540.8 1388.13 1548.76 M1382.28 1547.04 Q1382.21 1542.23 1379.57 1539.37 Q1376.96 1536.5 1372.63 1536.5 Q1367.73 1536.5 1364.77 1539.27 Q1361.84 1542.04 1361.4 1547.07 L1382.28 1547.04 Z\" fill=\"#000000\" fill-rule=\"nonzero\" fill-opacity=\"1\" /><path clip-path=\"url(#clip210)\" d=\"M1397.75 1518.52 L1403.6 1518.52 L1403.6 1568.04 L1397.75 1568.04 L1397.75 1518.52 Z\" fill=\"#000000\" fill-rule=\"nonzero\" fill-opacity=\"1\" /><path clip-path=\"url(#clip210)\" d=\"M1439.32 1537.81 L1439.32 1518.52 L1445.17 1518.52 L1445.17 1568.04 L1439.32 1568.04 L1439.32 1562.7 Q1437.47 1565.88 1434.64 1567.44 Q1431.84 1568.97 1427.89 1568.97 Q1421.43 1568.97 1417.35 1563.81 Q1413.31 1558.65 1413.31 1550.25 Q1413.31 1541.85 1417.35 1536.69 Q1421.43 1531.54 1427.89 1531.54 Q1431.84 1531.54 1434.64 1533.1 Q1437.47 1534.62 1439.32 1537.81 M1419.36 1550.25 Q1419.36 1556.71 1422 1560.4 Q1424.67 1564.07 1429.32 1564.07 Q1433.97 1564.07 1436.64 1560.4 Q1439.32 1556.71 1439.32 1550.25 Q1439.32 1543.79 1436.64 1540.13 Q1433.97 1536.44 1429.32 1536.44 Q1424.67 1536.44 1422 1540.13 Q1419.36 1543.79 1419.36 1550.25 Z\" fill=\"#000000\" fill-rule=\"nonzero\" fill-opacity=\"1\" /><path clip-path=\"url(#clip210)\" d=\"M1492.02 1518.58 Q1487.76 1525.9 1485.69 1533.06 Q1483.62 1540.23 1483.62 1547.58 Q1483.62 1554.93 1485.69 1562.16 Q1487.79 1569.35 1492.02 1576.64 L1486.93 1576.64 Q1482.16 1569.16 1479.77 1561.93 Q1477.41 1554.71 1477.41 1547.58 Q1477.41 1540.48 1479.77 1533.29 Q1482.12 1526.09 1486.93 1518.58 L1492.02 1518.58 Z\" fill=\"#000000\" fill-rule=\"nonzero\" fill-opacity=\"1\" /><path clip-path=\"url(#clip210)\" d=\"M1536.04 1561.26 L1536.04 1548.5 L1525.54 1548.5 L1525.54 1543.22 L1542.41 1543.22 L1542.41 1563.62 Q1538.68 1566.26 1534.2 1567.63 Q1529.71 1568.97 1524.62 1568.97 Q1513.48 1568.97 1507.17 1562.47 Q1500.9 1555.95 1500.9 1544.33 Q1500.9 1532.68 1507.17 1526.19 Q1513.48 1519.66 1524.62 1519.66 Q1529.26 1519.66 1533.43 1520.81 Q1537.63 1521.96 1541.17 1524.18 L1541.17 1531.03 Q1537.6 1528 1533.59 1526.48 Q1529.58 1524.95 1525.16 1524.95 Q1516.44 1524.95 1512.04 1529.82 Q1507.68 1534.69 1507.68 1544.33 Q1507.68 1553.94 1512.04 1558.81 Q1516.44 1563.68 1525.16 1563.68 Q1528.56 1563.68 1531.24 1563.11 Q1533.91 1562.51 1536.04 1561.26 Z\" fill=\"#000000\" fill-rule=\"nonzero\" fill-opacity=\"1\" /><path clip-path=\"url(#clip210)\" d=\"M1552.97 1518.58 L1558.07 1518.58 Q1562.84 1526.09 1565.2 1533.29 Q1567.58 1540.48 1567.58 1547.58 Q1567.58 1554.71 1565.2 1561.93 Q1562.84 1569.16 1558.07 1576.64 L1552.97 1576.64 Q1557.21 1569.35 1559.28 1562.16 Q1561.38 1554.93 1561.38 1547.58 Q1561.38 1540.23 1559.28 1533.06 Q1557.21 1525.9 1552.97 1518.58 Z\" fill=\"#000000\" fill-rule=\"nonzero\" fill-opacity=\"1\" /><polyline clip-path=\"url(#clip212)\" style=\"stroke:#000000; stroke-linecap:round; stroke-linejoin:round; stroke-width:2; stroke-opacity:0.1; fill:none\" points=\"212.459,1185.6 2352.76,1185.6 \"/>\n",
       "<polyline clip-path=\"url(#clip212)\" style=\"stroke:#000000; stroke-linecap:round; stroke-linejoin:round; stroke-width:2; stroke-opacity:0.1; fill:none\" points=\"212.459,910.747 2352.76,910.747 \"/>\n",
       "<polyline clip-path=\"url(#clip212)\" style=\"stroke:#000000; stroke-linecap:round; stroke-linejoin:round; stroke-width:2; stroke-opacity:0.1; fill:none\" points=\"212.459,635.893 2352.76,635.893 \"/>\n",
       "<polyline clip-path=\"url(#clip212)\" style=\"stroke:#000000; stroke-linecap:round; stroke-linejoin:round; stroke-width:2; stroke-opacity:0.1; fill:none\" points=\"212.459,361.04 2352.76,361.04 \"/>\n",
       "<polyline clip-path=\"url(#clip212)\" style=\"stroke:#000000; stroke-linecap:round; stroke-linejoin:round; stroke-width:2; stroke-opacity:0.1; fill:none\" points=\"212.459,86.1861 2352.76,86.1861 \"/>\n",
       "<polyline clip-path=\"url(#clip210)\" style=\"stroke:#000000; stroke-linecap:round; stroke-linejoin:round; stroke-width:4; stroke-opacity:1; fill:none\" points=\"212.459,1423.18 212.459,47.2441 \"/>\n",
       "<polyline clip-path=\"url(#clip210)\" style=\"stroke:#000000; stroke-linecap:round; stroke-linejoin:round; stroke-width:4; stroke-opacity:1; fill:none\" points=\"2352.76,1423.18 2352.76,47.2441 \"/>\n",
       "<polyline clip-path=\"url(#clip210)\" style=\"stroke:#000000; stroke-linecap:round; stroke-linejoin:round; stroke-width:4; stroke-opacity:1; fill:none\" points=\"212.459,1185.6 231.357,1185.6 \"/>\n",
       "<polyline clip-path=\"url(#clip210)\" style=\"stroke:#000000; stroke-linecap:round; stroke-linejoin:round; stroke-width:4; stroke-opacity:1; fill:none\" points=\"212.459,910.747 231.357,910.747 \"/>\n",
       "<polyline clip-path=\"url(#clip210)\" style=\"stroke:#000000; stroke-linecap:round; stroke-linejoin:round; stroke-width:4; stroke-opacity:1; fill:none\" points=\"212.459,635.893 231.357,635.893 \"/>\n",
       "<polyline clip-path=\"url(#clip210)\" style=\"stroke:#000000; stroke-linecap:round; stroke-linejoin:round; stroke-width:4; stroke-opacity:1; fill:none\" points=\"212.459,361.04 231.357,361.04 \"/>\n",
       "<polyline clip-path=\"url(#clip210)\" style=\"stroke:#000000; stroke-linecap:round; stroke-linejoin:round; stroke-width:4; stroke-opacity:1; fill:none\" points=\"212.459,86.1861 231.357,86.1861 \"/>\n",
       "<path clip-path=\"url(#clip210)\" d=\"M114.26 1186.05 L143.936 1186.05 L143.936 1189.99 L114.26 1189.99 L114.26 1186.05 Z\" fill=\"#000000\" fill-rule=\"nonzero\" fill-opacity=\"1\" /><path clip-path=\"url(#clip210)\" d=\"M166.876 1172.39 L155.07 1190.84 L166.876 1190.84 L166.876 1172.39 M165.649 1168.32 L171.528 1168.32 L171.528 1190.84 L176.459 1190.84 L176.459 1194.73 L171.528 1194.73 L171.528 1202.88 L166.876 1202.88 L166.876 1194.73 L151.274 1194.73 L151.274 1190.22 L165.649 1168.32 Z\" fill=\"#000000\" fill-rule=\"nonzero\" fill-opacity=\"1\" /><path clip-path=\"url(#clip210)\" d=\"M115.394 911.198 L145.07 911.198 L145.07 915.134 L115.394 915.134 L115.394 911.198 Z\" fill=\"#000000\" fill-rule=\"nonzero\" fill-opacity=\"1\" /><path clip-path=\"url(#clip210)\" d=\"M169.329 909.393 Q172.686 910.11 174.561 912.379 Q176.459 914.647 176.459 917.981 Q176.459 923.096 172.94 925.897 Q169.422 928.698 162.94 928.698 Q160.765 928.698 158.45 928.258 Q156.158 927.842 153.704 926.985 L153.704 922.471 Q155.649 923.606 157.964 924.184 Q160.278 924.763 162.802 924.763 Q167.2 924.763 169.491 923.027 Q171.806 921.291 171.806 917.981 Q171.806 914.925 169.653 913.212 Q167.524 911.476 163.704 911.476 L159.677 911.476 L159.677 907.634 L163.89 907.634 Q167.339 907.634 169.167 906.268 Q170.996 904.879 170.996 902.286 Q170.996 899.624 169.098 898.212 Q167.223 896.777 163.704 896.777 Q161.783 896.777 159.584 897.194 Q157.385 897.61 154.746 898.49 L154.746 894.323 Q157.408 893.583 159.723 893.212 Q162.061 892.842 164.121 892.842 Q169.445 892.842 172.547 895.273 Q175.649 897.68 175.649 901.8 Q175.649 904.671 174.005 906.661 Q172.362 908.629 169.329 909.393 Z\" fill=\"#000000\" fill-rule=\"nonzero\" fill-opacity=\"1\" /><path clip-path=\"url(#clip210)\" d=\"M116.343 636.345 L146.019 636.345 L146.019 640.28 L116.343 640.28 L116.343 636.345 Z\" fill=\"#000000\" fill-rule=\"nonzero\" fill-opacity=\"1\" /><path clip-path=\"url(#clip210)\" d=\"M160.14 649.238 L176.459 649.238 L176.459 653.173 L154.515 653.173 L154.515 649.238 Q157.177 646.484 161.76 641.854 Q166.366 637.201 167.547 635.859 Q169.792 633.335 170.672 631.599 Q171.575 629.84 171.575 628.15 Q171.575 625.396 169.63 623.66 Q167.709 621.924 164.607 621.924 Q162.408 621.924 159.954 622.687 Q157.524 623.451 154.746 625.002 L154.746 620.28 Q157.57 619.146 160.024 618.567 Q162.477 617.988 164.515 617.988 Q169.885 617.988 173.079 620.674 Q176.274 623.359 176.274 627.849 Q176.274 629.979 175.464 631.9 Q174.677 633.798 172.57 636.391 Q171.991 637.062 168.889 640.28 Q165.788 643.474 160.14 649.238 Z\" fill=\"#000000\" fill-rule=\"nonzero\" fill-opacity=\"1\" /><path clip-path=\"url(#clip210)\" d=\"M115.973 361.491 L145.649 361.491 L145.649 365.426 L115.973 365.426 L115.973 361.491 Z\" fill=\"#000000\" fill-rule=\"nonzero\" fill-opacity=\"1\" /><path clip-path=\"url(#clip210)\" d=\"M156.552 374.385 L164.19 374.385 L164.19 348.019 L155.88 349.686 L155.88 345.426 L164.144 343.76 L168.82 343.76 L168.82 374.385 L176.459 374.385 L176.459 378.32 L156.552 378.32 L156.552 374.385 Z\" fill=\"#000000\" fill-rule=\"nonzero\" fill-opacity=\"1\" /><path clip-path=\"url(#clip210)\" d=\"M164.515 71.9848 Q160.903 71.9848 159.075 75.5496 Q157.269 79.0912 157.269 86.2208 Q157.269 93.3273 159.075 96.8921 Q160.903 100.434 164.515 100.434 Q168.149 100.434 169.954 96.8921 Q171.783 93.3273 171.783 86.2208 Q171.783 79.0912 169.954 75.5496 Q168.149 71.9848 164.515 71.9848 M164.515 68.2811 Q170.325 68.2811 173.38 72.8876 Q176.459 77.4709 176.459 86.2208 Q176.459 94.9476 173.38 99.5541 Q170.325 104.137 164.515 104.137 Q158.704 104.137 155.626 99.5541 Q152.57 94.9476 152.57 86.2208 Q152.57 77.4709 155.626 72.8876 Q158.704 68.2811 164.515 68.2811 Z\" fill=\"#000000\" fill-rule=\"nonzero\" fill-opacity=\"1\" /><path clip-path=\"url(#clip210)\" d=\"M46.0847 905.463 Q46.0847 912.561 47.7079 915.298 Q49.3312 918.035 53.2461 918.035 Q56.3653 918.035 58.2114 915.998 Q60.0256 913.929 60.0256 910.396 Q60.0256 905.526 56.5881 902.598 Q53.1188 899.638 47.3897 899.638 L46.0847 899.638 L46.0847 905.463 M43.6657 893.782 L64.0042 893.782 L64.0042 899.638 L58.5933 899.638 Q61.8398 901.643 63.3994 904.635 Q64.9272 907.627 64.9272 911.956 Q64.9272 917.43 61.8716 920.677 Q58.7843 923.892 53.6281 923.892 Q47.6125 923.892 44.5569 919.881 Q41.5014 915.839 41.5014 907.85 L41.5014 899.638 L40.9285 899.638 Q36.8862 899.638 34.6901 902.312 Q32.4621 904.954 32.4621 909.76 Q32.4621 912.815 33.1941 915.712 Q33.9262 918.608 35.3903 921.282 L29.9795 921.282 Q28.7381 918.067 28.1334 915.043 Q27.4968 912.019 27.4968 909.155 Q27.4968 901.421 31.5072 897.601 Q35.5176 893.782 43.6657 893.782 Z\" fill=\"#000000\" fill-rule=\"nonzero\" fill-opacity=\"1\" /><path clip-path=\"url(#clip210)\" d=\"M14.5426 846.93 Q21.8632 851.195 29.0246 853.264 Q36.186 855.333 43.5384 855.333 Q50.8908 855.333 58.1159 853.264 Q65.3091 851.163 72.5979 846.93 L72.5979 852.023 Q65.1182 856.797 57.8931 859.184 Q50.668 861.539 43.5384 861.539 Q36.4406 861.539 29.2474 859.184 Q22.0542 856.829 14.5426 852.023 L14.5426 846.93 Z\" fill=\"#000000\" fill-rule=\"nonzero\" fill-opacity=\"1\" /><path clip-path=\"url(#clip210)\" d=\"M58.5933 833.626 L58.5933 823.122 L22.3406 823.122 L24.6323 834.549 L18.7758 834.549 L16.4842 823.186 L16.4842 816.757 L58.5933 816.757 L58.5933 806.253 L64.0042 806.253 L64.0042 833.626 L58.5933 833.626 Z\" fill=\"#000000\" fill-rule=\"nonzero\" fill-opacity=\"1\" /><path clip-path=\"url(#clip210)\" d=\"M20.7174 779.517 Q20.7174 784.483 25.6189 786.997 Q30.4887 789.48 40.2919 789.48 Q50.0633 789.48 54.9649 786.997 Q59.8346 784.483 59.8346 779.517 Q59.8346 774.52 54.9649 772.038 Q50.0633 769.523 40.2919 769.523 Q30.4887 769.523 25.6189 772.038 Q20.7174 774.52 20.7174 779.517 M15.6248 779.517 Q15.6248 771.528 21.9587 767.327 Q28.2607 763.094 40.2919 763.094 Q52.2913 763.094 58.6251 767.327 Q64.9272 771.528 64.9272 779.517 Q64.9272 787.506 58.6251 791.739 Q52.2913 795.941 40.2919 795.941 Q28.2607 795.941 21.9587 791.739 Q15.6248 787.506 15.6248 779.517 Z\" fill=\"#000000\" fill-rule=\"nonzero\" fill-opacity=\"1\" /><path clip-path=\"url(#clip210)\" d=\"M28.3562 742.087 Q28.9291 739.159 30.6797 737.567 Q32.3984 735.944 35.0084 735.944 Q38.9551 735.944 41.0876 738.968 Q43.2201 741.991 43.2201 747.625 Q43.2201 749.439 42.9018 751.445 Q42.5517 753.418 41.9152 755.646 L38.0639 755.646 Q38.9233 753.991 39.337 752.113 Q39.7508 750.203 39.7508 748.071 Q39.7508 744.601 38.5095 742.692 Q37.2364 740.782 35.0084 740.782 Q32.6531 740.782 31.4436 742.564 Q30.2341 744.315 30.2341 747.752 L30.2341 750.49 L26.7966 750.49 L26.7966 747.498 Q26.7966 744.506 25.8099 742.978 Q24.7914 741.419 22.8817 741.419 Q21.0356 741.419 20.0808 743.01 Q19.0941 744.601 19.0941 747.625 Q19.0941 748.898 19.3806 750.521 Q19.667 752.145 20.3991 754.723 L16.7388 754.723 Q16.1977 752.399 15.9112 750.362 Q15.6248 748.325 15.6248 746.575 Q15.6248 741.991 17.5027 739.318 Q19.3806 736.612 22.5316 736.612 Q24.7277 736.612 26.2555 738.045 Q27.7833 739.477 28.3562 742.087 Z\" fill=\"#000000\" fill-rule=\"nonzero\" fill-opacity=\"1\" /><path clip-path=\"url(#clip210)\" d=\"M35.1993 678.016 Q31.2526 675.82 29.3747 672.764 Q27.4968 669.709 27.4968 665.571 Q27.4968 660.001 31.4117 656.977 Q35.2948 653.954 42.4881 653.954 L64.0042 653.954 L64.0042 659.842 L42.679 659.842 Q37.5546 659.842 35.072 661.656 Q32.5894 663.47 32.5894 667.194 Q32.5894 671.746 35.6131 674.388 Q38.6368 677.029 43.8567 677.029 L64.0042 677.029 L64.0042 682.918 L42.679 682.918 Q37.5228 682.918 35.072 684.732 Q32.5894 686.546 32.5894 690.334 Q32.5894 694.822 35.6449 697.463 Q38.6686 700.105 43.8567 700.105 L64.0042 700.105 L64.0042 705.993 L28.3562 705.993 L28.3562 700.105 L33.8944 700.105 Q30.616 698.1 29.0564 695.299 Q27.4968 692.498 27.4968 688.647 Q27.4968 684.764 29.4702 682.058 Q31.4436 679.321 35.1993 678.016 Z\" fill=\"#000000\" fill-rule=\"nonzero\" fill-opacity=\"1\" /><path clip-path=\"url(#clip210)\" d=\"M16.4842 631.865 L16.4842 626.454 L70.0516 643.005 L70.0516 648.416 L16.4842 631.865 Z\" fill=\"#000000\" fill-rule=\"nonzero\" fill-opacity=\"1\" /><path clip-path=\"url(#clip210)\" d=\"M29.4065 597.585 L34.9447 597.585 Q33.6716 600.068 33.035 602.742 Q32.3984 605.415 32.3984 608.28 Q32.3984 612.64 33.7352 614.836 Q35.072 617.001 37.7456 617.001 Q39.7826 617.001 40.9603 615.441 Q42.1061 613.882 43.1565 609.171 L43.6021 607.166 Q44.9389 600.927 47.3897 598.317 Q49.8086 595.676 54.1691 595.676 Q59.1344 595.676 62.0308 599.622 Q64.9272 603.537 64.9272 610.412 Q64.9272 613.277 64.3543 616.396 Q63.8132 619.483 62.6992 622.921 L56.6518 622.921 Q58.3387 619.674 59.198 616.523 Q60.0256 613.372 60.0256 610.285 Q60.0256 606.147 58.6251 603.919 Q57.1929 601.691 54.6147 601.691 Q52.2276 601.691 50.9545 603.315 Q49.6813 604.906 48.5037 610.349 L48.0262 612.386 Q46.8804 617.828 44.5251 620.247 Q42.138 622.666 38.0002 622.666 Q32.9713 622.666 30.2341 619.101 Q27.4968 615.537 27.4968 608.98 Q27.4968 605.733 27.9743 602.869 Q28.4517 600.004 29.4065 597.585 Z\" fill=\"#000000\" fill-rule=\"nonzero\" fill-opacity=\"1\" /><path clip-path=\"url(#clip210)\" d=\"M39.1142 583.963 L39.1142 570.467 L42.7427 570.467 L42.7427 589.501 L39.2416 589.501 Q38.2549 588.419 36.4725 586.414 Q26.7648 575.465 23.7729 575.465 Q21.6722 575.465 20.3991 577.12 Q19.0941 578.775 19.0941 581.48 Q19.0941 583.135 19.667 585.077 Q20.2081 587.018 21.3221 589.31 L17.4072 589.31 Q16.516 586.859 16.0704 584.758 Q15.6248 582.626 15.6248 580.812 Q15.6248 576.197 17.7255 573.428 Q19.8262 570.658 23.2636 570.658 Q27.6878 570.658 36.7271 581.194 Q38.2549 582.976 39.1142 583.963 Z\" fill=\"#000000\" fill-rule=\"nonzero\" fill-opacity=\"1\" /><path clip-path=\"url(#clip210)\" d=\"M14.5426 561.142 L14.5426 556.049 Q22.0542 551.275 29.2474 548.92 Q36.4406 546.532 43.5384 546.532 Q50.668 546.532 57.8931 548.92 Q65.1182 551.275 72.5979 556.049 L72.5979 561.142 Q65.3091 556.909 58.1159 554.84 Q50.8908 552.739 43.5384 552.739 Q36.186 552.739 29.0246 554.84 Q21.8632 556.909 14.5426 561.142 Z\" fill=\"#000000\" fill-rule=\"nonzero\" fill-opacity=\"1\" /><polyline clip-path=\"url(#clip212)\" style=\"stroke:#009af9; stroke-linecap:round; stroke-linejoin:round; stroke-width:10; stroke-opacity:1; fill:none\" points=\"273.033,86.1857 497.383,924.858 721.733,1384.24 946.083,1265.41 1170.43,1098.05 1394.78,845.892 1619.13,636.097 1843.48,485.658 2067.83,381.676 2292.18,309.124 \"/>\n",
       "<path clip-path=\"url(#clip210)\" d=\"M2014.95 1377.32 L2281.41 1377.32 L2281.41 1273.64 L2014.95 1273.64  Z\" fill=\"#ffffff\" fill-rule=\"evenodd\" fill-opacity=\"1\"/>\n",
       "<polyline clip-path=\"url(#clip210)\" style=\"stroke:#000000; stroke-linecap:round; stroke-linejoin:round; stroke-width:4; stroke-opacity:1; fill:none\" points=\"2014.95,1377.32 2281.41,1377.32 2281.41,1273.64 2014.95,1273.64 2014.95,1377.32 \"/>\n",
       "<polyline clip-path=\"url(#clip210)\" style=\"stroke:#009af9; stroke-linecap:round; stroke-linejoin:round; stroke-width:10; stroke-opacity:1; fill:none\" points=\"2038.73,1325.48 2181.42,1325.48 \"/>\n",
       "<path clip-path=\"url(#clip210)\" d=\"M2219.04 1345.16 Q2217.24 1349.79 2215.53 1351.2 Q2213.81 1352.62 2210.94 1352.62 L2207.54 1352.62 L2207.54 1349.05 L2210.04 1349.05 Q2211.8 1349.05 2212.77 1348.22 Q2213.74 1347.38 2214.92 1344.28 L2215.69 1342.34 L2205.2 1316.83 L2209.72 1316.83 L2217.82 1337.11 L2225.92 1316.83 L2230.43 1316.83 L2219.04 1345.16 Z\" fill=\"#000000\" fill-rule=\"nonzero\" fill-opacity=\"1\" /><path clip-path=\"url(#clip210)\" d=\"M2237.72 1338.82 L2245.36 1338.82 L2245.36 1312.45 L2237.05 1314.12 L2237.05 1309.86 L2245.32 1308.2 L2249.99 1308.2 L2249.99 1338.82 L2257.63 1338.82 L2257.63 1342.76 L2237.72 1342.76 L2237.72 1338.82 Z\" fill=\"#000000\" fill-rule=\"nonzero\" fill-opacity=\"1\" /></svg>\n"
      ],
      "text/html": [
       "<?xml version=\"1.0\" encoding=\"utf-8\"?>\n",
       "<svg xmlns=\"http://www.w3.org/2000/svg\" xmlns:xlink=\"http://www.w3.org/1999/xlink\" width=\"600\" height=\"400\" viewBox=\"0 0 2400 1600\">\n",
       "<defs>\n",
       "  <clipPath id=\"clip260\">\n",
       "    <rect x=\"0\" y=\"0\" width=\"2400\" height=\"1600\"/>\n",
       "  </clipPath>\n",
       "</defs>\n",
       "<path clip-path=\"url(#clip260)\" d=\"M0 1600 L2400 1600 L2400 0 L0 0  Z\" fill=\"#ffffff\" fill-rule=\"evenodd\" fill-opacity=\"1\"/>\n",
       "<defs>\n",
       "  <clipPath id=\"clip261\">\n",
       "    <rect x=\"480\" y=\"0\" width=\"1681\" height=\"1600\"/>\n",
       "  </clipPath>\n",
       "</defs>\n",
       "<path clip-path=\"url(#clip260)\" d=\"M212.459 1423.18 L2352.76 1423.18 L2352.76 47.2441 L212.459 47.2441  Z\" fill=\"#ffffff\" fill-rule=\"evenodd\" fill-opacity=\"1\"/>\n",
       "<defs>\n",
       "  <clipPath id=\"clip262\">\n",
       "    <rect x=\"212\" y=\"47\" width=\"2141\" height=\"1377\"/>\n",
       "  </clipPath>\n",
       "</defs>\n",
       "<polyline clip-path=\"url(#clip262)\" style=\"stroke:#000000; stroke-linecap:round; stroke-linejoin:round; stroke-width:2; stroke-opacity:0.1; fill:none\" points=\"273.033,1423.18 273.033,47.2441 \"/>\n",
       "<polyline clip-path=\"url(#clip262)\" style=\"stroke:#000000; stroke-linecap:round; stroke-linejoin:round; stroke-width:2; stroke-opacity:0.1; fill:none\" points=\"777.82,1423.18 777.82,47.2441 \"/>\n",
       "<polyline clip-path=\"url(#clip262)\" style=\"stroke:#000000; stroke-linecap:round; stroke-linejoin:round; stroke-width:2; stroke-opacity:0.1; fill:none\" points=\"1282.61,1423.18 1282.61,47.2441 \"/>\n",
       "<polyline clip-path=\"url(#clip262)\" style=\"stroke:#000000; stroke-linecap:round; stroke-linejoin:round; stroke-width:2; stroke-opacity:0.1; fill:none\" points=\"1787.39,1423.18 1787.39,47.2441 \"/>\n",
       "<polyline clip-path=\"url(#clip262)\" style=\"stroke:#000000; stroke-linecap:round; stroke-linejoin:round; stroke-width:2; stroke-opacity:0.1; fill:none\" points=\"2292.18,1423.18 2292.18,47.2441 \"/>\n",
       "<polyline clip-path=\"url(#clip260)\" style=\"stroke:#000000; stroke-linecap:round; stroke-linejoin:round; stroke-width:4; stroke-opacity:1; fill:none\" points=\"212.459,1423.18 2352.76,1423.18 \"/>\n",
       "<polyline clip-path=\"url(#clip260)\" style=\"stroke:#000000; stroke-linecap:round; stroke-linejoin:round; stroke-width:4; stroke-opacity:1; fill:none\" points=\"212.459,47.2441 2352.76,47.2441 \"/>\n",
       "<polyline clip-path=\"url(#clip260)\" style=\"stroke:#000000; stroke-linecap:round; stroke-linejoin:round; stroke-width:4; stroke-opacity:1; fill:none\" points=\"273.033,1423.18 273.033,1404.28 \"/>\n",
       "<polyline clip-path=\"url(#clip260)\" style=\"stroke:#000000; stroke-linecap:round; stroke-linejoin:round; stroke-width:4; stroke-opacity:1; fill:none\" points=\"777.82,1423.18 777.82,1404.28 \"/>\n",
       "<polyline clip-path=\"url(#clip260)\" style=\"stroke:#000000; stroke-linecap:round; stroke-linejoin:round; stroke-width:4; stroke-opacity:1; fill:none\" points=\"1282.61,1423.18 1282.61,1404.28 \"/>\n",
       "<polyline clip-path=\"url(#clip260)\" style=\"stroke:#000000; stroke-linecap:round; stroke-linejoin:round; stroke-width:4; stroke-opacity:1; fill:none\" points=\"1787.39,1423.18 1787.39,1404.28 \"/>\n",
       "<polyline clip-path=\"url(#clip260)\" style=\"stroke:#000000; stroke-linecap:round; stroke-linejoin:round; stroke-width:4; stroke-opacity:1; fill:none\" points=\"2292.18,1423.18 2292.18,1404.28 \"/>\n",
       "<path clip-path=\"url(#clip260)\" d=\"M273.033 1454.1 Q269.422 1454.1 267.594 1457.66 Q265.788 1461.2 265.788 1468.33 Q265.788 1475.44 267.594 1479.01 Q269.422 1482.55 273.033 1482.55 Q276.668 1482.55 278.473 1479.01 Q280.302 1475.44 280.302 1468.33 Q280.302 1461.2 278.473 1457.66 Q276.668 1454.1 273.033 1454.1 M273.033 1450.39 Q278.843 1450.39 281.899 1455 Q284.978 1459.58 284.978 1468.33 Q284.978 1477.06 281.899 1481.67 Q278.843 1486.25 273.033 1486.25 Q267.223 1486.25 264.145 1481.67 Q261.089 1477.06 261.089 1468.33 Q261.089 1459.58 264.145 1455 Q267.223 1450.39 273.033 1450.39 Z\" fill=\"#000000\" fill-rule=\"nonzero\" fill-opacity=\"1\" /><path clip-path=\"url(#clip260)\" d=\"M768.098 1451.02 L786.455 1451.02 L786.455 1454.96 L772.381 1454.96 L772.381 1463.43 Q773.399 1463.08 774.418 1462.92 Q775.436 1462.73 776.455 1462.73 Q782.242 1462.73 785.621 1465.9 Q789.001 1469.08 789.001 1474.49 Q789.001 1480.07 785.529 1483.17 Q782.056 1486.25 775.737 1486.25 Q773.561 1486.25 771.293 1485.88 Q769.047 1485.51 766.64 1484.77 L766.64 1480.07 Q768.723 1481.2 770.945 1481.76 Q773.168 1482.32 775.644 1482.32 Q779.649 1482.32 781.987 1480.21 Q784.325 1478.1 784.325 1474.49 Q784.325 1470.88 781.987 1468.77 Q779.649 1466.67 775.644 1466.67 Q773.769 1466.67 771.894 1467.08 Q770.043 1467.5 768.098 1468.38 L768.098 1451.02 Z\" fill=\"#000000\" fill-rule=\"nonzero\" fill-opacity=\"1\" /><path clip-path=\"url(#clip260)\" d=\"M1257.3 1481.64 L1264.93 1481.64 L1264.93 1455.28 L1256.62 1456.95 L1256.62 1452.69 L1264.89 1451.02 L1269.56 1451.02 L1269.56 1481.64 L1277.2 1481.64 L1277.2 1485.58 L1257.3 1485.58 L1257.3 1481.64 Z\" fill=\"#000000\" fill-rule=\"nonzero\" fill-opacity=\"1\" /><path clip-path=\"url(#clip260)\" d=\"M1296.65 1454.1 Q1293.04 1454.1 1291.21 1457.66 Q1289.4 1461.2 1289.4 1468.33 Q1289.4 1475.44 1291.21 1479.01 Q1293.04 1482.55 1296.65 1482.55 Q1300.28 1482.55 1302.09 1479.01 Q1303.92 1475.44 1303.92 1468.33 Q1303.92 1461.2 1302.09 1457.66 Q1300.28 1454.1 1296.65 1454.1 M1296.65 1450.39 Q1302.46 1450.39 1305.51 1455 Q1308.59 1459.58 1308.59 1468.33 Q1308.59 1477.06 1305.51 1481.67 Q1302.46 1486.25 1296.65 1486.25 Q1290.84 1486.25 1287.76 1481.67 Q1284.7 1477.06 1284.7 1468.33 Q1284.7 1459.58 1287.76 1455 Q1290.84 1450.39 1296.65 1450.39 Z\" fill=\"#000000\" fill-rule=\"nonzero\" fill-opacity=\"1\" /><path clip-path=\"url(#clip260)\" d=\"M1762.58 1481.64 L1770.22 1481.64 L1770.22 1455.28 L1761.91 1456.95 L1761.91 1452.69 L1770.17 1451.02 L1774.85 1451.02 L1774.85 1481.64 L1782.49 1481.64 L1782.49 1485.58 L1762.58 1485.58 L1762.58 1481.64 Z\" fill=\"#000000\" fill-rule=\"nonzero\" fill-opacity=\"1\" /><path clip-path=\"url(#clip260)\" d=\"M1791.98 1451.02 L1810.33 1451.02 L1810.33 1454.96 L1796.26 1454.96 L1796.26 1463.43 Q1797.28 1463.08 1798.3 1462.92 Q1799.32 1462.73 1800.33 1462.73 Q1806.12 1462.73 1809.5 1465.9 Q1812.88 1469.08 1812.88 1474.49 Q1812.88 1480.07 1809.41 1483.17 Q1805.94 1486.25 1799.62 1486.25 Q1797.44 1486.25 1795.17 1485.88 Q1792.93 1485.51 1790.52 1484.77 L1790.52 1480.07 Q1792.6 1481.2 1794.82 1481.76 Q1797.05 1482.32 1799.52 1482.32 Q1803.53 1482.32 1805.87 1480.21 Q1808.2 1478.1 1808.2 1474.49 Q1808.2 1470.88 1805.87 1468.77 Q1803.53 1466.67 1799.52 1466.67 Q1797.65 1466.67 1795.77 1467.08 Q1793.92 1467.5 1791.98 1468.38 L1791.98 1451.02 Z\" fill=\"#000000\" fill-rule=\"nonzero\" fill-opacity=\"1\" /><path clip-path=\"url(#clip260)\" d=\"M2270.95 1481.64 L2287.27 1481.64 L2287.27 1485.58 L2265.33 1485.58 L2265.33 1481.64 Q2267.99 1478.89 2272.58 1474.26 Q2277.18 1469.61 2278.36 1468.27 Q2280.61 1465.74 2281.49 1464.01 Q2282.39 1462.25 2282.39 1460.56 Q2282.39 1457.8 2280.45 1456.07 Q2278.52 1454.33 2275.42 1454.33 Q2273.22 1454.33 2270.77 1455.09 Q2268.34 1455.86 2265.56 1457.41 L2265.56 1452.69 Q2268.39 1451.55 2270.84 1450.97 Q2273.29 1450.39 2275.33 1450.39 Q2280.7 1450.39 2283.89 1453.08 Q2287.09 1455.77 2287.09 1460.26 Q2287.09 1462.39 2286.28 1464.31 Q2285.49 1466.2 2283.39 1468.8 Q2282.81 1469.47 2279.7 1472.69 Q2276.6 1475.88 2270.95 1481.64 Z\" fill=\"#000000\" fill-rule=\"nonzero\" fill-opacity=\"1\" /><path clip-path=\"url(#clip260)\" d=\"M2307.09 1454.1 Q2303.48 1454.1 2301.65 1457.66 Q2299.84 1461.2 2299.84 1468.33 Q2299.84 1475.44 2301.65 1479.01 Q2303.48 1482.55 2307.09 1482.55 Q2310.72 1482.55 2312.53 1479.01 Q2314.36 1475.44 2314.36 1468.33 Q2314.36 1461.2 2312.53 1457.66 Q2310.72 1454.1 2307.09 1454.1 M2307.09 1450.39 Q2312.9 1450.39 2315.95 1455 Q2319.03 1459.58 2319.03 1468.33 Q2319.03 1477.06 2315.95 1481.67 Q2312.9 1486.25 2307.09 1486.25 Q2301.28 1486.25 2298.2 1481.67 Q2295.14 1477.06 2295.14 1468.33 Q2295.14 1459.58 2298.2 1455 Q2301.28 1450.39 2307.09 1450.39 Z\" fill=\"#000000\" fill-rule=\"nonzero\" fill-opacity=\"1\" /><path clip-path=\"url(#clip260)\" d=\"M997.631 1520.52 L1007.21 1520.52 L1019.34 1552.86 L1031.53 1520.52 L1041.11 1520.52 L1041.11 1568.04 L1034.84 1568.04 L1034.84 1526.32 L1022.58 1558.91 L1016.12 1558.91 L1003.87 1526.32 L1003.87 1568.04 L997.631 1568.04 L997.631 1520.52 Z\" fill=\"#000000\" fill-rule=\"nonzero\" fill-opacity=\"1\" /><path clip-path=\"url(#clip260)\" d=\"M1069.82 1550.12 Q1062.72 1550.12 1059.98 1551.75 Q1057.25 1553.37 1057.25 1557.29 Q1057.25 1560.4 1059.28 1562.25 Q1061.35 1564.07 1064.88 1564.07 Q1069.75 1564.07 1072.68 1560.63 Q1075.64 1557.16 1075.64 1551.43 L1075.64 1550.12 L1069.82 1550.12 M1081.5 1547.71 L1081.5 1568.04 L1075.64 1568.04 L1075.64 1562.63 Q1073.64 1565.88 1070.65 1567.44 Q1067.65 1568.97 1063.32 1568.97 Q1057.85 1568.97 1054.6 1565.91 Q1051.39 1562.82 1051.39 1557.67 Q1051.39 1551.65 1055.4 1548.6 Q1059.44 1545.54 1067.43 1545.54 L1075.64 1545.54 L1075.64 1544.97 Q1075.64 1540.93 1072.97 1538.73 Q1070.33 1536.5 1065.52 1536.5 Q1062.47 1536.5 1059.57 1537.23 Q1056.67 1537.97 1054 1539.43 L1054 1534.02 Q1057.21 1532.78 1060.24 1532.17 Q1063.26 1531.54 1066.13 1531.54 Q1073.86 1531.54 1077.68 1535.55 Q1081.5 1539.56 1081.5 1547.71 Z\" fill=\"#000000\" fill-rule=\"nonzero\" fill-opacity=\"1\" /><path clip-path=\"url(#clip260)\" d=\"M1117.02 1549.81 Q1117.02 1543.44 1114.38 1539.94 Q1111.77 1536.44 1107.03 1536.44 Q1102.31 1536.44 1099.67 1539.94 Q1097.06 1543.44 1097.06 1549.81 Q1097.06 1556.14 1099.67 1559.64 Q1102.31 1563.14 1107.03 1563.14 Q1111.77 1563.14 1114.38 1559.64 Q1117.02 1556.14 1117.02 1549.81 M1122.88 1563.62 Q1122.88 1572.72 1118.83 1577.15 Q1114.79 1581.6 1106.45 1581.6 Q1103.37 1581.6 1100.63 1581.13 Q1097.89 1580.68 1095.31 1579.72 L1095.31 1574.03 Q1097.89 1575.43 1100.4 1576.1 Q1102.92 1576.76 1105.53 1576.76 Q1111.29 1576.76 1114.15 1573.74 Q1117.02 1570.75 1117.02 1564.67 L1117.02 1561.77 Q1115.21 1564.92 1112.37 1566.48 Q1109.54 1568.04 1105.59 1568.04 Q1099.04 1568.04 1095.03 1563.05 Q1091.02 1558.05 1091.02 1549.81 Q1091.02 1541.53 1095.03 1536.53 Q1099.04 1531.54 1105.59 1531.54 Q1109.54 1531.54 1112.37 1533.1 Q1115.21 1534.66 1117.02 1537.81 L1117.02 1532.4 L1122.88 1532.4 L1122.88 1563.62 Z\" fill=\"#000000\" fill-rule=\"nonzero\" fill-opacity=\"1\" /><path clip-path=\"url(#clip260)\" d=\"M1164.57 1546.53 L1164.57 1568.04 L1158.71 1568.04 L1158.71 1546.72 Q1158.71 1541.66 1156.74 1539.14 Q1154.77 1536.63 1150.82 1536.63 Q1146.08 1536.63 1143.34 1539.65 Q1140.6 1542.68 1140.6 1547.9 L1140.6 1568.04 L1134.72 1568.04 L1134.72 1532.4 L1140.6 1532.4 L1140.6 1537.93 Q1142.71 1534.72 1145.54 1533.13 Q1148.4 1531.54 1152.13 1531.54 Q1158.27 1531.54 1161.42 1535.36 Q1164.57 1539.14 1164.57 1546.53 Z\" fill=\"#000000\" fill-rule=\"nonzero\" fill-opacity=\"1\" /><path clip-path=\"url(#clip260)\" d=\"M1206.74 1548.76 L1206.74 1551.62 L1179.82 1551.62 Q1180.2 1557.67 1183.45 1560.85 Q1186.72 1564 1192.55 1564 Q1195.92 1564 1199.07 1563.17 Q1202.26 1562.35 1205.38 1560.69 L1205.38 1566.23 Q1202.22 1567.57 1198.91 1568.27 Q1195.6 1568.97 1192.2 1568.97 Q1183.67 1568.97 1178.67 1564 Q1173.71 1559.04 1173.71 1550.57 Q1173.71 1541.82 1178.42 1536.69 Q1183.16 1531.54 1191.18 1531.54 Q1198.37 1531.54 1202.54 1536.18 Q1206.74 1540.8 1206.74 1548.76 M1200.89 1547.04 Q1200.82 1542.23 1198.18 1539.37 Q1195.57 1536.5 1191.24 1536.5 Q1186.34 1536.5 1183.38 1539.27 Q1180.45 1542.04 1180.01 1547.07 L1200.89 1547.04 Z\" fill=\"#000000\" fill-rule=\"nonzero\" fill-opacity=\"1\" /><path clip-path=\"url(#clip260)\" d=\"M1222.15 1522.27 L1222.15 1532.4 L1234.21 1532.4 L1234.21 1536.95 L1222.15 1536.95 L1222.15 1556.3 Q1222.15 1560.66 1223.33 1561.9 Q1224.54 1563.14 1228.2 1563.14 L1234.21 1563.14 L1234.21 1568.04 L1228.2 1568.04 Q1221.42 1568.04 1218.84 1565.53 Q1216.26 1562.98 1216.26 1556.3 L1216.26 1536.95 L1211.96 1536.95 L1211.96 1532.4 L1216.26 1532.4 L1216.26 1522.27 L1222.15 1522.27 Z\" fill=\"#000000\" fill-rule=\"nonzero\" fill-opacity=\"1\" /><path clip-path=\"url(#clip260)\" d=\"M1241.91 1532.4 L1247.77 1532.4 L1247.77 1568.04 L1241.91 1568.04 L1241.91 1532.4 M1241.91 1518.52 L1247.77 1518.52 L1247.77 1525.93 L1241.91 1525.93 L1241.91 1518.52 Z\" fill=\"#000000\" fill-rule=\"nonzero\" fill-opacity=\"1\" /><path clip-path=\"url(#clip260)\" d=\"M1285.68 1533.76 L1285.68 1539.24 Q1283.2 1537.87 1280.68 1537.2 Q1278.2 1536.5 1275.65 1536.5 Q1269.96 1536.5 1266.8 1540.13 Q1263.65 1543.73 1263.65 1550.25 Q1263.65 1556.78 1266.8 1560.4 Q1269.96 1564 1275.65 1564 Q1278.2 1564 1280.68 1563.33 Q1283.2 1562.63 1285.68 1561.26 L1285.68 1566.68 Q1283.23 1567.82 1280.59 1568.39 Q1277.98 1568.97 1275.02 1568.97 Q1266.96 1568.97 1262.22 1563.91 Q1257.48 1558.85 1257.48 1550.25 Q1257.48 1541.53 1262.25 1536.53 Q1267.06 1531.54 1275.4 1531.54 Q1278.1 1531.54 1280.68 1532.11 Q1283.26 1532.65 1285.68 1533.76 Z\" fill=\"#000000\" fill-rule=\"nonzero\" fill-opacity=\"1\" /><path clip-path=\"url(#clip260)\" d=\"M1334.63 1518.52 L1334.63 1523.39 L1329.03 1523.39 Q1325.88 1523.39 1324.64 1524.66 Q1323.43 1525.93 1323.43 1529.24 L1323.43 1532.4 L1333.07 1532.4 L1333.07 1536.95 L1323.43 1536.95 L1323.43 1568.04 L1317.54 1568.04 L1317.54 1536.95 L1311.94 1536.95 L1311.94 1532.4 L1317.54 1532.4 L1317.54 1529.91 Q1317.54 1523.96 1320.31 1521.26 Q1323.08 1518.52 1329.09 1518.52 L1334.63 1518.52 Z\" fill=\"#000000\" fill-rule=\"nonzero\" fill-opacity=\"1\" /><path clip-path=\"url(#clip260)\" d=\"M1339.53 1532.4 L1345.39 1532.4 L1345.39 1568.04 L1339.53 1568.04 L1339.53 1532.4 M1339.53 1518.52 L1345.39 1518.52 L1345.39 1525.93 L1339.53 1525.93 L1339.53 1518.52 Z\" fill=\"#000000\" fill-rule=\"nonzero\" fill-opacity=\"1\" /><path clip-path=\"url(#clip260)\" d=\"M1388.13 1548.76 L1388.13 1551.62 L1361.21 1551.62 Q1361.59 1557.67 1364.84 1560.85 Q1368.11 1564 1373.94 1564 Q1377.31 1564 1380.46 1563.17 Q1383.65 1562.35 1386.77 1560.69 L1386.77 1566.23 Q1383.62 1567.57 1380.31 1568.27 Q1376.99 1568.97 1373.59 1568.97 Q1365.06 1568.97 1360.06 1564 Q1355.1 1559.04 1355.1 1550.57 Q1355.1 1541.82 1359.81 1536.69 Q1364.55 1531.54 1372.57 1531.54 Q1379.76 1531.54 1383.93 1536.18 Q1388.13 1540.8 1388.13 1548.76 M1382.28 1547.04 Q1382.21 1542.23 1379.57 1539.37 Q1376.96 1536.5 1372.63 1536.5 Q1367.73 1536.5 1364.77 1539.27 Q1361.84 1542.04 1361.4 1547.07 L1382.28 1547.04 Z\" fill=\"#000000\" fill-rule=\"nonzero\" fill-opacity=\"1\" /><path clip-path=\"url(#clip260)\" d=\"M1397.75 1518.52 L1403.6 1518.52 L1403.6 1568.04 L1397.75 1568.04 L1397.75 1518.52 Z\" fill=\"#000000\" fill-rule=\"nonzero\" fill-opacity=\"1\" /><path clip-path=\"url(#clip260)\" d=\"M1439.32 1537.81 L1439.32 1518.52 L1445.17 1518.52 L1445.17 1568.04 L1439.32 1568.04 L1439.32 1562.7 Q1437.47 1565.88 1434.64 1567.44 Q1431.84 1568.97 1427.89 1568.97 Q1421.43 1568.97 1417.35 1563.81 Q1413.31 1558.65 1413.31 1550.25 Q1413.31 1541.85 1417.35 1536.69 Q1421.43 1531.54 1427.89 1531.54 Q1431.84 1531.54 1434.64 1533.1 Q1437.47 1534.62 1439.32 1537.81 M1419.36 1550.25 Q1419.36 1556.71 1422 1560.4 Q1424.67 1564.07 1429.32 1564.07 Q1433.97 1564.07 1436.64 1560.4 Q1439.32 1556.71 1439.32 1550.25 Q1439.32 1543.79 1436.64 1540.13 Q1433.97 1536.44 1429.32 1536.44 Q1424.67 1536.44 1422 1540.13 Q1419.36 1543.79 1419.36 1550.25 Z\" fill=\"#000000\" fill-rule=\"nonzero\" fill-opacity=\"1\" /><path clip-path=\"url(#clip260)\" d=\"M1492.02 1518.58 Q1487.76 1525.9 1485.69 1533.06 Q1483.62 1540.23 1483.62 1547.58 Q1483.62 1554.93 1485.69 1562.16 Q1487.79 1569.35 1492.02 1576.64 L1486.93 1576.64 Q1482.16 1569.16 1479.77 1561.93 Q1477.41 1554.71 1477.41 1547.58 Q1477.41 1540.48 1479.77 1533.29 Q1482.12 1526.09 1486.93 1518.58 L1492.02 1518.58 Z\" fill=\"#000000\" fill-rule=\"nonzero\" fill-opacity=\"1\" /><path clip-path=\"url(#clip260)\" d=\"M1536.04 1561.26 L1536.04 1548.5 L1525.54 1548.5 L1525.54 1543.22 L1542.41 1543.22 L1542.41 1563.62 Q1538.68 1566.26 1534.2 1567.63 Q1529.71 1568.97 1524.62 1568.97 Q1513.48 1568.97 1507.17 1562.47 Q1500.9 1555.95 1500.9 1544.33 Q1500.9 1532.68 1507.17 1526.19 Q1513.48 1519.66 1524.62 1519.66 Q1529.26 1519.66 1533.43 1520.81 Q1537.63 1521.96 1541.17 1524.18 L1541.17 1531.03 Q1537.6 1528 1533.59 1526.48 Q1529.58 1524.95 1525.16 1524.95 Q1516.44 1524.95 1512.04 1529.82 Q1507.68 1534.69 1507.68 1544.33 Q1507.68 1553.94 1512.04 1558.81 Q1516.44 1563.68 1525.16 1563.68 Q1528.56 1563.68 1531.24 1563.11 Q1533.91 1562.51 1536.04 1561.26 Z\" fill=\"#000000\" fill-rule=\"nonzero\" fill-opacity=\"1\" /><path clip-path=\"url(#clip260)\" d=\"M1552.97 1518.58 L1558.07 1518.58 Q1562.84 1526.09 1565.2 1533.29 Q1567.58 1540.48 1567.58 1547.58 Q1567.58 1554.71 1565.2 1561.93 Q1562.84 1569.16 1558.07 1576.64 L1552.97 1576.64 Q1557.21 1569.35 1559.28 1562.16 Q1561.38 1554.93 1561.38 1547.58 Q1561.38 1540.23 1559.28 1533.06 Q1557.21 1525.9 1552.97 1518.58 Z\" fill=\"#000000\" fill-rule=\"nonzero\" fill-opacity=\"1\" /><polyline clip-path=\"url(#clip262)\" style=\"stroke:#000000; stroke-linecap:round; stroke-linejoin:round; stroke-width:2; stroke-opacity:0.1; fill:none\" points=\"212.459,1185.6 2352.76,1185.6 \"/>\n",
       "<polyline clip-path=\"url(#clip262)\" style=\"stroke:#000000; stroke-linecap:round; stroke-linejoin:round; stroke-width:2; stroke-opacity:0.1; fill:none\" points=\"212.459,910.747 2352.76,910.747 \"/>\n",
       "<polyline clip-path=\"url(#clip262)\" style=\"stroke:#000000; stroke-linecap:round; stroke-linejoin:round; stroke-width:2; stroke-opacity:0.1; fill:none\" points=\"212.459,635.893 2352.76,635.893 \"/>\n",
       "<polyline clip-path=\"url(#clip262)\" style=\"stroke:#000000; stroke-linecap:round; stroke-linejoin:round; stroke-width:2; stroke-opacity:0.1; fill:none\" points=\"212.459,361.04 2352.76,361.04 \"/>\n",
       "<polyline clip-path=\"url(#clip262)\" style=\"stroke:#000000; stroke-linecap:round; stroke-linejoin:round; stroke-width:2; stroke-opacity:0.1; fill:none\" points=\"212.459,86.1861 2352.76,86.1861 \"/>\n",
       "<polyline clip-path=\"url(#clip260)\" style=\"stroke:#000000; stroke-linecap:round; stroke-linejoin:round; stroke-width:4; stroke-opacity:1; fill:none\" points=\"212.459,1423.18 212.459,47.2441 \"/>\n",
       "<polyline clip-path=\"url(#clip260)\" style=\"stroke:#000000; stroke-linecap:round; stroke-linejoin:round; stroke-width:4; stroke-opacity:1; fill:none\" points=\"2352.76,1423.18 2352.76,47.2441 \"/>\n",
       "<polyline clip-path=\"url(#clip260)\" style=\"stroke:#000000; stroke-linecap:round; stroke-linejoin:round; stroke-width:4; stroke-opacity:1; fill:none\" points=\"212.459,1185.6 231.357,1185.6 \"/>\n",
       "<polyline clip-path=\"url(#clip260)\" style=\"stroke:#000000; stroke-linecap:round; stroke-linejoin:round; stroke-width:4; stroke-opacity:1; fill:none\" points=\"212.459,910.747 231.357,910.747 \"/>\n",
       "<polyline clip-path=\"url(#clip260)\" style=\"stroke:#000000; stroke-linecap:round; stroke-linejoin:round; stroke-width:4; stroke-opacity:1; fill:none\" points=\"212.459,635.893 231.357,635.893 \"/>\n",
       "<polyline clip-path=\"url(#clip260)\" style=\"stroke:#000000; stroke-linecap:round; stroke-linejoin:round; stroke-width:4; stroke-opacity:1; fill:none\" points=\"212.459,361.04 231.357,361.04 \"/>\n",
       "<polyline clip-path=\"url(#clip260)\" style=\"stroke:#000000; stroke-linecap:round; stroke-linejoin:round; stroke-width:4; stroke-opacity:1; fill:none\" points=\"212.459,86.1861 231.357,86.1861 \"/>\n",
       "<path clip-path=\"url(#clip260)\" d=\"M114.26 1186.05 L143.936 1186.05 L143.936 1189.99 L114.26 1189.99 L114.26 1186.05 Z\" fill=\"#000000\" fill-rule=\"nonzero\" fill-opacity=\"1\" /><path clip-path=\"url(#clip260)\" d=\"M166.876 1172.39 L155.07 1190.84 L166.876 1190.84 L166.876 1172.39 M165.649 1168.32 L171.528 1168.32 L171.528 1190.84 L176.459 1190.84 L176.459 1194.73 L171.528 1194.73 L171.528 1202.88 L166.876 1202.88 L166.876 1194.73 L151.274 1194.73 L151.274 1190.22 L165.649 1168.32 Z\" fill=\"#000000\" fill-rule=\"nonzero\" fill-opacity=\"1\" /><path clip-path=\"url(#clip260)\" d=\"M115.394 911.198 L145.07 911.198 L145.07 915.134 L115.394 915.134 L115.394 911.198 Z\" fill=\"#000000\" fill-rule=\"nonzero\" fill-opacity=\"1\" /><path clip-path=\"url(#clip260)\" d=\"M169.329 909.393 Q172.686 910.11 174.561 912.379 Q176.459 914.647 176.459 917.981 Q176.459 923.096 172.94 925.897 Q169.422 928.698 162.94 928.698 Q160.765 928.698 158.45 928.258 Q156.158 927.842 153.704 926.985 L153.704 922.471 Q155.649 923.606 157.964 924.184 Q160.278 924.763 162.802 924.763 Q167.2 924.763 169.491 923.027 Q171.806 921.291 171.806 917.981 Q171.806 914.925 169.653 913.212 Q167.524 911.476 163.704 911.476 L159.677 911.476 L159.677 907.634 L163.89 907.634 Q167.339 907.634 169.167 906.268 Q170.996 904.879 170.996 902.286 Q170.996 899.624 169.098 898.212 Q167.223 896.777 163.704 896.777 Q161.783 896.777 159.584 897.194 Q157.385 897.61 154.746 898.49 L154.746 894.323 Q157.408 893.583 159.723 893.212 Q162.061 892.842 164.121 892.842 Q169.445 892.842 172.547 895.273 Q175.649 897.68 175.649 901.8 Q175.649 904.671 174.005 906.661 Q172.362 908.629 169.329 909.393 Z\" fill=\"#000000\" fill-rule=\"nonzero\" fill-opacity=\"1\" /><path clip-path=\"url(#clip260)\" d=\"M116.343 636.345 L146.019 636.345 L146.019 640.28 L116.343 640.28 L116.343 636.345 Z\" fill=\"#000000\" fill-rule=\"nonzero\" fill-opacity=\"1\" /><path clip-path=\"url(#clip260)\" d=\"M160.14 649.238 L176.459 649.238 L176.459 653.173 L154.515 653.173 L154.515 649.238 Q157.177 646.484 161.76 641.854 Q166.366 637.201 167.547 635.859 Q169.792 633.335 170.672 631.599 Q171.575 629.84 171.575 628.15 Q171.575 625.396 169.63 623.66 Q167.709 621.924 164.607 621.924 Q162.408 621.924 159.954 622.687 Q157.524 623.451 154.746 625.002 L154.746 620.28 Q157.57 619.146 160.024 618.567 Q162.477 617.988 164.515 617.988 Q169.885 617.988 173.079 620.674 Q176.274 623.359 176.274 627.849 Q176.274 629.979 175.464 631.9 Q174.677 633.798 172.57 636.391 Q171.991 637.062 168.889 640.28 Q165.788 643.474 160.14 649.238 Z\" fill=\"#000000\" fill-rule=\"nonzero\" fill-opacity=\"1\" /><path clip-path=\"url(#clip260)\" d=\"M115.973 361.491 L145.649 361.491 L145.649 365.426 L115.973 365.426 L115.973 361.491 Z\" fill=\"#000000\" fill-rule=\"nonzero\" fill-opacity=\"1\" /><path clip-path=\"url(#clip260)\" d=\"M156.552 374.385 L164.19 374.385 L164.19 348.019 L155.88 349.686 L155.88 345.426 L164.144 343.76 L168.82 343.76 L168.82 374.385 L176.459 374.385 L176.459 378.32 L156.552 378.32 L156.552 374.385 Z\" fill=\"#000000\" fill-rule=\"nonzero\" fill-opacity=\"1\" /><path clip-path=\"url(#clip260)\" d=\"M164.515 71.9848 Q160.903 71.9848 159.075 75.5496 Q157.269 79.0912 157.269 86.2208 Q157.269 93.3273 159.075 96.8921 Q160.903 100.434 164.515 100.434 Q168.149 100.434 169.954 96.8921 Q171.783 93.3273 171.783 86.2208 Q171.783 79.0912 169.954 75.5496 Q168.149 71.9848 164.515 71.9848 M164.515 68.2811 Q170.325 68.2811 173.38 72.8876 Q176.459 77.4709 176.459 86.2208 Q176.459 94.9476 173.38 99.5541 Q170.325 104.137 164.515 104.137 Q158.704 104.137 155.626 99.5541 Q152.57 94.9476 152.57 86.2208 Q152.57 77.4709 155.626 72.8876 Q158.704 68.2811 164.515 68.2811 Z\" fill=\"#000000\" fill-rule=\"nonzero\" fill-opacity=\"1\" /><path clip-path=\"url(#clip260)\" d=\"M46.0847 905.463 Q46.0847 912.561 47.7079 915.298 Q49.3312 918.035 53.2461 918.035 Q56.3653 918.035 58.2114 915.998 Q60.0256 913.929 60.0256 910.396 Q60.0256 905.526 56.5881 902.598 Q53.1188 899.638 47.3897 899.638 L46.0847 899.638 L46.0847 905.463 M43.6657 893.782 L64.0042 893.782 L64.0042 899.638 L58.5933 899.638 Q61.8398 901.643 63.3994 904.635 Q64.9272 907.627 64.9272 911.956 Q64.9272 917.43 61.8716 920.677 Q58.7843 923.892 53.6281 923.892 Q47.6125 923.892 44.5569 919.881 Q41.5014 915.839 41.5014 907.85 L41.5014 899.638 L40.9285 899.638 Q36.8862 899.638 34.6901 902.312 Q32.4621 904.954 32.4621 909.76 Q32.4621 912.815 33.1941 915.712 Q33.9262 918.608 35.3903 921.282 L29.9795 921.282 Q28.7381 918.067 28.1334 915.043 Q27.4968 912.019 27.4968 909.155 Q27.4968 901.421 31.5072 897.601 Q35.5176 893.782 43.6657 893.782 Z\" fill=\"#000000\" fill-rule=\"nonzero\" fill-opacity=\"1\" /><path clip-path=\"url(#clip260)\" d=\"M14.5426 846.93 Q21.8632 851.195 29.0246 853.264 Q36.186 855.333 43.5384 855.333 Q50.8908 855.333 58.1159 853.264 Q65.3091 851.163 72.5979 846.93 L72.5979 852.023 Q65.1182 856.797 57.8931 859.184 Q50.668 861.539 43.5384 861.539 Q36.4406 861.539 29.2474 859.184 Q22.0542 856.829 14.5426 852.023 L14.5426 846.93 Z\" fill=\"#000000\" fill-rule=\"nonzero\" fill-opacity=\"1\" /><path clip-path=\"url(#clip260)\" d=\"M58.5933 833.626 L58.5933 823.122 L22.3406 823.122 L24.6323 834.549 L18.7758 834.549 L16.4842 823.186 L16.4842 816.757 L58.5933 816.757 L58.5933 806.253 L64.0042 806.253 L64.0042 833.626 L58.5933 833.626 Z\" fill=\"#000000\" fill-rule=\"nonzero\" fill-opacity=\"1\" /><path clip-path=\"url(#clip260)\" d=\"M20.7174 779.517 Q20.7174 784.483 25.6189 786.997 Q30.4887 789.48 40.2919 789.48 Q50.0633 789.48 54.9649 786.997 Q59.8346 784.483 59.8346 779.517 Q59.8346 774.52 54.9649 772.038 Q50.0633 769.523 40.2919 769.523 Q30.4887 769.523 25.6189 772.038 Q20.7174 774.52 20.7174 779.517 M15.6248 779.517 Q15.6248 771.528 21.9587 767.327 Q28.2607 763.094 40.2919 763.094 Q52.2913 763.094 58.6251 767.327 Q64.9272 771.528 64.9272 779.517 Q64.9272 787.506 58.6251 791.739 Q52.2913 795.941 40.2919 795.941 Q28.2607 795.941 21.9587 791.739 Q15.6248 787.506 15.6248 779.517 Z\" fill=\"#000000\" fill-rule=\"nonzero\" fill-opacity=\"1\" /><path clip-path=\"url(#clip260)\" d=\"M28.3562 742.087 Q28.9291 739.159 30.6797 737.567 Q32.3984 735.944 35.0084 735.944 Q38.9551 735.944 41.0876 738.968 Q43.2201 741.991 43.2201 747.625 Q43.2201 749.439 42.9018 751.445 Q42.5517 753.418 41.9152 755.646 L38.0639 755.646 Q38.9233 753.991 39.337 752.113 Q39.7508 750.203 39.7508 748.071 Q39.7508 744.601 38.5095 742.692 Q37.2364 740.782 35.0084 740.782 Q32.6531 740.782 31.4436 742.564 Q30.2341 744.315 30.2341 747.752 L30.2341 750.49 L26.7966 750.49 L26.7966 747.498 Q26.7966 744.506 25.8099 742.978 Q24.7914 741.419 22.8817 741.419 Q21.0356 741.419 20.0808 743.01 Q19.0941 744.601 19.0941 747.625 Q19.0941 748.898 19.3806 750.521 Q19.667 752.145 20.3991 754.723 L16.7388 754.723 Q16.1977 752.399 15.9112 750.362 Q15.6248 748.325 15.6248 746.575 Q15.6248 741.991 17.5027 739.318 Q19.3806 736.612 22.5316 736.612 Q24.7277 736.612 26.2555 738.045 Q27.7833 739.477 28.3562 742.087 Z\" fill=\"#000000\" fill-rule=\"nonzero\" fill-opacity=\"1\" /><path clip-path=\"url(#clip260)\" d=\"M35.1993 678.016 Q31.2526 675.82 29.3747 672.764 Q27.4968 669.709 27.4968 665.571 Q27.4968 660.001 31.4117 656.977 Q35.2948 653.954 42.4881 653.954 L64.0042 653.954 L64.0042 659.842 L42.679 659.842 Q37.5546 659.842 35.072 661.656 Q32.5894 663.47 32.5894 667.194 Q32.5894 671.746 35.6131 674.388 Q38.6368 677.029 43.8567 677.029 L64.0042 677.029 L64.0042 682.918 L42.679 682.918 Q37.5228 682.918 35.072 684.732 Q32.5894 686.546 32.5894 690.334 Q32.5894 694.822 35.6449 697.463 Q38.6686 700.105 43.8567 700.105 L64.0042 700.105 L64.0042 705.993 L28.3562 705.993 L28.3562 700.105 L33.8944 700.105 Q30.616 698.1 29.0564 695.299 Q27.4968 692.498 27.4968 688.647 Q27.4968 684.764 29.4702 682.058 Q31.4436 679.321 35.1993 678.016 Z\" fill=\"#000000\" fill-rule=\"nonzero\" fill-opacity=\"1\" /><path clip-path=\"url(#clip260)\" d=\"M16.4842 631.865 L16.4842 626.454 L70.0516 643.005 L70.0516 648.416 L16.4842 631.865 Z\" fill=\"#000000\" fill-rule=\"nonzero\" fill-opacity=\"1\" /><path clip-path=\"url(#clip260)\" d=\"M29.4065 597.585 L34.9447 597.585 Q33.6716 600.068 33.035 602.742 Q32.3984 605.415 32.3984 608.28 Q32.3984 612.64 33.7352 614.836 Q35.072 617.001 37.7456 617.001 Q39.7826 617.001 40.9603 615.441 Q42.1061 613.882 43.1565 609.171 L43.6021 607.166 Q44.9389 600.927 47.3897 598.317 Q49.8086 595.676 54.1691 595.676 Q59.1344 595.676 62.0308 599.622 Q64.9272 603.537 64.9272 610.412 Q64.9272 613.277 64.3543 616.396 Q63.8132 619.483 62.6992 622.921 L56.6518 622.921 Q58.3387 619.674 59.198 616.523 Q60.0256 613.372 60.0256 610.285 Q60.0256 606.147 58.6251 603.919 Q57.1929 601.691 54.6147 601.691 Q52.2276 601.691 50.9545 603.315 Q49.6813 604.906 48.5037 610.349 L48.0262 612.386 Q46.8804 617.828 44.5251 620.247 Q42.138 622.666 38.0002 622.666 Q32.9713 622.666 30.2341 619.101 Q27.4968 615.537 27.4968 608.98 Q27.4968 605.733 27.9743 602.869 Q28.4517 600.004 29.4065 597.585 Z\" fill=\"#000000\" fill-rule=\"nonzero\" fill-opacity=\"1\" /><path clip-path=\"url(#clip260)\" d=\"M39.1142 583.963 L39.1142 570.467 L42.7427 570.467 L42.7427 589.501 L39.2416 589.501 Q38.2549 588.419 36.4725 586.414 Q26.7648 575.465 23.7729 575.465 Q21.6722 575.465 20.3991 577.12 Q19.0941 578.775 19.0941 581.48 Q19.0941 583.135 19.667 585.077 Q20.2081 587.018 21.3221 589.31 L17.4072 589.31 Q16.516 586.859 16.0704 584.758 Q15.6248 582.626 15.6248 580.812 Q15.6248 576.197 17.7255 573.428 Q19.8262 570.658 23.2636 570.658 Q27.6878 570.658 36.7271 581.194 Q38.2549 582.976 39.1142 583.963 Z\" fill=\"#000000\" fill-rule=\"nonzero\" fill-opacity=\"1\" /><path clip-path=\"url(#clip260)\" d=\"M14.5426 561.142 L14.5426 556.049 Q22.0542 551.275 29.2474 548.92 Q36.4406 546.532 43.5384 546.532 Q50.668 546.532 57.8931 548.92 Q65.1182 551.275 72.5979 556.049 L72.5979 561.142 Q65.3091 556.909 58.1159 554.84 Q50.8908 552.739 43.5384 552.739 Q36.186 552.739 29.0246 554.84 Q21.8632 556.909 14.5426 561.142 Z\" fill=\"#000000\" fill-rule=\"nonzero\" fill-opacity=\"1\" /><polyline clip-path=\"url(#clip262)\" style=\"stroke:#009af9; stroke-linecap:round; stroke-linejoin:round; stroke-width:10; stroke-opacity:1; fill:none\" points=\"273.033,86.1857 497.383,924.858 721.733,1384.24 946.083,1265.41 1170.43,1098.05 1394.78,845.892 1619.13,636.097 1843.48,485.658 2067.83,381.676 2292.18,309.124 \"/>\n",
       "<path clip-path=\"url(#clip260)\" d=\"M2014.95 1377.32 L2281.41 1377.32 L2281.41 1273.64 L2014.95 1273.64  Z\" fill=\"#ffffff\" fill-rule=\"evenodd\" fill-opacity=\"1\"/>\n",
       "<polyline clip-path=\"url(#clip260)\" style=\"stroke:#000000; stroke-linecap:round; stroke-linejoin:round; stroke-width:4; stroke-opacity:1; fill:none\" points=\"2014.95,1377.32 2281.41,1377.32 2281.41,1273.64 2014.95,1273.64 2014.95,1377.32 \"/>\n",
       "<polyline clip-path=\"url(#clip260)\" style=\"stroke:#009af9; stroke-linecap:round; stroke-linejoin:round; stroke-width:10; stroke-opacity:1; fill:none\" points=\"2038.73,1325.48 2181.42,1325.48 \"/>\n",
       "<path clip-path=\"url(#clip260)\" d=\"M2219.04 1345.16 Q2217.24 1349.79 2215.53 1351.2 Q2213.81 1352.62 2210.94 1352.62 L2207.54 1352.62 L2207.54 1349.05 L2210.04 1349.05 Q2211.8 1349.05 2212.77 1348.22 Q2213.74 1347.38 2214.92 1344.28 L2215.69 1342.34 L2205.2 1316.83 L2209.72 1316.83 L2217.82 1337.11 L2225.92 1316.83 L2230.43 1316.83 L2219.04 1345.16 Z\" fill=\"#000000\" fill-rule=\"nonzero\" fill-opacity=\"1\" /><path clip-path=\"url(#clip260)\" d=\"M2237.72 1338.82 L2245.36 1338.82 L2245.36 1312.45 L2237.05 1314.12 L2237.05 1309.86 L2245.32 1308.2 L2249.99 1308.2 L2249.99 1338.82 L2257.63 1338.82 L2257.63 1342.76 L2237.72 1342.76 L2237.72 1338.82 Z\" fill=\"#000000\" fill-rule=\"nonzero\" fill-opacity=\"1\" /></svg>\n"
      ]
     },
     "execution_count": 291,
     "metadata": {},
     "output_type": "execute_result"
    }
   ],
   "source": [
    "plot(Bs, 1e-3 .* averaged_forces .* (ħ * k * Γ / m),\n",
    "    xlabel=\"Magnetic field (G)\",\n",
    "    ylabel=\"a (10³ m/s²)\",\n",
    "    framestyle=:box,\n",
    "    linewidth=2.5,\n",
    "    # labelfontsize=14,\n",
    "    # tickfont=12,\n",
    "    # legendfont=11,\n",
    "    # ylim=(-3,23),\n",
    "    # size=(600,500)\n",
    "    )"
   ]
  },
  {
   "cell_type": "code",
   "execution_count": 292,
   "id": "d1a7448c-d44c-4628-93c2-a495976e7c1c",
   "metadata": {},
   "outputs": [
    {
     "name": "stdout",
     "output_type": "stream",
     "text": [
      "  0.183027 seconds (55.36 k allocations: 41.528 MiB, 57.74% compilation time)\n"
     ]
    }
   ],
   "source": [
    "averaged_populations = []\n",
    "@time for (i,B) ∈ enumerate(Bs)\n",
    "    idxs = [j for (j,x) ∈ enumerate(scan_values_grid) if x.B == B]\n",
    "    push!(averaged_populations, mean([p for p in populations[idxs,:]], dims=1))\n",
    "end"
   ]
  },
  {
   "cell_type": "code",
   "execution_count": 293,
   "id": "7d27f5c6",
   "metadata": {},
   "outputs": [
    {
     "data": {
      "text/plain": [
       "6×1 adjoint(::Matrix{Float64}) with eltype Float64:\n",
       " 0.36172293391088645\n",
       " 0.27271812168161585\n",
       " 0.23792104499162098\n",
       " 0.03987776017664217\n",
       " 0.061932361745716306\n",
       " 0.025827777493517803"
      ]
     },
     "execution_count": 293,
     "metadata": {},
     "output_type": "execute_result"
    }
   ],
   "source": [
    "averaged_populations[2]'"
   ]
  },
  {
   "cell_type": "code",
   "execution_count": 23,
   "id": "f8d1e071",
   "metadata": {},
   "outputs": [
    {
     "name": "stdout",
     "output_type": "stream",
     "text": [
      "Real part:\n",
      "0 0 0 0 0 0 \n",
      "0 0 0 0.71 0 0 \n",
      "0 0 0 0 0.71 0 \n",
      "0 0.71 0 0 0 0 \n",
      "0 0 0.71 0 0 0 \n",
      "0 0 0 0 0 0 \n",
      "\n",
      "Imaginary part:\n",
      "0 0 0 0 0 0 \n",
      "0 0 0 0 0 0 \n",
      "0 0 0 0 0 0 \n",
      "0 0 0 0 0 0 \n",
      "0 0 0 0 0 0 \n",
      "0 0 0 0 0 0 \n"
     ]
    }
   ],
   "source": [
    "d[:,:,1] |> print_matrix"
   ]
  },
  {
   "cell_type": "code",
   "execution_count": 24,
   "id": "69bf7296-dec3-4822-886c-339f577e0d52",
   "metadata": {},
   "outputs": [
    {
     "data": {
      "text/plain": [
       "15.0"
      ]
     },
     "execution_count": 24,
     "metadata": {},
     "output_type": "execute_result"
    }
   ],
   "source": [
    "Bs[4]"
   ]
  },
  {
   "cell_type": "code",
   "execution_count": 25,
   "id": "31f48782-746a-48db-92ea-79c2ab2bcb97",
   "metadata": {},
   "outputs": [
    {
     "data": {
      "text/latex": [
       "$$1.0\\left|L=1, N=1, M=-1\\right\\rangle$$\n"
      ],
      "text/plain": [
       "State{AngularMomentumState_Labelled}(4.78e14, AngularMomentumState_Labelled[AngularMomentumState_Labelled(0.0, 0, 1, -1, (M = -1:1,)), AngularMomentumState_Labelled(0.0, 0, 1, 0, (M = -1:1,)), AngularMomentumState_Labelled(0.0, 0, 1, 1, (M = -1:1,)), AngularMomentumState_Labelled(0.0, 1, 1, -1, (M = -1:1,)), AngularMomentumState_Labelled(0.0, 1, 1, 0, (M = -1:1,)), AngularMomentumState_Labelled(0.0, 1, 1, 1, (M = -1:1,))], ComplexF64[0.0 + 0.0im, 0.0 + 0.0im, 0.0 + 0.0im, 1.0 + 0.0im, 0.0 + 0.0im, 0.0 + 0.0im], 4)"
      ]
     },
     "execution_count": 25,
     "metadata": {},
     "output_type": "execute_result"
    }
   ],
   "source": [
    "H.states[4]"
   ]
  },
  {
   "cell_type": "code",
   "execution_count": 26,
   "id": "fd598175-31e5-404f-ad2e-15292606eec9",
   "metadata": {},
   "outputs": [
    {
     "data": {
      "text/plain": [
       "6×1 adjoint(::Matrix{Float64}) with eltype Float64:\n",
       " 0.06657220969459081\n",
       " 0.5813993069728773\n",
       " 0.3271908762272843\n",
       " 0.0076846467657698736\n",
       " 0.0045008786927672705\n",
       " 0.012652081646711154"
      ]
     },
     "execution_count": 26,
     "metadata": {},
     "output_type": "execute_result"
    }
   ],
   "source": [
    "averaged_populations[4]'"
   ]
  },
  {
   "cell_type": "code",
   "execution_count": 27,
   "id": "175fc735",
   "metadata": {},
   "outputs": [
    {
     "data": {
      "text/plain": [
       "5"
      ]
     },
     "execution_count": 27,
     "metadata": {},
     "output_type": "execute_result"
    }
   ],
   "source": [
    "findmax([0,0,0,0,1,0,0,0])[2]"
   ]
  },
  {
   "cell_type": "code",
   "execution_count": 28,
   "id": "34392815",
   "metadata": {},
   "outputs": [
    {
     "data": {
      "text/plain": [
       "6-element Vector{Float64}:\n",
       " 0.0\n",
       " 0.0\n",
       " 0.0\n",
       " 4.78e14\n",
       " 4.78e14\n",
       " 4.78e14"
      ]
     },
     "execution_count": 28,
     "metadata": {},
     "output_type": "execute_result"
    }
   ],
   "source": [
    "energy.(H.states)"
   ]
  },
  {
   "cell_type": "code",
   "execution_count": 29,
   "id": "adaf6c2c",
   "metadata": {},
   "outputs": [],
   "source": [
    "using\n",
    "    QuantumStates,\n",
    "    OpticalBlochEquations,\n",
    "    DifferentialEquations,\n",
    "    UnitsToValue,\n",
    "    LinearAlgebra,\n",
    "    Revise,\n",
    "StaticArrays\n",
    ";\n",
    "\n",
    "import MutableNamedTuples: MutableNamedTuple\n",
    "import StructArrays: StructArray, StructVector\n",
    "import StaticArrays: @SVector\n",
    "import LinearAlgebra: norm, ⋅, adjoint!, diag\n",
    "import LoopVectorization: @turbo\n",
    "\n",
    "using Parameters\n",
    "\n",
    "import ProgressMeter: Progress, next!\n",
    "\n",
    "\n",
    "\n",
    "function N!(dN, N, rate_eq, τ)\n",
    "    @unpack H,Hv, N0, N0_vec, ω, states, fields, r, v, Γ, λ, k, freq_res, d, R, v_prev, particle, extra_p= rate_eq\n",
    "    if v_prev != v\n",
    "        particle.v = v\n",
    "        new_rate_eq = rate_equation(N0, particle, states, fields, d, d, true, true,λ, Γ, freq_res, extra_p)\n",
    "        rate_eq.H = new_rate_eq.H\n",
    "        rate_eq.Hv = new_rate_eq.Hv\n",
    "        rate_eq.R = new_rate_eq.R\n",
    "        rate_eq.v_prev = v\n",
    "    end\n",
    "    n_states = length(states)\n",
    "    n_fields = length(fields)\n",
    "    type_complex = ComplexF64\n",
    "    n_l = extra_p.n_ground\n",
    "    n_u = n_states - n_l\n",
    "    n_fields = length(fields)\n",
    "    \n",
    "\n",
    "    dN[:] .= 0.0\n",
    "    \n",
    "    # update dN\n",
    "\n",
    "    dN[1:n_states] += H * N[1:n_states]\n",
    "\n",
    "    \n",
    "    # update integrated population\n",
    "    dN[n_states+1 : end-3] = N[1:n_states]\n",
    "\n",
    "    \n",
    "    row_of_1 = StructArray(ones(type_complex, 1,n_states))\n",
    "\n",
    "    # update force\n",
    "    for p in 1:1:n_fields\n",
    "    dN[end-2:end] += fields[p].k * (row_of_1 * Hv[:,:,p] * N[1:n_states])[1]\n",
    "    end\n",
    "\n",
    "    return nothing\n",
    "end\n",
    "\n",
    "\n",
    "function rate_equation(N0, particle, states, fields, d, d_m, should_round_freqs, alway_true, λ=1.0, Γ=2π, freq_res=1e-2, extra_p=nothing)\n",
    "\n",
    "    period = 2π / freq_res\n",
    "\n",
    "    n_states = length(states)\n",
    "    n_fields = length(fields)\n",
    "\n",
    "    states = StructArray(states)\n",
    "    if n_fields > 0\n",
    "        fields = StructArray(fields)\n",
    "    end\n",
    "    \n",
    "    k = 2π / λ\n",
    "    # particle.r0 *= 2π #(1 / k)  # `r` is in units of 1/k\n",
    "    # particle.v /= (Γ / k) # velocity is in units of Γ/k\n",
    "    # Convert to angular frequencies\n",
    "    for i ∈ eachindex(fields)\n",
    "        fields.ω[i] /= Γ\n",
    "    end\n",
    "    for i ∈ eachindex(states)\n",
    "        states.E[i] *= 2π\n",
    "        states.E[i] /= Γ\n",
    "    end\n",
    "\n",
    "    if should_round_freqs\n",
    "        round_freqs!(states, fields, freq_res)\n",
    "        particle.v = round_vel(particle.v, freq_res)\n",
    "    end\n",
    "\n",
    "    r0 = particle.r0\n",
    "    r = particle.r\n",
    "    v = particle.v\n",
    "    v_prev = particle.v\n",
    "\n",
    "    type_complex = ComplexF64\n",
    "\n",
    "\n",
    "    ω = [state.E for state ∈ states]\n",
    "    force_last_period = SVector(0.0, 0.0, 0.0)\n",
    "\n",
    "    # matrix that updates populations:\n",
    "    H = StructArray( zeros(type_complex, n_states, n_states) )\n",
    "    n_l = extra_p.n_ground\n",
    "    n_u = n_states - n_l\n",
    "    n_fields = length(fields)\n",
    "\n",
    "    # define R \n",
    "    R = StructArray(zeros(type_complex, n_l, n_u, n_fields))\n",
    "    for p in 1:1:n_fields\n",
    "        pol = fields[p].ϵ(0) #spherical\n",
    "        # pol_cart = [(pol[1]-pol[3])/sqrt(2), (pol[1]+pol[3])/sqrt(2)*(-1im), pol[2]]\n",
    "        for i in 1:1:n_l\n",
    "            for j in 1:1:n_u\n",
    "                ω_ij = energy(states[n_l + j]) - energy(states[i])\n",
    "                ω_p = fields[p].ω\n",
    "                doppler = 2π*fields[p].k ⋅ v\n",
    "                f = -1 * pol[1]*d[i,n_l + j,3] + 1*pol[2]*d[i,n_l + j,2] - 1*pol[3]*d[i,n_l + j,1] \n",
    "                R[i,j,p] = 1/2 * real(f*conj(f)) * fields[p].s / (1 + 4*(ω_p - ω_ij - doppler)^2)\n",
    "            end\n",
    "        end\n",
    "    end\n",
    "\n",
    "    \n",
    "    X = StructArray( zeros(type_complex, n_l, n_l, n_fields))\n",
    "    for p in 1:1:n_fields\n",
    "        for i in 1:1:n_l\n",
    "            X[i,i,p] = sum(R[i,:,p])\n",
    "        end\n",
    "    end\n",
    "\n",
    "    Y = StructArray(zeros(type_complex, n_u, n_u, n_fields))\n",
    "    for p in 1:1:n_fields\n",
    "        for j in 1:1:n_u\n",
    "            Y[j,j,p] = sum(R[:,j,p])\n",
    "        end\n",
    "    end\n",
    "\n",
    "    # define r (branching ratio of spontaneous decay)\n",
    "    r = StructArray(zeros(type_complex, n_l, n_u))\n",
    "    for i in 1:1:n_l \n",
    "        for j in 1:1:n_u \n",
    "            r[i,j] = norm(d[i,n_l + j,1])^2 + norm(d[i,n_l + j,2])^2 + norm(d[i,n_l + j,3])^2 \n",
    "        end\n",
    "    end\n",
    "\n",
    "    # make sure population is conserved --- decay into lower = decay out from upper\n",
    "    for j in 1:1:n_u\n",
    "#         print( sum(r[:,j]))\n",
    "        r[:,j] = r[:,j]./ sum(r[:,j])\n",
    "    end\n",
    "\n",
    "    id_l = Matrix((1.0+0im)LinearAlgebra.I, n_l, n_l)\n",
    "    id_u = Matrix((1.0+0im)LinearAlgebra.I, n_u, n_u)\n",
    "\n",
    "    H = StructArray(zeros(type_complex, n_states, n_states))\n",
    "    for p in 1:1:n_fields\n",
    "        H[1:n_l, 1:n_l] += -X[:,:,p]\n",
    "        H[1:n_l, n_l+1:n_states] += R[:,:,p]\n",
    "        H[n_l+1: n_states, 1:n_l] += transpose(R[:,:,p])\n",
    "        H[n_l+1: n_states, n_l+1: n_states] += -Y[:,:,p]\n",
    "    end\n",
    "\n",
    "    \n",
    "    H[1:n_l, n_l+1:n_states] += r[:,:]\n",
    "    H[n_l+1:n_states, n_l+1:n_states] += -id_u\n",
    "\n",
    "    # update matrix for force\n",
    "    Hv = StructArray(zeros(type_complex, n_states, n_states, n_fields))\n",
    "    for p in 1:1:n_fields\n",
    "        Hv[1:n_l, n_l+1:n_states, p] = -R[:,:,p]\n",
    "        Hv[n_l+1:end, 1:n_l, p] = transpose(R[:,:,p])\n",
    "    end\n",
    "\n",
    "    N0_vec=[N0; N0; 0;0;0]\n",
    "    populations = N0[:];\n",
    "\n",
    "    p = MutableNamedTuple(\n",
    "        H=H, Hv=Hv, particle=particle, N0=N0, N0_vec=N0_vec, ω=ω,\n",
    "        states=states, fields=fields, r0=r0, r=r, v=v, Γ=Γ, λ=λ,\n",
    "        period=period, k=k, freq_res=freq_res,\n",
    "        force_last_period=force_last_period, \n",
    "        d=d, \n",
    "        extra_p=extra_p, R=R, populations= populations, v_prev=v)\n",
    "\n",
    "    return p\n",
    "end\n",
    "function round_freqs!(states, fields, freq_res)\n",
    "    \"\"\"\n",
    "    Rounds frequencies of state energies and fields by a common denominator.\n",
    "    \n",
    "    freq_res::Float: all frequencies are rounded by this value (in units of Γ)\n",
    "    \"\"\"\n",
    "    for i in eachindex(fields)\n",
    "        fields.ω[i] = round_freq(fields.ω[i], freq_res)\n",
    "    end\n",
    "    for i in eachindex(states)\n",
    "        states.E[i] = round_freq(states.E[i], freq_res)\n",
    "    end\n",
    "    return nothing\n",
    "end\n",
    "\n",
    "\n",
    "function reset_force1!(integrator)\n",
    "    force_current_period = integrator.u[end-2:end] / integrator.p.period\n",
    "    force_diff = abs(norm(force_current_period) - norm(integrator.p.force_last_period))\n",
    "    force_diff_rel = force_diff / norm(integrator.p.force_last_period)\n",
    "    integrator.p.force_last_period = force_current_period\n",
    "    \n",
    "    n = length(integrator.p.states)\n",
    "    integrator.p.populations .= integrator.u[n+1:end-3] / integrator.p.period\n",
    "\n",
    "    force_reltol = 1e-4\n",
    "    if (force_diff_rel < force_reltol) #|| (force_diff < 1e-6)\n",
    "        terminate!(integrator)\n",
    "    else\n",
    "        integrator.u[end-2:end] .= 0.0\n",
    "        integrator.u[n+1:end-3] .= 0.0\n",
    "    end\n",
    "    return nothing\n",
    "end\n",
    "\n",
    "\n",
    "function force_scan_v3(prob::T1, scan_values::T2, prob_func!::F1, output_func::F2; n_threads=Threads.nthreads()) where {T1,T2,F1,F2}\n",
    "\n",
    "    n_values = reduce(*, size(scan_values))\n",
    "    batch_size = fld(n_values, n_threads)\n",
    "    remainder = n_values - batch_size * n_threads\n",
    "    forces = Array{SVector{3, Float64}}(undef, n_values)\n",
    "    populations = zeros(Float64, n_values, length(prob.p.states))\n",
    "\n",
    "    prog_bar = Progress(n_values)\n",
    "\n",
    "    Threads.@threads for i ∈ 1:n_threads\n",
    "        prob_copy = deepcopy(prob)\n",
    "        # Threads.@spawn begin\n",
    "            # prob_func!(_prob, scan_values, i)\n",
    "        force_cb = PeriodicCallback(reset_force1!, prob_copy.p.period)\n",
    "        if :callback ∈ keys(prob_copy.kwargs)\n",
    "            cbs = prob_copy.kwargs[:callback]\n",
    "            prob_copy = remake(prob_copy, callback=CallbackSet(cbs, force_cb))\n",
    "        else\n",
    "            prob_copy = remake(prob_copy, callback=force_cb)\n",
    "        end\n",
    "        _batch_size = i <= remainder ? (batch_size + 1) : batch_size\n",
    "        batch_start_idx = 1 + (i <= remainder ? (i - 1) : remainder) + batch_size * (i-1)\n",
    "        for j ∈ batch_start_idx:(batch_start_idx + _batch_size - 1)\n",
    "            prob_j = prob_func!(prob_copy, scan_values, j)\n",
    "            sol = solve(prob_j, alg=DP5())\n",
    "            forces[j] = output_func(prob_j.p, sol)\n",
    "            prob_j.p.force_last_period = (0, 0, 0)\n",
    "\n",
    "            populations[j,:] .= prob_j.p.populations\n",
    "\n",
    "            next!(prog_bar)\n",
    "        end\n",
    "    end\n",
    "    return forces, populations\n",
    "end;\n",
    "\n",
    "# update the whole hamiltonian.\n",
    "function remake_rate_equation_B(p, B)\n",
    "    λ = p.λ\n",
    "    Γ = p.Γ\n",
    " \n",
    "    \n",
    " \n",
    "    freq_res = p.freq_res\n",
    "    \n",
    "    # Update magnetic field\n",
    "    H = p.extra_p.H\n",
    "    H.parameters.B_z = B\n",
    "    evaluate!(H)\n",
    "    QuantumStates.solve!(H)\n",
    "    \n",
    "    # Update transition dipole moments\n",
    "    update_basis_tdms!(H)\n",
    "    update_tdms!(H)\n",
    "    new_d = H.tdms\n",
    "    \n",
    "    states = H.states\n",
    "    lasers = p.extra_p.lasers\n",
    "    \n",
    "    new_p = rate_equation(p.N0, p.particle, states, p.extra_p.lasers, new_d, new_d, true, true, λ, Γ, freq_res, extra_p)\n",
    "    return new_p\n",
    "end;"
   ]
  },
  {
   "cell_type": "code",
   "execution_count": null,
   "id": "a3cbe0b4",
   "metadata": {},
   "outputs": [],
   "source": []
  }
 ],
 "metadata": {
  "kernelspec": {
   "display_name": "Julia (20 threads) 1.9.0-rc3",
   "language": "julia",
   "name": "julia-_20-threads_-1.9"
  },
  "language_info": {
   "file_extension": ".jl",
   "mimetype": "application/julia",
   "name": "julia",
   "version": "1.9.0"
  }
 },
 "nbformat": 4,
 "nbformat_minor": 5
}
