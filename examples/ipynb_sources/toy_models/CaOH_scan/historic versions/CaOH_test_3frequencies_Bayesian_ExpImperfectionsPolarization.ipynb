{
 "cells": [
  {
   "cell_type": "code",
   "execution_count": 1,
   "id": "eb68f43c-512c-49e4-b9ae-e0ead28ff26c",
   "metadata": {},
   "outputs": [],
   "source": [
    "using Revise"
   ]
  },
  {
   "cell_type": "code",
   "execution_count": 2,
   "id": "95aa508f-186f-41d9-9dee-7045b9117fa1",
   "metadata": {},
   "outputs": [
    {
     "name": "stderr",
     "output_type": "stream",
     "text": [
      "WARNING: Method definition Zeeman_x(Any, Any) in module Main at C:\\Google Drive\\github\\OpticalBlochEquations\\examples\\ipynb_sources\\toy_models\\CaOH_scan\\CaOH_scan_helper_repump_Christian.jl:62 overwritten at C:\\Google Drive\\github\\OpticalBlochEquations\\examples\\ipynb_sources\\toy_models\\CaOH_scan\\CaOH_scan_helper_repump_Christian.jl:135.\n",
      "WARNING: Method definition Zeeman_y(Any, Any) in module Main at C:\\Google Drive\\github\\OpticalBlochEquations\\examples\\ipynb_sources\\toy_models\\CaOH_scan\\CaOH_scan_helper_repump_Christian.jl:63 overwritten at C:\\Google Drive\\github\\OpticalBlochEquations\\examples\\ipynb_sources\\toy_models\\CaOH_scan\\CaOH_scan_helper_repump_Christian.jl:136.\n",
      "WARNING: Method definition Zeeman_z(Any, Any) in module Main at C:\\Google Drive\\github\\OpticalBlochEquations\\examples\\ipynb_sources\\toy_models\\CaOH_scan\\CaOH_scan_helper_repump_Christian.jl:64 overwritten at C:\\Google Drive\\github\\OpticalBlochEquations\\examples\\ipynb_sources\\toy_models\\CaOH_scan\\CaOH_scan_helper_repump_Christian.jl:137.\n"
     ]
    }
   ],
   "source": [
    "using\n",
    "    QuantumStates,\n",
    "    OpticalBlochEquations,\n",
    "    DifferentialEquations,\n",
    "    UnitsToValue,\n",
    "    LinearAlgebra,\n",
    "    Printf,\n",
    "    Plots,\n",
    "    Random,\n",
    "    StatsBase\n",
    ";\n",
    "\n",
    "using Distributions\n",
    "\n",
    "import MutableNamedTuples: MutableNamedTuple\n",
    "import StructArrays: StructArray, StructVector\n",
    "import StaticArrays: @SVector, SVector\n",
    "import LinearAlgebra: norm, ⋅, adjoint!, diag\n",
    "import LoopVectorization: @turbo\n",
    "using BenchmarkTools\n",
    "using Parameters\n",
    "using LsqFit\n",
    "\n",
    "import ProgressMeter: Progress, next!\n",
    "\n",
    "const λ = 626e-9\n",
    "const Γ = 2π* 6.4e6\n",
    "const m = @with_unit 57 \"u\"\n",
    "const k = 2π / λ\n",
    "_μB = (μ_B / h) * 1e-4;\n",
    "\n",
    "include(\"CaOH_scan_helper_repump_Christian.jl\")\n",
    "working_dir = \"C:\\\\Google Drive\\\\github\\\\OpticalBlochEquations\\\\examples\\\\ipynb_sources\\\\toy_models\\\\CaOH_scan\"\n",
    ";"
   ]
  },
  {
   "cell_type": "code",
   "execution_count": 3,
   "id": "de4dbeed-384d-491d-9257-f185a577b5ae",
   "metadata": {},
   "outputs": [],
   "source": [
    "function survived(t_end, times, trajectories)\n",
    "    _survived = Int64[]\n",
    "    for i ∈ eachindex(trajectories)\n",
    "        if times[i][end] ≈ t_end*1e3\n",
    "            push!(_survived, i)\n",
    "        end\n",
    "    end\n",
    "    return _survived\n",
    "end\n",
    "\n",
    "function cloud_size(trajectories, i)\n",
    "    std(trajectory[i] for trajectory ∈ trajectories)\n",
    "end\n",
    "\n",
    "\"\"\"\n",
    "    Evaluates the density given a set of trajectories.\n",
    "\"\"\"\n",
    "function density(t_end, results)\n",
    "    \n",
    "    times, x_trajectories, y_trajectories, z_trajectories = results.times, results.x_trajectories, results.y_trajectories, results.z_trajectories\n",
    "    \n",
    "    # Sample number of photons before the molecule is lost to vibrational dark state\n",
    "    n_molecules = length(times)\n",
    "    \n",
    "    _survived = survived(t_end, times, x_trajectories)\n",
    "    println(_survived)\n",
    "    \n",
    "    surviving_x_trajectories = x_trajectories[_survived]\n",
    "    surviving_y_trajectories = y_trajectories[_survived]\n",
    "    surviving_z_trajectories = z_trajectories[_survived]\n",
    "    \n",
    "    n = length(_survived)\n",
    "    _density = Float64(n)\n",
    "    if n > 1\n",
    "        idx_end = length(surviving_x_trajectories[1])\n",
    "        σ_x = cloud_size(surviving_x_trajectories, idx_end)\n",
    "        σ_y = cloud_size(surviving_y_trajectories, idx_end)\n",
    "        σ_z = cloud_size(surviving_z_trajectories, idx_end)\n",
    "        _density /= σ_x * σ_y * σ_z\n",
    "    end\n",
    "    return _density\n",
    "end\n",
    "\n",
    "function distance(x_trajectory, y_trajectory, z_trajectory, idx)\n",
    "    return sqrt(x_trajectory[idx]^2 + y_trajectory[idx]^2 + z_trajectory[idx]^2)\n",
    "end\n",
    "\n",
    "goodness_val(r) = r <= 0.8 ? (0.8 - r)^3 : 0\n",
    "\"\"\"\n",
    "    Evaluates how many particles are within a 0.3 mm radius.\n",
    "\"\"\"\n",
    "function goodness(t_end, results)\n",
    "    \n",
    "    times, x_trajectories, y_trajectories, z_trajectories = results.times, results.x_trajectories, results.y_trajectories, results.z_trajectories\n",
    "    \n",
    "    # Sample number of photons before the molecule is lost to vibrational dark state\n",
    "    n_molecules = length(times)\n",
    "    \n",
    "    _survived = survived(t_end, times, x_trajectories)\n",
    "    @printf(\"Survival: %i / %i\", length(_survived), n_molecules)\n",
    "    println()\n",
    "    \n",
    "    surviving_x_trajectories = x_trajectories[_survived]\n",
    "    surviving_y_trajectories = y_trajectories[_survived]\n",
    "    surviving_z_trajectories = z_trajectories[_survived]\n",
    "    \n",
    "    n = 0\n",
    "    for survived_idx ∈ _survived\n",
    "        idx_end = length(x_trajectories[survived_idx])\n",
    "        r = distance(x_trajectories[survived_idx], y_trajectories[survived_idx], z_trajectories[survived_idx], idx_end)\n",
    "        n += goodness_val(r) * exp(-results.photons_scattered[survived_idx] / 15000)\n",
    "    end\n",
    "    return n/n_molecules\n",
    "end\n",
    "\n",
    "using LsqFit\n",
    "\n",
    "function Gaussian(x, p)\n",
    "    σ, x0, A = p\n",
    "   return A * exp.(-(x.-x0).^2/(2*σ^2)) \n",
    "end\n",
    "\n",
    "function cloud_size(i, trajectories)\n",
    "    \n",
    "    xs = [trajectory[i] for trajectory ∈ trajectories]\n",
    "\n",
    "    hist_data = fit(Histogram, xs, nbins=5)\n",
    "    hist_data.isdensity = true\n",
    "    v = collect(hist_data.edges[1])\n",
    "    dv = v[2]-v[1]\n",
    "    v = v[1:end-1] .+ dv/2\n",
    "    fv = hist_data.weights ./ (sum(hist_data.weights) * dv)\n",
    "\n",
    "    v_fit = curve_fit(Gaussian, v, fv, [0.5, 0., 10])\n",
    "    σ, x0, A = v_fit.param\n",
    "\n",
    "    return σ\n",
    "end\n",
    ";"
   ]
  },
  {
   "cell_type": "markdown",
   "id": "e4453cb6-d6f1-4d9c-b8f6-1add3157ae21",
   "metadata": {},
   "source": [
    "### Set up the molecule"
   ]
  },
  {
   "cell_type": "code",
   "execution_count": 4,
   "id": "18ccd92a-51ee-4774-af90-92e948637eca",
   "metadata": {},
   "outputs": [],
   "source": [
    "package = get_CaOH_package()\n",
    "n_states = length(package.states)\n",
    "n_excited = package.n_excited\n",
    ";"
   ]
  },
  {
   "cell_type": "markdown",
   "id": "626396b8-3323-4c00-a0c4-67254d82dd73",
   "metadata": {},
   "source": [
    "##### Scan a single configuration"
   ]
  },
  {
   "cell_type": "code",
   "execution_count": 5,
   "id": "d2a70a2c-37b6-444a-b8da-329d4a51c96e",
   "metadata": {},
   "outputs": [
    {
     "name": "stderr",
     "output_type": "stream",
     "text": [
      "\u001b[32mProgress: 100%|█████████████████████████████████████████| Time: 0:01:19\u001b[39m\n"
     ]
    }
   ],
   "source": [
    "s1 = 1.00*3\n",
    "s2 = 0*0.50\n",
    "s3 = 1.50*3\n",
    "s4 = 2.00*3\n",
    "Δ1 = +2.18Γ\n",
    "Δ2 = -2.00Γ\n",
    "Δ3 = Δ1\n",
    "Δ4 = -6.41Γ\n",
    "ramp_time = 10e-3\n",
    "B_gradient = -20\n",
    "\n",
    "temp = @with_unit 0.050 \"mK\"\n",
    "diameter = @with_unit 2.0 \"mm\"\n",
    "displacement = [0.0, 0.0, 0.0]\n",
    "kick = [0,0, 0.0, 0.0]\n",
    "\n",
    "params = MutableNamedTuple(t_end = 20e-3, n_values = 20,\n",
    "                           pol1_x=σ⁻, pol2_x=σ⁻, pol3_x=σ⁺, pol4_x=σ⁻, \n",
    "                           s1=s1, s2=s2, s3=s3, s4=s4,\n",
    "                           Δ1=Δ1, Δ2=Δ2, Δ3=Δ3, Δ4=Δ4, \n",
    "                           B_gradient = B_gradient, \n",
    "\n",
    "                           temp=temp, diameter=diameter, \n",
    "                           displacement=displacement, kick=kick,\n",
    "                           ramp_time = ramp_time,\n",
    "                           photon_budget=Inf, dark_lifetime=1/(0.05e6), FC_mainline=0.95,\n",
    "\n",
    "                           pol_imbalance=0.05, \n",
    "                           s_imbalance = (0*1.0, 0*1.0, 0*1.0), retro_loss=0.1, \n",
    "\n",
    "                           off_center=[0,4,0,0,0,0].*1e-3, \n",
    "                           pointing_error =[0., 0., 0, 0, 0, 0]\n",
    ")\n",
    "\n",
    "results = simulate_particles_repump(package, params)\n",
    ";"
   ]
  },
  {
   "cell_type": "code",
   "execution_count": 6,
   "id": "7480919b-bf1e-4407-b863-185172d462a8",
   "metadata": {},
   "outputs": [
    {
     "data": {
      "text/plain": [
       "19"
      ]
     },
     "metadata": {},
     "output_type": "display_data"
    }
   ],
   "source": [
    "_survived = survived(params.t_end, results.times, results.x_trajectories)\n",
    "surviving_x_trajectories = results.x_trajectories[_survived]\n",
    "surviving_y_trajectories = results.y_trajectories[_survived]\n",
    "surviving_z_trajectories = results.z_trajectories[_survived]\n",
    "length(_survived) |> display\n",
    ";"
   ]
  },
  {
   "cell_type": "code",
   "execution_count": 7,
   "id": "63d08052-d266-4baf-9d28-b4094f378366",
   "metadata": {},
   "outputs": [
    {
     "data": {
      "text/plain": [
       "0.33122106995960976"
      ]
     },
     "metadata": {},
     "output_type": "display_data"
    },
    {
     "data": {
      "text/plain": [
       "0.2374192647994024"
      ]
     },
     "metadata": {},
     "output_type": "display_data"
    },
    {
     "data": {
      "text/plain": [
       "0.10847372465961812"
      ]
     },
     "metadata": {},
     "output_type": "display_data"
    }
   ],
   "source": [
    "idx_end = length(surviving_x_trajectories[1])\n",
    "cloud_size(idx_end, surviving_x_trajectories) |> display\n",
    "cloud_size(idx_end, surviving_y_trajectories) |> display\n",
    "cloud_size(idx_end, surviving_z_trajectories) |> display"
   ]
  },
  {
   "cell_type": "code",
   "execution_count": 8,
   "id": "464a067d-bc2f-4d12-8628-db79b50d6297",
   "metadata": {},
   "outputs": [
    {
     "data": {
      "image/png": "[encoded data removed]",
      "image/svg+xml": [
       "<?xml version=\"1.0\" encoding=\"utf-8\"?>\n",
       "<svg xmlns=\"http://www.w3.org/2000/svg\" xmlns:xlink=\"http://www.w3.org/1999/xlink\" width=\"600\" height=\"400\" viewBox=\"0 0 2400 1600\">\n",
       "<defs>\n",
       "  <clipPath id=\"clip140\">\n",
       "    <rect x=\"0\" y=\"0\" width=\"2400\" height=\"1600\"/>\n",
       "  </clipPath>\n",
       "</defs>\n",
       "<path clip-path=\"url(#clip140)\" d=\"M0 1600 L2400 1600 L2400 0 L0 0  Z\" fill=\"#ffffff\" fill-rule=\"evenodd\" fill-opacity=\"1\"/>\n",
       "<defs>\n",
       "  <clipPath id=\"clip141\">\n",
       "    <rect x=\"480\" y=\"0\" width=\"1681\" height=\"1600\"/>\n",
       "  </clipPath>\n",
       "</defs>\n",
       "<path clip-path=\"url(#clip140)\" d=\"M193.936 1486.45 L2352.76 1486.45 L2352.76 47.2441 L193.936 47.2441  Z\" fill=\"#ffffff\" fill-rule=\"evenodd\" fill-opacity=\"1\"/>\n",
       "<defs>\n",
       "  <clipPath id=\"clip142\">\n",
       "    <rect x=\"193\" y=\"47\" width=\"2160\" height=\"1440\"/>\n",
       "  </clipPath>\n",
       "</defs>\n",
       "<polyline clip-path=\"url(#clip142)\" style=\"stroke:#000000; stroke-linecap:round; stroke-linejoin:round; stroke-width:2; stroke-opacity:0.1; fill:none\" points=\"244.952,1486.45 244.952,47.2441 \"/>\n",
       "<polyline clip-path=\"url(#clip142)\" style=\"stroke:#000000; stroke-linecap:round; stroke-linejoin:round; stroke-width:2; stroke-opacity:0.1; fill:none\" points=\"749.067,1486.45 749.067,47.2441 \"/>\n",
       "<polyline clip-path=\"url(#clip142)\" style=\"stroke:#000000; stroke-linecap:round; stroke-linejoin:round; stroke-width:2; stroke-opacity:0.1; fill:none\" points=\"1253.18,1486.45 1253.18,47.2441 \"/>\n",
       "<polyline clip-path=\"url(#clip142)\" style=\"stroke:#000000; stroke-linecap:round; stroke-linejoin:round; stroke-width:2; stroke-opacity:0.1; fill:none\" points=\"1757.3,1486.45 1757.3,47.2441 \"/>\n",
       "<polyline clip-path=\"url(#clip142)\" style=\"stroke:#000000; stroke-linecap:round; stroke-linejoin:round; stroke-width:2; stroke-opacity:0.1; fill:none\" points=\"2261.41,1486.45 2261.41,47.2441 \"/>\n",
       "<polyline clip-path=\"url(#clip140)\" style=\"stroke:#000000; stroke-linecap:round; stroke-linejoin:round; stroke-width:4; stroke-opacity:1; fill:none\" points=\"193.936,1486.45 2352.76,1486.45 \"/>\n",
       "<polyline clip-path=\"url(#clip140)\" style=\"stroke:#000000; stroke-linecap:round; stroke-linejoin:round; stroke-width:4; stroke-opacity:1; fill:none\" points=\"244.952,1486.45 244.952,1467.55 \"/>\n",
       "<polyline clip-path=\"url(#clip140)\" style=\"stroke:#000000; stroke-linecap:round; stroke-linejoin:round; stroke-width:4; stroke-opacity:1; fill:none\" points=\"749.067,1486.45 749.067,1467.55 \"/>\n",
       "<polyline clip-path=\"url(#clip140)\" style=\"stroke:#000000; stroke-linecap:round; stroke-linejoin:round; stroke-width:4; stroke-opacity:1; fill:none\" points=\"1253.18,1486.45 1253.18,1467.55 \"/>\n",
       "<polyline clip-path=\"url(#clip140)\" style=\"stroke:#000000; stroke-linecap:round; stroke-linejoin:round; stroke-width:4; stroke-opacity:1; fill:none\" points=\"1757.3,1486.45 1757.3,1467.55 \"/>\n",
       "<polyline clip-path=\"url(#clip140)\" style=\"stroke:#000000; stroke-linecap:round; stroke-linejoin:round; stroke-width:4; stroke-opacity:1; fill:none\" points=\"2261.41,1486.45 2261.41,1467.55 \"/>\n",
       "<path clip-path=\"url(#clip140)\" d=\"M244.952 1517.37 Q241.341 1517.37 239.513 1520.93 Q237.707 1524.47 237.707 1531.6 Q237.707 1538.71 239.513 1542.27 Q241.341 1545.82 244.952 1545.82 Q248.587 1545.82 250.392 1542.27 Q252.221 1538.71 252.221 1531.6 Q252.221 1524.47 250.392 1520.93 Q248.587 1517.37 244.952 1517.37 M244.952 1513.66 Q250.763 1513.66 253.818 1518.27 Q256.897 1522.85 256.897 1531.6 Q256.897 1540.33 253.818 1544.94 Q250.763 1549.52 244.952 1549.52 Q239.142 1549.52 236.064 1544.94 Q233.008 1540.33 233.008 1531.6 Q233.008 1522.85 236.064 1518.27 Q239.142 1513.66 244.952 1513.66 Z\" fill=\"#000000\" fill-rule=\"nonzero\" fill-opacity=\"1\" /><path clip-path=\"url(#clip140)\" d=\"M723.766 1514.29 L742.122 1514.29 L742.122 1518.22 L728.048 1518.22 L728.048 1526.7 Q729.067 1526.35 730.085 1526.19 Q731.104 1526 732.123 1526 Q737.91 1526 741.289 1529.17 Q744.669 1532.34 744.669 1537.76 Q744.669 1543.34 741.197 1546.44 Q737.724 1549.52 731.405 1549.52 Q729.229 1549.52 726.961 1549.15 Q724.715 1548.78 722.308 1548.04 L722.308 1543.34 Q724.391 1544.47 726.613 1545.03 Q728.836 1545.58 731.312 1545.58 Q735.317 1545.58 737.655 1543.48 Q739.993 1541.37 739.993 1537.76 Q739.993 1534.15 737.655 1532.04 Q735.317 1529.94 731.312 1529.94 Q729.437 1529.94 727.562 1530.35 Q725.711 1530.77 723.766 1531.65 L723.766 1514.29 Z\" fill=\"#000000\" fill-rule=\"nonzero\" fill-opacity=\"1\" /><path clip-path=\"url(#clip140)\" d=\"M763.882 1517.37 Q760.271 1517.37 758.442 1520.93 Q756.636 1524.47 756.636 1531.6 Q756.636 1538.71 758.442 1542.27 Q760.271 1545.82 763.882 1545.82 Q767.516 1545.82 769.321 1542.27 Q771.15 1538.71 771.15 1531.6 Q771.15 1524.47 769.321 1520.93 Q767.516 1517.37 763.882 1517.37 M763.882 1513.66 Q769.692 1513.66 772.747 1518.27 Q775.826 1522.85 775.826 1531.6 Q775.826 1540.33 772.747 1544.94 Q769.692 1549.52 763.882 1549.52 Q758.071 1549.52 754.993 1544.94 Q751.937 1540.33 751.937 1531.6 Q751.937 1522.85 754.993 1518.27 Q758.071 1513.66 763.882 1513.66 Z\" fill=\"#000000\" fill-rule=\"nonzero\" fill-opacity=\"1\" /><path clip-path=\"url(#clip140)\" d=\"M1212.79 1544.91 L1220.43 1544.91 L1220.43 1518.55 L1212.12 1520.21 L1212.12 1515.95 L1220.38 1514.29 L1225.06 1514.29 L1225.06 1544.91 L1232.7 1544.91 L1232.7 1548.85 L1212.79 1548.85 L1212.79 1544.91 Z\" fill=\"#000000\" fill-rule=\"nonzero\" fill-opacity=\"1\" /><path clip-path=\"url(#clip140)\" d=\"M1252.14 1517.37 Q1248.53 1517.37 1246.7 1520.93 Q1244.89 1524.47 1244.89 1531.6 Q1244.89 1538.71 1246.7 1542.27 Q1248.53 1545.82 1252.14 1545.82 Q1255.77 1545.82 1257.58 1542.27 Q1259.41 1538.71 1259.41 1531.6 Q1259.41 1524.47 1257.58 1520.93 Q1255.77 1517.37 1252.14 1517.37 M1252.14 1513.66 Q1257.95 1513.66 1261.01 1518.27 Q1264.08 1522.85 1264.08 1531.6 Q1264.08 1540.33 1261.01 1544.94 Q1257.95 1549.52 1252.14 1549.52 Q1246.33 1549.52 1243.25 1544.94 Q1240.2 1540.33 1240.2 1531.6 Q1240.2 1522.85 1243.25 1518.27 Q1246.33 1513.66 1252.14 1513.66 Z\" fill=\"#000000\" fill-rule=\"nonzero\" fill-opacity=\"1\" /><path clip-path=\"url(#clip140)\" d=\"M1282.3 1517.37 Q1278.69 1517.37 1276.86 1520.93 Q1275.06 1524.47 1275.06 1531.6 Q1275.06 1538.71 1276.86 1542.27 Q1278.69 1545.82 1282.3 1545.82 Q1285.94 1545.82 1287.74 1542.27 Q1289.57 1538.71 1289.57 1531.6 Q1289.57 1524.47 1287.74 1520.93 Q1285.94 1517.37 1282.3 1517.37 M1282.3 1513.66 Q1288.11 1513.66 1291.17 1518.27 Q1294.25 1522.85 1294.25 1531.6 Q1294.25 1540.33 1291.17 1544.94 Q1288.11 1549.52 1282.3 1549.52 Q1276.49 1549.52 1273.41 1544.94 Q1270.36 1540.33 1270.36 1531.6 Q1270.36 1522.85 1273.41 1518.27 Q1276.49 1513.66 1282.3 1513.66 Z\" fill=\"#000000\" fill-rule=\"nonzero\" fill-opacity=\"1\" /><path clip-path=\"url(#clip140)\" d=\"M1716.9 1544.91 L1724.54 1544.91 L1724.54 1518.55 L1716.23 1520.21 L1716.23 1515.95 L1724.5 1514.29 L1729.17 1514.29 L1729.17 1544.91 L1736.81 1544.91 L1736.81 1548.85 L1716.9 1548.85 L1716.9 1544.91 Z\" fill=\"#000000\" fill-rule=\"nonzero\" fill-opacity=\"1\" /><path clip-path=\"url(#clip140)\" d=\"M1746.3 1514.29 L1764.66 1514.29 L1764.66 1518.22 L1750.58 1518.22 L1750.58 1526.7 Q1751.6 1526.35 1752.62 1526.19 Q1753.64 1526 1754.66 1526 Q1760.44 1526 1763.82 1529.17 Q1767.2 1532.34 1767.2 1537.76 Q1767.2 1543.34 1763.73 1546.44 Q1760.26 1549.52 1753.94 1549.52 Q1751.76 1549.52 1749.49 1549.15 Q1747.25 1548.78 1744.84 1548.04 L1744.84 1543.34 Q1746.93 1544.47 1749.15 1545.03 Q1751.37 1545.58 1753.85 1545.58 Q1757.85 1545.58 1760.19 1543.48 Q1762.53 1541.37 1762.53 1537.76 Q1762.53 1534.15 1760.19 1532.04 Q1757.85 1529.94 1753.85 1529.94 Q1751.97 1529.94 1750.1 1530.35 Q1748.24 1530.77 1746.3 1531.65 L1746.3 1514.29 Z\" fill=\"#000000\" fill-rule=\"nonzero\" fill-opacity=\"1\" /><path clip-path=\"url(#clip140)\" d=\"M1786.42 1517.37 Q1782.8 1517.37 1780.98 1520.93 Q1779.17 1524.47 1779.17 1531.6 Q1779.17 1538.71 1780.98 1542.27 Q1782.8 1545.82 1786.42 1545.82 Q1790.05 1545.82 1791.86 1542.27 Q1793.68 1538.71 1793.68 1531.6 Q1793.68 1524.47 1791.86 1520.93 Q1790.05 1517.37 1786.42 1517.37 M1786.42 1513.66 Q1792.23 1513.66 1795.28 1518.27 Q1798.36 1522.85 1798.36 1531.6 Q1798.36 1540.33 1795.28 1544.94 Q1792.23 1549.52 1786.42 1549.52 Q1780.61 1549.52 1777.53 1544.94 Q1774.47 1540.33 1774.47 1531.6 Q1774.47 1522.85 1777.53 1518.27 Q1780.61 1513.66 1786.42 1513.66 Z\" fill=\"#000000\" fill-rule=\"nonzero\" fill-opacity=\"1\" /><path clip-path=\"url(#clip140)\" d=\"M2225.1 1544.91 L2241.42 1544.91 L2241.42 1548.85 L2219.48 1548.85 L2219.48 1544.91 Q2222.14 1542.16 2226.72 1537.53 Q2231.33 1532.88 2232.51 1531.53 Q2234.76 1529.01 2235.64 1527.27 Q2236.54 1525.51 2236.54 1523.82 Q2236.54 1521.07 2234.59 1519.33 Q2232.67 1517.6 2229.57 1517.6 Q2227.37 1517.6 2224.92 1518.36 Q2222.49 1519.13 2219.71 1520.68 L2219.71 1515.95 Q2222.53 1514.82 2224.99 1514.24 Q2227.44 1513.66 2229.48 1513.66 Q2234.85 1513.66 2238.04 1516.35 Q2241.24 1519.03 2241.24 1523.52 Q2241.24 1525.65 2240.43 1527.57 Q2239.64 1529.47 2237.53 1532.07 Q2236.95 1532.74 2233.85 1535.95 Q2230.75 1539.15 2225.1 1544.91 Z\" fill=\"#000000\" fill-rule=\"nonzero\" fill-opacity=\"1\" /><path clip-path=\"url(#clip140)\" d=\"M2261.24 1517.37 Q2257.63 1517.37 2255.8 1520.93 Q2253.99 1524.47 2253.99 1531.6 Q2253.99 1538.71 2255.8 1542.27 Q2257.63 1545.82 2261.24 1545.82 Q2264.87 1545.82 2266.68 1542.27 Q2268.51 1538.71 2268.51 1531.6 Q2268.51 1524.47 2266.68 1520.93 Q2264.87 1517.37 2261.24 1517.37 M2261.24 1513.66 Q2267.05 1513.66 2270.1 1518.27 Q2273.18 1522.85 2273.18 1531.6 Q2273.18 1540.33 2270.1 1544.94 Q2267.05 1549.52 2261.24 1549.52 Q2255.43 1549.52 2252.35 1544.94 Q2249.29 1540.33 2249.29 1531.6 Q2249.29 1522.85 2252.35 1518.27 Q2255.43 1513.66 2261.24 1513.66 Z\" fill=\"#000000\" fill-rule=\"nonzero\" fill-opacity=\"1\" /><path clip-path=\"url(#clip140)\" d=\"M2291.4 1517.37 Q2287.79 1517.37 2285.96 1520.93 Q2284.15 1524.47 2284.15 1531.6 Q2284.15 1538.71 2285.96 1542.27 Q2287.79 1545.82 2291.4 1545.82 Q2295.03 1545.82 2296.84 1542.27 Q2298.67 1538.71 2298.67 1531.6 Q2298.67 1524.47 2296.84 1520.93 Q2295.03 1517.37 2291.4 1517.37 M2291.4 1513.66 Q2297.21 1513.66 2300.26 1518.27 Q2303.34 1522.85 2303.34 1531.6 Q2303.34 1540.33 2300.26 1544.94 Q2297.21 1549.52 2291.4 1549.52 Q2285.59 1549.52 2282.51 1544.94 Q2279.45 1540.33 2279.45 1531.6 Q2279.45 1522.85 2282.51 1518.27 Q2285.59 1513.66 2291.4 1513.66 Z\" fill=\"#000000\" fill-rule=\"nonzero\" fill-opacity=\"1\" /><polyline clip-path=\"url(#clip142)\" style=\"stroke:#000000; stroke-linecap:round; stroke-linejoin:round; stroke-width:2; stroke-opacity:0.1; fill:none\" points=\"193.936,1486.45 2352.76,1486.45 \"/>\n",
       "<polyline clip-path=\"url(#clip142)\" style=\"stroke:#000000; stroke-linecap:round; stroke-linejoin:round; stroke-width:2; stroke-opacity:0.1; fill:none\" points=\"193.936,1126.65 2352.76,1126.65 \"/>\n",
       "<polyline clip-path=\"url(#clip142)\" style=\"stroke:#000000; stroke-linecap:round; stroke-linejoin:round; stroke-width:2; stroke-opacity:0.1; fill:none\" points=\"193.936,766.846 2352.76,766.846 \"/>\n",
       "<polyline clip-path=\"url(#clip142)\" style=\"stroke:#000000; stroke-linecap:round; stroke-linejoin:round; stroke-width:2; stroke-opacity:0.1; fill:none\" points=\"193.936,407.045 2352.76,407.045 \"/>\n",
       "<polyline clip-path=\"url(#clip142)\" style=\"stroke:#000000; stroke-linecap:round; stroke-linejoin:round; stroke-width:2; stroke-opacity:0.1; fill:none\" points=\"193.936,47.2441 2352.76,47.2441 \"/>\n",
       "<polyline clip-path=\"url(#clip140)\" style=\"stroke:#000000; stroke-linecap:round; stroke-linejoin:round; stroke-width:4; stroke-opacity:1; fill:none\" points=\"193.936,1486.45 193.936,47.2441 \"/>\n",
       "<polyline clip-path=\"url(#clip140)\" style=\"stroke:#000000; stroke-linecap:round; stroke-linejoin:round; stroke-width:4; stroke-opacity:1; fill:none\" points=\"193.936,1486.45 212.834,1486.45 \"/>\n",
       "<polyline clip-path=\"url(#clip140)\" style=\"stroke:#000000; stroke-linecap:round; stroke-linejoin:round; stroke-width:4; stroke-opacity:1; fill:none\" points=\"193.936,1126.65 212.834,1126.65 \"/>\n",
       "<polyline clip-path=\"url(#clip140)\" style=\"stroke:#000000; stroke-linecap:round; stroke-linejoin:round; stroke-width:4; stroke-opacity:1; fill:none\" points=\"193.936,766.846 212.834,766.846 \"/>\n",
       "<polyline clip-path=\"url(#clip140)\" style=\"stroke:#000000; stroke-linecap:round; stroke-linejoin:round; stroke-width:4; stroke-opacity:1; fill:none\" points=\"193.936,407.045 212.834,407.045 \"/>\n",
       "<polyline clip-path=\"url(#clip140)\" style=\"stroke:#000000; stroke-linecap:round; stroke-linejoin:round; stroke-width:4; stroke-opacity:1; fill:none\" points=\"193.936,47.2441 212.834,47.2441 \"/>\n",
       "<path clip-path=\"url(#clip140)\" d=\"M50.9921 1486.9 L80.6679 1486.9 L80.6679 1490.83 L50.9921 1490.83 L50.9921 1486.9 Z\" fill=\"#000000\" fill-rule=\"nonzero\" fill-opacity=\"1\" /><path clip-path=\"url(#clip140)\" d=\"M90.8067 1469.17 L109.163 1469.17 L109.163 1473.1 L95.0891 1473.1 L95.0891 1481.58 Q96.1076 1481.23 97.1261 1481.07 Q98.1447 1480.88 99.1632 1480.88 Q104.95 1480.88 108.33 1484.05 Q111.709 1487.22 111.709 1492.64 Q111.709 1498.22 108.237 1501.32 Q104.765 1504.4 98.4456 1504.4 Q96.2697 1504.4 94.0012 1504.03 Q91.7558 1503.66 89.3484 1502.92 L89.3484 1498.22 Q91.4317 1499.35 93.6539 1499.91 Q95.8761 1500.46 98.353 1500.46 Q102.358 1500.46 104.696 1498.36 Q107.033 1496.25 107.033 1492.64 Q107.033 1489.03 104.696 1486.92 Q102.358 1484.82 98.353 1484.82 Q96.478 1484.82 94.603 1485.23 Q92.7512 1485.65 90.8067 1486.53 L90.8067 1469.17 Z\" fill=\"#000000\" fill-rule=\"nonzero\" fill-opacity=\"1\" /><path clip-path=\"url(#clip140)\" d=\"M120.922 1497.85 L125.807 1497.85 L125.807 1503.73 L120.922 1503.73 L120.922 1497.85 Z\" fill=\"#000000\" fill-rule=\"nonzero\" fill-opacity=\"1\" /><path clip-path=\"url(#clip140)\" d=\"M145.992 1472.25 Q142.381 1472.25 140.552 1475.81 Q138.746 1479.35 138.746 1486.48 Q138.746 1493.59 140.552 1497.15 Q142.381 1500.7 145.992 1500.7 Q149.626 1500.7 151.431 1497.15 Q153.26 1493.59 153.26 1486.48 Q153.26 1479.35 151.431 1475.81 Q149.626 1472.25 145.992 1472.25 M145.992 1468.54 Q151.802 1468.54 154.857 1473.15 Q157.936 1477.73 157.936 1486.48 Q157.936 1495.21 154.857 1499.82 Q151.802 1504.4 145.992 1504.4 Q140.181 1504.4 137.103 1499.82 Q134.047 1495.21 134.047 1486.48 Q134.047 1477.73 137.103 1473.15 Q140.181 1468.54 145.992 1468.54 Z\" fill=\"#000000\" fill-rule=\"nonzero\" fill-opacity=\"1\" /><path clip-path=\"url(#clip140)\" d=\"M51.9875 1127.1 L81.6633 1127.1 L81.6633 1131.03 L51.9875 1131.03 L51.9875 1127.1 Z\" fill=\"#000000\" fill-rule=\"nonzero\" fill-opacity=\"1\" /><path clip-path=\"url(#clip140)\" d=\"M95.7836 1139.99 L112.103 1139.99 L112.103 1143.93 L90.1586 1143.93 L90.1586 1139.99 Q92.8206 1137.24 97.4039 1132.61 Q102.01 1127.95 103.191 1126.61 Q105.436 1124.09 106.316 1122.35 Q107.219 1120.59 107.219 1118.9 Q107.219 1116.15 105.274 1114.41 Q103.353 1112.68 100.251 1112.68 Q98.0521 1112.68 95.5984 1113.44 Q93.1678 1114.2 90.3901 1115.76 L90.3901 1111.03 Q93.2141 1109.9 95.6678 1109.32 Q98.1215 1108.74 100.159 1108.74 Q105.529 1108.74 108.723 1111.43 Q111.918 1114.11 111.918 1118.6 Q111.918 1120.73 111.108 1122.65 Q110.321 1124.55 108.214 1127.14 Q107.635 1127.82 104.534 1131.03 Q101.432 1134.23 95.7836 1139.99 Z\" fill=\"#000000\" fill-rule=\"nonzero\" fill-opacity=\"1\" /><path clip-path=\"url(#clip140)\" d=\"M121.918 1138.05 L126.802 1138.05 L126.802 1143.93 L121.918 1143.93 L121.918 1138.05 Z\" fill=\"#000000\" fill-rule=\"nonzero\" fill-opacity=\"1\" /><path clip-path=\"url(#clip140)\" d=\"M137.033 1109.37 L155.39 1109.37 L155.39 1113.3 L141.316 1113.3 L141.316 1121.77 Q142.334 1121.43 143.353 1121.27 Q144.371 1121.08 145.39 1121.08 Q151.177 1121.08 154.556 1124.25 Q157.936 1127.42 157.936 1132.84 Q157.936 1138.42 154.464 1141.52 Q150.992 1144.6 144.672 1144.6 Q142.496 1144.6 140.228 1144.23 Q137.982 1143.86 135.575 1143.12 L135.575 1138.42 Q137.658 1139.55 139.881 1140.11 Q142.103 1140.66 144.58 1140.66 Q148.584 1140.66 150.922 1138.56 Q153.26 1136.45 153.26 1132.84 Q153.26 1129.23 150.922 1127.12 Q148.584 1125.01 144.58 1125.01 Q142.705 1125.01 140.83 1125.43 Q138.978 1125.85 137.033 1126.73 L137.033 1109.37 Z\" fill=\"#000000\" fill-rule=\"nonzero\" fill-opacity=\"1\" /><path clip-path=\"url(#clip140)\" d=\"M100.76 752.645 Q97.1493 752.645 95.3206 756.209 Q93.515 759.751 93.515 766.881 Q93.515 773.987 95.3206 777.552 Q97.1493 781.094 100.76 781.094 Q104.395 781.094 106.2 777.552 Q108.029 773.987 108.029 766.881 Q108.029 759.751 106.2 756.209 Q104.395 752.645 100.76 752.645 M100.76 748.941 Q106.571 748.941 109.626 753.547 Q112.705 758.131 112.705 766.881 Q112.705 775.608 109.626 780.214 Q106.571 784.797 100.76 784.797 Q94.9502 784.797 91.8715 780.214 Q88.816 775.608 88.816 766.881 Q88.816 758.131 91.8715 753.547 Q94.9502 748.941 100.76 748.941 Z\" fill=\"#000000\" fill-rule=\"nonzero\" fill-opacity=\"1\" /><path clip-path=\"url(#clip140)\" d=\"M120.922 778.246 L125.807 778.246 L125.807 784.126 L120.922 784.126 L120.922 778.246 Z\" fill=\"#000000\" fill-rule=\"nonzero\" fill-opacity=\"1\" /><path clip-path=\"url(#clip140)\" d=\"M145.992 752.645 Q142.381 752.645 140.552 756.209 Q138.746 759.751 138.746 766.881 Q138.746 773.987 140.552 777.552 Q142.381 781.094 145.992 781.094 Q149.626 781.094 151.431 777.552 Q153.26 773.987 153.26 766.881 Q153.26 759.751 151.431 756.209 Q149.626 752.645 145.992 752.645 M145.992 748.941 Q151.802 748.941 154.857 753.547 Q157.936 758.131 157.936 766.881 Q157.936 775.608 154.857 780.214 Q151.802 784.797 145.992 784.797 Q140.181 784.797 137.103 780.214 Q134.047 775.608 134.047 766.881 Q134.047 758.131 137.103 753.547 Q140.181 748.941 145.992 748.941 Z\" fill=\"#000000\" fill-rule=\"nonzero\" fill-opacity=\"1\" /><path clip-path=\"url(#clip140)\" d=\"M95.7836 420.39 L112.103 420.39 L112.103 424.325 L90.1586 424.325 L90.1586 420.39 Q92.8206 417.635 97.4039 413.006 Q102.01 408.353 103.191 407.01 Q105.436 404.487 106.316 402.751 Q107.219 400.992 107.219 399.302 Q107.219 396.547 105.274 394.811 Q103.353 393.075 100.251 393.075 Q98.0521 393.075 95.5984 393.839 Q93.1678 394.603 90.3901 396.154 L90.3901 391.432 Q93.2141 390.297 95.6678 389.719 Q98.1215 389.14 100.159 389.14 Q105.529 389.14 108.723 391.825 Q111.918 394.51 111.918 399.001 Q111.918 401.131 111.108 403.052 Q110.321 404.95 108.214 407.543 Q107.635 408.214 104.534 411.432 Q101.432 414.626 95.7836 420.39 Z\" fill=\"#000000\" fill-rule=\"nonzero\" fill-opacity=\"1\" /><path clip-path=\"url(#clip140)\" d=\"M121.918 418.445 L126.802 418.445 L126.802 424.325 L121.918 424.325 L121.918 418.445 Z\" fill=\"#000000\" fill-rule=\"nonzero\" fill-opacity=\"1\" /><path clip-path=\"url(#clip140)\" d=\"M137.033 389.765 L155.39 389.765 L155.39 393.7 L141.316 393.7 L141.316 402.172 Q142.334 401.825 143.353 401.663 Q144.371 401.478 145.39 401.478 Q151.177 401.478 154.556 404.649 Q157.936 407.82 157.936 413.237 Q157.936 418.816 154.464 421.918 Q150.992 424.996 144.672 424.996 Q142.496 424.996 140.228 424.626 Q137.982 424.256 135.575 423.515 L135.575 418.816 Q137.658 419.95 139.881 420.506 Q142.103 421.061 144.58 421.061 Q148.584 421.061 150.922 418.955 Q153.26 416.848 153.26 413.237 Q153.26 409.626 150.922 407.52 Q148.584 405.413 144.58 405.413 Q142.705 405.413 140.83 405.83 Q138.978 406.246 137.033 407.126 L137.033 389.765 Z\" fill=\"#000000\" fill-rule=\"nonzero\" fill-opacity=\"1\" /><path clip-path=\"url(#clip140)\" d=\"M90.8067 29.9641 L109.163 29.9641 L109.163 33.8993 L95.0891 33.8993 L95.0891 42.3714 Q96.1076 42.0242 97.1261 41.8622 Q98.1447 41.677 99.1632 41.677 Q104.95 41.677 108.33 44.8483 Q111.709 48.0196 111.709 53.4362 Q111.709 59.0149 108.237 62.1167 Q104.765 65.1954 98.4456 65.1954 Q96.2697 65.1954 94.0012 64.825 Q91.7558 64.4547 89.3484 63.7139 L89.3484 59.0149 Q91.4317 60.1491 93.6539 60.7047 Q95.8761 61.2602 98.353 61.2602 Q102.358 61.2602 104.696 59.1538 Q107.033 57.0473 107.033 53.4362 Q107.033 49.8251 104.696 47.7186 Q102.358 45.6122 98.353 45.6122 Q96.478 45.6122 94.603 46.0288 Q92.7512 46.4455 90.8067 47.3251 L90.8067 29.9641 Z\" fill=\"#000000\" fill-rule=\"nonzero\" fill-opacity=\"1\" /><path clip-path=\"url(#clip140)\" d=\"M120.922 58.6445 L125.807 58.6445 L125.807 64.5241 L120.922 64.5241 L120.922 58.6445 Z\" fill=\"#000000\" fill-rule=\"nonzero\" fill-opacity=\"1\" /><path clip-path=\"url(#clip140)\" d=\"M145.992 33.0428 Q142.381 33.0428 140.552 36.6076 Q138.746 40.1492 138.746 47.2788 Q138.746 54.3853 140.552 57.9501 Q142.381 61.4917 145.992 61.4917 Q149.626 61.4917 151.431 57.9501 Q153.26 54.3853 153.26 47.2788 Q153.26 40.1492 151.431 36.6076 Q149.626 33.0428 145.992 33.0428 M145.992 29.3391 Q151.802 29.3391 154.857 33.9456 Q157.936 38.5289 157.936 47.2788 Q157.936 56.0056 154.857 60.6121 Q151.802 65.1954 145.992 65.1954 Q140.181 65.1954 137.103 60.6121 Q134.047 56.0056 134.047 47.2788 Q134.047 38.5289 137.103 33.9456 Q140.181 29.3391 145.992 29.3391 Z\" fill=\"#000000\" fill-rule=\"nonzero\" fill-opacity=\"1\" /><polyline clip-path=\"url(#clip142)\" style=\"stroke:#009af9; stroke-linecap:round; stroke-linejoin:round; stroke-width:4; stroke-opacity:1; fill:none\" points=\"255.035,795.515 265.117,794.342 275.199,794.118 285.282,795.264 295.364,796.693 305.446,797.516 315.528,796.641 325.611,796.587 335.693,797.505 345.775,796.1 355.858,794.633 365.94,793.749 376.022,793.407 386.104,792.594 396.187,791.401 406.269,789.894 416.351,787.489 426.434,785.423 436.516,783.184 446.598,780.842 456.68,779.184 466.763,778.423 476.845,778.119 486.927,778.008 497.01,777.883 507.092,777.476 517.174,776.469 527.257,774.89 537.339,773.468 547.421,772.998 557.503,773.193 567.586,772.64 577.668,771.295 587.75,769.821 597.833,767.312 607.915,765.123 617.997,763.93 628.079,762.592 638.162,761.251 648.244,760.832 658.326,761.741 668.409,762.357 678.491,762.549 688.573,761.792 698.655,761.148 708.738,761.174 718.82,761.883 728.902,762.06 738.985,761.484 749.067,759.446 759.149,757.307 769.231,755.261 779.314,752.565 789.396,748.697 799.478,743.374 809.561,737.966 819.643,732.406 829.725,727.052 839.807,722.392 849.89,718.655 859.972,715.789 870.054,713.315 880.137,710.993 890.219,708.845 900.301,706.461 910.384,705.043 920.466,703.433 930.548,702.425 940.63,702.031 950.713,700.293 960.795,699.928 970.877,699.75 980.96,700.832 991.042,703.018 1001.12,705.707 1011.21,709.01 1021.29,711.944 1031.37,714.845 1041.45,718.312 1051.54,723.205 1061.62,726.685 1071.7,729.898 1081.78,731.747 1091.86,732.975 1101.95,733.965 1112.03,735.581 1122.11,735.784 1132.19,736.76 1142.28,738.695 1152.36,740.641 1162.44,742.76 1172.52,744.931 1182.61,747.023 1192.69,748.842 1202.77,750.958 1212.85,753.524 1222.93,756.604 1233.02,759.442 1243.1,762.014 1253.18,763.674 1263.26,765.397 1273.35,766.419 1283.43,767.382 1293.51,768.069 1303.59,768.052 1313.68,767.312 1323.76,766.607 1333.84,766.796 1343.92,766.867 1354,767.349 1364.09,767.821 1374.17,767.517 1384.25,767.789 1394.33,769.101 1404.42,770.477 1414.5,771.378 1424.58,771.568 1434.66,771.513 1444.74,770.376 1454.83,767.722 1464.91,765.272 1474.99,763.355 1485.07,762.858 1495.16,762.87 1505.24,763.864 1515.32,764.736 1525.4,766.045 1535.49,767.684 1545.57,768.558 1555.65,769.437 1565.73,769.629 1575.81,769.325 1585.9,768.75 1595.98,768.044 1606.06,768.225 1616.14,766.957 1626.23,765.136 1636.31,764.291 1646.39,764.13 1656.47,764.543 1666.56,765.6 1676.64,766.441 1686.72,766.639 1696.8,766.777 1706.88,767.618 1716.97,769.744 1727.05,771.233 1737.13,772.553 1747.21,774.001 1757.3,775.501 1767.38,778.504 1777.46,778.671 1787.54,776.691 1797.63,773.907 1807.71,771.038 1817.79,769.08 1827.87,766.786 1837.95,764.805 1848.04,762.465 1858.12,761.119 1868.2,760.217 1878.28,759.648 1888.37,759.096 1898.45,758.936 1908.53,758.271 1918.61,757.744 1928.69,757.663 1938.78,758.197 1948.86,759.097 1958.94,760.297 1969.02,761.088 1979.11,761.466 1989.19,762.041 1999.27,762.397 2009.35,763.198 2019.44,764.49 2029.52,765.615 2039.6,766.397 2049.68,766.909 2059.76,767.18 2069.85,766.449 2079.93,764.806 2090.01,763.665 2100.09,761.883 2110.18,760.264 2120.26,759.321 2130.34,758.296 2140.42,756.145 2150.51,754.3 2160.59,751.887 2170.67,749.936 2180.75,748.808 2190.83,748.05 2200.92,747.072 2211,745.111 2221.08,744.561 2231.16,744.326 2241.25,744.07 2251.33,746.214 2261.41,748.533 2271.49,751.174 2281.57,753.248 2291.66,753.351 \"/>\n",
       "<polyline clip-path=\"url(#clip142)\" style=\"stroke:#e26f46; stroke-linecap:round; stroke-linejoin:round; stroke-width:4; stroke-opacity:1; fill:none\" points=\"255.035,1063.8 265.117,1062.55 275.199,1060.1 285.282,1057.54 295.364,1055.7 305.446,1054.13 315.528,1052.4 325.611,1050.93 335.693,1049.09 345.775,1047.9 355.858,1046.53 365.94,1045.44 376.022,1045.36 386.104,1045.62 396.187,1045.01 406.269,1043.95 416.351,1042.37 426.434,1040.15 436.516,1037.44 446.598,1035.01 456.68,1033.26 466.763,1031.67 476.845,1028.98 486.927,1025.42 497.01,1021.28 507.092,1017.21 517.174,1012.7 527.257,1008.07 537.339,1003.37 547.421,998.437 557.503,992.04 567.586,985.492 577.668,978.256 587.75,970.788 597.833,963.707 607.915,956.398 617.997,950.06 628.079,942.807 638.162,934.737 648.244,927.586 658.326,921.115 668.409,914.081 678.491,906.801 688.573,900.255 698.655,894.272 708.738,887.374 718.82,880.399 728.902,873.737 738.985,868.057 749.067,862.867 759.149,857.111 769.231,850.072 779.314,843.268 789.396,837.023 799.478,830.413 809.561,823.009 819.643,817.045 829.725,811.68 839.807,806.666 849.89,801.555 859.972,796.407 870.054,791.298 880.137,785.141 890.219,778.657 900.301,771.927 910.384,765.386 920.466,759.15 930.548,752.467 940.63,746.048 950.713,740.07 960.795,733.595 970.877,727.096 980.96,719.454 991.042,711.112 1001.12,702.31 1011.21,692.93 1021.29,683.68 1031.37,675.825 1041.45,667.749 1051.54,660.176 1061.62,653.124 1071.7,646.31 1081.78,639.458 1091.86,632.694 1101.95,626.532 1112.03,620.972 1122.11,614.072 1132.19,607.004 1142.28,599.155 1152.36,590.444 1162.44,580.004 1172.52,569.382 1182.61,559.004 1192.69,549.74 1202.77,539.923 1212.85,529.733 1222.93,518.317 1233.02,505.369 1243.1,491.985 1253.18,478.598 1263.26,464.428 1273.35,449.615 1283.43,434.135 1293.51,417.866 \"/>\n",
       "<polyline clip-path=\"url(#clip142)\" style=\"stroke:#3da44d; stroke-linecap:round; stroke-linejoin:round; stroke-width:4; stroke-opacity:1; fill:none\" points=\"255.035,620.546 265.117,621.167 275.199,621.219 285.282,621.459 295.364,622.059 305.446,621.94 315.528,621.048 325.611,620.477 335.693,620.956 345.775,621.262 355.858,620.908 365.94,620.975 376.022,620.515 386.104,620.317 396.187,620.714 406.269,621.001 416.351,621.706 426.434,622.701 436.516,623.596 446.598,624.858 456.68,626.289 466.763,627.651 476.845,629.065 486.927,630.089 497.01,630.18 507.092,630.142 517.174,630.211 527.257,630.984 537.339,631.428 547.421,633.004 557.503,635.106 567.586,638.296 577.668,641.655 587.75,643.872 597.833,646.839 607.915,650.231 617.997,653.973 628.079,657.915 638.162,663.512 648.244,669.394 658.326,674.565 668.409,680.415 678.491,685.992 688.573,691.654 698.655,696.785 708.738,701.998 718.82,707.003 728.902,711.628 738.985,715.402 749.067,718.738 759.149,722.136 769.231,724.613 779.314,726.862 789.396,728.489 799.478,728.75 809.561,728.737 819.643,727.902 829.725,726.816 839.807,726.606 849.89,726.593 859.972,727.084 870.054,727.579 880.137,726.944 890.219,726.001 900.301,724.396 910.384,723.034 920.466,721.639 930.548,720.299 940.63,717.921 950.713,716.491 960.795,714.628 970.877,712.947 980.96,710.811 991.042,708.046 1001.12,705.656 1011.21,703.855 1021.29,702.432 1031.37,701.035 1041.45,700.007 1051.54,698.967 1061.62,696.865 1071.7,696.286 1081.78,697.081 1091.86,697.623 1101.95,698.082 1112.03,698.569 1122.11,699.743 1132.19,701.699 1142.28,703.538 1152.36,704.24 1162.44,704.045 1172.52,705.13 1182.61,707.599 1192.69,709.812 1202.77,712.166 1212.85,714.498 1222.93,716.583 1233.02,718.65 1243.1,721.413 1253.18,724.762 1263.26,728.969 1273.35,734.752 1283.43,739.995 1293.51,744.818 1303.59,750.294 1313.68,755.934 1323.76,760.962 1333.84,765.632 1343.92,770.428 1354,774.199 1364.09,777.072 1374.17,778.8 1384.25,780.035 1394.33,780.768 1404.42,780.885 1414.5,780.702 1424.58,780.154 1434.66,780.397 1444.74,781.198 1454.83,781.399 1464.91,781.72 1474.99,781.554 1485.07,779.872 1495.16,777.768 1505.24,776.518 1515.32,774.772 1525.4,772.811 1535.49,771.964 1545.57,770.709 1555.65,769.191 1565.73,766.792 1575.81,764.177 1585.9,761.916 1595.98,759.273 1606.06,756.198 1616.14,753.272 1626.23,750.337 1636.31,748.331 1646.39,746.776 1656.47,746.22 1666.56,745.691 1676.64,746.471 1686.72,746.485 1696.8,745.536 1706.88,743.927 1716.97,743.683 1727.05,744.592 1737.13,746.159 1747.21,747.557 1757.3,748.77 1767.38,751.497 1777.46,753.99 1787.54,757.943 1797.63,761.552 1807.71,764.525 1817.79,766.308 1827.87,766.098 1837.95,765.625 1848.04,765.638 1858.12,764.977 1868.2,764.595 1878.28,764.08 1888.37,762.803 1898.45,760.311 1908.53,758.221 1918.61,757.795 1928.69,757.68 1938.78,757.418 1948.86,758.735 1958.94,760.026 1969.02,762.012 1979.11,763.26 1989.19,764.046 1999.27,763.781 2009.35,763.015 2019.44,763.489 2029.52,764.343 2039.6,763.751 2049.68,761.621 2059.76,760.364 2069.85,760.117 2079.93,759.254 2090.01,757.775 2100.09,756.145 2110.18,755.437 2120.26,756.096 2130.34,757.513 2140.42,759.229 2150.51,762.219 2160.59,764.975 2170.67,767.141 2180.75,768.993 2190.83,770.431 2200.92,771.713 2211,772.67 2221.08,771.894 2231.16,770.961 2241.25,770.8 2251.33,771.482 2261.41,772.048 2271.49,771.8 2281.57,772.078 2291.66,772.124 \"/>\n",
       "<polyline clip-path=\"url(#clip142)\" style=\"stroke:#c271d2; stroke-linecap:round; stroke-linejoin:round; stroke-width:4; stroke-opacity:1; fill:none\" points=\"255.035,769.653 265.117,769.277 275.199,769.384 285.282,768.712 295.364,768.897 305.446,769.373 315.528,769.053 325.611,768.66 335.693,767.437 345.775,767.976 355.858,768.51 365.94,768.114 376.022,767.457 386.104,767.225 396.187,766.985 406.269,765.654 416.351,764.334 426.434,763.426 436.516,762.66 446.598,762.712 456.68,763.575 466.763,764.873 476.845,766.229 486.927,767.612 497.01,768.141 507.092,768.561 517.174,768.843 527.257,769.283 537.339,768.509 547.421,767.745 557.503,766.744 567.586,764.587 577.668,762.897 587.75,760.843 597.833,758.257 607.915,755.508 617.997,754.207 628.079,754.577 638.162,754.99 648.244,753.762 658.326,752.325 668.409,751.166 678.491,749.305 688.573,748.296 698.655,748.374 708.738,747.113 718.82,746.864 728.902,747.98 738.985,748.789 749.067,749.464 759.149,750.206 769.231,749.904 779.314,749.304 789.396,749.195 799.478,750.291 809.561,752.577 819.643,754.394 829.725,755.027 839.807,755.141 849.89,756.067 859.972,757.627 870.054,759.49 880.137,758.989 890.219,759.388 900.301,758.544 910.384,757.242 920.466,755.255 930.548,753.656 940.63,752.407 950.713,751.593 960.795,750.79 970.877,751.682 980.96,753.202 991.042,754.726 1001.12,755.976 1011.21,756.238 1021.29,755.452 1031.37,753.752 1041.45,751.609 1051.54,750.394 1061.62,749.32 1071.7,748.509 1081.78,748.405 1091.86,749.76 1101.95,751.633 1112.03,753.052 1122.11,754.031 1132.19,755.074 1142.28,756.551 1152.36,758.702 1162.44,760.524 1172.52,762.638 1182.61,765.136 1192.69,767.95 1202.77,769.75 1212.85,769.673 1222.93,769.162 1233.02,768.88 1243.1,768.619 1253.18,768.839 1263.26,769.682 1273.35,770.888 1283.43,771.566 1293.51,771.839 1303.59,771.977 1313.68,772.139 1323.76,772.326 1333.84,771.974 1343.92,771.345 1354,771.195 1364.09,769.551 1374.17,767.271 1384.25,764.252 1394.33,761.458 1404.42,758.853 1414.5,758.189 1424.58,758.983 1434.66,759.434 1444.74,760.546 1454.83,761.092 1464.91,762.291 1474.99,763.673 1485.07,762.851 1495.16,761.466 1505.24,760.894 1515.32,760.435 1525.4,759.951 1535.49,759.327 1545.57,758.169 1555.65,757.655 1565.73,757.639 1575.81,758.09 1585.9,759.937 1595.98,760.023 1606.06,759.898 1616.14,759.947 1626.23,759.859 1636.31,760.244 1646.39,761.118 1656.47,762.852 1666.56,765.241 1676.64,768 1686.72,771.796 1696.8,774.854 1706.88,777.223 1716.97,779.456 1727.05,778.907 1737.13,777.909 1747.21,776.522 1757.3,774.31 1767.38,771.181 1777.46,767.674 1787.54,764.656 1797.63,763.252 1807.71,762.92 1817.79,761.101 1827.87,758.426 1837.95,755.489 1848.04,751.883 1858.12,747.595 1868.2,743.656 1878.28,740.135 1888.37,736.895 1898.45,733.729 1908.53,730.216 1918.61,726.716 1928.69,723.554 1938.78,722.581 1948.86,723.759 1958.94,726.29 1969.02,729.167 1979.11,732.409 1989.19,735.726 1999.27,739.879 2009.35,743.133 2019.44,745.267 2029.52,746.759 2039.6,748.654 2049.68,751.312 2059.76,752.577 2069.85,753.856 2079.93,754.662 2090.01,755.132 2100.09,754.916 2110.18,754.637 2120.26,755.317 2130.34,755.128 2140.42,756.303 2150.51,758.125 2160.59,759.136 2170.67,760.593 2180.75,762.726 2190.83,763.873 2200.92,763.013 2211,762.544 2221.08,762.536 2231.16,762.675 2241.25,762.458 2251.33,761.901 2261.41,760.843 2271.49,759.591 2281.57,757.759 2291.66,757.623 \"/>\n",
       "<polyline clip-path=\"url(#clip142)\" style=\"stroke:#ac8d18; stroke-linecap:round; stroke-linejoin:round; stroke-width:4; stroke-opacity:1; fill:none\" points=\"255.035,1161.93 265.117,1160.98 275.199,1159.2 285.282,1157.36 295.364,1155.04 305.446,1154 315.528,1151.65 325.611,1149.11 335.693,1147.05 345.775,1145.13 355.858,1142.07 365.94,1137.81 376.022,1134.19 386.104,1130.93 396.187,1127.72 406.269,1124.51 416.351,1121.15 426.434,1117.81 436.516,1114.77 446.598,1110.31 456.68,1105.44 466.763,1100.37 476.845,1095.2 486.927,1088.26 497.01,1081.74 507.092,1075.17 517.174,1067.83 527.257,1060.98 537.339,1054.67 547.421,1049.01 557.503,1043.25 567.586,1037.26 577.668,1030.4 587.75,1022.62 597.833,1015.05 607.915,1007.43 617.997,1001.19 628.079,994.556 638.162,988.173 648.244,982.366 658.326,976.728 668.409,970.75 678.491,964.447 688.573,959.08 698.655,953.161 708.738,946.33 718.82,940.068 728.902,934.566 738.985,929.21 749.067,923.38 759.149,916.742 769.231,910.291 779.314,904.281 789.396,897.88 799.478,891.461 809.561,883.394 819.643,874.208 829.725,864.42 839.807,854.553 849.89,844.903 859.972,835.725 870.054,827.234 880.137,818.959 890.219,812.613 900.301,806.285 910.384,800.516 920.466,794.879 930.548,790.226 940.63,787.038 950.713,784.144 960.795,780.813 970.877,777.278 980.96,774.419 991.042,771.573 1001.12,769.11 1011.21,767.354 1021.29,765.99 1031.37,764.69 1041.45,764.794 1051.54,764.311 1061.62,764.31 1071.7,763.667 1081.78,762.513 1091.86,760.707 1101.95,758.922 1112.03,758.426 1122.11,757.921 1132.19,757.543 1142.28,756.784 1152.36,757.247 1162.44,758.087 1172.52,757.644 1182.61,757.966 1192.69,757.766 1202.77,757.622 1212.85,757.611 1222.93,756.888 1233.02,756.514 1243.1,756.33 1253.18,756.209 1263.26,755.904 1273.35,755.11 1283.43,754.437 1293.51,752.84 1303.59,750.808 1313.68,749.001 1323.76,746.375 1333.84,743.733 1343.92,741.616 1354,740.444 1364.09,739.109 1374.17,736.541 1384.25,734.61 1394.33,732.791 1404.42,730.827 1414.5,731.12 1424.58,731.852 1434.66,732.68 1444.74,734.25 1454.83,735.45 1464.91,736.371 1474.99,738.458 1485.07,741.169 1495.16,743.744 1505.24,746.159 1515.32,748.273 1525.4,749.865 1535.49,751.724 1545.57,753.194 1555.65,753.625 1565.73,754.081 1575.81,754.068 1585.9,753.943 1595.98,753.33 1606.06,754.163 1616.14,755.247 1626.23,754.712 1636.31,753.8 1646.39,752.864 1656.47,753.413 1666.56,753.779 1676.64,753.513 1686.72,753.573 1696.8,753.856 1706.88,754.155 1716.97,754.409 1727.05,754.579 1737.13,754.687 1747.21,754.883 1757.3,754.879 1767.38,754.372 1777.46,754.285 1787.54,753.822 1797.63,753.23 1807.71,752.372 1817.79,752.459 1827.87,752.652 1837.95,752.783 1848.04,753.176 1858.12,752.749 1868.2,751.565 1878.28,749.463 1888.37,746.847 1898.45,744.106 1908.53,740.914 1918.61,737.632 1928.69,735.043 1938.78,733.181 1948.86,731.818 1958.94,731.432 1969.02,731.943 1979.11,734.047 1989.19,737.398 1999.27,742.199 2009.35,746.823 2019.44,751.578 2029.52,757.281 2039.6,762.712 2049.68,767.005 2059.76,770.787 2069.85,774.413 2079.93,775.877 2090.01,774.374 2100.09,771.533 2110.18,768.624 2120.26,765.374 2130.34,761.919 2140.42,759.555 2150.51,758.653 2160.59,758.684 2170.67,758.191 2180.75,757.511 2190.83,756.671 2200.92,755.563 2211,754.33 2221.08,753.2 2231.16,754.078 2241.25,755.038 2251.33,755.655 2261.41,757.281 2271.49,758.996 2281.57,760.157 2291.66,760.22 \"/>\n",
       "<polyline clip-path=\"url(#clip142)\" style=\"stroke:#00a9ad; stroke-linecap:round; stroke-linejoin:round; stroke-width:4; stroke-opacity:1; fill:none\" points=\"255.035,603.134 265.117,605.006 275.199,606.403 285.282,606.292 295.364,605.724 305.446,605.513 315.528,606.412 325.611,606.835 335.693,607.829 345.775,609.206 355.858,611.146 365.94,613.402 376.022,614.833 386.104,617.368 396.187,618.904 406.269,620.794 416.351,622.723 426.434,624.255 436.516,625.443 446.598,627.163 456.68,630.391 466.763,633.867 476.845,636.778 486.927,638.761 497.01,638.718 507.092,639.284 517.174,640.502 527.257,643.359 537.339,646.267 547.421,648.53 557.503,652.053 567.586,656.281 577.668,660.98 587.75,664.864 597.833,667.301 607.915,669.442 617.997,672.394 628.079,675.145 638.162,678.134 648.244,680.761 658.326,683.434 668.409,686.45 678.491,689.817 688.573,693.51 698.655,697.052 708.738,700.098 718.82,703.18 728.902,705.791 738.985,708.147 749.067,710.331 759.149,713.09 769.231,715.629 779.314,718.73 789.396,721.76 799.478,724.848 809.561,728.334 819.643,730.195 829.725,732.624 839.807,735.228 849.89,735.473 859.972,734.594 870.054,734.643 880.137,734.978 890.219,734.905 900.301,734.68 910.384,735.52 920.466,736.244 930.548,737.284 940.63,737.359 950.713,736.502 960.795,736.233 970.877,736.17 980.96,736.442 991.042,737.238 1001.12,737.694 1011.21,738.133 1021.29,738.961 1031.37,739.7 1041.45,741.211 1051.54,742.287 1061.62,743.009 1071.7,742.955 1081.78,742.571 1091.86,741.999 1101.95,740.892 1112.03,739.432 1122.11,737.93 1132.19,737.044 1142.28,735.922 1152.36,735.042 1162.44,736.097 1172.52,738.357 1182.61,740.009 1192.69,740.315 1202.77,741.066 1212.85,740.729 1222.93,739.99 1233.02,740.967 1243.1,741.809 1253.18,742.144 1263.26,741.741 1273.35,742.152 1283.43,743.06 1293.51,744.073 1303.59,745.665 1313.68,745.805 1323.76,744.751 1333.84,743.712 1343.92,742.543 1354,743.301 1364.09,744.707 1374.17,746.21 1384.25,747.033 1394.33,746.901 1404.42,748.393 1414.5,750.076 1424.58,751.521 1434.66,752.94 1444.74,755.71 1454.83,757.396 1464.91,758.357 1474.99,759.056 1485.07,759.996 1495.16,761.051 1505.24,762.593 1515.32,763.788 1525.4,764.968 1535.49,765.936 1545.57,766.063 1555.65,766.652 1565.73,767.486 1575.81,768.221 1585.9,767.675 1595.98,766.606 1606.06,766.091 1616.14,766.081 1626.23,766.407 1636.31,765.602 1646.39,765.404 1656.47,765.159 1666.56,764.696 1676.64,763.873 1686.72,762.683 1696.8,762.264 1706.88,761.836 1716.97,760.794 1727.05,760.143 1737.13,761.496 1747.21,762.854 1757.3,763.618 1767.38,763.765 1777.46,763.264 1787.54,761.644 1797.63,758.912 1807.71,756.125 1817.79,754.47 1827.87,753.437 1837.95,752.399 1848.04,750.927 1858.12,750.569 1868.2,750.963 1878.28,752.52 1888.37,754.222 1898.45,755.475 1908.53,755.719 1918.61,754.575 1928.69,753.695 1938.78,753.414 1948.86,753.616 1958.94,755.404 1969.02,757.563 1979.11,759.866 1989.19,760.905 1999.27,762.053 2009.35,763.195 2019.44,764.755 2029.52,766.42 2039.6,767.695 2049.68,769.151 2059.76,770.587 2069.85,770.787 2079.93,769.54 2090.01,768.79 2100.09,769.419 2110.18,769.602 2120.26,769.084 2130.34,768.149 2140.42,767.694 2150.51,767.319 2160.59,766.021 2170.67,763.744 2180.75,761.181 2190.83,759.331 2200.92,758.24 2211,756.254 2221.08,755.007 2231.16,753.634 2241.25,752.966 2251.33,753.953 2261.41,754.319 2271.49,753.139 2281.57,751.407 2291.66,751.303 \"/>\n",
       "<polyline clip-path=\"url(#clip142)\" style=\"stroke:#ed5d92; stroke-linecap:round; stroke-linejoin:round; stroke-width:4; stroke-opacity:1; fill:none\" points=\"255.035,715.501 265.117,715.294 275.199,714.312 285.282,713.391 295.364,712.067 305.446,711.341 315.528,711.252 325.611,711.356 335.693,710.61 345.775,710.541 355.858,711.002 365.94,712.521 376.022,713.947 386.104,714.666 396.187,715.521 406.269,715.205 416.351,714.804 426.434,715.237 436.516,714.987 446.598,714.54 456.68,714.256 466.763,714.144 476.845,714.136 486.927,714.778 497.01,716.346 507.092,717.449 517.174,717.41 527.257,716.346 537.339,715.597 547.421,716.391 557.503,717.406 567.586,717.741 577.668,718.664 587.75,720.176 597.833,721.933 607.915,723.136 617.997,724.863 628.079,726.627 638.162,727.846 648.244,728.883 658.326,730.113 668.409,731.755 678.491,733.539 688.573,734.539 698.655,734.582 708.738,734.379 718.82,734.029 728.902,734.315 738.985,735.634 749.067,736.998 759.149,738.326 769.231,739.354 779.314,738.896 789.396,737.93 799.478,736.436 809.561,734.631 819.643,734.06 829.725,734.431 839.807,734.142 849.89,731.942 859.972,731.176 870.054,731.136 880.137,732.197 890.219,734.689 900.301,737.82 910.384,741.237 920.466,744.689 930.548,747.388 940.63,749.079 950.713,750.513 960.795,752.769 970.877,753.713 980.96,753.197 991.042,752.596 1001.12,751.585 1011.21,749.702 1021.29,748.391 1031.37,747.564 1041.45,746.263 1051.54,745.498 1061.62,743.868 1071.7,741.023 1081.78,738.108 1091.86,735.421 1101.95,733.069 1112.03,731.146 1122.11,729.777 1132.19,730.48 1142.28,730.745 1152.36,729.823 1162.44,729.495 1172.52,729.418 1182.61,728.395 1192.69,726.362 1202.77,724.881 1212.85,722.597 1222.93,719.931 1233.02,718.952 1243.1,719.018 1253.18,719.4 1263.26,720.5 1273.35,722.3 1283.43,724.863 1293.51,727.736 1303.59,730.187 1313.68,732.797 1323.76,735.253 1333.84,737.894 1343.92,740.248 1354,741.424 1364.09,742.818 1374.17,745 1384.25,747.02 1394.33,749.556 1404.42,752.018 1414.5,753.032 1424.58,752.606 1434.66,753.353 1444.74,753.447 1454.83,752.274 1464.91,748.652 1474.99,744.679 1485.07,741.586 1495.16,740.599 1505.24,741.764 1515.32,743.601 1525.4,744.533 1535.49,745.554 1545.57,746.049 1555.65,746.821 1565.73,748.16 1575.81,749.759 1585.9,751.393 1595.98,753.675 1606.06,755.932 1616.14,757.993 1626.23,758.462 1636.31,759.585 1646.39,759.042 1656.47,758.042 1666.56,757.287 1676.64,756.068 1686.72,755.795 1696.8,757.242 1706.88,757.814 1716.97,757.957 1727.05,758.251 1737.13,757.737 1747.21,756.569 1757.3,755.016 1767.38,754.67 1777.46,754.903 1787.54,755.471 1797.63,756.119 1807.71,756.377 1817.79,755.543 1827.87,755.003 1837.95,753.902 1848.04,751.7 1858.12,749.738 1868.2,747.38 1878.28,745.086 1888.37,743.466 1898.45,742.219 1908.53,742.077 1918.61,743.25 1928.69,744.691 1938.78,743.851 1948.86,742.497 1958.94,741.85 1969.02,741.147 1979.11,740.981 1989.19,740.487 1999.27,740.812 2009.35,742.259 2019.44,744.016 2029.52,746.41 2039.6,750.278 2049.68,753.181 2059.76,755.428 2069.85,757.806 2079.93,760.445 2090.01,763.822 2100.09,765.296 2110.18,766.725 2120.26,768.093 2130.34,770.424 2140.42,772.302 2150.51,773.663 2160.59,775.047 2170.67,775.751 2180.75,775.605 2190.83,776.514 2200.92,777.774 2211,777.925 2221.08,778.87 2231.16,779.71 2241.25,780.702 2251.33,780.892 2261.41,778.475 2271.49,775.247 2281.57,773.09 2291.66,773.028 \"/>\n",
       "<polyline clip-path=\"url(#clip142)\" style=\"stroke:#c68125; stroke-linecap:round; stroke-linejoin:round; stroke-width:4; stroke-opacity:1; fill:none\" points=\"255.035,640.135 265.117,640.474 275.199,642.315 285.282,642.85 295.364,643.317 305.446,643.913 315.528,644.234 325.611,645.587 335.693,647.282 345.775,648.415 355.858,649.515 365.94,649.078 376.022,649.559 386.104,649.579 396.187,650.265 406.269,650.176 416.351,651.063 426.434,652.884 436.516,654.337 446.598,656.936 456.68,659.42 466.763,663.521 476.845,667.509 486.927,671.333 497.01,675.24 507.092,678.257 517.174,680.265 527.257,681.743 537.339,683.036 547.421,684.731 557.503,686.012 567.586,687.867 577.668,689.414 587.75,691.597 597.833,693.08 607.915,694.48 617.997,695.713 628.079,698.206 638.162,701.569 648.244,704.563 658.326,707.068 668.409,710.09 678.491,713.11 688.573,715.159 698.655,718.264 708.738,722.343 718.82,726.433 728.902,730.245 738.985,733.351 749.067,735.627 759.149,736.679 769.231,736.972 779.314,736.124 789.396,736.168 799.478,736.439 809.561,735.343 819.643,733.723 829.725,733.701 839.807,735.643 849.89,737.725 859.972,741.338 870.054,744.84 880.137,747.864 890.219,750.58 900.301,753.07 910.384,756.002 920.466,759.404 930.548,761.307 940.63,761.951 950.713,761.27 960.795,761.976 970.877,763.653 980.96,765.099 991.042,766.785 1001.12,767.541 1011.21,767.858 1021.29,766.249 1031.37,764.326 1041.45,760.864 1051.54,757.82 1061.62,754.848 1071.7,752.074 1081.78,750.098 1091.86,748.591 1101.95,747.037 1112.03,746.548 1122.11,746.831 1132.19,745.348 1142.28,744.229 1152.36,742.069 1162.44,738.888 1172.52,736.346 1182.61,734.32 1192.69,732.484 1202.77,731.692 1212.85,731.583 1222.93,731.751 1233.02,733.104 1243.1,734.585 1253.18,735.493 1263.26,736.903 1273.35,737.824 1283.43,739.007 1293.51,739.689 1303.59,739.8 1313.68,739.986 1323.76,740.328 1333.84,740.053 1343.92,739.63 1354,739.533 1364.09,740.182 1374.17,741.523 1384.25,742.493 1394.33,742.925 1404.42,743.26 1414.5,744.159 1424.58,745.226 1434.66,745.988 1444.74,747.079 1454.83,748.313 1464.91,749.766 1474.99,750.749 1485.07,751.317 1495.16,752.078 1505.24,753.561 1515.32,755.231 1525.4,755.992 1535.49,757.067 1545.57,758.399 1555.65,759.752 1565.73,760.568 1575.81,759.353 1585.9,758.468 1595.98,756.182 1606.06,753.616 1616.14,750.782 1626.23,747.91 1636.31,746.242 1646.39,745.517 1656.47,744.659 1666.56,744.629 1676.64,744.803 1686.72,745.673 1696.8,747.478 1706.88,749.032 1716.97,751.278 1727.05,753.728 1737.13,754.794 1747.21,755.508 1757.3,755.812 1767.38,756.249 1777.46,757.159 1787.54,758.565 1797.63,761.208 1807.71,763.339 1817.79,765.115 1827.87,766.718 1837.95,769.024 1848.04,771.341 1858.12,772.785 1868.2,773.323 1878.28,774.495 1888.37,776.162 1898.45,776.04 1908.53,773.402 1918.61,771.961 1928.69,770.704 1938.78,769.834 1948.86,769.816 1958.94,769.628 1969.02,768.515 1979.11,767.056 1989.19,766.242 1999.27,766.688 2009.35,767.338 2019.44,768.029 2029.52,767.587 2039.6,767.336 2049.68,766.529 2059.76,765.823 2069.85,763.973 2079.93,761.71 2090.01,760.537 2100.09,759.138 2110.18,756.973 2120.26,754.066 2130.34,752.07 2140.42,750.821 2150.51,749.655 2160.59,748.078 2170.67,746.767 2180.75,745.665 2190.83,745.384 2200.92,746.156 2211,746.99 2221.08,748.55 2231.16,749.826 2241.25,750.502 2251.33,751.084 2261.41,751.542 2271.49,752.032 2281.57,752.194 2291.66,752.216 \"/>\n",
       "<polyline clip-path=\"url(#clip142)\" style=\"stroke:#00a98d; stroke-linecap:round; stroke-linejoin:round; stroke-width:4; stroke-opacity:1; fill:none\" points=\"255.035,807.567 265.117,807.349 275.199,805.486 285.282,804.031 295.364,802.704 305.446,802.312 315.528,801.823 325.611,800.587 335.693,798.988 345.775,797.214 355.858,796.474 365.94,795.688 376.022,795.03 386.104,793.912 396.187,793.211 406.269,793.037 416.351,792.757 426.434,792.203 436.516,791.366 446.598,789.948 456.68,788.683 466.763,787.447 476.845,784.896 486.927,781.386 497.01,778.157 507.092,774.673 517.174,771.704 527.257,769.804 537.339,768.952 547.421,768.485 557.503,768.444 567.586,769.203 577.668,769.72 587.75,769.665 597.833,770.307 607.915,770.973 617.997,771.331 628.079,770.33 638.162,770.39 648.244,770.695 658.326,770.771 668.409,771.04 678.491,770.922 688.573,770.505 698.655,770.523 708.738,770.077 718.82,770.967 728.902,771.986 738.985,771.714 749.067,770.974 759.149,769.97 769.231,769.715 779.314,770.486 789.396,771.064 799.478,771.287 809.561,771.253 819.643,771.327 829.725,771.568 839.807,771.894 849.89,771.893 859.972,770.943 870.054,769.139 880.137,766.499 890.219,764.862 900.301,763.104 910.384,761.089 920.466,759.606 930.548,758.054 940.63,757.569 950.713,757.564 960.795,757.275 970.877,757.777 980.96,758.402 991.042,758.694 1001.12,758.649 1011.21,758.97 1021.29,759.523 1031.37,760.545 1041.45,762.198 1051.54,764.674 1061.62,767.548 1071.7,769.167 1081.78,770.19 1091.86,770.875 1101.95,769.961 1112.03,767.226 1122.11,763.527 1132.19,761.674 1142.28,759.866 1152.36,757.221 1162.44,754.585 1172.52,753.519 1182.61,752.033 1192.69,750.714 1202.77,747.508 1212.85,744.4 1222.93,741.311 1233.02,740.018 1243.1,740.335 1253.18,740.814 1263.26,740.494 1273.35,740.295 1283.43,739.942 1293.51,739.817 1303.59,740.024 1313.68,740.582 1323.76,740.574 1333.84,738.811 1343.92,736.416 1354,734.71 1364.09,733.355 1374.17,732.078 1384.25,731.973 1394.33,731.963 1404.42,733.719 1414.5,736.365 1424.58,740.149 1434.66,742.372 1444.74,744.025 1454.83,746.682 1464.91,748.959 1474.99,751.299 1485.07,752.59 1495.16,752.713 1505.24,752.22 1515.32,752.109 1525.4,753.227 1535.49,753.626 1545.57,753.235 1555.65,751.795 1565.73,750.739 1575.81,750.771 1585.9,750.841 1595.98,751.427 1606.06,752.849 1616.14,755.349 1626.23,758.637 1636.31,762.039 1646.39,765.235 1656.47,767.372 1666.56,767.85 1676.64,765.813 1686.72,763.233 1696.8,761.889 1706.88,760.184 1716.97,759.306 1727.05,759.112 1737.13,758.804 1747.21,757.181 1757.3,756.178 1767.38,755.801 1777.46,757.747 1787.54,760.343 1797.63,762.973 1807.71,765.178 1817.79,765.706 1827.87,764.393 1837.95,762.231 1848.04,762.357 1858.12,762.587 1868.2,764.06 1878.28,764.454 1888.37,764.309 1898.45,764.473 1908.53,763.454 1918.61,762.336 1928.69,761.321 1938.78,760.619 1948.86,759.876 1958.94,760.633 1969.02,760.869 1979.11,760.997 1989.19,761.409 1999.27,762.271 2009.35,763.118 2019.44,764.435 2029.52,765.776 2039.6,766.308 2049.68,766.759 2059.76,768.004 2069.85,769.979 2079.93,772.061 2090.01,773.995 2100.09,775.46 2110.18,776.671 2120.26,776.773 2130.34,775.036 2140.42,772.413 2150.51,769.11 2160.59,765.353 2170.67,762.778 2180.75,760.64 2190.83,758.805 2200.92,757.624 2211,756.846 2221.08,757.825 2231.16,758.917 2241.25,760.181 2251.33,761.111 2261.41,761.346 2271.49,761.69 2281.57,762.179 2291.66,762.208 \"/>\n",
       "<polyline clip-path=\"url(#clip142)\" style=\"stroke:#8e971d; stroke-linecap:round; stroke-linejoin:round; stroke-width:4; stroke-opacity:1; fill:none\" points=\"255.035,635.802 265.117,635.523 275.199,635.516 285.282,636.325 295.364,636.787 305.446,636.72 315.528,636.224 325.611,636.058 335.693,637.605 345.775,639.112 355.858,639.994 365.94,640.998 376.022,640.117 386.104,638.513 396.187,637.144 406.269,636.552 416.351,636.227 426.434,635.337 436.516,634.303 446.598,632.362 456.68,632.368 466.763,632.407 476.845,632.393 486.927,632.457 497.01,634.327 507.092,636.871 517.174,639.029 527.257,640.826 537.339,642.702 547.421,644.042 557.503,645.604 567.586,647.941 577.668,650.289 587.75,652.601 597.833,654.707 607.915,656.347 617.997,657.337 628.079,659.031 638.162,661.732 648.244,665.066 658.326,667.693 668.409,669.033 678.491,671.164 688.573,675.466 698.655,679.39 708.738,681.149 718.82,683.368 728.902,685.294 738.985,687.151 749.067,690.035 759.149,693.187 769.231,696.374 779.314,699.317 789.396,701.022 799.478,702.327 809.561,705.166 819.643,709.07 829.725,711.907 839.807,714.96 849.89,717.592 859.972,719.657 870.054,722.272 880.137,725.097 890.219,727.956 900.301,730.06 910.384,732.146 920.466,733.92 930.548,735.074 940.63,736.091 950.713,738.714 960.795,740.377 970.877,742.333 980.96,745.071 991.042,747.447 1001.12,749.223 1011.21,750.251 1021.29,751.985 1031.37,752.976 1041.45,753.347 1051.54,753.798 1061.62,755.071 1071.7,756.07 1081.78,756.821 1091.86,757.137 1101.95,756.947 1112.03,757.254 1122.11,758.237 1132.19,759.74 1142.28,762.187 1152.36,764.719 1162.44,766.025 1172.52,765.848 1182.61,765.161 1192.69,762.956 1202.77,760.46 1212.85,758.775 1222.93,758.586 1233.02,757.832 1243.1,757.03 1253.18,756.441 1263.26,755.974 1273.35,755.529 1283.43,755.395 1293.51,755.332 1303.59,754.965 1313.68,755.462 1323.76,756.257 1333.84,755.787 1343.92,754.624 1354,753.762 1364.09,753.138 1374.17,753.248 1384.25,753.158 1394.33,752.32 1404.42,750.337 1414.5,748.172 1424.58,746.159 1434.66,744.345 1444.74,742.429 1454.83,740.002 1464.91,737.198 1474.99,735.306 1485.07,734.728 1495.16,734.552 1505.24,734.568 1515.32,733.311 1525.4,731.613 1535.49,730.03 1545.57,729.309 1555.65,729.701 1565.73,729.986 1575.81,728.118 1585.9,725.092 1595.98,723.718 1606.06,722.555 1616.14,720.688 1626.23,718.194 1636.31,716.69 1646.39,715.961 1656.47,715.364 1666.56,716.136 1676.64,718.37 1686.72,720.922 1696.8,723.115 1706.88,725.729 1716.97,729.16 1727.05,733.038 1737.13,737.221 1747.21,741.752 1757.3,745.639 1767.38,748.915 1777.46,751.757 1787.54,754.873 1797.63,758.287 1807.71,761.08 1817.79,764.082 1827.87,766.846 1837.95,768.227 1848.04,769.673 1858.12,771.367 1868.2,770.758 1878.28,770.322 1888.37,770.277 1898.45,770.522 1908.53,771.458 1918.61,772.802 1928.69,774.29 1938.78,775.811 1948.86,777.008 1958.94,776.664 1969.02,774.436 1979.11,773.154 1989.19,772.646 1999.27,771.922 2009.35,770.568 2019.44,768.338 2029.52,765.766 2039.6,763.238 2049.68,760.753 2059.76,758.608 2069.85,755.741 2079.93,753.055 2090.01,750.314 2100.09,746.92 2110.18,742.949 2120.26,738.927 2130.34,735.951 2140.42,733.48 2150.51,732.018 2160.59,732.479 2170.67,733.842 2180.75,736.078 2190.83,738.201 2200.92,740.541 2211,742.722 2221.08,744.295 2231.16,744.148 2241.25,744.49 2251.33,745.105 2261.41,745.89 2271.49,746.348 2281.57,747.341 2291.66,747.431 \"/>\n",
       "<polyline clip-path=\"url(#clip142)\" style=\"stroke:#00a8cb; stroke-linecap:round; stroke-linejoin:round; stroke-width:4; stroke-opacity:1; fill:none\" points=\"255.035,779.862 265.117,779.618 275.199,779.914 285.282,781.777 295.364,784.862 305.446,789.424 315.528,793.347 325.611,796.534 335.693,796.379 345.775,797.512 355.858,800.695 365.94,802.389 376.022,803.703 386.104,803.555 396.187,802.541 406.269,801.152 416.351,798.748 426.434,795.832 436.516,791.883 446.598,788.334 456.68,785.748 466.763,784.172 476.845,783.022 486.927,782.836 497.01,783.219 507.092,783.208 517.174,783.253 527.257,783.093 537.339,783.025 547.421,782.905 557.503,783.042 567.586,782.933 577.668,782.186 587.75,780.898 597.833,778.529 607.915,776.93 617.997,774.481 628.079,771.351 638.162,768.445 648.244,766.544 658.326,765.071 668.409,763.535 678.491,761.671 688.573,759.974 698.655,759.626 708.738,760.401 718.82,760.291 728.902,760.47 738.985,760.28 749.067,759.474 759.149,757.891 769.231,756.218 779.314,755.003 789.396,755.806 799.478,757.004 809.561,756.163 819.643,755.725 829.725,754.593 839.807,754.092 849.89,753.051 859.972,752.752 870.054,753.577 880.137,753.76 890.219,754.229 900.301,755.09 910.384,756.098 920.466,757.71 930.548,759.637 940.63,760.937 950.713,762.471 960.795,763.97 970.877,765.597 980.96,767.229 991.042,769.182 1001.12,771.507 1011.21,771.955 1021.29,771.593 1031.37,768.222 1041.45,765.552 1051.54,764.313 1061.62,763.272 1071.7,763.393 1081.78,763.335 1091.86,762.049 1101.95,761.422 1112.03,760.923 1122.11,760.213 1132.19,760.208 1142.28,758.743 1152.36,756.52 1162.44,755.062 1172.52,753.955 1182.61,752.351 1192.69,751.008 1202.77,750.228 1212.85,751.08 1222.93,752.993 1233.02,754.921 1243.1,756.888 1253.18,758.285 1263.26,760.349 1273.35,763.293 1283.43,765.843 1293.51,768.521 1303.59,769.162 1313.68,768.51 1323.76,767.318 1333.84,766.197 1343.92,765.124 1354,764.71 1364.09,764.101 1374.17,762.686 1384.25,760.127 1394.33,757.535 1404.42,754.973 1414.5,753.361 1424.58,752.055 1434.66,749.937 1444.74,748.824 1454.83,747.804 1464.91,746.919 1474.99,745.764 1485.07,745.533 1495.16,745.829 1505.24,745.506 1515.32,745.659 1525.4,744.098 1535.49,740.218 1545.57,736.19 1555.65,735.256 1565.73,735.686 1575.81,737.098 1585.9,738.142 1595.98,738.297 1606.06,738.095 1616.14,737.197 1626.23,735.544 1636.31,733.218 1646.39,731.655 1656.47,730.475 1666.56,730.586 1676.64,730.979 1686.72,731.743 1696.8,732.779 1706.88,735.343 1716.97,737.293 1727.05,739.123 1737.13,739.74 1747.21,741.686 1757.3,743.709 1767.38,745.276 1777.46,746.003 1787.54,746.46 1797.63,745.779 1807.71,745.368 1817.79,745.111 1827.87,746.128 1837.95,747.689 1848.04,749.379 1858.12,751.123 1868.2,752.033 1878.28,753.077 1888.37,754.392 1898.45,754.272 1908.53,753.333 1918.61,754.022 1928.69,755.639 1938.78,756.63 1948.86,758.179 1958.94,760.22 1969.02,760.384 1979.11,760.148 1989.19,760.316 1999.27,760.201 2009.35,759.559 2019.44,758.899 2029.52,758.187 2039.6,758.473 2049.68,759.53 2059.76,760.896 2069.85,760.94 2079.93,761.224 2090.01,762.503 2100.09,763.882 2110.18,764.238 2120.26,766.531 2130.34,769.676 2140.42,770.82 2150.51,769.833 2160.59,768.715 2170.67,767.241 2180.75,765.432 2190.83,763.416 2200.92,762.54 2211,762.84 2221.08,763.332 2231.16,762.146 2241.25,759.789 2251.33,758.009 2261.41,756.727 2271.49,756.172 2281.57,756.459 2291.66,756.505 \"/>\n",
       "<polyline clip-path=\"url(#clip142)\" style=\"stroke:#9b7fe8; stroke-linecap:round; stroke-linejoin:round; stroke-width:4; stroke-opacity:1; fill:none\" points=\"255.035,506.972 265.117,505.232 275.199,504.467 285.282,504.115 295.364,502.979 305.446,501.887 315.528,501.19 325.611,500.601 335.693,500.146 345.775,499.553 355.858,498.413 365.94,497.766 376.022,497.251 386.104,496.722 396.187,497.197 406.269,498.588 416.351,501.049 426.434,503.847 436.516,506.698 446.598,508.517 456.68,510.702 466.763,512.859 476.845,515.52 486.927,517.909 497.01,521.283 507.092,525.218 517.174,528.426 527.257,532.05 537.339,534.871 547.421,536.793 557.503,538.742 567.586,541.614 577.668,545.992 587.75,551.085 597.833,556.512 607.915,561.905 617.997,566.749 628.079,571.716 638.162,577.049 648.244,582.781 658.326,587.976 668.409,593.623 678.491,599.449 688.573,605.691 698.655,611.215 708.738,617.037 718.82,622.388 728.902,627.01 738.985,630.727 749.067,633.917 759.149,637.249 769.231,641.109 779.314,644.941 789.396,649.405 799.478,654.928 809.561,660.725 819.643,665.215 829.725,670.15 839.807,675.881 849.89,680.819 859.972,685.443 870.054,690.001 880.137,694.025 890.219,697.107 900.301,700.34 910.384,703.02 920.466,705.502 930.548,707.959 940.63,710.142 950.713,713.586 960.795,717 970.877,720.434 980.96,725.648 991.042,730.035 1001.12,735.109 1011.21,740.418 1021.29,745.592 1031.37,750.719 1041.45,755.702 1051.54,760.636 1061.62,764.785 1071.7,768.615 1081.78,770.67 1091.86,772.081 1101.95,773.592 1112.03,775.024 1122.11,775.88 1132.19,776.734 1142.28,776.575 1152.36,776.264 1162.44,774.927 1172.52,773.4 1182.61,771.4 1192.69,769.392 1202.77,767.469 1212.85,766.472 1222.93,767.076 1233.02,767.606 1243.1,767.724 1253.18,767.356 1263.26,766.759 1273.35,765.366 1283.43,764.056 1293.51,762.484 1303.59,761.405 1313.68,759.593 1323.76,758.382 1333.84,757.963 1343.92,756.874 1354,756.043 1364.09,756.407 1374.17,755.914 1384.25,754.553 1394.33,752.781 1404.42,751.4 1414.5,750.617 1424.58,750.543 1434.66,750.97 1444.74,751.858 1454.83,753.422 1464.91,754.453 1474.99,754.823 1485.07,755.619 1495.16,756.048 1505.24,756.038 1515.32,756.144 1525.4,755.678 1535.49,755.402 1545.57,756.734 1555.65,757.223 1565.73,757.182 1575.81,758.124 1585.9,758.367 1595.98,758.353 1606.06,758.611 1616.14,758.221 1626.23,757.444 1636.31,757.285 1646.39,756.768 1656.47,757.739 1666.56,759.715 1676.64,761.944 1686.72,763.412 1696.8,764.003 1706.88,763.561 1716.97,763.519 1727.05,763.402 1737.13,763.825 1747.21,764.362 1757.3,764.323 1767.38,763.79 1777.46,763.898 1787.54,763.778 1797.63,762.907 1807.71,762.743 1817.79,764.245 1827.87,765.941 1837.95,767.55 1848.04,768.783 1858.12,769.641 1868.2,770.275 1878.28,770.278 1888.37,770.352 1898.45,770.503 1908.53,771.013 1918.61,771.63 1928.69,771.877 1938.78,770.538 1948.86,769.424 1958.94,768.479 1969.02,767.434 1979.11,765.883 1989.19,764.355 1999.27,763.504 2009.35,763.485 2019.44,763.014 2029.52,762.762 2039.6,763.059 2049.68,764.317 2059.76,764.026 2069.85,763.399 2079.93,763.346 2090.01,764.654 2100.09,765.9 2110.18,767.574 2120.26,768.909 2130.34,769.457 2140.42,768.593 2150.51,768.068 2160.59,767.785 2170.67,766.131 2180.75,763.746 2190.83,759.835 2200.92,756.401 2211,752.805 2221.08,750.956 2231.16,749.621 2241.25,748.537 2251.33,747.666 2261.41,748.189 2271.49,748.877 2281.57,749.049 2291.66,749.026 \"/>\n",
       "<polyline clip-path=\"url(#clip142)\" style=\"stroke:#608cf6; stroke-linecap:round; stroke-linejoin:round; stroke-width:4; stroke-opacity:1; fill:none\" points=\"255.035,805.185 265.117,805.874 275.199,805.278 285.282,804.093 295.364,803.223 305.446,803.925 315.528,803.939 325.611,802.786 335.693,802.326 345.775,803.213 355.858,804.002 365.94,804.63 376.022,805.095 386.104,805.178 396.187,804.395 406.269,801.898 416.351,799.101 426.434,796.682 436.516,794.742 446.598,793.151 456.68,791.967 466.763,791.15 476.845,791.002 486.927,790.426 497.01,789.915 507.092,788.417 517.174,788.232 527.257,788.835 537.339,789.474 547.421,790.382 557.503,791.409 567.586,792.228 577.668,792.735 587.75,792.079 597.833,791.021 607.915,789.74 617.997,788.539 628.079,787.115 638.162,786.608 648.244,786.715 658.326,787.293 668.409,786.183 678.491,785.145 688.573,784.598 698.655,785.095 708.738,786.961 718.82,787.285 728.902,786.215 738.985,784.85 749.067,783.392 759.149,783.252 769.231,783.093 779.314,783.864 789.396,784.751 799.478,785.818 809.561,786.313 819.643,785.684 829.725,783.495 839.807,781.05 849.89,777.347 859.972,775.324 870.054,774.031 880.137,772.815 890.219,772.061 900.301,770.567 910.384,769.142 920.466,767.806 930.548,767.528 940.63,767.058 950.713,765.293 960.795,763.316 970.877,760.746 980.96,758.692 991.042,757.237 1001.12,757.175 1011.21,756.587 1021.29,755.206 1031.37,754.609 1041.45,755.587 1051.54,756.678 1061.62,757.157 1071.7,757.157 1081.78,757.827 1091.86,759.214 1101.95,759.111 1112.03,759.035 1122.11,759.039 1132.19,758.389 1142.28,757.501 1152.36,756.385 1162.44,755.342 1172.52,755.512 1182.61,756.177 1192.69,758.086 1202.77,760.703 1212.85,764.22 1222.93,767.363 1233.02,770.672 1243.1,771.9 1253.18,772.825 1263.26,773.28 1273.35,773.509 1283.43,773.195 1293.51,771.429 1303.59,769.318 1313.68,767.01 1323.76,764.572 1333.84,762.158 1343.92,760.313 1354,758.771 1364.09,756.956 1374.17,755.641 1384.25,754.154 1394.33,752.176 1404.42,749.855 1414.5,750.065 1424.58,751.849 1434.66,753.103 1444.74,755.264 1454.83,758.256 1464.91,762.292 1474.99,764.986 1485.07,766.37 1495.16,767.458 1505.24,767.183 1515.32,766.423 1525.4,764.651 1535.49,763.239 1545.57,761.921 1555.65,760.61 1565.73,759.428 1575.81,759.506 1585.9,759.708 1595.98,760.848 1606.06,761.834 1616.14,762.911 1626.23,764.427 1636.31,764.77 1646.39,765.568 1656.47,764.865 1666.56,764.678 1676.64,764.702 1686.72,764.899 1696.8,764.783 1706.88,764.707 1716.97,765.206 1727.05,766.552 1737.13,767.138 1747.21,767.022 1757.3,766.673 1767.38,765.509 1777.46,765.205 1787.54,765.752 1797.63,765.69 1807.71,764.487 1817.79,763.832 1827.87,764.372 1837.95,763.947 1848.04,763.351 1858.12,761.808 1868.2,760.455 1878.28,759.066 1888.37,758.064 1898.45,755.829 1908.53,753.649 1918.61,751.294 1928.69,748.739 1938.78,746.56 1948.86,744.111 1958.94,743.138 1969.02,743.065 1979.11,743.99 1989.19,743.72 1999.27,742.606 2009.35,742.254 2019.44,743.33 2029.52,744.768 2039.6,746.651 2049.68,748.675 2059.76,750.028 2069.85,751.323 2079.93,752.714 2090.01,754.369 2100.09,755.59 2110.18,756.731 2120.26,758.344 2130.34,758.945 2140.42,759.681 2150.51,759.169 2160.59,757.676 2170.67,755.921 2180.75,755.664 2190.83,756.096 2200.92,756.44 2211,759.458 2221.08,762.63 2231.16,764.881 2241.25,766.287 2251.33,766.83 2261.41,767.413 2271.49,766.608 2281.57,764.665 2291.66,764.537 \"/>\n",
       "<polyline clip-path=\"url(#clip142)\" style=\"stroke:#f05f73; stroke-linecap:round; stroke-linejoin:round; stroke-width:4; stroke-opacity:1; fill:none\" points=\"255.035,995.791 265.117,994.581 275.199,995.632 285.282,996.788 295.364,998.263 305.446,999.415 315.528,998.971 325.611,997.103 335.693,995.816 345.775,994.116 355.858,992.888 365.94,990.965 376.022,989.475 386.104,987.164 396.187,984.678 406.269,983.457 416.351,981.935 426.434,979.259 436.516,975.869 446.598,972.458 456.68,968.64 466.763,965.063 476.845,961.046 486.927,957.351 497.01,953.353 507.092,948.878 517.174,944.484 527.257,939.992 537.339,936.586 547.421,933.737 557.503,931.045 567.586,928.461 577.668,924.895 587.75,921.784 597.833,918.587 607.915,915.092 617.997,911.171 628.079,906.446 638.162,901.093 648.244,896.098 658.326,890.565 668.409,884.399 678.491,878.965 688.573,873.513 698.655,868.877 708.738,864.924 718.82,861.403 728.902,857.976 738.985,853.12 749.067,846.455 759.149,839.36 769.231,832.562 779.314,825.866 789.396,819.764 799.478,813.301 809.561,807.357 819.643,801.347 829.725,796.306 839.807,791.183 849.89,785.668 859.972,781.235 870.054,777.419 880.137,773.74 890.219,771.423 900.301,769.372 910.384,766.631 920.466,764.258 930.548,761.662 940.63,759.604 950.713,757.01 960.795,755.358 970.877,753.646 980.96,752.285 991.042,751.388 1001.12,750.286 1011.21,749.447 1021.29,747.974 1031.37,746.932 1041.45,745.864 1051.54,745.293 1061.62,744.792 1071.7,744.896 1081.78,745.198 1091.86,746.924 1101.95,749.762 1112.03,752.169 1122.11,753.749 1132.19,754.547 1142.28,755.798 1152.36,757.015 1162.44,757.984 1172.52,759.074 1182.61,760.647 1192.69,761.489 1202.77,762.122 1212.85,762.923 1222.93,763.972 1233.02,765.292 1243.1,765.724 1253.18,763.037 1263.26,760.227 1273.35,758.2 1283.43,756.513 1293.51,755.165 1303.59,753.693 1313.68,752.252 1323.76,751.426 1333.84,750.253 1343.92,749.877 1354,749.144 1364.09,747.905 1374.17,747.846 1384.25,748.594 1394.33,748.77 1404.42,748.208 1414.5,748.095 1424.58,748.156 1434.66,748.584 1444.74,749.503 1454.83,750.908 1464.91,750.616 1474.99,751.016 1485.07,751.32 1495.16,752.854 1505.24,755.193 1515.32,757.547 1525.4,759.535 1535.49,760.446 1545.57,760.44 1555.65,759.653 1565.73,758.854 1575.81,757.829 1585.9,756.996 1595.98,755.798 1606.06,755.245 1616.14,755.501 1626.23,756.221 1636.31,757.738 1646.39,758.088 1656.47,756.635 1666.56,754.602 1676.64,755.011 1686.72,755.022 1696.8,754.993 1706.88,755.501 1716.97,757.059 1727.05,758.809 1737.13,759.823 1747.21,759.629 1757.3,759.982 1767.38,759.968 1777.46,760.626 1787.54,761.288 1797.63,761.664 1807.71,760.897 1817.79,760.074 1827.87,760.673 1837.95,761.016 1848.04,761.558 1858.12,761.209 1868.2,762.135 1878.28,761.812 1888.37,760.342 1898.45,760.06 1908.53,759.365 1918.61,758.551 1928.69,757.703 1938.78,756.412 1948.86,756.056 1958.94,755.699 1969.02,755.873 1979.11,755.027 1989.19,753.307 1999.27,752.023 2009.35,751.523 2019.44,750.787 2029.52,749.933 2039.6,749.083 2049.68,748.626 2059.76,748.973 2069.85,749.929 2079.93,750.931 2090.01,752.016 2100.09,752.737 2110.18,753.716 2120.26,753.96 2130.34,755.346 2140.42,758.279 2150.51,760.348 2160.59,762.503 2170.67,763.25 2180.75,763.473 2190.83,760.181 2200.92,757.761 2211,755.258 2221.08,753.103 2231.16,750.802 2241.25,749.342 2251.33,747.989 2261.41,746.578 2271.49,744.943 2281.57,743.452 2291.66,743.353 \"/>\n",
       "<polyline clip-path=\"url(#clip142)\" style=\"stroke:#dd64b5; stroke-linecap:round; stroke-linejoin:round; stroke-width:4; stroke-opacity:1; fill:none\" points=\"255.035,796.153 265.117,797.853 275.199,799.45 285.282,800.653 295.364,799.959 305.446,798.628 315.528,797.932 325.611,797.767 335.693,797.029 345.775,796.639 355.858,796.116 365.94,794.459 376.022,792.769 386.104,789.664 396.187,786.826 406.269,784.785 416.351,783.59 426.434,782.684 436.516,782.363 446.598,780.757 456.68,777.085 466.763,773.86 476.845,771.229 486.927,768.391 497.01,767.597 507.092,767.767 517.174,767.454 527.257,767.327 537.339,767.249 547.421,767.702 557.503,767.884 567.586,768.513 577.668,769.31 587.75,769.3 597.833,770.884 607.915,772.079 617.997,773.013 628.079,773.649 638.162,773.734 648.244,773.667 658.326,773.435 668.409,772.891 678.491,772.611 688.573,772.395 698.655,771.919 708.738,771.374 718.82,771.205 728.902,770.59 738.985,770.071 749.067,767.306 759.149,765.272 769.231,764.002 779.314,762.624 789.396,760.995 799.478,759.368 809.561,758.709 819.643,758.735 829.725,758.391 839.807,758.292 849.89,759.159 859.972,758.897 870.054,759.028 880.137,759.555 890.219,760.237 900.301,760.33 910.384,760.183 920.466,760.722 930.548,761.239 940.63,760.966 950.713,761.416 960.795,761.36 970.877,761.452 980.96,760.33 991.042,760.557 1001.12,760.095 1011.21,758.882 1021.29,756.198 1031.37,753.442 1041.45,751.371 1051.54,751.163 1061.62,750.421 1071.7,750.639 1081.78,751.021 1091.86,752.228 1101.95,753.768 1112.03,754.517 1122.11,755.352 1132.19,756.044 1142.28,757.118 1152.36,758.185 1162.44,758.972 1172.52,760.149 1182.61,761.127 1192.69,762.54 1202.77,764.913 1212.85,767.528 1222.93,768.15 1233.02,767.613 1243.1,766.725 1253.18,766.81 1263.26,768.652 1273.35,769.52 1283.43,770.534 1293.51,770.534 1303.59,767.913 1313.68,765.622 1323.76,763.62 1333.84,762.201 1343.92,762.242 1354,762.012 1364.09,762.175 1374.17,762.068 1384.25,763.037 1394.33,763.352 1404.42,765.086 1414.5,768.082 1424.58,770.862 1434.66,773.395 1444.74,776.494 1454.83,778.745 1464.91,779.772 1474.99,780.692 1485.07,779.793 1495.16,779.47 1505.24,778.93 1515.32,778.626 1525.4,779.66 1535.49,779.069 1545.57,778.244 1555.65,777.768 1565.73,778.133 1575.81,779.433 1585.9,779.294 1595.98,778.055 1606.06,776.815 1616.14,775.398 1626.23,773.491 1636.31,771.023 1646.39,769.274 1656.47,768.734 1666.56,768.544 1676.64,769.826 1686.72,771.538 1696.8,773.882 1706.88,774.311 1716.97,774.135 1727.05,775.189 1737.13,775.572 1747.21,774.735 1757.3,773.713 1767.38,773.129 1777.46,773.143 1787.54,771.966 1797.63,769.071 1807.71,767.47 1817.79,766.535 1827.87,766.16 1837.95,766.842 1848.04,767.645 1858.12,769.405 1868.2,771.136 1878.28,772.009 1888.37,772.229 1898.45,772.175 1908.53,772.068 1918.61,771.348 1928.69,770.573 1938.78,771.384 1948.86,772.804 1958.94,773.244 1969.02,773.99 1979.11,773.621 1989.19,773.745 1999.27,773.755 2009.35,773.734 2019.44,773.264 2029.52,772.137 2039.6,770.638 2049.68,768.966 2059.76,767.179 2069.85,766.112 2079.93,764.68 2090.01,763.21 2100.09,762.967 2110.18,762.942 2120.26,763.379 2130.34,764.055 2140.42,764.565 2150.51,764.839 2160.59,765.588 2170.67,766.813 2180.75,767.324 2190.83,767.508 2200.92,768.127 2211,768.689 2221.08,768.87 2231.16,769.149 2241.25,769.946 2251.33,769.588 2261.41,769.171 2271.49,769.46 2281.57,770.772 2291.66,770.88 \"/>\n",
       "<polyline clip-path=\"url(#clip142)\" style=\"stroke:#6b9e32; stroke-linecap:round; stroke-linejoin:round; stroke-width:4; stroke-opacity:1; fill:none\" points=\"255.035,927.343 265.117,927.215 275.199,927.004 285.282,926.57 295.364,926.304 305.446,927.396 315.528,927.297 325.611,926.914 335.693,926.399 345.775,925.236 355.858,924.769 365.94,924.264 376.022,923.418 386.104,922.179 396.187,920.643 406.269,918.933 416.351,917.604 426.434,916.618 436.516,913.576 446.598,910.002 456.68,906.793 466.763,903.029 476.845,898.375 486.927,893.906 497.01,889.319 507.092,884.858 517.174,880.106 527.257,875.846 537.339,871.41 547.421,866.856 557.503,862.346 567.586,857.458 577.668,851.151 587.75,843.626 597.833,836.086 607.915,828.581 617.997,821.266 628.079,814.144 638.162,808.291 648.244,802.906 658.326,797.915 668.409,792.429 678.491,787.251 688.573,782.974 698.655,777.829 708.738,772.89 718.82,768.036 728.902,762.964 738.985,757.929 749.067,752.865 759.149,748.873 769.231,745.711 779.314,743.507 789.396,742.55 799.478,742.339 809.561,743.199 819.643,743.854 829.725,744.155 839.807,744.951 849.89,746.287 859.972,747.447 870.054,748.279 880.137,748.629 890.219,748.052 900.301,746.585 910.384,744.9 920.466,743.623 930.548,743.344 940.63,743.4 950.713,742.32 960.795,738.869 970.877,735.241 980.96,732.723 991.042,730.069 1001.12,727.782 1011.21,725.656 1021.29,723.507 1031.37,721.48 1041.45,721.605 1051.54,721.852 1061.62,721.809 1071.7,722.752 1081.78,724.269 1091.86,727.337 1101.95,731.15 1112.03,733.715 1122.11,736.674 1132.19,741.525 1142.28,746.158 1152.36,749.725 1162.44,753.832 1172.52,757.621 1182.61,760.665 1192.69,761.966 1202.77,762.676 1212.85,763.237 1222.93,765.412 1233.02,767.301 1243.1,768.777 1253.18,771.316 1263.26,774.537 1273.35,777.081 1283.43,779.59 1293.51,781.987 1303.59,785.089 1313.68,786.911 1323.76,787.201 1333.84,787.785 1343.92,788.016 1354,787.877 1364.09,787.589 1374.17,787.029 1384.25,786.87 1394.33,786.148 1404.42,785.143 1414.5,783.451 1424.58,781.224 1434.66,779.596 1444.74,778.33 1454.83,775.513 1464.91,772.816 1474.99,771.2 1485.07,770.719 1495.16,769.998 1505.24,769.46 1515.32,769.553 1525.4,769.398 1535.49,767.805 1545.57,766.195 1555.65,764.644 1565.73,763.24 1575.81,762.273 1585.9,760.127 1595.98,757.461 1606.06,755.727 1616.14,754.193 1626.23,752.359 1636.31,749.746 1646.39,746.242 1656.47,742.933 1666.56,740.229 1676.64,738.388 1686.72,737.859 1696.8,738.943 1706.88,740.501 1716.97,741.916 1727.05,743.131 1737.13,744.726 1747.21,744.714 1757.3,745.023 1767.38,745.413 1777.46,746.185 1787.54,748.219 1797.63,749.854 1807.71,750.775 1817.79,752.091 1827.87,755.84 1837.95,759.556 1848.04,762.223 1858.12,764.142 1868.2,765.001 1878.28,764.712 1888.37,763.833 1898.45,762.265 1908.53,759.446 1918.61,757.828 1928.69,758.423 1938.78,759.778 1948.86,760.572 1958.94,760.292 1969.02,760.353 1979.11,761.679 1989.19,762.234 1999.27,761.017 2009.35,759.434 2019.44,757.573 2029.52,755.116 2039.6,754.333 2049.68,754.069 2059.76,753.502 2069.85,751.739 2079.93,750.691 2090.01,749.548 2100.09,748.016 2110.18,746.384 2120.26,744.54 2130.34,743.288 2140.42,742.413 2150.51,742.319 2160.59,743.555 2170.67,744.766 2180.75,746.456 2190.83,748.044 2200.92,749.427 2211,750.797 2221.08,752.136 2231.16,753.953 2241.25,755.575 2251.33,757.716 2261.41,760.148 2271.49,762.007 2281.57,762.815 2291.66,762.839 \"/>\n",
       "<polyline clip-path=\"url(#clip142)\" style=\"stroke:#009af9; stroke-linecap:round; stroke-linejoin:round; stroke-width:4; stroke-opacity:1; fill:none\" points=\"255.035,771.568 265.117,771.139 275.199,771.176 285.282,770.852 295.364,769.769 305.446,769.133 315.528,768.457 325.611,767.353 335.693,765.73 345.775,764.483 355.858,763.538 365.94,760.753 376.022,759.053 386.104,757.531 396.187,755.599 406.269,752.768 416.351,749.183 426.434,746.062 436.516,743.256 446.598,740.665 456.68,738.04 466.763,734.646 476.845,732.113 486.927,730.284 497.01,728.849 507.092,727.617 517.174,726.204 527.257,725.666 537.339,726.303 547.421,725.723 557.503,724.857 567.586,723.541 577.668,722.773 587.75,723.018 597.833,723.171 607.915,723.859 617.997,724.38 628.079,725.271 638.162,727.035 648.244,728.443 658.326,728.515 668.409,726.985 678.491,724.371 688.573,722.003 698.655,720.961 708.738,720.784 718.82,719.228 728.902,717.85 738.985,717.823 749.067,717.872 759.149,717.868 769.231,719.1 779.314,720.23 789.396,722.756 799.478,725.878 809.561,729.603 819.643,732.477 829.725,735.412 839.807,739.011 849.89,742.829 859.972,745.937 870.054,749.212 880.137,751.776 890.219,754.593 900.301,756.868 910.384,758.617 920.466,760.016 930.548,760.423 940.63,759.83 950.713,759.712 960.795,758.366 970.877,757.485 980.96,757.379 991.042,757.553 1001.12,757.114 1011.21,757.497 1021.29,757.947 1031.37,759.092 1041.45,761.282 1051.54,764.601 1061.62,767.797 1071.7,770.268 1081.78,771.224 1091.86,769.766 1101.95,768.28 1112.03,766.96 1122.11,766.751 1132.19,766.526 1142.28,765.784 1152.36,763.611 1162.44,761.879 1172.52,760.17 1182.61,758.258 1192.69,757.177 1202.77,756.291 1212.85,756.17 1222.93,756.27 1233.02,757.137 1243.1,757.074 1253.18,757.276 1263.26,756.431 1273.35,755.307 1283.43,754.405 1293.51,754.087 1303.59,753.958 1313.68,752.538 1323.76,751.063 1333.84,749.063 1343.92,747.198 1354,746.043 1364.09,745.193 1374.17,744.477 1384.25,745.582 1394.33,747.909 1404.42,752.016 1414.5,756.782 1424.58,761.305 1434.66,764.687 1444.74,767.802 1454.83,770.604 1464.91,772.533 1474.99,773.75 1485.07,772.944 1495.16,772.854 1505.24,772.88 1515.32,773.368 1525.4,773.467 1535.49,773.672 1545.57,774.49 1555.65,774.952 1565.73,775.589 1575.81,775.988 1585.9,776.72 1595.98,775.957 1606.06,773.875 1616.14,771.557 1626.23,770.062 1636.31,767.741 1646.39,765.633 1656.47,763.281 1666.56,761.799 1676.64,760.372 1686.72,760.502 1696.8,760.428 1706.88,761.089 1716.97,762.948 1727.05,764.428 1737.13,765.278 1747.21,766.624 1757.3,768.245 1767.38,770.032 1777.46,772.291 1787.54,774.393 1797.63,775.733 1807.71,776.793 1817.79,777.659 1827.87,777.477 1837.95,777.051 1848.04,775.645 1858.12,774.936 1868.2,774.559 1878.28,773.705 1888.37,773.014 1898.45,771.675 1908.53,769.758 1918.61,767.277 1928.69,764.616 1938.78,762.322 1948.86,759.909 1958.94,757.219 1969.02,755.371 1979.11,753.937 1989.19,751.917 1999.27,750.384 2009.35,749.456 2019.44,748.898 2029.52,748.133 2039.6,747.383 2049.68,746.466 2059.76,746.382 2069.85,746.404 2079.93,746.611 2090.01,746.742 2100.09,747.344 2110.18,748.957 2120.26,750.217 2130.34,751.469 2140.42,751.37 2150.51,752.076 2160.59,754.27 2170.67,756.937 2180.75,759.221 2190.83,761.199 2200.92,762.507 2211,762.174 2221.08,762.243 2231.16,762.747 2241.25,762.847 2251.33,764.533 2261.41,763.909 2271.49,763.749 2281.57,763.214 2291.66,763.174 \"/>\n",
       "<polyline clip-path=\"url(#clip142)\" style=\"stroke:#e26f46; stroke-linecap:round; stroke-linejoin:round; stroke-width:4; stroke-opacity:1; fill:none\" points=\"255.035,852.095 265.117,852.321 275.199,852.132 285.282,852.301 295.364,854.58 305.446,855.78 315.528,855.533 325.611,855.502 335.693,855.025 345.775,854.668 355.858,853.681 365.94,851.321 376.022,848.434 386.104,845.556 396.187,842.684 406.269,839.713 416.351,836.663 426.434,833.995 436.516,831.563 446.598,829.637 456.68,828.248 466.763,826.916 476.845,825.97 486.927,825.306 497.01,824.281 507.092,823.685 517.174,822.593 527.257,821.025 537.339,820.42 547.421,820.118 557.503,819.395 567.586,817.678 577.668,816.003 587.75,815.77 597.833,817.219 607.915,818.244 617.997,818.818 628.079,818.741 638.162,817.621 648.244,816.41 658.326,815.964 668.409,816.042 678.491,816.135 688.573,815.427 698.655,814.803 708.738,813.857 718.82,811.027 728.902,808.363 738.985,805.007 749.067,802.802 759.149,801.486 769.231,801.105 779.314,800.532 789.396,799.92 799.478,798.41 809.561,796.335 819.643,794.085 829.725,792.202 839.807,790.757 849.89,789.5 859.972,787.477 870.054,785.116 880.137,783.274 890.219,782.217 900.301,782.022 910.384,782.988 920.466,783.818 930.548,781.383 940.63,778.082 950.713,774.945 960.795,773.164 970.877,771.261 980.96,769.321 991.042,768.178 1001.12,768.534 1011.21,768.422 1021.29,767.401 1031.37,766.056 1041.45,765.558 1051.54,763.796 1061.62,761.832 1071.7,759.512 1081.78,756.792 1091.86,755.721 1101.95,755.645 1112.03,756.415 1122.11,757.434 1132.19,758.34 1142.28,758.786 1152.36,759.228 1162.44,759.432 1172.52,759.344 1182.61,758.846 1192.69,758.55 1202.77,758.299 1212.85,758.291 1222.93,758.735 1233.02,758.722 1243.1,759.086 1253.18,760.612 1263.26,763.444 1273.35,766.152 1283.43,767.472 1293.51,768.095 1303.59,768.7 1313.68,769.444 1323.76,769.757 1333.84,770.215 1343.92,770.436 1354,770.913 1364.09,771.486 1374.17,771.813 1384.25,771.005 1394.33,769.87 1404.42,767.965 1414.5,765.48 1424.58,762.905 1434.66,762.351 1444.74,762.771 1454.83,762.412 1464.91,762.524 1474.99,761.542 1485.07,760.7 1495.16,759.508 1505.24,758.287 1515.32,757.995 1525.4,757.009 1535.49,755.66 1545.57,754.696 1555.65,753.334 1565.73,750.954 1575.81,748.963 1585.9,748.335 1595.98,748.482 1606.06,749.432 1616.14,749.566 1626.23,749.992 1636.31,750.93 1646.39,752.51 1656.47,754.54 1666.56,756.639 1676.64,758.041 1686.72,758.745 1696.8,759.772 1706.88,760.762 1716.97,761.151 1727.05,761.814 1737.13,763.884 1747.21,765.254 1757.3,765.355 1767.38,763.704 1777.46,761.96 1787.54,760.762 1797.63,760.576 1807.71,760.316 1817.79,760.441 1827.87,760.394 1837.95,761.468 1848.04,761.494 1858.12,761.038 1868.2,760.36 1878.28,759.712 1888.37,759.249 1898.45,758.436 1908.53,757.328 1918.61,754.755 1928.69,752.315 1938.78,749.835 1948.86,748.308 1958.94,748.332 1969.02,748.791 1979.11,750.463 1989.19,752.708 1999.27,754.564 2009.35,757.788 2019.44,761.039 2029.52,764.641 2039.6,767.856 2049.68,770.779 2059.76,773.353 2069.85,775.939 2079.93,778.314 2090.01,779.372 2100.09,779.447 2110.18,780.906 2120.26,780.901 2130.34,780.554 2140.42,780.788 2150.51,781.058 2160.59,781.572 2170.67,782.054 2180.75,782.228 2190.83,781.495 2200.92,779.844 2211,777.994 2221.08,776.234 2231.16,773.959 2241.25,772.822 2251.33,772.243 2261.41,771.552 2271.49,771.558 2281.57,772.089 2291.66,772.121 \"/>\n",
       "<polyline clip-path=\"url(#clip142)\" style=\"stroke:#3da44d; stroke-linecap:round; stroke-linejoin:round; stroke-width:4; stroke-opacity:1; fill:none\" points=\"255.035,1006.33 265.117,1008.78 275.199,1009.25 285.282,1009.3 295.364,1009.57 305.446,1009.63 315.528,1010.14 325.611,1011.59 335.693,1013.45 345.775,1013.9 355.858,1013.49 365.94,1013.12 376.022,1012.45 386.104,1011.43 396.187,1010.12 406.269,1008.43 416.351,1006.86 426.434,1005.82 436.516,1004.13 446.598,1002.26 456.68,998.363 466.763,993.189 476.845,988.059 486.927,983.928 497.01,981.313 507.092,978.809 517.174,976.515 527.257,975.81 537.339,975.093 547.421,973.068 557.503,970.24 567.586,965.274 577.668,959.507 587.75,952.772 597.833,946.214 607.915,939.489 617.997,931.885 628.079,923.833 638.162,916.321 648.244,909.156 658.326,902.178 668.409,895.207 678.491,888.314 688.573,882.218 698.655,876.903 708.738,871.26 718.82,865.422 728.902,858.842 738.985,852.37 749.067,846.085 759.149,840.106 769.231,833.339 779.314,826.278 789.396,819.295 799.478,813.015 809.561,806.405 819.643,800.23 829.725,794.056 839.807,787.488 849.89,781.35 859.972,775.529 870.054,770.674 880.137,765.996 890.219,762.701 900.301,759.345 910.384,756.626 920.466,754.577 930.548,753.252 940.63,751.952 950.713,750.452 960.795,750.419 970.877,751.934 980.96,753.661 991.042,755.467 1001.12,756.989 1011.21,757.522 1021.29,758.33 1031.37,759.032 1041.45,760.439 1051.54,762.395 1061.62,763.379 1071.7,763.872 1081.78,763.474 1091.86,763.595 1101.95,762.377 1112.03,760.809 1122.11,757.549 1132.19,754.151 1142.28,751.806 1152.36,750.04 1162.44,747.737 1172.52,744.458 1182.61,739.688 1192.69,734.66 1202.77,729.807 1212.85,726.606 1222.93,723.457 1233.02,722.732 1243.1,723.469 1253.18,725.185 1263.26,729.389 1273.35,734.096 1283.43,739.133 1293.51,743.997 1303.59,748.057 1313.68,749.483 1323.76,750.541 1333.84,751.251 1343.92,751.924 1354,752.379 1364.09,754.368 1374.17,756.822 1384.25,759.075 1394.33,759.614 1404.42,760.972 1414.5,763.595 1424.58,766.015 1434.66,767.082 1444.74,768.039 1454.83,768.667 1464.91,768.649 1474.99,768.4 1485.07,767.606 1495.16,765.996 1505.24,764.102 1515.32,761.865 1525.4,760.841 1535.49,760.311 1545.57,759.455 1555.65,758.786 1565.73,758.251 1575.81,758.156 1585.9,757.397 1595.98,757.229 1606.06,757.326 1616.14,757.084 1626.23,757.862 1636.31,758.558 1646.39,758.064 1656.47,756.91 1666.56,756.796 1676.64,755.669 1686.72,755.208 1696.8,755.106 1706.88,755.34 1716.97,756.43 1727.05,757.078 1737.13,758.259 1747.21,759.895 1757.3,761.203 1767.38,762.759 1777.46,764.449 1787.54,766.355 1797.63,768.818 1807.71,771.051 1817.79,772.094 1827.87,772.327 1837.95,772.5 1848.04,773.4 1858.12,774.528 1868.2,775.234 1878.28,774.035 1888.37,771.989 1898.45,769.491 1908.53,765.982 1918.61,762.295 1928.69,759.706 1938.78,758.109 1948.86,756.418 1958.94,754.768 1969.02,753.587 1979.11,753.389 1989.19,753.079 1999.27,752.851 2009.35,753.032 2019.44,754.407 2029.52,755.833 2039.6,756.701 2049.68,757.647 2059.76,758.645 2069.85,760.16 2079.93,761.15 2090.01,760.794 2100.09,758.951 2110.18,756.836 2120.26,754.88 2130.34,752.974 2140.42,752.532 2150.51,753.609 2160.59,754.858 2170.67,757.052 2180.75,760.156 2190.83,762.545 2200.92,763.879 2211,764.855 2221.08,766.75 2231.16,769.13 2241.25,770.379 2251.33,771.89 2261.41,773.316 2271.49,773.591 2281.57,773.638 2291.66,773.594 \"/>\n",
       "<polyline clip-path=\"url(#clip142)\" style=\"stroke:#c271d2; stroke-linecap:round; stroke-linejoin:round; stroke-width:4; stroke-opacity:1; fill:none\" points=\"255.035,537.413 265.117,538.045 275.199,539.163 285.282,539.196 295.364,538.921 305.446,539.155 315.528,540.157 325.611,540.594 335.693,539.828 345.775,539.593 355.858,539.903 365.94,540.605 376.022,541.143 386.104,542.363 396.187,544.163 406.269,545.792 416.351,547.333 426.434,549.357 436.516,550.102 446.598,550.172 456.68,550.324 466.763,550.757 476.845,551.328 486.927,553.298 497.01,555.312 507.092,556.584 517.174,557.472 527.257,558.83 537.339,561.505 547.421,564.319 557.503,567.307 567.586,569.996 577.668,573.267 587.75,576.167 597.833,578.5 607.915,581.652 617.997,584.431 628.079,586.508 638.162,589.324 648.244,593.41 658.326,599.08 668.409,604.991 678.491,611.3 688.573,616.956 698.655,622.456 708.738,627.802 718.82,633.47 728.902,639.373 738.985,646.591 749.067,654.555 759.149,662.644 769.231,669.315 779.314,675.862 789.396,681.562 799.478,686.242 809.561,689.989 819.643,693.839 829.725,697.395 839.807,701.198 849.89,704.817 859.972,707.934 870.054,710.298 880.137,712.846 890.219,716.511 900.301,720.036 910.384,723.107 920.466,725.865 930.548,728.655 940.63,730.505 950.713,733.086 960.795,736.278 970.877,740.106 980.96,743.388 991.042,746.562 1001.12,749.435 1011.21,752.458 1021.29,755.994 1031.37,759.126 1041.45,762.298 1051.54,765.001 1061.62,766.324 1071.7,767.001 1081.78,768.809 1091.86,771.762 1101.95,773.394 1112.03,775.084 1122.11,777.045 1132.19,778.535 1142.28,779.397 1152.36,778.176 1162.44,777.031 1172.52,776.197 1182.61,775.296 1192.69,774.279 1202.77,773.677 1212.85,772.327 1222.93,770.173 1233.02,768.349 1243.1,767.801 1253.18,767.992 1263.26,767.556 1273.35,767.641 1283.43,767.159 1293.51,767.271 1303.59,766.721 1313.68,766.537 1323.76,767.338 1333.84,766.758 1343.92,765.995 1354,765.202 1364.09,764.87 1374.17,766.371 1384.25,766.669 1394.33,765.953 1404.42,765.168 1414.5,764.39 1424.58,763.136 1434.66,762.373 1444.74,762.214 1454.83,761.02 1464.91,759.43 1474.99,757.228 1485.07,755.288 1495.16,753.941 1505.24,753.799 1515.32,754.764 1525.4,755.839 1535.49,756.87 1545.57,757.157 1555.65,756.984 1565.73,757.951 1575.81,758.543 1585.9,757.59 1595.98,756.299 1606.06,756.663 1616.14,757.718 1626.23,759.459 1636.31,760.456 1646.39,760.752 1656.47,761.756 1666.56,763.601 1676.64,763.962 1686.72,763.565 1696.8,764.447 1706.88,764.125 1716.97,763.727 1727.05,762.712 1737.13,760.796 1747.21,759.977 1757.3,759.818 1767.38,759.163 1777.46,757.424 1787.54,756.261 1797.63,755.829 1807.71,755.625 1817.79,755.053 1827.87,754.402 1837.95,755.132 1848.04,755.706 1858.12,756.245 1868.2,756.7 1878.28,757.794 1888.37,758.725 1898.45,760.044 1908.53,760.725 1918.61,760.741 1928.69,760.399 1938.78,759.643 1948.86,758.776 1958.94,758.42 1969.02,759.51 1979.11,760.004 1989.19,761.27 1999.27,762.398 2009.35,762.137 2019.44,760.237 2029.52,759.086 2039.6,758.299 2049.68,757.443 2059.76,756.293 2069.85,755.795 2079.93,755.271 2090.01,754.853 2100.09,753.836 2110.18,752.78 2120.26,752.992 2130.34,753.234 2140.42,753.847 2150.51,755.129 2160.59,756.118 2170.67,756.184 2180.75,754.763 2190.83,754.499 2200.92,755.042 2211,755.841 2221.08,756.345 2231.16,758.265 2241.25,759.719 2251.33,760.37 2261.41,761.282 2271.49,763.007 2281.57,765.425 2291.66,765.603 \"/>\n",
       "</svg>\n"
      ],
      "text/html": [
       "<?xml version=\"1.0\" encoding=\"utf-8\"?>\n",
       "<svg xmlns=\"http://www.w3.org/2000/svg\" xmlns:xlink=\"http://www.w3.org/1999/xlink\" width=\"600\" height=\"400\" viewBox=\"0 0 2400 1600\">\n",
       "<defs>\n",
       "  <clipPath id=\"clip190\">\n",
       "    <rect x=\"0\" y=\"0\" width=\"2400\" height=\"1600\"/>\n",
       "  </clipPath>\n",
       "</defs>\n",
       "<path clip-path=\"url(#clip190)\" d=\"M0 1600 L2400 1600 L2400 0 L0 0  Z\" fill=\"#ffffff\" fill-rule=\"evenodd\" fill-opacity=\"1\"/>\n",
       "<defs>\n",
       "  <clipPath id=\"clip191\">\n",
       "    <rect x=\"480\" y=\"0\" width=\"1681\" height=\"1600\"/>\n",
       "  </clipPath>\n",
       "</defs>\n",
       "<path clip-path=\"url(#clip190)\" d=\"M193.936 1486.45 L2352.76 1486.45 L2352.76 47.2441 L193.936 47.2441  Z\" fill=\"#ffffff\" fill-rule=\"evenodd\" fill-opacity=\"1\"/>\n",
       "<defs>\n",
       "  <clipPath id=\"clip192\">\n",
       "    <rect x=\"193\" y=\"47\" width=\"2160\" height=\"1440\"/>\n",
       "  </clipPath>\n",
       "</defs>\n",
       "<polyline clip-path=\"url(#clip192)\" style=\"stroke:#000000; stroke-linecap:round; stroke-linejoin:round; stroke-width:2; stroke-opacity:0.1; fill:none\" points=\"244.952,1486.45 244.952,47.2441 \"/>\n",
       "<polyline clip-path=\"url(#clip192)\" style=\"stroke:#000000; stroke-linecap:round; stroke-linejoin:round; stroke-width:2; stroke-opacity:0.1; fill:none\" points=\"749.067,1486.45 749.067,47.2441 \"/>\n",
       "<polyline clip-path=\"url(#clip192)\" style=\"stroke:#000000; stroke-linecap:round; stroke-linejoin:round; stroke-width:2; stroke-opacity:0.1; fill:none\" points=\"1253.18,1486.45 1253.18,47.2441 \"/>\n",
       "<polyline clip-path=\"url(#clip192)\" style=\"stroke:#000000; stroke-linecap:round; stroke-linejoin:round; stroke-width:2; stroke-opacity:0.1; fill:none\" points=\"1757.3,1486.45 1757.3,47.2441 \"/>\n",
       "<polyline clip-path=\"url(#clip192)\" style=\"stroke:#000000; stroke-linecap:round; stroke-linejoin:round; stroke-width:2; stroke-opacity:0.1; fill:none\" points=\"2261.41,1486.45 2261.41,47.2441 \"/>\n",
       "<polyline clip-path=\"url(#clip190)\" style=\"stroke:#000000; stroke-linecap:round; stroke-linejoin:round; stroke-width:4; stroke-opacity:1; fill:none\" points=\"193.936,1486.45 2352.76,1486.45 \"/>\n",
       "<polyline clip-path=\"url(#clip190)\" style=\"stroke:#000000; stroke-linecap:round; stroke-linejoin:round; stroke-width:4; stroke-opacity:1; fill:none\" points=\"244.952,1486.45 244.952,1467.55 \"/>\n",
       "<polyline clip-path=\"url(#clip190)\" style=\"stroke:#000000; stroke-linecap:round; stroke-linejoin:round; stroke-width:4; stroke-opacity:1; fill:none\" points=\"749.067,1486.45 749.067,1467.55 \"/>\n",
       "<polyline clip-path=\"url(#clip190)\" style=\"stroke:#000000; stroke-linecap:round; stroke-linejoin:round; stroke-width:4; stroke-opacity:1; fill:none\" points=\"1253.18,1486.45 1253.18,1467.55 \"/>\n",
       "<polyline clip-path=\"url(#clip190)\" style=\"stroke:#000000; stroke-linecap:round; stroke-linejoin:round; stroke-width:4; stroke-opacity:1; fill:none\" points=\"1757.3,1486.45 1757.3,1467.55 \"/>\n",
       "<polyline clip-path=\"url(#clip190)\" style=\"stroke:#000000; stroke-linecap:round; stroke-linejoin:round; stroke-width:4; stroke-opacity:1; fill:none\" points=\"2261.41,1486.45 2261.41,1467.55 \"/>\n",
       "<path clip-path=\"url(#clip190)\" d=\"M244.952 1517.37 Q241.341 1517.37 239.513 1520.93 Q237.707 1524.47 237.707 1531.6 Q237.707 1538.71 239.513 1542.27 Q241.341 1545.82 244.952 1545.82 Q248.587 1545.82 250.392 1542.27 Q252.221 1538.71 252.221 1531.6 Q252.221 1524.47 250.392 1520.93 Q248.587 1517.37 244.952 1517.37 M244.952 1513.66 Q250.763 1513.66 253.818 1518.27 Q256.897 1522.85 256.897 1531.6 Q256.897 1540.33 253.818 1544.94 Q250.763 1549.52 244.952 1549.52 Q239.142 1549.52 236.064 1544.94 Q233.008 1540.33 233.008 1531.6 Q233.008 1522.85 236.064 1518.27 Q239.142 1513.66 244.952 1513.66 Z\" fill=\"#000000\" fill-rule=\"nonzero\" fill-opacity=\"1\" /><path clip-path=\"url(#clip190)\" d=\"M723.766 1514.29 L742.122 1514.29 L742.122 1518.22 L728.048 1518.22 L728.048 1526.7 Q729.067 1526.35 730.085 1526.19 Q731.104 1526 732.123 1526 Q737.91 1526 741.289 1529.17 Q744.669 1532.34 744.669 1537.76 Q744.669 1543.34 741.197 1546.44 Q737.724 1549.52 731.405 1549.52 Q729.229 1549.52 726.961 1549.15 Q724.715 1548.78 722.308 1548.04 L722.308 1543.34 Q724.391 1544.47 726.613 1545.03 Q728.836 1545.58 731.312 1545.58 Q735.317 1545.58 737.655 1543.48 Q739.993 1541.37 739.993 1537.76 Q739.993 1534.15 737.655 1532.04 Q735.317 1529.94 731.312 1529.94 Q729.437 1529.94 727.562 1530.35 Q725.711 1530.77 723.766 1531.65 L723.766 1514.29 Z\" fill=\"#000000\" fill-rule=\"nonzero\" fill-opacity=\"1\" /><path clip-path=\"url(#clip190)\" d=\"M763.882 1517.37 Q760.271 1517.37 758.442 1520.93 Q756.636 1524.47 756.636 1531.6 Q756.636 1538.71 758.442 1542.27 Q760.271 1545.82 763.882 1545.82 Q767.516 1545.82 769.321 1542.27 Q771.15 1538.71 771.15 1531.6 Q771.15 1524.47 769.321 1520.93 Q767.516 1517.37 763.882 1517.37 M763.882 1513.66 Q769.692 1513.66 772.747 1518.27 Q775.826 1522.85 775.826 1531.6 Q775.826 1540.33 772.747 1544.94 Q769.692 1549.52 763.882 1549.52 Q758.071 1549.52 754.993 1544.94 Q751.937 1540.33 751.937 1531.6 Q751.937 1522.85 754.993 1518.27 Q758.071 1513.66 763.882 1513.66 Z\" fill=\"#000000\" fill-rule=\"nonzero\" fill-opacity=\"1\" /><path clip-path=\"url(#clip190)\" d=\"M1212.79 1544.91 L1220.43 1544.91 L1220.43 1518.55 L1212.12 1520.21 L1212.12 1515.95 L1220.38 1514.29 L1225.06 1514.29 L1225.06 1544.91 L1232.7 1544.91 L1232.7 1548.85 L1212.79 1548.85 L1212.79 1544.91 Z\" fill=\"#000000\" fill-rule=\"nonzero\" fill-opacity=\"1\" /><path clip-path=\"url(#clip190)\" d=\"M1252.14 1517.37 Q1248.53 1517.37 1246.7 1520.93 Q1244.89 1524.47 1244.89 1531.6 Q1244.89 1538.71 1246.7 1542.27 Q1248.53 1545.82 1252.14 1545.82 Q1255.77 1545.82 1257.58 1542.27 Q1259.41 1538.71 1259.41 1531.6 Q1259.41 1524.47 1257.58 1520.93 Q1255.77 1517.37 1252.14 1517.37 M1252.14 1513.66 Q1257.95 1513.66 1261.01 1518.27 Q1264.08 1522.85 1264.08 1531.6 Q1264.08 1540.33 1261.01 1544.94 Q1257.95 1549.52 1252.14 1549.52 Q1246.33 1549.52 1243.25 1544.94 Q1240.2 1540.33 1240.2 1531.6 Q1240.2 1522.85 1243.25 1518.27 Q1246.33 1513.66 1252.14 1513.66 Z\" fill=\"#000000\" fill-rule=\"nonzero\" fill-opacity=\"1\" /><path clip-path=\"url(#clip190)\" d=\"M1282.3 1517.37 Q1278.69 1517.37 1276.86 1520.93 Q1275.06 1524.47 1275.06 1531.6 Q1275.06 1538.71 1276.86 1542.27 Q1278.69 1545.82 1282.3 1545.82 Q1285.94 1545.82 1287.74 1542.27 Q1289.57 1538.71 1289.57 1531.6 Q1289.57 1524.47 1287.74 1520.93 Q1285.94 1517.37 1282.3 1517.37 M1282.3 1513.66 Q1288.11 1513.66 1291.17 1518.27 Q1294.25 1522.85 1294.25 1531.6 Q1294.25 1540.33 1291.17 1544.94 Q1288.11 1549.52 1282.3 1549.52 Q1276.49 1549.52 1273.41 1544.94 Q1270.36 1540.33 1270.36 1531.6 Q1270.36 1522.85 1273.41 1518.27 Q1276.49 1513.66 1282.3 1513.66 Z\" fill=\"#000000\" fill-rule=\"nonzero\" fill-opacity=\"1\" /><path clip-path=\"url(#clip190)\" d=\"M1716.9 1544.91 L1724.54 1544.91 L1724.54 1518.55 L1716.23 1520.21 L1716.23 1515.95 L1724.5 1514.29 L1729.17 1514.29 L1729.17 1544.91 L1736.81 1544.91 L1736.81 1548.85 L1716.9 1548.85 L1716.9 1544.91 Z\" fill=\"#000000\" fill-rule=\"nonzero\" fill-opacity=\"1\" /><path clip-path=\"url(#clip190)\" d=\"M1746.3 1514.29 L1764.66 1514.29 L1764.66 1518.22 L1750.58 1518.22 L1750.58 1526.7 Q1751.6 1526.35 1752.62 1526.19 Q1753.64 1526 1754.66 1526 Q1760.44 1526 1763.82 1529.17 Q1767.2 1532.34 1767.2 1537.76 Q1767.2 1543.34 1763.73 1546.44 Q1760.26 1549.52 1753.94 1549.52 Q1751.76 1549.52 1749.49 1549.15 Q1747.25 1548.78 1744.84 1548.04 L1744.84 1543.34 Q1746.93 1544.47 1749.15 1545.03 Q1751.37 1545.58 1753.85 1545.58 Q1757.85 1545.58 1760.19 1543.48 Q1762.53 1541.37 1762.53 1537.76 Q1762.53 1534.15 1760.19 1532.04 Q1757.85 1529.94 1753.85 1529.94 Q1751.97 1529.94 1750.1 1530.35 Q1748.24 1530.77 1746.3 1531.65 L1746.3 1514.29 Z\" fill=\"#000000\" fill-rule=\"nonzero\" fill-opacity=\"1\" /><path clip-path=\"url(#clip190)\" d=\"M1786.42 1517.37 Q1782.8 1517.37 1780.98 1520.93 Q1779.17 1524.47 1779.17 1531.6 Q1779.17 1538.71 1780.98 1542.27 Q1782.8 1545.82 1786.42 1545.82 Q1790.05 1545.82 1791.86 1542.27 Q1793.68 1538.71 1793.68 1531.6 Q1793.68 1524.47 1791.86 1520.93 Q1790.05 1517.37 1786.42 1517.37 M1786.42 1513.66 Q1792.23 1513.66 1795.28 1518.27 Q1798.36 1522.85 1798.36 1531.6 Q1798.36 1540.33 1795.28 1544.94 Q1792.23 1549.52 1786.42 1549.52 Q1780.61 1549.52 1777.53 1544.94 Q1774.47 1540.33 1774.47 1531.6 Q1774.47 1522.85 1777.53 1518.27 Q1780.61 1513.66 1786.42 1513.66 Z\" fill=\"#000000\" fill-rule=\"nonzero\" fill-opacity=\"1\" /><path clip-path=\"url(#clip190)\" d=\"M2225.1 1544.91 L2241.42 1544.91 L2241.42 1548.85 L2219.48 1548.85 L2219.48 1544.91 Q2222.14 1542.16 2226.72 1537.53 Q2231.33 1532.88 2232.51 1531.53 Q2234.76 1529.01 2235.64 1527.27 Q2236.54 1525.51 2236.54 1523.82 Q2236.54 1521.07 2234.59 1519.33 Q2232.67 1517.6 2229.57 1517.6 Q2227.37 1517.6 2224.92 1518.36 Q2222.49 1519.13 2219.71 1520.68 L2219.71 1515.95 Q2222.53 1514.82 2224.99 1514.24 Q2227.44 1513.66 2229.48 1513.66 Q2234.85 1513.66 2238.04 1516.35 Q2241.24 1519.03 2241.24 1523.52 Q2241.24 1525.65 2240.43 1527.57 Q2239.64 1529.47 2237.53 1532.07 Q2236.95 1532.74 2233.85 1535.95 Q2230.75 1539.15 2225.1 1544.91 Z\" fill=\"#000000\" fill-rule=\"nonzero\" fill-opacity=\"1\" /><path clip-path=\"url(#clip190)\" d=\"M2261.24 1517.37 Q2257.63 1517.37 2255.8 1520.93 Q2253.99 1524.47 2253.99 1531.6 Q2253.99 1538.71 2255.8 1542.27 Q2257.63 1545.82 2261.24 1545.82 Q2264.87 1545.82 2266.68 1542.27 Q2268.51 1538.71 2268.51 1531.6 Q2268.51 1524.47 2266.68 1520.93 Q2264.87 1517.37 2261.24 1517.37 M2261.24 1513.66 Q2267.05 1513.66 2270.1 1518.27 Q2273.18 1522.85 2273.18 1531.6 Q2273.18 1540.33 2270.1 1544.94 Q2267.05 1549.52 2261.24 1549.52 Q2255.43 1549.52 2252.35 1544.94 Q2249.29 1540.33 2249.29 1531.6 Q2249.29 1522.85 2252.35 1518.27 Q2255.43 1513.66 2261.24 1513.66 Z\" fill=\"#000000\" fill-rule=\"nonzero\" fill-opacity=\"1\" /><path clip-path=\"url(#clip190)\" d=\"M2291.4 1517.37 Q2287.79 1517.37 2285.96 1520.93 Q2284.15 1524.47 2284.15 1531.6 Q2284.15 1538.71 2285.96 1542.27 Q2287.79 1545.82 2291.4 1545.82 Q2295.03 1545.82 2296.84 1542.27 Q2298.67 1538.71 2298.67 1531.6 Q2298.67 1524.47 2296.84 1520.93 Q2295.03 1517.37 2291.4 1517.37 M2291.4 1513.66 Q2297.21 1513.66 2300.26 1518.27 Q2303.34 1522.85 2303.34 1531.6 Q2303.34 1540.33 2300.26 1544.94 Q2297.21 1549.52 2291.4 1549.52 Q2285.59 1549.52 2282.51 1544.94 Q2279.45 1540.33 2279.45 1531.6 Q2279.45 1522.85 2282.51 1518.27 Q2285.59 1513.66 2291.4 1513.66 Z\" fill=\"#000000\" fill-rule=\"nonzero\" fill-opacity=\"1\" /><polyline clip-path=\"url(#clip192)\" style=\"stroke:#000000; stroke-linecap:round; stroke-linejoin:round; stroke-width:2; stroke-opacity:0.1; fill:none\" points=\"193.936,1486.45 2352.76,1486.45 \"/>\n",
       "<polyline clip-path=\"url(#clip192)\" style=\"stroke:#000000; stroke-linecap:round; stroke-linejoin:round; stroke-width:2; stroke-opacity:0.1; fill:none\" points=\"193.936,1126.65 2352.76,1126.65 \"/>\n",
       "<polyline clip-path=\"url(#clip192)\" style=\"stroke:#000000; stroke-linecap:round; stroke-linejoin:round; stroke-width:2; stroke-opacity:0.1; fill:none\" points=\"193.936,766.846 2352.76,766.846 \"/>\n",
       "<polyline clip-path=\"url(#clip192)\" style=\"stroke:#000000; stroke-linecap:round; stroke-linejoin:round; stroke-width:2; stroke-opacity:0.1; fill:none\" points=\"193.936,407.045 2352.76,407.045 \"/>\n",
       "<polyline clip-path=\"url(#clip192)\" style=\"stroke:#000000; stroke-linecap:round; stroke-linejoin:round; stroke-width:2; stroke-opacity:0.1; fill:none\" points=\"193.936,47.2441 2352.76,47.2441 \"/>\n",
       "<polyline clip-path=\"url(#clip190)\" style=\"stroke:#000000; stroke-linecap:round; stroke-linejoin:round; stroke-width:4; stroke-opacity:1; fill:none\" points=\"193.936,1486.45 193.936,47.2441 \"/>\n",
       "<polyline clip-path=\"url(#clip190)\" style=\"stroke:#000000; stroke-linecap:round; stroke-linejoin:round; stroke-width:4; stroke-opacity:1; fill:none\" points=\"193.936,1486.45 212.834,1486.45 \"/>\n",
       "<polyline clip-path=\"url(#clip190)\" style=\"stroke:#000000; stroke-linecap:round; stroke-linejoin:round; stroke-width:4; stroke-opacity:1; fill:none\" points=\"193.936,1126.65 212.834,1126.65 \"/>\n",
       "<polyline clip-path=\"url(#clip190)\" style=\"stroke:#000000; stroke-linecap:round; stroke-linejoin:round; stroke-width:4; stroke-opacity:1; fill:none\" points=\"193.936,766.846 212.834,766.846 \"/>\n",
       "<polyline clip-path=\"url(#clip190)\" style=\"stroke:#000000; stroke-linecap:round; stroke-linejoin:round; stroke-width:4; stroke-opacity:1; fill:none\" points=\"193.936,407.045 212.834,407.045 \"/>\n",
       "<polyline clip-path=\"url(#clip190)\" style=\"stroke:#000000; stroke-linecap:round; stroke-linejoin:round; stroke-width:4; stroke-opacity:1; fill:none\" points=\"193.936,47.2441 212.834,47.2441 \"/>\n",
       "<path clip-path=\"url(#clip190)\" d=\"M50.9921 1486.9 L80.6679 1486.9 L80.6679 1490.83 L50.9921 1490.83 L50.9921 1486.9 Z\" fill=\"#000000\" fill-rule=\"nonzero\" fill-opacity=\"1\" /><path clip-path=\"url(#clip190)\" d=\"M90.8067 1469.17 L109.163 1469.17 L109.163 1473.1 L95.0891 1473.1 L95.0891 1481.58 Q96.1076 1481.23 97.1261 1481.07 Q98.1447 1480.88 99.1632 1480.88 Q104.95 1480.88 108.33 1484.05 Q111.709 1487.22 111.709 1492.64 Q111.709 1498.22 108.237 1501.32 Q104.765 1504.4 98.4456 1504.4 Q96.2697 1504.4 94.0012 1504.03 Q91.7558 1503.66 89.3484 1502.92 L89.3484 1498.22 Q91.4317 1499.35 93.6539 1499.91 Q95.8761 1500.46 98.353 1500.46 Q102.358 1500.46 104.696 1498.36 Q107.033 1496.25 107.033 1492.64 Q107.033 1489.03 104.696 1486.92 Q102.358 1484.82 98.353 1484.82 Q96.478 1484.82 94.603 1485.23 Q92.7512 1485.65 90.8067 1486.53 L90.8067 1469.17 Z\" fill=\"#000000\" fill-rule=\"nonzero\" fill-opacity=\"1\" /><path clip-path=\"url(#clip190)\" d=\"M120.922 1497.85 L125.807 1497.85 L125.807 1503.73 L120.922 1503.73 L120.922 1497.85 Z\" fill=\"#000000\" fill-rule=\"nonzero\" fill-opacity=\"1\" /><path clip-path=\"url(#clip190)\" d=\"M145.992 1472.25 Q142.381 1472.25 140.552 1475.81 Q138.746 1479.35 138.746 1486.48 Q138.746 1493.59 140.552 1497.15 Q142.381 1500.7 145.992 1500.7 Q149.626 1500.7 151.431 1497.15 Q153.26 1493.59 153.26 1486.48 Q153.26 1479.35 151.431 1475.81 Q149.626 1472.25 145.992 1472.25 M145.992 1468.54 Q151.802 1468.54 154.857 1473.15 Q157.936 1477.73 157.936 1486.48 Q157.936 1495.21 154.857 1499.82 Q151.802 1504.4 145.992 1504.4 Q140.181 1504.4 137.103 1499.82 Q134.047 1495.21 134.047 1486.48 Q134.047 1477.73 137.103 1473.15 Q140.181 1468.54 145.992 1468.54 Z\" fill=\"#000000\" fill-rule=\"nonzero\" fill-opacity=\"1\" /><path clip-path=\"url(#clip190)\" d=\"M51.9875 1127.1 L81.6633 1127.1 L81.6633 1131.03 L51.9875 1131.03 L51.9875 1127.1 Z\" fill=\"#000000\" fill-rule=\"nonzero\" fill-opacity=\"1\" /><path clip-path=\"url(#clip190)\" d=\"M95.7836 1139.99 L112.103 1139.99 L112.103 1143.93 L90.1586 1143.93 L90.1586 1139.99 Q92.8206 1137.24 97.4039 1132.61 Q102.01 1127.95 103.191 1126.61 Q105.436 1124.09 106.316 1122.35 Q107.219 1120.59 107.219 1118.9 Q107.219 1116.15 105.274 1114.41 Q103.353 1112.68 100.251 1112.68 Q98.0521 1112.68 95.5984 1113.44 Q93.1678 1114.2 90.3901 1115.76 L90.3901 1111.03 Q93.2141 1109.9 95.6678 1109.32 Q98.1215 1108.74 100.159 1108.74 Q105.529 1108.74 108.723 1111.43 Q111.918 1114.11 111.918 1118.6 Q111.918 1120.73 111.108 1122.65 Q110.321 1124.55 108.214 1127.14 Q107.635 1127.82 104.534 1131.03 Q101.432 1134.23 95.7836 1139.99 Z\" fill=\"#000000\" fill-rule=\"nonzero\" fill-opacity=\"1\" /><path clip-path=\"url(#clip190)\" d=\"M121.918 1138.05 L126.802 1138.05 L126.802 1143.93 L121.918 1143.93 L121.918 1138.05 Z\" fill=\"#000000\" fill-rule=\"nonzero\" fill-opacity=\"1\" /><path clip-path=\"url(#clip190)\" d=\"M137.033 1109.37 L155.39 1109.37 L155.39 1113.3 L141.316 1113.3 L141.316 1121.77 Q142.334 1121.43 143.353 1121.27 Q144.371 1121.08 145.39 1121.08 Q151.177 1121.08 154.556 1124.25 Q157.936 1127.42 157.936 1132.84 Q157.936 1138.42 154.464 1141.52 Q150.992 1144.6 144.672 1144.6 Q142.496 1144.6 140.228 1144.23 Q137.982 1143.86 135.575 1143.12 L135.575 1138.42 Q137.658 1139.55 139.881 1140.11 Q142.103 1140.66 144.58 1140.66 Q148.584 1140.66 150.922 1138.56 Q153.26 1136.45 153.26 1132.84 Q153.26 1129.23 150.922 1127.12 Q148.584 1125.01 144.58 1125.01 Q142.705 1125.01 140.83 1125.43 Q138.978 1125.85 137.033 1126.73 L137.033 1109.37 Z\" fill=\"#000000\" fill-rule=\"nonzero\" fill-opacity=\"1\" /><path clip-path=\"url(#clip190)\" d=\"M100.76 752.645 Q97.1493 752.645 95.3206 756.209 Q93.515 759.751 93.515 766.881 Q93.515 773.987 95.3206 777.552 Q97.1493 781.094 100.76 781.094 Q104.395 781.094 106.2 777.552 Q108.029 773.987 108.029 766.881 Q108.029 759.751 106.2 756.209 Q104.395 752.645 100.76 752.645 M100.76 748.941 Q106.571 748.941 109.626 753.547 Q112.705 758.131 112.705 766.881 Q112.705 775.608 109.626 780.214 Q106.571 784.797 100.76 784.797 Q94.9502 784.797 91.8715 780.214 Q88.816 775.608 88.816 766.881 Q88.816 758.131 91.8715 753.547 Q94.9502 748.941 100.76 748.941 Z\" fill=\"#000000\" fill-rule=\"nonzero\" fill-opacity=\"1\" /><path clip-path=\"url(#clip190)\" d=\"M120.922 778.246 L125.807 778.246 L125.807 784.126 L120.922 784.126 L120.922 778.246 Z\" fill=\"#000000\" fill-rule=\"nonzero\" fill-opacity=\"1\" /><path clip-path=\"url(#clip190)\" d=\"M145.992 752.645 Q142.381 752.645 140.552 756.209 Q138.746 759.751 138.746 766.881 Q138.746 773.987 140.552 777.552 Q142.381 781.094 145.992 781.094 Q149.626 781.094 151.431 777.552 Q153.26 773.987 153.26 766.881 Q153.26 759.751 151.431 756.209 Q149.626 752.645 145.992 752.645 M145.992 748.941 Q151.802 748.941 154.857 753.547 Q157.936 758.131 157.936 766.881 Q157.936 775.608 154.857 780.214 Q151.802 784.797 145.992 784.797 Q140.181 784.797 137.103 780.214 Q134.047 775.608 134.047 766.881 Q134.047 758.131 137.103 753.547 Q140.181 748.941 145.992 748.941 Z\" fill=\"#000000\" fill-rule=\"nonzero\" fill-opacity=\"1\" /><path clip-path=\"url(#clip190)\" d=\"M95.7836 420.39 L112.103 420.39 L112.103 424.325 L90.1586 424.325 L90.1586 420.39 Q92.8206 417.635 97.4039 413.006 Q102.01 408.353 103.191 407.01 Q105.436 404.487 106.316 402.751 Q107.219 400.992 107.219 399.302 Q107.219 396.547 105.274 394.811 Q103.353 393.075 100.251 393.075 Q98.0521 393.075 95.5984 393.839 Q93.1678 394.603 90.3901 396.154 L90.3901 391.432 Q93.2141 390.297 95.6678 389.719 Q98.1215 389.14 100.159 389.14 Q105.529 389.14 108.723 391.825 Q111.918 394.51 111.918 399.001 Q111.918 401.131 111.108 403.052 Q110.321 404.95 108.214 407.543 Q107.635 408.214 104.534 411.432 Q101.432 414.626 95.7836 420.39 Z\" fill=\"#000000\" fill-rule=\"nonzero\" fill-opacity=\"1\" /><path clip-path=\"url(#clip190)\" d=\"M121.918 418.445 L126.802 418.445 L126.802 424.325 L121.918 424.325 L121.918 418.445 Z\" fill=\"#000000\" fill-rule=\"nonzero\" fill-opacity=\"1\" /><path clip-path=\"url(#clip190)\" d=\"M137.033 389.765 L155.39 389.765 L155.39 393.7 L141.316 393.7 L141.316 402.172 Q142.334 401.825 143.353 401.663 Q144.371 401.478 145.39 401.478 Q151.177 401.478 154.556 404.649 Q157.936 407.82 157.936 413.237 Q157.936 418.816 154.464 421.918 Q150.992 424.996 144.672 424.996 Q142.496 424.996 140.228 424.626 Q137.982 424.256 135.575 423.515 L135.575 418.816 Q137.658 419.95 139.881 420.506 Q142.103 421.061 144.58 421.061 Q148.584 421.061 150.922 418.955 Q153.26 416.848 153.26 413.237 Q153.26 409.626 150.922 407.52 Q148.584 405.413 144.58 405.413 Q142.705 405.413 140.83 405.83 Q138.978 406.246 137.033 407.126 L137.033 389.765 Z\" fill=\"#000000\" fill-rule=\"nonzero\" fill-opacity=\"1\" /><path clip-path=\"url(#clip190)\" d=\"M90.8067 29.9641 L109.163 29.9641 L109.163 33.8993 L95.0891 33.8993 L95.0891 42.3714 Q96.1076 42.0242 97.1261 41.8622 Q98.1447 41.677 99.1632 41.677 Q104.95 41.677 108.33 44.8483 Q111.709 48.0196 111.709 53.4362 Q111.709 59.0149 108.237 62.1167 Q104.765 65.1954 98.4456 65.1954 Q96.2697 65.1954 94.0012 64.825 Q91.7558 64.4547 89.3484 63.7139 L89.3484 59.0149 Q91.4317 60.1491 93.6539 60.7047 Q95.8761 61.2602 98.353 61.2602 Q102.358 61.2602 104.696 59.1538 Q107.033 57.0473 107.033 53.4362 Q107.033 49.8251 104.696 47.7186 Q102.358 45.6122 98.353 45.6122 Q96.478 45.6122 94.603 46.0288 Q92.7512 46.4455 90.8067 47.3251 L90.8067 29.9641 Z\" fill=\"#000000\" fill-rule=\"nonzero\" fill-opacity=\"1\" /><path clip-path=\"url(#clip190)\" d=\"M120.922 58.6445 L125.807 58.6445 L125.807 64.5241 L120.922 64.5241 L120.922 58.6445 Z\" fill=\"#000000\" fill-rule=\"nonzero\" fill-opacity=\"1\" /><path clip-path=\"url(#clip190)\" d=\"M145.992 33.0428 Q142.381 33.0428 140.552 36.6076 Q138.746 40.1492 138.746 47.2788 Q138.746 54.3853 140.552 57.9501 Q142.381 61.4917 145.992 61.4917 Q149.626 61.4917 151.431 57.9501 Q153.26 54.3853 153.26 47.2788 Q153.26 40.1492 151.431 36.6076 Q149.626 33.0428 145.992 33.0428 M145.992 29.3391 Q151.802 29.3391 154.857 33.9456 Q157.936 38.5289 157.936 47.2788 Q157.936 56.0056 154.857 60.6121 Q151.802 65.1954 145.992 65.1954 Q140.181 65.1954 137.103 60.6121 Q134.047 56.0056 134.047 47.2788 Q134.047 38.5289 137.103 33.9456 Q140.181 29.3391 145.992 29.3391 Z\" fill=\"#000000\" fill-rule=\"nonzero\" fill-opacity=\"1\" /><polyline clip-path=\"url(#clip192)\" style=\"stroke:#009af9; stroke-linecap:round; stroke-linejoin:round; stroke-width:4; stroke-opacity:1; fill:none\" points=\"255.035,795.515 265.117,794.342 275.199,794.118 285.282,795.264 295.364,796.693 305.446,797.516 315.528,796.641 325.611,796.587 335.693,797.505 345.775,796.1 355.858,794.633 365.94,793.749 376.022,793.407 386.104,792.594 396.187,791.401 406.269,789.894 416.351,787.489 426.434,785.423 436.516,783.184 446.598,780.842 456.68,779.184 466.763,778.423 476.845,778.119 486.927,778.008 497.01,777.883 507.092,777.476 517.174,776.469 527.257,774.89 537.339,773.468 547.421,772.998 557.503,773.193 567.586,772.64 577.668,771.295 587.75,769.821 597.833,767.312 607.915,765.123 617.997,763.93 628.079,762.592 638.162,761.251 648.244,760.832 658.326,761.741 668.409,762.357 678.491,762.549 688.573,761.792 698.655,761.148 708.738,761.174 718.82,761.883 728.902,762.06 738.985,761.484 749.067,759.446 759.149,757.307 769.231,755.261 779.314,752.565 789.396,748.697 799.478,743.374 809.561,737.966 819.643,732.406 829.725,727.052 839.807,722.392 849.89,718.655 859.972,715.789 870.054,713.315 880.137,710.993 890.219,708.845 900.301,706.461 910.384,705.043 920.466,703.433 930.548,702.425 940.63,702.031 950.713,700.293 960.795,699.928 970.877,699.75 980.96,700.832 991.042,703.018 1001.12,705.707 1011.21,709.01 1021.29,711.944 1031.37,714.845 1041.45,718.312 1051.54,723.205 1061.62,726.685 1071.7,729.898 1081.78,731.747 1091.86,732.975 1101.95,733.965 1112.03,735.581 1122.11,735.784 1132.19,736.76 1142.28,738.695 1152.36,740.641 1162.44,742.76 1172.52,744.931 1182.61,747.023 1192.69,748.842 1202.77,750.958 1212.85,753.524 1222.93,756.604 1233.02,759.442 1243.1,762.014 1253.18,763.674 1263.26,765.397 1273.35,766.419 1283.43,767.382 1293.51,768.069 1303.59,768.052 1313.68,767.312 1323.76,766.607 1333.84,766.796 1343.92,766.867 1354,767.349 1364.09,767.821 1374.17,767.517 1384.25,767.789 1394.33,769.101 1404.42,770.477 1414.5,771.378 1424.58,771.568 1434.66,771.513 1444.74,770.376 1454.83,767.722 1464.91,765.272 1474.99,763.355 1485.07,762.858 1495.16,762.87 1505.24,763.864 1515.32,764.736 1525.4,766.045 1535.49,767.684 1545.57,768.558 1555.65,769.437 1565.73,769.629 1575.81,769.325 1585.9,768.75 1595.98,768.044 1606.06,768.225 1616.14,766.957 1626.23,765.136 1636.31,764.291 1646.39,764.13 1656.47,764.543 1666.56,765.6 1676.64,766.441 1686.72,766.639 1696.8,766.777 1706.88,767.618 1716.97,769.744 1727.05,771.233 1737.13,772.553 1747.21,774.001 1757.3,775.501 1767.38,778.504 1777.46,778.671 1787.54,776.691 1797.63,773.907 1807.71,771.038 1817.79,769.08 1827.87,766.786 1837.95,764.805 1848.04,762.465 1858.12,761.119 1868.2,760.217 1878.28,759.648 1888.37,759.096 1898.45,758.936 1908.53,758.271 1918.61,757.744 1928.69,757.663 1938.78,758.197 1948.86,759.097 1958.94,760.297 1969.02,761.088 1979.11,761.466 1989.19,762.041 1999.27,762.397 2009.35,763.198 2019.44,764.49 2029.52,765.615 2039.6,766.397 2049.68,766.909 2059.76,767.18 2069.85,766.449 2079.93,764.806 2090.01,763.665 2100.09,761.883 2110.18,760.264 2120.26,759.321 2130.34,758.296 2140.42,756.145 2150.51,754.3 2160.59,751.887 2170.67,749.936 2180.75,748.808 2190.83,748.05 2200.92,747.072 2211,745.111 2221.08,744.561 2231.16,744.326 2241.25,744.07 2251.33,746.214 2261.41,748.533 2271.49,751.174 2281.57,753.248 2291.66,753.351 \"/>\n",
       "<polyline clip-path=\"url(#clip192)\" style=\"stroke:#e26f46; stroke-linecap:round; stroke-linejoin:round; stroke-width:4; stroke-opacity:1; fill:none\" points=\"255.035,1063.8 265.117,1062.55 275.199,1060.1 285.282,1057.54 295.364,1055.7 305.446,1054.13 315.528,1052.4 325.611,1050.93 335.693,1049.09 345.775,1047.9 355.858,1046.53 365.94,1045.44 376.022,1045.36 386.104,1045.62 396.187,1045.01 406.269,1043.95 416.351,1042.37 426.434,1040.15 436.516,1037.44 446.598,1035.01 456.68,1033.26 466.763,1031.67 476.845,1028.98 486.927,1025.42 497.01,1021.28 507.092,1017.21 517.174,1012.7 527.257,1008.07 537.339,1003.37 547.421,998.437 557.503,992.04 567.586,985.492 577.668,978.256 587.75,970.788 597.833,963.707 607.915,956.398 617.997,950.06 628.079,942.807 638.162,934.737 648.244,927.586 658.326,921.115 668.409,914.081 678.491,906.801 688.573,900.255 698.655,894.272 708.738,887.374 718.82,880.399 728.902,873.737 738.985,868.057 749.067,862.867 759.149,857.111 769.231,850.072 779.314,843.268 789.396,837.023 799.478,830.413 809.561,823.009 819.643,817.045 829.725,811.68 839.807,806.666 849.89,801.555 859.972,796.407 870.054,791.298 880.137,785.141 890.219,778.657 900.301,771.927 910.384,765.386 920.466,759.15 930.548,752.467 940.63,746.048 950.713,740.07 960.795,733.595 970.877,727.096 980.96,719.454 991.042,711.112 1001.12,702.31 1011.21,692.93 1021.29,683.68 1031.37,675.825 1041.45,667.749 1051.54,660.176 1061.62,653.124 1071.7,646.31 1081.78,639.458 1091.86,632.694 1101.95,626.532 1112.03,620.972 1122.11,614.072 1132.19,607.004 1142.28,599.155 1152.36,590.444 1162.44,580.004 1172.52,569.382 1182.61,559.004 1192.69,549.74 1202.77,539.923 1212.85,529.733 1222.93,518.317 1233.02,505.369 1243.1,491.985 1253.18,478.598 1263.26,464.428 1273.35,449.615 1283.43,434.135 1293.51,417.866 \"/>\n",
       "<polyline clip-path=\"url(#clip192)\" style=\"stroke:#3da44d; stroke-linecap:round; stroke-linejoin:round; stroke-width:4; stroke-opacity:1; fill:none\" points=\"255.035,620.546 265.117,621.167 275.199,621.219 285.282,621.459 295.364,622.059 305.446,621.94 315.528,621.048 325.611,620.477 335.693,620.956 345.775,621.262 355.858,620.908 365.94,620.975 376.022,620.515 386.104,620.317 396.187,620.714 406.269,621.001 416.351,621.706 426.434,622.701 436.516,623.596 446.598,624.858 456.68,626.289 466.763,627.651 476.845,629.065 486.927,630.089 497.01,630.18 507.092,630.142 517.174,630.211 527.257,630.984 537.339,631.428 547.421,633.004 557.503,635.106 567.586,638.296 577.668,641.655 587.75,643.872 597.833,646.839 607.915,650.231 617.997,653.973 628.079,657.915 638.162,663.512 648.244,669.394 658.326,674.565 668.409,680.415 678.491,685.992 688.573,691.654 698.655,696.785 708.738,701.998 718.82,707.003 728.902,711.628 738.985,715.402 749.067,718.738 759.149,722.136 769.231,724.613 779.314,726.862 789.396,728.489 799.478,728.75 809.561,728.737 819.643,727.902 829.725,726.816 839.807,726.606 849.89,726.593 859.972,727.084 870.054,727.579 880.137,726.944 890.219,726.001 900.301,724.396 910.384,723.034 920.466,721.639 930.548,720.299 940.63,717.921 950.713,716.491 960.795,714.628 970.877,712.947 980.96,710.811 991.042,708.046 1001.12,705.656 1011.21,703.855 1021.29,702.432 1031.37,701.035 1041.45,700.007 1051.54,698.967 1061.62,696.865 1071.7,696.286 1081.78,697.081 1091.86,697.623 1101.95,698.082 1112.03,698.569 1122.11,699.743 1132.19,701.699 1142.28,703.538 1152.36,704.24 1162.44,704.045 1172.52,705.13 1182.61,707.599 1192.69,709.812 1202.77,712.166 1212.85,714.498 1222.93,716.583 1233.02,718.65 1243.1,721.413 1253.18,724.762 1263.26,728.969 1273.35,734.752 1283.43,739.995 1293.51,744.818 1303.59,750.294 1313.68,755.934 1323.76,760.962 1333.84,765.632 1343.92,770.428 1354,774.199 1364.09,777.072 1374.17,778.8 1384.25,780.035 1394.33,780.768 1404.42,780.885 1414.5,780.702 1424.58,780.154 1434.66,780.397 1444.74,781.198 1454.83,781.399 1464.91,781.72 1474.99,781.554 1485.07,779.872 1495.16,777.768 1505.24,776.518 1515.32,774.772 1525.4,772.811 1535.49,771.964 1545.57,770.709 1555.65,769.191 1565.73,766.792 1575.81,764.177 1585.9,761.916 1595.98,759.273 1606.06,756.198 1616.14,753.272 1626.23,750.337 1636.31,748.331 1646.39,746.776 1656.47,746.22 1666.56,745.691 1676.64,746.471 1686.72,746.485 1696.8,745.536 1706.88,743.927 1716.97,743.683 1727.05,744.592 1737.13,746.159 1747.21,747.557 1757.3,748.77 1767.38,751.497 1777.46,753.99 1787.54,757.943 1797.63,761.552 1807.71,764.525 1817.79,766.308 1827.87,766.098 1837.95,765.625 1848.04,765.638 1858.12,764.977 1868.2,764.595 1878.28,764.08 1888.37,762.803 1898.45,760.311 1908.53,758.221 1918.61,757.795 1928.69,757.68 1938.78,757.418 1948.86,758.735 1958.94,760.026 1969.02,762.012 1979.11,763.26 1989.19,764.046 1999.27,763.781 2009.35,763.015 2019.44,763.489 2029.52,764.343 2039.6,763.751 2049.68,761.621 2059.76,760.364 2069.85,760.117 2079.93,759.254 2090.01,757.775 2100.09,756.145 2110.18,755.437 2120.26,756.096 2130.34,757.513 2140.42,759.229 2150.51,762.219 2160.59,764.975 2170.67,767.141 2180.75,768.993 2190.83,770.431 2200.92,771.713 2211,772.67 2221.08,771.894 2231.16,770.961 2241.25,770.8 2251.33,771.482 2261.41,772.048 2271.49,771.8 2281.57,772.078 2291.66,772.124 \"/>\n",
       "<polyline clip-path=\"url(#clip192)\" style=\"stroke:#c271d2; stroke-linecap:round; stroke-linejoin:round; stroke-width:4; stroke-opacity:1; fill:none\" points=\"255.035,769.653 265.117,769.277 275.199,769.384 285.282,768.712 295.364,768.897 305.446,769.373 315.528,769.053 325.611,768.66 335.693,767.437 345.775,767.976 355.858,768.51 365.94,768.114 376.022,767.457 386.104,767.225 396.187,766.985 406.269,765.654 416.351,764.334 426.434,763.426 436.516,762.66 446.598,762.712 456.68,763.575 466.763,764.873 476.845,766.229 486.927,767.612 497.01,768.141 507.092,768.561 517.174,768.843 527.257,769.283 537.339,768.509 547.421,767.745 557.503,766.744 567.586,764.587 577.668,762.897 587.75,760.843 597.833,758.257 607.915,755.508 617.997,754.207 628.079,754.577 638.162,754.99 648.244,753.762 658.326,752.325 668.409,751.166 678.491,749.305 688.573,748.296 698.655,748.374 708.738,747.113 718.82,746.864 728.902,747.98 738.985,748.789 749.067,749.464 759.149,750.206 769.231,749.904 779.314,749.304 789.396,749.195 799.478,750.291 809.561,752.577 819.643,754.394 829.725,755.027 839.807,755.141 849.89,756.067 859.972,757.627 870.054,759.49 880.137,758.989 890.219,759.388 900.301,758.544 910.384,757.242 920.466,755.255 930.548,753.656 940.63,752.407 950.713,751.593 960.795,750.79 970.877,751.682 980.96,753.202 991.042,754.726 1001.12,755.976 1011.21,756.238 1021.29,755.452 1031.37,753.752 1041.45,751.609 1051.54,750.394 1061.62,749.32 1071.7,748.509 1081.78,748.405 1091.86,749.76 1101.95,751.633 1112.03,753.052 1122.11,754.031 1132.19,755.074 1142.28,756.551 1152.36,758.702 1162.44,760.524 1172.52,762.638 1182.61,765.136 1192.69,767.95 1202.77,769.75 1212.85,769.673 1222.93,769.162 1233.02,768.88 1243.1,768.619 1253.18,768.839 1263.26,769.682 1273.35,770.888 1283.43,771.566 1293.51,771.839 1303.59,771.977 1313.68,772.139 1323.76,772.326 1333.84,771.974 1343.92,771.345 1354,771.195 1364.09,769.551 1374.17,767.271 1384.25,764.252 1394.33,761.458 1404.42,758.853 1414.5,758.189 1424.58,758.983 1434.66,759.434 1444.74,760.546 1454.83,761.092 1464.91,762.291 1474.99,763.673 1485.07,762.851 1495.16,761.466 1505.24,760.894 1515.32,760.435 1525.4,759.951 1535.49,759.327 1545.57,758.169 1555.65,757.655 1565.73,757.639 1575.81,758.09 1585.9,759.937 1595.98,760.023 1606.06,759.898 1616.14,759.947 1626.23,759.859 1636.31,760.244 1646.39,761.118 1656.47,762.852 1666.56,765.241 1676.64,768 1686.72,771.796 1696.8,774.854 1706.88,777.223 1716.97,779.456 1727.05,778.907 1737.13,777.909 1747.21,776.522 1757.3,774.31 1767.38,771.181 1777.46,767.674 1787.54,764.656 1797.63,763.252 1807.71,762.92 1817.79,761.101 1827.87,758.426 1837.95,755.489 1848.04,751.883 1858.12,747.595 1868.2,743.656 1878.28,740.135 1888.37,736.895 1898.45,733.729 1908.53,730.216 1918.61,726.716 1928.69,723.554 1938.78,722.581 1948.86,723.759 1958.94,726.29 1969.02,729.167 1979.11,732.409 1989.19,735.726 1999.27,739.879 2009.35,743.133 2019.44,745.267 2029.52,746.759 2039.6,748.654 2049.68,751.312 2059.76,752.577 2069.85,753.856 2079.93,754.662 2090.01,755.132 2100.09,754.916 2110.18,754.637 2120.26,755.317 2130.34,755.128 2140.42,756.303 2150.51,758.125 2160.59,759.136 2170.67,760.593 2180.75,762.726 2190.83,763.873 2200.92,763.013 2211,762.544 2221.08,762.536 2231.16,762.675 2241.25,762.458 2251.33,761.901 2261.41,760.843 2271.49,759.591 2281.57,757.759 2291.66,757.623 \"/>\n",
       "<polyline clip-path=\"url(#clip192)\" style=\"stroke:#ac8d18; stroke-linecap:round; stroke-linejoin:round; stroke-width:4; stroke-opacity:1; fill:none\" points=\"255.035,1161.93 265.117,1160.98 275.199,1159.2 285.282,1157.36 295.364,1155.04 305.446,1154 315.528,1151.65 325.611,1149.11 335.693,1147.05 345.775,1145.13 355.858,1142.07 365.94,1137.81 376.022,1134.19 386.104,1130.93 396.187,1127.72 406.269,1124.51 416.351,1121.15 426.434,1117.81 436.516,1114.77 446.598,1110.31 456.68,1105.44 466.763,1100.37 476.845,1095.2 486.927,1088.26 497.01,1081.74 507.092,1075.17 517.174,1067.83 527.257,1060.98 537.339,1054.67 547.421,1049.01 557.503,1043.25 567.586,1037.26 577.668,1030.4 587.75,1022.62 597.833,1015.05 607.915,1007.43 617.997,1001.19 628.079,994.556 638.162,988.173 648.244,982.366 658.326,976.728 668.409,970.75 678.491,964.447 688.573,959.08 698.655,953.161 708.738,946.33 718.82,940.068 728.902,934.566 738.985,929.21 749.067,923.38 759.149,916.742 769.231,910.291 779.314,904.281 789.396,897.88 799.478,891.461 809.561,883.394 819.643,874.208 829.725,864.42 839.807,854.553 849.89,844.903 859.972,835.725 870.054,827.234 880.137,818.959 890.219,812.613 900.301,806.285 910.384,800.516 920.466,794.879 930.548,790.226 940.63,787.038 950.713,784.144 960.795,780.813 970.877,777.278 980.96,774.419 991.042,771.573 1001.12,769.11 1011.21,767.354 1021.29,765.99 1031.37,764.69 1041.45,764.794 1051.54,764.311 1061.62,764.31 1071.7,763.667 1081.78,762.513 1091.86,760.707 1101.95,758.922 1112.03,758.426 1122.11,757.921 1132.19,757.543 1142.28,756.784 1152.36,757.247 1162.44,758.087 1172.52,757.644 1182.61,757.966 1192.69,757.766 1202.77,757.622 1212.85,757.611 1222.93,756.888 1233.02,756.514 1243.1,756.33 1253.18,756.209 1263.26,755.904 1273.35,755.11 1283.43,754.437 1293.51,752.84 1303.59,750.808 1313.68,749.001 1323.76,746.375 1333.84,743.733 1343.92,741.616 1354,740.444 1364.09,739.109 1374.17,736.541 1384.25,734.61 1394.33,732.791 1404.42,730.827 1414.5,731.12 1424.58,731.852 1434.66,732.68 1444.74,734.25 1454.83,735.45 1464.91,736.371 1474.99,738.458 1485.07,741.169 1495.16,743.744 1505.24,746.159 1515.32,748.273 1525.4,749.865 1535.49,751.724 1545.57,753.194 1555.65,753.625 1565.73,754.081 1575.81,754.068 1585.9,753.943 1595.98,753.33 1606.06,754.163 1616.14,755.247 1626.23,754.712 1636.31,753.8 1646.39,752.864 1656.47,753.413 1666.56,753.779 1676.64,753.513 1686.72,753.573 1696.8,753.856 1706.88,754.155 1716.97,754.409 1727.05,754.579 1737.13,754.687 1747.21,754.883 1757.3,754.879 1767.38,754.372 1777.46,754.285 1787.54,753.822 1797.63,753.23 1807.71,752.372 1817.79,752.459 1827.87,752.652 1837.95,752.783 1848.04,753.176 1858.12,752.749 1868.2,751.565 1878.28,749.463 1888.37,746.847 1898.45,744.106 1908.53,740.914 1918.61,737.632 1928.69,735.043 1938.78,733.181 1948.86,731.818 1958.94,731.432 1969.02,731.943 1979.11,734.047 1989.19,737.398 1999.27,742.199 2009.35,746.823 2019.44,751.578 2029.52,757.281 2039.6,762.712 2049.68,767.005 2059.76,770.787 2069.85,774.413 2079.93,775.877 2090.01,774.374 2100.09,771.533 2110.18,768.624 2120.26,765.374 2130.34,761.919 2140.42,759.555 2150.51,758.653 2160.59,758.684 2170.67,758.191 2180.75,757.511 2190.83,756.671 2200.92,755.563 2211,754.33 2221.08,753.2 2231.16,754.078 2241.25,755.038 2251.33,755.655 2261.41,757.281 2271.49,758.996 2281.57,760.157 2291.66,760.22 \"/>\n",
       "<polyline clip-path=\"url(#clip192)\" style=\"stroke:#00a9ad; stroke-linecap:round; stroke-linejoin:round; stroke-width:4; stroke-opacity:1; fill:none\" points=\"255.035,603.134 265.117,605.006 275.199,606.403 285.282,606.292 295.364,605.724 305.446,605.513 315.528,606.412 325.611,606.835 335.693,607.829 345.775,609.206 355.858,611.146 365.94,613.402 376.022,614.833 386.104,617.368 396.187,618.904 406.269,620.794 416.351,622.723 426.434,624.255 436.516,625.443 446.598,627.163 456.68,630.391 466.763,633.867 476.845,636.778 486.927,638.761 497.01,638.718 507.092,639.284 517.174,640.502 527.257,643.359 537.339,646.267 547.421,648.53 557.503,652.053 567.586,656.281 577.668,660.98 587.75,664.864 597.833,667.301 607.915,669.442 617.997,672.394 628.079,675.145 638.162,678.134 648.244,680.761 658.326,683.434 668.409,686.45 678.491,689.817 688.573,693.51 698.655,697.052 708.738,700.098 718.82,703.18 728.902,705.791 738.985,708.147 749.067,710.331 759.149,713.09 769.231,715.629 779.314,718.73 789.396,721.76 799.478,724.848 809.561,728.334 819.643,730.195 829.725,732.624 839.807,735.228 849.89,735.473 859.972,734.594 870.054,734.643 880.137,734.978 890.219,734.905 900.301,734.68 910.384,735.52 920.466,736.244 930.548,737.284 940.63,737.359 950.713,736.502 960.795,736.233 970.877,736.17 980.96,736.442 991.042,737.238 1001.12,737.694 1011.21,738.133 1021.29,738.961 1031.37,739.7 1041.45,741.211 1051.54,742.287 1061.62,743.009 1071.7,742.955 1081.78,742.571 1091.86,741.999 1101.95,740.892 1112.03,739.432 1122.11,737.93 1132.19,737.044 1142.28,735.922 1152.36,735.042 1162.44,736.097 1172.52,738.357 1182.61,740.009 1192.69,740.315 1202.77,741.066 1212.85,740.729 1222.93,739.99 1233.02,740.967 1243.1,741.809 1253.18,742.144 1263.26,741.741 1273.35,742.152 1283.43,743.06 1293.51,744.073 1303.59,745.665 1313.68,745.805 1323.76,744.751 1333.84,743.712 1343.92,742.543 1354,743.301 1364.09,744.707 1374.17,746.21 1384.25,747.033 1394.33,746.901 1404.42,748.393 1414.5,750.076 1424.58,751.521 1434.66,752.94 1444.74,755.71 1454.83,757.396 1464.91,758.357 1474.99,759.056 1485.07,759.996 1495.16,761.051 1505.24,762.593 1515.32,763.788 1525.4,764.968 1535.49,765.936 1545.57,766.063 1555.65,766.652 1565.73,767.486 1575.81,768.221 1585.9,767.675 1595.98,766.606 1606.06,766.091 1616.14,766.081 1626.23,766.407 1636.31,765.602 1646.39,765.404 1656.47,765.159 1666.56,764.696 1676.64,763.873 1686.72,762.683 1696.8,762.264 1706.88,761.836 1716.97,760.794 1727.05,760.143 1737.13,761.496 1747.21,762.854 1757.3,763.618 1767.38,763.765 1777.46,763.264 1787.54,761.644 1797.63,758.912 1807.71,756.125 1817.79,754.47 1827.87,753.437 1837.95,752.399 1848.04,750.927 1858.12,750.569 1868.2,750.963 1878.28,752.52 1888.37,754.222 1898.45,755.475 1908.53,755.719 1918.61,754.575 1928.69,753.695 1938.78,753.414 1948.86,753.616 1958.94,755.404 1969.02,757.563 1979.11,759.866 1989.19,760.905 1999.27,762.053 2009.35,763.195 2019.44,764.755 2029.52,766.42 2039.6,767.695 2049.68,769.151 2059.76,770.587 2069.85,770.787 2079.93,769.54 2090.01,768.79 2100.09,769.419 2110.18,769.602 2120.26,769.084 2130.34,768.149 2140.42,767.694 2150.51,767.319 2160.59,766.021 2170.67,763.744 2180.75,761.181 2190.83,759.331 2200.92,758.24 2211,756.254 2221.08,755.007 2231.16,753.634 2241.25,752.966 2251.33,753.953 2261.41,754.319 2271.49,753.139 2281.57,751.407 2291.66,751.303 \"/>\n",
       "<polyline clip-path=\"url(#clip192)\" style=\"stroke:#ed5d92; stroke-linecap:round; stroke-linejoin:round; stroke-width:4; stroke-opacity:1; fill:none\" points=\"255.035,715.501 265.117,715.294 275.199,714.312 285.282,713.391 295.364,712.067 305.446,711.341 315.528,711.252 325.611,711.356 335.693,710.61 345.775,710.541 355.858,711.002 365.94,712.521 376.022,713.947 386.104,714.666 396.187,715.521 406.269,715.205 416.351,714.804 426.434,715.237 436.516,714.987 446.598,714.54 456.68,714.256 466.763,714.144 476.845,714.136 486.927,714.778 497.01,716.346 507.092,717.449 517.174,717.41 527.257,716.346 537.339,715.597 547.421,716.391 557.503,717.406 567.586,717.741 577.668,718.664 587.75,720.176 597.833,721.933 607.915,723.136 617.997,724.863 628.079,726.627 638.162,727.846 648.244,728.883 658.326,730.113 668.409,731.755 678.491,733.539 688.573,734.539 698.655,734.582 708.738,734.379 718.82,734.029 728.902,734.315 738.985,735.634 749.067,736.998 759.149,738.326 769.231,739.354 779.314,738.896 789.396,737.93 799.478,736.436 809.561,734.631 819.643,734.06 829.725,734.431 839.807,734.142 849.89,731.942 859.972,731.176 870.054,731.136 880.137,732.197 890.219,734.689 900.301,737.82 910.384,741.237 920.466,744.689 930.548,747.388 940.63,749.079 950.713,750.513 960.795,752.769 970.877,753.713 980.96,753.197 991.042,752.596 1001.12,751.585 1011.21,749.702 1021.29,748.391 1031.37,747.564 1041.45,746.263 1051.54,745.498 1061.62,743.868 1071.7,741.023 1081.78,738.108 1091.86,735.421 1101.95,733.069 1112.03,731.146 1122.11,729.777 1132.19,730.48 1142.28,730.745 1152.36,729.823 1162.44,729.495 1172.52,729.418 1182.61,728.395 1192.69,726.362 1202.77,724.881 1212.85,722.597 1222.93,719.931 1233.02,718.952 1243.1,719.018 1253.18,719.4 1263.26,720.5 1273.35,722.3 1283.43,724.863 1293.51,727.736 1303.59,730.187 1313.68,732.797 1323.76,735.253 1333.84,737.894 1343.92,740.248 1354,741.424 1364.09,742.818 1374.17,745 1384.25,747.02 1394.33,749.556 1404.42,752.018 1414.5,753.032 1424.58,752.606 1434.66,753.353 1444.74,753.447 1454.83,752.274 1464.91,748.652 1474.99,744.679 1485.07,741.586 1495.16,740.599 1505.24,741.764 1515.32,743.601 1525.4,744.533 1535.49,745.554 1545.57,746.049 1555.65,746.821 1565.73,748.16 1575.81,749.759 1585.9,751.393 1595.98,753.675 1606.06,755.932 1616.14,757.993 1626.23,758.462 1636.31,759.585 1646.39,759.042 1656.47,758.042 1666.56,757.287 1676.64,756.068 1686.72,755.795 1696.8,757.242 1706.88,757.814 1716.97,757.957 1727.05,758.251 1737.13,757.737 1747.21,756.569 1757.3,755.016 1767.38,754.67 1777.46,754.903 1787.54,755.471 1797.63,756.119 1807.71,756.377 1817.79,755.543 1827.87,755.003 1837.95,753.902 1848.04,751.7 1858.12,749.738 1868.2,747.38 1878.28,745.086 1888.37,743.466 1898.45,742.219 1908.53,742.077 1918.61,743.25 1928.69,744.691 1938.78,743.851 1948.86,742.497 1958.94,741.85 1969.02,741.147 1979.11,740.981 1989.19,740.487 1999.27,740.812 2009.35,742.259 2019.44,744.016 2029.52,746.41 2039.6,750.278 2049.68,753.181 2059.76,755.428 2069.85,757.806 2079.93,760.445 2090.01,763.822 2100.09,765.296 2110.18,766.725 2120.26,768.093 2130.34,770.424 2140.42,772.302 2150.51,773.663 2160.59,775.047 2170.67,775.751 2180.75,775.605 2190.83,776.514 2200.92,777.774 2211,777.925 2221.08,778.87 2231.16,779.71 2241.25,780.702 2251.33,780.892 2261.41,778.475 2271.49,775.247 2281.57,773.09 2291.66,773.028 \"/>\n",
       "<polyline clip-path=\"url(#clip192)\" style=\"stroke:#c68125; stroke-linecap:round; stroke-linejoin:round; stroke-width:4; stroke-opacity:1; fill:none\" points=\"255.035,640.135 265.117,640.474 275.199,642.315 285.282,642.85 295.364,643.317 305.446,643.913 315.528,644.234 325.611,645.587 335.693,647.282 345.775,648.415 355.858,649.515 365.94,649.078 376.022,649.559 386.104,649.579 396.187,650.265 406.269,650.176 416.351,651.063 426.434,652.884 436.516,654.337 446.598,656.936 456.68,659.42 466.763,663.521 476.845,667.509 486.927,671.333 497.01,675.24 507.092,678.257 517.174,680.265 527.257,681.743 537.339,683.036 547.421,684.731 557.503,686.012 567.586,687.867 577.668,689.414 587.75,691.597 597.833,693.08 607.915,694.48 617.997,695.713 628.079,698.206 638.162,701.569 648.244,704.563 658.326,707.068 668.409,710.09 678.491,713.11 688.573,715.159 698.655,718.264 708.738,722.343 718.82,726.433 728.902,730.245 738.985,733.351 749.067,735.627 759.149,736.679 769.231,736.972 779.314,736.124 789.396,736.168 799.478,736.439 809.561,735.343 819.643,733.723 829.725,733.701 839.807,735.643 849.89,737.725 859.972,741.338 870.054,744.84 880.137,747.864 890.219,750.58 900.301,753.07 910.384,756.002 920.466,759.404 930.548,761.307 940.63,761.951 950.713,761.27 960.795,761.976 970.877,763.653 980.96,765.099 991.042,766.785 1001.12,767.541 1011.21,767.858 1021.29,766.249 1031.37,764.326 1041.45,760.864 1051.54,757.82 1061.62,754.848 1071.7,752.074 1081.78,750.098 1091.86,748.591 1101.95,747.037 1112.03,746.548 1122.11,746.831 1132.19,745.348 1142.28,744.229 1152.36,742.069 1162.44,738.888 1172.52,736.346 1182.61,734.32 1192.69,732.484 1202.77,731.692 1212.85,731.583 1222.93,731.751 1233.02,733.104 1243.1,734.585 1253.18,735.493 1263.26,736.903 1273.35,737.824 1283.43,739.007 1293.51,739.689 1303.59,739.8 1313.68,739.986 1323.76,740.328 1333.84,740.053 1343.92,739.63 1354,739.533 1364.09,740.182 1374.17,741.523 1384.25,742.493 1394.33,742.925 1404.42,743.26 1414.5,744.159 1424.58,745.226 1434.66,745.988 1444.74,747.079 1454.83,748.313 1464.91,749.766 1474.99,750.749 1485.07,751.317 1495.16,752.078 1505.24,753.561 1515.32,755.231 1525.4,755.992 1535.49,757.067 1545.57,758.399 1555.65,759.752 1565.73,760.568 1575.81,759.353 1585.9,758.468 1595.98,756.182 1606.06,753.616 1616.14,750.782 1626.23,747.91 1636.31,746.242 1646.39,745.517 1656.47,744.659 1666.56,744.629 1676.64,744.803 1686.72,745.673 1696.8,747.478 1706.88,749.032 1716.97,751.278 1727.05,753.728 1737.13,754.794 1747.21,755.508 1757.3,755.812 1767.38,756.249 1777.46,757.159 1787.54,758.565 1797.63,761.208 1807.71,763.339 1817.79,765.115 1827.87,766.718 1837.95,769.024 1848.04,771.341 1858.12,772.785 1868.2,773.323 1878.28,774.495 1888.37,776.162 1898.45,776.04 1908.53,773.402 1918.61,771.961 1928.69,770.704 1938.78,769.834 1948.86,769.816 1958.94,769.628 1969.02,768.515 1979.11,767.056 1989.19,766.242 1999.27,766.688 2009.35,767.338 2019.44,768.029 2029.52,767.587 2039.6,767.336 2049.68,766.529 2059.76,765.823 2069.85,763.973 2079.93,761.71 2090.01,760.537 2100.09,759.138 2110.18,756.973 2120.26,754.066 2130.34,752.07 2140.42,750.821 2150.51,749.655 2160.59,748.078 2170.67,746.767 2180.75,745.665 2190.83,745.384 2200.92,746.156 2211,746.99 2221.08,748.55 2231.16,749.826 2241.25,750.502 2251.33,751.084 2261.41,751.542 2271.49,752.032 2281.57,752.194 2291.66,752.216 \"/>\n",
       "<polyline clip-path=\"url(#clip192)\" style=\"stroke:#00a98d; stroke-linecap:round; stroke-linejoin:round; stroke-width:4; stroke-opacity:1; fill:none\" points=\"255.035,807.567 265.117,807.349 275.199,805.486 285.282,804.031 295.364,802.704 305.446,802.312 315.528,801.823 325.611,800.587 335.693,798.988 345.775,797.214 355.858,796.474 365.94,795.688 376.022,795.03 386.104,793.912 396.187,793.211 406.269,793.037 416.351,792.757 426.434,792.203 436.516,791.366 446.598,789.948 456.68,788.683 466.763,787.447 476.845,784.896 486.927,781.386 497.01,778.157 507.092,774.673 517.174,771.704 527.257,769.804 537.339,768.952 547.421,768.485 557.503,768.444 567.586,769.203 577.668,769.72 587.75,769.665 597.833,770.307 607.915,770.973 617.997,771.331 628.079,770.33 638.162,770.39 648.244,770.695 658.326,770.771 668.409,771.04 678.491,770.922 688.573,770.505 698.655,770.523 708.738,770.077 718.82,770.967 728.902,771.986 738.985,771.714 749.067,770.974 759.149,769.97 769.231,769.715 779.314,770.486 789.396,771.064 799.478,771.287 809.561,771.253 819.643,771.327 829.725,771.568 839.807,771.894 849.89,771.893 859.972,770.943 870.054,769.139 880.137,766.499 890.219,764.862 900.301,763.104 910.384,761.089 920.466,759.606 930.548,758.054 940.63,757.569 950.713,757.564 960.795,757.275 970.877,757.777 980.96,758.402 991.042,758.694 1001.12,758.649 1011.21,758.97 1021.29,759.523 1031.37,760.545 1041.45,762.198 1051.54,764.674 1061.62,767.548 1071.7,769.167 1081.78,770.19 1091.86,770.875 1101.95,769.961 1112.03,767.226 1122.11,763.527 1132.19,761.674 1142.28,759.866 1152.36,757.221 1162.44,754.585 1172.52,753.519 1182.61,752.033 1192.69,750.714 1202.77,747.508 1212.85,744.4 1222.93,741.311 1233.02,740.018 1243.1,740.335 1253.18,740.814 1263.26,740.494 1273.35,740.295 1283.43,739.942 1293.51,739.817 1303.59,740.024 1313.68,740.582 1323.76,740.574 1333.84,738.811 1343.92,736.416 1354,734.71 1364.09,733.355 1374.17,732.078 1384.25,731.973 1394.33,731.963 1404.42,733.719 1414.5,736.365 1424.58,740.149 1434.66,742.372 1444.74,744.025 1454.83,746.682 1464.91,748.959 1474.99,751.299 1485.07,752.59 1495.16,752.713 1505.24,752.22 1515.32,752.109 1525.4,753.227 1535.49,753.626 1545.57,753.235 1555.65,751.795 1565.73,750.739 1575.81,750.771 1585.9,750.841 1595.98,751.427 1606.06,752.849 1616.14,755.349 1626.23,758.637 1636.31,762.039 1646.39,765.235 1656.47,767.372 1666.56,767.85 1676.64,765.813 1686.72,763.233 1696.8,761.889 1706.88,760.184 1716.97,759.306 1727.05,759.112 1737.13,758.804 1747.21,757.181 1757.3,756.178 1767.38,755.801 1777.46,757.747 1787.54,760.343 1797.63,762.973 1807.71,765.178 1817.79,765.706 1827.87,764.393 1837.95,762.231 1848.04,762.357 1858.12,762.587 1868.2,764.06 1878.28,764.454 1888.37,764.309 1898.45,764.473 1908.53,763.454 1918.61,762.336 1928.69,761.321 1938.78,760.619 1948.86,759.876 1958.94,760.633 1969.02,760.869 1979.11,760.997 1989.19,761.409 1999.27,762.271 2009.35,763.118 2019.44,764.435 2029.52,765.776 2039.6,766.308 2049.68,766.759 2059.76,768.004 2069.85,769.979 2079.93,772.061 2090.01,773.995 2100.09,775.46 2110.18,776.671 2120.26,776.773 2130.34,775.036 2140.42,772.413 2150.51,769.11 2160.59,765.353 2170.67,762.778 2180.75,760.64 2190.83,758.805 2200.92,757.624 2211,756.846 2221.08,757.825 2231.16,758.917 2241.25,760.181 2251.33,761.111 2261.41,761.346 2271.49,761.69 2281.57,762.179 2291.66,762.208 \"/>\n",
       "<polyline clip-path=\"url(#clip192)\" style=\"stroke:#8e971d; stroke-linecap:round; stroke-linejoin:round; stroke-width:4; stroke-opacity:1; fill:none\" points=\"255.035,635.802 265.117,635.523 275.199,635.516 285.282,636.325 295.364,636.787 305.446,636.72 315.528,636.224 325.611,636.058 335.693,637.605 345.775,639.112 355.858,639.994 365.94,640.998 376.022,640.117 386.104,638.513 396.187,637.144 406.269,636.552 416.351,636.227 426.434,635.337 436.516,634.303 446.598,632.362 456.68,632.368 466.763,632.407 476.845,632.393 486.927,632.457 497.01,634.327 507.092,636.871 517.174,639.029 527.257,640.826 537.339,642.702 547.421,644.042 557.503,645.604 567.586,647.941 577.668,650.289 587.75,652.601 597.833,654.707 607.915,656.347 617.997,657.337 628.079,659.031 638.162,661.732 648.244,665.066 658.326,667.693 668.409,669.033 678.491,671.164 688.573,675.466 698.655,679.39 708.738,681.149 718.82,683.368 728.902,685.294 738.985,687.151 749.067,690.035 759.149,693.187 769.231,696.374 779.314,699.317 789.396,701.022 799.478,702.327 809.561,705.166 819.643,709.07 829.725,711.907 839.807,714.96 849.89,717.592 859.972,719.657 870.054,722.272 880.137,725.097 890.219,727.956 900.301,730.06 910.384,732.146 920.466,733.92 930.548,735.074 940.63,736.091 950.713,738.714 960.795,740.377 970.877,742.333 980.96,745.071 991.042,747.447 1001.12,749.223 1011.21,750.251 1021.29,751.985 1031.37,752.976 1041.45,753.347 1051.54,753.798 1061.62,755.071 1071.7,756.07 1081.78,756.821 1091.86,757.137 1101.95,756.947 1112.03,757.254 1122.11,758.237 1132.19,759.74 1142.28,762.187 1152.36,764.719 1162.44,766.025 1172.52,765.848 1182.61,765.161 1192.69,762.956 1202.77,760.46 1212.85,758.775 1222.93,758.586 1233.02,757.832 1243.1,757.03 1253.18,756.441 1263.26,755.974 1273.35,755.529 1283.43,755.395 1293.51,755.332 1303.59,754.965 1313.68,755.462 1323.76,756.257 1333.84,755.787 1343.92,754.624 1354,753.762 1364.09,753.138 1374.17,753.248 1384.25,753.158 1394.33,752.32 1404.42,750.337 1414.5,748.172 1424.58,746.159 1434.66,744.345 1444.74,742.429 1454.83,740.002 1464.91,737.198 1474.99,735.306 1485.07,734.728 1495.16,734.552 1505.24,734.568 1515.32,733.311 1525.4,731.613 1535.49,730.03 1545.57,729.309 1555.65,729.701 1565.73,729.986 1575.81,728.118 1585.9,725.092 1595.98,723.718 1606.06,722.555 1616.14,720.688 1626.23,718.194 1636.31,716.69 1646.39,715.961 1656.47,715.364 1666.56,716.136 1676.64,718.37 1686.72,720.922 1696.8,723.115 1706.88,725.729 1716.97,729.16 1727.05,733.038 1737.13,737.221 1747.21,741.752 1757.3,745.639 1767.38,748.915 1777.46,751.757 1787.54,754.873 1797.63,758.287 1807.71,761.08 1817.79,764.082 1827.87,766.846 1837.95,768.227 1848.04,769.673 1858.12,771.367 1868.2,770.758 1878.28,770.322 1888.37,770.277 1898.45,770.522 1908.53,771.458 1918.61,772.802 1928.69,774.29 1938.78,775.811 1948.86,777.008 1958.94,776.664 1969.02,774.436 1979.11,773.154 1989.19,772.646 1999.27,771.922 2009.35,770.568 2019.44,768.338 2029.52,765.766 2039.6,763.238 2049.68,760.753 2059.76,758.608 2069.85,755.741 2079.93,753.055 2090.01,750.314 2100.09,746.92 2110.18,742.949 2120.26,738.927 2130.34,735.951 2140.42,733.48 2150.51,732.018 2160.59,732.479 2170.67,733.842 2180.75,736.078 2190.83,738.201 2200.92,740.541 2211,742.722 2221.08,744.295 2231.16,744.148 2241.25,744.49 2251.33,745.105 2261.41,745.89 2271.49,746.348 2281.57,747.341 2291.66,747.431 \"/>\n",
       "<polyline clip-path=\"url(#clip192)\" style=\"stroke:#00a8cb; stroke-linecap:round; stroke-linejoin:round; stroke-width:4; stroke-opacity:1; fill:none\" points=\"255.035,779.862 265.117,779.618 275.199,779.914 285.282,781.777 295.364,784.862 305.446,789.424 315.528,793.347 325.611,796.534 335.693,796.379 345.775,797.512 355.858,800.695 365.94,802.389 376.022,803.703 386.104,803.555 396.187,802.541 406.269,801.152 416.351,798.748 426.434,795.832 436.516,791.883 446.598,788.334 456.68,785.748 466.763,784.172 476.845,783.022 486.927,782.836 497.01,783.219 507.092,783.208 517.174,783.253 527.257,783.093 537.339,783.025 547.421,782.905 557.503,783.042 567.586,782.933 577.668,782.186 587.75,780.898 597.833,778.529 607.915,776.93 617.997,774.481 628.079,771.351 638.162,768.445 648.244,766.544 658.326,765.071 668.409,763.535 678.491,761.671 688.573,759.974 698.655,759.626 708.738,760.401 718.82,760.291 728.902,760.47 738.985,760.28 749.067,759.474 759.149,757.891 769.231,756.218 779.314,755.003 789.396,755.806 799.478,757.004 809.561,756.163 819.643,755.725 829.725,754.593 839.807,754.092 849.89,753.051 859.972,752.752 870.054,753.577 880.137,753.76 890.219,754.229 900.301,755.09 910.384,756.098 920.466,757.71 930.548,759.637 940.63,760.937 950.713,762.471 960.795,763.97 970.877,765.597 980.96,767.229 991.042,769.182 1001.12,771.507 1011.21,771.955 1021.29,771.593 1031.37,768.222 1041.45,765.552 1051.54,764.313 1061.62,763.272 1071.7,763.393 1081.78,763.335 1091.86,762.049 1101.95,761.422 1112.03,760.923 1122.11,760.213 1132.19,760.208 1142.28,758.743 1152.36,756.52 1162.44,755.062 1172.52,753.955 1182.61,752.351 1192.69,751.008 1202.77,750.228 1212.85,751.08 1222.93,752.993 1233.02,754.921 1243.1,756.888 1253.18,758.285 1263.26,760.349 1273.35,763.293 1283.43,765.843 1293.51,768.521 1303.59,769.162 1313.68,768.51 1323.76,767.318 1333.84,766.197 1343.92,765.124 1354,764.71 1364.09,764.101 1374.17,762.686 1384.25,760.127 1394.33,757.535 1404.42,754.973 1414.5,753.361 1424.58,752.055 1434.66,749.937 1444.74,748.824 1454.83,747.804 1464.91,746.919 1474.99,745.764 1485.07,745.533 1495.16,745.829 1505.24,745.506 1515.32,745.659 1525.4,744.098 1535.49,740.218 1545.57,736.19 1555.65,735.256 1565.73,735.686 1575.81,737.098 1585.9,738.142 1595.98,738.297 1606.06,738.095 1616.14,737.197 1626.23,735.544 1636.31,733.218 1646.39,731.655 1656.47,730.475 1666.56,730.586 1676.64,730.979 1686.72,731.743 1696.8,732.779 1706.88,735.343 1716.97,737.293 1727.05,739.123 1737.13,739.74 1747.21,741.686 1757.3,743.709 1767.38,745.276 1777.46,746.003 1787.54,746.46 1797.63,745.779 1807.71,745.368 1817.79,745.111 1827.87,746.128 1837.95,747.689 1848.04,749.379 1858.12,751.123 1868.2,752.033 1878.28,753.077 1888.37,754.392 1898.45,754.272 1908.53,753.333 1918.61,754.022 1928.69,755.639 1938.78,756.63 1948.86,758.179 1958.94,760.22 1969.02,760.384 1979.11,760.148 1989.19,760.316 1999.27,760.201 2009.35,759.559 2019.44,758.899 2029.52,758.187 2039.6,758.473 2049.68,759.53 2059.76,760.896 2069.85,760.94 2079.93,761.224 2090.01,762.503 2100.09,763.882 2110.18,764.238 2120.26,766.531 2130.34,769.676 2140.42,770.82 2150.51,769.833 2160.59,768.715 2170.67,767.241 2180.75,765.432 2190.83,763.416 2200.92,762.54 2211,762.84 2221.08,763.332 2231.16,762.146 2241.25,759.789 2251.33,758.009 2261.41,756.727 2271.49,756.172 2281.57,756.459 2291.66,756.505 \"/>\n",
       "<polyline clip-path=\"url(#clip192)\" style=\"stroke:#9b7fe8; stroke-linecap:round; stroke-linejoin:round; stroke-width:4; stroke-opacity:1; fill:none\" points=\"255.035,506.972 265.117,505.232 275.199,504.467 285.282,504.115 295.364,502.979 305.446,501.887 315.528,501.19 325.611,500.601 335.693,500.146 345.775,499.553 355.858,498.413 365.94,497.766 376.022,497.251 386.104,496.722 396.187,497.197 406.269,498.588 416.351,501.049 426.434,503.847 436.516,506.698 446.598,508.517 456.68,510.702 466.763,512.859 476.845,515.52 486.927,517.909 497.01,521.283 507.092,525.218 517.174,528.426 527.257,532.05 537.339,534.871 547.421,536.793 557.503,538.742 567.586,541.614 577.668,545.992 587.75,551.085 597.833,556.512 607.915,561.905 617.997,566.749 628.079,571.716 638.162,577.049 648.244,582.781 658.326,587.976 668.409,593.623 678.491,599.449 688.573,605.691 698.655,611.215 708.738,617.037 718.82,622.388 728.902,627.01 738.985,630.727 749.067,633.917 759.149,637.249 769.231,641.109 779.314,644.941 789.396,649.405 799.478,654.928 809.561,660.725 819.643,665.215 829.725,670.15 839.807,675.881 849.89,680.819 859.972,685.443 870.054,690.001 880.137,694.025 890.219,697.107 900.301,700.34 910.384,703.02 920.466,705.502 930.548,707.959 940.63,710.142 950.713,713.586 960.795,717 970.877,720.434 980.96,725.648 991.042,730.035 1001.12,735.109 1011.21,740.418 1021.29,745.592 1031.37,750.719 1041.45,755.702 1051.54,760.636 1061.62,764.785 1071.7,768.615 1081.78,770.67 1091.86,772.081 1101.95,773.592 1112.03,775.024 1122.11,775.88 1132.19,776.734 1142.28,776.575 1152.36,776.264 1162.44,774.927 1172.52,773.4 1182.61,771.4 1192.69,769.392 1202.77,767.469 1212.85,766.472 1222.93,767.076 1233.02,767.606 1243.1,767.724 1253.18,767.356 1263.26,766.759 1273.35,765.366 1283.43,764.056 1293.51,762.484 1303.59,761.405 1313.68,759.593 1323.76,758.382 1333.84,757.963 1343.92,756.874 1354,756.043 1364.09,756.407 1374.17,755.914 1384.25,754.553 1394.33,752.781 1404.42,751.4 1414.5,750.617 1424.58,750.543 1434.66,750.97 1444.74,751.858 1454.83,753.422 1464.91,754.453 1474.99,754.823 1485.07,755.619 1495.16,756.048 1505.24,756.038 1515.32,756.144 1525.4,755.678 1535.49,755.402 1545.57,756.734 1555.65,757.223 1565.73,757.182 1575.81,758.124 1585.9,758.367 1595.98,758.353 1606.06,758.611 1616.14,758.221 1626.23,757.444 1636.31,757.285 1646.39,756.768 1656.47,757.739 1666.56,759.715 1676.64,761.944 1686.72,763.412 1696.8,764.003 1706.88,763.561 1716.97,763.519 1727.05,763.402 1737.13,763.825 1747.21,764.362 1757.3,764.323 1767.38,763.79 1777.46,763.898 1787.54,763.778 1797.63,762.907 1807.71,762.743 1817.79,764.245 1827.87,765.941 1837.95,767.55 1848.04,768.783 1858.12,769.641 1868.2,770.275 1878.28,770.278 1888.37,770.352 1898.45,770.503 1908.53,771.013 1918.61,771.63 1928.69,771.877 1938.78,770.538 1948.86,769.424 1958.94,768.479 1969.02,767.434 1979.11,765.883 1989.19,764.355 1999.27,763.504 2009.35,763.485 2019.44,763.014 2029.52,762.762 2039.6,763.059 2049.68,764.317 2059.76,764.026 2069.85,763.399 2079.93,763.346 2090.01,764.654 2100.09,765.9 2110.18,767.574 2120.26,768.909 2130.34,769.457 2140.42,768.593 2150.51,768.068 2160.59,767.785 2170.67,766.131 2180.75,763.746 2190.83,759.835 2200.92,756.401 2211,752.805 2221.08,750.956 2231.16,749.621 2241.25,748.537 2251.33,747.666 2261.41,748.189 2271.49,748.877 2281.57,749.049 2291.66,749.026 \"/>\n",
       "<polyline clip-path=\"url(#clip192)\" style=\"stroke:#608cf6; stroke-linecap:round; stroke-linejoin:round; stroke-width:4; stroke-opacity:1; fill:none\" points=\"255.035,805.185 265.117,805.874 275.199,805.278 285.282,804.093 295.364,803.223 305.446,803.925 315.528,803.939 325.611,802.786 335.693,802.326 345.775,803.213 355.858,804.002 365.94,804.63 376.022,805.095 386.104,805.178 396.187,804.395 406.269,801.898 416.351,799.101 426.434,796.682 436.516,794.742 446.598,793.151 456.68,791.967 466.763,791.15 476.845,791.002 486.927,790.426 497.01,789.915 507.092,788.417 517.174,788.232 527.257,788.835 537.339,789.474 547.421,790.382 557.503,791.409 567.586,792.228 577.668,792.735 587.75,792.079 597.833,791.021 607.915,789.74 617.997,788.539 628.079,787.115 638.162,786.608 648.244,786.715 658.326,787.293 668.409,786.183 678.491,785.145 688.573,784.598 698.655,785.095 708.738,786.961 718.82,787.285 728.902,786.215 738.985,784.85 749.067,783.392 759.149,783.252 769.231,783.093 779.314,783.864 789.396,784.751 799.478,785.818 809.561,786.313 819.643,785.684 829.725,783.495 839.807,781.05 849.89,777.347 859.972,775.324 870.054,774.031 880.137,772.815 890.219,772.061 900.301,770.567 910.384,769.142 920.466,767.806 930.548,767.528 940.63,767.058 950.713,765.293 960.795,763.316 970.877,760.746 980.96,758.692 991.042,757.237 1001.12,757.175 1011.21,756.587 1021.29,755.206 1031.37,754.609 1041.45,755.587 1051.54,756.678 1061.62,757.157 1071.7,757.157 1081.78,757.827 1091.86,759.214 1101.95,759.111 1112.03,759.035 1122.11,759.039 1132.19,758.389 1142.28,757.501 1152.36,756.385 1162.44,755.342 1172.52,755.512 1182.61,756.177 1192.69,758.086 1202.77,760.703 1212.85,764.22 1222.93,767.363 1233.02,770.672 1243.1,771.9 1253.18,772.825 1263.26,773.28 1273.35,773.509 1283.43,773.195 1293.51,771.429 1303.59,769.318 1313.68,767.01 1323.76,764.572 1333.84,762.158 1343.92,760.313 1354,758.771 1364.09,756.956 1374.17,755.641 1384.25,754.154 1394.33,752.176 1404.42,749.855 1414.5,750.065 1424.58,751.849 1434.66,753.103 1444.74,755.264 1454.83,758.256 1464.91,762.292 1474.99,764.986 1485.07,766.37 1495.16,767.458 1505.24,767.183 1515.32,766.423 1525.4,764.651 1535.49,763.239 1545.57,761.921 1555.65,760.61 1565.73,759.428 1575.81,759.506 1585.9,759.708 1595.98,760.848 1606.06,761.834 1616.14,762.911 1626.23,764.427 1636.31,764.77 1646.39,765.568 1656.47,764.865 1666.56,764.678 1676.64,764.702 1686.72,764.899 1696.8,764.783 1706.88,764.707 1716.97,765.206 1727.05,766.552 1737.13,767.138 1747.21,767.022 1757.3,766.673 1767.38,765.509 1777.46,765.205 1787.54,765.752 1797.63,765.69 1807.71,764.487 1817.79,763.832 1827.87,764.372 1837.95,763.947 1848.04,763.351 1858.12,761.808 1868.2,760.455 1878.28,759.066 1888.37,758.064 1898.45,755.829 1908.53,753.649 1918.61,751.294 1928.69,748.739 1938.78,746.56 1948.86,744.111 1958.94,743.138 1969.02,743.065 1979.11,743.99 1989.19,743.72 1999.27,742.606 2009.35,742.254 2019.44,743.33 2029.52,744.768 2039.6,746.651 2049.68,748.675 2059.76,750.028 2069.85,751.323 2079.93,752.714 2090.01,754.369 2100.09,755.59 2110.18,756.731 2120.26,758.344 2130.34,758.945 2140.42,759.681 2150.51,759.169 2160.59,757.676 2170.67,755.921 2180.75,755.664 2190.83,756.096 2200.92,756.44 2211,759.458 2221.08,762.63 2231.16,764.881 2241.25,766.287 2251.33,766.83 2261.41,767.413 2271.49,766.608 2281.57,764.665 2291.66,764.537 \"/>\n",
       "<polyline clip-path=\"url(#clip192)\" style=\"stroke:#f05f73; stroke-linecap:round; stroke-linejoin:round; stroke-width:4; stroke-opacity:1; fill:none\" points=\"255.035,995.791 265.117,994.581 275.199,995.632 285.282,996.788 295.364,998.263 305.446,999.415 315.528,998.971 325.611,997.103 335.693,995.816 345.775,994.116 355.858,992.888 365.94,990.965 376.022,989.475 386.104,987.164 396.187,984.678 406.269,983.457 416.351,981.935 426.434,979.259 436.516,975.869 446.598,972.458 456.68,968.64 466.763,965.063 476.845,961.046 486.927,957.351 497.01,953.353 507.092,948.878 517.174,944.484 527.257,939.992 537.339,936.586 547.421,933.737 557.503,931.045 567.586,928.461 577.668,924.895 587.75,921.784 597.833,918.587 607.915,915.092 617.997,911.171 628.079,906.446 638.162,901.093 648.244,896.098 658.326,890.565 668.409,884.399 678.491,878.965 688.573,873.513 698.655,868.877 708.738,864.924 718.82,861.403 728.902,857.976 738.985,853.12 749.067,846.455 759.149,839.36 769.231,832.562 779.314,825.866 789.396,819.764 799.478,813.301 809.561,807.357 819.643,801.347 829.725,796.306 839.807,791.183 849.89,785.668 859.972,781.235 870.054,777.419 880.137,773.74 890.219,771.423 900.301,769.372 910.384,766.631 920.466,764.258 930.548,761.662 940.63,759.604 950.713,757.01 960.795,755.358 970.877,753.646 980.96,752.285 991.042,751.388 1001.12,750.286 1011.21,749.447 1021.29,747.974 1031.37,746.932 1041.45,745.864 1051.54,745.293 1061.62,744.792 1071.7,744.896 1081.78,745.198 1091.86,746.924 1101.95,749.762 1112.03,752.169 1122.11,753.749 1132.19,754.547 1142.28,755.798 1152.36,757.015 1162.44,757.984 1172.52,759.074 1182.61,760.647 1192.69,761.489 1202.77,762.122 1212.85,762.923 1222.93,763.972 1233.02,765.292 1243.1,765.724 1253.18,763.037 1263.26,760.227 1273.35,758.2 1283.43,756.513 1293.51,755.165 1303.59,753.693 1313.68,752.252 1323.76,751.426 1333.84,750.253 1343.92,749.877 1354,749.144 1364.09,747.905 1374.17,747.846 1384.25,748.594 1394.33,748.77 1404.42,748.208 1414.5,748.095 1424.58,748.156 1434.66,748.584 1444.74,749.503 1454.83,750.908 1464.91,750.616 1474.99,751.016 1485.07,751.32 1495.16,752.854 1505.24,755.193 1515.32,757.547 1525.4,759.535 1535.49,760.446 1545.57,760.44 1555.65,759.653 1565.73,758.854 1575.81,757.829 1585.9,756.996 1595.98,755.798 1606.06,755.245 1616.14,755.501 1626.23,756.221 1636.31,757.738 1646.39,758.088 1656.47,756.635 1666.56,754.602 1676.64,755.011 1686.72,755.022 1696.8,754.993 1706.88,755.501 1716.97,757.059 1727.05,758.809 1737.13,759.823 1747.21,759.629 1757.3,759.982 1767.38,759.968 1777.46,760.626 1787.54,761.288 1797.63,761.664 1807.71,760.897 1817.79,760.074 1827.87,760.673 1837.95,761.016 1848.04,761.558 1858.12,761.209 1868.2,762.135 1878.28,761.812 1888.37,760.342 1898.45,760.06 1908.53,759.365 1918.61,758.551 1928.69,757.703 1938.78,756.412 1948.86,756.056 1958.94,755.699 1969.02,755.873 1979.11,755.027 1989.19,753.307 1999.27,752.023 2009.35,751.523 2019.44,750.787 2029.52,749.933 2039.6,749.083 2049.68,748.626 2059.76,748.973 2069.85,749.929 2079.93,750.931 2090.01,752.016 2100.09,752.737 2110.18,753.716 2120.26,753.96 2130.34,755.346 2140.42,758.279 2150.51,760.348 2160.59,762.503 2170.67,763.25 2180.75,763.473 2190.83,760.181 2200.92,757.761 2211,755.258 2221.08,753.103 2231.16,750.802 2241.25,749.342 2251.33,747.989 2261.41,746.578 2271.49,744.943 2281.57,743.452 2291.66,743.353 \"/>\n",
       "<polyline clip-path=\"url(#clip192)\" style=\"stroke:#dd64b5; stroke-linecap:round; stroke-linejoin:round; stroke-width:4; stroke-opacity:1; fill:none\" points=\"255.035,796.153 265.117,797.853 275.199,799.45 285.282,800.653 295.364,799.959 305.446,798.628 315.528,797.932 325.611,797.767 335.693,797.029 345.775,796.639 355.858,796.116 365.94,794.459 376.022,792.769 386.104,789.664 396.187,786.826 406.269,784.785 416.351,783.59 426.434,782.684 436.516,782.363 446.598,780.757 456.68,777.085 466.763,773.86 476.845,771.229 486.927,768.391 497.01,767.597 507.092,767.767 517.174,767.454 527.257,767.327 537.339,767.249 547.421,767.702 557.503,767.884 567.586,768.513 577.668,769.31 587.75,769.3 597.833,770.884 607.915,772.079 617.997,773.013 628.079,773.649 638.162,773.734 648.244,773.667 658.326,773.435 668.409,772.891 678.491,772.611 688.573,772.395 698.655,771.919 708.738,771.374 718.82,771.205 728.902,770.59 738.985,770.071 749.067,767.306 759.149,765.272 769.231,764.002 779.314,762.624 789.396,760.995 799.478,759.368 809.561,758.709 819.643,758.735 829.725,758.391 839.807,758.292 849.89,759.159 859.972,758.897 870.054,759.028 880.137,759.555 890.219,760.237 900.301,760.33 910.384,760.183 920.466,760.722 930.548,761.239 940.63,760.966 950.713,761.416 960.795,761.36 970.877,761.452 980.96,760.33 991.042,760.557 1001.12,760.095 1011.21,758.882 1021.29,756.198 1031.37,753.442 1041.45,751.371 1051.54,751.163 1061.62,750.421 1071.7,750.639 1081.78,751.021 1091.86,752.228 1101.95,753.768 1112.03,754.517 1122.11,755.352 1132.19,756.044 1142.28,757.118 1152.36,758.185 1162.44,758.972 1172.52,760.149 1182.61,761.127 1192.69,762.54 1202.77,764.913 1212.85,767.528 1222.93,768.15 1233.02,767.613 1243.1,766.725 1253.18,766.81 1263.26,768.652 1273.35,769.52 1283.43,770.534 1293.51,770.534 1303.59,767.913 1313.68,765.622 1323.76,763.62 1333.84,762.201 1343.92,762.242 1354,762.012 1364.09,762.175 1374.17,762.068 1384.25,763.037 1394.33,763.352 1404.42,765.086 1414.5,768.082 1424.58,770.862 1434.66,773.395 1444.74,776.494 1454.83,778.745 1464.91,779.772 1474.99,780.692 1485.07,779.793 1495.16,779.47 1505.24,778.93 1515.32,778.626 1525.4,779.66 1535.49,779.069 1545.57,778.244 1555.65,777.768 1565.73,778.133 1575.81,779.433 1585.9,779.294 1595.98,778.055 1606.06,776.815 1616.14,775.398 1626.23,773.491 1636.31,771.023 1646.39,769.274 1656.47,768.734 1666.56,768.544 1676.64,769.826 1686.72,771.538 1696.8,773.882 1706.88,774.311 1716.97,774.135 1727.05,775.189 1737.13,775.572 1747.21,774.735 1757.3,773.713 1767.38,773.129 1777.46,773.143 1787.54,771.966 1797.63,769.071 1807.71,767.47 1817.79,766.535 1827.87,766.16 1837.95,766.842 1848.04,767.645 1858.12,769.405 1868.2,771.136 1878.28,772.009 1888.37,772.229 1898.45,772.175 1908.53,772.068 1918.61,771.348 1928.69,770.573 1938.78,771.384 1948.86,772.804 1958.94,773.244 1969.02,773.99 1979.11,773.621 1989.19,773.745 1999.27,773.755 2009.35,773.734 2019.44,773.264 2029.52,772.137 2039.6,770.638 2049.68,768.966 2059.76,767.179 2069.85,766.112 2079.93,764.68 2090.01,763.21 2100.09,762.967 2110.18,762.942 2120.26,763.379 2130.34,764.055 2140.42,764.565 2150.51,764.839 2160.59,765.588 2170.67,766.813 2180.75,767.324 2190.83,767.508 2200.92,768.127 2211,768.689 2221.08,768.87 2231.16,769.149 2241.25,769.946 2251.33,769.588 2261.41,769.171 2271.49,769.46 2281.57,770.772 2291.66,770.88 \"/>\n",
       "<polyline clip-path=\"url(#clip192)\" style=\"stroke:#6b9e32; stroke-linecap:round; stroke-linejoin:round; stroke-width:4; stroke-opacity:1; fill:none\" points=\"255.035,927.343 265.117,927.215 275.199,927.004 285.282,926.57 295.364,926.304 305.446,927.396 315.528,927.297 325.611,926.914 335.693,926.399 345.775,925.236 355.858,924.769 365.94,924.264 376.022,923.418 386.104,922.179 396.187,920.643 406.269,918.933 416.351,917.604 426.434,916.618 436.516,913.576 446.598,910.002 456.68,906.793 466.763,903.029 476.845,898.375 486.927,893.906 497.01,889.319 507.092,884.858 517.174,880.106 527.257,875.846 537.339,871.41 547.421,866.856 557.503,862.346 567.586,857.458 577.668,851.151 587.75,843.626 597.833,836.086 607.915,828.581 617.997,821.266 628.079,814.144 638.162,808.291 648.244,802.906 658.326,797.915 668.409,792.429 678.491,787.251 688.573,782.974 698.655,777.829 708.738,772.89 718.82,768.036 728.902,762.964 738.985,757.929 749.067,752.865 759.149,748.873 769.231,745.711 779.314,743.507 789.396,742.55 799.478,742.339 809.561,743.199 819.643,743.854 829.725,744.155 839.807,744.951 849.89,746.287 859.972,747.447 870.054,748.279 880.137,748.629 890.219,748.052 900.301,746.585 910.384,744.9 920.466,743.623 930.548,743.344 940.63,743.4 950.713,742.32 960.795,738.869 970.877,735.241 980.96,732.723 991.042,730.069 1001.12,727.782 1011.21,725.656 1021.29,723.507 1031.37,721.48 1041.45,721.605 1051.54,721.852 1061.62,721.809 1071.7,722.752 1081.78,724.269 1091.86,727.337 1101.95,731.15 1112.03,733.715 1122.11,736.674 1132.19,741.525 1142.28,746.158 1152.36,749.725 1162.44,753.832 1172.52,757.621 1182.61,760.665 1192.69,761.966 1202.77,762.676 1212.85,763.237 1222.93,765.412 1233.02,767.301 1243.1,768.777 1253.18,771.316 1263.26,774.537 1273.35,777.081 1283.43,779.59 1293.51,781.987 1303.59,785.089 1313.68,786.911 1323.76,787.201 1333.84,787.785 1343.92,788.016 1354,787.877 1364.09,787.589 1374.17,787.029 1384.25,786.87 1394.33,786.148 1404.42,785.143 1414.5,783.451 1424.58,781.224 1434.66,779.596 1444.74,778.33 1454.83,775.513 1464.91,772.816 1474.99,771.2 1485.07,770.719 1495.16,769.998 1505.24,769.46 1515.32,769.553 1525.4,769.398 1535.49,767.805 1545.57,766.195 1555.65,764.644 1565.73,763.24 1575.81,762.273 1585.9,760.127 1595.98,757.461 1606.06,755.727 1616.14,754.193 1626.23,752.359 1636.31,749.746 1646.39,746.242 1656.47,742.933 1666.56,740.229 1676.64,738.388 1686.72,737.859 1696.8,738.943 1706.88,740.501 1716.97,741.916 1727.05,743.131 1737.13,744.726 1747.21,744.714 1757.3,745.023 1767.38,745.413 1777.46,746.185 1787.54,748.219 1797.63,749.854 1807.71,750.775 1817.79,752.091 1827.87,755.84 1837.95,759.556 1848.04,762.223 1858.12,764.142 1868.2,765.001 1878.28,764.712 1888.37,763.833 1898.45,762.265 1908.53,759.446 1918.61,757.828 1928.69,758.423 1938.78,759.778 1948.86,760.572 1958.94,760.292 1969.02,760.353 1979.11,761.679 1989.19,762.234 1999.27,761.017 2009.35,759.434 2019.44,757.573 2029.52,755.116 2039.6,754.333 2049.68,754.069 2059.76,753.502 2069.85,751.739 2079.93,750.691 2090.01,749.548 2100.09,748.016 2110.18,746.384 2120.26,744.54 2130.34,743.288 2140.42,742.413 2150.51,742.319 2160.59,743.555 2170.67,744.766 2180.75,746.456 2190.83,748.044 2200.92,749.427 2211,750.797 2221.08,752.136 2231.16,753.953 2241.25,755.575 2251.33,757.716 2261.41,760.148 2271.49,762.007 2281.57,762.815 2291.66,762.839 \"/>\n",
       "<polyline clip-path=\"url(#clip192)\" style=\"stroke:#009af9; stroke-linecap:round; stroke-linejoin:round; stroke-width:4; stroke-opacity:1; fill:none\" points=\"255.035,771.568 265.117,771.139 275.199,771.176 285.282,770.852 295.364,769.769 305.446,769.133 315.528,768.457 325.611,767.353 335.693,765.73 345.775,764.483 355.858,763.538 365.94,760.753 376.022,759.053 386.104,757.531 396.187,755.599 406.269,752.768 416.351,749.183 426.434,746.062 436.516,743.256 446.598,740.665 456.68,738.04 466.763,734.646 476.845,732.113 486.927,730.284 497.01,728.849 507.092,727.617 517.174,726.204 527.257,725.666 537.339,726.303 547.421,725.723 557.503,724.857 567.586,723.541 577.668,722.773 587.75,723.018 597.833,723.171 607.915,723.859 617.997,724.38 628.079,725.271 638.162,727.035 648.244,728.443 658.326,728.515 668.409,726.985 678.491,724.371 688.573,722.003 698.655,720.961 708.738,720.784 718.82,719.228 728.902,717.85 738.985,717.823 749.067,717.872 759.149,717.868 769.231,719.1 779.314,720.23 789.396,722.756 799.478,725.878 809.561,729.603 819.643,732.477 829.725,735.412 839.807,739.011 849.89,742.829 859.972,745.937 870.054,749.212 880.137,751.776 890.219,754.593 900.301,756.868 910.384,758.617 920.466,760.016 930.548,760.423 940.63,759.83 950.713,759.712 960.795,758.366 970.877,757.485 980.96,757.379 991.042,757.553 1001.12,757.114 1011.21,757.497 1021.29,757.947 1031.37,759.092 1041.45,761.282 1051.54,764.601 1061.62,767.797 1071.7,770.268 1081.78,771.224 1091.86,769.766 1101.95,768.28 1112.03,766.96 1122.11,766.751 1132.19,766.526 1142.28,765.784 1152.36,763.611 1162.44,761.879 1172.52,760.17 1182.61,758.258 1192.69,757.177 1202.77,756.291 1212.85,756.17 1222.93,756.27 1233.02,757.137 1243.1,757.074 1253.18,757.276 1263.26,756.431 1273.35,755.307 1283.43,754.405 1293.51,754.087 1303.59,753.958 1313.68,752.538 1323.76,751.063 1333.84,749.063 1343.92,747.198 1354,746.043 1364.09,745.193 1374.17,744.477 1384.25,745.582 1394.33,747.909 1404.42,752.016 1414.5,756.782 1424.58,761.305 1434.66,764.687 1444.74,767.802 1454.83,770.604 1464.91,772.533 1474.99,773.75 1485.07,772.944 1495.16,772.854 1505.24,772.88 1515.32,773.368 1525.4,773.467 1535.49,773.672 1545.57,774.49 1555.65,774.952 1565.73,775.589 1575.81,775.988 1585.9,776.72 1595.98,775.957 1606.06,773.875 1616.14,771.557 1626.23,770.062 1636.31,767.741 1646.39,765.633 1656.47,763.281 1666.56,761.799 1676.64,760.372 1686.72,760.502 1696.8,760.428 1706.88,761.089 1716.97,762.948 1727.05,764.428 1737.13,765.278 1747.21,766.624 1757.3,768.245 1767.38,770.032 1777.46,772.291 1787.54,774.393 1797.63,775.733 1807.71,776.793 1817.79,777.659 1827.87,777.477 1837.95,777.051 1848.04,775.645 1858.12,774.936 1868.2,774.559 1878.28,773.705 1888.37,773.014 1898.45,771.675 1908.53,769.758 1918.61,767.277 1928.69,764.616 1938.78,762.322 1948.86,759.909 1958.94,757.219 1969.02,755.371 1979.11,753.937 1989.19,751.917 1999.27,750.384 2009.35,749.456 2019.44,748.898 2029.52,748.133 2039.6,747.383 2049.68,746.466 2059.76,746.382 2069.85,746.404 2079.93,746.611 2090.01,746.742 2100.09,747.344 2110.18,748.957 2120.26,750.217 2130.34,751.469 2140.42,751.37 2150.51,752.076 2160.59,754.27 2170.67,756.937 2180.75,759.221 2190.83,761.199 2200.92,762.507 2211,762.174 2221.08,762.243 2231.16,762.747 2241.25,762.847 2251.33,764.533 2261.41,763.909 2271.49,763.749 2281.57,763.214 2291.66,763.174 \"/>\n",
       "<polyline clip-path=\"url(#clip192)\" style=\"stroke:#e26f46; stroke-linecap:round; stroke-linejoin:round; stroke-width:4; stroke-opacity:1; fill:none\" points=\"255.035,852.095 265.117,852.321 275.199,852.132 285.282,852.301 295.364,854.58 305.446,855.78 315.528,855.533 325.611,855.502 335.693,855.025 345.775,854.668 355.858,853.681 365.94,851.321 376.022,848.434 386.104,845.556 396.187,842.684 406.269,839.713 416.351,836.663 426.434,833.995 436.516,831.563 446.598,829.637 456.68,828.248 466.763,826.916 476.845,825.97 486.927,825.306 497.01,824.281 507.092,823.685 517.174,822.593 527.257,821.025 537.339,820.42 547.421,820.118 557.503,819.395 567.586,817.678 577.668,816.003 587.75,815.77 597.833,817.219 607.915,818.244 617.997,818.818 628.079,818.741 638.162,817.621 648.244,816.41 658.326,815.964 668.409,816.042 678.491,816.135 688.573,815.427 698.655,814.803 708.738,813.857 718.82,811.027 728.902,808.363 738.985,805.007 749.067,802.802 759.149,801.486 769.231,801.105 779.314,800.532 789.396,799.92 799.478,798.41 809.561,796.335 819.643,794.085 829.725,792.202 839.807,790.757 849.89,789.5 859.972,787.477 870.054,785.116 880.137,783.274 890.219,782.217 900.301,782.022 910.384,782.988 920.466,783.818 930.548,781.383 940.63,778.082 950.713,774.945 960.795,773.164 970.877,771.261 980.96,769.321 991.042,768.178 1001.12,768.534 1011.21,768.422 1021.29,767.401 1031.37,766.056 1041.45,765.558 1051.54,763.796 1061.62,761.832 1071.7,759.512 1081.78,756.792 1091.86,755.721 1101.95,755.645 1112.03,756.415 1122.11,757.434 1132.19,758.34 1142.28,758.786 1152.36,759.228 1162.44,759.432 1172.52,759.344 1182.61,758.846 1192.69,758.55 1202.77,758.299 1212.85,758.291 1222.93,758.735 1233.02,758.722 1243.1,759.086 1253.18,760.612 1263.26,763.444 1273.35,766.152 1283.43,767.472 1293.51,768.095 1303.59,768.7 1313.68,769.444 1323.76,769.757 1333.84,770.215 1343.92,770.436 1354,770.913 1364.09,771.486 1374.17,771.813 1384.25,771.005 1394.33,769.87 1404.42,767.965 1414.5,765.48 1424.58,762.905 1434.66,762.351 1444.74,762.771 1454.83,762.412 1464.91,762.524 1474.99,761.542 1485.07,760.7 1495.16,759.508 1505.24,758.287 1515.32,757.995 1525.4,757.009 1535.49,755.66 1545.57,754.696 1555.65,753.334 1565.73,750.954 1575.81,748.963 1585.9,748.335 1595.98,748.482 1606.06,749.432 1616.14,749.566 1626.23,749.992 1636.31,750.93 1646.39,752.51 1656.47,754.54 1666.56,756.639 1676.64,758.041 1686.72,758.745 1696.8,759.772 1706.88,760.762 1716.97,761.151 1727.05,761.814 1737.13,763.884 1747.21,765.254 1757.3,765.355 1767.38,763.704 1777.46,761.96 1787.54,760.762 1797.63,760.576 1807.71,760.316 1817.79,760.441 1827.87,760.394 1837.95,761.468 1848.04,761.494 1858.12,761.038 1868.2,760.36 1878.28,759.712 1888.37,759.249 1898.45,758.436 1908.53,757.328 1918.61,754.755 1928.69,752.315 1938.78,749.835 1948.86,748.308 1958.94,748.332 1969.02,748.791 1979.11,750.463 1989.19,752.708 1999.27,754.564 2009.35,757.788 2019.44,761.039 2029.52,764.641 2039.6,767.856 2049.68,770.779 2059.76,773.353 2069.85,775.939 2079.93,778.314 2090.01,779.372 2100.09,779.447 2110.18,780.906 2120.26,780.901 2130.34,780.554 2140.42,780.788 2150.51,781.058 2160.59,781.572 2170.67,782.054 2180.75,782.228 2190.83,781.495 2200.92,779.844 2211,777.994 2221.08,776.234 2231.16,773.959 2241.25,772.822 2251.33,772.243 2261.41,771.552 2271.49,771.558 2281.57,772.089 2291.66,772.121 \"/>\n",
       "<polyline clip-path=\"url(#clip192)\" style=\"stroke:#3da44d; stroke-linecap:round; stroke-linejoin:round; stroke-width:4; stroke-opacity:1; fill:none\" points=\"255.035,1006.33 265.117,1008.78 275.199,1009.25 285.282,1009.3 295.364,1009.57 305.446,1009.63 315.528,1010.14 325.611,1011.59 335.693,1013.45 345.775,1013.9 355.858,1013.49 365.94,1013.12 376.022,1012.45 386.104,1011.43 396.187,1010.12 406.269,1008.43 416.351,1006.86 426.434,1005.82 436.516,1004.13 446.598,1002.26 456.68,998.363 466.763,993.189 476.845,988.059 486.927,983.928 497.01,981.313 507.092,978.809 517.174,976.515 527.257,975.81 537.339,975.093 547.421,973.068 557.503,970.24 567.586,965.274 577.668,959.507 587.75,952.772 597.833,946.214 607.915,939.489 617.997,931.885 628.079,923.833 638.162,916.321 648.244,909.156 658.326,902.178 668.409,895.207 678.491,888.314 688.573,882.218 698.655,876.903 708.738,871.26 718.82,865.422 728.902,858.842 738.985,852.37 749.067,846.085 759.149,840.106 769.231,833.339 779.314,826.278 789.396,819.295 799.478,813.015 809.561,806.405 819.643,800.23 829.725,794.056 839.807,787.488 849.89,781.35 859.972,775.529 870.054,770.674 880.137,765.996 890.219,762.701 900.301,759.345 910.384,756.626 920.466,754.577 930.548,753.252 940.63,751.952 950.713,750.452 960.795,750.419 970.877,751.934 980.96,753.661 991.042,755.467 1001.12,756.989 1011.21,757.522 1021.29,758.33 1031.37,759.032 1041.45,760.439 1051.54,762.395 1061.62,763.379 1071.7,763.872 1081.78,763.474 1091.86,763.595 1101.95,762.377 1112.03,760.809 1122.11,757.549 1132.19,754.151 1142.28,751.806 1152.36,750.04 1162.44,747.737 1172.52,744.458 1182.61,739.688 1192.69,734.66 1202.77,729.807 1212.85,726.606 1222.93,723.457 1233.02,722.732 1243.1,723.469 1253.18,725.185 1263.26,729.389 1273.35,734.096 1283.43,739.133 1293.51,743.997 1303.59,748.057 1313.68,749.483 1323.76,750.541 1333.84,751.251 1343.92,751.924 1354,752.379 1364.09,754.368 1374.17,756.822 1384.25,759.075 1394.33,759.614 1404.42,760.972 1414.5,763.595 1424.58,766.015 1434.66,767.082 1444.74,768.039 1454.83,768.667 1464.91,768.649 1474.99,768.4 1485.07,767.606 1495.16,765.996 1505.24,764.102 1515.32,761.865 1525.4,760.841 1535.49,760.311 1545.57,759.455 1555.65,758.786 1565.73,758.251 1575.81,758.156 1585.9,757.397 1595.98,757.229 1606.06,757.326 1616.14,757.084 1626.23,757.862 1636.31,758.558 1646.39,758.064 1656.47,756.91 1666.56,756.796 1676.64,755.669 1686.72,755.208 1696.8,755.106 1706.88,755.34 1716.97,756.43 1727.05,757.078 1737.13,758.259 1747.21,759.895 1757.3,761.203 1767.38,762.759 1777.46,764.449 1787.54,766.355 1797.63,768.818 1807.71,771.051 1817.79,772.094 1827.87,772.327 1837.95,772.5 1848.04,773.4 1858.12,774.528 1868.2,775.234 1878.28,774.035 1888.37,771.989 1898.45,769.491 1908.53,765.982 1918.61,762.295 1928.69,759.706 1938.78,758.109 1948.86,756.418 1958.94,754.768 1969.02,753.587 1979.11,753.389 1989.19,753.079 1999.27,752.851 2009.35,753.032 2019.44,754.407 2029.52,755.833 2039.6,756.701 2049.68,757.647 2059.76,758.645 2069.85,760.16 2079.93,761.15 2090.01,760.794 2100.09,758.951 2110.18,756.836 2120.26,754.88 2130.34,752.974 2140.42,752.532 2150.51,753.609 2160.59,754.858 2170.67,757.052 2180.75,760.156 2190.83,762.545 2200.92,763.879 2211,764.855 2221.08,766.75 2231.16,769.13 2241.25,770.379 2251.33,771.89 2261.41,773.316 2271.49,773.591 2281.57,773.638 2291.66,773.594 \"/>\n",
       "<polyline clip-path=\"url(#clip192)\" style=\"stroke:#c271d2; stroke-linecap:round; stroke-linejoin:round; stroke-width:4; stroke-opacity:1; fill:none\" points=\"255.035,537.413 265.117,538.045 275.199,539.163 285.282,539.196 295.364,538.921 305.446,539.155 315.528,540.157 325.611,540.594 335.693,539.828 345.775,539.593 355.858,539.903 365.94,540.605 376.022,541.143 386.104,542.363 396.187,544.163 406.269,545.792 416.351,547.333 426.434,549.357 436.516,550.102 446.598,550.172 456.68,550.324 466.763,550.757 476.845,551.328 486.927,553.298 497.01,555.312 507.092,556.584 517.174,557.472 527.257,558.83 537.339,561.505 547.421,564.319 557.503,567.307 567.586,569.996 577.668,573.267 587.75,576.167 597.833,578.5 607.915,581.652 617.997,584.431 628.079,586.508 638.162,589.324 648.244,593.41 658.326,599.08 668.409,604.991 678.491,611.3 688.573,616.956 698.655,622.456 708.738,627.802 718.82,633.47 728.902,639.373 738.985,646.591 749.067,654.555 759.149,662.644 769.231,669.315 779.314,675.862 789.396,681.562 799.478,686.242 809.561,689.989 819.643,693.839 829.725,697.395 839.807,701.198 849.89,704.817 859.972,707.934 870.054,710.298 880.137,712.846 890.219,716.511 900.301,720.036 910.384,723.107 920.466,725.865 930.548,728.655 940.63,730.505 950.713,733.086 960.795,736.278 970.877,740.106 980.96,743.388 991.042,746.562 1001.12,749.435 1011.21,752.458 1021.29,755.994 1031.37,759.126 1041.45,762.298 1051.54,765.001 1061.62,766.324 1071.7,767.001 1081.78,768.809 1091.86,771.762 1101.95,773.394 1112.03,775.084 1122.11,777.045 1132.19,778.535 1142.28,779.397 1152.36,778.176 1162.44,777.031 1172.52,776.197 1182.61,775.296 1192.69,774.279 1202.77,773.677 1212.85,772.327 1222.93,770.173 1233.02,768.349 1243.1,767.801 1253.18,767.992 1263.26,767.556 1273.35,767.641 1283.43,767.159 1293.51,767.271 1303.59,766.721 1313.68,766.537 1323.76,767.338 1333.84,766.758 1343.92,765.995 1354,765.202 1364.09,764.87 1374.17,766.371 1384.25,766.669 1394.33,765.953 1404.42,765.168 1414.5,764.39 1424.58,763.136 1434.66,762.373 1444.74,762.214 1454.83,761.02 1464.91,759.43 1474.99,757.228 1485.07,755.288 1495.16,753.941 1505.24,753.799 1515.32,754.764 1525.4,755.839 1535.49,756.87 1545.57,757.157 1555.65,756.984 1565.73,757.951 1575.81,758.543 1585.9,757.59 1595.98,756.299 1606.06,756.663 1616.14,757.718 1626.23,759.459 1636.31,760.456 1646.39,760.752 1656.47,761.756 1666.56,763.601 1676.64,763.962 1686.72,763.565 1696.8,764.447 1706.88,764.125 1716.97,763.727 1727.05,762.712 1737.13,760.796 1747.21,759.977 1757.3,759.818 1767.38,759.163 1777.46,757.424 1787.54,756.261 1797.63,755.829 1807.71,755.625 1817.79,755.053 1827.87,754.402 1837.95,755.132 1848.04,755.706 1858.12,756.245 1868.2,756.7 1878.28,757.794 1888.37,758.725 1898.45,760.044 1908.53,760.725 1918.61,760.741 1928.69,760.399 1938.78,759.643 1948.86,758.776 1958.94,758.42 1969.02,759.51 1979.11,760.004 1989.19,761.27 1999.27,762.398 2009.35,762.137 2019.44,760.237 2029.52,759.086 2039.6,758.299 2049.68,757.443 2059.76,756.293 2069.85,755.795 2079.93,755.271 2090.01,754.853 2100.09,753.836 2110.18,752.78 2120.26,752.992 2130.34,753.234 2140.42,753.847 2150.51,755.129 2160.59,756.118 2170.67,756.184 2180.75,754.763 2190.83,754.499 2200.92,755.042 2211,755.841 2221.08,756.345 2231.16,758.265 2241.25,759.719 2251.33,760.37 2261.41,761.282 2271.49,763.007 2281.57,765.425 2291.66,765.603 \"/>\n",
       "</svg>\n"
      ]
     },
     "execution_count": 8,
     "metadata": {},
     "output_type": "execute_result"
    }
   ],
   "source": [
    "plot(results.z_trajectories, legend=nothing, ylim=(-5,5))"
   ]
  },
  {
   "cell_type": "code",
   "execution_count": 9,
   "id": "00a1cf73-b2e3-47ba-84b7-ca608cff28d8",
   "metadata": {},
   "outputs": [
    {
     "data": {
      "text/plain": [
       "559035.0"
      ]
     },
     "execution_count": 9,
     "metadata": {},
     "output_type": "execute_result"
    }
   ],
   "source": [
    "mean(results.photons_scattered / 20e-3)"
   ]
  },
  {
   "cell_type": "code",
   "execution_count": 5,
   "id": "6eec7ca6-a7a8-4731-a3b0-229dd6220dc0",
   "metadata": {},
   "outputs": [],
   "source": [
    "\"\"\"\n",
    "    Function to optimize (density).\n",
    "\"\"\"\n",
    "function f(x)\n",
    "    s1 = x[1]\n",
    "    s3 = x[2]\n",
    "    s4 = x[3]\n",
    "    Δ1 = x[4]*Γ\n",
    "    Δ3 = Δ1\n",
    "    Δ4 = x[5]*Γ\n",
    "    ramp_time = 10e-3\n",
    "    B_gradient = -25\n",
    "\n",
    "    temp = @with_unit 0.050 \"mK\"\n",
    "    diameter = @with_unit 2.0 \"mm\"\n",
    "    displacement = [0.0, 0.0, 0.0]\n",
    "    kick = [0,0, 0.0, 0.0]\n",
    "    \n",
    "    pol1_x = x[6] > 0 ? σ⁻ : σ⁺\n",
    "    pol3_x = x[7] > 0 ? σ⁻ : σ⁺\n",
    "    pol4_x = x[8] > 0 ? σ⁻ : σ⁺\n",
    "        \n",
    "    params = MutableNamedTuple(t_end = 30e-3, n_values = 20,\n",
    "                           pol1_x=σ⁻, pol2_x=σ⁻, pol3_x=σ⁺, pol4_x=σ⁻, \n",
    "                           s1=s1, s2=0., s3=s3, s4=s4,\n",
    "                           Δ1=Δ1, Δ2=0., Δ3=Δ3, Δ4=Δ4, \n",
    "                           B_gradient = B_gradient,\n",
    "\n",
    "                           temp=temp, diameter=diameter, \n",
    "                           displacement=displacement, kick=kick,\n",
    "                           ramp_time = ramp_time,\n",
    "                           photon_budget=15000, dark_lifetime=1/(0.04e6), FC_mainline=0.95,\n",
    "\n",
    "                           pol_imbalance=0.05, \n",
    "                           s_imbalance = (0*1.0, 0*1.0, 0*1.0), retro_loss=0.1, \n",
    "\n",
    "                           off_center=[4,0,0,0,0,0].*1e-3, \n",
    "                           pointing_error =[0., 0., 0, 0, 0, 0]\n",
    "    )\n",
    "    \n",
    "    results = simulate_particles_repump(package, params)\n",
    "    \n",
    "    @printf(\"s1 = %.2f; s3 = %.2f; s4 = %.2f; Δ1 = %.2f Γ; Δ3 = Δ1; Δ4 = %.2f Γ; pol1 = %.2f; pol3 = %.2f; pol4 = %.2f\", x[1], x[2], x[3], x[4], x[5], x[6], x[7], x[8])\n",
    "    println()\n",
    "    \n",
    "    _goodness = goodness(params.t_end, results) * 1e3\n",
    "    @printf(\"goodness = %.3f\", _goodness)\n",
    "    println()\n",
    "    \n",
    "    return _goodness\n",
    "end\n",
    ";    "
   ]
  },
  {
   "cell_type": "code",
   "execution_count": 7,
   "id": "3221d146-70a8-48f7-a39d-6283cfc80b1f",
   "metadata": {},
   "outputs": [
    {
     "name": "stderr",
     "output_type": "stream",
     "text": [
      "\u001b[33m\u001b[1m┌ \u001b[22m\u001b[39m\u001b[33m\u001b[1mWarning: \u001b[22m\u001b[39muse values(kwargs) and keys(kwargs) instead of kwargs.data and kwargs.itr\n",
      "\u001b[33m\u001b[1m│ \u001b[22m\u001b[39m  caller = #MAPGPOptimizer#19 at gp.jl:37 [inlined]\n",
      "\u001b[33m\u001b[1m└ \u001b[22m\u001b[39m\u001b[90m@ Core C:\\Users\\Christian\\.julia\\packages\\BayesianOptimization\\nq1HY\\src\\models\\gp.jl:37\u001b[39m\n"
     ]
    }
   ],
   "source": [
    "using BayesianOptimization, GaussianProcesses\n",
    "\n",
    "model = ElasticGPE(8,                            # 6 input dimensions\n",
    "                   mean = MeanConst(1.),         \n",
    "                   kernel = SEArd([1., 1, 1, 1, 1, 1, 1, 1], 5.),\n",
    "                   logNoise = 0.,\n",
    "                   capacity = 3000)              # the initial capacity of the GP is 3000 samples\n",
    "set_priors!(model.mean, [Normal(0., 0.01)])\n",
    "\n",
    "# Optimize the hyperparameters of the GP using maximum a posteriori (MAP) estimates every x steps\n",
    "modeloptimizer = MAPGPOptimizer(\n",
    "    every = 1, \n",
    "    noisebounds = [-3, 3], # bounds of the logNoise\n",
    "    kernbounds = [[-3, -3, -3, -3, -3, -3, -3, -3, -5], [3, 3, 3, 3, 3, 3, 3, 3, 5]],  # bounds of the parameters GaussianProcesses.get_param_names(model.kernel)\n",
    "    maxeval = 1000\n",
    ")\n",
    "\n",
    "opt = BOpt(f,\n",
    "           model,\n",
    "           UpperConfidenceBound(),             # type of acquisition\n",
    "           modeloptimizer,                        \n",
    "           [0.5, 0.5, 0.5, +0.5, -8.0, -1, -1, -1],        # lowerbounds\n",
    "           [4.0, 4.0, 10., +4.0, -0.5, 1, 1, 1],        # upperbounds         \n",
    "           repetitions = 1,                          # evaluate the function for each input x times\n",
    "           maxiterations = 50,                       # evaluate at x input positions\n",
    "           sense = Max,                              # maximize the function\n",
    "           acquisitionoptions = (method = :LD_LBFGS, # run optimization of acquisition function with NLopts :LD_LBFGS method\n",
    "                                 restarts = 10,       # run the NLopt method from x random initial conditions each time\n",
    "                                 maxtime = 1.0,      # run the NLopt method for at most 1.0 second each time\n",
    "                                 maxeval = 5000),    # run the NLopt methods for at most 1000 iterations (for other options see https://github.com/JuliaOpt/NLopt.jl)\n",
    "           verbosity = BayesianOptimization.Progress)\n",
    "\n",
    "# result = boptimize!(opt);\n",
    ";"
   ]
  },
  {
   "cell_type": "code",
   "execution_count": 10,
   "id": "1a248c93",
   "metadata": {},
   "outputs": [],
   "source": [
    "using BayesianOptimization, GaussianProcesses\n",
    "using Serialization\n",
    "opt_old = deserialize(joinpath(working_dir, \"optimized_3freqs_with_imperfections_withpolarizations.jl\"));\n",
    "opt.model = opt_old.model;\n",
    "opt.model_optimum = opt_old.model_optimum;\n",
    "opt.model_optimizer = opt_old.model_optimizer;\n",
    "opt.modeloptimizer = opt_old.modeloptimizer;\n",
    "opt.observed_optimum = opt_old.observed_optimum;\n",
    "opt.observed_optimizer = opt_old.observed_optimizer;\n",
    "# opt.acquisition = opt_old.acquisition;\n",
    "# opt.acquisitionoptions = opt_old.acquisitionoptions;"
   ]
  },
  {
   "cell_type": "code",
   "execution_count": null,
   "id": "514881da-2443-482a-9b9d-0d2649f743b0",
   "metadata": {
    "tags": []
   },
   "outputs": [
    {
     "name": "stderr",
     "output_type": "stream",
     "text": [
      "\u001b[32mProgress: 100%|█████████████████████████████████████████| Time: 0:00:22\u001b[39m\u001b[32mProgress:  10%|█████                                    |  ETA: 0:00:30\u001b[39m\n",
      "\u001b[32mProgress: 100%|█████████████████████████████████████████| Time: 0:00:34\u001b[39m\n"
     ]
    },
    {
     "name": "stdout",
     "output_type": "stream",
     "text": [
      "s1 = 0.66; s3 = 1.43; s4 = 7.18; Δ1 = 2.41 Γ; Δ3 = Δ1; Δ4 = -6.95 Γ; pol1 = 0.84; pol3 = 0.59; pol4 = 0.34\n",
      "Survival: 0 / 20\n",
      "goodness = 0.000\n"
     ]
    },
    {
     "name": "stderr",
     "output_type": "stream",
     "text": [
      "\u001b[32mProgress: 100%|█████████████████████████████████████████| Time: 0:00:33\u001b[39m\n"
     ]
    },
    {
     "name": "stdout",
     "output_type": "stream",
     "text": [
      "s1 = 2.41; s3 = 3.18; s4 = 2.43; Δ1 = 0.66 Γ; Δ3 = Δ1; Δ4 = -3.20 Γ; pol1 = -0.16; pol3 = -0.41; pol4 = -0.66\n",
      "Survival: 4 / 20\n",
      "goodness = 7.275\n"
     ]
    },
    {
     "name": "stderr",
     "output_type": "stream",
     "text": [
      "\u001b[32mProgress: 100%|█████████████████████████████████████████| Time: 0:00:07\u001b[39m\n"
     ]
    },
    {
     "name": "stdout",
     "output_type": "stream",
     "text": [
      "s1 = 3.29; s3 = 0.55; s4 = 9.55; Δ1 = 3.29 Γ; Δ3 = Δ1; Δ4 = -1.32 Γ; pol1 = -0.66; pol3 = 0.09; pol4 = -0.16\n",
      "Survival: 0 / 20\n",
      "goodness = 0.000\n"
     ]
    },
    {
     "name": "stderr",
     "output_type": "stream",
     "text": [
      "\u001b[32mProgress: 100%|█████████████████████████████████████████| Time: 0:00:38\u001b[39m\n"
     ]
    },
    {
     "name": "stdout",
     "output_type": "stream",
     "text": [
      "s1 = 1.54; s3 = 2.30; s4 = 4.80; Δ1 = 1.54 Γ; Δ3 = Δ1; Δ4 = -5.07 Γ; pol1 = 0.34; pol3 = -0.91; pol4 = 0.84\n",
      "Survival: 4 / 20\n",
      "goodness = 15.916\n"
     ]
    },
    {
     "name": "stderr",
     "output_type": "stream",
     "text": [
      "\u001b[32mProgress: 100%|█████████████████████████████████████████| Time: 0:00:45\u001b[39m\n"
     ]
    },
    {
     "name": "stdout",
     "output_type": "stream",
     "text": [
      "s1 = 1.98; s3 = 0.99; s4 = 1.24; Δ1 = 1.98 Γ; Δ3 = Δ1; Δ4 = -6.01 Γ; pol1 = 0.59; pol3 = 0.34; pol4 = -0.41\n",
      "Survival: 5 / 20\n",
      "goodness = 5.121\n"
     ]
    },
    {
     "name": "stderr",
     "output_type": "stream",
     "text": [
      "\u001b[32mProgress: 100%|█████████████████████████████████████████| Time: 0:00:13\u001b[39m\n"
     ]
    },
    {
     "name": "stdout",
     "output_type": "stream",
     "text": [
      "s1 = 3.73; s3 = 2.74; s4 = 5.99; Δ1 = 3.73 Γ; Δ3 = Δ1; Δ4 = -2.26 Γ; pol1 = -0.41; pol3 = -0.66; pol4 = 0.59\n",
      "Survival: 0 / 20\n",
      "goodness = 0.000\n"
     ]
    },
    {
     "name": "stderr",
     "output_type": "stream",
     "text": [
      "\u001b[32mProgress: 100%|█████████████████████████████████████████| Time: 0:00:34\u001b[39m\n"
     ]
    },
    {
     "name": "stdout",
     "output_type": "stream",
     "text": [
      "s1 = 2.85; s3 = 1.87; s4 = 3.62; Δ1 = 1.10 Γ; Δ3 = Δ1; Δ4 = -4.13 Γ; pol1 = -0.91; pol3 = 0.84; pol4 = 0.09\n",
      "Survival: 3 / 20\n",
      "goodness = 10.086\n"
     ]
    },
    {
     "name": "stderr",
     "output_type": "stream",
     "text": [
      "\u001b[32mProgress: 100%|█████████████████████████████████████████| Time: 0:00:51\u001b[39m\n"
     ]
    },
    {
     "name": "stdout",
     "output_type": "stream",
     "text": [
      "s1 = 1.10; s3 = 3.62; s4 = 8.37; Δ1 = 2.85 Γ; Δ3 = Δ1; Δ4 = -7.88 Γ; pol1 = 0.09; pol3 = -0.16; pol4 = -0.91\n",
      "Survival: 4 / 20\n",
      "goodness = 0.307\n"
     ]
    },
    {
     "name": "stderr",
     "output_type": "stream",
     "text": [
      "\u001b[32mProgress: 100%|█████████████████████████████████████████| Time: 0:00:21\u001b[39m\n"
     ]
    },
    {
     "name": "stdout",
     "output_type": "stream",
     "text": [
      "s1 = 1.32; s3 = 0.77; s4 = 3.02; Δ1 = 3.95 Γ; Δ3 = Δ1; Δ4 = -2.73 Γ; pol1 = 0.47; pol3 = 0.47; pol4 = -0.28\n",
      "Survival: 0 / 20\n",
      "goodness = 0.000\n"
     ]
    },
    {
     "name": "stderr",
     "output_type": "stream",
     "text": [
      "\u001b[32mProgress: 100%|█████████████████████████████████████████| Time: 0:00:59\u001b[39m\n"
     ]
    },
    {
     "name": "stdout",
     "output_type": "stream",
     "text": [
      "s1 = 3.07; s3 = 2.52; s4 = 7.77; Δ1 = 2.20 Γ; Δ3 = Δ1; Δ4 = -6.48 Γ; pol1 = -0.53; pol3 = -0.53; pol4 = 0.72\n",
      "Survival: 6 / 20\n",
      "goodness = 18.917\n"
     ]
    },
    {
     "name": "stderr",
     "output_type": "stream",
     "text": [
      "\u001b[32mProgress: 100%|█████████████████████████████████████████| Time: 0:00:54\u001b[39m\n"
     ]
    },
    {
     "name": "stdout",
     "output_type": "stream",
     "text": [
      "s1 = 3.95; s3 = 1.65; s4 = 0.65; Δ1 = 3.07 Γ; Δ3 = Δ1; Δ4 = -4.60 Γ; pol1 = -0.03; pol3 = 0.97; pol4 = 0.22\n",
      "Survival: 10 / 20\n",
      "goodness = 24.108\n"
     ]
    },
    {
     "name": "stderr",
     "output_type": "stream",
     "text": [
      "\u001b[32mProgress: 100%|█████████████████████████████████████████| Time: 0:00:13\u001b[39m\n"
     ]
    },
    {
     "name": "stdout",
     "output_type": "stream",
     "text": [
      "s1 = 2.20; s3 = 3.40; s4 = 5.40; Δ1 = 1.32 Γ; Δ3 = Δ1; Δ4 = -0.85 Γ; pol1 = 0.97; pol3 = -0.03; pol4 = -0.78\n",
      "Survival: 4 / 20\n",
      "goodness = 2.717\n"
     ]
    },
    {
     "name": "stderr",
     "output_type": "stream",
     "text": [
      "\u001b[32mProgress: 100%|█████████████████████████████████████████| Time: 0:00:08\u001b[39m\n"
     ]
    },
    {
     "name": "stdout",
     "output_type": "stream",
     "text": [
      "s1 = 1.76; s3 = 2.09; s4 = 8.96; Δ1 = 0.88 Γ; Δ3 = Δ1; Δ4 = -1.79 Γ; pol1 = 0.22; pol3 = 0.72; pol4 = 0.47\n",
      "Survival: 0 / 20\n",
      "goodness = 0.000\n"
     ]
    },
    {
     "name": "stderr",
     "output_type": "stream",
     "text": [
      "\u001b[32mProgress: 100%|█████████████████████████████████████████| Time: 0:00:40\u001b[39m\n"
     ]
    },
    {
     "name": "stdout",
     "output_type": "stream",
     "text": [
      "s1 = 3.51; s3 = 3.84; s4 = 4.21; Δ1 = 2.63 Γ; Δ3 = Δ1; Δ4 = -5.54 Γ; pol1 = -0.78; pol3 = -0.28; pol4 = -0.53\n",
      "Survival: 3 / 20\n",
      "goodness = 1.568\n"
     ]
    },
    {
     "name": "stderr",
     "output_type": "stream",
     "text": [
      "\u001b[32mProgress: 100%|█████████████████████████████████████████| Time: 0:00:51\u001b[39m\n"
     ]
    },
    {
     "name": "stdout",
     "output_type": "stream",
     "text": [
      "s1 = 2.63; s3 = 1.21; s4 = 6.59; Δ1 = 1.76 Γ; Δ3 = Δ1; Δ4 = -7.41 Γ; pol1 = -0.28; pol3 = 0.22; pol4 = -0.03\n",
      "Survival: 0 / 20\n",
      "goodness = 0.000\n"
     ]
    },
    {
     "name": "stderr",
     "output_type": "stream",
     "text": [
      "\u001b[32mProgress: 100%|█████████████████████████████████████████| Time: 0:00:23\u001b[39m\n"
     ]
    },
    {
     "name": "stdout",
     "output_type": "stream",
     "text": [
      "s1 = 0.88; s3 = 2.96; s4 = 1.84; Δ1 = 3.51 Γ; Δ3 = Δ1; Δ4 = -3.66 Γ; pol1 = 0.72; pol3 = -0.78; pol4 = 0.97\n",
      "Survival: 0 / 20\n",
      "goodness = 0.000\n"
     ]
    },
    {
     "name": "stderr",
     "output_type": "stream",
     "text": [
      "\u001b[32mProgress: 100%|█████████████████████████████████████████| Time: 0:00:30\u001b[39m\n"
     ]
    },
    {
     "name": "stdout",
     "output_type": "stream",
     "text": [
      "s1 = 0.77; s3 = 1.32; s4 = 8.07; Δ1 = 0.99 Γ; Δ3 = Δ1; Δ4 = -4.84 Γ; pol1 = -0.84; pol3 = -0.47; pol4 = -0.09\n",
      "Survival: 1 / 20\n",
      "goodness = 0.173\n"
     ]
    },
    {
     "name": "stderr",
     "output_type": "stream",
     "text": [
      "\u001b[32mProgress: 100%|█████████████████████████████████████████| Time: 0:00:23\u001b[39m\n"
     ]
    },
    {
     "name": "stdout",
     "output_type": "stream",
     "text": [
      "s1 = 2.52; s3 = 3.07; s4 = 3.32; Δ1 = 2.74 Γ; Δ3 = Δ1; Δ4 = -1.09 Γ; pol1 = 0.16; pol3 = 0.53; pol4 = 0.91\n",
      "Survival: 1 / 20\n",
      "goodness = 0.245\n"
     ]
    },
    {
     "name": "stderr",
     "output_type": "stream",
     "text": [
      "\u001b[32mProgress: 100%|█████████████████████████████████████████| Time: 0:00:27\u001b[39m\n"
     ]
    },
    {
     "name": "stdout",
     "output_type": "stream",
     "text": [
      "s1 = 3.40; s3 = 2.20; s4 = 5.70; Δ1 = 1.87 Γ; Δ3 = Δ1; Δ4 = -2.96 Γ; pol1 = 0.66; pol3 = -0.97; pol4 = 0.41\n",
      "Survival: 3 / 20\n",
      "goodness = 9.441\n"
     ]
    },
    {
     "name": "stderr",
     "output_type": "stream",
     "text": [
      "\u001b[32mProgress: 100%|█████████████████████████████████████████| Time: 0:00:40\u001b[39m\n"
     ]
    },
    {
     "name": "stdout",
     "output_type": "stream",
     "text": [
      "s1 = 1.65; s3 = 3.95; s4 = 0.95; Δ1 = 3.62 Γ; Δ3 = Δ1; Δ4 = -6.71 Γ; pol1 = -0.34; pol3 = 0.03; pol4 = -0.59\n",
      "Survival: 2 / 20\n",
      "goodness = 0.275\n"
     ]
    },
    {
     "name": "stderr",
     "output_type": "stream",
     "text": [
      "\u001b[32mProgress: 100%|█████████████████████████████████████████| Time: 0:00:56\u001b[39m\n"
     ]
    },
    {
     "name": "stdout",
     "output_type": "stream",
     "text": [
      "s1 = 2.09; s3 = 1.76; s4 = 4.51; Δ1 = 3.18 Γ; Δ3 = Δ1; Δ4 = -7.65 Γ; pol1 = -0.59; pol3 = -0.72; pol4 = 0.16\n",
      "Survival: 2 / 20\n",
      "goodness = 5.499\n"
     ]
    },
    {
     "name": "stderr",
     "output_type": "stream",
     "text": [
      "\u001b[32mProgress:  95%|███████████████████████████████████████  |  ETA: 0:00:02\u001b[39m\r"
     ]
    },
    {
     "name": "stdout",
     "output_type": "stream",
     "text": [
      "s1 = 3.84; s3 = 3.51; s4 = 9.26; Δ1 = 1.43 Γ; Δ3 = Δ1; Δ4 = -3.90 Γ; pol1 = 0.41; pol3 = 0.28; pol4 = -0.84\n",
      "Survival: 5 / 20\n",
      "goodness = 9.618\n"
     ]
    },
    {
     "name": "stderr",
     "output_type": "stream",
     "text": [
      "\u001b[32mProgress: 100%|█████████████████████████████████████████| Time: 0:00:33\u001b[39m\n",
      "\u001b[32mProgress: 100%|█████████████████████████████████████████| Time: 0:00:29\u001b[39m\n"
     ]
    },
    {
     "name": "stdout",
     "output_type": "stream",
     "text": [
      "s1 = 2.96; s3 = 0.88; s4 = 2.13; Δ1 = 2.30 Γ; Δ3 = Δ1; Δ4 = -2.02 Γ; pol1 = 0.91; pol3 = -0.22; pol4 = -0.34\n",
      "Survival: 2 / 20\n",
      "goodness = 2.053\n"
     ]
    },
    {
     "name": "stderr",
     "output_type": "stream",
     "text": [
      "\u001b[32mProgress: 100%|█████████████████████████████████████████| Time: 0:00:32\u001b[39m\n"
     ]
    },
    {
     "name": "stdout",
     "output_type": "stream",
     "text": [
      "s1 = 1.21; s3 = 2.63; s4 = 6.88; Δ1 = 0.55 Γ; Δ3 = Δ1; Δ4 = -5.77 Γ; pol1 = -0.09; pol3 = 0.78; pol4 = 0.66\n",
      "Survival: 4 / 20\n",
      "goodness = 6.008\n"
     ]
    },
    {
     "name": "stderr",
     "output_type": "stream",
     "text": [
      "\u001b[32mProgress: 100%|█████████████████████████████████████████| Time: 0:00:19\u001b[39m\n"
     ]
    },
    {
     "name": "stdout",
     "output_type": "stream",
     "text": [
      "s1 = 0.99; s3 = 1.98; s4 = 2.73; Δ1 = 1.65 Γ; Δ3 = Δ1; Δ4 = -0.62 Γ; pol1 = -0.47; pol3 = -0.59; pol4 = 0.03\n",
      "Survival: 1 / 20\n",
      "goodness = 0.004\n"
     ]
    },
    {
     "name": "stderr",
     "output_type": "stream",
     "text": [
      "\u001b[32mProgress: 100%|█████████████████████████████████████████| Time: 0:00:23\u001b[39m\n"
     ]
    },
    {
     "name": "stdout",
     "output_type": "stream",
     "text": [
      "s1 = 2.74; s3 = 3.73; s4 = 7.48; Δ1 = 3.40 Γ; Δ3 = Δ1; Δ4 = -4.37 Γ; pol1 = 0.53; pol3 = 0.41; pol4 = -0.97\n",
      "Survival: 0 / 20\n",
      "goodness = 0.000\n"
     ]
    },
    {
     "name": "stderr",
     "output_type": "stream",
     "text": [
      "\u001b[32mProgress: 100%|█████████████████████████████████████████| Time: 0:00:36\u001b[39m\n"
     ]
    }
   ],
   "source": [
    "# using Serialization\n",
    "    \n",
    "# while true\n",
    "#     maxiterations!(opt, 50)\n",
    "#     result = boptimize!(opt)\n",
    "#     serialize(\"optimized_3freqs_with_imperfections_withpolarizations.jl\", opt)\n",
    "#     println(\"===== Autosaved =====\")\n",
    "# end"
   ]
  },
  {
   "cell_type": "code",
   "execution_count": null,
   "id": "7a7c8653-f06f-4a32-89f4-f126b2835147",
   "metadata": {},
   "outputs": [],
   "source": [
    "plot(moving_average(opt.model.y, 100))"
   ]
  },
  {
   "cell_type": "code",
   "execution_count": 24,
   "id": "1b62b8de-4b83-4eb4-8e5a-eae257e8b950",
   "metadata": {},
   "outputs": [
    {
     "data": {
      "text/plain": [
       "49.85152909844105"
      ]
     },
     "execution_count": 24,
     "metadata": {},
     "output_type": "execute_result"
    }
   ],
   "source": [
    "opt.observed_optimum"
   ]
  },
  {
   "cell_type": "code",
   "execution_count": 23,
   "id": "be634307-a206-4d6a-9b8c-2c9981fa5ef8",
   "metadata": {},
   "outputs": [
    {
     "data": {
      "text/plain": [
       "8-element Vector{Float64}:\n",
       "  3.2224455936289824\n",
       "  1.842321004850293\n",
       "  3.8625522588126797\n",
       "  3.349191378729903\n",
       " -5.910334399538269\n",
       "  1.0\n",
       " -1.0\n",
       "  1.0"
      ]
     },
     "execution_count": 23,
     "metadata": {},
     "output_type": "execute_result"
    }
   ],
   "source": [
    "opt.observed_optimizer"
   ]
  },
  {
   "cell_type": "code",
   "execution_count": 21,
   "id": "6836a06e-5525-4ad9-86ce-76c72a67cb2a",
   "metadata": {},
   "outputs": [
    {
     "data": {
      "text/plain": [
       "22.36129590482566"
      ]
     },
     "execution_count": 21,
     "metadata": {},
     "output_type": "execute_result"
    }
   ],
   "source": [
    "opt.model_optimum"
   ]
  },
  {
   "cell_type": "code",
   "execution_count": 22,
   "id": "4a0f281c-24a5-43f1-af1c-35897e3fcf8b",
   "metadata": {},
   "outputs": [
    {
     "data": {
      "text/plain": [
       "8-element Vector{Float64}:\n",
       "  3.0797177893299805\n",
       "  2.350473715104055\n",
       "  5.038287683424049\n",
       "  3.119650315240279\n",
       " -7.371411458167795\n",
       "  0.3821674489530465\n",
       "  1.0\n",
       "  1.0"
      ]
     },
     "execution_count": 22,
     "metadata": {},
     "output_type": "execute_result"
    }
   ],
   "source": [
    "opt.model_optimizer"
   ]
  },
  {
   "cell_type": "code",
   "execution_count": 20,
   "id": "411d8b28",
   "metadata": {},
   "outputs": [
    {
     "data": {
      "image/png": "[encoded data removed]",
      "image/svg+xml": [
       "<?xml version=\"1.0\" encoding=\"utf-8\"?>\n",
       "<svg xmlns=\"http://www.w3.org/2000/svg\" xmlns:xlink=\"http://www.w3.org/1999/xlink\" width=\"600\" height=\"400\" viewBox=\"0 0 2400 1600\">\n",
       "<defs>\n",
       "  <clipPath id=\"clip790\">\n",
       "    <rect x=\"0\" y=\"0\" width=\"2400\" height=\"1600\"/>\n",
       "  </clipPath>\n",
       "</defs>\n",
       "<path clip-path=\"url(#clip790)\" d=\"M0 1600 L2400 1600 L2400 0 L0 0  Z\" fill=\"#ffffff\" fill-rule=\"evenodd\" fill-opacity=\"1\"/>\n",
       "<defs>\n",
       "  <clipPath id=\"clip791\">\n",
       "    <rect x=\"480\" y=\"0\" width=\"1681\" height=\"1600\"/>\n",
       "  </clipPath>\n",
       "</defs>\n",
       "<path clip-path=\"url(#clip790)\" d=\"M257.204 1423.18 L2112.76 1423.18 L2112.76 47.2441 L257.204 47.2441  Z\" fill=\"#ffffff\" fill-rule=\"evenodd\" fill-opacity=\"1\"/>\n",
       "<defs>\n",
       "  <clipPath id=\"clip792\">\n",
       "    <rect x=\"257\" y=\"47\" width=\"1857\" height=\"1377\"/>\n",
       "  </clipPath>\n",
       "</defs>\n",
       "<polyline clip-path=\"url(#clip792)\" style=\"stroke:#000000; stroke-linecap:round; stroke-linejoin:round; stroke-width:2; stroke-opacity:0.1; fill:none\" points=\"577.16,1423.18 577.16,47.2441 \"/>\n",
       "<polyline clip-path=\"url(#clip792)\" style=\"stroke:#000000; stroke-linecap:round; stroke-linejoin:round; stroke-width:2; stroke-opacity:0.1; fill:none\" points=\"1063.42,1423.18 1063.42,47.2441 \"/>\n",
       "<polyline clip-path=\"url(#clip792)\" style=\"stroke:#000000; stroke-linecap:round; stroke-linejoin:round; stroke-width:2; stroke-opacity:0.1; fill:none\" points=\"1549.67,1423.18 1549.67,47.2441 \"/>\n",
       "<polyline clip-path=\"url(#clip792)\" style=\"stroke:#000000; stroke-linecap:round; stroke-linejoin:round; stroke-width:2; stroke-opacity:0.1; fill:none\" points=\"2035.93,1423.18 2035.93,47.2441 \"/>\n",
       "<polyline clip-path=\"url(#clip790)\" style=\"stroke:#000000; stroke-linecap:round; stroke-linejoin:round; stroke-width:4; stroke-opacity:1; fill:none\" points=\"257.204,1423.18 2112.76,1423.18 \"/>\n",
       "<polyline clip-path=\"url(#clip790)\" style=\"stroke:#000000; stroke-linecap:round; stroke-linejoin:round; stroke-width:4; stroke-opacity:1; fill:none\" points=\"577.16,1423.18 577.16,1404.28 \"/>\n",
       "<polyline clip-path=\"url(#clip790)\" style=\"stroke:#000000; stroke-linecap:round; stroke-linejoin:round; stroke-width:4; stroke-opacity:1; fill:none\" points=\"1063.42,1423.18 1063.42,1404.28 \"/>\n",
       "<polyline clip-path=\"url(#clip790)\" style=\"stroke:#000000; stroke-linecap:round; stroke-linejoin:round; stroke-width:4; stroke-opacity:1; fill:none\" points=\"1549.67,1423.18 1549.67,1404.28 \"/>\n",
       "<polyline clip-path=\"url(#clip790)\" style=\"stroke:#000000; stroke-linecap:round; stroke-linejoin:round; stroke-width:4; stroke-opacity:1; fill:none\" points=\"2035.93,1423.18 2035.93,1404.28 \"/>\n",
       "<path clip-path=\"url(#clip790)\" d=\"M567.542 1481.64 L575.181 1481.64 L575.181 1455.28 L566.871 1456.95 L566.871 1452.69 L575.135 1451.02 L579.811 1451.02 L579.811 1481.64 L587.45 1481.64 L587.45 1485.58 L567.542 1485.58 L567.542 1481.64 Z\" fill=\"#000000\" fill-rule=\"nonzero\" fill-opacity=\"1\" /><path clip-path=\"url(#clip790)\" d=\"M1058.07 1481.64 L1074.39 1481.64 L1074.39 1485.58 L1052.44 1485.58 L1052.44 1481.64 Q1055.11 1478.89 1059.69 1474.26 Q1064.3 1469.61 1065.48 1468.27 Q1067.72 1465.74 1068.6 1464.01 Q1069.5 1462.25 1069.5 1460.56 Q1069.5 1457.8 1067.56 1456.07 Q1065.64 1454.33 1062.54 1454.33 Q1060.34 1454.33 1057.88 1455.09 Q1055.45 1455.86 1052.68 1457.41 L1052.68 1452.69 Q1055.5 1451.55 1057.95 1450.97 Q1060.41 1450.39 1062.44 1450.39 Q1067.81 1450.39 1071.01 1453.08 Q1074.2 1455.77 1074.2 1460.26 Q1074.2 1462.39 1073.39 1464.31 Q1072.61 1466.2 1070.5 1468.8 Q1069.92 1469.47 1066.82 1472.69 Q1063.72 1475.88 1058.07 1481.64 Z\" fill=\"#000000\" fill-rule=\"nonzero\" fill-opacity=\"1\" /><path clip-path=\"url(#clip790)\" d=\"M1553.92 1466.95 Q1557.28 1467.66 1559.15 1469.93 Q1561.05 1472.2 1561.05 1475.53 Q1561.05 1480.65 1557.53 1483.45 Q1554.01 1486.25 1547.53 1486.25 Q1545.35 1486.25 1543.04 1485.81 Q1540.75 1485.39 1538.29 1484.54 L1538.29 1480.02 Q1540.24 1481.16 1542.55 1481.74 Q1544.87 1482.32 1547.39 1482.32 Q1551.79 1482.32 1554.08 1480.58 Q1556.4 1478.84 1556.4 1475.53 Q1556.4 1472.48 1554.24 1470.77 Q1552.11 1469.03 1548.29 1469.03 L1544.27 1469.03 L1544.27 1465.19 L1548.48 1465.19 Q1551.93 1465.19 1553.76 1463.82 Q1555.59 1462.43 1555.59 1459.84 Q1555.59 1457.18 1553.69 1455.77 Q1551.81 1454.33 1548.29 1454.33 Q1546.37 1454.33 1544.17 1454.75 Q1541.98 1455.16 1539.34 1456.04 L1539.34 1451.88 Q1542 1451.14 1544.31 1450.77 Q1546.65 1450.39 1548.71 1450.39 Q1554.04 1450.39 1557.14 1452.83 Q1560.24 1455.23 1560.24 1459.35 Q1560.24 1462.22 1558.6 1464.21 Q1556.95 1466.18 1553.92 1466.95 Z\" fill=\"#000000\" fill-rule=\"nonzero\" fill-opacity=\"1\" /><path clip-path=\"url(#clip790)\" d=\"M2038.94 1455.09 L2027.13 1473.54 L2038.94 1473.54 L2038.94 1455.09 M2037.71 1451.02 L2043.59 1451.02 L2043.59 1473.54 L2048.52 1473.54 L2048.52 1477.43 L2043.59 1477.43 L2043.59 1485.58 L2038.94 1485.58 L2038.94 1477.43 L2023.33 1477.43 L2023.33 1472.92 L2037.71 1451.02 Z\" fill=\"#000000\" fill-rule=\"nonzero\" fill-opacity=\"1\" /><path clip-path=\"url(#clip790)\" d=\"M1177.37 1533.45 L1177.37 1538.98 Q1174.89 1537.71 1172.22 1537.07 Q1169.54 1536.44 1166.68 1536.44 Q1162.32 1536.44 1160.12 1537.77 Q1157.96 1539.11 1157.96 1541.79 Q1157.96 1543.82 1159.52 1545 Q1161.08 1546.15 1165.79 1547.2 L1167.79 1547.64 Q1174.03 1548.98 1176.64 1551.43 Q1179.28 1553.85 1179.28 1558.21 Q1179.28 1563.17 1175.34 1566.07 Q1171.42 1568.97 1164.55 1568.97 Q1161.68 1568.97 1158.56 1568.39 Q1155.47 1567.85 1152.04 1566.74 L1152.04 1560.69 Q1155.28 1562.38 1158.43 1563.24 Q1161.59 1564.07 1164.67 1564.07 Q1168.81 1564.07 1171.04 1562.66 Q1173.27 1561.23 1173.27 1558.65 Q1173.27 1556.27 1171.64 1554.99 Q1170.05 1553.72 1164.61 1552.54 L1162.57 1552.07 Q1157.13 1550.92 1154.71 1548.56 Q1152.29 1546.18 1152.29 1542.04 Q1152.29 1537.01 1155.86 1534.27 Q1159.42 1531.54 1165.98 1531.54 Q1169.22 1531.54 1172.09 1532.01 Q1174.95 1532.49 1177.37 1533.45 Z\" fill=\"#000000\" fill-rule=\"nonzero\" fill-opacity=\"1\" /><path clip-path=\"url(#clip790)\" d=\"M1190.55 1562.63 L1201.05 1562.63 L1201.05 1526.38 L1189.63 1528.67 L1189.63 1522.82 L1200.99 1520.52 L1207.42 1520.52 L1207.42 1562.63 L1217.92 1562.63 L1217.92 1568.04 L1190.55 1568.04 L1190.55 1562.63 Z\" fill=\"#000000\" fill-rule=\"nonzero\" fill-opacity=\"1\" /><polyline clip-path=\"url(#clip792)\" style=\"stroke:#000000; stroke-linecap:round; stroke-linejoin:round; stroke-width:2; stroke-opacity:0.1; fill:none\" points=\"257.204,1353.33 2112.76,1353.33 \"/>\n",
       "<polyline clip-path=\"url(#clip792)\" style=\"stroke:#000000; stroke-linecap:round; stroke-linejoin:round; stroke-width:2; stroke-opacity:0.1; fill:none\" points=\"257.204,1044.27 2112.76,1044.27 \"/>\n",
       "<polyline clip-path=\"url(#clip792)\" style=\"stroke:#000000; stroke-linecap:round; stroke-linejoin:round; stroke-width:2; stroke-opacity:0.1; fill:none\" points=\"257.204,735.212 2112.76,735.212 \"/>\n",
       "<polyline clip-path=\"url(#clip792)\" style=\"stroke:#000000; stroke-linecap:round; stroke-linejoin:round; stroke-width:2; stroke-opacity:0.1; fill:none\" points=\"257.204,426.152 2112.76,426.152 \"/>\n",
       "<polyline clip-path=\"url(#clip792)\" style=\"stroke:#000000; stroke-linecap:round; stroke-linejoin:round; stroke-width:2; stroke-opacity:0.1; fill:none\" points=\"257.204,117.092 2112.76,117.092 \"/>\n",
       "<polyline clip-path=\"url(#clip790)\" style=\"stroke:#000000; stroke-linecap:round; stroke-linejoin:round; stroke-width:4; stroke-opacity:1; fill:none\" points=\"257.204,1423.18 257.204,47.2441 \"/>\n",
       "<polyline clip-path=\"url(#clip790)\" style=\"stroke:#000000; stroke-linecap:round; stroke-linejoin:round; stroke-width:4; stroke-opacity:1; fill:none\" points=\"257.204,1353.33 273.937,1353.33 \"/>\n",
       "<polyline clip-path=\"url(#clip790)\" style=\"stroke:#000000; stroke-linecap:round; stroke-linejoin:round; stroke-width:4; stroke-opacity:1; fill:none\" points=\"257.204,1044.27 273.937,1044.27 \"/>\n",
       "<polyline clip-path=\"url(#clip790)\" style=\"stroke:#000000; stroke-linecap:round; stroke-linejoin:round; stroke-width:4; stroke-opacity:1; fill:none\" points=\"257.204,735.212 273.937,735.212 \"/>\n",
       "<polyline clip-path=\"url(#clip790)\" style=\"stroke:#000000; stroke-linecap:round; stroke-linejoin:round; stroke-width:4; stroke-opacity:1; fill:none\" points=\"257.204,426.152 273.937,426.152 \"/>\n",
       "<polyline clip-path=\"url(#clip790)\" style=\"stroke:#000000; stroke-linecap:round; stroke-linejoin:round; stroke-width:4; stroke-opacity:1; fill:none\" points=\"257.204,117.092 273.937,117.092 \"/>\n",
       "<path clip-path=\"url(#clip790)\" d=\"M114.26 1353.78 L143.936 1353.78 L143.936 1357.72 L114.26 1357.72 L114.26 1353.78 Z\" fill=\"#000000\" fill-rule=\"nonzero\" fill-opacity=\"1\" /><path clip-path=\"url(#clip790)\" d=\"M154.839 1366.68 L162.477 1366.68 L162.477 1340.31 L154.167 1341.98 L154.167 1337.72 L162.431 1336.05 L167.107 1336.05 L167.107 1366.68 L174.746 1366.68 L174.746 1370.61 L154.839 1370.61 L154.839 1366.68 Z\" fill=\"#000000\" fill-rule=\"nonzero\" fill-opacity=\"1\" /><path clip-path=\"url(#clip790)\" d=\"M184.19 1364.73 L189.075 1364.73 L189.075 1370.61 L184.19 1370.61 L184.19 1364.73 Z\" fill=\"#000000\" fill-rule=\"nonzero\" fill-opacity=\"1\" /><path clip-path=\"url(#clip790)\" d=\"M209.26 1339.13 Q205.649 1339.13 203.82 1342.7 Q202.014 1346.24 202.014 1353.37 Q202.014 1360.47 203.82 1364.04 Q205.649 1367.58 209.26 1367.58 Q212.894 1367.58 214.699 1364.04 Q216.528 1360.47 216.528 1353.37 Q216.528 1346.24 214.699 1342.7 Q212.894 1339.13 209.26 1339.13 M209.26 1335.43 Q215.07 1335.43 218.125 1340.03 Q221.204 1344.62 221.204 1353.37 Q221.204 1362.09 218.125 1366.7 Q215.07 1371.28 209.26 1371.28 Q203.449 1371.28 200.371 1366.7 Q197.315 1362.09 197.315 1353.37 Q197.315 1344.62 200.371 1340.03 Q203.449 1335.43 209.26 1335.43 Z\" fill=\"#000000\" fill-rule=\"nonzero\" fill-opacity=\"1\" /><path clip-path=\"url(#clip790)\" d=\"M115.256 1044.72 L144.931 1044.72 L144.931 1048.66 L115.256 1048.66 L115.256 1044.72 Z\" fill=\"#000000\" fill-rule=\"nonzero\" fill-opacity=\"1\" /><path clip-path=\"url(#clip790)\" d=\"M165.024 1030.07 Q161.413 1030.07 159.584 1033.64 Q157.778 1037.18 157.778 1044.31 Q157.778 1051.41 159.584 1054.98 Q161.413 1058.52 165.024 1058.52 Q168.658 1058.52 170.464 1054.98 Q172.292 1051.41 172.292 1044.31 Q172.292 1037.18 170.464 1033.64 Q168.658 1030.07 165.024 1030.07 M165.024 1026.37 Q170.834 1026.37 173.889 1030.97 Q176.968 1035.56 176.968 1044.31 Q176.968 1053.03 173.889 1057.64 Q170.834 1062.22 165.024 1062.22 Q159.214 1062.22 156.135 1057.64 Q153.079 1053.03 153.079 1044.31 Q153.079 1035.56 156.135 1030.97 Q159.214 1026.37 165.024 1026.37 Z\" fill=\"#000000\" fill-rule=\"nonzero\" fill-opacity=\"1\" /><path clip-path=\"url(#clip790)\" d=\"M185.186 1055.67 L190.07 1055.67 L190.07 1061.55 L185.186 1061.55 L185.186 1055.67 Z\" fill=\"#000000\" fill-rule=\"nonzero\" fill-opacity=\"1\" /><path clip-path=\"url(#clip790)\" d=\"M200.301 1026.99 L218.658 1026.99 L218.658 1030.93 L204.584 1030.93 L204.584 1039.4 Q205.602 1039.05 206.621 1038.89 Q207.639 1038.71 208.658 1038.71 Q214.445 1038.71 217.824 1041.88 Q221.204 1045.05 221.204 1050.46 Q221.204 1056.04 217.732 1059.14 Q214.26 1062.22 207.94 1062.22 Q205.764 1062.22 203.496 1061.85 Q201.25 1061.48 198.843 1060.74 L198.843 1056.04 Q200.926 1057.18 203.149 1057.73 Q205.371 1058.29 207.848 1058.29 Q211.852 1058.29 214.19 1056.18 Q216.528 1054.08 216.528 1050.46 Q216.528 1046.85 214.19 1044.75 Q211.852 1042.64 207.848 1042.64 Q205.973 1042.64 204.098 1043.06 Q202.246 1043.47 200.301 1044.35 L200.301 1026.99 Z\" fill=\"#000000\" fill-rule=\"nonzero\" fill-opacity=\"1\" /><path clip-path=\"url(#clip790)\" d=\"M164.028 721.011 Q160.417 721.011 158.589 724.575 Q156.783 728.117 156.783 735.247 Q156.783 742.353 158.589 745.918 Q160.417 749.46 164.028 749.46 Q167.663 749.46 169.468 745.918 Q171.297 742.353 171.297 735.247 Q171.297 728.117 169.468 724.575 Q167.663 721.011 164.028 721.011 M164.028 717.307 Q169.839 717.307 172.894 721.913 Q175.973 726.497 175.973 735.247 Q175.973 743.973 172.894 748.58 Q169.839 753.163 164.028 753.163 Q158.218 753.163 155.14 748.58 Q152.084 743.973 152.084 735.247 Q152.084 726.497 155.14 721.913 Q158.218 717.307 164.028 717.307 Z\" fill=\"#000000\" fill-rule=\"nonzero\" fill-opacity=\"1\" /><path clip-path=\"url(#clip790)\" d=\"M184.19 746.612 L189.075 746.612 L189.075 752.492 L184.19 752.492 L184.19 746.612 Z\" fill=\"#000000\" fill-rule=\"nonzero\" fill-opacity=\"1\" /><path clip-path=\"url(#clip790)\" d=\"M209.26 721.011 Q205.649 721.011 203.82 724.575 Q202.014 728.117 202.014 735.247 Q202.014 742.353 203.82 745.918 Q205.649 749.46 209.26 749.46 Q212.894 749.46 214.699 745.918 Q216.528 742.353 216.528 735.247 Q216.528 728.117 214.699 724.575 Q212.894 721.011 209.26 721.011 M209.26 717.307 Q215.07 717.307 218.125 721.913 Q221.204 726.497 221.204 735.247 Q221.204 743.973 218.125 748.58 Q215.07 753.163 209.26 753.163 Q203.449 753.163 200.371 748.58 Q197.315 743.973 197.315 735.247 Q197.315 726.497 200.371 721.913 Q203.449 717.307 209.26 717.307 Z\" fill=\"#000000\" fill-rule=\"nonzero\" fill-opacity=\"1\" /><path clip-path=\"url(#clip790)\" d=\"M165.024 411.951 Q161.413 411.951 159.584 415.515 Q157.778 419.057 157.778 426.187 Q157.778 433.293 159.584 436.858 Q161.413 440.399 165.024 440.399 Q168.658 440.399 170.464 436.858 Q172.292 433.293 172.292 426.187 Q172.292 419.057 170.464 415.515 Q168.658 411.951 165.024 411.951 M165.024 408.247 Q170.834 408.247 173.889 412.853 Q176.968 417.437 176.968 426.187 Q176.968 434.913 173.889 439.52 Q170.834 444.103 165.024 444.103 Q159.214 444.103 156.135 439.52 Q153.079 434.913 153.079 426.187 Q153.079 417.437 156.135 412.853 Q159.214 408.247 165.024 408.247 Z\" fill=\"#000000\" fill-rule=\"nonzero\" fill-opacity=\"1\" /><path clip-path=\"url(#clip790)\" d=\"M185.186 437.552 L190.07 437.552 L190.07 443.432 L185.186 443.432 L185.186 437.552 Z\" fill=\"#000000\" fill-rule=\"nonzero\" fill-opacity=\"1\" /><path clip-path=\"url(#clip790)\" d=\"M200.301 408.872 L218.658 408.872 L218.658 412.807 L204.584 412.807 L204.584 421.279 Q205.602 420.932 206.621 420.77 Q207.639 420.585 208.658 420.585 Q214.445 420.585 217.824 423.756 Q221.204 426.927 221.204 432.344 Q221.204 437.923 217.732 441.024 Q214.26 444.103 207.94 444.103 Q205.764 444.103 203.496 443.733 Q201.25 443.362 198.843 442.622 L198.843 437.923 Q200.926 439.057 203.149 439.612 Q205.371 440.168 207.848 440.168 Q211.852 440.168 214.19 438.061 Q216.528 435.955 216.528 432.344 Q216.528 428.733 214.19 426.626 Q211.852 424.52 207.848 424.52 Q205.973 424.52 204.098 424.937 Q202.246 425.353 200.301 426.233 L200.301 408.872 Z\" fill=\"#000000\" fill-rule=\"nonzero\" fill-opacity=\"1\" /><path clip-path=\"url(#clip790)\" d=\"M154.839 130.437 L162.477 130.437 L162.477 104.071 L154.167 105.738 L154.167 101.478 L162.431 99.8117 L167.107 99.8117 L167.107 130.437 L174.746 130.437 L174.746 134.372 L154.839 134.372 L154.839 130.437 Z\" fill=\"#000000\" fill-rule=\"nonzero\" fill-opacity=\"1\" /><path clip-path=\"url(#clip790)\" d=\"M184.19 128.492 L189.075 128.492 L189.075 134.372 L184.19 134.372 L184.19 128.492 Z\" fill=\"#000000\" fill-rule=\"nonzero\" fill-opacity=\"1\" /><path clip-path=\"url(#clip790)\" d=\"M209.26 102.89 Q205.649 102.89 203.82 106.455 Q202.014 109.997 202.014 117.126 Q202.014 124.233 203.82 127.798 Q205.649 131.339 209.26 131.339 Q212.894 131.339 214.699 127.798 Q216.528 124.233 216.528 117.126 Q216.528 109.997 214.699 106.455 Q212.894 102.89 209.26 102.89 M209.26 99.1867 Q215.07 99.1867 218.125 103.793 Q221.204 108.376 221.204 117.126 Q221.204 125.853 218.125 130.46 Q215.07 135.043 209.26 135.043 Q203.449 135.043 200.371 130.46 Q197.315 125.853 197.315 117.126 Q197.315 108.376 200.371 103.793 Q203.449 99.1867 209.26 99.1867 Z\" fill=\"#000000\" fill-rule=\"nonzero\" fill-opacity=\"1\" /><path clip-path=\"url(#clip790)\" d=\"M58.657 794.954 L77.5631 794.954 L77.5631 800.842 L28.3562 800.842 L28.3562 794.954 L33.7671 794.954 Q30.5842 793.108 29.0564 790.307 Q27.4968 787.474 27.4968 783.56 Q27.4968 777.066 32.6531 773.024 Q37.8093 768.95 46.212 768.95 Q54.6147 768.95 59.771 773.024 Q64.9272 777.066 64.9272 783.56 Q64.9272 787.474 63.3994 790.307 Q61.8398 793.108 58.657 794.954 M46.212 775.029 Q39.7508 775.029 36.0905 777.703 Q32.3984 780.345 32.3984 784.992 Q32.3984 789.639 36.0905 792.312 Q39.7508 794.954 46.212 794.954 Q52.6732 794.954 56.3653 792.312 Q60.0256 789.639 60.0256 784.992 Q60.0256 780.345 56.3653 777.703 Q52.6732 775.029 46.212 775.029 Z\" fill=\"#000000\" fill-rule=\"nonzero\" fill-opacity=\"1\" /><path clip-path=\"url(#clip790)\" d=\"M32.4621 745.429 Q32.4621 750.14 36.1542 752.877 Q39.8145 755.614 46.212 755.614 Q52.6095 755.614 56.3017 752.909 Q59.9619 750.171 59.9619 745.429 Q59.9619 740.75 56.2698 738.013 Q52.5777 735.276 46.212 735.276 Q39.8781 735.276 36.186 738.013 Q32.4621 740.75 32.4621 745.429 M27.4968 745.429 Q27.4968 737.79 32.4621 733.43 Q37.4273 729.069 46.212 729.069 Q54.9649 729.069 59.9619 733.43 Q64.9272 737.79 64.9272 745.429 Q64.9272 753.1 59.9619 757.46 Q54.9649 761.789 46.212 761.789 Q37.4273 761.789 32.4621 757.46 Q27.4968 753.1 27.4968 745.429 Z\" fill=\"#000000\" fill-rule=\"nonzero\" fill-opacity=\"1\" /><path clip-path=\"url(#clip790)\" d=\"M14.479 719.361 L14.479 713.505 L64.0042 713.505 L64.0042 719.361 L14.479 719.361 Z\" fill=\"#000000\" fill-rule=\"nonzero\" fill-opacity=\"1\" /><path clip-path=\"url(#clip790)\" d=\"M22.086 682.759 L47.4533 698.991 L47.4533 682.759 L22.086 682.759 M16.4842 684.445 L16.4842 676.361 L47.4533 676.361 L47.4533 669.582 L52.8005 669.582 L52.8005 676.361 L64.0042 676.361 L64.0042 682.759 L52.8005 682.759 L52.8005 704.211 L46.5939 704.211 L16.4842 684.445 Z\" fill=\"#000000\" fill-rule=\"nonzero\" fill-opacity=\"1\" /><g clip-path=\"url(#clip792)\">\n",
       "<image width=\"1751\" height=\"1298\" xlink:href=\"data:image/png;base64,\n",
       "iVBORw0KGgoAAAANSUhEUgAABtcAAAUSCAYAAABy1a5WAAAgAElEQVR4nOzbW64tVXJA0dhwyoCE\n",
       "URkK/GO5/32z/FHlt6vOXv6gA1NKRN5Ij9GCCK187TvPff3h45czy/393/3T3SNc9tNX/3z3CJf8\n",
       "4+fPd49w2S9/+PbuES77+dvX3SNc8vM36x9H8/O3f717hMt+/va/7x7hkj999x93j3DZj9//290j\n",
       "XPbHH3bv8P0f/3z3CJd99+PuHb756S93j3DZ1z/9190jXPb66bu7R7jk/MOPd49w2ecf/3T3CJd9\n",
       "/rD7t8Ln97/cPcJl57v9O3z1ze77+euPH+4e4bKPr3e/E756fdw9wnWv3b/5Z2bOed89wiWf7/+9\n",
       "e4TLPj/3/2b+/Ovu3zrnf/717hEu++o//+XuES77+t937/D1Xx5wHf159w5f3T0AAAAAAAAAbCGu\n",
       "AQAAAAAAQCSuAQAAAAAAQCSuAQAAAAAAQCSuAQAAAAAAQCSuAQAAAAAAQCSuAQAAAAAAQCSuAQAA\n",
       "AAAAQCSuAQAAAAAAQCSuAQAAAAAAQCSuAQAAAAAAQCSuAQAAAAAAQCSuAQAAAAAAQCSuAQAAAAAA\n",
       "QCSuAQAAAAAAQCSuAQAAAAAAQCSuAQAAAAAAQCSuAQAAAAAAQCSuAQAAAAAAQCSuAQAAAAAAQCSu\n",
       "AQAAAAAAQCSuAQAAAAAAQCSuAQAAAAAAQCSuAQAAAAAAQCSuAQAAAAAAQCSuAQAAAAAAQCSuAQAA\n",
       "AAAAQCSuAQAAAAAAQCSuAQAAAAAAQCSuAQAAAAAAQCSuAQAAAAAAQCSuAQAAAAAAQCSuAQAAAAAA\n",
       "QCSuAQAAAAAAQCSuAQAAAAAAQCSuAQAAAAAAQCSuAQAAAAAAQCSuAQAAAAAAQCSuAQAAAAAAQCSu\n",
       "AQAAAAAAQCSuAQAAAAAAQCSuAQAAAAAAQCSuAQAAAAAAQCSuAQAAAAAAQCSuAQAAAAAAQCSuAQAA\n",
       "AAAAQCSuAQAAAAAAQCSuAQAAAAAAQCSuAQAAAAAAQCSuAQAAAAAAQCSuAQAAAAAAQCSuAQAAAAAA\n",
       "QCSuAQAAAAAAQCSuAQAAAAAAQCSuAQAAAAAAQCSuAQAAAAAAQCSuAQAAAAAAQCSuAQAAAAAAQCSu\n",
       "AQAAAAAAQCSuAQAAAAAAQCSuAQAAAAAAQPRx5tw9w2/ADnd7wnX0iB3O6+4RLtl/Anb4EpzZfR/M\n",
       "7L+XZ2bO9gvpAdfR9h2ecB+sf6DO7L+Zt88/M68H7LD9HF7nffcIl50H7DDbd9g+/+y/js5r97No\n",
       "Zh7xbbH9OnrCvWyHL8D2+WfWf9/NzP4dts8/s34H/3MNAAAAAAAAInENAAAAAAAAInENAAAAAAAA\n",
       "InENAAAAAAAAInENAAAAAAAAInENAAAAAAAAInENAAAAAAAAInENAAAAAAAAInENAAAAAAAAInEN\n",
       "AAAAAAAAInENAAAAAAAAInENAAAAAAAAInENAAAAAAAAInENAAAAAAAAInENAAAAAAAAInENAAAA\n",
       "AAAAInENAAAAAAAAInENAAAAAAAAInENAAAAAAAAInENAAAAAAAAInENAAAAAAAAInENAAAAAAAA\n",
       "InENAAAAAAAAInENAAAAAAAAInENAAAAAAAAInENAAAAAAAAInENAAAAAAAAInENAAAAAAAAInEN\n",
       "AAAAAAAAInENAAAAAAAAInENAAAAAAAAInENAAAAAAAAInENAAAAAAAAInENAAAAAAAAInENAAAA\n",
       "AAAAInENAAAAAAAAInENAAAAAAAAInENAAAAAAAAInENAAAAAAAAInENAAAAAAAAInENAAAAAAAA\n",
       "InENAAAAAAAAInENAAAAAAAAInENAAAAAAAAInENAAAAAAAAInENAAAAAAAAInENAAAAAAAAInEN\n",
       "AAAAAAAAInENAAAAAAAAInENAAAAAAAAInENAAAAAAAAInENAAAAAAAAInENAAAAAAAAInENAAAA\n",
       "AAAAInENAAAAAAAAInENAAAAAAAAInENAAAAAAAAInENAAAAAAAAInENAAAAAAAAInENAAAAAAAA\n",
       "InENAAAAAAAAoo855+4ZLjtjh7vtnv5XD7gV1p/D9vln5hlLnNfdE1zzhDOY5WcwM9t3eMI7wb38\n",
       "BXjEDsuX2D7/zMx53z3BZa/tO2yff2ZmPu8e4LKz/BzO7J5/Zv8O26+hXy3/vpsHXEfL5595yL2w\n",
       "fQffqF+G7efgDG7nf64BAAAAAABAJK4BAAAAAABAJK4BAAAAAABAJK4BAAAAAABAJK4BAAAAAABA\n",
       "JK4BAAAAAABAJK4BAAAAAABAJK4BAAAAAABAJK4BAAAAAABAJK4BAAAAAABAJK4BAAAAAABAJK4B\n",
       "AAAAAABAJK4BAAAAAABAJK4BAAAAAABAJK4BAAAAAABAJK4BAAAAAABAJK4BAAAAAABAJK4BAAAA\n",
       "AABAJK4BAAAAAABAJK4BAAAAAABAJK4BAAAAAABAJK4BAAAAAABAJK4BAAAAAABAJK4BAAAAAABA\n",
       "JK4BAAAAAABAJK4BAAAAAABAJK4BAAAAAABAJK4BAAAAAABAJK4BAAAAAABAJK4BAAAAAABAJK4B\n",
       "AAAAAABAJK4BAAAAAABAJK4BAAAAAABAJK4BAAAAAABAJK4BAAAAAABAJK4BAAAAAABAJK4BAAAA\n",
       "AABAJK4BAAAAAABAJK4BAAAAAABAJK4BAAAAAABAJK4BAAAAAABAJK4BAAAAAABAJK4BAAAAAABA\n",
       "JK4BAAAAAABAJK4BAAAAAABAJK4BAAAAAABAJK4BAAAAAABAJK4BAAAAAABAJK4BAAAAAABAJK4B\n",
       "AAAAAABAJK4BAAAAAABAJK4BAAAAAABAJK4BAAAAAABAJK4BAAAAAABAJK4BAAAAAABAJK4BAAAA\n",
       "AABAJK4BAAAAAABAJK4BAAAAAABAJK4BAAAAAABAJK4BAAAAAABAJK4BAAAAAABA9HH3AL+Nc/cA\n",
       "l531O2yf/wkb8CU487p7hMu23wuPOIPthzAP2OE84TpavsP2+Wf2P1BnZt7Ll1j/MJqH7PC+e4Jr\n",
       "ts8/85AdPu+e4Jrt88/MWX4dndfu+WdmXg/4rbP9ebT9PviVHe72esA74fWAe2H/Dk/4nbB7B/9z\n",
       "DQAAAAAAACJxDQAAAAAAACJxDQAAAAAAACJxDQAAAAAAACJxDQAAAAAAACJxDQAAAAAAACJxDQAA\n",
       "AAAAACJxDQAAAAAAACJxDQAAAAAAACJxDQAAAAAAACJxDQAAAAAAACJxDQAAAAAAACJxDQAAAAAA\n",
       "ACJxDQAAAAAAACJxDQAAAAAAACJxDQAAAAAAACJxDQAAAAAAACJxDQAAAAAAACJxDQAAAAAAACJx\n",
       "DQAAAAAAACJxDQAAAAAAACJxDQAAAAAAACJxDQAAAAAAACJxDQAAAAAAACJxDQAAAAAAACJxDQAA\n",
       "AAAAACJxDQAAAAAAACJxDQAAAAAAACJxDQAAAAAAACJxDQAAAAAAACJxDQAAAAAAACJxDQAAAAAA\n",
       "ACJxDQAAAAAAACJxDQAAAAAAACJxDQAAAAAAACJxDQAAAAAAACJxDQAAAAAAACJxDQAAAAAAACJx\n",
       "DQAAAAAAACJxDQAAAAAAACJxDQAAAAAAACJxDQAAAAAAACJxDQAAAAAAACJxDQAAAAAAACJxDQAA\n",
       "AAAAACJxDQAAAAAAACJxDQAAAAAAACJxDQAAAAAAACJxDQAAAAAAACJxDQAAAAAAACJxDQAAAAAA\n",
       "ACJxDQAAAAAAACJxDQAAAAAAACJxDQAAAAAAACJxDQAAAAAAACJxDQAAAAAAACJxDQAAAAAAACJx\n",
       "DQAAAAAAACJxDQAAAAAAACJxDQAAAAAAACJxDQAAAAAAAKKPmXP3DJcdO9xu9/TPsf0czvYFZv8Z\n",
       "zOzfYfv8MzNnXnePcNk5u3fYPv/M7L8ZHnAGT7iOXttfzu/33RNc94QdzvIdts8/M3M+757gN7D7\n",
       "HI7r6HbnPOHvy/fvsP5e2D7/POAMZv8Or+Xzz8wj7oXt/xD5eu+ef2bWn8H+tzIAAAAAAAD8TsQ1\n",
       "AAAAAAAAiMQ1AAAAAAAAiMQ1AAAAAAAAiMQ1AAAAAAAAiMQ1AAAAAAAAiMQ1AAAAAAAAiMQ1AAAA\n",
       "AAAAiMQ1AAAAAAAAiMQ1AAAAAAAAiMQ1AAAAAAAAiMQ1AAAAAAAAiMQ1AAAAAAAAiMQ1AAAAAAAA\n",
       "iMQ1AAAAAAAAiMQ1AAAAAAAAiMQ1AAAAAAAAiMQ1AAAAAAAAiMQ1AAAAAAAAiMQ1AAAAAAAAiMQ1\n",
       "AAAAAAAAiMQ1AAAAAAAAiMQ1AAAAAAAAiMQ1AAAAAAAAiMQ1AAAAAAAAiMQ1AAAAAAAAiMQ1AAAA\n",
       "AAAAiMQ1AAAAAAAAiMQ1AAAAAAAAiMQ1AAAAAAAAiMQ1AAAAAAAAiMQ1AAAAAAAAiMQ1AAAAAAAA\n",
       "iMQ1AAAAAAAAiMQ1AAAAAAAAiMQ1AAAAAAAAiMQ1AAAAAAAAiMQ1AAAAAAAAiMQ1AAAAAAAAiMQ1\n",
       "AAAAAAAAiMQ1AAAAAAAAiMQ1AAAAAAAAiMQ1AAAAAAAAiMQ1AAAAAAAAiMQ1AAAAAAAAiMQ1AAAA\n",
       "AAAAiMQ1AAAAAAAAiMQ1AAAAAAAAiMQ1AAAAAAAAiMQ1AAAAAAAAiMQ1AAAAAAAAiMQ1AAAAAAAA\n",
       "iMQ1AAAAAAAAiMQ1AAAAAAAAiMQ1AAAAAAAAiMQ1AAAAAAAAiMQ1AAAAAAAAiMQ1AAAAAAAAiMQ1\n",
       "AAAAAAAAiMQ1AAAAAAAAiMQ1AAAAAAAAiD7OnLtnuO48YIfl5/CE62j/BvtvheXjz8z+M5iZOed1\n",
       "9wiXbJ9/xnX0Rdg+/+w/g+3zz4wX25dg+/wz83rCDu/33SNc8jq755/ZfwYzM3M+757gkrN8/pmZ\n",
       "s/1e2D7/zDzh4+LM7nM4s/9e3v48nZn9OzzheWSH+22ff/b/1vE/1wAAAAAAACAS1wAAAAAAACAS\n",
       "1wAAAAAAACAS1wAAAAAAACAS1wAAAAAAACAS1wAAAAAAACAS1wAAAAAAACAS1wAAAAAAACAS1wAA\n",
       "AAAAACAS1wAAAAAAACAS1wAAAAAAACAS1wAAAAAAACAS1wAAAAAAACAS1wAAAAAAACAS1wAAAAAA\n",
       "ACAS1wAAAAAAACAS1wAAAAAAACAS1wAAAAAAACAS1wAAAAAAACAS1wAAAAAAACAS1wAAAAAAACAS\n",
       "1wAAAAAAACAS1wAAAAAAACAS1wAAAAAAACAS1wAAAAAAACAS1wAAAAAAACAS1wAAAAAAACAS1wAA\n",
       "AAAAACAS1wAAAAAAACAS1wAAAAAAACAS1wAAAAAAACAS1wAAAAAAACAS1wAAAAAAACAS1wAAAAAA\n",
       "ACAS1wAAAAAAACAS1wAAAAAAACAS1wAAAAAAACAS1wAAAAAAACAS1wAAAAAAACAS1wAAAAAAACAS\n",
       "1wAAAAAAACAS1wAAAAAAACAS1wAAAAAAACAS1wAAAAAAACAS1wAAAAAAACAS1wAAAAAAACAS1wAA\n",
       "AAAAACAS1wAAAAAAACAS1wAAAAAAACAS1wAAAAAAACAS1wAAAAAAACAS1wAAAAAAACAS1wAAAAAA\n",
       "ACAS1wAAAAAAACAS1wAAAAAAACAS1wAAAAAAACAS1wAAAAAAACAS1wAAAAAAACAS1wAAAAAAACAS\n",
       "1wAAAAAAACD6mDl3z3DZscPtts8/M3P2r7D+FLbPP2OHL8H2+Wdm5rzunuD/vSe8E9ZfR9vnn3nG\n",
       "A2n5Dq/zvnuEy84DdpjtO7w/757gurN/h7P8HF5POIPZvcPr7P/78vN6wA7L74Xt8888Y4f177Xt\n",
       "88/s/76b2b/DE/7hYvkO+9/KAAAAAAAA8DsR1wAAAAAAACAS1wAAAAAAACAS1wAAAAAAACAS1wAA\n",
       "AAAAACAS1wAAAAAAACAS1wAAAAAAACAS1wAAAAAAACAS1wAAAAAAACAS1wAAAAAAACAS1wAAAAAA\n",
       "ACAS1wAAAAAAACAS1wAAAAAAACAS1wAAAAAAACAS1wAAAAAAACAS1wAAAAAAACAS1wAAAAAAACAS\n",
       "1wAAAAAAACAS1wAAAAAAACAS1wAAAAAAACAS1wAAAAAAACAS1wAAAAAAACAS1wAAAAAAACAS1wAA\n",
       "AAAAACAS1wAAAAAAACAS1wAAAAAAACAS1wAAAAAAACAS1wAAAAAAACAS1wAAAAAAACAS1wAAAAAA\n",
       "ACAS1wAAAAAAACAS1wAAAAAAACAS1wAAAAAAACAS1wAAAAAAACAS1wAAAAAAACAS1wAAAAAAACAS\n",
       "1wAAAAAAACAS1wAAAAAAACAS1wAAAAAAACAS1wAAAAAAACAS1wAAAAAAACAS1wAAAAAAACAS1wAA\n",
       "AAAAACAS1wAAAAAAACAS1wAAAAAAACAS1wAAAAAAACAS1wAAAAAAACAS1wAAAAAAACAS1wAAAAAA\n",
       "ACAS1wAAAAAAACAS1wAAAAAAACAS1wAAAAAAACAS1wAAAAAAACAS1wAAAAAAACAS1wAAAAAAACAS\n",
       "1wAAAAAAACAS1wAAAAAAACAS1wAAAAAAACAS1wAAAAAAACAS1wAAAAAAACAS1wAAAAAAACD6mHPu\n",
       "nuGyM3a42+7pf7X9DGb2n8MDHkdz5nX3CJeds3uH7fPPuI6+BNvnn3nADg94J8x7+RnMzLyXH8T2\n",
       "+Wdm3u+7J7hu+w5n+fwzM+fz7gmuW77DWT7/zP4dziP+vnz/e237dbT9WTQzD3mvLd9h+/wz87LD\n",
       "/bbPP7N+hyd8WQAAAAAAAMDvQlwDAAAAAACASFwDAAAAAACASFwDAAAAAACASFwDAAAAAACASFwD\n",
       "AAAAAACASFwDAAAAAACASFwDAAAAAACASFwDAAAAAACASFwDAAAAAACASFwDAAAAAACASFwDAAAA\n",
       "AACASFwDAAAAAACASFwDAAAAAACASFwDAAAAAACASFwDAAAAAACASFwDAAAAAACASFwDAAAAAACA\n",
       "SFwDAAAAAACASFwDAAAAAACASFwDAAAAAACASFwDAAAAAACASFwDAAAAAACASFwDAAAAAACASFwD\n",
       "AAAAAACASFwDAAAAAACASFwDAAAAAACASFwDAAAAAACASFwDAAAAAACASFwDAAAAAACASFwDAAAA\n",
       "AACASFwDAAAAAACASFwDAAAAAACASFwDAAAAAACASFwDAAAAAACASFwDAAAAAACASFwDAAAAAACA\n",
       "SFwDAAAAAACASFwDAAAAAACASFwDAAAAAACASFwDAAAAAACASFwDAAAAAACASFwDAAAAAACASFwD\n",
       "AAAAAACASFwDAAAAAACASFwDAAAAAACASFwDAAAAAACASFwDAAAAAACASFwDAAAAAACASFwDAAAA\n",
       "AACASFwDAAAAAACASFwDAAAAAACASFwDAAAAAACASFwDAAAAAACASFwDAAAAAACASFwDAAAAAACA\n",
       "SFwDAAAAAACASFwDAAAAAACASFwDAAAAAACASFwDAAAAAACASFwDAAAAAACA6GPm3D3Db2D/Dmf5\n",
       "Dtvnn3nCVTRzli9x5nX3CJdtP4OZ/ffC9vlnHnIdneX38/b5Z9bvsP4amll/BjOz/4F03ndPcN0D\n",
       "dngt3+H1/rx7hOuesMNZvsP2+WfW73Ae8ffly9/LM/uvo+Xzz8zM+dvdE1y3/L32jG+L3d93MzPz\n",
       "Xv5M3f5bbWb9Dk/4sgAAAAAAAIDfhbgGAAAAAAAAkbgGAAAAAAAAkbgGAAAAAAAAkbgGAAAAAAAA\n",
       "kbgGAAAAAAAAkbgGAAAAAAAAkbgGAAAAAAAAkbgGAAAAAAAAkbgGAAAAAAAAkbgGAAAAAAAAkbgG\n",
       "AAAAAAAAkbgGAAAAAAAAkbgGAAAAAAAAkbgGAAAAAAAAkbgGAAAAAAAAkbgGAAAAAAAAkbgGAAAA\n",
       "AAAAkbgGAAAAAAAAkbgGAAAAAAAAkbgGAAAAAAAAkbgGAAAAAAAAkbgGAAAAAAAAkbgGAAAAAAAA\n",
       "kbgGAAAAAAAAkbgGAAAAAAAAkbgGAAAAAAAAkbgGAAAAAAAAkbgGAAAAAAAAkbgGAAAAAAAAkbgG\n",
       "AAAAAAAAkbgGAAAAAAAAkbgGAAAAAAAAkbgGAAAAAAAAkbgGAAAAAAAAkbgGAAAAAAAAkbgGAAAA\n",
       "AAAAkbgGAAAAAAAAkbgGAAAAAAAAkbgGAAAAAAAAkbgGAAAAAAAAkbgGAAAAAAAAkbgGAAAAAAAA\n",
       "kbgGAAAAAAAAkbgGAAAAAAAAkbgGAAAAAAAAkbgGAAAAAAAAkbgGAAAAAAAAkbgGAAAAAAAAkbgG\n",
       "AAAAAAAAkbgGAAAAAAAAkbgGAAAAAAAAkbgGAAAAAAAAkbgGAAAAAAAAkbgGAAAAAAAAkbgGAAAA\n",
       "AAAAkbgGAAAAAAAAkbgGAAAAAAAAkbgGAAAAAAAAkbgGAAAAAAAAkbgGAAAAAAAA0ceZc/cMl53z\n",
       "gB3mffcIl5zXE85gv+07bJ9/xg5fgnNed49w2ZkH7LD8HLbPPzNz3st3eO//G7AHfKLOvJcvsX3+\n",
       "mZn37t8JM7N/h/N59wSXvR6wwzl/u3uEa7bPPzPnvXyHr/Z/W8zyfzuamZmzfIcHPE+fsMNr+zP1\n",
       "EWewf4ftz6PX9m/smfW/157wZQEAAAAAAAC/C3ENAAAAAAAAInENAAAAAAAAInENAAAAAP6PXXvL\n",
       "tRvJASBIDTz7X3D7quZjNpCADKspRKyARB29kAcAIBLXAAAAAAAAIBLXAAAAAAAAIBLXAAAAAAAA\n",
       "IBLXAAAAAAAAIBLXAAAAAAAAIBLXAAAAAAAAIBLXAAAAAAAAIBLXAAAAAAAAIBLXAAAAAAAAIBLX\n",
       "AAAAAAAAIBLXAAAAAAAAIBLXAAAAAAAAIBLXAAAAAAAAIBLXAAAAAAAAIBLXAAAAAAAAIBLXAAAA\n",
       "AAAAIBLXAAAAAAAAIBLXAAAAAAAAIBLXAAAAAAAAIBLXAAAAAAAAIBLXAAAAAAAAIBLXAAAAAAAA\n",
       "IBLXAAAAAAAAIBLXAAAAAAAAIBLXAAAAAAAAIBLXAAAAAAAAIBLXAAAAAAAAIBLXAAAAAAAAIBLX\n",
       "AAAAAAAAIBLXAAAAAAAAIBLXAAAAAAAAIBLXAAAAAAAAIBLXAAAAAAAAIBLXAAAAAAAAIBLXAAAA\n",
       "AAAAIBLXAAAAAAAAIBLXAAAAAAAAIBLXAAAAAAAAIBLXAAAAAAAAIBLXAAAAAAAAIBLXAAAAAAAA\n",
       "IBLXAAAAAAAAIBLXAAAAAAAAIBLXAAAAAAAAIBLXAAAAAAAAIBLXAAAAAAAAIBLXAAAAAAAAIBLX\n",
       "AAAAAAAAIBLXAAAAAAAAIBLXAAAAAAAAIBLXAAAAAAAAIBLXAAAAAAAAIBLXAAAAAAAAIBLXAAAA\n",
       "AAAAIBLXAAAAAAAAIBLXAAAAAAAAIBLXAAAAAAAAIPo1c96e4Q+43x7gD9h9Drun/79z9m+xfYMP\n",
       "HMH6M5iZOed6e4RHnMG/w/Ydts8/MzPLd/jEGdz7d9j+bL7O/u+E696/w5yftyd45gtncC8/g5n1\n",
       "O5zt18HM/mv5/H57gseuD/xHfvu1sH3+mW/scG3fYfv8M594P7qWv1vMB751tu+w/6kMAAAAAAAA\n",
       "f4m4BgAAAAAAAJG4BgAAAAAAAJG4BgAAAAAAAJG4BgAAAAAAAJG4BgAAAAAAAJG4BgAAAAAAAJG4\n",
       "BgAAAAAAAJG4BgAAAAAAAJG4BgAAAAAAAJG4BgAAAAAAAJG4BgAAAAAAAJG4BgAAAAAAAJG4BgAA\n",
       "AAAAAJG4BgAAAAAAAJG4BgAAAAAAAJG4BgAAAAAAAJG4BgAAAAAAAJG4BgAAAAAAAJG4BgAAAAAA\n",
       "AJG4BgAAAAAAAJG4BgAAAAAAAJG4BgAAAAAAAJG4BgAAAAAAAJG4BgAAAAAAAJG4BgAAAAAAAJG4\n",
       "BgAAAAAAAJG4BgAAAAAAAJG4BgAAAAAAAJG4BgAAAAAAAJG4BgAAAAAAAJG4BgAAAAAAAJG4BgAA\n",
       "AAAAAJG4BgAAAAAAAJG4BgAAAAAAAJG4BgAAAAAAAJG4BgAAAAAAAJG4BgAAAAAAAJG4BgAAAAAA\n",
       "AJG4BgAAAAAAAJG4BgAAAAAAAJG4BgAAAAAAAJG4BgAAAAAAAJG4BgAAAAAAAJG4BgAAAAAAAJG4\n",
       "BgAAAAAAAJG4BgAAAAAAAJG4BgAAAAAAAJG4BgAAAAAAAJG4BgAAAAAAAJG4BgAAAAAAAJG4BgAA\n",
       "AAAAAJG4BgAAAAAAAJG4BgAAAAAAAJG4BgAAAAAAAJG4BgAAAAAAAJG4BgAAAAAAAJG4BgAAAAAA\n",
       "AJG4BgAAAAAAAJG4BgAAAAAAANGvmfP2DI8dO7xu+/wzX7gSZs7yJZaPPzMz51xvj/DY9nP4xBl8\n",
       "YYfZvcMnzmD7Dtvnn5m5v7DD8qfCfb89wXNn/w7X8nO47p+3R3ju/H57gseu5Tuce/f8MzPzn+U7\n",
       "nP3/Lz8feCbMLN/hC9fyJ3bY/Wze/m40MzNn9xnMzP737O3fajPrd9j/ZgEAAAAAAAB/ibgGAAAA\n",
       "AAAAkbgGAAAAAAAAkbgGAAAAAAAAkbgGAAAAAAAAkbgGAAAAAAAAkbgGAAAAAAAAkbgGAAAAAAAA\n",
       "kbgGAAAAAAAAkbgGAAAAAAAAkbgGAAAAAAAAkbgGAAAAAAAAkbgGAAAAAAAAkbgGAAAAAAAAkbgG\n",
       "AAAAAAAAkbgGAAAAAAAAkbgGAAAAAAAAkbgGAAAAAAAAkbgGAAAAAAAAkbgGAAAAAAAAkbgGAAAA\n",
       "AAAAkbgGAAAAAAAAkbgGAAAAAAAAkbgGAAAAAAAAkbgGAAAAAAAAkbgGAAAAAAAAkbgGAAAAAAAA\n",
       "kbgGAAAAAAAAkbgGAAAAAAAAkbgGAAAAAAAAkbgGAAAAAAAAkbgGAAAAAAAAkbgGAAAAAAAAkbgG\n",
       "AAAAAAAAkbgGAAAAAAAAkbgGAAAAAAAAkbgGAAAAAAAAkbgGAAAAAAAAkbgGAAAAAAAAkbgGAAAA\n",
       "AAAAkbgGAAAAAAAAkbgGAAAAAAAAkbgGAAAAAAAAkbgGAAAAAAAAkbgGAAAAAAAAkbgGAAAAAAAA\n",
       "kbgGAAAAAAAAkbgGAAAAAAAAkbgGAAAAAMpKy7MAABjcSURBVAAAkbgGAAAAAAAAkbgGAAAAAAAA\n",
       "kbgGAAAAAAAAkbgGAAAAAAAAkbgGAAAAAAAAkbgGAAAAAAAAkbgGAAAAAAAAkbgGAAAAAAAAkbgG\n",
       "AAAAAAAAkbgGAAAAAAAAkbgGAAAAAAAAkbgGAAAAAAAA0a855+0ZHjtf2GHut0d45MwXzmC/7Tts\n",
       "n3/mIzuc6+0RHjmze/6ZmfsDP6Ttj+bt18HM/h3OvXv+mf1nMDOz/BX1GzfUe/shzMz98/YEz2yf\n",
       "f2auD+xw7t9vj/DMWT7/zPodzvnC/8s/8G5xlj/Xll8HM2OHf4MPPJevT7yjLt9h+/10Zv0OX3iz\n",
       "AAAAAAAAgL9CXAMAAAAAAIBIXAMAAAAAAIBIXAMAAAAAAIBIXAMAAAAAAIBIXAMAAAAAAIBIXAMA\n",
       "AAAAAIBIXAMAAAAAAIBIXAMAAAAAAIBIXAMAAAAAAIBIXAMAAAAAAIBIXAMAAAAAAIBIXAMAAAAA\n",
       "AIBIXAMAAAAAAIBIXAMAAAAAAIBIXAMAAAAAAIBIXAMAAAAAAIBIXAMAAAAAAIBIXAMAAAAAAIBI\n",
       "XAMAAAAAAIBIXAMAAAAAAIBIXAMAAAAAAIBIXAMAAAAAAIBIXAMAAAAAAIBIXAMAAAAAAIBIXAMA\n",
       "AAAAAIBIXAMAAAAAAIBIXAMAAAAAAIBIXAMAAAAAAIBIXAMAAAAAAIBIXAMAAAAAAIBIXAMAAAAA\n",
       "AIBIXAMAAAAAAIBIXAMAAAAAAIBIXAMAAAAAAIBIXAMAAAAAAIBIXAMAAAAAAIBIXAMAAAAAAIBI\n",
       "XAMAAAAAAIBIXAMAAAAAAIBIXAMAAAAAAIBIXAMAAAAAAIBIXAMAAAAAAIBIXAMAAAAAAIBIXAMA\n",
       "AAAAAIBIXAMAAAAAAIBIXAMAAAAAAIBIXAMAAAAAAIBIXAMAAAAAAIBIXAMAAAAAAIBIXAMAAAAA\n",
       "AIBIXAMAAAAAAIBIXAMAAAAAAIBIXAMAAAAAAIBIXAMAAAAAAIBIXAMAAAAAAIBIXAMAAAAAAIBI\n",
       "XAMAAAAAAIBIXAMAAAAAAIBIXAMAAAAAAIBIXAMAAAAAAIDo18x5e4Y/YP8OZ/kO2+ef+cgOy1fY\n",
       "Pv/MF+5GM/fbAzz0jd/R9fYIj52ze4ft88/MnHv5Dh84g9l+BjP7H2z39qfa2OFf4Lp/3h7huU/s\n",
       "8PvtCZ7ZPv/MnOU7XF/4f/n1hXeL3c+E7dfBzHzifrT92Xyd/WfwjXeL3fej9fPPzNy7Pzg/8GYB\n",
       "AAAAAAAAf4e4BgAAAAAAAJG4BgAAAAAAAJG4BgAAAAAAAJG4BgAAAAAAAJG4BgAAAAAAAJG4BgAA\n",
       "AAAAAJG4BgAAAAAAAJG4BgAAAAAAAJG4BgAAAAAAAJG4BgAAAAAAAJG4BgAAAAAAAJG4BgAAAAAA\n",
       "AJG4BgAAAAAAAJG4BgAAAAAAAJG4BgAAAAAAAJG4BgAAAAAAAJG4BgAAAAAAAJG4BgAAAAAAAJG4\n",
       "BgAAAAAAAJG4BgAAAAAAAJG4BgAAAAAAAJG4BgAAAAAAAJG4BgAAAAAAAJG4BgAAAAAAAJG4BgAA\n",
       "AAAAAJG4BgAAAAAAAJG4BgAAAAAAAJG4BgAAAAAAAJG4BgAAAAAAAJG4BgAAAAAAAJG4BgAAAAAA\n",
       "AJG4BgAAAAAAAJG4BgAAAAAAAJG4BgAAAAAAAJG4BgAAAAAAAJG4BgAAAAAAAJG4BgAAAAAAAJG4\n",
       "BgAAAAAAAJG4BgAAAAAAAJG4BgAAAAAAAJG4BgAAAAAAAJG4BgAAAAAAAJG4BgAAAAAAAJG4BgAA\n",
       "AAAAAJG4BgAAAAAAAJG4BgAAAAAAAJG4BgAAAAAAAJG4BgAAAAAAAJG4BgAAAAAAAJG4BgAAAAAA\n",
       "AJG4BgAAAAAAAJG4BgAAAAAAAJG4BgAAAAAAAJG4BgAAAAAAAJG4BgAAAAAAAJG4BgAAAAAAAJG4\n",
       "BgAAAAAAAJG4BgAAAAAAAJG4BgAAAAAAAJG4BgAAAAAAANGvM+ftGR47c789wmPbz2H7/DMzZ/8K\n",
       "609h+/wzH/kdnevtER65Z/f8M/vPYGb/Dtvnn5mZ5Tuce/f8MzNzPvA/tu2v2Wf7AjNz79/hun/e\n",
       "HuGZ7fPPzHX/fnuEx/b/jvafwVm+w7n2v1tcH3i3OGf5tXx2XwczH7ifzuy/p37iDD7wjrr9W+ED\n",
       "Z7D9e23/UxkAAAAAAAD+EnENAAAAAAAAInENAAAAAAAAInENAAAAAAAAInENAAAAAAAAInENAAAA\n",
       "AAAAInENAAAAAAAAInENAAAAAAAAInENAAAAAAAAInENAAAAAAAAInENAAAAAAAAInENAAAAAAAA\n",
       "InENAAAAAAAAInENAAAAAAAAInENAAAAAAAAInENAAAAAAAAInENAAAAAAAAInENAAAAAAAAInEN\n",
       "AAAAAAAAInENAAAAAAAAInENAAAAAAAAInENAAAAAAAAInENAAAAAAAAInENAAAAAAAAInENAAAA\n",
       "AAAAInENAAAAAAAAInENAAAAAAAAInENAAAAAAAAInENAAAAAAAAInENAAAAAAAAInENAAAAAAAA\n",
       "InENAAAAAAAAInENAAAAAAAAInENAAAAAAAAInENAAAAAAAAInENAAAAAAAAInENAAAAAAAAInEN\n",
       "AAAAAAAAInENAAAAAAAAInENAAAAAAAAInENAAAAAAAAInENAAAAAAAAInENAAAAAAAAInENAAAA\n",
       "AAAAInENAAAAAAAAInENAAAAAAAAInENAAAAAAAAInENAAAAAAAAInENAAAAAAAAInENAAAAAAAA\n",
       "InENAAAAAAAAInENAAAAAAAAInENAAAAAAAAInENAAAAAAAAInENAAAAAAAAInENAAAAAAAAInEN\n",
       "AAAAAAAAInENAAAAAAAAInENAAAAAAAAInENAAAAAAAAInENAAAAAAAAol8z5+0ZHjvnAzvM/fYI\n",
       "j5wv/I7eHuAP2L7DBy7lued6e4THth/DOR84Azu8bvv8MzPn3r3Duff/B2z7GczMLH9Fnbm3P9Vm\n",
       "rnv7Icyc5Ttc98/bIzz3iR1+vz3BM9vnn5k5/7w9wTMfeC6fa//70Zzl96NPXMsf2GH5c+0L7xbX\n",
       "9mt55gO/o93v2DOz/nvtA09lAAAAAAAA+DvENQAAAAAAAIjENQAAAAAAAIjENQAAAAAAAIjENQAA\n",
       "AAAAAIjENQAAAAAAAIjENQAAAAAAAIjENQAAAAAAAIjENQAAAAAAAIjENQAAAAAAAIjENQAAAAAA\n",
       "AIjENQAAAAAAAIjENQAAAAAAAIjENQAAAAAAAIjENQAAAAAAAIjENQAAAAAAAIjENQAAAAAAAIjE\n",
       "NQAAAAAAAIjENQAAAAAAAIjENQAAAAAAAIjENQAAAAAAAIjENQAAAAAAAIjENQAAAAAAAIjENQAA\n",
       "AAAAAIjENQAAAAAAAIjENQAAAAAAAIjENQAAAAAAAIjENQAAAAAAAIjENQAAAAAAAIjENQAAAAAA\n",
       "AIjENQAAAAAAAIjENQAAAAAAAIjENQAAAAAAAIjENQAAAAAAAIjENQAAAAAAAIjENQAAAAAAAIjE\n",
       "NQAAAAAAAIjENQAAAAAAAIjENQAAAAAAAIjENQAAAAAAAIjENQAAAAAAAIjENQAAAAAAAIjENQAA\n",
       "AAAAAIjENQAAAAAAAIjENQAAAAAAAIjENQAAAAAAAIjENQAAAAAAAIjENQAAAAAAAIjENQAAAAAA\n",
       "AIjENQAAAAAAAIjENQAAAAAAAIjENQAAAAAAAIjENQAAAAAAAIjENQAAAAAAAIjENQAAAAAAAIjE\n",
       "NQAAAAAAAIjENQAAAAAAAIjENQAAAAAAAIjENQAAAAAAAIjENQAAAAAAAIh+zZy3Z/gD9u9wlu9w\n",
       "rt3zz8yc84Ud3p7gmfvtAf6A7Wcws/+O+o0zuN4e4bFzdu9w7t3zz+w/g9k+/8zMF35Hy3e47g88\n",
       "FO6ftyd4bvsO2+efmesTO/x+e4RHzvnn7REeu+7/vj3CI194x57rA/+RP7u//K97/7U8y++nM/uf\n",
       "CV94t/jGDrvvR+vnn5lZ/r32gacyAAAAAAAA/B3iGgAAAAAAAETiGgAAAAAAAETiGgAAAAAAAETi\n",
       "GgAAAAAAAETiGgAAAAAAAETiGgAAAAAAAETiGgAAAAAAAETiGgAAAAAAAETiGgAAAAAAAETiGgAA\n",
       "AAAAAETiGgAAAAAAAETiGgAAAAAAAETiGgAAAAAAAETiGgAAAAAAAETiGgAAAAAAAETiGgAAAAAA\n",
       "AETiGgAAAAAAAETiGgAAAAAAAETiGgAAAAAAAETiGgAAAAAAAETiGgAAAAAAAETiGgAAAAAAAETi\n",
       "GgAAAAAAAETiGgAAAAAAAETiGgAAAAAAAETiGgAAAAAAAETiGgAAAAAAAETiGgAAAAAAAETiGgAA\n",
       "AAAAAETiGgAAAAAAAETiGgAAAAAAAETiGgAAAAAAAETiGgAAAAAAAETiGgAAAAAAAETiGgAAAAAA\n",
       "AETiGgAAAAAAAETiGgAAAAAAAETiGgAAAAAAAETiGgAAAAAAAETiGgAAAAAAAETiGgAAAAAAAETi\n",
       "GgAAAAAAAETiGgAAAAAAAETiGgAAAAAAAETiGgAAAAAAAETiGgAAAAAAAETiGgAAAAAAAETiGgAA\n",
       "AAAAAETiGgAAAAAAAETiGgAAAAAAAETiGgAAAAAAAETiGgAAAAAAAETiGgAAAAAAAETiGgAAAAAA\n",
       "AETiGgAAAAAAAETiGgAAAAAAAETiGgAAAAAAAETiGgAAAAAAAETiGgAAAAAAAETiGgAAAAAAAES/\n",
       "Zs7bMzx25n57hMe277B9/pkvXAkzZ/kW51xvj/DY7hP4v3v5Odyze/6ZmfsDP6Ttv6NP3I/u3f+h\n",
       "Orcz+FfYfg73/nfUL+xwLd/hun/eHuG5+/fbEzy3fIfrZ/f8MzPnP/+8PcJDy59pMzPX/h2us/uZ\n",
       "sP1eNDNz3duv5Vl/Dl94t7h+PrDD8nfU2X4/nVn/rfOBL34AAAAAAAD4O8Q1AAAAAAAAiMQ1AAAA\n",
       "AAAAiMQ1AAAAAAAAiMQ1AAAAAAAAiMQ1AAAAAAAAiMQ1AAAAAAAAiMQ1AAAAAAAAiMQ1AAAAAAAA\n",
       "iMQ1AAAAAAAAiMQ1AAAAAAAAiMQ1AAAAAAAAiMQ1AAAAAAAAiMQ1AAAAAAAAiMQ1AAAAAAAAiMQ1\n",
       "AAAAAAAAiMQ1AAAAAAAAiMQ1AAAAAAAAiMQ1AAAAAAAAiMQ1AAAAAAAAiMQ1AAAAAAAAiMQ1AAAA\n",
       "AAAAiMQ1AAAAAAAAiMQ1AAAAAAAAiMQ1AAAAAAAAiMQ1AAAAAAAAiMQ1AAAAAAAAiMQ1AAAAAAAA\n",
       "iMQ1AAAAAAAAiMQ1AAAAAAAAiMQ1AAAAAAAAiMQ1AAAAAAAAiMQ1AAAAAAAAiMQ1AAAAAAAAiMQ1\n",
       "AAAAAAAAiMQ1AAAAAAAAiMQ1AAAAAAAAiMQ1AAAAAAAAiMQ1AAAAAAAAiMQ1AAAAAAAAiMQ1AAAA\n",
       "AAAAiMQ1AAAAAAAAiMQ1AAAAAAAAiMQ1AAAAAAAAiMQ1AAAAAAAAiMQ1AAAAAAAAiMQ1AAAAAAAA\n",
       "iMQ1AAAAAAAAiMQ1AAAAAAAAiMQ1AAAAAAAAiMQ1AAAAAAAAiMQ1AAAAAAAAiMQ1AAAAAAAAiMQ1\n",
       "AAAAAAAAiMQ1AAAAAAAAiMQ1AAAAAAAAiMQ1AAAAAAAAiMQ1AAAAAAAAiMQ1AAAAAAAAiMQ1AAAA\n",
       "AAAAiMQ1AAAAAAAAiH7NOW/P8Nixw+vu2T3/zEd2WL7C8vFnZv8ZzOw/h3Out0d4zA7v2z7/zP4d\n",
       "zr17/pmZ+cQObw/w0M/2p9rM3NsPYWZ+ft6e4Jl7+fwzc20/g5m57t9vj/DIWT7/zMws3+GaDzyX\n",
       "rw/8R/4svx8tvw5mZuZn/w7X9mfz9vlnvvGOuv0cPnEGu7/XPvBUBgAAAAAAgL9DXAMAAAAAAIBI\n",
       "XAMAAAAAAIBIXAMAAAAAAIBIXAMAAAAAAIBIXAMAAAAAAIBIXAMAAAAAAIBIXAMAAAAAAIBIXAMA\n",
       "AAAAAIBIXAMAAAAAAIBIXAMAAPhfu3aU2zgSA1CQAnL/C+9YPR97gQc4GIFC1QlItJWW8wwAAACR\n",
       "uAYAAAAAAACRuAYAAAAAAACRuAYAAAAAAACRuAYAAAAAAACRuAYAAAAAAACRuAYAAAAAAACRuAYA\n",
       "AAAAAACRuAYAAAAAAACRuAYAAAAAAACRuAYAAAAAAACRuAYAAAAAAACRuAYAAAAAAACRuAYAAAAA\n",
       "AACRuAYAAAAAAACRuAYAAAAAAACRuAYAAAAAAACRuAYAAAAAAACRuAYAAAAAAACRuAYAAAAAAACR\n",
       "uAYAAAAAAACRuAYAAAAAAACRuAYAAAAAAACRuAYAAAAAAACRuAYAAAAAAACRuAYAAAAAAACRuAYA\n",
       "AAAAAACRuAYAAAAAAACRuAYAAAAAAACRuAYAAAAAAACRuAYAAAAAAACRuAYAAAAAAACRuAYAAAAA\n",
       "AACRuAYAAAAAAACRuAYAAAAAAACRuAYAAAAAAACRuAYAAAAAAACRuAYAAAAAAACRuAYAAAAAAACR\n",
       "uAYAAAAAAACRuAYAAAAAAACRuAYAAAAAAACRuAYAAAAAAACRuAYAAAAAAACRuAYAAAAAAACRuAYA\n",
       "AAAAAACRuAYAAAAAAACRuAYAAAAAAACRuAYAAAAAAACRuAYAAAAAAACRuAYAAAAAAADRz5nz9Ay/\n",
       "YP8OZ+6nR/jKGz5H79hht7N9gZk5cz09wtfus3uH3X9N/7f9DGZmzvIdts8/M3Pu3Tucs/83YOe2\n",
       "w9PO/Xl6hK9dnxfcbNvP4bN8/pmZ+8/TE3zvs3uH6/7v6RG+9/l5eoKvvODr5sy1+16emZmz+157\n",
       "w7N8veBO2L7DtfxOm5n973czM9vfs7fPPzNz776dX3ArAwAAAAAAwL8hrgEAAAAAAEAkrgEAAAAA\n",
       "AEAkrgEAAAAAAEAkrgEAAAAAAEAkrgEAAAAAAEAkrgEAAAAAAEAkrgEAAAAAAEAkrgEAAAAAAEAk\n",
       "rgEAAAAAAEAkrgEAAAAAAEAkrgEAAAAAAEAkrgEAAAAAAEAkrgEAAAAAAEAkrgEAAAAAAEAkrgEA\n",
       "AAAAAEAkrgEAAAAAAEAkrgEAAAAAAEAkrgEAAAAAAEAkrgEAAAAAAEAkrgEAAAAAAEAkrgEAAAAA\n",
       "AEAkrgEAAAAAAEAkrgEAAAAAAEAkrgEAAAAAAEAkrgEAAAAAAEAkrgEAAAAAAEAkrgEAAAAAAEAk\n",
       "rgEAAAAAAEAkrgEAAAAAAEAkrgEAAAAAAEAkrgEAAAAAAEAkrgEAAAAAAEAkrgEAAAAAAEAkrgEA\n",
       "AAAAAEAkrgEAAAAAAEAkrgEAAAAAAEAkrgEAAAAAAEAkrgEAAAAAAEAkrgEAAAAAAEAkrgEAAAAA\n",
       "AEAkrgEAAAAAAEAkrgEAAAAAAEAkrgEAAAAAAEAkrgEAAAAAAEAkrgEAAAAAAEAkrgEAAAAAAEAk\n",
       "rgEAAAAAAEAkrgEAAAAAAEAkrgEAAAAAAEAkrgEAAAAAAEAkrgEAAAAAAEAkrgEAAAAAAEAkrgEA\n",
       "AAAAAEAkrgEAAAAAAEAkrgEAAAAAAEAkrgEAAAAAAEAkrgEAAAAAAEAkrgEAAAAAAEAkrgEAAAAA\n",
       "AEAkrgEAAAAAAED08/QAv+HM/fQIv2D3Dm84g3OenuB723fY/ynafwYzM9tXOOd6eoSvndm/w738\n",
       "HO57/++P1j8L9/L5Z+a8YIf153Bvv9Vm5n7BG9LyHa778/QIX7s+L9jh/vP0CF85y+efmZnlO1zX\n",
       "8jttZs4LdrjO7jth+3MwM+/Y4bN8hze8W7xgh/XnsPwde2Zm+5Ww/z9HAAAAAAAA8I+IawAAAAAA\n",
       "ABCJawAAAAAAABCJawAAAAAAABCJawAAAAAAABCJawAAAAAAABCJawAAAAAAABCJawAAAAAAABCJ\n",
       "awAAAAAAABCJawAAAAAAABCJawAAAAAAABCJawAAAAAAABCJawAAAAAAABCJawAAAAAAABCJawAA\n",
       "AAAAABCJawAAAAAAABCJawAAAAAAABCJawAAAAAAABCJawAAAAAAABCJawAAAAAAABCJawAAAAAA\n",
       "ABCJawAAAAAAABCJawAAAAAAABCJawAAAAAAABCJawAAAAAAABCJawAAAAAAABCJawAAAAAAABCJ\n",
       "awAAAAAAABCJawAAAAAAABCJawAAAAAAABCJawAAAAAAABCJawAAAAAAABCJawAAAAAAABCJawAA\n",
       "AAAAABCJawAAAAAAABCJawAAAAAAABCJawAAAAAAABCJawAAAAAAABCJawAAAAAAABCJawAAAAAA\n",
       "ABCJawAAAAAAABCJawAAAAAAABCJawAAAAAAABCJawAAAAAAABCJawAAAAAAABCJawAAAAAAABCJ\n",
       "awAAAAAAABCJawAAAAAAABCJawAAAAAAABCJawAAAAAAABCJawAAAAAAABCJawAAAAAAABCJawAA\n",
       "AAAAABCJawAAAAAAABCJawAAAAAAABCJawAAAAAAABCJawAAAAAAABCJawAAAAAAABCJawAAAAAA\n",
       "ABCJawAAAAAAABD9BUJ4JYnsPquYAAAAAElFTkSuQmCC\n",
       "\" transform=\"translate(310, 86)\"/>\n",
       "</g>\n",
       "<circle clip-path=\"url(#clip792)\" cx=\"413.809\" cy=\"522.733\" r=\"14.4\" fill=\"#e26f46\" fill-rule=\"evenodd\" fill-opacity=\"1\" stroke=\"#000000\" stroke-opacity=\"1\" stroke-width=\"3.2\"/>\n",
       "<circle clip-path=\"url(#clip792)\" cx=\"1264.76\" cy=\"1140.85\" r=\"14.4\" fill=\"#e26f46\" fill-rule=\"evenodd\" fill-opacity=\"1\" stroke=\"#000000\" stroke-opacity=\"1\" stroke-width=\"3.2\"/>\n",
       "<circle clip-path=\"url(#clip792)\" cx=\"1690.23\" cy=\"831.793\" r=\"14.4\" fill=\"#e26f46\" fill-rule=\"evenodd\" fill-opacity=\"1\" stroke=\"#000000\" stroke-opacity=\"1\" stroke-width=\"3.2\"/>\n",
       "<circle clip-path=\"url(#clip792)\" cx=\"839.283\" cy=\"213.673\" r=\"14.4\" fill=\"#e26f46\" fill-rule=\"evenodd\" fill-opacity=\"1\" stroke=\"#000000\" stroke-opacity=\"1\" stroke-width=\"3.2\"/>\n",
       "<circle clip-path=\"url(#clip792)\" cx=\"1052.02\" cy=\"986.323\" r=\"14.4\" fill=\"#e26f46\" fill-rule=\"evenodd\" fill-opacity=\"1\" stroke=\"#000000\" stroke-opacity=\"1\" stroke-width=\"3.2\"/>\n",
       "<circle clip-path=\"url(#clip792)\" cx=\"1902.97\" cy=\"368.203\" r=\"14.4\" fill=\"#e26f46\" fill-rule=\"evenodd\" fill-opacity=\"1\" stroke=\"#000000\" stroke-opacity=\"1\" stroke-width=\"3.2\"/>\n",
       "<circle clip-path=\"url(#clip792)\" cx=\"1477.49\" cy=\"677.263\" r=\"14.4\" fill=\"#e26f46\" fill-rule=\"evenodd\" fill-opacity=\"1\" stroke=\"#000000\" stroke-opacity=\"1\" stroke-width=\"3.2\"/>\n",
       "<circle clip-path=\"url(#clip792)\" cx=\"626.546\" cy=\"1295.38\" r=\"14.4\" fill=\"#e26f46\" fill-rule=\"evenodd\" fill-opacity=\"1\" stroke=\"#000000\" stroke-opacity=\"1\" stroke-width=\"3.2\"/>\n",
       "<circle clip-path=\"url(#clip792)\" cx=\"732.914\" cy=\"909.058\" r=\"14.4\" fill=\"#e26f46\" fill-rule=\"evenodd\" fill-opacity=\"1\" stroke=\"#000000\" stroke-opacity=\"1\" stroke-width=\"3.2\"/>\n",
       "<circle clip-path=\"url(#clip792)\" cx=\"1583.86\" cy=\"290.938\" r=\"14.4\" fill=\"#e26f46\" fill-rule=\"evenodd\" fill-opacity=\"1\" stroke=\"#000000\" stroke-opacity=\"1\" stroke-width=\"3.2\"/>\n",
       "<circle clip-path=\"url(#clip792)\" cx=\"2009.34\" cy=\"599.998\" r=\"14.4\" fill=\"#e26f46\" fill-rule=\"evenodd\" fill-opacity=\"1\" stroke=\"#000000\" stroke-opacity=\"1\" stroke-width=\"3.2\"/>\n",
       "<circle clip-path=\"url(#clip792)\" cx=\"1158.39\" cy=\"1218.12\" r=\"14.4\" fill=\"#e26f46\" fill-rule=\"evenodd\" fill-opacity=\"1\" stroke=\"#000000\" stroke-opacity=\"1\" stroke-width=\"3.2\"/>\n",
       "<circle clip-path=\"url(#clip792)\" cx=\"945.651\" cy=\"445.468\" r=\"14.4\" fill=\"#e26f46\" fill-rule=\"evenodd\" fill-opacity=\"1\" stroke=\"#000000\" stroke-opacity=\"1\" stroke-width=\"3.2\"/>\n",
       "<circle clip-path=\"url(#clip792)\" cx=\"1796.6\" cy=\"1063.59\" r=\"14.4\" fill=\"#e26f46\" fill-rule=\"evenodd\" fill-opacity=\"1\" stroke=\"#000000\" stroke-opacity=\"1\" stroke-width=\"3.2\"/>\n",
       "<circle clip-path=\"url(#clip792)\" cx=\"1371.12\" cy=\"754.528\" r=\"14.4\" fill=\"#e26f46\" fill-rule=\"evenodd\" fill-opacity=\"1\" stroke=\"#000000\" stroke-opacity=\"1\" stroke-width=\"3.2\"/>\n",
       "<circle clip-path=\"url(#clip792)\" cx=\"520.177\" cy=\"136.408\" r=\"14.4\" fill=\"#e26f46\" fill-rule=\"evenodd\" fill-opacity=\"1\" stroke=\"#000000\" stroke-opacity=\"1\" stroke-width=\"3.2\"/>\n",
       "<circle clip-path=\"url(#clip792)\" cx=\"466.993\" cy=\"793.161\" r=\"14.4\" fill=\"#e26f46\" fill-rule=\"evenodd\" fill-opacity=\"1\" stroke=\"#000000\" stroke-opacity=\"1\" stroke-width=\"3.2\"/>\n",
       "<circle clip-path=\"url(#clip792)\" cx=\"1317.94\" cy=\"175.04\" r=\"14.4\" fill=\"#e26f46\" fill-rule=\"evenodd\" fill-opacity=\"1\" stroke=\"#000000\" stroke-opacity=\"1\" stroke-width=\"3.2\"/>\n",
       "<circle clip-path=\"url(#clip792)\" cx=\"1743.41\" cy=\"484.101\" r=\"14.4\" fill=\"#e26f46\" fill-rule=\"evenodd\" fill-opacity=\"1\" stroke=\"#000000\" stroke-opacity=\"1\" stroke-width=\"3.2\"/>\n",
       "<circle clip-path=\"url(#clip792)\" cx=\"892.467\" cy=\"1102.22\" r=\"14.4\" fill=\"#e26f46\" fill-rule=\"evenodd\" fill-opacity=\"1\" stroke=\"#000000\" stroke-opacity=\"1\" stroke-width=\"3.2\"/>\n",
       "<circle clip-path=\"url(#clip792)\" cx=\"1105.2\" cy=\"638.631\" r=\"14.4\" fill=\"#e26f46\" fill-rule=\"evenodd\" fill-opacity=\"1\" stroke=\"#000000\" stroke-opacity=\"1\" stroke-width=\"3.2\"/>\n",
       "<circle clip-path=\"url(#clip792)\" cx=\"1956.15\" cy=\"1256.75\" r=\"14.4\" fill=\"#e26f46\" fill-rule=\"evenodd\" fill-opacity=\"1\" stroke=\"#000000\" stroke-opacity=\"1\" stroke-width=\"3.2\"/>\n",
       "<circle clip-path=\"url(#clip792)\" cx=\"1530.68\" cy=\"947.691\" r=\"14.4\" fill=\"#e26f46\" fill-rule=\"evenodd\" fill-opacity=\"1\" stroke=\"#000000\" stroke-opacity=\"1\" stroke-width=\"3.2\"/>\n",
       "<circle clip-path=\"url(#clip792)\" cx=\"679.73\" cy=\"329.571\" r=\"14.4\" fill=\"#e26f46\" fill-rule=\"evenodd\" fill-opacity=\"1\" stroke=\"#000000\" stroke-opacity=\"1\" stroke-width=\"3.2\"/>\n",
       "<circle clip-path=\"url(#clip792)\" cx=\"573.361\" cy=\"715.896\" r=\"14.4\" fill=\"#e26f46\" fill-rule=\"evenodd\" fill-opacity=\"1\" stroke=\"#000000\" stroke-opacity=\"1\" stroke-width=\"3.2\"/>\n",
       "<circle clip-path=\"url(#clip792)\" cx=\"1424.31\" cy=\"1334.02\" r=\"14.4\" fill=\"#e26f46\" fill-rule=\"evenodd\" fill-opacity=\"1\" stroke=\"#000000\" stroke-opacity=\"1\" stroke-width=\"3.2\"/>\n",
       "<circle clip-path=\"url(#clip792)\" cx=\"1849.78\" cy=\"1024.96\" r=\"14.4\" fill=\"#e26f46\" fill-rule=\"evenodd\" fill-opacity=\"1\" stroke=\"#000000\" stroke-opacity=\"1\" stroke-width=\"3.2\"/>\n",
       "<circle clip-path=\"url(#clip792)\" cx=\"998.835\" cy=\"406.836\" r=\"14.4\" fill=\"#e26f46\" fill-rule=\"evenodd\" fill-opacity=\"1\" stroke=\"#000000\" stroke-opacity=\"1\" stroke-width=\"3.2\"/>\n",
       "<circle clip-path=\"url(#clip792)\" cx=\"786.098\" cy=\"870.426\" r=\"14.4\" fill=\"#e26f46\" fill-rule=\"evenodd\" fill-opacity=\"1\" stroke=\"#000000\" stroke-opacity=\"1\" stroke-width=\"3.2\"/>\n",
       "<circle clip-path=\"url(#clip792)\" cx=\"1637.05\" cy=\"252.305\" r=\"14.4\" fill=\"#e26f46\" fill-rule=\"evenodd\" fill-opacity=\"1\" stroke=\"#000000\" stroke-opacity=\"1\" stroke-width=\"3.2\"/>\n",
       "<circle clip-path=\"url(#clip792)\" cx=\"1211.57\" cy=\"561.366\" r=\"14.4\" fill=\"#e26f46\" fill-rule=\"evenodd\" fill-opacity=\"1\" stroke=\"#000000\" stroke-opacity=\"1\" stroke-width=\"3.2\"/>\n",
       "<circle clip-path=\"url(#clip792)\" cx=\"360.625\" cy=\"1179.49\" r=\"14.4\" fill=\"#e26f46\" fill-rule=\"evenodd\" fill-opacity=\"1\" stroke=\"#000000\" stroke-opacity=\"1\" stroke-width=\"3.2\"/>\n",
       "<circle clip-path=\"url(#clip792)\" cx=\"373.921\" cy=\"1092.56\" r=\"14.4\" fill=\"#e26f46\" fill-rule=\"evenodd\" fill-opacity=\"1\" stroke=\"#000000\" stroke-opacity=\"1\" stroke-width=\"3.2\"/>\n",
       "<circle clip-path=\"url(#clip792)\" cx=\"1224.87\" cy=\"474.442\" r=\"14.4\" fill=\"#e26f46\" fill-rule=\"evenodd\" fill-opacity=\"1\" stroke=\"#000000\" stroke-opacity=\"1\" stroke-width=\"3.2\"/>\n",
       "<circle clip-path=\"url(#clip792)\" cx=\"1650.34\" cy=\"165.382\" r=\"14.4\" fill=\"#e26f46\" fill-rule=\"evenodd\" fill-opacity=\"1\" stroke=\"#000000\" stroke-opacity=\"1\" stroke-width=\"3.2\"/>\n",
       "<circle clip-path=\"url(#clip792)\" cx=\"799.394\" cy=\"783.503\" r=\"14.4\" fill=\"#e26f46\" fill-rule=\"evenodd\" fill-opacity=\"1\" stroke=\"#000000\" stroke-opacity=\"1\" stroke-width=\"3.2\"/>\n",
       "<circle clip-path=\"url(#clip792)\" cx=\"1012.13\" cy=\"319.912\" r=\"14.4\" fill=\"#e26f46\" fill-rule=\"evenodd\" fill-opacity=\"1\" stroke=\"#000000\" stroke-opacity=\"1\" stroke-width=\"3.2\"/>\n",
       "<circle clip-path=\"url(#clip792)\" cx=\"1863.08\" cy=\"938.033\" r=\"14.4\" fill=\"#e26f46\" fill-rule=\"evenodd\" fill-opacity=\"1\" stroke=\"#000000\" stroke-opacity=\"1\" stroke-width=\"3.2\"/>\n",
       "<circle clip-path=\"url(#clip792)\" cx=\"1437.61\" cy=\"1247.09\" r=\"14.4\" fill=\"#e26f46\" fill-rule=\"evenodd\" fill-opacity=\"1\" stroke=\"#000000\" stroke-opacity=\"1\" stroke-width=\"3.2\"/>\n",
       "<circle clip-path=\"url(#clip792)\" cx=\"586.657\" cy=\"628.973\" r=\"14.4\" fill=\"#e26f46\" fill-rule=\"evenodd\" fill-opacity=\"1\" stroke=\"#000000\" stroke-opacity=\"1\" stroke-width=\"3.2\"/>\n",
       "<circle clip-path=\"url(#clip792)\" cx=\"334.032\" cy=\"1353.33\" r=\"14.4\" fill=\"#e26f46\" fill-rule=\"evenodd\" fill-opacity=\"1\" stroke=\"#000000\" stroke-opacity=\"1\" stroke-width=\"3.2\"/>\n",
       "<circle clip-path=\"url(#clip792)\" cx=\"2035.93\" cy=\"1353.33\" r=\"14.4\" fill=\"#e26f46\" fill-rule=\"evenodd\" fill-opacity=\"1\" stroke=\"#000000\" stroke-opacity=\"1\" stroke-width=\"3.2\"/>\n",
       "<circle clip-path=\"url(#clip792)\" cx=\"334.032\" cy=\"1353.33\" r=\"14.4\" fill=\"#e26f46\" fill-rule=\"evenodd\" fill-opacity=\"1\" stroke=\"#000000\" stroke-opacity=\"1\" stroke-width=\"3.2\"/>\n",
       "<circle clip-path=\"url(#clip792)\" cx=\"2035.93\" cy=\"1353.33\" r=\"14.4\" fill=\"#e26f46\" fill-rule=\"evenodd\" fill-opacity=\"1\" stroke=\"#000000\" stroke-opacity=\"1\" stroke-width=\"3.2\"/>\n",
       "<circle clip-path=\"url(#clip792)\" cx=\"2035.93\" cy=\"117.092\" r=\"14.4\" fill=\"#e26f46\" fill-rule=\"evenodd\" fill-opacity=\"1\" stroke=\"#000000\" stroke-opacity=\"1\" stroke-width=\"3.2\"/>\n",
       "<circle clip-path=\"url(#clip792)\" cx=\"2035.93\" cy=\"117.092\" r=\"14.4\" fill=\"#e26f46\" fill-rule=\"evenodd\" fill-opacity=\"1\" stroke=\"#000000\" stroke-opacity=\"1\" stroke-width=\"3.2\"/>\n",
       "<circle clip-path=\"url(#clip792)\" cx=\"2035.93\" cy=\"117.092\" r=\"14.4\" fill=\"#e26f46\" fill-rule=\"evenodd\" fill-opacity=\"1\" stroke=\"#000000\" stroke-opacity=\"1\" stroke-width=\"3.2\"/>\n",
       "<circle clip-path=\"url(#clip792)\" cx=\"334.032\" cy=\"117.092\" r=\"14.4\" fill=\"#e26f46\" fill-rule=\"evenodd\" fill-opacity=\"1\" stroke=\"#000000\" stroke-opacity=\"1\" stroke-width=\"3.2\"/>\n",
       "<circle clip-path=\"url(#clip792)\" cx=\"2035.93\" cy=\"117.092\" r=\"14.4\" fill=\"#e26f46\" fill-rule=\"evenodd\" fill-opacity=\"1\" stroke=\"#000000\" stroke-opacity=\"1\" stroke-width=\"3.2\"/>\n",
       "<circle clip-path=\"url(#clip792)\" cx=\"2035.93\" cy=\"1353.33\" r=\"14.4\" fill=\"#e26f46\" fill-rule=\"evenodd\" fill-opacity=\"1\" stroke=\"#000000\" stroke-opacity=\"1\" stroke-width=\"3.2\"/>\n",
       "<circle clip-path=\"url(#clip792)\" cx=\"2035.93\" cy=\"117.092\" r=\"14.4\" fill=\"#e26f46\" fill-rule=\"evenodd\" fill-opacity=\"1\" stroke=\"#000000\" stroke-opacity=\"1\" stroke-width=\"3.2\"/>\n",
       "<circle clip-path=\"url(#clip792)\" cx=\"334.032\" cy=\"117.092\" r=\"14.4\" fill=\"#e26f46\" fill-rule=\"evenodd\" fill-opacity=\"1\" stroke=\"#000000\" stroke-opacity=\"1\" stroke-width=\"3.2\"/>\n",
       "<circle clip-path=\"url(#clip792)\" cx=\"2035.93\" cy=\"117.092\" r=\"14.4\" fill=\"#e26f46\" fill-rule=\"evenodd\" fill-opacity=\"1\" stroke=\"#000000\" stroke-opacity=\"1\" stroke-width=\"3.2\"/>\n",
       "<circle clip-path=\"url(#clip792)\" cx=\"334.032\" cy=\"117.092\" r=\"14.4\" fill=\"#e26f46\" fill-rule=\"evenodd\" fill-opacity=\"1\" stroke=\"#000000\" stroke-opacity=\"1\" stroke-width=\"3.2\"/>\n",
       "<circle clip-path=\"url(#clip792)\" cx=\"2035.93\" cy=\"1353.33\" r=\"14.4\" fill=\"#e26f46\" fill-rule=\"evenodd\" fill-opacity=\"1\" stroke=\"#000000\" stroke-opacity=\"1\" stroke-width=\"3.2\"/>\n",
       "<circle clip-path=\"url(#clip792)\" cx=\"2035.93\" cy=\"117.092\" r=\"14.4\" fill=\"#e26f46\" fill-rule=\"evenodd\" fill-opacity=\"1\" stroke=\"#000000\" stroke-opacity=\"1\" stroke-width=\"3.2\"/>\n",
       "<circle clip-path=\"url(#clip792)\" cx=\"2035.93\" cy=\"117.092\" r=\"14.4\" fill=\"#e26f46\" fill-rule=\"evenodd\" fill-opacity=\"1\" stroke=\"#000000\" stroke-opacity=\"1\" stroke-width=\"3.2\"/>\n",
       "<circle clip-path=\"url(#clip792)\" cx=\"2035.93\" cy=\"1353.33\" r=\"14.4\" fill=\"#e26f46\" fill-rule=\"evenodd\" fill-opacity=\"1\" stroke=\"#000000\" stroke-opacity=\"1\" stroke-width=\"3.2\"/>\n",
       "<circle clip-path=\"url(#clip792)\" cx=\"334.032\" cy=\"117.092\" r=\"14.4\" fill=\"#e26f46\" fill-rule=\"evenodd\" fill-opacity=\"1\" stroke=\"#000000\" stroke-opacity=\"1\" stroke-width=\"3.2\"/>\n",
       "<circle clip-path=\"url(#clip792)\" cx=\"2035.93\" cy=\"117.092\" r=\"14.4\" fill=\"#e26f46\" fill-rule=\"evenodd\" fill-opacity=\"1\" stroke=\"#000000\" stroke-opacity=\"1\" stroke-width=\"3.2\"/>\n",
       "<circle clip-path=\"url(#clip792)\" cx=\"2035.93\" cy=\"1353.33\" r=\"14.4\" fill=\"#e26f46\" fill-rule=\"evenodd\" fill-opacity=\"1\" stroke=\"#000000\" stroke-opacity=\"1\" stroke-width=\"3.2\"/>\n",
       "<circle clip-path=\"url(#clip792)\" cx=\"334.032\" cy=\"1353.33\" r=\"14.4\" fill=\"#e26f46\" fill-rule=\"evenodd\" fill-opacity=\"1\" stroke=\"#000000\" stroke-opacity=\"1\" stroke-width=\"3.2\"/>\n",
       "<circle clip-path=\"url(#clip792)\" cx=\"1229.14\" cy=\"1353.33\" r=\"14.4\" fill=\"#e26f46\" fill-rule=\"evenodd\" fill-opacity=\"1\" stroke=\"#000000\" stroke-opacity=\"1\" stroke-width=\"3.2\"/>\n",
       "<circle clip-path=\"url(#clip792)\" cx=\"2035.93\" cy=\"117.092\" r=\"14.4\" fill=\"#e26f46\" fill-rule=\"evenodd\" fill-opacity=\"1\" stroke=\"#000000\" stroke-opacity=\"1\" stroke-width=\"3.2\"/>\n",
       "<circle clip-path=\"url(#clip792)\" cx=\"668.453\" cy=\"117.092\" r=\"14.4\" fill=\"#e26f46\" fill-rule=\"evenodd\" fill-opacity=\"1\" stroke=\"#000000\" stroke-opacity=\"1\" stroke-width=\"3.2\"/>\n",
       "<circle clip-path=\"url(#clip792)\" cx=\"2035.93\" cy=\"117.092\" r=\"14.4\" fill=\"#e26f46\" fill-rule=\"evenodd\" fill-opacity=\"1\" stroke=\"#000000\" stroke-opacity=\"1\" stroke-width=\"3.2\"/>\n",
       "<circle clip-path=\"url(#clip792)\" cx=\"334.032\" cy=\"1353.33\" r=\"14.4\" fill=\"#e26f46\" fill-rule=\"evenodd\" fill-opacity=\"1\" stroke=\"#000000\" stroke-opacity=\"1\" stroke-width=\"3.2\"/>\n",
       "<circle clip-path=\"url(#clip792)\" cx=\"2035.93\" cy=\"1353.33\" r=\"14.4\" fill=\"#e26f46\" fill-rule=\"evenodd\" fill-opacity=\"1\" stroke=\"#000000\" stroke-opacity=\"1\" stroke-width=\"3.2\"/>\n",
       "<circle clip-path=\"url(#clip792)\" cx=\"334.032\" cy=\"117.092\" r=\"14.4\" fill=\"#e26f46\" fill-rule=\"evenodd\" fill-opacity=\"1\" stroke=\"#000000\" stroke-opacity=\"1\" stroke-width=\"3.2\"/>\n",
       "<circle clip-path=\"url(#clip792)\" cx=\"334.032\" cy=\"117.092\" r=\"14.4\" fill=\"#e26f46\" fill-rule=\"evenodd\" fill-opacity=\"1\" stroke=\"#000000\" stroke-opacity=\"1\" stroke-width=\"3.2\"/>\n",
       "<circle clip-path=\"url(#clip792)\" cx=\"2035.93\" cy=\"1353.33\" r=\"14.4\" fill=\"#e26f46\" fill-rule=\"evenodd\" fill-opacity=\"1\" stroke=\"#000000\" stroke-opacity=\"1\" stroke-width=\"3.2\"/>\n",
       "<circle clip-path=\"url(#clip792)\" cx=\"334.032\" cy=\"1353.33\" r=\"14.4\" fill=\"#e26f46\" fill-rule=\"evenodd\" fill-opacity=\"1\" stroke=\"#000000\" stroke-opacity=\"1\" stroke-width=\"3.2\"/>\n",
       "<circle clip-path=\"url(#clip792)\" cx=\"334.032\" cy=\"117.092\" r=\"14.4\" fill=\"#e26f46\" fill-rule=\"evenodd\" fill-opacity=\"1\" stroke=\"#000000\" stroke-opacity=\"1\" stroke-width=\"3.2\"/>\n",
       "<circle clip-path=\"url(#clip792)\" cx=\"2035.93\" cy=\"117.092\" r=\"14.4\" fill=\"#e26f46\" fill-rule=\"evenodd\" fill-opacity=\"1\" stroke=\"#000000\" stroke-opacity=\"1\" stroke-width=\"3.2\"/>\n",
       "<circle clip-path=\"url(#clip792)\" cx=\"2035.93\" cy=\"117.092\" r=\"14.4\" fill=\"#e26f46\" fill-rule=\"evenodd\" fill-opacity=\"1\" stroke=\"#000000\" stroke-opacity=\"1\" stroke-width=\"3.2\"/>\n",
       "<circle clip-path=\"url(#clip792)\" cx=\"2035.93\" cy=\"1353.33\" r=\"14.4\" fill=\"#e26f46\" fill-rule=\"evenodd\" fill-opacity=\"1\" stroke=\"#000000\" stroke-opacity=\"1\" stroke-width=\"3.2\"/>\n",
       "<circle clip-path=\"url(#clip792)\" cx=\"1403.31\" cy=\"1353.33\" r=\"14.4\" fill=\"#e26f46\" fill-rule=\"evenodd\" fill-opacity=\"1\" stroke=\"#000000\" stroke-opacity=\"1\" stroke-width=\"3.2\"/>\n",
       "<circle clip-path=\"url(#clip792)\" cx=\"2035.93\" cy=\"1353.33\" r=\"14.4\" fill=\"#e26f46\" fill-rule=\"evenodd\" fill-opacity=\"1\" stroke=\"#000000\" stroke-opacity=\"1\" stroke-width=\"3.2\"/>\n",
       "<circle clip-path=\"url(#clip792)\" cx=\"811.667\" cy=\"117.092\" r=\"14.4\" fill=\"#e26f46\" fill-rule=\"evenodd\" fill-opacity=\"1\" stroke=\"#000000\" stroke-opacity=\"1\" stroke-width=\"3.2\"/>\n",
       "<circle clip-path=\"url(#clip792)\" cx=\"2035.93\" cy=\"117.092\" r=\"14.4\" fill=\"#e26f46\" fill-rule=\"evenodd\" fill-opacity=\"1\" stroke=\"#000000\" stroke-opacity=\"1\" stroke-width=\"3.2\"/>\n",
       "<circle clip-path=\"url(#clip792)\" cx=\"334.032\" cy=\"117.092\" r=\"14.4\" fill=\"#e26f46\" fill-rule=\"evenodd\" fill-opacity=\"1\" stroke=\"#000000\" stroke-opacity=\"1\" stroke-width=\"3.2\"/>\n",
       "<circle clip-path=\"url(#clip792)\" cx=\"2035.93\" cy=\"1353.33\" r=\"14.4\" fill=\"#e26f46\" fill-rule=\"evenodd\" fill-opacity=\"1\" stroke=\"#000000\" stroke-opacity=\"1\" stroke-width=\"3.2\"/>\n",
       "<circle clip-path=\"url(#clip792)\" cx=\"2035.93\" cy=\"117.092\" r=\"14.4\" fill=\"#e26f46\" fill-rule=\"evenodd\" fill-opacity=\"1\" stroke=\"#000000\" stroke-opacity=\"1\" stroke-width=\"3.2\"/>\n",
       "<circle clip-path=\"url(#clip792)\" cx=\"1276.81\" cy=\"117.092\" r=\"14.4\" fill=\"#e26f46\" fill-rule=\"evenodd\" fill-opacity=\"1\" stroke=\"#000000\" stroke-opacity=\"1\" stroke-width=\"3.2\"/>\n",
       "<circle clip-path=\"url(#clip792)\" cx=\"2035.93\" cy=\"117.092\" r=\"14.4\" fill=\"#e26f46\" fill-rule=\"evenodd\" fill-opacity=\"1\" stroke=\"#000000\" stroke-opacity=\"1\" stroke-width=\"3.2\"/>\n",
       "<circle clip-path=\"url(#clip792)\" cx=\"2035.93\" cy=\"1353.33\" r=\"14.4\" fill=\"#e26f46\" fill-rule=\"evenodd\" fill-opacity=\"1\" stroke=\"#000000\" stroke-opacity=\"1\" stroke-width=\"3.2\"/>\n",
       "<circle clip-path=\"url(#clip792)\" cx=\"2035.93\" cy=\"117.092\" r=\"14.4\" fill=\"#e26f46\" fill-rule=\"evenodd\" fill-opacity=\"1\" stroke=\"#000000\" stroke-opacity=\"1\" stroke-width=\"3.2\"/>\n",
       "<circle clip-path=\"url(#clip792)\" cx=\"1484.28\" cy=\"117.092\" r=\"14.4\" fill=\"#e26f46\" fill-rule=\"evenodd\" fill-opacity=\"1\" stroke=\"#000000\" stroke-opacity=\"1\" stroke-width=\"3.2\"/>\n",
       "<circle clip-path=\"url(#clip792)\" cx=\"2035.93\" cy=\"117.092\" r=\"14.4\" fill=\"#e26f46\" fill-rule=\"evenodd\" fill-opacity=\"1\" stroke=\"#000000\" stroke-opacity=\"1\" stroke-width=\"3.2\"/>\n",
       "<circle clip-path=\"url(#clip792)\" cx=\"2035.93\" cy=\"1353.33\" r=\"14.4\" fill=\"#e26f46\" fill-rule=\"evenodd\" fill-opacity=\"1\" stroke=\"#000000\" stroke-opacity=\"1\" stroke-width=\"3.2\"/>\n",
       "<circle clip-path=\"url(#clip792)\" cx=\"2035.93\" cy=\"1353.33\" r=\"14.4\" fill=\"#e26f46\" fill-rule=\"evenodd\" fill-opacity=\"1\" stroke=\"#000000\" stroke-opacity=\"1\" stroke-width=\"3.2\"/>\n",
       "<circle clip-path=\"url(#clip792)\" cx=\"2035.93\" cy=\"117.092\" r=\"14.4\" fill=\"#e26f46\" fill-rule=\"evenodd\" fill-opacity=\"1\" stroke=\"#000000\" stroke-opacity=\"1\" stroke-width=\"3.2\"/>\n",
       "<circle clip-path=\"url(#clip792)\" cx=\"2035.93\" cy=\"117.092\" r=\"14.4\" fill=\"#e26f46\" fill-rule=\"evenodd\" fill-opacity=\"1\" stroke=\"#000000\" stroke-opacity=\"1\" stroke-width=\"3.2\"/>\n",
       "<circle clip-path=\"url(#clip792)\" cx=\"334.032\" cy=\"1353.33\" r=\"14.4\" fill=\"#e26f46\" fill-rule=\"evenodd\" fill-opacity=\"1\" stroke=\"#000000\" stroke-opacity=\"1\" stroke-width=\"3.2\"/>\n",
       "<circle clip-path=\"url(#clip792)\" cx=\"1210.56\" cy=\"1353.33\" r=\"14.4\" fill=\"#e26f46\" fill-rule=\"evenodd\" fill-opacity=\"1\" stroke=\"#000000\" stroke-opacity=\"1\" stroke-width=\"3.2\"/>\n",
       "<circle clip-path=\"url(#clip792)\" cx=\"2035.93\" cy=\"117.092\" r=\"14.4\" fill=\"#e26f46\" fill-rule=\"evenodd\" fill-opacity=\"1\" stroke=\"#000000\" stroke-opacity=\"1\" stroke-width=\"3.2\"/>\n",
       "<circle clip-path=\"url(#clip792)\" cx=\"334.032\" cy=\"117.092\" r=\"14.4\" fill=\"#e26f46\" fill-rule=\"evenodd\" fill-opacity=\"1\" stroke=\"#000000\" stroke-opacity=\"1\" stroke-width=\"3.2\"/>\n",
       "<circle clip-path=\"url(#clip792)\" cx=\"334.032\" cy=\"1353.33\" r=\"14.4\" fill=\"#e26f46\" fill-rule=\"evenodd\" fill-opacity=\"1\" stroke=\"#000000\" stroke-opacity=\"1\" stroke-width=\"3.2\"/>\n",
       "<circle clip-path=\"url(#clip792)\" cx=\"2035.93\" cy=\"117.092\" r=\"14.4\" fill=\"#e26f46\" fill-rule=\"evenodd\" fill-opacity=\"1\" stroke=\"#000000\" stroke-opacity=\"1\" stroke-width=\"3.2\"/>\n",
       "<circle clip-path=\"url(#clip792)\" cx=\"1224.06\" cy=\"117.092\" r=\"14.4\" fill=\"#e26f46\" fill-rule=\"evenodd\" fill-opacity=\"1\" stroke=\"#000000\" stroke-opacity=\"1\" stroke-width=\"3.2\"/>\n",
       "<circle clip-path=\"url(#clip792)\" cx=\"334.032\" cy=\"1353.33\" r=\"14.4\" fill=\"#e26f46\" fill-rule=\"evenodd\" fill-opacity=\"1\" stroke=\"#000000\" stroke-opacity=\"1\" stroke-width=\"3.2\"/>\n",
       "<circle clip-path=\"url(#clip792)\" cx=\"2035.93\" cy=\"1353.33\" r=\"14.4\" fill=\"#e26f46\" fill-rule=\"evenodd\" fill-opacity=\"1\" stroke=\"#000000\" stroke-opacity=\"1\" stroke-width=\"3.2\"/>\n",
       "<circle clip-path=\"url(#clip792)\" cx=\"910.145\" cy=\"117.092\" r=\"14.4\" fill=\"#e26f46\" fill-rule=\"evenodd\" fill-opacity=\"1\" stroke=\"#000000\" stroke-opacity=\"1\" stroke-width=\"3.2\"/>\n",
       "<circle clip-path=\"url(#clip792)\" cx=\"2035.93\" cy=\"1353.33\" r=\"14.4\" fill=\"#e26f46\" fill-rule=\"evenodd\" fill-opacity=\"1\" stroke=\"#000000\" stroke-opacity=\"1\" stroke-width=\"3.2\"/>\n",
       "<circle clip-path=\"url(#clip792)\" cx=\"1403.59\" cy=\"117.092\" r=\"14.4\" fill=\"#e26f46\" fill-rule=\"evenodd\" fill-opacity=\"1\" stroke=\"#000000\" stroke-opacity=\"1\" stroke-width=\"3.2\"/>\n",
       "<circle clip-path=\"url(#clip792)\" cx=\"2035.93\" cy=\"117.092\" r=\"14.4\" fill=\"#e26f46\" fill-rule=\"evenodd\" fill-opacity=\"1\" stroke=\"#000000\" stroke-opacity=\"1\" stroke-width=\"3.2\"/>\n",
       "<circle clip-path=\"url(#clip792)\" cx=\"2035.93\" cy=\"1353.33\" r=\"14.4\" fill=\"#e26f46\" fill-rule=\"evenodd\" fill-opacity=\"1\" stroke=\"#000000\" stroke-opacity=\"1\" stroke-width=\"3.2\"/>\n",
       "<circle clip-path=\"url(#clip792)\" cx=\"1162.28\" cy=\"117.092\" r=\"14.4\" fill=\"#e26f46\" fill-rule=\"evenodd\" fill-opacity=\"1\" stroke=\"#000000\" stroke-opacity=\"1\" stroke-width=\"3.2\"/>\n",
       "<circle clip-path=\"url(#clip792)\" cx=\"1065.48\" cy=\"117.092\" r=\"14.4\" fill=\"#e26f46\" fill-rule=\"evenodd\" fill-opacity=\"1\" stroke=\"#000000\" stroke-opacity=\"1\" stroke-width=\"3.2\"/>\n",
       "<circle clip-path=\"url(#clip792)\" cx=\"1175.73\" cy=\"1353.33\" r=\"14.4\" fill=\"#e26f46\" fill-rule=\"evenodd\" fill-opacity=\"1\" stroke=\"#000000\" stroke-opacity=\"1\" stroke-width=\"3.2\"/>\n",
       "<circle clip-path=\"url(#clip792)\" cx=\"1463.11\" cy=\"117.092\" r=\"14.4\" fill=\"#e26f46\" fill-rule=\"evenodd\" fill-opacity=\"1\" stroke=\"#000000\" stroke-opacity=\"1\" stroke-width=\"3.2\"/>\n",
       "<circle clip-path=\"url(#clip792)\" cx=\"1234.93\" cy=\"117.092\" r=\"14.4\" fill=\"#e26f46\" fill-rule=\"evenodd\" fill-opacity=\"1\" stroke=\"#000000\" stroke-opacity=\"1\" stroke-width=\"3.2\"/>\n",
       "<circle clip-path=\"url(#clip792)\" cx=\"1212.73\" cy=\"1353.33\" r=\"14.4\" fill=\"#e26f46\" fill-rule=\"evenodd\" fill-opacity=\"1\" stroke=\"#000000\" stroke-opacity=\"1\" stroke-width=\"3.2\"/>\n",
       "<circle clip-path=\"url(#clip792)\" cx=\"334.032\" cy=\"117.092\" r=\"14.4\" fill=\"#e26f46\" fill-rule=\"evenodd\" fill-opacity=\"1\" stroke=\"#000000\" stroke-opacity=\"1\" stroke-width=\"3.2\"/>\n",
       "<circle clip-path=\"url(#clip792)\" cx=\"334.032\" cy=\"117.092\" r=\"14.4\" fill=\"#e26f46\" fill-rule=\"evenodd\" fill-opacity=\"1\" stroke=\"#000000\" stroke-opacity=\"1\" stroke-width=\"3.2\"/>\n",
       "<circle clip-path=\"url(#clip792)\" cx=\"2035.93\" cy=\"117.092\" r=\"14.4\" fill=\"#e26f46\" fill-rule=\"evenodd\" fill-opacity=\"1\" stroke=\"#000000\" stroke-opacity=\"1\" stroke-width=\"3.2\"/>\n",
       "<circle clip-path=\"url(#clip792)\" cx=\"2035.93\" cy=\"1353.33\" r=\"14.4\" fill=\"#e26f46\" fill-rule=\"evenodd\" fill-opacity=\"1\" stroke=\"#000000\" stroke-opacity=\"1\" stroke-width=\"3.2\"/>\n",
       "<circle clip-path=\"url(#clip792)\" cx=\"2035.93\" cy=\"117.092\" r=\"14.4\" fill=\"#e26f46\" fill-rule=\"evenodd\" fill-opacity=\"1\" stroke=\"#000000\" stroke-opacity=\"1\" stroke-width=\"3.2\"/>\n",
       "<circle clip-path=\"url(#clip792)\" cx=\"2035.93\" cy=\"117.092\" r=\"14.4\" fill=\"#e26f46\" fill-rule=\"evenodd\" fill-opacity=\"1\" stroke=\"#000000\" stroke-opacity=\"1\" stroke-width=\"3.2\"/>\n",
       "<circle clip-path=\"url(#clip792)\" cx=\"2035.93\" cy=\"1353.33\" r=\"14.4\" fill=\"#e26f46\" fill-rule=\"evenodd\" fill-opacity=\"1\" stroke=\"#000000\" stroke-opacity=\"1\" stroke-width=\"3.2\"/>\n",
       "<circle clip-path=\"url(#clip792)\" cx=\"2035.93\" cy=\"1353.33\" r=\"14.4\" fill=\"#e26f46\" fill-rule=\"evenodd\" fill-opacity=\"1\" stroke=\"#000000\" stroke-opacity=\"1\" stroke-width=\"3.2\"/>\n",
       "<circle clip-path=\"url(#clip792)\" cx=\"334.032\" cy=\"117.092\" r=\"14.4\" fill=\"#e26f46\" fill-rule=\"evenodd\" fill-opacity=\"1\" stroke=\"#000000\" stroke-opacity=\"1\" stroke-width=\"3.2\"/>\n",
       "<circle clip-path=\"url(#clip792)\" cx=\"1128.21\" cy=\"117.092\" r=\"14.4\" fill=\"#e26f46\" fill-rule=\"evenodd\" fill-opacity=\"1\" stroke=\"#000000\" stroke-opacity=\"1\" stroke-width=\"3.2\"/>\n",
       "<circle clip-path=\"url(#clip792)\" cx=\"1537.19\" cy=\"117.092\" r=\"14.4\" fill=\"#e26f46\" fill-rule=\"evenodd\" fill-opacity=\"1\" stroke=\"#000000\" stroke-opacity=\"1\" stroke-width=\"3.2\"/>\n",
       "<circle clip-path=\"url(#clip792)\" cx=\"2035.93\" cy=\"117.092\" r=\"14.4\" fill=\"#e26f46\" fill-rule=\"evenodd\" fill-opacity=\"1\" stroke=\"#000000\" stroke-opacity=\"1\" stroke-width=\"3.2\"/>\n",
       "<circle clip-path=\"url(#clip792)\" cx=\"1217.77\" cy=\"117.092\" r=\"14.4\" fill=\"#e26f46\" fill-rule=\"evenodd\" fill-opacity=\"1\" stroke=\"#000000\" stroke-opacity=\"1\" stroke-width=\"3.2\"/>\n",
       "<circle clip-path=\"url(#clip792)\" cx=\"2035.93\" cy=\"117.092\" r=\"14.4\" fill=\"#e26f46\" fill-rule=\"evenodd\" fill-opacity=\"1\" stroke=\"#000000\" stroke-opacity=\"1\" stroke-width=\"3.2\"/>\n",
       "<circle clip-path=\"url(#clip792)\" cx=\"2035.93\" cy=\"117.092\" r=\"14.4\" fill=\"#e26f46\" fill-rule=\"evenodd\" fill-opacity=\"1\" stroke=\"#000000\" stroke-opacity=\"1\" stroke-width=\"3.2\"/>\n",
       "<circle clip-path=\"url(#clip792)\" cx=\"334.032\" cy=\"1353.33\" r=\"14.4\" fill=\"#e26f46\" fill-rule=\"evenodd\" fill-opacity=\"1\" stroke=\"#000000\" stroke-opacity=\"1\" stroke-width=\"3.2\"/>\n",
       "<circle clip-path=\"url(#clip792)\" cx=\"1477.74\" cy=\"1353.33\" r=\"14.4\" fill=\"#e26f46\" fill-rule=\"evenodd\" fill-opacity=\"1\" stroke=\"#000000\" stroke-opacity=\"1\" stroke-width=\"3.2\"/>\n",
       "<circle clip-path=\"url(#clip792)\" cx=\"1431.95\" cy=\"1353.33\" r=\"14.4\" fill=\"#e26f46\" fill-rule=\"evenodd\" fill-opacity=\"1\" stroke=\"#000000\" stroke-opacity=\"1\" stroke-width=\"3.2\"/>\n",
       "<circle clip-path=\"url(#clip792)\" cx=\"1009.14\" cy=\"117.092\" r=\"14.4\" fill=\"#e26f46\" fill-rule=\"evenodd\" fill-opacity=\"1\" stroke=\"#000000\" stroke-opacity=\"1\" stroke-width=\"3.2\"/>\n",
       "<circle clip-path=\"url(#clip792)\" cx=\"1284.83\" cy=\"117.092\" r=\"14.4\" fill=\"#e26f46\" fill-rule=\"evenodd\" fill-opacity=\"1\" stroke=\"#000000\" stroke-opacity=\"1\" stroke-width=\"3.2\"/>\n",
       "<circle clip-path=\"url(#clip792)\" cx=\"1719.48\" cy=\"117.092\" r=\"14.4\" fill=\"#e26f46\" fill-rule=\"evenodd\" fill-opacity=\"1\" stroke=\"#000000\" stroke-opacity=\"1\" stroke-width=\"3.2\"/>\n",
       "<circle clip-path=\"url(#clip792)\" cx=\"1216.71\" cy=\"117.092\" r=\"14.4\" fill=\"#e26f46\" fill-rule=\"evenodd\" fill-opacity=\"1\" stroke=\"#000000\" stroke-opacity=\"1\" stroke-width=\"3.2\"/>\n",
       "<circle clip-path=\"url(#clip792)\" cx=\"2035.93\" cy=\"117.092\" r=\"14.4\" fill=\"#e26f46\" fill-rule=\"evenodd\" fill-opacity=\"1\" stroke=\"#000000\" stroke-opacity=\"1\" stroke-width=\"3.2\"/>\n",
       "<circle clip-path=\"url(#clip792)\" cx=\"1101.62\" cy=\"117.092\" r=\"14.4\" fill=\"#e26f46\" fill-rule=\"evenodd\" fill-opacity=\"1\" stroke=\"#000000\" stroke-opacity=\"1\" stroke-width=\"3.2\"/>\n",
       "<circle clip-path=\"url(#clip792)\" cx=\"334.032\" cy=\"1353.33\" r=\"14.4\" fill=\"#e26f46\" fill-rule=\"evenodd\" fill-opacity=\"1\" stroke=\"#000000\" stroke-opacity=\"1\" stroke-width=\"3.2\"/>\n",
       "<circle clip-path=\"url(#clip792)\" cx=\"1134.71\" cy=\"117.092\" r=\"14.4\" fill=\"#e26f46\" fill-rule=\"evenodd\" fill-opacity=\"1\" stroke=\"#000000\" stroke-opacity=\"1\" stroke-width=\"3.2\"/>\n",
       "<circle clip-path=\"url(#clip792)\" cx=\"334.032\" cy=\"1353.33\" r=\"14.4\" fill=\"#e26f46\" fill-rule=\"evenodd\" fill-opacity=\"1\" stroke=\"#000000\" stroke-opacity=\"1\" stroke-width=\"3.2\"/>\n",
       "<circle clip-path=\"url(#clip792)\" cx=\"2035.93\" cy=\"117.092\" r=\"14.4\" fill=\"#e26f46\" fill-rule=\"evenodd\" fill-opacity=\"1\" stroke=\"#000000\" stroke-opacity=\"1\" stroke-width=\"3.2\"/>\n",
       "<circle clip-path=\"url(#clip792)\" cx=\"334.032\" cy=\"117.092\" r=\"14.4\" fill=\"#e26f46\" fill-rule=\"evenodd\" fill-opacity=\"1\" stroke=\"#000000\" stroke-opacity=\"1\" stroke-width=\"3.2\"/>\n",
       "<circle clip-path=\"url(#clip792)\" cx=\"334.032\" cy=\"117.092\" r=\"14.4\" fill=\"#e26f46\" fill-rule=\"evenodd\" fill-opacity=\"1\" stroke=\"#000000\" stroke-opacity=\"1\" stroke-width=\"3.2\"/>\n",
       "<circle clip-path=\"url(#clip792)\" cx=\"1214.91\" cy=\"1353.33\" r=\"14.4\" fill=\"#e26f46\" fill-rule=\"evenodd\" fill-opacity=\"1\" stroke=\"#000000\" stroke-opacity=\"1\" stroke-width=\"3.2\"/>\n",
       "<circle clip-path=\"url(#clip792)\" cx=\"915.47\" cy=\"117.092\" r=\"14.4\" fill=\"#e26f46\" fill-rule=\"evenodd\" fill-opacity=\"1\" stroke=\"#000000\" stroke-opacity=\"1\" stroke-width=\"3.2\"/>\n",
       "<circle clip-path=\"url(#clip792)\" cx=\"809.852\" cy=\"117.092\" r=\"14.4\" fill=\"#e26f46\" fill-rule=\"evenodd\" fill-opacity=\"1\" stroke=\"#000000\" stroke-opacity=\"1\" stroke-width=\"3.2\"/>\n",
       "<circle clip-path=\"url(#clip792)\" cx=\"1104.51\" cy=\"117.092\" r=\"14.4\" fill=\"#e26f46\" fill-rule=\"evenodd\" fill-opacity=\"1\" stroke=\"#000000\" stroke-opacity=\"1\" stroke-width=\"3.2\"/>\n",
       "<circle clip-path=\"url(#clip792)\" cx=\"334.032\" cy=\"117.092\" r=\"14.4\" fill=\"#e26f46\" fill-rule=\"evenodd\" fill-opacity=\"1\" stroke=\"#000000\" stroke-opacity=\"1\" stroke-width=\"3.2\"/>\n",
       "<circle clip-path=\"url(#clip792)\" cx=\"1401.69\" cy=\"1353.33\" r=\"14.4\" fill=\"#e26f46\" fill-rule=\"evenodd\" fill-opacity=\"1\" stroke=\"#000000\" stroke-opacity=\"1\" stroke-width=\"3.2\"/>\n",
       "<circle clip-path=\"url(#clip792)\" cx=\"2035.93\" cy=\"117.092\" r=\"14.4\" fill=\"#e26f46\" fill-rule=\"evenodd\" fill-opacity=\"1\" stroke=\"#000000\" stroke-opacity=\"1\" stroke-width=\"3.2\"/>\n",
       "<circle clip-path=\"url(#clip792)\" cx=\"972.481\" cy=\"1353.33\" r=\"14.4\" fill=\"#e26f46\" fill-rule=\"evenodd\" fill-opacity=\"1\" stroke=\"#000000\" stroke-opacity=\"1\" stroke-width=\"3.2\"/>\n",
       "<circle clip-path=\"url(#clip792)\" cx=\"1689.93\" cy=\"117.092\" r=\"14.4\" fill=\"#e26f46\" fill-rule=\"evenodd\" fill-opacity=\"1\" stroke=\"#000000\" stroke-opacity=\"1\" stroke-width=\"3.2\"/>\n",
       "<circle clip-path=\"url(#clip792)\" cx=\"334.032\" cy=\"117.092\" r=\"14.4\" fill=\"#e26f46\" fill-rule=\"evenodd\" fill-opacity=\"1\" stroke=\"#000000\" stroke-opacity=\"1\" stroke-width=\"3.2\"/>\n",
       "<circle clip-path=\"url(#clip792)\" cx=\"1599.28\" cy=\"117.092\" r=\"14.4\" fill=\"#e26f46\" fill-rule=\"evenodd\" fill-opacity=\"1\" stroke=\"#000000\" stroke-opacity=\"1\" stroke-width=\"3.2\"/>\n",
       "<circle clip-path=\"url(#clip792)\" cx=\"1135.79\" cy=\"117.092\" r=\"14.4\" fill=\"#e26f46\" fill-rule=\"evenodd\" fill-opacity=\"1\" stroke=\"#000000\" stroke-opacity=\"1\" stroke-width=\"3.2\"/>\n",
       "<circle clip-path=\"url(#clip792)\" cx=\"1693.44\" cy=\"1353.33\" r=\"14.4\" fill=\"#e26f46\" fill-rule=\"evenodd\" fill-opacity=\"1\" stroke=\"#000000\" stroke-opacity=\"1\" stroke-width=\"3.2\"/>\n",
       "<circle clip-path=\"url(#clip792)\" cx=\"2035.93\" cy=\"1353.33\" r=\"14.4\" fill=\"#e26f46\" fill-rule=\"evenodd\" fill-opacity=\"1\" stroke=\"#000000\" stroke-opacity=\"1\" stroke-width=\"3.2\"/>\n",
       "<circle clip-path=\"url(#clip792)\" cx=\"334.032\" cy=\"1353.33\" r=\"14.4\" fill=\"#e26f46\" fill-rule=\"evenodd\" fill-opacity=\"1\" stroke=\"#000000\" stroke-opacity=\"1\" stroke-width=\"3.2\"/>\n",
       "<circle clip-path=\"url(#clip792)\" cx=\"1072.96\" cy=\"117.092\" r=\"14.4\" fill=\"#e26f46\" fill-rule=\"evenodd\" fill-opacity=\"1\" stroke=\"#000000\" stroke-opacity=\"1\" stroke-width=\"3.2\"/>\n",
       "<circle clip-path=\"url(#clip792)\" cx=\"2035.93\" cy=\"117.092\" r=\"14.4\" fill=\"#e26f46\" fill-rule=\"evenodd\" fill-opacity=\"1\" stroke=\"#000000\" stroke-opacity=\"1\" stroke-width=\"3.2\"/>\n",
       "<circle clip-path=\"url(#clip792)\" cx=\"334.032\" cy=\"117.092\" r=\"14.4\" fill=\"#e26f46\" fill-rule=\"evenodd\" fill-opacity=\"1\" stroke=\"#000000\" stroke-opacity=\"1\" stroke-width=\"3.2\"/>\n",
       "<circle clip-path=\"url(#clip792)\" cx=\"2035.93\" cy=\"117.092\" r=\"14.4\" fill=\"#e26f46\" fill-rule=\"evenodd\" fill-opacity=\"1\" stroke=\"#000000\" stroke-opacity=\"1\" stroke-width=\"3.2\"/>\n",
       "<circle clip-path=\"url(#clip792)\" cx=\"1479.32\" cy=\"117.092\" r=\"14.4\" fill=\"#e26f46\" fill-rule=\"evenodd\" fill-opacity=\"1\" stroke=\"#000000\" stroke-opacity=\"1\" stroke-width=\"3.2\"/>\n",
       "<circle clip-path=\"url(#clip792)\" cx=\"334.032\" cy=\"117.092\" r=\"14.4\" fill=\"#e26f46\" fill-rule=\"evenodd\" fill-opacity=\"1\" stroke=\"#000000\" stroke-opacity=\"1\" stroke-width=\"3.2\"/>\n",
       "<circle clip-path=\"url(#clip792)\" cx=\"334.032\" cy=\"117.092\" r=\"14.4\" fill=\"#e26f46\" fill-rule=\"evenodd\" fill-opacity=\"1\" stroke=\"#000000\" stroke-opacity=\"1\" stroke-width=\"3.2\"/>\n",
       "<circle clip-path=\"url(#clip792)\" cx=\"334.032\" cy=\"117.092\" r=\"14.4\" fill=\"#e26f46\" fill-rule=\"evenodd\" fill-opacity=\"1\" stroke=\"#000000\" stroke-opacity=\"1\" stroke-width=\"3.2\"/>\n",
       "<circle clip-path=\"url(#clip792)\" cx=\"930.762\" cy=\"117.092\" r=\"14.4\" fill=\"#e26f46\" fill-rule=\"evenodd\" fill-opacity=\"1\" stroke=\"#000000\" stroke-opacity=\"1\" stroke-width=\"3.2\"/>\n",
       "<circle clip-path=\"url(#clip792)\" cx=\"2035.93\" cy=\"1353.33\" r=\"14.4\" fill=\"#e26f46\" fill-rule=\"evenodd\" fill-opacity=\"1\" stroke=\"#000000\" stroke-opacity=\"1\" stroke-width=\"3.2\"/>\n",
       "<circle clip-path=\"url(#clip792)\" cx=\"2035.93\" cy=\"1353.33\" r=\"14.4\" fill=\"#e26f46\" fill-rule=\"evenodd\" fill-opacity=\"1\" stroke=\"#000000\" stroke-opacity=\"1\" stroke-width=\"3.2\"/>\n",
       "<circle clip-path=\"url(#clip792)\" cx=\"959.049\" cy=\"1353.33\" r=\"14.4\" fill=\"#e26f46\" fill-rule=\"evenodd\" fill-opacity=\"1\" stroke=\"#000000\" stroke-opacity=\"1\" stroke-width=\"3.2\"/>\n",
       "<circle clip-path=\"url(#clip792)\" cx=\"2035.93\" cy=\"1353.33\" r=\"14.4\" fill=\"#e26f46\" fill-rule=\"evenodd\" fill-opacity=\"1\" stroke=\"#000000\" stroke-opacity=\"1\" stroke-width=\"3.2\"/>\n",
       "<circle clip-path=\"url(#clip792)\" cx=\"1364.13\" cy=\"117.092\" r=\"14.4\" fill=\"#e26f46\" fill-rule=\"evenodd\" fill-opacity=\"1\" stroke=\"#000000\" stroke-opacity=\"1\" stroke-width=\"3.2\"/>\n",
       "<circle clip-path=\"url(#clip792)\" cx=\"334.032\" cy=\"117.092\" r=\"14.4\" fill=\"#e26f46\" fill-rule=\"evenodd\" fill-opacity=\"1\" stroke=\"#000000\" stroke-opacity=\"1\" stroke-width=\"3.2\"/>\n",
       "<circle clip-path=\"url(#clip792)\" cx=\"334.032\" cy=\"1353.33\" r=\"14.4\" fill=\"#e26f46\" fill-rule=\"evenodd\" fill-opacity=\"1\" stroke=\"#000000\" stroke-opacity=\"1\" stroke-width=\"3.2\"/>\n",
       "<circle clip-path=\"url(#clip792)\" cx=\"334.032\" cy=\"117.092\" r=\"14.4\" fill=\"#e26f46\" fill-rule=\"evenodd\" fill-opacity=\"1\" stroke=\"#000000\" stroke-opacity=\"1\" stroke-width=\"3.2\"/>\n",
       "<circle clip-path=\"url(#clip792)\" cx=\"334.032\" cy=\"1353.33\" r=\"14.4\" fill=\"#e26f46\" fill-rule=\"evenodd\" fill-opacity=\"1\" stroke=\"#000000\" stroke-opacity=\"1\" stroke-width=\"3.2\"/>\n",
       "<circle clip-path=\"url(#clip792)\" cx=\"1092.85\" cy=\"117.092\" r=\"14.4\" fill=\"#e26f46\" fill-rule=\"evenodd\" fill-opacity=\"1\" stroke=\"#000000\" stroke-opacity=\"1\" stroke-width=\"3.2\"/>\n",
       "<circle clip-path=\"url(#clip792)\" cx=\"1373.91\" cy=\"117.092\" r=\"14.4\" fill=\"#e26f46\" fill-rule=\"evenodd\" fill-opacity=\"1\" stroke=\"#000000\" stroke-opacity=\"1\" stroke-width=\"3.2\"/>\n",
       "<circle clip-path=\"url(#clip792)\" cx=\"2035.93\" cy=\"117.092\" r=\"14.4\" fill=\"#e26f46\" fill-rule=\"evenodd\" fill-opacity=\"1\" stroke=\"#000000\" stroke-opacity=\"1\" stroke-width=\"3.2\"/>\n",
       "<circle clip-path=\"url(#clip792)\" cx=\"2035.93\" cy=\"1353.33\" r=\"14.4\" fill=\"#e26f46\" fill-rule=\"evenodd\" fill-opacity=\"1\" stroke=\"#000000\" stroke-opacity=\"1\" stroke-width=\"3.2\"/>\n",
       "<circle clip-path=\"url(#clip792)\" cx=\"1437.98\" cy=\"117.092\" r=\"14.4\" fill=\"#e26f46\" fill-rule=\"evenodd\" fill-opacity=\"1\" stroke=\"#000000\" stroke-opacity=\"1\" stroke-width=\"3.2\"/>\n",
       "<circle clip-path=\"url(#clip792)\" cx=\"2035.93\" cy=\"1353.33\" r=\"14.4\" fill=\"#e26f46\" fill-rule=\"evenodd\" fill-opacity=\"1\" stroke=\"#000000\" stroke-opacity=\"1\" stroke-width=\"3.2\"/>\n",
       "<circle clip-path=\"url(#clip792)\" cx=\"2035.93\" cy=\"117.092\" r=\"14.4\" fill=\"#e26f46\" fill-rule=\"evenodd\" fill-opacity=\"1\" stroke=\"#000000\" stroke-opacity=\"1\" stroke-width=\"3.2\"/>\n",
       "<circle clip-path=\"url(#clip792)\" cx=\"1075.93\" cy=\"117.092\" r=\"14.4\" fill=\"#e26f46\" fill-rule=\"evenodd\" fill-opacity=\"1\" stroke=\"#000000\" stroke-opacity=\"1\" stroke-width=\"3.2\"/>\n",
       "<circle clip-path=\"url(#clip792)\" cx=\"2035.93\" cy=\"117.092\" r=\"14.4\" fill=\"#e26f46\" fill-rule=\"evenodd\" fill-opacity=\"1\" stroke=\"#000000\" stroke-opacity=\"1\" stroke-width=\"3.2\"/>\n",
       "<circle clip-path=\"url(#clip792)\" cx=\"334.032\" cy=\"117.092\" r=\"14.4\" fill=\"#e26f46\" fill-rule=\"evenodd\" fill-opacity=\"1\" stroke=\"#000000\" stroke-opacity=\"1\" stroke-width=\"3.2\"/>\n",
       "<circle clip-path=\"url(#clip792)\" cx=\"1227.74\" cy=\"1353.33\" r=\"14.4\" fill=\"#e26f46\" fill-rule=\"evenodd\" fill-opacity=\"1\" stroke=\"#000000\" stroke-opacity=\"1\" stroke-width=\"3.2\"/>\n",
       "<circle clip-path=\"url(#clip792)\" cx=\"2035.93\" cy=\"117.092\" r=\"14.4\" fill=\"#e26f46\" fill-rule=\"evenodd\" fill-opacity=\"1\" stroke=\"#000000\" stroke-opacity=\"1\" stroke-width=\"3.2\"/>\n",
       "<circle clip-path=\"url(#clip792)\" cx=\"2035.93\" cy=\"117.092\" r=\"14.4\" fill=\"#e26f46\" fill-rule=\"evenodd\" fill-opacity=\"1\" stroke=\"#000000\" stroke-opacity=\"1\" stroke-width=\"3.2\"/>\n",
       "<circle clip-path=\"url(#clip792)\" cx=\"2035.93\" cy=\"1353.33\" r=\"14.4\" fill=\"#e26f46\" fill-rule=\"evenodd\" fill-opacity=\"1\" stroke=\"#000000\" stroke-opacity=\"1\" stroke-width=\"3.2\"/>\n",
       "<circle clip-path=\"url(#clip792)\" cx=\"1321.89\" cy=\"1353.33\" r=\"14.4\" fill=\"#e26f46\" fill-rule=\"evenodd\" fill-opacity=\"1\" stroke=\"#000000\" stroke-opacity=\"1\" stroke-width=\"3.2\"/>\n",
       "<circle clip-path=\"url(#clip792)\" cx=\"2035.93\" cy=\"117.092\" r=\"14.4\" fill=\"#e26f46\" fill-rule=\"evenodd\" fill-opacity=\"1\" stroke=\"#000000\" stroke-opacity=\"1\" stroke-width=\"3.2\"/>\n",
       "<circle clip-path=\"url(#clip792)\" cx=\"2035.93\" cy=\"117.092\" r=\"14.4\" fill=\"#e26f46\" fill-rule=\"evenodd\" fill-opacity=\"1\" stroke=\"#000000\" stroke-opacity=\"1\" stroke-width=\"3.2\"/>\n",
       "<circle clip-path=\"url(#clip792)\" cx=\"2035.93\" cy=\"117.092\" r=\"14.4\" fill=\"#e26f46\" fill-rule=\"evenodd\" fill-opacity=\"1\" stroke=\"#000000\" stroke-opacity=\"1\" stroke-width=\"3.2\"/>\n",
       "<circle clip-path=\"url(#clip792)\" cx=\"334.032\" cy=\"117.092\" r=\"14.4\" fill=\"#e26f46\" fill-rule=\"evenodd\" fill-opacity=\"1\" stroke=\"#000000\" stroke-opacity=\"1\" stroke-width=\"3.2\"/>\n",
       "<circle clip-path=\"url(#clip792)\" cx=\"2035.93\" cy=\"117.092\" r=\"14.4\" fill=\"#e26f46\" fill-rule=\"evenodd\" fill-opacity=\"1\" stroke=\"#000000\" stroke-opacity=\"1\" stroke-width=\"3.2\"/>\n",
       "<circle clip-path=\"url(#clip792)\" cx=\"1429.23\" cy=\"117.092\" r=\"14.4\" fill=\"#e26f46\" fill-rule=\"evenodd\" fill-opacity=\"1\" stroke=\"#000000\" stroke-opacity=\"1\" stroke-width=\"3.2\"/>\n",
       "<circle clip-path=\"url(#clip792)\" cx=\"1235.81\" cy=\"117.092\" r=\"14.4\" fill=\"#e26f46\" fill-rule=\"evenodd\" fill-opacity=\"1\" stroke=\"#000000\" stroke-opacity=\"1\" stroke-width=\"3.2\"/>\n",
       "<circle clip-path=\"url(#clip792)\" cx=\"2035.93\" cy=\"1353.33\" r=\"14.4\" fill=\"#e26f46\" fill-rule=\"evenodd\" fill-opacity=\"1\" stroke=\"#000000\" stroke-opacity=\"1\" stroke-width=\"3.2\"/>\n",
       "<circle clip-path=\"url(#clip792)\" cx=\"2035.93\" cy=\"117.092\" r=\"14.4\" fill=\"#e26f46\" fill-rule=\"evenodd\" fill-opacity=\"1\" stroke=\"#000000\" stroke-opacity=\"1\" stroke-width=\"3.2\"/>\n",
       "<circle clip-path=\"url(#clip792)\" cx=\"1144.45\" cy=\"117.092\" r=\"14.4\" fill=\"#e26f46\" fill-rule=\"evenodd\" fill-opacity=\"1\" stroke=\"#000000\" stroke-opacity=\"1\" stroke-width=\"3.2\"/>\n",
       "<circle clip-path=\"url(#clip792)\" cx=\"1521.81\" cy=\"117.092\" r=\"14.4\" fill=\"#e26f46\" fill-rule=\"evenodd\" fill-opacity=\"1\" stroke=\"#000000\" stroke-opacity=\"1\" stroke-width=\"3.2\"/>\n",
       "<circle clip-path=\"url(#clip792)\" cx=\"928.534\" cy=\"1353.33\" r=\"14.4\" fill=\"#e26f46\" fill-rule=\"evenodd\" fill-opacity=\"1\" stroke=\"#000000\" stroke-opacity=\"1\" stroke-width=\"3.2\"/>\n",
       "<circle clip-path=\"url(#clip792)\" cx=\"1070.22\" cy=\"117.092\" r=\"14.4\" fill=\"#e26f46\" fill-rule=\"evenodd\" fill-opacity=\"1\" stroke=\"#000000\" stroke-opacity=\"1\" stroke-width=\"3.2\"/>\n",
       "<circle clip-path=\"url(#clip792)\" cx=\"2035.93\" cy=\"117.092\" r=\"14.4\" fill=\"#e26f46\" fill-rule=\"evenodd\" fill-opacity=\"1\" stroke=\"#000000\" stroke-opacity=\"1\" stroke-width=\"3.2\"/>\n",
       "<circle clip-path=\"url(#clip792)\" cx=\"2035.93\" cy=\"1353.33\" r=\"14.4\" fill=\"#e26f46\" fill-rule=\"evenodd\" fill-opacity=\"1\" stroke=\"#000000\" stroke-opacity=\"1\" stroke-width=\"3.2\"/>\n",
       "<circle clip-path=\"url(#clip792)\" cx=\"2035.93\" cy=\"117.092\" r=\"14.4\" fill=\"#e26f46\" fill-rule=\"evenodd\" fill-opacity=\"1\" stroke=\"#000000\" stroke-opacity=\"1\" stroke-width=\"3.2\"/>\n",
       "<circle clip-path=\"url(#clip792)\" cx=\"2035.93\" cy=\"1353.33\" r=\"14.4\" fill=\"#e26f46\" fill-rule=\"evenodd\" fill-opacity=\"1\" stroke=\"#000000\" stroke-opacity=\"1\" stroke-width=\"3.2\"/>\n",
       "<circle clip-path=\"url(#clip792)\" cx=\"334.032\" cy=\"1353.33\" r=\"14.4\" fill=\"#e26f46\" fill-rule=\"evenodd\" fill-opacity=\"1\" stroke=\"#000000\" stroke-opacity=\"1\" stroke-width=\"3.2\"/>\n",
       "<circle clip-path=\"url(#clip792)\" cx=\"2035.93\" cy=\"1353.33\" r=\"14.4\" fill=\"#e26f46\" fill-rule=\"evenodd\" fill-opacity=\"1\" stroke=\"#000000\" stroke-opacity=\"1\" stroke-width=\"3.2\"/>\n",
       "<circle clip-path=\"url(#clip792)\" cx=\"2035.93\" cy=\"1353.33\" r=\"14.4\" fill=\"#e26f46\" fill-rule=\"evenodd\" fill-opacity=\"1\" stroke=\"#000000\" stroke-opacity=\"1\" stroke-width=\"3.2\"/>\n",
       "<circle clip-path=\"url(#clip792)\" cx=\"2035.93\" cy=\"1353.33\" r=\"14.4\" fill=\"#e26f46\" fill-rule=\"evenodd\" fill-opacity=\"1\" stroke=\"#000000\" stroke-opacity=\"1\" stroke-width=\"3.2\"/>\n",
       "<circle clip-path=\"url(#clip792)\" cx=\"1355.05\" cy=\"1353.33\" r=\"14.4\" fill=\"#e26f46\" fill-rule=\"evenodd\" fill-opacity=\"1\" stroke=\"#000000\" stroke-opacity=\"1\" stroke-width=\"3.2\"/>\n",
       "<circle clip-path=\"url(#clip792)\" cx=\"2035.93\" cy=\"117.092\" r=\"14.4\" fill=\"#e26f46\" fill-rule=\"evenodd\" fill-opacity=\"1\" stroke=\"#000000\" stroke-opacity=\"1\" stroke-width=\"3.2\"/>\n",
       "<circle clip-path=\"url(#clip792)\" cx=\"1417.71\" cy=\"1353.33\" r=\"14.4\" fill=\"#e26f46\" fill-rule=\"evenodd\" fill-opacity=\"1\" stroke=\"#000000\" stroke-opacity=\"1\" stroke-width=\"3.2\"/>\n",
       "<circle clip-path=\"url(#clip792)\" cx=\"2035.93\" cy=\"1353.33\" r=\"14.4\" fill=\"#e26f46\" fill-rule=\"evenodd\" fill-opacity=\"1\" stroke=\"#000000\" stroke-opacity=\"1\" stroke-width=\"3.2\"/>\n",
       "<circle clip-path=\"url(#clip792)\" cx=\"2035.93\" cy=\"117.092\" r=\"14.4\" fill=\"#e26f46\" fill-rule=\"evenodd\" fill-opacity=\"1\" stroke=\"#000000\" stroke-opacity=\"1\" stroke-width=\"3.2\"/>\n",
       "<circle clip-path=\"url(#clip792)\" cx=\"2035.93\" cy=\"117.092\" r=\"14.4\" fill=\"#e26f46\" fill-rule=\"evenodd\" fill-opacity=\"1\" stroke=\"#000000\" stroke-opacity=\"1\" stroke-width=\"3.2\"/>\n",
       "<circle clip-path=\"url(#clip792)\" cx=\"2035.93\" cy=\"1353.33\" r=\"14.4\" fill=\"#e26f46\" fill-rule=\"evenodd\" fill-opacity=\"1\" stroke=\"#000000\" stroke-opacity=\"1\" stroke-width=\"3.2\"/>\n",
       "<circle clip-path=\"url(#clip792)\" cx=\"2035.93\" cy=\"1353.33\" r=\"14.4\" fill=\"#e26f46\" fill-rule=\"evenodd\" fill-opacity=\"1\" stroke=\"#000000\" stroke-opacity=\"1\" stroke-width=\"3.2\"/>\n",
       "<circle clip-path=\"url(#clip792)\" cx=\"2035.93\" cy=\"117.092\" r=\"14.4\" fill=\"#e26f46\" fill-rule=\"evenodd\" fill-opacity=\"1\" stroke=\"#000000\" stroke-opacity=\"1\" stroke-width=\"3.2\"/>\n",
       "<circle clip-path=\"url(#clip792)\" cx=\"2035.93\" cy=\"1353.33\" r=\"14.4\" fill=\"#e26f46\" fill-rule=\"evenodd\" fill-opacity=\"1\" stroke=\"#000000\" stroke-opacity=\"1\" stroke-width=\"3.2\"/>\n",
       "<circle clip-path=\"url(#clip792)\" cx=\"1345.75\" cy=\"1353.33\" r=\"14.4\" fill=\"#e26f46\" fill-rule=\"evenodd\" fill-opacity=\"1\" stroke=\"#000000\" stroke-opacity=\"1\" stroke-width=\"3.2\"/>\n",
       "<circle clip-path=\"url(#clip792)\" cx=\"1227.71\" cy=\"117.092\" r=\"14.4\" fill=\"#e26f46\" fill-rule=\"evenodd\" fill-opacity=\"1\" stroke=\"#000000\" stroke-opacity=\"1\" stroke-width=\"3.2\"/>\n",
       "<circle clip-path=\"url(#clip792)\" cx=\"1220.96\" cy=\"1353.33\" r=\"14.4\" fill=\"#e26f46\" fill-rule=\"evenodd\" fill-opacity=\"1\" stroke=\"#000000\" stroke-opacity=\"1\" stroke-width=\"3.2\"/>\n",
       "<circle clip-path=\"url(#clip792)\" cx=\"1343.19\" cy=\"1353.33\" r=\"14.4\" fill=\"#e26f46\" fill-rule=\"evenodd\" fill-opacity=\"1\" stroke=\"#000000\" stroke-opacity=\"1\" stroke-width=\"3.2\"/>\n",
       "<circle clip-path=\"url(#clip792)\" cx=\"1322.17\" cy=\"1353.33\" r=\"14.4\" fill=\"#e26f46\" fill-rule=\"evenodd\" fill-opacity=\"1\" stroke=\"#000000\" stroke-opacity=\"1\" stroke-width=\"3.2\"/>\n",
       "<circle clip-path=\"url(#clip792)\" cx=\"2035.93\" cy=\"1353.33\" r=\"14.4\" fill=\"#e26f46\" fill-rule=\"evenodd\" fill-opacity=\"1\" stroke=\"#000000\" stroke-opacity=\"1\" stroke-width=\"3.2\"/>\n",
       "<circle clip-path=\"url(#clip792)\" cx=\"1335.63\" cy=\"1353.33\" r=\"14.4\" fill=\"#e26f46\" fill-rule=\"evenodd\" fill-opacity=\"1\" stroke=\"#000000\" stroke-opacity=\"1\" stroke-width=\"3.2\"/>\n",
       "<circle clip-path=\"url(#clip792)\" cx=\"1354.89\" cy=\"1353.33\" r=\"14.4\" fill=\"#e26f46\" fill-rule=\"evenodd\" fill-opacity=\"1\" stroke=\"#000000\" stroke-opacity=\"1\" stroke-width=\"3.2\"/>\n",
       "<circle clip-path=\"url(#clip792)\" cx=\"1068.6\" cy=\"117.092\" r=\"14.4\" fill=\"#e26f46\" fill-rule=\"evenodd\" fill-opacity=\"1\" stroke=\"#000000\" stroke-opacity=\"1\" stroke-width=\"3.2\"/>\n",
       "<circle clip-path=\"url(#clip792)\" cx=\"1514.57\" cy=\"1353.33\" r=\"14.4\" fill=\"#e26f46\" fill-rule=\"evenodd\" fill-opacity=\"1\" stroke=\"#000000\" stroke-opacity=\"1\" stroke-width=\"3.2\"/>\n",
       "<circle clip-path=\"url(#clip792)\" cx=\"1350.8\" cy=\"117.092\" r=\"14.4\" fill=\"#e26f46\" fill-rule=\"evenodd\" fill-opacity=\"1\" stroke=\"#000000\" stroke-opacity=\"1\" stroke-width=\"3.2\"/>\n",
       "<circle clip-path=\"url(#clip792)\" cx=\"1322.69\" cy=\"1353.33\" r=\"14.4\" fill=\"#e26f46\" fill-rule=\"evenodd\" fill-opacity=\"1\" stroke=\"#000000\" stroke-opacity=\"1\" stroke-width=\"3.2\"/>\n",
       "<circle clip-path=\"url(#clip792)\" cx=\"2035.93\" cy=\"1353.33\" r=\"14.4\" fill=\"#e26f46\" fill-rule=\"evenodd\" fill-opacity=\"1\" stroke=\"#000000\" stroke-opacity=\"1\" stroke-width=\"3.2\"/>\n",
       "<circle clip-path=\"url(#clip792)\" cx=\"1342.32\" cy=\"1353.33\" r=\"14.4\" fill=\"#e26f46\" fill-rule=\"evenodd\" fill-opacity=\"1\" stroke=\"#000000\" stroke-opacity=\"1\" stroke-width=\"3.2\"/>\n",
       "<circle clip-path=\"url(#clip792)\" cx=\"1361.95\" cy=\"117.092\" r=\"14.4\" fill=\"#e26f46\" fill-rule=\"evenodd\" fill-opacity=\"1\" stroke=\"#000000\" stroke-opacity=\"1\" stroke-width=\"3.2\"/>\n",
       "<circle clip-path=\"url(#clip792)\" cx=\"2035.93\" cy=\"1353.33\" r=\"14.4\" fill=\"#e26f46\" fill-rule=\"evenodd\" fill-opacity=\"1\" stroke=\"#000000\" stroke-opacity=\"1\" stroke-width=\"3.2\"/>\n",
       "<circle clip-path=\"url(#clip792)\" cx=\"1489.45\" cy=\"1353.33\" r=\"14.4\" fill=\"#e26f46\" fill-rule=\"evenodd\" fill-opacity=\"1\" stroke=\"#000000\" stroke-opacity=\"1\" stroke-width=\"3.2\"/>\n",
       "<circle clip-path=\"url(#clip792)\" cx=\"334.032\" cy=\"1353.33\" r=\"14.4\" fill=\"#e26f46\" fill-rule=\"evenodd\" fill-opacity=\"1\" stroke=\"#000000\" stroke-opacity=\"1\" stroke-width=\"3.2\"/>\n",
       "<circle clip-path=\"url(#clip792)\" cx=\"2035.93\" cy=\"1353.33\" r=\"14.4\" fill=\"#e26f46\" fill-rule=\"evenodd\" fill-opacity=\"1\" stroke=\"#000000\" stroke-opacity=\"1\" stroke-width=\"3.2\"/>\n",
       "<circle clip-path=\"url(#clip792)\" cx=\"1399.44\" cy=\"117.092\" r=\"14.4\" fill=\"#e26f46\" fill-rule=\"evenodd\" fill-opacity=\"1\" stroke=\"#000000\" stroke-opacity=\"1\" stroke-width=\"3.2\"/>\n",
       "<circle clip-path=\"url(#clip792)\" cx=\"1368.69\" cy=\"1353.33\" r=\"14.4\" fill=\"#e26f46\" fill-rule=\"evenodd\" fill-opacity=\"1\" stroke=\"#000000\" stroke-opacity=\"1\" stroke-width=\"3.2\"/>\n",
       "<circle clip-path=\"url(#clip792)\" cx=\"1151.06\" cy=\"1353.33\" r=\"14.4\" fill=\"#e26f46\" fill-rule=\"evenodd\" fill-opacity=\"1\" stroke=\"#000000\" stroke-opacity=\"1\" stroke-width=\"3.2\"/>\n",
       "<circle clip-path=\"url(#clip792)\" cx=\"1457.57\" cy=\"117.092\" r=\"14.4\" fill=\"#e26f46\" fill-rule=\"evenodd\" fill-opacity=\"1\" stroke=\"#000000\" stroke-opacity=\"1\" stroke-width=\"3.2\"/>\n",
       "<circle clip-path=\"url(#clip792)\" cx=\"1485.29\" cy=\"117.092\" r=\"14.4\" fill=\"#e26f46\" fill-rule=\"evenodd\" fill-opacity=\"1\" stroke=\"#000000\" stroke-opacity=\"1\" stroke-width=\"3.2\"/>\n",
       "<circle clip-path=\"url(#clip792)\" cx=\"1168.64\" cy=\"1353.33\" r=\"14.4\" fill=\"#e26f46\" fill-rule=\"evenodd\" fill-opacity=\"1\" stroke=\"#000000\" stroke-opacity=\"1\" stroke-width=\"3.2\"/>\n",
       "<circle clip-path=\"url(#clip792)\" cx=\"1482.58\" cy=\"1353.33\" r=\"14.4\" fill=\"#e26f46\" fill-rule=\"evenodd\" fill-opacity=\"1\" stroke=\"#000000\" stroke-opacity=\"1\" stroke-width=\"3.2\"/>\n",
       "<circle clip-path=\"url(#clip792)\" cx=\"1497.4\" cy=\"117.092\" r=\"14.4\" fill=\"#e26f46\" fill-rule=\"evenodd\" fill-opacity=\"1\" stroke=\"#000000\" stroke-opacity=\"1\" stroke-width=\"3.2\"/>\n",
       "<circle clip-path=\"url(#clip792)\" cx=\"2035.93\" cy=\"117.092\" r=\"14.4\" fill=\"#e26f46\" fill-rule=\"evenodd\" fill-opacity=\"1\" stroke=\"#000000\" stroke-opacity=\"1\" stroke-width=\"3.2\"/>\n",
       "<circle clip-path=\"url(#clip792)\" cx=\"1328.97\" cy=\"1353.33\" r=\"14.4\" fill=\"#e26f46\" fill-rule=\"evenodd\" fill-opacity=\"1\" stroke=\"#000000\" stroke-opacity=\"1\" stroke-width=\"3.2\"/>\n",
       "<circle clip-path=\"url(#clip792)\" cx=\"334.032\" cy=\"117.092\" r=\"14.4\" fill=\"#e26f46\" fill-rule=\"evenodd\" fill-opacity=\"1\" stroke=\"#000000\" stroke-opacity=\"1\" stroke-width=\"3.2\"/>\n",
       "<circle clip-path=\"url(#clip792)\" cx=\"1155.28\" cy=\"1353.33\" r=\"14.4\" fill=\"#e26f46\" fill-rule=\"evenodd\" fill-opacity=\"1\" stroke=\"#000000\" stroke-opacity=\"1\" stroke-width=\"3.2\"/>\n",
       "<circle clip-path=\"url(#clip792)\" cx=\"2035.93\" cy=\"1353.33\" r=\"14.4\" fill=\"#e26f46\" fill-rule=\"evenodd\" fill-opacity=\"1\" stroke=\"#000000\" stroke-opacity=\"1\" stroke-width=\"3.2\"/>\n",
       "<circle clip-path=\"url(#clip792)\" cx=\"2035.93\" cy=\"1353.33\" r=\"14.4\" fill=\"#e26f46\" fill-rule=\"evenodd\" fill-opacity=\"1\" stroke=\"#000000\" stroke-opacity=\"1\" stroke-width=\"3.2\"/>\n",
       "<circle clip-path=\"url(#clip792)\" cx=\"1267.61\" cy=\"117.092\" r=\"14.4\" fill=\"#e26f46\" fill-rule=\"evenodd\" fill-opacity=\"1\" stroke=\"#000000\" stroke-opacity=\"1\" stroke-width=\"3.2\"/>\n",
       "<circle clip-path=\"url(#clip792)\" cx=\"2035.93\" cy=\"1353.33\" r=\"14.4\" fill=\"#e26f46\" fill-rule=\"evenodd\" fill-opacity=\"1\" stroke=\"#000000\" stroke-opacity=\"1\" stroke-width=\"3.2\"/>\n",
       "<circle clip-path=\"url(#clip792)\" cx=\"1338.11\" cy=\"1353.33\" r=\"14.4\" fill=\"#e26f46\" fill-rule=\"evenodd\" fill-opacity=\"1\" stroke=\"#000000\" stroke-opacity=\"1\" stroke-width=\"3.2\"/>\n",
       "<circle clip-path=\"url(#clip792)\" cx=\"2035.93\" cy=\"117.092\" r=\"14.4\" fill=\"#e26f46\" fill-rule=\"evenodd\" fill-opacity=\"1\" stroke=\"#000000\" stroke-opacity=\"1\" stroke-width=\"3.2\"/>\n",
       "<circle clip-path=\"url(#clip792)\" cx=\"334.032\" cy=\"1353.33\" r=\"14.4\" fill=\"#e26f46\" fill-rule=\"evenodd\" fill-opacity=\"1\" stroke=\"#000000\" stroke-opacity=\"1\" stroke-width=\"3.2\"/>\n",
       "<circle clip-path=\"url(#clip792)\" cx=\"334.032\" cy=\"1353.33\" r=\"14.4\" fill=\"#e26f46\" fill-rule=\"evenodd\" fill-opacity=\"1\" stroke=\"#000000\" stroke-opacity=\"1\" stroke-width=\"3.2\"/>\n",
       "<circle clip-path=\"url(#clip792)\" cx=\"334.032\" cy=\"117.092\" r=\"14.4\" fill=\"#e26f46\" fill-rule=\"evenodd\" fill-opacity=\"1\" stroke=\"#000000\" stroke-opacity=\"1\" stroke-width=\"3.2\"/>\n",
       "<circle clip-path=\"url(#clip792)\" cx=\"334.032\" cy=\"1353.33\" r=\"14.4\" fill=\"#e26f46\" fill-rule=\"evenodd\" fill-opacity=\"1\" stroke=\"#000000\" stroke-opacity=\"1\" stroke-width=\"3.2\"/>\n",
       "<circle clip-path=\"url(#clip792)\" cx=\"334.032\" cy=\"117.092\" r=\"14.4\" fill=\"#e26f46\" fill-rule=\"evenodd\" fill-opacity=\"1\" stroke=\"#000000\" stroke-opacity=\"1\" stroke-width=\"3.2\"/>\n",
       "<circle clip-path=\"url(#clip792)\" cx=\"2035.93\" cy=\"117.092\" r=\"14.4\" fill=\"#e26f46\" fill-rule=\"evenodd\" fill-opacity=\"1\" stroke=\"#000000\" stroke-opacity=\"1\" stroke-width=\"3.2\"/>\n",
       "<circle clip-path=\"url(#clip792)\" cx=\"334.032\" cy=\"1353.33\" r=\"14.4\" fill=\"#e26f46\" fill-rule=\"evenodd\" fill-opacity=\"1\" stroke=\"#000000\" stroke-opacity=\"1\" stroke-width=\"3.2\"/>\n",
       "<circle clip-path=\"url(#clip792)\" cx=\"334.032\" cy=\"117.092\" r=\"14.4\" fill=\"#e26f46\" fill-rule=\"evenodd\" fill-opacity=\"1\" stroke=\"#000000\" stroke-opacity=\"1\" stroke-width=\"3.2\"/>\n",
       "<circle clip-path=\"url(#clip792)\" cx=\"334.032\" cy=\"1353.33\" r=\"14.4\" fill=\"#e26f46\" fill-rule=\"evenodd\" fill-opacity=\"1\" stroke=\"#000000\" stroke-opacity=\"1\" stroke-width=\"3.2\"/>\n",
       "<circle clip-path=\"url(#clip792)\" cx=\"980.523\" cy=\"1353.33\" r=\"14.4\" fill=\"#e26f46\" fill-rule=\"evenodd\" fill-opacity=\"1\" stroke=\"#000000\" stroke-opacity=\"1\" stroke-width=\"3.2\"/>\n",
       "<circle clip-path=\"url(#clip792)\" cx=\"2035.93\" cy=\"117.092\" r=\"14.4\" fill=\"#e26f46\" fill-rule=\"evenodd\" fill-opacity=\"1\" stroke=\"#000000\" stroke-opacity=\"1\" stroke-width=\"3.2\"/>\n",
       "<circle clip-path=\"url(#clip792)\" cx=\"334.032\" cy=\"1353.33\" r=\"14.4\" fill=\"#e26f46\" fill-rule=\"evenodd\" fill-opacity=\"1\" stroke=\"#000000\" stroke-opacity=\"1\" stroke-width=\"3.2\"/>\n",
       "<circle clip-path=\"url(#clip792)\" cx=\"1404.5\" cy=\"117.092\" r=\"14.4\" fill=\"#e26f46\" fill-rule=\"evenodd\" fill-opacity=\"1\" stroke=\"#000000\" stroke-opacity=\"1\" stroke-width=\"3.2\"/>\n",
       "<circle clip-path=\"url(#clip792)\" cx=\"2035.93\" cy=\"1353.33\" r=\"14.4\" fill=\"#e26f46\" fill-rule=\"evenodd\" fill-opacity=\"1\" stroke=\"#000000\" stroke-opacity=\"1\" stroke-width=\"3.2\"/>\n",
       "<circle clip-path=\"url(#clip792)\" cx=\"334.032\" cy=\"117.092\" r=\"14.4\" fill=\"#e26f46\" fill-rule=\"evenodd\" fill-opacity=\"1\" stroke=\"#000000\" stroke-opacity=\"1\" stroke-width=\"3.2\"/>\n",
       "<circle clip-path=\"url(#clip792)\" cx=\"334.032\" cy=\"117.092\" r=\"14.4\" fill=\"#e26f46\" fill-rule=\"evenodd\" fill-opacity=\"1\" stroke=\"#000000\" stroke-opacity=\"1\" stroke-width=\"3.2\"/>\n",
       "<circle clip-path=\"url(#clip792)\" cx=\"2035.93\" cy=\"1353.33\" r=\"14.4\" fill=\"#e26f46\" fill-rule=\"evenodd\" fill-opacity=\"1\" stroke=\"#000000\" stroke-opacity=\"1\" stroke-width=\"3.2\"/>\n",
       "<circle clip-path=\"url(#clip792)\" cx=\"334.032\" cy=\"117.092\" r=\"14.4\" fill=\"#e26f46\" fill-rule=\"evenodd\" fill-opacity=\"1\" stroke=\"#000000\" stroke-opacity=\"1\" stroke-width=\"3.2\"/>\n",
       "<circle clip-path=\"url(#clip792)\" cx=\"334.032\" cy=\"117.092\" r=\"14.4\" fill=\"#e26f46\" fill-rule=\"evenodd\" fill-opacity=\"1\" stroke=\"#000000\" stroke-opacity=\"1\" stroke-width=\"3.2\"/>\n",
       "<circle clip-path=\"url(#clip792)\" cx=\"2035.93\" cy=\"1353.33\" r=\"14.4\" fill=\"#e26f46\" fill-rule=\"evenodd\" fill-opacity=\"1\" stroke=\"#000000\" stroke-opacity=\"1\" stroke-width=\"3.2\"/>\n",
       "<circle clip-path=\"url(#clip792)\" cx=\"334.032\" cy=\"117.092\" r=\"14.4\" fill=\"#e26f46\" fill-rule=\"evenodd\" fill-opacity=\"1\" stroke=\"#000000\" stroke-opacity=\"1\" stroke-width=\"3.2\"/>\n",
       "<circle clip-path=\"url(#clip792)\" cx=\"2035.93\" cy=\"1353.33\" r=\"14.4\" fill=\"#e26f46\" fill-rule=\"evenodd\" fill-opacity=\"1\" stroke=\"#000000\" stroke-opacity=\"1\" stroke-width=\"3.2\"/>\n",
       "<circle clip-path=\"url(#clip792)\" cx=\"2035.93\" cy=\"1353.33\" r=\"14.4\" fill=\"#e26f46\" fill-rule=\"evenodd\" fill-opacity=\"1\" stroke=\"#000000\" stroke-opacity=\"1\" stroke-width=\"3.2\"/>\n",
       "<circle clip-path=\"url(#clip792)\" cx=\"334.032\" cy=\"117.092\" r=\"14.4\" fill=\"#e26f46\" fill-rule=\"evenodd\" fill-opacity=\"1\" stroke=\"#000000\" stroke-opacity=\"1\" stroke-width=\"3.2\"/>\n",
       "<circle clip-path=\"url(#clip792)\" cx=\"1317.34\" cy=\"1353.33\" r=\"14.4\" fill=\"#e26f46\" fill-rule=\"evenodd\" fill-opacity=\"1\" stroke=\"#000000\" stroke-opacity=\"1\" stroke-width=\"3.2\"/>\n",
       "<circle clip-path=\"url(#clip792)\" cx=\"2035.93\" cy=\"117.092\" r=\"14.4\" fill=\"#e26f46\" fill-rule=\"evenodd\" fill-opacity=\"1\" stroke=\"#000000\" stroke-opacity=\"1\" stroke-width=\"3.2\"/>\n",
       "<circle clip-path=\"url(#clip792)\" cx=\"334.032\" cy=\"1353.33\" r=\"14.4\" fill=\"#e26f46\" fill-rule=\"evenodd\" fill-opacity=\"1\" stroke=\"#000000\" stroke-opacity=\"1\" stroke-width=\"3.2\"/>\n",
       "<circle clip-path=\"url(#clip792)\" cx=\"1357.15\" cy=\"117.092\" r=\"14.4\" fill=\"#e26f46\" fill-rule=\"evenodd\" fill-opacity=\"1\" stroke=\"#000000\" stroke-opacity=\"1\" stroke-width=\"3.2\"/>\n",
       "<circle clip-path=\"url(#clip792)\" cx=\"1153.87\" cy=\"1353.33\" r=\"14.4\" fill=\"#e26f46\" fill-rule=\"evenodd\" fill-opacity=\"1\" stroke=\"#000000\" stroke-opacity=\"1\" stroke-width=\"3.2\"/>\n",
       "<circle clip-path=\"url(#clip792)\" cx=\"1186.07\" cy=\"117.092\" r=\"14.4\" fill=\"#e26f46\" fill-rule=\"evenodd\" fill-opacity=\"1\" stroke=\"#000000\" stroke-opacity=\"1\" stroke-width=\"3.2\"/>\n",
       "<circle clip-path=\"url(#clip792)\" cx=\"2035.93\" cy=\"117.092\" r=\"14.4\" fill=\"#e26f46\" fill-rule=\"evenodd\" fill-opacity=\"1\" stroke=\"#000000\" stroke-opacity=\"1\" stroke-width=\"3.2\"/>\n",
       "<circle clip-path=\"url(#clip792)\" cx=\"1445.43\" cy=\"1353.33\" r=\"14.4\" fill=\"#e26f46\" fill-rule=\"evenodd\" fill-opacity=\"1\" stroke=\"#000000\" stroke-opacity=\"1\" stroke-width=\"3.2\"/>\n",
       "<circle clip-path=\"url(#clip792)\" cx=\"1347.66\" cy=\"1353.33\" r=\"14.4\" fill=\"#e26f46\" fill-rule=\"evenodd\" fill-opacity=\"1\" stroke=\"#000000\" stroke-opacity=\"1\" stroke-width=\"3.2\"/>\n",
       "<circle clip-path=\"url(#clip792)\" cx=\"1415.44\" cy=\"117.092\" r=\"14.4\" fill=\"#e26f46\" fill-rule=\"evenodd\" fill-opacity=\"1\" stroke=\"#000000\" stroke-opacity=\"1\" stroke-width=\"3.2\"/>\n",
       "<circle clip-path=\"url(#clip792)\" cx=\"1323.95\" cy=\"117.092\" r=\"14.4\" fill=\"#e26f46\" fill-rule=\"evenodd\" fill-opacity=\"1\" stroke=\"#000000\" stroke-opacity=\"1\" stroke-width=\"3.2\"/>\n",
       "<circle clip-path=\"url(#clip792)\" cx=\"2035.93\" cy=\"117.092\" r=\"14.4\" fill=\"#e26f46\" fill-rule=\"evenodd\" fill-opacity=\"1\" stroke=\"#000000\" stroke-opacity=\"1\" stroke-width=\"3.2\"/>\n",
       "<circle clip-path=\"url(#clip792)\" cx=\"1513.45\" cy=\"1353.33\" r=\"14.4\" fill=\"#e26f46\" fill-rule=\"evenodd\" fill-opacity=\"1\" stroke=\"#000000\" stroke-opacity=\"1\" stroke-width=\"3.2\"/>\n",
       "<circle clip-path=\"url(#clip792)\" cx=\"2035.93\" cy=\"1353.33\" r=\"14.4\" fill=\"#e26f46\" fill-rule=\"evenodd\" fill-opacity=\"1\" stroke=\"#000000\" stroke-opacity=\"1\" stroke-width=\"3.2\"/>\n",
       "<circle clip-path=\"url(#clip792)\" cx=\"1266.07\" cy=\"1353.33\" r=\"14.4\" fill=\"#e26f46\" fill-rule=\"evenodd\" fill-opacity=\"1\" stroke=\"#000000\" stroke-opacity=\"1\" stroke-width=\"3.2\"/>\n",
       "<circle clip-path=\"url(#clip792)\" cx=\"2035.93\" cy=\"1353.33\" r=\"14.4\" fill=\"#e26f46\" fill-rule=\"evenodd\" fill-opacity=\"1\" stroke=\"#000000\" stroke-opacity=\"1\" stroke-width=\"3.2\"/>\n",
       "<circle clip-path=\"url(#clip792)\" cx=\"1143.4\" cy=\"117.092\" r=\"14.4\" fill=\"#e26f46\" fill-rule=\"evenodd\" fill-opacity=\"1\" stroke=\"#000000\" stroke-opacity=\"1\" stroke-width=\"3.2\"/>\n",
       "<circle clip-path=\"url(#clip792)\" cx=\"1227.7\" cy=\"117.092\" r=\"14.4\" fill=\"#e26f46\" fill-rule=\"evenodd\" fill-opacity=\"1\" stroke=\"#000000\" stroke-opacity=\"1\" stroke-width=\"3.2\"/>\n",
       "<circle clip-path=\"url(#clip792)\" cx=\"334.032\" cy=\"117.092\" r=\"14.4\" fill=\"#e26f46\" fill-rule=\"evenodd\" fill-opacity=\"1\" stroke=\"#000000\" stroke-opacity=\"1\" stroke-width=\"3.2\"/>\n",
       "<circle clip-path=\"url(#clip792)\" cx=\"2035.93\" cy=\"1353.33\" r=\"14.4\" fill=\"#e26f46\" fill-rule=\"evenodd\" fill-opacity=\"1\" stroke=\"#000000\" stroke-opacity=\"1\" stroke-width=\"3.2\"/>\n",
       "<circle clip-path=\"url(#clip792)\" cx=\"334.032\" cy=\"117.092\" r=\"14.4\" fill=\"#e26f46\" fill-rule=\"evenodd\" fill-opacity=\"1\" stroke=\"#000000\" stroke-opacity=\"1\" stroke-width=\"3.2\"/>\n",
       "<circle clip-path=\"url(#clip792)\" cx=\"334.032\" cy=\"1353.33\" r=\"14.4\" fill=\"#e26f46\" fill-rule=\"evenodd\" fill-opacity=\"1\" stroke=\"#000000\" stroke-opacity=\"1\" stroke-width=\"3.2\"/>\n",
       "<circle clip-path=\"url(#clip792)\" cx=\"334.032\" cy=\"1353.33\" r=\"14.4\" fill=\"#e26f46\" fill-rule=\"evenodd\" fill-opacity=\"1\" stroke=\"#000000\" stroke-opacity=\"1\" stroke-width=\"3.2\"/>\n",
       "<circle clip-path=\"url(#clip792)\" cx=\"2035.93\" cy=\"117.092\" r=\"14.4\" fill=\"#e26f46\" fill-rule=\"evenodd\" fill-opacity=\"1\" stroke=\"#000000\" stroke-opacity=\"1\" stroke-width=\"3.2\"/>\n",
       "<circle clip-path=\"url(#clip792)\" cx=\"2035.93\" cy=\"117.092\" r=\"14.4\" fill=\"#e26f46\" fill-rule=\"evenodd\" fill-opacity=\"1\" stroke=\"#000000\" stroke-opacity=\"1\" stroke-width=\"3.2\"/>\n",
       "<circle clip-path=\"url(#clip792)\" cx=\"2035.93\" cy=\"1353.33\" r=\"14.4\" fill=\"#e26f46\" fill-rule=\"evenodd\" fill-opacity=\"1\" stroke=\"#000000\" stroke-opacity=\"1\" stroke-width=\"3.2\"/>\n",
       "<circle clip-path=\"url(#clip792)\" cx=\"2035.93\" cy=\"1353.33\" r=\"14.4\" fill=\"#e26f46\" fill-rule=\"evenodd\" fill-opacity=\"1\" stroke=\"#000000\" stroke-opacity=\"1\" stroke-width=\"3.2\"/>\n",
       "<circle clip-path=\"url(#clip792)\" cx=\"2035.93\" cy=\"1353.33\" r=\"14.4\" fill=\"#e26f46\" fill-rule=\"evenodd\" fill-opacity=\"1\" stroke=\"#000000\" stroke-opacity=\"1\" stroke-width=\"3.2\"/>\n",
       "<circle clip-path=\"url(#clip792)\" cx=\"1038.46\" cy=\"117.092\" r=\"14.4\" fill=\"#e26f46\" fill-rule=\"evenodd\" fill-opacity=\"1\" stroke=\"#000000\" stroke-opacity=\"1\" stroke-width=\"3.2\"/>\n",
       "<circle clip-path=\"url(#clip792)\" cx=\"1310.63\" cy=\"1353.33\" r=\"14.4\" fill=\"#e26f46\" fill-rule=\"evenodd\" fill-opacity=\"1\" stroke=\"#000000\" stroke-opacity=\"1\" stroke-width=\"3.2\"/>\n",
       "<circle clip-path=\"url(#clip792)\" cx=\"2035.93\" cy=\"1353.33\" r=\"14.4\" fill=\"#e26f46\" fill-rule=\"evenodd\" fill-opacity=\"1\" stroke=\"#000000\" stroke-opacity=\"1\" stroke-width=\"3.2\"/>\n",
       "<circle clip-path=\"url(#clip792)\" cx=\"1658.43\" cy=\"1353.33\" r=\"14.4\" fill=\"#e26f46\" fill-rule=\"evenodd\" fill-opacity=\"1\" stroke=\"#000000\" stroke-opacity=\"1\" stroke-width=\"3.2\"/>\n",
       "<circle clip-path=\"url(#clip792)\" cx=\"2035.93\" cy=\"1353.33\" r=\"14.4\" fill=\"#e26f46\" fill-rule=\"evenodd\" fill-opacity=\"1\" stroke=\"#000000\" stroke-opacity=\"1\" stroke-width=\"3.2\"/>\n",
       "<circle clip-path=\"url(#clip792)\" cx=\"2035.93\" cy=\"1353.33\" r=\"14.4\" fill=\"#e26f46\" fill-rule=\"evenodd\" fill-opacity=\"1\" stroke=\"#000000\" stroke-opacity=\"1\" stroke-width=\"3.2\"/>\n",
       "<circle clip-path=\"url(#clip792)\" cx=\"2035.93\" cy=\"1353.33\" r=\"14.4\" fill=\"#e26f46\" fill-rule=\"evenodd\" fill-opacity=\"1\" stroke=\"#000000\" stroke-opacity=\"1\" stroke-width=\"3.2\"/>\n",
       "<circle clip-path=\"url(#clip792)\" cx=\"1602.21\" cy=\"117.092\" r=\"14.4\" fill=\"#e26f46\" fill-rule=\"evenodd\" fill-opacity=\"1\" stroke=\"#000000\" stroke-opacity=\"1\" stroke-width=\"3.2\"/>\n",
       "<circle clip-path=\"url(#clip792)\" cx=\"2035.93\" cy=\"117.092\" r=\"14.4\" fill=\"#e26f46\" fill-rule=\"evenodd\" fill-opacity=\"1\" stroke=\"#000000\" stroke-opacity=\"1\" stroke-width=\"3.2\"/>\n",
       "<circle clip-path=\"url(#clip792)\" cx=\"2035.93\" cy=\"1353.33\" r=\"14.4\" fill=\"#e26f46\" fill-rule=\"evenodd\" fill-opacity=\"1\" stroke=\"#000000\" stroke-opacity=\"1\" stroke-width=\"3.2\"/>\n",
       "<circle clip-path=\"url(#clip792)\" cx=\"1346.38\" cy=\"117.092\" r=\"14.4\" fill=\"#e26f46\" fill-rule=\"evenodd\" fill-opacity=\"1\" stroke=\"#000000\" stroke-opacity=\"1\" stroke-width=\"3.2\"/>\n",
       "<circle clip-path=\"url(#clip792)\" cx=\"2035.93\" cy=\"1353.33\" r=\"14.4\" fill=\"#e26f46\" fill-rule=\"evenodd\" fill-opacity=\"1\" stroke=\"#000000\" stroke-opacity=\"1\" stroke-width=\"3.2\"/>\n",
       "<circle clip-path=\"url(#clip792)\" cx=\"2035.93\" cy=\"1353.33\" r=\"14.4\" fill=\"#e26f46\" fill-rule=\"evenodd\" fill-opacity=\"1\" stroke=\"#000000\" stroke-opacity=\"1\" stroke-width=\"3.2\"/>\n",
       "<circle clip-path=\"url(#clip792)\" cx=\"1162.41\" cy=\"117.092\" r=\"14.4\" fill=\"#e26f46\" fill-rule=\"evenodd\" fill-opacity=\"1\" stroke=\"#000000\" stroke-opacity=\"1\" stroke-width=\"3.2\"/>\n",
       "<circle clip-path=\"url(#clip792)\" cx=\"334.032\" cy=\"1353.33\" r=\"14.4\" fill=\"#e26f46\" fill-rule=\"evenodd\" fill-opacity=\"1\" stroke=\"#000000\" stroke-opacity=\"1\" stroke-width=\"3.2\"/>\n",
       "<circle clip-path=\"url(#clip792)\" cx=\"1635.52\" cy=\"1353.33\" r=\"14.4\" fill=\"#e26f46\" fill-rule=\"evenodd\" fill-opacity=\"1\" stroke=\"#000000\" stroke-opacity=\"1\" stroke-width=\"3.2\"/>\n",
       "<circle clip-path=\"url(#clip792)\" cx=\"2035.93\" cy=\"1353.33\" r=\"14.4\" fill=\"#e26f46\" fill-rule=\"evenodd\" fill-opacity=\"1\" stroke=\"#000000\" stroke-opacity=\"1\" stroke-width=\"3.2\"/>\n",
       "<circle clip-path=\"url(#clip792)\" cx=\"2035.93\" cy=\"1353.33\" r=\"14.4\" fill=\"#e26f46\" fill-rule=\"evenodd\" fill-opacity=\"1\" stroke=\"#000000\" stroke-opacity=\"1\" stroke-width=\"3.2\"/>\n",
       "<circle clip-path=\"url(#clip792)\" cx=\"2035.93\" cy=\"1353.33\" r=\"14.4\" fill=\"#e26f46\" fill-rule=\"evenodd\" fill-opacity=\"1\" stroke=\"#000000\" stroke-opacity=\"1\" stroke-width=\"3.2\"/>\n",
       "<circle clip-path=\"url(#clip792)\" cx=\"2035.93\" cy=\"117.092\" r=\"14.4\" fill=\"#e26f46\" fill-rule=\"evenodd\" fill-opacity=\"1\" stroke=\"#000000\" stroke-opacity=\"1\" stroke-width=\"3.2\"/>\n",
       "<circle clip-path=\"url(#clip792)\" cx=\"2035.93\" cy=\"1353.33\" r=\"14.4\" fill=\"#e26f46\" fill-rule=\"evenodd\" fill-opacity=\"1\" stroke=\"#000000\" stroke-opacity=\"1\" stroke-width=\"3.2\"/>\n",
       "<circle clip-path=\"url(#clip792)\" cx=\"925.76\" cy=\"117.092\" r=\"14.4\" fill=\"#e26f46\" fill-rule=\"evenodd\" fill-opacity=\"1\" stroke=\"#000000\" stroke-opacity=\"1\" stroke-width=\"3.2\"/>\n",
       "<circle clip-path=\"url(#clip792)\" cx=\"334.032\" cy=\"1353.33\" r=\"14.4\" fill=\"#e26f46\" fill-rule=\"evenodd\" fill-opacity=\"1\" stroke=\"#000000\" stroke-opacity=\"1\" stroke-width=\"3.2\"/>\n",
       "<circle clip-path=\"url(#clip792)\" cx=\"334.032\" cy=\"117.092\" r=\"14.4\" fill=\"#e26f46\" fill-rule=\"evenodd\" fill-opacity=\"1\" stroke=\"#000000\" stroke-opacity=\"1\" stroke-width=\"3.2\"/>\n",
       "<circle clip-path=\"url(#clip792)\" cx=\"1461.3\" cy=\"117.092\" r=\"14.4\" fill=\"#e26f46\" fill-rule=\"evenodd\" fill-opacity=\"1\" stroke=\"#000000\" stroke-opacity=\"1\" stroke-width=\"3.2\"/>\n",
       "<circle clip-path=\"url(#clip792)\" cx=\"334.032\" cy=\"117.092\" r=\"14.4\" fill=\"#e26f46\" fill-rule=\"evenodd\" fill-opacity=\"1\" stroke=\"#000000\" stroke-opacity=\"1\" stroke-width=\"3.2\"/>\n",
       "<circle clip-path=\"url(#clip792)\" cx=\"2035.93\" cy=\"1353.33\" r=\"14.4\" fill=\"#e26f46\" fill-rule=\"evenodd\" fill-opacity=\"1\" stroke=\"#000000\" stroke-opacity=\"1\" stroke-width=\"3.2\"/>\n",
       "<circle clip-path=\"url(#clip792)\" cx=\"2035.93\" cy=\"1353.33\" r=\"14.4\" fill=\"#e26f46\" fill-rule=\"evenodd\" fill-opacity=\"1\" stroke=\"#000000\" stroke-opacity=\"1\" stroke-width=\"3.2\"/>\n",
       "<circle clip-path=\"url(#clip792)\" cx=\"2035.93\" cy=\"117.092\" r=\"14.4\" fill=\"#e26f46\" fill-rule=\"evenodd\" fill-opacity=\"1\" stroke=\"#000000\" stroke-opacity=\"1\" stroke-width=\"3.2\"/>\n",
       "<circle clip-path=\"url(#clip792)\" cx=\"2035.93\" cy=\"1353.33\" r=\"14.4\" fill=\"#e26f46\" fill-rule=\"evenodd\" fill-opacity=\"1\" stroke=\"#000000\" stroke-opacity=\"1\" stroke-width=\"3.2\"/>\n",
       "<circle clip-path=\"url(#clip792)\" cx=\"334.032\" cy=\"117.092\" r=\"14.4\" fill=\"#e26f46\" fill-rule=\"evenodd\" fill-opacity=\"1\" stroke=\"#000000\" stroke-opacity=\"1\" stroke-width=\"3.2\"/>\n",
       "<circle clip-path=\"url(#clip792)\" cx=\"1588.34\" cy=\"117.092\" r=\"14.4\" fill=\"#e26f46\" fill-rule=\"evenodd\" fill-opacity=\"1\" stroke=\"#000000\" stroke-opacity=\"1\" stroke-width=\"3.2\"/>\n",
       "<circle clip-path=\"url(#clip792)\" cx=\"2035.93\" cy=\"117.092\" r=\"14.4\" fill=\"#e26f46\" fill-rule=\"evenodd\" fill-opacity=\"1\" stroke=\"#000000\" stroke-opacity=\"1\" stroke-width=\"3.2\"/>\n",
       "<circle clip-path=\"url(#clip792)\" cx=\"2035.93\" cy=\"117.092\" r=\"14.4\" fill=\"#e26f46\" fill-rule=\"evenodd\" fill-opacity=\"1\" stroke=\"#000000\" stroke-opacity=\"1\" stroke-width=\"3.2\"/>\n",
       "<circle clip-path=\"url(#clip792)\" cx=\"1200.22\" cy=\"117.092\" r=\"14.4\" fill=\"#e26f46\" fill-rule=\"evenodd\" fill-opacity=\"1\" stroke=\"#000000\" stroke-opacity=\"1\" stroke-width=\"3.2\"/>\n",
       "<circle clip-path=\"url(#clip792)\" cx=\"334.032\" cy=\"1353.33\" r=\"14.4\" fill=\"#e26f46\" fill-rule=\"evenodd\" fill-opacity=\"1\" stroke=\"#000000\" stroke-opacity=\"1\" stroke-width=\"3.2\"/>\n",
       "<circle clip-path=\"url(#clip792)\" cx=\"2035.93\" cy=\"117.092\" r=\"14.4\" fill=\"#e26f46\" fill-rule=\"evenodd\" fill-opacity=\"1\" stroke=\"#000000\" stroke-opacity=\"1\" stroke-width=\"3.2\"/>\n",
       "<circle clip-path=\"url(#clip792)\" cx=\"2035.93\" cy=\"1353.33\" r=\"14.4\" fill=\"#e26f46\" fill-rule=\"evenodd\" fill-opacity=\"1\" stroke=\"#000000\" stroke-opacity=\"1\" stroke-width=\"3.2\"/>\n",
       "<circle clip-path=\"url(#clip792)\" cx=\"334.032\" cy=\"117.092\" r=\"14.4\" fill=\"#e26f46\" fill-rule=\"evenodd\" fill-opacity=\"1\" stroke=\"#000000\" stroke-opacity=\"1\" stroke-width=\"3.2\"/>\n",
       "<circle clip-path=\"url(#clip792)\" cx=\"2035.93\" cy=\"117.092\" r=\"14.4\" fill=\"#e26f46\" fill-rule=\"evenodd\" fill-opacity=\"1\" stroke=\"#000000\" stroke-opacity=\"1\" stroke-width=\"3.2\"/>\n",
       "<circle clip-path=\"url(#clip792)\" cx=\"334.032\" cy=\"117.092\" r=\"14.4\" fill=\"#e26f46\" fill-rule=\"evenodd\" fill-opacity=\"1\" stroke=\"#000000\" stroke-opacity=\"1\" stroke-width=\"3.2\"/>\n",
       "<circle clip-path=\"url(#clip792)\" cx=\"334.032\" cy=\"1353.33\" r=\"14.4\" fill=\"#e26f46\" fill-rule=\"evenodd\" fill-opacity=\"1\" stroke=\"#000000\" stroke-opacity=\"1\" stroke-width=\"3.2\"/>\n",
       "<circle clip-path=\"url(#clip792)\" cx=\"334.032\" cy=\"1353.33\" r=\"14.4\" fill=\"#e26f46\" fill-rule=\"evenodd\" fill-opacity=\"1\" stroke=\"#000000\" stroke-opacity=\"1\" stroke-width=\"3.2\"/>\n",
       "<circle clip-path=\"url(#clip792)\" cx=\"2035.93\" cy=\"117.092\" r=\"14.4\" fill=\"#e26f46\" fill-rule=\"evenodd\" fill-opacity=\"1\" stroke=\"#000000\" stroke-opacity=\"1\" stroke-width=\"3.2\"/>\n",
       "<circle clip-path=\"url(#clip792)\" cx=\"2035.93\" cy=\"117.092\" r=\"14.4\" fill=\"#e26f46\" fill-rule=\"evenodd\" fill-opacity=\"1\" stroke=\"#000000\" stroke-opacity=\"1\" stroke-width=\"3.2\"/>\n",
       "<circle clip-path=\"url(#clip792)\" cx=\"1434.06\" cy=\"1353.33\" r=\"14.4\" fill=\"#e26f46\" fill-rule=\"evenodd\" fill-opacity=\"1\" stroke=\"#000000\" stroke-opacity=\"1\" stroke-width=\"3.2\"/>\n",
       "<circle clip-path=\"url(#clip792)\" cx=\"1259.63\" cy=\"117.092\" r=\"14.4\" fill=\"#e26f46\" fill-rule=\"evenodd\" fill-opacity=\"1\" stroke=\"#000000\" stroke-opacity=\"1\" stroke-width=\"3.2\"/>\n",
       "<circle clip-path=\"url(#clip792)\" cx=\"334.032\" cy=\"117.092\" r=\"14.4\" fill=\"#e26f46\" fill-rule=\"evenodd\" fill-opacity=\"1\" stroke=\"#000000\" stroke-opacity=\"1\" stroke-width=\"3.2\"/>\n",
       "<circle clip-path=\"url(#clip792)\" cx=\"2035.93\" cy=\"117.092\" r=\"14.4\" fill=\"#e26f46\" fill-rule=\"evenodd\" fill-opacity=\"1\" stroke=\"#000000\" stroke-opacity=\"1\" stroke-width=\"3.2\"/>\n",
       "<circle clip-path=\"url(#clip792)\" cx=\"2035.93\" cy=\"117.092\" r=\"14.4\" fill=\"#e26f46\" fill-rule=\"evenodd\" fill-opacity=\"1\" stroke=\"#000000\" stroke-opacity=\"1\" stroke-width=\"3.2\"/>\n",
       "<circle clip-path=\"url(#clip792)\" cx=\"2035.93\" cy=\"1353.33\" r=\"14.4\" fill=\"#e26f46\" fill-rule=\"evenodd\" fill-opacity=\"1\" stroke=\"#000000\" stroke-opacity=\"1\" stroke-width=\"3.2\"/>\n",
       "<circle clip-path=\"url(#clip792)\" cx=\"2035.93\" cy=\"1353.33\" r=\"14.4\" fill=\"#e26f46\" fill-rule=\"evenodd\" fill-opacity=\"1\" stroke=\"#000000\" stroke-opacity=\"1\" stroke-width=\"3.2\"/>\n",
       "<circle clip-path=\"url(#clip792)\" cx=\"1468.77\" cy=\"117.092\" r=\"14.4\" fill=\"#e26f46\" fill-rule=\"evenodd\" fill-opacity=\"1\" stroke=\"#000000\" stroke-opacity=\"1\" stroke-width=\"3.2\"/>\n",
       "<circle clip-path=\"url(#clip792)\" cx=\"2035.93\" cy=\"117.092\" r=\"14.4\" fill=\"#e26f46\" fill-rule=\"evenodd\" fill-opacity=\"1\" stroke=\"#000000\" stroke-opacity=\"1\" stroke-width=\"3.2\"/>\n",
       "<circle clip-path=\"url(#clip792)\" cx=\"2035.93\" cy=\"1353.33\" r=\"14.4\" fill=\"#e26f46\" fill-rule=\"evenodd\" fill-opacity=\"1\" stroke=\"#000000\" stroke-opacity=\"1\" stroke-width=\"3.2\"/>\n",
       "<circle clip-path=\"url(#clip792)\" cx=\"2035.93\" cy=\"117.092\" r=\"14.4\" fill=\"#e26f46\" fill-rule=\"evenodd\" fill-opacity=\"1\" stroke=\"#000000\" stroke-opacity=\"1\" stroke-width=\"3.2\"/>\n",
       "<circle clip-path=\"url(#clip792)\" cx=\"1585.89\" cy=\"117.092\" r=\"14.4\" fill=\"#e26f46\" fill-rule=\"evenodd\" fill-opacity=\"1\" stroke=\"#000000\" stroke-opacity=\"1\" stroke-width=\"3.2\"/>\n",
       "<circle clip-path=\"url(#clip792)\" cx=\"2035.93\" cy=\"117.092\" r=\"14.4\" fill=\"#e26f46\" fill-rule=\"evenodd\" fill-opacity=\"1\" stroke=\"#000000\" stroke-opacity=\"1\" stroke-width=\"3.2\"/>\n",
       "<circle clip-path=\"url(#clip792)\" cx=\"334.032\" cy=\"117.092\" r=\"14.4\" fill=\"#e26f46\" fill-rule=\"evenodd\" fill-opacity=\"1\" stroke=\"#000000\" stroke-opacity=\"1\" stroke-width=\"3.2\"/>\n",
       "<circle clip-path=\"url(#clip792)\" cx=\"1501.93\" cy=\"1353.33\" r=\"14.4\" fill=\"#e26f46\" fill-rule=\"evenodd\" fill-opacity=\"1\" stroke=\"#000000\" stroke-opacity=\"1\" stroke-width=\"3.2\"/>\n",
       "<circle clip-path=\"url(#clip792)\" cx=\"1483.46\" cy=\"117.092\" r=\"14.4\" fill=\"#e26f46\" fill-rule=\"evenodd\" fill-opacity=\"1\" stroke=\"#000000\" stroke-opacity=\"1\" stroke-width=\"3.2\"/>\n",
       "<circle clip-path=\"url(#clip792)\" cx=\"1505.8\" cy=\"117.092\" r=\"14.4\" fill=\"#e26f46\" fill-rule=\"evenodd\" fill-opacity=\"1\" stroke=\"#000000\" stroke-opacity=\"1\" stroke-width=\"3.2\"/>\n",
       "<circle clip-path=\"url(#clip792)\" cx=\"2035.93\" cy=\"117.092\" r=\"14.4\" fill=\"#e26f46\" fill-rule=\"evenodd\" fill-opacity=\"1\" stroke=\"#000000\" stroke-opacity=\"1\" stroke-width=\"3.2\"/>\n",
       "<circle clip-path=\"url(#clip792)\" cx=\"334.032\" cy=\"117.092\" r=\"14.4\" fill=\"#e26f46\" fill-rule=\"evenodd\" fill-opacity=\"1\" stroke=\"#000000\" stroke-opacity=\"1\" stroke-width=\"3.2\"/>\n",
       "<circle clip-path=\"url(#clip792)\" cx=\"1496.59\" cy=\"117.092\" r=\"14.4\" fill=\"#e26f46\" fill-rule=\"evenodd\" fill-opacity=\"1\" stroke=\"#000000\" stroke-opacity=\"1\" stroke-width=\"3.2\"/>\n",
       "<circle clip-path=\"url(#clip792)\" cx=\"1384.26\" cy=\"117.092\" r=\"14.4\" fill=\"#e26f46\" fill-rule=\"evenodd\" fill-opacity=\"1\" stroke=\"#000000\" stroke-opacity=\"1\" stroke-width=\"3.2\"/>\n",
       "<circle clip-path=\"url(#clip792)\" cx=\"1040.48\" cy=\"117.092\" r=\"14.4\" fill=\"#e26f46\" fill-rule=\"evenodd\" fill-opacity=\"1\" stroke=\"#000000\" stroke-opacity=\"1\" stroke-width=\"3.2\"/>\n",
       "<circle clip-path=\"url(#clip792)\" cx=\"1473.06\" cy=\"1353.33\" r=\"14.4\" fill=\"#e26f46\" fill-rule=\"evenodd\" fill-opacity=\"1\" stroke=\"#000000\" stroke-opacity=\"1\" stroke-width=\"3.2\"/>\n",
       "<circle clip-path=\"url(#clip792)\" cx=\"1482.59\" cy=\"1353.33\" r=\"14.4\" fill=\"#e26f46\" fill-rule=\"evenodd\" fill-opacity=\"1\" stroke=\"#000000\" stroke-opacity=\"1\" stroke-width=\"3.2\"/>\n",
       "<circle clip-path=\"url(#clip792)\" cx=\"334.032\" cy=\"117.092\" r=\"14.4\" fill=\"#e26f46\" fill-rule=\"evenodd\" fill-opacity=\"1\" stroke=\"#000000\" stroke-opacity=\"1\" stroke-width=\"3.2\"/>\n",
       "<circle clip-path=\"url(#clip792)\" cx=\"1534.59\" cy=\"1353.33\" r=\"14.4\" fill=\"#e26f46\" fill-rule=\"evenodd\" fill-opacity=\"1\" stroke=\"#000000\" stroke-opacity=\"1\" stroke-width=\"3.2\"/>\n",
       "<circle clip-path=\"url(#clip792)\" cx=\"1523.71\" cy=\"1353.33\" r=\"14.4\" fill=\"#e26f46\" fill-rule=\"evenodd\" fill-opacity=\"1\" stroke=\"#000000\" stroke-opacity=\"1\" stroke-width=\"3.2\"/>\n",
       "<circle clip-path=\"url(#clip792)\" cx=\"1498.37\" cy=\"117.092\" r=\"14.4\" fill=\"#e26f46\" fill-rule=\"evenodd\" fill-opacity=\"1\" stroke=\"#000000\" stroke-opacity=\"1\" stroke-width=\"3.2\"/>\n",
       "<circle clip-path=\"url(#clip792)\" cx=\"1522.79\" cy=\"1353.33\" r=\"14.4\" fill=\"#e26f46\" fill-rule=\"evenodd\" fill-opacity=\"1\" stroke=\"#000000\" stroke-opacity=\"1\" stroke-width=\"3.2\"/>\n",
       "<circle clip-path=\"url(#clip792)\" cx=\"1517.18\" cy=\"1353.33\" r=\"14.4\" fill=\"#e26f46\" fill-rule=\"evenodd\" fill-opacity=\"1\" stroke=\"#000000\" stroke-opacity=\"1\" stroke-width=\"3.2\"/>\n",
       "<circle clip-path=\"url(#clip792)\" cx=\"334.032\" cy=\"1353.33\" r=\"14.4\" fill=\"#e26f46\" fill-rule=\"evenodd\" fill-opacity=\"1\" stroke=\"#000000\" stroke-opacity=\"1\" stroke-width=\"3.2\"/>\n",
       "<circle clip-path=\"url(#clip792)\" cx=\"1222.52\" cy=\"1353.33\" r=\"14.4\" fill=\"#e26f46\" fill-rule=\"evenodd\" fill-opacity=\"1\" stroke=\"#000000\" stroke-opacity=\"1\" stroke-width=\"3.2\"/>\n",
       "<circle clip-path=\"url(#clip792)\" cx=\"2035.93\" cy=\"117.092\" r=\"14.4\" fill=\"#e26f46\" fill-rule=\"evenodd\" fill-opacity=\"1\" stroke=\"#000000\" stroke-opacity=\"1\" stroke-width=\"3.2\"/>\n",
       "<circle clip-path=\"url(#clip792)\" cx=\"1435.59\" cy=\"117.092\" r=\"14.4\" fill=\"#e26f46\" fill-rule=\"evenodd\" fill-opacity=\"1\" stroke=\"#000000\" stroke-opacity=\"1\" stroke-width=\"3.2\"/>\n",
       "<circle clip-path=\"url(#clip792)\" cx=\"1175.9\" cy=\"1353.33\" r=\"14.4\" fill=\"#e26f46\" fill-rule=\"evenodd\" fill-opacity=\"1\" stroke=\"#000000\" stroke-opacity=\"1\" stroke-width=\"3.2\"/>\n",
       "<circle clip-path=\"url(#clip792)\" cx=\"1574.1\" cy=\"1353.33\" r=\"14.4\" fill=\"#e26f46\" fill-rule=\"evenodd\" fill-opacity=\"1\" stroke=\"#000000\" stroke-opacity=\"1\" stroke-width=\"3.2\"/>\n",
       "<circle clip-path=\"url(#clip792)\" cx=\"1557.16\" cy=\"1353.33\" r=\"14.4\" fill=\"#e26f46\" fill-rule=\"evenodd\" fill-opacity=\"1\" stroke=\"#000000\" stroke-opacity=\"1\" stroke-width=\"3.2\"/>\n",
       "<circle clip-path=\"url(#clip792)\" cx=\"1452.88\" cy=\"1353.33\" r=\"14.4\" fill=\"#e26f46\" fill-rule=\"evenodd\" fill-opacity=\"1\" stroke=\"#000000\" stroke-opacity=\"1\" stroke-width=\"3.2\"/>\n",
       "<circle clip-path=\"url(#clip792)\" cx=\"1453.03\" cy=\"117.092\" r=\"14.4\" fill=\"#e26f46\" fill-rule=\"evenodd\" fill-opacity=\"1\" stroke=\"#000000\" stroke-opacity=\"1\" stroke-width=\"3.2\"/>\n",
       "<circle clip-path=\"url(#clip792)\" cx=\"1264.03\" cy=\"1353.33\" r=\"14.4\" fill=\"#e26f46\" fill-rule=\"evenodd\" fill-opacity=\"1\" stroke=\"#000000\" stroke-opacity=\"1\" stroke-width=\"3.2\"/>\n",
       "<circle clip-path=\"url(#clip792)\" cx=\"1599.24\" cy=\"1353.33\" r=\"14.4\" fill=\"#e26f46\" fill-rule=\"evenodd\" fill-opacity=\"1\" stroke=\"#000000\" stroke-opacity=\"1\" stroke-width=\"3.2\"/>\n",
       "<circle clip-path=\"url(#clip792)\" cx=\"1564.64\" cy=\"1353.33\" r=\"14.4\" fill=\"#e26f46\" fill-rule=\"evenodd\" fill-opacity=\"1\" stroke=\"#000000\" stroke-opacity=\"1\" stroke-width=\"3.2\"/>\n",
       "<circle clip-path=\"url(#clip792)\" cx=\"1571.99\" cy=\"117.092\" r=\"14.4\" fill=\"#e26f46\" fill-rule=\"evenodd\" fill-opacity=\"1\" stroke=\"#000000\" stroke-opacity=\"1\" stroke-width=\"3.2\"/>\n",
       "<circle clip-path=\"url(#clip792)\" cx=\"1551.01\" cy=\"117.092\" r=\"14.4\" fill=\"#e26f46\" fill-rule=\"evenodd\" fill-opacity=\"1\" stroke=\"#000000\" stroke-opacity=\"1\" stroke-width=\"3.2\"/>\n",
       "<circle clip-path=\"url(#clip792)\" cx=\"1461.65\" cy=\"1353.33\" r=\"14.4\" fill=\"#e26f46\" fill-rule=\"evenodd\" fill-opacity=\"1\" stroke=\"#000000\" stroke-opacity=\"1\" stroke-width=\"3.2\"/>\n",
       "<circle clip-path=\"url(#clip792)\" cx=\"1405.19\" cy=\"117.092\" r=\"14.4\" fill=\"#e26f46\" fill-rule=\"evenodd\" fill-opacity=\"1\" stroke=\"#000000\" stroke-opacity=\"1\" stroke-width=\"3.2\"/>\n",
       "<circle clip-path=\"url(#clip792)\" cx=\"1533.03\" cy=\"1353.33\" r=\"14.4\" fill=\"#e26f46\" fill-rule=\"evenodd\" fill-opacity=\"1\" stroke=\"#000000\" stroke-opacity=\"1\" stroke-width=\"3.2\"/>\n",
       "<circle clip-path=\"url(#clip792)\" cx=\"1537.14\" cy=\"1353.33\" r=\"14.4\" fill=\"#e26f46\" fill-rule=\"evenodd\" fill-opacity=\"1\" stroke=\"#000000\" stroke-opacity=\"1\" stroke-width=\"3.2\"/>\n",
       "<circle clip-path=\"url(#clip792)\" cx=\"1567.89\" cy=\"1353.33\" r=\"14.4\" fill=\"#e26f46\" fill-rule=\"evenodd\" fill-opacity=\"1\" stroke=\"#000000\" stroke-opacity=\"1\" stroke-width=\"3.2\"/>\n",
       "<circle clip-path=\"url(#clip792)\" cx=\"1513.93\" cy=\"1353.33\" r=\"14.4\" fill=\"#e26f46\" fill-rule=\"evenodd\" fill-opacity=\"1\" stroke=\"#000000\" stroke-opacity=\"1\" stroke-width=\"3.2\"/>\n",
       "<circle clip-path=\"url(#clip792)\" cx=\"1134.91\" cy=\"1353.33\" r=\"14.4\" fill=\"#e26f46\" fill-rule=\"evenodd\" fill-opacity=\"1\" stroke=\"#000000\" stroke-opacity=\"1\" stroke-width=\"3.2\"/>\n",
       "<circle clip-path=\"url(#clip792)\" cx=\"1564.84\" cy=\"1353.33\" r=\"14.4\" fill=\"#e26f46\" fill-rule=\"evenodd\" fill-opacity=\"1\" stroke=\"#000000\" stroke-opacity=\"1\" stroke-width=\"3.2\"/>\n",
       "<circle clip-path=\"url(#clip792)\" cx=\"1584.96\" cy=\"1353.33\" r=\"14.4\" fill=\"#e26f46\" fill-rule=\"evenodd\" fill-opacity=\"1\" stroke=\"#000000\" stroke-opacity=\"1\" stroke-width=\"3.2\"/>\n",
       "<circle clip-path=\"url(#clip792)\" cx=\"1587.13\" cy=\"117.092\" r=\"14.4\" fill=\"#e26f46\" fill-rule=\"evenodd\" fill-opacity=\"1\" stroke=\"#000000\" stroke-opacity=\"1\" stroke-width=\"3.2\"/>\n",
       "<circle clip-path=\"url(#clip792)\" cx=\"1585.64\" cy=\"117.092\" r=\"14.4\" fill=\"#e26f46\" fill-rule=\"evenodd\" fill-opacity=\"1\" stroke=\"#000000\" stroke-opacity=\"1\" stroke-width=\"3.2\"/>\n",
       "<circle clip-path=\"url(#clip792)\" cx=\"1582.11\" cy=\"1353.33\" r=\"14.4\" fill=\"#e26f46\" fill-rule=\"evenodd\" fill-opacity=\"1\" stroke=\"#000000\" stroke-opacity=\"1\" stroke-width=\"3.2\"/>\n",
       "<circle clip-path=\"url(#clip792)\" cx=\"1599.44\" cy=\"117.092\" r=\"14.4\" fill=\"#e26f46\" fill-rule=\"evenodd\" fill-opacity=\"1\" stroke=\"#000000\" stroke-opacity=\"1\" stroke-width=\"3.2\"/>\n",
       "<circle clip-path=\"url(#clip792)\" cx=\"1601.58\" cy=\"1353.33\" r=\"14.4\" fill=\"#e26f46\" fill-rule=\"evenodd\" fill-opacity=\"1\" stroke=\"#000000\" stroke-opacity=\"1\" stroke-width=\"3.2\"/>\n",
       "<circle clip-path=\"url(#clip792)\" cx=\"1590.18\" cy=\"117.092\" r=\"14.4\" fill=\"#e26f46\" fill-rule=\"evenodd\" fill-opacity=\"1\" stroke=\"#000000\" stroke-opacity=\"1\" stroke-width=\"3.2\"/>\n",
       "<circle clip-path=\"url(#clip792)\" cx=\"1596.53\" cy=\"117.092\" r=\"14.4\" fill=\"#e26f46\" fill-rule=\"evenodd\" fill-opacity=\"1\" stroke=\"#000000\" stroke-opacity=\"1\" stroke-width=\"3.2\"/>\n",
       "<circle clip-path=\"url(#clip792)\" cx=\"1578.97\" cy=\"1353.33\" r=\"14.4\" fill=\"#e26f46\" fill-rule=\"evenodd\" fill-opacity=\"1\" stroke=\"#000000\" stroke-opacity=\"1\" stroke-width=\"3.2\"/>\n",
       "<circle clip-path=\"url(#clip792)\" cx=\"1180.35\" cy=\"1353.33\" r=\"14.4\" fill=\"#e26f46\" fill-rule=\"evenodd\" fill-opacity=\"1\" stroke=\"#000000\" stroke-opacity=\"1\" stroke-width=\"3.2\"/>\n",
       "<circle clip-path=\"url(#clip792)\" cx=\"1639.33\" cy=\"1353.33\" r=\"14.4\" fill=\"#e26f46\" fill-rule=\"evenodd\" fill-opacity=\"1\" stroke=\"#000000\" stroke-opacity=\"1\" stroke-width=\"3.2\"/>\n",
       "<circle clip-path=\"url(#clip792)\" cx=\"1657.67\" cy=\"1353.33\" r=\"14.4\" fill=\"#e26f46\" fill-rule=\"evenodd\" fill-opacity=\"1\" stroke=\"#000000\" stroke-opacity=\"1\" stroke-width=\"3.2\"/>\n",
       "<circle clip-path=\"url(#clip792)\" cx=\"1563.6\" cy=\"117.092\" r=\"14.4\" fill=\"#e26f46\" fill-rule=\"evenodd\" fill-opacity=\"1\" stroke=\"#000000\" stroke-opacity=\"1\" stroke-width=\"3.2\"/>\n",
       "<circle clip-path=\"url(#clip792)\" cx=\"1637.85\" cy=\"117.092\" r=\"14.4\" fill=\"#e26f46\" fill-rule=\"evenodd\" fill-opacity=\"1\" stroke=\"#000000\" stroke-opacity=\"1\" stroke-width=\"3.2\"/>\n",
       "<circle clip-path=\"url(#clip792)\" cx=\"879.591\" cy=\"1353.33\" r=\"14.4\" fill=\"#e26f46\" fill-rule=\"evenodd\" fill-opacity=\"1\" stroke=\"#000000\" stroke-opacity=\"1\" stroke-width=\"3.2\"/>\n",
       "<circle clip-path=\"url(#clip792)\" cx=\"1644.07\" cy=\"117.092\" r=\"14.4\" fill=\"#e26f46\" fill-rule=\"evenodd\" fill-opacity=\"1\" stroke=\"#000000\" stroke-opacity=\"1\" stroke-width=\"3.2\"/>\n",
       "<circle clip-path=\"url(#clip792)\" cx=\"1628.63\" cy=\"1353.33\" r=\"14.4\" fill=\"#e26f46\" fill-rule=\"evenodd\" fill-opacity=\"1\" stroke=\"#000000\" stroke-opacity=\"1\" stroke-width=\"3.2\"/>\n",
       "<circle clip-path=\"url(#clip792)\" cx=\"799.78\" cy=\"1353.33\" r=\"14.4\" fill=\"#e26f46\" fill-rule=\"evenodd\" fill-opacity=\"1\" stroke=\"#000000\" stroke-opacity=\"1\" stroke-width=\"3.2\"/>\n",
       "<circle clip-path=\"url(#clip792)\" cx=\"1649.79\" cy=\"1353.33\" r=\"14.4\" fill=\"#e26f46\" fill-rule=\"evenodd\" fill-opacity=\"1\" stroke=\"#000000\" stroke-opacity=\"1\" stroke-width=\"3.2\"/>\n",
       "<circle clip-path=\"url(#clip792)\" cx=\"1662.59\" cy=\"1353.33\" r=\"14.4\" fill=\"#e26f46\" fill-rule=\"evenodd\" fill-opacity=\"1\" stroke=\"#000000\" stroke-opacity=\"1\" stroke-width=\"3.2\"/>\n",
       "<circle clip-path=\"url(#clip792)\" cx=\"1271.47\" cy=\"117.092\" r=\"14.4\" fill=\"#e26f46\" fill-rule=\"evenodd\" fill-opacity=\"1\" stroke=\"#000000\" stroke-opacity=\"1\" stroke-width=\"3.2\"/>\n",
       "<circle clip-path=\"url(#clip792)\" cx=\"1687.05\" cy=\"117.092\" r=\"14.4\" fill=\"#e26f46\" fill-rule=\"evenodd\" fill-opacity=\"1\" stroke=\"#000000\" stroke-opacity=\"1\" stroke-width=\"3.2\"/>\n",
       "<circle clip-path=\"url(#clip792)\" cx=\"1674.11\" cy=\"1353.33\" r=\"14.4\" fill=\"#e26f46\" fill-rule=\"evenodd\" fill-opacity=\"1\" stroke=\"#000000\" stroke-opacity=\"1\" stroke-width=\"3.2\"/>\n",
       "<circle clip-path=\"url(#clip792)\" cx=\"1565.18\" cy=\"1353.33\" r=\"14.4\" fill=\"#e26f46\" fill-rule=\"evenodd\" fill-opacity=\"1\" stroke=\"#000000\" stroke-opacity=\"1\" stroke-width=\"3.2\"/>\n",
       "<circle clip-path=\"url(#clip792)\" cx=\"1675.28\" cy=\"117.092\" r=\"14.4\" fill=\"#e26f46\" fill-rule=\"evenodd\" fill-opacity=\"1\" stroke=\"#000000\" stroke-opacity=\"1\" stroke-width=\"3.2\"/>\n",
       "<circle clip-path=\"url(#clip792)\" cx=\"1673.15\" cy=\"117.092\" r=\"14.4\" fill=\"#e26f46\" fill-rule=\"evenodd\" fill-opacity=\"1\" stroke=\"#000000\" stroke-opacity=\"1\" stroke-width=\"3.2\"/>\n",
       "<circle clip-path=\"url(#clip792)\" cx=\"1308.71\" cy=\"1353.33\" r=\"14.4\" fill=\"#e26f46\" fill-rule=\"evenodd\" fill-opacity=\"1\" stroke=\"#000000\" stroke-opacity=\"1\" stroke-width=\"3.2\"/>\n",
       "<circle clip-path=\"url(#clip792)\" cx=\"1611.93\" cy=\"1353.33\" r=\"14.4\" fill=\"#e26f46\" fill-rule=\"evenodd\" fill-opacity=\"1\" stroke=\"#000000\" stroke-opacity=\"1\" stroke-width=\"3.2\"/>\n",
       "<circle clip-path=\"url(#clip792)\" cx=\"1666.06\" cy=\"117.092\" r=\"14.4\" fill=\"#e26f46\" fill-rule=\"evenodd\" fill-opacity=\"1\" stroke=\"#000000\" stroke-opacity=\"1\" stroke-width=\"3.2\"/>\n",
       "<circle clip-path=\"url(#clip792)\" cx=\"1672.24\" cy=\"117.092\" r=\"14.4\" fill=\"#e26f46\" fill-rule=\"evenodd\" fill-opacity=\"1\" stroke=\"#000000\" stroke-opacity=\"1\" stroke-width=\"3.2\"/>\n",
       "<circle clip-path=\"url(#clip792)\" cx=\"1660.5\" cy=\"117.092\" r=\"14.4\" fill=\"#e26f46\" fill-rule=\"evenodd\" fill-opacity=\"1\" stroke=\"#000000\" stroke-opacity=\"1\" stroke-width=\"3.2\"/>\n",
       "<circle clip-path=\"url(#clip792)\" cx=\"838.785\" cy=\"117.092\" r=\"14.4\" fill=\"#e26f46\" fill-rule=\"evenodd\" fill-opacity=\"1\" stroke=\"#000000\" stroke-opacity=\"1\" stroke-width=\"3.2\"/>\n",
       "<circle clip-path=\"url(#clip792)\" cx=\"1644.07\" cy=\"117.092\" r=\"14.4\" fill=\"#e26f46\" fill-rule=\"evenodd\" fill-opacity=\"1\" stroke=\"#000000\" stroke-opacity=\"1\" stroke-width=\"3.2\"/>\n",
       "<circle clip-path=\"url(#clip792)\" cx=\"1639.92\" cy=\"117.092\" r=\"14.4\" fill=\"#e26f46\" fill-rule=\"evenodd\" fill-opacity=\"1\" stroke=\"#000000\" stroke-opacity=\"1\" stroke-width=\"3.2\"/>\n",
       "<circle clip-path=\"url(#clip792)\" cx=\"1644.26\" cy=\"1353.33\" r=\"14.4\" fill=\"#e26f46\" fill-rule=\"evenodd\" fill-opacity=\"1\" stroke=\"#000000\" stroke-opacity=\"1\" stroke-width=\"3.2\"/>\n",
       "<circle clip-path=\"url(#clip792)\" cx=\"1682.43\" cy=\"1353.33\" r=\"14.4\" fill=\"#e26f46\" fill-rule=\"evenodd\" fill-opacity=\"1\" stroke=\"#000000\" stroke-opacity=\"1\" stroke-width=\"3.2\"/>\n",
       "<circle clip-path=\"url(#clip792)\" cx=\"1619.4\" cy=\"1353.33\" r=\"14.4\" fill=\"#e26f46\" fill-rule=\"evenodd\" fill-opacity=\"1\" stroke=\"#000000\" stroke-opacity=\"1\" stroke-width=\"3.2\"/>\n",
       "<circle clip-path=\"url(#clip792)\" cx=\"889.15\" cy=\"117.092\" r=\"14.4\" fill=\"#e26f46\" fill-rule=\"evenodd\" fill-opacity=\"1\" stroke=\"#000000\" stroke-opacity=\"1\" stroke-width=\"3.2\"/>\n",
       "<circle clip-path=\"url(#clip792)\" cx=\"1624.35\" cy=\"117.092\" r=\"14.4\" fill=\"#e26f46\" fill-rule=\"evenodd\" fill-opacity=\"1\" stroke=\"#000000\" stroke-opacity=\"1\" stroke-width=\"3.2\"/>\n",
       "<circle clip-path=\"url(#clip792)\" cx=\"1219.42\" cy=\"117.092\" r=\"14.4\" fill=\"#e26f46\" fill-rule=\"evenodd\" fill-opacity=\"1\" stroke=\"#000000\" stroke-opacity=\"1\" stroke-width=\"3.2\"/>\n",
       "<circle clip-path=\"url(#clip792)\" cx=\"1095\" cy=\"117.092\" r=\"14.4\" fill=\"#e26f46\" fill-rule=\"evenodd\" fill-opacity=\"1\" stroke=\"#000000\" stroke-opacity=\"1\" stroke-width=\"3.2\"/>\n",
       "<circle clip-path=\"url(#clip792)\" cx=\"1111.44\" cy=\"117.092\" r=\"14.4\" fill=\"#e26f46\" fill-rule=\"evenodd\" fill-opacity=\"1\" stroke=\"#000000\" stroke-opacity=\"1\" stroke-width=\"3.2\"/>\n",
       "<circle clip-path=\"url(#clip792)\" cx=\"991.078\" cy=\"117.092\" r=\"14.4\" fill=\"#e26f46\" fill-rule=\"evenodd\" fill-opacity=\"1\" stroke=\"#000000\" stroke-opacity=\"1\" stroke-width=\"3.2\"/>\n",
       "<circle clip-path=\"url(#clip792)\" cx=\"869.571\" cy=\"117.092\" r=\"14.4\" fill=\"#e26f46\" fill-rule=\"evenodd\" fill-opacity=\"1\" stroke=\"#000000\" stroke-opacity=\"1\" stroke-width=\"3.2\"/>\n",
       "<circle clip-path=\"url(#clip792)\" cx=\"994.314\" cy=\"117.092\" r=\"14.4\" fill=\"#e26f46\" fill-rule=\"evenodd\" fill-opacity=\"1\" stroke=\"#000000\" stroke-opacity=\"1\" stroke-width=\"3.2\"/>\n",
       "<circle clip-path=\"url(#clip792)\" cx=\"1036.99\" cy=\"1353.33\" r=\"14.4\" fill=\"#e26f46\" fill-rule=\"evenodd\" fill-opacity=\"1\" stroke=\"#000000\" stroke-opacity=\"1\" stroke-width=\"3.2\"/>\n",
       "<circle clip-path=\"url(#clip792)\" cx=\"1083.25\" cy=\"117.092\" r=\"14.4\" fill=\"#e26f46\" fill-rule=\"evenodd\" fill-opacity=\"1\" stroke=\"#000000\" stroke-opacity=\"1\" stroke-width=\"3.2\"/>\n",
       "<circle clip-path=\"url(#clip792)\" cx=\"1143.13\" cy=\"117.092\" r=\"14.4\" fill=\"#e26f46\" fill-rule=\"evenodd\" fill-opacity=\"1\" stroke=\"#000000\" stroke-opacity=\"1\" stroke-width=\"3.2\"/>\n",
       "<circle clip-path=\"url(#clip792)\" cx=\"1084.12\" cy=\"117.092\" r=\"14.4\" fill=\"#e26f46\" fill-rule=\"evenodd\" fill-opacity=\"1\" stroke=\"#000000\" stroke-opacity=\"1\" stroke-width=\"3.2\"/>\n",
       "<circle clip-path=\"url(#clip792)\" cx=\"1241.61\" cy=\"117.092\" r=\"14.4\" fill=\"#e26f46\" fill-rule=\"evenodd\" fill-opacity=\"1\" stroke=\"#000000\" stroke-opacity=\"1\" stroke-width=\"3.2\"/>\n",
       "<circle clip-path=\"url(#clip792)\" cx=\"948.061\" cy=\"117.092\" r=\"14.4\" fill=\"#e26f46\" fill-rule=\"evenodd\" fill-opacity=\"1\" stroke=\"#000000\" stroke-opacity=\"1\" stroke-width=\"3.2\"/>\n",
       "<circle clip-path=\"url(#clip792)\" cx=\"1225.66\" cy=\"117.092\" r=\"14.4\" fill=\"#e26f46\" fill-rule=\"evenodd\" fill-opacity=\"1\" stroke=\"#000000\" stroke-opacity=\"1\" stroke-width=\"3.2\"/>\n",
       "<circle clip-path=\"url(#clip792)\" cx=\"1250.82\" cy=\"1353.33\" r=\"14.4\" fill=\"#e26f46\" fill-rule=\"evenodd\" fill-opacity=\"1\" stroke=\"#000000\" stroke-opacity=\"1\" stroke-width=\"3.2\"/>\n",
       "<circle clip-path=\"url(#clip792)\" cx=\"2035.93\" cy=\"117.092\" r=\"14.4\" fill=\"#e26f46\" fill-rule=\"evenodd\" fill-opacity=\"1\" stroke=\"#000000\" stroke-opacity=\"1\" stroke-width=\"3.2\"/>\n",
       "<circle clip-path=\"url(#clip792)\" cx=\"1305.1\" cy=\"117.092\" r=\"14.4\" fill=\"#e26f46\" fill-rule=\"evenodd\" fill-opacity=\"1\" stroke=\"#000000\" stroke-opacity=\"1\" stroke-width=\"3.2\"/>\n",
       "<circle clip-path=\"url(#clip792)\" cx=\"1252.86\" cy=\"117.092\" r=\"14.4\" fill=\"#e26f46\" fill-rule=\"evenodd\" fill-opacity=\"1\" stroke=\"#000000\" stroke-opacity=\"1\" stroke-width=\"3.2\"/>\n",
       "<circle clip-path=\"url(#clip792)\" cx=\"1296.65\" cy=\"1353.33\" r=\"14.4\" fill=\"#e26f46\" fill-rule=\"evenodd\" fill-opacity=\"1\" stroke=\"#000000\" stroke-opacity=\"1\" stroke-width=\"3.2\"/>\n",
       "<circle clip-path=\"url(#clip792)\" cx=\"1368.99\" cy=\"117.092\" r=\"14.4\" fill=\"#e26f46\" fill-rule=\"evenodd\" fill-opacity=\"1\" stroke=\"#000000\" stroke-opacity=\"1\" stroke-width=\"3.2\"/>\n",
       "<circle clip-path=\"url(#clip792)\" cx=\"951.776\" cy=\"117.092\" r=\"14.4\" fill=\"#e26f46\" fill-rule=\"evenodd\" fill-opacity=\"1\" stroke=\"#000000\" stroke-opacity=\"1\" stroke-width=\"3.2\"/>\n",
       "<circle clip-path=\"url(#clip792)\" cx=\"334.032\" cy=\"117.092\" r=\"14.4\" fill=\"#e26f46\" fill-rule=\"evenodd\" fill-opacity=\"1\" stroke=\"#000000\" stroke-opacity=\"1\" stroke-width=\"3.2\"/>\n",
       "<circle clip-path=\"url(#clip792)\" cx=\"1257.48\" cy=\"117.092\" r=\"14.4\" fill=\"#e26f46\" fill-rule=\"evenodd\" fill-opacity=\"1\" stroke=\"#000000\" stroke-opacity=\"1\" stroke-width=\"3.2\"/>\n",
       "<circle clip-path=\"url(#clip792)\" cx=\"1397.18\" cy=\"117.092\" r=\"14.4\" fill=\"#e26f46\" fill-rule=\"evenodd\" fill-opacity=\"1\" stroke=\"#000000\" stroke-opacity=\"1\" stroke-width=\"3.2\"/>\n",
       "<circle clip-path=\"url(#clip792)\" cx=\"1386.66\" cy=\"117.092\" r=\"14.4\" fill=\"#e26f46\" fill-rule=\"evenodd\" fill-opacity=\"1\" stroke=\"#000000\" stroke-opacity=\"1\" stroke-width=\"3.2\"/>\n",
       "<circle clip-path=\"url(#clip792)\" cx=\"1306.18\" cy=\"117.092\" r=\"14.4\" fill=\"#e26f46\" fill-rule=\"evenodd\" fill-opacity=\"1\" stroke=\"#000000\" stroke-opacity=\"1\" stroke-width=\"3.2\"/>\n",
       "<circle clip-path=\"url(#clip792)\" cx=\"1329.22\" cy=\"117.092\" r=\"14.4\" fill=\"#e26f46\" fill-rule=\"evenodd\" fill-opacity=\"1\" stroke=\"#000000\" stroke-opacity=\"1\" stroke-width=\"3.2\"/>\n",
       "<circle clip-path=\"url(#clip792)\" cx=\"1343.44\" cy=\"1353.33\" r=\"14.4\" fill=\"#e26f46\" fill-rule=\"evenodd\" fill-opacity=\"1\" stroke=\"#000000\" stroke-opacity=\"1\" stroke-width=\"3.2\"/>\n",
       "<circle clip-path=\"url(#clip792)\" cx=\"1355.61\" cy=\"117.092\" r=\"14.4\" fill=\"#e26f46\" fill-rule=\"evenodd\" fill-opacity=\"1\" stroke=\"#000000\" stroke-opacity=\"1\" stroke-width=\"3.2\"/>\n",
       "<circle clip-path=\"url(#clip792)\" cx=\"1438.45\" cy=\"117.092\" r=\"14.4\" fill=\"#e26f46\" fill-rule=\"evenodd\" fill-opacity=\"1\" stroke=\"#000000\" stroke-opacity=\"1\" stroke-width=\"3.2\"/>\n",
       "<circle clip-path=\"url(#clip792)\" cx=\"1349.18\" cy=\"1353.33\" r=\"14.4\" fill=\"#e26f46\" fill-rule=\"evenodd\" fill-opacity=\"1\" stroke=\"#000000\" stroke-opacity=\"1\" stroke-width=\"3.2\"/>\n",
       "<circle clip-path=\"url(#clip792)\" cx=\"1435.61\" cy=\"117.092\" r=\"14.4\" fill=\"#e26f46\" fill-rule=\"evenodd\" fill-opacity=\"1\" stroke=\"#000000\" stroke-opacity=\"1\" stroke-width=\"3.2\"/>\n",
       "<circle clip-path=\"url(#clip792)\" cx=\"2035.93\" cy=\"117.092\" r=\"14.4\" fill=\"#e26f46\" fill-rule=\"evenodd\" fill-opacity=\"1\" stroke=\"#000000\" stroke-opacity=\"1\" stroke-width=\"3.2\"/>\n",
       "<circle clip-path=\"url(#clip792)\" cx=\"2035.93\" cy=\"1353.33\" r=\"14.4\" fill=\"#e26f46\" fill-rule=\"evenodd\" fill-opacity=\"1\" stroke=\"#000000\" stroke-opacity=\"1\" stroke-width=\"3.2\"/>\n",
       "<circle clip-path=\"url(#clip792)\" cx=\"1500.53\" cy=\"117.092\" r=\"14.4\" fill=\"#e26f46\" fill-rule=\"evenodd\" fill-opacity=\"1\" stroke=\"#000000\" stroke-opacity=\"1\" stroke-width=\"3.2\"/>\n",
       "<circle clip-path=\"url(#clip792)\" cx=\"334.032\" cy=\"117.092\" r=\"14.4\" fill=\"#e26f46\" fill-rule=\"evenodd\" fill-opacity=\"1\" stroke=\"#000000\" stroke-opacity=\"1\" stroke-width=\"3.2\"/>\n",
       "<circle clip-path=\"url(#clip792)\" cx=\"334.032\" cy=\"117.092\" r=\"14.4\" fill=\"#e26f46\" fill-rule=\"evenodd\" fill-opacity=\"1\" stroke=\"#000000\" stroke-opacity=\"1\" stroke-width=\"3.2\"/>\n",
       "<circle clip-path=\"url(#clip792)\" cx=\"1166.79\" cy=\"1353.33\" r=\"14.4\" fill=\"#e26f46\" fill-rule=\"evenodd\" fill-opacity=\"1\" stroke=\"#000000\" stroke-opacity=\"1\" stroke-width=\"3.2\"/>\n",
       "<circle clip-path=\"url(#clip792)\" cx=\"1461\" cy=\"117.092\" r=\"14.4\" fill=\"#e26f46\" fill-rule=\"evenodd\" fill-opacity=\"1\" stroke=\"#000000\" stroke-opacity=\"1\" stroke-width=\"3.2\"/>\n",
       "<circle clip-path=\"url(#clip792)\" cx=\"1436.33\" cy=\"1353.33\" r=\"14.4\" fill=\"#e26f46\" fill-rule=\"evenodd\" fill-opacity=\"1\" stroke=\"#000000\" stroke-opacity=\"1\" stroke-width=\"3.2\"/>\n",
       "<circle clip-path=\"url(#clip792)\" cx=\"334.032\" cy=\"1353.33\" r=\"14.4\" fill=\"#e26f46\" fill-rule=\"evenodd\" fill-opacity=\"1\" stroke=\"#000000\" stroke-opacity=\"1\" stroke-width=\"3.2\"/>\n",
       "<circle clip-path=\"url(#clip792)\" cx=\"1449.56\" cy=\"117.092\" r=\"14.4\" fill=\"#e26f46\" fill-rule=\"evenodd\" fill-opacity=\"1\" stroke=\"#000000\" stroke-opacity=\"1\" stroke-width=\"3.2\"/>\n",
       "<circle clip-path=\"url(#clip792)\" cx=\"1372.46\" cy=\"117.092\" r=\"14.4\" fill=\"#e26f46\" fill-rule=\"evenodd\" fill-opacity=\"1\" stroke=\"#000000\" stroke-opacity=\"1\" stroke-width=\"3.2\"/>\n",
       "<circle clip-path=\"url(#clip792)\" cx=\"1353.28\" cy=\"117.092\" r=\"14.4\" fill=\"#e26f46\" fill-rule=\"evenodd\" fill-opacity=\"1\" stroke=\"#000000\" stroke-opacity=\"1\" stroke-width=\"3.2\"/>\n",
       "<circle clip-path=\"url(#clip792)\" cx=\"2035.93\" cy=\"1353.33\" r=\"14.4\" fill=\"#e26f46\" fill-rule=\"evenodd\" fill-opacity=\"1\" stroke=\"#000000\" stroke-opacity=\"1\" stroke-width=\"3.2\"/>\n",
       "<circle clip-path=\"url(#clip792)\" cx=\"1420.42\" cy=\"117.092\" r=\"14.4\" fill=\"#e26f46\" fill-rule=\"evenodd\" fill-opacity=\"1\" stroke=\"#000000\" stroke-opacity=\"1\" stroke-width=\"3.2\"/>\n",
       "<circle clip-path=\"url(#clip792)\" cx=\"1479.51\" cy=\"117.092\" r=\"14.4\" fill=\"#e26f46\" fill-rule=\"evenodd\" fill-opacity=\"1\" stroke=\"#000000\" stroke-opacity=\"1\" stroke-width=\"3.2\"/>\n",
       "<circle clip-path=\"url(#clip792)\" cx=\"334.032\" cy=\"1353.33\" r=\"14.4\" fill=\"#e26f46\" fill-rule=\"evenodd\" fill-opacity=\"1\" stroke=\"#000000\" stroke-opacity=\"1\" stroke-width=\"3.2\"/>\n",
       "<circle clip-path=\"url(#clip792)\" cx=\"1365.09\" cy=\"1353.33\" r=\"14.4\" fill=\"#e26f46\" fill-rule=\"evenodd\" fill-opacity=\"1\" stroke=\"#000000\" stroke-opacity=\"1\" stroke-width=\"3.2\"/>\n",
       "<circle clip-path=\"url(#clip792)\" cx=\"334.032\" cy=\"1353.33\" r=\"14.4\" fill=\"#e26f46\" fill-rule=\"evenodd\" fill-opacity=\"1\" stroke=\"#000000\" stroke-opacity=\"1\" stroke-width=\"3.2\"/>\n",
       "<circle clip-path=\"url(#clip792)\" cx=\"2035.93\" cy=\"117.092\" r=\"14.4\" fill=\"#e26f46\" fill-rule=\"evenodd\" fill-opacity=\"1\" stroke=\"#000000\" stroke-opacity=\"1\" stroke-width=\"3.2\"/>\n",
       "<circle clip-path=\"url(#clip792)\" cx=\"1535.96\" cy=\"1353.33\" r=\"14.4\" fill=\"#e26f46\" fill-rule=\"evenodd\" fill-opacity=\"1\" stroke=\"#000000\" stroke-opacity=\"1\" stroke-width=\"3.2\"/>\n",
       "<circle clip-path=\"url(#clip792)\" cx=\"1276.29\" cy=\"1353.33\" r=\"14.4\" fill=\"#e26f46\" fill-rule=\"evenodd\" fill-opacity=\"1\" stroke=\"#000000\" stroke-opacity=\"1\" stroke-width=\"3.2\"/>\n",
       "<circle clip-path=\"url(#clip792)\" cx=\"933.326\" cy=\"117.092\" r=\"14.4\" fill=\"#e26f46\" fill-rule=\"evenodd\" fill-opacity=\"1\" stroke=\"#000000\" stroke-opacity=\"1\" stroke-width=\"3.2\"/>\n",
       "<circle clip-path=\"url(#clip792)\" cx=\"945.842\" cy=\"117.092\" r=\"14.4\" fill=\"#e26f46\" fill-rule=\"evenodd\" fill-opacity=\"1\" stroke=\"#000000\" stroke-opacity=\"1\" stroke-width=\"3.2\"/>\n",
       "<circle clip-path=\"url(#clip792)\" cx=\"1000.66\" cy=\"117.092\" r=\"14.4\" fill=\"#e26f46\" fill-rule=\"evenodd\" fill-opacity=\"1\" stroke=\"#000000\" stroke-opacity=\"1\" stroke-width=\"3.2\"/>\n",
       "<circle clip-path=\"url(#clip792)\" cx=\"1488.52\" cy=\"117.092\" r=\"14.4\" fill=\"#e26f46\" fill-rule=\"evenodd\" fill-opacity=\"1\" stroke=\"#000000\" stroke-opacity=\"1\" stroke-width=\"3.2\"/>\n",
       "<circle clip-path=\"url(#clip792)\" cx=\"906.833\" cy=\"1353.33\" r=\"14.4\" fill=\"#e26f46\" fill-rule=\"evenodd\" fill-opacity=\"1\" stroke=\"#000000\" stroke-opacity=\"1\" stroke-width=\"3.2\"/>\n",
       "<circle clip-path=\"url(#clip792)\" cx=\"1222.67\" cy=\"117.092\" r=\"14.4\" fill=\"#e26f46\" fill-rule=\"evenodd\" fill-opacity=\"1\" stroke=\"#000000\" stroke-opacity=\"1\" stroke-width=\"3.2\"/>\n",
       "<circle clip-path=\"url(#clip792)\" cx=\"1403.59\" cy=\"117.092\" r=\"14.4\" fill=\"#e26f46\" fill-rule=\"evenodd\" fill-opacity=\"1\" stroke=\"#000000\" stroke-opacity=\"1\" stroke-width=\"3.2\"/>\n",
       "<circle clip-path=\"url(#clip792)\" cx=\"1109.64\" cy=\"1353.33\" r=\"14.4\" fill=\"#e26f46\" fill-rule=\"evenodd\" fill-opacity=\"1\" stroke=\"#000000\" stroke-opacity=\"1\" stroke-width=\"3.2\"/>\n",
       "<circle clip-path=\"url(#clip792)\" cx=\"1256.7\" cy=\"117.092\" r=\"14.4\" fill=\"#e26f46\" fill-rule=\"evenodd\" fill-opacity=\"1\" stroke=\"#000000\" stroke-opacity=\"1\" stroke-width=\"3.2\"/>\n",
       "<circle clip-path=\"url(#clip792)\" cx=\"816.781\" cy=\"117.092\" r=\"14.4\" fill=\"#e26f46\" fill-rule=\"evenodd\" fill-opacity=\"1\" stroke=\"#000000\" stroke-opacity=\"1\" stroke-width=\"3.2\"/>\n",
       "<circle clip-path=\"url(#clip792)\" cx=\"736.246\" cy=\"1353.33\" r=\"14.4\" fill=\"#e26f46\" fill-rule=\"evenodd\" fill-opacity=\"1\" stroke=\"#000000\" stroke-opacity=\"1\" stroke-width=\"3.2\"/>\n",
       "<circle clip-path=\"url(#clip792)\" cx=\"334.032\" cy=\"117.092\" r=\"14.4\" fill=\"#e26f46\" fill-rule=\"evenodd\" fill-opacity=\"1\" stroke=\"#000000\" stroke-opacity=\"1\" stroke-width=\"3.2\"/>\n",
       "<circle clip-path=\"url(#clip792)\" cx=\"841.565\" cy=\"117.092\" r=\"14.4\" fill=\"#e26f46\" fill-rule=\"evenodd\" fill-opacity=\"1\" stroke=\"#000000\" stroke-opacity=\"1\" stroke-width=\"3.2\"/>\n",
       "<circle clip-path=\"url(#clip792)\" cx=\"807.423\" cy=\"117.092\" r=\"14.4\" fill=\"#e26f46\" fill-rule=\"evenodd\" fill-opacity=\"1\" stroke=\"#000000\" stroke-opacity=\"1\" stroke-width=\"3.2\"/>\n",
       "<circle clip-path=\"url(#clip792)\" cx=\"910.137\" cy=\"1353.33\" r=\"14.4\" fill=\"#e26f46\" fill-rule=\"evenodd\" fill-opacity=\"1\" stroke=\"#000000\" stroke-opacity=\"1\" stroke-width=\"3.2\"/>\n",
       "<circle clip-path=\"url(#clip792)\" cx=\"2035.93\" cy=\"1353.33\" r=\"14.4\" fill=\"#e26f46\" fill-rule=\"evenodd\" fill-opacity=\"1\" stroke=\"#000000\" stroke-opacity=\"1\" stroke-width=\"3.2\"/>\n",
       "<circle clip-path=\"url(#clip792)\" cx=\"2035.93\" cy=\"1353.33\" r=\"14.4\" fill=\"#e26f46\" fill-rule=\"evenodd\" fill-opacity=\"1\" stroke=\"#000000\" stroke-opacity=\"1\" stroke-width=\"3.2\"/>\n",
       "<circle clip-path=\"url(#clip792)\" cx=\"334.032\" cy=\"1353.33\" r=\"14.4\" fill=\"#e26f46\" fill-rule=\"evenodd\" fill-opacity=\"1\" stroke=\"#000000\" stroke-opacity=\"1\" stroke-width=\"3.2\"/>\n",
       "<circle clip-path=\"url(#clip792)\" cx=\"1053.56\" cy=\"117.092\" r=\"14.4\" fill=\"#e26f46\" fill-rule=\"evenodd\" fill-opacity=\"1\" stroke=\"#000000\" stroke-opacity=\"1\" stroke-width=\"3.2\"/>\n",
       "<circle clip-path=\"url(#clip792)\" cx=\"905.952\" cy=\"117.092\" r=\"14.4\" fill=\"#e26f46\" fill-rule=\"evenodd\" fill-opacity=\"1\" stroke=\"#000000\" stroke-opacity=\"1\" stroke-width=\"3.2\"/>\n",
       "<circle clip-path=\"url(#clip792)\" cx=\"1246.17\" cy=\"117.092\" r=\"14.4\" fill=\"#e26f46\" fill-rule=\"evenodd\" fill-opacity=\"1\" stroke=\"#000000\" stroke-opacity=\"1\" stroke-width=\"3.2\"/>\n",
       "<circle clip-path=\"url(#clip792)\" cx=\"1077.25\" cy=\"1353.33\" r=\"14.4\" fill=\"#e26f46\" fill-rule=\"evenodd\" fill-opacity=\"1\" stroke=\"#000000\" stroke-opacity=\"1\" stroke-width=\"3.2\"/>\n",
       "<circle clip-path=\"url(#clip792)\" cx=\"334.032\" cy=\"117.092\" r=\"14.4\" fill=\"#e26f46\" fill-rule=\"evenodd\" fill-opacity=\"1\" stroke=\"#000000\" stroke-opacity=\"1\" stroke-width=\"3.2\"/>\n",
       "<circle clip-path=\"url(#clip792)\" cx=\"913.895\" cy=\"1353.33\" r=\"14.4\" fill=\"#e26f46\" fill-rule=\"evenodd\" fill-opacity=\"1\" stroke=\"#000000\" stroke-opacity=\"1\" stroke-width=\"3.2\"/>\n",
       "<circle clip-path=\"url(#clip792)\" cx=\"1116.44\" cy=\"117.092\" r=\"14.4\" fill=\"#e26f46\" fill-rule=\"evenodd\" fill-opacity=\"1\" stroke=\"#000000\" stroke-opacity=\"1\" stroke-width=\"3.2\"/>\n",
       "<circle clip-path=\"url(#clip792)\" cx=\"1043.19\" cy=\"1353.33\" r=\"14.4\" fill=\"#e26f46\" fill-rule=\"evenodd\" fill-opacity=\"1\" stroke=\"#000000\" stroke-opacity=\"1\" stroke-width=\"3.2\"/>\n",
       "<circle clip-path=\"url(#clip792)\" cx=\"1160.06\" cy=\"117.092\" r=\"14.4\" fill=\"#e26f46\" fill-rule=\"evenodd\" fill-opacity=\"1\" stroke=\"#000000\" stroke-opacity=\"1\" stroke-width=\"3.2\"/>\n",
       "<circle clip-path=\"url(#clip792)\" cx=\"897.405\" cy=\"117.092\" r=\"14.4\" fill=\"#e26f46\" fill-rule=\"evenodd\" fill-opacity=\"1\" stroke=\"#000000\" stroke-opacity=\"1\" stroke-width=\"3.2\"/>\n",
       "<circle clip-path=\"url(#clip792)\" cx=\"334.032\" cy=\"1353.33\" r=\"14.4\" fill=\"#e26f46\" fill-rule=\"evenodd\" fill-opacity=\"1\" stroke=\"#000000\" stroke-opacity=\"1\" stroke-width=\"3.2\"/>\n",
       "<circle clip-path=\"url(#clip792)\" cx=\"1081.99\" cy=\"117.092\" r=\"14.4\" fill=\"#e26f46\" fill-rule=\"evenodd\" fill-opacity=\"1\" stroke=\"#000000\" stroke-opacity=\"1\" stroke-width=\"3.2\"/>\n",
       "<circle clip-path=\"url(#clip792)\" cx=\"2035.93\" cy=\"117.092\" r=\"14.4\" fill=\"#e26f46\" fill-rule=\"evenodd\" fill-opacity=\"1\" stroke=\"#000000\" stroke-opacity=\"1\" stroke-width=\"3.2\"/>\n",
       "<circle clip-path=\"url(#clip792)\" cx=\"2035.93\" cy=\"1353.33\" r=\"14.4\" fill=\"#e26f46\" fill-rule=\"evenodd\" fill-opacity=\"1\" stroke=\"#000000\" stroke-opacity=\"1\" stroke-width=\"3.2\"/>\n",
       "<circle clip-path=\"url(#clip792)\" cx=\"1321.12\" cy=\"117.092\" r=\"14.4\" fill=\"#e26f46\" fill-rule=\"evenodd\" fill-opacity=\"1\" stroke=\"#000000\" stroke-opacity=\"1\" stroke-width=\"3.2\"/>\n",
       "<circle clip-path=\"url(#clip792)\" cx=\"2035.93\" cy=\"117.092\" r=\"14.4\" fill=\"#e26f46\" fill-rule=\"evenodd\" fill-opacity=\"1\" stroke=\"#000000\" stroke-opacity=\"1\" stroke-width=\"3.2\"/>\n",
       "<circle clip-path=\"url(#clip792)\" cx=\"1140.79\" cy=\"117.092\" r=\"14.4\" fill=\"#e26f46\" fill-rule=\"evenodd\" fill-opacity=\"1\" stroke=\"#000000\" stroke-opacity=\"1\" stroke-width=\"3.2\"/>\n",
       "<circle clip-path=\"url(#clip792)\" cx=\"821.632\" cy=\"1353.33\" r=\"14.4\" fill=\"#e26f46\" fill-rule=\"evenodd\" fill-opacity=\"1\" stroke=\"#000000\" stroke-opacity=\"1\" stroke-width=\"3.2\"/>\n",
       "<circle clip-path=\"url(#clip792)\" cx=\"1356.65\" cy=\"117.092\" r=\"14.4\" fill=\"#e26f46\" fill-rule=\"evenodd\" fill-opacity=\"1\" stroke=\"#000000\" stroke-opacity=\"1\" stroke-width=\"3.2\"/>\n",
       "<circle clip-path=\"url(#clip792)\" cx=\"1074.92\" cy=\"1353.33\" r=\"14.4\" fill=\"#e26f46\" fill-rule=\"evenodd\" fill-opacity=\"1\" stroke=\"#000000\" stroke-opacity=\"1\" stroke-width=\"3.2\"/>\n",
       "<circle clip-path=\"url(#clip792)\" cx=\"976.587\" cy=\"1353.33\" r=\"14.4\" fill=\"#e26f46\" fill-rule=\"evenodd\" fill-opacity=\"1\" stroke=\"#000000\" stroke-opacity=\"1\" stroke-width=\"3.2\"/>\n",
       "<circle clip-path=\"url(#clip792)\" cx=\"334.032\" cy=\"117.092\" r=\"14.4\" fill=\"#e26f46\" fill-rule=\"evenodd\" fill-opacity=\"1\" stroke=\"#000000\" stroke-opacity=\"1\" stroke-width=\"3.2\"/>\n",
       "<circle clip-path=\"url(#clip792)\" cx=\"1204.86\" cy=\"117.092\" r=\"14.4\" fill=\"#e26f46\" fill-rule=\"evenodd\" fill-opacity=\"1\" stroke=\"#000000\" stroke-opacity=\"1\" stroke-width=\"3.2\"/>\n",
       "<circle clip-path=\"url(#clip792)\" cx=\"1448.12\" cy=\"117.092\" r=\"14.4\" fill=\"#e26f46\" fill-rule=\"evenodd\" fill-opacity=\"1\" stroke=\"#000000\" stroke-opacity=\"1\" stroke-width=\"3.2\"/>\n",
       "<circle clip-path=\"url(#clip792)\" cx=\"1416.77\" cy=\"1353.33\" r=\"14.4\" fill=\"#e26f46\" fill-rule=\"evenodd\" fill-opacity=\"1\" stroke=\"#000000\" stroke-opacity=\"1\" stroke-width=\"3.2\"/>\n",
       "<circle clip-path=\"url(#clip792)\" cx=\"889.463\" cy=\"117.092\" r=\"14.4\" fill=\"#e26f46\" fill-rule=\"evenodd\" fill-opacity=\"1\" stroke=\"#000000\" stroke-opacity=\"1\" stroke-width=\"3.2\"/>\n",
       "<circle clip-path=\"url(#clip792)\" cx=\"334.032\" cy=\"117.092\" r=\"14.4\" fill=\"#e26f46\" fill-rule=\"evenodd\" fill-opacity=\"1\" stroke=\"#000000\" stroke-opacity=\"1\" stroke-width=\"3.2\"/>\n",
       "<circle clip-path=\"url(#clip792)\" cx=\"1514.11\" cy=\"117.092\" r=\"14.4\" fill=\"#e26f46\" fill-rule=\"evenodd\" fill-opacity=\"1\" stroke=\"#000000\" stroke-opacity=\"1\" stroke-width=\"3.2\"/>\n",
       "<circle clip-path=\"url(#clip792)\" cx=\"2035.93\" cy=\"1353.33\" r=\"14.4\" fill=\"#e26f46\" fill-rule=\"evenodd\" fill-opacity=\"1\" stroke=\"#000000\" stroke-opacity=\"1\" stroke-width=\"3.2\"/>\n",
       "<circle clip-path=\"url(#clip792)\" cx=\"881.367\" cy=\"117.092\" r=\"14.4\" fill=\"#e26f46\" fill-rule=\"evenodd\" fill-opacity=\"1\" stroke=\"#000000\" stroke-opacity=\"1\" stroke-width=\"3.2\"/>\n",
       "<circle clip-path=\"url(#clip792)\" cx=\"828.358\" cy=\"117.092\" r=\"14.4\" fill=\"#e26f46\" fill-rule=\"evenodd\" fill-opacity=\"1\" stroke=\"#000000\" stroke-opacity=\"1\" stroke-width=\"3.2\"/>\n",
       "<circle clip-path=\"url(#clip792)\" cx=\"841.447\" cy=\"1353.33\" r=\"14.4\" fill=\"#e26f46\" fill-rule=\"evenodd\" fill-opacity=\"1\" stroke=\"#000000\" stroke-opacity=\"1\" stroke-width=\"3.2\"/>\n",
       "<circle clip-path=\"url(#clip792)\" cx=\"2035.93\" cy=\"1353.33\" r=\"14.4\" fill=\"#e26f46\" fill-rule=\"evenodd\" fill-opacity=\"1\" stroke=\"#000000\" stroke-opacity=\"1\" stroke-width=\"3.2\"/>\n",
       "<circle clip-path=\"url(#clip792)\" cx=\"2035.93\" cy=\"1353.33\" r=\"14.4\" fill=\"#e26f46\" fill-rule=\"evenodd\" fill-opacity=\"1\" stroke=\"#000000\" stroke-opacity=\"1\" stroke-width=\"3.2\"/>\n",
       "<circle clip-path=\"url(#clip792)\" cx=\"1479.77\" cy=\"1353.33\" r=\"14.4\" fill=\"#e26f46\" fill-rule=\"evenodd\" fill-opacity=\"1\" stroke=\"#000000\" stroke-opacity=\"1\" stroke-width=\"3.2\"/>\n",
       "<circle clip-path=\"url(#clip792)\" cx=\"1247.7\" cy=\"1353.33\" r=\"14.4\" fill=\"#e26f46\" fill-rule=\"evenodd\" fill-opacity=\"1\" stroke=\"#000000\" stroke-opacity=\"1\" stroke-width=\"3.2\"/>\n",
       "<circle clip-path=\"url(#clip792)\" cx=\"979.006\" cy=\"117.092\" r=\"14.4\" fill=\"#e26f46\" fill-rule=\"evenodd\" fill-opacity=\"1\" stroke=\"#000000\" stroke-opacity=\"1\" stroke-width=\"3.2\"/>\n",
       "<circle clip-path=\"url(#clip792)\" cx=\"914.282\" cy=\"1353.33\" r=\"14.4\" fill=\"#e26f46\" fill-rule=\"evenodd\" fill-opacity=\"1\" stroke=\"#000000\" stroke-opacity=\"1\" stroke-width=\"3.2\"/>\n",
       "<circle clip-path=\"url(#clip792)\" cx=\"932.015\" cy=\"1353.33\" r=\"14.4\" fill=\"#e26f46\" fill-rule=\"evenodd\" fill-opacity=\"1\" stroke=\"#000000\" stroke-opacity=\"1\" stroke-width=\"3.2\"/>\n",
       "<circle clip-path=\"url(#clip792)\" cx=\"879.441\" cy=\"117.092\" r=\"14.4\" fill=\"#e26f46\" fill-rule=\"evenodd\" fill-opacity=\"1\" stroke=\"#000000\" stroke-opacity=\"1\" stroke-width=\"3.2\"/>\n",
       "<circle clip-path=\"url(#clip792)\" cx=\"927.134\" cy=\"117.092\" r=\"14.4\" fill=\"#e26f46\" fill-rule=\"evenodd\" fill-opacity=\"1\" stroke=\"#000000\" stroke-opacity=\"1\" stroke-width=\"3.2\"/>\n",
       "<circle clip-path=\"url(#clip792)\" cx=\"795.498\" cy=\"117.092\" r=\"14.4\" fill=\"#e26f46\" fill-rule=\"evenodd\" fill-opacity=\"1\" stroke=\"#000000\" stroke-opacity=\"1\" stroke-width=\"3.2\"/>\n",
       "<circle clip-path=\"url(#clip792)\" cx=\"916.141\" cy=\"117.092\" r=\"14.4\" fill=\"#e26f46\" fill-rule=\"evenodd\" fill-opacity=\"1\" stroke=\"#000000\" stroke-opacity=\"1\" stroke-width=\"3.2\"/>\n",
       "<circle clip-path=\"url(#clip792)\" cx=\"1076.54\" cy=\"1353.33\" r=\"14.4\" fill=\"#e26f46\" fill-rule=\"evenodd\" fill-opacity=\"1\" stroke=\"#000000\" stroke-opacity=\"1\" stroke-width=\"3.2\"/>\n",
       "<circle clip-path=\"url(#clip792)\" cx=\"920.341\" cy=\"117.092\" r=\"14.4\" fill=\"#e26f46\" fill-rule=\"evenodd\" fill-opacity=\"1\" stroke=\"#000000\" stroke-opacity=\"1\" stroke-width=\"3.2\"/>\n",
       "<circle clip-path=\"url(#clip792)\" cx=\"1262.83\" cy=\"117.092\" r=\"14.4\" fill=\"#e26f46\" fill-rule=\"evenodd\" fill-opacity=\"1\" stroke=\"#000000\" stroke-opacity=\"1\" stroke-width=\"3.2\"/>\n",
       "<circle clip-path=\"url(#clip792)\" cx=\"1180.84\" cy=\"117.092\" r=\"14.4\" fill=\"#e26f46\" fill-rule=\"evenodd\" fill-opacity=\"1\" stroke=\"#000000\" stroke-opacity=\"1\" stroke-width=\"3.2\"/>\n",
       "<circle clip-path=\"url(#clip792)\" cx=\"686.564\" cy=\"117.092\" r=\"14.4\" fill=\"#e26f46\" fill-rule=\"evenodd\" fill-opacity=\"1\" stroke=\"#000000\" stroke-opacity=\"1\" stroke-width=\"3.2\"/>\n",
       "<circle clip-path=\"url(#clip792)\" cx=\"1156.22\" cy=\"1353.33\" r=\"14.4\" fill=\"#e26f46\" fill-rule=\"evenodd\" fill-opacity=\"1\" stroke=\"#000000\" stroke-opacity=\"1\" stroke-width=\"3.2\"/>\n",
       "<circle clip-path=\"url(#clip792)\" cx=\"833.972\" cy=\"1353.33\" r=\"14.4\" fill=\"#e26f46\" fill-rule=\"evenodd\" fill-opacity=\"1\" stroke=\"#000000\" stroke-opacity=\"1\" stroke-width=\"3.2\"/>\n",
       "<circle clip-path=\"url(#clip792)\" cx=\"1032.9\" cy=\"1353.33\" r=\"14.4\" fill=\"#e26f46\" fill-rule=\"evenodd\" fill-opacity=\"1\" stroke=\"#000000\" stroke-opacity=\"1\" stroke-width=\"3.2\"/>\n",
       "<circle clip-path=\"url(#clip792)\" cx=\"1405.95\" cy=\"117.092\" r=\"14.4\" fill=\"#e26f46\" fill-rule=\"evenodd\" fill-opacity=\"1\" stroke=\"#000000\" stroke-opacity=\"1\" stroke-width=\"3.2\"/>\n",
       "<circle clip-path=\"url(#clip792)\" cx=\"1060.75\" cy=\"117.092\" r=\"14.4\" fill=\"#e26f46\" fill-rule=\"evenodd\" fill-opacity=\"1\" stroke=\"#000000\" stroke-opacity=\"1\" stroke-width=\"3.2\"/>\n",
       "<circle clip-path=\"url(#clip792)\" cx=\"1335.36\" cy=\"117.092\" r=\"14.4\" fill=\"#e26f46\" fill-rule=\"evenodd\" fill-opacity=\"1\" stroke=\"#000000\" stroke-opacity=\"1\" stroke-width=\"3.2\"/>\n",
       "<circle clip-path=\"url(#clip792)\" cx=\"2035.93\" cy=\"117.092\" r=\"14.4\" fill=\"#e26f46\" fill-rule=\"evenodd\" fill-opacity=\"1\" stroke=\"#000000\" stroke-opacity=\"1\" stroke-width=\"3.2\"/>\n",
       "<circle clip-path=\"url(#clip792)\" cx=\"334.032\" cy=\"117.092\" r=\"14.4\" fill=\"#e26f46\" fill-rule=\"evenodd\" fill-opacity=\"1\" stroke=\"#000000\" stroke-opacity=\"1\" stroke-width=\"3.2\"/>\n",
       "<circle clip-path=\"url(#clip792)\" cx=\"832.365\" cy=\"1353.33\" r=\"14.4\" fill=\"#e26f46\" fill-rule=\"evenodd\" fill-opacity=\"1\" stroke=\"#000000\" stroke-opacity=\"1\" stroke-width=\"3.2\"/>\n",
       "<circle clip-path=\"url(#clip792)\" cx=\"2035.93\" cy=\"1353.33\" r=\"14.4\" fill=\"#e26f46\" fill-rule=\"evenodd\" fill-opacity=\"1\" stroke=\"#000000\" stroke-opacity=\"1\" stroke-width=\"3.2\"/>\n",
       "<circle clip-path=\"url(#clip792)\" cx=\"1384.84\" cy=\"117.092\" r=\"14.4\" fill=\"#e26f46\" fill-rule=\"evenodd\" fill-opacity=\"1\" stroke=\"#000000\" stroke-opacity=\"1\" stroke-width=\"3.2\"/>\n",
       "<circle clip-path=\"url(#clip792)\" cx=\"2035.93\" cy=\"1353.33\" r=\"14.4\" fill=\"#e26f46\" fill-rule=\"evenodd\" fill-opacity=\"1\" stroke=\"#000000\" stroke-opacity=\"1\" stroke-width=\"3.2\"/>\n",
       "<circle clip-path=\"url(#clip792)\" cx=\"827.922\" cy=\"117.092\" r=\"14.4\" fill=\"#e26f46\" fill-rule=\"evenodd\" fill-opacity=\"1\" stroke=\"#000000\" stroke-opacity=\"1\" stroke-width=\"3.2\"/>\n",
       "<circle clip-path=\"url(#clip792)\" cx=\"761.44\" cy=\"117.092\" r=\"14.4\" fill=\"#e26f46\" fill-rule=\"evenodd\" fill-opacity=\"1\" stroke=\"#000000\" stroke-opacity=\"1\" stroke-width=\"3.2\"/>\n",
       "<circle clip-path=\"url(#clip792)\" cx=\"2035.93\" cy=\"1353.33\" r=\"14.4\" fill=\"#e26f46\" fill-rule=\"evenodd\" fill-opacity=\"1\" stroke=\"#000000\" stroke-opacity=\"1\" stroke-width=\"3.2\"/>\n",
       "<circle clip-path=\"url(#clip792)\" cx=\"1456.19\" cy=\"117.092\" r=\"14.4\" fill=\"#e26f46\" fill-rule=\"evenodd\" fill-opacity=\"1\" stroke=\"#000000\" stroke-opacity=\"1\" stroke-width=\"3.2\"/>\n",
       "<circle clip-path=\"url(#clip792)\" cx=\"2035.93\" cy=\"117.092\" r=\"14.4\" fill=\"#e26f46\" fill-rule=\"evenodd\" fill-opacity=\"1\" stroke=\"#000000\" stroke-opacity=\"1\" stroke-width=\"3.2\"/>\n",
       "<circle clip-path=\"url(#clip792)\" cx=\"1626.49\" cy=\"117.092\" r=\"14.4\" fill=\"#e26f46\" fill-rule=\"evenodd\" fill-opacity=\"1\" stroke=\"#000000\" stroke-opacity=\"1\" stroke-width=\"3.2\"/>\n",
       "<circle clip-path=\"url(#clip792)\" cx=\"1395.1\" cy=\"1353.33\" r=\"14.4\" fill=\"#e26f46\" fill-rule=\"evenodd\" fill-opacity=\"1\" stroke=\"#000000\" stroke-opacity=\"1\" stroke-width=\"3.2\"/>\n",
       "<circle clip-path=\"url(#clip792)\" cx=\"1009.28\" cy=\"117.092\" r=\"14.4\" fill=\"#e26f46\" fill-rule=\"evenodd\" fill-opacity=\"1\" stroke=\"#000000\" stroke-opacity=\"1\" stroke-width=\"3.2\"/>\n",
       "<circle clip-path=\"url(#clip792)\" cx=\"2035.93\" cy=\"117.092\" r=\"14.4\" fill=\"#e26f46\" fill-rule=\"evenodd\" fill-opacity=\"1\" stroke=\"#000000\" stroke-opacity=\"1\" stroke-width=\"3.2\"/>\n",
       "<circle clip-path=\"url(#clip792)\" cx=\"1496.11\" cy=\"117.092\" r=\"14.4\" fill=\"#e26f46\" fill-rule=\"evenodd\" fill-opacity=\"1\" stroke=\"#000000\" stroke-opacity=\"1\" stroke-width=\"3.2\"/>\n",
       "<circle clip-path=\"url(#clip792)\" cx=\"1477.52\" cy=\"117.092\" r=\"14.4\" fill=\"#e26f46\" fill-rule=\"evenodd\" fill-opacity=\"1\" stroke=\"#000000\" stroke-opacity=\"1\" stroke-width=\"3.2\"/>\n",
       "<circle clip-path=\"url(#clip792)\" cx=\"2035.93\" cy=\"117.092\" r=\"14.4\" fill=\"#e26f46\" fill-rule=\"evenodd\" fill-opacity=\"1\" stroke=\"#000000\" stroke-opacity=\"1\" stroke-width=\"3.2\"/>\n",
       "<circle clip-path=\"url(#clip792)\" cx=\"2035.93\" cy=\"117.092\" r=\"14.4\" fill=\"#e26f46\" fill-rule=\"evenodd\" fill-opacity=\"1\" stroke=\"#000000\" stroke-opacity=\"1\" stroke-width=\"3.2\"/>\n",
       "<circle clip-path=\"url(#clip792)\" cx=\"2035.93\" cy=\"117.092\" r=\"14.4\" fill=\"#e26f46\" fill-rule=\"evenodd\" fill-opacity=\"1\" stroke=\"#000000\" stroke-opacity=\"1\" stroke-width=\"3.2\"/>\n",
       "<circle clip-path=\"url(#clip792)\" cx=\"2035.93\" cy=\"117.092\" r=\"14.4\" fill=\"#e26f46\" fill-rule=\"evenodd\" fill-opacity=\"1\" stroke=\"#000000\" stroke-opacity=\"1\" stroke-width=\"3.2\"/>\n",
       "<circle clip-path=\"url(#clip792)\" cx=\"2035.93\" cy=\"117.092\" r=\"14.4\" fill=\"#e26f46\" fill-rule=\"evenodd\" fill-opacity=\"1\" stroke=\"#000000\" stroke-opacity=\"1\" stroke-width=\"3.2\"/>\n",
       "<circle clip-path=\"url(#clip792)\" cx=\"2035.93\" cy=\"117.092\" r=\"14.4\" fill=\"#e26f46\" fill-rule=\"evenodd\" fill-opacity=\"1\" stroke=\"#000000\" stroke-opacity=\"1\" stroke-width=\"3.2\"/>\n",
       "<circle clip-path=\"url(#clip792)\" cx=\"2035.93\" cy=\"117.092\" r=\"14.4\" fill=\"#e26f46\" fill-rule=\"evenodd\" fill-opacity=\"1\" stroke=\"#000000\" stroke-opacity=\"1\" stroke-width=\"3.2\"/>\n",
       "<circle clip-path=\"url(#clip792)\" cx=\"2035.93\" cy=\"117.092\" r=\"14.4\" fill=\"#e26f46\" fill-rule=\"evenodd\" fill-opacity=\"1\" stroke=\"#000000\" stroke-opacity=\"1\" stroke-width=\"3.2\"/>\n",
       "<circle clip-path=\"url(#clip792)\" cx=\"2035.93\" cy=\"117.092\" r=\"14.4\" fill=\"#e26f46\" fill-rule=\"evenodd\" fill-opacity=\"1\" stroke=\"#000000\" stroke-opacity=\"1\" stroke-width=\"3.2\"/>\n",
       "<circle clip-path=\"url(#clip792)\" cx=\"2035.93\" cy=\"117.092\" r=\"14.4\" fill=\"#e26f46\" fill-rule=\"evenodd\" fill-opacity=\"1\" stroke=\"#000000\" stroke-opacity=\"1\" stroke-width=\"3.2\"/>\n",
       "<circle clip-path=\"url(#clip792)\" cx=\"2035.93\" cy=\"117.092\" r=\"14.4\" fill=\"#e26f46\" fill-rule=\"evenodd\" fill-opacity=\"1\" stroke=\"#000000\" stroke-opacity=\"1\" stroke-width=\"3.2\"/>\n",
       "<circle clip-path=\"url(#clip792)\" cx=\"2035.93\" cy=\"117.092\" r=\"14.4\" fill=\"#e26f46\" fill-rule=\"evenodd\" fill-opacity=\"1\" stroke=\"#000000\" stroke-opacity=\"1\" stroke-width=\"3.2\"/>\n",
       "<circle clip-path=\"url(#clip792)\" cx=\"2035.93\" cy=\"117.092\" r=\"14.4\" fill=\"#e26f46\" fill-rule=\"evenodd\" fill-opacity=\"1\" stroke=\"#000000\" stroke-opacity=\"1\" stroke-width=\"3.2\"/>\n",
       "<circle clip-path=\"url(#clip792)\" cx=\"2035.93\" cy=\"117.092\" r=\"14.4\" fill=\"#e26f46\" fill-rule=\"evenodd\" fill-opacity=\"1\" stroke=\"#000000\" stroke-opacity=\"1\" stroke-width=\"3.2\"/>\n",
       "<circle clip-path=\"url(#clip792)\" cx=\"2035.93\" cy=\"117.092\" r=\"14.4\" fill=\"#e26f46\" fill-rule=\"evenodd\" fill-opacity=\"1\" stroke=\"#000000\" stroke-opacity=\"1\" stroke-width=\"3.2\"/>\n",
       "<circle clip-path=\"url(#clip792)\" cx=\"2035.93\" cy=\"1353.33\" r=\"14.4\" fill=\"#e26f46\" fill-rule=\"evenodd\" fill-opacity=\"1\" stroke=\"#000000\" stroke-opacity=\"1\" stroke-width=\"3.2\"/>\n",
       "<circle clip-path=\"url(#clip792)\" cx=\"2035.93\" cy=\"117.092\" r=\"14.4\" fill=\"#e26f46\" fill-rule=\"evenodd\" fill-opacity=\"1\" stroke=\"#000000\" stroke-opacity=\"1\" stroke-width=\"3.2\"/>\n",
       "<circle clip-path=\"url(#clip792)\" cx=\"2035.93\" cy=\"117.092\" r=\"14.4\" fill=\"#e26f46\" fill-rule=\"evenodd\" fill-opacity=\"1\" stroke=\"#000000\" stroke-opacity=\"1\" stroke-width=\"3.2\"/>\n",
       "<circle clip-path=\"url(#clip792)\" cx=\"2035.93\" cy=\"117.092\" r=\"14.4\" fill=\"#e26f46\" fill-rule=\"evenodd\" fill-opacity=\"1\" stroke=\"#000000\" stroke-opacity=\"1\" stroke-width=\"3.2\"/>\n",
       "<circle clip-path=\"url(#clip792)\" cx=\"1630.91\" cy=\"117.092\" r=\"14.4\" fill=\"#e26f46\" fill-rule=\"evenodd\" fill-opacity=\"1\" stroke=\"#000000\" stroke-opacity=\"1\" stroke-width=\"3.2\"/>\n",
       "<circle clip-path=\"url(#clip792)\" cx=\"2035.93\" cy=\"117.092\" r=\"14.4\" fill=\"#e26f46\" fill-rule=\"evenodd\" fill-opacity=\"1\" stroke=\"#000000\" stroke-opacity=\"1\" stroke-width=\"3.2\"/>\n",
       "<circle clip-path=\"url(#clip792)\" cx=\"2035.93\" cy=\"1353.33\" r=\"14.4\" fill=\"#e26f46\" fill-rule=\"evenodd\" fill-opacity=\"1\" stroke=\"#000000\" stroke-opacity=\"1\" stroke-width=\"3.2\"/>\n",
       "<circle clip-path=\"url(#clip792)\" cx=\"334.032\" cy=\"117.092\" r=\"14.4\" fill=\"#e26f46\" fill-rule=\"evenodd\" fill-opacity=\"1\" stroke=\"#000000\" stroke-opacity=\"1\" stroke-width=\"3.2\"/>\n",
       "<circle clip-path=\"url(#clip792)\" cx=\"2035.93\" cy=\"117.092\" r=\"14.4\" fill=\"#e26f46\" fill-rule=\"evenodd\" fill-opacity=\"1\" stroke=\"#000000\" stroke-opacity=\"1\" stroke-width=\"3.2\"/>\n",
       "<circle clip-path=\"url(#clip792)\" cx=\"2035.93\" cy=\"1353.33\" r=\"14.4\" fill=\"#e26f46\" fill-rule=\"evenodd\" fill-opacity=\"1\" stroke=\"#000000\" stroke-opacity=\"1\" stroke-width=\"3.2\"/>\n",
       "<circle clip-path=\"url(#clip792)\" cx=\"2035.93\" cy=\"117.092\" r=\"14.4\" fill=\"#e26f46\" fill-rule=\"evenodd\" fill-opacity=\"1\" stroke=\"#000000\" stroke-opacity=\"1\" stroke-width=\"3.2\"/>\n",
       "<circle clip-path=\"url(#clip792)\" cx=\"1592.05\" cy=\"117.092\" r=\"14.4\" fill=\"#e26f46\" fill-rule=\"evenodd\" fill-opacity=\"1\" stroke=\"#000000\" stroke-opacity=\"1\" stroke-width=\"3.2\"/>\n",
       "<circle clip-path=\"url(#clip792)\" cx=\"1558.66\" cy=\"117.092\" r=\"14.4\" fill=\"#e26f46\" fill-rule=\"evenodd\" fill-opacity=\"1\" stroke=\"#000000\" stroke-opacity=\"1\" stroke-width=\"3.2\"/>\n",
       "<circle clip-path=\"url(#clip792)\" cx=\"2035.93\" cy=\"1353.33\" r=\"14.4\" fill=\"#e26f46\" fill-rule=\"evenodd\" fill-opacity=\"1\" stroke=\"#000000\" stroke-opacity=\"1\" stroke-width=\"3.2\"/>\n",
       "<circle clip-path=\"url(#clip792)\" cx=\"334.032\" cy=\"117.092\" r=\"14.4\" fill=\"#e26f46\" fill-rule=\"evenodd\" fill-opacity=\"1\" stroke=\"#000000\" stroke-opacity=\"1\" stroke-width=\"3.2\"/>\n",
       "<circle clip-path=\"url(#clip792)\" cx=\"1556.52\" cy=\"117.092\" r=\"14.4\" fill=\"#e26f46\" fill-rule=\"evenodd\" fill-opacity=\"1\" stroke=\"#000000\" stroke-opacity=\"1\" stroke-width=\"3.2\"/>\n",
       "<circle clip-path=\"url(#clip792)\" cx=\"2035.93\" cy=\"1353.33\" r=\"14.4\" fill=\"#e26f46\" fill-rule=\"evenodd\" fill-opacity=\"1\" stroke=\"#000000\" stroke-opacity=\"1\" stroke-width=\"3.2\"/>\n",
       "<circle clip-path=\"url(#clip792)\" cx=\"2035.93\" cy=\"117.092\" r=\"14.4\" fill=\"#e26f46\" fill-rule=\"evenodd\" fill-opacity=\"1\" stroke=\"#000000\" stroke-opacity=\"1\" stroke-width=\"3.2\"/>\n",
       "<circle clip-path=\"url(#clip792)\" cx=\"2035.93\" cy=\"117.092\" r=\"14.4\" fill=\"#e26f46\" fill-rule=\"evenodd\" fill-opacity=\"1\" stroke=\"#000000\" stroke-opacity=\"1\" stroke-width=\"3.2\"/>\n",
       "<circle clip-path=\"url(#clip792)\" cx=\"334.032\" cy=\"117.092\" r=\"14.4\" fill=\"#e26f46\" fill-rule=\"evenodd\" fill-opacity=\"1\" stroke=\"#000000\" stroke-opacity=\"1\" stroke-width=\"3.2\"/>\n",
       "<circle clip-path=\"url(#clip792)\" cx=\"2035.93\" cy=\"117.092\" r=\"14.4\" fill=\"#e26f46\" fill-rule=\"evenodd\" fill-opacity=\"1\" stroke=\"#000000\" stroke-opacity=\"1\" stroke-width=\"3.2\"/>\n",
       "<circle clip-path=\"url(#clip792)\" cx=\"1583.38\" cy=\"117.092\" r=\"14.4\" fill=\"#e26f46\" fill-rule=\"evenodd\" fill-opacity=\"1\" stroke=\"#000000\" stroke-opacity=\"1\" stroke-width=\"3.2\"/>\n",
       "<circle clip-path=\"url(#clip792)\" cx=\"2035.93\" cy=\"117.092\" r=\"14.4\" fill=\"#e26f46\" fill-rule=\"evenodd\" fill-opacity=\"1\" stroke=\"#000000\" stroke-opacity=\"1\" stroke-width=\"3.2\"/>\n",
       "<circle clip-path=\"url(#clip792)\" cx=\"1657.84\" cy=\"117.092\" r=\"14.4\" fill=\"#e26f46\" fill-rule=\"evenodd\" fill-opacity=\"1\" stroke=\"#000000\" stroke-opacity=\"1\" stroke-width=\"3.2\"/>\n",
       "<circle clip-path=\"url(#clip792)\" cx=\"2035.93\" cy=\"117.092\" r=\"14.4\" fill=\"#e26f46\" fill-rule=\"evenodd\" fill-opacity=\"1\" stroke=\"#000000\" stroke-opacity=\"1\" stroke-width=\"3.2\"/>\n",
       "<circle clip-path=\"url(#clip792)\" cx=\"1256.13\" cy=\"117.092\" r=\"14.4\" fill=\"#e26f46\" fill-rule=\"evenodd\" fill-opacity=\"1\" stroke=\"#000000\" stroke-opacity=\"1\" stroke-width=\"3.2\"/>\n",
       "<circle clip-path=\"url(#clip792)\" cx=\"1578.32\" cy=\"117.092\" r=\"14.4\" fill=\"#e26f46\" fill-rule=\"evenodd\" fill-opacity=\"1\" stroke=\"#000000\" stroke-opacity=\"1\" stroke-width=\"3.2\"/>\n",
       "<circle clip-path=\"url(#clip792)\" cx=\"1592.91\" cy=\"117.092\" r=\"14.4\" fill=\"#e26f46\" fill-rule=\"evenodd\" fill-opacity=\"1\" stroke=\"#000000\" stroke-opacity=\"1\" stroke-width=\"3.2\"/>\n",
       "<circle clip-path=\"url(#clip792)\" cx=\"2035.93\" cy=\"117.092\" r=\"14.4\" fill=\"#e26f46\" fill-rule=\"evenodd\" fill-opacity=\"1\" stroke=\"#000000\" stroke-opacity=\"1\" stroke-width=\"3.2\"/>\n",
       "<circle clip-path=\"url(#clip792)\" cx=\"334.032\" cy=\"1353.33\" r=\"14.4\" fill=\"#e26f46\" fill-rule=\"evenodd\" fill-opacity=\"1\" stroke=\"#000000\" stroke-opacity=\"1\" stroke-width=\"3.2\"/>\n",
       "<circle clip-path=\"url(#clip792)\" cx=\"334.032\" cy=\"117.092\" r=\"14.4\" fill=\"#e26f46\" fill-rule=\"evenodd\" fill-opacity=\"1\" stroke=\"#000000\" stroke-opacity=\"1\" stroke-width=\"3.2\"/>\n",
       "<circle clip-path=\"url(#clip792)\" cx=\"2035.93\" cy=\"117.092\" r=\"14.4\" fill=\"#e26f46\" fill-rule=\"evenodd\" fill-opacity=\"1\" stroke=\"#000000\" stroke-opacity=\"1\" stroke-width=\"3.2\"/>\n",
       "<circle clip-path=\"url(#clip792)\" cx=\"2035.93\" cy=\"117.092\" r=\"14.4\" fill=\"#e26f46\" fill-rule=\"evenodd\" fill-opacity=\"1\" stroke=\"#000000\" stroke-opacity=\"1\" stroke-width=\"3.2\"/>\n",
       "<circle clip-path=\"url(#clip792)\" cx=\"1554.92\" cy=\"117.092\" r=\"14.4\" fill=\"#e26f46\" fill-rule=\"evenodd\" fill-opacity=\"1\" stroke=\"#000000\" stroke-opacity=\"1\" stroke-width=\"3.2\"/>\n",
       "<circle clip-path=\"url(#clip792)\" cx=\"2035.93\" cy=\"117.092\" r=\"14.4\" fill=\"#e26f46\" fill-rule=\"evenodd\" fill-opacity=\"1\" stroke=\"#000000\" stroke-opacity=\"1\" stroke-width=\"3.2\"/>\n",
       "<circle clip-path=\"url(#clip792)\" cx=\"2035.93\" cy=\"1353.33\" r=\"14.4\" fill=\"#e26f46\" fill-rule=\"evenodd\" fill-opacity=\"1\" stroke=\"#000000\" stroke-opacity=\"1\" stroke-width=\"3.2\"/>\n",
       "<circle clip-path=\"url(#clip792)\" cx=\"2035.93\" cy=\"117.092\" r=\"14.4\" fill=\"#e26f46\" fill-rule=\"evenodd\" fill-opacity=\"1\" stroke=\"#000000\" stroke-opacity=\"1\" stroke-width=\"3.2\"/>\n",
       "<circle clip-path=\"url(#clip792)\" cx=\"1574.84\" cy=\"117.092\" r=\"14.4\" fill=\"#e26f46\" fill-rule=\"evenodd\" fill-opacity=\"1\" stroke=\"#000000\" stroke-opacity=\"1\" stroke-width=\"3.2\"/>\n",
       "<circle clip-path=\"url(#clip792)\" cx=\"1692.51\" cy=\"117.092\" r=\"14.4\" fill=\"#e26f46\" fill-rule=\"evenodd\" fill-opacity=\"1\" stroke=\"#000000\" stroke-opacity=\"1\" stroke-width=\"3.2\"/>\n",
       "<circle clip-path=\"url(#clip792)\" cx=\"2035.93\" cy=\"117.092\" r=\"14.4\" fill=\"#e26f46\" fill-rule=\"evenodd\" fill-opacity=\"1\" stroke=\"#000000\" stroke-opacity=\"1\" stroke-width=\"3.2\"/>\n",
       "<circle clip-path=\"url(#clip792)\" cx=\"1668.45\" cy=\"117.092\" r=\"14.4\" fill=\"#e26f46\" fill-rule=\"evenodd\" fill-opacity=\"1\" stroke=\"#000000\" stroke-opacity=\"1\" stroke-width=\"3.2\"/>\n",
       "<circle clip-path=\"url(#clip792)\" cx=\"1741.5\" cy=\"117.092\" r=\"14.4\" fill=\"#e26f46\" fill-rule=\"evenodd\" fill-opacity=\"1\" stroke=\"#000000\" stroke-opacity=\"1\" stroke-width=\"3.2\"/>\n",
       "<circle clip-path=\"url(#clip792)\" cx=\"2035.93\" cy=\"1353.33\" r=\"14.4\" fill=\"#e26f46\" fill-rule=\"evenodd\" fill-opacity=\"1\" stroke=\"#000000\" stroke-opacity=\"1\" stroke-width=\"3.2\"/>\n",
       "<circle clip-path=\"url(#clip792)\" cx=\"1565.16\" cy=\"117.092\" r=\"14.4\" fill=\"#e26f46\" fill-rule=\"evenodd\" fill-opacity=\"1\" stroke=\"#000000\" stroke-opacity=\"1\" stroke-width=\"3.2\"/>\n",
       "<circle clip-path=\"url(#clip792)\" cx=\"2035.93\" cy=\"117.092\" r=\"14.4\" fill=\"#e26f46\" fill-rule=\"evenodd\" fill-opacity=\"1\" stroke=\"#000000\" stroke-opacity=\"1\" stroke-width=\"3.2\"/>\n",
       "<circle clip-path=\"url(#clip792)\" cx=\"334.032\" cy=\"117.092\" r=\"14.4\" fill=\"#e26f46\" fill-rule=\"evenodd\" fill-opacity=\"1\" stroke=\"#000000\" stroke-opacity=\"1\" stroke-width=\"3.2\"/>\n",
       "<circle clip-path=\"url(#clip792)\" cx=\"334.032\" cy=\"117.092\" r=\"14.4\" fill=\"#e26f46\" fill-rule=\"evenodd\" fill-opacity=\"1\" stroke=\"#000000\" stroke-opacity=\"1\" stroke-width=\"3.2\"/>\n",
       "<defs>\n",
       "  <clipPath id=\"clip793\">\n",
       "    <rect x=\"2160\" y=\"47\" width=\"73\" height=\"1377\"/>\n",
       "  </clipPath>\n",
       "</defs>\n",
       "<g clip-path=\"url(#clip793)\">\n",
       "<image width=\"72\" height=\"1376\" xlink:href=\"data:image/png;base64,\n",
       "iVBORw0KGgoAAAANSUhEUgAAAEgAAAVgCAYAAADsKhu7AAAL6UlEQVR4nO3dwZEjNxBFQVBR/lsh\n",
       "L6UFZIHqHclDpgUTL35wCXTP7Off+/c7/K+/vv0D/DqBgkBBoCBQmPv+/fbP8NMsKAgUBAoChXnv\n",
       "z7d/hp9mQUGgIFAQKAgUHDWCBQWBgkBBoDDPh/TKgoJAQaAgUJh3fUhvLCgIFAQKAgWBgqNGsKAg\n",
       "UBAoCBR8SAcLCgIFgYJAwX1QsKAgUBAoCBQECnMcNVYWFAQKAgWBgvugYEFBoCBQECgIFOa4MFtZ\n",
       "UBAoCBQECnPuP9/+GX6aBQWBgkBBoODSPlhQECgIFAQKAgX3QcGCgkBBoCBQ8CEdLCgIFAQKAgX3\n",
       "QcGCgkBBoCBQECjMx1FjZUFBoCBQECjMuf5XhI0FBYGCQEGgIFBw1AgWFAQKAgWBgqNGsKAgUBAo\n",
       "CBS8HxQsKAgUBAoCBYHCfBw1VhYUBAoCBYGCt1yDBQWBgkBBoOCbdLCgIFAQKAgUBAoePQcLCgIF\n",
       "gYJAwVEjWFAQKAgUBAoCBUeNYEFBoCBQECg4agQLCgIFgYJAYc693/4ZfpoFBYGCQEGgIFBw1AgW\n",
       "FAQKAgWBgkv7YEFBoCBQECj4kA4WFAQKAgWBgkBhPp5qrCwoCBQECgIFR41gQUGgIFAQKAgUvEAV\n",
       "LCgIFAQKAgX3QcGCgkBBoCBQcB8ULCgIFAQKAgWBgvugYEFBoCBQECj4kA4WFAQKAgWBgl/qDRYU\n",
       "BAoCBYGCQMFRI1hQECgIFAQKPqSDBQWBgkBBoCBQ8K9YsKAgUBAoCBR8SAcLCgIFgYJAYc7zIb2x\n",
       "oCBQECgIFAQKjhrBgoJAQaAgUPAhHSwoCBQECgIFH9LBgoJAQaAgUBAozLnv2z/DT7OgIFAQKAgU\n",
       "HDWCBQWBgkBBoCBQcNQIFhQECgIFgYKjRrCgIFAQKAgUfJMOFhQECgIFgYJAYY6TxsqCgkBBoCBQ\n",
       "mPMcNTYWFAQKAgWBgm/SwYKCQEGgIFAQKPhXLFhQECgIFAQK44/g7SwoCBQECgIFgYKjRrCgIFAQ\n",
       "KAgUfEgHCwoCBYGCQGHO/Xz7Z/hpFhQECgIFgYJAYd7zr9jGgoJAQaAgUHAfFCwoCBQECgIF90HB\n",
       "goJAQaAgUBAozLsabdQJAgWBgkDBUSNYUBAoCBQECgKFOR49rywoCBQECgKFeY4aKwsKAgWBgkBh\n",
       "jkv7lTpBoCBQECgIFBw1ggUFgYJAQaDg0j5YUBAoCBQECl7iDOoEgYJAQaAgUPCWa7CgIFAQKAgU\n",
       "XNoHCwoCBYGCQEGgMO9ptFEnCBQECgIF90HBgoJAQaAgUHAfFCwoCBQECgIFgcIc90ErdYJAQaAg\n",
       "UHDUCBYUBAoCBYGCD+lgQUGgIFAQKAgU/NZzsKAgUBAoCBT81nNQJwgUBAoCBYHCPEeNlQUFgYJA\n",
       "QaDgqUawoCBQECgIFPyvCEGdIFAQKAgUBArug4IFBYGCQEGg4D4oWFAQKAgUBAq+SQcLCgIFgYJA\n",
       "QaDgLdegThAoCBQECo4awYKCQEGgIFAQKHiqESwoCBQECgIFR41gQUGgIFAQKPiva4IFBYGCQEGg\n",
       "IFDwv2QGdYJAQaAgUHAfFCwoCBQECgIFT1aDBQWBgkBBoCBQcNQIFhQECgIFgcJcH9IrCwoCBYGC\n",
       "QEGg4LeegzpBoCBQECi4DwoWFAQKAgWBgg/pYEFBoCBQECgIFLxAFSwoCBQECgIFR41gQUGgIFAQ\n",
       "KPiQDhYUBAoCBYGCQMGfpgjqBIGCQEGgMNel/cqCgkBBoCBQECi4MAsWFAQKAgWBgg/pYEFBoCBQ\n",
       "ECj4kA4WFAQKAgWBgkDBH1gKFhQECgIFgYKjRrCgIFAQKAgUfEgHCwoCBYGCQEGg4FcRgjpBoCBQ\n",
       "ECj4VYRgQUGgIFAQKAgUXJgFCwoCBYGCQMGHdLCgIFAQKAgUvMQZLCgIFAQKAgWBgqNGsKAgUBAo\n",
       "CBTmHR/SGwsKAgWBgkDBfVCwoCBQECgIFAQK7oOCBQWBgkBBoOCoESwoCBQECgIFgYKjRrCgIFAQ\n",
       "KAgUHDWCBQWBgkBBoOCbdLCgIFAQKAgUBAr+FQsWFAQKAgWBwly/irCyoCBQECgIFHyTDhYUBAoC\n",
       "BYGCQMGj52BBQaAgUBAozHvf/hF+mwUFgYJAQaAgUHDUCBYUBAoCBYGCv4IXLCgIFAQKAgXfpIMF\n",
       "BYGCQEGgIFDwAlWwoCBQECgIFPwqQrCgIFAQKAgUvB8ULCgIFAQKAgWBgqcawYKCQEGgIFBwaR8s\n",
       "KAgUBAoCBYGCpxrBgoJAQaAgUHAfFCwoCBQECgIFj56DBQWBgkBBoCBQcB8ULCgIFAQKAgWPnoMF\n",
       "BYGCQEGgMPfbP8GPs6AgUBAoCBQECo4awYKCQEGgIFDwflCwoCBQECgIFAQKLsyCBQWBgkBBoOA+\n",
       "KFhQECgIFAQKvkkHCwoCBYGCQEGg4KgRLCgIFAQKAgWPnoMFBYGCQEGgMP4yxc6CgkBBoCBQECg4\n",
       "agQLCgIFgYJAwaPnYEFBoCBQECgIFDx6DhYUBAoCBYGCo0awoCBQECgIFHyTDhYUBAoCBYGCQGGu\n",
       "N6hWFhQECgIFgYL7oGBBQaAgUBAouA8KFhQECgIFgYJAwVEjWFAQKAgUBArzXNqvLCgIFAQKAgWB\n",
       "wtzjwmxjQUGgIFAQKHg/KFhQECgIFAQK/gpesKAgUBAoCBQECv4KXrCgIFAQKAgUPHoOFhQECgIF\n",
       "gYKXOIMFBYGCQEGgIFDwC3XBgoJAQaAgUHDUCBYUBAoCBYGCQMFbrsGCgkBBoCBQ8JZrsKAgUBAo\n",
       "CBR8kw4WFAQKAgWBgkDBW67BgoJAQaAgUPD3g4IFBYGCQEGg4D4oWFAQKAgUBAoCBY+egwUFgYJA\n",
       "QaDgqBEsKAgUBAoCBYGCo0awoCBQECgIFBw1ggUFgYJAQaDgQzpYUBAoCBQECgIF90HBgoJAQaAg\n",
       "UHDUCBYUBAoCBYGCb9LBgoJAQaAgUBAoOGoECwoCBYGCQMHfDwoWFAQKAgWBgkDB/+0TLCgIFAQK\n",
       "AgX3QcGCgkBBoCBQmHd8Sm8sKAgUBAoCBYGCo0awoCBQECgIFDx6DhYUBAoCBYGCJ6vBgoJAQaAg\n",
       "UBAouA8KFhQECgIFgYJHz8GCgkBBoCBQECg4agQLCgIFgYJAwR9YChYUBAoCBYHCXC8IrSwoCBQE\n",
       "CgIFgYIXqIIFBYGCQEGgMM9RY2VBQaAgUBAo+CYdLCgIFAQKAgWBgqcawYKCQEGgIFDwflCwoCBQ\n",
       "ECgIFAQKc/1C3cqCgkBBoCBQcB8ULCgIFAQKAgV/miJYUBAoCBQECgIFL1AFCwoCBYGCQMGlfbCg\n",
       "IFAQKAgU3AcFCwoCBYGCQEGgMPe4EdpYUBAoCBQECu6DggUFgYJAQaAgUPCvWLCgIFAQKAgUPNUI\n",
       "FhQECgIFgYJL+2BBQaAgUBAoCBTmfhw1NhYUBAoCBYGCo0awoCBQECgIFOb5kF5ZUBAoCBQECgIF\n",
       "R41gQUGgIFAQKMz9+JDeWFAQKAgUBAoCBUeNYEFBoCBQECh4qhEsKAgUBAoCBd+kgwUFgYJAQaAg\n",
       "UPCvWLCgIFAQKAgUPHoOFhQECgIFgcK88+fbP8NPs6AgUBAoCBQECu6DggUFgYJAQaDg/aBgQUGg\n",
       "IFAQKAgU5j4XZhsLCgIFgYJAwVEjWFAQKAgUBApzPXpeWVAQKAgUBAoCBUeNYEFBoCBQECg4agQL\n",
       "CgIFgYJAYd7zTXpjQUGgIFAQKAgU3AcFCwoCBYGCQMFLnMGCgkBBoCBQECg4agQLCgIFgYJAYZ6j\n",
       "xsqCgkBBoCBQ8E06WFAQKAgUBAoChbleoFpZUBAoCBQECv7gdrCgIFAQKAgU/CpCsKAgUBAoCBQE\n",
       "Cp5qBAsKAgWBgkDBUSNYUBAoCBQECgIF/4oFCwoCBYGCQMGj52BBQaAgUBAo+CYdLCgIFAQKAgWB\n",
       "whyPnlcWFAQKAgWBgqNGsKAgUBAoCBS8xBksKAgUBAoCBYHCHEeNlQUFgYJAQaDg/aBgQUGgIFAQ\n",
       "KAgUPHoOFhQECgIFgYL7oGBBQaAgUBAozDvv2z/DT7OgIFAQKAgUBArug4IFBYGCQEGgMMdRY2VB\n",
       "QaAgUBAo/AdhU+3PqlcPeQAAAABJRU5ErkJggg==\n",
       "\" transform=\"translate(2161, 47)\"/>\n",
       "</g>\n",
       "<path clip-path=\"url(#clip790)\" d=\"M2268.76 1274.78 L2290.98 1274.78 L2290.98 1276.77 L2278.43 1309.34 L2273.55 1309.34 L2285.35 1278.72 L2268.76 1278.72 L2268.76 1274.78 Z\" fill=\"#000000\" fill-rule=\"nonzero\" fill-opacity=\"1\" /><path clip-path=\"url(#clip790)\" d=\"M2300.1 1303.46 L2304.98 1303.46 L2304.98 1309.34 L2300.1 1309.34 L2300.1 1303.46 Z\" fill=\"#000000\" fill-rule=\"nonzero\" fill-opacity=\"1\" /><path clip-path=\"url(#clip790)\" d=\"M2315.21 1274.78 L2333.57 1274.78 L2333.57 1278.72 L2319.5 1278.72 L2319.5 1287.19 Q2320.51 1286.84 2321.53 1286.68 Q2322.55 1286.49 2323.57 1286.49 Q2329.36 1286.49 2332.74 1289.67 Q2336.12 1292.84 2336.12 1298.25 Q2336.12 1303.83 2332.64 1306.93 Q2329.17 1310.01 2322.85 1310.01 Q2320.68 1310.01 2318.41 1309.64 Q2316.16 1309.27 2313.76 1308.53 L2313.76 1303.83 Q2315.84 1304.97 2318.06 1305.52 Q2320.28 1306.08 2322.76 1306.08 Q2326.76 1306.08 2329.1 1303.97 Q2331.44 1301.86 2331.44 1298.25 Q2331.44 1294.64 2329.1 1292.54 Q2326.76 1290.43 2322.76 1290.43 Q2320.89 1290.43 2319.01 1290.85 Q2317.16 1291.26 2315.21 1292.14 L2315.21 1274.78 Z\" fill=\"#000000\" fill-rule=\"nonzero\" fill-opacity=\"1\" /><path clip-path=\"url(#clip790)\" d=\"M2269.43 1095.37 L2277.07 1095.37 L2277.07 1069 L2268.76 1070.67 L2268.76 1066.41 L2277.02 1064.75 L2281.7 1064.75 L2281.7 1095.37 L2289.33 1095.37 L2289.33 1099.31 L2269.43 1099.31 L2269.43 1095.37 Z\" fill=\"#000000\" fill-rule=\"nonzero\" fill-opacity=\"1\" /><path clip-path=\"url(#clip790)\" d=\"M2308.78 1067.82 Q2305.17 1067.82 2303.34 1071.39 Q2301.53 1074.93 2301.53 1082.06 Q2301.53 1089.17 2303.34 1092.73 Q2305.17 1096.27 2308.78 1096.27 Q2312.41 1096.27 2314.22 1092.73 Q2316.05 1089.17 2316.05 1082.06 Q2316.05 1074.93 2314.22 1071.39 Q2312.41 1067.82 2308.78 1067.82 M2308.78 1064.12 Q2314.59 1064.12 2317.64 1068.73 Q2320.72 1073.31 2320.72 1082.06 Q2320.72 1090.79 2317.64 1095.39 Q2314.59 1099.98 2308.78 1099.98 Q2302.97 1099.98 2299.89 1095.39 Q2296.83 1090.79 2296.83 1082.06 Q2296.83 1073.31 2299.89 1068.73 Q2302.97 1064.12 2308.78 1064.12 Z\" fill=\"#000000\" fill-rule=\"nonzero\" fill-opacity=\"1\" /><path clip-path=\"url(#clip790)\" d=\"M2328.94 1093.43 L2333.83 1093.43 L2333.83 1099.31 L2328.94 1099.31 L2328.94 1093.43 Z\" fill=\"#000000\" fill-rule=\"nonzero\" fill-opacity=\"1\" /><path clip-path=\"url(#clip790)\" d=\"M2354.01 1067.82 Q2350.4 1067.82 2348.57 1071.39 Q2346.76 1074.93 2346.76 1082.06 Q2346.76 1089.17 2348.57 1092.73 Q2350.4 1096.27 2354.01 1096.27 Q2357.64 1096.27 2359.45 1092.73 Q2361.28 1089.17 2361.28 1082.06 Q2361.28 1074.93 2359.45 1071.39 Q2357.64 1067.82 2354.01 1067.82 M2354.01 1064.12 Q2359.82 1064.12 2362.88 1068.73 Q2365.95 1073.31 2365.95 1082.06 Q2365.95 1090.79 2362.88 1095.39 Q2359.82 1099.98 2354.01 1099.98 Q2348.2 1099.98 2345.12 1095.39 Q2342.07 1090.79 2342.07 1082.06 Q2342.07 1073.31 2345.12 1068.73 Q2348.2 1064.12 2354.01 1064.12 Z\" fill=\"#000000\" fill-rule=\"nonzero\" fill-opacity=\"1\" /><path clip-path=\"url(#clip790)\" d=\"M2269.43 885.335 L2277.07 885.335 L2277.07 858.97 L2268.76 860.636 L2268.76 856.377 L2277.02 854.71 L2281.7 854.71 L2281.7 885.335 L2289.33 885.335 L2289.33 889.27 L2269.43 889.27 L2269.43 885.335 Z\" fill=\"#000000\" fill-rule=\"nonzero\" fill-opacity=\"1\" /><path clip-path=\"url(#clip790)\" d=\"M2302.81 885.335 L2319.13 885.335 L2319.13 889.27 L2297.18 889.27 L2297.18 885.335 Q2299.84 882.581 2304.43 877.951 Q2309.03 873.298 2310.21 871.956 Q2312.46 869.432 2313.34 867.696 Q2314.24 865.937 2314.24 864.247 Q2314.24 861.493 2312.3 859.757 Q2310.38 858.02 2307.27 858.02 Q2305.08 858.02 2302.62 858.784 Q2300.19 859.548 2297.41 861.099 L2297.41 856.377 Q2300.24 855.243 2302.69 854.664 Q2305.14 854.085 2307.18 854.085 Q2312.55 854.085 2315.75 856.77 Q2318.94 859.456 2318.94 863.946 Q2318.94 866.076 2318.13 867.997 Q2317.34 869.895 2315.24 872.488 Q2314.66 873.159 2311.56 876.377 Q2308.45 879.571 2302.81 885.335 Z\" fill=\"#000000\" fill-rule=\"nonzero\" fill-opacity=\"1\" /><path clip-path=\"url(#clip790)\" d=\"M2328.94 883.391 L2333.83 883.391 L2333.83 889.27 L2328.94 889.27 L2328.94 883.391 Z\" fill=\"#000000\" fill-rule=\"nonzero\" fill-opacity=\"1\" /><path clip-path=\"url(#clip790)\" d=\"M2344.06 854.71 L2362.41 854.71 L2362.41 858.645 L2348.34 858.645 L2348.34 867.118 Q2349.36 866.77 2350.38 866.608 Q2351.39 866.423 2352.41 866.423 Q2358.2 866.423 2361.58 869.594 Q2364.96 872.766 2364.96 878.182 Q2364.96 883.761 2361.49 886.863 Q2358.01 889.942 2351.7 889.942 Q2349.52 889.942 2347.25 889.571 Q2345.01 889.201 2342.6 888.46 L2342.6 883.761 Q2344.68 884.895 2346.9 885.451 Q2349.13 886.006 2351.6 886.006 Q2355.61 886.006 2357.95 883.9 Q2360.28 881.793 2360.28 878.182 Q2360.28 874.571 2357.95 872.465 Q2355.61 870.358 2351.6 870.358 Q2349.73 870.358 2347.85 870.775 Q2346 871.192 2344.06 872.071 L2344.06 854.71 Z\" fill=\"#000000\" fill-rule=\"nonzero\" fill-opacity=\"1\" /><path clip-path=\"url(#clip790)\" d=\"M2269.43 675.3 L2277.07 675.3 L2277.07 648.934 L2268.76 650.601 L2268.76 646.342 L2277.02 644.675 L2281.7 644.675 L2281.7 675.3 L2289.33 675.3 L2289.33 679.235 L2269.43 679.235 L2269.43 675.3 Z\" fill=\"#000000\" fill-rule=\"nonzero\" fill-opacity=\"1\" /><path clip-path=\"url(#clip790)\" d=\"M2298.83 644.675 L2317.18 644.675 L2317.18 648.61 L2303.11 648.61 L2303.11 657.082 Q2304.13 656.735 2305.14 656.573 Q2306.16 656.388 2307.18 656.388 Q2312.97 656.388 2316.35 659.559 Q2319.73 662.73 2319.73 668.147 Q2319.73 673.726 2316.26 676.827 Q2312.78 679.906 2306.46 679.906 Q2304.29 679.906 2302.02 679.536 Q2299.77 679.165 2297.37 678.425 L2297.37 673.726 Q2299.45 674.86 2301.67 675.415 Q2303.89 675.971 2306.37 675.971 Q2310.38 675.971 2312.71 673.865 Q2315.05 671.758 2315.05 668.147 Q2315.05 664.536 2312.71 662.429 Q2310.38 660.323 2306.37 660.323 Q2304.5 660.323 2302.62 660.74 Q2300.77 661.156 2298.83 662.036 L2298.83 644.675 Z\" fill=\"#000000\" fill-rule=\"nonzero\" fill-opacity=\"1\" /><path clip-path=\"url(#clip790)\" d=\"M2328.94 673.355 L2333.83 673.355 L2333.83 679.235 L2328.94 679.235 L2328.94 673.355 Z\" fill=\"#000000\" fill-rule=\"nonzero\" fill-opacity=\"1\" /><path clip-path=\"url(#clip790)\" d=\"M2354.01 647.754 Q2350.4 647.754 2348.57 651.318 Q2346.76 654.86 2346.76 661.99 Q2346.76 669.096 2348.57 672.661 Q2350.4 676.202 2354.01 676.202 Q2357.64 676.202 2359.45 672.661 Q2361.28 669.096 2361.28 661.99 Q2361.28 654.86 2359.45 651.318 Q2357.64 647.754 2354.01 647.754 M2354.01 644.05 Q2359.82 644.05 2362.88 648.656 Q2365.95 653.24 2365.95 661.99 Q2365.95 670.716 2362.88 675.323 Q2359.82 679.906 2354.01 679.906 Q2348.2 679.906 2345.12 675.323 Q2342.07 670.716 2342.07 661.99 Q2342.07 653.24 2345.12 648.656 Q2348.2 644.05 2354.01 644.05 Z\" fill=\"#000000\" fill-rule=\"nonzero\" fill-opacity=\"1\" /><path clip-path=\"url(#clip790)\" d=\"M2269.43 465.264 L2277.07 465.264 L2277.07 438.899 L2268.76 440.565 L2268.76 436.306 L2277.02 434.639 L2281.7 434.639 L2281.7 465.264 L2289.33 465.264 L2289.33 469.199 L2269.43 469.199 L2269.43 465.264 Z\" fill=\"#000000\" fill-rule=\"nonzero\" fill-opacity=\"1\" /><path clip-path=\"url(#clip790)\" d=\"M2297.6 434.639 L2319.82 434.639 L2319.82 436.63 L2307.27 469.199 L2302.39 469.199 L2314.2 438.575 L2297.6 438.575 L2297.6 434.639 Z\" fill=\"#000000\" fill-rule=\"nonzero\" fill-opacity=\"1\" /><path clip-path=\"url(#clip790)\" d=\"M2328.94 463.32 L2333.83 463.32 L2333.83 469.199 L2328.94 469.199 L2328.94 463.32 Z\" fill=\"#000000\" fill-rule=\"nonzero\" fill-opacity=\"1\" /><path clip-path=\"url(#clip790)\" d=\"M2344.06 434.639 L2362.41 434.639 L2362.41 438.575 L2348.34 438.575 L2348.34 447.047 Q2349.36 446.7 2350.38 446.537 Q2351.39 446.352 2352.41 446.352 Q2358.2 446.352 2361.58 449.524 Q2364.96 452.695 2364.96 458.112 Q2364.96 463.69 2361.49 466.792 Q2358.01 469.871 2351.7 469.871 Q2349.52 469.871 2347.25 469.5 Q2345.01 469.13 2342.6 468.389 L2342.6 463.69 Q2344.68 464.824 2346.9 465.38 Q2349.13 465.936 2351.6 465.936 Q2355.61 465.936 2357.95 463.829 Q2360.28 461.723 2360.28 458.112 Q2360.28 454.5 2357.95 452.394 Q2355.61 450.287 2351.6 450.287 Q2349.73 450.287 2347.85 450.704 Q2346 451.121 2344.06 452 L2344.06 434.639 Z\" fill=\"#000000\" fill-rule=\"nonzero\" fill-opacity=\"1\" /><path clip-path=\"url(#clip790)\" d=\"M2274.38 255.229 L2290.7 255.229 L2290.7 259.164 L2268.76 259.164 L2268.76 255.229 Q2271.42 252.474 2276 247.845 Q2280.61 243.192 2281.79 241.849 Q2284.03 239.326 2284.91 237.59 Q2285.82 235.831 2285.82 234.141 Q2285.82 231.386 2283.87 229.65 Q2281.95 227.914 2278.85 227.914 Q2276.65 227.914 2274.2 228.678 Q2271.77 229.442 2268.99 230.993 L2268.99 226.271 Q2271.81 225.136 2274.27 224.558 Q2276.72 223.979 2278.76 223.979 Q2284.13 223.979 2287.32 226.664 Q2290.52 229.349 2290.52 233.84 Q2290.52 235.97 2289.7 237.891 Q2288.92 239.789 2286.81 242.382 Q2286.23 243.053 2283.13 246.271 Q2280.03 249.465 2274.38 255.229 Z\" fill=\"#000000\" fill-rule=\"nonzero\" fill-opacity=\"1\" /><path clip-path=\"url(#clip790)\" d=\"M2310.51 227.683 Q2306.9 227.683 2305.08 231.247 Q2303.27 234.789 2303.27 241.919 Q2303.27 249.025 2305.08 252.59 Q2306.9 256.132 2310.51 256.132 Q2314.15 256.132 2315.95 252.59 Q2317.78 249.025 2317.78 241.919 Q2317.78 234.789 2315.95 231.247 Q2314.15 227.683 2310.51 227.683 M2310.51 223.979 Q2316.33 223.979 2319.38 228.585 Q2322.46 233.169 2322.46 241.919 Q2322.46 250.645 2319.38 255.252 Q2316.33 259.835 2310.51 259.835 Q2304.7 259.835 2301.63 255.252 Q2298.57 250.645 2298.57 241.919 Q2298.57 233.169 2301.63 228.585 Q2304.7 223.979 2310.51 223.979 Z\" fill=\"#000000\" fill-rule=\"nonzero\" fill-opacity=\"1\" /><path clip-path=\"url(#clip790)\" d=\"M2330.68 253.284 L2335.56 253.284 L2335.56 259.164 L2330.68 259.164 L2330.68 253.284 Z\" fill=\"#000000\" fill-rule=\"nonzero\" fill-opacity=\"1\" /><path clip-path=\"url(#clip790)\" d=\"M2355.75 227.683 Q2352.14 227.683 2350.31 231.247 Q2348.5 234.789 2348.5 241.919 Q2348.5 249.025 2350.31 252.59 Q2352.14 256.132 2355.75 256.132 Q2359.38 256.132 2361.19 252.59 Q2363.01 249.025 2363.01 241.919 Q2363.01 234.789 2361.19 231.247 Q2359.38 227.683 2355.75 227.683 M2355.75 223.979 Q2361.56 223.979 2364.61 228.585 Q2367.69 233.169 2367.69 241.919 Q2367.69 250.645 2364.61 255.252 Q2361.56 259.835 2355.75 259.835 Q2349.94 259.835 2346.86 255.252 Q2343.8 250.645 2343.8 241.919 Q2343.8 233.169 2346.86 228.585 Q2349.94 223.979 2355.75 223.979 Z\" fill=\"#000000\" fill-rule=\"nonzero\" fill-opacity=\"1\" /><polyline clip-path=\"url(#clip790)\" style=\"stroke:#000000; stroke-linecap:round; stroke-linejoin:round; stroke-width:4; stroke-opacity:1; fill:none\" points=\"2232.76,1423.18 2232.76,1295.69 2256.76,1295.69 2232.76,1295.69 2232.76,1085.65 2256.76,1085.65 2232.76,1085.65 2232.76,875.619 2256.76,875.619 2232.76,875.619 2232.76,665.584 2256.76,665.584 2232.76,665.584 2232.76,455.548 2256.76,455.548 2232.76,455.548 2232.76,245.513 2256.76,245.513 2232.76,245.513 2232.76,47.2441 \"/>\n",
       "</svg>\n"
      ],
      "text/html": [
       "<?xml version=\"1.0\" encoding=\"utf-8\"?>\n",
       "<svg xmlns=\"http://www.w3.org/2000/svg\" xmlns:xlink=\"http://www.w3.org/1999/xlink\" width=\"600\" height=\"400\" viewBox=\"0 0 2400 1600\">\n",
       "<defs>\n",
       "  <clipPath id=\"clip840\">\n",
       "    <rect x=\"0\" y=\"0\" width=\"2400\" height=\"1600\"/>\n",
       "  </clipPath>\n",
       "</defs>\n",
       "<path clip-path=\"url(#clip840)\" d=\"M0 1600 L2400 1600 L2400 0 L0 0  Z\" fill=\"#ffffff\" fill-rule=\"evenodd\" fill-opacity=\"1\"/>\n",
       "<defs>\n",
       "  <clipPath id=\"clip841\">\n",
       "    <rect x=\"480\" y=\"0\" width=\"1681\" height=\"1600\"/>\n",
       "  </clipPath>\n",
       "</defs>\n",
       "<path clip-path=\"url(#clip840)\" d=\"M257.204 1423.18 L2112.76 1423.18 L2112.76 47.2441 L257.204 47.2441  Z\" fill=\"#ffffff\" fill-rule=\"evenodd\" fill-opacity=\"1\"/>\n",
       "<defs>\n",
       "  <clipPath id=\"clip842\">\n",
       "    <rect x=\"257\" y=\"47\" width=\"1857\" height=\"1377\"/>\n",
       "  </clipPath>\n",
       "</defs>\n",
       "<polyline clip-path=\"url(#clip842)\" style=\"stroke:#000000; stroke-linecap:round; stroke-linejoin:round; stroke-width:2; stroke-opacity:0.1; fill:none\" points=\"577.16,1423.18 577.16,47.2441 \"/>\n",
       "<polyline clip-path=\"url(#clip842)\" style=\"stroke:#000000; stroke-linecap:round; stroke-linejoin:round; stroke-width:2; stroke-opacity:0.1; fill:none\" points=\"1063.42,1423.18 1063.42,47.2441 \"/>\n",
       "<polyline clip-path=\"url(#clip842)\" style=\"stroke:#000000; stroke-linecap:round; stroke-linejoin:round; stroke-width:2; stroke-opacity:0.1; fill:none\" points=\"1549.67,1423.18 1549.67,47.2441 \"/>\n",
       "<polyline clip-path=\"url(#clip842)\" style=\"stroke:#000000; stroke-linecap:round; stroke-linejoin:round; stroke-width:2; stroke-opacity:0.1; fill:none\" points=\"2035.93,1423.18 2035.93,47.2441 \"/>\n",
       "<polyline clip-path=\"url(#clip840)\" style=\"stroke:#000000; stroke-linecap:round; stroke-linejoin:round; stroke-width:4; stroke-opacity:1; fill:none\" points=\"257.204,1423.18 2112.76,1423.18 \"/>\n",
       "<polyline clip-path=\"url(#clip840)\" style=\"stroke:#000000; stroke-linecap:round; stroke-linejoin:round; stroke-width:4; stroke-opacity:1; fill:none\" points=\"577.16,1423.18 577.16,1404.28 \"/>\n",
       "<polyline clip-path=\"url(#clip840)\" style=\"stroke:#000000; stroke-linecap:round; stroke-linejoin:round; stroke-width:4; stroke-opacity:1; fill:none\" points=\"1063.42,1423.18 1063.42,1404.28 \"/>\n",
       "<polyline clip-path=\"url(#clip840)\" style=\"stroke:#000000; stroke-linecap:round; stroke-linejoin:round; stroke-width:4; stroke-opacity:1; fill:none\" points=\"1549.67,1423.18 1549.67,1404.28 \"/>\n",
       "<polyline clip-path=\"url(#clip840)\" style=\"stroke:#000000; stroke-linecap:round; stroke-linejoin:round; stroke-width:4; stroke-opacity:1; fill:none\" points=\"2035.93,1423.18 2035.93,1404.28 \"/>\n",
       "<path clip-path=\"url(#clip840)\" d=\"M567.542 1481.64 L575.181 1481.64 L575.181 1455.28 L566.871 1456.95 L566.871 1452.69 L575.135 1451.02 L579.811 1451.02 L579.811 1481.64 L587.45 1481.64 L587.45 1485.58 L567.542 1485.58 L567.542 1481.64 Z\" fill=\"#000000\" fill-rule=\"nonzero\" fill-opacity=\"1\" /><path clip-path=\"url(#clip840)\" d=\"M1058.07 1481.64 L1074.39 1481.64 L1074.39 1485.58 L1052.44 1485.58 L1052.44 1481.64 Q1055.11 1478.89 1059.69 1474.26 Q1064.3 1469.61 1065.48 1468.27 Q1067.72 1465.74 1068.6 1464.01 Q1069.5 1462.25 1069.5 1460.56 Q1069.5 1457.8 1067.56 1456.07 Q1065.64 1454.33 1062.54 1454.33 Q1060.34 1454.33 1057.88 1455.09 Q1055.45 1455.86 1052.68 1457.41 L1052.68 1452.69 Q1055.5 1451.55 1057.95 1450.97 Q1060.41 1450.39 1062.44 1450.39 Q1067.81 1450.39 1071.01 1453.08 Q1074.2 1455.77 1074.2 1460.26 Q1074.2 1462.39 1073.39 1464.31 Q1072.61 1466.2 1070.5 1468.8 Q1069.92 1469.47 1066.82 1472.69 Q1063.72 1475.88 1058.07 1481.64 Z\" fill=\"#000000\" fill-rule=\"nonzero\" fill-opacity=\"1\" /><path clip-path=\"url(#clip840)\" d=\"M1553.92 1466.95 Q1557.28 1467.66 1559.15 1469.93 Q1561.05 1472.2 1561.05 1475.53 Q1561.05 1480.65 1557.53 1483.45 Q1554.01 1486.25 1547.53 1486.25 Q1545.35 1486.25 1543.04 1485.81 Q1540.75 1485.39 1538.29 1484.54 L1538.29 1480.02 Q1540.24 1481.16 1542.55 1481.74 Q1544.87 1482.32 1547.39 1482.32 Q1551.79 1482.32 1554.08 1480.58 Q1556.4 1478.84 1556.4 1475.53 Q1556.4 1472.48 1554.24 1470.77 Q1552.11 1469.03 1548.29 1469.03 L1544.27 1469.03 L1544.27 1465.19 L1548.48 1465.19 Q1551.93 1465.19 1553.76 1463.82 Q1555.59 1462.43 1555.59 1459.84 Q1555.59 1457.18 1553.69 1455.77 Q1551.81 1454.33 1548.29 1454.33 Q1546.37 1454.33 1544.17 1454.75 Q1541.98 1455.16 1539.34 1456.04 L1539.34 1451.88 Q1542 1451.14 1544.31 1450.77 Q1546.65 1450.39 1548.71 1450.39 Q1554.04 1450.39 1557.14 1452.83 Q1560.24 1455.23 1560.24 1459.35 Q1560.24 1462.22 1558.6 1464.21 Q1556.95 1466.18 1553.92 1466.95 Z\" fill=\"#000000\" fill-rule=\"nonzero\" fill-opacity=\"1\" /><path clip-path=\"url(#clip840)\" d=\"M2038.94 1455.09 L2027.13 1473.54 L2038.94 1473.54 L2038.94 1455.09 M2037.71 1451.02 L2043.59 1451.02 L2043.59 1473.54 L2048.52 1473.54 L2048.52 1477.43 L2043.59 1477.43 L2043.59 1485.58 L2038.94 1485.58 L2038.94 1477.43 L2023.33 1477.43 L2023.33 1472.92 L2037.71 1451.02 Z\" fill=\"#000000\" fill-rule=\"nonzero\" fill-opacity=\"1\" /><path clip-path=\"url(#clip840)\" d=\"M1177.37 1533.45 L1177.37 1538.98 Q1174.89 1537.71 1172.22 1537.07 Q1169.54 1536.44 1166.68 1536.44 Q1162.32 1536.44 1160.12 1537.77 Q1157.96 1539.11 1157.96 1541.79 Q1157.96 1543.82 1159.52 1545 Q1161.08 1546.15 1165.79 1547.2 L1167.79 1547.64 Q1174.03 1548.98 1176.64 1551.43 Q1179.28 1553.85 1179.28 1558.21 Q1179.28 1563.17 1175.34 1566.07 Q1171.42 1568.97 1164.55 1568.97 Q1161.68 1568.97 1158.56 1568.39 Q1155.47 1567.85 1152.04 1566.74 L1152.04 1560.69 Q1155.28 1562.38 1158.43 1563.24 Q1161.59 1564.07 1164.67 1564.07 Q1168.81 1564.07 1171.04 1562.66 Q1173.27 1561.23 1173.27 1558.65 Q1173.27 1556.27 1171.64 1554.99 Q1170.05 1553.72 1164.61 1552.54 L1162.57 1552.07 Q1157.13 1550.92 1154.71 1548.56 Q1152.29 1546.18 1152.29 1542.04 Q1152.29 1537.01 1155.86 1534.27 Q1159.42 1531.54 1165.98 1531.54 Q1169.22 1531.54 1172.09 1532.01 Q1174.95 1532.49 1177.37 1533.45 Z\" fill=\"#000000\" fill-rule=\"nonzero\" fill-opacity=\"1\" /><path clip-path=\"url(#clip840)\" d=\"M1190.55 1562.63 L1201.05 1562.63 L1201.05 1526.38 L1189.63 1528.67 L1189.63 1522.82 L1200.99 1520.52 L1207.42 1520.52 L1207.42 1562.63 L1217.92 1562.63 L1217.92 1568.04 L1190.55 1568.04 L1190.55 1562.63 Z\" fill=\"#000000\" fill-rule=\"nonzero\" fill-opacity=\"1\" /><polyline clip-path=\"url(#clip842)\" style=\"stroke:#000000; stroke-linecap:round; stroke-linejoin:round; stroke-width:2; stroke-opacity:0.1; fill:none\" points=\"257.204,1353.33 2112.76,1353.33 \"/>\n",
       "<polyline clip-path=\"url(#clip842)\" style=\"stroke:#000000; stroke-linecap:round; stroke-linejoin:round; stroke-width:2; stroke-opacity:0.1; fill:none\" points=\"257.204,1044.27 2112.76,1044.27 \"/>\n",
       "<polyline clip-path=\"url(#clip842)\" style=\"stroke:#000000; stroke-linecap:round; stroke-linejoin:round; stroke-width:2; stroke-opacity:0.1; fill:none\" points=\"257.204,735.212 2112.76,735.212 \"/>\n",
       "<polyline clip-path=\"url(#clip842)\" style=\"stroke:#000000; stroke-linecap:round; stroke-linejoin:round; stroke-width:2; stroke-opacity:0.1; fill:none\" points=\"257.204,426.152 2112.76,426.152 \"/>\n",
       "<polyline clip-path=\"url(#clip842)\" style=\"stroke:#000000; stroke-linecap:round; stroke-linejoin:round; stroke-width:2; stroke-opacity:0.1; fill:none\" points=\"257.204,117.092 2112.76,117.092 \"/>\n",
       "<polyline clip-path=\"url(#clip840)\" style=\"stroke:#000000; stroke-linecap:round; stroke-linejoin:round; stroke-width:4; stroke-opacity:1; fill:none\" points=\"257.204,1423.18 257.204,47.2441 \"/>\n",
       "<polyline clip-path=\"url(#clip840)\" style=\"stroke:#000000; stroke-linecap:round; stroke-linejoin:round; stroke-width:4; stroke-opacity:1; fill:none\" points=\"257.204,1353.33 273.937,1353.33 \"/>\n",
       "<polyline clip-path=\"url(#clip840)\" style=\"stroke:#000000; stroke-linecap:round; stroke-linejoin:round; stroke-width:4; stroke-opacity:1; fill:none\" points=\"257.204,1044.27 273.937,1044.27 \"/>\n",
       "<polyline clip-path=\"url(#clip840)\" style=\"stroke:#000000; stroke-linecap:round; stroke-linejoin:round; stroke-width:4; stroke-opacity:1; fill:none\" points=\"257.204,735.212 273.937,735.212 \"/>\n",
       "<polyline clip-path=\"url(#clip840)\" style=\"stroke:#000000; stroke-linecap:round; stroke-linejoin:round; stroke-width:4; stroke-opacity:1; fill:none\" points=\"257.204,426.152 273.937,426.152 \"/>\n",
       "<polyline clip-path=\"url(#clip840)\" style=\"stroke:#000000; stroke-linecap:round; stroke-linejoin:round; stroke-width:4; stroke-opacity:1; fill:none\" points=\"257.204,117.092 273.937,117.092 \"/>\n",
       "<path clip-path=\"url(#clip840)\" d=\"M114.26 1353.78 L143.936 1353.78 L143.936 1357.72 L114.26 1357.72 L114.26 1353.78 Z\" fill=\"#000000\" fill-rule=\"nonzero\" fill-opacity=\"1\" /><path clip-path=\"url(#clip840)\" d=\"M154.839 1366.68 L162.477 1366.68 L162.477 1340.31 L154.167 1341.98 L154.167 1337.72 L162.431 1336.05 L167.107 1336.05 L167.107 1366.68 L174.746 1366.68 L174.746 1370.61 L154.839 1370.61 L154.839 1366.68 Z\" fill=\"#000000\" fill-rule=\"nonzero\" fill-opacity=\"1\" /><path clip-path=\"url(#clip840)\" d=\"M184.19 1364.73 L189.075 1364.73 L189.075 1370.61 L184.19 1370.61 L184.19 1364.73 Z\" fill=\"#000000\" fill-rule=\"nonzero\" fill-opacity=\"1\" /><path clip-path=\"url(#clip840)\" d=\"M209.26 1339.13 Q205.649 1339.13 203.82 1342.7 Q202.014 1346.24 202.014 1353.37 Q202.014 1360.47 203.82 1364.04 Q205.649 1367.58 209.26 1367.58 Q212.894 1367.58 214.699 1364.04 Q216.528 1360.47 216.528 1353.37 Q216.528 1346.24 214.699 1342.7 Q212.894 1339.13 209.26 1339.13 M209.26 1335.43 Q215.07 1335.43 218.125 1340.03 Q221.204 1344.62 221.204 1353.37 Q221.204 1362.09 218.125 1366.7 Q215.07 1371.28 209.26 1371.28 Q203.449 1371.28 200.371 1366.7 Q197.315 1362.09 197.315 1353.37 Q197.315 1344.62 200.371 1340.03 Q203.449 1335.43 209.26 1335.43 Z\" fill=\"#000000\" fill-rule=\"nonzero\" fill-opacity=\"1\" /><path clip-path=\"url(#clip840)\" d=\"M115.256 1044.72 L144.931 1044.72 L144.931 1048.66 L115.256 1048.66 L115.256 1044.72 Z\" fill=\"#000000\" fill-rule=\"nonzero\" fill-opacity=\"1\" /><path clip-path=\"url(#clip840)\" d=\"M165.024 1030.07 Q161.413 1030.07 159.584 1033.64 Q157.778 1037.18 157.778 1044.31 Q157.778 1051.41 159.584 1054.98 Q161.413 1058.52 165.024 1058.52 Q168.658 1058.52 170.464 1054.98 Q172.292 1051.41 172.292 1044.31 Q172.292 1037.18 170.464 1033.64 Q168.658 1030.07 165.024 1030.07 M165.024 1026.37 Q170.834 1026.37 173.889 1030.97 Q176.968 1035.56 176.968 1044.31 Q176.968 1053.03 173.889 1057.64 Q170.834 1062.22 165.024 1062.22 Q159.214 1062.22 156.135 1057.64 Q153.079 1053.03 153.079 1044.31 Q153.079 1035.56 156.135 1030.97 Q159.214 1026.37 165.024 1026.37 Z\" fill=\"#000000\" fill-rule=\"nonzero\" fill-opacity=\"1\" /><path clip-path=\"url(#clip840)\" d=\"M185.186 1055.67 L190.07 1055.67 L190.07 1061.55 L185.186 1061.55 L185.186 1055.67 Z\" fill=\"#000000\" fill-rule=\"nonzero\" fill-opacity=\"1\" /><path clip-path=\"url(#clip840)\" d=\"M200.301 1026.99 L218.658 1026.99 L218.658 1030.93 L204.584 1030.93 L204.584 1039.4 Q205.602 1039.05 206.621 1038.89 Q207.639 1038.71 208.658 1038.71 Q214.445 1038.71 217.824 1041.88 Q221.204 1045.05 221.204 1050.46 Q221.204 1056.04 217.732 1059.14 Q214.26 1062.22 207.94 1062.22 Q205.764 1062.22 203.496 1061.85 Q201.25 1061.48 198.843 1060.74 L198.843 1056.04 Q200.926 1057.18 203.149 1057.73 Q205.371 1058.29 207.848 1058.29 Q211.852 1058.29 214.19 1056.18 Q216.528 1054.08 216.528 1050.46 Q216.528 1046.85 214.19 1044.75 Q211.852 1042.64 207.848 1042.64 Q205.973 1042.64 204.098 1043.06 Q202.246 1043.47 200.301 1044.35 L200.301 1026.99 Z\" fill=\"#000000\" fill-rule=\"nonzero\" fill-opacity=\"1\" /><path clip-path=\"url(#clip840)\" d=\"M164.028 721.011 Q160.417 721.011 158.589 724.575 Q156.783 728.117 156.783 735.247 Q156.783 742.353 158.589 745.918 Q160.417 749.46 164.028 749.46 Q167.663 749.46 169.468 745.918 Q171.297 742.353 171.297 735.247 Q171.297 728.117 169.468 724.575 Q167.663 721.011 164.028 721.011 M164.028 717.307 Q169.839 717.307 172.894 721.913 Q175.973 726.497 175.973 735.247 Q175.973 743.973 172.894 748.58 Q169.839 753.163 164.028 753.163 Q158.218 753.163 155.14 748.58 Q152.084 743.973 152.084 735.247 Q152.084 726.497 155.14 721.913 Q158.218 717.307 164.028 717.307 Z\" fill=\"#000000\" fill-rule=\"nonzero\" fill-opacity=\"1\" /><path clip-path=\"url(#clip840)\" d=\"M184.19 746.612 L189.075 746.612 L189.075 752.492 L184.19 752.492 L184.19 746.612 Z\" fill=\"#000000\" fill-rule=\"nonzero\" fill-opacity=\"1\" /><path clip-path=\"url(#clip840)\" d=\"M209.26 721.011 Q205.649 721.011 203.82 724.575 Q202.014 728.117 202.014 735.247 Q202.014 742.353 203.82 745.918 Q205.649 749.46 209.26 749.46 Q212.894 749.46 214.699 745.918 Q216.528 742.353 216.528 735.247 Q216.528 728.117 214.699 724.575 Q212.894 721.011 209.26 721.011 M209.26 717.307 Q215.07 717.307 218.125 721.913 Q221.204 726.497 221.204 735.247 Q221.204 743.973 218.125 748.58 Q215.07 753.163 209.26 753.163 Q203.449 753.163 200.371 748.58 Q197.315 743.973 197.315 735.247 Q197.315 726.497 200.371 721.913 Q203.449 717.307 209.26 717.307 Z\" fill=\"#000000\" fill-rule=\"nonzero\" fill-opacity=\"1\" /><path clip-path=\"url(#clip840)\" d=\"M165.024 411.951 Q161.413 411.951 159.584 415.515 Q157.778 419.057 157.778 426.187 Q157.778 433.293 159.584 436.858 Q161.413 440.399 165.024 440.399 Q168.658 440.399 170.464 436.858 Q172.292 433.293 172.292 426.187 Q172.292 419.057 170.464 415.515 Q168.658 411.951 165.024 411.951 M165.024 408.247 Q170.834 408.247 173.889 412.853 Q176.968 417.437 176.968 426.187 Q176.968 434.913 173.889 439.52 Q170.834 444.103 165.024 444.103 Q159.214 444.103 156.135 439.52 Q153.079 434.913 153.079 426.187 Q153.079 417.437 156.135 412.853 Q159.214 408.247 165.024 408.247 Z\" fill=\"#000000\" fill-rule=\"nonzero\" fill-opacity=\"1\" /><path clip-path=\"url(#clip840)\" d=\"M185.186 437.552 L190.07 437.552 L190.07 443.432 L185.186 443.432 L185.186 437.552 Z\" fill=\"#000000\" fill-rule=\"nonzero\" fill-opacity=\"1\" /><path clip-path=\"url(#clip840)\" d=\"M200.301 408.872 L218.658 408.872 L218.658 412.807 L204.584 412.807 L204.584 421.279 Q205.602 420.932 206.621 420.77 Q207.639 420.585 208.658 420.585 Q214.445 420.585 217.824 423.756 Q221.204 426.927 221.204 432.344 Q221.204 437.923 217.732 441.024 Q214.26 444.103 207.94 444.103 Q205.764 444.103 203.496 443.733 Q201.25 443.362 198.843 442.622 L198.843 437.923 Q200.926 439.057 203.149 439.612 Q205.371 440.168 207.848 440.168 Q211.852 440.168 214.19 438.061 Q216.528 435.955 216.528 432.344 Q216.528 428.733 214.19 426.626 Q211.852 424.52 207.848 424.52 Q205.973 424.52 204.098 424.937 Q202.246 425.353 200.301 426.233 L200.301 408.872 Z\" fill=\"#000000\" fill-rule=\"nonzero\" fill-opacity=\"1\" /><path clip-path=\"url(#clip840)\" d=\"M154.839 130.437 L162.477 130.437 L162.477 104.071 L154.167 105.738 L154.167 101.478 L162.431 99.8117 L167.107 99.8117 L167.107 130.437 L174.746 130.437 L174.746 134.372 L154.839 134.372 L154.839 130.437 Z\" fill=\"#000000\" fill-rule=\"nonzero\" fill-opacity=\"1\" /><path clip-path=\"url(#clip840)\" d=\"M184.19 128.492 L189.075 128.492 L189.075 134.372 L184.19 134.372 L184.19 128.492 Z\" fill=\"#000000\" fill-rule=\"nonzero\" fill-opacity=\"1\" /><path clip-path=\"url(#clip840)\" d=\"M209.26 102.89 Q205.649 102.89 203.82 106.455 Q202.014 109.997 202.014 117.126 Q202.014 124.233 203.82 127.798 Q205.649 131.339 209.26 131.339 Q212.894 131.339 214.699 127.798 Q216.528 124.233 216.528 117.126 Q216.528 109.997 214.699 106.455 Q212.894 102.89 209.26 102.89 M209.26 99.1867 Q215.07 99.1867 218.125 103.793 Q221.204 108.376 221.204 117.126 Q221.204 125.853 218.125 130.46 Q215.07 135.043 209.26 135.043 Q203.449 135.043 200.371 130.46 Q197.315 125.853 197.315 117.126 Q197.315 108.376 200.371 103.793 Q203.449 99.1867 209.26 99.1867 Z\" fill=\"#000000\" fill-rule=\"nonzero\" fill-opacity=\"1\" /><path clip-path=\"url(#clip840)\" d=\"M58.657 794.954 L77.5631 794.954 L77.5631 800.842 L28.3562 800.842 L28.3562 794.954 L33.7671 794.954 Q30.5842 793.108 29.0564 790.307 Q27.4968 787.474 27.4968 783.56 Q27.4968 777.066 32.6531 773.024 Q37.8093 768.95 46.212 768.95 Q54.6147 768.95 59.771 773.024 Q64.9272 777.066 64.9272 783.56 Q64.9272 787.474 63.3994 790.307 Q61.8398 793.108 58.657 794.954 M46.212 775.029 Q39.7508 775.029 36.0905 777.703 Q32.3984 780.345 32.3984 784.992 Q32.3984 789.639 36.0905 792.312 Q39.7508 794.954 46.212 794.954 Q52.6732 794.954 56.3653 792.312 Q60.0256 789.639 60.0256 784.992 Q60.0256 780.345 56.3653 777.703 Q52.6732 775.029 46.212 775.029 Z\" fill=\"#000000\" fill-rule=\"nonzero\" fill-opacity=\"1\" /><path clip-path=\"url(#clip840)\" d=\"M32.4621 745.429 Q32.4621 750.14 36.1542 752.877 Q39.8145 755.614 46.212 755.614 Q52.6095 755.614 56.3017 752.909 Q59.9619 750.171 59.9619 745.429 Q59.9619 740.75 56.2698 738.013 Q52.5777 735.276 46.212 735.276 Q39.8781 735.276 36.186 738.013 Q32.4621 740.75 32.4621 745.429 M27.4968 745.429 Q27.4968 737.79 32.4621 733.43 Q37.4273 729.069 46.212 729.069 Q54.9649 729.069 59.9619 733.43 Q64.9272 737.79 64.9272 745.429 Q64.9272 753.1 59.9619 757.46 Q54.9649 761.789 46.212 761.789 Q37.4273 761.789 32.4621 757.46 Q27.4968 753.1 27.4968 745.429 Z\" fill=\"#000000\" fill-rule=\"nonzero\" fill-opacity=\"1\" /><path clip-path=\"url(#clip840)\" d=\"M14.479 719.361 L14.479 713.505 L64.0042 713.505 L64.0042 719.361 L14.479 719.361 Z\" fill=\"#000000\" fill-rule=\"nonzero\" fill-opacity=\"1\" /><path clip-path=\"url(#clip840)\" d=\"M22.086 682.759 L47.4533 698.991 L47.4533 682.759 L22.086 682.759 M16.4842 684.445 L16.4842 676.361 L47.4533 676.361 L47.4533 669.582 L52.8005 669.582 L52.8005 676.361 L64.0042 676.361 L64.0042 682.759 L52.8005 682.759 L52.8005 704.211 L46.5939 704.211 L16.4842 684.445 Z\" fill=\"#000000\" fill-rule=\"nonzero\" fill-opacity=\"1\" /><g clip-path=\"url(#clip842)\">\n",
       "<image width=\"1751\" height=\"1298\" xlink:href=\"data:image/png;base64,\n",
       "iVBORw0KGgoAAAANSUhEUgAABtcAAAUSCAYAAABy1a5WAAAgAElEQVR4nOzbW64tVXJA0dhwyoCE\n",
       "URkK/GO5/32z/FHlt6vOXv6gA1NKRN5Ij9GCCK187TvPff3h45czy/393/3T3SNc9tNX/3z3CJf8\n",
       "4+fPd49w2S9/+PbuES77+dvX3SNc8vM36x9H8/O3f717hMt+/va/7x7hkj999x93j3DZj9//290j\n",
       "XPbHH3bv8P0f/3z3CJd99+PuHb756S93j3DZ1z/9190jXPb66bu7R7jk/MOPd49w2ecf/3T3CJd9\n",
       "/rD7t8Ln97/cPcJl57v9O3z1ze77+euPH+4e4bKPr3e/E756fdw9wnWv3b/5Z2bOed89wiWf7/+9\n",
       "e4TLPj/3/2b+/Ovu3zrnf/717hEu++o//+XuES77+t937/D1Xx5wHf159w5f3T0AAAAAAAAAbCGu\n",
       "AQAAAAAAQCSuAQAAAAAAQCSuAQAAAAAAQCSuAQAAAAAAQCSuAQAAAAAAQCSuAQAAAAAAQCSuAQAA\n",
       "AAAAQCSuAQAAAAAAQCSuAQAAAAAAQCSuAQAAAAAAQCSuAQAAAAAAQCSuAQAAAAAAQCSuAQAAAAAA\n",
       "QCSuAQAAAAAAQCSuAQAAAAAAQCSuAQAAAAAAQCSuAQAAAAAAQCSuAQAAAAAAQCSuAQAAAAAAQCSu\n",
       "AQAAAAAAQCSuAQAAAAAAQCSuAQAAAAAAQCSuAQAAAAAAQCSuAQAAAAAAQCSuAQAAAAAAQCSuAQAA\n",
       "AAAAQCSuAQAAAAAAQCSuAQAAAAAAQCSuAQAAAAAAQCSuAQAAAAAAQCSuAQAAAAAAQCSuAQAAAAAA\n",
       "QCSuAQAAAAAAQCSuAQAAAAAAQCSuAQAAAAAAQCSuAQAAAAAAQCSuAQAAAAAAQCSuAQAAAAAAQCSu\n",
       "AQAAAAAAQCSuAQAAAAAAQCSuAQAAAAAAQCSuAQAAAAAAQCSuAQAAAAAAQCSuAQAAAAAAQCSuAQAA\n",
       "AAAAQCSuAQAAAAAAQCSuAQAAAAAAQCSuAQAAAAAAQCSuAQAAAAAAQCSuAQAAAAAAQCSuAQAAAAAA\n",
       "QCSuAQAAAAAAQCSuAQAAAAAAQCSuAQAAAAAAQCSuAQAAAAAAQCSuAQAAAAAAQCSuAQAAAAAAQCSu\n",
       "AQAAAAAAQCSuAQAAAAAAQCSuAQAAAAAAQPRx5tw9w2/ADnd7wnX0iB3O6+4RLtl/Anb4EpzZfR/M\n",
       "7L+XZ2bO9gvpAdfR9h2ecB+sf6DO7L+Zt88/M68H7LD9HF7nffcIl50H7DDbd9g+/+y/js5r97No\n",
       "Zh7xbbH9OnrCvWyHL8D2+WfWf9/NzP4dts8/s34H/3MNAAAAAAAAInENAAAAAAAAInENAAAAAAAA\n",
       "InENAAAAAAAAInENAAAAAAAAInENAAAAAAAAInENAAAAAAAAInENAAAAAAAAInENAAAAAAAAInEN\n",
       "AAAAAAAAInENAAAAAAAAInENAAAAAAAAInENAAAAAAAAInENAAAAAAAAInENAAAAAAAAInENAAAA\n",
       "AAAAInENAAAAAAAAInENAAAAAAAAInENAAAAAAAAInENAAAAAAAAInENAAAAAAAAInENAAAAAAAA\n",
       "InENAAAAAAAAInENAAAAAAAAInENAAAAAAAAInENAAAAAAAAInENAAAAAAAAInENAAAAAAAAInEN\n",
       "AAAAAAAAInENAAAAAAAAInENAAAAAAAAInENAAAAAAAAInENAAAAAAAAInENAAAAAAAAInENAAAA\n",
       "AAAAInENAAAAAAAAInENAAAAAAAAInENAAAAAAAAInENAAAAAAAAInENAAAAAAAAInENAAAAAAAA\n",
       "InENAAAAAAAAInENAAAAAAAAInENAAAAAAAAInENAAAAAAAAInENAAAAAAAAInENAAAAAAAAInEN\n",
       "AAAAAAAAInENAAAAAAAAInENAAAAAAAAInENAAAAAAAAInENAAAAAAAAInENAAAAAAAAInENAAAA\n",
       "AAAAInENAAAAAAAAInENAAAAAAAAInENAAAAAAAAInENAAAAAAAAInENAAAAAAAAInENAAAAAAAA\n",
       "InENAAAAAAAAoo855+4ZLjtjh7vtnv5XD7gV1p/D9vln5hlLnNfdE1zzhDOY5WcwM9t3eMI7wb38\n",
       "BXjEDsuX2D7/zMx53z3BZa/tO2yff2ZmPu8e4LKz/BzO7J5/Zv8O26+hXy3/vpsHXEfL5595yL2w\n",
       "fQffqF+G7efgDG7nf64BAAAAAABAJK4BAAAAAABAJK4BAAAAAABAJK4BAAAAAABAJK4BAAAAAABA\n",
       "JK4BAAAAAABAJK4BAAAAAABAJK4BAAAAAABAJK4BAAAAAABAJK4BAAAAAABAJK4BAAAAAABAJK4B\n",
       "AAAAAABAJK4BAAAAAABAJK4BAAAAAABAJK4BAAAAAABAJK4BAAAAAABAJK4BAAAAAABAJK4BAAAA\n",
       "AABAJK4BAAAAAABAJK4BAAAAAABAJK4BAAAAAABAJK4BAAAAAABAJK4BAAAAAABAJK4BAAAAAABA\n",
       "JK4BAAAAAABAJK4BAAAAAABAJK4BAAAAAABAJK4BAAAAAABAJK4BAAAAAABAJK4BAAAAAABAJK4B\n",
       "AAAAAABAJK4BAAAAAABAJK4BAAAAAABAJK4BAAAAAABAJK4BAAAAAABAJK4BAAAAAABAJK4BAAAA\n",
       "AABAJK4BAAAAAABAJK4BAAAAAABAJK4BAAAAAABAJK4BAAAAAABAJK4BAAAAAABAJK4BAAAAAABA\n",
       "JK4BAAAAAABAJK4BAAAAAABAJK4BAAAAAABAJK4BAAAAAABAJK4BAAAAAABAJK4BAAAAAABAJK4B\n",
       "AAAAAABAJK4BAAAAAABAJK4BAAAAAABAJK4BAAAAAABAJK4BAAAAAABAJK4BAAAAAABAJK4BAAAA\n",
       "AABAJK4BAAAAAABAJK4BAAAAAABAJK4BAAAAAABAJK4BAAAAAABAJK4BAAAAAABA9HH3AL+Nc/cA\n",
       "l531O2yf/wkb8CU487p7hMu23wuPOIPthzAP2OE84TpavsP2+Wf2P1BnZt7Ll1j/MJqH7PC+e4Jr\n",
       "ts8/85AdPu+e4Jrt88/MWX4dndfu+WdmXg/4rbP9ebT9PviVHe72esA74fWAe2H/Dk/4nbB7B/9z\n",
       "DQAAAAAAACJxDQAAAAAAACJxDQAAAAAAACJxDQAAAAAAACJxDQAAAAAAACJxDQAAAAAAACJxDQAA\n",
       "AAAAACJxDQAAAAAAACJxDQAAAAAAACJxDQAAAAAAACJxDQAAAAAAACJxDQAAAAAAACJxDQAAAAAA\n",
       "ACJxDQAAAAAAACJxDQAAAAAAACJxDQAAAAAAACJxDQAAAAAAACJxDQAAAAAAACJxDQAAAAAAACJx\n",
       "DQAAAAAAACJxDQAAAAAAACJxDQAAAAAAACJxDQAAAAAAACJxDQAAAAAAACJxDQAAAAAAACJxDQAA\n",
       "AAAAACJxDQAAAAAAACJxDQAAAAAAACJxDQAAAAAAACJxDQAAAAAAACJxDQAAAAAAACJxDQAAAAAA\n",
       "ACJxDQAAAAAAACJxDQAAAAAAACJxDQAAAAAAACJxDQAAAAAAACJxDQAAAAAAACJxDQAAAAAAACJx\n",
       "DQAAAAAAACJxDQAAAAAAACJxDQAAAAAAACJxDQAAAAAAACJxDQAAAAAAACJxDQAAAAAAACJxDQAA\n",
       "AAAAACJxDQAAAAAAACJxDQAAAAAAACJxDQAAAAAAACJxDQAAAAAAACJxDQAAAAAAACJxDQAAAAAA\n",
       "ACJxDQAAAAAAACJxDQAAAAAAACJxDQAAAAAAACJxDQAAAAAAACJxDQAAAAAAACJxDQAAAAAAACJx\n",
       "DQAAAAAAACJxDQAAAAAAACJxDQAAAAAAACJxDQAAAAAAAKKPmXP3DJcdO9xu9/TPsf0czvYFZv8Z\n",
       "zOzfYfv8MzNnXnePcNk5u3fYPv/M7L8ZHnAGT7iOXttfzu/33RNc94QdzvIdts8/M3M+757gN7D7\n",
       "HI7r6HbnPOHvy/fvsP5e2D7/POAMZv8Or+Xzz8wj7oXt/xD5eu+ef2bWn8H+tzIAAAAAAAD8TsQ1\n",
       "AAAAAAAAiMQ1AAAAAAAAiMQ1AAAAAAAAiMQ1AAAAAAAAiMQ1AAAAAAAAiMQ1AAAAAAAAiMQ1AAAA\n",
       "AAAAiMQ1AAAAAAAAiMQ1AAAAAAAAiMQ1AAAAAAAAiMQ1AAAAAAAAiMQ1AAAAAAAAiMQ1AAAAAAAA\n",
       "iMQ1AAAAAAAAiMQ1AAAAAAAAiMQ1AAAAAAAAiMQ1AAAAAAAAiMQ1AAAAAAAAiMQ1AAAAAAAAiMQ1\n",
       "AAAAAAAAiMQ1AAAAAAAAiMQ1AAAAAAAAiMQ1AAAAAAAAiMQ1AAAAAAAAiMQ1AAAAAAAAiMQ1AAAA\n",
       "AAAAiMQ1AAAAAAAAiMQ1AAAAAAAAiMQ1AAAAAAAAiMQ1AAAAAAAAiMQ1AAAAAAAAiMQ1AAAAAAAA\n",
       "iMQ1AAAAAAAAiMQ1AAAAAAAAiMQ1AAAAAAAAiMQ1AAAAAAAAiMQ1AAAAAAAAiMQ1AAAAAAAAiMQ1\n",
       "AAAAAAAAiMQ1AAAAAAAAiMQ1AAAAAAAAiMQ1AAAAAAAAiMQ1AAAAAAAAiMQ1AAAAAAAAiMQ1AAAA\n",
       "AAAAiMQ1AAAAAAAAiMQ1AAAAAAAAiMQ1AAAAAAAAiMQ1AAAAAAAAiMQ1AAAAAAAAiMQ1AAAAAAAA\n",
       "iMQ1AAAAAAAAiMQ1AAAAAAAAiMQ1AAAAAAAAiMQ1AAAAAAAAiMQ1AAAAAAAAiMQ1AAAAAAAAiMQ1\n",
       "AAAAAAAAiMQ1AAAAAAAAiMQ1AAAAAAAAiD7OnLtnuO48YIfl5/CE62j/BvtvheXjz8z+M5iZOed1\n",
       "9wiXbJ9/xnX0Rdg+/+w/g+3zz4wX25dg+/wz83rCDu/33SNc8jq755/ZfwYzM3M+757gkrN8/pmZ\n",
       "s/1e2D7/zDzh4+LM7nM4s/9e3v48nZn9OzzheWSH+22ff/b/1vE/1wAAAAAAACAS1wAAAAAAACAS\n",
       "1wAAAAAAACAS1wAAAAAAACAS1wAAAAAAACAS1wAAAAAAACAS1wAAAAAAACAS1wAAAAAAACAS1wAA\n",
       "AAAAACAS1wAAAAAAACAS1wAAAAAAACAS1wAAAAAAACAS1wAAAAAAACAS1wAAAAAAACAS1wAAAAAA\n",
       "ACAS1wAAAAAAACAS1wAAAAAAACAS1wAAAAAAACAS1wAAAAAAACAS1wAAAAAAACAS1wAAAAAAACAS\n",
       "1wAAAAAAACAS1wAAAAAAACAS1wAAAAAAACAS1wAAAAAAACAS1wAAAAAAACAS1wAAAAAAACAS1wAA\n",
       "AAAAACAS1wAAAAAAACAS1wAAAAAAACAS1wAAAAAAACAS1wAAAAAAACAS1wAAAAAAACAS1wAAAAAA\n",
       "ACAS1wAAAAAAACAS1wAAAAAAACAS1wAAAAAAACAS1wAAAAAAACAS1wAAAAAAACAS1wAAAAAAACAS\n",
       "1wAAAAAAACAS1wAAAAAAACAS1wAAAAAAACAS1wAAAAAAACAS1wAAAAAAACAS1wAAAAAAACAS1wAA\n",
       "AAAAACAS1wAAAAAAACAS1wAAAAAAACAS1wAAAAAAACAS1wAAAAAAACAS1wAAAAAAACAS1wAAAAAA\n",
       "ACAS1wAAAAAAACAS1wAAAAAAACAS1wAAAAAAACAS1wAAAAAAACAS1wAAAAAAACAS1wAAAAAAACAS\n",
       "1wAAAAAAACD6mDl3z3DZscPtts8/M3P2r7D+FLbPP2OHL8H2+Wdm5rzunuD/vSe8E9ZfR9vnn3nG\n",
       "A2n5Dq/zvnuEy84DdpjtO7w/757gurN/h7P8HF5POIPZvcPr7P/78vN6wA7L74Xt8888Y4f177Xt\n",
       "88/s/76b2b/DE/7hYvkO+9/KAAAAAAAA8DsR1wAAAAAAACAS1wAAAAAAACAS1wAAAAAAACAS1wAA\n",
       "AAAAACAS1wAAAAAAACAS1wAAAAAAACAS1wAAAAAAACAS1wAAAAAAACAS1wAAAAAAACAS1wAAAAAA\n",
       "ACAS1wAAAAAAACAS1wAAAAAAACAS1wAAAAAAACAS1wAAAAAAACAS1wAAAAAAACAS1wAAAAAAACAS\n",
       "1wAAAAAAACAS1wAAAAAAACAS1wAAAAAAACAS1wAAAAAAACAS1wAAAAAAACAS1wAAAAAAACAS1wAA\n",
       "AAAAACAS1wAAAAAAACAS1wAAAAAAACAS1wAAAAAAACAS1wAAAAAAACAS1wAAAAAAACAS1wAAAAAA\n",
       "ACAS1wAAAAAAACAS1wAAAAAAACAS1wAAAAAAACAS1wAAAAAAACAS1wAAAAAAACAS1wAAAAAAACAS\n",
       "1wAAAAAAACAS1wAAAAAAACAS1wAAAAAAACAS1wAAAAAAACAS1wAAAAAAACAS1wAAAAAAACAS1wAA\n",
       "AAAAACAS1wAAAAAAACAS1wAAAAAAACAS1wAAAAAAACAS1wAAAAAAACAS1wAAAAAAACAS1wAAAAAA\n",
       "ACAS1wAAAAAAACAS1wAAAAAAACAS1wAAAAAAACAS1wAAAAAAACAS1wAAAAAAACAS1wAAAAAAACAS\n",
       "1wAAAAAAACAS1wAAAAAAACAS1wAAAAAAACAS1wAAAAAAACAS1wAAAAAAACAS1wAAAAAAACD6mHPu\n",
       "nuGyM3a42+7pf7X9DGb2n8MDHkdz5nX3CJeds3uH7fPPuI6+BNvnn3nADg94J8x7+RnMzLyXH8T2\n",
       "+Wdm3u+7J7hu+w5n+fwzM+fz7gmuW77DWT7/zP4dziP+vnz/e237dbT9WTQzD3mvLd9h+/wz87LD\n",
       "/bbPP7N+hyd8WQAAAAAAAMDvQlwDAAAAAACASFwDAAAAAACASFwDAAAAAACASFwDAAAAAACASFwD\n",
       "AAAAAACASFwDAAAAAACASFwDAAAAAACASFwDAAAAAACASFwDAAAAAACASFwDAAAAAACASFwDAAAA\n",
       "AACASFwDAAAAAACASFwDAAAAAACASFwDAAAAAACASFwDAAAAAACASFwDAAAAAACASFwDAAAAAACA\n",
       "SFwDAAAAAACASFwDAAAAAACASFwDAAAAAACASFwDAAAAAACASFwDAAAAAACASFwDAAAAAACASFwD\n",
       "AAAAAACASFwDAAAAAACASFwDAAAAAACASFwDAAAAAACASFwDAAAAAACASFwDAAAAAACASFwDAAAA\n",
       "AACASFwDAAAAAACASFwDAAAAAACASFwDAAAAAACASFwDAAAAAACASFwDAAAAAACASFwDAAAAAACA\n",
       "SFwDAAAAAACASFwDAAAAAACASFwDAAAAAACASFwDAAAAAACASFwDAAAAAACASFwDAAAAAACASFwD\n",
       "AAAAAACASFwDAAAAAACASFwDAAAAAACASFwDAAAAAACASFwDAAAAAACASFwDAAAAAACASFwDAAAA\n",
       "AACASFwDAAAAAACASFwDAAAAAACASFwDAAAAAACASFwDAAAAAACASFwDAAAAAACASFwDAAAAAACA\n",
       "SFwDAAAAAACASFwDAAAAAACASFwDAAAAAACASFwDAAAAAACASFwDAAAAAACA6GPm3D3Db2D/Dmf5\n",
       "Dtvnn3nCVTRzli9x5nX3CJdtP4OZ/ffC9vlnHnIdneX38/b5Z9bvsP4amll/BjOz/4F03ndPcN0D\n",
       "dngt3+H1/rx7hOuesMNZvsP2+WfW73Ae8ffly9/LM/uvo+Xzz8zM+dvdE1y3/L32jG+L3d93MzPz\n",
       "Xv5M3f5bbWb9Dk/4sgAAAAAAAIDfhbgGAAAAAAAAkbgGAAAAAAAAkbgGAAAAAAAAkbgGAAAAAAAA\n",
       "kbgGAAAAAAAAkbgGAAAAAAAAkbgGAAAAAAAAkbgGAAAAAAAAkbgGAAAAAAAAkbgGAAAAAAAAkbgG\n",
       "AAAAAAAAkbgGAAAAAAAAkbgGAAAAAAAAkbgGAAAAAAAAkbgGAAAAAAAAkbgGAAAAAAAAkbgGAAAA\n",
       "AAAAkbgGAAAAAAAAkbgGAAAAAAAAkbgGAAAAAAAAkbgGAAAAAAAAkbgGAAAAAAAAkbgGAAAAAAAA\n",
       "kbgGAAAAAAAAkbgGAAAAAAAAkbgGAAAAAAAAkbgGAAAAAAAAkbgGAAAAAAAAkbgGAAAAAAAAkbgG\n",
       "AAAAAAAAkbgGAAAAAAAAkbgGAAAAAAAAkbgGAAAAAAAAkbgGAAAAAAAAkbgGAAAAAAAAkbgGAAAA\n",
       "AAAAkbgGAAAAAAAAkbgGAAAAAAAAkbgGAAAAAAAAkbgGAAAAAAAAkbgGAAAAAAAAkbgGAAAAAAAA\n",
       "kbgGAAAAAAAAkbgGAAAAAAAAkbgGAAAAAAAAkbgGAAAAAAAAkbgGAAAAAAAAkbgGAAAAAAAAkbgG\n",
       "AAAAAAAAkbgGAAAAAAAAkbgGAAAAAAAAkbgGAAAAAAAAkbgGAAAAAAAAkbgGAAAAAAAAkbgGAAAA\n",
       "AAAAkbgGAAAAAAAAkbgGAAAAAAAAkbgGAAAAAAAAkbgGAAAAAAAAkbgGAAAAAAAA0ceZc/cMl53z\n",
       "gB3mffcIl5zXE85gv+07bJ9/xg5fgnNed49w2ZkH7LD8HLbPPzNz3st3eO//G7AHfKLOvJcvsX3+\n",
       "mZn37t8JM7N/h/N59wSXvR6wwzl/u3uEa7bPPzPnvXyHr/Z/W8zyfzuamZmzfIcHPE+fsMNr+zP1\n",
       "EWewf4ftz6PX9m/smfW/157wZQEAAAAAAAC/C3ENAAAAAAAAInENAAAAAAAAInENAAAAAP6PXXvL\n",
       "tRvJASBIDTz7X3D7quZjNpCADKspRKyARB29kAcAIBLXAAAAAAAAIBLXAAAAAAAAIBLXAAAAAAAA\n",
       "IBLXAAAAAAAAIBLXAAAAAAAAIBLXAAAAAAAAIBLXAAAAAAAAIBLXAAAAAAAAIBLXAAAAAAAAIBLX\n",
       "AAAAAAAAIBLXAAAAAAAAIBLXAAAAAAAAIBLXAAAAAAAAIBLXAAAAAAAAIBLXAAAAAAAAIBLXAAAA\n",
       "AAAAIBLXAAAAAAAAIBLXAAAAAAAAIBLXAAAAAAAAIBLXAAAAAAAAIBLXAAAAAAAAIBLXAAAAAAAA\n",
       "IBLXAAAAAAAAIBLXAAAAAAAAIBLXAAAAAAAAIBLXAAAAAAAAIBLXAAAAAAAAIBLXAAAAAAAAIBLX\n",
       "AAAAAAAAIBLXAAAAAAAAIBLXAAAAAAAAIBLXAAAAAAAAIBLXAAAAAAAAIBLXAAAAAAAAIBLXAAAA\n",
       "AAAAIBLXAAAAAAAAIBLXAAAAAAAAIBLXAAAAAAAAIBLXAAAAAAAAIBLXAAAAAAAAIBLXAAAAAAAA\n",
       "IBLXAAAAAAAAIBLXAAAAAAAAIBLXAAAAAAAAIBLXAAAAAAAAIBLXAAAAAAAAIBLXAAAAAAAAIBLX\n",
       "AAAAAAAAIBLXAAAAAAAAIBLXAAAAAAAAIBLXAAAAAAAAIBLXAAAAAAAAIBLXAAAAAAAAIBLXAAAA\n",
       "AAAAIBLXAAAAAAAAIBLXAAAAAAAAIBLXAAAAAAAAIPo1c96e4Q+43x7gD9h9Drun/79z9m+xfYMP\n",
       "HMH6M5iZOed6e4RHnMG/w/Ydts8/MzPLd/jEGdz7d9j+bL7O/u+E696/w5yftyd45gtncC8/g5n1\n",
       "O5zt18HM/mv5/H57gseuD/xHfvu1sH3+mW/scG3fYfv8M594P7qWv1vMB751tu+w/6kMAAAAAAAA\n",
       "f4m4BgAAAAAAAJG4BgAAAAAAAJG4BgAAAAAAAJG4BgAAAAAAAJG4BgAAAAAAAJG4BgAAAAAAAJG4\n",
       "BgAAAAAAAJG4BgAAAAAAAJG4BgAAAAAAAJG4BgAAAAAAAJG4BgAAAAAAAJG4BgAAAAAAAJG4BgAA\n",
       "AAAAAJG4BgAAAAAAAJG4BgAAAAAAAJG4BgAAAAAAAJG4BgAAAAAAAJG4BgAAAAAAAJG4BgAAAAAA\n",
       "AJG4BgAAAAAAAJG4BgAAAAAAAJG4BgAAAAAAAJG4BgAAAAAAAJG4BgAAAAAAAJG4BgAAAAAAAJG4\n",
       "BgAAAAAAAJG4BgAAAAAAAJG4BgAAAAAAAJG4BgAAAAAAAJG4BgAAAAAAAJG4BgAAAAAAAJG4BgAA\n",
       "AAAAAJG4BgAAAAAAAJG4BgAAAAAAAJG4BgAAAAAAAJG4BgAAAAAAAJG4BgAAAAAAAJG4BgAAAAAA\n",
       "AJG4BgAAAAAAAJG4BgAAAAAAAJG4BgAAAAAAAJG4BgAAAAAAAJG4BgAAAAAAAJG4BgAAAAAAAJG4\n",
       "BgAAAAAAAJG4BgAAAAAAAJG4BgAAAAAAAJG4BgAAAAAAAJG4BgAAAAAAAJG4BgAAAAAAAJG4BgAA\n",
       "AAAAAJG4BgAAAAAAAJG4BgAAAAAAAJG4BgAAAAAAAJG4BgAAAAAAAJG4BgAAAAAAAJG4BgAAAAAA\n",
       "AJG4BgAAAAAAAJG4BgAAAAAAANGvmfP2DI8dO7xu+/wzX7gSZs7yJZaPPzMz51xvj/DY9nP4xBl8\n",
       "YYfZvcMnzmD7Dtvnn5m5v7DD8qfCfb89wXNn/w7X8nO47p+3R3ju/H57gseu5Tuce/f8MzPzn+U7\n",
       "nP3/Lz8feCbMLN/hC9fyJ3bY/Wze/m40MzNn9xnMzP737O3fajPrd9j/ZgEAAAAAAAB/ibgGAAAA\n",
       "AAAAkbgGAAAAAAAAkbgGAAAAAAAAkbgGAAAAAAAAkbgGAAAAAAAAkbgGAAAAAAAAkbgGAAAAAAAA\n",
       "kbgGAAAAAAAAkbgGAAAAAAAAkbgGAAAAAAAAkbgGAAAAAAAAkbgGAAAAAAAAkbgGAAAAAAAAkbgG\n",
       "AAAAAAAAkbgGAAAAAAAAkbgGAAAAAAAAkbgGAAAAAAAAkbgGAAAAAAAAkbgGAAAAAAAAkbgGAAAA\n",
       "AAAAkbgGAAAAAAAAkbgGAAAAAAAAkbgGAAAAAAAAkbgGAAAAAAAAkbgGAAAAAAAAkbgGAAAAAAAA\n",
       "kbgGAAAAAAAAkbgGAAAAAAAAkbgGAAAAAAAAkbgGAAAAAAAAkbgGAAAAAAAAkbgGAAAAAAAAkbgG\n",
       "AAAAAAAAkbgGAAAAAAAAkbgGAAAAAAAAkbgGAAAAAAAAkbgGAAAAAAAAkbgGAAAAAAAAkbgGAAAA\n",
       "AAAAkbgGAAAAAAAAkbgGAAAAAAAAkbgGAAAAAAAAkbgGAAAAAAAAkbgGAAAAAAAAkbgGAAAAAAAA\n",
       "kbgGAAAAAAAAkbgGAAAAAAAAkbgGAAAAAMpKy7MAABjcSURBVAAAkbgGAAAAAAAAkbgGAAAAAAAA\n",
       "kbgGAAAAAAAAkbgGAAAAAAAAkbgGAAAAAAAAkbgGAAAAAAAAkbgGAAAAAAAAkbgGAAAAAAAAkbgG\n",
       "AAAAAAAAkbgGAAAAAAAAkbgGAAAAAAAAkbgGAAAAAAAA0a855+0ZHjtf2GHut0d45MwXzmC/7Tts\n",
       "n3/mIzuc6+0RHjmze/6ZmfsDP6Ttj+bt18HM/h3OvXv+mf1nMDOz/BX1GzfUe/shzMz98/YEz2yf\n",
       "f2auD+xw7t9vj/DMWT7/zPodzvnC/8s/8G5xlj/Xll8HM2OHf4MPPJevT7yjLt9h+/10Zv0OX3iz\n",
       "AAAAAAAAgL9CXAMAAAAAAIBIXAMAAAAAAIBIXAMAAAAAAIBIXAMAAAAAAIBIXAMAAAAAAIBIXAMA\n",
       "AAAAAIBIXAMAAAAAAIBIXAMAAAAAAIBIXAMAAAAAAIBIXAMAAAAAAIBIXAMAAAAAAIBIXAMAAAAA\n",
       "AIBIXAMAAAAAAIBIXAMAAAAAAIBIXAMAAAAAAIBIXAMAAAAAAIBIXAMAAAAAAIBIXAMAAAAAAIBI\n",
       "XAMAAAAAAIBIXAMAAAAAAIBIXAMAAAAAAIBIXAMAAAAAAIBIXAMAAAAAAIBIXAMAAAAAAIBIXAMA\n",
       "AAAAAIBIXAMAAAAAAIBIXAMAAAAAAIBIXAMAAAAAAIBIXAMAAAAAAIBIXAMAAAAAAIBIXAMAAAAA\n",
       "AIBIXAMAAAAAAIBIXAMAAAAAAIBIXAMAAAAAAIBIXAMAAAAAAIBIXAMAAAAAAIBIXAMAAAAAAIBI\n",
       "XAMAAAAAAIBIXAMAAAAAAIBIXAMAAAAAAIBIXAMAAAAAAIBIXAMAAAAAAIBIXAMAAAAAAIBIXAMA\n",
       "AAAAAIBIXAMAAAAAAIBIXAMAAAAAAIBIXAMAAAAAAIBIXAMAAAAAAIBIXAMAAAAAAIBIXAMAAAAA\n",
       "AIBIXAMAAAAAAIBIXAMAAAAAAIBIXAMAAAAAAIBIXAMAAAAAAIBIXAMAAAAAAIBIXAMAAAAAAIBI\n",
       "XAMAAAAAAIBIXAMAAAAAAIBIXAMAAAAAAIBIXAMAAAAAAIDo18x5e4Y/YP8OZ/kO2+ef+cgOy1fY\n",
       "Pv/MF+5GM/fbAzz0jd/R9fYIj52ze4ft88/MnHv5Dh84g9l+BjP7H2z39qfa2OFf4Lp/3h7huU/s\n",
       "8PvtCZ7ZPv/MnOU7XF/4f/n1hXeL3c+E7dfBzHzifrT92Xyd/WfwjXeL3fej9fPPzNy7Pzg/8GYB\n",
       "AAAAAAAAf4e4BgAAAAAAAJG4BgAAAAAAAJG4BgAAAAAAAJG4BgAAAAAAAJG4BgAAAAAAAJG4BgAA\n",
       "AAAAAJG4BgAAAAAAAJG4BgAAAAAAAJG4BgAAAAAAAJG4BgAAAAAAAJG4BgAAAAAAAJG4BgAAAAAA\n",
       "AJG4BgAAAAAAAJG4BgAAAAAAAJG4BgAAAAAAAJG4BgAAAAAAAJG4BgAAAAAAAJG4BgAAAAAAAJG4\n",
       "BgAAAAAAAJG4BgAAAAAAAJG4BgAAAAAAAJG4BgAAAAAAAJG4BgAAAAAAAJG4BgAAAAAAAJG4BgAA\n",
       "AAAAAJG4BgAAAAAAAJG4BgAAAAAAAJG4BgAAAAAAAJG4BgAAAAAAAJG4BgAAAAAAAJG4BgAAAAAA\n",
       "AJG4BgAAAAAAAJG4BgAAAAAAAJG4BgAAAAAAAJG4BgAAAAAAAJG4BgAAAAAAAJG4BgAAAAAAAJG4\n",
       "BgAAAAAAAJG4BgAAAAAAAJG4BgAAAAAAAJG4BgAAAAAAAJG4BgAAAAAAAJG4BgAAAAAAAJG4BgAA\n",
       "AAAAAJG4BgAAAAAAAJG4BgAAAAAAAJG4BgAAAAAAAJG4BgAAAAAAAJG4BgAAAAAAAJG4BgAAAAAA\n",
       "AJG4BgAAAAAAAJG4BgAAAAAAAJG4BgAAAAAAAJG4BgAAAAAAAJG4BgAAAAAAAJG4BgAAAAAAAJG4\n",
       "BgAAAAAAAJG4BgAAAAAAAJG4BgAAAAAAAJG4BgAAAAAAANGvM+ftGR47c789wmPbz2H7/DMzZ/8K\n",
       "609h+/wzH/kdnevtER65Z/f8M/vPYGb/Dtvnn5mZ5Tuce/f8MzNzPvA/tu2v2Wf7AjNz79/hun/e\n",
       "HuGZ7fPPzHX/fnuEx/b/jvafwVm+w7n2v1tcH3i3OGf5tXx2XwczH7ifzuy/p37iDD7wjrr9W+ED\n",
       "Z7D9e23/UxkAAAAAAAD+EnENAAAAAAAAInENAAAAAAAAInENAAAAAAAAInENAAAAAAAAInENAAAA\n",
       "AAAAInENAAAAAAAAInENAAAAAAAAInENAAAAAAAAInENAAAAAAAAInENAAAAAAAAInENAAAAAAAA\n",
       "InENAAAAAAAAInENAAAAAAAAInENAAAAAAAAInENAAAAAAAAInENAAAAAAAAInENAAAAAAAAInEN\n",
       "AAAAAAAAInENAAAAAAAAInENAAAAAAAAInENAAAAAAAAInENAAAAAAAAInENAAAAAAAAInENAAAA\n",
       "AAAAInENAAAAAAAAInENAAAAAAAAInENAAAAAAAAInENAAAAAAAAInENAAAAAAAAInENAAAAAAAA\n",
       "InENAAAAAAAAInENAAAAAAAAInENAAAAAAAAInENAAAAAAAAInENAAAAAAAAInENAAAAAAAAInEN\n",
       "AAAAAAAAInENAAAAAAAAInENAAAAAAAAInENAAAAAAAAInENAAAAAAAAInENAAAAAAAAInENAAAA\n",
       "AAAAInENAAAAAAAAInENAAAAAAAAInENAAAAAAAAInENAAAAAAAAInENAAAAAAAAInENAAAAAAAA\n",
       "InENAAAAAAAAInENAAAAAAAAInENAAAAAAAAInENAAAAAAAAInENAAAAAAAAInENAAAAAAAAInEN\n",
       "AAAAAAAAInENAAAAAAAAInENAAAAAAAAInENAAAAAAAAInENAAAAAAAAol8z5+0ZHjvnAzvM/fYI\n",
       "j5wv/I7eHuAP2L7DBy7lued6e4THth/DOR84Azu8bvv8MzPn3r3Duff/B2z7GczMLH9Fnbm3P9Vm\n",
       "rnv7Icyc5Ttc98/bIzz3iR1+vz3BM9vnn5k5/7w9wTMfeC6fa//70Zzl96NPXMsf2GH5c+0L7xbX\n",
       "9mt55gO/o93v2DOz/nvtA09lAAAAAAAA+DvENQAAAAAAAIjENQAAAAAAAIjENQAAAAAAAIjENQAA\n",
       "AAAAAIjENQAAAAAAAIjENQAAAAAAAIjENQAAAAAAAIjENQAAAAAAAIjENQAAAAAAAIjENQAAAAAA\n",
       "AIjENQAAAAAAAIjENQAAAAAAAIjENQAAAAAAAIjENQAAAAAAAIjENQAAAAAAAIjENQAAAAAAAIjE\n",
       "NQAAAAAAAIjENQAAAAAAAIjENQAAAAAAAIjENQAAAAAAAIjENQAAAAAAAIjENQAAAAAAAIjENQAA\n",
       "AAAAAIjENQAAAAAAAIjENQAAAAAAAIjENQAAAAAAAIjENQAAAAAAAIjENQAAAAAAAIjENQAAAAAA\n",
       "AIjENQAAAAAAAIjENQAAAAAAAIjENQAAAAAAAIjENQAAAAAAAIjENQAAAAAAAIjENQAAAAAAAIjE\n",
       "NQAAAAAAAIjENQAAAAAAAIjENQAAAAAAAIjENQAAAAAAAIjENQAAAAAAAIjENQAAAAAAAIjENQAA\n",
       "AAAAAIjENQAAAAAAAIjENQAAAAAAAIjENQAAAAAAAIjENQAAAAAAAIjENQAAAAAAAIjENQAAAAAA\n",
       "AIjENQAAAAAAAIjENQAAAAAAAIjENQAAAAAAAIjENQAAAAAAAIjENQAAAAAAAIjENQAAAAAAAIjE\n",
       "NQAAAAAAAIjENQAAAAAAAIjENQAAAAAAAIjENQAAAAAAAIjENQAAAAAAAIh+zZy3Z/gD9u9wlu9w\n",
       "rt3zz8yc84Ud3p7gmfvtAf6A7Wcws/+O+o0zuN4e4bFzdu9w7t3zz+w/g9k+/8zMF35Hy3e47g88\n",
       "FO6ftyd4bvsO2+efmesTO/x+e4RHzvnn7REeu+7/vj3CI194x57rA/+RP7u//K97/7U8y++nM/uf\n",
       "CV94t/jGDrvvR+vnn5lZ/r32gacyAAAAAAAA/B3iGgAAAAAAAETiGgAAAAAAAETiGgAAAAAAAETi\n",
       "GgAAAAAAAETiGgAAAAAAAETiGgAAAAAAAETiGgAAAAAAAETiGgAAAAAAAETiGgAAAAAAAETiGgAA\n",
       "AAAAAETiGgAAAAAAAETiGgAAAAAAAETiGgAAAAAAAETiGgAAAAAAAETiGgAAAAAAAETiGgAAAAAA\n",
       "AETiGgAAAAAAAETiGgAAAAAAAETiGgAAAAAAAETiGgAAAAAAAETiGgAAAAAAAETiGgAAAAAAAETi\n",
       "GgAAAAAAAETiGgAAAAAAAETiGgAAAAAAAETiGgAAAAAAAETiGgAAAAAAAETiGgAAAAAAAETiGgAA\n",
       "AAAAAETiGgAAAAAAAETiGgAAAAAAAETiGgAAAAAAAETiGgAAAAAAAETiGgAAAAAAAETiGgAAAAAA\n",
       "AETiGgAAAAAAAETiGgAAAAAAAETiGgAAAAAAAETiGgAAAAAAAETiGgAAAAAAAETiGgAAAAAAAETi\n",
       "GgAAAAAAAETiGgAAAAAAAETiGgAAAAAAAETiGgAAAAAAAETiGgAAAAAAAETiGgAAAAAAAETiGgAA\n",
       "AAAAAETiGgAAAAAAAETiGgAAAAAAAETiGgAAAAAAAETiGgAAAAAAAETiGgAAAAAAAETiGgAAAAAA\n",
       "AETiGgAAAAAAAETiGgAAAAAAAETiGgAAAAAAAETiGgAAAAAAAETiGgAAAAAAAETiGgAAAAAAAES/\n",
       "Zs7bMzx25n57hMe277B9/pkvXAkzZ/kW51xvj/DY7hP4v3v5Odyze/6ZmfsDP6Ttv6NP3I/u3f+h\n",
       "Orcz+FfYfg73/nfUL+xwLd/hun/eHuG5+/fbEzy3fIfrZ/f8MzPnP/+8PcJDy59pMzPX/h2us/uZ\n",
       "sP1eNDNz3duv5Vl/Dl94t7h+PrDD8nfU2X4/nVn/rfOBL34AAAAAAAD4O8Q1AAAAAAAAiMQ1AAAA\n",
       "AAAAiMQ1AAAAAAAAiMQ1AAAAAAAAiMQ1AAAAAAAAiMQ1AAAAAAAAiMQ1AAAAAAAAiMQ1AAAAAAAA\n",
       "iMQ1AAAAAAAAiMQ1AAAAAAAAiMQ1AAAAAAAAiMQ1AAAAAAAAiMQ1AAAAAAAAiMQ1AAAAAAAAiMQ1\n",
       "AAAAAAAAiMQ1AAAAAAAAiMQ1AAAAAAAAiMQ1AAAAAAAAiMQ1AAAAAAAAiMQ1AAAAAAAAiMQ1AAAA\n",
       "AAAAiMQ1AAAAAAAAiMQ1AAAAAAAAiMQ1AAAAAAAAiMQ1AAAAAAAAiMQ1AAAAAAAAiMQ1AAAAAAAA\n",
       "iMQ1AAAAAAAAiMQ1AAAAAAAAiMQ1AAAAAAAAiMQ1AAAAAAAAiMQ1AAAAAAAAiMQ1AAAAAAAAiMQ1\n",
       "AAAAAAAAiMQ1AAAAAAAAiMQ1AAAAAAAAiMQ1AAAAAAAAiMQ1AAAAAAAAiMQ1AAAAAAAAiMQ1AAAA\n",
       "AAAAiMQ1AAAAAAAAiMQ1AAAAAAAAiMQ1AAAAAAAAiMQ1AAAAAAAAiMQ1AAAAAAAAiMQ1AAAAAAAA\n",
       "iMQ1AAAAAAAAiMQ1AAAAAAAAiMQ1AAAAAAAAiMQ1AAAAAAAAiMQ1AAAAAAAAiMQ1AAAAAAAAiMQ1\n",
       "AAAAAAAAiMQ1AAAAAAAAiMQ1AAAAAAAAiMQ1AAAAAAAAiMQ1AAAAAAAAiMQ1AAAAAAAAiMQ1AAAA\n",
       "AAAAiMQ1AAAAAAAAiH7NOW/P8Nixw+vu2T3/zEd2WL7C8vFnZv8ZzOw/h3Out0d4zA7v2z7/zP4d\n",
       "zr17/pmZ+cQObw/w0M/2p9rM3NsPYWZ+ft6e4Jl7+fwzc20/g5m57t9vj/DIWT7/zMws3+GaDzyX\n",
       "rw/8R/4svx8tvw5mZuZn/w7X9mfz9vlnvvGOuv0cPnEGu7/XPvBUBgAAAAAAgL9DXAMAAAAAAIBI\n",
       "XAMAAAAAAIBIXAMAAAAAAIBIXAMAAAAAAIBIXAMAAAAAAIBIXAMAAAAAAIBIXAMAAAAAAIBIXAMA\n",
       "AAAAAIBIXAMAAAAAAIBIXAMAAPhfu3aU2zgSA1CQAnL/C+9YPR97gQc4GIFC1QlItJWW8wwAAACR\n",
       "uAYAAAAAAACRuAYAAAAAAACRuAYAAAAAAACRuAYAAAAAAACRuAYAAAAAAACRuAYAAAAAAACRuAYA\n",
       "AAAAAACRuAYAAAAAAACRuAYAAAAAAACRuAYAAAAAAACRuAYAAAAAAACRuAYAAAAAAACRuAYAAAAA\n",
       "AACRuAYAAAAAAACRuAYAAAAAAACRuAYAAAAAAACRuAYAAAAAAACRuAYAAAAAAACRuAYAAAAAAACR\n",
       "uAYAAAAAAACRuAYAAAAAAACRuAYAAAAAAACRuAYAAAAAAACRuAYAAAAAAACRuAYAAAAAAACRuAYA\n",
       "AAAAAACRuAYAAAAAAACRuAYAAAAAAACRuAYAAAAAAACRuAYAAAAAAACRuAYAAAAAAACRuAYAAAAA\n",
       "AACRuAYAAAAAAACRuAYAAAAAAACRuAYAAAAAAACRuAYAAAAAAACRuAYAAAAAAACRuAYAAAAAAACR\n",
       "uAYAAAAAAACRuAYAAAAAAACRuAYAAAAAAACRuAYAAAAAAACRuAYAAAAAAACRuAYAAAAAAACRuAYA\n",
       "AAAAAACRuAYAAAAAAACRuAYAAAAAAACRuAYAAAAAAACRuAYAAAAAAACRuAYAAAAAAADRz5nz9Ay/\n",
       "YP8OZ+6nR/jKGz5H79hht7N9gZk5cz09wtfus3uH3X9N/7f9DGZmzvIdts8/M3Pu3Tucs/83YOe2\n",
       "w9PO/Xl6hK9dnxfcbNvP4bN8/pmZ+8/TE3zvs3uH6/7v6RG+9/l5eoKvvODr5sy1+16emZmz+157\n",
       "w7N8veBO2L7DtfxOm5n973czM9vfs7fPPzNz776dX3ArAwAAAAAAwL8hrgEAAAAAAEAkrgEAAAAA\n",
       "AEAkrgEAAAAAAEAkrgEAAAAAAEAkrgEAAAAAAEAkrgEAAAAAAEAkrgEAAAAAAEAkrgEAAAAAAEAk\n",
       "rgEAAAAAAEAkrgEAAAAAAEAkrgEAAAAAAEAkrgEAAAAAAEAkrgEAAAAAAEAkrgEAAAAAAEAkrgEA\n",
       "AAAAAEAkrgEAAAAAAEAkrgEAAAAAAEAkrgEAAAAAAEAkrgEAAAAAAEAkrgEAAAAAAEAkrgEAAAAA\n",
       "AEAkrgEAAAAAAEAkrgEAAAAAAEAkrgEAAAAAAEAkrgEAAAAAAEAkrgEAAAAAAEAkrgEAAAAAAEAk\n",
       "rgEAAAAAAEAkrgEAAAAAAEAkrgEAAAAAAEAkrgEAAAAAAEAkrgEAAAAAAEAkrgEAAAAAAEAkrgEA\n",
       "AAAAAEAkrgEAAAAAAEAkrgEAAAAAAEAkrgEAAAAAAEAkrgEAAAAAAEAkrgEAAAAAAEAkrgEAAAAA\n",
       "AEAkrgEAAAAAAEAkrgEAAAAAAEAkrgEAAAAAAEAkrgEAAAAAAEAkrgEAAAAAAEAkrgEAAAAAAEAk\n",
       "rgEAAAAAAEAkrgEAAAAAAEAkrgEAAAAAAEAkrgEAAAAAAEAkrgEAAAAAAEAkrgEAAAAAAEAkrgEA\n",
       "AAAAAEAkrgEAAAAAAEAkrgEAAAAAAEAkrgEAAAAAAEAkrgEAAAAAAEAkrgEAAAAAAEAkrgEAAAAA\n",
       "AEAkrgEAAAAAAED08/QAv+HM/fQIv2D3Dm84g3OenuB723fY/ynafwYzM9tXOOd6eoSvndm/w738\n",
       "HO57/++P1j8L9/L5Z+a8YIf153Bvv9Vm5n7BG9LyHa778/QIX7s+L9jh/vP0CF85y+efmZnlO1zX\n",
       "8jttZs4LdrjO7jth+3MwM+/Y4bN8hze8W7xgh/XnsPwde2Zm+5Ww/z9HAAAAAAAA8I+IawAAAAAA\n",
       "ABCJawAAAAAAABCJawAAAAAAABCJawAAAAAAABCJawAAAAAAABCJawAAAAAAABCJawAAAAAAABCJ\n",
       "awAAAAAAABCJawAAAAAAABCJawAAAAAAABCJawAAAAAAABCJawAAAAAAABCJawAAAAAAABCJawAA\n",
       "AAAAABCJawAAAAAAABCJawAAAAAAABCJawAAAAAAABCJawAAAAAAABCJawAAAAAAABCJawAAAAAA\n",
       "ABCJawAAAAAAABCJawAAAAAAABCJawAAAAAAABCJawAAAAAAABCJawAAAAAAABCJawAAAAAAABCJ\n",
       "awAAAAAAABCJawAAAAAAABCJawAAAAAAABCJawAAAAAAABCJawAAAAAAABCJawAAAAAAABCJawAA\n",
       "AAAAABCJawAAAAAAABCJawAAAAAAABCJawAAAAAAABCJawAAAAAAABCJawAAAAAAABCJawAAAAAA\n",
       "ABCJawAAAAAAABCJawAAAAAAABCJawAAAAAAABCJawAAAAAAABCJawAAAAAAABCJawAAAAAAABCJ\n",
       "awAAAAAAABCJawAAAAAAABCJawAAAAAAABCJawAAAAAAABCJawAAAAAAABCJawAAAAAAABCJawAA\n",
       "AAAAABCJawAAAAAAABCJawAAAAAAABCJawAAAAAAABCJawAAAAAAABCJawAAAAAAABCJawAAAAAA\n",
       "ABCJawAAAAAAABD9BUJ4JYnsPquYAAAAAElFTkSuQmCC\n",
       "\" transform=\"translate(310, 86)\"/>\n",
       "</g>\n",
       "<circle clip-path=\"url(#clip842)\" cx=\"413.809\" cy=\"522.733\" r=\"14.4\" fill=\"#e26f46\" fill-rule=\"evenodd\" fill-opacity=\"1\" stroke=\"#000000\" stroke-opacity=\"1\" stroke-width=\"3.2\"/>\n",
       "<circle clip-path=\"url(#clip842)\" cx=\"1264.76\" cy=\"1140.85\" r=\"14.4\" fill=\"#e26f46\" fill-rule=\"evenodd\" fill-opacity=\"1\" stroke=\"#000000\" stroke-opacity=\"1\" stroke-width=\"3.2\"/>\n",
       "<circle clip-path=\"url(#clip842)\" cx=\"1690.23\" cy=\"831.793\" r=\"14.4\" fill=\"#e26f46\" fill-rule=\"evenodd\" fill-opacity=\"1\" stroke=\"#000000\" stroke-opacity=\"1\" stroke-width=\"3.2\"/>\n",
       "<circle clip-path=\"url(#clip842)\" cx=\"839.283\" cy=\"213.673\" r=\"14.4\" fill=\"#e26f46\" fill-rule=\"evenodd\" fill-opacity=\"1\" stroke=\"#000000\" stroke-opacity=\"1\" stroke-width=\"3.2\"/>\n",
       "<circle clip-path=\"url(#clip842)\" cx=\"1052.02\" cy=\"986.323\" r=\"14.4\" fill=\"#e26f46\" fill-rule=\"evenodd\" fill-opacity=\"1\" stroke=\"#000000\" stroke-opacity=\"1\" stroke-width=\"3.2\"/>\n",
       "<circle clip-path=\"url(#clip842)\" cx=\"1902.97\" cy=\"368.203\" r=\"14.4\" fill=\"#e26f46\" fill-rule=\"evenodd\" fill-opacity=\"1\" stroke=\"#000000\" stroke-opacity=\"1\" stroke-width=\"3.2\"/>\n",
       "<circle clip-path=\"url(#clip842)\" cx=\"1477.49\" cy=\"677.263\" r=\"14.4\" fill=\"#e26f46\" fill-rule=\"evenodd\" fill-opacity=\"1\" stroke=\"#000000\" stroke-opacity=\"1\" stroke-width=\"3.2\"/>\n",
       "<circle clip-path=\"url(#clip842)\" cx=\"626.546\" cy=\"1295.38\" r=\"14.4\" fill=\"#e26f46\" fill-rule=\"evenodd\" fill-opacity=\"1\" stroke=\"#000000\" stroke-opacity=\"1\" stroke-width=\"3.2\"/>\n",
       "<circle clip-path=\"url(#clip842)\" cx=\"732.914\" cy=\"909.058\" r=\"14.4\" fill=\"#e26f46\" fill-rule=\"evenodd\" fill-opacity=\"1\" stroke=\"#000000\" stroke-opacity=\"1\" stroke-width=\"3.2\"/>\n",
       "<circle clip-path=\"url(#clip842)\" cx=\"1583.86\" cy=\"290.938\" r=\"14.4\" fill=\"#e26f46\" fill-rule=\"evenodd\" fill-opacity=\"1\" stroke=\"#000000\" stroke-opacity=\"1\" stroke-width=\"3.2\"/>\n",
       "<circle clip-path=\"url(#clip842)\" cx=\"2009.34\" cy=\"599.998\" r=\"14.4\" fill=\"#e26f46\" fill-rule=\"evenodd\" fill-opacity=\"1\" stroke=\"#000000\" stroke-opacity=\"1\" stroke-width=\"3.2\"/>\n",
       "<circle clip-path=\"url(#clip842)\" cx=\"1158.39\" cy=\"1218.12\" r=\"14.4\" fill=\"#e26f46\" fill-rule=\"evenodd\" fill-opacity=\"1\" stroke=\"#000000\" stroke-opacity=\"1\" stroke-width=\"3.2\"/>\n",
       "<circle clip-path=\"url(#clip842)\" cx=\"945.651\" cy=\"445.468\" r=\"14.4\" fill=\"#e26f46\" fill-rule=\"evenodd\" fill-opacity=\"1\" stroke=\"#000000\" stroke-opacity=\"1\" stroke-width=\"3.2\"/>\n",
       "<circle clip-path=\"url(#clip842)\" cx=\"1796.6\" cy=\"1063.59\" r=\"14.4\" fill=\"#e26f46\" fill-rule=\"evenodd\" fill-opacity=\"1\" stroke=\"#000000\" stroke-opacity=\"1\" stroke-width=\"3.2\"/>\n",
       "<circle clip-path=\"url(#clip842)\" cx=\"1371.12\" cy=\"754.528\" r=\"14.4\" fill=\"#e26f46\" fill-rule=\"evenodd\" fill-opacity=\"1\" stroke=\"#000000\" stroke-opacity=\"1\" stroke-width=\"3.2\"/>\n",
       "<circle clip-path=\"url(#clip842)\" cx=\"520.177\" cy=\"136.408\" r=\"14.4\" fill=\"#e26f46\" fill-rule=\"evenodd\" fill-opacity=\"1\" stroke=\"#000000\" stroke-opacity=\"1\" stroke-width=\"3.2\"/>\n",
       "<circle clip-path=\"url(#clip842)\" cx=\"466.993\" cy=\"793.161\" r=\"14.4\" fill=\"#e26f46\" fill-rule=\"evenodd\" fill-opacity=\"1\" stroke=\"#000000\" stroke-opacity=\"1\" stroke-width=\"3.2\"/>\n",
       "<circle clip-path=\"url(#clip842)\" cx=\"1317.94\" cy=\"175.04\" r=\"14.4\" fill=\"#e26f46\" fill-rule=\"evenodd\" fill-opacity=\"1\" stroke=\"#000000\" stroke-opacity=\"1\" stroke-width=\"3.2\"/>\n",
       "<circle clip-path=\"url(#clip842)\" cx=\"1743.41\" cy=\"484.101\" r=\"14.4\" fill=\"#e26f46\" fill-rule=\"evenodd\" fill-opacity=\"1\" stroke=\"#000000\" stroke-opacity=\"1\" stroke-width=\"3.2\"/>\n",
       "<circle clip-path=\"url(#clip842)\" cx=\"892.467\" cy=\"1102.22\" r=\"14.4\" fill=\"#e26f46\" fill-rule=\"evenodd\" fill-opacity=\"1\" stroke=\"#000000\" stroke-opacity=\"1\" stroke-width=\"3.2\"/>\n",
       "<circle clip-path=\"url(#clip842)\" cx=\"1105.2\" cy=\"638.631\" r=\"14.4\" fill=\"#e26f46\" fill-rule=\"evenodd\" fill-opacity=\"1\" stroke=\"#000000\" stroke-opacity=\"1\" stroke-width=\"3.2\"/>\n",
       "<circle clip-path=\"url(#clip842)\" cx=\"1956.15\" cy=\"1256.75\" r=\"14.4\" fill=\"#e26f46\" fill-rule=\"evenodd\" fill-opacity=\"1\" stroke=\"#000000\" stroke-opacity=\"1\" stroke-width=\"3.2\"/>\n",
       "<circle clip-path=\"url(#clip842)\" cx=\"1530.68\" cy=\"947.691\" r=\"14.4\" fill=\"#e26f46\" fill-rule=\"evenodd\" fill-opacity=\"1\" stroke=\"#000000\" stroke-opacity=\"1\" stroke-width=\"3.2\"/>\n",
       "<circle clip-path=\"url(#clip842)\" cx=\"679.73\" cy=\"329.571\" r=\"14.4\" fill=\"#e26f46\" fill-rule=\"evenodd\" fill-opacity=\"1\" stroke=\"#000000\" stroke-opacity=\"1\" stroke-width=\"3.2\"/>\n",
       "<circle clip-path=\"url(#clip842)\" cx=\"573.361\" cy=\"715.896\" r=\"14.4\" fill=\"#e26f46\" fill-rule=\"evenodd\" fill-opacity=\"1\" stroke=\"#000000\" stroke-opacity=\"1\" stroke-width=\"3.2\"/>\n",
       "<circle clip-path=\"url(#clip842)\" cx=\"1424.31\" cy=\"1334.02\" r=\"14.4\" fill=\"#e26f46\" fill-rule=\"evenodd\" fill-opacity=\"1\" stroke=\"#000000\" stroke-opacity=\"1\" stroke-width=\"3.2\"/>\n",
       "<circle clip-path=\"url(#clip842)\" cx=\"1849.78\" cy=\"1024.96\" r=\"14.4\" fill=\"#e26f46\" fill-rule=\"evenodd\" fill-opacity=\"1\" stroke=\"#000000\" stroke-opacity=\"1\" stroke-width=\"3.2\"/>\n",
       "<circle clip-path=\"url(#clip842)\" cx=\"998.835\" cy=\"406.836\" r=\"14.4\" fill=\"#e26f46\" fill-rule=\"evenodd\" fill-opacity=\"1\" stroke=\"#000000\" stroke-opacity=\"1\" stroke-width=\"3.2\"/>\n",
       "<circle clip-path=\"url(#clip842)\" cx=\"786.098\" cy=\"870.426\" r=\"14.4\" fill=\"#e26f46\" fill-rule=\"evenodd\" fill-opacity=\"1\" stroke=\"#000000\" stroke-opacity=\"1\" stroke-width=\"3.2\"/>\n",
       "<circle clip-path=\"url(#clip842)\" cx=\"1637.05\" cy=\"252.305\" r=\"14.4\" fill=\"#e26f46\" fill-rule=\"evenodd\" fill-opacity=\"1\" stroke=\"#000000\" stroke-opacity=\"1\" stroke-width=\"3.2\"/>\n",
       "<circle clip-path=\"url(#clip842)\" cx=\"1211.57\" cy=\"561.366\" r=\"14.4\" fill=\"#e26f46\" fill-rule=\"evenodd\" fill-opacity=\"1\" stroke=\"#000000\" stroke-opacity=\"1\" stroke-width=\"3.2\"/>\n",
       "<circle clip-path=\"url(#clip842)\" cx=\"360.625\" cy=\"1179.49\" r=\"14.4\" fill=\"#e26f46\" fill-rule=\"evenodd\" fill-opacity=\"1\" stroke=\"#000000\" stroke-opacity=\"1\" stroke-width=\"3.2\"/>\n",
       "<circle clip-path=\"url(#clip842)\" cx=\"373.921\" cy=\"1092.56\" r=\"14.4\" fill=\"#e26f46\" fill-rule=\"evenodd\" fill-opacity=\"1\" stroke=\"#000000\" stroke-opacity=\"1\" stroke-width=\"3.2\"/>\n",
       "<circle clip-path=\"url(#clip842)\" cx=\"1224.87\" cy=\"474.442\" r=\"14.4\" fill=\"#e26f46\" fill-rule=\"evenodd\" fill-opacity=\"1\" stroke=\"#000000\" stroke-opacity=\"1\" stroke-width=\"3.2\"/>\n",
       "<circle clip-path=\"url(#clip842)\" cx=\"1650.34\" cy=\"165.382\" r=\"14.4\" fill=\"#e26f46\" fill-rule=\"evenodd\" fill-opacity=\"1\" stroke=\"#000000\" stroke-opacity=\"1\" stroke-width=\"3.2\"/>\n",
       "<circle clip-path=\"url(#clip842)\" cx=\"799.394\" cy=\"783.503\" r=\"14.4\" fill=\"#e26f46\" fill-rule=\"evenodd\" fill-opacity=\"1\" stroke=\"#000000\" stroke-opacity=\"1\" stroke-width=\"3.2\"/>\n",
       "<circle clip-path=\"url(#clip842)\" cx=\"1012.13\" cy=\"319.912\" r=\"14.4\" fill=\"#e26f46\" fill-rule=\"evenodd\" fill-opacity=\"1\" stroke=\"#000000\" stroke-opacity=\"1\" stroke-width=\"3.2\"/>\n",
       "<circle clip-path=\"url(#clip842)\" cx=\"1863.08\" cy=\"938.033\" r=\"14.4\" fill=\"#e26f46\" fill-rule=\"evenodd\" fill-opacity=\"1\" stroke=\"#000000\" stroke-opacity=\"1\" stroke-width=\"3.2\"/>\n",
       "<circle clip-path=\"url(#clip842)\" cx=\"1437.61\" cy=\"1247.09\" r=\"14.4\" fill=\"#e26f46\" fill-rule=\"evenodd\" fill-opacity=\"1\" stroke=\"#000000\" stroke-opacity=\"1\" stroke-width=\"3.2\"/>\n",
       "<circle clip-path=\"url(#clip842)\" cx=\"586.657\" cy=\"628.973\" r=\"14.4\" fill=\"#e26f46\" fill-rule=\"evenodd\" fill-opacity=\"1\" stroke=\"#000000\" stroke-opacity=\"1\" stroke-width=\"3.2\"/>\n",
       "<circle clip-path=\"url(#clip842)\" cx=\"334.032\" cy=\"1353.33\" r=\"14.4\" fill=\"#e26f46\" fill-rule=\"evenodd\" fill-opacity=\"1\" stroke=\"#000000\" stroke-opacity=\"1\" stroke-width=\"3.2\"/>\n",
       "<circle clip-path=\"url(#clip842)\" cx=\"2035.93\" cy=\"1353.33\" r=\"14.4\" fill=\"#e26f46\" fill-rule=\"evenodd\" fill-opacity=\"1\" stroke=\"#000000\" stroke-opacity=\"1\" stroke-width=\"3.2\"/>\n",
       "<circle clip-path=\"url(#clip842)\" cx=\"334.032\" cy=\"1353.33\" r=\"14.4\" fill=\"#e26f46\" fill-rule=\"evenodd\" fill-opacity=\"1\" stroke=\"#000000\" stroke-opacity=\"1\" stroke-width=\"3.2\"/>\n",
       "<circle clip-path=\"url(#clip842)\" cx=\"2035.93\" cy=\"1353.33\" r=\"14.4\" fill=\"#e26f46\" fill-rule=\"evenodd\" fill-opacity=\"1\" stroke=\"#000000\" stroke-opacity=\"1\" stroke-width=\"3.2\"/>\n",
       "<circle clip-path=\"url(#clip842)\" cx=\"2035.93\" cy=\"117.092\" r=\"14.4\" fill=\"#e26f46\" fill-rule=\"evenodd\" fill-opacity=\"1\" stroke=\"#000000\" stroke-opacity=\"1\" stroke-width=\"3.2\"/>\n",
       "<circle clip-path=\"url(#clip842)\" cx=\"2035.93\" cy=\"117.092\" r=\"14.4\" fill=\"#e26f46\" fill-rule=\"evenodd\" fill-opacity=\"1\" stroke=\"#000000\" stroke-opacity=\"1\" stroke-width=\"3.2\"/>\n",
       "<circle clip-path=\"url(#clip842)\" cx=\"2035.93\" cy=\"117.092\" r=\"14.4\" fill=\"#e26f46\" fill-rule=\"evenodd\" fill-opacity=\"1\" stroke=\"#000000\" stroke-opacity=\"1\" stroke-width=\"3.2\"/>\n",
       "<circle clip-path=\"url(#clip842)\" cx=\"334.032\" cy=\"117.092\" r=\"14.4\" fill=\"#e26f46\" fill-rule=\"evenodd\" fill-opacity=\"1\" stroke=\"#000000\" stroke-opacity=\"1\" stroke-width=\"3.2\"/>\n",
       "<circle clip-path=\"url(#clip842)\" cx=\"2035.93\" cy=\"117.092\" r=\"14.4\" fill=\"#e26f46\" fill-rule=\"evenodd\" fill-opacity=\"1\" stroke=\"#000000\" stroke-opacity=\"1\" stroke-width=\"3.2\"/>\n",
       "<circle clip-path=\"url(#clip842)\" cx=\"2035.93\" cy=\"1353.33\" r=\"14.4\" fill=\"#e26f46\" fill-rule=\"evenodd\" fill-opacity=\"1\" stroke=\"#000000\" stroke-opacity=\"1\" stroke-width=\"3.2\"/>\n",
       "<circle clip-path=\"url(#clip842)\" cx=\"2035.93\" cy=\"117.092\" r=\"14.4\" fill=\"#e26f46\" fill-rule=\"evenodd\" fill-opacity=\"1\" stroke=\"#000000\" stroke-opacity=\"1\" stroke-width=\"3.2\"/>\n",
       "<circle clip-path=\"url(#clip842)\" cx=\"334.032\" cy=\"117.092\" r=\"14.4\" fill=\"#e26f46\" fill-rule=\"evenodd\" fill-opacity=\"1\" stroke=\"#000000\" stroke-opacity=\"1\" stroke-width=\"3.2\"/>\n",
       "<circle clip-path=\"url(#clip842)\" cx=\"2035.93\" cy=\"117.092\" r=\"14.4\" fill=\"#e26f46\" fill-rule=\"evenodd\" fill-opacity=\"1\" stroke=\"#000000\" stroke-opacity=\"1\" stroke-width=\"3.2\"/>\n",
       "<circle clip-path=\"url(#clip842)\" cx=\"334.032\" cy=\"117.092\" r=\"14.4\" fill=\"#e26f46\" fill-rule=\"evenodd\" fill-opacity=\"1\" stroke=\"#000000\" stroke-opacity=\"1\" stroke-width=\"3.2\"/>\n",
       "<circle clip-path=\"url(#clip842)\" cx=\"2035.93\" cy=\"1353.33\" r=\"14.4\" fill=\"#e26f46\" fill-rule=\"evenodd\" fill-opacity=\"1\" stroke=\"#000000\" stroke-opacity=\"1\" stroke-width=\"3.2\"/>\n",
       "<circle clip-path=\"url(#clip842)\" cx=\"2035.93\" cy=\"117.092\" r=\"14.4\" fill=\"#e26f46\" fill-rule=\"evenodd\" fill-opacity=\"1\" stroke=\"#000000\" stroke-opacity=\"1\" stroke-width=\"3.2\"/>\n",
       "<circle clip-path=\"url(#clip842)\" cx=\"2035.93\" cy=\"117.092\" r=\"14.4\" fill=\"#e26f46\" fill-rule=\"evenodd\" fill-opacity=\"1\" stroke=\"#000000\" stroke-opacity=\"1\" stroke-width=\"3.2\"/>\n",
       "<circle clip-path=\"url(#clip842)\" cx=\"2035.93\" cy=\"1353.33\" r=\"14.4\" fill=\"#e26f46\" fill-rule=\"evenodd\" fill-opacity=\"1\" stroke=\"#000000\" stroke-opacity=\"1\" stroke-width=\"3.2\"/>\n",
       "<circle clip-path=\"url(#clip842)\" cx=\"334.032\" cy=\"117.092\" r=\"14.4\" fill=\"#e26f46\" fill-rule=\"evenodd\" fill-opacity=\"1\" stroke=\"#000000\" stroke-opacity=\"1\" stroke-width=\"3.2\"/>\n",
       "<circle clip-path=\"url(#clip842)\" cx=\"2035.93\" cy=\"117.092\" r=\"14.4\" fill=\"#e26f46\" fill-rule=\"evenodd\" fill-opacity=\"1\" stroke=\"#000000\" stroke-opacity=\"1\" stroke-width=\"3.2\"/>\n",
       "<circle clip-path=\"url(#clip842)\" cx=\"2035.93\" cy=\"1353.33\" r=\"14.4\" fill=\"#e26f46\" fill-rule=\"evenodd\" fill-opacity=\"1\" stroke=\"#000000\" stroke-opacity=\"1\" stroke-width=\"3.2\"/>\n",
       "<circle clip-path=\"url(#clip842)\" cx=\"334.032\" cy=\"1353.33\" r=\"14.4\" fill=\"#e26f46\" fill-rule=\"evenodd\" fill-opacity=\"1\" stroke=\"#000000\" stroke-opacity=\"1\" stroke-width=\"3.2\"/>\n",
       "<circle clip-path=\"url(#clip842)\" cx=\"1229.14\" cy=\"1353.33\" r=\"14.4\" fill=\"#e26f46\" fill-rule=\"evenodd\" fill-opacity=\"1\" stroke=\"#000000\" stroke-opacity=\"1\" stroke-width=\"3.2\"/>\n",
       "<circle clip-path=\"url(#clip842)\" cx=\"2035.93\" cy=\"117.092\" r=\"14.4\" fill=\"#e26f46\" fill-rule=\"evenodd\" fill-opacity=\"1\" stroke=\"#000000\" stroke-opacity=\"1\" stroke-width=\"3.2\"/>\n",
       "<circle clip-path=\"url(#clip842)\" cx=\"668.453\" cy=\"117.092\" r=\"14.4\" fill=\"#e26f46\" fill-rule=\"evenodd\" fill-opacity=\"1\" stroke=\"#000000\" stroke-opacity=\"1\" stroke-width=\"3.2\"/>\n",
       "<circle clip-path=\"url(#clip842)\" cx=\"2035.93\" cy=\"117.092\" r=\"14.4\" fill=\"#e26f46\" fill-rule=\"evenodd\" fill-opacity=\"1\" stroke=\"#000000\" stroke-opacity=\"1\" stroke-width=\"3.2\"/>\n",
       "<circle clip-path=\"url(#clip842)\" cx=\"334.032\" cy=\"1353.33\" r=\"14.4\" fill=\"#e26f46\" fill-rule=\"evenodd\" fill-opacity=\"1\" stroke=\"#000000\" stroke-opacity=\"1\" stroke-width=\"3.2\"/>\n",
       "<circle clip-path=\"url(#clip842)\" cx=\"2035.93\" cy=\"1353.33\" r=\"14.4\" fill=\"#e26f46\" fill-rule=\"evenodd\" fill-opacity=\"1\" stroke=\"#000000\" stroke-opacity=\"1\" stroke-width=\"3.2\"/>\n",
       "<circle clip-path=\"url(#clip842)\" cx=\"334.032\" cy=\"117.092\" r=\"14.4\" fill=\"#e26f46\" fill-rule=\"evenodd\" fill-opacity=\"1\" stroke=\"#000000\" stroke-opacity=\"1\" stroke-width=\"3.2\"/>\n",
       "<circle clip-path=\"url(#clip842)\" cx=\"334.032\" cy=\"117.092\" r=\"14.4\" fill=\"#e26f46\" fill-rule=\"evenodd\" fill-opacity=\"1\" stroke=\"#000000\" stroke-opacity=\"1\" stroke-width=\"3.2\"/>\n",
       "<circle clip-path=\"url(#clip842)\" cx=\"2035.93\" cy=\"1353.33\" r=\"14.4\" fill=\"#e26f46\" fill-rule=\"evenodd\" fill-opacity=\"1\" stroke=\"#000000\" stroke-opacity=\"1\" stroke-width=\"3.2\"/>\n",
       "<circle clip-path=\"url(#clip842)\" cx=\"334.032\" cy=\"1353.33\" r=\"14.4\" fill=\"#e26f46\" fill-rule=\"evenodd\" fill-opacity=\"1\" stroke=\"#000000\" stroke-opacity=\"1\" stroke-width=\"3.2\"/>\n",
       "<circle clip-path=\"url(#clip842)\" cx=\"334.032\" cy=\"117.092\" r=\"14.4\" fill=\"#e26f46\" fill-rule=\"evenodd\" fill-opacity=\"1\" stroke=\"#000000\" stroke-opacity=\"1\" stroke-width=\"3.2\"/>\n",
       "<circle clip-path=\"url(#clip842)\" cx=\"2035.93\" cy=\"117.092\" r=\"14.4\" fill=\"#e26f46\" fill-rule=\"evenodd\" fill-opacity=\"1\" stroke=\"#000000\" stroke-opacity=\"1\" stroke-width=\"3.2\"/>\n",
       "<circle clip-path=\"url(#clip842)\" cx=\"2035.93\" cy=\"117.092\" r=\"14.4\" fill=\"#e26f46\" fill-rule=\"evenodd\" fill-opacity=\"1\" stroke=\"#000000\" stroke-opacity=\"1\" stroke-width=\"3.2\"/>\n",
       "<circle clip-path=\"url(#clip842)\" cx=\"2035.93\" cy=\"1353.33\" r=\"14.4\" fill=\"#e26f46\" fill-rule=\"evenodd\" fill-opacity=\"1\" stroke=\"#000000\" stroke-opacity=\"1\" stroke-width=\"3.2\"/>\n",
       "<circle clip-path=\"url(#clip842)\" cx=\"1403.31\" cy=\"1353.33\" r=\"14.4\" fill=\"#e26f46\" fill-rule=\"evenodd\" fill-opacity=\"1\" stroke=\"#000000\" stroke-opacity=\"1\" stroke-width=\"3.2\"/>\n",
       "<circle clip-path=\"url(#clip842)\" cx=\"2035.93\" cy=\"1353.33\" r=\"14.4\" fill=\"#e26f46\" fill-rule=\"evenodd\" fill-opacity=\"1\" stroke=\"#000000\" stroke-opacity=\"1\" stroke-width=\"3.2\"/>\n",
       "<circle clip-path=\"url(#clip842)\" cx=\"811.667\" cy=\"117.092\" r=\"14.4\" fill=\"#e26f46\" fill-rule=\"evenodd\" fill-opacity=\"1\" stroke=\"#000000\" stroke-opacity=\"1\" stroke-width=\"3.2\"/>\n",
       "<circle clip-path=\"url(#clip842)\" cx=\"2035.93\" cy=\"117.092\" r=\"14.4\" fill=\"#e26f46\" fill-rule=\"evenodd\" fill-opacity=\"1\" stroke=\"#000000\" stroke-opacity=\"1\" stroke-width=\"3.2\"/>\n",
       "<circle clip-path=\"url(#clip842)\" cx=\"334.032\" cy=\"117.092\" r=\"14.4\" fill=\"#e26f46\" fill-rule=\"evenodd\" fill-opacity=\"1\" stroke=\"#000000\" stroke-opacity=\"1\" stroke-width=\"3.2\"/>\n",
       "<circle clip-path=\"url(#clip842)\" cx=\"2035.93\" cy=\"1353.33\" r=\"14.4\" fill=\"#e26f46\" fill-rule=\"evenodd\" fill-opacity=\"1\" stroke=\"#000000\" stroke-opacity=\"1\" stroke-width=\"3.2\"/>\n",
       "<circle clip-path=\"url(#clip842)\" cx=\"2035.93\" cy=\"117.092\" r=\"14.4\" fill=\"#e26f46\" fill-rule=\"evenodd\" fill-opacity=\"1\" stroke=\"#000000\" stroke-opacity=\"1\" stroke-width=\"3.2\"/>\n",
       "<circle clip-path=\"url(#clip842)\" cx=\"1276.81\" cy=\"117.092\" r=\"14.4\" fill=\"#e26f46\" fill-rule=\"evenodd\" fill-opacity=\"1\" stroke=\"#000000\" stroke-opacity=\"1\" stroke-width=\"3.2\"/>\n",
       "<circle clip-path=\"url(#clip842)\" cx=\"2035.93\" cy=\"117.092\" r=\"14.4\" fill=\"#e26f46\" fill-rule=\"evenodd\" fill-opacity=\"1\" stroke=\"#000000\" stroke-opacity=\"1\" stroke-width=\"3.2\"/>\n",
       "<circle clip-path=\"url(#clip842)\" cx=\"2035.93\" cy=\"1353.33\" r=\"14.4\" fill=\"#e26f46\" fill-rule=\"evenodd\" fill-opacity=\"1\" stroke=\"#000000\" stroke-opacity=\"1\" stroke-width=\"3.2\"/>\n",
       "<circle clip-path=\"url(#clip842)\" cx=\"2035.93\" cy=\"117.092\" r=\"14.4\" fill=\"#e26f46\" fill-rule=\"evenodd\" fill-opacity=\"1\" stroke=\"#000000\" stroke-opacity=\"1\" stroke-width=\"3.2\"/>\n",
       "<circle clip-path=\"url(#clip842)\" cx=\"1484.28\" cy=\"117.092\" r=\"14.4\" fill=\"#e26f46\" fill-rule=\"evenodd\" fill-opacity=\"1\" stroke=\"#000000\" stroke-opacity=\"1\" stroke-width=\"3.2\"/>\n",
       "<circle clip-path=\"url(#clip842)\" cx=\"2035.93\" cy=\"117.092\" r=\"14.4\" fill=\"#e26f46\" fill-rule=\"evenodd\" fill-opacity=\"1\" stroke=\"#000000\" stroke-opacity=\"1\" stroke-width=\"3.2\"/>\n",
       "<circle clip-path=\"url(#clip842)\" cx=\"2035.93\" cy=\"1353.33\" r=\"14.4\" fill=\"#e26f46\" fill-rule=\"evenodd\" fill-opacity=\"1\" stroke=\"#000000\" stroke-opacity=\"1\" stroke-width=\"3.2\"/>\n",
       "<circle clip-path=\"url(#clip842)\" cx=\"2035.93\" cy=\"1353.33\" r=\"14.4\" fill=\"#e26f46\" fill-rule=\"evenodd\" fill-opacity=\"1\" stroke=\"#000000\" stroke-opacity=\"1\" stroke-width=\"3.2\"/>\n",
       "<circle clip-path=\"url(#clip842)\" cx=\"2035.93\" cy=\"117.092\" r=\"14.4\" fill=\"#e26f46\" fill-rule=\"evenodd\" fill-opacity=\"1\" stroke=\"#000000\" stroke-opacity=\"1\" stroke-width=\"3.2\"/>\n",
       "<circle clip-path=\"url(#clip842)\" cx=\"2035.93\" cy=\"117.092\" r=\"14.4\" fill=\"#e26f46\" fill-rule=\"evenodd\" fill-opacity=\"1\" stroke=\"#000000\" stroke-opacity=\"1\" stroke-width=\"3.2\"/>\n",
       "<circle clip-path=\"url(#clip842)\" cx=\"334.032\" cy=\"1353.33\" r=\"14.4\" fill=\"#e26f46\" fill-rule=\"evenodd\" fill-opacity=\"1\" stroke=\"#000000\" stroke-opacity=\"1\" stroke-width=\"3.2\"/>\n",
       "<circle clip-path=\"url(#clip842)\" cx=\"1210.56\" cy=\"1353.33\" r=\"14.4\" fill=\"#e26f46\" fill-rule=\"evenodd\" fill-opacity=\"1\" stroke=\"#000000\" stroke-opacity=\"1\" stroke-width=\"3.2\"/>\n",
       "<circle clip-path=\"url(#clip842)\" cx=\"2035.93\" cy=\"117.092\" r=\"14.4\" fill=\"#e26f46\" fill-rule=\"evenodd\" fill-opacity=\"1\" stroke=\"#000000\" stroke-opacity=\"1\" stroke-width=\"3.2\"/>\n",
       "<circle clip-path=\"url(#clip842)\" cx=\"334.032\" cy=\"117.092\" r=\"14.4\" fill=\"#e26f46\" fill-rule=\"evenodd\" fill-opacity=\"1\" stroke=\"#000000\" stroke-opacity=\"1\" stroke-width=\"3.2\"/>\n",
       "<circle clip-path=\"url(#clip842)\" cx=\"334.032\" cy=\"1353.33\" r=\"14.4\" fill=\"#e26f46\" fill-rule=\"evenodd\" fill-opacity=\"1\" stroke=\"#000000\" stroke-opacity=\"1\" stroke-width=\"3.2\"/>\n",
       "<circle clip-path=\"url(#clip842)\" cx=\"2035.93\" cy=\"117.092\" r=\"14.4\" fill=\"#e26f46\" fill-rule=\"evenodd\" fill-opacity=\"1\" stroke=\"#000000\" stroke-opacity=\"1\" stroke-width=\"3.2\"/>\n",
       "<circle clip-path=\"url(#clip842)\" cx=\"1224.06\" cy=\"117.092\" r=\"14.4\" fill=\"#e26f46\" fill-rule=\"evenodd\" fill-opacity=\"1\" stroke=\"#000000\" stroke-opacity=\"1\" stroke-width=\"3.2\"/>\n",
       "<circle clip-path=\"url(#clip842)\" cx=\"334.032\" cy=\"1353.33\" r=\"14.4\" fill=\"#e26f46\" fill-rule=\"evenodd\" fill-opacity=\"1\" stroke=\"#000000\" stroke-opacity=\"1\" stroke-width=\"3.2\"/>\n",
       "<circle clip-path=\"url(#clip842)\" cx=\"2035.93\" cy=\"1353.33\" r=\"14.4\" fill=\"#e26f46\" fill-rule=\"evenodd\" fill-opacity=\"1\" stroke=\"#000000\" stroke-opacity=\"1\" stroke-width=\"3.2\"/>\n",
       "<circle clip-path=\"url(#clip842)\" cx=\"910.145\" cy=\"117.092\" r=\"14.4\" fill=\"#e26f46\" fill-rule=\"evenodd\" fill-opacity=\"1\" stroke=\"#000000\" stroke-opacity=\"1\" stroke-width=\"3.2\"/>\n",
       "<circle clip-path=\"url(#clip842)\" cx=\"2035.93\" cy=\"1353.33\" r=\"14.4\" fill=\"#e26f46\" fill-rule=\"evenodd\" fill-opacity=\"1\" stroke=\"#000000\" stroke-opacity=\"1\" stroke-width=\"3.2\"/>\n",
       "<circle clip-path=\"url(#clip842)\" cx=\"1403.59\" cy=\"117.092\" r=\"14.4\" fill=\"#e26f46\" fill-rule=\"evenodd\" fill-opacity=\"1\" stroke=\"#000000\" stroke-opacity=\"1\" stroke-width=\"3.2\"/>\n",
       "<circle clip-path=\"url(#clip842)\" cx=\"2035.93\" cy=\"117.092\" r=\"14.4\" fill=\"#e26f46\" fill-rule=\"evenodd\" fill-opacity=\"1\" stroke=\"#000000\" stroke-opacity=\"1\" stroke-width=\"3.2\"/>\n",
       "<circle clip-path=\"url(#clip842)\" cx=\"2035.93\" cy=\"1353.33\" r=\"14.4\" fill=\"#e26f46\" fill-rule=\"evenodd\" fill-opacity=\"1\" stroke=\"#000000\" stroke-opacity=\"1\" stroke-width=\"3.2\"/>\n",
       "<circle clip-path=\"url(#clip842)\" cx=\"1162.28\" cy=\"117.092\" r=\"14.4\" fill=\"#e26f46\" fill-rule=\"evenodd\" fill-opacity=\"1\" stroke=\"#000000\" stroke-opacity=\"1\" stroke-width=\"3.2\"/>\n",
       "<circle clip-path=\"url(#clip842)\" cx=\"1065.48\" cy=\"117.092\" r=\"14.4\" fill=\"#e26f46\" fill-rule=\"evenodd\" fill-opacity=\"1\" stroke=\"#000000\" stroke-opacity=\"1\" stroke-width=\"3.2\"/>\n",
       "<circle clip-path=\"url(#clip842)\" cx=\"1175.73\" cy=\"1353.33\" r=\"14.4\" fill=\"#e26f46\" fill-rule=\"evenodd\" fill-opacity=\"1\" stroke=\"#000000\" stroke-opacity=\"1\" stroke-width=\"3.2\"/>\n",
       "<circle clip-path=\"url(#clip842)\" cx=\"1463.11\" cy=\"117.092\" r=\"14.4\" fill=\"#e26f46\" fill-rule=\"evenodd\" fill-opacity=\"1\" stroke=\"#000000\" stroke-opacity=\"1\" stroke-width=\"3.2\"/>\n",
       "<circle clip-path=\"url(#clip842)\" cx=\"1234.93\" cy=\"117.092\" r=\"14.4\" fill=\"#e26f46\" fill-rule=\"evenodd\" fill-opacity=\"1\" stroke=\"#000000\" stroke-opacity=\"1\" stroke-width=\"3.2\"/>\n",
       "<circle clip-path=\"url(#clip842)\" cx=\"1212.73\" cy=\"1353.33\" r=\"14.4\" fill=\"#e26f46\" fill-rule=\"evenodd\" fill-opacity=\"1\" stroke=\"#000000\" stroke-opacity=\"1\" stroke-width=\"3.2\"/>\n",
       "<circle clip-path=\"url(#clip842)\" cx=\"334.032\" cy=\"117.092\" r=\"14.4\" fill=\"#e26f46\" fill-rule=\"evenodd\" fill-opacity=\"1\" stroke=\"#000000\" stroke-opacity=\"1\" stroke-width=\"3.2\"/>\n",
       "<circle clip-path=\"url(#clip842)\" cx=\"334.032\" cy=\"117.092\" r=\"14.4\" fill=\"#e26f46\" fill-rule=\"evenodd\" fill-opacity=\"1\" stroke=\"#000000\" stroke-opacity=\"1\" stroke-width=\"3.2\"/>\n",
       "<circle clip-path=\"url(#clip842)\" cx=\"2035.93\" cy=\"117.092\" r=\"14.4\" fill=\"#e26f46\" fill-rule=\"evenodd\" fill-opacity=\"1\" stroke=\"#000000\" stroke-opacity=\"1\" stroke-width=\"3.2\"/>\n",
       "<circle clip-path=\"url(#clip842)\" cx=\"2035.93\" cy=\"1353.33\" r=\"14.4\" fill=\"#e26f46\" fill-rule=\"evenodd\" fill-opacity=\"1\" stroke=\"#000000\" stroke-opacity=\"1\" stroke-width=\"3.2\"/>\n",
       "<circle clip-path=\"url(#clip842)\" cx=\"2035.93\" cy=\"117.092\" r=\"14.4\" fill=\"#e26f46\" fill-rule=\"evenodd\" fill-opacity=\"1\" stroke=\"#000000\" stroke-opacity=\"1\" stroke-width=\"3.2\"/>\n",
       "<circle clip-path=\"url(#clip842)\" cx=\"2035.93\" cy=\"117.092\" r=\"14.4\" fill=\"#e26f46\" fill-rule=\"evenodd\" fill-opacity=\"1\" stroke=\"#000000\" stroke-opacity=\"1\" stroke-width=\"3.2\"/>\n",
       "<circle clip-path=\"url(#clip842)\" cx=\"2035.93\" cy=\"1353.33\" r=\"14.4\" fill=\"#e26f46\" fill-rule=\"evenodd\" fill-opacity=\"1\" stroke=\"#000000\" stroke-opacity=\"1\" stroke-width=\"3.2\"/>\n",
       "<circle clip-path=\"url(#clip842)\" cx=\"2035.93\" cy=\"1353.33\" r=\"14.4\" fill=\"#e26f46\" fill-rule=\"evenodd\" fill-opacity=\"1\" stroke=\"#000000\" stroke-opacity=\"1\" stroke-width=\"3.2\"/>\n",
       "<circle clip-path=\"url(#clip842)\" cx=\"334.032\" cy=\"117.092\" r=\"14.4\" fill=\"#e26f46\" fill-rule=\"evenodd\" fill-opacity=\"1\" stroke=\"#000000\" stroke-opacity=\"1\" stroke-width=\"3.2\"/>\n",
       "<circle clip-path=\"url(#clip842)\" cx=\"1128.21\" cy=\"117.092\" r=\"14.4\" fill=\"#e26f46\" fill-rule=\"evenodd\" fill-opacity=\"1\" stroke=\"#000000\" stroke-opacity=\"1\" stroke-width=\"3.2\"/>\n",
       "<circle clip-path=\"url(#clip842)\" cx=\"1537.19\" cy=\"117.092\" r=\"14.4\" fill=\"#e26f46\" fill-rule=\"evenodd\" fill-opacity=\"1\" stroke=\"#000000\" stroke-opacity=\"1\" stroke-width=\"3.2\"/>\n",
       "<circle clip-path=\"url(#clip842)\" cx=\"2035.93\" cy=\"117.092\" r=\"14.4\" fill=\"#e26f46\" fill-rule=\"evenodd\" fill-opacity=\"1\" stroke=\"#000000\" stroke-opacity=\"1\" stroke-width=\"3.2\"/>\n",
       "<circle clip-path=\"url(#clip842)\" cx=\"1217.77\" cy=\"117.092\" r=\"14.4\" fill=\"#e26f46\" fill-rule=\"evenodd\" fill-opacity=\"1\" stroke=\"#000000\" stroke-opacity=\"1\" stroke-width=\"3.2\"/>\n",
       "<circle clip-path=\"url(#clip842)\" cx=\"2035.93\" cy=\"117.092\" r=\"14.4\" fill=\"#e26f46\" fill-rule=\"evenodd\" fill-opacity=\"1\" stroke=\"#000000\" stroke-opacity=\"1\" stroke-width=\"3.2\"/>\n",
       "<circle clip-path=\"url(#clip842)\" cx=\"2035.93\" cy=\"117.092\" r=\"14.4\" fill=\"#e26f46\" fill-rule=\"evenodd\" fill-opacity=\"1\" stroke=\"#000000\" stroke-opacity=\"1\" stroke-width=\"3.2\"/>\n",
       "<circle clip-path=\"url(#clip842)\" cx=\"334.032\" cy=\"1353.33\" r=\"14.4\" fill=\"#e26f46\" fill-rule=\"evenodd\" fill-opacity=\"1\" stroke=\"#000000\" stroke-opacity=\"1\" stroke-width=\"3.2\"/>\n",
       "<circle clip-path=\"url(#clip842)\" cx=\"1477.74\" cy=\"1353.33\" r=\"14.4\" fill=\"#e26f46\" fill-rule=\"evenodd\" fill-opacity=\"1\" stroke=\"#000000\" stroke-opacity=\"1\" stroke-width=\"3.2\"/>\n",
       "<circle clip-path=\"url(#clip842)\" cx=\"1431.95\" cy=\"1353.33\" r=\"14.4\" fill=\"#e26f46\" fill-rule=\"evenodd\" fill-opacity=\"1\" stroke=\"#000000\" stroke-opacity=\"1\" stroke-width=\"3.2\"/>\n",
       "<circle clip-path=\"url(#clip842)\" cx=\"1009.14\" cy=\"117.092\" r=\"14.4\" fill=\"#e26f46\" fill-rule=\"evenodd\" fill-opacity=\"1\" stroke=\"#000000\" stroke-opacity=\"1\" stroke-width=\"3.2\"/>\n",
       "<circle clip-path=\"url(#clip842)\" cx=\"1284.83\" cy=\"117.092\" r=\"14.4\" fill=\"#e26f46\" fill-rule=\"evenodd\" fill-opacity=\"1\" stroke=\"#000000\" stroke-opacity=\"1\" stroke-width=\"3.2\"/>\n",
       "<circle clip-path=\"url(#clip842)\" cx=\"1719.48\" cy=\"117.092\" r=\"14.4\" fill=\"#e26f46\" fill-rule=\"evenodd\" fill-opacity=\"1\" stroke=\"#000000\" stroke-opacity=\"1\" stroke-width=\"3.2\"/>\n",
       "<circle clip-path=\"url(#clip842)\" cx=\"1216.71\" cy=\"117.092\" r=\"14.4\" fill=\"#e26f46\" fill-rule=\"evenodd\" fill-opacity=\"1\" stroke=\"#000000\" stroke-opacity=\"1\" stroke-width=\"3.2\"/>\n",
       "<circle clip-path=\"url(#clip842)\" cx=\"2035.93\" cy=\"117.092\" r=\"14.4\" fill=\"#e26f46\" fill-rule=\"evenodd\" fill-opacity=\"1\" stroke=\"#000000\" stroke-opacity=\"1\" stroke-width=\"3.2\"/>\n",
       "<circle clip-path=\"url(#clip842)\" cx=\"1101.62\" cy=\"117.092\" r=\"14.4\" fill=\"#e26f46\" fill-rule=\"evenodd\" fill-opacity=\"1\" stroke=\"#000000\" stroke-opacity=\"1\" stroke-width=\"3.2\"/>\n",
       "<circle clip-path=\"url(#clip842)\" cx=\"334.032\" cy=\"1353.33\" r=\"14.4\" fill=\"#e26f46\" fill-rule=\"evenodd\" fill-opacity=\"1\" stroke=\"#000000\" stroke-opacity=\"1\" stroke-width=\"3.2\"/>\n",
       "<circle clip-path=\"url(#clip842)\" cx=\"1134.71\" cy=\"117.092\" r=\"14.4\" fill=\"#e26f46\" fill-rule=\"evenodd\" fill-opacity=\"1\" stroke=\"#000000\" stroke-opacity=\"1\" stroke-width=\"3.2\"/>\n",
       "<circle clip-path=\"url(#clip842)\" cx=\"334.032\" cy=\"1353.33\" r=\"14.4\" fill=\"#e26f46\" fill-rule=\"evenodd\" fill-opacity=\"1\" stroke=\"#000000\" stroke-opacity=\"1\" stroke-width=\"3.2\"/>\n",
       "<circle clip-path=\"url(#clip842)\" cx=\"2035.93\" cy=\"117.092\" r=\"14.4\" fill=\"#e26f46\" fill-rule=\"evenodd\" fill-opacity=\"1\" stroke=\"#000000\" stroke-opacity=\"1\" stroke-width=\"3.2\"/>\n",
       "<circle clip-path=\"url(#clip842)\" cx=\"334.032\" cy=\"117.092\" r=\"14.4\" fill=\"#e26f46\" fill-rule=\"evenodd\" fill-opacity=\"1\" stroke=\"#000000\" stroke-opacity=\"1\" stroke-width=\"3.2\"/>\n",
       "<circle clip-path=\"url(#clip842)\" cx=\"334.032\" cy=\"117.092\" r=\"14.4\" fill=\"#e26f46\" fill-rule=\"evenodd\" fill-opacity=\"1\" stroke=\"#000000\" stroke-opacity=\"1\" stroke-width=\"3.2\"/>\n",
       "<circle clip-path=\"url(#clip842)\" cx=\"1214.91\" cy=\"1353.33\" r=\"14.4\" fill=\"#e26f46\" fill-rule=\"evenodd\" fill-opacity=\"1\" stroke=\"#000000\" stroke-opacity=\"1\" stroke-width=\"3.2\"/>\n",
       "<circle clip-path=\"url(#clip842)\" cx=\"915.47\" cy=\"117.092\" r=\"14.4\" fill=\"#e26f46\" fill-rule=\"evenodd\" fill-opacity=\"1\" stroke=\"#000000\" stroke-opacity=\"1\" stroke-width=\"3.2\"/>\n",
       "<circle clip-path=\"url(#clip842)\" cx=\"809.852\" cy=\"117.092\" r=\"14.4\" fill=\"#e26f46\" fill-rule=\"evenodd\" fill-opacity=\"1\" stroke=\"#000000\" stroke-opacity=\"1\" stroke-width=\"3.2\"/>\n",
       "<circle clip-path=\"url(#clip842)\" cx=\"1104.51\" cy=\"117.092\" r=\"14.4\" fill=\"#e26f46\" fill-rule=\"evenodd\" fill-opacity=\"1\" stroke=\"#000000\" stroke-opacity=\"1\" stroke-width=\"3.2\"/>\n",
       "<circle clip-path=\"url(#clip842)\" cx=\"334.032\" cy=\"117.092\" r=\"14.4\" fill=\"#e26f46\" fill-rule=\"evenodd\" fill-opacity=\"1\" stroke=\"#000000\" stroke-opacity=\"1\" stroke-width=\"3.2\"/>\n",
       "<circle clip-path=\"url(#clip842)\" cx=\"1401.69\" cy=\"1353.33\" r=\"14.4\" fill=\"#e26f46\" fill-rule=\"evenodd\" fill-opacity=\"1\" stroke=\"#000000\" stroke-opacity=\"1\" stroke-width=\"3.2\"/>\n",
       "<circle clip-path=\"url(#clip842)\" cx=\"2035.93\" cy=\"117.092\" r=\"14.4\" fill=\"#e26f46\" fill-rule=\"evenodd\" fill-opacity=\"1\" stroke=\"#000000\" stroke-opacity=\"1\" stroke-width=\"3.2\"/>\n",
       "<circle clip-path=\"url(#clip842)\" cx=\"972.481\" cy=\"1353.33\" r=\"14.4\" fill=\"#e26f46\" fill-rule=\"evenodd\" fill-opacity=\"1\" stroke=\"#000000\" stroke-opacity=\"1\" stroke-width=\"3.2\"/>\n",
       "<circle clip-path=\"url(#clip842)\" cx=\"1689.93\" cy=\"117.092\" r=\"14.4\" fill=\"#e26f46\" fill-rule=\"evenodd\" fill-opacity=\"1\" stroke=\"#000000\" stroke-opacity=\"1\" stroke-width=\"3.2\"/>\n",
       "<circle clip-path=\"url(#clip842)\" cx=\"334.032\" cy=\"117.092\" r=\"14.4\" fill=\"#e26f46\" fill-rule=\"evenodd\" fill-opacity=\"1\" stroke=\"#000000\" stroke-opacity=\"1\" stroke-width=\"3.2\"/>\n",
       "<circle clip-path=\"url(#clip842)\" cx=\"1599.28\" cy=\"117.092\" r=\"14.4\" fill=\"#e26f46\" fill-rule=\"evenodd\" fill-opacity=\"1\" stroke=\"#000000\" stroke-opacity=\"1\" stroke-width=\"3.2\"/>\n",
       "<circle clip-path=\"url(#clip842)\" cx=\"1135.79\" cy=\"117.092\" r=\"14.4\" fill=\"#e26f46\" fill-rule=\"evenodd\" fill-opacity=\"1\" stroke=\"#000000\" stroke-opacity=\"1\" stroke-width=\"3.2\"/>\n",
       "<circle clip-path=\"url(#clip842)\" cx=\"1693.44\" cy=\"1353.33\" r=\"14.4\" fill=\"#e26f46\" fill-rule=\"evenodd\" fill-opacity=\"1\" stroke=\"#000000\" stroke-opacity=\"1\" stroke-width=\"3.2\"/>\n",
       "<circle clip-path=\"url(#clip842)\" cx=\"2035.93\" cy=\"1353.33\" r=\"14.4\" fill=\"#e26f46\" fill-rule=\"evenodd\" fill-opacity=\"1\" stroke=\"#000000\" stroke-opacity=\"1\" stroke-width=\"3.2\"/>\n",
       "<circle clip-path=\"url(#clip842)\" cx=\"334.032\" cy=\"1353.33\" r=\"14.4\" fill=\"#e26f46\" fill-rule=\"evenodd\" fill-opacity=\"1\" stroke=\"#000000\" stroke-opacity=\"1\" stroke-width=\"3.2\"/>\n",
       "<circle clip-path=\"url(#clip842)\" cx=\"1072.96\" cy=\"117.092\" r=\"14.4\" fill=\"#e26f46\" fill-rule=\"evenodd\" fill-opacity=\"1\" stroke=\"#000000\" stroke-opacity=\"1\" stroke-width=\"3.2\"/>\n",
       "<circle clip-path=\"url(#clip842)\" cx=\"2035.93\" cy=\"117.092\" r=\"14.4\" fill=\"#e26f46\" fill-rule=\"evenodd\" fill-opacity=\"1\" stroke=\"#000000\" stroke-opacity=\"1\" stroke-width=\"3.2\"/>\n",
       "<circle clip-path=\"url(#clip842)\" cx=\"334.032\" cy=\"117.092\" r=\"14.4\" fill=\"#e26f46\" fill-rule=\"evenodd\" fill-opacity=\"1\" stroke=\"#000000\" stroke-opacity=\"1\" stroke-width=\"3.2\"/>\n",
       "<circle clip-path=\"url(#clip842)\" cx=\"2035.93\" cy=\"117.092\" r=\"14.4\" fill=\"#e26f46\" fill-rule=\"evenodd\" fill-opacity=\"1\" stroke=\"#000000\" stroke-opacity=\"1\" stroke-width=\"3.2\"/>\n",
       "<circle clip-path=\"url(#clip842)\" cx=\"1479.32\" cy=\"117.092\" r=\"14.4\" fill=\"#e26f46\" fill-rule=\"evenodd\" fill-opacity=\"1\" stroke=\"#000000\" stroke-opacity=\"1\" stroke-width=\"3.2\"/>\n",
       "<circle clip-path=\"url(#clip842)\" cx=\"334.032\" cy=\"117.092\" r=\"14.4\" fill=\"#e26f46\" fill-rule=\"evenodd\" fill-opacity=\"1\" stroke=\"#000000\" stroke-opacity=\"1\" stroke-width=\"3.2\"/>\n",
       "<circle clip-path=\"url(#clip842)\" cx=\"334.032\" cy=\"117.092\" r=\"14.4\" fill=\"#e26f46\" fill-rule=\"evenodd\" fill-opacity=\"1\" stroke=\"#000000\" stroke-opacity=\"1\" stroke-width=\"3.2\"/>\n",
       "<circle clip-path=\"url(#clip842)\" cx=\"334.032\" cy=\"117.092\" r=\"14.4\" fill=\"#e26f46\" fill-rule=\"evenodd\" fill-opacity=\"1\" stroke=\"#000000\" stroke-opacity=\"1\" stroke-width=\"3.2\"/>\n",
       "<circle clip-path=\"url(#clip842)\" cx=\"930.762\" cy=\"117.092\" r=\"14.4\" fill=\"#e26f46\" fill-rule=\"evenodd\" fill-opacity=\"1\" stroke=\"#000000\" stroke-opacity=\"1\" stroke-width=\"3.2\"/>\n",
       "<circle clip-path=\"url(#clip842)\" cx=\"2035.93\" cy=\"1353.33\" r=\"14.4\" fill=\"#e26f46\" fill-rule=\"evenodd\" fill-opacity=\"1\" stroke=\"#000000\" stroke-opacity=\"1\" stroke-width=\"3.2\"/>\n",
       "<circle clip-path=\"url(#clip842)\" cx=\"2035.93\" cy=\"1353.33\" r=\"14.4\" fill=\"#e26f46\" fill-rule=\"evenodd\" fill-opacity=\"1\" stroke=\"#000000\" stroke-opacity=\"1\" stroke-width=\"3.2\"/>\n",
       "<circle clip-path=\"url(#clip842)\" cx=\"959.049\" cy=\"1353.33\" r=\"14.4\" fill=\"#e26f46\" fill-rule=\"evenodd\" fill-opacity=\"1\" stroke=\"#000000\" stroke-opacity=\"1\" stroke-width=\"3.2\"/>\n",
       "<circle clip-path=\"url(#clip842)\" cx=\"2035.93\" cy=\"1353.33\" r=\"14.4\" fill=\"#e26f46\" fill-rule=\"evenodd\" fill-opacity=\"1\" stroke=\"#000000\" stroke-opacity=\"1\" stroke-width=\"3.2\"/>\n",
       "<circle clip-path=\"url(#clip842)\" cx=\"1364.13\" cy=\"117.092\" r=\"14.4\" fill=\"#e26f46\" fill-rule=\"evenodd\" fill-opacity=\"1\" stroke=\"#000000\" stroke-opacity=\"1\" stroke-width=\"3.2\"/>\n",
       "<circle clip-path=\"url(#clip842)\" cx=\"334.032\" cy=\"117.092\" r=\"14.4\" fill=\"#e26f46\" fill-rule=\"evenodd\" fill-opacity=\"1\" stroke=\"#000000\" stroke-opacity=\"1\" stroke-width=\"3.2\"/>\n",
       "<circle clip-path=\"url(#clip842)\" cx=\"334.032\" cy=\"1353.33\" r=\"14.4\" fill=\"#e26f46\" fill-rule=\"evenodd\" fill-opacity=\"1\" stroke=\"#000000\" stroke-opacity=\"1\" stroke-width=\"3.2\"/>\n",
       "<circle clip-path=\"url(#clip842)\" cx=\"334.032\" cy=\"117.092\" r=\"14.4\" fill=\"#e26f46\" fill-rule=\"evenodd\" fill-opacity=\"1\" stroke=\"#000000\" stroke-opacity=\"1\" stroke-width=\"3.2\"/>\n",
       "<circle clip-path=\"url(#clip842)\" cx=\"334.032\" cy=\"1353.33\" r=\"14.4\" fill=\"#e26f46\" fill-rule=\"evenodd\" fill-opacity=\"1\" stroke=\"#000000\" stroke-opacity=\"1\" stroke-width=\"3.2\"/>\n",
       "<circle clip-path=\"url(#clip842)\" cx=\"1092.85\" cy=\"117.092\" r=\"14.4\" fill=\"#e26f46\" fill-rule=\"evenodd\" fill-opacity=\"1\" stroke=\"#000000\" stroke-opacity=\"1\" stroke-width=\"3.2\"/>\n",
       "<circle clip-path=\"url(#clip842)\" cx=\"1373.91\" cy=\"117.092\" r=\"14.4\" fill=\"#e26f46\" fill-rule=\"evenodd\" fill-opacity=\"1\" stroke=\"#000000\" stroke-opacity=\"1\" stroke-width=\"3.2\"/>\n",
       "<circle clip-path=\"url(#clip842)\" cx=\"2035.93\" cy=\"117.092\" r=\"14.4\" fill=\"#e26f46\" fill-rule=\"evenodd\" fill-opacity=\"1\" stroke=\"#000000\" stroke-opacity=\"1\" stroke-width=\"3.2\"/>\n",
       "<circle clip-path=\"url(#clip842)\" cx=\"2035.93\" cy=\"1353.33\" r=\"14.4\" fill=\"#e26f46\" fill-rule=\"evenodd\" fill-opacity=\"1\" stroke=\"#000000\" stroke-opacity=\"1\" stroke-width=\"3.2\"/>\n",
       "<circle clip-path=\"url(#clip842)\" cx=\"1437.98\" cy=\"117.092\" r=\"14.4\" fill=\"#e26f46\" fill-rule=\"evenodd\" fill-opacity=\"1\" stroke=\"#000000\" stroke-opacity=\"1\" stroke-width=\"3.2\"/>\n",
       "<circle clip-path=\"url(#clip842)\" cx=\"2035.93\" cy=\"1353.33\" r=\"14.4\" fill=\"#e26f46\" fill-rule=\"evenodd\" fill-opacity=\"1\" stroke=\"#000000\" stroke-opacity=\"1\" stroke-width=\"3.2\"/>\n",
       "<circle clip-path=\"url(#clip842)\" cx=\"2035.93\" cy=\"117.092\" r=\"14.4\" fill=\"#e26f46\" fill-rule=\"evenodd\" fill-opacity=\"1\" stroke=\"#000000\" stroke-opacity=\"1\" stroke-width=\"3.2\"/>\n",
       "<circle clip-path=\"url(#clip842)\" cx=\"1075.93\" cy=\"117.092\" r=\"14.4\" fill=\"#e26f46\" fill-rule=\"evenodd\" fill-opacity=\"1\" stroke=\"#000000\" stroke-opacity=\"1\" stroke-width=\"3.2\"/>\n",
       "<circle clip-path=\"url(#clip842)\" cx=\"2035.93\" cy=\"117.092\" r=\"14.4\" fill=\"#e26f46\" fill-rule=\"evenodd\" fill-opacity=\"1\" stroke=\"#000000\" stroke-opacity=\"1\" stroke-width=\"3.2\"/>\n",
       "<circle clip-path=\"url(#clip842)\" cx=\"334.032\" cy=\"117.092\" r=\"14.4\" fill=\"#e26f46\" fill-rule=\"evenodd\" fill-opacity=\"1\" stroke=\"#000000\" stroke-opacity=\"1\" stroke-width=\"3.2\"/>\n",
       "<circle clip-path=\"url(#clip842)\" cx=\"1227.74\" cy=\"1353.33\" r=\"14.4\" fill=\"#e26f46\" fill-rule=\"evenodd\" fill-opacity=\"1\" stroke=\"#000000\" stroke-opacity=\"1\" stroke-width=\"3.2\"/>\n",
       "<circle clip-path=\"url(#clip842)\" cx=\"2035.93\" cy=\"117.092\" r=\"14.4\" fill=\"#e26f46\" fill-rule=\"evenodd\" fill-opacity=\"1\" stroke=\"#000000\" stroke-opacity=\"1\" stroke-width=\"3.2\"/>\n",
       "<circle clip-path=\"url(#clip842)\" cx=\"2035.93\" cy=\"117.092\" r=\"14.4\" fill=\"#e26f46\" fill-rule=\"evenodd\" fill-opacity=\"1\" stroke=\"#000000\" stroke-opacity=\"1\" stroke-width=\"3.2\"/>\n",
       "<circle clip-path=\"url(#clip842)\" cx=\"2035.93\" cy=\"1353.33\" r=\"14.4\" fill=\"#e26f46\" fill-rule=\"evenodd\" fill-opacity=\"1\" stroke=\"#000000\" stroke-opacity=\"1\" stroke-width=\"3.2\"/>\n",
       "<circle clip-path=\"url(#clip842)\" cx=\"1321.89\" cy=\"1353.33\" r=\"14.4\" fill=\"#e26f46\" fill-rule=\"evenodd\" fill-opacity=\"1\" stroke=\"#000000\" stroke-opacity=\"1\" stroke-width=\"3.2\"/>\n",
       "<circle clip-path=\"url(#clip842)\" cx=\"2035.93\" cy=\"117.092\" r=\"14.4\" fill=\"#e26f46\" fill-rule=\"evenodd\" fill-opacity=\"1\" stroke=\"#000000\" stroke-opacity=\"1\" stroke-width=\"3.2\"/>\n",
       "<circle clip-path=\"url(#clip842)\" cx=\"2035.93\" cy=\"117.092\" r=\"14.4\" fill=\"#e26f46\" fill-rule=\"evenodd\" fill-opacity=\"1\" stroke=\"#000000\" stroke-opacity=\"1\" stroke-width=\"3.2\"/>\n",
       "<circle clip-path=\"url(#clip842)\" cx=\"2035.93\" cy=\"117.092\" r=\"14.4\" fill=\"#e26f46\" fill-rule=\"evenodd\" fill-opacity=\"1\" stroke=\"#000000\" stroke-opacity=\"1\" stroke-width=\"3.2\"/>\n",
       "<circle clip-path=\"url(#clip842)\" cx=\"334.032\" cy=\"117.092\" r=\"14.4\" fill=\"#e26f46\" fill-rule=\"evenodd\" fill-opacity=\"1\" stroke=\"#000000\" stroke-opacity=\"1\" stroke-width=\"3.2\"/>\n",
       "<circle clip-path=\"url(#clip842)\" cx=\"2035.93\" cy=\"117.092\" r=\"14.4\" fill=\"#e26f46\" fill-rule=\"evenodd\" fill-opacity=\"1\" stroke=\"#000000\" stroke-opacity=\"1\" stroke-width=\"3.2\"/>\n",
       "<circle clip-path=\"url(#clip842)\" cx=\"1429.23\" cy=\"117.092\" r=\"14.4\" fill=\"#e26f46\" fill-rule=\"evenodd\" fill-opacity=\"1\" stroke=\"#000000\" stroke-opacity=\"1\" stroke-width=\"3.2\"/>\n",
       "<circle clip-path=\"url(#clip842)\" cx=\"1235.81\" cy=\"117.092\" r=\"14.4\" fill=\"#e26f46\" fill-rule=\"evenodd\" fill-opacity=\"1\" stroke=\"#000000\" stroke-opacity=\"1\" stroke-width=\"3.2\"/>\n",
       "<circle clip-path=\"url(#clip842)\" cx=\"2035.93\" cy=\"1353.33\" r=\"14.4\" fill=\"#e26f46\" fill-rule=\"evenodd\" fill-opacity=\"1\" stroke=\"#000000\" stroke-opacity=\"1\" stroke-width=\"3.2\"/>\n",
       "<circle clip-path=\"url(#clip842)\" cx=\"2035.93\" cy=\"117.092\" r=\"14.4\" fill=\"#e26f46\" fill-rule=\"evenodd\" fill-opacity=\"1\" stroke=\"#000000\" stroke-opacity=\"1\" stroke-width=\"3.2\"/>\n",
       "<circle clip-path=\"url(#clip842)\" cx=\"1144.45\" cy=\"117.092\" r=\"14.4\" fill=\"#e26f46\" fill-rule=\"evenodd\" fill-opacity=\"1\" stroke=\"#000000\" stroke-opacity=\"1\" stroke-width=\"3.2\"/>\n",
       "<circle clip-path=\"url(#clip842)\" cx=\"1521.81\" cy=\"117.092\" r=\"14.4\" fill=\"#e26f46\" fill-rule=\"evenodd\" fill-opacity=\"1\" stroke=\"#000000\" stroke-opacity=\"1\" stroke-width=\"3.2\"/>\n",
       "<circle clip-path=\"url(#clip842)\" cx=\"928.534\" cy=\"1353.33\" r=\"14.4\" fill=\"#e26f46\" fill-rule=\"evenodd\" fill-opacity=\"1\" stroke=\"#000000\" stroke-opacity=\"1\" stroke-width=\"3.2\"/>\n",
       "<circle clip-path=\"url(#clip842)\" cx=\"1070.22\" cy=\"117.092\" r=\"14.4\" fill=\"#e26f46\" fill-rule=\"evenodd\" fill-opacity=\"1\" stroke=\"#000000\" stroke-opacity=\"1\" stroke-width=\"3.2\"/>\n",
       "<circle clip-path=\"url(#clip842)\" cx=\"2035.93\" cy=\"117.092\" r=\"14.4\" fill=\"#e26f46\" fill-rule=\"evenodd\" fill-opacity=\"1\" stroke=\"#000000\" stroke-opacity=\"1\" stroke-width=\"3.2\"/>\n",
       "<circle clip-path=\"url(#clip842)\" cx=\"2035.93\" cy=\"1353.33\" r=\"14.4\" fill=\"#e26f46\" fill-rule=\"evenodd\" fill-opacity=\"1\" stroke=\"#000000\" stroke-opacity=\"1\" stroke-width=\"3.2\"/>\n",
       "<circle clip-path=\"url(#clip842)\" cx=\"2035.93\" cy=\"117.092\" r=\"14.4\" fill=\"#e26f46\" fill-rule=\"evenodd\" fill-opacity=\"1\" stroke=\"#000000\" stroke-opacity=\"1\" stroke-width=\"3.2\"/>\n",
       "<circle clip-path=\"url(#clip842)\" cx=\"2035.93\" cy=\"1353.33\" r=\"14.4\" fill=\"#e26f46\" fill-rule=\"evenodd\" fill-opacity=\"1\" stroke=\"#000000\" stroke-opacity=\"1\" stroke-width=\"3.2\"/>\n",
       "<circle clip-path=\"url(#clip842)\" cx=\"334.032\" cy=\"1353.33\" r=\"14.4\" fill=\"#e26f46\" fill-rule=\"evenodd\" fill-opacity=\"1\" stroke=\"#000000\" stroke-opacity=\"1\" stroke-width=\"3.2\"/>\n",
       "<circle clip-path=\"url(#clip842)\" cx=\"2035.93\" cy=\"1353.33\" r=\"14.4\" fill=\"#e26f46\" fill-rule=\"evenodd\" fill-opacity=\"1\" stroke=\"#000000\" stroke-opacity=\"1\" stroke-width=\"3.2\"/>\n",
       "<circle clip-path=\"url(#clip842)\" cx=\"2035.93\" cy=\"1353.33\" r=\"14.4\" fill=\"#e26f46\" fill-rule=\"evenodd\" fill-opacity=\"1\" stroke=\"#000000\" stroke-opacity=\"1\" stroke-width=\"3.2\"/>\n",
       "<circle clip-path=\"url(#clip842)\" cx=\"2035.93\" cy=\"1353.33\" r=\"14.4\" fill=\"#e26f46\" fill-rule=\"evenodd\" fill-opacity=\"1\" stroke=\"#000000\" stroke-opacity=\"1\" stroke-width=\"3.2\"/>\n",
       "<circle clip-path=\"url(#clip842)\" cx=\"1355.05\" cy=\"1353.33\" r=\"14.4\" fill=\"#e26f46\" fill-rule=\"evenodd\" fill-opacity=\"1\" stroke=\"#000000\" stroke-opacity=\"1\" stroke-width=\"3.2\"/>\n",
       "<circle clip-path=\"url(#clip842)\" cx=\"2035.93\" cy=\"117.092\" r=\"14.4\" fill=\"#e26f46\" fill-rule=\"evenodd\" fill-opacity=\"1\" stroke=\"#000000\" stroke-opacity=\"1\" stroke-width=\"3.2\"/>\n",
       "<circle clip-path=\"url(#clip842)\" cx=\"1417.71\" cy=\"1353.33\" r=\"14.4\" fill=\"#e26f46\" fill-rule=\"evenodd\" fill-opacity=\"1\" stroke=\"#000000\" stroke-opacity=\"1\" stroke-width=\"3.2\"/>\n",
       "<circle clip-path=\"url(#clip842)\" cx=\"2035.93\" cy=\"1353.33\" r=\"14.4\" fill=\"#e26f46\" fill-rule=\"evenodd\" fill-opacity=\"1\" stroke=\"#000000\" stroke-opacity=\"1\" stroke-width=\"3.2\"/>\n",
       "<circle clip-path=\"url(#clip842)\" cx=\"2035.93\" cy=\"117.092\" r=\"14.4\" fill=\"#e26f46\" fill-rule=\"evenodd\" fill-opacity=\"1\" stroke=\"#000000\" stroke-opacity=\"1\" stroke-width=\"3.2\"/>\n",
       "<circle clip-path=\"url(#clip842)\" cx=\"2035.93\" cy=\"117.092\" r=\"14.4\" fill=\"#e26f46\" fill-rule=\"evenodd\" fill-opacity=\"1\" stroke=\"#000000\" stroke-opacity=\"1\" stroke-width=\"3.2\"/>\n",
       "<circle clip-path=\"url(#clip842)\" cx=\"2035.93\" cy=\"1353.33\" r=\"14.4\" fill=\"#e26f46\" fill-rule=\"evenodd\" fill-opacity=\"1\" stroke=\"#000000\" stroke-opacity=\"1\" stroke-width=\"3.2\"/>\n",
       "<circle clip-path=\"url(#clip842)\" cx=\"2035.93\" cy=\"1353.33\" r=\"14.4\" fill=\"#e26f46\" fill-rule=\"evenodd\" fill-opacity=\"1\" stroke=\"#000000\" stroke-opacity=\"1\" stroke-width=\"3.2\"/>\n",
       "<circle clip-path=\"url(#clip842)\" cx=\"2035.93\" cy=\"117.092\" r=\"14.4\" fill=\"#e26f46\" fill-rule=\"evenodd\" fill-opacity=\"1\" stroke=\"#000000\" stroke-opacity=\"1\" stroke-width=\"3.2\"/>\n",
       "<circle clip-path=\"url(#clip842)\" cx=\"2035.93\" cy=\"1353.33\" r=\"14.4\" fill=\"#e26f46\" fill-rule=\"evenodd\" fill-opacity=\"1\" stroke=\"#000000\" stroke-opacity=\"1\" stroke-width=\"3.2\"/>\n",
       "<circle clip-path=\"url(#clip842)\" cx=\"1345.75\" cy=\"1353.33\" r=\"14.4\" fill=\"#e26f46\" fill-rule=\"evenodd\" fill-opacity=\"1\" stroke=\"#000000\" stroke-opacity=\"1\" stroke-width=\"3.2\"/>\n",
       "<circle clip-path=\"url(#clip842)\" cx=\"1227.71\" cy=\"117.092\" r=\"14.4\" fill=\"#e26f46\" fill-rule=\"evenodd\" fill-opacity=\"1\" stroke=\"#000000\" stroke-opacity=\"1\" stroke-width=\"3.2\"/>\n",
       "<circle clip-path=\"url(#clip842)\" cx=\"1220.96\" cy=\"1353.33\" r=\"14.4\" fill=\"#e26f46\" fill-rule=\"evenodd\" fill-opacity=\"1\" stroke=\"#000000\" stroke-opacity=\"1\" stroke-width=\"3.2\"/>\n",
       "<circle clip-path=\"url(#clip842)\" cx=\"1343.19\" cy=\"1353.33\" r=\"14.4\" fill=\"#e26f46\" fill-rule=\"evenodd\" fill-opacity=\"1\" stroke=\"#000000\" stroke-opacity=\"1\" stroke-width=\"3.2\"/>\n",
       "<circle clip-path=\"url(#clip842)\" cx=\"1322.17\" cy=\"1353.33\" r=\"14.4\" fill=\"#e26f46\" fill-rule=\"evenodd\" fill-opacity=\"1\" stroke=\"#000000\" stroke-opacity=\"1\" stroke-width=\"3.2\"/>\n",
       "<circle clip-path=\"url(#clip842)\" cx=\"2035.93\" cy=\"1353.33\" r=\"14.4\" fill=\"#e26f46\" fill-rule=\"evenodd\" fill-opacity=\"1\" stroke=\"#000000\" stroke-opacity=\"1\" stroke-width=\"3.2\"/>\n",
       "<circle clip-path=\"url(#clip842)\" cx=\"1335.63\" cy=\"1353.33\" r=\"14.4\" fill=\"#e26f46\" fill-rule=\"evenodd\" fill-opacity=\"1\" stroke=\"#000000\" stroke-opacity=\"1\" stroke-width=\"3.2\"/>\n",
       "<circle clip-path=\"url(#clip842)\" cx=\"1354.89\" cy=\"1353.33\" r=\"14.4\" fill=\"#e26f46\" fill-rule=\"evenodd\" fill-opacity=\"1\" stroke=\"#000000\" stroke-opacity=\"1\" stroke-width=\"3.2\"/>\n",
       "<circle clip-path=\"url(#clip842)\" cx=\"1068.6\" cy=\"117.092\" r=\"14.4\" fill=\"#e26f46\" fill-rule=\"evenodd\" fill-opacity=\"1\" stroke=\"#000000\" stroke-opacity=\"1\" stroke-width=\"3.2\"/>\n",
       "<circle clip-path=\"url(#clip842)\" cx=\"1514.57\" cy=\"1353.33\" r=\"14.4\" fill=\"#e26f46\" fill-rule=\"evenodd\" fill-opacity=\"1\" stroke=\"#000000\" stroke-opacity=\"1\" stroke-width=\"3.2\"/>\n",
       "<circle clip-path=\"url(#clip842)\" cx=\"1350.8\" cy=\"117.092\" r=\"14.4\" fill=\"#e26f46\" fill-rule=\"evenodd\" fill-opacity=\"1\" stroke=\"#000000\" stroke-opacity=\"1\" stroke-width=\"3.2\"/>\n",
       "<circle clip-path=\"url(#clip842)\" cx=\"1322.69\" cy=\"1353.33\" r=\"14.4\" fill=\"#e26f46\" fill-rule=\"evenodd\" fill-opacity=\"1\" stroke=\"#000000\" stroke-opacity=\"1\" stroke-width=\"3.2\"/>\n",
       "<circle clip-path=\"url(#clip842)\" cx=\"2035.93\" cy=\"1353.33\" r=\"14.4\" fill=\"#e26f46\" fill-rule=\"evenodd\" fill-opacity=\"1\" stroke=\"#000000\" stroke-opacity=\"1\" stroke-width=\"3.2\"/>\n",
       "<circle clip-path=\"url(#clip842)\" cx=\"1342.32\" cy=\"1353.33\" r=\"14.4\" fill=\"#e26f46\" fill-rule=\"evenodd\" fill-opacity=\"1\" stroke=\"#000000\" stroke-opacity=\"1\" stroke-width=\"3.2\"/>\n",
       "<circle clip-path=\"url(#clip842)\" cx=\"1361.95\" cy=\"117.092\" r=\"14.4\" fill=\"#e26f46\" fill-rule=\"evenodd\" fill-opacity=\"1\" stroke=\"#000000\" stroke-opacity=\"1\" stroke-width=\"3.2\"/>\n",
       "<circle clip-path=\"url(#clip842)\" cx=\"2035.93\" cy=\"1353.33\" r=\"14.4\" fill=\"#e26f46\" fill-rule=\"evenodd\" fill-opacity=\"1\" stroke=\"#000000\" stroke-opacity=\"1\" stroke-width=\"3.2\"/>\n",
       "<circle clip-path=\"url(#clip842)\" cx=\"1489.45\" cy=\"1353.33\" r=\"14.4\" fill=\"#e26f46\" fill-rule=\"evenodd\" fill-opacity=\"1\" stroke=\"#000000\" stroke-opacity=\"1\" stroke-width=\"3.2\"/>\n",
       "<circle clip-path=\"url(#clip842)\" cx=\"334.032\" cy=\"1353.33\" r=\"14.4\" fill=\"#e26f46\" fill-rule=\"evenodd\" fill-opacity=\"1\" stroke=\"#000000\" stroke-opacity=\"1\" stroke-width=\"3.2\"/>\n",
       "<circle clip-path=\"url(#clip842)\" cx=\"2035.93\" cy=\"1353.33\" r=\"14.4\" fill=\"#e26f46\" fill-rule=\"evenodd\" fill-opacity=\"1\" stroke=\"#000000\" stroke-opacity=\"1\" stroke-width=\"3.2\"/>\n",
       "<circle clip-path=\"url(#clip842)\" cx=\"1399.44\" cy=\"117.092\" r=\"14.4\" fill=\"#e26f46\" fill-rule=\"evenodd\" fill-opacity=\"1\" stroke=\"#000000\" stroke-opacity=\"1\" stroke-width=\"3.2\"/>\n",
       "<circle clip-path=\"url(#clip842)\" cx=\"1368.69\" cy=\"1353.33\" r=\"14.4\" fill=\"#e26f46\" fill-rule=\"evenodd\" fill-opacity=\"1\" stroke=\"#000000\" stroke-opacity=\"1\" stroke-width=\"3.2\"/>\n",
       "<circle clip-path=\"url(#clip842)\" cx=\"1151.06\" cy=\"1353.33\" r=\"14.4\" fill=\"#e26f46\" fill-rule=\"evenodd\" fill-opacity=\"1\" stroke=\"#000000\" stroke-opacity=\"1\" stroke-width=\"3.2\"/>\n",
       "<circle clip-path=\"url(#clip842)\" cx=\"1457.57\" cy=\"117.092\" r=\"14.4\" fill=\"#e26f46\" fill-rule=\"evenodd\" fill-opacity=\"1\" stroke=\"#000000\" stroke-opacity=\"1\" stroke-width=\"3.2\"/>\n",
       "<circle clip-path=\"url(#clip842)\" cx=\"1485.29\" cy=\"117.092\" r=\"14.4\" fill=\"#e26f46\" fill-rule=\"evenodd\" fill-opacity=\"1\" stroke=\"#000000\" stroke-opacity=\"1\" stroke-width=\"3.2\"/>\n",
       "<circle clip-path=\"url(#clip842)\" cx=\"1168.64\" cy=\"1353.33\" r=\"14.4\" fill=\"#e26f46\" fill-rule=\"evenodd\" fill-opacity=\"1\" stroke=\"#000000\" stroke-opacity=\"1\" stroke-width=\"3.2\"/>\n",
       "<circle clip-path=\"url(#clip842)\" cx=\"1482.58\" cy=\"1353.33\" r=\"14.4\" fill=\"#e26f46\" fill-rule=\"evenodd\" fill-opacity=\"1\" stroke=\"#000000\" stroke-opacity=\"1\" stroke-width=\"3.2\"/>\n",
       "<circle clip-path=\"url(#clip842)\" cx=\"1497.4\" cy=\"117.092\" r=\"14.4\" fill=\"#e26f46\" fill-rule=\"evenodd\" fill-opacity=\"1\" stroke=\"#000000\" stroke-opacity=\"1\" stroke-width=\"3.2\"/>\n",
       "<circle clip-path=\"url(#clip842)\" cx=\"2035.93\" cy=\"117.092\" r=\"14.4\" fill=\"#e26f46\" fill-rule=\"evenodd\" fill-opacity=\"1\" stroke=\"#000000\" stroke-opacity=\"1\" stroke-width=\"3.2\"/>\n",
       "<circle clip-path=\"url(#clip842)\" cx=\"1328.97\" cy=\"1353.33\" r=\"14.4\" fill=\"#e26f46\" fill-rule=\"evenodd\" fill-opacity=\"1\" stroke=\"#000000\" stroke-opacity=\"1\" stroke-width=\"3.2\"/>\n",
       "<circle clip-path=\"url(#clip842)\" cx=\"334.032\" cy=\"117.092\" r=\"14.4\" fill=\"#e26f46\" fill-rule=\"evenodd\" fill-opacity=\"1\" stroke=\"#000000\" stroke-opacity=\"1\" stroke-width=\"3.2\"/>\n",
       "<circle clip-path=\"url(#clip842)\" cx=\"1155.28\" cy=\"1353.33\" r=\"14.4\" fill=\"#e26f46\" fill-rule=\"evenodd\" fill-opacity=\"1\" stroke=\"#000000\" stroke-opacity=\"1\" stroke-width=\"3.2\"/>\n",
       "<circle clip-path=\"url(#clip842)\" cx=\"2035.93\" cy=\"1353.33\" r=\"14.4\" fill=\"#e26f46\" fill-rule=\"evenodd\" fill-opacity=\"1\" stroke=\"#000000\" stroke-opacity=\"1\" stroke-width=\"3.2\"/>\n",
       "<circle clip-path=\"url(#clip842)\" cx=\"2035.93\" cy=\"1353.33\" r=\"14.4\" fill=\"#e26f46\" fill-rule=\"evenodd\" fill-opacity=\"1\" stroke=\"#000000\" stroke-opacity=\"1\" stroke-width=\"3.2\"/>\n",
       "<circle clip-path=\"url(#clip842)\" cx=\"1267.61\" cy=\"117.092\" r=\"14.4\" fill=\"#e26f46\" fill-rule=\"evenodd\" fill-opacity=\"1\" stroke=\"#000000\" stroke-opacity=\"1\" stroke-width=\"3.2\"/>\n",
       "<circle clip-path=\"url(#clip842)\" cx=\"2035.93\" cy=\"1353.33\" r=\"14.4\" fill=\"#e26f46\" fill-rule=\"evenodd\" fill-opacity=\"1\" stroke=\"#000000\" stroke-opacity=\"1\" stroke-width=\"3.2\"/>\n",
       "<circle clip-path=\"url(#clip842)\" cx=\"1338.11\" cy=\"1353.33\" r=\"14.4\" fill=\"#e26f46\" fill-rule=\"evenodd\" fill-opacity=\"1\" stroke=\"#000000\" stroke-opacity=\"1\" stroke-width=\"3.2\"/>\n",
       "<circle clip-path=\"url(#clip842)\" cx=\"2035.93\" cy=\"117.092\" r=\"14.4\" fill=\"#e26f46\" fill-rule=\"evenodd\" fill-opacity=\"1\" stroke=\"#000000\" stroke-opacity=\"1\" stroke-width=\"3.2\"/>\n",
       "<circle clip-path=\"url(#clip842)\" cx=\"334.032\" cy=\"1353.33\" r=\"14.4\" fill=\"#e26f46\" fill-rule=\"evenodd\" fill-opacity=\"1\" stroke=\"#000000\" stroke-opacity=\"1\" stroke-width=\"3.2\"/>\n",
       "<circle clip-path=\"url(#clip842)\" cx=\"334.032\" cy=\"1353.33\" r=\"14.4\" fill=\"#e26f46\" fill-rule=\"evenodd\" fill-opacity=\"1\" stroke=\"#000000\" stroke-opacity=\"1\" stroke-width=\"3.2\"/>\n",
       "<circle clip-path=\"url(#clip842)\" cx=\"334.032\" cy=\"117.092\" r=\"14.4\" fill=\"#e26f46\" fill-rule=\"evenodd\" fill-opacity=\"1\" stroke=\"#000000\" stroke-opacity=\"1\" stroke-width=\"3.2\"/>\n",
       "<circle clip-path=\"url(#clip842)\" cx=\"334.032\" cy=\"1353.33\" r=\"14.4\" fill=\"#e26f46\" fill-rule=\"evenodd\" fill-opacity=\"1\" stroke=\"#000000\" stroke-opacity=\"1\" stroke-width=\"3.2\"/>\n",
       "<circle clip-path=\"url(#clip842)\" cx=\"334.032\" cy=\"117.092\" r=\"14.4\" fill=\"#e26f46\" fill-rule=\"evenodd\" fill-opacity=\"1\" stroke=\"#000000\" stroke-opacity=\"1\" stroke-width=\"3.2\"/>\n",
       "<circle clip-path=\"url(#clip842)\" cx=\"2035.93\" cy=\"117.092\" r=\"14.4\" fill=\"#e26f46\" fill-rule=\"evenodd\" fill-opacity=\"1\" stroke=\"#000000\" stroke-opacity=\"1\" stroke-width=\"3.2\"/>\n",
       "<circle clip-path=\"url(#clip842)\" cx=\"334.032\" cy=\"1353.33\" r=\"14.4\" fill=\"#e26f46\" fill-rule=\"evenodd\" fill-opacity=\"1\" stroke=\"#000000\" stroke-opacity=\"1\" stroke-width=\"3.2\"/>\n",
       "<circle clip-path=\"url(#clip842)\" cx=\"334.032\" cy=\"117.092\" r=\"14.4\" fill=\"#e26f46\" fill-rule=\"evenodd\" fill-opacity=\"1\" stroke=\"#000000\" stroke-opacity=\"1\" stroke-width=\"3.2\"/>\n",
       "<circle clip-path=\"url(#clip842)\" cx=\"334.032\" cy=\"1353.33\" r=\"14.4\" fill=\"#e26f46\" fill-rule=\"evenodd\" fill-opacity=\"1\" stroke=\"#000000\" stroke-opacity=\"1\" stroke-width=\"3.2\"/>\n",
       "<circle clip-path=\"url(#clip842)\" cx=\"980.523\" cy=\"1353.33\" r=\"14.4\" fill=\"#e26f46\" fill-rule=\"evenodd\" fill-opacity=\"1\" stroke=\"#000000\" stroke-opacity=\"1\" stroke-width=\"3.2\"/>\n",
       "<circle clip-path=\"url(#clip842)\" cx=\"2035.93\" cy=\"117.092\" r=\"14.4\" fill=\"#e26f46\" fill-rule=\"evenodd\" fill-opacity=\"1\" stroke=\"#000000\" stroke-opacity=\"1\" stroke-width=\"3.2\"/>\n",
       "<circle clip-path=\"url(#clip842)\" cx=\"334.032\" cy=\"1353.33\" r=\"14.4\" fill=\"#e26f46\" fill-rule=\"evenodd\" fill-opacity=\"1\" stroke=\"#000000\" stroke-opacity=\"1\" stroke-width=\"3.2\"/>\n",
       "<circle clip-path=\"url(#clip842)\" cx=\"1404.5\" cy=\"117.092\" r=\"14.4\" fill=\"#e26f46\" fill-rule=\"evenodd\" fill-opacity=\"1\" stroke=\"#000000\" stroke-opacity=\"1\" stroke-width=\"3.2\"/>\n",
       "<circle clip-path=\"url(#clip842)\" cx=\"2035.93\" cy=\"1353.33\" r=\"14.4\" fill=\"#e26f46\" fill-rule=\"evenodd\" fill-opacity=\"1\" stroke=\"#000000\" stroke-opacity=\"1\" stroke-width=\"3.2\"/>\n",
       "<circle clip-path=\"url(#clip842)\" cx=\"334.032\" cy=\"117.092\" r=\"14.4\" fill=\"#e26f46\" fill-rule=\"evenodd\" fill-opacity=\"1\" stroke=\"#000000\" stroke-opacity=\"1\" stroke-width=\"3.2\"/>\n",
       "<circle clip-path=\"url(#clip842)\" cx=\"334.032\" cy=\"117.092\" r=\"14.4\" fill=\"#e26f46\" fill-rule=\"evenodd\" fill-opacity=\"1\" stroke=\"#000000\" stroke-opacity=\"1\" stroke-width=\"3.2\"/>\n",
       "<circle clip-path=\"url(#clip842)\" cx=\"2035.93\" cy=\"1353.33\" r=\"14.4\" fill=\"#e26f46\" fill-rule=\"evenodd\" fill-opacity=\"1\" stroke=\"#000000\" stroke-opacity=\"1\" stroke-width=\"3.2\"/>\n",
       "<circle clip-path=\"url(#clip842)\" cx=\"334.032\" cy=\"117.092\" r=\"14.4\" fill=\"#e26f46\" fill-rule=\"evenodd\" fill-opacity=\"1\" stroke=\"#000000\" stroke-opacity=\"1\" stroke-width=\"3.2\"/>\n",
       "<circle clip-path=\"url(#clip842)\" cx=\"334.032\" cy=\"117.092\" r=\"14.4\" fill=\"#e26f46\" fill-rule=\"evenodd\" fill-opacity=\"1\" stroke=\"#000000\" stroke-opacity=\"1\" stroke-width=\"3.2\"/>\n",
       "<circle clip-path=\"url(#clip842)\" cx=\"2035.93\" cy=\"1353.33\" r=\"14.4\" fill=\"#e26f46\" fill-rule=\"evenodd\" fill-opacity=\"1\" stroke=\"#000000\" stroke-opacity=\"1\" stroke-width=\"3.2\"/>\n",
       "<circle clip-path=\"url(#clip842)\" cx=\"334.032\" cy=\"117.092\" r=\"14.4\" fill=\"#e26f46\" fill-rule=\"evenodd\" fill-opacity=\"1\" stroke=\"#000000\" stroke-opacity=\"1\" stroke-width=\"3.2\"/>\n",
       "<circle clip-path=\"url(#clip842)\" cx=\"2035.93\" cy=\"1353.33\" r=\"14.4\" fill=\"#e26f46\" fill-rule=\"evenodd\" fill-opacity=\"1\" stroke=\"#000000\" stroke-opacity=\"1\" stroke-width=\"3.2\"/>\n",
       "<circle clip-path=\"url(#clip842)\" cx=\"2035.93\" cy=\"1353.33\" r=\"14.4\" fill=\"#e26f46\" fill-rule=\"evenodd\" fill-opacity=\"1\" stroke=\"#000000\" stroke-opacity=\"1\" stroke-width=\"3.2\"/>\n",
       "<circle clip-path=\"url(#clip842)\" cx=\"334.032\" cy=\"117.092\" r=\"14.4\" fill=\"#e26f46\" fill-rule=\"evenodd\" fill-opacity=\"1\" stroke=\"#000000\" stroke-opacity=\"1\" stroke-width=\"3.2\"/>\n",
       "<circle clip-path=\"url(#clip842)\" cx=\"1317.34\" cy=\"1353.33\" r=\"14.4\" fill=\"#e26f46\" fill-rule=\"evenodd\" fill-opacity=\"1\" stroke=\"#000000\" stroke-opacity=\"1\" stroke-width=\"3.2\"/>\n",
       "<circle clip-path=\"url(#clip842)\" cx=\"2035.93\" cy=\"117.092\" r=\"14.4\" fill=\"#e26f46\" fill-rule=\"evenodd\" fill-opacity=\"1\" stroke=\"#000000\" stroke-opacity=\"1\" stroke-width=\"3.2\"/>\n",
       "<circle clip-path=\"url(#clip842)\" cx=\"334.032\" cy=\"1353.33\" r=\"14.4\" fill=\"#e26f46\" fill-rule=\"evenodd\" fill-opacity=\"1\" stroke=\"#000000\" stroke-opacity=\"1\" stroke-width=\"3.2\"/>\n",
       "<circle clip-path=\"url(#clip842)\" cx=\"1357.15\" cy=\"117.092\" r=\"14.4\" fill=\"#e26f46\" fill-rule=\"evenodd\" fill-opacity=\"1\" stroke=\"#000000\" stroke-opacity=\"1\" stroke-width=\"3.2\"/>\n",
       "<circle clip-path=\"url(#clip842)\" cx=\"1153.87\" cy=\"1353.33\" r=\"14.4\" fill=\"#e26f46\" fill-rule=\"evenodd\" fill-opacity=\"1\" stroke=\"#000000\" stroke-opacity=\"1\" stroke-width=\"3.2\"/>\n",
       "<circle clip-path=\"url(#clip842)\" cx=\"1186.07\" cy=\"117.092\" r=\"14.4\" fill=\"#e26f46\" fill-rule=\"evenodd\" fill-opacity=\"1\" stroke=\"#000000\" stroke-opacity=\"1\" stroke-width=\"3.2\"/>\n",
       "<circle clip-path=\"url(#clip842)\" cx=\"2035.93\" cy=\"117.092\" r=\"14.4\" fill=\"#e26f46\" fill-rule=\"evenodd\" fill-opacity=\"1\" stroke=\"#000000\" stroke-opacity=\"1\" stroke-width=\"3.2\"/>\n",
       "<circle clip-path=\"url(#clip842)\" cx=\"1445.43\" cy=\"1353.33\" r=\"14.4\" fill=\"#e26f46\" fill-rule=\"evenodd\" fill-opacity=\"1\" stroke=\"#000000\" stroke-opacity=\"1\" stroke-width=\"3.2\"/>\n",
       "<circle clip-path=\"url(#clip842)\" cx=\"1347.66\" cy=\"1353.33\" r=\"14.4\" fill=\"#e26f46\" fill-rule=\"evenodd\" fill-opacity=\"1\" stroke=\"#000000\" stroke-opacity=\"1\" stroke-width=\"3.2\"/>\n",
       "<circle clip-path=\"url(#clip842)\" cx=\"1415.44\" cy=\"117.092\" r=\"14.4\" fill=\"#e26f46\" fill-rule=\"evenodd\" fill-opacity=\"1\" stroke=\"#000000\" stroke-opacity=\"1\" stroke-width=\"3.2\"/>\n",
       "<circle clip-path=\"url(#clip842)\" cx=\"1323.95\" cy=\"117.092\" r=\"14.4\" fill=\"#e26f46\" fill-rule=\"evenodd\" fill-opacity=\"1\" stroke=\"#000000\" stroke-opacity=\"1\" stroke-width=\"3.2\"/>\n",
       "<circle clip-path=\"url(#clip842)\" cx=\"2035.93\" cy=\"117.092\" r=\"14.4\" fill=\"#e26f46\" fill-rule=\"evenodd\" fill-opacity=\"1\" stroke=\"#000000\" stroke-opacity=\"1\" stroke-width=\"3.2\"/>\n",
       "<circle clip-path=\"url(#clip842)\" cx=\"1513.45\" cy=\"1353.33\" r=\"14.4\" fill=\"#e26f46\" fill-rule=\"evenodd\" fill-opacity=\"1\" stroke=\"#000000\" stroke-opacity=\"1\" stroke-width=\"3.2\"/>\n",
       "<circle clip-path=\"url(#clip842)\" cx=\"2035.93\" cy=\"1353.33\" r=\"14.4\" fill=\"#e26f46\" fill-rule=\"evenodd\" fill-opacity=\"1\" stroke=\"#000000\" stroke-opacity=\"1\" stroke-width=\"3.2\"/>\n",
       "<circle clip-path=\"url(#clip842)\" cx=\"1266.07\" cy=\"1353.33\" r=\"14.4\" fill=\"#e26f46\" fill-rule=\"evenodd\" fill-opacity=\"1\" stroke=\"#000000\" stroke-opacity=\"1\" stroke-width=\"3.2\"/>\n",
       "<circle clip-path=\"url(#clip842)\" cx=\"2035.93\" cy=\"1353.33\" r=\"14.4\" fill=\"#e26f46\" fill-rule=\"evenodd\" fill-opacity=\"1\" stroke=\"#000000\" stroke-opacity=\"1\" stroke-width=\"3.2\"/>\n",
       "<circle clip-path=\"url(#clip842)\" cx=\"1143.4\" cy=\"117.092\" r=\"14.4\" fill=\"#e26f46\" fill-rule=\"evenodd\" fill-opacity=\"1\" stroke=\"#000000\" stroke-opacity=\"1\" stroke-width=\"3.2\"/>\n",
       "<circle clip-path=\"url(#clip842)\" cx=\"1227.7\" cy=\"117.092\" r=\"14.4\" fill=\"#e26f46\" fill-rule=\"evenodd\" fill-opacity=\"1\" stroke=\"#000000\" stroke-opacity=\"1\" stroke-width=\"3.2\"/>\n",
       "<circle clip-path=\"url(#clip842)\" cx=\"334.032\" cy=\"117.092\" r=\"14.4\" fill=\"#e26f46\" fill-rule=\"evenodd\" fill-opacity=\"1\" stroke=\"#000000\" stroke-opacity=\"1\" stroke-width=\"3.2\"/>\n",
       "<circle clip-path=\"url(#clip842)\" cx=\"2035.93\" cy=\"1353.33\" r=\"14.4\" fill=\"#e26f46\" fill-rule=\"evenodd\" fill-opacity=\"1\" stroke=\"#000000\" stroke-opacity=\"1\" stroke-width=\"3.2\"/>\n",
       "<circle clip-path=\"url(#clip842)\" cx=\"334.032\" cy=\"117.092\" r=\"14.4\" fill=\"#e26f46\" fill-rule=\"evenodd\" fill-opacity=\"1\" stroke=\"#000000\" stroke-opacity=\"1\" stroke-width=\"3.2\"/>\n",
       "<circle clip-path=\"url(#clip842)\" cx=\"334.032\" cy=\"1353.33\" r=\"14.4\" fill=\"#e26f46\" fill-rule=\"evenodd\" fill-opacity=\"1\" stroke=\"#000000\" stroke-opacity=\"1\" stroke-width=\"3.2\"/>\n",
       "<circle clip-path=\"url(#clip842)\" cx=\"334.032\" cy=\"1353.33\" r=\"14.4\" fill=\"#e26f46\" fill-rule=\"evenodd\" fill-opacity=\"1\" stroke=\"#000000\" stroke-opacity=\"1\" stroke-width=\"3.2\"/>\n",
       "<circle clip-path=\"url(#clip842)\" cx=\"2035.93\" cy=\"117.092\" r=\"14.4\" fill=\"#e26f46\" fill-rule=\"evenodd\" fill-opacity=\"1\" stroke=\"#000000\" stroke-opacity=\"1\" stroke-width=\"3.2\"/>\n",
       "<circle clip-path=\"url(#clip842)\" cx=\"2035.93\" cy=\"117.092\" r=\"14.4\" fill=\"#e26f46\" fill-rule=\"evenodd\" fill-opacity=\"1\" stroke=\"#000000\" stroke-opacity=\"1\" stroke-width=\"3.2\"/>\n",
       "<circle clip-path=\"url(#clip842)\" cx=\"2035.93\" cy=\"1353.33\" r=\"14.4\" fill=\"#e26f46\" fill-rule=\"evenodd\" fill-opacity=\"1\" stroke=\"#000000\" stroke-opacity=\"1\" stroke-width=\"3.2\"/>\n",
       "<circle clip-path=\"url(#clip842)\" cx=\"2035.93\" cy=\"1353.33\" r=\"14.4\" fill=\"#e26f46\" fill-rule=\"evenodd\" fill-opacity=\"1\" stroke=\"#000000\" stroke-opacity=\"1\" stroke-width=\"3.2\"/>\n",
       "<circle clip-path=\"url(#clip842)\" cx=\"2035.93\" cy=\"1353.33\" r=\"14.4\" fill=\"#e26f46\" fill-rule=\"evenodd\" fill-opacity=\"1\" stroke=\"#000000\" stroke-opacity=\"1\" stroke-width=\"3.2\"/>\n",
       "<circle clip-path=\"url(#clip842)\" cx=\"1038.46\" cy=\"117.092\" r=\"14.4\" fill=\"#e26f46\" fill-rule=\"evenodd\" fill-opacity=\"1\" stroke=\"#000000\" stroke-opacity=\"1\" stroke-width=\"3.2\"/>\n",
       "<circle clip-path=\"url(#clip842)\" cx=\"1310.63\" cy=\"1353.33\" r=\"14.4\" fill=\"#e26f46\" fill-rule=\"evenodd\" fill-opacity=\"1\" stroke=\"#000000\" stroke-opacity=\"1\" stroke-width=\"3.2\"/>\n",
       "<circle clip-path=\"url(#clip842)\" cx=\"2035.93\" cy=\"1353.33\" r=\"14.4\" fill=\"#e26f46\" fill-rule=\"evenodd\" fill-opacity=\"1\" stroke=\"#000000\" stroke-opacity=\"1\" stroke-width=\"3.2\"/>\n",
       "<circle clip-path=\"url(#clip842)\" cx=\"1658.43\" cy=\"1353.33\" r=\"14.4\" fill=\"#e26f46\" fill-rule=\"evenodd\" fill-opacity=\"1\" stroke=\"#000000\" stroke-opacity=\"1\" stroke-width=\"3.2\"/>\n",
       "<circle clip-path=\"url(#clip842)\" cx=\"2035.93\" cy=\"1353.33\" r=\"14.4\" fill=\"#e26f46\" fill-rule=\"evenodd\" fill-opacity=\"1\" stroke=\"#000000\" stroke-opacity=\"1\" stroke-width=\"3.2\"/>\n",
       "<circle clip-path=\"url(#clip842)\" cx=\"2035.93\" cy=\"1353.33\" r=\"14.4\" fill=\"#e26f46\" fill-rule=\"evenodd\" fill-opacity=\"1\" stroke=\"#000000\" stroke-opacity=\"1\" stroke-width=\"3.2\"/>\n",
       "<circle clip-path=\"url(#clip842)\" cx=\"2035.93\" cy=\"1353.33\" r=\"14.4\" fill=\"#e26f46\" fill-rule=\"evenodd\" fill-opacity=\"1\" stroke=\"#000000\" stroke-opacity=\"1\" stroke-width=\"3.2\"/>\n",
       "<circle clip-path=\"url(#clip842)\" cx=\"1602.21\" cy=\"117.092\" r=\"14.4\" fill=\"#e26f46\" fill-rule=\"evenodd\" fill-opacity=\"1\" stroke=\"#000000\" stroke-opacity=\"1\" stroke-width=\"3.2\"/>\n",
       "<circle clip-path=\"url(#clip842)\" cx=\"2035.93\" cy=\"117.092\" r=\"14.4\" fill=\"#e26f46\" fill-rule=\"evenodd\" fill-opacity=\"1\" stroke=\"#000000\" stroke-opacity=\"1\" stroke-width=\"3.2\"/>\n",
       "<circle clip-path=\"url(#clip842)\" cx=\"2035.93\" cy=\"1353.33\" r=\"14.4\" fill=\"#e26f46\" fill-rule=\"evenodd\" fill-opacity=\"1\" stroke=\"#000000\" stroke-opacity=\"1\" stroke-width=\"3.2\"/>\n",
       "<circle clip-path=\"url(#clip842)\" cx=\"1346.38\" cy=\"117.092\" r=\"14.4\" fill=\"#e26f46\" fill-rule=\"evenodd\" fill-opacity=\"1\" stroke=\"#000000\" stroke-opacity=\"1\" stroke-width=\"3.2\"/>\n",
       "<circle clip-path=\"url(#clip842)\" cx=\"2035.93\" cy=\"1353.33\" r=\"14.4\" fill=\"#e26f46\" fill-rule=\"evenodd\" fill-opacity=\"1\" stroke=\"#000000\" stroke-opacity=\"1\" stroke-width=\"3.2\"/>\n",
       "<circle clip-path=\"url(#clip842)\" cx=\"2035.93\" cy=\"1353.33\" r=\"14.4\" fill=\"#e26f46\" fill-rule=\"evenodd\" fill-opacity=\"1\" stroke=\"#000000\" stroke-opacity=\"1\" stroke-width=\"3.2\"/>\n",
       "<circle clip-path=\"url(#clip842)\" cx=\"1162.41\" cy=\"117.092\" r=\"14.4\" fill=\"#e26f46\" fill-rule=\"evenodd\" fill-opacity=\"1\" stroke=\"#000000\" stroke-opacity=\"1\" stroke-width=\"3.2\"/>\n",
       "<circle clip-path=\"url(#clip842)\" cx=\"334.032\" cy=\"1353.33\" r=\"14.4\" fill=\"#e26f46\" fill-rule=\"evenodd\" fill-opacity=\"1\" stroke=\"#000000\" stroke-opacity=\"1\" stroke-width=\"3.2\"/>\n",
       "<circle clip-path=\"url(#clip842)\" cx=\"1635.52\" cy=\"1353.33\" r=\"14.4\" fill=\"#e26f46\" fill-rule=\"evenodd\" fill-opacity=\"1\" stroke=\"#000000\" stroke-opacity=\"1\" stroke-width=\"3.2\"/>\n",
       "<circle clip-path=\"url(#clip842)\" cx=\"2035.93\" cy=\"1353.33\" r=\"14.4\" fill=\"#e26f46\" fill-rule=\"evenodd\" fill-opacity=\"1\" stroke=\"#000000\" stroke-opacity=\"1\" stroke-width=\"3.2\"/>\n",
       "<circle clip-path=\"url(#clip842)\" cx=\"2035.93\" cy=\"1353.33\" r=\"14.4\" fill=\"#e26f46\" fill-rule=\"evenodd\" fill-opacity=\"1\" stroke=\"#000000\" stroke-opacity=\"1\" stroke-width=\"3.2\"/>\n",
       "<circle clip-path=\"url(#clip842)\" cx=\"2035.93\" cy=\"1353.33\" r=\"14.4\" fill=\"#e26f46\" fill-rule=\"evenodd\" fill-opacity=\"1\" stroke=\"#000000\" stroke-opacity=\"1\" stroke-width=\"3.2\"/>\n",
       "<circle clip-path=\"url(#clip842)\" cx=\"2035.93\" cy=\"117.092\" r=\"14.4\" fill=\"#e26f46\" fill-rule=\"evenodd\" fill-opacity=\"1\" stroke=\"#000000\" stroke-opacity=\"1\" stroke-width=\"3.2\"/>\n",
       "<circle clip-path=\"url(#clip842)\" cx=\"2035.93\" cy=\"1353.33\" r=\"14.4\" fill=\"#e26f46\" fill-rule=\"evenodd\" fill-opacity=\"1\" stroke=\"#000000\" stroke-opacity=\"1\" stroke-width=\"3.2\"/>\n",
       "<circle clip-path=\"url(#clip842)\" cx=\"925.76\" cy=\"117.092\" r=\"14.4\" fill=\"#e26f46\" fill-rule=\"evenodd\" fill-opacity=\"1\" stroke=\"#000000\" stroke-opacity=\"1\" stroke-width=\"3.2\"/>\n",
       "<circle clip-path=\"url(#clip842)\" cx=\"334.032\" cy=\"1353.33\" r=\"14.4\" fill=\"#e26f46\" fill-rule=\"evenodd\" fill-opacity=\"1\" stroke=\"#000000\" stroke-opacity=\"1\" stroke-width=\"3.2\"/>\n",
       "<circle clip-path=\"url(#clip842)\" cx=\"334.032\" cy=\"117.092\" r=\"14.4\" fill=\"#e26f46\" fill-rule=\"evenodd\" fill-opacity=\"1\" stroke=\"#000000\" stroke-opacity=\"1\" stroke-width=\"3.2\"/>\n",
       "<circle clip-path=\"url(#clip842)\" cx=\"1461.3\" cy=\"117.092\" r=\"14.4\" fill=\"#e26f46\" fill-rule=\"evenodd\" fill-opacity=\"1\" stroke=\"#000000\" stroke-opacity=\"1\" stroke-width=\"3.2\"/>\n",
       "<circle clip-path=\"url(#clip842)\" cx=\"334.032\" cy=\"117.092\" r=\"14.4\" fill=\"#e26f46\" fill-rule=\"evenodd\" fill-opacity=\"1\" stroke=\"#000000\" stroke-opacity=\"1\" stroke-width=\"3.2\"/>\n",
       "<circle clip-path=\"url(#clip842)\" cx=\"2035.93\" cy=\"1353.33\" r=\"14.4\" fill=\"#e26f46\" fill-rule=\"evenodd\" fill-opacity=\"1\" stroke=\"#000000\" stroke-opacity=\"1\" stroke-width=\"3.2\"/>\n",
       "<circle clip-path=\"url(#clip842)\" cx=\"2035.93\" cy=\"1353.33\" r=\"14.4\" fill=\"#e26f46\" fill-rule=\"evenodd\" fill-opacity=\"1\" stroke=\"#000000\" stroke-opacity=\"1\" stroke-width=\"3.2\"/>\n",
       "<circle clip-path=\"url(#clip842)\" cx=\"2035.93\" cy=\"117.092\" r=\"14.4\" fill=\"#e26f46\" fill-rule=\"evenodd\" fill-opacity=\"1\" stroke=\"#000000\" stroke-opacity=\"1\" stroke-width=\"3.2\"/>\n",
       "<circle clip-path=\"url(#clip842)\" cx=\"2035.93\" cy=\"1353.33\" r=\"14.4\" fill=\"#e26f46\" fill-rule=\"evenodd\" fill-opacity=\"1\" stroke=\"#000000\" stroke-opacity=\"1\" stroke-width=\"3.2\"/>\n",
       "<circle clip-path=\"url(#clip842)\" cx=\"334.032\" cy=\"117.092\" r=\"14.4\" fill=\"#e26f46\" fill-rule=\"evenodd\" fill-opacity=\"1\" stroke=\"#000000\" stroke-opacity=\"1\" stroke-width=\"3.2\"/>\n",
       "<circle clip-path=\"url(#clip842)\" cx=\"1588.34\" cy=\"117.092\" r=\"14.4\" fill=\"#e26f46\" fill-rule=\"evenodd\" fill-opacity=\"1\" stroke=\"#000000\" stroke-opacity=\"1\" stroke-width=\"3.2\"/>\n",
       "<circle clip-path=\"url(#clip842)\" cx=\"2035.93\" cy=\"117.092\" r=\"14.4\" fill=\"#e26f46\" fill-rule=\"evenodd\" fill-opacity=\"1\" stroke=\"#000000\" stroke-opacity=\"1\" stroke-width=\"3.2\"/>\n",
       "<circle clip-path=\"url(#clip842)\" cx=\"2035.93\" cy=\"117.092\" r=\"14.4\" fill=\"#e26f46\" fill-rule=\"evenodd\" fill-opacity=\"1\" stroke=\"#000000\" stroke-opacity=\"1\" stroke-width=\"3.2\"/>\n",
       "<circle clip-path=\"url(#clip842)\" cx=\"1200.22\" cy=\"117.092\" r=\"14.4\" fill=\"#e26f46\" fill-rule=\"evenodd\" fill-opacity=\"1\" stroke=\"#000000\" stroke-opacity=\"1\" stroke-width=\"3.2\"/>\n",
       "<circle clip-path=\"url(#clip842)\" cx=\"334.032\" cy=\"1353.33\" r=\"14.4\" fill=\"#e26f46\" fill-rule=\"evenodd\" fill-opacity=\"1\" stroke=\"#000000\" stroke-opacity=\"1\" stroke-width=\"3.2\"/>\n",
       "<circle clip-path=\"url(#clip842)\" cx=\"2035.93\" cy=\"117.092\" r=\"14.4\" fill=\"#e26f46\" fill-rule=\"evenodd\" fill-opacity=\"1\" stroke=\"#000000\" stroke-opacity=\"1\" stroke-width=\"3.2\"/>\n",
       "<circle clip-path=\"url(#clip842)\" cx=\"2035.93\" cy=\"1353.33\" r=\"14.4\" fill=\"#e26f46\" fill-rule=\"evenodd\" fill-opacity=\"1\" stroke=\"#000000\" stroke-opacity=\"1\" stroke-width=\"3.2\"/>\n",
       "<circle clip-path=\"url(#clip842)\" cx=\"334.032\" cy=\"117.092\" r=\"14.4\" fill=\"#e26f46\" fill-rule=\"evenodd\" fill-opacity=\"1\" stroke=\"#000000\" stroke-opacity=\"1\" stroke-width=\"3.2\"/>\n",
       "<circle clip-path=\"url(#clip842)\" cx=\"2035.93\" cy=\"117.092\" r=\"14.4\" fill=\"#e26f46\" fill-rule=\"evenodd\" fill-opacity=\"1\" stroke=\"#000000\" stroke-opacity=\"1\" stroke-width=\"3.2\"/>\n",
       "<circle clip-path=\"url(#clip842)\" cx=\"334.032\" cy=\"117.092\" r=\"14.4\" fill=\"#e26f46\" fill-rule=\"evenodd\" fill-opacity=\"1\" stroke=\"#000000\" stroke-opacity=\"1\" stroke-width=\"3.2\"/>\n",
       "<circle clip-path=\"url(#clip842)\" cx=\"334.032\" cy=\"1353.33\" r=\"14.4\" fill=\"#e26f46\" fill-rule=\"evenodd\" fill-opacity=\"1\" stroke=\"#000000\" stroke-opacity=\"1\" stroke-width=\"3.2\"/>\n",
       "<circle clip-path=\"url(#clip842)\" cx=\"334.032\" cy=\"1353.33\" r=\"14.4\" fill=\"#e26f46\" fill-rule=\"evenodd\" fill-opacity=\"1\" stroke=\"#000000\" stroke-opacity=\"1\" stroke-width=\"3.2\"/>\n",
       "<circle clip-path=\"url(#clip842)\" cx=\"2035.93\" cy=\"117.092\" r=\"14.4\" fill=\"#e26f46\" fill-rule=\"evenodd\" fill-opacity=\"1\" stroke=\"#000000\" stroke-opacity=\"1\" stroke-width=\"3.2\"/>\n",
       "<circle clip-path=\"url(#clip842)\" cx=\"2035.93\" cy=\"117.092\" r=\"14.4\" fill=\"#e26f46\" fill-rule=\"evenodd\" fill-opacity=\"1\" stroke=\"#000000\" stroke-opacity=\"1\" stroke-width=\"3.2\"/>\n",
       "<circle clip-path=\"url(#clip842)\" cx=\"1434.06\" cy=\"1353.33\" r=\"14.4\" fill=\"#e26f46\" fill-rule=\"evenodd\" fill-opacity=\"1\" stroke=\"#000000\" stroke-opacity=\"1\" stroke-width=\"3.2\"/>\n",
       "<circle clip-path=\"url(#clip842)\" cx=\"1259.63\" cy=\"117.092\" r=\"14.4\" fill=\"#e26f46\" fill-rule=\"evenodd\" fill-opacity=\"1\" stroke=\"#000000\" stroke-opacity=\"1\" stroke-width=\"3.2\"/>\n",
       "<circle clip-path=\"url(#clip842)\" cx=\"334.032\" cy=\"117.092\" r=\"14.4\" fill=\"#e26f46\" fill-rule=\"evenodd\" fill-opacity=\"1\" stroke=\"#000000\" stroke-opacity=\"1\" stroke-width=\"3.2\"/>\n",
       "<circle clip-path=\"url(#clip842)\" cx=\"2035.93\" cy=\"117.092\" r=\"14.4\" fill=\"#e26f46\" fill-rule=\"evenodd\" fill-opacity=\"1\" stroke=\"#000000\" stroke-opacity=\"1\" stroke-width=\"3.2\"/>\n",
       "<circle clip-path=\"url(#clip842)\" cx=\"2035.93\" cy=\"117.092\" r=\"14.4\" fill=\"#e26f46\" fill-rule=\"evenodd\" fill-opacity=\"1\" stroke=\"#000000\" stroke-opacity=\"1\" stroke-width=\"3.2\"/>\n",
       "<circle clip-path=\"url(#clip842)\" cx=\"2035.93\" cy=\"1353.33\" r=\"14.4\" fill=\"#e26f46\" fill-rule=\"evenodd\" fill-opacity=\"1\" stroke=\"#000000\" stroke-opacity=\"1\" stroke-width=\"3.2\"/>\n",
       "<circle clip-path=\"url(#clip842)\" cx=\"2035.93\" cy=\"1353.33\" r=\"14.4\" fill=\"#e26f46\" fill-rule=\"evenodd\" fill-opacity=\"1\" stroke=\"#000000\" stroke-opacity=\"1\" stroke-width=\"3.2\"/>\n",
       "<circle clip-path=\"url(#clip842)\" cx=\"1468.77\" cy=\"117.092\" r=\"14.4\" fill=\"#e26f46\" fill-rule=\"evenodd\" fill-opacity=\"1\" stroke=\"#000000\" stroke-opacity=\"1\" stroke-width=\"3.2\"/>\n",
       "<circle clip-path=\"url(#clip842)\" cx=\"2035.93\" cy=\"117.092\" r=\"14.4\" fill=\"#e26f46\" fill-rule=\"evenodd\" fill-opacity=\"1\" stroke=\"#000000\" stroke-opacity=\"1\" stroke-width=\"3.2\"/>\n",
       "<circle clip-path=\"url(#clip842)\" cx=\"2035.93\" cy=\"1353.33\" r=\"14.4\" fill=\"#e26f46\" fill-rule=\"evenodd\" fill-opacity=\"1\" stroke=\"#000000\" stroke-opacity=\"1\" stroke-width=\"3.2\"/>\n",
       "<circle clip-path=\"url(#clip842)\" cx=\"2035.93\" cy=\"117.092\" r=\"14.4\" fill=\"#e26f46\" fill-rule=\"evenodd\" fill-opacity=\"1\" stroke=\"#000000\" stroke-opacity=\"1\" stroke-width=\"3.2\"/>\n",
       "<circle clip-path=\"url(#clip842)\" cx=\"1585.89\" cy=\"117.092\" r=\"14.4\" fill=\"#e26f46\" fill-rule=\"evenodd\" fill-opacity=\"1\" stroke=\"#000000\" stroke-opacity=\"1\" stroke-width=\"3.2\"/>\n",
       "<circle clip-path=\"url(#clip842)\" cx=\"2035.93\" cy=\"117.092\" r=\"14.4\" fill=\"#e26f46\" fill-rule=\"evenodd\" fill-opacity=\"1\" stroke=\"#000000\" stroke-opacity=\"1\" stroke-width=\"3.2\"/>\n",
       "<circle clip-path=\"url(#clip842)\" cx=\"334.032\" cy=\"117.092\" r=\"14.4\" fill=\"#e26f46\" fill-rule=\"evenodd\" fill-opacity=\"1\" stroke=\"#000000\" stroke-opacity=\"1\" stroke-width=\"3.2\"/>\n",
       "<circle clip-path=\"url(#clip842)\" cx=\"1501.93\" cy=\"1353.33\" r=\"14.4\" fill=\"#e26f46\" fill-rule=\"evenodd\" fill-opacity=\"1\" stroke=\"#000000\" stroke-opacity=\"1\" stroke-width=\"3.2\"/>\n",
       "<circle clip-path=\"url(#clip842)\" cx=\"1483.46\" cy=\"117.092\" r=\"14.4\" fill=\"#e26f46\" fill-rule=\"evenodd\" fill-opacity=\"1\" stroke=\"#000000\" stroke-opacity=\"1\" stroke-width=\"3.2\"/>\n",
       "<circle clip-path=\"url(#clip842)\" cx=\"1505.8\" cy=\"117.092\" r=\"14.4\" fill=\"#e26f46\" fill-rule=\"evenodd\" fill-opacity=\"1\" stroke=\"#000000\" stroke-opacity=\"1\" stroke-width=\"3.2\"/>\n",
       "<circle clip-path=\"url(#clip842)\" cx=\"2035.93\" cy=\"117.092\" r=\"14.4\" fill=\"#e26f46\" fill-rule=\"evenodd\" fill-opacity=\"1\" stroke=\"#000000\" stroke-opacity=\"1\" stroke-width=\"3.2\"/>\n",
       "<circle clip-path=\"url(#clip842)\" cx=\"334.032\" cy=\"117.092\" r=\"14.4\" fill=\"#e26f46\" fill-rule=\"evenodd\" fill-opacity=\"1\" stroke=\"#000000\" stroke-opacity=\"1\" stroke-width=\"3.2\"/>\n",
       "<circle clip-path=\"url(#clip842)\" cx=\"1496.59\" cy=\"117.092\" r=\"14.4\" fill=\"#e26f46\" fill-rule=\"evenodd\" fill-opacity=\"1\" stroke=\"#000000\" stroke-opacity=\"1\" stroke-width=\"3.2\"/>\n",
       "<circle clip-path=\"url(#clip842)\" cx=\"1384.26\" cy=\"117.092\" r=\"14.4\" fill=\"#e26f46\" fill-rule=\"evenodd\" fill-opacity=\"1\" stroke=\"#000000\" stroke-opacity=\"1\" stroke-width=\"3.2\"/>\n",
       "<circle clip-path=\"url(#clip842)\" cx=\"1040.48\" cy=\"117.092\" r=\"14.4\" fill=\"#e26f46\" fill-rule=\"evenodd\" fill-opacity=\"1\" stroke=\"#000000\" stroke-opacity=\"1\" stroke-width=\"3.2\"/>\n",
       "<circle clip-path=\"url(#clip842)\" cx=\"1473.06\" cy=\"1353.33\" r=\"14.4\" fill=\"#e26f46\" fill-rule=\"evenodd\" fill-opacity=\"1\" stroke=\"#000000\" stroke-opacity=\"1\" stroke-width=\"3.2\"/>\n",
       "<circle clip-path=\"url(#clip842)\" cx=\"1482.59\" cy=\"1353.33\" r=\"14.4\" fill=\"#e26f46\" fill-rule=\"evenodd\" fill-opacity=\"1\" stroke=\"#000000\" stroke-opacity=\"1\" stroke-width=\"3.2\"/>\n",
       "<circle clip-path=\"url(#clip842)\" cx=\"334.032\" cy=\"117.092\" r=\"14.4\" fill=\"#e26f46\" fill-rule=\"evenodd\" fill-opacity=\"1\" stroke=\"#000000\" stroke-opacity=\"1\" stroke-width=\"3.2\"/>\n",
       "<circle clip-path=\"url(#clip842)\" cx=\"1534.59\" cy=\"1353.33\" r=\"14.4\" fill=\"#e26f46\" fill-rule=\"evenodd\" fill-opacity=\"1\" stroke=\"#000000\" stroke-opacity=\"1\" stroke-width=\"3.2\"/>\n",
       "<circle clip-path=\"url(#clip842)\" cx=\"1523.71\" cy=\"1353.33\" r=\"14.4\" fill=\"#e26f46\" fill-rule=\"evenodd\" fill-opacity=\"1\" stroke=\"#000000\" stroke-opacity=\"1\" stroke-width=\"3.2\"/>\n",
       "<circle clip-path=\"url(#clip842)\" cx=\"1498.37\" cy=\"117.092\" r=\"14.4\" fill=\"#e26f46\" fill-rule=\"evenodd\" fill-opacity=\"1\" stroke=\"#000000\" stroke-opacity=\"1\" stroke-width=\"3.2\"/>\n",
       "<circle clip-path=\"url(#clip842)\" cx=\"1522.79\" cy=\"1353.33\" r=\"14.4\" fill=\"#e26f46\" fill-rule=\"evenodd\" fill-opacity=\"1\" stroke=\"#000000\" stroke-opacity=\"1\" stroke-width=\"3.2\"/>\n",
       "<circle clip-path=\"url(#clip842)\" cx=\"1517.18\" cy=\"1353.33\" r=\"14.4\" fill=\"#e26f46\" fill-rule=\"evenodd\" fill-opacity=\"1\" stroke=\"#000000\" stroke-opacity=\"1\" stroke-width=\"3.2\"/>\n",
       "<circle clip-path=\"url(#clip842)\" cx=\"334.032\" cy=\"1353.33\" r=\"14.4\" fill=\"#e26f46\" fill-rule=\"evenodd\" fill-opacity=\"1\" stroke=\"#000000\" stroke-opacity=\"1\" stroke-width=\"3.2\"/>\n",
       "<circle clip-path=\"url(#clip842)\" cx=\"1222.52\" cy=\"1353.33\" r=\"14.4\" fill=\"#e26f46\" fill-rule=\"evenodd\" fill-opacity=\"1\" stroke=\"#000000\" stroke-opacity=\"1\" stroke-width=\"3.2\"/>\n",
       "<circle clip-path=\"url(#clip842)\" cx=\"2035.93\" cy=\"117.092\" r=\"14.4\" fill=\"#e26f46\" fill-rule=\"evenodd\" fill-opacity=\"1\" stroke=\"#000000\" stroke-opacity=\"1\" stroke-width=\"3.2\"/>\n",
       "<circle clip-path=\"url(#clip842)\" cx=\"1435.59\" cy=\"117.092\" r=\"14.4\" fill=\"#e26f46\" fill-rule=\"evenodd\" fill-opacity=\"1\" stroke=\"#000000\" stroke-opacity=\"1\" stroke-width=\"3.2\"/>\n",
       "<circle clip-path=\"url(#clip842)\" cx=\"1175.9\" cy=\"1353.33\" r=\"14.4\" fill=\"#e26f46\" fill-rule=\"evenodd\" fill-opacity=\"1\" stroke=\"#000000\" stroke-opacity=\"1\" stroke-width=\"3.2\"/>\n",
       "<circle clip-path=\"url(#clip842)\" cx=\"1574.1\" cy=\"1353.33\" r=\"14.4\" fill=\"#e26f46\" fill-rule=\"evenodd\" fill-opacity=\"1\" stroke=\"#000000\" stroke-opacity=\"1\" stroke-width=\"3.2\"/>\n",
       "<circle clip-path=\"url(#clip842)\" cx=\"1557.16\" cy=\"1353.33\" r=\"14.4\" fill=\"#e26f46\" fill-rule=\"evenodd\" fill-opacity=\"1\" stroke=\"#000000\" stroke-opacity=\"1\" stroke-width=\"3.2\"/>\n",
       "<circle clip-path=\"url(#clip842)\" cx=\"1452.88\" cy=\"1353.33\" r=\"14.4\" fill=\"#e26f46\" fill-rule=\"evenodd\" fill-opacity=\"1\" stroke=\"#000000\" stroke-opacity=\"1\" stroke-width=\"3.2\"/>\n",
       "<circle clip-path=\"url(#clip842)\" cx=\"1453.03\" cy=\"117.092\" r=\"14.4\" fill=\"#e26f46\" fill-rule=\"evenodd\" fill-opacity=\"1\" stroke=\"#000000\" stroke-opacity=\"1\" stroke-width=\"3.2\"/>\n",
       "<circle clip-path=\"url(#clip842)\" cx=\"1264.03\" cy=\"1353.33\" r=\"14.4\" fill=\"#e26f46\" fill-rule=\"evenodd\" fill-opacity=\"1\" stroke=\"#000000\" stroke-opacity=\"1\" stroke-width=\"3.2\"/>\n",
       "<circle clip-path=\"url(#clip842)\" cx=\"1599.24\" cy=\"1353.33\" r=\"14.4\" fill=\"#e26f46\" fill-rule=\"evenodd\" fill-opacity=\"1\" stroke=\"#000000\" stroke-opacity=\"1\" stroke-width=\"3.2\"/>\n",
       "<circle clip-path=\"url(#clip842)\" cx=\"1564.64\" cy=\"1353.33\" r=\"14.4\" fill=\"#e26f46\" fill-rule=\"evenodd\" fill-opacity=\"1\" stroke=\"#000000\" stroke-opacity=\"1\" stroke-width=\"3.2\"/>\n",
       "<circle clip-path=\"url(#clip842)\" cx=\"1571.99\" cy=\"117.092\" r=\"14.4\" fill=\"#e26f46\" fill-rule=\"evenodd\" fill-opacity=\"1\" stroke=\"#000000\" stroke-opacity=\"1\" stroke-width=\"3.2\"/>\n",
       "<circle clip-path=\"url(#clip842)\" cx=\"1551.01\" cy=\"117.092\" r=\"14.4\" fill=\"#e26f46\" fill-rule=\"evenodd\" fill-opacity=\"1\" stroke=\"#000000\" stroke-opacity=\"1\" stroke-width=\"3.2\"/>\n",
       "<circle clip-path=\"url(#clip842)\" cx=\"1461.65\" cy=\"1353.33\" r=\"14.4\" fill=\"#e26f46\" fill-rule=\"evenodd\" fill-opacity=\"1\" stroke=\"#000000\" stroke-opacity=\"1\" stroke-width=\"3.2\"/>\n",
       "<circle clip-path=\"url(#clip842)\" cx=\"1405.19\" cy=\"117.092\" r=\"14.4\" fill=\"#e26f46\" fill-rule=\"evenodd\" fill-opacity=\"1\" stroke=\"#000000\" stroke-opacity=\"1\" stroke-width=\"3.2\"/>\n",
       "<circle clip-path=\"url(#clip842)\" cx=\"1533.03\" cy=\"1353.33\" r=\"14.4\" fill=\"#e26f46\" fill-rule=\"evenodd\" fill-opacity=\"1\" stroke=\"#000000\" stroke-opacity=\"1\" stroke-width=\"3.2\"/>\n",
       "<circle clip-path=\"url(#clip842)\" cx=\"1537.14\" cy=\"1353.33\" r=\"14.4\" fill=\"#e26f46\" fill-rule=\"evenodd\" fill-opacity=\"1\" stroke=\"#000000\" stroke-opacity=\"1\" stroke-width=\"3.2\"/>\n",
       "<circle clip-path=\"url(#clip842)\" cx=\"1567.89\" cy=\"1353.33\" r=\"14.4\" fill=\"#e26f46\" fill-rule=\"evenodd\" fill-opacity=\"1\" stroke=\"#000000\" stroke-opacity=\"1\" stroke-width=\"3.2\"/>\n",
       "<circle clip-path=\"url(#clip842)\" cx=\"1513.93\" cy=\"1353.33\" r=\"14.4\" fill=\"#e26f46\" fill-rule=\"evenodd\" fill-opacity=\"1\" stroke=\"#000000\" stroke-opacity=\"1\" stroke-width=\"3.2\"/>\n",
       "<circle clip-path=\"url(#clip842)\" cx=\"1134.91\" cy=\"1353.33\" r=\"14.4\" fill=\"#e26f46\" fill-rule=\"evenodd\" fill-opacity=\"1\" stroke=\"#000000\" stroke-opacity=\"1\" stroke-width=\"3.2\"/>\n",
       "<circle clip-path=\"url(#clip842)\" cx=\"1564.84\" cy=\"1353.33\" r=\"14.4\" fill=\"#e26f46\" fill-rule=\"evenodd\" fill-opacity=\"1\" stroke=\"#000000\" stroke-opacity=\"1\" stroke-width=\"3.2\"/>\n",
       "<circle clip-path=\"url(#clip842)\" cx=\"1584.96\" cy=\"1353.33\" r=\"14.4\" fill=\"#e26f46\" fill-rule=\"evenodd\" fill-opacity=\"1\" stroke=\"#000000\" stroke-opacity=\"1\" stroke-width=\"3.2\"/>\n",
       "<circle clip-path=\"url(#clip842)\" cx=\"1587.13\" cy=\"117.092\" r=\"14.4\" fill=\"#e26f46\" fill-rule=\"evenodd\" fill-opacity=\"1\" stroke=\"#000000\" stroke-opacity=\"1\" stroke-width=\"3.2\"/>\n",
       "<circle clip-path=\"url(#clip842)\" cx=\"1585.64\" cy=\"117.092\" r=\"14.4\" fill=\"#e26f46\" fill-rule=\"evenodd\" fill-opacity=\"1\" stroke=\"#000000\" stroke-opacity=\"1\" stroke-width=\"3.2\"/>\n",
       "<circle clip-path=\"url(#clip842)\" cx=\"1582.11\" cy=\"1353.33\" r=\"14.4\" fill=\"#e26f46\" fill-rule=\"evenodd\" fill-opacity=\"1\" stroke=\"#000000\" stroke-opacity=\"1\" stroke-width=\"3.2\"/>\n",
       "<circle clip-path=\"url(#clip842)\" cx=\"1599.44\" cy=\"117.092\" r=\"14.4\" fill=\"#e26f46\" fill-rule=\"evenodd\" fill-opacity=\"1\" stroke=\"#000000\" stroke-opacity=\"1\" stroke-width=\"3.2\"/>\n",
       "<circle clip-path=\"url(#clip842)\" cx=\"1601.58\" cy=\"1353.33\" r=\"14.4\" fill=\"#e26f46\" fill-rule=\"evenodd\" fill-opacity=\"1\" stroke=\"#000000\" stroke-opacity=\"1\" stroke-width=\"3.2\"/>\n",
       "<circle clip-path=\"url(#clip842)\" cx=\"1590.18\" cy=\"117.092\" r=\"14.4\" fill=\"#e26f46\" fill-rule=\"evenodd\" fill-opacity=\"1\" stroke=\"#000000\" stroke-opacity=\"1\" stroke-width=\"3.2\"/>\n",
       "<circle clip-path=\"url(#clip842)\" cx=\"1596.53\" cy=\"117.092\" r=\"14.4\" fill=\"#e26f46\" fill-rule=\"evenodd\" fill-opacity=\"1\" stroke=\"#000000\" stroke-opacity=\"1\" stroke-width=\"3.2\"/>\n",
       "<circle clip-path=\"url(#clip842)\" cx=\"1578.97\" cy=\"1353.33\" r=\"14.4\" fill=\"#e26f46\" fill-rule=\"evenodd\" fill-opacity=\"1\" stroke=\"#000000\" stroke-opacity=\"1\" stroke-width=\"3.2\"/>\n",
       "<circle clip-path=\"url(#clip842)\" cx=\"1180.35\" cy=\"1353.33\" r=\"14.4\" fill=\"#e26f46\" fill-rule=\"evenodd\" fill-opacity=\"1\" stroke=\"#000000\" stroke-opacity=\"1\" stroke-width=\"3.2\"/>\n",
       "<circle clip-path=\"url(#clip842)\" cx=\"1639.33\" cy=\"1353.33\" r=\"14.4\" fill=\"#e26f46\" fill-rule=\"evenodd\" fill-opacity=\"1\" stroke=\"#000000\" stroke-opacity=\"1\" stroke-width=\"3.2\"/>\n",
       "<circle clip-path=\"url(#clip842)\" cx=\"1657.67\" cy=\"1353.33\" r=\"14.4\" fill=\"#e26f46\" fill-rule=\"evenodd\" fill-opacity=\"1\" stroke=\"#000000\" stroke-opacity=\"1\" stroke-width=\"3.2\"/>\n",
       "<circle clip-path=\"url(#clip842)\" cx=\"1563.6\" cy=\"117.092\" r=\"14.4\" fill=\"#e26f46\" fill-rule=\"evenodd\" fill-opacity=\"1\" stroke=\"#000000\" stroke-opacity=\"1\" stroke-width=\"3.2\"/>\n",
       "<circle clip-path=\"url(#clip842)\" cx=\"1637.85\" cy=\"117.092\" r=\"14.4\" fill=\"#e26f46\" fill-rule=\"evenodd\" fill-opacity=\"1\" stroke=\"#000000\" stroke-opacity=\"1\" stroke-width=\"3.2\"/>\n",
       "<circle clip-path=\"url(#clip842)\" cx=\"879.591\" cy=\"1353.33\" r=\"14.4\" fill=\"#e26f46\" fill-rule=\"evenodd\" fill-opacity=\"1\" stroke=\"#000000\" stroke-opacity=\"1\" stroke-width=\"3.2\"/>\n",
       "<circle clip-path=\"url(#clip842)\" cx=\"1644.07\" cy=\"117.092\" r=\"14.4\" fill=\"#e26f46\" fill-rule=\"evenodd\" fill-opacity=\"1\" stroke=\"#000000\" stroke-opacity=\"1\" stroke-width=\"3.2\"/>\n",
       "<circle clip-path=\"url(#clip842)\" cx=\"1628.63\" cy=\"1353.33\" r=\"14.4\" fill=\"#e26f46\" fill-rule=\"evenodd\" fill-opacity=\"1\" stroke=\"#000000\" stroke-opacity=\"1\" stroke-width=\"3.2\"/>\n",
       "<circle clip-path=\"url(#clip842)\" cx=\"799.78\" cy=\"1353.33\" r=\"14.4\" fill=\"#e26f46\" fill-rule=\"evenodd\" fill-opacity=\"1\" stroke=\"#000000\" stroke-opacity=\"1\" stroke-width=\"3.2\"/>\n",
       "<circle clip-path=\"url(#clip842)\" cx=\"1649.79\" cy=\"1353.33\" r=\"14.4\" fill=\"#e26f46\" fill-rule=\"evenodd\" fill-opacity=\"1\" stroke=\"#000000\" stroke-opacity=\"1\" stroke-width=\"3.2\"/>\n",
       "<circle clip-path=\"url(#clip842)\" cx=\"1662.59\" cy=\"1353.33\" r=\"14.4\" fill=\"#e26f46\" fill-rule=\"evenodd\" fill-opacity=\"1\" stroke=\"#000000\" stroke-opacity=\"1\" stroke-width=\"3.2\"/>\n",
       "<circle clip-path=\"url(#clip842)\" cx=\"1271.47\" cy=\"117.092\" r=\"14.4\" fill=\"#e26f46\" fill-rule=\"evenodd\" fill-opacity=\"1\" stroke=\"#000000\" stroke-opacity=\"1\" stroke-width=\"3.2\"/>\n",
       "<circle clip-path=\"url(#clip842)\" cx=\"1687.05\" cy=\"117.092\" r=\"14.4\" fill=\"#e26f46\" fill-rule=\"evenodd\" fill-opacity=\"1\" stroke=\"#000000\" stroke-opacity=\"1\" stroke-width=\"3.2\"/>\n",
       "<circle clip-path=\"url(#clip842)\" cx=\"1674.11\" cy=\"1353.33\" r=\"14.4\" fill=\"#e26f46\" fill-rule=\"evenodd\" fill-opacity=\"1\" stroke=\"#000000\" stroke-opacity=\"1\" stroke-width=\"3.2\"/>\n",
       "<circle clip-path=\"url(#clip842)\" cx=\"1565.18\" cy=\"1353.33\" r=\"14.4\" fill=\"#e26f46\" fill-rule=\"evenodd\" fill-opacity=\"1\" stroke=\"#000000\" stroke-opacity=\"1\" stroke-width=\"3.2\"/>\n",
       "<circle clip-path=\"url(#clip842)\" cx=\"1675.28\" cy=\"117.092\" r=\"14.4\" fill=\"#e26f46\" fill-rule=\"evenodd\" fill-opacity=\"1\" stroke=\"#000000\" stroke-opacity=\"1\" stroke-width=\"3.2\"/>\n",
       "<circle clip-path=\"url(#clip842)\" cx=\"1673.15\" cy=\"117.092\" r=\"14.4\" fill=\"#e26f46\" fill-rule=\"evenodd\" fill-opacity=\"1\" stroke=\"#000000\" stroke-opacity=\"1\" stroke-width=\"3.2\"/>\n",
       "<circle clip-path=\"url(#clip842)\" cx=\"1308.71\" cy=\"1353.33\" r=\"14.4\" fill=\"#e26f46\" fill-rule=\"evenodd\" fill-opacity=\"1\" stroke=\"#000000\" stroke-opacity=\"1\" stroke-width=\"3.2\"/>\n",
       "<circle clip-path=\"url(#clip842)\" cx=\"1611.93\" cy=\"1353.33\" r=\"14.4\" fill=\"#e26f46\" fill-rule=\"evenodd\" fill-opacity=\"1\" stroke=\"#000000\" stroke-opacity=\"1\" stroke-width=\"3.2\"/>\n",
       "<circle clip-path=\"url(#clip842)\" cx=\"1666.06\" cy=\"117.092\" r=\"14.4\" fill=\"#e26f46\" fill-rule=\"evenodd\" fill-opacity=\"1\" stroke=\"#000000\" stroke-opacity=\"1\" stroke-width=\"3.2\"/>\n",
       "<circle clip-path=\"url(#clip842)\" cx=\"1672.24\" cy=\"117.092\" r=\"14.4\" fill=\"#e26f46\" fill-rule=\"evenodd\" fill-opacity=\"1\" stroke=\"#000000\" stroke-opacity=\"1\" stroke-width=\"3.2\"/>\n",
       "<circle clip-path=\"url(#clip842)\" cx=\"1660.5\" cy=\"117.092\" r=\"14.4\" fill=\"#e26f46\" fill-rule=\"evenodd\" fill-opacity=\"1\" stroke=\"#000000\" stroke-opacity=\"1\" stroke-width=\"3.2\"/>\n",
       "<circle clip-path=\"url(#clip842)\" cx=\"838.785\" cy=\"117.092\" r=\"14.4\" fill=\"#e26f46\" fill-rule=\"evenodd\" fill-opacity=\"1\" stroke=\"#000000\" stroke-opacity=\"1\" stroke-width=\"3.2\"/>\n",
       "<circle clip-path=\"url(#clip842)\" cx=\"1644.07\" cy=\"117.092\" r=\"14.4\" fill=\"#e26f46\" fill-rule=\"evenodd\" fill-opacity=\"1\" stroke=\"#000000\" stroke-opacity=\"1\" stroke-width=\"3.2\"/>\n",
       "<circle clip-path=\"url(#clip842)\" cx=\"1639.92\" cy=\"117.092\" r=\"14.4\" fill=\"#e26f46\" fill-rule=\"evenodd\" fill-opacity=\"1\" stroke=\"#000000\" stroke-opacity=\"1\" stroke-width=\"3.2\"/>\n",
       "<circle clip-path=\"url(#clip842)\" cx=\"1644.26\" cy=\"1353.33\" r=\"14.4\" fill=\"#e26f46\" fill-rule=\"evenodd\" fill-opacity=\"1\" stroke=\"#000000\" stroke-opacity=\"1\" stroke-width=\"3.2\"/>\n",
       "<circle clip-path=\"url(#clip842)\" cx=\"1682.43\" cy=\"1353.33\" r=\"14.4\" fill=\"#e26f46\" fill-rule=\"evenodd\" fill-opacity=\"1\" stroke=\"#000000\" stroke-opacity=\"1\" stroke-width=\"3.2\"/>\n",
       "<circle clip-path=\"url(#clip842)\" cx=\"1619.4\" cy=\"1353.33\" r=\"14.4\" fill=\"#e26f46\" fill-rule=\"evenodd\" fill-opacity=\"1\" stroke=\"#000000\" stroke-opacity=\"1\" stroke-width=\"3.2\"/>\n",
       "<circle clip-path=\"url(#clip842)\" cx=\"889.15\" cy=\"117.092\" r=\"14.4\" fill=\"#e26f46\" fill-rule=\"evenodd\" fill-opacity=\"1\" stroke=\"#000000\" stroke-opacity=\"1\" stroke-width=\"3.2\"/>\n",
       "<circle clip-path=\"url(#clip842)\" cx=\"1624.35\" cy=\"117.092\" r=\"14.4\" fill=\"#e26f46\" fill-rule=\"evenodd\" fill-opacity=\"1\" stroke=\"#000000\" stroke-opacity=\"1\" stroke-width=\"3.2\"/>\n",
       "<circle clip-path=\"url(#clip842)\" cx=\"1219.42\" cy=\"117.092\" r=\"14.4\" fill=\"#e26f46\" fill-rule=\"evenodd\" fill-opacity=\"1\" stroke=\"#000000\" stroke-opacity=\"1\" stroke-width=\"3.2\"/>\n",
       "<circle clip-path=\"url(#clip842)\" cx=\"1095\" cy=\"117.092\" r=\"14.4\" fill=\"#e26f46\" fill-rule=\"evenodd\" fill-opacity=\"1\" stroke=\"#000000\" stroke-opacity=\"1\" stroke-width=\"3.2\"/>\n",
       "<circle clip-path=\"url(#clip842)\" cx=\"1111.44\" cy=\"117.092\" r=\"14.4\" fill=\"#e26f46\" fill-rule=\"evenodd\" fill-opacity=\"1\" stroke=\"#000000\" stroke-opacity=\"1\" stroke-width=\"3.2\"/>\n",
       "<circle clip-path=\"url(#clip842)\" cx=\"991.078\" cy=\"117.092\" r=\"14.4\" fill=\"#e26f46\" fill-rule=\"evenodd\" fill-opacity=\"1\" stroke=\"#000000\" stroke-opacity=\"1\" stroke-width=\"3.2\"/>\n",
       "<circle clip-path=\"url(#clip842)\" cx=\"869.571\" cy=\"117.092\" r=\"14.4\" fill=\"#e26f46\" fill-rule=\"evenodd\" fill-opacity=\"1\" stroke=\"#000000\" stroke-opacity=\"1\" stroke-width=\"3.2\"/>\n",
       "<circle clip-path=\"url(#clip842)\" cx=\"994.314\" cy=\"117.092\" r=\"14.4\" fill=\"#e26f46\" fill-rule=\"evenodd\" fill-opacity=\"1\" stroke=\"#000000\" stroke-opacity=\"1\" stroke-width=\"3.2\"/>\n",
       "<circle clip-path=\"url(#clip842)\" cx=\"1036.99\" cy=\"1353.33\" r=\"14.4\" fill=\"#e26f46\" fill-rule=\"evenodd\" fill-opacity=\"1\" stroke=\"#000000\" stroke-opacity=\"1\" stroke-width=\"3.2\"/>\n",
       "<circle clip-path=\"url(#clip842)\" cx=\"1083.25\" cy=\"117.092\" r=\"14.4\" fill=\"#e26f46\" fill-rule=\"evenodd\" fill-opacity=\"1\" stroke=\"#000000\" stroke-opacity=\"1\" stroke-width=\"3.2\"/>\n",
       "<circle clip-path=\"url(#clip842)\" cx=\"1143.13\" cy=\"117.092\" r=\"14.4\" fill=\"#e26f46\" fill-rule=\"evenodd\" fill-opacity=\"1\" stroke=\"#000000\" stroke-opacity=\"1\" stroke-width=\"3.2\"/>\n",
       "<circle clip-path=\"url(#clip842)\" cx=\"1084.12\" cy=\"117.092\" r=\"14.4\" fill=\"#e26f46\" fill-rule=\"evenodd\" fill-opacity=\"1\" stroke=\"#000000\" stroke-opacity=\"1\" stroke-width=\"3.2\"/>\n",
       "<circle clip-path=\"url(#clip842)\" cx=\"1241.61\" cy=\"117.092\" r=\"14.4\" fill=\"#e26f46\" fill-rule=\"evenodd\" fill-opacity=\"1\" stroke=\"#000000\" stroke-opacity=\"1\" stroke-width=\"3.2\"/>\n",
       "<circle clip-path=\"url(#clip842)\" cx=\"948.061\" cy=\"117.092\" r=\"14.4\" fill=\"#e26f46\" fill-rule=\"evenodd\" fill-opacity=\"1\" stroke=\"#000000\" stroke-opacity=\"1\" stroke-width=\"3.2\"/>\n",
       "<circle clip-path=\"url(#clip842)\" cx=\"1225.66\" cy=\"117.092\" r=\"14.4\" fill=\"#e26f46\" fill-rule=\"evenodd\" fill-opacity=\"1\" stroke=\"#000000\" stroke-opacity=\"1\" stroke-width=\"3.2\"/>\n",
       "<circle clip-path=\"url(#clip842)\" cx=\"1250.82\" cy=\"1353.33\" r=\"14.4\" fill=\"#e26f46\" fill-rule=\"evenodd\" fill-opacity=\"1\" stroke=\"#000000\" stroke-opacity=\"1\" stroke-width=\"3.2\"/>\n",
       "<circle clip-path=\"url(#clip842)\" cx=\"2035.93\" cy=\"117.092\" r=\"14.4\" fill=\"#e26f46\" fill-rule=\"evenodd\" fill-opacity=\"1\" stroke=\"#000000\" stroke-opacity=\"1\" stroke-width=\"3.2\"/>\n",
       "<circle clip-path=\"url(#clip842)\" cx=\"1305.1\" cy=\"117.092\" r=\"14.4\" fill=\"#e26f46\" fill-rule=\"evenodd\" fill-opacity=\"1\" stroke=\"#000000\" stroke-opacity=\"1\" stroke-width=\"3.2\"/>\n",
       "<circle clip-path=\"url(#clip842)\" cx=\"1252.86\" cy=\"117.092\" r=\"14.4\" fill=\"#e26f46\" fill-rule=\"evenodd\" fill-opacity=\"1\" stroke=\"#000000\" stroke-opacity=\"1\" stroke-width=\"3.2\"/>\n",
       "<circle clip-path=\"url(#clip842)\" cx=\"1296.65\" cy=\"1353.33\" r=\"14.4\" fill=\"#e26f46\" fill-rule=\"evenodd\" fill-opacity=\"1\" stroke=\"#000000\" stroke-opacity=\"1\" stroke-width=\"3.2\"/>\n",
       "<circle clip-path=\"url(#clip842)\" cx=\"1368.99\" cy=\"117.092\" r=\"14.4\" fill=\"#e26f46\" fill-rule=\"evenodd\" fill-opacity=\"1\" stroke=\"#000000\" stroke-opacity=\"1\" stroke-width=\"3.2\"/>\n",
       "<circle clip-path=\"url(#clip842)\" cx=\"951.776\" cy=\"117.092\" r=\"14.4\" fill=\"#e26f46\" fill-rule=\"evenodd\" fill-opacity=\"1\" stroke=\"#000000\" stroke-opacity=\"1\" stroke-width=\"3.2\"/>\n",
       "<circle clip-path=\"url(#clip842)\" cx=\"334.032\" cy=\"117.092\" r=\"14.4\" fill=\"#e26f46\" fill-rule=\"evenodd\" fill-opacity=\"1\" stroke=\"#000000\" stroke-opacity=\"1\" stroke-width=\"3.2\"/>\n",
       "<circle clip-path=\"url(#clip842)\" cx=\"1257.48\" cy=\"117.092\" r=\"14.4\" fill=\"#e26f46\" fill-rule=\"evenodd\" fill-opacity=\"1\" stroke=\"#000000\" stroke-opacity=\"1\" stroke-width=\"3.2\"/>\n",
       "<circle clip-path=\"url(#clip842)\" cx=\"1397.18\" cy=\"117.092\" r=\"14.4\" fill=\"#e26f46\" fill-rule=\"evenodd\" fill-opacity=\"1\" stroke=\"#000000\" stroke-opacity=\"1\" stroke-width=\"3.2\"/>\n",
       "<circle clip-path=\"url(#clip842)\" cx=\"1386.66\" cy=\"117.092\" r=\"14.4\" fill=\"#e26f46\" fill-rule=\"evenodd\" fill-opacity=\"1\" stroke=\"#000000\" stroke-opacity=\"1\" stroke-width=\"3.2\"/>\n",
       "<circle clip-path=\"url(#clip842)\" cx=\"1306.18\" cy=\"117.092\" r=\"14.4\" fill=\"#e26f46\" fill-rule=\"evenodd\" fill-opacity=\"1\" stroke=\"#000000\" stroke-opacity=\"1\" stroke-width=\"3.2\"/>\n",
       "<circle clip-path=\"url(#clip842)\" cx=\"1329.22\" cy=\"117.092\" r=\"14.4\" fill=\"#e26f46\" fill-rule=\"evenodd\" fill-opacity=\"1\" stroke=\"#000000\" stroke-opacity=\"1\" stroke-width=\"3.2\"/>\n",
       "<circle clip-path=\"url(#clip842)\" cx=\"1343.44\" cy=\"1353.33\" r=\"14.4\" fill=\"#e26f46\" fill-rule=\"evenodd\" fill-opacity=\"1\" stroke=\"#000000\" stroke-opacity=\"1\" stroke-width=\"3.2\"/>\n",
       "<circle clip-path=\"url(#clip842)\" cx=\"1355.61\" cy=\"117.092\" r=\"14.4\" fill=\"#e26f46\" fill-rule=\"evenodd\" fill-opacity=\"1\" stroke=\"#000000\" stroke-opacity=\"1\" stroke-width=\"3.2\"/>\n",
       "<circle clip-path=\"url(#clip842)\" cx=\"1438.45\" cy=\"117.092\" r=\"14.4\" fill=\"#e26f46\" fill-rule=\"evenodd\" fill-opacity=\"1\" stroke=\"#000000\" stroke-opacity=\"1\" stroke-width=\"3.2\"/>\n",
       "<circle clip-path=\"url(#clip842)\" cx=\"1349.18\" cy=\"1353.33\" r=\"14.4\" fill=\"#e26f46\" fill-rule=\"evenodd\" fill-opacity=\"1\" stroke=\"#000000\" stroke-opacity=\"1\" stroke-width=\"3.2\"/>\n",
       "<circle clip-path=\"url(#clip842)\" cx=\"1435.61\" cy=\"117.092\" r=\"14.4\" fill=\"#e26f46\" fill-rule=\"evenodd\" fill-opacity=\"1\" stroke=\"#000000\" stroke-opacity=\"1\" stroke-width=\"3.2\"/>\n",
       "<circle clip-path=\"url(#clip842)\" cx=\"2035.93\" cy=\"117.092\" r=\"14.4\" fill=\"#e26f46\" fill-rule=\"evenodd\" fill-opacity=\"1\" stroke=\"#000000\" stroke-opacity=\"1\" stroke-width=\"3.2\"/>\n",
       "<circle clip-path=\"url(#clip842)\" cx=\"2035.93\" cy=\"1353.33\" r=\"14.4\" fill=\"#e26f46\" fill-rule=\"evenodd\" fill-opacity=\"1\" stroke=\"#000000\" stroke-opacity=\"1\" stroke-width=\"3.2\"/>\n",
       "<circle clip-path=\"url(#clip842)\" cx=\"1500.53\" cy=\"117.092\" r=\"14.4\" fill=\"#e26f46\" fill-rule=\"evenodd\" fill-opacity=\"1\" stroke=\"#000000\" stroke-opacity=\"1\" stroke-width=\"3.2\"/>\n",
       "<circle clip-path=\"url(#clip842)\" cx=\"334.032\" cy=\"117.092\" r=\"14.4\" fill=\"#e26f46\" fill-rule=\"evenodd\" fill-opacity=\"1\" stroke=\"#000000\" stroke-opacity=\"1\" stroke-width=\"3.2\"/>\n",
       "<circle clip-path=\"url(#clip842)\" cx=\"334.032\" cy=\"117.092\" r=\"14.4\" fill=\"#e26f46\" fill-rule=\"evenodd\" fill-opacity=\"1\" stroke=\"#000000\" stroke-opacity=\"1\" stroke-width=\"3.2\"/>\n",
       "<circle clip-path=\"url(#clip842)\" cx=\"1166.79\" cy=\"1353.33\" r=\"14.4\" fill=\"#e26f46\" fill-rule=\"evenodd\" fill-opacity=\"1\" stroke=\"#000000\" stroke-opacity=\"1\" stroke-width=\"3.2\"/>\n",
       "<circle clip-path=\"url(#clip842)\" cx=\"1461\" cy=\"117.092\" r=\"14.4\" fill=\"#e26f46\" fill-rule=\"evenodd\" fill-opacity=\"1\" stroke=\"#000000\" stroke-opacity=\"1\" stroke-width=\"3.2\"/>\n",
       "<circle clip-path=\"url(#clip842)\" cx=\"1436.33\" cy=\"1353.33\" r=\"14.4\" fill=\"#e26f46\" fill-rule=\"evenodd\" fill-opacity=\"1\" stroke=\"#000000\" stroke-opacity=\"1\" stroke-width=\"3.2\"/>\n",
       "<circle clip-path=\"url(#clip842)\" cx=\"334.032\" cy=\"1353.33\" r=\"14.4\" fill=\"#e26f46\" fill-rule=\"evenodd\" fill-opacity=\"1\" stroke=\"#000000\" stroke-opacity=\"1\" stroke-width=\"3.2\"/>\n",
       "<circle clip-path=\"url(#clip842)\" cx=\"1449.56\" cy=\"117.092\" r=\"14.4\" fill=\"#e26f46\" fill-rule=\"evenodd\" fill-opacity=\"1\" stroke=\"#000000\" stroke-opacity=\"1\" stroke-width=\"3.2\"/>\n",
       "<circle clip-path=\"url(#clip842)\" cx=\"1372.46\" cy=\"117.092\" r=\"14.4\" fill=\"#e26f46\" fill-rule=\"evenodd\" fill-opacity=\"1\" stroke=\"#000000\" stroke-opacity=\"1\" stroke-width=\"3.2\"/>\n",
       "<circle clip-path=\"url(#clip842)\" cx=\"1353.28\" cy=\"117.092\" r=\"14.4\" fill=\"#e26f46\" fill-rule=\"evenodd\" fill-opacity=\"1\" stroke=\"#000000\" stroke-opacity=\"1\" stroke-width=\"3.2\"/>\n",
       "<circle clip-path=\"url(#clip842)\" cx=\"2035.93\" cy=\"1353.33\" r=\"14.4\" fill=\"#e26f46\" fill-rule=\"evenodd\" fill-opacity=\"1\" stroke=\"#000000\" stroke-opacity=\"1\" stroke-width=\"3.2\"/>\n",
       "<circle clip-path=\"url(#clip842)\" cx=\"1420.42\" cy=\"117.092\" r=\"14.4\" fill=\"#e26f46\" fill-rule=\"evenodd\" fill-opacity=\"1\" stroke=\"#000000\" stroke-opacity=\"1\" stroke-width=\"3.2\"/>\n",
       "<circle clip-path=\"url(#clip842)\" cx=\"1479.51\" cy=\"117.092\" r=\"14.4\" fill=\"#e26f46\" fill-rule=\"evenodd\" fill-opacity=\"1\" stroke=\"#000000\" stroke-opacity=\"1\" stroke-width=\"3.2\"/>\n",
       "<circle clip-path=\"url(#clip842)\" cx=\"334.032\" cy=\"1353.33\" r=\"14.4\" fill=\"#e26f46\" fill-rule=\"evenodd\" fill-opacity=\"1\" stroke=\"#000000\" stroke-opacity=\"1\" stroke-width=\"3.2\"/>\n",
       "<circle clip-path=\"url(#clip842)\" cx=\"1365.09\" cy=\"1353.33\" r=\"14.4\" fill=\"#e26f46\" fill-rule=\"evenodd\" fill-opacity=\"1\" stroke=\"#000000\" stroke-opacity=\"1\" stroke-width=\"3.2\"/>\n",
       "<circle clip-path=\"url(#clip842)\" cx=\"334.032\" cy=\"1353.33\" r=\"14.4\" fill=\"#e26f46\" fill-rule=\"evenodd\" fill-opacity=\"1\" stroke=\"#000000\" stroke-opacity=\"1\" stroke-width=\"3.2\"/>\n",
       "<circle clip-path=\"url(#clip842)\" cx=\"2035.93\" cy=\"117.092\" r=\"14.4\" fill=\"#e26f46\" fill-rule=\"evenodd\" fill-opacity=\"1\" stroke=\"#000000\" stroke-opacity=\"1\" stroke-width=\"3.2\"/>\n",
       "<circle clip-path=\"url(#clip842)\" cx=\"1535.96\" cy=\"1353.33\" r=\"14.4\" fill=\"#e26f46\" fill-rule=\"evenodd\" fill-opacity=\"1\" stroke=\"#000000\" stroke-opacity=\"1\" stroke-width=\"3.2\"/>\n",
       "<circle clip-path=\"url(#clip842)\" cx=\"1276.29\" cy=\"1353.33\" r=\"14.4\" fill=\"#e26f46\" fill-rule=\"evenodd\" fill-opacity=\"1\" stroke=\"#000000\" stroke-opacity=\"1\" stroke-width=\"3.2\"/>\n",
       "<circle clip-path=\"url(#clip842)\" cx=\"933.326\" cy=\"117.092\" r=\"14.4\" fill=\"#e26f46\" fill-rule=\"evenodd\" fill-opacity=\"1\" stroke=\"#000000\" stroke-opacity=\"1\" stroke-width=\"3.2\"/>\n",
       "<circle clip-path=\"url(#clip842)\" cx=\"945.842\" cy=\"117.092\" r=\"14.4\" fill=\"#e26f46\" fill-rule=\"evenodd\" fill-opacity=\"1\" stroke=\"#000000\" stroke-opacity=\"1\" stroke-width=\"3.2\"/>\n",
       "<circle clip-path=\"url(#clip842)\" cx=\"1000.66\" cy=\"117.092\" r=\"14.4\" fill=\"#e26f46\" fill-rule=\"evenodd\" fill-opacity=\"1\" stroke=\"#000000\" stroke-opacity=\"1\" stroke-width=\"3.2\"/>\n",
       "<circle clip-path=\"url(#clip842)\" cx=\"1488.52\" cy=\"117.092\" r=\"14.4\" fill=\"#e26f46\" fill-rule=\"evenodd\" fill-opacity=\"1\" stroke=\"#000000\" stroke-opacity=\"1\" stroke-width=\"3.2\"/>\n",
       "<circle clip-path=\"url(#clip842)\" cx=\"906.833\" cy=\"1353.33\" r=\"14.4\" fill=\"#e26f46\" fill-rule=\"evenodd\" fill-opacity=\"1\" stroke=\"#000000\" stroke-opacity=\"1\" stroke-width=\"3.2\"/>\n",
       "<circle clip-path=\"url(#clip842)\" cx=\"1222.67\" cy=\"117.092\" r=\"14.4\" fill=\"#e26f46\" fill-rule=\"evenodd\" fill-opacity=\"1\" stroke=\"#000000\" stroke-opacity=\"1\" stroke-width=\"3.2\"/>\n",
       "<circle clip-path=\"url(#clip842)\" cx=\"1403.59\" cy=\"117.092\" r=\"14.4\" fill=\"#e26f46\" fill-rule=\"evenodd\" fill-opacity=\"1\" stroke=\"#000000\" stroke-opacity=\"1\" stroke-width=\"3.2\"/>\n",
       "<circle clip-path=\"url(#clip842)\" cx=\"1109.64\" cy=\"1353.33\" r=\"14.4\" fill=\"#e26f46\" fill-rule=\"evenodd\" fill-opacity=\"1\" stroke=\"#000000\" stroke-opacity=\"1\" stroke-width=\"3.2\"/>\n",
       "<circle clip-path=\"url(#clip842)\" cx=\"1256.7\" cy=\"117.092\" r=\"14.4\" fill=\"#e26f46\" fill-rule=\"evenodd\" fill-opacity=\"1\" stroke=\"#000000\" stroke-opacity=\"1\" stroke-width=\"3.2\"/>\n",
       "<circle clip-path=\"url(#clip842)\" cx=\"816.781\" cy=\"117.092\" r=\"14.4\" fill=\"#e26f46\" fill-rule=\"evenodd\" fill-opacity=\"1\" stroke=\"#000000\" stroke-opacity=\"1\" stroke-width=\"3.2\"/>\n",
       "<circle clip-path=\"url(#clip842)\" cx=\"736.246\" cy=\"1353.33\" r=\"14.4\" fill=\"#e26f46\" fill-rule=\"evenodd\" fill-opacity=\"1\" stroke=\"#000000\" stroke-opacity=\"1\" stroke-width=\"3.2\"/>\n",
       "<circle clip-path=\"url(#clip842)\" cx=\"334.032\" cy=\"117.092\" r=\"14.4\" fill=\"#e26f46\" fill-rule=\"evenodd\" fill-opacity=\"1\" stroke=\"#000000\" stroke-opacity=\"1\" stroke-width=\"3.2\"/>\n",
       "<circle clip-path=\"url(#clip842)\" cx=\"841.565\" cy=\"117.092\" r=\"14.4\" fill=\"#e26f46\" fill-rule=\"evenodd\" fill-opacity=\"1\" stroke=\"#000000\" stroke-opacity=\"1\" stroke-width=\"3.2\"/>\n",
       "<circle clip-path=\"url(#clip842)\" cx=\"807.423\" cy=\"117.092\" r=\"14.4\" fill=\"#e26f46\" fill-rule=\"evenodd\" fill-opacity=\"1\" stroke=\"#000000\" stroke-opacity=\"1\" stroke-width=\"3.2\"/>\n",
       "<circle clip-path=\"url(#clip842)\" cx=\"910.137\" cy=\"1353.33\" r=\"14.4\" fill=\"#e26f46\" fill-rule=\"evenodd\" fill-opacity=\"1\" stroke=\"#000000\" stroke-opacity=\"1\" stroke-width=\"3.2\"/>\n",
       "<circle clip-path=\"url(#clip842)\" cx=\"2035.93\" cy=\"1353.33\" r=\"14.4\" fill=\"#e26f46\" fill-rule=\"evenodd\" fill-opacity=\"1\" stroke=\"#000000\" stroke-opacity=\"1\" stroke-width=\"3.2\"/>\n",
       "<circle clip-path=\"url(#clip842)\" cx=\"2035.93\" cy=\"1353.33\" r=\"14.4\" fill=\"#e26f46\" fill-rule=\"evenodd\" fill-opacity=\"1\" stroke=\"#000000\" stroke-opacity=\"1\" stroke-width=\"3.2\"/>\n",
       "<circle clip-path=\"url(#clip842)\" cx=\"334.032\" cy=\"1353.33\" r=\"14.4\" fill=\"#e26f46\" fill-rule=\"evenodd\" fill-opacity=\"1\" stroke=\"#000000\" stroke-opacity=\"1\" stroke-width=\"3.2\"/>\n",
       "<circle clip-path=\"url(#clip842)\" cx=\"1053.56\" cy=\"117.092\" r=\"14.4\" fill=\"#e26f46\" fill-rule=\"evenodd\" fill-opacity=\"1\" stroke=\"#000000\" stroke-opacity=\"1\" stroke-width=\"3.2\"/>\n",
       "<circle clip-path=\"url(#clip842)\" cx=\"905.952\" cy=\"117.092\" r=\"14.4\" fill=\"#e26f46\" fill-rule=\"evenodd\" fill-opacity=\"1\" stroke=\"#000000\" stroke-opacity=\"1\" stroke-width=\"3.2\"/>\n",
       "<circle clip-path=\"url(#clip842)\" cx=\"1246.17\" cy=\"117.092\" r=\"14.4\" fill=\"#e26f46\" fill-rule=\"evenodd\" fill-opacity=\"1\" stroke=\"#000000\" stroke-opacity=\"1\" stroke-width=\"3.2\"/>\n",
       "<circle clip-path=\"url(#clip842)\" cx=\"1077.25\" cy=\"1353.33\" r=\"14.4\" fill=\"#e26f46\" fill-rule=\"evenodd\" fill-opacity=\"1\" stroke=\"#000000\" stroke-opacity=\"1\" stroke-width=\"3.2\"/>\n",
       "<circle clip-path=\"url(#clip842)\" cx=\"334.032\" cy=\"117.092\" r=\"14.4\" fill=\"#e26f46\" fill-rule=\"evenodd\" fill-opacity=\"1\" stroke=\"#000000\" stroke-opacity=\"1\" stroke-width=\"3.2\"/>\n",
       "<circle clip-path=\"url(#clip842)\" cx=\"913.895\" cy=\"1353.33\" r=\"14.4\" fill=\"#e26f46\" fill-rule=\"evenodd\" fill-opacity=\"1\" stroke=\"#000000\" stroke-opacity=\"1\" stroke-width=\"3.2\"/>\n",
       "<circle clip-path=\"url(#clip842)\" cx=\"1116.44\" cy=\"117.092\" r=\"14.4\" fill=\"#e26f46\" fill-rule=\"evenodd\" fill-opacity=\"1\" stroke=\"#000000\" stroke-opacity=\"1\" stroke-width=\"3.2\"/>\n",
       "<circle clip-path=\"url(#clip842)\" cx=\"1043.19\" cy=\"1353.33\" r=\"14.4\" fill=\"#e26f46\" fill-rule=\"evenodd\" fill-opacity=\"1\" stroke=\"#000000\" stroke-opacity=\"1\" stroke-width=\"3.2\"/>\n",
       "<circle clip-path=\"url(#clip842)\" cx=\"1160.06\" cy=\"117.092\" r=\"14.4\" fill=\"#e26f46\" fill-rule=\"evenodd\" fill-opacity=\"1\" stroke=\"#000000\" stroke-opacity=\"1\" stroke-width=\"3.2\"/>\n",
       "<circle clip-path=\"url(#clip842)\" cx=\"897.405\" cy=\"117.092\" r=\"14.4\" fill=\"#e26f46\" fill-rule=\"evenodd\" fill-opacity=\"1\" stroke=\"#000000\" stroke-opacity=\"1\" stroke-width=\"3.2\"/>\n",
       "<circle clip-path=\"url(#clip842)\" cx=\"334.032\" cy=\"1353.33\" r=\"14.4\" fill=\"#e26f46\" fill-rule=\"evenodd\" fill-opacity=\"1\" stroke=\"#000000\" stroke-opacity=\"1\" stroke-width=\"3.2\"/>\n",
       "<circle clip-path=\"url(#clip842)\" cx=\"1081.99\" cy=\"117.092\" r=\"14.4\" fill=\"#e26f46\" fill-rule=\"evenodd\" fill-opacity=\"1\" stroke=\"#000000\" stroke-opacity=\"1\" stroke-width=\"3.2\"/>\n",
       "<circle clip-path=\"url(#clip842)\" cx=\"2035.93\" cy=\"117.092\" r=\"14.4\" fill=\"#e26f46\" fill-rule=\"evenodd\" fill-opacity=\"1\" stroke=\"#000000\" stroke-opacity=\"1\" stroke-width=\"3.2\"/>\n",
       "<circle clip-path=\"url(#clip842)\" cx=\"2035.93\" cy=\"1353.33\" r=\"14.4\" fill=\"#e26f46\" fill-rule=\"evenodd\" fill-opacity=\"1\" stroke=\"#000000\" stroke-opacity=\"1\" stroke-width=\"3.2\"/>\n",
       "<circle clip-path=\"url(#clip842)\" cx=\"1321.12\" cy=\"117.092\" r=\"14.4\" fill=\"#e26f46\" fill-rule=\"evenodd\" fill-opacity=\"1\" stroke=\"#000000\" stroke-opacity=\"1\" stroke-width=\"3.2\"/>\n",
       "<circle clip-path=\"url(#clip842)\" cx=\"2035.93\" cy=\"117.092\" r=\"14.4\" fill=\"#e26f46\" fill-rule=\"evenodd\" fill-opacity=\"1\" stroke=\"#000000\" stroke-opacity=\"1\" stroke-width=\"3.2\"/>\n",
       "<circle clip-path=\"url(#clip842)\" cx=\"1140.79\" cy=\"117.092\" r=\"14.4\" fill=\"#e26f46\" fill-rule=\"evenodd\" fill-opacity=\"1\" stroke=\"#000000\" stroke-opacity=\"1\" stroke-width=\"3.2\"/>\n",
       "<circle clip-path=\"url(#clip842)\" cx=\"821.632\" cy=\"1353.33\" r=\"14.4\" fill=\"#e26f46\" fill-rule=\"evenodd\" fill-opacity=\"1\" stroke=\"#000000\" stroke-opacity=\"1\" stroke-width=\"3.2\"/>\n",
       "<circle clip-path=\"url(#clip842)\" cx=\"1356.65\" cy=\"117.092\" r=\"14.4\" fill=\"#e26f46\" fill-rule=\"evenodd\" fill-opacity=\"1\" stroke=\"#000000\" stroke-opacity=\"1\" stroke-width=\"3.2\"/>\n",
       "<circle clip-path=\"url(#clip842)\" cx=\"1074.92\" cy=\"1353.33\" r=\"14.4\" fill=\"#e26f46\" fill-rule=\"evenodd\" fill-opacity=\"1\" stroke=\"#000000\" stroke-opacity=\"1\" stroke-width=\"3.2\"/>\n",
       "<circle clip-path=\"url(#clip842)\" cx=\"976.587\" cy=\"1353.33\" r=\"14.4\" fill=\"#e26f46\" fill-rule=\"evenodd\" fill-opacity=\"1\" stroke=\"#000000\" stroke-opacity=\"1\" stroke-width=\"3.2\"/>\n",
       "<circle clip-path=\"url(#clip842)\" cx=\"334.032\" cy=\"117.092\" r=\"14.4\" fill=\"#e26f46\" fill-rule=\"evenodd\" fill-opacity=\"1\" stroke=\"#000000\" stroke-opacity=\"1\" stroke-width=\"3.2\"/>\n",
       "<circle clip-path=\"url(#clip842)\" cx=\"1204.86\" cy=\"117.092\" r=\"14.4\" fill=\"#e26f46\" fill-rule=\"evenodd\" fill-opacity=\"1\" stroke=\"#000000\" stroke-opacity=\"1\" stroke-width=\"3.2\"/>\n",
       "<circle clip-path=\"url(#clip842)\" cx=\"1448.12\" cy=\"117.092\" r=\"14.4\" fill=\"#e26f46\" fill-rule=\"evenodd\" fill-opacity=\"1\" stroke=\"#000000\" stroke-opacity=\"1\" stroke-width=\"3.2\"/>\n",
       "<circle clip-path=\"url(#clip842)\" cx=\"1416.77\" cy=\"1353.33\" r=\"14.4\" fill=\"#e26f46\" fill-rule=\"evenodd\" fill-opacity=\"1\" stroke=\"#000000\" stroke-opacity=\"1\" stroke-width=\"3.2\"/>\n",
       "<circle clip-path=\"url(#clip842)\" cx=\"889.463\" cy=\"117.092\" r=\"14.4\" fill=\"#e26f46\" fill-rule=\"evenodd\" fill-opacity=\"1\" stroke=\"#000000\" stroke-opacity=\"1\" stroke-width=\"3.2\"/>\n",
       "<circle clip-path=\"url(#clip842)\" cx=\"334.032\" cy=\"117.092\" r=\"14.4\" fill=\"#e26f46\" fill-rule=\"evenodd\" fill-opacity=\"1\" stroke=\"#000000\" stroke-opacity=\"1\" stroke-width=\"3.2\"/>\n",
       "<circle clip-path=\"url(#clip842)\" cx=\"1514.11\" cy=\"117.092\" r=\"14.4\" fill=\"#e26f46\" fill-rule=\"evenodd\" fill-opacity=\"1\" stroke=\"#000000\" stroke-opacity=\"1\" stroke-width=\"3.2\"/>\n",
       "<circle clip-path=\"url(#clip842)\" cx=\"2035.93\" cy=\"1353.33\" r=\"14.4\" fill=\"#e26f46\" fill-rule=\"evenodd\" fill-opacity=\"1\" stroke=\"#000000\" stroke-opacity=\"1\" stroke-width=\"3.2\"/>\n",
       "<circle clip-path=\"url(#clip842)\" cx=\"881.367\" cy=\"117.092\" r=\"14.4\" fill=\"#e26f46\" fill-rule=\"evenodd\" fill-opacity=\"1\" stroke=\"#000000\" stroke-opacity=\"1\" stroke-width=\"3.2\"/>\n",
       "<circle clip-path=\"url(#clip842)\" cx=\"828.358\" cy=\"117.092\" r=\"14.4\" fill=\"#e26f46\" fill-rule=\"evenodd\" fill-opacity=\"1\" stroke=\"#000000\" stroke-opacity=\"1\" stroke-width=\"3.2\"/>\n",
       "<circle clip-path=\"url(#clip842)\" cx=\"841.447\" cy=\"1353.33\" r=\"14.4\" fill=\"#e26f46\" fill-rule=\"evenodd\" fill-opacity=\"1\" stroke=\"#000000\" stroke-opacity=\"1\" stroke-width=\"3.2\"/>\n",
       "<circle clip-path=\"url(#clip842)\" cx=\"2035.93\" cy=\"1353.33\" r=\"14.4\" fill=\"#e26f46\" fill-rule=\"evenodd\" fill-opacity=\"1\" stroke=\"#000000\" stroke-opacity=\"1\" stroke-width=\"3.2\"/>\n",
       "<circle clip-path=\"url(#clip842)\" cx=\"2035.93\" cy=\"1353.33\" r=\"14.4\" fill=\"#e26f46\" fill-rule=\"evenodd\" fill-opacity=\"1\" stroke=\"#000000\" stroke-opacity=\"1\" stroke-width=\"3.2\"/>\n",
       "<circle clip-path=\"url(#clip842)\" cx=\"1479.77\" cy=\"1353.33\" r=\"14.4\" fill=\"#e26f46\" fill-rule=\"evenodd\" fill-opacity=\"1\" stroke=\"#000000\" stroke-opacity=\"1\" stroke-width=\"3.2\"/>\n",
       "<circle clip-path=\"url(#clip842)\" cx=\"1247.7\" cy=\"1353.33\" r=\"14.4\" fill=\"#e26f46\" fill-rule=\"evenodd\" fill-opacity=\"1\" stroke=\"#000000\" stroke-opacity=\"1\" stroke-width=\"3.2\"/>\n",
       "<circle clip-path=\"url(#clip842)\" cx=\"979.006\" cy=\"117.092\" r=\"14.4\" fill=\"#e26f46\" fill-rule=\"evenodd\" fill-opacity=\"1\" stroke=\"#000000\" stroke-opacity=\"1\" stroke-width=\"3.2\"/>\n",
       "<circle clip-path=\"url(#clip842)\" cx=\"914.282\" cy=\"1353.33\" r=\"14.4\" fill=\"#e26f46\" fill-rule=\"evenodd\" fill-opacity=\"1\" stroke=\"#000000\" stroke-opacity=\"1\" stroke-width=\"3.2\"/>\n",
       "<circle clip-path=\"url(#clip842)\" cx=\"932.015\" cy=\"1353.33\" r=\"14.4\" fill=\"#e26f46\" fill-rule=\"evenodd\" fill-opacity=\"1\" stroke=\"#000000\" stroke-opacity=\"1\" stroke-width=\"3.2\"/>\n",
       "<circle clip-path=\"url(#clip842)\" cx=\"879.441\" cy=\"117.092\" r=\"14.4\" fill=\"#e26f46\" fill-rule=\"evenodd\" fill-opacity=\"1\" stroke=\"#000000\" stroke-opacity=\"1\" stroke-width=\"3.2\"/>\n",
       "<circle clip-path=\"url(#clip842)\" cx=\"927.134\" cy=\"117.092\" r=\"14.4\" fill=\"#e26f46\" fill-rule=\"evenodd\" fill-opacity=\"1\" stroke=\"#000000\" stroke-opacity=\"1\" stroke-width=\"3.2\"/>\n",
       "<circle clip-path=\"url(#clip842)\" cx=\"795.498\" cy=\"117.092\" r=\"14.4\" fill=\"#e26f46\" fill-rule=\"evenodd\" fill-opacity=\"1\" stroke=\"#000000\" stroke-opacity=\"1\" stroke-width=\"3.2\"/>\n",
       "<circle clip-path=\"url(#clip842)\" cx=\"916.141\" cy=\"117.092\" r=\"14.4\" fill=\"#e26f46\" fill-rule=\"evenodd\" fill-opacity=\"1\" stroke=\"#000000\" stroke-opacity=\"1\" stroke-width=\"3.2\"/>\n",
       "<circle clip-path=\"url(#clip842)\" cx=\"1076.54\" cy=\"1353.33\" r=\"14.4\" fill=\"#e26f46\" fill-rule=\"evenodd\" fill-opacity=\"1\" stroke=\"#000000\" stroke-opacity=\"1\" stroke-width=\"3.2\"/>\n",
       "<circle clip-path=\"url(#clip842)\" cx=\"920.341\" cy=\"117.092\" r=\"14.4\" fill=\"#e26f46\" fill-rule=\"evenodd\" fill-opacity=\"1\" stroke=\"#000000\" stroke-opacity=\"1\" stroke-width=\"3.2\"/>\n",
       "<circle clip-path=\"url(#clip842)\" cx=\"1262.83\" cy=\"117.092\" r=\"14.4\" fill=\"#e26f46\" fill-rule=\"evenodd\" fill-opacity=\"1\" stroke=\"#000000\" stroke-opacity=\"1\" stroke-width=\"3.2\"/>\n",
       "<circle clip-path=\"url(#clip842)\" cx=\"1180.84\" cy=\"117.092\" r=\"14.4\" fill=\"#e26f46\" fill-rule=\"evenodd\" fill-opacity=\"1\" stroke=\"#000000\" stroke-opacity=\"1\" stroke-width=\"3.2\"/>\n",
       "<circle clip-path=\"url(#clip842)\" cx=\"686.564\" cy=\"117.092\" r=\"14.4\" fill=\"#e26f46\" fill-rule=\"evenodd\" fill-opacity=\"1\" stroke=\"#000000\" stroke-opacity=\"1\" stroke-width=\"3.2\"/>\n",
       "<circle clip-path=\"url(#clip842)\" cx=\"1156.22\" cy=\"1353.33\" r=\"14.4\" fill=\"#e26f46\" fill-rule=\"evenodd\" fill-opacity=\"1\" stroke=\"#000000\" stroke-opacity=\"1\" stroke-width=\"3.2\"/>\n",
       "<circle clip-path=\"url(#clip842)\" cx=\"833.972\" cy=\"1353.33\" r=\"14.4\" fill=\"#e26f46\" fill-rule=\"evenodd\" fill-opacity=\"1\" stroke=\"#000000\" stroke-opacity=\"1\" stroke-width=\"3.2\"/>\n",
       "<circle clip-path=\"url(#clip842)\" cx=\"1032.9\" cy=\"1353.33\" r=\"14.4\" fill=\"#e26f46\" fill-rule=\"evenodd\" fill-opacity=\"1\" stroke=\"#000000\" stroke-opacity=\"1\" stroke-width=\"3.2\"/>\n",
       "<circle clip-path=\"url(#clip842)\" cx=\"1405.95\" cy=\"117.092\" r=\"14.4\" fill=\"#e26f46\" fill-rule=\"evenodd\" fill-opacity=\"1\" stroke=\"#000000\" stroke-opacity=\"1\" stroke-width=\"3.2\"/>\n",
       "<circle clip-path=\"url(#clip842)\" cx=\"1060.75\" cy=\"117.092\" r=\"14.4\" fill=\"#e26f46\" fill-rule=\"evenodd\" fill-opacity=\"1\" stroke=\"#000000\" stroke-opacity=\"1\" stroke-width=\"3.2\"/>\n",
       "<circle clip-path=\"url(#clip842)\" cx=\"1335.36\" cy=\"117.092\" r=\"14.4\" fill=\"#e26f46\" fill-rule=\"evenodd\" fill-opacity=\"1\" stroke=\"#000000\" stroke-opacity=\"1\" stroke-width=\"3.2\"/>\n",
       "<circle clip-path=\"url(#clip842)\" cx=\"2035.93\" cy=\"117.092\" r=\"14.4\" fill=\"#e26f46\" fill-rule=\"evenodd\" fill-opacity=\"1\" stroke=\"#000000\" stroke-opacity=\"1\" stroke-width=\"3.2\"/>\n",
       "<circle clip-path=\"url(#clip842)\" cx=\"334.032\" cy=\"117.092\" r=\"14.4\" fill=\"#e26f46\" fill-rule=\"evenodd\" fill-opacity=\"1\" stroke=\"#000000\" stroke-opacity=\"1\" stroke-width=\"3.2\"/>\n",
       "<circle clip-path=\"url(#clip842)\" cx=\"832.365\" cy=\"1353.33\" r=\"14.4\" fill=\"#e26f46\" fill-rule=\"evenodd\" fill-opacity=\"1\" stroke=\"#000000\" stroke-opacity=\"1\" stroke-width=\"3.2\"/>\n",
       "<circle clip-path=\"url(#clip842)\" cx=\"2035.93\" cy=\"1353.33\" r=\"14.4\" fill=\"#e26f46\" fill-rule=\"evenodd\" fill-opacity=\"1\" stroke=\"#000000\" stroke-opacity=\"1\" stroke-width=\"3.2\"/>\n",
       "<circle clip-path=\"url(#clip842)\" cx=\"1384.84\" cy=\"117.092\" r=\"14.4\" fill=\"#e26f46\" fill-rule=\"evenodd\" fill-opacity=\"1\" stroke=\"#000000\" stroke-opacity=\"1\" stroke-width=\"3.2\"/>\n",
       "<circle clip-path=\"url(#clip842)\" cx=\"2035.93\" cy=\"1353.33\" r=\"14.4\" fill=\"#e26f46\" fill-rule=\"evenodd\" fill-opacity=\"1\" stroke=\"#000000\" stroke-opacity=\"1\" stroke-width=\"3.2\"/>\n",
       "<circle clip-path=\"url(#clip842)\" cx=\"827.922\" cy=\"117.092\" r=\"14.4\" fill=\"#e26f46\" fill-rule=\"evenodd\" fill-opacity=\"1\" stroke=\"#000000\" stroke-opacity=\"1\" stroke-width=\"3.2\"/>\n",
       "<circle clip-path=\"url(#clip842)\" cx=\"761.44\" cy=\"117.092\" r=\"14.4\" fill=\"#e26f46\" fill-rule=\"evenodd\" fill-opacity=\"1\" stroke=\"#000000\" stroke-opacity=\"1\" stroke-width=\"3.2\"/>\n",
       "<circle clip-path=\"url(#clip842)\" cx=\"2035.93\" cy=\"1353.33\" r=\"14.4\" fill=\"#e26f46\" fill-rule=\"evenodd\" fill-opacity=\"1\" stroke=\"#000000\" stroke-opacity=\"1\" stroke-width=\"3.2\"/>\n",
       "<circle clip-path=\"url(#clip842)\" cx=\"1456.19\" cy=\"117.092\" r=\"14.4\" fill=\"#e26f46\" fill-rule=\"evenodd\" fill-opacity=\"1\" stroke=\"#000000\" stroke-opacity=\"1\" stroke-width=\"3.2\"/>\n",
       "<circle clip-path=\"url(#clip842)\" cx=\"2035.93\" cy=\"117.092\" r=\"14.4\" fill=\"#e26f46\" fill-rule=\"evenodd\" fill-opacity=\"1\" stroke=\"#000000\" stroke-opacity=\"1\" stroke-width=\"3.2\"/>\n",
       "<circle clip-path=\"url(#clip842)\" cx=\"1626.49\" cy=\"117.092\" r=\"14.4\" fill=\"#e26f46\" fill-rule=\"evenodd\" fill-opacity=\"1\" stroke=\"#000000\" stroke-opacity=\"1\" stroke-width=\"3.2\"/>\n",
       "<circle clip-path=\"url(#clip842)\" cx=\"1395.1\" cy=\"1353.33\" r=\"14.4\" fill=\"#e26f46\" fill-rule=\"evenodd\" fill-opacity=\"1\" stroke=\"#000000\" stroke-opacity=\"1\" stroke-width=\"3.2\"/>\n",
       "<circle clip-path=\"url(#clip842)\" cx=\"1009.28\" cy=\"117.092\" r=\"14.4\" fill=\"#e26f46\" fill-rule=\"evenodd\" fill-opacity=\"1\" stroke=\"#000000\" stroke-opacity=\"1\" stroke-width=\"3.2\"/>\n",
       "<circle clip-path=\"url(#clip842)\" cx=\"2035.93\" cy=\"117.092\" r=\"14.4\" fill=\"#e26f46\" fill-rule=\"evenodd\" fill-opacity=\"1\" stroke=\"#000000\" stroke-opacity=\"1\" stroke-width=\"3.2\"/>\n",
       "<circle clip-path=\"url(#clip842)\" cx=\"1496.11\" cy=\"117.092\" r=\"14.4\" fill=\"#e26f46\" fill-rule=\"evenodd\" fill-opacity=\"1\" stroke=\"#000000\" stroke-opacity=\"1\" stroke-width=\"3.2\"/>\n",
       "<circle clip-path=\"url(#clip842)\" cx=\"1477.52\" cy=\"117.092\" r=\"14.4\" fill=\"#e26f46\" fill-rule=\"evenodd\" fill-opacity=\"1\" stroke=\"#000000\" stroke-opacity=\"1\" stroke-width=\"3.2\"/>\n",
       "<circle clip-path=\"url(#clip842)\" cx=\"2035.93\" cy=\"117.092\" r=\"14.4\" fill=\"#e26f46\" fill-rule=\"evenodd\" fill-opacity=\"1\" stroke=\"#000000\" stroke-opacity=\"1\" stroke-width=\"3.2\"/>\n",
       "<circle clip-path=\"url(#clip842)\" cx=\"2035.93\" cy=\"117.092\" r=\"14.4\" fill=\"#e26f46\" fill-rule=\"evenodd\" fill-opacity=\"1\" stroke=\"#000000\" stroke-opacity=\"1\" stroke-width=\"3.2\"/>\n",
       "<circle clip-path=\"url(#clip842)\" cx=\"2035.93\" cy=\"117.092\" r=\"14.4\" fill=\"#e26f46\" fill-rule=\"evenodd\" fill-opacity=\"1\" stroke=\"#000000\" stroke-opacity=\"1\" stroke-width=\"3.2\"/>\n",
       "<circle clip-path=\"url(#clip842)\" cx=\"2035.93\" cy=\"117.092\" r=\"14.4\" fill=\"#e26f46\" fill-rule=\"evenodd\" fill-opacity=\"1\" stroke=\"#000000\" stroke-opacity=\"1\" stroke-width=\"3.2\"/>\n",
       "<circle clip-path=\"url(#clip842)\" cx=\"2035.93\" cy=\"117.092\" r=\"14.4\" fill=\"#e26f46\" fill-rule=\"evenodd\" fill-opacity=\"1\" stroke=\"#000000\" stroke-opacity=\"1\" stroke-width=\"3.2\"/>\n",
       "<circle clip-path=\"url(#clip842)\" cx=\"2035.93\" cy=\"117.092\" r=\"14.4\" fill=\"#e26f46\" fill-rule=\"evenodd\" fill-opacity=\"1\" stroke=\"#000000\" stroke-opacity=\"1\" stroke-width=\"3.2\"/>\n",
       "<circle clip-path=\"url(#clip842)\" cx=\"2035.93\" cy=\"117.092\" r=\"14.4\" fill=\"#e26f46\" fill-rule=\"evenodd\" fill-opacity=\"1\" stroke=\"#000000\" stroke-opacity=\"1\" stroke-width=\"3.2\"/>\n",
       "<circle clip-path=\"url(#clip842)\" cx=\"2035.93\" cy=\"117.092\" r=\"14.4\" fill=\"#e26f46\" fill-rule=\"evenodd\" fill-opacity=\"1\" stroke=\"#000000\" stroke-opacity=\"1\" stroke-width=\"3.2\"/>\n",
       "<circle clip-path=\"url(#clip842)\" cx=\"2035.93\" cy=\"117.092\" r=\"14.4\" fill=\"#e26f46\" fill-rule=\"evenodd\" fill-opacity=\"1\" stroke=\"#000000\" stroke-opacity=\"1\" stroke-width=\"3.2\"/>\n",
       "<circle clip-path=\"url(#clip842)\" cx=\"2035.93\" cy=\"117.092\" r=\"14.4\" fill=\"#e26f46\" fill-rule=\"evenodd\" fill-opacity=\"1\" stroke=\"#000000\" stroke-opacity=\"1\" stroke-width=\"3.2\"/>\n",
       "<circle clip-path=\"url(#clip842)\" cx=\"2035.93\" cy=\"117.092\" r=\"14.4\" fill=\"#e26f46\" fill-rule=\"evenodd\" fill-opacity=\"1\" stroke=\"#000000\" stroke-opacity=\"1\" stroke-width=\"3.2\"/>\n",
       "<circle clip-path=\"url(#clip842)\" cx=\"2035.93\" cy=\"117.092\" r=\"14.4\" fill=\"#e26f46\" fill-rule=\"evenodd\" fill-opacity=\"1\" stroke=\"#000000\" stroke-opacity=\"1\" stroke-width=\"3.2\"/>\n",
       "<circle clip-path=\"url(#clip842)\" cx=\"2035.93\" cy=\"117.092\" r=\"14.4\" fill=\"#e26f46\" fill-rule=\"evenodd\" fill-opacity=\"1\" stroke=\"#000000\" stroke-opacity=\"1\" stroke-width=\"3.2\"/>\n",
       "<circle clip-path=\"url(#clip842)\" cx=\"2035.93\" cy=\"117.092\" r=\"14.4\" fill=\"#e26f46\" fill-rule=\"evenodd\" fill-opacity=\"1\" stroke=\"#000000\" stroke-opacity=\"1\" stroke-width=\"3.2\"/>\n",
       "<circle clip-path=\"url(#clip842)\" cx=\"2035.93\" cy=\"117.092\" r=\"14.4\" fill=\"#e26f46\" fill-rule=\"evenodd\" fill-opacity=\"1\" stroke=\"#000000\" stroke-opacity=\"1\" stroke-width=\"3.2\"/>\n",
       "<circle clip-path=\"url(#clip842)\" cx=\"2035.93\" cy=\"1353.33\" r=\"14.4\" fill=\"#e26f46\" fill-rule=\"evenodd\" fill-opacity=\"1\" stroke=\"#000000\" stroke-opacity=\"1\" stroke-width=\"3.2\"/>\n",
       "<circle clip-path=\"url(#clip842)\" cx=\"2035.93\" cy=\"117.092\" r=\"14.4\" fill=\"#e26f46\" fill-rule=\"evenodd\" fill-opacity=\"1\" stroke=\"#000000\" stroke-opacity=\"1\" stroke-width=\"3.2\"/>\n",
       "<circle clip-path=\"url(#clip842)\" cx=\"2035.93\" cy=\"117.092\" r=\"14.4\" fill=\"#e26f46\" fill-rule=\"evenodd\" fill-opacity=\"1\" stroke=\"#000000\" stroke-opacity=\"1\" stroke-width=\"3.2\"/>\n",
       "<circle clip-path=\"url(#clip842)\" cx=\"2035.93\" cy=\"117.092\" r=\"14.4\" fill=\"#e26f46\" fill-rule=\"evenodd\" fill-opacity=\"1\" stroke=\"#000000\" stroke-opacity=\"1\" stroke-width=\"3.2\"/>\n",
       "<circle clip-path=\"url(#clip842)\" cx=\"1630.91\" cy=\"117.092\" r=\"14.4\" fill=\"#e26f46\" fill-rule=\"evenodd\" fill-opacity=\"1\" stroke=\"#000000\" stroke-opacity=\"1\" stroke-width=\"3.2\"/>\n",
       "<circle clip-path=\"url(#clip842)\" cx=\"2035.93\" cy=\"117.092\" r=\"14.4\" fill=\"#e26f46\" fill-rule=\"evenodd\" fill-opacity=\"1\" stroke=\"#000000\" stroke-opacity=\"1\" stroke-width=\"3.2\"/>\n",
       "<circle clip-path=\"url(#clip842)\" cx=\"2035.93\" cy=\"1353.33\" r=\"14.4\" fill=\"#e26f46\" fill-rule=\"evenodd\" fill-opacity=\"1\" stroke=\"#000000\" stroke-opacity=\"1\" stroke-width=\"3.2\"/>\n",
       "<circle clip-path=\"url(#clip842)\" cx=\"334.032\" cy=\"117.092\" r=\"14.4\" fill=\"#e26f46\" fill-rule=\"evenodd\" fill-opacity=\"1\" stroke=\"#000000\" stroke-opacity=\"1\" stroke-width=\"3.2\"/>\n",
       "<circle clip-path=\"url(#clip842)\" cx=\"2035.93\" cy=\"117.092\" r=\"14.4\" fill=\"#e26f46\" fill-rule=\"evenodd\" fill-opacity=\"1\" stroke=\"#000000\" stroke-opacity=\"1\" stroke-width=\"3.2\"/>\n",
       "<circle clip-path=\"url(#clip842)\" cx=\"2035.93\" cy=\"1353.33\" r=\"14.4\" fill=\"#e26f46\" fill-rule=\"evenodd\" fill-opacity=\"1\" stroke=\"#000000\" stroke-opacity=\"1\" stroke-width=\"3.2\"/>\n",
       "<circle clip-path=\"url(#clip842)\" cx=\"2035.93\" cy=\"117.092\" r=\"14.4\" fill=\"#e26f46\" fill-rule=\"evenodd\" fill-opacity=\"1\" stroke=\"#000000\" stroke-opacity=\"1\" stroke-width=\"3.2\"/>\n",
       "<circle clip-path=\"url(#clip842)\" cx=\"1592.05\" cy=\"117.092\" r=\"14.4\" fill=\"#e26f46\" fill-rule=\"evenodd\" fill-opacity=\"1\" stroke=\"#000000\" stroke-opacity=\"1\" stroke-width=\"3.2\"/>\n",
       "<circle clip-path=\"url(#clip842)\" cx=\"1558.66\" cy=\"117.092\" r=\"14.4\" fill=\"#e26f46\" fill-rule=\"evenodd\" fill-opacity=\"1\" stroke=\"#000000\" stroke-opacity=\"1\" stroke-width=\"3.2\"/>\n",
       "<circle clip-path=\"url(#clip842)\" cx=\"2035.93\" cy=\"1353.33\" r=\"14.4\" fill=\"#e26f46\" fill-rule=\"evenodd\" fill-opacity=\"1\" stroke=\"#000000\" stroke-opacity=\"1\" stroke-width=\"3.2\"/>\n",
       "<circle clip-path=\"url(#clip842)\" cx=\"334.032\" cy=\"117.092\" r=\"14.4\" fill=\"#e26f46\" fill-rule=\"evenodd\" fill-opacity=\"1\" stroke=\"#000000\" stroke-opacity=\"1\" stroke-width=\"3.2\"/>\n",
       "<circle clip-path=\"url(#clip842)\" cx=\"1556.52\" cy=\"117.092\" r=\"14.4\" fill=\"#e26f46\" fill-rule=\"evenodd\" fill-opacity=\"1\" stroke=\"#000000\" stroke-opacity=\"1\" stroke-width=\"3.2\"/>\n",
       "<circle clip-path=\"url(#clip842)\" cx=\"2035.93\" cy=\"1353.33\" r=\"14.4\" fill=\"#e26f46\" fill-rule=\"evenodd\" fill-opacity=\"1\" stroke=\"#000000\" stroke-opacity=\"1\" stroke-width=\"3.2\"/>\n",
       "<circle clip-path=\"url(#clip842)\" cx=\"2035.93\" cy=\"117.092\" r=\"14.4\" fill=\"#e26f46\" fill-rule=\"evenodd\" fill-opacity=\"1\" stroke=\"#000000\" stroke-opacity=\"1\" stroke-width=\"3.2\"/>\n",
       "<circle clip-path=\"url(#clip842)\" cx=\"2035.93\" cy=\"117.092\" r=\"14.4\" fill=\"#e26f46\" fill-rule=\"evenodd\" fill-opacity=\"1\" stroke=\"#000000\" stroke-opacity=\"1\" stroke-width=\"3.2\"/>\n",
       "<circle clip-path=\"url(#clip842)\" cx=\"334.032\" cy=\"117.092\" r=\"14.4\" fill=\"#e26f46\" fill-rule=\"evenodd\" fill-opacity=\"1\" stroke=\"#000000\" stroke-opacity=\"1\" stroke-width=\"3.2\"/>\n",
       "<circle clip-path=\"url(#clip842)\" cx=\"2035.93\" cy=\"117.092\" r=\"14.4\" fill=\"#e26f46\" fill-rule=\"evenodd\" fill-opacity=\"1\" stroke=\"#000000\" stroke-opacity=\"1\" stroke-width=\"3.2\"/>\n",
       "<circle clip-path=\"url(#clip842)\" cx=\"1583.38\" cy=\"117.092\" r=\"14.4\" fill=\"#e26f46\" fill-rule=\"evenodd\" fill-opacity=\"1\" stroke=\"#000000\" stroke-opacity=\"1\" stroke-width=\"3.2\"/>\n",
       "<circle clip-path=\"url(#clip842)\" cx=\"2035.93\" cy=\"117.092\" r=\"14.4\" fill=\"#e26f46\" fill-rule=\"evenodd\" fill-opacity=\"1\" stroke=\"#000000\" stroke-opacity=\"1\" stroke-width=\"3.2\"/>\n",
       "<circle clip-path=\"url(#clip842)\" cx=\"1657.84\" cy=\"117.092\" r=\"14.4\" fill=\"#e26f46\" fill-rule=\"evenodd\" fill-opacity=\"1\" stroke=\"#000000\" stroke-opacity=\"1\" stroke-width=\"3.2\"/>\n",
       "<circle clip-path=\"url(#clip842)\" cx=\"2035.93\" cy=\"117.092\" r=\"14.4\" fill=\"#e26f46\" fill-rule=\"evenodd\" fill-opacity=\"1\" stroke=\"#000000\" stroke-opacity=\"1\" stroke-width=\"3.2\"/>\n",
       "<circle clip-path=\"url(#clip842)\" cx=\"1256.13\" cy=\"117.092\" r=\"14.4\" fill=\"#e26f46\" fill-rule=\"evenodd\" fill-opacity=\"1\" stroke=\"#000000\" stroke-opacity=\"1\" stroke-width=\"3.2\"/>\n",
       "<circle clip-path=\"url(#clip842)\" cx=\"1578.32\" cy=\"117.092\" r=\"14.4\" fill=\"#e26f46\" fill-rule=\"evenodd\" fill-opacity=\"1\" stroke=\"#000000\" stroke-opacity=\"1\" stroke-width=\"3.2\"/>\n",
       "<circle clip-path=\"url(#clip842)\" cx=\"1592.91\" cy=\"117.092\" r=\"14.4\" fill=\"#e26f46\" fill-rule=\"evenodd\" fill-opacity=\"1\" stroke=\"#000000\" stroke-opacity=\"1\" stroke-width=\"3.2\"/>\n",
       "<circle clip-path=\"url(#clip842)\" cx=\"2035.93\" cy=\"117.092\" r=\"14.4\" fill=\"#e26f46\" fill-rule=\"evenodd\" fill-opacity=\"1\" stroke=\"#000000\" stroke-opacity=\"1\" stroke-width=\"3.2\"/>\n",
       "<circle clip-path=\"url(#clip842)\" cx=\"334.032\" cy=\"1353.33\" r=\"14.4\" fill=\"#e26f46\" fill-rule=\"evenodd\" fill-opacity=\"1\" stroke=\"#000000\" stroke-opacity=\"1\" stroke-width=\"3.2\"/>\n",
       "<circle clip-path=\"url(#clip842)\" cx=\"334.032\" cy=\"117.092\" r=\"14.4\" fill=\"#e26f46\" fill-rule=\"evenodd\" fill-opacity=\"1\" stroke=\"#000000\" stroke-opacity=\"1\" stroke-width=\"3.2\"/>\n",
       "<circle clip-path=\"url(#clip842)\" cx=\"2035.93\" cy=\"117.092\" r=\"14.4\" fill=\"#e26f46\" fill-rule=\"evenodd\" fill-opacity=\"1\" stroke=\"#000000\" stroke-opacity=\"1\" stroke-width=\"3.2\"/>\n",
       "<circle clip-path=\"url(#clip842)\" cx=\"2035.93\" cy=\"117.092\" r=\"14.4\" fill=\"#e26f46\" fill-rule=\"evenodd\" fill-opacity=\"1\" stroke=\"#000000\" stroke-opacity=\"1\" stroke-width=\"3.2\"/>\n",
       "<circle clip-path=\"url(#clip842)\" cx=\"1554.92\" cy=\"117.092\" r=\"14.4\" fill=\"#e26f46\" fill-rule=\"evenodd\" fill-opacity=\"1\" stroke=\"#000000\" stroke-opacity=\"1\" stroke-width=\"3.2\"/>\n",
       "<circle clip-path=\"url(#clip842)\" cx=\"2035.93\" cy=\"117.092\" r=\"14.4\" fill=\"#e26f46\" fill-rule=\"evenodd\" fill-opacity=\"1\" stroke=\"#000000\" stroke-opacity=\"1\" stroke-width=\"3.2\"/>\n",
       "<circle clip-path=\"url(#clip842)\" cx=\"2035.93\" cy=\"1353.33\" r=\"14.4\" fill=\"#e26f46\" fill-rule=\"evenodd\" fill-opacity=\"1\" stroke=\"#000000\" stroke-opacity=\"1\" stroke-width=\"3.2\"/>\n",
       "<circle clip-path=\"url(#clip842)\" cx=\"2035.93\" cy=\"117.092\" r=\"14.4\" fill=\"#e26f46\" fill-rule=\"evenodd\" fill-opacity=\"1\" stroke=\"#000000\" stroke-opacity=\"1\" stroke-width=\"3.2\"/>\n",
       "<circle clip-path=\"url(#clip842)\" cx=\"1574.84\" cy=\"117.092\" r=\"14.4\" fill=\"#e26f46\" fill-rule=\"evenodd\" fill-opacity=\"1\" stroke=\"#000000\" stroke-opacity=\"1\" stroke-width=\"3.2\"/>\n",
       "<circle clip-path=\"url(#clip842)\" cx=\"1692.51\" cy=\"117.092\" r=\"14.4\" fill=\"#e26f46\" fill-rule=\"evenodd\" fill-opacity=\"1\" stroke=\"#000000\" stroke-opacity=\"1\" stroke-width=\"3.2\"/>\n",
       "<circle clip-path=\"url(#clip842)\" cx=\"2035.93\" cy=\"117.092\" r=\"14.4\" fill=\"#e26f46\" fill-rule=\"evenodd\" fill-opacity=\"1\" stroke=\"#000000\" stroke-opacity=\"1\" stroke-width=\"3.2\"/>\n",
       "<circle clip-path=\"url(#clip842)\" cx=\"1668.45\" cy=\"117.092\" r=\"14.4\" fill=\"#e26f46\" fill-rule=\"evenodd\" fill-opacity=\"1\" stroke=\"#000000\" stroke-opacity=\"1\" stroke-width=\"3.2\"/>\n",
       "<circle clip-path=\"url(#clip842)\" cx=\"1741.5\" cy=\"117.092\" r=\"14.4\" fill=\"#e26f46\" fill-rule=\"evenodd\" fill-opacity=\"1\" stroke=\"#000000\" stroke-opacity=\"1\" stroke-width=\"3.2\"/>\n",
       "<circle clip-path=\"url(#clip842)\" cx=\"2035.93\" cy=\"1353.33\" r=\"14.4\" fill=\"#e26f46\" fill-rule=\"evenodd\" fill-opacity=\"1\" stroke=\"#000000\" stroke-opacity=\"1\" stroke-width=\"3.2\"/>\n",
       "<circle clip-path=\"url(#clip842)\" cx=\"1565.16\" cy=\"117.092\" r=\"14.4\" fill=\"#e26f46\" fill-rule=\"evenodd\" fill-opacity=\"1\" stroke=\"#000000\" stroke-opacity=\"1\" stroke-width=\"3.2\"/>\n",
       "<circle clip-path=\"url(#clip842)\" cx=\"2035.93\" cy=\"117.092\" r=\"14.4\" fill=\"#e26f46\" fill-rule=\"evenodd\" fill-opacity=\"1\" stroke=\"#000000\" stroke-opacity=\"1\" stroke-width=\"3.2\"/>\n",
       "<circle clip-path=\"url(#clip842)\" cx=\"334.032\" cy=\"117.092\" r=\"14.4\" fill=\"#e26f46\" fill-rule=\"evenodd\" fill-opacity=\"1\" stroke=\"#000000\" stroke-opacity=\"1\" stroke-width=\"3.2\"/>\n",
       "<circle clip-path=\"url(#clip842)\" cx=\"334.032\" cy=\"117.092\" r=\"14.4\" fill=\"#e26f46\" fill-rule=\"evenodd\" fill-opacity=\"1\" stroke=\"#000000\" stroke-opacity=\"1\" stroke-width=\"3.2\"/>\n",
       "<defs>\n",
       "  <clipPath id=\"clip843\">\n",
       "    <rect x=\"2160\" y=\"47\" width=\"73\" height=\"1377\"/>\n",
       "  </clipPath>\n",
       "</defs>\n",
       "<g clip-path=\"url(#clip843)\">\n",
       "<image width=\"72\" height=\"1376\" xlink:href=\"data:image/png;base64,\n",
       "iVBORw0KGgoAAAANSUhEUgAAAEgAAAVgCAYAAADsKhu7AAAL6UlEQVR4nO3dwZEjNxBFQVBR/lsh\n",
       "L6UFZIHqHclDpgUTL35wCXTP7Off+/c7/K+/vv0D/DqBgkBBoCBQmPv+/fbP8NMsKAgUBAoChXnv\n",
       "z7d/hp9mQUGgIFAQKAgUHDWCBQWBgkBBoDDPh/TKgoJAQaAgUJh3fUhvLCgIFAQKAgWBgqNGsKAg\n",
       "UBAoCBR8SAcLCgIFgYJAwX1QsKAgUBAoCBQECnMcNVYWFAQKAgWBgvugYEFBoCBQECgIFOa4MFtZ\n",
       "UBAoCBQECnPuP9/+GX6aBQWBgkBBoODSPlhQECgIFAQKAgX3QcGCgkBBoCBQ8CEdLCgIFAQKAgX3\n",
       "QcGCgkBBoCBQECjMx1FjZUFBoCBQECjMuf5XhI0FBYGCQEGgIFBw1AgWFAQKAgWBgqNGsKAgUBAo\n",
       "CBS8HxQsKAgUBAoCBYHCfBw1VhYUBAoCBYGCt1yDBQWBgkBBoOCbdLCgIFAQKAgUBAoePQcLCgIF\n",
       "gYJAwVEjWFAQKAgUBAoCBUeNYEFBoCBQECg4agQLCgIFgYJAYc693/4ZfpoFBYGCQEGgIFBw1AgW\n",
       "FAQKAgWBgkv7YEFBoCBQECj4kA4WFAQKAgWBgkBhPp5qrCwoCBQECgIFR41gQUGgIFAQKAgUvEAV\n",
       "LCgIFAQKAgX3QcGCgkBBoCBQcB8ULCgIFAQKAgWBgvugYEFBoCBQECj4kA4WFAQKAgWBgl/qDRYU\n",
       "BAoCBYGCQMFRI1hQECgIFAQKPqSDBQWBgkBBoCBQ8K9YsKAgUBAoCBR8SAcLCgIFgYJAYc7zIb2x\n",
       "oCBQECgIFAQKjhrBgoJAQaAgUPAhHSwoCBQECgIFH9LBgoJAQaAgUBAozLnv2z/DT7OgIFAQKAgU\n",
       "HDWCBQWBgkBBoCBQcNQIFhQECgIFgYKjRrCgIFAQKAgUfJMOFhQECgIFgYJAYY6TxsqCgkBBoCBQ\n",
       "mPMcNTYWFAQKAgWBgm/SwYKCQEGgIFAQKPhXLFhQECgIFAQK44/g7SwoCBQECgIFgYKjRrCgIFAQ\n",
       "KAgUfEgHCwoCBYGCQGHO/Xz7Z/hpFhQECgIFgYJAYd7zr9jGgoJAQaAgUHAfFCwoCBQECgIF90HB\n",
       "goJAQaAgUBAozLsabdQJAgWBgkDBUSNYUBAoCBQECgKFOR49rywoCBQECgKFeY4aKwsKAgWBgkBh\n",
       "jkv7lTpBoCBQECgIFBw1ggUFgYJAQaDg0j5YUBAoCBQECl7iDOoEgYJAQaAgUPCWa7CgIFAQKAgU\n",
       "XNoHCwoCBYGCQEGgMO9ptFEnCBQECgIF90HBgoJAQaAgUHAfFCwoCBQECgIFgcIc90ErdYJAQaAg\n",
       "UHDUCBYUBAoCBYGCD+lgQUGgIFAQKAgU/NZzsKAgUBAoCBT81nNQJwgUBAoCBYHCPEeNlQUFgYJA\n",
       "QaDgqUawoCBQECgIFPyvCEGdIFAQKAgUBArug4IFBYGCQEGg4D4oWFAQKAgUBAq+SQcLCgIFgYJA\n",
       "QaDgLdegThAoCBQECo4awYKCQEGgIFAQKHiqESwoCBQECgIFR41gQUGgIFAQKPiva4IFBYGCQEGg\n",
       "IFDwv2QGdYJAQaAgUHAfFCwoCBQECgIFT1aDBQWBgkBBoCBQcNQIFhQECgIFgcJcH9IrCwoCBYGC\n",
       "QEGg4LeegzpBoCBQECi4DwoWFAQKAgWBgg/pYEFBoCBQECgIFLxAFSwoCBQECgIFR41gQUGgIFAQ\n",
       "KPiQDhYUBAoCBYGCQMGfpgjqBIGCQEGgMNel/cqCgkBBoCBQECi4MAsWFAQKAgWBgg/pYEFBoCBQ\n",
       "ECj4kA4WFAQKAgWBgkDBH1gKFhQECgIFgYKjRrCgIFAQKAgUfEgHCwoCBYGCQEGg4FcRgjpBoCBQ\n",
       "ECj4VYRgQUGgIFAQKAgUXJgFCwoCBYGCQMGHdLCgIFAQKAgUvMQZLCgIFAQKAgWBgqNGsKAgUBAo\n",
       "CBTmHR/SGwsKAgWBgkDBfVCwoCBQECgIFAQK7oOCBQWBgkBBoOCoESwoCBQECgIFgYKjRrCgIFAQ\n",
       "KAgUHDWCBQWBgkBBoOCbdLCgIFAQKAgUBAr+FQsWFAQKAgWBwly/irCyoCBQECgIFHyTDhYUBAoC\n",
       "BYGCQMGj52BBQaAgUBAozHvf/hF+mwUFgYJAQaAgUHDUCBYUBAoCBYGCv4IXLCgIFAQKAgXfpIMF\n",
       "BYGCQEGgIFDwAlWwoCBQECgIFPwqQrCgIFAQKAgUvB8ULCgIFAQKAgWBgqcawYKCQEGgIFBwaR8s\n",
       "KAgUBAoCBYGCpxrBgoJAQaAgUHAfFCwoCBQECgIFj56DBQWBgkBBoCBQcB8ULCgIFAQKAgWPnoMF\n",
       "BYGCQEGgMPfbP8GPs6AgUBAoCBQECo4awYKCQEGgIFDwflCwoCBQECgIFAQKLsyCBQWBgkBBoOA+\n",
       "KFhQECgIFAQKvkkHCwoCBYGCQEGg4KgRLCgIFAQKAgWPnoMFBYGCQEGgMP4yxc6CgkBBoCBQECg4\n",
       "agQLCgIFgYJAwaPnYEFBoCBQECgIFDx6DhYUBAoCBYGCo0awoCBQECgIFHyTDhYUBAoCBYGCQGGu\n",
       "N6hWFhQECgIFgYL7oGBBQaAgUBAouA8KFhQECgIFgYJAwVEjWFAQKAgUBArzXNqvLCgIFAQKAgWB\n",
       "wtzjwmxjQUGgIFAQKHg/KFhQECgIFAQK/gpesKAgUBAoCBQECv4KXrCgIFAQKAgUPHoOFhQECgIF\n",
       "gYKXOIMFBYGCQEGgIFDwC3XBgoJAQaAgUHDUCBYUBAoCBYGCQMFbrsGCgkBBoCBQ8JZrsKAgUBAo\n",
       "CBR8kw4WFAQKAgWBgkDBW67BgoJAQaAgUPD3g4IFBYGCQEGg4D4oWFAQKAgUBAoCBY+egwUFgYJA\n",
       "QaDgqBEsKAgUBAoCBYGCo0awoCBQECgIFBw1ggUFgYJAQaDgQzpYUBAoCBQECgIF90HBgoJAQaAg\n",
       "UHDUCBYUBAoCBYGCb9LBgoJAQaAgUBAoOGoECwoCBYGCQMHfDwoWFAQKAgWBgkDB/+0TLCgIFAQK\n",
       "AgX3QcGCgkBBoCBQmHd8Sm8sKAgUBAoCBYGCo0awoCBQECgIFDx6DhYUBAoCBYGCJ6vBgoJAQaAg\n",
       "UBAouA8KFhQECgIFgYJHz8GCgkBBoCBQECg4agQLCgIFgYJAwR9YChYUBAoCBYHCXC8IrSwoCBQE\n",
       "CgIFgYIXqIIFBYGCQEGgMM9RY2VBQaAgUBAo+CYdLCgIFAQKAgWBgqcawYKCQEGgIFDwflCwoCBQ\n",
       "ECgIFAQKc/1C3cqCgkBBoCBQcB8ULCgIFAQKAgV/miJYUBAoCBQECgIFL1AFCwoCBYGCQMGlfbCg\n",
       "IFAQKAgU3AcFCwoCBYGCQEGgMPe4EdpYUBAoCBQECu6DggUFgYJAQaAgUPCvWLCgIFAQKAgUPNUI\n",
       "FhQECgIFgYJL+2BBQaAgUBAoCBTmfhw1NhYUBAoCBYGCo0awoCBQECgIFOb5kF5ZUBAoCBQECgIF\n",
       "R41gQUGgIFAQKMz9+JDeWFAQKAgUBAoCBUeNYEFBoCBQECh4qhEsKAgUBAoCBd+kgwUFgYJAQaAg\n",
       "UPCvWLCgIFAQKAgUPHoOFhQECgIFgcK88+fbP8NPs6AgUBAoCBQECu6DggUFgYJAQaDg/aBgQUGg\n",
       "IFAQKAgU5j4XZhsLCgIFgYJAwVEjWFAQKAgUBApzPXpeWVAQKAgUBAoCBUeNYEFBoCBQECg4agQL\n",
       "CgIFgYJAYd7zTXpjQUGgIFAQKAgU3AcFCwoCBYGCQMFLnMGCgkBBoCBQECg4agQLCgIFgYJAYZ6j\n",
       "xsqCgkBBoCBQ8E06WFAQKAgUBAoChbleoFpZUBAoCBQECv7gdrCgIFAQKAgU/CpCsKAgUBAoCBQE\n",
       "Cp5qBAsKAgWBgkDBUSNYUBAoCBQECgIF/4oFCwoCBYGCQMGj52BBQaAgUBAo+CYdLCgIFAQKAgWB\n",
       "whyPnlcWFAQKAgWBgqNGsKAgUBAoCBS8xBksKAgUBAoCBYHCHEeNlQUFgYJAQaDg/aBgQUGgIFAQ\n",
       "KAgUPHoOFhQECgIFgYL7oGBBQaAgUBAozDvv2z/DT7OgIFAQKAgUBArug4IFBYGCQEGgMMdRY2VB\n",
       "QaAgUBAo/AdhU+3PqlcPeQAAAABJRU5ErkJggg==\n",
       "\" transform=\"translate(2161, 47)\"/>\n",
       "</g>\n",
       "<path clip-path=\"url(#clip840)\" d=\"M2268.76 1274.78 L2290.98 1274.78 L2290.98 1276.77 L2278.43 1309.34 L2273.55 1309.34 L2285.35 1278.72 L2268.76 1278.72 L2268.76 1274.78 Z\" fill=\"#000000\" fill-rule=\"nonzero\" fill-opacity=\"1\" /><path clip-path=\"url(#clip840)\" d=\"M2300.1 1303.46 L2304.98 1303.46 L2304.98 1309.34 L2300.1 1309.34 L2300.1 1303.46 Z\" fill=\"#000000\" fill-rule=\"nonzero\" fill-opacity=\"1\" /><path clip-path=\"url(#clip840)\" d=\"M2315.21 1274.78 L2333.57 1274.78 L2333.57 1278.72 L2319.5 1278.72 L2319.5 1287.19 Q2320.51 1286.84 2321.53 1286.68 Q2322.55 1286.49 2323.57 1286.49 Q2329.36 1286.49 2332.74 1289.67 Q2336.12 1292.84 2336.12 1298.25 Q2336.12 1303.83 2332.64 1306.93 Q2329.17 1310.01 2322.85 1310.01 Q2320.68 1310.01 2318.41 1309.64 Q2316.16 1309.27 2313.76 1308.53 L2313.76 1303.83 Q2315.84 1304.97 2318.06 1305.52 Q2320.28 1306.08 2322.76 1306.08 Q2326.76 1306.08 2329.1 1303.97 Q2331.44 1301.86 2331.44 1298.25 Q2331.44 1294.64 2329.1 1292.54 Q2326.76 1290.43 2322.76 1290.43 Q2320.89 1290.43 2319.01 1290.85 Q2317.16 1291.26 2315.21 1292.14 L2315.21 1274.78 Z\" fill=\"#000000\" fill-rule=\"nonzero\" fill-opacity=\"1\" /><path clip-path=\"url(#clip840)\" d=\"M2269.43 1095.37 L2277.07 1095.37 L2277.07 1069 L2268.76 1070.67 L2268.76 1066.41 L2277.02 1064.75 L2281.7 1064.75 L2281.7 1095.37 L2289.33 1095.37 L2289.33 1099.31 L2269.43 1099.31 L2269.43 1095.37 Z\" fill=\"#000000\" fill-rule=\"nonzero\" fill-opacity=\"1\" /><path clip-path=\"url(#clip840)\" d=\"M2308.78 1067.82 Q2305.17 1067.82 2303.34 1071.39 Q2301.53 1074.93 2301.53 1082.06 Q2301.53 1089.17 2303.34 1092.73 Q2305.17 1096.27 2308.78 1096.27 Q2312.41 1096.27 2314.22 1092.73 Q2316.05 1089.17 2316.05 1082.06 Q2316.05 1074.93 2314.22 1071.39 Q2312.41 1067.82 2308.78 1067.82 M2308.78 1064.12 Q2314.59 1064.12 2317.64 1068.73 Q2320.72 1073.31 2320.72 1082.06 Q2320.72 1090.79 2317.64 1095.39 Q2314.59 1099.98 2308.78 1099.98 Q2302.97 1099.98 2299.89 1095.39 Q2296.83 1090.79 2296.83 1082.06 Q2296.83 1073.31 2299.89 1068.73 Q2302.97 1064.12 2308.78 1064.12 Z\" fill=\"#000000\" fill-rule=\"nonzero\" fill-opacity=\"1\" /><path clip-path=\"url(#clip840)\" d=\"M2328.94 1093.43 L2333.83 1093.43 L2333.83 1099.31 L2328.94 1099.31 L2328.94 1093.43 Z\" fill=\"#000000\" fill-rule=\"nonzero\" fill-opacity=\"1\" /><path clip-path=\"url(#clip840)\" d=\"M2354.01 1067.82 Q2350.4 1067.82 2348.57 1071.39 Q2346.76 1074.93 2346.76 1082.06 Q2346.76 1089.17 2348.57 1092.73 Q2350.4 1096.27 2354.01 1096.27 Q2357.64 1096.27 2359.45 1092.73 Q2361.28 1089.17 2361.28 1082.06 Q2361.28 1074.93 2359.45 1071.39 Q2357.64 1067.82 2354.01 1067.82 M2354.01 1064.12 Q2359.82 1064.12 2362.88 1068.73 Q2365.95 1073.31 2365.95 1082.06 Q2365.95 1090.79 2362.88 1095.39 Q2359.82 1099.98 2354.01 1099.98 Q2348.2 1099.98 2345.12 1095.39 Q2342.07 1090.79 2342.07 1082.06 Q2342.07 1073.31 2345.12 1068.73 Q2348.2 1064.12 2354.01 1064.12 Z\" fill=\"#000000\" fill-rule=\"nonzero\" fill-opacity=\"1\" /><path clip-path=\"url(#clip840)\" d=\"M2269.43 885.335 L2277.07 885.335 L2277.07 858.97 L2268.76 860.636 L2268.76 856.377 L2277.02 854.71 L2281.7 854.71 L2281.7 885.335 L2289.33 885.335 L2289.33 889.27 L2269.43 889.27 L2269.43 885.335 Z\" fill=\"#000000\" fill-rule=\"nonzero\" fill-opacity=\"1\" /><path clip-path=\"url(#clip840)\" d=\"M2302.81 885.335 L2319.13 885.335 L2319.13 889.27 L2297.18 889.27 L2297.18 885.335 Q2299.84 882.581 2304.43 877.951 Q2309.03 873.298 2310.21 871.956 Q2312.46 869.432 2313.34 867.696 Q2314.24 865.937 2314.24 864.247 Q2314.24 861.493 2312.3 859.757 Q2310.38 858.02 2307.27 858.02 Q2305.08 858.02 2302.62 858.784 Q2300.19 859.548 2297.41 861.099 L2297.41 856.377 Q2300.24 855.243 2302.69 854.664 Q2305.14 854.085 2307.18 854.085 Q2312.55 854.085 2315.75 856.77 Q2318.94 859.456 2318.94 863.946 Q2318.94 866.076 2318.13 867.997 Q2317.34 869.895 2315.24 872.488 Q2314.66 873.159 2311.56 876.377 Q2308.45 879.571 2302.81 885.335 Z\" fill=\"#000000\" fill-rule=\"nonzero\" fill-opacity=\"1\" /><path clip-path=\"url(#clip840)\" d=\"M2328.94 883.391 L2333.83 883.391 L2333.83 889.27 L2328.94 889.27 L2328.94 883.391 Z\" fill=\"#000000\" fill-rule=\"nonzero\" fill-opacity=\"1\" /><path clip-path=\"url(#clip840)\" d=\"M2344.06 854.71 L2362.41 854.71 L2362.41 858.645 L2348.34 858.645 L2348.34 867.118 Q2349.36 866.77 2350.38 866.608 Q2351.39 866.423 2352.41 866.423 Q2358.2 866.423 2361.58 869.594 Q2364.96 872.766 2364.96 878.182 Q2364.96 883.761 2361.49 886.863 Q2358.01 889.942 2351.7 889.942 Q2349.52 889.942 2347.25 889.571 Q2345.01 889.201 2342.6 888.46 L2342.6 883.761 Q2344.68 884.895 2346.9 885.451 Q2349.13 886.006 2351.6 886.006 Q2355.61 886.006 2357.95 883.9 Q2360.28 881.793 2360.28 878.182 Q2360.28 874.571 2357.95 872.465 Q2355.61 870.358 2351.6 870.358 Q2349.73 870.358 2347.85 870.775 Q2346 871.192 2344.06 872.071 L2344.06 854.71 Z\" fill=\"#000000\" fill-rule=\"nonzero\" fill-opacity=\"1\" /><path clip-path=\"url(#clip840)\" d=\"M2269.43 675.3 L2277.07 675.3 L2277.07 648.934 L2268.76 650.601 L2268.76 646.342 L2277.02 644.675 L2281.7 644.675 L2281.7 675.3 L2289.33 675.3 L2289.33 679.235 L2269.43 679.235 L2269.43 675.3 Z\" fill=\"#000000\" fill-rule=\"nonzero\" fill-opacity=\"1\" /><path clip-path=\"url(#clip840)\" d=\"M2298.83 644.675 L2317.18 644.675 L2317.18 648.61 L2303.11 648.61 L2303.11 657.082 Q2304.13 656.735 2305.14 656.573 Q2306.16 656.388 2307.18 656.388 Q2312.97 656.388 2316.35 659.559 Q2319.73 662.73 2319.73 668.147 Q2319.73 673.726 2316.26 676.827 Q2312.78 679.906 2306.46 679.906 Q2304.29 679.906 2302.02 679.536 Q2299.77 679.165 2297.37 678.425 L2297.37 673.726 Q2299.45 674.86 2301.67 675.415 Q2303.89 675.971 2306.37 675.971 Q2310.38 675.971 2312.71 673.865 Q2315.05 671.758 2315.05 668.147 Q2315.05 664.536 2312.71 662.429 Q2310.38 660.323 2306.37 660.323 Q2304.5 660.323 2302.62 660.74 Q2300.77 661.156 2298.83 662.036 L2298.83 644.675 Z\" fill=\"#000000\" fill-rule=\"nonzero\" fill-opacity=\"1\" /><path clip-path=\"url(#clip840)\" d=\"M2328.94 673.355 L2333.83 673.355 L2333.83 679.235 L2328.94 679.235 L2328.94 673.355 Z\" fill=\"#000000\" fill-rule=\"nonzero\" fill-opacity=\"1\" /><path clip-path=\"url(#clip840)\" d=\"M2354.01 647.754 Q2350.4 647.754 2348.57 651.318 Q2346.76 654.86 2346.76 661.99 Q2346.76 669.096 2348.57 672.661 Q2350.4 676.202 2354.01 676.202 Q2357.64 676.202 2359.45 672.661 Q2361.28 669.096 2361.28 661.99 Q2361.28 654.86 2359.45 651.318 Q2357.64 647.754 2354.01 647.754 M2354.01 644.05 Q2359.82 644.05 2362.88 648.656 Q2365.95 653.24 2365.95 661.99 Q2365.95 670.716 2362.88 675.323 Q2359.82 679.906 2354.01 679.906 Q2348.2 679.906 2345.12 675.323 Q2342.07 670.716 2342.07 661.99 Q2342.07 653.24 2345.12 648.656 Q2348.2 644.05 2354.01 644.05 Z\" fill=\"#000000\" fill-rule=\"nonzero\" fill-opacity=\"1\" /><path clip-path=\"url(#clip840)\" d=\"M2269.43 465.264 L2277.07 465.264 L2277.07 438.899 L2268.76 440.565 L2268.76 436.306 L2277.02 434.639 L2281.7 434.639 L2281.7 465.264 L2289.33 465.264 L2289.33 469.199 L2269.43 469.199 L2269.43 465.264 Z\" fill=\"#000000\" fill-rule=\"nonzero\" fill-opacity=\"1\" /><path clip-path=\"url(#clip840)\" d=\"M2297.6 434.639 L2319.82 434.639 L2319.82 436.63 L2307.27 469.199 L2302.39 469.199 L2314.2 438.575 L2297.6 438.575 L2297.6 434.639 Z\" fill=\"#000000\" fill-rule=\"nonzero\" fill-opacity=\"1\" /><path clip-path=\"url(#clip840)\" d=\"M2328.94 463.32 L2333.83 463.32 L2333.83 469.199 L2328.94 469.199 L2328.94 463.32 Z\" fill=\"#000000\" fill-rule=\"nonzero\" fill-opacity=\"1\" /><path clip-path=\"url(#clip840)\" d=\"M2344.06 434.639 L2362.41 434.639 L2362.41 438.575 L2348.34 438.575 L2348.34 447.047 Q2349.36 446.7 2350.38 446.537 Q2351.39 446.352 2352.41 446.352 Q2358.2 446.352 2361.58 449.524 Q2364.96 452.695 2364.96 458.112 Q2364.96 463.69 2361.49 466.792 Q2358.01 469.871 2351.7 469.871 Q2349.52 469.871 2347.25 469.5 Q2345.01 469.13 2342.6 468.389 L2342.6 463.69 Q2344.68 464.824 2346.9 465.38 Q2349.13 465.936 2351.6 465.936 Q2355.61 465.936 2357.95 463.829 Q2360.28 461.723 2360.28 458.112 Q2360.28 454.5 2357.95 452.394 Q2355.61 450.287 2351.6 450.287 Q2349.73 450.287 2347.85 450.704 Q2346 451.121 2344.06 452 L2344.06 434.639 Z\" fill=\"#000000\" fill-rule=\"nonzero\" fill-opacity=\"1\" /><path clip-path=\"url(#clip840)\" d=\"M2274.38 255.229 L2290.7 255.229 L2290.7 259.164 L2268.76 259.164 L2268.76 255.229 Q2271.42 252.474 2276 247.845 Q2280.61 243.192 2281.79 241.849 Q2284.03 239.326 2284.91 237.59 Q2285.82 235.831 2285.82 234.141 Q2285.82 231.386 2283.87 229.65 Q2281.95 227.914 2278.85 227.914 Q2276.65 227.914 2274.2 228.678 Q2271.77 229.442 2268.99 230.993 L2268.99 226.271 Q2271.81 225.136 2274.27 224.558 Q2276.72 223.979 2278.76 223.979 Q2284.13 223.979 2287.32 226.664 Q2290.52 229.349 2290.52 233.84 Q2290.52 235.97 2289.7 237.891 Q2288.92 239.789 2286.81 242.382 Q2286.23 243.053 2283.13 246.271 Q2280.03 249.465 2274.38 255.229 Z\" fill=\"#000000\" fill-rule=\"nonzero\" fill-opacity=\"1\" /><path clip-path=\"url(#clip840)\" d=\"M2310.51 227.683 Q2306.9 227.683 2305.08 231.247 Q2303.27 234.789 2303.27 241.919 Q2303.27 249.025 2305.08 252.59 Q2306.9 256.132 2310.51 256.132 Q2314.15 256.132 2315.95 252.59 Q2317.78 249.025 2317.78 241.919 Q2317.78 234.789 2315.95 231.247 Q2314.15 227.683 2310.51 227.683 M2310.51 223.979 Q2316.33 223.979 2319.38 228.585 Q2322.46 233.169 2322.46 241.919 Q2322.46 250.645 2319.38 255.252 Q2316.33 259.835 2310.51 259.835 Q2304.7 259.835 2301.63 255.252 Q2298.57 250.645 2298.57 241.919 Q2298.57 233.169 2301.63 228.585 Q2304.7 223.979 2310.51 223.979 Z\" fill=\"#000000\" fill-rule=\"nonzero\" fill-opacity=\"1\" /><path clip-path=\"url(#clip840)\" d=\"M2330.68 253.284 L2335.56 253.284 L2335.56 259.164 L2330.68 259.164 L2330.68 253.284 Z\" fill=\"#000000\" fill-rule=\"nonzero\" fill-opacity=\"1\" /><path clip-path=\"url(#clip840)\" d=\"M2355.75 227.683 Q2352.14 227.683 2350.31 231.247 Q2348.5 234.789 2348.5 241.919 Q2348.5 249.025 2350.31 252.59 Q2352.14 256.132 2355.75 256.132 Q2359.38 256.132 2361.19 252.59 Q2363.01 249.025 2363.01 241.919 Q2363.01 234.789 2361.19 231.247 Q2359.38 227.683 2355.75 227.683 M2355.75 223.979 Q2361.56 223.979 2364.61 228.585 Q2367.69 233.169 2367.69 241.919 Q2367.69 250.645 2364.61 255.252 Q2361.56 259.835 2355.75 259.835 Q2349.94 259.835 2346.86 255.252 Q2343.8 250.645 2343.8 241.919 Q2343.8 233.169 2346.86 228.585 Q2349.94 223.979 2355.75 223.979 Z\" fill=\"#000000\" fill-rule=\"nonzero\" fill-opacity=\"1\" /><polyline clip-path=\"url(#clip840)\" style=\"stroke:#000000; stroke-linecap:round; stroke-linejoin:round; stroke-width:4; stroke-opacity:1; fill:none\" points=\"2232.76,1423.18 2232.76,1295.69 2256.76,1295.69 2232.76,1295.69 2232.76,1085.65 2256.76,1085.65 2232.76,1085.65 2232.76,875.619 2256.76,875.619 2232.76,875.619 2232.76,665.584 2256.76,665.584 2232.76,665.584 2232.76,455.548 2256.76,455.548 2232.76,455.548 2232.76,245.513 2256.76,245.513 2232.76,245.513 2232.76,47.2441 \"/>\n",
       "</svg>\n"
      ]
     },
     "execution_count": 20,
     "metadata": {},
     "output_type": "execute_result"
    }
   ],
   "source": [
    "# variables = [\"s1\", \"s2\", \"s3\", \"s4\", \"Δ1=Δ3\", \"Δ2\", \"Δ4\"]\n",
    "variables = [\"s1\", \"s3\", \"s4\", \"Δ1=Δ3\", \"Δ4\", \"pol1\", \"pol3\", \"pol4\"]\n",
    "\n",
    "idx1 = 1\n",
    "idx2 = 8\n",
    "\n",
    "list1 = opt.lowerbounds[idx1]:0.1:opt.upperbounds[idx1]\n",
    "list2 = opt.lowerbounds[idx2]:0.1:opt.upperbounds[idx2]\n",
    "\n",
    "preds_mat = zeros(length(list1), length(list2))\n",
    "points = zeros(8, 1)\n",
    "\n",
    "for (i, val1) ∈ enumerate(list1)\n",
    "    for (j, val2) ∈ enumerate(list2)\n",
    "        points[:,1] .= opt.model_optimizer\n",
    "        points[idx1,1] = val1\n",
    "        points[idx2,1] = val2\n",
    "        preds_mat[i,j] = predict_y(opt.model, points)[1][1]\n",
    "    end\n",
    "end\n",
    "heatmap(list1, list2, preds_mat')\n",
    "scatter!(opt.model.x[idx1,:], opt.model.x[idx2,:], legend=nothing, xlabel=variables[idx1], ylabel=variables[idx2])"
   ]
  },
  {
   "cell_type": "code",
   "execution_count": 112,
   "id": "41b259b2-a61b-4008-af0f-4d7cae45397f",
   "metadata": {},
   "outputs": [
    {
     "data": {
      "text/plain": [
       "UpperConfidenceBound{BrochuBetaScaling}(BrochuBetaScaling(0.1), 9.530831449357468)"
      ]
     },
     "execution_count": 112,
     "metadata": {},
     "output_type": "execute_result"
    }
   ],
   "source": [
    "opt.acquisition"
   ]
  },
  {
   "cell_type": "code",
   "execution_count": 30,
   "id": "a109f01b",
   "metadata": {},
   "outputs": [
    {
     "data": {
      "text/plain": [
       "7-element Vector{Float64}:\n",
       "  4.0\n",
       "  3.2953050501635595\n",
       "  0.1860363733133069\n",
       "  4.0\n",
       "  4.0\n",
       " -5.0\n",
       " 27.801602313493724"
      ]
     },
     "execution_count": 30,
     "metadata": {},
     "output_type": "execute_result"
    }
   ],
   "source": [
    "opt.model_optimizer"
   ]
  },
  {
   "cell_type": "code",
   "execution_count": 31,
   "id": "97fd0032-f320-4997-98e4-80926471c879",
   "metadata": {},
   "outputs": [
    {
     "data": {
      "text/plain": [
       "7-element Vector{Float64}:\n",
       "  4.0\n",
       "  4.0\n",
       "  0.0\n",
       "  4.0\n",
       "  0.5\n",
       " -1.0\n",
       " 50.0"
      ]
     },
     "execution_count": 31,
     "metadata": {},
     "output_type": "execute_result"
    }
   ],
   "source": [
    "opt.observed_optimizer"
   ]
  },
  {
   "cell_type": "code",
   "execution_count": 31,
   "id": "838236c6-c3bf-45f9-a162-5ecd86b28f35",
   "metadata": {},
   "outputs": [
    {
     "data": {
      "text/plain": [
       "moving_average (generic function with 1 method)"
      ]
     },
     "execution_count": 31,
     "metadata": {},
     "output_type": "execute_result"
    }
   ],
   "source": [
    "moving_average(vs,n) = [sum(@view vs[i:(i+n-1)])/n for i in 1:(length(vs)-(n-1))]"
   ]
  },
  {
   "cell_type": "code",
   "execution_count": 42,
   "id": "82aed1d4-a92c-4887-b756-08ff991b4158",
   "metadata": {},
   "outputs": [
    {
     "data": {
      "text/plain": [
       "f (generic function with 1 method)"
      ]
     },
     "execution_count": 42,
     "metadata": {},
     "output_type": "execute_result"
    }
   ],
   "source": [
    "opt.func = f"
   ]
  },
  {
   "cell_type": "code",
   "execution_count": 43,
   "id": "372b82b1-12df-4963-a6b7-ea76cdce701b",
   "metadata": {},
   "outputs": [
    {
     "data": {
      "text/html": [
       "# 1 method for generic function <b>f</b> from \u001b[35mMain\u001b[39m:<ul><li> f(x) in Main at In[38]:16</li> </ul>"
      ],
      "text/plain": [
       "# 1 method for generic function \"f\" from \u001b[35mMain\u001b[39m:\n",
       " [1] f(\u001b[90mx\u001b[39m)\n",
       "\u001b[90m     @\u001b[39m \u001b[90m\u001b[4mIn[38]:16\u001b[24m\u001b[39m"
      ]
     },
     "execution_count": 43,
     "metadata": {},
     "output_type": "execute_result"
    }
   ],
   "source": [
    "methods(f)"
   ]
  },
  {
   "cell_type": "code",
   "execution_count": null,
   "id": "8442e768-e5ee-4575-b0e4-958f3f497b58",
   "metadata": {},
   "outputs": [],
   "source": []
  },
  {
   "cell_type": "code",
   "execution_count": null,
   "id": "5ce78c9c",
   "metadata": {},
   "outputs": [],
   "source": []
  },
  {
   "cell_type": "code",
   "execution_count": null,
   "id": "b348c54d",
   "metadata": {},
   "outputs": [],
   "source": []
  },
  {
   "cell_type": "code",
   "execution_count": null,
   "id": "55e85cf1",
   "metadata": {},
   "outputs": [],
   "source": []
  },
  {
   "cell_type": "code",
   "execution_count": null,
   "id": "f9384541",
   "metadata": {},
   "outputs": [],
   "source": []
  },
  {
   "cell_type": "code",
   "execution_count": null,
   "id": "ba596761-8ca5-4808-8429-5fcb0c6705a0",
   "metadata": {},
   "outputs": [],
   "source": []
  },
  {
   "cell_type": "markdown",
   "id": "d55f0747-429c-47f2-9924-2e680a9649dc",
   "metadata": {},
   "source": [
    "## Running a single configuration"
   ]
  },
  {
   "cell_type": "code",
   "execution_count": 58,
   "id": "f4d7bc24-dfb1-4b65-8d1b-2cb20375b448",
   "metadata": {},
   "outputs": [],
   "source": [
    "temp = @with_unit 0.1 \"mK\"\n",
    "diameter = @with_unit 0.6 \"mm\"\n",
    "displacement = [0.0, 0.0, 0.0]\n",
    "kick = [0,0, 0.0, 0.0]\n",
    "\n",
    "params = MutableNamedTuple(t_end = 1e-3, n_values = 20,\n",
    "                            pol1_x=σ⁻, pol2_x=σ⁺, pol3_x=σ⁻, pol4_x=σ⁺, \n",
    "                            s1=2.0, s2=0.0, s3=0.05, s4=0.05,\n",
    "                            Δ1=4.0Γ, Δ2=-0.8Γ, Δ3=-1.0Γ, Δ4=+0.5Γ, \n",
    "                            B_gradient = 30, \n",
    "                            temp=temp, diameter=diameter, \n",
    "                            displacement=displacement, kick=kick,\n",
    "                            ramp_time = 4e-3)\n",
    ";\n",
    "\n",
    "results = simulate_particles_v2(package, params);"
   ]
  },
  {
   "cell_type": "code",
   "execution_count": 60,
   "id": "e9b68c93-7c29-45a2-b71c-e9cc46d575bd",
   "metadata": {},
   "outputs": [
    {
     "data": {
      "text/plain": [
       "36.24340520601817"
      ]
     },
     "execution_count": 60,
     "metadata": {},
     "output_type": "execute_result"
    }
   ],
   "source": [
    "density(params.t_end, results.times, results.x_trajectories, results.y_trajectories, results.z_trajectories)"
   ]
  },
  {
   "cell_type": "markdown",
   "id": "45695fd2-fcc6-40a3-92e8-b16dc8748252",
   "metadata": {},
   "source": [
    "## Scanning configurations"
   ]
  },
  {
   "cell_type": "code",
   "execution_count": 55,
   "id": "2022eb1a-6bf4-4882-8f98-31c2a93d9bf2",
   "metadata": {},
   "outputs": [],
   "source": [
    "# fixed:\n",
    "t_end = 30e-3 #s\n",
    "n_values = 20\n",
    "ramp_time = 4e-3 #s\n",
    "B_gradient = 30 #G/cm\n",
    "\n",
    "temp = @with_unit 0.5 \"mK\"\n",
    "diameter = @with_unit 0.6 \"mm\"\n",
    "displacement = [0.0, 0.0, 0.0]\n",
    "kick = [0,0, 0.0, 0.0]\n",
    "\n",
    "# variable:\n",
    "pol1_x_list = [σ⁻]\n",
    "pol2_x_list = [σ⁺]\n",
    "pol3_x_list = [σ⁻]\n",
    "pol4_x_list = [σ⁺]\n",
    "\n",
    "s1_list = [1.5, 2.0, 2.5]\n",
    "s2_list = [0.0]\n",
    "s3_list = [0.05, 0.1]\n",
    "s4_list = [0.05, 0.1]\n",
    "\n",
    "Δ1_list = [2.0, 4.0, 6.0] .* Γ\n",
    "Δ2_list = [0.0]\n",
    "Δ3_list = [-0.5, -1.0, -1.5] .* Γ\n",
    "Δ4_list = [0.5, 1.0, 1.5] .* Γ\n",
    "\n",
    "lists = [pol1_x_list, pol2_x_list, pol3_x_list, pol4_x_list,\n",
    "        s1_list, s2_list, s3_list, s4_list,\n",
    "        Δ1_list, Δ2_list, Δ3_list, Δ4_list]\n",
    "\n",
    "n_scans = 1\n",
    "for l in lists\n",
    "   n_scans *= length(l) \n",
    "end\n",
    "\n",
    "comments = \"scan d3 +- 1MHz\";\n",
    "saving_dir = make_scan_folder(lists, working_dir, 1, comments);\n",
    "\n",
    "scan_counter = 0\n",
    "indicies = [\n",
    "    1,1,1,1, \n",
    "    1,1,1,1, \n",
    "    1,1,1,1\n",
    "];"
   ]
  },
  {
   "cell_type": "code",
   "execution_count": null,
   "id": "16f127fc-f238-44cb-96de-b52fcee583f3",
   "metadata": {},
   "outputs": [
    {
     "name": "stdout",
     "output_type": "stream",
     "text": [
      "============= configuration 1 / 324 =============\n"
     ]
    },
    {
     "name": "stderr",
     "output_type": "stream",
     "text": [
      "\u001b[32mProgress: 100%|█████████████████████████████████████████| Time: 0:01:26\u001b[39m\n"
     ]
    },
    {
     "name": "stdout",
     "output_type": "stream",
     "text": [
      "============= configuration 2 / 324 =============\n"
     ]
    },
    {
     "name": "stderr",
     "output_type": "stream",
     "text": [
      "\u001b[32mProgress: 100%|█████████████████████████████████████████| Time: 0:01:26\u001b[39m\n"
     ]
    },
    {
     "name": "stdout",
     "output_type": "stream",
     "text": [
      "============= configuration 3 / 324 =============\n"
     ]
    },
    {
     "name": "stderr",
     "output_type": "stream",
     "text": [
      "\u001b[32mProgress: 100%|█████████████████████████████████████████| Time: 0:01:36\u001b[39m\n"
     ]
    },
    {
     "name": "stdout",
     "output_type": "stream",
     "text": [
      "============= configuration 4 / 324 =============\n"
     ]
    },
    {
     "name": "stderr",
     "output_type": "stream",
     "text": [
      "\u001b[32mProgress: 100%|█████████████████████████████████████████| Time: 0:01:14\u001b[39m\n"
     ]
    },
    {
     "name": "stdout",
     "output_type": "stream",
     "text": [
      "============= configuration 5 / 324 =============\n"
     ]
    },
    {
     "name": "stderr",
     "output_type": "stream",
     "text": [
      "\u001b[32mProgress: 100%|█████████████████████████████████████████| Time: 0:01:23\u001b[39m\n"
     ]
    },
    {
     "name": "stdout",
     "output_type": "stream",
     "text": [
      "============= configuration 6 / 324 =============\n"
     ]
    },
    {
     "name": "stderr",
     "output_type": "stream",
     "text": [
      "\u001b[32mProgress: 100%|█████████████████████████████████████████| Time: 0:01:37\u001b[39m\n"
     ]
    },
    {
     "name": "stdout",
     "output_type": "stream",
     "text": [
      "============= configuration 7 / 324 =============\n"
     ]
    },
    {
     "name": "stderr",
     "output_type": "stream",
     "text": [
      "\u001b[32mProgress: 100%|█████████████████████████████████████████| Time: 0:01:28\u001b[39m\n"
     ]
    },
    {
     "name": "stdout",
     "output_type": "stream",
     "text": [
      "============= configuration 8 / 324 =============\n"
     ]
    },
    {
     "name": "stderr",
     "output_type": "stream",
     "text": [
      "\u001b[32mProgress: 100%|█████████████████████████████████████████| Time: 0:01:29\u001b[39m\n"
     ]
    },
    {
     "name": "stdout",
     "output_type": "stream",
     "text": [
      "============= configuration 9 / 324 =============\n"
     ]
    },
    {
     "name": "stderr",
     "output_type": "stream",
     "text": [
      "\u001b[32mProgress: 100%|█████████████████████████████████████████| Time: 0:01:36\u001b[39m\n"
     ]
    },
    {
     "name": "stdout",
     "output_type": "stream",
     "text": [
      "============= configuration 10 / 324 =============\n"
     ]
    },
    {
     "name": "stderr",
     "output_type": "stream",
     "text": [
      "\u001b[32mProgress: 100%|█████████████████████████████████████████| Time: 0:01:16\u001b[39m\n"
     ]
    },
    {
     "name": "stdout",
     "output_type": "stream",
     "text": [
      "============= configuration 11 / 324 =============\n"
     ]
    },
    {
     "name": "stderr",
     "output_type": "stream",
     "text": [
      "\u001b[32mProgress: 100%|█████████████████████████████████████████| Time: 0:01:28\u001b[39m\n"
     ]
    },
    {
     "name": "stdout",
     "output_type": "stream",
     "text": [
      "============= configuration 12 / 324 =============\n"
     ]
    },
    {
     "name": "stderr",
     "output_type": "stream",
     "text": [
      "\u001b[32mProgress: 100%|█████████████████████████████████████████| Time: 0:01:30\u001b[39m\n"
     ]
    },
    {
     "name": "stdout",
     "output_type": "stream",
     "text": [
      "============= configuration 13 / 324 =============\n"
     ]
    },
    {
     "name": "stderr",
     "output_type": "stream",
     "text": [
      "\u001b[32mProgress: 100%|█████████████████████████████████████████| Time: 0:01:26\u001b[39m\n"
     ]
    },
    {
     "name": "stdout",
     "output_type": "stream",
     "text": [
      "============= configuration 14 / 324 =============\n"
     ]
    },
    {
     "name": "stderr",
     "output_type": "stream",
     "text": [
      "\u001b[32mProgress: 100%|█████████████████████████████████████████| Time: 0:01:42\u001b[39m\n"
     ]
    },
    {
     "name": "stdout",
     "output_type": "stream",
     "text": [
      "============= configuration 15 / 324 =============\n"
     ]
    },
    {
     "name": "stderr",
     "output_type": "stream",
     "text": [
      "\u001b[32mProgress: 100%|█████████████████████████████████████████| Time: 0:01:44\u001b[39m\n"
     ]
    },
    {
     "name": "stdout",
     "output_type": "stream",
     "text": [
      "============= configuration 16 / 324 =============\n"
     ]
    },
    {
     "name": "stderr",
     "output_type": "stream",
     "text": [
      "\u001b[32mProgress: 100%|█████████████████████████████████████████| Time: 0:01:33\u001b[39m\n"
     ]
    },
    {
     "name": "stdout",
     "output_type": "stream",
     "text": [
      "============= configuration 17 / 324 =============\n"
     ]
    },
    {
     "name": "stderr",
     "output_type": "stream",
     "text": [
      "\u001b[32mProgress: 100%|█████████████████████████████████████████| Time: 0:01:36\u001b[39m\n"
     ]
    },
    {
     "name": "stdout",
     "output_type": "stream",
     "text": [
      "============= configuration 18 / 324 =============\n"
     ]
    },
    {
     "name": "stderr",
     "output_type": "stream",
     "text": [
      "\u001b[32mProgress: 100%|█████████████████████████████████████████| Time: 0:01:42\u001b[39m\n"
     ]
    },
    {
     "name": "stdout",
     "output_type": "stream",
     "text": [
      "============= configuration 19 / 324 =============\n"
     ]
    },
    {
     "name": "stderr",
     "output_type": "stream",
     "text": [
      "\u001b[32mProgress: 100%|█████████████████████████████████████████| Time: 0:01:36\u001b[39m\n"
     ]
    },
    {
     "name": "stdout",
     "output_type": "stream",
     "text": [
      "============= configuration 20 / 324 =============\n"
     ]
    },
    {
     "name": "stderr",
     "output_type": "stream",
     "text": [
      "\u001b[32mProgress: 100%|█████████████████████████████████████████| Time: 0:01:34\u001b[39m\n"
     ]
    },
    {
     "name": "stdout",
     "output_type": "stream",
     "text": [
      "============= configuration 21 / 324 =============\n"
     ]
    },
    {
     "name": "stderr",
     "output_type": "stream",
     "text": [
      "\u001b[32mProgress: 100%|█████████████████████████████████████████| Time: 0:01:36\u001b[39m\n"
     ]
    },
    {
     "name": "stdout",
     "output_type": "stream",
     "text": [
      "============= configuration 22 / 324 =============\n"
     ]
    },
    {
     "name": "stderr",
     "output_type": "stream",
     "text": [
      "\u001b[32mProgress: 100%|█████████████████████████████████████████| Time: 0:01:30\u001b[39m\n"
     ]
    },
    {
     "name": "stdout",
     "output_type": "stream",
     "text": [
      "============= configuration 23 / 324 =============\n"
     ]
    },
    {
     "name": "stderr",
     "output_type": "stream",
     "text": [
      "\u001b[32mProgress: 100%|█████████████████████████████████████████| Time: 0:01:33\u001b[39m\n"
     ]
    },
    {
     "name": "stdout",
     "output_type": "stream",
     "text": [
      "============= configuration 24 / 324 =============\n"
     ]
    },
    {
     "name": "stderr",
     "output_type": "stream",
     "text": [
      "\u001b[32mProgress: 100%|█████████████████████████████████████████| Time: 0:01:33\u001b[39m\n"
     ]
    },
    {
     "name": "stdout",
     "output_type": "stream",
     "text": [
      "============= configuration 25 / 324 =============\n"
     ]
    },
    {
     "name": "stderr",
     "output_type": "stream",
     "text": [
      "\u001b[32mProgress: 100%|█████████████████████████████████████████| Time: 0:01:47\u001b[39m\n"
     ]
    },
    {
     "name": "stdout",
     "output_type": "stream",
     "text": [
      "============= configuration 26 / 324 =============\n"
     ]
    },
    {
     "name": "stderr",
     "output_type": "stream",
     "text": [
      "\u001b[32mProgress: 100%|█████████████████████████████████████████| Time: 0:02:49\u001b[39m\n"
     ]
    },
    {
     "name": "stdout",
     "output_type": "stream",
     "text": [
      "============= configuration 27 / 324 =============\n"
     ]
    },
    {
     "name": "stderr",
     "output_type": "stream",
     "text": [
      "\u001b[32mProgress: 100%|█████████████████████████████████████████| Time: 0:01:48\u001b[39m\n"
     ]
    },
    {
     "name": "stdout",
     "output_type": "stream",
     "text": [
      "============= configuration 28 / 324 =============\n"
     ]
    },
    {
     "name": "stderr",
     "output_type": "stream",
     "text": [
      "\u001b[32mProgress: 100%|█████████████████████████████████████████| Time: 0:01:37\u001b[39m\n"
     ]
    },
    {
     "name": "stdout",
     "output_type": "stream",
     "text": [
      "============= configuration 29 / 324 =============\n"
     ]
    },
    {
     "name": "stderr",
     "output_type": "stream",
     "text": [
      "\u001b[32mProgress: 100%|█████████████████████████████████████████| Time: 0:01:47\u001b[39m\n"
     ]
    },
    {
     "name": "stdout",
     "output_type": "stream",
     "text": [
      "============= configuration 30 / 324 =============\n"
     ]
    },
    {
     "name": "stderr",
     "output_type": "stream",
     "text": [
      "\u001b[32mProgress: 100%|█████████████████████████████████████████| Time: 0:01:54\u001b[39m\n"
     ]
    },
    {
     "name": "stdout",
     "output_type": "stream",
     "text": [
      "============= configuration 31 / 324 =============\n"
     ]
    },
    {
     "name": "stderr",
     "output_type": "stream",
     "text": [
      "\u001b[32mProgress: 100%|█████████████████████████████████████████| Time: 0:02:53\u001b[39m\n"
     ]
    },
    {
     "name": "stdout",
     "output_type": "stream",
     "text": [
      "============= configuration 32 / 324 =============\n"
     ]
    },
    {
     "name": "stderr",
     "output_type": "stream",
     "text": [
      "\u001b[32mProgress: 100%|█████████████████████████████████████████| Time: 0:01:46\u001b[39m\n"
     ]
    },
    {
     "name": "stdout",
     "output_type": "stream",
     "text": [
      "============= configuration 33 / 324 =============\n"
     ]
    },
    {
     "name": "stderr",
     "output_type": "stream",
     "text": [
      "\u001b[32mProgress: 100%|█████████████████████████████████████████| Time: 0:01:50\u001b[39m\n"
     ]
    },
    {
     "name": "stdout",
     "output_type": "stream",
     "text": [
      "============= configuration 34 / 324 =============\n"
     ]
    },
    {
     "name": "stderr",
     "output_type": "stream",
     "text": [
      "\u001b[32mProgress: 100%|█████████████████████████████████████████| Time: 0:01:38\u001b[39m\n"
     ]
    },
    {
     "name": "stdout",
     "output_type": "stream",
     "text": [
      "============= configuration 35 / 324 =============\n"
     ]
    },
    {
     "name": "stderr",
     "output_type": "stream",
     "text": [
      "\u001b[32mProgress: 100%|█████████████████████████████████████████| Time: 0:01:44\u001b[39m\n"
     ]
    },
    {
     "name": "stdout",
     "output_type": "stream",
     "text": [
      "============= configuration 36 / 324 =============\n"
     ]
    },
    {
     "name": "stderr",
     "output_type": "stream",
     "text": [
      "\u001b[32mProgress: 100%|█████████████████████████████████████████| Time: 0:01:52\u001b[39m\n"
     ]
    },
    {
     "name": "stdout",
     "output_type": "stream",
     "text": [
      "============= configuration 37 / 324 =============\n"
     ]
    },
    {
     "name": "stderr",
     "output_type": "stream",
     "text": [
      "\u001b[32mProgress: 100%|█████████████████████████████████████████| Time: 0:01:35\u001b[39m\n"
     ]
    },
    {
     "name": "stdout",
     "output_type": "stream",
     "text": [
      "============= configuration 38 / 324 =============\n"
     ]
    },
    {
     "name": "stderr",
     "output_type": "stream",
     "text": [
      "\u001b[32mProgress: 100%|█████████████████████████████████████████| Time: 0:01:36\u001b[39m\n"
     ]
    },
    {
     "name": "stdout",
     "output_type": "stream",
     "text": [
      "============= configuration 39 / 324 =============\n"
     ]
    },
    {
     "name": "stderr",
     "output_type": "stream",
     "text": [
      "\u001b[32mProgress: 100%|█████████████████████████████████████████| Time: 0:01:42\u001b[39m\n"
     ]
    },
    {
     "name": "stdout",
     "output_type": "stream",
     "text": [
      "============= configuration 40 / 324 =============\n"
     ]
    },
    {
     "name": "stderr",
     "output_type": "stream",
     "text": [
      "\u001b[32mProgress:  70%|█████████████████████████████            |  ETA: 0:00:37\u001b[39m\u001b[91m\u001b[1m┌ \u001b[22m\u001b[39m\u001b[91m\u001b[1mError: \u001b[22m\u001b[39mError watching manifest\n",
      "\u001b[91m\u001b[1m│ \u001b[22m\u001b[39m  exception =\n",
      "\u001b[91m\u001b[1m│ \u001b[22m\u001b[39m   LoadError: UndefVarError: `@reexport` not defined\n",
      "\u001b[91m\u001b[1m│ \u001b[22m\u001b[39m   in expression starting at C:\\Users\\Christian\\.julia\\packages\\StatsFuns\\atA5S\\src\\StatsFuns.jl:8\n",
      "\u001b[91m\u001b[1m└ \u001b[22m\u001b[39m\u001b[90m@ Revise C:\\Users\\Christian\\.julia\\packages\\Revise\\Kw99o\\src\\pkgs.jl:477\u001b[39m\n",
      "\u001b[32mProgress: 100%|█████████████████████████████████████████| Time: 0:01:27\u001b[39m\n"
     ]
    },
    {
     "name": "stdout",
     "output_type": "stream",
     "text": [
      "============= configuration 41 / 324 =============\n"
     ]
    },
    {
     "name": "stderr",
     "output_type": "stream",
     "text": [
      "\u001b[32mProgress: 100%|█████████████████████████████████████████| Time: 0:02:03\u001b[39m\n"
     ]
    },
    {
     "name": "stdout",
     "output_type": "stream",
     "text": [
      "============= configuration 42 / 324 =============\n"
     ]
    },
    {
     "name": "stderr",
     "output_type": "stream",
     "text": [
      "\u001b[32mProgress: 100%|█████████████████████████████████████████| Time: 0:02:50\u001b[39m\n"
     ]
    },
    {
     "name": "stdout",
     "output_type": "stream",
     "text": [
      "============= configuration 43 / 324 =============\n"
     ]
    },
    {
     "name": "stderr",
     "output_type": "stream",
     "text": [
      "\u001b[32mProgress: 100%|█████████████████████████████████████████| Time: 0:02:30\u001b[39m\n"
     ]
    },
    {
     "name": "stdout",
     "output_type": "stream",
     "text": [
      "============= configuration 44 / 324 =============\n"
     ]
    },
    {
     "name": "stderr",
     "output_type": "stream",
     "text": [
      "\u001b[32mProgress: 100%|█████████████████████████████████████████| Time: 0:02:40\u001b[39m\n"
     ]
    },
    {
     "name": "stdout",
     "output_type": "stream",
     "text": [
      "============= configuration 45 / 324 =============\n"
     ]
    },
    {
     "name": "stderr",
     "output_type": "stream",
     "text": [
      "\u001b[32mProgress: 100%|█████████████████████████████████████████| Time: 0:02:48\u001b[39m\n"
     ]
    },
    {
     "name": "stdout",
     "output_type": "stream",
     "text": [
      "============= configuration 46 / 324 =============\n"
     ]
    },
    {
     "name": "stderr",
     "output_type": "stream",
     "text": [
      "\u001b[32mProgress: 100%|█████████████████████████████████████████| Time: 0:02:08\u001b[39m\n"
     ]
    },
    {
     "name": "stdout",
     "output_type": "stream",
     "text": [
      "============= configuration 47 / 324 =============\n"
     ]
    },
    {
     "name": "stderr",
     "output_type": "stream",
     "text": [
      "\u001b[32mProgress: 100%|█████████████████████████████████████████| Time: 0:01:56\u001b[39m\n"
     ]
    },
    {
     "name": "stdout",
     "output_type": "stream",
     "text": [
      "============= configuration 48 / 324 =============\n"
     ]
    },
    {
     "name": "stderr",
     "output_type": "stream",
     "text": [
      "\u001b[32mProgress: 100%|█████████████████████████████████████████| Time: 0:01:51\u001b[39m\n"
     ]
    },
    {
     "name": "stdout",
     "output_type": "stream",
     "text": [
      "============= configuration 49 / 324 =============\n"
     ]
    },
    {
     "name": "stderr",
     "output_type": "stream",
     "text": [
      "\u001b[32mProgress: 100%|█████████████████████████████████████████| Time: 0:01:44\u001b[39m\n"
     ]
    },
    {
     "name": "stdout",
     "output_type": "stream",
     "text": [
      "============= configuration 50 / 324 =============\n"
     ]
    },
    {
     "name": "stderr",
     "output_type": "stream",
     "text": [
      "\u001b[32mProgress: 100%|█████████████████████████████████████████| Time: 0:01:51\u001b[39m\n"
     ]
    },
    {
     "name": "stdout",
     "output_type": "stream",
     "text": [
      "============= configuration 51 / 324 =============\n"
     ]
    },
    {
     "name": "stderr",
     "output_type": "stream",
     "text": [
      "\u001b[32mProgress: 100%|█████████████████████████████████████████| Time: 0:01:56\u001b[39m\n"
     ]
    },
    {
     "name": "stdout",
     "output_type": "stream",
     "text": [
      "============= configuration 52 / 324 =============\n"
     ]
    },
    {
     "name": "stderr",
     "output_type": "stream",
     "text": [
      "\u001b[32mProgress: 100%|█████████████████████████████████████████| Time: 0:01:43\u001b[39m\n"
     ]
    },
    {
     "name": "stdout",
     "output_type": "stream",
     "text": [
      "============= configuration 53 / 324 =============\n"
     ]
    },
    {
     "name": "stderr",
     "output_type": "stream",
     "text": [
      "\u001b[32mProgress: 100%|█████████████████████████████████████████| Time: 0:01:50\u001b[39m\n"
     ]
    },
    {
     "name": "stdout",
     "output_type": "stream",
     "text": [
      "============= configuration 54 / 324 =============\n"
     ]
    },
    {
     "name": "stderr",
     "output_type": "stream",
     "text": [
      "\u001b[32mProgress: 100%|█████████████████████████████████████████| Time: 0:01:52\u001b[39m\n"
     ]
    },
    {
     "name": "stdout",
     "output_type": "stream",
     "text": [
      "============= configuration 55 / 324 =============\n"
     ]
    },
    {
     "name": "stderr",
     "output_type": "stream",
     "text": [
      "\u001b[32mProgress: 100%|█████████████████████████████████████████| Time: 0:01:39\u001b[39m\n"
     ]
    },
    {
     "name": "stdout",
     "output_type": "stream",
     "text": [
      "============= configuration 56 / 324 =============\n"
     ]
    },
    {
     "name": "stderr",
     "output_type": "stream",
     "text": [
      "\u001b[32mProgress: 100%|█████████████████████████████████████████| Time: 0:01:44\u001b[39m\n"
     ]
    },
    {
     "name": "stdout",
     "output_type": "stream",
     "text": [
      "============= configuration 57 / 324 =============\n"
     ]
    },
    {
     "name": "stderr",
     "output_type": "stream",
     "text": [
      "\u001b[32mProgress: 100%|█████████████████████████████████████████| Time: 0:01:42\u001b[39m\n"
     ]
    },
    {
     "name": "stdout",
     "output_type": "stream",
     "text": [
      "============= configuration 58 / 324 =============\n"
     ]
    },
    {
     "name": "stderr",
     "output_type": "stream",
     "text": [
      "\u001b[32mProgress: 100%|█████████████████████████████████████████| Time: 0:01:34\u001b[39m\n"
     ]
    },
    {
     "name": "stdout",
     "output_type": "stream",
     "text": [
      "============= configuration 59 / 324 =============\n"
     ]
    },
    {
     "name": "stderr",
     "output_type": "stream",
     "text": [
      "\u001b[32mProgress: 100%|█████████████████████████████████████████| Time: 0:01:45\u001b[39m\n"
     ]
    },
    {
     "name": "stdout",
     "output_type": "stream",
     "text": [
      "============= configuration 60 / 324 =============\n"
     ]
    },
    {
     "name": "stderr",
     "output_type": "stream",
     "text": [
      "\u001b[32mProgress: 100%|█████████████████████████████████████████| Time: 0:01:44\u001b[39m\n"
     ]
    },
    {
     "name": "stdout",
     "output_type": "stream",
     "text": [
      "============= configuration 61 / 324 =============\n"
     ]
    },
    {
     "name": "stderr",
     "output_type": "stream",
     "text": [
      "\u001b[32mProgress: 100%|█████████████████████████████████████████| Time: 0:01:48\u001b[39m\n"
     ]
    },
    {
     "name": "stdout",
     "output_type": "stream",
     "text": [
      "============= configuration 62 / 324 =============\n"
     ]
    },
    {
     "name": "stderr",
     "output_type": "stream",
     "text": [
      "\u001b[32mProgress: 100%|█████████████████████████████████████████| Time: 0:01:56\u001b[39m\n"
     ]
    },
    {
     "name": "stdout",
     "output_type": "stream",
     "text": [
      "============= configuration 63 / 324 =============\n"
     ]
    },
    {
     "name": "stderr",
     "output_type": "stream",
     "text": [
      "\u001b[32mProgress: 100%|█████████████████████████████████████████| Time: 0:01:52\u001b[39m\n"
     ]
    },
    {
     "name": "stdout",
     "output_type": "stream",
     "text": [
      "============= configuration 64 / 324 =============\n"
     ]
    },
    {
     "name": "stderr",
     "output_type": "stream",
     "text": [
      "\u001b[32mProgress: 100%|█████████████████████████████████████████| Time: 0:01:49\u001b[39m\n"
     ]
    },
    {
     "name": "stdout",
     "output_type": "stream",
     "text": [
      "============= configuration 65 / 324 =============\n"
     ]
    },
    {
     "name": "stderr",
     "output_type": "stream",
     "text": [
      "\u001b[32mProgress: 100%|█████████████████████████████████████████| Time: 0:01:52\u001b[39m\n"
     ]
    },
    {
     "name": "stdout",
     "output_type": "stream",
     "text": [
      "============= configuration 66 / 324 =============\n"
     ]
    },
    {
     "name": "stderr",
     "output_type": "stream",
     "text": [
      "\u001b[32mProgress: 100%|█████████████████████████████████████████| Time: 0:02:00\u001b[39m\n"
     ]
    },
    {
     "name": "stdout",
     "output_type": "stream",
     "text": [
      "============= configuration 67 / 324 =============\n"
     ]
    },
    {
     "name": "stderr",
     "output_type": "stream",
     "text": [
      "\u001b[32mProgress:  25%|███████████                              |  ETA: 0:04:54\u001b[39m\u001b[91m\u001b[1m┌ \u001b[22m\u001b[39m\u001b[91m\u001b[1mError: \u001b[22m\u001b[39mError watching manifest\n",
      "\u001b[91m\u001b[1m│ \u001b[22m\u001b[39m  exception =\n",
      "\u001b[91m\u001b[1m│ \u001b[22m\u001b[39m   LoadError: UndefVarError: `@reexport` not defined\n",
      "\u001b[91m\u001b[1m│ \u001b[22m\u001b[39m   in expression starting at C:\\Users\\Christian\\.julia\\packages\\StatsFuns\\atA5S\\src\\StatsFuns.jl:8\n",
      "\u001b[91m\u001b[1m└ \u001b[22m\u001b[39m\u001b[90m@ Revise C:\\Users\\Christian\\.julia\\packages\\Revise\\Kw99o\\src\\pkgs.jl:477\u001b[39m\n",
      "\u001b[32mProgress: 100%|█████████████████████████████████████████| Time: 0:01:44\u001b[39m\n"
     ]
    },
    {
     "name": "stdout",
     "output_type": "stream",
     "text": [
      "============= configuration 68 / 324 =============\n"
     ]
    },
    {
     "name": "stderr",
     "output_type": "stream",
     "text": [
      "\u001b[32mProgress: 100%|█████████████████████████████████████████| Time: 0:01:54\u001b[39m\n"
     ]
    },
    {
     "name": "stdout",
     "output_type": "stream",
     "text": [
      "============= configuration 69 / 324 =============\n"
     ]
    },
    {
     "name": "stderr",
     "output_type": "stream",
     "text": [
      "\u001b[32mProgress: 100%|█████████████████████████████████████████| Time: 0:02:04\u001b[39m\n"
     ]
    },
    {
     "name": "stdout",
     "output_type": "stream",
     "text": [
      "============= configuration 70 / 324 =============\n"
     ]
    },
    {
     "name": "stderr",
     "output_type": "stream",
     "text": [
      "\u001b[32mProgress: 100%|█████████████████████████████████████████| Time: 0:01:53\u001b[39m\n"
     ]
    },
    {
     "name": "stdout",
     "output_type": "stream",
     "text": [
      "============= configuration 71 / 324 =============\n"
     ]
    },
    {
     "name": "stderr",
     "output_type": "stream",
     "text": [
      "\u001b[32mProgress: 100%|█████████████████████████████████████████| Time: 0:01:53\u001b[39m\n"
     ]
    }
   ],
   "source": [
    "while scan_counter < n_scans\n",
    "    @printf(\"============= configuration %i / %i =============\", scan_counter+1, n_scans)\n",
    "    println()\n",
    "    \n",
    "    pol1_x = pol1_x_list[indicies[1]]\n",
    "    pol2_x = pol2_x_list[indicies[2]]\n",
    "    pol3_x = pol3_x_list[indicies[3]]\n",
    "    pol4_x = pol4_x_list[indicies[4]]\n",
    "    s1 = s1_list[indicies[5]]\n",
    "    s2 = s2_list[indicies[6]]\n",
    "    s3 = s3_list[indicies[7]]\n",
    "    s4 = s4_list[indicies[8]]\n",
    "    Δ1 = Δ1_list[indicies[9]]\n",
    "    Δ2 = Δ2_list[indicies[10]]\n",
    "    Δ3 = Δ3_list[indicies[11]]\n",
    "    Δ4 = Δ4_list[indicies[12]]\n",
    "    \n",
    "    params = MutableNamedTuple(t_end = t_end, n_values = n_values,\n",
    "                            pol1_x=pol1_x, pol2_x=pol2_x, pol3_x=pol3_x, pol4_x=pol4_x, \n",
    "                            s1=s1, s2=s2, s3=s3, s4=s4,\n",
    "                            Δ1=Δ1, Δ2=Δ2, Δ3=Δ3, Δ4=Δ4, \n",
    "                            B_gradient = B_gradient, \n",
    "                            temp=temp, diameter=diameter, \n",
    "                            displacement=displacement, kick=kick,\n",
    "                            ramp_time = ramp_time)\n",
    "\n",
    "    test_i = log_test_info(saving_dir,1,params)\n",
    "    \n",
    "    results = simulate_particles(package, params, params.n_values);\n",
    "\n",
    "    save_results(saving_dir, test_i, results)\n",
    "    \n",
    "    scan_counter += 1 \n",
    "    next_configuration!(lists, indicies)\n",
    "    \n",
    "end\n",
    ";"
   ]
  },
  {
   "cell_type": "code",
   "execution_count": null,
   "id": "0bd27fc5-9ad6-4246-8cb6-83e913bc3cc5",
   "metadata": {},
   "outputs": [],
   "source": []
  }
 ],
 "metadata": {
  "kernelspec": {
   "display_name": "Julia (20 threads) 1.9.3",
   "language": "julia",
   "name": "julia-_20-threads_-1.9"
  },
  "language_info": {
   "file_extension": ".jl",
   "mimetype": "application/julia",
   "name": "julia",
   "version": "1.9.3"
  }
 },
 "nbformat": 4,
 "nbformat_minor": 5
}
