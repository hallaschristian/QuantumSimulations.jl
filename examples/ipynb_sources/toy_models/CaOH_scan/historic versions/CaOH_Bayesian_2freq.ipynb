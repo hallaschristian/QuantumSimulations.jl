{
 "cells": [
  {
   "cell_type": "code",
   "execution_count": 1,
   "id": "eb68f43c-512c-49e4-b9ae-e0ead28ff26c",
   "metadata": {},
   "outputs": [],
   "source": [
    "using Revise"
   ]
  },
  {
   "cell_type": "code",
   "execution_count": 2,
   "id": "95aa508f-186f-41d9-9dee-7045b9117fa1",
   "metadata": {},
   "outputs": [
    {
     "name": "stderr",
     "output_type": "stream",
     "text": [
      "WARNING: Method definition Zeeman_x(Any, Any) in module Main at G:\\My Drive\\github\\OpticalBlochEquations\\examples\\ipynb_sources\\toy_models\\CaOH_scan\\CaOH_scan_helper_v2_imbalance.jl:62 overwritten at G:\\My Drive\\github\\OpticalBlochEquations\\examples\\ipynb_sources\\toy_models\\CaOH_scan\\CaOH_scan_helper_v2_imbalance.jl:135.\n",
      "WARNING: Method definition Zeeman_y(Any, Any) in module Main at G:\\My Drive\\github\\OpticalBlochEquations\\examples\\ipynb_sources\\toy_models\\CaOH_scan\\CaOH_scan_helper_v2_imbalance.jl:63 overwritten at G:\\My Drive\\github\\OpticalBlochEquations\\examples\\ipynb_sources\\toy_models\\CaOH_scan\\CaOH_scan_helper_v2_imbalance.jl:136.\n",
      "WARNING: Method definition Zeeman_z(Any, Any) in module Main at G:\\My Drive\\github\\OpticalBlochEquations\\examples\\ipynb_sources\\toy_models\\CaOH_scan\\CaOH_scan_helper_v2_imbalance.jl:64 overwritten at G:\\My Drive\\github\\OpticalBlochEquations\\examples\\ipynb_sources\\toy_models\\CaOH_scan\\CaOH_scan_helper_v2_imbalance.jl:137.\n"
     ]
    }
   ],
   "source": [
    "using\n",
    "    QuantumStates,\n",
    "    OpticalBlochEquations,\n",
    "    DifferentialEquations,\n",
    "    UnitsToValue,\n",
    "    LinearAlgebra,\n",
    "    Printf,\n",
    "    Plots,\n",
    "    Random,\n",
    "    StatsBase\n",
    ";\n",
    "\n",
    "using Distributions\n",
    "\n",
    "import MutableNamedTuples: MutableNamedTuple\n",
    "import StructArrays: StructArray, StructVector\n",
    "import StaticArrays: @SVector, SVector\n",
    "import LinearAlgebra: norm, ⋅, adjoint!, diag\n",
    "import LoopVectorization: @turbo\n",
    "using BenchmarkTools\n",
    "using Parameters\n",
    "using LsqFit\n",
    "\n",
    "import ProgressMeter: Progress, next!\n",
    "\n",
    "const λ = 626e-9\n",
    "const Γ = 2π* 6.4e6\n",
    "const m = @with_unit 57 \"u\"\n",
    "const k = 2π / λ\n",
    "_μB = (μ_B / h) * 1e-4;\n",
    "\n",
    "include(\"CaOH_scan_helper_v2_imbalance.jl\")\n",
    ";"
   ]
  },
  {
   "cell_type": "code",
   "execution_count": 3,
   "id": "de4dbeed-384d-491d-9257-f185a577b5ae",
   "metadata": {},
   "outputs": [],
   "source": [
    "function survived(t_end, times, trajectories)\n",
    "    _survived = Int64[]\n",
    "    for i ∈ eachindex(trajectories)\n",
    "        if abs(times[i][end] - t_end*1e3) <= 1.0\n",
    "            push!(_survived, i)\n",
    "        end\n",
    "    end\n",
    "    return _survived\n",
    "end\n",
    "\n",
    "function cloud_size(trajectories, i)\n",
    "    std(trajectory[i] for trajectory ∈ trajectories)\n",
    "end\n",
    "\n",
    "\"\"\"\n",
    "    Evaluates the density given a set of trajectories.\n",
    "\"\"\"\n",
    "function density(t_end, results)\n",
    "    \n",
    "    times, x_trajectories, y_trajectories, z_trajectories = results.times, results.x_trajectories, results.y_trajectories, results.z_trajectories\n",
    "    \n",
    "    # Sample number of photons before the molecule is lost to vibrational dark state\n",
    "    n_molecules = length(times)\n",
    "    \n",
    "    _survived = survived(t_end, times, x_trajectories)\n",
    "    println(_survived)\n",
    "    \n",
    "    surviving_x_trajectories = x_trajectories[_survived]\n",
    "    surviving_y_trajectories = y_trajectories[_survived]\n",
    "    surviving_z_trajectories = z_trajectories[_survived]\n",
    "    \n",
    "    n = length(_survived)\n",
    "    _density = Float64(n)\n",
    "    if n > 1\n",
    "        idx_end = length(surviving_x_trajectories[1])\n",
    "        σ_x = cloud_size(surviving_x_trajectories, idx_end)\n",
    "        σ_y = cloud_size(surviving_y_trajectories, idx_end)\n",
    "        σ_z = cloud_size(surviving_z_trajectories, idx_end)\n",
    "        _density /= σ_x * σ_y * σ_z\n",
    "    end\n",
    "    return _density\n",
    "end\n",
    "\n",
    "function distance(x_trajectory, y_trajectory, z_trajectory, idx)\n",
    "    return sqrt(x_trajectory[idx]^2 + y_trajectory[idx]^2 + z_trajectory[idx]^2)\n",
    "end\n",
    "\n",
    "\"\"\"\n",
    "    Evaluates how many particles are within a 0.3 mm radius.\n",
    "\"\"\"\n",
    "function goodness(t_end, results)\n",
    "    \n",
    "    times, x_trajectories, y_trajectories, z_trajectories = results.times, results.x_trajectories, results.y_trajectories, results.z_trajectories\n",
    "    \n",
    "    # Sample number of photons before the molecule is lost to vibrational dark state\n",
    "    n_molecules = length(times)\n",
    "    \n",
    "    _survived = survived(t_end, times, x_trajectories)\n",
    "    @printf(\"Survival: %i / %i\", length(_survived), n_molecules)\n",
    "    println()\n",
    "    \n",
    "    surviving_x_trajectories = x_trajectories[_survived]\n",
    "    surviving_y_trajectories = y_trajectories[_survived]\n",
    "    surviving_z_trajectories = z_trajectories[_survived]\n",
    "    \n",
    "    n = 0\n",
    "    for survived_idx ∈ _survived\n",
    "        idx_end = length(x_trajectories[survived_idx])\n",
    "        r = distance(x_trajectories[survived_idx], y_trajectories[survived_idx], z_trajectories[survived_idx], idx_end)\n",
    "        if r > 1.0\n",
    "            n += 0.0\n",
    "        elseif r > 0.5\n",
    "            n += 0.1 * exp(-results.photons_scattered[survived_idx]/14000)\n",
    "        elseif r > 0.3\n",
    "            n += (0.6 - r)* exp(-results.photons_scattered[survived_idx]/14000)\n",
    "        elseif r <= 0.3\n",
    "            n += ((0.3 - r) * 3 + 0.3) * exp(-results.photons_scattered[survived_idx]/14000)\n",
    "        end\n",
    "    end\n",
    "    return n/n_molecules\n",
    "end\n",
    ";"
   ]
  },
  {
   "cell_type": "markdown",
   "id": "e4453cb6-d6f1-4d9c-b8f6-1add3157ae21",
   "metadata": {},
   "source": [
    "### Set up the molecule"
   ]
  },
  {
   "cell_type": "code",
   "execution_count": 4,
   "id": "18ccd92a-51ee-4774-af90-92e948637eca",
   "metadata": {},
   "outputs": [],
   "source": [
    "package = get_CaOH_package()\n",
    "n_states = length(package.states)\n",
    "n_excited = package.n_excited\n",
    ";"
   ]
  },
  {
   "cell_type": "code",
   "execution_count": 5,
   "id": "6eec7ca6-a7a8-4731-a3b0-229dd6220dc0",
   "metadata": {},
   "outputs": [],
   "source": [
    "\n",
    "\"\"\"\n",
    "    Function to optimize (density).\n",
    "\"\"\"\n",
    "function f(x)\n",
    "    s1 = x[1]\n",
    "    s3 = x[2]\n",
    "\n",
    "    Δ1 = x[3]*Γ\n",
    "    Δ3 = x[4]*Γ\n",
    "    \n",
    "#     pol1 = sqrt(x[5]) * σ⁺ + sqrt(1-x[5]) * σ⁻\n",
    "#     pol3 = sqrt(x[6]) * σ⁺ + sqrt(1-x[6]) * σ⁻\n",
    "    ramp_time = 10e-3\n",
    "    B_gradient = 30 \n",
    "\n",
    "    temp = @with_unit 0.050 \"mK\"\n",
    "    diameter = @with_unit 0.9 \"mm\"\n",
    "    displacement = [0.5, 0.5, 0.5].*1e-3\n",
    "    kick = [0,0, 0.0, 0.0]\n",
    "    \n",
    "    params = MutableNamedTuple(\n",
    "        t_end=20e-3, n_values=20,\n",
    "        pol1_x=σ⁺, pol2_x=σ⁺, pol3_x=σ⁺, pol4_x=σ⁻, \n",
    "        s1=s1, s2=0.0, s3=s3, s4=0.0,\n",
    "        Δ1=Δ1, Δ2=0.0, Δ3=Δ3, Δ4=0.0,\n",
    "        B_gradient=B_gradient,\n",
    "        temp=temp, \n",
    "        diameter=diameter,\n",
    "        displacement=displacement, \n",
    "        kick=kick,\n",
    "        ramp_time=ramp_time,\n",
    "        pol_imbalance=0.0, s_imbalance = (0.0, 0.0, 0.0), photon_budget=Inf)\n",
    "    \n",
    "    results = simulate_particles_v3(package, params, variable_budget=true)\n",
    "    \n",
    "    @printf(\"s1 = %.2f; s3 = %.2f; Δ1 = %.2fΓ; Δ3 = %.2fΓ\",x[1], x[2], x[3], x[4])\n",
    "    println()\n",
    "    \n",
    "    _goodness = goodness(params.t_end, results) * 100\n",
    "#     if _goodness > 0.2\n",
    "#         working_dir = \"C:\\\\Users\\\\halla\\\\OneDrive\\\\Desktop\\\\blueMOT_sim\\\\Bayesian\"\n",
    "#         test_i = log_test_info(working_dir,1,params)\n",
    "#         save_results(working_dir, test_i, results)\n",
    "#     end\n",
    "# #     println(results.photons_scattered)\n",
    "    \n",
    "    @printf(\"goodness = %.3f\", _goodness)\n",
    "    println()\n",
    "    \n",
    "    return _goodness\n",
    "end\n",
    ";    "
   ]
  },
  {
   "cell_type": "code",
   "execution_count": 6,
   "id": "3221d146-70a8-48f7-a39d-6283cfc80b1f",
   "metadata": {},
   "outputs": [
    {
     "name": "stderr",
     "output_type": "stream",
     "text": [
      "WARNING: using BayesianOptimization.Progress in module Main conflicts with an existing identifier.\n",
      "\u001b[33m\u001b[1m┌ \u001b[22m\u001b[39m\u001b[33m\u001b[1mWarning: \u001b[22m\u001b[39muse values(kwargs) and keys(kwargs) instead of kwargs.data and kwargs.itr\n",
      "\u001b[33m\u001b[1m│ \u001b[22m\u001b[39m  caller = #MAPGPOptimizer#19 at gp.jl:37 [inlined]\n",
      "\u001b[33m\u001b[1m└ \u001b[22m\u001b[39m\u001b[90m@ Core C:\\Users\\halla\\.julia\\packages\\BayesianOptimization\\nq1HY\\src\\models\\gp.jl:37\u001b[39m\n"
     ]
    }
   ],
   "source": [
    "using BayesianOptimization, GaussianProcesses\n",
    "\n",
    "model = ElasticGPE(4,                            # 6 input dimensions\n",
    "                   mean = MeanConst(1.),         \n",
    "                   kernel = SEArd([0.1, 0.1, 0.1, 0.1], 5.),\n",
    "                   logNoise = 0.,\n",
    "                   capacity = 3000)              # the initial capacity of the GP is 3000 samples\n",
    "set_priors!(model.mean, [Normal(1, 1)])\n",
    "\n",
    "# Optimize the hyperparameters of the GP using maximum a posteriori (MAP) estimates every x steps\n",
    "modeloptimizer = MAPGPOptimizer(\n",
    "    every = 1, \n",
    "    noisebounds = [-3, 3], # bounds of the logNoise\n",
    "    kernbounds = [[-3, -3, -3, -3, -5], [3, 3, 3, 3,5]],  # bounds of the parameters GaussianProcesses.get_param_names(model.kernel)\n",
    "    maxeval = 1000)\n",
    "\n",
    "opt = BOpt(f,\n",
    "           model,\n",
    "           ExpectedImprovement(),                   # type of acquisition\n",
    "           modeloptimizer,                        \n",
    "           [0.5, 0.5, 0.5,0.5],        # lowerbounds\n",
    "           [5.0, 5.0, 3.0,3.0],        # upperbounds         \n",
    "           repetitions = 1,                          # evaluate the function for each input x times\n",
    "           maxiterations = 20,                       # evaluate at x input positions\n",
    "           sense = Max,                              # maximize the function\n",
    "           acquisitionoptions = (method = :LD_LBFGS, # run optimization of acquisition function with NLopts :LD_LBFGS method\n",
    "                                 restarts = 5,       # run the NLopt method from x random initial conditions each time\n",
    "                                 maxtime = 1.0,      # run the NLopt method for at most 1.0 second each time\n",
    "                                 maxeval = 1000),    # run the NLopt methods for at most 1000 iterations (for other options see https://github.com/JuliaOpt/NLopt.jl)\n",
    "           verbosity = BayesianOptimization.Progress)\n",
    "\n",
    "# result = boptimize!(opt);\n",
    ";"
   ]
  },
  {
   "cell_type": "code",
   "execution_count": 7,
   "id": "66683d77",
   "metadata": {},
   "outputs": [],
   "source": [
    "# using BayesianOptimization, GaussianProcesses\n",
    "# using Serialization\n",
    "# working_dir = \"C:\\\\Users\\\\halla\\\\OneDrive\\\\Desktop\\\\blueMOT_sim\\\\Bayesian\"\n",
    "# opt_old = deserialize(joinpath(working_dir, \"opt_high_red_det.jl\"));\n",
    "# opt.model = opt_old.model;\n",
    "# opt.model_optimum = opt_old.model_optimum;\n",
    "# opt.model_optimizer = opt_old.model_optimizer;\n",
    "# opt.modeloptimizer = opt_old.modeloptimizer;\n",
    "# opt.observed_optimum = opt_old.observed_optimum;\n",
    "# opt.observed_optimizer = opt_old.observed_optimizer;\n",
    "# opt.acquisition = opt_old.acquisition;\n",
    "# opt.acquisitionoptions = opt_old.acquisitionoptions;"
   ]
  },
  {
   "cell_type": "code",
   "execution_count": null,
   "id": "514881da-2443-482a-9b9d-0d2649f743b0",
   "metadata": {},
   "outputs": [
    {
     "name": "stderr",
     "output_type": "stream",
     "text": [
      "\u001b[32mProgress: 100%|█████████████████████████████████████████| Time: 0:01:11\u001b[39m\n"
     ]
    },
    {
     "name": "stdout",
     "output_type": "stream",
     "text": [
      "s1 = 0.92; s3 = 2.61; Δ1 = 1.67Γ; Δ3 = 2.14Γ\n",
      "Survival: 9 / 20\n",
      "goodness = 0.000\n"
     ]
    },
    {
     "name": "stderr",
     "output_type": "stream",
     "text": [
      "\u001b[32mProgress: 100%|█████████████████████████████████████████| Time: 0:01:03\u001b[39m\n"
     ]
    },
    {
     "name": "stdout",
     "output_type": "stream",
     "text": [
      "s1 = 3.17; s3 = 4.86; Δ1 = 2.92Γ; Δ3 = 0.89Γ\n",
      "Survival: 7 / 20\n",
      "goodness = 0.000\n"
     ]
    },
    {
     "name": "stderr",
     "output_type": "stream",
     "text": [
      "\u001b[32mProgress: 100%|█████████████████████████████████████████| Time: 0:01:35\u001b[39m\n"
     ]
    },
    {
     "name": "stdout",
     "output_type": "stream",
     "text": [
      "s1 = 4.30; s3 = 1.48; Δ1 = 1.05Γ; Δ3 = 2.77Γ\n",
      "Survival: 8 / 20\n",
      "goodness = 0.548\n"
     ]
    },
    {
     "name": "stderr",
     "output_type": "stream",
     "text": [
      "\u001b[32mProgress: 100%|█████████████████████████████████████████| Time: 0:01:06\u001b[39m\n"
     ]
    },
    {
     "name": "stdout",
     "output_type": "stream",
     "text": [
      "s1 = 2.05; s3 = 3.73; Δ1 = 2.30Γ; Δ3 = 1.52Γ\n",
      "Survival: 12 / 20\n",
      "goodness = 0.000\n"
     ]
    },
    {
     "name": "stderr",
     "output_type": "stream",
     "text": [
      "\u001b[32mProgress: 100%|█████████████████████████████████████████| Time: 0:01:15\u001b[39m\n"
     ]
    },
    {
     "name": "stdout",
     "output_type": "stream",
     "text": [
      "s1 = 2.61; s3 = 0.92; Δ1 = 2.61Γ; Δ3 = 1.20Γ\n",
      "Survival: 19 / 20\n",
      "goodness = 0.629\n"
     ]
    },
    {
     "name": "stderr",
     "output_type": "stream",
     "text": [
      "\r",
      "\u001b[32mProgress:  10%|█████                                    |  ETA: 0:02:17\u001b[39m\r",
      "\u001b[32mProgress:  15%|███████                                  |  ETA: 0:01:29\u001b[39m\r",
      "\u001b[32mProgress:  25%|███████████                              |  ETA: 0:01:08\u001b[39m\r",
      "\u001b[32mProgress:  30%|█████████████                            |  ETA: 0:01:01\u001b[39m\r",
      "\u001b[32mProgress:  35%|███████████████                          |  ETA: 0:00:55\u001b[39m\r",
      "\u001b[32mProgress:  40%|█████████████████                        |  ETA: 0:00:54\u001b[39m\r",
      "\u001b[32mProgress:  45%|███████████████████                      |  ETA: 0:00:50\u001b[39m\r",
      "\u001b[32mProgress:  55%|███████████████████████                  |  ETA: 0:00:35\u001b[39m\r",
      "\u001b[32mProgress:  60%|█████████████████████████                |  ETA: 0:00:30\u001b[39m\r",
      "\u001b[32mProgress:  65%|███████████████████████████              |  ETA: 0:00:28\u001b[39m\r",
      "\u001b[32mProgress:  70%|█████████████████████████████            |  ETA: 0:00:23\u001b[39m\r",
      "\u001b[32mProgress:  75%|███████████████████████████████          |  ETA: 0:00:18\u001b[39m\r",
      "\u001b[32mProgress:  80%|█████████████████████████████████        |  ETA: 0:00:14\u001b[39m\r",
      "\u001b[32mProgress:  85%|███████████████████████████████████      |  ETA: 0:00:10\u001b[39m\r",
      "\u001b[32mProgress:  90%|█████████████████████████████████████    |  ETA: 0:00:07\u001b[39m\r",
      "\u001b[32mProgress:  95%|███████████████████████████████████████  |  ETA: 0:00:04\u001b[39m\r",
      "\u001b[32mProgress: 100%|█████████████████████████████████████████| Time: 0:01:10\u001b[39m\n"
     ]
    },
    {
     "name": "stdout",
     "output_type": "stream",
     "text": [
      "s1 = 4.86; s3 = 3.17; Δ1 = 1.36Γ; Δ3 = 2.45Γ\n",
      "Survival: 11 / 20\n",
      "goodness = 0.069\n"
     ]
    },
    {
     "name": "stderr",
     "output_type": "stream",
     "text": [
      "\u001b[32mProgress: 100%|█████████████████████████████████████████| Time: 0:01:08\u001b[39m\n"
     ]
    },
    {
     "name": "stdout",
     "output_type": "stream",
     "text": [
      "s1 = 3.73; s3 = 2.05; Δ1 = 1.98Γ; Δ3 = 0.58Γ\n",
      "Survival: 15 / 20\n",
      "goodness = 0.171"
     ]
    },
    {
     "name": "stderr",
     "output_type": "stream",
     "text": [
      "\r",
      "\u001b[32mProgress:  10%|█████                                    |  ETA: 0:01:36\u001b[39m\r",
      "\u001b[32mProgress:  15%|███████                                  |  ETA: 0:01:05\u001b[39m\r",
      "\u001b[32mProgress:  20%|█████████                                |  ETA: 0:00:51\u001b[39m\r",
      "\u001b[32mProgress:  25%|███████████                              |  ETA: 0:00:43\u001b[39m\r",
      "\u001b[32mProgress:  35%|███████████████                          |  ETA: 0:00:33\u001b[39m\r",
      "\u001b[32mProgress:  40%|█████████████████                        |  ETA: 0:00:32\u001b[39m\r",
      "\u001b[32mProgress:  45%|███████████████████                      |  ETA: 0:00:27\u001b[39m\r",
      "\u001b[32mProgress:  50%|█████████████████████                    |  ETA: 0:00:23\u001b[39m\r",
      "\u001b[32mProgress:  55%|███████████████████████                  |  ETA: 0:00:20\u001b[39m\r",
      "\u001b[32mProgress:  60%|█████████████████████████                |  ETA: 0:00:19\u001b[39m\r",
      "\u001b[32mProgress:  65%|███████████████████████████              |  ETA: 0:00:16\u001b[39m\r",
      "\u001b[32mProgress:  70%|█████████████████████████████            |  ETA: 0:00:13\u001b[39m\r",
      "\u001b[32mProgress:  80%|█████████████████████████████████        |  ETA: 0:00:08\u001b[39m\r",
      "\u001b[32mProgress:  85%|███████████████████████████████████      |  ETA: 0:00:06\u001b[39m\r",
      "\u001b[32mProgress:  90%|█████████████████████████████████████    |  ETA: 0:00:04\u001b[39m"
     ]
    },
    {
     "name": "stdout",
     "output_type": "stream",
     "text": [
      "\n"
     ]
    },
    {
     "name": "stderr",
     "output_type": "stream",
     "text": [
      "\u001b[32mProgress: 100%|█████████████████████████████████████████| Time: 0:00:53\u001b[39m\n"
     ]
    },
    {
     "name": "stdout",
     "output_type": "stream",
     "text": [
      "s1 = 1.48; s3 = 4.30; Δ1 = 0.73Γ; Δ3 = 1.83Γ\n",
      "Survival: 2 / 20\n",
      "goodness = 0.673\n"
     ]
    },
    {
     "name": "stderr",
     "output_type": "stream",
     "text": [
      "\u001b[32mProgress: 100%|█████████████████████████████████████████| Time: 0:00:57\u001b[39m\n"
     ]
    },
    {
     "name": "stdout",
     "output_type": "stream",
     "text": [
      "s1 = 1.20; s3 = 1.20; Δ1 = 1.83Γ; Δ3 = 2.61Γ\n",
      "Survival: 8 / 20\n",
      "goodness = 0.249\n"
     ]
    },
    {
     "name": "stderr",
     "output_type": "stream",
     "text": [
      "\u001b[32mProgress: 100%|█████████████████████████████████████████| Time: 0:01:02\u001b[39m\n"
     ]
    },
    {
     "name": "stdout",
     "output_type": "stream",
     "text": [
      "s1 = 3.45; s3 = 3.45; Δ1 = 0.58Γ; Δ3 = 1.36Γ\n",
      "Survival: 5 / 20\n",
      "goodness = 0.040\n"
     ]
    },
    {
     "name": "stderr",
     "output_type": "stream",
     "text": [
      "\u001b[32mProgress: 100%|█████████████████████████████████████████| Time: 0:01:20\u001b[39m\n"
     ]
    },
    {
     "name": "stdout",
     "output_type": "stream",
     "text": [
      "s1 = 4.58; s3 = 2.33; Δ1 = 2.45Γ; Δ3 = 1.98Γ\n",
      "Survival: 20 / 20\n",
      "goodness = 0.486\n"
     ]
    },
    {
     "name": "stderr",
     "output_type": "stream",
     "text": [
      "\u001b[32mProgress: 100%|█████████████████████████████████████████| Time: 0:01:07\u001b[39m\n"
     ]
    },
    {
     "name": "stdout",
     "output_type": "stream",
     "text": [
      "s1 = 2.33; s3 = 4.58; Δ1 = 1.20Γ; Δ3 = 0.73Γ\n",
      "Survival: 5 / 20\n",
      "goodness = 0.000\n"
     ]
    },
    {
     "name": "stderr",
     "output_type": "stream",
     "text": [
      "\u001b[32mProgress: 100%|█████████████████████████████████████████| Time: 0:00:58\u001b[39m\n"
     ]
    },
    {
     "name": "stdout",
     "output_type": "stream",
     "text": [
      "s1 = 1.77; s3 = 1.77; Δ1 = 0.89Γ; Δ3 = 1.05Γ\n",
      "Survival: 10 / 20\n",
      "goodness = 0.944\n"
     ]
    },
    {
     "name": "stderr",
     "output_type": "stream",
     "text": [
      "\u001b[32mProgress: 100%|█████████████████████████████████████████| Time: 0:01:23\u001b[39m\n"
     ]
    },
    {
     "name": "stdout",
     "output_type": "stream",
     "text": [
      "s1 = 4.02; s3 = 4.02; Δ1 = 2.14Γ; Δ3 = 2.30Γ\n",
      "Survival: 20 / 20\n",
      "goodness = 0.691\n"
     ]
    },
    {
     "name": "stderr",
     "output_type": "stream",
     "text": [
      "\u001b[32mProgress: 100%|█████████████████████████████████████████| Time: 0:01:01\u001b[39m\n"
     ]
    },
    {
     "name": "stdout",
     "output_type": "stream",
     "text": [
      "s1 = 2.89; s3 = 0.64; Δ1 = 1.52Γ; Δ3 = 1.67Γ\n",
      "Survival: 11 / 20\n",
      "goodness = 1.200\n"
     ]
    },
    {
     "name": "stderr",
     "output_type": "stream",
     "text": [
      "\u001b[32mProgress: 100%|█████████████████████████████████████████| Time: 0:00:44\u001b[39m\n"
     ]
    },
    {
     "name": "stdout",
     "output_type": "stream",
     "text": [
      "s1 = 0.64; s3 = 2.89; Δ1 = 2.77Γ; Δ3 = 2.92Γ\n",
      "Survival: 5 / 20\n",
      "goodness = 0.000\n"
     ]
    },
    {
     "name": "stderr",
     "output_type": "stream",
     "text": [
      "\u001b[32mProgress: 100%|█████████████████████████████████████████| Time: 0:00:59\u001b[39m\n"
     ]
    },
    {
     "name": "stdout",
     "output_type": "stream",
     "text": [
      "s1 = 0.71; s3 = 1.70; Δ1 = 2.26Γ; Δ3 = 1.87Γ\n",
      "Survival: 13 / 20\n",
      "goodness = 0.000\n"
     ]
    },
    {
     "name": "stderr",
     "output_type": "stream",
     "text": [
      "\u001b[32mProgress: 100%|█████████████████████████████████████████| Time: 0:01:05\u001b[39m\n"
     ]
    },
    {
     "name": "stdout",
     "output_type": "stream",
     "text": [
      "s1 = 2.96; s3 = 3.95; Δ1 = 1.01Γ; Δ3 = 0.62Γ\n",
      "Survival: 2 / 20\n",
      "goodness = 0.000\n"
     ]
    },
    {
     "name": "stderr",
     "output_type": "stream",
     "text": [
      "\u001b[32mProgress: 100%|█████████████████████████████████████████| Time: 0:01:24\u001b[39m\n"
     ]
    },
    {
     "name": "stdout",
     "output_type": "stream",
     "text": [
      "s1 = 4.09; s3 = 0.57; Δ1 = 2.88Γ; Δ3 = 2.49Γ\n",
      "Survival: 20 / 20\n",
      "goodness = 1.159\n"
     ]
    },
    {
     "name": "stderr",
     "output_type": "stream",
     "text": [
      "\u001b[32mProgress: 100%|█████████████████████████████████████████| Time: 0:00:56\u001b[39m\n"
     ]
    },
    {
     "name": "stdout",
     "output_type": "stream",
     "text": [
      "s1 = 1.84; s3 = 2.82; Δ1 = 1.63Γ; Δ3 = 1.24Γ\n",
      "Survival: 20 / 20\n",
      "goodness = 0.206\n"
     ]
    },
    {
     "name": "stderr",
     "output_type": "stream",
     "text": [
      "\u001b[36m\u001b[1m[ \u001b[22m\u001b[39m\u001b[36m\u001b[1mInfo: \u001b[22m\u001b[39m2023-11-16T12:30:08.608\titeration: 20\tcurrent optimum: 1.2002800379779477\n",
      "\u001b[32mProgress: 100%|█████████████████████████████████████████| Time: 0:01:15\u001b[39m\n",
      "\u001b[36m\u001b[1m[ \u001b[22m\u001b[39m\u001b[36m\u001b[1mInfo: \u001b[22m\u001b[39m2023-11-16T12:31:27.928\titeration: 21\tcurrent optimum: 1.2002800379779477\n"
     ]
    },
    {
     "name": "stdout",
     "output_type": "stream",
     "text": [
      "s1 = 3.52; s3 = 0.69; Δ1 = 2.82Γ; Δ3 = 1.24Γ\n",
      "Survival: 18 / 20\n",
      "goodness = 0.534\n"
     ]
    },
    {
     "name": "stderr",
     "output_type": "stream",
     "text": [
      "\u001b[32mProgress: 100%|█████████████████████████████████████████| Time: 0:01:11\u001b[39m\n"
     ]
    },
    {
     "name": "stdout",
     "output_type": "stream",
     "text": [
      "s1 = 5.00; s3 = 0.50; Δ1 = 0.50Γ; Δ3 = 3.00Γ\n",
      "Survival: 14 / 20\n",
      "goodness = 1.127\n"
     ]
    },
    {
     "name": "stderr",
     "output_type": "stream",
     "text": [
      "\u001b[36m\u001b[1m[ \u001b[22m\u001b[39m\u001b[36m\u001b[1mInfo: \u001b[22m\u001b[39m2023-11-16T12:32:39.034\titeration: 22\tcurrent optimum: 1.2002800379779477\n",
      "\u001b[32mProgress: 100%|█████████████████████████████████████████| Time: 0:00:55\u001b[39m\n",
      "\u001b[36m\u001b[1m[ \u001b[22m\u001b[39m\u001b[36m\u001b[1mInfo: \u001b[22m\u001b[39m2023-11-16T12:33:34.189\titeration: 23\tcurrent optimum: 1.2002800379779477\n"
     ]
    },
    {
     "name": "stdout",
     "output_type": "stream",
     "text": [
      "s1 = 5.00; s3 = 0.50; Δ1 = 0.50Γ; Δ3 = 0.50Γ\n",
      "Survival: 6 / 20\n",
      "goodness = 0.417\n"
     ]
    },
    {
     "name": "stderr",
     "output_type": "stream",
     "text": [
      "\u001b[32mProgress: 100%|█████████████████████████████████████████| Time: 0:00:44\u001b[39m\n",
      "\u001b[36m\u001b[1m[ \u001b[22m\u001b[39m\u001b[36m\u001b[1mInfo: \u001b[22m\u001b[39m2023-11-16T12:34:19.069\titeration: 24\tcurrent optimum: 1.2002800379779477\n"
     ]
    },
    {
     "name": "stdout",
     "output_type": "stream",
     "text": [
      "s1 = 5.00; s3 = 0.50; Δ1 = 1.94Γ; Δ3 = 2.56Γ\n",
      "Survival: 6 / 20\n",
      "goodness = 0.209\n"
     ]
    },
    {
     "name": "stderr",
     "output_type": "stream",
     "text": [
      "\u001b[32mProgress: 100%|█████████████████████████████████████████| Time: 0:01:25\u001b[39m\n",
      "\u001b[36m\u001b[1m[ \u001b[22m\u001b[39m\u001b[36m\u001b[1mInfo: \u001b[22m\u001b[39m2023-11-16T12:35:44.712\titeration: 25\tcurrent optimum: 1.2002800379779477\n"
     ]
    },
    {
     "name": "stdout",
     "output_type": "stream",
     "text": [
      "s1 = 2.76; s3 = 0.50; Δ1 = 3.00Γ; Δ3 = 3.00Γ\n",
      "Survival: 15 / 20\n",
      "goodness = 0.000\n"
     ]
    },
    {
     "name": "stderr",
     "output_type": "stream",
     "text": [
      "\u001b[32mProgress:  95%|███████████████████████████████████████  |  ETA: 0:00:02\u001b[39m"
     ]
    },
    {
     "name": "stdout",
     "output_type": "stream",
     "text": [
      "s1 = 2.46; s3 = 0.50; Δ1 = 1.16Γ; Δ3 = 1.60Γ\n",
      "Survival: 3 / 20\n",
      "goodness = 0.000\n"
     ]
    },
    {
     "name": "stderr",
     "output_type": "stream",
     "text": [
      "\u001b[32mProgress: 100%|█████████████████████████████████████████| Time: 0:00:41\u001b[39m\n",
      "\u001b[36m\u001b[1m[ \u001b[22m\u001b[39m\u001b[36m\u001b[1mInfo: \u001b[22m\u001b[39m2023-11-16T12:36:25.914\titeration: 26\tcurrent optimum: 1.2002800379779477\n",
      "\u001b[32mProgress: 100%|█████████████████████████████████████████| Time: 0:01:12\u001b[39m\n",
      "\u001b[36m\u001b[1m[ \u001b[22m\u001b[39m\u001b[36m\u001b[1mInfo: \u001b[22m\u001b[39m2023-11-16T12:37:38.214\titeration: 27\tcurrent optimum: 1.2002800379779477\n"
     ]
    },
    {
     "name": "stdout",
     "output_type": "stream",
     "text": [
      "s1 = 2.96; s3 = 0.50; Δ1 = 1.53Γ; Δ3 = 1.73Γ\n",
      "Survival: 14 / 20\n",
      "goodness = 0.570\n"
     ]
    },
    {
     "name": "stderr",
     "output_type": "stream",
     "text": [
      "\u001b[32mProgress: 100%|█████████████████████████████████████████| Time: 0:01:20\u001b[39m\n",
      "\u001b[36m\u001b[1m[ \u001b[22m\u001b[39m\u001b[36m\u001b[1mInfo: \u001b[22m\u001b[39m2023-11-16T12:38:59.280\titeration: 28\tcurrent optimum: 1.2002800379779477\n"
     ]
    },
    {
     "name": "stdout",
     "output_type": "stream",
     "text": [
      "s1 = 4.21; s3 = 0.50; Δ1 = 2.84Γ; Δ3 = 2.54Γ\n",
      "Survival: 20 / 20\n",
      "goodness = 0.000\n"
     ]
    },
    {
     "name": "stderr",
     "output_type": "stream",
     "text": [
      "\u001b[32mProgress: 100%|█████████████████████████████████████████| Time: 0:00:34\u001b[39m\n",
      "\u001b[36m\u001b[1m[ \u001b[22m\u001b[39m\u001b[36m\u001b[1mInfo: \u001b[22m\u001b[39m2023-11-16T12:39:33.953\titeration: 29\tcurrent optimum: 1.2002800379779477\n"
     ]
    },
    {
     "name": "stdout",
     "output_type": "stream",
     "text": [
      "s1 = 3.84; s3 = 0.79; Δ1 = 1.22Γ; Δ3 = 1.90Γ\n",
      "Survival: 1 / 20\n",
      "goodness = 0.409\n"
     ]
    },
    {
     "name": "stderr",
     "output_type": "stream",
     "text": [
      "\u001b[32mProgress: 100%|█████████████████████████████████████████| Time: 0:01:06\u001b[39m\n"
     ]
    },
    {
     "name": "stdout",
     "output_type": "stream",
     "text": [
      "s1 = 2.99; s3 = 4.16; Δ1 = 2.49Γ; Δ3 = 2.89Γ\n",
      "Survival: 18 / 20\n",
      "goodness = 0.099\n"
     ]
    },
    {
     "name": "stderr",
     "output_type": "stream",
     "text": [
      "\u001b[36m\u001b[1m┌ \u001b[22m\u001b[39m\u001b[36m\u001b[1mInfo: \u001b[22m\u001b[39m ────────────────────────────────────────────────────────────────────────────────\n",
      "\u001b[36m\u001b[1m│ \u001b[22m\u001b[39m                                        Time                    Allocations      \n",
      "\u001b[36m\u001b[1m│ \u001b[22m\u001b[39m                               ───────────────────────   ────────────────────────\n",
      "\u001b[36m\u001b[1m│ \u001b[22m\u001b[39m       Tot / % measured:            1981s / 100.0%           2.58GiB /  99.5%    \n",
      "\u001b[36m\u001b[1m│ \u001b[22m\u001b[39m\n",
      "\u001b[36m\u001b[1m│ \u001b[22m\u001b[39m Section               ncalls     time    %tot     avg     alloc    %tot      avg\n",
      "\u001b[36m\u001b[1m│ \u001b[22m\u001b[39m ────────────────────────────────────────────────────────────────────────────────\n",
      "\u001b[36m\u001b[1m│ \u001b[22m\u001b[39m function evaluation       30    1975s   99.7%   65.8s   1.61GiB   62.8%  55.0MiB\n",
      "\u001b[36m\u001b[1m│ \u001b[22m\u001b[39m acquisition               11    5.14s    0.3%   467ms    835MiB   31.8%  75.9MiB\n",
      "\u001b[36m\u001b[1m│ \u001b[22m\u001b[39m model update              11    743ms    0.0%  67.5ms   58.9MiB    2.2%  5.35MiB\n",
      "\u001b[36m\u001b[1m│ \u001b[22m\u001b[39m model hyperparamet...     11    709ms    0.0%  64.4ms   82.4MiB    3.1%  7.49MiB\n",
      "\u001b[36m\u001b[1m└ \u001b[22m\u001b[39m ────────────────────────────────────────────────────────────────────────────────\n",
      "\u001b[36m\u001b[1m[ \u001b[22m\u001b[39m\u001b[36m\u001b[1mInfo: \u001b[22m\u001b[39m2023-11-16T12:40:42.956\titeration: 30\tcurrent optimum: 1.2002800379779477\n"
     ]
    },
    {
     "name": "stdout",
     "output_type": "stream",
     "text": [
      "===== Autosaved =====\n"
     ]
    },
    {
     "name": "stderr",
     "output_type": "stream",
     "text": [
      "\u001b[32mProgress: 100%|█████████████████████████████████████████| Time: 0:01:05\u001b[39m\n",
      "\u001b[36m\u001b[1m[ \u001b[22m\u001b[39m\u001b[36m\u001b[1mInfo: \u001b[22m\u001b[39m2023-11-16T12:41:48.182\titeration: 31\tcurrent optimum: 1.2002800379779477\n"
     ]
    },
    {
     "name": "stdout",
     "output_type": "stream",
     "text": [
      "s1 = 3.19; s3 = 2.34; Δ1 = 1.69Γ; Δ3 = 2.47Γ\n",
      "Survival: 9 / 20\n",
      "goodness = 0.236\n"
     ]
    },
    {
     "name": "stderr",
     "output_type": "stream",
     "text": [
      "\u001b[32mProgress: 100%|█████████████████████████████████████████| Time: 0:00:51\u001b[39m\n",
      "\u001b[36m\u001b[1m[ \u001b[22m\u001b[39m\u001b[36m\u001b[1mInfo: \u001b[22m\u001b[39m2023-11-16T12:42:39.756\titeration: 32\tcurrent optimum: 1.2002800379779477\n"
     ]
    },
    {
     "name": "stdout",
     "output_type": "stream",
     "text": [
      "s1 = 1.82; s3 = 3.55; Δ1 = 0.82Γ; Δ3 = 1.35Γ\n",
      "Survival: 8 / 20\n",
      "goodness = 0.332\n"
     ]
    },
    {
     "name": "stderr",
     "output_type": "stream",
     "text": [
      "\u001b[32mProgress: 100%|█████████████████████████████████████████| Time: 0:01:01\u001b[39m\n"
     ]
    },
    {
     "name": "stdout",
     "output_type": "stream",
     "text": [
      "s1 = 4.43; s3 = 3.85; Δ1 = 0.61Γ; Δ3 = 2.03Γ\n",
      "Survival: 2 / 20\n",
      "goodness = 0.000\n"
     ]
    },
    {
     "name": "stderr",
     "output_type": "stream",
     "text": [
      "\u001b[36m\u001b[1m[ \u001b[22m\u001b[39m\u001b[36m\u001b[1mInfo: \u001b[22m\u001b[39m2023-11-16T12:43:41.207\titeration: 33\tcurrent optimum: 1.2002800379779477\n",
      "\u001b[32mProgress: 100%|█████████████████████████████████████████| Time: 0:00:57\u001b[39m\n",
      "\u001b[36m\u001b[1m[ \u001b[22m\u001b[39m\u001b[36m\u001b[1mInfo: \u001b[22m\u001b[39m2023-11-16T12:44:38.409\titeration: 34\tcurrent optimum: 1.2002800379779477\n"
     ]
    },
    {
     "name": "stdout",
     "output_type": "stream",
     "text": [
      "s1 = 3.62; s3 = 0.76; Δ1 = 1.49Γ; Δ3 = 0.56Γ\n",
      "Survival: 9 / 20\n",
      "goodness = 0.145\n"
     ]
    },
    {
     "name": "stderr",
     "output_type": "stream",
     "text": [
      "\u001b[32mProgress: 100%|█████████████████████████████████████████| Time: 0:01:15\u001b[39m\n"
     ]
    },
    {
     "name": "stdout",
     "output_type": "stream",
     "text": [
      "s1 = 2.88; s3 = 0.66; Δ1 = 1.51Γ; Δ3 = 1.66Γ\n",
      "Survival: 14 / 20\n",
      "goodness = 0.197"
     ]
    },
    {
     "name": "stderr",
     "output_type": "stream",
     "text": [
      "\u001b[36m\u001b[1m[ \u001b[22m\u001b[39m\u001b[36m\u001b[1mInfo: \u001b[22m\u001b[39m2023-11-16T12:45:53.941\titeration: 35\tcurrent optimum: 1.2002800379779477\n"
     ]
    },
    {
     "name": "stdout",
     "output_type": "stream",
     "text": [
      "\n"
     ]
    },
    {
     "name": "stderr",
     "output_type": "stream",
     "text": [
      "\u001b[32mProgress: 100%|█████████████████████████████████████████| Time: 0:01:02\u001b[39m\n",
      "\u001b[36m\u001b[1m[ \u001b[22m\u001b[39m\u001b[36m\u001b[1mInfo: \u001b[22m\u001b[39m2023-11-16T12:46:56.137\titeration: 36\tcurrent optimum: 1.2002800379779477\n"
     ]
    },
    {
     "name": "stdout",
     "output_type": "stream",
     "text": [
      "s1 = 2.28; s3 = 4.78; Δ1 = 0.56Γ; Δ3 = 1.85Γ\n",
      "Survival: 5 / 20\n",
      "goodness = 0.000\n"
     ]
    },
    {
     "name": "stderr",
     "output_type": "stream",
     "text": [
      "\u001b[32mProgress: 100%|█████████████████████████████████████████| Time: 0:01:14\u001b[39m\n",
      "\u001b[36m\u001b[1m[ \u001b[22m\u001b[39m\u001b[36m\u001b[1mInfo: \u001b[22m\u001b[39m2023-11-16T12:48:10.555\titeration: 37\tcurrent optimum: 1.2002800379779477\n"
     ]
    },
    {
     "name": "stdout",
     "output_type": "stream",
     "text": [
      "s1 = 4.88; s3 = 3.57; Δ1 = 2.30Γ; Δ3 = 1.25Γ\n",
      "Survival: 20 / 20\n",
      "goodness = 0.669\n"
     ]
    },
    {
     "name": "stderr",
     "output_type": "stream",
     "text": [
      "\u001b[32mProgress: 100%|█████████████████████████████████████████| Time: 0:01:15\u001b[39m\n",
      "\u001b[36m\u001b[1m[ \u001b[22m\u001b[39m\u001b[36m\u001b[1mInfo: \u001b[22m\u001b[39m2023-11-16T12:49:25.966\titeration: 38\tcurrent optimum: 1.2002800379779477\n"
     ]
    },
    {
     "name": "stdout",
     "output_type": "stream",
     "text": [
      "s1 = 2.53; s3 = 3.96; Δ1 = 2.48Γ; Δ3 = 2.01Γ\n",
      "Survival: 20 / 20\n",
      "goodness = 1.062\n"
     ]
    },
    {
     "name": "stderr",
     "output_type": "stream",
     "text": [
      "\u001b[32mProgress: 100%|█████████████████████████████████████████| Time: 0:01:01\u001b[39m\n",
      "\u001b[36m\u001b[1m[ \u001b[22m\u001b[39m\u001b[36m\u001b[1mInfo: \u001b[22m\u001b[39m2023-11-16T12:50:27.789\titeration: 39\tcurrent optimum: 1.2002800379779477\n"
     ]
    },
    {
     "name": "stdout",
     "output_type": "stream",
     "text": [
      "s1 = 4.49; s3 = 3.84; Δ1 = 0.94Γ; Δ3 = 1.67Γ\n",
      "Survival: 12 / 20\n",
      "goodness = 0.075\n"
     ]
    },
    {
     "name": "stderr",
     "output_type": "stream",
     "text": [
      "\u001b[32mProgress: 100%|█████████████████████████████████████████| Time: 0:00:52\u001b[39m\n",
      "\u001b[36m\u001b[1m[ \u001b[22m\u001b[39m\u001b[36m\u001b[1mInfo: \u001b[22m\u001b[39m2023-11-16T12:51:20.788\titeration: 40\tcurrent optimum: 1.2002800379779477\n"
     ]
    },
    {
     "name": "stdout",
     "output_type": "stream",
     "text": [
      "s1 = 2.82; s3 = 3.54; Δ1 = 1.69Γ; Δ3 = 0.57Γ\n",
      "Survival: 3 / 20\n",
      "goodness = 0.000\n"
     ]
    },
    {
     "name": "stderr",
     "output_type": "stream",
     "text": [
      "\u001b[32mProgress: 100%|█████████████████████████████████████████| Time: 0:00:47\u001b[39m\n",
      "\u001b[36m\u001b[1m[ \u001b[22m\u001b[39m\u001b[36m\u001b[1mInfo: \u001b[22m\u001b[39m2023-11-16T12:52:08.118\titeration: 41\tcurrent optimum: 1.2002800379779477\n"
     ]
    },
    {
     "name": "stdout",
     "output_type": "stream",
     "text": [
      "s1 = 1.33; s3 = 3.97; Δ1 = 0.75Γ; Δ3 = 1.92Γ\n",
      "Survival: 2 / 20\n",
      "goodness = 0.000\n"
     ]
    },
    {
     "name": "stderr",
     "output_type": "stream",
     "text": [
      "\u001b[32mProgress: 100%|█████████████████████████████████████████| Time: 0:00:34\u001b[39m\n"
     ]
    },
    {
     "name": "stdout",
     "output_type": "stream",
     "text": [
      "s1 = 1.23; s3 = 4.86; Δ1 = 2.41Γ; Δ3 = 1.34Γ\n",
      "Survival: 0 / 20\n",
      "goodness = 0.000"
     ]
    },
    {
     "name": "stderr",
     "output_type": "stream",
     "text": [
      "\u001b[36m\u001b[1m[ \u001b[22m\u001b[39m\u001b[36m\u001b[1mInfo: \u001b[22m\u001b[39m2023-11-16T12:52:42.818\titeration: 42\tcurrent optimum: 1.2002800379779477\n"
     ]
    },
    {
     "name": "stdout",
     "output_type": "stream",
     "text": [
      "\n"
     ]
    },
    {
     "name": "stderr",
     "output_type": "stream",
     "text": [
      "\u001b[32mProgress: 100%|█████████████████████████████████████████| Time: 0:01:11\u001b[39m\n",
      "\u001b[36m\u001b[1m[ \u001b[22m\u001b[39m\u001b[36m\u001b[1mInfo: \u001b[22m\u001b[39m2023-11-16T12:53:54.618\titeration: 43\tcurrent optimum: 1.2002800379779477\n"
     ]
    },
    {
     "name": "stdout",
     "output_type": "stream",
     "text": [
      "s1 = 4.08; s3 = 1.69; Δ1 = 2.66Γ; Δ3 = 2.00Γ\n",
      "Survival: 20 / 20\n",
      "goodness = 0.856\n"
     ]
    },
    {
     "name": "stderr",
     "output_type": "stream",
     "text": [
      "\u001b[32mProgress: 100%|█████████████████████████████████████████| Time: 0:01:12\u001b[39m\n",
      "\u001b[36m\u001b[1m[ \u001b[22m\u001b[39m\u001b[36m\u001b[1mInfo: \u001b[22m\u001b[39m2023-11-16T12:55:06.674\titeration: 44\tcurrent optimum: 1.2091251184410197\n"
     ]
    },
    {
     "name": "stdout",
     "output_type": "stream",
     "text": [
      "s1 = 4.05; s3 = 0.75; Δ1 = 2.82Γ; Δ3 = 3.00Γ\n",
      "Survival: 17 / 20\n",
      "goodness = 1.209\n"
     ]
    },
    {
     "name": "stderr",
     "output_type": "stream",
     "text": [
      "\u001b[32mProgress: 100%|█████████████████████████████████████████| Time: 0:01:07\u001b[39m\n",
      "\u001b[36m\u001b[1m[ \u001b[22m\u001b[39m\u001b[36m\u001b[1mInfo: \u001b[22m\u001b[39m2023-11-16T12:56:14.507\titeration: 45\tcurrent optimum: 1.2091251184410197\n"
     ]
    },
    {
     "name": "stdout",
     "output_type": "stream",
     "text": [
      "s1 = 2.55; s3 = 4.50; Δ1 = 2.81Γ; Δ3 = 1.91Γ\n",
      "Survival: 14 / 20\n",
      "goodness = 0.000\n"
     ]
    },
    {
     "name": "stderr",
     "output_type": "stream",
     "text": [
      "\u001b[32mProgress: 100%|█████████████████████████████████████████| Time: 0:01:23\u001b[39m\n",
      "\u001b[36m\u001b[1m[ \u001b[22m\u001b[39m\u001b[36m\u001b[1mInfo: \u001b[22m\u001b[39m2023-11-16T12:57:38.561\titeration: 46\tcurrent optimum: 1.2091251184410197\n"
     ]
    },
    {
     "name": "stdout",
     "output_type": "stream",
     "text": [
      "s1 = 5.00; s3 = 5.00; Δ1 = 0.66Γ; Δ3 = 3.00Γ\n",
      "Survival: 18 / 20\n",
      "goodness = 0.064\n"
     ]
    },
    {
     "name": "stderr",
     "output_type": "stream",
     "text": [
      "\u001b[32mProgress: 100%|█████████████████████████████████████████| Time: 0:00:41\u001b[39m\n",
      "\u001b[36m\u001b[1m[ \u001b[22m\u001b[39m\u001b[36m\u001b[1mInfo: \u001b[22m\u001b[39m2023-11-16T12:58:19.780\titeration: 47\tcurrent optimum: 1.2091251184410197\n"
     ]
    },
    {
     "name": "stdout",
     "output_type": "stream",
     "text": [
      "s1 = 1.73; s3 = 0.63; Δ1 = 0.92Γ; Δ3 = 0.85Γ\n",
      "Survival: 4 / 20\n",
      "goodness = 0.638\n"
     ]
    },
    {
     "name": "stderr",
     "output_type": "stream",
     "text": [
      "\u001b[32mProgress: 100%|█████████████████████████████████████████| Time: 0:01:12\u001b[39m\n",
      "\u001b[36m\u001b[1m[ \u001b[22m\u001b[39m\u001b[36m\u001b[1mInfo: \u001b[22m\u001b[39m2023-11-16T12:59:32.310\titeration: 48\tcurrent optimum: 1.2091251184410197\n"
     ]
    },
    {
     "name": "stdout",
     "output_type": "stream",
     "text": [
      "s1 = 2.54; s3 = 2.82; Δ1 = 2.37Γ; Δ3 = 1.82Γ\n",
      "Survival: 19 / 20\n",
      "goodness = 0.556\n"
     ]
    },
    {
     "name": "stderr",
     "output_type": "stream",
     "text": [
      "\u001b[32mProgress: 100%|█████████████████████████████████████████| Time: 0:01:16\u001b[39m\n",
      "\u001b[36m\u001b[1m[ \u001b[22m\u001b[39m\u001b[36m\u001b[1mInfo: \u001b[22m\u001b[39m2023-11-16T13:00:49.117\titeration: 49\tcurrent optimum: 1.2091251184410197\n"
     ]
    },
    {
     "name": "stdout",
     "output_type": "stream",
     "text": [
      "s1 = 4.95; s3 = 0.50; Δ1 = 0.50Γ; Δ3 = 3.00Γ\n",
      "Survival: 9 / 20\n",
      "goodness = 0.000\n"
     ]
    },
    {
     "name": "stderr",
     "output_type": "stream",
     "text": [
      "\u001b[32mProgress: 100%|█████████████████████████████████████████| Time: 0:01:11\u001b[39m\n",
      "\u001b[36m\u001b[1m[ \u001b[22m\u001b[39m\u001b[36m\u001b[1mInfo: \u001b[22m\u001b[39m2023-11-16T13:02:00.766\titeration: 50\tcurrent optimum: 1.2091251184410197\n"
     ]
    },
    {
     "name": "stdout",
     "output_type": "stream",
     "text": [
      "s1 = 3.53; s3 = 4.45; Δ1 = 2.90Γ; Δ3 = 0.78Γ\n",
      "Survival: 12 / 20\n",
      "goodness = 0.042\n"
     ]
    },
    {
     "name": "stderr",
     "output_type": "stream",
     "text": [
      "\u001b[32mProgress: 100%|█████████████████████████████████████████| Time: 0:01:18\u001b[39m\n",
      "\u001b[36m\u001b[1m[ \u001b[22m\u001b[39m\u001b[36m\u001b[1mInfo: \u001b[22m\u001b[39m2023-11-16T13:03:19.066\titeration: 51\tcurrent optimum: 1.7994737242877206\n"
     ]
    },
    {
     "name": "stdout",
     "output_type": "stream",
     "text": [
      "s1 = 4.06; s3 = 0.62; Δ1 = 2.87Γ; Δ3 = 2.73Γ\n",
      "Survival: 19 / 20\n",
      "goodness = 1.799\n"
     ]
    },
    {
     "name": "stderr",
     "output_type": "stream",
     "text": [
      "\u001b[32mProgress: 100%|█████████████████████████████████████████| Time: 0:01:09\u001b[39m\n",
      "\u001b[36m\u001b[1m[ \u001b[22m\u001b[39m\u001b[36m\u001b[1mInfo: \u001b[22m\u001b[39m2023-11-16T13:04:28.892\titeration: 52\tcurrent optimum: 1.7994737242877206\n"
     ]
    },
    {
     "name": "stdout",
     "output_type": "stream",
     "text": [
      "s1 = 4.29; s3 = 3.96; Δ1 = 1.35Γ; Δ3 = 1.70Γ\n",
      "Survival: 20 / 20\n",
      "goodness = 0.230\n"
     ]
    },
    {
     "name": "stderr",
     "output_type": "stream",
     "text": [
      "\u001b[32mProgress: 100%|█████████████████████████████████████████| Time: 0:01:21\u001b[39m\n"
     ]
    },
    {
     "name": "stdout",
     "output_type": "stream",
     "text": [
      "s1 = 1.41; s3 = 3.12; Δ1 = 2.57Γ; Δ3 = 0.89Γ\n",
      "Survival: 2 / 20\n",
      "goodness = 0.000\n"
     ]
    },
    {
     "name": "stderr",
     "output_type": "stream",
     "text": [
      "\u001b[36m\u001b[1m[ \u001b[22m\u001b[39m\u001b[36m\u001b[1mInfo: \u001b[22m\u001b[39m2023-11-16T13:05:50.736\titeration: 53\tcurrent optimum: 1.7994737242877206\n",
      "\u001b[32mProgress: 100%|█████████████████████████████████████████| Time: 0:01:16\u001b[39m\n"
     ]
    },
    {
     "name": "stdout",
     "output_type": "stream",
     "text": [
      "s1 = 4.05; s3 = 0.97; Δ1 = 2.94Γ; Δ3 = 0.77Γ\n",
      "Survival: 20 / 20\n",
      "goodness = 0.650\n"
     ]
    },
    {
     "name": "stderr",
     "output_type": "stream",
     "text": [
      "\u001b[36m\u001b[1m[ \u001b[22m\u001b[39m\u001b[36m\u001b[1mInfo: \u001b[22m\u001b[39m2023-11-16T13:07:07.562\titeration: 54\tcurrent optimum: 1.7994737242877206\n",
      "\u001b[32mProgress: 100%|█████████████████████████████████████████| Time: 0:01:58\u001b[39m\n",
      "\u001b[36m\u001b[1m[ \u001b[22m\u001b[39m\u001b[36m\u001b[1mInfo: \u001b[22m\u001b[39m2023-11-16T13:09:06.142\titeration: 55\tcurrent optimum: 1.7994737242877206\n"
     ]
    },
    {
     "name": "stdout",
     "output_type": "stream",
     "text": [
      "s1 = 4.54; s3 = 2.15; Δ1 = 2.06Γ; Δ3 = 1.28Γ\n",
      "Survival: 20 / 20\n",
      "goodness = 0.346\n"
     ]
    },
    {
     "name": "stderr",
     "output_type": "stream",
     "text": [
      "\u001b[32mProgress:  95%|███████████████████████████████████████  |  ETA: 0:00:04\u001b[39m"
     ]
    },
    {
     "name": "stdout",
     "output_type": "stream",
     "text": [
      "s1 = 4.07; s3 = 3.68; Δ1 = 1.89Γ; Δ3 = 2.01Γ\n",
      "Survival: 18 / 20\n",
      "goodness = 1.188\n"
     ]
    },
    {
     "name": "stderr",
     "output_type": "stream",
     "text": [
      "\u001b[32mProgress: 100%|█████████████████████████████████████████| Time: 0:01:27\u001b[39m\n",
      "\u001b[36m\u001b[1m[ \u001b[22m\u001b[39m\u001b[36m\u001b[1mInfo: \u001b[22m\u001b[39m2023-11-16T13:10:33.355\titeration: 56\tcurrent optimum: 1.7994737242877206\n",
      "\u001b[32mProgress: 100%|█████████████████████████████████████████| Time: 0:01:46\u001b[39m\n"
     ]
    },
    {
     "name": "stdout",
     "output_type": "stream",
     "text": [
      "s1 = 1.56; s3 = 1.74; Δ1 = 2.96Γ; Δ3 = 0.71Γ\n",
      "Survival: 8 / 20\n",
      "goodness = 0.000\n"
     ]
    },
    {
     "name": "stderr",
     "output_type": "stream",
     "text": [
      "\u001b[36m\u001b[1m[ \u001b[22m\u001b[39m\u001b[36m\u001b[1mInfo: \u001b[22m\u001b[39m2023-11-16T13:12:19.976\titeration: 57\tcurrent optimum: 1.7994737242877206\n",
      "\u001b[32mProgress: 100%|█████████████████████████████████████████| Time: 0:01:05\u001b[39m\n",
      "\u001b[36m\u001b[1m[ \u001b[22m\u001b[39m\u001b[36m\u001b[1mInfo: \u001b[22m\u001b[39m2023-11-16T13:13:25.050\titeration: 58\tcurrent optimum: 1.7994737242877206\n"
     ]
    },
    {
     "name": "stdout",
     "output_type": "stream",
     "text": [
      "s1 = 1.04; s3 = 1.54; Δ1 = 1.40Γ; Δ3 = 1.91Γ\n",
      "Survival: 5 / 20\n",
      "goodness = 0.000\n"
     ]
    },
    {
     "name": "stderr",
     "output_type": "stream",
     "text": [
      "\u001b[32mProgress: 100%|█████████████████████████████████████████| Time: 0:01:14\u001b[39m\n",
      "\u001b[36m\u001b[1m[ \u001b[22m\u001b[39m\u001b[36m\u001b[1mInfo: \u001b[22m\u001b[39m2023-11-16T13:14:39.914\titeration: 59\tcurrent optimum: 1.7994737242877206\n"
     ]
    },
    {
     "name": "stdout",
     "output_type": "stream",
     "text": [
      "s1 = 3.84; s3 = 0.67; Δ1 = 2.57Γ; Δ3 = 0.76Γ\n",
      "Survival: 17 / 20\n",
      "goodness = 0.307\n"
     ]
    },
    {
     "name": "stderr",
     "output_type": "stream",
     "text": [
      "\u001b[32mProgress: 100%|█████████████████████████████████████████| Time: 0:01:37\u001b[39m\n"
     ]
    },
    {
     "name": "stdout",
     "output_type": "stream",
     "text": [
      "s1 = 4.10; s3 = 2.96; Δ1 = 2.64Γ; Δ3 = 3.00Γ\n",
      "Survival: 20 / 20\n",
      "goodness = 0.843\n"
     ]
    },
    {
     "name": "stderr",
     "output_type": "stream",
     "text": [
      "\u001b[36m\u001b[1m┌ \u001b[22m\u001b[39m\u001b[36m\u001b[1mInfo: \u001b[22m\u001b[39m ────────────────────────────────────────────────────────────────────────────────\n",
      "\u001b[36m\u001b[1m│ \u001b[22m\u001b[39m                                        Time                    Allocations      \n",
      "\u001b[36m\u001b[1m│ \u001b[22m\u001b[39m                               ───────────────────────   ────────────────────────\n",
      "\u001b[36m\u001b[1m│ \u001b[22m\u001b[39m       Tot / % measured:            2136s / 100.0%            304MiB /  99.9%    \n",
      "\u001b[36m\u001b[1m│ \u001b[22m\u001b[39m\n",
      "\u001b[36m\u001b[1m│ \u001b[22m\u001b[39m Section               ncalls     time    %tot     avg     alloc    %tot      avg\n",
      "\u001b[36m\u001b[1m│ \u001b[22m\u001b[39m ────────────────────────────────────────────────────────────────────────────────\n",
      "\u001b[36m\u001b[1m│ \u001b[22m\u001b[39m function evaluation       30    2135s  100.0%   71.2s    250MiB   82.6%  8.35MiB\n",
      "\u001b[36m\u001b[1m│ \u001b[22m\u001b[39m model hyperparamet...     30    438ms    0.0%  14.6ms   28.0MiB    9.2%   956KiB\n",
      "\u001b[36m\u001b[1m│ \u001b[22m\u001b[39m acquisition               31   22.0ms    0.0%   710μs   24.7MiB    8.1%   816KiB\n",
      "\u001b[36m\u001b[1m│ \u001b[22m\u001b[39m model update              30   2.22ms    0.0%  73.9μs    153KiB    0.0%  5.11KiB\n",
      "\u001b[36m\u001b[1m└ \u001b[22m\u001b[39m ────────────────────────────────────────────────────────────────────────────────\n"
     ]
    },
    {
     "name": "stdout",
     "output_type": "stream",
     "text": [
      "===== Autosaved =====\n"
     ]
    },
    {
     "name": "stderr",
     "output_type": "stream",
     "text": [
      "\u001b[36m\u001b[1m[ \u001b[22m\u001b[39m\u001b[36m\u001b[1mInfo: \u001b[22m\u001b[39m2023-11-16T13:16:19.272\titeration: 60\tcurrent optimum: 1.7994737242877206\n",
      "\u001b[32mProgress: 100%|█████████████████████████████████████████| Time: 0:01:39\u001b[39m\n",
      "\u001b[36m\u001b[1m[ \u001b[22m\u001b[39m\u001b[36m\u001b[1mInfo: \u001b[22m\u001b[39m2023-11-16T13:17:59.004\titeration: 61\tcurrent optimum: 1.7994737242877206\n"
     ]
    },
    {
     "name": "stdout",
     "output_type": "stream",
     "text": [
      "s1 = 3.97; s3 = 0.76; Δ1 = 1.57Γ; Δ3 = 0.90Γ\n",
      "Survival: 16 / 20\n",
      "goodness = 0.393\n"
     ]
    },
    {
     "name": "stderr",
     "output_type": "stream",
     "text": [
      "\u001b[32mProgress: 100%|█████████████████████████████████████████| Time: 0:01:06\u001b[39m\n",
      "\u001b[36m\u001b[1m[ \u001b[22m\u001b[39m\u001b[36m\u001b[1mInfo: \u001b[22m\u001b[39m2023-11-16T13:19:05.801\titeration: 62\tcurrent optimum: 1.7994737242877206\n"
     ]
    },
    {
     "name": "stdout",
     "output_type": "stream",
     "text": [
      "s1 = 4.12; s3 = 0.67; Δ1 = 1.53Γ; Δ3 = 2.13Γ\n",
      "Survival: 5 / 20\n",
      "goodness = 1.181\n"
     ]
    },
    {
     "name": "stderr",
     "output_type": "stream",
     "text": [
      "\u001b[32mProgress: 100%|█████████████████████████████████████████| Time: 0:01:16\u001b[39m\n",
      "\u001b[36m\u001b[1m[ \u001b[22m\u001b[39m\u001b[36m\u001b[1mInfo: \u001b[22m\u001b[39m2023-11-16T13:20:22.072\titeration: 63\tcurrent optimum: 1.7994737242877206\n"
     ]
    },
    {
     "name": "stdout",
     "output_type": "stream",
     "text": [
      "s1 = 4.04; s3 = 2.52; Δ1 = 0.53Γ; Δ3 = 3.00Γ\n",
      "Survival: 10 / 20\n",
      "goodness = 0.000\n"
     ]
    },
    {
     "name": "stderr",
     "output_type": "stream",
     "text": [
      "\u001b[32mProgress: 100%|█████████████████████████████████████████| Time: 0:00:31\u001b[39m\n",
      "\u001b[36m\u001b[1m[ \u001b[22m\u001b[39m\u001b[36m\u001b[1mInfo: \u001b[22m\u001b[39m2023-11-16T13:20:53.344\titeration: 64\tcurrent optimum: 1.7994737242877206\n"
     ]
    },
    {
     "name": "stdout",
     "output_type": "stream",
     "text": [
      "s1 = 0.50; s3 = 4.44; Δ1 = 1.71Γ; Δ3 = 2.72Γ\n",
      "Survival: 0 / 20\n",
      "goodness = 0.000\n"
     ]
    },
    {
     "name": "stderr",
     "output_type": "stream",
     "text": [
      "\u001b[32mProgress: 100%|█████████████████████████████████████████| Time: 0:00:55\u001b[39m\n"
     ]
    },
    {
     "name": "stdout",
     "output_type": "stream",
     "text": [
      "s1 = 4.71; s3 = 2.38; Δ1 = 2.11Γ; Δ3 = 2.78Γ\n",
      "Survival: 10 / 20\n",
      "goodness = 0.563\n"
     ]
    },
    {
     "name": "stderr",
     "output_type": "stream",
     "text": [
      "\u001b[36m\u001b[1m[ \u001b[22m\u001b[39m\u001b[36m\u001b[1mInfo: \u001b[22m\u001b[39m2023-11-16T13:21:48.630\titeration: 65\tcurrent optimum: 1.7994737242877206\n",
      "\u001b[32mProgress: 100%|█████████████████████████████████████████| Time: 0:01:00\u001b[39m\n",
      "\u001b[36m\u001b[1m[ \u001b[22m\u001b[39m\u001b[36m\u001b[1mInfo: \u001b[22m\u001b[39m2023-11-16T13:22:49.390\titeration: 66\tcurrent optimum: 1.7994737242877206\n"
     ]
    },
    {
     "name": "stdout",
     "output_type": "stream",
     "text": [
      "s1 = 2.18; s3 = 3.53; Δ1 = 2.20Γ; Δ3 = 2.18Γ\n",
      "Survival: 15 / 20\n",
      "goodness = 0.351\n"
     ]
    },
    {
     "name": "stderr",
     "output_type": "stream",
     "text": [
      "\u001b[32mProgress: 100%|█████████████████████████████████████████| Time: 0:00:58\u001b[39m\n",
      "\u001b[36m\u001b[1m[ \u001b[22m\u001b[39m\u001b[36m\u001b[1mInfo: \u001b[22m\u001b[39m2023-11-16T13:23:47.600\titeration: 67\tcurrent optimum: 1.7994737242877206\n"
     ]
    },
    {
     "name": "stdout",
     "output_type": "stream",
     "text": [
      "s1 = 1.67; s3 = 3.90; Δ1 = 0.93Γ; Δ3 = 2.14Γ\n",
      "Survival: 4 / 20\n",
      "goodness = 0.000\n"
     ]
    },
    {
     "name": "stderr",
     "output_type": "stream",
     "text": [
      "\u001b[32mProgress: 100%|█████████████████████████████████████████| Time: 0:00:44\u001b[39m\n",
      "\u001b[36m\u001b[1m[ \u001b[22m\u001b[39m\u001b[36m\u001b[1mInfo: \u001b[22m\u001b[39m2023-11-16T13:24:31.812\titeration: 68\tcurrent optimum: 1.7994737242877206\n"
     ]
    },
    {
     "name": "stdout",
     "output_type": "stream",
     "text": [
      "s1 = 2.61; s3 = 0.87; Δ1 = 0.96Γ; Δ3 = 1.90Γ\n",
      "Survival: 1 / 20\n",
      "goodness = 0.000\n"
     ]
    },
    {
     "name": "stderr",
     "output_type": "stream",
     "text": [
      "\u001b[32mProgress: 100%|█████████████████████████████████████████| Time: 0:01:12\u001b[39m\n",
      "\u001b[36m\u001b[1m[ \u001b[22m\u001b[39m\u001b[36m\u001b[1mInfo: \u001b[22m\u001b[39m2023-11-16T13:25:44.780\titeration: 69\tcurrent optimum: 2.3414630154111764\n"
     ]
    },
    {
     "name": "stdout",
     "output_type": "stream",
     "text": [
      "s1 = 1.75; s3 = 1.00; Δ1 = 2.10Γ; Δ3 = 2.25Γ\n",
      "Survival: 20 / 20\n",
      "goodness = 2.341\n"
     ]
    },
    {
     "name": "stderr",
     "output_type": "stream",
     "text": [
      "\u001b[32mProgress: 100%|█████████████████████████████████████████| Time: 0:01:15\u001b[39m\n"
     ]
    },
    {
     "name": "stdout",
     "output_type": "stream",
     "text": [
      "s1 = 2.32; s3 = 1.31; Δ1 = 2.83Γ; Δ3 = 2.69Γ\n",
      "Survival: 19 / 20\n",
      "goodness = 0.953\n"
     ]
    },
    {
     "name": "stderr",
     "output_type": "stream",
     "text": [
      "\u001b[36m\u001b[1m[ \u001b[22m\u001b[39m\u001b[36m\u001b[1mInfo: \u001b[22m\u001b[39m2023-11-16T13:27:03.072\titeration: 70\tcurrent optimum: 2.3414630154111764\n",
      "\u001b[32mProgress: 100%|█████████████████████████████████████████| Time: 0:01:40\u001b[39m\n",
      "\u001b[36m\u001b[1m[ \u001b[22m\u001b[39m\u001b[36m\u001b[1mInfo: \u001b[22m\u001b[39m2023-11-16T13:28:43.943\titeration: 71\tcurrent optimum: 2.3414630154111764\n"
     ]
    },
    {
     "name": "stdout",
     "output_type": "stream",
     "text": [
      "s1 = 3.33; s3 = 4.83; Δ1 = 2.31Γ; Δ3 = 1.76Γ\n",
      "Survival: 20 / 20\n",
      "goodness = 0.243\n"
     ]
    },
    {
     "name": "stderr",
     "output_type": "stream",
     "text": [
      "\u001b[32mProgress: 100%|█████████████████████████████████████████| Time: 0:01:39\u001b[39m\n"
     ]
    },
    {
     "name": "stdout",
     "output_type": "stream",
     "text": [
      "s1 = 4.44; s3 = 3.16; Δ1 = 2.54Γ; Δ3 = 0.90Γ\n",
      "Survival: 19 / 20\n",
      "goodness = 0.000"
     ]
    },
    {
     "name": "stderr",
     "output_type": "stream",
     "text": [
      "\u001b[36m\u001b[1m[ \u001b[22m\u001b[39m\u001b[36m\u001b[1mInfo: \u001b[22m\u001b[39m2023-11-16T13:30:23.690\titeration: 72\tcurrent optimum: 2.3414630154111764\n"
     ]
    },
    {
     "name": "stdout",
     "output_type": "stream",
     "text": [
      "\n"
     ]
    },
    {
     "name": "stderr",
     "output_type": "stream",
     "text": [
      "\u001b[32mProgress: 100%|█████████████████████████████████████████| Time: 0:01:06\u001b[39m\n",
      "\u001b[36m\u001b[1m[ \u001b[22m\u001b[39m\u001b[36m\u001b[1mInfo: \u001b[22m\u001b[39m2023-11-16T13:31:30.048\titeration: 73\tcurrent optimum: 2.3414630154111764\n"
     ]
    },
    {
     "name": "stdout",
     "output_type": "stream",
     "text": [
      "s1 = 1.88; s3 = 1.10; Δ1 = 2.17Γ; Δ3 = 1.30Γ\n",
      "Survival: 15 / 20\n",
      "goodness = 0.429\n"
     ]
    },
    {
     "name": "stderr",
     "output_type": "stream",
     "text": [
      "\u001b[32mProgress: 100%|█████████████████████████████████████████| Time: 0:01:09\u001b[39m\n"
     ]
    },
    {
     "name": "stdout",
     "output_type": "stream",
     "text": [
      "s1 = 1.75; s3 = 0.50; Δ1 = 2.51Γ; Δ3 = 2.76Γ\n"
     ]
    },
    {
     "name": "stderr",
     "output_type": "stream",
     "text": [
      "\u001b[36m\u001b[1m[ \u001b[22m\u001b[39m\u001b[36m\u001b[1mInfo: \u001b[22m\u001b[39m2023-11-16T13:32:39.864\titeration: 74\tcurrent optimum: 2.3414630154111764\n"
     ]
    },
    {
     "name": "stdout",
     "output_type": "stream",
     "text": [
      "Survival: 13 / 20\n",
      "goodness = 1.294\n"
     ]
    },
    {
     "name": "stderr",
     "output_type": "stream",
     "text": [
      "\u001b[32mProgress: 100%|█████████████████████████████████████████| Time: 0:01:11\u001b[39m\n",
      "\u001b[36m\u001b[1m[ \u001b[22m\u001b[39m\u001b[36m\u001b[1mInfo: \u001b[22m\u001b[39m2023-11-16T13:33:51.877\titeration: 75\tcurrent optimum: 2.3414630154111764\n"
     ]
    },
    {
     "name": "stdout",
     "output_type": "stream",
     "text": [
      "s1 = 1.86; s3 = 2.44; Δ1 = 0.87Γ; Δ3 = 2.89Γ\n",
      "Survival: 5 / 20\n",
      "goodness = 0.000\n"
     ]
    },
    {
     "name": "stderr",
     "output_type": "stream",
     "text": [
      "\u001b[32mProgress: 100%|█████████████████████████████████████████| Time: 0:01:10\u001b[39m\n"
     ]
    },
    {
     "name": "stdout",
     "output_type": "stream",
     "text": [
      "s1 = 1.97; s3 = 3.26; Δ1 = 2.13Γ; Δ3 = 2.85Γ\n",
      "Survival: 11 / 20\n",
      "goodness = 0.623\n"
     ]
    },
    {
     "name": "stderr",
     "output_type": "stream",
     "text": [
      "\u001b[36m\u001b[1m[ \u001b[22m\u001b[39m\u001b[36m\u001b[1mInfo: \u001b[22m\u001b[39m2023-11-16T13:35:02.602\titeration: 76\tcurrent optimum: 2.3414630154111764\n",
      "\u001b[32mProgress: 100%|█████████████████████████████████████████| Time: 0:01:04\u001b[39m\n",
      "\u001b[36m\u001b[1m[ \u001b[22m\u001b[39m\u001b[36m\u001b[1mInfo: \u001b[22m\u001b[39m2023-11-16T13:36:07.328\titeration: 77\tcurrent optimum: 2.3414630154111764\n"
     ]
    },
    {
     "name": "stdout",
     "output_type": "stream",
     "text": [
      "s1 = 2.27; s3 = 3.38; Δ1 = 2.70Γ; Δ3 = 0.88Γ\n",
      "Survival: 10 / 20\n",
      "goodness = 0.062\n"
     ]
    },
    {
     "name": "stderr",
     "output_type": "stream",
     "text": [
      "\u001b[32mProgress: 100%|█████████████████████████████████████████| Time: 0:00:55\u001b[39m\n",
      "\u001b[36m\u001b[1m[ \u001b[22m\u001b[39m\u001b[36m\u001b[1mInfo: \u001b[22m\u001b[39m2023-11-16T13:37:02.650\titeration: 78\tcurrent optimum: 2.3414630154111764\n"
     ]
    },
    {
     "name": "stdout",
     "output_type": "stream",
     "text": [
      "s1 = 0.81; s3 = 1.69; Δ1 = 1.31Γ; Δ3 = 2.40Γ\n",
      "Survival: 4 / 20\n",
      "goodness = 0.000\n"
     ]
    },
    {
     "name": "stderr",
     "output_type": "stream",
     "text": [
      "\u001b[32mProgress: 100%|█████████████████████████████████████████| Time: 0:01:12\u001b[39m\n",
      "\u001b[36m\u001b[1m[ \u001b[22m\u001b[39m\u001b[36m\u001b[1mInfo: \u001b[22m\u001b[39m2023-11-16T13:38:15.063\titeration: 79\tcurrent optimum: 2.3414630154111764\n"
     ]
    },
    {
     "name": "stdout",
     "output_type": "stream",
     "text": [
      "s1 = 4.77; s3 = 2.40; Δ1 = 2.59Γ; Δ3 = 1.63Γ\n",
      "Survival: 19 / 20\n",
      "goodness = 0.867\n"
     ]
    },
    {
     "name": "stderr",
     "output_type": "stream",
     "text": [
      "\u001b[32mProgress: 100%|█████████████████████████████████████████| Time: 0:01:36\u001b[39m\n",
      "\u001b[36m\u001b[1m[ \u001b[22m\u001b[39m\u001b[36m\u001b[1mInfo: \u001b[22m\u001b[39m2023-11-16T13:39:51.736\titeration: 80\tcurrent optimum: 2.3414630154111764\n"
     ]
    },
    {
     "name": "stdout",
     "output_type": "stream",
     "text": [
      "s1 = 3.41; s3 = 0.50; Δ1 = 1.66Γ; Δ3 = 2.94Γ\n",
      "Survival: 14 / 20\n",
      "goodness = 0.660\n"
     ]
    },
    {
     "name": "stderr",
     "output_type": "stream",
     "text": [
      "\u001b[32mProgress: 100%|█████████████████████████████████████████| Time: 0:01:44\u001b[39m\n"
     ]
    },
    {
     "name": "stdout",
     "output_type": "stream",
     "text": [
      "s1 = 3.08; s3 = 1.35; Δ1 = 2.08Γ; Δ3 = 1.01Γ\n",
      "Survival: 18 / 20\n",
      "goodness = 0.325\n"
     ]
    },
    {
     "name": "stderr",
     "output_type": "stream",
     "text": [
      "\u001b[36m\u001b[1m[ \u001b[22m\u001b[39m\u001b[36m\u001b[1mInfo: \u001b[22m\u001b[39m2023-11-16T13:41:36.306\titeration: 81\tcurrent optimum: 2.3414630154111764\n",
      "\u001b[32mProgress: 100%|█████████████████████████████████████████| Time: 0:01:09\u001b[39m\n",
      "\u001b[36m\u001b[1m[ \u001b[22m\u001b[39m\u001b[36m\u001b[1mInfo: \u001b[22m\u001b[39m2023-11-16T13:42:46.138\titeration: 82\tcurrent optimum: 2.3414630154111764\n"
     ]
    },
    {
     "name": "stdout",
     "output_type": "stream",
     "text": [
      "s1 = 1.66; s3 = 0.62; Δ1 = 2.27Γ; Δ3 = 0.75Γ\n",
      "Survival: 14 / 20\n",
      "goodness = 0.343\n"
     ]
    },
    {
     "name": "stderr",
     "output_type": "stream",
     "text": [
      "\u001b[32mProgress: 100%|█████████████████████████████████████████| Time: 0:01:18\u001b[39m"
     ]
    },
    {
     "name": "stdout",
     "output_type": "stream",
     "text": [
      "s1 = 2.70; s3 = 3.71; Δ1 = 2.83Γ; Δ3 = 2.81Γ\n",
      "Survival: 14 / 20\n",
      "goodness = 0.316\n"
     ]
    },
    {
     "name": "stderr",
     "output_type": "stream",
     "text": [
      "\n",
      "\u001b[36m\u001b[1m[ \u001b[22m\u001b[39m\u001b[36m\u001b[1mInfo: \u001b[22m\u001b[39m2023-11-16T13:44:04.720\titeration: 83\tcurrent optimum: 2.3414630154111764\n",
      "\u001b[32mProgress: 100%|█████████████████████████████████████████| Time: 0:01:02\u001b[39m\n"
     ]
    },
    {
     "name": "stdout",
     "output_type": "stream",
     "text": [
      "s1 = 1.94; s3 = 3.53; Δ1 = 1.76Γ; Δ3 = 0.86Γ\n",
      "Survival: 3 / 20\n",
      "goodness = 0.000\n"
     ]
    },
    {
     "name": "stderr",
     "output_type": "stream",
     "text": [
      "\u001b[36m\u001b[1m[ \u001b[22m\u001b[39m\u001b[36m\u001b[1mInfo: \u001b[22m\u001b[39m2023-11-16T13:45:09.736\titeration: 84\tcurrent optimum: 2.3414630154111764\n",
      "\u001b[32mProgress: 100%|█████████████████████████████████████████| Time: 0:01:35\u001b[39m\n"
     ]
    },
    {
     "name": "stdout",
     "output_type": "stream",
     "text": [
      "s1 = 4.36; s3 = 4.02; Δ1 = 0.72Γ; Δ3 = 1.99Γ\n",
      "Survival: 5 / 20\n",
      "goodness = 0.049\n"
     ]
    },
    {
     "name": "stderr",
     "output_type": "stream",
     "text": [
      "\u001b[36m\u001b[1m[ \u001b[22m\u001b[39m\u001b[36m\u001b[1mInfo: \u001b[22m\u001b[39m2023-11-16T13:46:45.920\titeration: 85\tcurrent optimum: 2.3414630154111764\n",
      "\u001b[32mProgress:  95%|███████████████████████████████████████  |  ETA: 0:00:03\u001b[39m\r"
     ]
    },
    {
     "name": "stdout",
     "output_type": "stream",
     "text": [
      "s1 = 4.64; s3 = 4.89; Δ1 = 0.58Γ; Δ3 = 1.48Γ\n",
      "Survival: 8 / 20\n",
      "goodness = 0.010"
     ]
    },
    {
     "name": "stderr",
     "output_type": "stream",
     "text": [
      "\u001b[32mProgress: 100%|█████████████████████████████████████████| Time: 0:01:06\u001b[39m\n",
      "\u001b[36m\u001b[1m[ \u001b[22m\u001b[39m\u001b[36m\u001b[1mInfo: \u001b[22m\u001b[39m2023-11-16T13:47:52.931\titeration: 86\tcurrent optimum: 2.3414630154111764\n"
     ]
    },
    {
     "name": "stdout",
     "output_type": "stream",
     "text": [
      "\n"
     ]
    },
    {
     "name": "stderr",
     "output_type": "stream",
     "text": [
      "\u001b[32mProgress: 100%|█████████████████████████████████████████| Time: 0:01:12\u001b[39m\n",
      "\u001b[36m\u001b[1m[ \u001b[22m\u001b[39m\u001b[36m\u001b[1mInfo: \u001b[22m\u001b[39m2023-11-16T13:49:05.908\titeration: 87\tcurrent optimum: 2.3414630154111764\n"
     ]
    },
    {
     "name": "stdout",
     "output_type": "stream",
     "text": [
      "s1 = 3.77; s3 = 3.82; Δ1 = 0.71Γ; Δ3 = 1.19Γ\n",
      "Survival: 20 / 20\n",
      "goodness = 0.038\n"
     ]
    },
    {
     "name": "stderr",
     "output_type": "stream",
     "text": [
      "\u001b[32mProgress: 100%|█████████████████████████████████████████| Time: 0:01:15\u001b[39m\n",
      "\u001b[36m\u001b[1m[ \u001b[22m\u001b[39m\u001b[36m\u001b[1mInfo: \u001b[22m\u001b[39m2023-11-16T13:50:21.604\titeration: 88\tcurrent optimum: 2.3414630154111764\n"
     ]
    },
    {
     "name": "stdout",
     "output_type": "stream",
     "text": [
      "s1 = 3.76; s3 = 4.16; Δ1 = 2.71Γ; Δ3 = 2.03Γ\n",
      "Survival: 20 / 20\n",
      "goodness = 0.491\n"
     ]
    },
    {
     "name": "stderr",
     "output_type": "stream",
     "text": [
      "\u001b[32mProgress: 100%|█████████████████████████████████████████| Time: 0:01:28\u001b[39m\n",
      "\u001b[36m\u001b[1m[ \u001b[22m\u001b[39m\u001b[36m\u001b[1mInfo: \u001b[22m\u001b[39m2023-11-16T13:51:49.976\titeration: 89\tcurrent optimum: 2.3414630154111764\n"
     ]
    },
    {
     "name": "stdout",
     "output_type": "stream",
     "text": [
      "s1 = 4.13; s3 = 1.47; Δ1 = 1.09Γ; Δ3 = 2.73Γ\n",
      "Survival: 7 / 20\n",
      "goodness = 0.163\n"
     ]
    },
    {
     "name": "stderr",
     "output_type": "stream",
     "text": [
      "\u001b[32mProgress: 100%|█████████████████████████████████████████| Time: 0:00:48\u001b[39m\n"
     ]
    },
    {
     "name": "stdout",
     "output_type": "stream",
     "text": [
      "s1 = 3.09; s3 = 2.25; Δ1 = 0.90Γ; Δ3 = 2.07Γ\n",
      "Survival: 3 / 20\n",
      "goodness = 0.070\n"
     ]
    },
    {
     "name": "stderr",
     "output_type": "stream",
     "text": [
      "\u001b[36m\u001b[1m┌ \u001b[22m\u001b[39m\u001b[36m\u001b[1mInfo: \u001b[22m\u001b[39m ────────────────────────────────────────────────────────────────────────────────\n",
      "\u001b[36m\u001b[1m│ \u001b[22m\u001b[39m                                        Time                    Allocations      \n",
      "\u001b[36m\u001b[1m│ \u001b[22m\u001b[39m                               ───────────────────────   ────────────────────────\n",
      "\u001b[36m\u001b[1m│ \u001b[22m\u001b[39m       Tot / % measured:            2179s / 100.0%            298MiB /  99.9%    \n",
      "\u001b[36m\u001b[1m│ \u001b[22m\u001b[39m\n",
      "\u001b[36m\u001b[1m│ \u001b[22m\u001b[39m Section               ncalls     time    %tot     avg     alloc    %tot      avg\n",
      "\u001b[36m\u001b[1m│ \u001b[22m\u001b[39m ────────────────────────────────────────────────────────────────────────────────\n",
      "\u001b[36m\u001b[1m│ \u001b[22m\u001b[39m function evaluation       30    2174s   99.8%   72.5s    249MiB   83.6%  8.29MiB\n",
      "\u001b[36m\u001b[1m│ \u001b[22m\u001b[39m model hyperparamet...     30    4.74s    0.2%   158ms   42.6MiB   14.3%  1.42MiB\n",
      "\u001b[36m\u001b[1m│ \u001b[22m\u001b[39m acquisition               31   6.36ms    0.0%   205μs   6.08MiB    2.0%   201KiB\n",
      "\u001b[36m\u001b[1m│ \u001b[22m\u001b[39m model update              30   2.82ms    0.0%  94.0μs    244KiB    0.1%  8.12KiB\n",
      "\u001b[36m\u001b[1m└ \u001b[22m\u001b[39m ────────────────────────────────────────────────────────────────────────────────\n",
      "\u001b[36m\u001b[1m[ \u001b[22m\u001b[39m\u001b[36m\u001b[1mInfo: \u001b[22m\u001b[39m2023-11-16T13:52:38.745\titeration: 90\tcurrent optimum: 2.3414630154111764\n"
     ]
    },
    {
     "name": "stdout",
     "output_type": "stream",
     "text": [
      "===== Autosaved =====\n"
     ]
    },
    {
     "name": "stderr",
     "output_type": "stream",
     "text": [
      "\u001b[32mProgress: 100%|█████████████████████████████████████████| Time: 0:00:43\u001b[39m\n"
     ]
    },
    {
     "name": "stdout",
     "output_type": "stream",
     "text": [
      "s1 = 1.41; s3 = 2.43; Δ1 = 1.33Γ; Δ3 = 2.12Γ\n",
      "Survival: 5 / 20\n",
      "goodness = 0.380\n"
     ]
    },
    {
     "name": "stderr",
     "output_type": "stream",
     "text": [
      "\u001b[36m\u001b[1m[ \u001b[22m\u001b[39m\u001b[36m\u001b[1mInfo: \u001b[22m\u001b[39m2023-11-16T13:53:22.113\titeration: 91\tcurrent optimum: 2.3414630154111764\n",
      "\u001b[32mProgress: 100%|█████████████████████████████████████████| Time: 0:02:03\u001b[39m\n"
     ]
    },
    {
     "name": "stdout",
     "output_type": "stream",
     "text": [
      "s1 = 4.04; s3 = 4.64; Δ1 = 2.89Γ; Δ3 = 1.97Γ\n",
      "Survival: 20 / 20\n",
      "goodness = 0.305"
     ]
    },
    {
     "name": "stderr",
     "output_type": "stream",
     "text": [
      "\u001b[36m\u001b[1m[ \u001b[22m\u001b[39m\u001b[36m\u001b[1mInfo: \u001b[22m\u001b[39m2023-11-16T13:55:28.190\titeration: 92\tcurrent optimum: 2.3414630154111764\n"
     ]
    },
    {
     "name": "stdout",
     "output_type": "stream",
     "text": [
      "\n"
     ]
    },
    {
     "name": "stderr",
     "output_type": "stream",
     "text": [
      "\u001b[32mProgress: 100%|█████████████████████████████████████████| Time: 0:01:46\u001b[39m\n"
     ]
    },
    {
     "name": "stdout",
     "output_type": "stream",
     "text": [
      "s1 = 3.32; s3 = 0.80; Δ1 = 2.07Γ; Δ3 = 2.74Γ\n",
      "Survival: 9 / 20\n",
      "goodness = 0.610\n"
     ]
    },
    {
     "name": "stderr",
     "output_type": "stream",
     "text": [
      "\u001b[36m\u001b[1m[ \u001b[22m\u001b[39m\u001b[36m\u001b[1mInfo: \u001b[22m\u001b[39m2023-11-16T13:57:18.429\titeration: 93\tcurrent optimum: 2.3414630154111764\n",
      "\u001b[32mProgress: 100%|█████████████████████████████████████████| Time: 0:01:05\u001b[39m\n",
      "\u001b[36m\u001b[1m[ \u001b[22m\u001b[39m\u001b[36m\u001b[1mInfo: \u001b[22m\u001b[39m2023-11-16T13:58:24.029\titeration: 94\tcurrent optimum: 2.3414630154111764\n"
     ]
    },
    {
     "name": "stdout",
     "output_type": "stream",
     "text": [
      "s1 = 1.17; s3 = 1.47; Δ1 = 0.63Γ; Δ3 = 0.72Γ\n",
      "Survival: 5 / 20\n",
      "goodness = 1.720\n"
     ]
    },
    {
     "name": "stderr",
     "output_type": "stream",
     "text": [
      "\u001b[32mProgress: 100%|█████████████████████████████████████████| Time: 0:01:09\u001b[39m\n",
      "\u001b[36m\u001b[1m[ \u001b[22m\u001b[39m\u001b[36m\u001b[1mInfo: \u001b[22m\u001b[39m2023-11-16T13:59:33.782\titeration: 95\tcurrent optimum: 2.3414630154111764\n"
     ]
    },
    {
     "name": "stdout",
     "output_type": "stream",
     "text": [
      "s1 = 1.75; s3 = 0.76; Δ1 = 1.60Γ; Δ3 = 3.00Γ\n",
      "Survival: 13 / 20\n",
      "goodness = 0.329\n"
     ]
    },
    {
     "name": "stderr",
     "output_type": "stream",
     "text": [
      "\u001b[32mProgress: 100%|█████████████████████████████████████████| Time: 0:00:45\u001b[39m\n"
     ]
    },
    {
     "name": "stdout",
     "output_type": "stream",
     "text": [
      "s1 = 0.51; s3 = 0.58; Δ1 = 1.93Γ; Δ3 = 0.75Γ\n",
      "Survival: 2 / 20\n",
      "goodness = 0.201\n"
     ]
    },
    {
     "name": "stderr",
     "output_type": "stream",
     "text": [
      "\u001b[36m\u001b[1m[ \u001b[22m\u001b[39m\u001b[36m\u001b[1mInfo: \u001b[22m\u001b[39m2023-11-16T14:00:23.970\titeration: 96\tcurrent optimum: 2.3414630154111764\n",
      "\u001b[32mProgress: 100%|█████████████████████████████████████████| Time: 0:00:58\u001b[39m\n"
     ]
    },
    {
     "name": "stdout",
     "output_type": "stream",
     "text": [
      "s1 = 3.37; s3 = 2.72; Δ1 = 0.85Γ; Δ3 = 2.09Γ\n",
      "Survival: 0 / 20\n",
      "goodness = 0.000\n"
     ]
    },
    {
     "name": "stderr",
     "output_type": "stream",
     "text": [
      "\u001b[36m\u001b[1m[ \u001b[22m\u001b[39m\u001b[36m\u001b[1mInfo: \u001b[22m\u001b[39m2023-11-16T14:01:26.796\titeration: 97\tcurrent optimum: 2.3414630154111764\n",
      "\u001b[32mProgress: 100%|█████████████████████████████████████████| Time: 0:01:35\u001b[39m\n"
     ]
    },
    {
     "name": "stdout",
     "output_type": "stream",
     "text": [
      "s1 = 1.72; s3 = 0.50; Δ1 = 2.33Γ; Δ3 = 2.07Γ\n",
      "Survival: 20 / 20\n",
      "goodness = 0.000\n"
     ]
    },
    {
     "name": "stderr",
     "output_type": "stream",
     "text": [
      "\u001b[36m\u001b[1m[ \u001b[22m\u001b[39m\u001b[36m\u001b[1mInfo: \u001b[22m\u001b[39m2023-11-16T14:03:02.187\titeration: 98\tcurrent optimum: 2.3414630154111764\n",
      "\u001b[32mProgress: 100%|█████████████████████████████████████████| Time: 0:01:21\u001b[39m\n"
     ]
    },
    {
     "name": "stdout",
     "output_type": "stream",
     "text": [
      "s1 = 4.71; s3 = 4.77; Δ1 = 2.68Γ; Δ3 = 2.63Γ\n",
      "Survival: 15 / 20\n",
      "goodness = 0.143"
     ]
    },
    {
     "name": "stderr",
     "output_type": "stream",
     "text": [
      "\u001b[36m\u001b[1m[ \u001b[22m\u001b[39m\u001b[36m\u001b[1mInfo: \u001b[22m\u001b[39m2023-11-16T14:04:24.135\titeration: 99\tcurrent optimum: 2.3414630154111764\n"
     ]
    },
    {
     "name": "stdout",
     "output_type": "stream",
     "text": [
      "\n"
     ]
    },
    {
     "name": "stderr",
     "output_type": "stream",
     "text": [
      "\u001b[32mProgress: 100%|█████████████████████████████████████████| Time: 0:00:29\u001b[39m\n",
      "\u001b[36m\u001b[1m[ \u001b[22m\u001b[39m\u001b[36m\u001b[1mInfo: \u001b[22m\u001b[39m2023-11-16T14:04:53.808\titeration: 100\tcurrent optimum: 2.3414630154111764\n"
     ]
    },
    {
     "name": "stdout",
     "output_type": "stream",
     "text": [
      "s1 = 1.13; s3 = 4.44; Δ1 = 1.73Γ; Δ3 = 0.82Γ\n",
      "Survival: 0 / 20\n",
      "goodness = 0.000\n"
     ]
    },
    {
     "name": "stderr",
     "output_type": "stream",
     "text": [
      "\u001b[32mProgress: 100%|█████████████████████████████████████████| Time: 0:01:08\u001b[39m"
     ]
    },
    {
     "name": "stdout",
     "output_type": "stream",
     "text": [
      "s1 = 4.81; s3 = 2.06; Δ1 = 2.31Γ; Δ3 = 0.56Γ\n",
      "Survival: 19 / 20\n",
      "goodness = 0.119"
     ]
    },
    {
     "name": "stderr",
     "output_type": "stream",
     "text": [
      "\n"
     ]
    },
    {
     "name": "stdout",
     "output_type": "stream",
     "text": [
      "\n"
     ]
    },
    {
     "name": "stderr",
     "output_type": "stream",
     "text": [
      "\u001b[36m\u001b[1m[ \u001b[22m\u001b[39m\u001b[36m\u001b[1mInfo: \u001b[22m\u001b[39m2023-11-16T14:06:01.941\titeration: 101\tcurrent optimum: 2.3414630154111764\n",
      "\u001b[32mProgress: 100%|█████████████████████████████████████████| Time: 0:01:02\u001b[39m\n",
      "\u001b[36m\u001b[1m[ \u001b[22m\u001b[39m\u001b[36m\u001b[1mInfo: \u001b[22m\u001b[39m2023-11-16T14:07:04.399\titeration: 102\tcurrent optimum: 2.3414630154111764\n"
     ]
    },
    {
     "name": "stdout",
     "output_type": "stream",
     "text": [
      "s1 = 1.74; s3 = 4.55; Δ1 = 2.01Γ; Δ3 = 2.49Γ\n",
      "Survival: 14 / 20\n",
      "goodness = 0.186\n"
     ]
    },
    {
     "name": "stderr",
     "output_type": "stream",
     "text": [
      "\u001b[32mProgress: 100%|█████████████████████████████████████████| Time: 0:00:43\u001b[39m\n",
      "\u001b[36m\u001b[1m[ \u001b[22m\u001b[39m\u001b[36m\u001b[1mInfo: \u001b[22m\u001b[39m2023-11-16T14:07:47.906\titeration: 103\tcurrent optimum: 2.3414630154111764\n"
     ]
    },
    {
     "name": "stdout",
     "output_type": "stream",
     "text": [
      "s1 = 0.60; s3 = 2.92; Δ1 = 0.52Γ; Δ3 = 2.60Γ\n",
      "Survival: 0 / 20\n",
      "goodness = 0.000\n"
     ]
    },
    {
     "name": "stderr",
     "output_type": "stream",
     "text": [
      "\u001b[32mProgress: 100%|█████████████████████████████████████████| Time: 0:00:44\u001b[39m\n"
     ]
    },
    {
     "name": "stdout",
     "output_type": "stream",
     "text": [
      "s1 = 1.97; s3 = 1.22; Δ1 = 0.62Γ; Δ3 = 2.18Γ\n",
      "Survival: 1 / 20\n",
      "goodness = 0.000\n"
     ]
    },
    {
     "name": "stderr",
     "output_type": "stream",
     "text": [
      "\u001b[36m\u001b[1m[ \u001b[22m\u001b[39m\u001b[36m\u001b[1mInfo: \u001b[22m\u001b[39m2023-11-16T14:08:32.828\titeration: 104\tcurrent optimum: 2.3414630154111764\n",
      "\u001b[32mProgress: 100%|█████████████████████████████████████████| Time: 0:01:03\u001b[39m\n"
     ]
    },
    {
     "name": "stdout",
     "output_type": "stream",
     "text": [
      "s1 = 2.37; s3 = 4.43; Δ1 = 2.63Γ; Δ3 = 1.74Γ\n",
      "Survival: 12 / 20\n",
      "goodness = 0.141"
     ]
    },
    {
     "name": "stderr",
     "output_type": "stream",
     "text": [
      "\u001b[36m\u001b[1m[ \u001b[22m\u001b[39m\u001b[36m\u001b[1mInfo: \u001b[22m\u001b[39m2023-11-16T14:09:36.301\titeration: 105\tcurrent optimum: 2.3414630154111764\n"
     ]
    },
    {
     "name": "stdout",
     "output_type": "stream",
     "text": [
      "\n"
     ]
    },
    {
     "name": "stderr",
     "output_type": "stream",
     "text": [
      "\u001b[32mProgress: 100%|█████████████████████████████████████████| Time: 0:01:04\u001b[39m"
     ]
    },
    {
     "name": "stdout",
     "output_type": "stream",
     "text": [
      "s1 = 1.82; s3 = 1.55; Δ1 = 2.58Γ; Δ3 = 2.11Γ\n",
      "Survival: 20 / 20\n",
      "goodness = 0.599"
     ]
    },
    {
     "name": "stderr",
     "output_type": "stream",
     "text": [
      "\n",
      "\u001b[36m\u001b[1m[ \u001b[22m\u001b[39m\u001b[36m\u001b[1mInfo: \u001b[22m\u001b[39m2023-11-16T14:10:41.056\titeration: 106\tcurrent optimum: 2.3414630154111764\n"
     ]
    },
    {
     "name": "stdout",
     "output_type": "stream",
     "text": [
      "\n"
     ]
    },
    {
     "name": "stderr",
     "output_type": "stream",
     "text": [
      "\u001b[32mProgress: 100%|█████████████████████████████████████████| Time: 0:01:10\u001b[39m\n",
      "\u001b[36m\u001b[1m[ \u001b[22m\u001b[39m\u001b[36m\u001b[1mInfo: \u001b[22m\u001b[39m2023-11-16T14:11:51.619\titeration: 107\tcurrent optimum: 2.3414630154111764\n"
     ]
    },
    {
     "name": "stdout",
     "output_type": "stream",
     "text": [
      "s1 = 4.20; s3 = 4.25; Δ1 = 1.20Γ; Δ3 = 1.45Γ\n",
      "Survival: 20 / 20\n",
      "goodness = 0.903\n"
     ]
    },
    {
     "name": "stderr",
     "output_type": "stream",
     "text": [
      "\u001b[32mProgress: 100%|█████████████████████████████████████████| Time: 0:01:14\u001b[39m\n"
     ]
    },
    {
     "name": "stdout",
     "output_type": "stream",
     "text": [
      "s1 = 4.58; s3 = 4.45; Δ1 = 2.65Γ; Δ3 = 2.21Γ\n",
      "Survival: 20 / 20\n",
      "goodness = 0.281\n"
     ]
    },
    {
     "name": "stderr",
     "output_type": "stream",
     "text": [
      "\u001b[36m\u001b[1m[ \u001b[22m\u001b[39m\u001b[36m\u001b[1mInfo: \u001b[22m\u001b[39m2023-11-16T14:13:06.297\titeration: 108\tcurrent optimum: 2.3414630154111764\n",
      "\u001b[32mProgress: 100%|█████████████████████████████████████████| Time: 0:01:09\u001b[39m\n",
      "\u001b[36m\u001b[1m[ \u001b[22m\u001b[39m\u001b[36m\u001b[1mInfo: \u001b[22m\u001b[39m2023-11-16T14:14:16.091\titeration: 109\tcurrent optimum: 2.3414630154111764\n"
     ]
    },
    {
     "name": "stdout",
     "output_type": "stream",
     "text": [
      "s1 = 2.46; s3 = 3.80; Δ1 = 0.56Γ; Δ3 = 1.04Γ\n",
      "Survival: 18 / 20\n",
      "goodness = 0.034\n"
     ]
    },
    {
     "name": "stderr",
     "output_type": "stream",
     "text": [
      "\u001b[32mProgress: 100%|█████████████████████████████████████████| Time: 0:01:05\u001b[39m\n"
     ]
    },
    {
     "name": "stdout",
     "output_type": "stream",
     "text": [
      "s1 = 3.27; s3 = 4.58; Δ1 = 0.72Γ; Δ3 = 0.87Γ\n",
      "Survival: 13 / 20\n",
      "goodness = 1.116\n"
     ]
    },
    {
     "name": "stderr",
     "output_type": "stream",
     "text": [
      "\u001b[36m\u001b[1m[ \u001b[22m\u001b[39m\u001b[36m\u001b[1mInfo: \u001b[22m\u001b[39m2023-11-16T14:15:21.343\titeration: 110\tcurrent optimum: 2.3414630154111764\n",
      "\u001b[32mProgress: 100%|█████████████████████████████████████████| Time: 0:00:54\u001b[39m\n"
     ]
    },
    {
     "name": "stdout",
     "output_type": "stream",
     "text": [
      "s1 = 1.19; s3 = 1.69; Δ1 = 1.08Γ; Δ3 = 2.71Γ\n",
      "Survival: 5 / 20\n",
      "goodness = 0.000\n"
     ]
    },
    {
     "name": "stderr",
     "output_type": "stream",
     "text": [
      "\u001b[36m\u001b[1m[ \u001b[22m\u001b[39m\u001b[36m\u001b[1mInfo: \u001b[22m\u001b[39m2023-11-16T14:16:15.661\titeration: 111\tcurrent optimum: 2.3414630154111764\n",
      "\u001b[32mProgress: 100%|█████████████████████████████████████████| Time: 0:00:59\u001b[39m\n",
      "\u001b[36m\u001b[1m[ \u001b[22m\u001b[39m\u001b[36m\u001b[1mInfo: \u001b[22m\u001b[39m2023-11-16T14:17:15.135\titeration: 112\tcurrent optimum: 2.3414630154111764\n"
     ]
    },
    {
     "name": "stdout",
     "output_type": "stream",
     "text": [
      "s1 = 1.53; s3 = 1.72; Δ1 = 0.93Γ; Δ3 = 0.68Γ\n",
      "Survival: 6 / 20\n",
      "goodness = 0.371\n"
     ]
    },
    {
     "name": "stderr",
     "output_type": "stream",
     "text": [
      "\u001b[32mProgress: 100%|█████████████████████████████████████████| Time: 0:01:05\u001b[39m\n"
     ]
    },
    {
     "name": "stdout",
     "output_type": "stream",
     "text": [
      "s1 = 2.73; s3 = 2.03; Δ1 = 1.04Γ; Δ3 = 1.44Γ\n",
      "Survival: 17 / 20\n",
      "goodness = 0.144"
     ]
    },
    {
     "name": "stderr",
     "output_type": "stream",
     "text": [
      "\u001b[36m\u001b[1m[ \u001b[22m\u001b[39m\u001b[36m\u001b[1mInfo: \u001b[22m\u001b[39m2023-11-16T14:18:20.875\titeration: 113\tcurrent optimum: 2.3414630154111764\n"
     ]
    },
    {
     "name": "stdout",
     "output_type": "stream",
     "text": [
      "\n"
     ]
    },
    {
     "name": "stderr",
     "output_type": "stream",
     "text": [
      "\u001b[32mProgress: 100%|█████████████████████████████████████████| Time: 0:01:10\u001b[39m\n"
     ]
    },
    {
     "name": "stdout",
     "output_type": "stream",
     "text": [
      "s1 = 3.27; s3 = 1.29; Δ1 = 1.72Γ; Δ3 = 1.39Γ\n",
      "Survival: 19 / 20\n",
      "goodness = 0.303\n"
     ]
    },
    {
     "name": "stderr",
     "output_type": "stream",
     "text": [
      "\u001b[36m\u001b[1m[ \u001b[22m\u001b[39m\u001b[36m\u001b[1mInfo: \u001b[22m\u001b[39m2023-11-16T14:19:31.467\titeration: 114\tcurrent optimum: 2.3414630154111764\n",
      "\u001b[32mProgress: 100%|█████████████████████████████████████████| Time: 0:01:11\u001b[39m\n"
     ]
    },
    {
     "name": "stdout",
     "output_type": "stream",
     "text": [
      "s1 = 2.53; s3 = 2.25; Δ1 = 2.85Γ; Δ3 = 2.89Γ\n",
      "Survival: 19 / 20\n",
      "goodness = 0.000\n"
     ]
    },
    {
     "name": "stderr",
     "output_type": "stream",
     "text": [
      "\u001b[36m\u001b[1m[ \u001b[22m\u001b[39m\u001b[36m\u001b[1mInfo: \u001b[22m\u001b[39m2023-11-16T14:20:43.187\titeration: 115\tcurrent optimum: 2.3414630154111764\n",
      "\u001b[32mProgress: 100%|█████████████████████████████████████████| Time: 0:00:51\u001b[39m\n",
      "\u001b[36m\u001b[1m[ \u001b[22m\u001b[39m\u001b[36m\u001b[1mInfo: \u001b[22m\u001b[39m2023-11-16T14:21:34.964\titeration: 116\tcurrent optimum: 2.3414630154111764\n"
     ]
    },
    {
     "name": "stdout",
     "output_type": "stream",
     "text": [
      "s1 = 4.24; s3 = 4.78; Δ1 = 0.65Γ; Δ3 = 1.92Γ\n",
      "Survival: 5 / 20\n",
      "goodness = 0.059\n"
     ]
    },
    {
     "name": "stderr",
     "output_type": "stream",
     "text": [
      "\u001b[32mProgress: 100%|█████████████████████████████████████████| Time: 0:01:03\u001b[39m\n"
     ]
    },
    {
     "name": "stdout",
     "output_type": "stream",
     "text": [
      "s1 = 2.38; s3 = 0.94; Δ1 = 1.96Γ; Δ3 = 0.82Γ\n",
      "Survival: 11 / 20\n",
      "goodness = 0.675"
     ]
    },
    {
     "name": "stderr",
     "output_type": "stream",
     "text": [
      "\u001b[36m\u001b[1m[ \u001b[22m\u001b[39m\u001b[36m\u001b[1mInfo: \u001b[22m\u001b[39m2023-11-16T14:22:38.796\titeration: 117\tcurrent optimum: 2.3414630154111764\n"
     ]
    },
    {
     "name": "stdout",
     "output_type": "stream",
     "text": [
      "\n"
     ]
    },
    {
     "name": "stderr",
     "output_type": "stream",
     "text": [
      "\u001b[32mProgress: 100%|█████████████████████████████████████████| Time: 0:01:18\u001b[39m\n"
     ]
    },
    {
     "name": "stdout",
     "output_type": "stream",
     "text": [
      "s1 = 4.87; s3 = 0.71; Δ1 = 2.98Γ; Δ3 = 1.35Γ\n",
      "Survival: 20 / 20\n",
      "goodness = 0.520\n"
     ]
    },
    {
     "name": "stderr",
     "output_type": "stream",
     "text": [
      "\u001b[36m\u001b[1m[ \u001b[22m\u001b[39m\u001b[36m\u001b[1mInfo: \u001b[22m\u001b[39m2023-11-16T14:23:57.556\titeration: 118\tcurrent optimum: 2.3414630154111764\n",
      "\u001b[32mProgress: 100%|█████████████████████████████████████████| Time: 0:00:57\u001b[39m\n",
      "\u001b[36m\u001b[1m[ \u001b[22m\u001b[39m\u001b[36m\u001b[1mInfo: \u001b[22m\u001b[39m2023-11-16T14:24:54.663\titeration: 119\tcurrent optimum: 2.3414630154111764\n"
     ]
    },
    {
     "name": "stdout",
     "output_type": "stream",
     "text": [
      "s1 = 2.63; s3 = 3.35; Δ1 = 0.59Γ; Δ3 = 0.55Γ\n",
      "Survival: 5 / 20\n",
      "goodness = 1.028\n"
     ]
    },
    {
     "name": "stderr",
     "output_type": "stream",
     "text": [
      "\u001b[32mProgress: 100%|█████████████████████████████████████████| Time: 0:01:09\u001b[39m\n"
     ]
    },
    {
     "name": "stdout",
     "output_type": "stream",
     "text": [
      "s1 = 4.06; s3 = 4.80; Δ1 = 0.66Γ; Δ3 = 2.55Γ\n",
      "Survival: 9 / 20\n",
      "goodness = 0.093\n"
     ]
    },
    {
     "name": "stderr",
     "output_type": "stream",
     "text": [
      "\u001b[36m\u001b[1m┌ \u001b[22m\u001b[39m\u001b[36m\u001b[1mInfo: \u001b[22m\u001b[39m ────────────────────────────────────────────────────────────────────────────────\n",
      "\u001b[36m\u001b[1m│ \u001b[22m\u001b[39m                                        Time                    Allocations      \n",
      "\u001b[36m\u001b[1m│ \u001b[22m\u001b[39m                               ───────────────────────   ────────────────────────\n",
      "\u001b[36m\u001b[1m│ \u001b[22m\u001b[39m       Tot / % measured:            2006s / 100.0%            342MiB /  99.8%    \n",
      "\u001b[36m\u001b[1m│ \u001b[22m\u001b[39m\n",
      "\u001b[36m\u001b[1m│ \u001b[22m\u001b[39m Section               ncalls     time    %tot     avg     alloc    %tot      avg\n",
      "\u001b[36m\u001b[1m│ \u001b[22m\u001b[39m ────────────────────────────────────────────────────────────────────────────────\n",
      "\u001b[36m\u001b[1m│ \u001b[22m\u001b[39m function evaluation       30    1994s   99.4%   66.5s    248MiB   72.6%  8.26MiB\n",
      "\u001b[36m\u001b[1m│ \u001b[22m\u001b[39m model hyperparamet...     30    11.9s    0.6%   395ms   84.9MiB   24.9%  2.83MiB\n",
      "\u001b[36m\u001b[1m│ \u001b[22m\u001b[39m acquisition               31   8.68ms    0.0%   280μs   8.17MiB    2.4%   270KiB\n",
      "\u001b[36m\u001b[1m│ \u001b[22m\u001b[39m model update              30   3.53ms    0.0%   118μs    316KiB    0.1%  10.5KiB\n",
      "\u001b[36m\u001b[1m└ \u001b[22m\u001b[39m ────────────────────────────────────────────────────────────────────────────────\n",
      "\u001b[36m\u001b[1m[ \u001b[22m\u001b[39m\u001b[36m\u001b[1mInfo: \u001b[22m\u001b[39m2023-11-16T14:26:04.696\titeration: 120\tcurrent optimum: 2.3414630154111764\n"
     ]
    },
    {
     "name": "stdout",
     "output_type": "stream",
     "text": [
      "===== Autosaved =====\n"
     ]
    },
    {
     "name": "stderr",
     "output_type": "stream",
     "text": [
      "\u001b[32mProgress: 100%|█████████████████████████████████████████| Time: 0:01:11\u001b[39m\n",
      "\u001b[36m\u001b[1m[ \u001b[22m\u001b[39m\u001b[36m\u001b[1mInfo: \u001b[22m\u001b[39m2023-11-16T14:27:16.069\titeration: 121\tcurrent optimum: 2.3414630154111764\n"
     ]
    },
    {
     "name": "stdout",
     "output_type": "stream",
     "text": [
      "s1 = 4.78; s3 = 4.90; Δ1 = 2.58Γ; Δ3 = 1.05Γ\n",
      "Survival: 16 / 20\n",
      "goodness = 0.423\n"
     ]
    },
    {
     "name": "stderr",
     "output_type": "stream",
     "text": [
      "\u001b[32mProgress: 100%|█████████████████████████████████████████| Time: 0:00:18\u001b[39m\n",
      "\u001b[36m\u001b[1m[ \u001b[22m\u001b[39m\u001b[36m\u001b[1mInfo: \u001b[22m\u001b[39m2023-11-16T14:27:34.753\titeration: 122\tcurrent optimum: 2.3414630154111764\n"
     ]
    },
    {
     "name": "stdout",
     "output_type": "stream",
     "text": [
      "s1 = 1.17; s3 = 1.07; Δ1 = 0.80Γ; Δ3 = 1.44Γ\n",
      "Survival: 0 / 20\n",
      "goodness = 0.000\n"
     ]
    },
    {
     "name": "stderr",
     "output_type": "stream",
     "text": [
      "\u001b[32mProgress: 100%|█████████████████████████████████████████| Time: 0:01:08\u001b[39m\n",
      "\u001b[36m\u001b[1m[ \u001b[22m\u001b[39m\u001b[36m\u001b[1mInfo: \u001b[22m\u001b[39m2023-11-16T14:28:43.009\titeration: 123\tcurrent optimum: 2.3414630154111764\n"
     ]
    },
    {
     "name": "stdout",
     "output_type": "stream",
     "text": [
      "s1 = 4.62; s3 = 1.69; Δ1 = 0.74Γ; Δ3 = 2.69Γ\n",
      "Survival: 6 / 20\n",
      "goodness = 0.000\n"
     ]
    },
    {
     "name": "stderr",
     "output_type": "stream",
     "text": [
      "\u001b[32mProgress: 100%|█████████████████████████████████████████| Time: 0:01:18\u001b[39m\n"
     ]
    },
    {
     "name": "stdout",
     "output_type": "stream",
     "text": [
      "s1 = 4.99; s3 = 1.13; Δ1 = 2.28Γ; Δ3 = 0.80Γ\n",
      "Survival: 20 / 20\n",
      "goodness = 0.246\n"
     ]
    },
    {
     "name": "stderr",
     "output_type": "stream",
     "text": [
      "\u001b[36m\u001b[1m[ \u001b[22m\u001b[39m\u001b[36m\u001b[1mInfo: \u001b[22m\u001b[39m2023-11-16T14:30:02.006\titeration: 124\tcurrent optimum: 2.3414630154111764\n",
      "\u001b[32mProgress: 100%|█████████████████████████████████████████| Time: 0:01:27\u001b[39m\n",
      "\u001b[36m\u001b[1m[ \u001b[22m\u001b[39m\u001b[36m\u001b[1mInfo: \u001b[22m\u001b[39m2023-11-16T14:31:29.331\titeration: 125\tcurrent optimum: 2.3414630154111764\n"
     ]
    },
    {
     "name": "stdout",
     "output_type": "stream",
     "text": [
      "s1 = 3.69; s3 = 3.55; Δ1 = 0.73Γ; Δ3 = 2.88Γ\n",
      "Survival: 9 / 20\n",
      "goodness = 0.000\n"
     ]
    },
    {
     "name": "stderr",
     "output_type": "stream",
     "text": [
      "\u001b[32mProgress: 100%|█████████████████████████████████████████| Time: 0:01:07\u001b[39m\n"
     ]
    },
    {
     "name": "stdout",
     "output_type": "stream",
     "text": [
      "s1 = 1.73; s3 = 2.56; Δ1 = 2.88Γ; Δ3 = 2.70Γ\n",
      "Survival: 18 / 20\n",
      "goodness = 0.258\n"
     ]
    },
    {
     "name": "stderr",
     "output_type": "stream",
     "text": [
      "\u001b[36m\u001b[1m[ \u001b[22m\u001b[39m\u001b[36m\u001b[1mInfo: \u001b[22m\u001b[39m2023-11-16T14:32:36.651\titeration: 126\tcurrent optimum: 2.3414630154111764\n",
      "\u001b[32mProgress: 100%|█████████████████████████████████████████| Time: 0:00:43\u001b[39m"
     ]
    },
    {
     "name": "stdout",
     "output_type": "stream",
     "text": [
      "s1 = 2.21; s3 = 0.64; Δ1 = 1.22Γ; Δ3 = 0.59Γ\n",
      "Survival: 5 / 20\n",
      "goodness = 0.367"
     ]
    },
    {
     "name": "stderr",
     "output_type": "stream",
     "text": [
      "\u001b[36m\u001b[1m[ \u001b[22m\u001b[39m\u001b[36m\u001b[1mInfo: \u001b[22m\u001b[39m2023-11-16T14:33:20.627\titeration: 127\tcurrent optimum: 2.3414630154111764\n"
     ]
    },
    {
     "name": "stdout",
     "output_type": "stream",
     "text": [
      "\n"
     ]
    },
    {
     "name": "stderr",
     "output_type": "stream",
     "text": [
      "\u001b[32mProgress: 100%|█████████████████████████████████████████| Time: 0:01:03\u001b[39m\n"
     ]
    },
    {
     "name": "stdout",
     "output_type": "stream",
     "text": [
      "s1 = 3.94; s3 = 2.51; Δ1 = 1.46Γ; Δ3 = 1.80Γ\n",
      "Survival: 19 / 20\n",
      "goodness = 0.286\n"
     ]
    },
    {
     "name": "stderr",
     "output_type": "stream",
     "text": [
      "\u001b[36m\u001b[1m[ \u001b[22m\u001b[39m\u001b[36m\u001b[1mInfo: \u001b[22m\u001b[39m2023-11-16T14:34:24.456\titeration: 128\tcurrent optimum: 2.3414630154111764\n",
      "\u001b[32mProgress: 100%|█████████████████████████████████████████| Time: 0:01:00\u001b[39m\n",
      "\u001b[36m\u001b[1m[ \u001b[22m\u001b[39m\u001b[36m\u001b[1mInfo: \u001b[22m\u001b[39m2023-11-16T14:35:24.955\titeration: 129\tcurrent optimum: 2.3414630154111764\n"
     ]
    },
    {
     "name": "stdout",
     "output_type": "stream",
     "text": [
      "s1 = 3.41; s3 = 2.29; Δ1 = 2.39Γ; Δ3 = 0.66Γ\n",
      "Survival: 9 / 20\n",
      "goodness = 0.134\n"
     ]
    },
    {
     "name": "stderr",
     "output_type": "stream",
     "text": [
      "\u001b[32mProgress: 100%|█████████████████████████████████████████| Time: 0:01:20\u001b[39m\n",
      "\u001b[36m\u001b[1m[ \u001b[22m\u001b[39m\u001b[36m\u001b[1mInfo: \u001b[22m\u001b[39m2023-11-16T14:36:45.126\titeration: 130\tcurrent optimum: 2.3414630154111764\n"
     ]
    },
    {
     "name": "stdout",
     "output_type": "stream",
     "text": [
      "s1 = 4.00; s3 = 0.65; Δ1 = 2.20Γ; Δ3 = 1.37Γ\n",
      "Survival: 20 / 20\n",
      "goodness = 0.000\n"
     ]
    },
    {
     "name": "stderr",
     "output_type": "stream",
     "text": [
      "\u001b[32mProgress: 100%|█████████████████████████████████████████| Time: 0:01:11\u001b[39m\n"
     ]
    },
    {
     "name": "stdout",
     "output_type": "stream",
     "text": [
      "s1 = 3.58; s3 = 4.18; Δ1 = 1.91Γ; Δ3 = 1.90Γ\n",
      "Survival: 13 / 20\n",
      "goodness = 0.559\n"
     ]
    },
    {
     "name": "stderr",
     "output_type": "stream",
     "text": [
      "\u001b[36m\u001b[1m[ \u001b[22m\u001b[39m\u001b[36m\u001b[1mInfo: \u001b[22m\u001b[39m2023-11-16T14:37:56.927\titeration: 131\tcurrent optimum: 2.3414630154111764\n",
      "\u001b[32mProgress: 100%|█████████████████████████████████████████| Time: 0:01:02\u001b[39m\n"
     ]
    },
    {
     "name": "stdout",
     "output_type": "stream",
     "text": [
      "s1 = 1.29; s3 = 1.55; Δ1 = 1.61Γ; Δ3 = 0.62Γ\n",
      "Survival: 2 / 20\n",
      "goodness = 0.000\n"
     ]
    },
    {
     "name": "stderr",
     "output_type": "stream",
     "text": [
      "\u001b[36m\u001b[1m[ \u001b[22m\u001b[39m\u001b[36m\u001b[1mInfo: \u001b[22m\u001b[39m2023-11-16T14:39:03.633\titeration: 132\tcurrent optimum: 2.3414630154111764\n",
      "\u001b[32mProgress: 100%|█████████████████████████████████████████| Time: 0:00:51\u001b[39m\n"
     ]
    },
    {
     "name": "stdout",
     "output_type": "stream",
     "text": [
      "s1 = 0.88; s3 = 4.31; Δ1 = 0.70Γ; Δ3 = 1.34Γ\n",
      "Survival: 1 / 20\n",
      "goodness = 0.000\n"
     ]
    },
    {
     "name": "stderr",
     "output_type": "stream",
     "text": [
      "\u001b[36m\u001b[1m[ \u001b[22m\u001b[39m\u001b[36m\u001b[1mInfo: \u001b[22m\u001b[39m2023-11-16T14:40:00.811\titeration: 133\tcurrent optimum: 2.3414630154111764\n",
      "\u001b[32mProgress: 100%|█████████████████████████████████████████| Time: 0:01:22\u001b[39m\n",
      "\u001b[36m\u001b[1m[ \u001b[22m\u001b[39m\u001b[36m\u001b[1mInfo: \u001b[22m\u001b[39m2023-11-16T14:41:23.428\titeration: 134\tcurrent optimum: 2.3414630154111764\n"
     ]
    },
    {
     "name": "stdout",
     "output_type": "stream",
     "text": [
      "s1 = 4.05; s3 = 1.75; Δ1 = 0.76Γ; Δ3 = 0.54Γ\n",
      "Survival: 10 / 20\n",
      "goodness = 1.637\n"
     ]
    },
    {
     "name": "stderr",
     "output_type": "stream",
     "text": [
      "\u001b[32mProgress: 100%|█████████████████████████████████████████| Time: 0:01:02\u001b[39m\n"
     ]
    },
    {
     "name": "stdout",
     "output_type": "stream",
     "text": [
      "s1 = 2.90; s3 = 4.88; Δ1 = 0.72Γ; Δ3 = 0.76Γ\n",
      "Survival: 13 / 20\n",
      "goodness = 1.718\n"
     ]
    },
    {
     "name": "stderr",
     "output_type": "stream",
     "text": [
      "\u001b[36m\u001b[1m[ \u001b[22m\u001b[39m\u001b[36m\u001b[1mInfo: \u001b[22m\u001b[39m2023-11-16T14:42:26.130\titeration: 135\tcurrent optimum: 2.3414630154111764\n",
      "\u001b[32mProgress: 100%|█████████████████████████████████████████| Time: 0:01:04\u001b[39m\n",
      "\u001b[36m\u001b[1m[ \u001b[22m\u001b[39m\u001b[36m\u001b[1mInfo: \u001b[22m\u001b[39m2023-11-16T14:43:30.816\titeration: 136\tcurrent optimum: 2.3414630154111764\n"
     ]
    },
    {
     "name": "stdout",
     "output_type": "stream",
     "text": [
      "s1 = 4.69; s3 = 1.74; Δ1 = 1.45Γ; Δ3 = 1.52Γ\n",
      "Survival: 15 / 20\n",
      "goodness = 0.165\n"
     ]
    },
    {
     "name": "stderr",
     "output_type": "stream",
     "text": [
      "\u001b[32mProgress: 100%|█████████████████████████████████████████| Time: 0:02:08\u001b[39m\n"
     ]
    },
    {
     "name": "stdout",
     "output_type": "stream",
     "text": [
      "s1 = 2.15; s3 = 3.26; Δ1 = 1.05Γ; Δ3 = 2.96Γ\n",
      "Survival: 14 / 20\n",
      "goodness = 0.302"
     ]
    },
    {
     "name": "stderr",
     "output_type": "stream",
     "text": [
      "\u001b[36m\u001b[1m[ \u001b[22m\u001b[39m\u001b[36m\u001b[1mInfo: \u001b[22m\u001b[39m2023-11-16T14:45:39.914\titeration: 137\tcurrent optimum: 2.3414630154111764\n"
     ]
    },
    {
     "name": "stdout",
     "output_type": "stream",
     "text": [
      "\n"
     ]
    },
    {
     "name": "stderr",
     "output_type": "stream",
     "text": [
      "\u001b[32mProgress: 100%|█████████████████████████████████████████| Time: 0:01:46\u001b[39m\n"
     ]
    },
    {
     "name": "stdout",
     "output_type": "stream",
     "text": [
      "s1 = 4.95; s3 = 4.07; Δ1 = 2.32Γ; Δ3 = 2.72Γ\n",
      "Survival: 20 / 20\n",
      "goodness = 0.180\n"
     ]
    },
    {
     "name": "stderr",
     "output_type": "stream",
     "text": [
      "\u001b[36m\u001b[1m[ \u001b[22m\u001b[39m\u001b[36m\u001b[1mInfo: \u001b[22m\u001b[39m2023-11-16T14:47:28.116\titeration: 138\tcurrent optimum: 2.3414630154111764\n",
      "\u001b[32mProgress: 100%|█████████████████████████████████████████| Time: 0:01:00\u001b[39m\n"
     ]
    },
    {
     "name": "stdout",
     "output_type": "stream",
     "text": [
      "s1 = 2.08; s3 = 4.24; Δ1 = 1.22Γ; Δ3 = 2.69Γ\n",
      "Survival: 6 / 20\n",
      "goodness = 0.000"
     ]
    },
    {
     "name": "stderr",
     "output_type": "stream",
     "text": [
      "\u001b[36m\u001b[1m[ \u001b[22m\u001b[39m\u001b[36m\u001b[1mInfo: \u001b[22m\u001b[39m2023-11-16T14:48:28.717\titeration: 139\tcurrent optimum: 2.3414630154111764\n"
     ]
    },
    {
     "name": "stdout",
     "output_type": "stream",
     "text": [
      "\n"
     ]
    },
    {
     "name": "stderr",
     "output_type": "stream",
     "text": [
      "\u001b[32mProgress: 100%|█████████████████████████████████████████| Time: 0:00:50\u001b[39m\n",
      "\u001b[36m\u001b[1m[ \u001b[22m\u001b[39m\u001b[36m\u001b[1mInfo: \u001b[22m\u001b[39m2023-11-16T14:49:19.085\titeration: 140\tcurrent optimum: 2.3414630154111764\n"
     ]
    },
    {
     "name": "stdout",
     "output_type": "stream",
     "text": [
      "s1 = 1.20; s3 = 4.42; Δ1 = 1.55Γ; Δ3 = 1.89Γ\n",
      "Survival: 13 / 20\n",
      "goodness = 0.051\n"
     ]
    },
    {
     "name": "stderr",
     "output_type": "stream",
     "text": [
      "\u001b[32mProgress: 100%|█████████████████████████████████████████| Time: 0:01:07\u001b[39m\n"
     ]
    },
    {
     "name": "stdout",
     "output_type": "stream",
     "text": [
      "s1 = 2.94; s3 = 4.99; Δ1 = 2.76Γ; Δ3 = 2.75Γ\n",
      "Survival: 15 / 20\n",
      "goodness = 0.000"
     ]
    },
    {
     "name": "stderr",
     "output_type": "stream",
     "text": [
      "\u001b[36m\u001b[1m[ \u001b[22m\u001b[39m\u001b[36m\u001b[1mInfo: \u001b[22m\u001b[39m2023-11-16T14:50:26.343\titeration: 141\tcurrent optimum: 2.3414630154111764\n"
     ]
    },
    {
     "name": "stdout",
     "output_type": "stream",
     "text": [
      "\n"
     ]
    },
    {
     "name": "stderr",
     "output_type": "stream",
     "text": [
      "\u001b[32mProgress: 100%|█████████████████████████████████████████| Time: 0:00:56\u001b[39m\n"
     ]
    },
    {
     "name": "stdout",
     "output_type": "stream",
     "text": [
      "s1 = 2.85; s3 = 3.75; Δ1 = 0.90Γ; Δ3 = 2.15Γ\n",
      "Survival: 6 / 20\n",
      "goodness = 0.116\n"
     ]
    },
    {
     "name": "stderr",
     "output_type": "stream",
     "text": [
      "\u001b[36m\u001b[1m[ \u001b[22m\u001b[39m\u001b[36m\u001b[1mInfo: \u001b[22m\u001b[39m2023-11-16T14:51:22.512\titeration: 142\tcurrent optimum: 2.3414630154111764\n",
      "\u001b[32mProgress: 100%|█████████████████████████████████████████| Time: 0:00:52\u001b[39m\n"
     ]
    },
    {
     "name": "stdout",
     "output_type": "stream",
     "text": [
      "s1 = 3.79; s3 = 1.21; Δ1 = 1.16Γ; Δ3 = 2.07Γ\n",
      "Survival: 2 / 20\n",
      "goodness = 0.199\n"
     ]
    },
    {
     "name": "stderr",
     "output_type": "stream",
     "text": [
      "\u001b[36m\u001b[1m[ \u001b[22m\u001b[39m\u001b[36m\u001b[1mInfo: \u001b[22m\u001b[39m2023-11-16T14:52:15.331\titeration: 143\tcurrent optimum: 2.3414630154111764\n",
      "\u001b[32mProgress: 100%|█████████████████████████████████████████| Time: 0:01:01\u001b[39m\n",
      "\u001b[36m\u001b[1m[ \u001b[22m\u001b[39m\u001b[36m\u001b[1mInfo: \u001b[22m\u001b[39m2023-11-16T14:53:16.974\titeration: 144\tcurrent optimum: 2.3414630154111764\n"
     ]
    },
    {
     "name": "stdout",
     "output_type": "stream",
     "text": [
      "s1 = 1.00; s3 = 3.87; Δ1 = 1.05Γ; Δ3 = 0.99Γ\n",
      "Survival: 3 / 20\n",
      "goodness = 1.037\n"
     ]
    },
    {
     "name": "stderr",
     "output_type": "stream",
     "text": [
      "\u001b[32mProgress: 100%|█████████████████████████████████████████| Time: 0:01:55\u001b[39m\n",
      "\u001b[36m\u001b[1m[ \u001b[22m\u001b[39m\u001b[36m\u001b[1mInfo: \u001b[22m\u001b[39m2023-11-16T14:55:12.488\titeration: 145\tcurrent optimum: 2.3414630154111764\n"
     ]
    },
    {
     "name": "stdout",
     "output_type": "stream",
     "text": [
      "s1 = 0.56; s3 = 1.02; Δ1 = 2.67Γ; Δ3 = 2.29Γ\n",
      "Survival: 14 / 20\n",
      "goodness = 0.334\n"
     ]
    },
    {
     "name": "stderr",
     "output_type": "stream",
     "text": [
      "\u001b[32mProgress: 100%|█████████████████████████████████████████| Time: 0:01:16\u001b[39m\n",
      "\u001b[36m\u001b[1m[ \u001b[22m\u001b[39m\u001b[36m\u001b[1mInfo: \u001b[22m\u001b[39m2023-11-16T14:56:29.257\titeration: 146\tcurrent optimum: 2.3414630154111764\n"
     ]
    },
    {
     "name": "stdout",
     "output_type": "stream",
     "text": [
      "s1 = 4.34; s3 = 0.83; Δ1 = 1.83Γ; Δ3 = 2.42Γ\n",
      "Survival: 9 / 20\n",
      "goodness = 1.014\n"
     ]
    },
    {
     "name": "stderr",
     "output_type": "stream",
     "text": [
      "\u001b[32mProgress: 100%|█████████████████████████████████████████| Time: 0:01:12\u001b[39m\n"
     ]
    },
    {
     "name": "stdout",
     "output_type": "stream",
     "text": [
      "s1 = 1.41; s3 = 0.57; Δ1 = 2.82Γ; Δ3 = 1.59Γ\n",
      "Survival: 16 / 20\n",
      "goodness = 0.000\n"
     ]
    },
    {
     "name": "stderr",
     "output_type": "stream",
     "text": [
      "\u001b[36m\u001b[1m[ \u001b[22m\u001b[39m\u001b[36m\u001b[1mInfo: \u001b[22m\u001b[39m2023-11-16T14:57:41.742\titeration: 147\tcurrent optimum: 2.3414630154111764\n",
      "\u001b[32mProgress: 100%|█████████████████████████████████████████| Time: 0:00:58\u001b[39m\n"
     ]
    },
    {
     "name": "stdout",
     "output_type": "stream",
     "text": [
      "s1 = 1.09; s3 = 3.25; Δ1 = 0.77Γ; Δ3 = 2.61Γ\n",
      "Survival: 3 / 20\n",
      "goodness = 0.124"
     ]
    },
    {
     "name": "stderr",
     "output_type": "stream",
     "text": [
      "\u001b[36m\u001b[1m[ \u001b[22m\u001b[39m\u001b[36m\u001b[1mInfo: \u001b[22m\u001b[39m2023-11-16T14:58:40.788\titeration: 148\tcurrent optimum: 2.3414630154111764\n"
     ]
    },
    {
     "name": "stdout",
     "output_type": "stream",
     "text": [
      "\n"
     ]
    },
    {
     "name": "stderr",
     "output_type": "stream",
     "text": [
      "\u001b[32mProgress: 100%|█████████████████████████████████████████| Time: 0:00:32\u001b[39m\n",
      "\u001b[36m\u001b[1m[ \u001b[22m\u001b[39m\u001b[36m\u001b[1mInfo: \u001b[22m\u001b[39m2023-11-16T14:59:13.494\titeration: 149\tcurrent optimum: 2.3414630154111764\n"
     ]
    },
    {
     "name": "stdout",
     "output_type": "stream",
     "text": [
      "s1 = 0.77; s3 = 3.59; Δ1 = 2.94Γ; Δ3 = 1.10Γ\n",
      "Survival: 0 / 20\n",
      "goodness = 0.000\n"
     ]
    },
    {
     "name": "stderr",
     "output_type": "stream",
     "text": [
      "\u001b[32mProgress: 100%|█████████████████████████████████████████| Time: 0:00:49\u001b[39m\n"
     ]
    },
    {
     "name": "stdout",
     "output_type": "stream",
     "text": [
      "s1 = 3.24; s3 = 3.49; Δ1 = 0.54Γ; Δ3 = 2.20Γ\n",
      "Survival: 3 / 20\n",
      "goodness = 0.000\n"
     ]
    },
    {
     "name": "stderr",
     "output_type": "stream",
     "text": [
      "\u001b[36m\u001b[1m┌ \u001b[22m\u001b[39m\u001b[36m\u001b[1mInfo: \u001b[22m\u001b[39m ────────────────────────────────────────────────────────────────────────────────\n",
      "\u001b[36m\u001b[1m│ \u001b[22m\u001b[39m                                        Time                    Allocations      \n",
      "\u001b[36m\u001b[1m│ \u001b[22m\u001b[39m                               ───────────────────────   ────────────────────────\n",
      "\u001b[36m\u001b[1m│ \u001b[22m\u001b[39m       Tot / % measured:            2038s / 100.0%            363MiB /  99.9%    \n",
      "\u001b[36m\u001b[1m│ \u001b[22m\u001b[39m\n",
      "\u001b[36m\u001b[1m│ \u001b[22m\u001b[39m Section               ncalls     time    %tot     avg     alloc    %tot      avg\n",
      "\u001b[36m\u001b[1m│ \u001b[22m\u001b[39m ────────────────────────────────────────────────────────────────────────────────\n",
      "\u001b[36m\u001b[1m│ \u001b[22m\u001b[39m function evaluation       30    2028s   99.5%   67.6s    244MiB   67.1%  8.12MiB\n",
      "\u001b[36m\u001b[1m│ \u001b[22m\u001b[39m model hyperparamet...     30    10.0s    0.5%   334ms    110MiB   30.3%  3.67MiB\n",
      "\u001b[36m\u001b[1m│ \u001b[22m\u001b[39m acquisition               31   10.4ms    0.0%   334μs   8.77MiB    2.4%   290KiB\n",
      "\u001b[36m\u001b[1m│ \u001b[22m\u001b[39m model update              30   8.28ms    0.0%   276μs    392KiB    0.1%  13.1KiB\n",
      "\u001b[36m\u001b[1m└ \u001b[22m\u001b[39m ────────────────────────────────────────────────────────────────────────────────\n",
      "\u001b[36m\u001b[1m[ \u001b[22m\u001b[39m\u001b[36m\u001b[1mInfo: \u001b[22m\u001b[39m2023-11-16T15:00:03.197\titeration: 150\tcurrent optimum: 2.3414630154111764\n"
     ]
    },
    {
     "name": "stdout",
     "output_type": "stream",
     "text": [
      "===== Autosaved =====\n"
     ]
    },
    {
     "name": "stderr",
     "output_type": "stream",
     "text": [
      "\u001b[32mProgress: 100%|█████████████████████████████████████████| Time: 0:00:39\u001b[39m\n"
     ]
    },
    {
     "name": "stdout",
     "output_type": "stream",
     "text": [
      "s1 = 1.29; s3 = 4.71; Δ1 = 2.89Γ; Δ3 = 1.72Γ\n",
      "Survival: 2 / 20\n",
      "goodness = 0.000\n"
     ]
    },
    {
     "name": "stderr",
     "output_type": "stream",
     "text": [
      "\u001b[36m\u001b[1m[ \u001b[22m\u001b[39m\u001b[36m\u001b[1mInfo: \u001b[22m\u001b[39m2023-11-16T15:00:43.301\titeration: 151\tcurrent optimum: 2.3414630154111764\n",
      "\u001b[32mProgress: 100%|█████████████████████████████████████████| Time: 0:00:43\u001b[39m\n",
      "\u001b[36m\u001b[1m[ \u001b[22m\u001b[39m\u001b[36m\u001b[1mInfo: \u001b[22m\u001b[39m2023-11-16T15:01:26.378\titeration: 152\tcurrent optimum: 2.3414630154111764\n"
     ]
    },
    {
     "name": "stdout",
     "output_type": "stream",
     "text": [
      "s1 = 0.70; s3 = 4.79; Δ1 = 2.05Γ; Δ3 = 2.20Γ\n",
      "Survival: 2 / 20\n",
      "goodness = 0.000\n"
     ]
    },
    {
     "name": "stderr",
     "output_type": "stream",
     "text": [
      "\u001b[32mProgress: 100%|█████████████████████████████████████████| Time: 0:02:43\u001b[39m\n"
     ]
    },
    {
     "name": "stdout",
     "output_type": "stream",
     "text": [
      "s1 = 4.11; s3 = 2.16; Δ1 = 1.26Γ; Δ3 = 0.98Γ\n",
      "Survival: 10 / 20\n",
      "goodness = 0.501\n"
     ]
    },
    {
     "name": "stderr",
     "output_type": "stream",
     "text": [
      "\u001b[36m\u001b[1m[ \u001b[22m\u001b[39m\u001b[36m\u001b[1mInfo: \u001b[22m\u001b[39m2023-11-16T15:04:16.461\titeration: 153\tcurrent optimum: 2.3414630154111764\n",
      "\u001b[32mProgress: 100%|█████████████████████████████████████████| Time: 0:01:43\u001b[39m\n"
     ]
    },
    {
     "name": "stdout",
     "output_type": "stream",
     "text": [
      "s1 = 4.17; s3 = 1.66; Δ1 = 1.58Γ; Δ3 = 0.57Γ\n",
      "Survival: 11 / 20\n",
      "goodness = 0.162\n"
     ]
    },
    {
     "name": "stderr",
     "output_type": "stream",
     "text": [
      "\u001b[36m\u001b[1m[ \u001b[22m\u001b[39m\u001b[36m\u001b[1mInfo: \u001b[22m\u001b[39m2023-11-16T15:06:03.421\titeration: 154\tcurrent optimum: 2.3414630154111764\n",
      "\u001b[32mProgress: 100%|█████████████████████████████████████████| Time: 0:01:14\u001b[39m\n",
      "\u001b[36m\u001b[1m[ \u001b[22m\u001b[39m\u001b[36m\u001b[1mInfo: \u001b[22m\u001b[39m2023-11-16T15:07:18.516\titeration: 155\tcurrent optimum: 2.3414630154111764\n"
     ]
    },
    {
     "name": "stdout",
     "output_type": "stream",
     "text": [
      "s1 = 0.93; s3 = 0.61; Δ1 = 1.62Γ; Δ3 = 1.10Γ\n",
      "Survival: 7 / 20\n",
      "goodness = 0.000\n"
     ]
    },
    {
     "name": "stderr",
     "output_type": "stream",
     "text": [
      "\u001b[32mProgress: 100%|█████████████████████████████████████████| Time: 0:01:17\u001b[39m\n"
     ]
    },
    {
     "name": "stdout",
     "output_type": "stream",
     "text": [
      "s1 = 2.69; s3 = 3.90; Δ1 = 0.58Γ; Δ3 = 1.95Γ\n",
      "Survival: 0 / 20\n",
      "goodness = 0.000\n"
     ]
    },
    {
     "name": "stderr",
     "output_type": "stream",
     "text": [
      "\u001b[36m\u001b[1m[ \u001b[22m\u001b[39m\u001b[36m\u001b[1mInfo: \u001b[22m\u001b[39m2023-11-16T15:08:36.058\titeration: 156\tcurrent optimum: 2.3414630154111764\n",
      "\u001b[32mProgress: 100%|█████████████████████████████████████████| Time: 0:01:19\u001b[39m\n"
     ]
    },
    {
     "name": "stdout",
     "output_type": "stream",
     "text": [
      "s1 = 3.66; s3 = 4.68; Δ1 = 0.56Γ; Δ3 = 2.61Γ\n",
      "Survival: 14 / 20\n",
      "goodness = 0.361"
     ]
    },
    {
     "name": "stderr",
     "output_type": "stream",
     "text": [
      "\u001b[36m\u001b[1m[ \u001b[22m\u001b[39m\u001b[36m\u001b[1mInfo: \u001b[22m\u001b[39m2023-11-16T15:09:55.478\titeration: 157\tcurrent optimum: 2.3414630154111764\n"
     ]
    },
    {
     "name": "stdout",
     "output_type": "stream",
     "text": [
      "\n"
     ]
    },
    {
     "name": "stderr",
     "output_type": "stream",
     "text": [
      "\u001b[32mProgress: 100%|█████████████████████████████████████████| Time: 0:00:57\u001b[39m\n"
     ]
    },
    {
     "name": "stdout",
     "output_type": "stream",
     "text": [
      "s1 = 2.10; s3 = 1.69; Δ1 = 1.09Γ; Δ3 = 1.18Γ\n",
      "Survival: 6 / 20\n",
      "goodness = 0.388\n"
     ]
    },
    {
     "name": "stderr",
     "output_type": "stream",
     "text": [
      "\u001b[36m\u001b[1m[ \u001b[22m\u001b[39m\u001b[36m\u001b[1mInfo: \u001b[22m\u001b[39m2023-11-16T15:10:52.879\titeration: 158\tcurrent optimum: 2.3414630154111764\n",
      "\u001b[32mProgress: 100%|█████████████████████████████████████████| Time: 0:01:12\u001b[39m\n"
     ]
    },
    {
     "name": "stdout",
     "output_type": "stream",
     "text": [
      "s1 = 4.42; s3 = 1.50; Δ1 = 2.38Γ; Δ3 = 0.53Γ\n",
      "Survival: 16 / 20\n",
      "goodness = 0.000\n"
     ]
    },
    {
     "name": "stderr",
     "output_type": "stream",
     "text": [
      "\u001b[36m\u001b[1m[ \u001b[22m\u001b[39m\u001b[36m\u001b[1mInfo: \u001b[22m\u001b[39m2023-11-16T15:12:05.250\titeration: 159\tcurrent optimum: 2.3414630154111764\n",
      "\u001b[32mProgress: 100%|█████████████████████████████████████████| Time: 0:01:25\u001b[39m\n",
      "\u001b[36m\u001b[1m[ \u001b[22m\u001b[39m\u001b[36m\u001b[1mInfo: \u001b[22m\u001b[39m2023-11-16T15:13:30.361\titeration: 160\tcurrent optimum: 2.3414630154111764\n"
     ]
    },
    {
     "name": "stdout",
     "output_type": "stream",
     "text": [
      "s1 = 3.24; s3 = 0.83; Δ1 = 2.85Γ; Δ3 = 2.89Γ\n",
      "Survival: 13 / 20\n",
      "goodness = 0.961\n"
     ]
    },
    {
     "name": "stderr",
     "output_type": "stream",
     "text": [
      "\u001b[32mProgress: 100%|█████████████████████████████████████████| Time: 0:01:40\u001b[39m\n"
     ]
    },
    {
     "name": "stdout",
     "output_type": "stream",
     "text": [
      "s1 = 4.13; s3 = 3.54; Δ1 = 2.17Γ; Δ3 = 2.99Γ\n",
      "Survival: 12 / 20\n",
      "goodness = 1.172"
     ]
    },
    {
     "name": "stderr",
     "output_type": "stream",
     "text": [
      "\u001b[36m\u001b[1m[ \u001b[22m\u001b[39m\u001b[36m\u001b[1mInfo: \u001b[22m\u001b[39m2023-11-16T15:15:12.490\titeration: 161\tcurrent optimum: 2.3414630154111764\n"
     ]
    },
    {
     "name": "stdout",
     "output_type": "stream",
     "text": [
      "\n"
     ]
    },
    {
     "name": "stderr",
     "output_type": "stream",
     "text": [
      "\u001b[32mProgress: 100%|█████████████████████████████████████████| Time: 0:01:51\u001b[39m\n"
     ]
    },
    {
     "name": "stdout",
     "output_type": "stream",
     "text": [
      "s1 = 3.12; s3 = 1.15; Δ1 = 1.32Γ; Δ3 = 0.80Γ\n",
      "Survival: 10 / 20\n",
      "goodness = 0.431\n"
     ]
    },
    {
     "name": "stderr",
     "output_type": "stream",
     "text": [
      "\u001b[36m\u001b[1m[ \u001b[22m\u001b[39m\u001b[36m\u001b[1mInfo: \u001b[22m\u001b[39m2023-11-16T15:17:07.371\titeration: 162\tcurrent optimum: 2.3414630154111764\n",
      "\u001b[32mProgress: 100%|█████████████████████████████████████████| Time: 0:01:25\u001b[39m\n"
     ]
    },
    {
     "name": "stdout",
     "output_type": "stream",
     "text": [
      "s1 = 1.59; s3 = 4.83; Δ1 = 1.90Γ; Δ3 = 1.80Γ\n",
      "Survival: 3 / 20\n",
      "goodness = 0.141"
     ]
    },
    {
     "name": "stderr",
     "output_type": "stream",
     "text": [
      "\u001b[36m\u001b[1m[ \u001b[22m\u001b[39m\u001b[36m\u001b[1mInfo: \u001b[22m\u001b[39m2023-11-16T15:18:36.223\titeration: 163\tcurrent optimum: 2.3414630154111764\n"
     ]
    },
    {
     "name": "stdout",
     "output_type": "stream",
     "text": [
      "\n"
     ]
    },
    {
     "name": "stderr",
     "output_type": "stream",
     "text": [
      "\u001b[32mProgress: 100%|█████████████████████████████████████████| Time: 0:01:11\u001b[39m\n",
      "\u001b[36m\u001b[1m[ \u001b[22m\u001b[39m\u001b[36m\u001b[1mInfo: \u001b[22m\u001b[39m2023-11-16T15:19:47.881\titeration: 164\tcurrent optimum: 2.3414630154111764\n"
     ]
    },
    {
     "name": "stdout",
     "output_type": "stream",
     "text": [
      "s1 = 3.87; s3 = 2.46; Δ1 = 2.59Γ; Δ3 = 2.37Γ\n",
      "Survival: 20 / 20\n",
      "goodness = 0.924\n"
     ]
    },
    {
     "name": "stderr",
     "output_type": "stream",
     "text": [
      "\u001b[32mProgress: 100%|█████████████████████████████████████████| Time: 0:01:27\u001b[39m\n"
     ]
    },
    {
     "name": "stdout",
     "output_type": "stream",
     "text": [
      "s1 = 2.98; s3 = 0.59; Δ1 = 2.80Γ; Δ3 = 1.98Γ\n",
      "Survival: 20 / 20\n",
      "goodness = 2.119\n"
     ]
    },
    {
     "name": "stderr",
     "output_type": "stream",
     "text": [
      "\u001b[36m\u001b[1m[ \u001b[22m\u001b[39m\u001b[36m\u001b[1mInfo: \u001b[22m\u001b[39m2023-11-16T15:21:15.556\titeration: 165\tcurrent optimum: 2.3414630154111764\n",
      "\u001b[32mProgress: 100%|█████████████████████████████████████████| Time: 0:01:06\u001b[39m\n"
     ]
    },
    {
     "name": "stdout",
     "output_type": "stream",
     "text": [
      "s1 = 2.27; s3 = 1.59; Δ1 = 2.16Γ; Δ3 = 1.52Γ\n",
      "Survival: 20 / 20\n",
      "goodness = 0.919\n"
     ]
    },
    {
     "name": "stderr",
     "output_type": "stream",
     "text": [
      "\u001b[36m\u001b[1m[ \u001b[22m\u001b[39m\u001b[36m\u001b[1mInfo: \u001b[22m\u001b[39m2023-11-16T15:22:21.931\titeration: 166\tcurrent optimum: 2.3414630154111764\n",
      "\u001b[32mProgress: 100%|█████████████████████████████████████████| Time: 0:01:07\u001b[39m\n"
     ]
    },
    {
     "name": "stdout",
     "output_type": "stream",
     "text": [
      "s1 = 2.59; s3 = 4.73; Δ1 = 0.86Γ; Δ3 = 1.55Γ\n",
      "Survival: 13 / 20\n",
      "goodness = 0.102\n"
     ]
    },
    {
     "name": "stderr",
     "output_type": "stream",
     "text": [
      "\u001b[36m\u001b[1m[ \u001b[22m\u001b[39m\u001b[36m\u001b[1mInfo: \u001b[22m\u001b[39m2023-11-16T15:23:29.821\titeration: 167\tcurrent optimum: 2.3414630154111764\n",
      "\u001b[32mProgress: 100%|█████████████████████████████████████████| Time: 0:00:56\u001b[39m\n"
     ]
    },
    {
     "name": "stdout",
     "output_type": "stream",
     "text": [
      "s1 = 3.05; s3 = 0.95; Δ1 = 1.28Γ; Δ3 = 2.46Γ\n",
      "Survival: 3 / 20\n",
      "goodness = 0.199\n"
     ]
    },
    {
     "name": "stderr",
     "output_type": "stream",
     "text": [
      "\u001b[36m\u001b[1m[ \u001b[22m\u001b[39m\u001b[36m\u001b[1mInfo: \u001b[22m\u001b[39m2023-11-16T15:24:26.341\titeration: 168\tcurrent optimum: 2.3414630154111764\n",
      "\u001b[32mProgress: 100%|█████████████████████████████████████████| Time: 0:01:18\u001b[39m\n"
     ]
    },
    {
     "name": "stdout",
     "output_type": "stream",
     "text": [
      "s1 = 3.31; s3 = 1.31; Δ1 = 2.44Γ; Δ3 = 2.63Γ\n",
      "Survival: 18 / 20\n",
      "goodness = 0.687\n"
     ]
    },
    {
     "name": "stderr",
     "output_type": "stream",
     "text": [
      "\u001b[36m\u001b[1m[ \u001b[22m\u001b[39m\u001b[36m\u001b[1mInfo: \u001b[22m\u001b[39m2023-11-16T15:25:45.409\titeration: 169\tcurrent optimum: 2.3414630154111764\n",
      "\u001b[32mProgress: 100%|█████████████████████████████████████████| Time: 0:01:14\u001b[39m\n"
     ]
    },
    {
     "name": "stdout",
     "output_type": "stream",
     "text": [
      "s1 = 3.49; s3 = 2.38; Δ1 = 2.01Γ; Δ3 = 2.20Γ\n",
      "Survival: 19 / 20\n",
      "goodness = 0.877\n"
     ]
    },
    {
     "name": "stderr",
     "output_type": "stream",
     "text": [
      "\u001b[36m\u001b[1m[ \u001b[22m\u001b[39m\u001b[36m\u001b[1mInfo: \u001b[22m\u001b[39m2023-11-16T15:27:04.857\titeration: 170\tcurrent optimum: 2.3414630154111764\n",
      "\u001b[32mProgress: 100%|█████████████████████████████████████████| Time: 0:00:58\u001b[39m\n",
      "\u001b[36m\u001b[1m[ \u001b[22m\u001b[39m\u001b[36m\u001b[1mInfo: \u001b[22m\u001b[39m2023-11-16T15:28:03.057\titeration: 171\tcurrent optimum: 2.3414630154111764\n"
     ]
    }
   ],
   "source": [
    "using Serialization\n",
    "working_dir = \"C:\\\\Users\\\\halla\\\\OneDrive\\\\Desktop\\\\blueMOT_sim\\\\Bayesian\"\n",
    "# opt = deserialize(joinpath(working_dir, \"opt_constrained_red_freq.jl\"))\n",
    "    \n",
    "while true\n",
    "    maxiterations!(opt, 30)\n",
    "    result = boptimize!(opt)\n",
    "    serialize(joinpath(working_dir, \"opt_2freq_4param_flip_pol.jl\"), opt)\n",
    "    println(\"===== Autosaved =====\")\n",
    "    \n",
    "end"
   ]
  },
  {
   "cell_type": "code",
   "execution_count": null,
   "id": "0234bfab",
   "metadata": {},
   "outputs": [],
   "source": []
  },
  {
   "cell_type": "code",
   "execution_count": null,
   "id": "5ff3f99f",
   "metadata": {},
   "outputs": [],
   "source": []
  },
  {
   "cell_type": "code",
   "execution_count": null,
   "id": "df9eb643",
   "metadata": {},
   "outputs": [],
   "source": []
  },
  {
   "cell_type": "code",
   "execution_count": null,
   "id": "1c7b0002",
   "metadata": {},
   "outputs": [],
   "source": []
  },
  {
   "cell_type": "code",
   "execution_count": null,
   "id": "2f35f722",
   "metadata": {},
   "outputs": [],
   "source": []
  },
  {
   "cell_type": "code",
   "execution_count": null,
   "id": "8442e768-e5ee-4575-b0e4-958f3f497b58",
   "metadata": {},
   "outputs": [],
   "source": []
  },
  {
   "cell_type": "code",
   "execution_count": null,
   "id": "00494baf",
   "metadata": {},
   "outputs": [],
   "source": []
  },
  {
   "cell_type": "code",
   "execution_count": null,
   "id": "80945aba",
   "metadata": {},
   "outputs": [],
   "source": []
  },
  {
   "cell_type": "code",
   "execution_count": null,
   "id": "a3d7c8b6",
   "metadata": {},
   "outputs": [],
   "source": []
  },
  {
   "cell_type": "code",
   "execution_count": null,
   "id": "89f098b1",
   "metadata": {},
   "outputs": [],
   "source": []
  },
  {
   "cell_type": "code",
   "execution_count": null,
   "id": "ba596761-8ca5-4808-8429-5fcb0c6705a0",
   "metadata": {},
   "outputs": [],
   "source": []
  },
  {
   "cell_type": "markdown",
   "id": "45695fd2-fcc6-40a3-92e8-b16dc8748252",
   "metadata": {},
   "source": [
    "## Scanning configurations"
   ]
  },
  {
   "cell_type": "code",
   "execution_count": null,
   "id": "2022eb1a-6bf4-4882-8f98-31c2a93d9bf2",
   "metadata": {},
   "outputs": [],
   "source": [
    "# fixed:\n",
    "t_end = 30e-3 #s\n",
    "n_values = 20\n",
    "ramp_time = 4e-3 #s\n",
    "B_gradient = 30 #G/cm\n",
    "\n",
    "temp = @with_unit 0.5 \"mK\"\n",
    "diameter = @with_unit 0.6 \"mm\"\n",
    "displacement = [0.0, 0.0, 0.0]\n",
    "kick = [0,0, 0.0, 0.0]\n",
    "\n",
    "# variable:\n",
    "pol1_x_list = [σ⁻]\n",
    "pol2_x_list = [σ⁺]\n",
    "pol3_x_list = [σ⁻]\n",
    "pol4_x_list = [σ⁺]\n",
    "\n",
    "s1_list = [1.5, 2.0, 2.5]\n",
    "s2_list = [0.0]\n",
    "s3_list = [0.05, 0.1]\n",
    "s4_list = [0.05, 0.1]\n",
    "\n",
    "Δ1_list = [2.0, 4.0, 6.0] .* Γ\n",
    "Δ2_list = [0.0]\n",
    "Δ3_list = [-0.5, -1.0, -1.5] .* Γ\n",
    "Δ4_list = [0.5, 1.0, 1.5] .* Γ\n",
    "\n",
    "lists = [pol1_x_list, pol2_x_list, pol3_x_list, pol4_x_list,\n",
    "        s1_list, s2_list, s3_list, s4_list,\n",
    "        Δ1_list, Δ2_list, Δ3_list, Δ4_list]\n",
    "\n",
    "n_scans = 1\n",
    "for l in lists\n",
    "   n_scans *= length(l) \n",
    "end\n",
    "\n",
    "comments = \"scan d3 +- 1MHz\";\n",
    "saving_dir = make_scan_folder(lists, working_dir, 1, comments);\n",
    "\n",
    "scan_counter = 0\n",
    "indicies = [\n",
    "    1,1,1,1, \n",
    "    1,1,1,1, \n",
    "    1,1,1,1\n",
    "];"
   ]
  },
  {
   "cell_type": "code",
   "execution_count": null,
   "id": "16f127fc-f238-44cb-96de-b52fcee583f3",
   "metadata": {},
   "outputs": [],
   "source": [
    "while scan_counter < n_scans\n",
    "    @printf(\"============= configuration %i / %i =============\", scan_counter+1, n_scans)\n",
    "    println()\n",
    "    \n",
    "    pol1_x = pol1_x_list[indicies[1]]\n",
    "    pol2_x = pol2_x_list[indicies[2]]\n",
    "    pol3_x = pol3_x_list[indicies[3]]\n",
    "    pol4_x = pol4_x_list[indicies[4]]\n",
    "    s1 = s1_list[indicies[5]]\n",
    "    s2 = s2_list[indicies[6]]\n",
    "    s3 = s3_list[indicies[7]]\n",
    "    s4 = s4_list[indicies[8]]\n",
    "    Δ1 = Δ1_list[indicies[9]]\n",
    "    Δ2 = Δ2_list[indicies[10]]\n",
    "    Δ3 = Δ3_list[indicies[11]]\n",
    "    Δ4 = Δ4_list[indicies[12]]\n",
    "    \n",
    "    params = MutableNamedTuple(t_end = t_end, n_values = n_values,\n",
    "                            pol1_x=pol1_x, pol2_x=pol2_x, pol3_x=pol3_x, pol4_x=pol4_x, \n",
    "                            s1=s1, s2=s2, s3=s3, s4=s4,\n",
    "                            Δ1=Δ1, Δ2=Δ2, Δ3=Δ3, Δ4=Δ4, \n",
    "                            B_gradient = B_gradient, \n",
    "                            temp=temp, diameter=diameter, \n",
    "                            displacement=displacement, kick=kick,\n",
    "                            ramp_time = ramp_time)\n",
    "\n",
    "    test_i = log_test_info(saving_dir,1,params)\n",
    "    \n",
    "    results = simulate_particles(package, params, params.n_values);\n",
    "\n",
    "    save_results(saving_dir, test_i, results)\n",
    "    \n",
    "    scan_counter += 1 \n",
    "    next_configuration!(lists, indicies)\n",
    "    \n",
    "end\n",
    ";"
   ]
  },
  {
   "cell_type": "code",
   "execution_count": null,
   "id": "0bd27fc5-9ad6-4246-8cb6-83e913bc3cc5",
   "metadata": {},
   "outputs": [],
   "source": []
  }
 ],
 "metadata": {
  "kernelspec": {
   "display_name": "Julia (20 threads) 1.9.2",
   "language": "julia",
   "name": "julia-_20-threads_-1.9"
  },
  "language_info": {
   "file_extension": ".jl",
   "mimetype": "application/julia",
   "name": "julia",
   "version": "1.9.2"
  }
 },
 "nbformat": 4,
 "nbformat_minor": 5
}
