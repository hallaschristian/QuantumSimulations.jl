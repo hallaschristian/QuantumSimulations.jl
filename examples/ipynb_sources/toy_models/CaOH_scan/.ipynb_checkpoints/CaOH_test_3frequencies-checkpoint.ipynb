{
 "cells": [
  {
   "cell_type": "code",
   "execution_count": 2,
   "id": "eb68f43c-512c-49e4-b9ae-e0ead28ff26c",
   "metadata": {},
   "outputs": [],
   "source": [
    "using Revise"
   ]
  },
  {
   "cell_type": "code",
   "execution_count": 3,
   "id": "95aa508f-186f-41d9-9dee-7045b9117fa1",
   "metadata": {},
   "outputs": [
    {
     "name": "stderr",
     "output_type": "stream",
     "text": [
      "\u001b[36m\u001b[1m[ \u001b[22m\u001b[39m\u001b[36m\u001b[1mInfo: \u001b[22m\u001b[39mPrecompiling QuantumStates [17f0441f-15e0-42ae-a101-302633ff8f0f]\n",
      "\u001b[33m\u001b[1m┌ \u001b[22m\u001b[39m\u001b[33m\u001b[1mWarning: \u001b[22m\u001b[39mModule PrecompileTools with build ID ffffffff-ffff-ffff-0000-002073cca126 is missing from the cache.\n",
      "\u001b[33m\u001b[1m│ \u001b[22m\u001b[39mThis may mean PrecompileTools [aea7be01-6a6a-4083-8856-8a6e6704d82a] does not support precompilation but is imported by a module that does.\n",
      "\u001b[33m\u001b[1m└ \u001b[22m\u001b[39m\u001b[90m@ Base loading.jl:1758\u001b[39m\n",
      "\u001b[33m\u001b[1m┌ \u001b[22m\u001b[39m\u001b[33m\u001b[1mWarning: \u001b[22m\u001b[39mModule PrecompileTools with build ID ffffffff-ffff-ffff-0000-002073cca126 is missing from the cache.\n",
      "\u001b[33m\u001b[1m│ \u001b[22m\u001b[39mThis may mean PrecompileTools [aea7be01-6a6a-4083-8856-8a6e6704d82a] does not support precompilation but is imported by a module that does.\n",
      "\u001b[33m\u001b[1m└ \u001b[22m\u001b[39m\u001b[90m@ Base loading.jl:1758\u001b[39m\n",
      "\u001b[33m\u001b[1m┌ \u001b[22m\u001b[39m\u001b[33m\u001b[1mWarning: \u001b[22m\u001b[39mModule PrecompileTools with build ID ffffffff-ffff-ffff-0000-002073cca126 is missing from the cache.\n",
      "\u001b[33m\u001b[1m│ \u001b[22m\u001b[39mThis may mean PrecompileTools [aea7be01-6a6a-4083-8856-8a6e6704d82a] does not support precompilation but is imported by a module that does.\n",
      "\u001b[33m\u001b[1m└ \u001b[22m\u001b[39m\u001b[90m@ Base loading.jl:1758\u001b[39m\n",
      "\u001b[33m\u001b[1m┌ \u001b[22m\u001b[39m\u001b[33m\u001b[1mWarning: \u001b[22m\u001b[39mModule PrecompileTools with build ID ffffffff-ffff-ffff-0000-002073cca126 is missing from the cache.\n",
      "\u001b[33m\u001b[1m│ \u001b[22m\u001b[39mThis may mean PrecompileTools [aea7be01-6a6a-4083-8856-8a6e6704d82a] does not support precompilation but is imported by a module that does.\n",
      "\u001b[33m\u001b[1m└ \u001b[22m\u001b[39m\u001b[90m@ Base loading.jl:1758\u001b[39m\n",
      "\u001b[33m\u001b[1m┌ \u001b[22m\u001b[39m\u001b[33m\u001b[1mWarning: \u001b[22m\u001b[39mModule PrecompileTools with build ID ffffffff-ffff-ffff-0000-002073cca126 is missing from the cache.\n",
      "\u001b[33m\u001b[1m│ \u001b[22m\u001b[39mThis may mean PrecompileTools [aea7be01-6a6a-4083-8856-8a6e6704d82a] does not support precompilation but is imported by a module that does.\n",
      "\u001b[33m\u001b[1m└ \u001b[22m\u001b[39m\u001b[90m@ Base loading.jl:1758\u001b[39m\n",
      "\u001b[33m\u001b[1m┌ \u001b[22m\u001b[39m\u001b[33m\u001b[1mWarning: \u001b[22m\u001b[39mModule PrecompileTools with build ID ffffffff-ffff-ffff-0000-002073cca126 is missing from the cache.\n",
      "\u001b[33m\u001b[1m│ \u001b[22m\u001b[39mThis may mean PrecompileTools [aea7be01-6a6a-4083-8856-8a6e6704d82a] does not support precompilation but is imported by a module that does.\n",
      "\u001b[33m\u001b[1m└ \u001b[22m\u001b[39m\u001b[90m@ Base loading.jl:1758\u001b[39m\n",
      "\u001b[33m\u001b[1m┌ \u001b[22m\u001b[39m\u001b[33m\u001b[1mWarning: \u001b[22m\u001b[39mModule PrecompileTools with build ID ffffffff-ffff-ffff-0000-002073cca126 is missing from the cache.\n",
      "\u001b[33m\u001b[1m│ \u001b[22m\u001b[39mThis may mean PrecompileTools [aea7be01-6a6a-4083-8856-8a6e6704d82a] does not support precompilation but is imported by a module that does.\n",
      "\u001b[33m\u001b[1m└ \u001b[22m\u001b[39m\u001b[90m@ Base loading.jl:1758\u001b[39m\n",
      "\u001b[33m\u001b[1m┌ \u001b[22m\u001b[39m\u001b[33m\u001b[1mWarning: \u001b[22m\u001b[39mModule PrecompileTools with build ID ffffffff-ffff-ffff-0000-002073cca126 is missing from the cache.\n",
      "\u001b[33m\u001b[1m│ \u001b[22m\u001b[39mThis may mean PrecompileTools [aea7be01-6a6a-4083-8856-8a6e6704d82a] does not support precompilation but is imported by a module that does.\n",
      "\u001b[33m\u001b[1m└ \u001b[22m\u001b[39m\u001b[90m@ Base loading.jl:1758\u001b[39m\n",
      "\u001b[36m\u001b[1m[ \u001b[22m\u001b[39m\u001b[36m\u001b[1mInfo: \u001b[22m\u001b[39mSkipping precompilation since __precompile__(false). Importing QuantumStates [17f0441f-15e0-42ae-a101-302633ff8f0f].\n",
      "\u001b[36m\u001b[1m[ \u001b[22m\u001b[39m\u001b[36m\u001b[1mInfo: \u001b[22m\u001b[39mPrecompiling DataFrames [a93c6f00-e57d-5684-b7b6-d8193f3e46c0]\n",
      "\u001b[33m\u001b[1m┌ \u001b[22m\u001b[39m\u001b[33m\u001b[1mWarning: \u001b[22m\u001b[39mModule PrecompileTools with build ID ffffffff-ffff-ffff-0000-002073cca126 is missing from the cache.\n",
      "\u001b[33m\u001b[1m│ \u001b[22m\u001b[39mThis may mean PrecompileTools [aea7be01-6a6a-4083-8856-8a6e6704d82a] does not support precompilation but is imported by a module that does.\n",
      "\u001b[33m\u001b[1m└ \u001b[22m\u001b[39m\u001b[90m@ Base loading.jl:1758\u001b[39m\n",
      "\u001b[33m\u001b[1m┌ \u001b[22m\u001b[39m\u001b[33m\u001b[1mWarning: \u001b[22m\u001b[39mModule PrecompileTools with build ID ffffffff-ffff-ffff-0000-002073cca126 is missing from the cache.\n",
      "\u001b[33m\u001b[1m│ \u001b[22m\u001b[39mThis may mean PrecompileTools [aea7be01-6a6a-4083-8856-8a6e6704d82a] does not support precompilation but is imported by a module that does.\n",
      "\u001b[33m\u001b[1m└ \u001b[22m\u001b[39m\u001b[90m@ Base loading.jl:1758\u001b[39m\n",
      "\u001b[33m\u001b[1m┌ \u001b[22m\u001b[39m\u001b[33m\u001b[1mWarning: \u001b[22m\u001b[39mModule PrecompileTools with build ID ffffffff-ffff-ffff-0000-002073cca126 is missing from the cache.\n",
      "\u001b[33m\u001b[1m│ \u001b[22m\u001b[39mThis may mean PrecompileTools [aea7be01-6a6a-4083-8856-8a6e6704d82a] does not support precompilation but is imported by a module that does.\n",
      "\u001b[33m\u001b[1m└ \u001b[22m\u001b[39m\u001b[90m@ Base loading.jl:1758\u001b[39m\n",
      "\u001b[33m\u001b[1m┌ \u001b[22m\u001b[39m\u001b[33m\u001b[1mWarning: \u001b[22m\u001b[39mModule PrecompileTools with build ID ffffffff-ffff-ffff-0000-002073cca126 is missing from the cache.\n",
      "\u001b[33m\u001b[1m│ \u001b[22m\u001b[39mThis may mean PrecompileTools [aea7be01-6a6a-4083-8856-8a6e6704d82a] does not support precompilation but is imported by a module that does.\n",
      "\u001b[33m\u001b[1m└ \u001b[22m\u001b[39m\u001b[90m@ Base loading.jl:1758\u001b[39m\n",
      "\u001b[36m\u001b[1m[ \u001b[22m\u001b[39m\u001b[36m\u001b[1mInfo: \u001b[22m\u001b[39mSkipping precompilation since __precompile__(false). Importing DataFrames [a93c6f00-e57d-5684-b7b6-d8193f3e46c0].\n",
      "\u001b[36m\u001b[1m[ \u001b[22m\u001b[39m\u001b[36m\u001b[1mInfo: \u001b[22m\u001b[39mPrecompiling PrettyTables [08abe8d2-0d0c-5749-adfa-8a2ac140af0d]\n",
      "\u001b[33m\u001b[1m┌ \u001b[22m\u001b[39m\u001b[33m\u001b[1mWarning: \u001b[22m\u001b[39mModule PrecompileTools with build ID ffffffff-ffff-ffff-0000-002073cca126 is missing from the cache.\n",
      "\u001b[33m\u001b[1m│ \u001b[22m\u001b[39mThis may mean PrecompileTools [aea7be01-6a6a-4083-8856-8a6e6704d82a] does not support precompilation but is imported by a module that does.\n",
      "\u001b[33m\u001b[1m└ \u001b[22m\u001b[39m\u001b[90m@ Base loading.jl:1758\u001b[39m\n",
      "\u001b[33m\u001b[1m┌ \u001b[22m\u001b[39m\u001b[33m\u001b[1mWarning: \u001b[22m\u001b[39mModule PrecompileTools with build ID ffffffff-ffff-ffff-0000-002073cca126 is missing from the cache.\n",
      "\u001b[33m\u001b[1m│ \u001b[22m\u001b[39mThis may mean PrecompileTools [aea7be01-6a6a-4083-8856-8a6e6704d82a] does not support precompilation but is imported by a module that does.\n",
      "\u001b[33m\u001b[1m└ \u001b[22m\u001b[39m\u001b[90m@ Base loading.jl:1758\u001b[39m\n",
      "\u001b[36m\u001b[1m[ \u001b[22m\u001b[39m\u001b[36m\u001b[1mInfo: \u001b[22m\u001b[39mSkipping precompilation since __precompile__(false). Importing PrettyTables [08abe8d2-0d0c-5749-adfa-8a2ac140af0d].\n",
      "\u001b[36m\u001b[1m[ \u001b[22m\u001b[39m\u001b[36m\u001b[1mInfo: \u001b[22m\u001b[39mPrecompiling StringManipulation [892a3eda-7b42-436c-8928-eab12a02cf0e]\n",
      "\u001b[33m\u001b[1m┌ \u001b[22m\u001b[39m\u001b[33m\u001b[1mWarning: \u001b[22m\u001b[39mModule PrecompileTools with build ID ffffffff-ffff-ffff-0000-002073cca126 is missing from the cache.\n",
      "\u001b[33m\u001b[1m│ \u001b[22m\u001b[39mThis may mean PrecompileTools [aea7be01-6a6a-4083-8856-8a6e6704d82a] does not support precompilation but is imported by a module that does.\n",
      "\u001b[33m\u001b[1m└ \u001b[22m\u001b[39m\u001b[90m@ Base loading.jl:1758\u001b[39m\n",
      "\u001b[36m\u001b[1m[ \u001b[22m\u001b[39m\u001b[36m\u001b[1mInfo: \u001b[22m\u001b[39mSkipping precompilation since __precompile__(false). Importing StringManipulation [892a3eda-7b42-436c-8928-eab12a02cf0e].\n",
      "\u001b[36m\u001b[1m[ \u001b[22m\u001b[39m\u001b[36m\u001b[1mInfo: \u001b[22m\u001b[39mPrecompiling InlineStrings [842dd82b-1e85-43dc-bf29-5d0ee9dffc48]\n",
      "\u001b[33m\u001b[1m┌ \u001b[22m\u001b[39m\u001b[33m\u001b[1mWarning: \u001b[22m\u001b[39mModule Parsers with build ID ffffffff-ffff-ffff-0000-002025a2d299 is missing from the cache.\n",
      "\u001b[33m\u001b[1m│ \u001b[22m\u001b[39mThis may mean Parsers [69de0a69-1ddd-5017-9359-2bf0b02dc9f0] does not support precompilation but is imported by a module that does.\n",
      "\u001b[33m\u001b[1m└ \u001b[22m\u001b[39m\u001b[90m@ Base loading.jl:1758\u001b[39m\n",
      "\u001b[36m\u001b[1m[ \u001b[22m\u001b[39m\u001b[36m\u001b[1mInfo: \u001b[22m\u001b[39mSkipping precompilation since __precompile__(false). Importing InlineStrings [842dd82b-1e85-43dc-bf29-5d0ee9dffc48].\n",
      "\u001b[36m\u001b[1m[ \u001b[22m\u001b[39m\u001b[36m\u001b[1mInfo: \u001b[22m\u001b[39mPrecompiling LoopVectorization [bdcacae8-1622-11e9-2a5c-532679323890]\n",
      "\u001b[33m\u001b[1m┌ \u001b[22m\u001b[39m\u001b[33m\u001b[1mWarning: \u001b[22m\u001b[39mModule SnoopPrecompile with build ID fafbfcfd-b3d7-4066-0000-01c5443b49d5 is missing from the cache.\n",
      "\u001b[33m\u001b[1m│ \u001b[22m\u001b[39mThis may mean SnoopPrecompile [66db9d55-30c0-4569-8b51-7e840670fc0c] does not support precompilation but is imported by a module that does.\n",
      "\u001b[33m\u001b[1m└ \u001b[22m\u001b[39m\u001b[90m@ Base loading.jl:1758\u001b[39m\n",
      "\u001b[33m\u001b[1m┌ \u001b[22m\u001b[39m\u001b[33m\u001b[1mWarning: \u001b[22m\u001b[39mModule SnoopPrecompile with build ID fafbfcfd-b3d7-4066-0000-01c5443b49d5 is missing from the cache.\n",
      "\u001b[33m\u001b[1m│ \u001b[22m\u001b[39mThis may mean SnoopPrecompile [66db9d55-30c0-4569-8b51-7e840670fc0c] does not support precompilation but is imported by a module that does.\n",
      "\u001b[33m\u001b[1m└ \u001b[22m\u001b[39m\u001b[90m@ Base loading.jl:1758\u001b[39m\n",
      "\u001b[36m\u001b[1m[ \u001b[22m\u001b[39m\u001b[36m\u001b[1mInfo: \u001b[22m\u001b[39mSkipping precompilation since __precompile__(false). Importing LoopVectorization [bdcacae8-1622-11e9-2a5c-532679323890].\n",
      "\u001b[36m\u001b[1m[ \u001b[22m\u001b[39m\u001b[36m\u001b[1mInfo: \u001b[22m\u001b[39mPrecompiling ArrayInterfaceCore [30b0a656-2188-435a-8636-2ec0e6a096e2]\n",
      "\u001b[33m\u001b[1m┌ \u001b[22m\u001b[39m\u001b[33m\u001b[1mWarning: \u001b[22m\u001b[39mModule SnoopPrecompile with build ID fafbfcfd-b3d7-4066-0000-01c5443b49d5 is missing from the cache.\n",
      "\u001b[33m\u001b[1m│ \u001b[22m\u001b[39mThis may mean SnoopPrecompile [66db9d55-30c0-4569-8b51-7e840670fc0c] does not support precompilation but is imported by a module that does.\n",
      "\u001b[33m\u001b[1m└ \u001b[22m\u001b[39m\u001b[90m@ Base loading.jl:1758\u001b[39m\n",
      "\u001b[36m\u001b[1m[ \u001b[22m\u001b[39m\u001b[36m\u001b[1mInfo: \u001b[22m\u001b[39mSkipping precompilation since __precompile__(false). Importing ArrayInterfaceCore [30b0a656-2188-435a-8636-2ec0e6a096e2].\n",
      "\u001b[36m\u001b[1m[ \u001b[22m\u001b[39m\u001b[36m\u001b[1mInfo: \u001b[22m\u001b[39mPrecompiling VectorizationBase [3d5dd08c-fd9d-11e8-17fa-ed2836048c2f]\n",
      "\u001b[33m\u001b[1m┌ \u001b[22m\u001b[39m\u001b[33m\u001b[1mWarning: \u001b[22m\u001b[39mModule PrecompileTools with build ID ffffffff-ffff-ffff-0000-002073cca126 is missing from the cache.\n",
      "\u001b[33m\u001b[1m│ \u001b[22m\u001b[39mThis may mean PrecompileTools [aea7be01-6a6a-4083-8856-8a6e6704d82a] does not support precompilation but is imported by a module that does.\n",
      "\u001b[33m\u001b[1m└ \u001b[22m\u001b[39m\u001b[90m@ Base loading.jl:1758\u001b[39m\n",
      "\u001b[33m\u001b[1m┌ \u001b[22m\u001b[39m\u001b[33m\u001b[1mWarning: \u001b[22m\u001b[39mModule PrecompileTools with build ID ffffffff-ffff-ffff-0000-002073cca126 is missing from the cache.\n",
      "\u001b[33m\u001b[1m│ \u001b[22m\u001b[39mThis may mean PrecompileTools [aea7be01-6a6a-4083-8856-8a6e6704d82a] does not support precompilation but is imported by a module that does.\n",
      "\u001b[33m\u001b[1m└ \u001b[22m\u001b[39m\u001b[90m@ Base loading.jl:1758\u001b[39m\n",
      "\u001b[36m\u001b[1m[ \u001b[22m\u001b[39m\u001b[36m\u001b[1mInfo: \u001b[22m\u001b[39mSkipping precompilation since __precompile__(false). Importing VectorizationBase [3d5dd08c-fd9d-11e8-17fa-ed2836048c2f].\n",
      "\u001b[36m\u001b[1m[ \u001b[22m\u001b[39m\u001b[36m\u001b[1mInfo: \u001b[22m\u001b[39mPrecompiling StaticArrayInterface [0d7ed370-da01-4f52-bd93-41d350b8b718]\n",
      "\u001b[33m\u001b[1m┌ \u001b[22m\u001b[39m\u001b[33m\u001b[1mWarning: \u001b[22m\u001b[39mModule PrecompileTools with build ID ffffffff-ffff-ffff-0000-002073cca126 is missing from the cache.\n",
      "\u001b[33m\u001b[1m│ \u001b[22m\u001b[39mThis may mean PrecompileTools [aea7be01-6a6a-4083-8856-8a6e6704d82a] does not support precompilation but is imported by a module that does.\n",
      "\u001b[33m\u001b[1m└ \u001b[22m\u001b[39m\u001b[90m@ Base loading.jl:1758\u001b[39m\n",
      "\u001b[36m\u001b[1m[ \u001b[22m\u001b[39m\u001b[36m\u001b[1mInfo: \u001b[22m\u001b[39mSkipping precompilation since __precompile__(false). Importing StaticArrayInterface [0d7ed370-da01-4f52-bd93-41d350b8b718].\n",
      "\u001b[36m\u001b[1m[ \u001b[22m\u001b[39m\u001b[36m\u001b[1mInfo: \u001b[22m\u001b[39mPrecompiling StaticArrayInterfaceStaticArraysExt [06b0261c-7a9b-5753-9bdf-fd6840237b4a]\n",
      "\u001b[33m\u001b[1m┌ \u001b[22m\u001b[39m\u001b[33m\u001b[1mWarning: \u001b[22m\u001b[39mModule StaticArrayInterface with build ID ffffffff-ffff-ffff-0000-0296e73175a2 is missing from the cache.\n",
      "\u001b[33m\u001b[1m│ \u001b[22m\u001b[39mThis may mean StaticArrayInterface [0d7ed370-da01-4f52-bd93-41d350b8b718] does not support precompilation but is imported by a module that does.\n",
      "\u001b[33m\u001b[1m└ \u001b[22m\u001b[39m\u001b[90m@ Base loading.jl:1758\u001b[39m\n",
      "\u001b[36m\u001b[1m[ \u001b[22m\u001b[39m\u001b[36m\u001b[1mInfo: \u001b[22m\u001b[39mSkipping precompilation since __precompile__(false). Importing StaticArrayInterfaceStaticArraysExt [06b0261c-7a9b-5753-9bdf-fd6840237b4a].\n",
      "\u001b[36m\u001b[1m[ \u001b[22m\u001b[39m\u001b[36m\u001b[1mInfo: \u001b[22m\u001b[39mPrecompiling LayoutPointers [10f19ff3-798f-405d-979b-55457f8fc047]\n",
      "\u001b[33m\u001b[1m┌ \u001b[22m\u001b[39m\u001b[33m\u001b[1mWarning: \u001b[22m\u001b[39mModule StaticArrayInterface with build ID ffffffff-ffff-ffff-0000-0296e73175a2 is missing from the cache.\n",
      "\u001b[33m\u001b[1m│ \u001b[22m\u001b[39mThis may mean StaticArrayInterface [0d7ed370-da01-4f52-bd93-41d350b8b718] does not support precompilation but is imported by a module that does.\n",
      "\u001b[33m\u001b[1m└ \u001b[22m\u001b[39m\u001b[90m@ Base loading.jl:1758\u001b[39m\n",
      "\u001b[36m\u001b[1m[ \u001b[22m\u001b[39m\u001b[36m\u001b[1mInfo: \u001b[22m\u001b[39mSkipping precompilation since __precompile__(false). Importing LayoutPointers [10f19ff3-798f-405d-979b-55457f8fc047].\n",
      "\u001b[36m\u001b[1m[ \u001b[22m\u001b[39m\u001b[36m\u001b[1mInfo: \u001b[22m\u001b[39mPrecompiling SLEEFPirates [476501e8-09a2-5ece-8869-fb82de89a1fa]\n",
      "\u001b[33m\u001b[1m┌ \u001b[22m\u001b[39m\u001b[33m\u001b[1mWarning: \u001b[22m\u001b[39mModule VectorizationBase with build ID ffffffff-ffff-ffff-0000-0296af99d395 is missing from the cache.\n",
      "\u001b[33m\u001b[1m│ \u001b[22m\u001b[39mThis may mean VectorizationBase [3d5dd08c-fd9d-11e8-17fa-ed2836048c2f] does not support precompilation but is imported by a module that does.\n",
      "\u001b[33m\u001b[1m└ \u001b[22m\u001b[39m\u001b[90m@ Base loading.jl:1758\u001b[39m\n",
      "\u001b[36m\u001b[1m[ \u001b[22m\u001b[39m\u001b[36m\u001b[1mInfo: \u001b[22m\u001b[39mSkipping precompilation since __precompile__(false). Importing SLEEFPirates [476501e8-09a2-5ece-8869-fb82de89a1fa].\n",
      "\u001b[36m\u001b[1m[ \u001b[22m\u001b[39m\u001b[36m\u001b[1mInfo: \u001b[22m\u001b[39mPrecompiling StaticArrayInterfaceOffsetArraysExt [a8fab69c-de6f-5f74-aba3-bef19c2d033f]\n",
      "\u001b[33m\u001b[1m┌ \u001b[22m\u001b[39m\u001b[33m\u001b[1mWarning: \u001b[22m\u001b[39mModule StaticArrayInterface with build ID ffffffff-ffff-ffff-0000-0296e73175a2 is missing from the cache.\n",
      "\u001b[33m\u001b[1m│ \u001b[22m\u001b[39mThis may mean StaticArrayInterface [0d7ed370-da01-4f52-bd93-41d350b8b718] does not support precompilation but is imported by a module that does.\n",
      "\u001b[33m\u001b[1m└ \u001b[22m\u001b[39m\u001b[90m@ Base loading.jl:1758\u001b[39m\n",
      "\u001b[36m\u001b[1m[ \u001b[22m\u001b[39m\u001b[36m\u001b[1mInfo: \u001b[22m\u001b[39mSkipping precompilation since __precompile__(false). Importing StaticArrayInterfaceOffsetArraysExt [a8fab69c-de6f-5f74-aba3-bef19c2d033f].\n",
      "\u001b[36m\u001b[1m[ \u001b[22m\u001b[39m\u001b[36m\u001b[1mInfo: \u001b[22m\u001b[39mPrecompiling CloseOpenIntervals [fb6a15b2-703c-40df-9091-08a04967cfa9]\n",
      "\u001b[33m\u001b[1m┌ \u001b[22m\u001b[39m\u001b[33m\u001b[1mWarning: \u001b[22m\u001b[39mModule StaticArrayInterface with build ID ffffffff-ffff-ffff-0000-0296e73175a2 is missing from the cache.\n",
      "\u001b[33m\u001b[1m│ \u001b[22m\u001b[39mThis may mean StaticArrayInterface [0d7ed370-da01-4f52-bd93-41d350b8b718] does not support precompilation but is imported by a module that does.\n",
      "\u001b[33m\u001b[1m└ \u001b[22m\u001b[39m\u001b[90m@ Base loading.jl:1758\u001b[39m\n",
      "\u001b[36m\u001b[1m[ \u001b[22m\u001b[39m\u001b[36m\u001b[1mInfo: \u001b[22m\u001b[39mSkipping precompilation since __precompile__(false). Importing CloseOpenIntervals [fb6a15b2-703c-40df-9091-08a04967cfa9].\n",
      "\u001b[36m\u001b[1m[ \u001b[22m\u001b[39m\u001b[36m\u001b[1mInfo: \u001b[22m\u001b[39mPrecompiling Plots [91a5bcdd-55d7-5caf-9e0b-520d859cae80]\n",
      "\u001b[33m\u001b[1m┌ \u001b[22m\u001b[39m\u001b[33m\u001b[1mWarning: \u001b[22m\u001b[39mModule SnoopPrecompile with build ID fafbfcfd-b3d7-4066-0000-01c5443b49d5 is missing from the cache.\n",
      "\u001b[33m\u001b[1m│ \u001b[22m\u001b[39mThis may mean SnoopPrecompile [66db9d55-30c0-4569-8b51-7e840670fc0c] does not support precompilation but is imported by a module that does.\n",
      "\u001b[33m\u001b[1m└ \u001b[22m\u001b[39m\u001b[90m@ Base loading.jl:1758\u001b[39m\n",
      "\u001b[36m\u001b[1m[ \u001b[22m\u001b[39m\u001b[36m\u001b[1mInfo: \u001b[22m\u001b[39mSkipping precompilation since __precompile__(false). Importing Plots [91a5bcdd-55d7-5caf-9e0b-520d859cae80].\n",
      "\u001b[36m\u001b[1m[ \u001b[22m\u001b[39m\u001b[36m\u001b[1mInfo: \u001b[22m\u001b[39mPrecompiling RecipesBase [3cdcf5f2-1ef4-517c-9805-6587b60abb01]\n",
      "\u001b[33m\u001b[1m┌ \u001b[22m\u001b[39m\u001b[33m\u001b[1mWarning: \u001b[22m\u001b[39mModule PrecompileTools with build ID ffffffff-ffff-ffff-0000-002073cca126 is missing from the cache.\n",
      "\u001b[33m\u001b[1m│ \u001b[22m\u001b[39mThis may mean PrecompileTools [aea7be01-6a6a-4083-8856-8a6e6704d82a] does not support precompilation but is imported by a module that does.\n",
      "\u001b[33m\u001b[1m└ \u001b[22m\u001b[39m\u001b[90m@ Base loading.jl:1758\u001b[39m\n",
      "\u001b[36m\u001b[1m[ \u001b[22m\u001b[39m\u001b[36m\u001b[1mInfo: \u001b[22m\u001b[39mSkipping precompilation since __precompile__(false). Importing RecipesBase [3cdcf5f2-1ef4-517c-9805-6587b60abb01].\n",
      "\u001b[36m\u001b[1m[ \u001b[22m\u001b[39m\u001b[36m\u001b[1mInfo: \u001b[22m\u001b[39mPrecompiling MeasurementsRecipesBaseExt [8d1752d7-b156-5d0c-ba1f-2b6104fd6068]\n",
      "\u001b[33m\u001b[1m┌ \u001b[22m\u001b[39m\u001b[33m\u001b[1mWarning: \u001b[22m\u001b[39mModule RecipesBase with build ID ffffffff-ffff-ffff-0000-029c1909f030 is missing from the cache.\n",
      "\u001b[33m\u001b[1m│ \u001b[22m\u001b[39mThis may mean RecipesBase [3cdcf5f2-1ef4-517c-9805-6587b60abb01] does not support precompilation but is imported by a module that does.\n",
      "\u001b[33m\u001b[1m└ \u001b[22m\u001b[39m\u001b[90m@ Base loading.jl:1758\u001b[39m\n",
      "\u001b[36m\u001b[1m[ \u001b[22m\u001b[39m\u001b[36m\u001b[1mInfo: \u001b[22m\u001b[39mSkipping precompilation since __precompile__(false). Importing MeasurementsRecipesBaseExt [8d1752d7-b156-5d0c-ba1f-2b6104fd6068].\n",
      "\u001b[36m\u001b[1m[ \u001b[22m\u001b[39m\u001b[36m\u001b[1mInfo: \u001b[22m\u001b[39mPrecompiling PlotThemes [ccf2f8ad-2431-5c83-bf29-c5338b663b6a]\n",
      "\u001b[33m\u001b[1m┌ \u001b[22m\u001b[39m\u001b[33m\u001b[1mWarning: \u001b[22m\u001b[39mModule PrecompileTools with build ID ffffffff-ffff-ffff-0000-002073cca126 is missing from the cache.\n",
      "\u001b[33m\u001b[1m│ \u001b[22m\u001b[39mThis may mean PrecompileTools [aea7be01-6a6a-4083-8856-8a6e6704d82a] does not support precompilation but is imported by a module that does.\n",
      "\u001b[33m\u001b[1m└ \u001b[22m\u001b[39m\u001b[90m@ Base loading.jl:1758\u001b[39m\n",
      "\u001b[33m\u001b[1m┌ \u001b[22m\u001b[39m\u001b[33m\u001b[1mWarning: \u001b[22m\u001b[39mModule PrecompileTools with build ID ffffffff-ffff-ffff-0000-002073cca126 is missing from the cache.\n",
      "\u001b[33m\u001b[1m│ \u001b[22m\u001b[39mThis may mean PrecompileTools [aea7be01-6a6a-4083-8856-8a6e6704d82a] does not support precompilation but is imported by a module that does.\n",
      "\u001b[33m\u001b[1m└ \u001b[22m\u001b[39m\u001b[90m@ Base loading.jl:1758\u001b[39m\n",
      "\u001b[36m\u001b[1m[ \u001b[22m\u001b[39m\u001b[36m\u001b[1mInfo: \u001b[22m\u001b[39mSkipping precompilation since __precompile__(false). Importing PlotThemes [ccf2f8ad-2431-5c83-bf29-c5338b663b6a].\n",
      "\u001b[36m\u001b[1m[ \u001b[22m\u001b[39m\u001b[36m\u001b[1mInfo: \u001b[22m\u001b[39mPrecompiling PlotUtils [995b91a9-d308-5afd-9ec6-746e21dbc043]\n",
      "\u001b[33m\u001b[1m┌ \u001b[22m\u001b[39m\u001b[33m\u001b[1mWarning: \u001b[22m\u001b[39mModule PrecompileTools with build ID ffffffff-ffff-ffff-0000-002073cca126 is missing from the cache.\n",
      "\u001b[33m\u001b[1m│ \u001b[22m\u001b[39mThis may mean PrecompileTools [aea7be01-6a6a-4083-8856-8a6e6704d82a] does not support precompilation but is imported by a module that does.\n",
      "\u001b[33m\u001b[1m└ \u001b[22m\u001b[39m\u001b[90m@ Base loading.jl:1758\u001b[39m\n",
      "\u001b[36m\u001b[1m[ \u001b[22m\u001b[39m\u001b[36m\u001b[1mInfo: \u001b[22m\u001b[39mSkipping precompilation since __precompile__(false). Importing PlotUtils [995b91a9-d308-5afd-9ec6-746e21dbc043].\n",
      "\u001b[36m\u001b[1m[ \u001b[22m\u001b[39m\u001b[36m\u001b[1mInfo: \u001b[22m\u001b[39mPrecompiling ColorSchemes [35d6a980-a343-548e-a6ea-1d62b119f2f4]\n",
      "\u001b[33m\u001b[1m┌ \u001b[22m\u001b[39m\u001b[33m\u001b[1mWarning: \u001b[22m\u001b[39mModule JLLWrappers with build ID ffffffff-ffff-ffff-0000-001e96752078 is missing from the cache.\n",
      "\u001b[33m\u001b[1m│ \u001b[22m\u001b[39mThis may mean JLLWrappers [692b3bcd-3c85-4b1f-b108-f13ce0eb3210] does not support precompilation but is imported by a module that does.\n",
      "\u001b[33m\u001b[1m└ \u001b[22m\u001b[39m\u001b[90m@ Base loading.jl:1758\u001b[39m\n",
      "\u001b[33m\u001b[1m┌ \u001b[22m\u001b[39m\u001b[33m\u001b[1mWarning: \u001b[22m\u001b[39mModule JLLWrappers with build ID ffffffff-ffff-ffff-0000-001e96752078 is missing from the cache.\n",
      "\u001b[33m\u001b[1m│ \u001b[22m\u001b[39mThis may mean JLLWrappers [692b3bcd-3c85-4b1f-b108-f13ce0eb3210] does not support precompilation but is imported by a module that does.\n",
      "\u001b[33m\u001b[1m└ \u001b[22m\u001b[39m\u001b[90m@ Base loading.jl:1758\u001b[39m\n",
      "\u001b[33m\u001b[1m┌ \u001b[22m\u001b[39m\u001b[33m\u001b[1mWarning: \u001b[22m\u001b[39mModule JLLWrappers with build ID ffffffff-ffff-ffff-0000-001e96752078 is missing from the cache.\n",
      "\u001b[33m\u001b[1m│ \u001b[22m\u001b[39mThis may mean JLLWrappers [692b3bcd-3c85-4b1f-b108-f13ce0eb3210] does not support precompilation but is imported by a module that does.\n",
      "\u001b[33m\u001b[1m└ \u001b[22m\u001b[39m\u001b[90m@ Base loading.jl:1758\u001b[39m\n",
      "\u001b[33m\u001b[1m┌ \u001b[22m\u001b[39m\u001b[33m\u001b[1mWarning: \u001b[22m\u001b[39mModule JLLWrappers with build ID ffffffff-ffff-ffff-0000-001e96752078 is missing from the cache.\n",
      "\u001b[33m\u001b[1m│ \u001b[22m\u001b[39mThis may mean JLLWrappers [692b3bcd-3c85-4b1f-b108-f13ce0eb3210] does not support precompilation but is imported by a module that does.\n",
      "\u001b[33m\u001b[1m└ \u001b[22m\u001b[39m\u001b[90m@ Base loading.jl:1758\u001b[39m\n",
      "\u001b[33m\u001b[1m┌ \u001b[22m\u001b[39m\u001b[33m\u001b[1mWarning: \u001b[22m\u001b[39mModule JLLWrappers with build ID ffffffff-ffff-ffff-0000-001e96752078 is missing from the cache.\n",
      "\u001b[33m\u001b[1m│ \u001b[22m\u001b[39mThis may mean JLLWrappers [692b3bcd-3c85-4b1f-b108-f13ce0eb3210] does not support precompilation but is imported by a module that does.\n",
      "\u001b[33m\u001b[1m└ \u001b[22m\u001b[39m\u001b[90m@ Base loading.jl:1758\u001b[39m\n",
      "\u001b[33m\u001b[1m┌ \u001b[22m\u001b[39m\u001b[33m\u001b[1mWarning: \u001b[22m\u001b[39mModule JLLWrappers with build ID ffffffff-ffff-ffff-0000-001e96752078 is missing from the cache.\n",
      "\u001b[33m\u001b[1m│ \u001b[22m\u001b[39mThis may mean JLLWrappers [692b3bcd-3c85-4b1f-b108-f13ce0eb3210] does not support precompilation but is imported by a module that does.\n",
      "\u001b[33m\u001b[1m└ \u001b[22m\u001b[39m\u001b[90m@ Base loading.jl:1758\u001b[39m\n",
      "\u001b[33m\u001b[1m┌ \u001b[22m\u001b[39m\u001b[33m\u001b[1mWarning: \u001b[22m\u001b[39mModule JLLWrappers with build ID ffffffff-ffff-ffff-0000-001e96752078 is missing from the cache.\n",
      "\u001b[33m\u001b[1m│ \u001b[22m\u001b[39mThis may mean JLLWrappers [692b3bcd-3c85-4b1f-b108-f13ce0eb3210] does not support precompilation but is imported by a module that does.\n",
      "\u001b[33m\u001b[1m└ \u001b[22m\u001b[39m\u001b[90m@ Base loading.jl:1758\u001b[39m\n",
      "\u001b[33m\u001b[1m┌ \u001b[22m\u001b[39m\u001b[33m\u001b[1mWarning: \u001b[22m\u001b[39mModule JLLWrappers with build ID ffffffff-ffff-ffff-0000-001e96752078 is missing from the cache.\n",
      "\u001b[33m\u001b[1m│ \u001b[22m\u001b[39mThis may mean JLLWrappers [692b3bcd-3c85-4b1f-b108-f13ce0eb3210] does not support precompilation but is imported by a module that does.\n",
      "\u001b[33m\u001b[1m└ \u001b[22m\u001b[39m\u001b[90m@ Base loading.jl:1758\u001b[39m\n",
      "\u001b[36m\u001b[1m[ \u001b[22m\u001b[39m\u001b[36m\u001b[1mInfo: \u001b[22m\u001b[39mSkipping precompilation since __precompile__(false). Importing ColorSchemes [35d6a980-a343-548e-a6ea-1d62b119f2f4].\n",
      "\u001b[36m\u001b[1m[ \u001b[22m\u001b[39m\u001b[36m\u001b[1mInfo: \u001b[22m\u001b[39mPrecompiling ColorVectorSpace [c3611d14-8923-5661-9e6a-0046d554d3a4]\n",
      "\u001b[33m\u001b[1m┌ \u001b[22m\u001b[39m\u001b[33m\u001b[1mWarning: \u001b[22m\u001b[39mModule JLLWrappers with build ID ffffffff-ffff-ffff-0000-001e96752078 is missing from the cache.\n",
      "\u001b[33m\u001b[1m│ \u001b[22m\u001b[39mThis may mean JLLWrappers [692b3bcd-3c85-4b1f-b108-f13ce0eb3210] does not support precompilation but is imported by a module that does.\n",
      "\u001b[33m\u001b[1m└ \u001b[22m\u001b[39m\u001b[90m@ Base loading.jl:1758\u001b[39m\n",
      "\u001b[33m\u001b[1m┌ \u001b[22m\u001b[39m\u001b[33m\u001b[1mWarning: \u001b[22m\u001b[39mModule JLLWrappers with build ID ffffffff-ffff-ffff-0000-001e96752078 is missing from the cache.\n",
      "\u001b[33m\u001b[1m│ \u001b[22m\u001b[39mThis may mean JLLWrappers [692b3bcd-3c85-4b1f-b108-f13ce0eb3210] does not support precompilation but is imported by a module that does.\n",
      "\u001b[33m\u001b[1m└ \u001b[22m\u001b[39m\u001b[90m@ Base loading.jl:1758\u001b[39m\n",
      "\u001b[33m\u001b[1m┌ \u001b[22m\u001b[39m\u001b[33m\u001b[1mWarning: \u001b[22m\u001b[39mModule JLLWrappers with build ID ffffffff-ffff-ffff-0000-001e96752078 is missing from the cache.\n",
      "\u001b[33m\u001b[1m│ \u001b[22m\u001b[39mThis may mean JLLWrappers [692b3bcd-3c85-4b1f-b108-f13ce0eb3210] does not support precompilation but is imported by a module that does.\n",
      "\u001b[33m\u001b[1m└ \u001b[22m\u001b[39m\u001b[90m@ Base loading.jl:1758\u001b[39m\n",
      "\u001b[33m\u001b[1m┌ \u001b[22m\u001b[39m\u001b[33m\u001b[1mWarning: \u001b[22m\u001b[39mModule JLLWrappers with build ID ffffffff-ffff-ffff-0000-001e96752078 is missing from the cache.\n",
      "\u001b[33m\u001b[1m│ \u001b[22m\u001b[39mThis may mean JLLWrappers [692b3bcd-3c85-4b1f-b108-f13ce0eb3210] does not support precompilation but is imported by a module that does.\n",
      "\u001b[33m\u001b[1m└ \u001b[22m\u001b[39m\u001b[90m@ Base loading.jl:1758\u001b[39m\n",
      "\u001b[36m\u001b[1m[ \u001b[22m\u001b[39m\u001b[36m\u001b[1mInfo: \u001b[22m\u001b[39mSkipping precompilation since __precompile__(false). Importing ColorVectorSpace [c3611d14-8923-5661-9e6a-0046d554d3a4].\n",
      "\u001b[36m\u001b[1m[ \u001b[22m\u001b[39m\u001b[36m\u001b[1mInfo: \u001b[22m\u001b[39mPrecompiling SpecialFunctions [276daf66-3868-5448-9aa4-cd146d93841b]\n",
      "\u001b[33m\u001b[1m┌ \u001b[22m\u001b[39m\u001b[33m\u001b[1mWarning: \u001b[22m\u001b[39mModule JLLWrappers with build ID ffffffff-ffff-ffff-0000-001e96752078 is missing from the cache.\n",
      "\u001b[33m\u001b[1m│ \u001b[22m\u001b[39mThis may mean JLLWrappers [692b3bcd-3c85-4b1f-b108-f13ce0eb3210] does not support precompilation but is imported by a module that does.\n",
      "\u001b[33m\u001b[1m└ \u001b[22m\u001b[39m\u001b[90m@ Base loading.jl:1758\u001b[39m\n",
      "\u001b[33m\u001b[1m┌ \u001b[22m\u001b[39m\u001b[33m\u001b[1mWarning: \u001b[22m\u001b[39mModule JLLWrappers with build ID ffffffff-ffff-ffff-0000-001e96752078 is missing from the cache.\n",
      "\u001b[33m\u001b[1m│ \u001b[22m\u001b[39mThis may mean JLLWrappers [692b3bcd-3c85-4b1f-b108-f13ce0eb3210] does not support precompilation but is imported by a module that does.\n",
      "\u001b[33m\u001b[1m└ \u001b[22m\u001b[39m\u001b[90m@ Base loading.jl:1758\u001b[39m\n",
      "\u001b[36m\u001b[1m[ \u001b[22m\u001b[39m\u001b[36m\u001b[1mInfo: \u001b[22m\u001b[39mSkipping precompilation since __precompile__(false). Importing SpecialFunctions [276daf66-3868-5448-9aa4-cd146d93841b].\n",
      "\u001b[36m\u001b[1m[ \u001b[22m\u001b[39m\u001b[36m\u001b[1mInfo: \u001b[22m\u001b[39mPrecompiling OpenSpecFun_jll [efe28fd5-8261-553b-a9e1-b2916fc3738e]\n",
      "\u001b[33m\u001b[1m┌ \u001b[22m\u001b[39m\u001b[33m\u001b[1mWarning: \u001b[22m\u001b[39mModule JLLWrappers with build ID ffffffff-ffff-ffff-0000-001e96752078 is missing from the cache.\n",
      "\u001b[33m\u001b[1m│ \u001b[22m\u001b[39mThis may mean JLLWrappers [692b3bcd-3c85-4b1f-b108-f13ce0eb3210] does not support precompilation but is imported by a module that does.\n",
      "\u001b[33m\u001b[1m└ \u001b[22m\u001b[39m\u001b[90m@ Base loading.jl:1758\u001b[39m\n",
      "\u001b[36m\u001b[1m[ \u001b[22m\u001b[39m\u001b[36m\u001b[1mInfo: \u001b[22m\u001b[39mSkipping precompilation since __precompile__(false). Importing OpenSpecFun_jll [efe28fd5-8261-553b-a9e1-b2916fc3738e].\n",
      "\u001b[36m\u001b[1m[ \u001b[22m\u001b[39m\u001b[36m\u001b[1mInfo: \u001b[22m\u001b[39mPrecompiling MeasurementsSpecialFunctionsExt [4e7bbfdf-6151-5523-96ab-16f816c5a3ee]\n",
      "\u001b[33m\u001b[1m┌ \u001b[22m\u001b[39m\u001b[33m\u001b[1mWarning: \u001b[22m\u001b[39mModule SpecialFunctions with build ID ffffffff-ffff-ffff-0000-029e3a496da8 is missing from the cache.\n",
      "\u001b[33m\u001b[1m│ \u001b[22m\u001b[39mThis may mean SpecialFunctions [276daf66-3868-5448-9aa4-cd146d93841b] does not support precompilation but is imported by a module that does.\n",
      "\u001b[33m\u001b[1m└ \u001b[22m\u001b[39m\u001b[90m@ Base loading.jl:1758\u001b[39m\n",
      "\u001b[36m\u001b[1m[ \u001b[22m\u001b[39m\u001b[36m\u001b[1mInfo: \u001b[22m\u001b[39mSkipping precompilation since __precompile__(false). Importing MeasurementsSpecialFunctionsExt [4e7bbfdf-6151-5523-96ab-16f816c5a3ee].\n",
      "\u001b[36m\u001b[1m[ \u001b[22m\u001b[39m\u001b[36m\u001b[1mInfo: \u001b[22m\u001b[39mPrecompiling SpecialFunctionsExt [499d2952-c3ce-5339-96ee-b197ee6daaa6]\n",
      "\u001b[33m\u001b[1m┌ \u001b[22m\u001b[39m\u001b[33m\u001b[1mWarning: \u001b[22m\u001b[39mModule SpecialFunctions with build ID ffffffff-ffff-ffff-0000-029e3a496da8 is missing from the cache.\n",
      "\u001b[33m\u001b[1m│ \u001b[22m\u001b[39mThis may mean SpecialFunctions [276daf66-3868-5448-9aa4-cd146d93841b] does not support precompilation but is imported by a module that does.\n",
      "\u001b[33m\u001b[1m└ \u001b[22m\u001b[39m\u001b[90m@ Base loading.jl:1758\u001b[39m\n",
      "\u001b[36m\u001b[1m[ \u001b[22m\u001b[39m\u001b[36m\u001b[1mInfo: \u001b[22m\u001b[39mSkipping precompilation since __precompile__(false). Importing SpecialFunctionsExt [499d2952-c3ce-5339-96ee-b197ee6daaa6].\n",
      "\u001b[36m\u001b[1m[ \u001b[22m\u001b[39m\u001b[36m\u001b[1mInfo: \u001b[22m\u001b[39mPrecompiling SpecialFunctionsChainRulesCoreExt [9eb7bdd4-e44c-55fc-b9cc-1a32cb715188]\n",
      "\u001b[33m\u001b[1m┌ \u001b[22m\u001b[39m\u001b[33m\u001b[1mWarning: \u001b[22m\u001b[39mModule SpecialFunctions with build ID ffffffff-ffff-ffff-0000-029e3a496da8 is missing from the cache.\n",
      "\u001b[33m\u001b[1m│ \u001b[22m\u001b[39mThis may mean SpecialFunctions [276daf66-3868-5448-9aa4-cd146d93841b] does not support precompilation but is imported by a module that does.\n",
      "\u001b[33m\u001b[1m└ \u001b[22m\u001b[39m\u001b[90m@ Base loading.jl:1758\u001b[39m\n",
      "\u001b[36m\u001b[1m[ \u001b[22m\u001b[39m\u001b[36m\u001b[1mInfo: \u001b[22m\u001b[39mSkipping precompilation since __precompile__(false). Importing SpecialFunctionsChainRulesCoreExt [9eb7bdd4-e44c-55fc-b9cc-1a32cb715188].\n",
      "\u001b[36m\u001b[1m[ \u001b[22m\u001b[39m\u001b[36m\u001b[1mInfo: \u001b[22m\u001b[39mPrecompiling RecipesPipeline [01d81517-befc-4cb6-b9ec-a95719d0359c]\n",
      "\u001b[33m\u001b[1m┌ \u001b[22m\u001b[39m\u001b[33m\u001b[1mWarning: \u001b[22m\u001b[39mModule RecipesBase with build ID ffffffff-ffff-ffff-0000-029c1909f030 is missing from the cache.\n",
      "\u001b[33m\u001b[1m│ \u001b[22m\u001b[39mThis may mean RecipesBase [3cdcf5f2-1ef4-517c-9805-6587b60abb01] does not support precompilation but is imported by a module that does.\n",
      "\u001b[33m\u001b[1m└ \u001b[22m\u001b[39m\u001b[90m@ Base loading.jl:1758\u001b[39m\n",
      "\u001b[36m\u001b[1m[ \u001b[22m\u001b[39m\u001b[36m\u001b[1mInfo: \u001b[22m\u001b[39mSkipping precompilation since __precompile__(false). Importing RecipesPipeline [01d81517-befc-4cb6-b9ec-a95719d0359c].\n",
      "\u001b[36m\u001b[1m[ \u001b[22m\u001b[39m\u001b[36m\u001b[1mInfo: \u001b[22m\u001b[39mPrecompiling JLFzf [1019f520-868f-41f5-a6de-eb00f4b6a39c]\n",
      "\u001b[33m\u001b[1m┌ \u001b[22m\u001b[39m\u001b[33m\u001b[1mWarning: \u001b[22m\u001b[39mModule JLLWrappers with build ID ffffffff-ffff-ffff-0000-001e96752078 is missing from the cache.\n",
      "\u001b[33m\u001b[1m│ \u001b[22m\u001b[39mThis may mean JLLWrappers [692b3bcd-3c85-4b1f-b108-f13ce0eb3210] does not support precompilation but is imported by a module that does.\n",
      "\u001b[33m\u001b[1m└ \u001b[22m\u001b[39m\u001b[90m@ Base loading.jl:1758\u001b[39m\n",
      "\u001b[33m\u001b[1m┌ \u001b[22m\u001b[39m\u001b[33m\u001b[1mWarning: \u001b[22m\u001b[39mModule JLLWrappers with build ID ffffffff-ffff-ffff-0000-001e96752078 is missing from the cache.\n",
      "\u001b[33m\u001b[1m│ \u001b[22m\u001b[39mThis may mean JLLWrappers [692b3bcd-3c85-4b1f-b108-f13ce0eb3210] does not support precompilation but is imported by a module that does.\n",
      "\u001b[33m\u001b[1m└ \u001b[22m\u001b[39m\u001b[90m@ Base loading.jl:1758\u001b[39m\n",
      "\u001b[36m\u001b[1m[ \u001b[22m\u001b[39m\u001b[36m\u001b[1mInfo: \u001b[22m\u001b[39mSkipping precompilation since __precompile__(false). Importing JLFzf [1019f520-868f-41f5-a6de-eb00f4b6a39c].\n",
      "\u001b[36m\u001b[1m[ \u001b[22m\u001b[39m\u001b[36m\u001b[1mInfo: \u001b[22m\u001b[39mPrecompiling fzf_jll [214eeab7-80f7-51ab-84ad-2988db7cef09]\n",
      "\u001b[33m\u001b[1m┌ \u001b[22m\u001b[39m\u001b[33m\u001b[1mWarning: \u001b[22m\u001b[39mModule JLLWrappers with build ID ffffffff-ffff-ffff-0000-001e96752078 is missing from the cache.\n",
      "\u001b[33m\u001b[1m│ \u001b[22m\u001b[39mThis may mean JLLWrappers [692b3bcd-3c85-4b1f-b108-f13ce0eb3210] does not support precompilation but is imported by a module that does.\n",
      "\u001b[33m\u001b[1m└ \u001b[22m\u001b[39m\u001b[90m@ Base loading.jl:1758\u001b[39m\n",
      "\u001b[36m\u001b[1m[ \u001b[22m\u001b[39m\u001b[36m\u001b[1mInfo: \u001b[22m\u001b[39mSkipping precompilation since __precompile__(false). Importing fzf_jll [214eeab7-80f7-51ab-84ad-2988db7cef09].\n",
      "\u001b[36m\u001b[1m[ \u001b[22m\u001b[39m\u001b[36m\u001b[1mInfo: \u001b[22m\u001b[39mPrecompiling FFMPEG [c87230d0-a227-11e9-1b43-d7ebe4e7570a]\n",
      "\u001b[33m\u001b[1m┌ \u001b[22m\u001b[39m\u001b[33m\u001b[1mWarning: \u001b[22m\u001b[39mModule JLLWrappers with build ID ffffffff-ffff-ffff-0000-001e96752078 is missing from the cache.\n",
      "\u001b[33m\u001b[1m│ \u001b[22m\u001b[39mThis may mean JLLWrappers [692b3bcd-3c85-4b1f-b108-f13ce0eb3210] does not support precompilation but is imported by a module that does.\n",
      "\u001b[33m\u001b[1m└ \u001b[22m\u001b[39m\u001b[90m@ Base loading.jl:1758\u001b[39m\n",
      "\u001b[33m\u001b[1m┌ \u001b[22m\u001b[39m\u001b[33m\u001b[1mWarning: \u001b[22m\u001b[39mModule JLLWrappers with build ID ffffffff-ffff-ffff-0000-001e96752078 is missing from the cache.\n",
      "\u001b[33m\u001b[1m│ \u001b[22m\u001b[39mThis may mean JLLWrappers [692b3bcd-3c85-4b1f-b108-f13ce0eb3210] does not support precompilation but is imported by a module that does.\n",
      "\u001b[33m\u001b[1m└ \u001b[22m\u001b[39m\u001b[90m@ Base loading.jl:1758\u001b[39m\n",
      "\u001b[36m\u001b[1m[ \u001b[22m\u001b[39m\u001b[36m\u001b[1mInfo: \u001b[22m\u001b[39mSkipping precompilation since __precompile__(false). Importing FFMPEG [c87230d0-a227-11e9-1b43-d7ebe4e7570a].\n",
      "\u001b[36m\u001b[1m[ \u001b[22m\u001b[39m\u001b[36m\u001b[1mInfo: \u001b[22m\u001b[39mPrecompiling FFMPEG_jll [b22a6f82-2f65-5046-a5b2-351ab43fb4e5]\n",
      "\u001b[33m\u001b[1m┌ \u001b[22m\u001b[39m\u001b[33m\u001b[1mWarning: \u001b[22m\u001b[39mModule JLLWrappers with build ID ffffffff-ffff-ffff-0000-001e96752078 is missing from the cache.\n",
      "\u001b[33m\u001b[1m│ \u001b[22m\u001b[39mThis may mean JLLWrappers [692b3bcd-3c85-4b1f-b108-f13ce0eb3210] does not support precompilation but is imported by a module that does.\n",
      "\u001b[33m\u001b[1m└ \u001b[22m\u001b[39m\u001b[90m@ Base loading.jl:1758\u001b[39m\n",
      "\u001b[36m\u001b[1m[ \u001b[22m\u001b[39m\u001b[36m\u001b[1mInfo: \u001b[22m\u001b[39mSkipping precompilation since __precompile__(false). Importing FFMPEG_jll [b22a6f82-2f65-5046-a5b2-351ab43fb4e5].\n",
      "\u001b[36m\u001b[1m[ \u001b[22m\u001b[39m\u001b[36m\u001b[1mInfo: \u001b[22m\u001b[39mPrecompiling libass_jll [0ac62f75-1d6f-5e53-bd7c-93b484bb37c0]\n",
      "\u001b[33m\u001b[1m┌ \u001b[22m\u001b[39m\u001b[33m\u001b[1mWarning: \u001b[22m\u001b[39mModule JLLWrappers with build ID ffffffff-ffff-ffff-0000-001e96752078 is missing from the cache.\n",
      "\u001b[33m\u001b[1m│ \u001b[22m\u001b[39mThis may mean JLLWrappers [692b3bcd-3c85-4b1f-b108-f13ce0eb3210] does not support precompilation but is imported by a module that does.\n",
      "\u001b[33m\u001b[1m└ \u001b[22m\u001b[39m\u001b[90m@ Base loading.jl:1758\u001b[39m\n",
      "\u001b[36m\u001b[1m[ \u001b[22m\u001b[39m\u001b[36m\u001b[1mInfo: \u001b[22m\u001b[39mSkipping precompilation since __precompile__(false). Importing libass_jll [0ac62f75-1d6f-5e53-bd7c-93b484bb37c0].\n",
      "\u001b[36m\u001b[1m[ \u001b[22m\u001b[39m\u001b[36m\u001b[1mInfo: \u001b[22m\u001b[39mPrecompiling FreeType2_jll [d7e528f0-a631-5988-bf34-fe36492bcfd7]\n",
      "\u001b[33m\u001b[1m┌ \u001b[22m\u001b[39m\u001b[33m\u001b[1mWarning: \u001b[22m\u001b[39mModule JLLWrappers with build ID ffffffff-ffff-ffff-0000-001e96752078 is missing from the cache.\n",
      "\u001b[33m\u001b[1m│ \u001b[22m\u001b[39mThis may mean JLLWrappers [692b3bcd-3c85-4b1f-b108-f13ce0eb3210] does not support precompilation but is imported by a module that does.\n",
      "\u001b[33m\u001b[1m└ \u001b[22m\u001b[39m\u001b[90m@ Base loading.jl:1758\u001b[39m\n",
      "\u001b[36m\u001b[1m[ \u001b[22m\u001b[39m\u001b[36m\u001b[1mInfo: \u001b[22m\u001b[39mSkipping precompilation since __precompile__(false). Importing FreeType2_jll [d7e528f0-a631-5988-bf34-fe36492bcfd7].\n",
      "\u001b[36m\u001b[1m[ \u001b[22m\u001b[39m\u001b[36m\u001b[1mInfo: \u001b[22m\u001b[39mPrecompiling Bzip2_jll [6e34b625-4abd-537c-b88f-471c36dfa7a0]\n",
      "\u001b[33m\u001b[1m┌ \u001b[22m\u001b[39m\u001b[33m\u001b[1mWarning: \u001b[22m\u001b[39mModule JLLWrappers with build ID ffffffff-ffff-ffff-0000-001e96752078 is missing from the cache.\n",
      "\u001b[33m\u001b[1m│ \u001b[22m\u001b[39mThis may mean JLLWrappers [692b3bcd-3c85-4b1f-b108-f13ce0eb3210] does not support precompilation but is imported by a module that does.\n",
      "\u001b[33m\u001b[1m└ \u001b[22m\u001b[39m\u001b[90m@ Base loading.jl:1758\u001b[39m\n",
      "\u001b[36m\u001b[1m[ \u001b[22m\u001b[39m\u001b[36m\u001b[1mInfo: \u001b[22m\u001b[39mSkipping precompilation since __precompile__(false). Importing Bzip2_jll [6e34b625-4abd-537c-b88f-471c36dfa7a0].\n",
      "\u001b[36m\u001b[1m[ \u001b[22m\u001b[39m\u001b[36m\u001b[1mInfo: \u001b[22m\u001b[39mPrecompiling FriBidi_jll [559328eb-81f9-559d-9380-de523a88c83c]\n",
      "\u001b[33m\u001b[1m┌ \u001b[22m\u001b[39m\u001b[33m\u001b[1mWarning: \u001b[22m\u001b[39mModule JLLWrappers with build ID ffffffff-ffff-ffff-0000-001e96752078 is missing from the cache.\n",
      "\u001b[33m\u001b[1m│ \u001b[22m\u001b[39mThis may mean JLLWrappers [692b3bcd-3c85-4b1f-b108-f13ce0eb3210] does not support precompilation but is imported by a module that does.\n",
      "\u001b[33m\u001b[1m└ \u001b[22m\u001b[39m\u001b[90m@ Base loading.jl:1758\u001b[39m\n",
      "\u001b[36m\u001b[1m[ \u001b[22m\u001b[39m\u001b[36m\u001b[1mInfo: \u001b[22m\u001b[39mSkipping precompilation since __precompile__(false). Importing FriBidi_jll [559328eb-81f9-559d-9380-de523a88c83c].\n",
      "\u001b[36m\u001b[1m[ \u001b[22m\u001b[39m\u001b[36m\u001b[1mInfo: \u001b[22m\u001b[39mPrecompiling HarfBuzz_jll [2e76f6c2-a576-52d4-95c1-20adfe4de566]\n",
      "\u001b[33m\u001b[1m┌ \u001b[22m\u001b[39m\u001b[33m\u001b[1mWarning: \u001b[22m\u001b[39mModule JLLWrappers with build ID ffffffff-ffff-ffff-0000-001e96752078 is missing from the cache.\n",
      "\u001b[33m\u001b[1m│ \u001b[22m\u001b[39mThis may mean JLLWrappers [692b3bcd-3c85-4b1f-b108-f13ce0eb3210] does not support precompilation but is imported by a module that does.\n",
      "\u001b[33m\u001b[1m└ \u001b[22m\u001b[39m\u001b[90m@ Base loading.jl:1758\u001b[39m\n",
      "\u001b[36m\u001b[1m[ \u001b[22m\u001b[39m\u001b[36m\u001b[1mInfo: \u001b[22m\u001b[39mSkipping precompilation since __precompile__(false). Importing HarfBuzz_jll [2e76f6c2-a576-52d4-95c1-20adfe4de566].\n",
      "\u001b[36m\u001b[1m[ \u001b[22m\u001b[39m\u001b[36m\u001b[1mInfo: \u001b[22m\u001b[39mPrecompiling Cairo_jll [83423d85-b0ee-5818-9007-b63ccbeb887a]\n",
      "\u001b[33m\u001b[1m┌ \u001b[22m\u001b[39m\u001b[33m\u001b[1mWarning: \u001b[22m\u001b[39mModule JLLWrappers with build ID ffffffff-ffff-ffff-0000-001e96752078 is missing from the cache.\n",
      "\u001b[33m\u001b[1m│ \u001b[22m\u001b[39mThis may mean JLLWrappers [692b3bcd-3c85-4b1f-b108-f13ce0eb3210] does not support precompilation but is imported by a module that does.\n",
      "\u001b[33m\u001b[1m└ \u001b[22m\u001b[39m\u001b[90m@ Base loading.jl:1758\u001b[39m\n",
      "\u001b[36m\u001b[1m[ \u001b[22m\u001b[39m\u001b[36m\u001b[1mInfo: \u001b[22m\u001b[39mSkipping precompilation since __precompile__(false). Importing Cairo_jll [83423d85-b0ee-5818-9007-b63ccbeb887a].\n",
      "\u001b[36m\u001b[1m[ \u001b[22m\u001b[39m\u001b[36m\u001b[1mInfo: \u001b[22m\u001b[39mPrecompiling Glib_jll [7746bdde-850d-59dc-9ae8-88ece973131d]\n",
      "\u001b[33m\u001b[1m┌ \u001b[22m\u001b[39m\u001b[33m\u001b[1mWarning: \u001b[22m\u001b[39mModule JLLWrappers with build ID ffffffff-ffff-ffff-0000-001e96752078 is missing from the cache.\n",
      "\u001b[33m\u001b[1m│ \u001b[22m\u001b[39mThis may mean JLLWrappers [692b3bcd-3c85-4b1f-b108-f13ce0eb3210] does not support precompilation but is imported by a module that does.\n",
      "\u001b[33m\u001b[1m└ \u001b[22m\u001b[39m\u001b[90m@ Base loading.jl:1758\u001b[39m\n",
      "\u001b[36m\u001b[1m[ \u001b[22m\u001b[39m\u001b[36m\u001b[1mInfo: \u001b[22m\u001b[39mSkipping precompilation since __precompile__(false). Importing Glib_jll [7746bdde-850d-59dc-9ae8-88ece973131d].\n",
      "\u001b[36m\u001b[1m[ \u001b[22m\u001b[39m\u001b[36m\u001b[1mInfo: \u001b[22m\u001b[39mPrecompiling Libiconv_jll [94ce4f54-9a6c-5748-9c1c-f9c7231a4531]\n",
      "\u001b[33m\u001b[1m┌ \u001b[22m\u001b[39m\u001b[33m\u001b[1mWarning: \u001b[22m\u001b[39mModule JLLWrappers with build ID ffffffff-ffff-ffff-0000-001e96752078 is missing from the cache.\n",
      "\u001b[33m\u001b[1m│ \u001b[22m\u001b[39mThis may mean JLLWrappers [692b3bcd-3c85-4b1f-b108-f13ce0eb3210] does not support precompilation but is imported by a module that does.\n",
      "\u001b[33m\u001b[1m└ \u001b[22m\u001b[39m\u001b[90m@ Base loading.jl:1758\u001b[39m\n",
      "\u001b[36m\u001b[1m[ \u001b[22m\u001b[39m\u001b[36m\u001b[1mInfo: \u001b[22m\u001b[39mSkipping precompilation since __precompile__(false). Importing Libiconv_jll [94ce4f54-9a6c-5748-9c1c-f9c7231a4531].\n",
      "\u001b[36m\u001b[1m[ \u001b[22m\u001b[39m\u001b[36m\u001b[1mInfo: \u001b[22m\u001b[39mPrecompiling Libffi_jll [e9f186c6-92d2-5b65-8a66-fee21dc1b490]\n",
      "\u001b[33m\u001b[1m┌ \u001b[22m\u001b[39m\u001b[33m\u001b[1mWarning: \u001b[22m\u001b[39mModule JLLWrappers with build ID ffffffff-ffff-ffff-0000-001e96752078 is missing from the cache.\n",
      "\u001b[33m\u001b[1m│ \u001b[22m\u001b[39mThis may mean JLLWrappers [692b3bcd-3c85-4b1f-b108-f13ce0eb3210] does not support precompilation but is imported by a module that does.\n",
      "\u001b[33m\u001b[1m└ \u001b[22m\u001b[39m\u001b[90m@ Base loading.jl:1758\u001b[39m\n",
      "\u001b[36m\u001b[1m[ \u001b[22m\u001b[39m\u001b[36m\u001b[1mInfo: \u001b[22m\u001b[39mSkipping precompilation since __precompile__(false). Importing Libffi_jll [e9f186c6-92d2-5b65-8a66-fee21dc1b490].\n",
      "\u001b[36m\u001b[1m[ \u001b[22m\u001b[39m\u001b[36m\u001b[1mInfo: \u001b[22m\u001b[39mPrecompiling Gettext_jll [78b55507-aeef-58d4-861c-77aaff3498b1]\n",
      "\u001b[33m\u001b[1m┌ \u001b[22m\u001b[39m\u001b[33m\u001b[1mWarning: \u001b[22m\u001b[39mModule JLLWrappers with build ID ffffffff-ffff-ffff-0000-001e96752078 is missing from the cache.\n",
      "\u001b[33m\u001b[1m│ \u001b[22m\u001b[39mThis may mean JLLWrappers [692b3bcd-3c85-4b1f-b108-f13ce0eb3210] does not support precompilation but is imported by a module that does.\n",
      "\u001b[33m\u001b[1m└ \u001b[22m\u001b[39m\u001b[90m@ Base loading.jl:1758\u001b[39m\n",
      "\u001b[36m\u001b[1m[ \u001b[22m\u001b[39m\u001b[36m\u001b[1mInfo: \u001b[22m\u001b[39mSkipping precompilation since __precompile__(false). Importing Gettext_jll [78b55507-aeef-58d4-861c-77aaff3498b1].\n",
      "\u001b[36m\u001b[1m[ \u001b[22m\u001b[39m\u001b[36m\u001b[1mInfo: \u001b[22m\u001b[39mPrecompiling XML2_jll [02c8fc9c-b97f-50b9-bbe4-9be30ff0a78a]\n",
      "\u001b[33m\u001b[1m┌ \u001b[22m\u001b[39m\u001b[33m\u001b[1mWarning: \u001b[22m\u001b[39mModule JLLWrappers with build ID ffffffff-ffff-ffff-0000-001e96752078 is missing from the cache.\n",
      "\u001b[33m\u001b[1m│ \u001b[22m\u001b[39mThis may mean JLLWrappers [692b3bcd-3c85-4b1f-b108-f13ce0eb3210] does not support precompilation but is imported by a module that does.\n",
      "\u001b[33m\u001b[1m└ \u001b[22m\u001b[39m\u001b[90m@ Base loading.jl:1758\u001b[39m\n",
      "\u001b[36m\u001b[1m[ \u001b[22m\u001b[39m\u001b[36m\u001b[1mInfo: \u001b[22m\u001b[39mSkipping precompilation since __precompile__(false). Importing XML2_jll [02c8fc9c-b97f-50b9-bbe4-9be30ff0a78a].\n",
      "\u001b[36m\u001b[1m[ \u001b[22m\u001b[39m\u001b[36m\u001b[1mInfo: \u001b[22m\u001b[39mPrecompiling Pixman_jll [30392449-352a-5448-841d-b1acce4e97dc]\n",
      "\u001b[33m\u001b[1m┌ \u001b[22m\u001b[39m\u001b[33m\u001b[1mWarning: \u001b[22m\u001b[39mModule JLLWrappers with build ID ffffffff-ffff-ffff-0000-001e96752078 is missing from the cache.\n",
      "\u001b[33m\u001b[1m│ \u001b[22m\u001b[39mThis may mean JLLWrappers [692b3bcd-3c85-4b1f-b108-f13ce0eb3210] does not support precompilation but is imported by a module that does.\n",
      "\u001b[33m\u001b[1m└ \u001b[22m\u001b[39m\u001b[90m@ Base loading.jl:1758\u001b[39m\n",
      "\u001b[36m\u001b[1m[ \u001b[22m\u001b[39m\u001b[36m\u001b[1mInfo: \u001b[22m\u001b[39mSkipping precompilation since __precompile__(false). Importing Pixman_jll [30392449-352a-5448-841d-b1acce4e97dc].\n",
      "\u001b[36m\u001b[1m[ \u001b[22m\u001b[39m\u001b[36m\u001b[1mInfo: \u001b[22m\u001b[39mPrecompiling libpng_jll [b53b4c65-9356-5827-b1ea-8c7a1a84506f]\n",
      "\u001b[33m\u001b[1m┌ \u001b[22m\u001b[39m\u001b[33m\u001b[1mWarning: \u001b[22m\u001b[39mModule JLLWrappers with build ID ffffffff-ffff-ffff-0000-001e96752078 is missing from the cache.\n",
      "\u001b[33m\u001b[1m│ \u001b[22m\u001b[39mThis may mean JLLWrappers [692b3bcd-3c85-4b1f-b108-f13ce0eb3210] does not support precompilation but is imported by a module that does.\n",
      "\u001b[33m\u001b[1m└ \u001b[22m\u001b[39m\u001b[90m@ Base loading.jl:1758\u001b[39m\n",
      "\u001b[36m\u001b[1m[ \u001b[22m\u001b[39m\u001b[36m\u001b[1mInfo: \u001b[22m\u001b[39mSkipping precompilation since __precompile__(false). Importing libpng_jll [b53b4c65-9356-5827-b1ea-8c7a1a84506f].\n",
      "\u001b[36m\u001b[1m[ \u001b[22m\u001b[39m\u001b[36m\u001b[1mInfo: \u001b[22m\u001b[39mPrecompiling Fontconfig_jll [a3f928ae-7b40-5064-980b-68af3947d34b]\n",
      "\u001b[33m\u001b[1m┌ \u001b[22m\u001b[39m\u001b[33m\u001b[1mWarning: \u001b[22m\u001b[39mModule JLLWrappers with build ID ffffffff-ffff-ffff-0000-001e96752078 is missing from the cache.\n",
      "\u001b[33m\u001b[1m│ \u001b[22m\u001b[39mThis may mean JLLWrappers [692b3bcd-3c85-4b1f-b108-f13ce0eb3210] does not support precompilation but is imported by a module that does.\n",
      "\u001b[33m\u001b[1m└ \u001b[22m\u001b[39m\u001b[90m@ Base loading.jl:1758\u001b[39m\n",
      "\u001b[36m\u001b[1m[ \u001b[22m\u001b[39m\u001b[36m\u001b[1mInfo: \u001b[22m\u001b[39mSkipping precompilation since __precompile__(false). Importing Fontconfig_jll [a3f928ae-7b40-5064-980b-68af3947d34b].\n",
      "\u001b[36m\u001b[1m[ \u001b[22m\u001b[39m\u001b[36m\u001b[1mInfo: \u001b[22m\u001b[39mPrecompiling Libuuid_jll [38a345b3-de98-5d2b-a5d3-14cd9215e700]\n",
      "\u001b[33m\u001b[1m┌ \u001b[22m\u001b[39m\u001b[33m\u001b[1mWarning: \u001b[22m\u001b[39mModule JLLWrappers with build ID ffffffff-ffff-ffff-0000-001e96752078 is missing from the cache.\n",
      "\u001b[33m\u001b[1m│ \u001b[22m\u001b[39mThis may mean JLLWrappers [692b3bcd-3c85-4b1f-b108-f13ce0eb3210] does not support precompilation but is imported by a module that does.\n",
      "\u001b[33m\u001b[1m└ \u001b[22m\u001b[39m\u001b[90m@ Base loading.jl:1758\u001b[39m\n",
      "\u001b[36m\u001b[1m[ \u001b[22m\u001b[39m\u001b[36m\u001b[1mInfo: \u001b[22m\u001b[39mSkipping precompilation since __precompile__(false). Importing Libuuid_jll [38a345b3-de98-5d2b-a5d3-14cd9215e700].\n",
      "\u001b[36m\u001b[1m[ \u001b[22m\u001b[39m\u001b[36m\u001b[1mInfo: \u001b[22m\u001b[39mPrecompiling Expat_jll [2e619515-83b5-522b-bb60-26c02a35a201]\n",
      "\u001b[33m\u001b[1m┌ \u001b[22m\u001b[39m\u001b[33m\u001b[1mWarning: \u001b[22m\u001b[39mModule JLLWrappers with build ID ffffffff-ffff-ffff-0000-001e96752078 is missing from the cache.\n",
      "\u001b[33m\u001b[1m│ \u001b[22m\u001b[39mThis may mean JLLWrappers [692b3bcd-3c85-4b1f-b108-f13ce0eb3210] does not support precompilation but is imported by a module that does.\n",
      "\u001b[33m\u001b[1m└ \u001b[22m\u001b[39m\u001b[90m@ Base loading.jl:1758\u001b[39m\n",
      "\u001b[36m\u001b[1m[ \u001b[22m\u001b[39m\u001b[36m\u001b[1mInfo: \u001b[22m\u001b[39mSkipping precompilation since __precompile__(false). Importing Expat_jll [2e619515-83b5-522b-bb60-26c02a35a201].\n",
      "\u001b[36m\u001b[1m[ \u001b[22m\u001b[39m\u001b[36m\u001b[1mInfo: \u001b[22m\u001b[39mPrecompiling LZO_jll [dd4b983a-f0e5-5f8d-a1b7-129d4a5fb1ac]\n",
      "\u001b[33m\u001b[1m┌ \u001b[22m\u001b[39m\u001b[33m\u001b[1mWarning: \u001b[22m\u001b[39mModule JLLWrappers with build ID ffffffff-ffff-ffff-0000-001e96752078 is missing from the cache.\n",
      "\u001b[33m\u001b[1m│ \u001b[22m\u001b[39mThis may mean JLLWrappers [692b3bcd-3c85-4b1f-b108-f13ce0eb3210] does not support precompilation but is imported by a module that does.\n",
      "\u001b[33m\u001b[1m└ \u001b[22m\u001b[39m\u001b[90m@ Base loading.jl:1758\u001b[39m\n",
      "\u001b[36m\u001b[1m[ \u001b[22m\u001b[39m\u001b[36m\u001b[1mInfo: \u001b[22m\u001b[39mSkipping precompilation since __precompile__(false). Importing LZO_jll [dd4b983a-f0e5-5f8d-a1b7-129d4a5fb1ac].\n",
      "\u001b[36m\u001b[1m[ \u001b[22m\u001b[39m\u001b[36m\u001b[1mInfo: \u001b[22m\u001b[39mPrecompiling Graphite2_jll [3b182d85-2403-5c21-9c21-1e1f0cc25472]\n",
      "\u001b[33m\u001b[1m┌ \u001b[22m\u001b[39m\u001b[33m\u001b[1mWarning: \u001b[22m\u001b[39mModule JLLWrappers with build ID ffffffff-ffff-ffff-0000-001e96752078 is missing from the cache.\n",
      "\u001b[33m\u001b[1m│ \u001b[22m\u001b[39mThis may mean JLLWrappers [692b3bcd-3c85-4b1f-b108-f13ce0eb3210] does not support precompilation but is imported by a module that does.\n",
      "\u001b[33m\u001b[1m└ \u001b[22m\u001b[39m\u001b[90m@ Base loading.jl:1758\u001b[39m\n",
      "\u001b[36m\u001b[1m[ \u001b[22m\u001b[39m\u001b[36m\u001b[1mInfo: \u001b[22m\u001b[39mSkipping precompilation since __precompile__(false). Importing Graphite2_jll [3b182d85-2403-5c21-9c21-1e1f0cc25472].\n",
      "\u001b[36m\u001b[1m[ \u001b[22m\u001b[39m\u001b[36m\u001b[1mInfo: \u001b[22m\u001b[39mPrecompiling libfdk_aac_jll [f638f0a6-7fb0-5443-88ba-1cc74229b280]\n",
      "\u001b[33m\u001b[1m┌ \u001b[22m\u001b[39m\u001b[33m\u001b[1mWarning: \u001b[22m\u001b[39mModule JLLWrappers with build ID ffffffff-ffff-ffff-0000-001e96752078 is missing from the cache.\n",
      "\u001b[33m\u001b[1m│ \u001b[22m\u001b[39mThis may mean JLLWrappers [692b3bcd-3c85-4b1f-b108-f13ce0eb3210] does not support precompilation but is imported by a module that does.\n",
      "\u001b[33m\u001b[1m└ \u001b[22m\u001b[39m\u001b[90m@ Base loading.jl:1758\u001b[39m\n",
      "\u001b[36m\u001b[1m[ \u001b[22m\u001b[39m\u001b[36m\u001b[1mInfo: \u001b[22m\u001b[39mSkipping precompilation since __precompile__(false). Importing libfdk_aac_jll [f638f0a6-7fb0-5443-88ba-1cc74229b280].\n",
      "\u001b[36m\u001b[1m[ \u001b[22m\u001b[39m\u001b[36m\u001b[1mInfo: \u001b[22m\u001b[39mPrecompiling LAME_jll [c1c5ebd0-6772-5130-a774-d5fcae4a789d]\n",
      "\u001b[33m\u001b[1m┌ \u001b[22m\u001b[39m\u001b[33m\u001b[1mWarning: \u001b[22m\u001b[39mModule JLLWrappers with build ID ffffffff-ffff-ffff-0000-001e96752078 is missing from the cache.\n",
      "\u001b[33m\u001b[1m│ \u001b[22m\u001b[39mThis may mean JLLWrappers [692b3bcd-3c85-4b1f-b108-f13ce0eb3210] does not support precompilation but is imported by a module that does.\n",
      "\u001b[33m\u001b[1m└ \u001b[22m\u001b[39m\u001b[90m@ Base loading.jl:1758\u001b[39m\n",
      "\u001b[36m\u001b[1m[ \u001b[22m\u001b[39m\u001b[36m\u001b[1mInfo: \u001b[22m\u001b[39mSkipping precompilation since __precompile__(false). Importing LAME_jll [c1c5ebd0-6772-5130-a774-d5fcae4a789d].\n",
      "\u001b[36m\u001b[1m[ \u001b[22m\u001b[39m\u001b[36m\u001b[1mInfo: \u001b[22m\u001b[39mPrecompiling libvorbis_jll [f27f6e37-5d2b-51aa-960f-b287f2bc3b7a]\n",
      "\u001b[33m\u001b[1m┌ \u001b[22m\u001b[39m\u001b[33m\u001b[1mWarning: \u001b[22m\u001b[39mModule JLLWrappers with build ID ffffffff-ffff-ffff-0000-001e96752078 is missing from the cache.\n",
      "\u001b[33m\u001b[1m│ \u001b[22m\u001b[39mThis may mean JLLWrappers [692b3bcd-3c85-4b1f-b108-f13ce0eb3210] does not support precompilation but is imported by a module that does.\n",
      "\u001b[33m\u001b[1m└ \u001b[22m\u001b[39m\u001b[90m@ Base loading.jl:1758\u001b[39m\n",
      "\u001b[36m\u001b[1m[ \u001b[22m\u001b[39m\u001b[36m\u001b[1mInfo: \u001b[22m\u001b[39mSkipping precompilation since __precompile__(false). Importing libvorbis_jll [f27f6e37-5d2b-51aa-960f-b287f2bc3b7a].\n",
      "\u001b[36m\u001b[1m[ \u001b[22m\u001b[39m\u001b[36m\u001b[1mInfo: \u001b[22m\u001b[39mPrecompiling Ogg_jll [e7412a2a-1a6e-54c0-be00-318e2571c051]\n",
      "\u001b[33m\u001b[1m┌ \u001b[22m\u001b[39m\u001b[33m\u001b[1mWarning: \u001b[22m\u001b[39mModule JLLWrappers with build ID ffffffff-ffff-ffff-0000-001e96752078 is missing from the cache.\n",
      "\u001b[33m\u001b[1m│ \u001b[22m\u001b[39mThis may mean JLLWrappers [692b3bcd-3c85-4b1f-b108-f13ce0eb3210] does not support precompilation but is imported by a module that does.\n",
      "\u001b[33m\u001b[1m└ \u001b[22m\u001b[39m\u001b[90m@ Base loading.jl:1758\u001b[39m\n",
      "\u001b[36m\u001b[1m[ \u001b[22m\u001b[39m\u001b[36m\u001b[1mInfo: \u001b[22m\u001b[39mSkipping precompilation since __precompile__(false). Importing Ogg_jll [e7412a2a-1a6e-54c0-be00-318e2571c051].\n",
      "\u001b[36m\u001b[1m[ \u001b[22m\u001b[39m\u001b[36m\u001b[1mInfo: \u001b[22m\u001b[39mPrecompiling libaom_jll [a4ae2306-e953-59d6-aa16-d00cac43593b]\n",
      "\u001b[33m\u001b[1m┌ \u001b[22m\u001b[39m\u001b[33m\u001b[1mWarning: \u001b[22m\u001b[39mModule JLLWrappers with build ID ffffffff-ffff-ffff-0000-001e96752078 is missing from the cache.\n",
      "\u001b[33m\u001b[1m│ \u001b[22m\u001b[39mThis may mean JLLWrappers [692b3bcd-3c85-4b1f-b108-f13ce0eb3210] does not support precompilation but is imported by a module that does.\n",
      "\u001b[33m\u001b[1m└ \u001b[22m\u001b[39m\u001b[90m@ Base loading.jl:1758\u001b[39m\n",
      "\u001b[36m\u001b[1m[ \u001b[22m\u001b[39m\u001b[36m\u001b[1mInfo: \u001b[22m\u001b[39mSkipping precompilation since __precompile__(false). Importing libaom_jll [a4ae2306-e953-59d6-aa16-d00cac43593b].\n",
      "\u001b[36m\u001b[1m[ \u001b[22m\u001b[39m\u001b[36m\u001b[1mInfo: \u001b[22m\u001b[39mPrecompiling x264_jll [1270edf5-f2f9-52d2-97e9-ab00b5d0237a]\n",
      "\u001b[33m\u001b[1m┌ \u001b[22m\u001b[39m\u001b[33m\u001b[1mWarning: \u001b[22m\u001b[39mModule JLLWrappers with build ID ffffffff-ffff-ffff-0000-001e96752078 is missing from the cache.\n",
      "\u001b[33m\u001b[1m│ \u001b[22m\u001b[39mThis may mean JLLWrappers [692b3bcd-3c85-4b1f-b108-f13ce0eb3210] does not support precompilation but is imported by a module that does.\n",
      "\u001b[33m\u001b[1m└ \u001b[22m\u001b[39m\u001b[90m@ Base loading.jl:1758\u001b[39m\n",
      "\u001b[36m\u001b[1m[ \u001b[22m\u001b[39m\u001b[36m\u001b[1mInfo: \u001b[22m\u001b[39mSkipping precompilation since __precompile__(false). Importing x264_jll [1270edf5-f2f9-52d2-97e9-ab00b5d0237a].\n",
      "\u001b[36m\u001b[1m[ \u001b[22m\u001b[39m\u001b[36m\u001b[1mInfo: \u001b[22m\u001b[39mPrecompiling x265_jll [dfaa095f-4041-5dcd-9319-2fabd8486b76]\n",
      "\u001b[33m\u001b[1m┌ \u001b[22m\u001b[39m\u001b[33m\u001b[1mWarning: \u001b[22m\u001b[39mModule JLLWrappers with build ID ffffffff-ffff-ffff-0000-001e96752078 is missing from the cache.\n",
      "\u001b[33m\u001b[1m│ \u001b[22m\u001b[39mThis may mean JLLWrappers [692b3bcd-3c85-4b1f-b108-f13ce0eb3210] does not support precompilation but is imported by a module that does.\n",
      "\u001b[33m\u001b[1m└ \u001b[22m\u001b[39m\u001b[90m@ Base loading.jl:1758\u001b[39m\n",
      "\u001b[36m\u001b[1m[ \u001b[22m\u001b[39m\u001b[36m\u001b[1mInfo: \u001b[22m\u001b[39mSkipping precompilation since __precompile__(false). Importing x265_jll [dfaa095f-4041-5dcd-9319-2fabd8486b76].\n",
      "\u001b[36m\u001b[1m[ \u001b[22m\u001b[39m\u001b[36m\u001b[1mInfo: \u001b[22m\u001b[39mPrecompiling OpenSSL_jll [458c3c95-2e84-50aa-8efc-19380b2a3a95]\n",
      "\u001b[33m\u001b[1m┌ \u001b[22m\u001b[39m\u001b[33m\u001b[1mWarning: \u001b[22m\u001b[39mModule JLLWrappers with build ID ffffffff-ffff-ffff-0000-001e96752078 is missing from the cache.\n",
      "\u001b[33m\u001b[1m│ \u001b[22m\u001b[39mThis may mean JLLWrappers [692b3bcd-3c85-4b1f-b108-f13ce0eb3210] does not support precompilation but is imported by a module that does.\n",
      "\u001b[33m\u001b[1m└ \u001b[22m\u001b[39m\u001b[90m@ Base loading.jl:1758\u001b[39m\n",
      "\u001b[36m\u001b[1m[ \u001b[22m\u001b[39m\u001b[36m\u001b[1mInfo: \u001b[22m\u001b[39mSkipping precompilation since __precompile__(false). Importing OpenSSL_jll [458c3c95-2e84-50aa-8efc-19380b2a3a95].\n",
      "\u001b[36m\u001b[1m[ \u001b[22m\u001b[39m\u001b[36m\u001b[1mInfo: \u001b[22m\u001b[39mPrecompiling Opus_jll [91d4177d-7536-5919-b921-800302f37372]\n",
      "\u001b[33m\u001b[1m┌ \u001b[22m\u001b[39m\u001b[33m\u001b[1mWarning: \u001b[22m\u001b[39mModule JLLWrappers with build ID ffffffff-ffff-ffff-0000-001e96752078 is missing from the cache.\n",
      "\u001b[33m\u001b[1m│ \u001b[22m\u001b[39mThis may mean JLLWrappers [692b3bcd-3c85-4b1f-b108-f13ce0eb3210] does not support precompilation but is imported by a module that does.\n",
      "\u001b[33m\u001b[1m└ \u001b[22m\u001b[39m\u001b[90m@ Base loading.jl:1758\u001b[39m\n",
      "\u001b[36m\u001b[1m[ \u001b[22m\u001b[39m\u001b[36m\u001b[1mInfo: \u001b[22m\u001b[39mSkipping precompilation since __precompile__(false). Importing Opus_jll [91d4177d-7536-5919-b921-800302f37372].\n",
      "\u001b[36m\u001b[1m[ \u001b[22m\u001b[39m\u001b[36m\u001b[1mInfo: \u001b[22m\u001b[39mPrecompiling GR [28b8d3ca-fb5f-59d9-8090-bfdbd6d07a71]\n",
      "\u001b[33m\u001b[1m┌ \u001b[22m\u001b[39m\u001b[33m\u001b[1mWarning: \u001b[22m\u001b[39mModule Preferences with build ID fafbfcfd-a29d-25ff-0000-001411ae0285 is missing from the cache.\n",
      "\u001b[33m\u001b[1m│ \u001b[22m\u001b[39mThis may mean Preferences [21216c6a-2e73-6563-6e65-726566657250] does not support precompilation but is imported by a module that does.\n",
      "\u001b[33m\u001b[1m└ \u001b[22m\u001b[39m\u001b[90m@ Base loading.jl:1758\u001b[39m\n",
      "\u001b[36m\u001b[1m[ \u001b[22m\u001b[39m\u001b[36m\u001b[1mInfo: \u001b[22m\u001b[39mSkipping precompilation since __precompile__(false). Importing GR [28b8d3ca-fb5f-59d9-8090-bfdbd6d07a71].\n",
      "\u001b[36m\u001b[1m[ \u001b[22m\u001b[39m\u001b[36m\u001b[1mInfo: \u001b[22m\u001b[39mPrecompiling GR_jll [d2c73de3-f751-5644-a686-071e5b155ba9]\n",
      "\u001b[33m\u001b[1m┌ \u001b[22m\u001b[39m\u001b[33m\u001b[1mWarning: \u001b[22m\u001b[39mModule JLLWrappers with build ID ffffffff-ffff-ffff-0000-001e96752078 is missing from the cache.\n",
      "\u001b[33m\u001b[1m│ \u001b[22m\u001b[39mThis may mean JLLWrappers [692b3bcd-3c85-4b1f-b108-f13ce0eb3210] does not support precompilation but is imported by a module that does.\n",
      "\u001b[33m\u001b[1m└ \u001b[22m\u001b[39m\u001b[90m@ Base loading.jl:1758\u001b[39m\n",
      "\u001b[36m\u001b[1m[ \u001b[22m\u001b[39m\u001b[36m\u001b[1mInfo: \u001b[22m\u001b[39mSkipping precompilation since __precompile__(false). Importing GR_jll [d2c73de3-f751-5644-a686-071e5b155ba9].\n",
      "\u001b[36m\u001b[1m[ \u001b[22m\u001b[39m\u001b[36m\u001b[1mInfo: \u001b[22m\u001b[39mPrecompiling GLFW_jll [0656b61e-2033-5cc2-a64a-77c0f6c09b89]\n",
      "\u001b[33m\u001b[1m┌ \u001b[22m\u001b[39m\u001b[33m\u001b[1mWarning: \u001b[22m\u001b[39mModule JLLWrappers with build ID ffffffff-ffff-ffff-0000-001e96752078 is missing from the cache.\n",
      "\u001b[33m\u001b[1m│ \u001b[22m\u001b[39mThis may mean JLLWrappers [692b3bcd-3c85-4b1f-b108-f13ce0eb3210] does not support precompilation but is imported by a module that does.\n",
      "\u001b[33m\u001b[1m└ \u001b[22m\u001b[39m\u001b[90m@ Base loading.jl:1758\u001b[39m\n",
      "\u001b[36m\u001b[1m[ \u001b[22m\u001b[39m\u001b[36m\u001b[1mInfo: \u001b[22m\u001b[39mSkipping precompilation since __precompile__(false). Importing GLFW_jll [0656b61e-2033-5cc2-a64a-77c0f6c09b89].\n",
      "\u001b[36m\u001b[1m[ \u001b[22m\u001b[39m\u001b[36m\u001b[1mInfo: \u001b[22m\u001b[39mPrecompiling JpegTurbo_jll [aacddb02-875f-59d6-b918-886e6ef4fbf8]\n",
      "\u001b[33m\u001b[1m┌ \u001b[22m\u001b[39m\u001b[33m\u001b[1mWarning: \u001b[22m\u001b[39mModule JLLWrappers with build ID ffffffff-ffff-ffff-0000-001e96752078 is missing from the cache.\n",
      "\u001b[33m\u001b[1m│ \u001b[22m\u001b[39mThis may mean JLLWrappers [692b3bcd-3c85-4b1f-b108-f13ce0eb3210] does not support precompilation but is imported by a module that does.\n",
      "\u001b[33m\u001b[1m└ \u001b[22m\u001b[39m\u001b[90m@ Base loading.jl:1758\u001b[39m\n",
      "\u001b[36m\u001b[1m[ \u001b[22m\u001b[39m\u001b[36m\u001b[1mInfo: \u001b[22m\u001b[39mSkipping precompilation since __precompile__(false). Importing JpegTurbo_jll [aacddb02-875f-59d6-b918-886e6ef4fbf8].\n",
      "\u001b[36m\u001b[1m[ \u001b[22m\u001b[39m\u001b[36m\u001b[1mInfo: \u001b[22m\u001b[39mPrecompiling Libtiff_jll [89763e89-9b03-5906-acba-b20f662cd828]\n",
      "\u001b[33m\u001b[1m┌ \u001b[22m\u001b[39m\u001b[33m\u001b[1mWarning: \u001b[22m\u001b[39mModule JLLWrappers with build ID ffffffff-ffff-ffff-0000-001e96752078 is missing from the cache.\n",
      "\u001b[33m\u001b[1m│ \u001b[22m\u001b[39mThis may mean JLLWrappers [692b3bcd-3c85-4b1f-b108-f13ce0eb3210] does not support precompilation but is imported by a module that does.\n",
      "\u001b[33m\u001b[1m└ \u001b[22m\u001b[39m\u001b[90m@ Base loading.jl:1758\u001b[39m\n",
      "\u001b[36m\u001b[1m[ \u001b[22m\u001b[39m\u001b[36m\u001b[1mInfo: \u001b[22m\u001b[39mSkipping precompilation since __precompile__(false). Importing Libtiff_jll [89763e89-9b03-5906-acba-b20f662cd828].\n",
      "\u001b[36m\u001b[1m[ \u001b[22m\u001b[39m\u001b[36m\u001b[1mInfo: \u001b[22m\u001b[39mPrecompiling LERC_jll [88015f11-f218-50d7-93a8-a6af411a945d]\n",
      "\u001b[33m\u001b[1m┌ \u001b[22m\u001b[39m\u001b[33m\u001b[1mWarning: \u001b[22m\u001b[39mModule JLLWrappers with build ID ffffffff-ffff-ffff-0000-001e96752078 is missing from the cache.\n",
      "\u001b[33m\u001b[1m│ \u001b[22m\u001b[39mThis may mean JLLWrappers [692b3bcd-3c85-4b1f-b108-f13ce0eb3210] does not support precompilation but is imported by a module that does.\n",
      "\u001b[33m\u001b[1m└ \u001b[22m\u001b[39m\u001b[90m@ Base loading.jl:1758\u001b[39m\n",
      "\u001b[36m\u001b[1m[ \u001b[22m\u001b[39m\u001b[36m\u001b[1mInfo: \u001b[22m\u001b[39mSkipping precompilation since __precompile__(false). Importing LERC_jll [88015f11-f218-50d7-93a8-a6af411a945d].\n",
      "\u001b[36m\u001b[1m[ \u001b[22m\u001b[39m\u001b[36m\u001b[1mInfo: \u001b[22m\u001b[39mPrecompiling XZ_jll [ffd25f8a-64ca-5728-b0f7-c24cf3aae800]\n",
      "\u001b[33m\u001b[1m┌ \u001b[22m\u001b[39m\u001b[33m\u001b[1mWarning: \u001b[22m\u001b[39mModule JLLWrappers with build ID ffffffff-ffff-ffff-0000-001e96752078 is missing from the cache.\n",
      "\u001b[33m\u001b[1m│ \u001b[22m\u001b[39mThis may mean JLLWrappers [692b3bcd-3c85-4b1f-b108-f13ce0eb3210] does not support precompilation but is imported by a module that does.\n",
      "\u001b[33m\u001b[1m└ \u001b[22m\u001b[39m\u001b[90m@ Base loading.jl:1758\u001b[39m\n",
      "\u001b[36m\u001b[1m[ \u001b[22m\u001b[39m\u001b[36m\u001b[1mInfo: \u001b[22m\u001b[39mSkipping precompilation since __precompile__(false). Importing XZ_jll [ffd25f8a-64ca-5728-b0f7-c24cf3aae800].\n",
      "\u001b[36m\u001b[1m[ \u001b[22m\u001b[39m\u001b[36m\u001b[1mInfo: \u001b[22m\u001b[39mPrecompiling Zstd_jll [3161d3a3-bdf6-5164-811a-617609db77b4]\n",
      "\u001b[33m\u001b[1m┌ \u001b[22m\u001b[39m\u001b[33m\u001b[1mWarning: \u001b[22m\u001b[39mModule JLLWrappers with build ID ffffffff-ffff-ffff-0000-001e96752078 is missing from the cache.\n",
      "\u001b[33m\u001b[1m│ \u001b[22m\u001b[39mThis may mean JLLWrappers [692b3bcd-3c85-4b1f-b108-f13ce0eb3210] does not support precompilation but is imported by a module that does.\n",
      "\u001b[33m\u001b[1m└ \u001b[22m\u001b[39m\u001b[90m@ Base loading.jl:1758\u001b[39m\n",
      "\u001b[36m\u001b[1m[ \u001b[22m\u001b[39m\u001b[36m\u001b[1mInfo: \u001b[22m\u001b[39mSkipping precompilation since __precompile__(false). Importing Zstd_jll [3161d3a3-bdf6-5164-811a-617609db77b4].\n",
      "\u001b[36m\u001b[1m[ \u001b[22m\u001b[39m\u001b[36m\u001b[1mInfo: \u001b[22m\u001b[39mPrecompiling Qt6Base_jll [c0090381-4147-56d7-9ebc-da0b1113ec56]\n",
      "\u001b[33m\u001b[1m┌ \u001b[22m\u001b[39m\u001b[33m\u001b[1mWarning: \u001b[22m\u001b[39mModule JLLWrappers with build ID ffffffff-ffff-ffff-0000-001e96752078 is missing from the cache.\n",
      "\u001b[33m\u001b[1m│ \u001b[22m\u001b[39mThis may mean JLLWrappers [692b3bcd-3c85-4b1f-b108-f13ce0eb3210] does not support precompilation but is imported by a module that does.\n",
      "\u001b[33m\u001b[1m└ \u001b[22m\u001b[39m\u001b[90m@ Base loading.jl:1758\u001b[39m\n",
      "\u001b[36m\u001b[1m[ \u001b[22m\u001b[39m\u001b[36m\u001b[1mInfo: \u001b[22m\u001b[39mSkipping precompilation since __precompile__(false). Importing Qt6Base_jll [c0090381-4147-56d7-9ebc-da0b1113ec56].\n",
      "\u001b[36m\u001b[1m[ \u001b[22m\u001b[39m\u001b[36m\u001b[1mInfo: \u001b[22m\u001b[39mPrecompiling libinput_jll [36db933b-70db-51c0-b978-0f229ee0e533]\n",
      "\u001b[33m\u001b[1m┌ \u001b[22m\u001b[39m\u001b[33m\u001b[1mWarning: \u001b[22m\u001b[39mModule JLLWrappers with build ID ffffffff-ffff-ffff-0000-001e96752078 is missing from the cache.\n",
      "\u001b[33m\u001b[1m│ \u001b[22m\u001b[39mThis may mean JLLWrappers [692b3bcd-3c85-4b1f-b108-f13ce0eb3210] does not support precompilation but is imported by a module that does.\n",
      "\u001b[33m\u001b[1m└ \u001b[22m\u001b[39m\u001b[90m@ Base loading.jl:1758\u001b[39m\n",
      "\u001b[36m\u001b[1m[ \u001b[22m\u001b[39m\u001b[36m\u001b[1mInfo: \u001b[22m\u001b[39mSkipping precompilation since __precompile__(false). Importing libinput_jll [36db933b-70db-51c0-b978-0f229ee0e533].\n",
      "\u001b[36m\u001b[1m[ \u001b[22m\u001b[39m\u001b[36m\u001b[1mInfo: \u001b[22m\u001b[39mPrecompiling Xorg_libXext_jll [1082639a-0dae-5f34-9b06-72781eeb8cb3]\n",
      "\u001b[33m\u001b[1m┌ \u001b[22m\u001b[39m\u001b[33m\u001b[1mWarning: \u001b[22m\u001b[39mModule JLLWrappers with build ID ffffffff-ffff-ffff-0000-001e96752078 is missing from the cache.\n",
      "\u001b[33m\u001b[1m│ \u001b[22m\u001b[39mThis may mean JLLWrappers [692b3bcd-3c85-4b1f-b108-f13ce0eb3210] does not support precompilation but is imported by a module that does.\n",
      "\u001b[33m\u001b[1m└ \u001b[22m\u001b[39m\u001b[90m@ Base loading.jl:1758\u001b[39m\n",
      "\u001b[36m\u001b[1m[ \u001b[22m\u001b[39m\u001b[36m\u001b[1mInfo: \u001b[22m\u001b[39mSkipping precompilation since __precompile__(false). Importing Xorg_libXext_jll [1082639a-0dae-5f34-9b06-72781eeb8cb3].\n",
      "\u001b[36m\u001b[1m[ \u001b[22m\u001b[39m\u001b[36m\u001b[1mInfo: \u001b[22m\u001b[39mPrecompiling Xorg_libxcb_jll [c7cfdc94-dc32-55de-ac96-5a1b8d977c5b]\n",
      "\u001b[33m\u001b[1m┌ \u001b[22m\u001b[39m\u001b[33m\u001b[1mWarning: \u001b[22m\u001b[39mModule JLLWrappers with build ID ffffffff-ffff-ffff-0000-001e96752078 is missing from the cache.\n",
      "\u001b[33m\u001b[1m│ \u001b[22m\u001b[39mThis may mean JLLWrappers [692b3bcd-3c85-4b1f-b108-f13ce0eb3210] does not support precompilation but is imported by a module that does.\n",
      "\u001b[33m\u001b[1m└ \u001b[22m\u001b[39m\u001b[90m@ Base loading.jl:1758\u001b[39m\n",
      "\u001b[36m\u001b[1m[ \u001b[22m\u001b[39m\u001b[36m\u001b[1mInfo: \u001b[22m\u001b[39mSkipping precompilation since __precompile__(false). Importing Xorg_libxcb_jll [c7cfdc94-dc32-55de-ac96-5a1b8d977c5b].\n",
      "\u001b[36m\u001b[1m[ \u001b[22m\u001b[39m\u001b[36m\u001b[1mInfo: \u001b[22m\u001b[39mPrecompiling Xorg_xcb_util_wm_jll [c22f9ab0-d5fe-5066-847c-f4bb1cd4e361]\n",
      "\u001b[33m\u001b[1m┌ \u001b[22m\u001b[39m\u001b[33m\u001b[1mWarning: \u001b[22m\u001b[39mModule JLLWrappers with build ID ffffffff-ffff-ffff-0000-001e96752078 is missing from the cache.\n",
      "\u001b[33m\u001b[1m│ \u001b[22m\u001b[39mThis may mean JLLWrappers [692b3bcd-3c85-4b1f-b108-f13ce0eb3210] does not support precompilation but is imported by a module that does.\n",
      "\u001b[33m\u001b[1m└ \u001b[22m\u001b[39m\u001b[90m@ Base loading.jl:1758\u001b[39m\n",
      "\u001b[36m\u001b[1m[ \u001b[22m\u001b[39m\u001b[36m\u001b[1mInfo: \u001b[22m\u001b[39mSkipping precompilation since __precompile__(false). Importing Xorg_xcb_util_wm_jll [c22f9ab0-d5fe-5066-847c-f4bb1cd4e361].\n",
      "\u001b[36m\u001b[1m[ \u001b[22m\u001b[39m\u001b[36m\u001b[1mInfo: \u001b[22m\u001b[39mPrecompiling Xorg_xcb_util_cursor_jll [e920d4aa-a673-5f3a-b3d7-f755a4d47c43]\n",
      "\u001b[33m\u001b[1m┌ \u001b[22m\u001b[39m\u001b[33m\u001b[1mWarning: \u001b[22m\u001b[39mModule JLLWrappers with build ID ffffffff-ffff-ffff-0000-001e96752078 is missing from the cache.\n",
      "\u001b[33m\u001b[1m│ \u001b[22m\u001b[39mThis may mean JLLWrappers [692b3bcd-3c85-4b1f-b108-f13ce0eb3210] does not support precompilation but is imported by a module that does.\n",
      "\u001b[33m\u001b[1m└ \u001b[22m\u001b[39m\u001b[90m@ Base loading.jl:1758\u001b[39m\n",
      "\u001b[36m\u001b[1m[ \u001b[22m\u001b[39m\u001b[36m\u001b[1mInfo: \u001b[22m\u001b[39mSkipping precompilation since __precompile__(false). Importing Xorg_xcb_util_cursor_jll [e920d4aa-a673-5f3a-b3d7-f755a4d47c43].\n",
      "\u001b[36m\u001b[1m[ \u001b[22m\u001b[39m\u001b[36m\u001b[1mInfo: \u001b[22m\u001b[39mPrecompiling Xorg_xcb_util_image_jll [12413925-8142-5f55-bb0e-6d7ca50bb09b]\n",
      "\u001b[33m\u001b[1m┌ \u001b[22m\u001b[39m\u001b[33m\u001b[1mWarning: \u001b[22m\u001b[39mModule JLLWrappers with build ID ffffffff-ffff-ffff-0000-001e96752078 is missing from the cache.\n",
      "\u001b[33m\u001b[1m│ \u001b[22m\u001b[39mThis may mean JLLWrappers [692b3bcd-3c85-4b1f-b108-f13ce0eb3210] does not support precompilation but is imported by a module that does.\n",
      "\u001b[33m\u001b[1m└ \u001b[22m\u001b[39m\u001b[90m@ Base loading.jl:1758\u001b[39m\n",
      "\u001b[36m\u001b[1m[ \u001b[22m\u001b[39m\u001b[36m\u001b[1mInfo: \u001b[22m\u001b[39mSkipping precompilation since __precompile__(false). Importing Xorg_xcb_util_image_jll [12413925-8142-5f55-bb0e-6d7ca50bb09b].\n",
      "\u001b[36m\u001b[1m[ \u001b[22m\u001b[39m\u001b[36m\u001b[1mInfo: \u001b[22m\u001b[39mPrecompiling Xorg_xcb_util_keysyms_jll [975044d2-76e6-5fbe-bf08-97ce7c6574c7]\n",
      "\u001b[33m\u001b[1m┌ \u001b[22m\u001b[39m\u001b[33m\u001b[1mWarning: \u001b[22m\u001b[39mModule JLLWrappers with build ID ffffffff-ffff-ffff-0000-001e96752078 is missing from the cache.\n",
      "\u001b[33m\u001b[1m│ \u001b[22m\u001b[39mThis may mean JLLWrappers [692b3bcd-3c85-4b1f-b108-f13ce0eb3210] does not support precompilation but is imported by a module that does.\n",
      "\u001b[33m\u001b[1m└ \u001b[22m\u001b[39m\u001b[90m@ Base loading.jl:1758\u001b[39m\n",
      "\u001b[36m\u001b[1m[ \u001b[22m\u001b[39m\u001b[36m\u001b[1mInfo: \u001b[22m\u001b[39mSkipping precompilation since __precompile__(false). Importing Xorg_xcb_util_keysyms_jll [975044d2-76e6-5fbe-bf08-97ce7c6574c7].\n",
      "\u001b[36m\u001b[1m[ \u001b[22m\u001b[39m\u001b[36m\u001b[1mInfo: \u001b[22m\u001b[39mPrecompiling Xorg_xcb_util_renderutil_jll [0d47668e-0667-5a69-a72c-f761630bfb7e]\n",
      "\u001b[33m\u001b[1m┌ \u001b[22m\u001b[39m\u001b[33m\u001b[1mWarning: \u001b[22m\u001b[39mModule JLLWrappers with build ID ffffffff-ffff-ffff-0000-001e96752078 is missing from the cache.\n",
      "\u001b[33m\u001b[1m│ \u001b[22m\u001b[39mThis may mean JLLWrappers [692b3bcd-3c85-4b1f-b108-f13ce0eb3210] does not support precompilation but is imported by a module that does.\n",
      "\u001b[33m\u001b[1m└ \u001b[22m\u001b[39m\u001b[90m@ Base loading.jl:1758\u001b[39m\n",
      "\u001b[36m\u001b[1m[ \u001b[22m\u001b[39m\u001b[36m\u001b[1mInfo: \u001b[22m\u001b[39mSkipping precompilation since __precompile__(false). Importing Xorg_xcb_util_renderutil_jll [0d47668e-0667-5a69-a72c-f761630bfb7e].\n",
      "\u001b[36m\u001b[1m[ \u001b[22m\u001b[39m\u001b[36m\u001b[1mInfo: \u001b[22m\u001b[39mPrecompiling Xorg_libXrender_jll [ea2f1a96-1ddc-540d-b46f-429655e07cfa]\n",
      "\u001b[33m\u001b[1m┌ \u001b[22m\u001b[39m\u001b[33m\u001b[1mWarning: \u001b[22m\u001b[39mModule JLLWrappers with build ID ffffffff-ffff-ffff-0000-001e96752078 is missing from the cache.\n",
      "\u001b[33m\u001b[1m│ \u001b[22m\u001b[39mThis may mean JLLWrappers [692b3bcd-3c85-4b1f-b108-f13ce0eb3210] does not support precompilation but is imported by a module that does.\n",
      "\u001b[33m\u001b[1m└ \u001b[22m\u001b[39m\u001b[90m@ Base loading.jl:1758\u001b[39m\n",
      "\u001b[36m\u001b[1m[ \u001b[22m\u001b[39m\u001b[36m\u001b[1mInfo: \u001b[22m\u001b[39mSkipping precompilation since __precompile__(false). Importing Xorg_libXrender_jll [ea2f1a96-1ddc-540d-b46f-429655e07cfa].\n",
      "\u001b[36m\u001b[1m[ \u001b[22m\u001b[39m\u001b[36m\u001b[1mInfo: \u001b[22m\u001b[39mPrecompiling xkbcommon_jll [d8fb68d0-12a3-5cfd-a85a-d49703b185fd]\n",
      "\u001b[33m\u001b[1m┌ \u001b[22m\u001b[39m\u001b[33m\u001b[1mWarning: \u001b[22m\u001b[39mModule JLLWrappers with build ID ffffffff-ffff-ffff-0000-001e96752078 is missing from the cache.\n",
      "\u001b[33m\u001b[1m│ \u001b[22m\u001b[39mThis may mean JLLWrappers [692b3bcd-3c85-4b1f-b108-f13ce0eb3210] does not support precompilation but is imported by a module that does.\n",
      "\u001b[33m\u001b[1m└ \u001b[22m\u001b[39m\u001b[90m@ Base loading.jl:1758\u001b[39m\n",
      "\u001b[36m\u001b[1m[ \u001b[22m\u001b[39m\u001b[36m\u001b[1mInfo: \u001b[22m\u001b[39mSkipping precompilation since __precompile__(false). Importing xkbcommon_jll [d8fb68d0-12a3-5cfd-a85a-d49703b185fd].\n",
      "\u001b[36m\u001b[1m[ \u001b[22m\u001b[39m\u001b[36m\u001b[1mInfo: \u001b[22m\u001b[39mPrecompiling Libglvnd_jll [7e76a0d4-f3c7-5321-8279-8d96eeed0f29]\n",
      "\u001b[33m\u001b[1m┌ \u001b[22m\u001b[39m\u001b[33m\u001b[1mWarning: \u001b[22m\u001b[39mModule JLLWrappers with build ID ffffffff-ffff-ffff-0000-001e96752078 is missing from the cache.\n",
      "\u001b[33m\u001b[1m│ \u001b[22m\u001b[39mThis may mean JLLWrappers [692b3bcd-3c85-4b1f-b108-f13ce0eb3210] does not support precompilation but is imported by a module that does.\n",
      "\u001b[33m\u001b[1m└ \u001b[22m\u001b[39m\u001b[90m@ Base loading.jl:1758\u001b[39m\n",
      "\u001b[36m\u001b[1m[ \u001b[22m\u001b[39m\u001b[36m\u001b[1mInfo: \u001b[22m\u001b[39mSkipping precompilation since __precompile__(false). Importing Libglvnd_jll [7e76a0d4-f3c7-5321-8279-8d96eeed0f29].\n",
      "\u001b[36m\u001b[1m[ \u001b[22m\u001b[39m\u001b[36m\u001b[1mInfo: \u001b[22m\u001b[39mPrecompiling Vulkan_Loader_jll [a44049a8-05dd-5a78-86c9-5fde0876e88c]\n",
      "\u001b[33m\u001b[1m┌ \u001b[22m\u001b[39m\u001b[33m\u001b[1mWarning: \u001b[22m\u001b[39mModule JLLWrappers with build ID ffffffff-ffff-ffff-0000-001e96752078 is missing from the cache.\n",
      "\u001b[33m\u001b[1m│ \u001b[22m\u001b[39mThis may mean JLLWrappers [692b3bcd-3c85-4b1f-b108-f13ce0eb3210] does not support precompilation but is imported by a module that does.\n",
      "\u001b[33m\u001b[1m└ \u001b[22m\u001b[39m\u001b[90m@ Base loading.jl:1758\u001b[39m\n",
      "\u001b[36m\u001b[1m[ \u001b[22m\u001b[39m\u001b[36m\u001b[1mInfo: \u001b[22m\u001b[39mSkipping precompilation since __precompile__(false). Importing Vulkan_Loader_jll [a44049a8-05dd-5a78-86c9-5fde0876e88c].\n",
      "\u001b[36m\u001b[1m[ \u001b[22m\u001b[39m\u001b[36m\u001b[1mInfo: \u001b[22m\u001b[39mPrecompiling UnitfulExt [0e51ec96-f580-5f12-a625-1297083d7970]\n",
      "\u001b[33m\u001b[1m┌ \u001b[22m\u001b[39m\u001b[33m\u001b[1mWarning: \u001b[22m\u001b[39mModule Plots with build ID ffffffff-ffff-ffff-0000-029bfed866ff is missing from the cache.\n",
      "\u001b[33m\u001b[1m│ \u001b[22m\u001b[39mThis may mean Plots [91a5bcdd-55d7-5caf-9e0b-520d859cae80] does not support precompilation but is imported by a module that does.\n",
      "\u001b[33m\u001b[1m└ \u001b[22m\u001b[39m\u001b[90m@ Base loading.jl:1758\u001b[39m\n",
      "\u001b[36m\u001b[1m[ \u001b[22m\u001b[39m\u001b[36m\u001b[1mInfo: \u001b[22m\u001b[39mSkipping precompilation since __precompile__(false). Importing UnitfulExt [0e51ec96-f580-5f12-a625-1297083d7970].\n",
      "\u001b[36m\u001b[1m[ \u001b[22m\u001b[39m\u001b[36m\u001b[1mInfo: \u001b[22m\u001b[39mPrecompiling IJuliaExt [2f4121a4-3b3a-5ce6-9c5e-1f2673ce168a]\n",
      "\u001b[33m\u001b[1m┌ \u001b[22m\u001b[39m\u001b[33m\u001b[1mWarning: \u001b[22m\u001b[39mModule Plots with build ID ffffffff-ffff-ffff-0000-029bfed866ff is missing from the cache.\n",
      "\u001b[33m\u001b[1m│ \u001b[22m\u001b[39mThis may mean Plots [91a5bcdd-55d7-5caf-9e0b-520d859cae80] does not support precompilation but is imported by a module that does.\n",
      "\u001b[33m\u001b[1m└ \u001b[22m\u001b[39m\u001b[90m@ Base loading.jl:1758\u001b[39m\n",
      "\u001b[36m\u001b[1m[ \u001b[22m\u001b[39m\u001b[36m\u001b[1mInfo: \u001b[22m\u001b[39mSkipping precompilation since __precompile__(false). Importing IJuliaExt [2f4121a4-3b3a-5ce6-9c5e-1f2673ce168a].\n",
      "WARNING: redefinition of constant T_kq. This may fail, cause incorrect answers, or produce other errors.\n",
      "\u001b[36m\u001b[1m[ \u001b[22m\u001b[39m\u001b[36m\u001b[1mInfo: \u001b[22m\u001b[39mPrecompiling OpticalBlochEquations [691d0331-80d3-41b1-b293-7891a6f4a14f]\n",
      "\u001b[33m\u001b[1m┌ \u001b[22m\u001b[39m\u001b[33m\u001b[1mWarning: \u001b[22m\u001b[39mModule LoopVectorization with build ID ffffffff-ffff-ffff-0000-029615de7eba is missing from the cache.\n",
      "\u001b[33m\u001b[1m│ \u001b[22m\u001b[39mThis may mean LoopVectorization [bdcacae8-1622-11e9-2a5c-532679323890] does not support precompilation but is imported by a module that does.\n",
      "\u001b[33m\u001b[1m└ \u001b[22m\u001b[39m\u001b[90m@ Base loading.jl:1758\u001b[39m\n",
      "\u001b[36m\u001b[1m[ \u001b[22m\u001b[39m\u001b[36m\u001b[1mInfo: \u001b[22m\u001b[39mSkipping precompilation since __precompile__(false). Importing OpticalBlochEquations [691d0331-80d3-41b1-b293-7891a6f4a14f].\n",
      "\u001b[36m\u001b[1m[ \u001b[22m\u001b[39m\u001b[36m\u001b[1mInfo: \u001b[22m\u001b[39mPrecompiling DifferentialEquations [0c46a032-eb83-5123-abaf-570d42b7fbaa]\n",
      "\u001b[33m\u001b[1m┌ \u001b[22m\u001b[39m\u001b[33m\u001b[1mWarning: \u001b[22m\u001b[39mModule PrecompileTools with build ID ffffffff-ffff-ffff-0000-002073cca126 is missing from the cache.\n",
      "\u001b[33m\u001b[1m│ \u001b[22m\u001b[39mThis may mean PrecompileTools [aea7be01-6a6a-4083-8856-8a6e6704d82a] does not support precompilation but is imported by a module that does.\n",
      "\u001b[33m\u001b[1m└ \u001b[22m\u001b[39m\u001b[90m@ Base loading.jl:1758\u001b[39m\n",
      "\u001b[33m\u001b[1m┌ \u001b[22m\u001b[39m\u001b[33m\u001b[1mWarning: \u001b[22m\u001b[39mModule PrecompileTools with build ID ffffffff-ffff-ffff-0000-002073cca126 is missing from the cache.\n",
      "\u001b[33m\u001b[1m│ \u001b[22m\u001b[39mThis may mean PrecompileTools [aea7be01-6a6a-4083-8856-8a6e6704d82a] does not support precompilation but is imported by a module that does.\n",
      "\u001b[33m\u001b[1m└ \u001b[22m\u001b[39m\u001b[90m@ Base loading.jl:1758\u001b[39m\n",
      "\u001b[36m\u001b[1m[ \u001b[22m\u001b[39m\u001b[36m\u001b[1mInfo: \u001b[22m\u001b[39mSkipping precompilation since __precompile__(false). Importing DifferentialEquations [0c46a032-eb83-5123-abaf-570d42b7fbaa].\n",
      "\u001b[36m\u001b[1m[ \u001b[22m\u001b[39m\u001b[36m\u001b[1mInfo: \u001b[22m\u001b[39mPrecompiling DiffEqBase [2b5f629d-d688-5b77-993f-72d75c75574e]\n",
      "\u001b[33m\u001b[1m┌ \u001b[22m\u001b[39m\u001b[33m\u001b[1mWarning: \u001b[22m\u001b[39mModule PrecompileTools with build ID ffffffff-ffff-ffff-0000-002073cca126 is missing from the cache.\n",
      "\u001b[33m\u001b[1m│ \u001b[22m\u001b[39mThis may mean PrecompileTools [aea7be01-6a6a-4083-8856-8a6e6704d82a] does not support precompilation but is imported by a module that does.\n",
      "\u001b[33m\u001b[1m└ \u001b[22m\u001b[39m\u001b[90m@ Base loading.jl:1758\u001b[39m\n",
      "\u001b[36m\u001b[1m[ \u001b[22m\u001b[39m\u001b[36m\u001b[1mInfo: \u001b[22m\u001b[39mSkipping precompilation since __precompile__(false). Importing DiffEqBase [2b5f629d-d688-5b77-993f-72d75c75574e].\n",
      "\u001b[36m\u001b[1m[ \u001b[22m\u001b[39m\u001b[36m\u001b[1mInfo: \u001b[22m\u001b[39mPrecompiling FastBroadcast [7034ab61-46d4-4ed7-9d0f-46aef9175898]\n",
      "\u001b[33m\u001b[1m┌ \u001b[22m\u001b[39m\u001b[33m\u001b[1mWarning: \u001b[22m\u001b[39mModule StaticArrayInterface with build ID ffffffff-ffff-ffff-0000-0296e73175a2 is missing from the cache.\n",
      "\u001b[33m\u001b[1m│ \u001b[22m\u001b[39mThis may mean StaticArrayInterface [0d7ed370-da01-4f52-bd93-41d350b8b718] does not support precompilation but is imported by a module that does.\n",
      "\u001b[33m\u001b[1m└ \u001b[22m\u001b[39m\u001b[90m@ Base loading.jl:1758\u001b[39m\n",
      "\u001b[36m\u001b[1m[ \u001b[22m\u001b[39m\u001b[36m\u001b[1mInfo: \u001b[22m\u001b[39mSkipping precompilation since __precompile__(false). Importing FastBroadcast [7034ab61-46d4-4ed7-9d0f-46aef9175898].\n",
      "\u001b[36m\u001b[1m[ \u001b[22m\u001b[39m\u001b[36m\u001b[1mInfo: \u001b[22m\u001b[39mPrecompiling Polyester [f517fe37-dbe3-4b94-8317-1923a5111588]\n",
      "\u001b[33m\u001b[1m┌ \u001b[22m\u001b[39m\u001b[33m\u001b[1mWarning: \u001b[22m\u001b[39mModule StaticArrayInterface with build ID ffffffff-ffff-ffff-0000-0296e73175a2 is missing from the cache.\n",
      "\u001b[33m\u001b[1m│ \u001b[22m\u001b[39mThis may mean StaticArrayInterface [0d7ed370-da01-4f52-bd93-41d350b8b718] does not support precompilation but is imported by a module that does.\n",
      "\u001b[33m\u001b[1m└ \u001b[22m\u001b[39m\u001b[90m@ Base loading.jl:1758\u001b[39m\n",
      "\u001b[36m\u001b[1m[ \u001b[22m\u001b[39m\u001b[36m\u001b[1mInfo: \u001b[22m\u001b[39mSkipping precompilation since __precompile__(false). Importing Polyester [f517fe37-dbe3-4b94-8317-1923a5111588].\n",
      "\u001b[36m\u001b[1m[ \u001b[22m\u001b[39m\u001b[36m\u001b[1mInfo: \u001b[22m\u001b[39mPrecompiling StrideArraysCore [7792a7ef-975c-4747-a70f-980b88e8d1da]\n",
      "\u001b[33m\u001b[1m┌ \u001b[22m\u001b[39m\u001b[33m\u001b[1mWarning: \u001b[22m\u001b[39mModule LayoutPointers with build ID ffffffff-ffff-ffff-0000-02973a30660e is missing from the cache.\n",
      "\u001b[33m\u001b[1m│ \u001b[22m\u001b[39mThis may mean LayoutPointers [10f19ff3-798f-405d-979b-55457f8fc047] does not support precompilation but is imported by a module that does.\n",
      "\u001b[33m\u001b[1m└ \u001b[22m\u001b[39m\u001b[90m@ Base loading.jl:1758\u001b[39m\n",
      "\u001b[36m\u001b[1m[ \u001b[22m\u001b[39m\u001b[36m\u001b[1mInfo: \u001b[22m\u001b[39mSkipping precompilation since __precompile__(false). Importing StrideArraysCore [7792a7ef-975c-4747-a70f-980b88e8d1da].\n",
      "\u001b[36m\u001b[1m[ \u001b[22m\u001b[39m\u001b[36m\u001b[1mInfo: \u001b[22m\u001b[39mPrecompiling RecursiveArrayTools [731186ca-8d62-57ce-b412-fbd966d074cd]\n",
      "\u001b[33m\u001b[1m┌ \u001b[22m\u001b[39m\u001b[33m\u001b[1mWarning: \u001b[22m\u001b[39mModule RecipesBase with build ID ffffffff-ffff-ffff-0000-029c1909f030 is missing from the cache.\n",
      "\u001b[33m\u001b[1m│ \u001b[22m\u001b[39mThis may mean RecipesBase [3cdcf5f2-1ef4-517c-9805-6587b60abb01] does not support precompilation but is imported by a module that does.\n",
      "\u001b[33m\u001b[1m└ \u001b[22m\u001b[39m\u001b[90m@ Base loading.jl:1758\u001b[39m\n",
      "\u001b[36m\u001b[1m[ \u001b[22m\u001b[39m\u001b[36m\u001b[1mInfo: \u001b[22m\u001b[39mSkipping precompilation since __precompile__(false). Importing RecursiveArrayTools [731186ca-8d62-57ce-b412-fbd966d074cd].\n",
      "\u001b[36m\u001b[1m[ \u001b[22m\u001b[39m\u001b[36m\u001b[1mInfo: \u001b[22m\u001b[39mPrecompiling RecursiveArrayToolsMeasurementsExt [dc05e6ec-7185-572c-9405-d65ccff0d4b4]\n",
      "\u001b[33m\u001b[1m┌ \u001b[22m\u001b[39m\u001b[33m\u001b[1mWarning: \u001b[22m\u001b[39mModule RecursiveArrayTools with build ID ffffffff-ffff-ffff-0000-02ad721c2daf is missing from the cache.\n",
      "\u001b[33m\u001b[1m│ \u001b[22m\u001b[39mThis may mean RecursiveArrayTools [731186ca-8d62-57ce-b412-fbd966d074cd] does not support precompilation but is imported by a module that does.\n",
      "\u001b[33m\u001b[1m└ \u001b[22m\u001b[39m\u001b[90m@ Base loading.jl:1758\u001b[39m\n",
      "\u001b[36m\u001b[1m[ \u001b[22m\u001b[39m\u001b[36m\u001b[1mInfo: \u001b[22m\u001b[39mSkipping precompilation since __precompile__(false). Importing RecursiveArrayToolsMeasurementsExt [dc05e6ec-7185-572c-9405-d65ccff0d4b4].\n",
      "\u001b[36m\u001b[1m[ \u001b[22m\u001b[39m\u001b[36m\u001b[1mInfo: \u001b[22m\u001b[39mPrecompiling ForwardDiff [f6369f11-7733-5829-9624-2563aa707210]\n",
      "\u001b[33m\u001b[1m┌ \u001b[22m\u001b[39m\u001b[33m\u001b[1mWarning: \u001b[22m\u001b[39mModule Preferences with build ID fafbfcfd-a29d-25ff-0000-001411ae0285 is missing from the cache.\n",
      "\u001b[33m\u001b[1m│ \u001b[22m\u001b[39mThis may mean Preferences [21216c6a-2e73-6563-6e65-726566657250] does not support precompilation but is imported by a module that does.\n",
      "\u001b[33m\u001b[1m└ \u001b[22m\u001b[39m\u001b[90m@ Base loading.jl:1758\u001b[39m\n",
      "\u001b[36m\u001b[1m[ \u001b[22m\u001b[39m\u001b[36m\u001b[1mInfo: \u001b[22m\u001b[39mSkipping precompilation since __precompile__(false). Importing ForwardDiff [f6369f11-7733-5829-9624-2563aa707210].\n",
      "\u001b[36m\u001b[1m[ \u001b[22m\u001b[39m\u001b[36m\u001b[1mInfo: \u001b[22m\u001b[39mPrecompiling RootsForwardDiffExt [a63bd285-541a-50a0-818b-605bb84ce7b2]\n",
      "\u001b[33m\u001b[1m┌ \u001b[22m\u001b[39m\u001b[33m\u001b[1mWarning: \u001b[22m\u001b[39mModule ForwardDiff with build ID ffffffff-ffff-ffff-0000-02adba1f6d23 is missing from the cache.\n",
      "\u001b[33m\u001b[1m│ \u001b[22m\u001b[39mThis may mean ForwardDiff [f6369f11-7733-5829-9624-2563aa707210] does not support precompilation but is imported by a module that does.\n",
      "\u001b[33m\u001b[1m└ \u001b[22m\u001b[39m\u001b[90m@ Base loading.jl:1758\u001b[39m\n",
      "\u001b[36m\u001b[1m[ \u001b[22m\u001b[39m\u001b[36m\u001b[1mInfo: \u001b[22m\u001b[39mSkipping precompilation since __precompile__(false). Importing RootsForwardDiffExt [a63bd285-541a-50a0-818b-605bb84ce7b2].\n",
      "\u001b[36m\u001b[1m[ \u001b[22m\u001b[39m\u001b[36m\u001b[1mInfo: \u001b[22m\u001b[39mPrecompiling ForwardDiffExt [4b8ca102-9d0f-5df8-84ed-253e0f005ba7]\n",
      "\u001b[33m\u001b[1m┌ \u001b[22m\u001b[39m\u001b[33m\u001b[1mWarning: \u001b[22m\u001b[39mModule ForwardDiff with build ID ffffffff-ffff-ffff-0000-02adba1f6d23 is missing from the cache.\n",
      "\u001b[33m\u001b[1m│ \u001b[22m\u001b[39mThis may mean ForwardDiff [f6369f11-7733-5829-9624-2563aa707210] does not support precompilation but is imported by a module that does.\n",
      "\u001b[33m\u001b[1m└ \u001b[22m\u001b[39m\u001b[90m@ Base loading.jl:1758\u001b[39m\n",
      "\u001b[36m\u001b[1m[ \u001b[22m\u001b[39m\u001b[36m\u001b[1mInfo: \u001b[22m\u001b[39mSkipping precompilation since __precompile__(false). Importing ForwardDiffExt [4b8ca102-9d0f-5df8-84ed-253e0f005ba7].\n",
      "\u001b[36m\u001b[1m[ \u001b[22m\u001b[39m\u001b[36m\u001b[1mInfo: \u001b[22m\u001b[39mPrecompiling ForwardDiffStaticArraysExt [b74fd6d0-9da7-541f-a07d-1b6af30a262f]\n",
      "\u001b[33m\u001b[1m┌ \u001b[22m\u001b[39m\u001b[33m\u001b[1mWarning: \u001b[22m\u001b[39mModule ForwardDiff with build ID ffffffff-ffff-ffff-0000-02adba1f6d23 is missing from the cache.\n",
      "\u001b[33m\u001b[1m│ \u001b[22m\u001b[39mThis may mean ForwardDiff [f6369f11-7733-5829-9624-2563aa707210] does not support precompilation but is imported by a module that does.\n",
      "\u001b[33m\u001b[1m└ \u001b[22m\u001b[39m\u001b[90m@ Base loading.jl:1758\u001b[39m\n",
      "\u001b[36m\u001b[1m[ \u001b[22m\u001b[39m\u001b[36m\u001b[1mInfo: \u001b[22m\u001b[39mSkipping precompilation since __precompile__(false). Importing ForwardDiffStaticArraysExt [b74fd6d0-9da7-541f-a07d-1b6af30a262f].\n",
      "\u001b[36m\u001b[1m[ \u001b[22m\u001b[39m\u001b[36m\u001b[1mInfo: \u001b[22m\u001b[39mPrecompiling PreallocationTools [d236fae5-4411-538c-8e31-a6e3d9e00b46]\n",
      "\u001b[33m\u001b[1m┌ \u001b[22m\u001b[39m\u001b[33m\u001b[1mWarning: \u001b[22m\u001b[39mModule ForwardDiff with build ID ffffffff-ffff-ffff-0000-02adba1f6d23 is missing from the cache.\n",
      "\u001b[33m\u001b[1m│ \u001b[22m\u001b[39mThis may mean ForwardDiff [f6369f11-7733-5829-9624-2563aa707210] does not support precompilation but is imported by a module that does.\n",
      "\u001b[33m\u001b[1m└ \u001b[22m\u001b[39m\u001b[90m@ Base loading.jl:1758\u001b[39m\n",
      "\u001b[36m\u001b[1m[ \u001b[22m\u001b[39m\u001b[36m\u001b[1mInfo: \u001b[22m\u001b[39mSkipping precompilation since __precompile__(false). Importing PreallocationTools [d236fae5-4411-538c-8e31-a6e3d9e00b46].\n",
      "\u001b[36m\u001b[1m[ \u001b[22m\u001b[39m\u001b[36m\u001b[1mInfo: \u001b[22m\u001b[39mPrecompiling SciMLBase [0bca4576-84f4-4d90-8ffe-ffa030f20462]\n",
      "\u001b[33m\u001b[1m┌ \u001b[22m\u001b[39m\u001b[33m\u001b[1mWarning: \u001b[22m\u001b[39mModule RecipesBase with build ID ffffffff-ffff-ffff-0000-029c1909f030 is missing from the cache.\n",
      "\u001b[33m\u001b[1m│ \u001b[22m\u001b[39mThis may mean RecipesBase [3cdcf5f2-1ef4-517c-9805-6587b60abb01] does not support precompilation but is imported by a module that does.\n",
      "\u001b[33m\u001b[1m└ \u001b[22m\u001b[39m\u001b[90m@ Base loading.jl:1758\u001b[39m\n",
      "\u001b[36m\u001b[1m[ \u001b[22m\u001b[39m\u001b[36m\u001b[1mInfo: \u001b[22m\u001b[39mSkipping precompilation since __precompile__(false). Importing SciMLBase [0bca4576-84f4-4d90-8ffe-ffa030f20462].\n",
      "\u001b[36m\u001b[1m[ \u001b[22m\u001b[39m\u001b[36m\u001b[1mInfo: \u001b[22m\u001b[39mPrecompiling DiffEqBaseUnitfulExt [aeb06bb4-539b-5a1b-8332-034ed9f8ca66]\n",
      "\u001b[33m\u001b[1m┌ \u001b[22m\u001b[39m\u001b[33m\u001b[1mWarning: \u001b[22m\u001b[39mModule DiffEqBase with build ID ffffffff-ffff-ffff-0000-02acd6a9d1cc is missing from the cache.\n",
      "\u001b[33m\u001b[1m│ \u001b[22m\u001b[39mThis may mean DiffEqBase [2b5f629d-d688-5b77-993f-72d75c75574e] does not support precompilation but is imported by a module that does.\n",
      "\u001b[33m\u001b[1m└ \u001b[22m\u001b[39m\u001b[90m@ Base loading.jl:1758\u001b[39m\n",
      "\u001b[36m\u001b[1m[ \u001b[22m\u001b[39m\u001b[36m\u001b[1mInfo: \u001b[22m\u001b[39mSkipping precompilation since __precompile__(false). Importing DiffEqBaseUnitfulExt [aeb06bb4-539b-5a1b-8332-034ed9f8ca66].\n",
      "\u001b[36m\u001b[1m[ \u001b[22m\u001b[39m\u001b[36m\u001b[1mInfo: \u001b[22m\u001b[39mPrecompiling DiffEqBaseMeasurementsExt [f030c83e-7d7f-544f-a855-333e4a237e34]\n",
      "\u001b[33m\u001b[1m┌ \u001b[22m\u001b[39m\u001b[33m\u001b[1mWarning: \u001b[22m\u001b[39mModule DiffEqBase with build ID ffffffff-ffff-ffff-0000-02acd6a9d1cc is missing from the cache.\n",
      "\u001b[33m\u001b[1m│ \u001b[22m\u001b[39mThis may mean DiffEqBase [2b5f629d-d688-5b77-993f-72d75c75574e] does not support precompilation but is imported by a module that does.\n",
      "\u001b[33m\u001b[1m└ \u001b[22m\u001b[39m\u001b[90m@ Base loading.jl:1758\u001b[39m\n",
      "\u001b[36m\u001b[1m[ \u001b[22m\u001b[39m\u001b[36m\u001b[1mInfo: \u001b[22m\u001b[39mSkipping precompilation since __precompile__(false). Importing DiffEqBaseMeasurementsExt [f030c83e-7d7f-544f-a855-333e4a237e34].\n",
      "\u001b[36m\u001b[1m[ \u001b[22m\u001b[39m\u001b[36m\u001b[1mInfo: \u001b[22m\u001b[39mPrecompiling DiffEqNoiseProcess [77a26b50-5914-5dd7-bc55-306e6241c503]\n",
      "\u001b[33m\u001b[1m┌ \u001b[22m\u001b[39m\u001b[33m\u001b[1mWarning: \u001b[22m\u001b[39mModule DiffEqBase with build ID ffffffff-ffff-ffff-0000-02acd6a9d1cc is missing from the cache.\n",
      "\u001b[33m\u001b[1m│ \u001b[22m\u001b[39mThis may mean DiffEqBase [2b5f629d-d688-5b77-993f-72d75c75574e] does not support precompilation but is imported by a module that does.\n",
      "\u001b[33m\u001b[1m└ \u001b[22m\u001b[39m\u001b[90m@ Base loading.jl:1758\u001b[39m\n",
      "\u001b[36m\u001b[1m[ \u001b[22m\u001b[39m\u001b[36m\u001b[1mInfo: \u001b[22m\u001b[39mSkipping precompilation since __precompile__(false). Importing DiffEqNoiseProcess [77a26b50-5914-5dd7-bc55-306e6241c503].\n",
      "\u001b[36m\u001b[1m[ \u001b[22m\u001b[39m\u001b[36m\u001b[1mInfo: \u001b[22m\u001b[39mPrecompiling Distributions [31c24e10-a181-5473-b8eb-7969acd0382f]\n",
      "\u001b[33m\u001b[1m┌ \u001b[22m\u001b[39m\u001b[33m\u001b[1mWarning: \u001b[22m\u001b[39mModule SpecialFunctions with build ID ffffffff-ffff-ffff-0000-029e3a496da8 is missing from the cache.\n",
      "\u001b[33m\u001b[1m│ \u001b[22m\u001b[39mThis may mean SpecialFunctions [276daf66-3868-5448-9aa4-cd146d93841b] does not support precompilation but is imported by a module that does.\n",
      "\u001b[33m\u001b[1m└ \u001b[22m\u001b[39m\u001b[90m@ Base loading.jl:1758\u001b[39m\n",
      "\u001b[33m\u001b[1m┌ \u001b[22m\u001b[39m\u001b[33m\u001b[1mWarning: \u001b[22m\u001b[39mModule SpecialFunctions with build ID ffffffff-ffff-ffff-0000-029e3a496da8 is missing from the cache.\n",
      "\u001b[33m\u001b[1m│ \u001b[22m\u001b[39mThis may mean SpecialFunctions [276daf66-3868-5448-9aa4-cd146d93841b] does not support precompilation but is imported by a module that does.\n",
      "\u001b[33m\u001b[1m└ \u001b[22m\u001b[39m\u001b[90m@ Base loading.jl:1758\u001b[39m\n",
      "\u001b[36m\u001b[1m[ \u001b[22m\u001b[39m\u001b[36m\u001b[1mInfo: \u001b[22m\u001b[39mSkipping precompilation since __precompile__(false). Importing Distributions [31c24e10-a181-5473-b8eb-7969acd0382f].\n",
      "\u001b[36m\u001b[1m[ \u001b[22m\u001b[39m\u001b[36m\u001b[1mInfo: \u001b[22m\u001b[39mPrecompiling StatsFuns [4c63d2b9-4356-54db-8cca-17b64c39e42c]\n",
      "\u001b[33m\u001b[1m┌ \u001b[22m\u001b[39m\u001b[33m\u001b[1mWarning: \u001b[22m\u001b[39mModule SpecialFunctions with build ID ffffffff-ffff-ffff-0000-029e3a496da8 is missing from the cache.\n",
      "\u001b[33m\u001b[1m│ \u001b[22m\u001b[39mThis may mean SpecialFunctions [276daf66-3868-5448-9aa4-cd146d93841b] does not support precompilation but is imported by a module that does.\n",
      "\u001b[33m\u001b[1m└ \u001b[22m\u001b[39m\u001b[90m@ Base loading.jl:1758\u001b[39m\n",
      "\u001b[36m\u001b[1m[ \u001b[22m\u001b[39m\u001b[36m\u001b[1mInfo: \u001b[22m\u001b[39mSkipping precompilation since __precompile__(false). Importing StatsFuns [4c63d2b9-4356-54db-8cca-17b64c39e42c].\n",
      "\u001b[36m\u001b[1m[ \u001b[22m\u001b[39m\u001b[36m\u001b[1mInfo: \u001b[22m\u001b[39mPrecompiling Rmath [79098fc4-a85e-5d69-aa6a-4863f24498fa]\n",
      "\u001b[33m\u001b[1m┌ \u001b[22m\u001b[39m\u001b[33m\u001b[1mWarning: \u001b[22m\u001b[39mModule JLLWrappers with build ID ffffffff-ffff-ffff-0000-001e96752078 is missing from the cache.\n",
      "\u001b[33m\u001b[1m│ \u001b[22m\u001b[39mThis may mean JLLWrappers [692b3bcd-3c85-4b1f-b108-f13ce0eb3210] does not support precompilation but is imported by a module that does.\n",
      "\u001b[33m\u001b[1m└ \u001b[22m\u001b[39m\u001b[90m@ Base loading.jl:1758\u001b[39m\n",
      "\u001b[33m\u001b[1m┌ \u001b[22m\u001b[39m\u001b[33m\u001b[1mWarning: \u001b[22m\u001b[39mModule JLLWrappers with build ID ffffffff-ffff-ffff-0000-001e96752078 is missing from the cache.\n",
      "\u001b[33m\u001b[1m│ \u001b[22m\u001b[39mThis may mean JLLWrappers [692b3bcd-3c85-4b1f-b108-f13ce0eb3210] does not support precompilation but is imported by a module that does.\n",
      "\u001b[33m\u001b[1m└ \u001b[22m\u001b[39m\u001b[90m@ Base loading.jl:1758\u001b[39m\n",
      "\u001b[36m\u001b[1m[ \u001b[22m\u001b[39m\u001b[36m\u001b[1mInfo: \u001b[22m\u001b[39mSkipping precompilation since __precompile__(false). Importing Rmath [79098fc4-a85e-5d69-aa6a-4863f24498fa].\n",
      "\u001b[36m\u001b[1m[ \u001b[22m\u001b[39m\u001b[36m\u001b[1mInfo: \u001b[22m\u001b[39mPrecompiling Rmath_jll [f50d1b31-88e8-58de-be2c-1cc44531875f]\n",
      "\u001b[33m\u001b[1m┌ \u001b[22m\u001b[39m\u001b[33m\u001b[1mWarning: \u001b[22m\u001b[39mModule JLLWrappers with build ID ffffffff-ffff-ffff-0000-001e96752078 is missing from the cache.\n",
      "\u001b[33m\u001b[1m│ \u001b[22m\u001b[39mThis may mean JLLWrappers [692b3bcd-3c85-4b1f-b108-f13ce0eb3210] does not support precompilation but is imported by a module that does.\n",
      "\u001b[33m\u001b[1m└ \u001b[22m\u001b[39m\u001b[90m@ Base loading.jl:1758\u001b[39m\n",
      "\u001b[36m\u001b[1m[ \u001b[22m\u001b[39m\u001b[36m\u001b[1mInfo: \u001b[22m\u001b[39mSkipping precompilation since __precompile__(false). Importing Rmath_jll [f50d1b31-88e8-58de-be2c-1cc44531875f].\n",
      "\u001b[36m\u001b[1m[ \u001b[22m\u001b[39m\u001b[36m\u001b[1mInfo: \u001b[22m\u001b[39mPrecompiling HypergeometricFunctions [34004b35-14d8-5ef3-9330-4cdb6864b03a]\n",
      "\u001b[33m\u001b[1m┌ \u001b[22m\u001b[39m\u001b[33m\u001b[1mWarning: \u001b[22m\u001b[39mModule SpecialFunctions with build ID ffffffff-ffff-ffff-0000-029e3a496da8 is missing from the cache.\n",
      "\u001b[33m\u001b[1m│ \u001b[22m\u001b[39mThis may mean SpecialFunctions [276daf66-3868-5448-9aa4-cd146d93841b] does not support precompilation but is imported by a module that does.\n",
      "\u001b[33m\u001b[1m└ \u001b[22m\u001b[39m\u001b[90m@ Base loading.jl:1758\u001b[39m\n",
      "\u001b[33m\u001b[1m┌ \u001b[22m\u001b[39m\u001b[33m\u001b[1mWarning: \u001b[22m\u001b[39mModule SpecialFunctions with build ID ffffffff-ffff-ffff-0000-029e3a496da8 is missing from the cache.\n",
      "\u001b[33m\u001b[1m│ \u001b[22m\u001b[39mThis may mean SpecialFunctions [276daf66-3868-5448-9aa4-cd146d93841b] does not support precompilation but is imported by a module that does.\n",
      "\u001b[33m\u001b[1m└ \u001b[22m\u001b[39m\u001b[90m@ Base loading.jl:1758\u001b[39m\n",
      "\u001b[36m\u001b[1m[ \u001b[22m\u001b[39m\u001b[36m\u001b[1mInfo: \u001b[22m\u001b[39mSkipping precompilation since __precompile__(false). Importing HypergeometricFunctions [34004b35-14d8-5ef3-9330-4cdb6864b03a].\n",
      "\u001b[36m\u001b[1m[ \u001b[22m\u001b[39m\u001b[36m\u001b[1mInfo: \u001b[22m\u001b[39mPrecompiling DualNumbers [fa6b7ba4-c1ee-5f82-b5fc-ecf0adba8f74]\n",
      "\u001b[33m\u001b[1m┌ \u001b[22m\u001b[39m\u001b[33m\u001b[1mWarning: \u001b[22m\u001b[39mModule SpecialFunctions with build ID ffffffff-ffff-ffff-0000-029e3a496da8 is missing from the cache.\n",
      "\u001b[33m\u001b[1m│ \u001b[22m\u001b[39mThis may mean SpecialFunctions [276daf66-3868-5448-9aa4-cd146d93841b] does not support precompilation but is imported by a module that does.\n",
      "\u001b[33m\u001b[1m└ \u001b[22m\u001b[39m\u001b[90m@ Base loading.jl:1758\u001b[39m\n",
      "\u001b[36m\u001b[1m[ \u001b[22m\u001b[39m\u001b[36m\u001b[1mInfo: \u001b[22m\u001b[39mSkipping precompilation since __precompile__(false). Importing DualNumbers [fa6b7ba4-c1ee-5f82-b5fc-ecf0adba8f74].\n",
      "\u001b[36m\u001b[1m[ \u001b[22m\u001b[39m\u001b[36m\u001b[1mInfo: \u001b[22m\u001b[39mPrecompiling StatsFunsChainRulesCoreExt [d41313fe-2684-5453-9fef-703f5fa397f4]\n",
      "\u001b[33m\u001b[1m┌ \u001b[22m\u001b[39m\u001b[33m\u001b[1mWarning: \u001b[22m\u001b[39mModule StatsFuns with build ID ffffffff-ffff-ffff-0000-02b119b2a70b is missing from the cache.\n",
      "\u001b[33m\u001b[1m│ \u001b[22m\u001b[39mThis may mean StatsFuns [4c63d2b9-4356-54db-8cca-17b64c39e42c] does not support precompilation but is imported by a module that does.\n",
      "\u001b[33m\u001b[1m└ \u001b[22m\u001b[39m\u001b[90m@ Base loading.jl:1758\u001b[39m\n",
      "\u001b[36m\u001b[1m[ \u001b[22m\u001b[39m\u001b[36m\u001b[1mInfo: \u001b[22m\u001b[39mSkipping precompilation since __precompile__(false). Importing StatsFunsChainRulesCoreExt [d41313fe-2684-5453-9fef-703f5fa397f4].\n",
      "\u001b[36m\u001b[1m[ \u001b[22m\u001b[39m\u001b[36m\u001b[1mInfo: \u001b[22m\u001b[39mPrecompiling DiffEqBaseDistributionsExt [24f3332a-0dc5-5d65-94b6-25e75cab9690]\n",
      "\u001b[33m\u001b[1m┌ \u001b[22m\u001b[39m\u001b[33m\u001b[1mWarning: \u001b[22m\u001b[39mModule Distributions with build ID ffffffff-ffff-ffff-0000-02b0fd8cf59e is missing from the cache.\n",
      "\u001b[33m\u001b[1m│ \u001b[22m\u001b[39mThis may mean Distributions [31c24e10-a181-5473-b8eb-7969acd0382f] does not support precompilation but is imported by a module that does.\n",
      "\u001b[33m\u001b[1m└ \u001b[22m\u001b[39m\u001b[90m@ Base loading.jl:1758\u001b[39m\n",
      "\u001b[36m\u001b[1m[ \u001b[22m\u001b[39m\u001b[36m\u001b[1mInfo: \u001b[22m\u001b[39mSkipping precompilation since __precompile__(false). Importing DiffEqBaseDistributionsExt [24f3332a-0dc5-5d65-94b6-25e75cab9690].\n",
      "\u001b[36m\u001b[1m[ \u001b[22m\u001b[39m\u001b[36m\u001b[1mInfo: \u001b[22m\u001b[39mPrecompiling DistributionsChainRulesCoreExt [6db1f127-056a-568b-bd49-ae61d42389fa]\n",
      "\u001b[33m\u001b[1m┌ \u001b[22m\u001b[39m\u001b[33m\u001b[1mWarning: \u001b[22m\u001b[39mModule Distributions with build ID ffffffff-ffff-ffff-0000-02b0fd8cf59e is missing from the cache.\n",
      "\u001b[33m\u001b[1m│ \u001b[22m\u001b[39mThis may mean Distributions [31c24e10-a181-5473-b8eb-7969acd0382f] does not support precompilation but is imported by a module that does.\n",
      "\u001b[33m\u001b[1m└ \u001b[22m\u001b[39m\u001b[90m@ Base loading.jl:1758\u001b[39m\n",
      "\u001b[36m\u001b[1m[ \u001b[22m\u001b[39m\u001b[36m\u001b[1mInfo: \u001b[22m\u001b[39mSkipping precompilation since __precompile__(false). Importing DistributionsChainRulesCoreExt [6db1f127-056a-568b-bd49-ae61d42389fa].\n",
      "\u001b[36m\u001b[1m[ \u001b[22m\u001b[39m\u001b[36m\u001b[1mInfo: \u001b[22m\u001b[39mPrecompiling Optim [429524aa-4258-5aef-a3af-852621145aeb]\n",
      "\u001b[33m\u001b[1m┌ \u001b[22m\u001b[39m\u001b[33m\u001b[1mWarning: \u001b[22m\u001b[39mModule ForwardDiff with build ID ffffffff-ffff-ffff-0000-02adba1f6d23 is missing from the cache.\n",
      "\u001b[33m\u001b[1m│ \u001b[22m\u001b[39mThis may mean ForwardDiff [f6369f11-7733-5829-9624-2563aa707210] does not support precompilation but is imported by a module that does.\n",
      "\u001b[33m\u001b[1m└ \u001b[22m\u001b[39m\u001b[90m@ Base loading.jl:1758\u001b[39m\n",
      "\u001b[33m\u001b[1m┌ \u001b[22m\u001b[39m\u001b[33m\u001b[1mWarning: \u001b[22m\u001b[39mModule ForwardDiff with build ID ffffffff-ffff-ffff-0000-02adba1f6d23 is missing from the cache.\n",
      "\u001b[33m\u001b[1m│ \u001b[22m\u001b[39mThis may mean ForwardDiff [f6369f11-7733-5829-9624-2563aa707210] does not support precompilation but is imported by a module that does.\n",
      "\u001b[33m\u001b[1m└ \u001b[22m\u001b[39m\u001b[90m@ Base loading.jl:1758\u001b[39m\n",
      "\u001b[36m\u001b[1m[ \u001b[22m\u001b[39m\u001b[36m\u001b[1mInfo: \u001b[22m\u001b[39mSkipping precompilation since __precompile__(false). Importing Optim [429524aa-4258-5aef-a3af-852621145aeb].\n",
      "\u001b[36m\u001b[1m[ \u001b[22m\u001b[39m\u001b[36m\u001b[1mInfo: \u001b[22m\u001b[39mPrecompiling NLSolversBase [d41bc354-129a-5804-8e4c-c37616107c6c]\n",
      "\u001b[33m\u001b[1m┌ \u001b[22m\u001b[39m\u001b[33m\u001b[1mWarning: \u001b[22m\u001b[39mModule ForwardDiff with build ID ffffffff-ffff-ffff-0000-02adba1f6d23 is missing from the cache.\n",
      "\u001b[33m\u001b[1m│ \u001b[22m\u001b[39mThis may mean ForwardDiff [f6369f11-7733-5829-9624-2563aa707210] does not support precompilation but is imported by a module that does.\n",
      "\u001b[33m\u001b[1m└ \u001b[22m\u001b[39m\u001b[90m@ Base loading.jl:1758\u001b[39m\n",
      "\u001b[36m\u001b[1m[ \u001b[22m\u001b[39m\u001b[36m\u001b[1mInfo: \u001b[22m\u001b[39mSkipping precompilation since __precompile__(false). Importing NLSolversBase [d41bc354-129a-5804-8e4c-c37616107c6c].\n",
      "\u001b[36m\u001b[1m[ \u001b[22m\u001b[39m\u001b[36m\u001b[1mInfo: \u001b[22m\u001b[39mPrecompiling LineSearches [d3d80556-e9d4-5f37-9878-2ab0fcc64255]\n",
      "\u001b[33m\u001b[1m┌ \u001b[22m\u001b[39m\u001b[33m\u001b[1mWarning: \u001b[22m\u001b[39mModule NLSolversBase with build ID ffffffff-ffff-ffff-0000-02b3c902d5b7 is missing from the cache.\n",
      "\u001b[33m\u001b[1m│ \u001b[22m\u001b[39mThis may mean NLSolversBase [d41bc354-129a-5804-8e4c-c37616107c6c] does not support precompilation but is imported by a module that does.\n",
      "\u001b[33m\u001b[1m└ \u001b[22m\u001b[39m\u001b[90m@ Base loading.jl:1758\u001b[39m\n",
      "\u001b[36m\u001b[1m[ \u001b[22m\u001b[39m\u001b[36m\u001b[1mInfo: \u001b[22m\u001b[39mSkipping precompilation since __precompile__(false). Importing LineSearches [d3d80556-e9d4-5f37-9878-2ab0fcc64255].\n",
      "\u001b[36m\u001b[1m[ \u001b[22m\u001b[39m\u001b[36m\u001b[1mInfo: \u001b[22m\u001b[39mPrecompiling SteadyStateDiffEq [9672c7b4-1e72-59bd-8a11-6ac3964bc41f]\n",
      "\u001b[33m\u001b[1m┌ \u001b[22m\u001b[39m\u001b[33m\u001b[1mWarning: \u001b[22m\u001b[39mModule DiffEqBase with build ID ffffffff-ffff-ffff-0000-02acd6a9d1cc is missing from the cache.\n",
      "\u001b[33m\u001b[1m│ \u001b[22m\u001b[39mThis may mean DiffEqBase [2b5f629d-d688-5b77-993f-72d75c75574e] does not support precompilation but is imported by a module that does.\n",
      "\u001b[33m\u001b[1m└ \u001b[22m\u001b[39m\u001b[90m@ Base loading.jl:1758\u001b[39m\n",
      "\u001b[36m\u001b[1m[ \u001b[22m\u001b[39m\u001b[36m\u001b[1mInfo: \u001b[22m\u001b[39mSkipping precompilation since __precompile__(false). Importing SteadyStateDiffEq [9672c7b4-1e72-59bd-8a11-6ac3964bc41f].\n",
      "\u001b[36m\u001b[1m[ \u001b[22m\u001b[39m\u001b[36m\u001b[1mInfo: \u001b[22m\u001b[39mPrecompiling NLsolve [2774e3e8-f4cf-5e23-947b-6d7e65073b56]\n",
      "\u001b[33m\u001b[1m┌ \u001b[22m\u001b[39m\u001b[33m\u001b[1mWarning: \u001b[22m\u001b[39mModule NLSolversBase with build ID ffffffff-ffff-ffff-0000-02b3c902d5b7 is missing from the cache.\n",
      "\u001b[33m\u001b[1m│ \u001b[22m\u001b[39mThis may mean NLSolversBase [d41bc354-129a-5804-8e4c-c37616107c6c] does not support precompilation but is imported by a module that does.\n",
      "\u001b[33m\u001b[1m└ \u001b[22m\u001b[39m\u001b[90m@ Base loading.jl:1758\u001b[39m\n",
      "\u001b[36m\u001b[1m[ \u001b[22m\u001b[39m\u001b[36m\u001b[1mInfo: \u001b[22m\u001b[39mSkipping precompilation since __precompile__(false). Importing NLsolve [2774e3e8-f4cf-5e23-947b-6d7e65073b56].\n",
      "\u001b[36m\u001b[1m[ \u001b[22m\u001b[39m\u001b[36m\u001b[1mInfo: \u001b[22m\u001b[39mPrecompiling DiffEqCallbacks [459566f4-90b8-5000-8ac3-15dfb0a30def]\n",
      "\u001b[33m\u001b[1m┌ \u001b[22m\u001b[39m\u001b[33m\u001b[1mWarning: \u001b[22m\u001b[39mModule DiffEqBase with build ID ffffffff-ffff-ffff-0000-02acd6a9d1cc is missing from the cache.\n",
      "\u001b[33m\u001b[1m│ \u001b[22m\u001b[39mThis may mean DiffEqBase [2b5f629d-d688-5b77-993f-72d75c75574e] does not support precompilation but is imported by a module that does.\n",
      "\u001b[33m\u001b[1m└ \u001b[22m\u001b[39m\u001b[90m@ Base loading.jl:1758\u001b[39m\n",
      "\u001b[36m\u001b[1m[ \u001b[22m\u001b[39m\u001b[36m\u001b[1mInfo: \u001b[22m\u001b[39mSkipping precompilation since __precompile__(false). Importing DiffEqCallbacks [459566f4-90b8-5000-8ac3-15dfb0a30def].\n",
      "\u001b[36m\u001b[1m[ \u001b[22m\u001b[39m\u001b[36m\u001b[1mInfo: \u001b[22m\u001b[39mPrecompiling StochasticDiffEq [789caeaf-c7a9-5a7d-9973-96adeb23e2a0]\n",
      "\u001b[33m\u001b[1m┌ \u001b[22m\u001b[39m\u001b[33m\u001b[1mWarning: \u001b[22m\u001b[39mModule DiffEqBase with build ID ffffffff-ffff-ffff-0000-02acd6a9d1cc is missing from the cache.\n",
      "\u001b[33m\u001b[1m│ \u001b[22m\u001b[39mThis may mean DiffEqBase [2b5f629d-d688-5b77-993f-72d75c75574e] does not support precompilation but is imported by a module that does.\n",
      "\u001b[33m\u001b[1m└ \u001b[22m\u001b[39m\u001b[90m@ Base loading.jl:1758\u001b[39m\n",
      "\u001b[36m\u001b[1m[ \u001b[22m\u001b[39m\u001b[36m\u001b[1mInfo: \u001b[22m\u001b[39mSkipping precompilation since __precompile__(false). Importing StochasticDiffEq [789caeaf-c7a9-5a7d-9973-96adeb23e2a0].\n",
      "\u001b[36m\u001b[1m[ \u001b[22m\u001b[39m\u001b[36m\u001b[1mInfo: \u001b[22m\u001b[39mPrecompiling OrdinaryDiffEq [1dea7af3-3e70-54e6-95c3-0bf5283fa5ed]\n",
      "\u001b[33m\u001b[1m┌ \u001b[22m\u001b[39m\u001b[33m\u001b[1mWarning: \u001b[22m\u001b[39mModule DiffEqBase with build ID ffffffff-ffff-ffff-0000-02acd6a9d1cc is missing from the cache.\n",
      "\u001b[33m\u001b[1m│ \u001b[22m\u001b[39mThis may mean DiffEqBase [2b5f629d-d688-5b77-993f-72d75c75574e] does not support precompilation but is imported by a module that does.\n",
      "\u001b[33m\u001b[1m└ \u001b[22m\u001b[39m\u001b[90m@ Base loading.jl:1758\u001b[39m\n",
      "\u001b[36m\u001b[1m[ \u001b[22m\u001b[39m\u001b[36m\u001b[1mInfo: \u001b[22m\u001b[39mSkipping precompilation since __precompile__(false). Importing OrdinaryDiffEq [1dea7af3-3e70-54e6-95c3-0bf5283fa5ed].\n",
      "\u001b[36m\u001b[1m[ \u001b[22m\u001b[39m\u001b[36m\u001b[1mInfo: \u001b[22m\u001b[39mPrecompiling LinearSolve [7ed4a6bd-45f5-4d41-b270-4a48e9bafcae]\n",
      "\u001b[33m\u001b[1m┌ \u001b[22m\u001b[39m\u001b[33m\u001b[1mWarning: \u001b[22m\u001b[39mModule LoopVectorization with build ID ffffffff-ffff-ffff-0000-029615de7eba is missing from the cache.\n",
      "\u001b[33m\u001b[1m│ \u001b[22m\u001b[39mThis may mean LoopVectorization [bdcacae8-1622-11e9-2a5c-532679323890] does not support precompilation but is imported by a module that does.\n",
      "\u001b[33m\u001b[1m└ \u001b[22m\u001b[39m\u001b[90m@ Base loading.jl:1758\u001b[39m\n",
      "\u001b[33m\u001b[1m┌ \u001b[22m\u001b[39m\u001b[33m\u001b[1mWarning: \u001b[22m\u001b[39mModule LoopVectorization with build ID ffffffff-ffff-ffff-0000-029615de7eba is missing from the cache.\n",
      "\u001b[33m\u001b[1m│ \u001b[22m\u001b[39mThis may mean LoopVectorization [bdcacae8-1622-11e9-2a5c-532679323890] does not support precompilation but is imported by a module that does.\n",
      "\u001b[33m\u001b[1m└ \u001b[22m\u001b[39m\u001b[90m@ Base loading.jl:1758\u001b[39m\n",
      "\u001b[36m\u001b[1m[ \u001b[22m\u001b[39m\u001b[36m\u001b[1mInfo: \u001b[22m\u001b[39mSkipping precompilation since __precompile__(false). Importing LinearSolve [7ed4a6bd-45f5-4d41-b270-4a48e9bafcae].\n",
      "\u001b[36m\u001b[1m[ \u001b[22m\u001b[39m\u001b[36m\u001b[1mInfo: \u001b[22m\u001b[39mPrecompiling RecursiveFactorization [f2c3362d-daeb-58d1-803e-2bc74f2840b4]\n",
      "\u001b[33m\u001b[1m┌ \u001b[22m\u001b[39m\u001b[33m\u001b[1mWarning: \u001b[22m\u001b[39mModule LoopVectorization with build ID ffffffff-ffff-ffff-0000-029615de7eba is missing from the cache.\n",
      "\u001b[33m\u001b[1m│ \u001b[22m\u001b[39mThis may mean LoopVectorization [bdcacae8-1622-11e9-2a5c-532679323890] does not support precompilation but is imported by a module that does.\n",
      "\u001b[33m\u001b[1m└ \u001b[22m\u001b[39m\u001b[90m@ Base loading.jl:1758\u001b[39m\n",
      "\u001b[36m\u001b[1m[ \u001b[22m\u001b[39m\u001b[36m\u001b[1mInfo: \u001b[22m\u001b[39mSkipping precompilation since __precompile__(false). Importing RecursiveFactorization [f2c3362d-daeb-58d1-803e-2bc74f2840b4].\n",
      "\u001b[36m\u001b[1m[ \u001b[22m\u001b[39m\u001b[36m\u001b[1mInfo: \u001b[22m\u001b[39mPrecompiling TriangularSolve [d5829a12-d9aa-46ab-831f-fb7c9ab06edf]\n",
      "\u001b[33m\u001b[1m┌ \u001b[22m\u001b[39m\u001b[33m\u001b[1mWarning: \u001b[22m\u001b[39mModule LayoutPointers with build ID ffffffff-ffff-ffff-0000-02973a30660e is missing from the cache.\n",
      "\u001b[33m\u001b[1m│ \u001b[22m\u001b[39mThis may mean LayoutPointers [10f19ff3-798f-405d-979b-55457f8fc047] does not support precompilation but is imported by a module that does.\n",
      "\u001b[33m\u001b[1m└ \u001b[22m\u001b[39m\u001b[90m@ Base loading.jl:1758\u001b[39m\n",
      "\u001b[36m\u001b[1m[ \u001b[22m\u001b[39m\u001b[36m\u001b[1mInfo: \u001b[22m\u001b[39mSkipping precompilation since __precompile__(false). Importing TriangularSolve [d5829a12-d9aa-46ab-831f-fb7c9ab06edf].\n",
      "\u001b[36m\u001b[1m[ \u001b[22m\u001b[39m\u001b[36m\u001b[1mInfo: \u001b[22m\u001b[39mPrecompiling IterativeSolvers [42fd0dbc-a981-5370-80f2-aaf504508153]\n",
      "\u001b[33m\u001b[1m┌ \u001b[22m\u001b[39m\u001b[33m\u001b[1mWarning: \u001b[22m\u001b[39mModule RecipesBase with build ID ffffffff-ffff-ffff-0000-029c1909f030 is missing from the cache.\n",
      "\u001b[33m\u001b[1m│ \u001b[22m\u001b[39mThis may mean RecipesBase [3cdcf5f2-1ef4-517c-9805-6587b60abb01] does not support precompilation but is imported by a module that does.\n",
      "\u001b[33m\u001b[1m└ \u001b[22m\u001b[39m\u001b[90m@ Base loading.jl:1758\u001b[39m\n",
      "\u001b[36m\u001b[1m[ \u001b[22m\u001b[39m\u001b[36m\u001b[1mInfo: \u001b[22m\u001b[39mSkipping precompilation since __precompile__(false). Importing IterativeSolvers [42fd0dbc-a981-5370-80f2-aaf504508153].\n",
      "\u001b[36m\u001b[1m[ \u001b[22m\u001b[39m\u001b[36m\u001b[1mInfo: \u001b[22m\u001b[39mPrecompiling SimpleNonlinearSolve [727e6d20-b764-4bd8-a329-72de5adea6c7]\n",
      "\u001b[33m\u001b[1m┌ \u001b[22m\u001b[39m\u001b[33m\u001b[1mWarning: \u001b[22m\u001b[39mModule ForwardDiff with build ID ffffffff-ffff-ffff-0000-02adba1f6d23 is missing from the cache.\n",
      "\u001b[33m\u001b[1m│ \u001b[22m\u001b[39mThis may mean ForwardDiff [f6369f11-7733-5829-9624-2563aa707210] does not support precompilation but is imported by a module that does.\n",
      "\u001b[33m\u001b[1m└ \u001b[22m\u001b[39m\u001b[90m@ Base loading.jl:1758\u001b[39m\n",
      "\u001b[36m\u001b[1m[ \u001b[22m\u001b[39m\u001b[36m\u001b[1mInfo: \u001b[22m\u001b[39mSkipping precompilation since __precompile__(false). Importing SimpleNonlinearSolve [727e6d20-b764-4bd8-a329-72de5adea6c7].\n",
      "\u001b[36m\u001b[1m[ \u001b[22m\u001b[39m\u001b[36m\u001b[1mInfo: \u001b[22m\u001b[39mPrecompiling ExponentialUtilities [d4d017d3-3776-5f7e-afef-a10c40355c18]\n",
      "\u001b[33m\u001b[1m┌ \u001b[22m\u001b[39m\u001b[33m\u001b[1mWarning: \u001b[22m\u001b[39mModule PrecompileTools with build ID ffffffff-ffff-ffff-0000-002073cca126 is missing from the cache.\n",
      "\u001b[33m\u001b[1m│ \u001b[22m\u001b[39mThis may mean PrecompileTools [aea7be01-6a6a-4083-8856-8a6e6704d82a] does not support precompilation but is imported by a module that does.\n",
      "\u001b[33m\u001b[1m└ \u001b[22m\u001b[39m\u001b[90m@ Base loading.jl:1758\u001b[39m\n",
      "\u001b[36m\u001b[1m[ \u001b[22m\u001b[39m\u001b[36m\u001b[1mInfo: \u001b[22m\u001b[39mSkipping precompilation since __precompile__(false). Importing ExponentialUtilities [d4d017d3-3776-5f7e-afef-a10c40355c18].\n",
      "\u001b[36m\u001b[1m[ \u001b[22m\u001b[39m\u001b[36m\u001b[1mInfo: \u001b[22m\u001b[39mPrecompiling NonlinearSolve [8913a72c-1f9b-4ce2-8d82-65094dcecaec]\n",
      "\u001b[33m\u001b[1m┌ \u001b[22m\u001b[39m\u001b[33m\u001b[1mWarning: \u001b[22m\u001b[39mModule ForwardDiff with build ID ffffffff-ffff-ffff-0000-02adba1f6d23 is missing from the cache.\n",
      "\u001b[33m\u001b[1m│ \u001b[22m\u001b[39mThis may mean ForwardDiff [f6369f11-7733-5829-9624-2563aa707210] does not support precompilation but is imported by a module that does.\n",
      "\u001b[33m\u001b[1m└ \u001b[22m\u001b[39m\u001b[90m@ Base loading.jl:1758\u001b[39m\n",
      "\u001b[36m\u001b[1m[ \u001b[22m\u001b[39m\u001b[36m\u001b[1mInfo: \u001b[22m\u001b[39mSkipping precompilation since __precompile__(false). Importing NonlinearSolve [8913a72c-1f9b-4ce2-8d82-65094dcecaec].\n",
      "\u001b[36m\u001b[1m[ \u001b[22m\u001b[39m\u001b[36m\u001b[1mInfo: \u001b[22m\u001b[39mPrecompiling SparseDiffTools [47a9eef4-7e08-11e9-0b38-333d64bd3804]\n",
      "\u001b[33m\u001b[1m┌ \u001b[22m\u001b[39m\u001b[33m\u001b[1mWarning: \u001b[22m\u001b[39mModule ForwardDiff with build ID ffffffff-ffff-ffff-0000-02adba1f6d23 is missing from the cache.\n",
      "\u001b[33m\u001b[1m│ \u001b[22m\u001b[39mThis may mean ForwardDiff [f6369f11-7733-5829-9624-2563aa707210] does not support precompilation but is imported by a module that does.\n",
      "\u001b[33m\u001b[1m└ \u001b[22m\u001b[39m\u001b[90m@ Base loading.jl:1758\u001b[39m\n",
      "\u001b[36m\u001b[1m[ \u001b[22m\u001b[39m\u001b[36m\u001b[1mInfo: \u001b[22m\u001b[39mSkipping precompilation since __precompile__(false). Importing SparseDiffTools [47a9eef4-7e08-11e9-0b38-333d64bd3804].\n",
      "\u001b[36m\u001b[1m[ \u001b[22m\u001b[39m\u001b[36m\u001b[1mInfo: \u001b[22m\u001b[39mPrecompiling SciMLNLSolve [e9a6253c-8580-4d32-9898-8661bb511710]\n",
      "\u001b[33m\u001b[1m┌ \u001b[22m\u001b[39m\u001b[33m\u001b[1mWarning: \u001b[22m\u001b[39mModule NLsolve with build ID ffffffff-ffff-ffff-0000-02b4bd0a4e3a is missing from the cache.\n",
      "\u001b[33m\u001b[1m│ \u001b[22m\u001b[39mThis may mean NLsolve [2774e3e8-f4cf-5e23-947b-6d7e65073b56] does not support precompilation but is imported by a module that does.\n",
      "\u001b[33m\u001b[1m└ \u001b[22m\u001b[39m\u001b[90m@ Base loading.jl:1758\u001b[39m\n",
      "\u001b[36m\u001b[1m[ \u001b[22m\u001b[39m\u001b[36m\u001b[1mInfo: \u001b[22m\u001b[39mSkipping precompilation since __precompile__(false). Importing SciMLNLSolve [e9a6253c-8580-4d32-9898-8661bb511710].\n",
      "\u001b[36m\u001b[1m[ \u001b[22m\u001b[39m\u001b[36m\u001b[1mInfo: \u001b[22m\u001b[39mPrecompiling LevyArea [2d8b4e74-eb68-11e8-0fb9-d5eb67b50637]\n",
      "\u001b[33m\u001b[1m┌ \u001b[22m\u001b[39m\u001b[33m\u001b[1mWarning: \u001b[22m\u001b[39mModule SpecialFunctions with build ID ffffffff-ffff-ffff-0000-029e3a496da8 is missing from the cache.\n",
      "\u001b[33m\u001b[1m│ \u001b[22m\u001b[39mThis may mean SpecialFunctions [276daf66-3868-5448-9aa4-cd146d93841b] does not support precompilation but is imported by a module that does.\n",
      "\u001b[33m\u001b[1m└ \u001b[22m\u001b[39m\u001b[90m@ Base loading.jl:1758\u001b[39m\n",
      "\u001b[36m\u001b[1m[ \u001b[22m\u001b[39m\u001b[36m\u001b[1mInfo: \u001b[22m\u001b[39mSkipping precompilation since __precompile__(false). Importing LevyArea [2d8b4e74-eb68-11e8-0fb9-d5eb67b50637].\n",
      "\u001b[36m\u001b[1m[ \u001b[22m\u001b[39m\u001b[36m\u001b[1mInfo: \u001b[22m\u001b[39mPrecompiling JumpProcesses [ccbc3e58-028d-4f4c-8cd5-9ae44345cda5]\n",
      "\u001b[33m\u001b[1m┌ \u001b[22m\u001b[39m\u001b[33m\u001b[1mWarning: \u001b[22m\u001b[39mModule DiffEqBase with build ID ffffffff-ffff-ffff-0000-02acd6a9d1cc is missing from the cache.\n",
      "\u001b[33m\u001b[1m│ \u001b[22m\u001b[39mThis may mean DiffEqBase [2b5f629d-d688-5b77-993f-72d75c75574e] does not support precompilation but is imported by a module that does.\n",
      "\u001b[33m\u001b[1m└ \u001b[22m\u001b[39m\u001b[90m@ Base loading.jl:1758\u001b[39m\n",
      "\u001b[36m\u001b[1m[ \u001b[22m\u001b[39m\u001b[36m\u001b[1mInfo: \u001b[22m\u001b[39mSkipping precompilation since __precompile__(false). Importing JumpProcesses [ccbc3e58-028d-4f4c-8cd5-9ae44345cda5].\n",
      "\u001b[36m\u001b[1m[ \u001b[22m\u001b[39m\u001b[36m\u001b[1mInfo: \u001b[22m\u001b[39mPrecompiling JumpProcessFastBroadcastExt [44c38e23-ab17-56ae-ba63-78931ef072ba]\n",
      "\u001b[33m\u001b[1m┌ \u001b[22m\u001b[39m\u001b[33m\u001b[1mWarning: \u001b[22m\u001b[39mModule JumpProcesses with build ID ffffffff-ffff-ffff-0000-02c1a2d3b2ed is missing from the cache.\n",
      "\u001b[33m\u001b[1m│ \u001b[22m\u001b[39mThis may mean JumpProcesses [ccbc3e58-028d-4f4c-8cd5-9ae44345cda5] does not support precompilation but is imported by a module that does.\n",
      "\u001b[33m\u001b[1m└ \u001b[22m\u001b[39m\u001b[90m@ Base loading.jl:1758\u001b[39m\n",
      "\u001b[36m\u001b[1m[ \u001b[22m\u001b[39m\u001b[36m\u001b[1mInfo: \u001b[22m\u001b[39mSkipping precompilation since __precompile__(false). Importing JumpProcessFastBroadcastExt [44c38e23-ab17-56ae-ba63-78931ef072ba].\n",
      "\u001b[36m\u001b[1m[ \u001b[22m\u001b[39m\u001b[36m\u001b[1mInfo: \u001b[22m\u001b[39mPrecompiling BoundaryValueDiffEq [764a87c0-6b3e-53db-9096-fe964310641d]\n",
      "\u001b[33m\u001b[1m┌ \u001b[22m\u001b[39m\u001b[33m\u001b[1mWarning: \u001b[22m\u001b[39mModule DiffEqBase with build ID ffffffff-ffff-ffff-0000-02acd6a9d1cc is missing from the cache.\n",
      "\u001b[33m\u001b[1m│ \u001b[22m\u001b[39mThis may mean DiffEqBase [2b5f629d-d688-5b77-993f-72d75c75574e] does not support precompilation but is imported by a module that does.\n",
      "\u001b[33m\u001b[1m└ \u001b[22m\u001b[39m\u001b[90m@ Base loading.jl:1758\u001b[39m\n",
      "\u001b[36m\u001b[1m[ \u001b[22m\u001b[39m\u001b[36m\u001b[1mInfo: \u001b[22m\u001b[39mSkipping precompilation since __precompile__(false). Importing BoundaryValueDiffEq [764a87c0-6b3e-53db-9096-fe964310641d].\n",
      "\u001b[36m\u001b[1m[ \u001b[22m\u001b[39m\u001b[36m\u001b[1mInfo: \u001b[22m\u001b[39mPrecompiling BandedMatrices [aae01518-5342-5314-be14-df237901396f]\n",
      "\u001b[33m\u001b[1m┌ \u001b[22m\u001b[39m\u001b[33m\u001b[1mWarning: \u001b[22m\u001b[39mModule SnoopPrecompile with build ID fafbfcfd-b3d7-4066-0000-01c5443b49d5 is missing from the cache.\n",
      "\u001b[33m\u001b[1m│ \u001b[22m\u001b[39mThis may mean SnoopPrecompile [66db9d55-30c0-4569-8b51-7e840670fc0c] does not support precompilation but is imported by a module that does.\n",
      "\u001b[33m\u001b[1m└ \u001b[22m\u001b[39m\u001b[90m@ Base loading.jl:1758\u001b[39m\n",
      "\u001b[36m\u001b[1m[ \u001b[22m\u001b[39m\u001b[36m\u001b[1mInfo: \u001b[22m\u001b[39mSkipping precompilation since __precompile__(false). Importing BandedMatrices [aae01518-5342-5314-be14-df237901396f].\n",
      "\u001b[36m\u001b[1m[ \u001b[22m\u001b[39m\u001b[36m\u001b[1mInfo: \u001b[22m\u001b[39mPrecompiling ArrayInterfaceBandedMatricesExt [26e938bc-0cd5-5679-9003-44616cbf91d3]\n",
      "\u001b[33m\u001b[1m┌ \u001b[22m\u001b[39m\u001b[33m\u001b[1mWarning: \u001b[22m\u001b[39mModule BandedMatrices with build ID ffffffff-ffff-ffff-0000-02c392bf082f is missing from the cache.\n",
      "\u001b[33m\u001b[1m│ \u001b[22m\u001b[39mThis may mean BandedMatrices [aae01518-5342-5314-be14-df237901396f] does not support precompilation but is imported by a module that does.\n",
      "\u001b[33m\u001b[1m└ \u001b[22m\u001b[39m\u001b[90m@ Base loading.jl:1758\u001b[39m\n",
      "\u001b[36m\u001b[1m[ \u001b[22m\u001b[39m\u001b[36m\u001b[1mInfo: \u001b[22m\u001b[39mSkipping precompilation since __precompile__(false). Importing ArrayInterfaceBandedMatricesExt [26e938bc-0cd5-5679-9003-44616cbf91d3].\n",
      "\u001b[36m\u001b[1m[ \u001b[22m\u001b[39m\u001b[36m\u001b[1mInfo: \u001b[22m\u001b[39mPrecompiling FiniteDiffBandedMatricesExt [73d9490b-8748-553f-aba9-cf4754de47d8]\n",
      "\u001b[33m\u001b[1m┌ \u001b[22m\u001b[39m\u001b[33m\u001b[1mWarning: \u001b[22m\u001b[39mModule BandedMatrices with build ID ffffffff-ffff-ffff-0000-02c392bf082f is missing from the cache.\n",
      "\u001b[33m\u001b[1m│ \u001b[22m\u001b[39mThis may mean BandedMatrices [aae01518-5342-5314-be14-df237901396f] does not support precompilation but is imported by a module that does.\n",
      "\u001b[33m\u001b[1m└ \u001b[22m\u001b[39m\u001b[90m@ Base loading.jl:1758\u001b[39m\n",
      "\u001b[36m\u001b[1m[ \u001b[22m\u001b[39m\u001b[36m\u001b[1mInfo: \u001b[22m\u001b[39mSkipping precompilation since __precompile__(false). Importing FiniteDiffBandedMatricesExt [73d9490b-8748-553f-aba9-cf4754de47d8].\n",
      "\u001b[36m\u001b[1m[ \u001b[22m\u001b[39m\u001b[36m\u001b[1mInfo: \u001b[22m\u001b[39mPrecompiling Sundials [c3572dad-4567-51f8-b174-8c6c989267f4]\n",
      "\u001b[33m\u001b[1m┌ \u001b[22m\u001b[39m\u001b[33m\u001b[1mWarning: \u001b[22m\u001b[39mModule DiffEqBase with build ID ffffffff-ffff-ffff-0000-02acd6a9d1cc is missing from the cache.\n",
      "\u001b[33m\u001b[1m│ \u001b[22m\u001b[39mThis may mean DiffEqBase [2b5f629d-d688-5b77-993f-72d75c75574e] does not support precompilation but is imported by a module that does.\n",
      "\u001b[33m\u001b[1m└ \u001b[22m\u001b[39m\u001b[90m@ Base loading.jl:1758\u001b[39m\n",
      "\u001b[36m\u001b[1m[ \u001b[22m\u001b[39m\u001b[36m\u001b[1mInfo: \u001b[22m\u001b[39mSkipping precompilation since __precompile__(false). Importing Sundials [c3572dad-4567-51f8-b174-8c6c989267f4].\n",
      "\u001b[36m\u001b[1m[ \u001b[22m\u001b[39m\u001b[36m\u001b[1mInfo: \u001b[22m\u001b[39mPrecompiling Sundials_jll [fb77eaff-e24c-56d4-86b1-d163f2edb164]\n",
      "\u001b[33m\u001b[1m┌ \u001b[22m\u001b[39m\u001b[33m\u001b[1mWarning: \u001b[22m\u001b[39mModule JLLWrappers with build ID ffffffff-ffff-ffff-0000-001e96752078 is missing from the cache.\n",
      "\u001b[33m\u001b[1m│ \u001b[22m\u001b[39mThis may mean JLLWrappers [692b3bcd-3c85-4b1f-b108-f13ce0eb3210] does not support precompilation but is imported by a module that does.\n",
      "\u001b[33m\u001b[1m└ \u001b[22m\u001b[39m\u001b[90m@ Base loading.jl:1758\u001b[39m\n",
      "\u001b[36m\u001b[1m[ \u001b[22m\u001b[39m\u001b[36m\u001b[1mInfo: \u001b[22m\u001b[39mSkipping precompilation since __precompile__(false). Importing Sundials_jll [fb77eaff-e24c-56d4-86b1-d163f2edb164].\n",
      "\u001b[36m\u001b[1m[ \u001b[22m\u001b[39m\u001b[36m\u001b[1mInfo: \u001b[22m\u001b[39mPrecompiling DelayDiffEq [bcd4f6db-9728-5f36-b5f7-82caef46ccdb]\n",
      "\u001b[33m\u001b[1m┌ \u001b[22m\u001b[39m\u001b[33m\u001b[1mWarning: \u001b[22m\u001b[39mModule OrdinaryDiffEq with build ID ffffffff-ffff-ffff-0000-02b538896970 is missing from the cache.\n",
      "\u001b[33m\u001b[1m│ \u001b[22m\u001b[39mThis may mean OrdinaryDiffEq [1dea7af3-3e70-54e6-95c3-0bf5283fa5ed] does not support precompilation but is imported by a module that does.\n",
      "\u001b[33m\u001b[1m└ \u001b[22m\u001b[39m\u001b[90m@ Base loading.jl:1758\u001b[39m\n",
      "\u001b[36m\u001b[1m[ \u001b[22m\u001b[39m\u001b[36m\u001b[1mInfo: \u001b[22m\u001b[39mSkipping precompilation since __precompile__(false). Importing DelayDiffEq [bcd4f6db-9728-5f36-b5f7-82caef46ccdb].\n",
      "WARNING: using Plots.GR in module Main conflicts with an existing identifier.\n",
      "\u001b[36m\u001b[1m[ \u001b[22m\u001b[39m\u001b[36m\u001b[1mInfo: \u001b[22m\u001b[39mPrecompiling BenchmarkTools [6e4b80f9-dd63-53aa-95a3-0cdb28fa8baf]\n",
      "\u001b[33m\u001b[1m┌ \u001b[22m\u001b[39m\u001b[33m\u001b[1mWarning: \u001b[22m\u001b[39mModule JSON with build ID ffffffff-ffff-ffff-0000-001fb724038a is missing from the cache.\n",
      "\u001b[33m\u001b[1m│ \u001b[22m\u001b[39mThis may mean JSON [682c06a0-de6a-54ab-a142-c8b1cf79cde6] does not support precompilation but is imported by a module that does.\n",
      "\u001b[33m\u001b[1m└ \u001b[22m\u001b[39m\u001b[90m@ Base loading.jl:1758\u001b[39m\n",
      "\u001b[36m\u001b[1m[ \u001b[22m\u001b[39m\u001b[36m\u001b[1mInfo: \u001b[22m\u001b[39mSkipping precompilation since __precompile__(false). Importing BenchmarkTools [6e4b80f9-dd63-53aa-95a3-0cdb28fa8baf].\n",
      "\u001b[36m\u001b[1m[ \u001b[22m\u001b[39m\u001b[36m\u001b[1mInfo: \u001b[22m\u001b[39mPrecompiling LsqFit [2fda8390-95c7-5789-9bda-21331edee243]\n",
      "\u001b[33m\u001b[1m┌ \u001b[22m\u001b[39m\u001b[33m\u001b[1mWarning: \u001b[22m\u001b[39mModule Distributions with build ID ffffffff-ffff-ffff-0000-02b0fd8cf59e is missing from the cache.\n",
      "\u001b[33m\u001b[1m│ \u001b[22m\u001b[39mThis may mean Distributions [31c24e10-a181-5473-b8eb-7969acd0382f] does not support precompilation but is imported by a module that does.\n",
      "\u001b[33m\u001b[1m└ \u001b[22m\u001b[39m\u001b[90m@ Base loading.jl:1758\u001b[39m\n",
      "\u001b[36m\u001b[1m[ \u001b[22m\u001b[39m\u001b[36m\u001b[1mInfo: \u001b[22m\u001b[39mSkipping precompilation since __precompile__(false). Importing LsqFit [2fda8390-95c7-5789-9bda-21331edee243].\n",
      "\u001b[36m\u001b[1m[ \u001b[22m\u001b[39m\u001b[36m\u001b[1mInfo: \u001b[22m\u001b[39mPrecompiling OptimBase [87e2bd06-a317-5318-96d9-3ecbac512eee]\n",
      "\u001b[33m\u001b[1m┌ \u001b[22m\u001b[39m\u001b[33m\u001b[1mWarning: \u001b[22m\u001b[39mModule NLSolversBase with build ID ffffffff-ffff-ffff-0000-02b3c902d5b7 is missing from the cache.\n",
      "\u001b[33m\u001b[1m│ \u001b[22m\u001b[39mThis may mean NLSolversBase [d41bc354-129a-5804-8e4c-c37616107c6c] does not support precompilation but is imported by a module that does.\n",
      "\u001b[33m\u001b[1m└ \u001b[22m\u001b[39m\u001b[90m@ Base loading.jl:1758\u001b[39m\n",
      "\u001b[36m\u001b[1m[ \u001b[22m\u001b[39m\u001b[36m\u001b[1mInfo: \u001b[22m\u001b[39mSkipping precompilation since __precompile__(false). Importing OptimBase [87e2bd06-a317-5318-96d9-3ecbac512eee].\n",
      "WARNING: Method definition Zeeman_x(Any, Any) in module Main at C:\\Google Drive\\github\\OpticalBlochEquations\\examples\\ipynb_sources\\toy_models\\CaOH_scan\\CaOH_scan_helper_v2.jl:61 overwritten at C:\\Google Drive\\github\\OpticalBlochEquations\\examples\\ipynb_sources\\toy_models\\CaOH_scan\\CaOH_scan_helper_v2.jl:134.\n",
      "WARNING: Method definition Zeeman_y(Any, Any) in module Main at C:\\Google Drive\\github\\OpticalBlochEquations\\examples\\ipynb_sources\\toy_models\\CaOH_scan\\CaOH_scan_helper_v2.jl:62 overwritten at C:\\Google Drive\\github\\OpticalBlochEquations\\examples\\ipynb_sources\\toy_models\\CaOH_scan\\CaOH_scan_helper_v2.jl:135.\n",
      "WARNING: Method definition Zeeman_z(Any, Any) in module Main at C:\\Google Drive\\github\\OpticalBlochEquations\\examples\\ipynb_sources\\toy_models\\CaOH_scan\\CaOH_scan_helper_v2.jl:63 overwritten at C:\\Google Drive\\github\\OpticalBlochEquations\\examples\\ipynb_sources\\toy_models\\CaOH_scan\\CaOH_scan_helper_v2.jl:136.\n"
     ]
    }
   ],
   "source": [
    "using\n",
    "    QuantumStates,\n",
    "    OpticalBlochEquations,\n",
    "    DifferentialEquations,\n",
    "    UnitsToValue,\n",
    "    LinearAlgebra,\n",
    "    Printf,\n",
    "    Plots,\n",
    "    Random,\n",
    "    StatsBase\n",
    ";\n",
    "\n",
    "using Distributions\n",
    "\n",
    "import MutableNamedTuples: MutableNamedTuple\n",
    "import StructArrays: StructArray, StructVector\n",
    "import StaticArrays: @SVector, SVector\n",
    "import LinearAlgebra: norm, ⋅, adjoint!, diag\n",
    "import LoopVectorization: @turbo\n",
    "using BenchmarkTools\n",
    "using Parameters\n",
    "using LsqFit\n",
    "\n",
    "import ProgressMeter: Progress, next!\n",
    "\n",
    "const λ = 626e-9\n",
    "const Γ = 2π* 6.4e6\n",
    "const m = @with_unit 57 \"u\"\n",
    "const k = 2π / λ\n",
    "_μB = (μ_B / h) * 1e-4;\n",
    "\n",
    "include(\"CaOH_scan_helper_v2.jl\")\n",
    "working_dir = \"C:\\\\Google Drive\\\\github\\\\OpticalBlochEquations\\\\examples\\\\ipynb_sources\\\\toy_models\\\\CaOH_scan\\\\scan_3frequencies\"\n",
    ";"
   ]
  },
  {
   "cell_type": "markdown",
   "id": "e4453cb6-d6f1-4d9c-b8f6-1add3157ae21",
   "metadata": {},
   "source": [
    "### Set up the molecule"
   ]
  },
  {
   "cell_type": "code",
   "execution_count": 4,
   "id": "18ccd92a-51ee-4774-af90-92e948637eca",
   "metadata": {},
   "outputs": [],
   "source": [
    "package = get_CaOH_package();\n",
    "n_states = length(package.states)\n",
    "n_excited = package.n_excited;"
   ]
  },
  {
   "cell_type": "markdown",
   "id": "74f199c4-c0d1-4645-9ce3-408986cf66dd",
   "metadata": {},
   "source": [
    "## Helper functions:\n",
    "\n",
    "### plotting:\n",
    "plot_trajectories(results, direction)\n",
    "\n",
    "plot_all_trajectories(results, direction)\n",
    "\n",
    "plot_velocities(results, direction)\n",
    "\n",
    "plot_size(results, direction) -> final size\n",
    "\n",
    "plot_temperature(results, direction) -> final temperature\n",
    "\n",
    "plot_scattering_rate(results) -> average number of photons scattered\n",
    "\n",
    "### saving:\n",
    "\n",
    "make_scan_folder(lists, working_dir, scan_i, comments) -> saving_dir\n",
    "\n",
    "log_test_info(saving_dir, test_i, params) -> actual test_i\n",
    "\n",
    "save_results(saving_dir, test_i, results)\n",
    "\n",
    "### loading:\n",
    "\n",
    "load_test_params(saving_dir, test_i) -> param\n",
    "\n",
    "load_results(saving_dir, test_i) -> results\n",
    "\n",
    "### displaying:\n",
    "\n",
    "display_test_info(saving_dir, test_i)\n",
    "\n",
    "summarize_results(saving_dir, test_i)\n",
    "\n",
    "summarize_results(results)\n"
   ]
  },
  {
   "cell_type": "markdown",
   "id": "d55f0747-429c-47f2-9924-2e680a9649dc",
   "metadata": {},
   "source": [
    "## Running a single configuration"
   ]
  },
  {
   "cell_type": "code",
   "execution_count": 22,
   "id": "f4d7bc24-dfb1-4b65-8d1b-2cb20375b448",
   "metadata": {},
   "outputs": [
    {
     "name": "stderr",
     "output_type": "stream",
     "text": [
      "\u001b[32mProgress: 100%|█████████████████████████████████████████| Time: 0:01:45\u001b[39m\n"
     ]
    },
    {
     "data": {
      "text/plain": [
       "51"
      ]
     },
     "execution_count": 22,
     "metadata": {},
     "output_type": "execute_result"
    }
   ],
   "source": [
    "temp = @with_unit 0.1 \"mK\"\n",
    "diameter = @with_unit 0.6 \"mm\"\n",
    "displacement = [0.0, 0.0, 0.0]\n",
    "kick = [0,0, 0.0, 0.0]\n",
    "\n",
    "params = MutableNamedTuple(t_end = 30e-3, n_values = 20,\n",
    "                            pol1_x=σ⁻, pol2_x=σ⁺, pol3_x=σ⁻, pol4_x=σ⁺, \n",
    "                            s1=2.0, s2=0.0, s3=0.05, s4=0.05,\n",
    "                            Δ1=4.0Γ, Δ2=-0.8Γ, Δ3=-1.0Γ, Δ4=+0.5Γ, \n",
    "                            B_gradient = 30, \n",
    "                            temp=temp, diameter=diameter, \n",
    "                            displacement=displacement, kick=kick,\n",
    "                            ramp_time = 4e-3)\n",
    "\n",
    "test_i = log_test_info(working_dir, 1, params)\n",
    "\n",
    "results = simulate_particles(package, params, params.n_values);\n",
    "\n",
    "save_results(working_dir, test_i, results)"
   ]
  },
  {
   "cell_type": "code",
   "execution_count": 19,
   "id": "2ae12aa4-9222-43e6-ac73-14e64f976316",
   "metadata": {},
   "outputs": [
    {
     "data": {
      "image/svg+xml": [
       "<?xml version=\"1.0\" encoding=\"utf-8\"?>\n",
       "<svg xmlns=\"http://www.w3.org/2000/svg\" xmlns:xlink=\"http://www.w3.org/1999/xlink\" width=\"600\" height=\"400\" viewBox=\"0 0 2400 1600\">\n",
       "<defs>\n",
       "  <clipPath id=\"clip820\">\n",
       "    <rect x=\"0\" y=\"0\" width=\"2400\" height=\"1600\"/>\n",
       "  </clipPath>\n",
       "</defs>\n",
       "<path clip-path=\"url(#clip820)\" d=\"M0 1600 L2400 1600 L2400 0 L0 0  Z\" fill=\"#ffffff\" fill-rule=\"evenodd\" fill-opacity=\"1\"/>\n",
       "<defs>\n",
       "  <clipPath id=\"clip821\">\n",
       "    <rect x=\"480\" y=\"0\" width=\"1681\" height=\"1600\"/>\n",
       "  </clipPath>\n",
       "</defs>\n",
       "<path clip-path=\"url(#clip820)\" d=\"M257.204 1423.18 L2352.76 1423.18 L2352.76 123.472 L257.204 123.472  Z\" fill=\"#ffffff\" fill-rule=\"evenodd\" fill-opacity=\"1\"/>\n",
       "<defs>\n",
       "  <clipPath id=\"clip822\">\n",
       "    <rect x=\"257\" y=\"123\" width=\"2097\" height=\"1301\"/>\n",
       "  </clipPath>\n",
       "</defs>\n",
       "<polyline clip-path=\"url(#clip822)\" style=\"stroke:#000000; stroke-linecap:round; stroke-linejoin:round; stroke-width:2; stroke-opacity:0.1; fill:none\" points=\"316.512,1423.18 316.512,123.472 \"/>\n",
       "<polyline clip-path=\"url(#clip822)\" style=\"stroke:#000000; stroke-linecap:round; stroke-linejoin:round; stroke-width:2; stroke-opacity:0.1; fill:none\" points=\"975.491,1423.18 975.491,123.472 \"/>\n",
       "<polyline clip-path=\"url(#clip822)\" style=\"stroke:#000000; stroke-linecap:round; stroke-linejoin:round; stroke-width:2; stroke-opacity:0.1; fill:none\" points=\"1634.47,1423.18 1634.47,123.472 \"/>\n",
       "<polyline clip-path=\"url(#clip822)\" style=\"stroke:#000000; stroke-linecap:round; stroke-linejoin:round; stroke-width:2; stroke-opacity:0.1; fill:none\" points=\"2293.45,1423.18 2293.45,123.472 \"/>\n",
       "<polyline clip-path=\"url(#clip820)\" style=\"stroke:#000000; stroke-linecap:round; stroke-linejoin:round; stroke-width:4; stroke-opacity:1; fill:none\" points=\"257.204,1423.18 2352.76,1423.18 \"/>\n",
       "<polyline clip-path=\"url(#clip820)\" style=\"stroke:#000000; stroke-linecap:round; stroke-linejoin:round; stroke-width:4; stroke-opacity:1; fill:none\" points=\"316.512,1423.18 316.512,1404.28 \"/>\n",
       "<polyline clip-path=\"url(#clip820)\" style=\"stroke:#000000; stroke-linecap:round; stroke-linejoin:round; stroke-width:4; stroke-opacity:1; fill:none\" points=\"975.491,1423.18 975.491,1404.28 \"/>\n",
       "<polyline clip-path=\"url(#clip820)\" style=\"stroke:#000000; stroke-linecap:round; stroke-linejoin:round; stroke-width:4; stroke-opacity:1; fill:none\" points=\"1634.47,1423.18 1634.47,1404.28 \"/>\n",
       "<polyline clip-path=\"url(#clip820)\" style=\"stroke:#000000; stroke-linecap:round; stroke-linejoin:round; stroke-width:4; stroke-opacity:1; fill:none\" points=\"2293.45,1423.18 2293.45,1404.28 \"/>\n",
       "<path clip-path=\"url(#clip820)\" d=\"M316.512 1454.1 Q312.901 1454.1 311.072 1457.66 Q309.267 1461.2 309.267 1468.33 Q309.267 1475.44 311.072 1479.01 Q312.901 1482.55 316.512 1482.55 Q320.146 1482.55 321.952 1479.01 Q323.781 1475.44 323.781 1468.33 Q323.781 1461.2 321.952 1457.66 Q320.146 1454.1 316.512 1454.1 M316.512 1450.39 Q322.322 1450.39 325.378 1455 Q328.456 1459.58 328.456 1468.33 Q328.456 1477.06 325.378 1481.67 Q322.322 1486.25 316.512 1486.25 Q310.702 1486.25 307.623 1481.67 Q304.568 1477.06 304.568 1468.33 Q304.568 1459.58 307.623 1455 Q310.702 1450.39 316.512 1450.39 Z\" fill=\"#000000\" fill-rule=\"nonzero\" fill-opacity=\"1\" /><path clip-path=\"url(#clip820)\" d=\"M950.178 1481.64 L957.817 1481.64 L957.817 1455.28 L949.507 1456.95 L949.507 1452.69 L957.771 1451.02 L962.447 1451.02 L962.447 1481.64 L970.086 1481.64 L970.086 1485.58 L950.178 1485.58 L950.178 1481.64 Z\" fill=\"#000000\" fill-rule=\"nonzero\" fill-opacity=\"1\" /><path clip-path=\"url(#clip820)\" d=\"M989.53 1454.1 Q985.919 1454.1 984.09 1457.66 Q982.285 1461.2 982.285 1468.33 Q982.285 1475.44 984.09 1479.01 Q985.919 1482.55 989.53 1482.55 Q993.164 1482.55 994.97 1479.01 Q996.798 1475.44 996.798 1468.33 Q996.798 1461.2 994.97 1457.66 Q993.164 1454.1 989.53 1454.1 M989.53 1450.39 Q995.34 1450.39 998.396 1455 Q1001.47 1459.58 1001.47 1468.33 Q1001.47 1477.06 998.396 1481.67 Q995.34 1486.25 989.53 1486.25 Q983.72 1486.25 980.641 1481.67 Q977.586 1477.06 977.586 1468.33 Q977.586 1459.58 980.641 1455 Q983.72 1450.39 989.53 1450.39 Z\" fill=\"#000000\" fill-rule=\"nonzero\" fill-opacity=\"1\" /><path clip-path=\"url(#clip820)\" d=\"M1613.24 1481.64 L1629.56 1481.64 L1629.56 1485.58 L1607.62 1485.58 L1607.62 1481.64 Q1610.28 1478.89 1614.86 1474.26 Q1619.47 1469.61 1620.65 1468.27 Q1622.9 1465.74 1623.77 1464.01 Q1624.68 1462.25 1624.68 1460.56 Q1624.68 1457.8 1622.73 1456.07 Q1620.81 1454.33 1617.71 1454.33 Q1615.51 1454.33 1613.06 1455.09 Q1610.63 1455.86 1607.85 1457.41 L1607.85 1452.69 Q1610.67 1451.55 1613.13 1450.97 Q1615.58 1450.39 1617.62 1450.39 Q1622.99 1450.39 1626.18 1453.08 Q1629.38 1455.77 1629.38 1460.26 Q1629.38 1462.39 1628.57 1464.31 Q1627.78 1466.2 1625.67 1468.8 Q1625.09 1469.47 1621.99 1472.69 Q1618.89 1475.88 1613.24 1481.64 Z\" fill=\"#000000\" fill-rule=\"nonzero\" fill-opacity=\"1\" /><path clip-path=\"url(#clip820)\" d=\"M1649.38 1454.1 Q1645.77 1454.1 1643.94 1457.66 Q1642.13 1461.2 1642.13 1468.33 Q1642.13 1475.44 1643.94 1479.01 Q1645.77 1482.55 1649.38 1482.55 Q1653.01 1482.55 1654.82 1479.01 Q1656.65 1475.44 1656.65 1468.33 Q1656.65 1461.2 1654.82 1457.66 Q1653.01 1454.1 1649.38 1454.1 M1649.38 1450.39 Q1655.19 1450.39 1658.24 1455 Q1661.32 1459.58 1661.32 1468.33 Q1661.32 1477.06 1658.24 1481.67 Q1655.19 1486.25 1649.38 1486.25 Q1643.57 1486.25 1640.49 1481.67 Q1637.43 1477.06 1637.43 1468.33 Q1637.43 1459.58 1640.49 1455 Q1643.57 1450.39 1649.38 1450.39 Z\" fill=\"#000000\" fill-rule=\"nonzero\" fill-opacity=\"1\" /><path clip-path=\"url(#clip820)\" d=\"M2282.29 1466.95 Q2285.65 1467.66 2287.52 1469.93 Q2289.42 1472.2 2289.42 1475.53 Q2289.42 1480.65 2285.9 1483.45 Q2282.38 1486.25 2275.9 1486.25 Q2273.73 1486.25 2271.41 1485.81 Q2269.12 1485.39 2266.67 1484.54 L2266.67 1480.02 Q2268.61 1481.16 2270.92 1481.74 Q2273.24 1482.32 2275.76 1482.32 Q2280.16 1482.32 2282.45 1480.58 Q2284.77 1478.84 2284.77 1475.53 Q2284.77 1472.48 2282.61 1470.77 Q2280.48 1469.03 2276.67 1469.03 L2272.64 1469.03 L2272.64 1465.19 L2276.85 1465.19 Q2280.3 1465.19 2282.13 1463.82 Q2283.96 1462.43 2283.96 1459.84 Q2283.96 1457.18 2282.06 1455.77 Q2280.18 1454.33 2276.67 1454.33 Q2274.74 1454.33 2272.55 1454.75 Q2270.35 1455.16 2267.71 1456.04 L2267.71 1451.88 Q2270.37 1451.14 2272.68 1450.77 Q2275.02 1450.39 2277.08 1450.39 Q2282.41 1450.39 2285.51 1452.83 Q2288.61 1455.23 2288.61 1459.35 Q2288.61 1462.22 2286.97 1464.21 Q2285.32 1466.18 2282.29 1466.95 Z\" fill=\"#000000\" fill-rule=\"nonzero\" fill-opacity=\"1\" /><path clip-path=\"url(#clip820)\" d=\"M2308.29 1454.1 Q2304.67 1454.1 2302.85 1457.66 Q2301.04 1461.2 2301.04 1468.33 Q2301.04 1475.44 2302.85 1479.01 Q2304.67 1482.55 2308.29 1482.55 Q2311.92 1482.55 2313.73 1479.01 Q2315.55 1475.44 2315.55 1468.33 Q2315.55 1461.2 2313.73 1457.66 Q2311.92 1454.1 2308.29 1454.1 M2308.29 1450.39 Q2314.1 1450.39 2317.15 1455 Q2320.23 1459.58 2320.23 1468.33 Q2320.23 1477.06 2317.15 1481.67 Q2314.1 1486.25 2308.29 1486.25 Q2302.48 1486.25 2299.4 1481.67 Q2296.34 1477.06 2296.34 1468.33 Q2296.34 1459.58 2299.4 1455 Q2302.48 1450.39 2308.29 1450.39 Z\" fill=\"#000000\" fill-rule=\"nonzero\" fill-opacity=\"1\" /><path clip-path=\"url(#clip820)\" d=\"M1160.69 1522.27 L1160.69 1532.4 L1172.75 1532.4 L1172.75 1536.95 L1160.69 1536.95 L1160.69 1556.3 Q1160.69 1560.66 1161.86 1561.9 Q1163.07 1563.14 1166.73 1563.14 L1172.75 1563.14 L1172.75 1568.04 L1166.73 1568.04 Q1159.95 1568.04 1157.38 1565.53 Q1154.8 1562.98 1154.8 1556.3 L1154.8 1536.95 L1150.5 1536.95 L1150.5 1532.4 L1154.8 1532.4 L1154.8 1522.27 L1160.69 1522.27 Z\" fill=\"#000000\" fill-rule=\"nonzero\" fill-opacity=\"1\" /><path clip-path=\"url(#clip820)\" d=\"M1180.45 1532.4 L1186.31 1532.4 L1186.31 1568.04 L1180.45 1568.04 L1180.45 1532.4 M1180.45 1518.52 L1186.31 1518.52 L1186.31 1525.93 L1180.45 1525.93 L1180.45 1518.52 Z\" fill=\"#000000\" fill-rule=\"nonzero\" fill-opacity=\"1\" /><path clip-path=\"url(#clip820)\" d=\"M1226.32 1539.24 Q1228.51 1535.29 1231.57 1533.41 Q1234.62 1531.54 1238.76 1531.54 Q1244.33 1531.54 1247.35 1535.45 Q1250.38 1539.33 1250.38 1546.53 L1250.38 1568.04 L1244.49 1568.04 L1244.49 1546.72 Q1244.49 1541.59 1242.68 1539.11 Q1240.86 1536.63 1237.14 1536.63 Q1232.59 1536.63 1229.94 1539.65 Q1227.3 1542.68 1227.3 1547.9 L1227.3 1568.04 L1221.41 1568.04 L1221.41 1546.72 Q1221.41 1541.56 1219.6 1539.11 Q1217.79 1536.63 1214 1536.63 Q1209.51 1536.63 1206.87 1539.68 Q1204.23 1542.71 1204.23 1547.9 L1204.23 1568.04 L1198.34 1568.04 L1198.34 1532.4 L1204.23 1532.4 L1204.23 1537.93 Q1206.23 1534.66 1209.03 1533.1 Q1211.83 1531.54 1215.69 1531.54 Q1219.57 1531.54 1222.27 1533.51 Q1225.01 1535.48 1226.32 1539.24 Z\" fill=\"#000000\" fill-rule=\"nonzero\" fill-opacity=\"1\" /><path clip-path=\"url(#clip820)\" d=\"M1292.55 1548.76 L1292.55 1551.62 L1265.62 1551.62 Q1266.01 1557.67 1269.25 1560.85 Q1272.53 1564 1278.36 1564 Q1281.73 1564 1284.88 1563.17 Q1288.06 1562.35 1291.18 1560.69 L1291.18 1566.23 Q1288.03 1567.57 1284.72 1568.27 Q1281.41 1568.97 1278.01 1568.97 Q1269.48 1568.97 1264.48 1564 Q1259.51 1559.04 1259.51 1550.57 Q1259.51 1541.82 1264.22 1536.69 Q1268.97 1531.54 1276.99 1531.54 Q1284.18 1531.54 1288.35 1536.18 Q1292.55 1540.8 1292.55 1548.76 M1286.69 1547.04 Q1286.63 1542.23 1283.99 1539.37 Q1281.38 1536.5 1277.05 1536.5 Q1272.15 1536.5 1269.19 1539.27 Q1266.26 1542.04 1265.81 1547.07 L1286.69 1547.04 Z\" fill=\"#000000\" fill-rule=\"nonzero\" fill-opacity=\"1\" /><path clip-path=\"url(#clip820)\" d=\"M1336.95 1518.58 Q1332.69 1525.9 1330.62 1533.06 Q1328.55 1540.23 1328.55 1547.58 Q1328.55 1554.93 1330.62 1562.16 Q1332.72 1569.35 1336.95 1576.64 L1331.86 1576.64 Q1327.08 1569.16 1324.7 1561.93 Q1322.34 1554.71 1322.34 1547.58 Q1322.34 1540.48 1324.7 1533.29 Q1327.05 1526.09 1331.86 1518.58 L1336.95 1518.58 Z\" fill=\"#000000\" fill-rule=\"nonzero\" fill-opacity=\"1\" /><path clip-path=\"url(#clip820)\" d=\"M1376.07 1539.24 Q1378.27 1535.29 1381.32 1533.41 Q1384.38 1531.54 1388.51 1531.54 Q1394.08 1531.54 1397.11 1535.45 Q1400.13 1539.33 1400.13 1546.53 L1400.13 1568.04 L1394.24 1568.04 L1394.24 1546.72 Q1394.24 1541.59 1392.43 1539.11 Q1390.61 1536.63 1386.89 1536.63 Q1382.34 1536.63 1379.7 1539.65 Q1377.06 1542.68 1377.06 1547.9 L1377.06 1568.04 L1371.17 1568.04 L1371.17 1546.72 Q1371.17 1541.56 1369.35 1539.11 Q1367.54 1536.63 1363.75 1536.63 Q1359.26 1536.63 1356.62 1539.68 Q1353.98 1542.71 1353.98 1547.9 L1353.98 1568.04 L1348.09 1568.04 L1348.09 1532.4 L1353.98 1532.4 L1353.98 1537.93 Q1355.99 1534.66 1358.79 1533.1 Q1361.59 1531.54 1365.44 1531.54 Q1369.32 1531.54 1372.03 1533.51 Q1374.76 1535.48 1376.07 1539.24 Z\" fill=\"#000000\" fill-rule=\"nonzero\" fill-opacity=\"1\" /><path clip-path=\"url(#clip820)\" d=\"M1434.54 1533.45 L1434.54 1538.98 Q1432.06 1537.71 1429.38 1537.07 Q1426.71 1536.44 1423.84 1536.44 Q1419.48 1536.44 1417.29 1537.77 Q1415.12 1539.11 1415.12 1541.79 Q1415.12 1543.82 1416.68 1545 Q1418.24 1546.15 1422.95 1547.2 L1424.96 1547.64 Q1431.2 1548.98 1433.81 1551.43 Q1436.45 1553.85 1436.45 1558.21 Q1436.45 1563.17 1432.5 1566.07 Q1428.59 1568.97 1421.71 1568.97 Q1418.85 1568.97 1415.73 1568.39 Q1412.64 1567.85 1409.2 1566.74 L1409.2 1560.69 Q1412.45 1562.38 1415.6 1563.24 Q1418.75 1564.07 1421.84 1564.07 Q1425.98 1564.07 1428.2 1562.66 Q1430.43 1561.23 1430.43 1558.65 Q1430.43 1556.27 1428.81 1554.99 Q1427.22 1553.72 1421.77 1552.54 L1419.74 1552.07 Q1414.3 1550.92 1411.88 1548.56 Q1409.46 1546.18 1409.46 1542.04 Q1409.46 1537.01 1413.02 1534.27 Q1416.59 1531.54 1423.14 1531.54 Q1426.39 1531.54 1429.25 1532.01 Q1432.12 1532.49 1434.54 1533.45 Z\" fill=\"#000000\" fill-rule=\"nonzero\" fill-opacity=\"1\" /><path clip-path=\"url(#clip820)\" d=\"M1444.85 1518.58 L1449.94 1518.58 Q1454.72 1526.09 1457.07 1533.29 Q1459.46 1540.48 1459.46 1547.58 Q1459.46 1554.71 1457.07 1561.93 Q1454.72 1569.16 1449.94 1576.64 L1444.85 1576.64 Q1449.08 1569.35 1451.15 1562.16 Q1453.25 1554.93 1453.25 1547.58 Q1453.25 1540.23 1451.15 1533.06 Q1449.08 1525.9 1444.85 1518.58 Z\" fill=\"#000000\" fill-rule=\"nonzero\" fill-opacity=\"1\" /><polyline clip-path=\"url(#clip822)\" style=\"stroke:#000000; stroke-linecap:round; stroke-linejoin:round; stroke-width:2; stroke-opacity:0.1; fill:none\" points=\"257.204,1409.58 2352.76,1409.58 \"/>\n",
       "<polyline clip-path=\"url(#clip822)\" style=\"stroke:#000000; stroke-linecap:round; stroke-linejoin:round; stroke-width:2; stroke-opacity:0.1; fill:none\" points=\"257.204,1217.26 2352.76,1217.26 \"/>\n",
       "<polyline clip-path=\"url(#clip822)\" style=\"stroke:#000000; stroke-linecap:round; stroke-linejoin:round; stroke-width:2; stroke-opacity:0.1; fill:none\" points=\"257.204,1024.94 2352.76,1024.94 \"/>\n",
       "<polyline clip-path=\"url(#clip822)\" style=\"stroke:#000000; stroke-linecap:round; stroke-linejoin:round; stroke-width:2; stroke-opacity:0.1; fill:none\" points=\"257.204,832.614 2352.76,832.614 \"/>\n",
       "<polyline clip-path=\"url(#clip822)\" style=\"stroke:#000000; stroke-linecap:round; stroke-linejoin:round; stroke-width:2; stroke-opacity:0.1; fill:none\" points=\"257.204,640.292 2352.76,640.292 \"/>\n",
       "<polyline clip-path=\"url(#clip822)\" style=\"stroke:#000000; stroke-linecap:round; stroke-linejoin:round; stroke-width:2; stroke-opacity:0.1; fill:none\" points=\"257.204,447.97 2352.76,447.97 \"/>\n",
       "<polyline clip-path=\"url(#clip822)\" style=\"stroke:#000000; stroke-linecap:round; stroke-linejoin:round; stroke-width:2; stroke-opacity:0.1; fill:none\" points=\"257.204,255.648 2352.76,255.648 \"/>\n",
       "<polyline clip-path=\"url(#clip820)\" style=\"stroke:#000000; stroke-linecap:round; stroke-linejoin:round; stroke-width:4; stroke-opacity:1; fill:none\" points=\"257.204,1423.18 257.204,123.472 \"/>\n",
       "<polyline clip-path=\"url(#clip820)\" style=\"stroke:#000000; stroke-linecap:round; stroke-linejoin:round; stroke-width:4; stroke-opacity:1; fill:none\" points=\"257.204,1409.58 276.102,1409.58 \"/>\n",
       "<polyline clip-path=\"url(#clip820)\" style=\"stroke:#000000; stroke-linecap:round; stroke-linejoin:round; stroke-width:4; stroke-opacity:1; fill:none\" points=\"257.204,1217.26 276.102,1217.26 \"/>\n",
       "<polyline clip-path=\"url(#clip820)\" style=\"stroke:#000000; stroke-linecap:round; stroke-linejoin:round; stroke-width:4; stroke-opacity:1; fill:none\" points=\"257.204,1024.94 276.102,1024.94 \"/>\n",
       "<polyline clip-path=\"url(#clip820)\" style=\"stroke:#000000; stroke-linecap:round; stroke-linejoin:round; stroke-width:4; stroke-opacity:1; fill:none\" points=\"257.204,832.614 276.102,832.614 \"/>\n",
       "<polyline clip-path=\"url(#clip820)\" style=\"stroke:#000000; stroke-linecap:round; stroke-linejoin:round; stroke-width:4; stroke-opacity:1; fill:none\" points=\"257.204,640.292 276.102,640.292 \"/>\n",
       "<polyline clip-path=\"url(#clip820)\" style=\"stroke:#000000; stroke-linecap:round; stroke-linejoin:round; stroke-width:4; stroke-opacity:1; fill:none\" points=\"257.204,447.97 276.102,447.97 \"/>\n",
       "<polyline clip-path=\"url(#clip820)\" style=\"stroke:#000000; stroke-linecap:round; stroke-linejoin:round; stroke-width:4; stroke-opacity:1; fill:none\" points=\"257.204,255.648 276.102,255.648 \"/>\n",
       "<path clip-path=\"url(#clip820)\" d=\"M115.256 1410.03 L144.931 1410.03 L144.931 1413.97 L115.256 1413.97 L115.256 1410.03 Z\" fill=\"#000000\" fill-rule=\"nonzero\" fill-opacity=\"1\" /><path clip-path=\"url(#clip820)\" d=\"M155.834 1422.92 L163.473 1422.92 L163.473 1396.56 L155.163 1398.23 L155.163 1393.97 L163.427 1392.3 L168.102 1392.3 L168.102 1422.92 L175.741 1422.92 L175.741 1426.86 L155.834 1426.86 L155.834 1422.92 Z\" fill=\"#000000\" fill-rule=\"nonzero\" fill-opacity=\"1\" /><path clip-path=\"url(#clip820)\" d=\"M185.186 1420.98 L190.07 1420.98 L190.07 1426.86 L185.186 1426.86 L185.186 1420.98 Z\" fill=\"#000000\" fill-rule=\"nonzero\" fill-opacity=\"1\" /><path clip-path=\"url(#clip820)\" d=\"M200.301 1392.3 L218.658 1392.3 L218.658 1396.24 L204.584 1396.24 L204.584 1404.71 Q205.602 1404.36 206.621 1404.2 Q207.639 1404.01 208.658 1404.01 Q214.445 1404.01 217.824 1407.18 Q221.204 1410.36 221.204 1415.77 Q221.204 1421.35 217.732 1424.45 Q214.26 1427.53 207.94 1427.53 Q205.764 1427.53 203.496 1427.16 Q201.25 1426.79 198.843 1426.05 L198.843 1421.35 Q200.926 1422.49 203.149 1423.04 Q205.371 1423.6 207.848 1423.6 Q211.852 1423.6 214.19 1421.49 Q216.528 1419.38 216.528 1415.77 Q216.528 1412.16 214.19 1410.05 Q211.852 1407.95 207.848 1407.95 Q205.973 1407.95 204.098 1408.36 Q202.246 1408.78 200.301 1409.66 L200.301 1392.3 Z\" fill=\"#000000\" fill-rule=\"nonzero\" fill-opacity=\"1\" /><path clip-path=\"url(#clip820)\" d=\"M114.26 1217.71 L143.936 1217.71 L143.936 1221.64 L114.26 1221.64 L114.26 1217.71 Z\" fill=\"#000000\" fill-rule=\"nonzero\" fill-opacity=\"1\" /><path clip-path=\"url(#clip820)\" d=\"M154.839 1230.6 L162.477 1230.6 L162.477 1204.24 L154.167 1205.9 L154.167 1201.64 L162.431 1199.98 L167.107 1199.98 L167.107 1230.6 L174.746 1230.6 L174.746 1234.54 L154.839 1234.54 L154.839 1230.6 Z\" fill=\"#000000\" fill-rule=\"nonzero\" fill-opacity=\"1\" /><path clip-path=\"url(#clip820)\" d=\"M184.19 1228.66 L189.075 1228.66 L189.075 1234.54 L184.19 1234.54 L184.19 1228.66 Z\" fill=\"#000000\" fill-rule=\"nonzero\" fill-opacity=\"1\" /><path clip-path=\"url(#clip820)\" d=\"M209.26 1203.06 Q205.649 1203.06 203.82 1206.62 Q202.014 1210.16 202.014 1217.29 Q202.014 1224.4 203.82 1227.96 Q205.649 1231.51 209.26 1231.51 Q212.894 1231.51 214.699 1227.96 Q216.528 1224.4 216.528 1217.29 Q216.528 1210.16 214.699 1206.62 Q212.894 1203.06 209.26 1203.06 M209.26 1199.35 Q215.07 1199.35 218.125 1203.96 Q221.204 1208.54 221.204 1217.29 Q221.204 1226.02 218.125 1230.63 Q215.07 1235.21 209.26 1235.21 Q203.449 1235.21 200.371 1230.63 Q197.315 1226.02 197.315 1217.29 Q197.315 1208.54 200.371 1203.96 Q203.449 1199.35 209.26 1199.35 Z\" fill=\"#000000\" fill-rule=\"nonzero\" fill-opacity=\"1\" /><path clip-path=\"url(#clip820)\" d=\"M115.256 1025.39 L144.931 1025.39 L144.931 1029.32 L115.256 1029.32 L115.256 1025.39 Z\" fill=\"#000000\" fill-rule=\"nonzero\" fill-opacity=\"1\" /><path clip-path=\"url(#clip820)\" d=\"M165.024 1010.73 Q161.413 1010.73 159.584 1014.3 Q157.778 1017.84 157.778 1024.97 Q157.778 1032.08 159.584 1035.64 Q161.413 1039.18 165.024 1039.18 Q168.658 1039.18 170.464 1035.64 Q172.292 1032.08 172.292 1024.97 Q172.292 1017.84 170.464 1014.3 Q168.658 1010.73 165.024 1010.73 M165.024 1007.03 Q170.834 1007.03 173.889 1011.64 Q176.968 1016.22 176.968 1024.97 Q176.968 1033.7 173.889 1038.3 Q170.834 1042.89 165.024 1042.89 Q159.214 1042.89 156.135 1038.3 Q153.079 1033.7 153.079 1024.97 Q153.079 1016.22 156.135 1011.64 Q159.214 1007.03 165.024 1007.03 Z\" fill=\"#000000\" fill-rule=\"nonzero\" fill-opacity=\"1\" /><path clip-path=\"url(#clip820)\" d=\"M185.186 1036.34 L190.07 1036.34 L190.07 1042.22 L185.186 1042.22 L185.186 1036.34 Z\" fill=\"#000000\" fill-rule=\"nonzero\" fill-opacity=\"1\" /><path clip-path=\"url(#clip820)\" d=\"M200.301 1007.66 L218.658 1007.66 L218.658 1011.59 L204.584 1011.59 L204.584 1020.06 Q205.602 1019.72 206.621 1019.55 Q207.639 1019.37 208.658 1019.37 Q214.445 1019.37 217.824 1022.54 Q221.204 1025.71 221.204 1031.13 Q221.204 1036.71 217.732 1039.81 Q214.26 1042.89 207.94 1042.89 Q205.764 1042.89 203.496 1042.52 Q201.25 1042.15 198.843 1041.41 L198.843 1036.71 Q200.926 1037.84 203.149 1038.4 Q205.371 1038.95 207.848 1038.95 Q211.852 1038.95 214.19 1036.85 Q216.528 1034.74 216.528 1031.13 Q216.528 1027.52 214.19 1025.41 Q211.852 1023.3 207.848 1023.3 Q205.973 1023.3 204.098 1023.72 Q202.246 1024.14 200.301 1025.02 L200.301 1007.66 Z\" fill=\"#000000\" fill-rule=\"nonzero\" fill-opacity=\"1\" /><path clip-path=\"url(#clip820)\" d=\"M164.028 818.412 Q160.417 818.412 158.589 821.977 Q156.783 825.519 156.783 832.649 Q156.783 839.755 158.589 843.32 Q160.417 846.861 164.028 846.861 Q167.663 846.861 169.468 843.32 Q171.297 839.755 171.297 832.649 Q171.297 825.519 169.468 821.977 Q167.663 818.412 164.028 818.412 M164.028 814.709 Q169.839 814.709 172.894 819.315 Q175.973 823.899 175.973 832.649 Q175.973 841.375 172.894 845.982 Q169.839 850.565 164.028 850.565 Q158.218 850.565 155.14 845.982 Q152.084 841.375 152.084 832.649 Q152.084 823.899 155.14 819.315 Q158.218 814.709 164.028 814.709 Z\" fill=\"#000000\" fill-rule=\"nonzero\" fill-opacity=\"1\" /><path clip-path=\"url(#clip820)\" d=\"M184.19 844.014 L189.075 844.014 L189.075 849.894 L184.19 849.894 L184.19 844.014 Z\" fill=\"#000000\" fill-rule=\"nonzero\" fill-opacity=\"1\" /><path clip-path=\"url(#clip820)\" d=\"M209.26 818.412 Q205.649 818.412 203.82 821.977 Q202.014 825.519 202.014 832.649 Q202.014 839.755 203.82 843.32 Q205.649 846.861 209.26 846.861 Q212.894 846.861 214.699 843.32 Q216.528 839.755 216.528 832.649 Q216.528 825.519 214.699 821.977 Q212.894 818.412 209.26 818.412 M209.26 814.709 Q215.07 814.709 218.125 819.315 Q221.204 823.899 221.204 832.649 Q221.204 841.375 218.125 845.982 Q215.07 850.565 209.26 850.565 Q203.449 850.565 200.371 845.982 Q197.315 841.375 197.315 832.649 Q197.315 823.899 200.371 819.315 Q203.449 814.709 209.26 814.709 Z\" fill=\"#000000\" fill-rule=\"nonzero\" fill-opacity=\"1\" /><path clip-path=\"url(#clip820)\" d=\"M165.024 626.09 Q161.413 626.09 159.584 629.655 Q157.778 633.197 157.778 640.326 Q157.778 647.433 159.584 650.998 Q161.413 654.539 165.024 654.539 Q168.658 654.539 170.464 650.998 Q172.292 647.433 172.292 640.326 Q172.292 633.197 170.464 629.655 Q168.658 626.09 165.024 626.09 M165.024 622.387 Q170.834 622.387 173.889 626.993 Q176.968 631.576 176.968 640.326 Q176.968 649.053 173.889 653.66 Q170.834 658.243 165.024 658.243 Q159.214 658.243 156.135 653.66 Q153.079 649.053 153.079 640.326 Q153.079 631.576 156.135 626.993 Q159.214 622.387 165.024 622.387 Z\" fill=\"#000000\" fill-rule=\"nonzero\" fill-opacity=\"1\" /><path clip-path=\"url(#clip820)\" d=\"M185.186 651.692 L190.07 651.692 L190.07 657.572 L185.186 657.572 L185.186 651.692 Z\" fill=\"#000000\" fill-rule=\"nonzero\" fill-opacity=\"1\" /><path clip-path=\"url(#clip820)\" d=\"M200.301 623.012 L218.658 623.012 L218.658 626.947 L204.584 626.947 L204.584 635.419 Q205.602 635.072 206.621 634.91 Q207.639 634.725 208.658 634.725 Q214.445 634.725 217.824 637.896 Q221.204 641.067 221.204 646.484 Q221.204 652.062 217.732 655.164 Q214.26 658.243 207.94 658.243 Q205.764 658.243 203.496 657.873 Q201.25 657.502 198.843 656.762 L198.843 652.062 Q200.926 653.197 203.149 653.752 Q205.371 654.308 207.848 654.308 Q211.852 654.308 214.19 652.201 Q216.528 650.095 216.528 646.484 Q216.528 642.873 214.19 640.766 Q211.852 638.66 207.848 638.66 Q205.973 638.66 204.098 639.076 Q202.246 639.493 200.301 640.373 L200.301 623.012 Z\" fill=\"#000000\" fill-rule=\"nonzero\" fill-opacity=\"1\" /><path clip-path=\"url(#clip820)\" d=\"M154.839 461.314 L162.477 461.314 L162.477 434.949 L154.167 436.616 L154.167 432.356 L162.431 430.69 L167.107 430.69 L167.107 461.314 L174.746 461.314 L174.746 465.25 L154.839 465.25 L154.839 461.314 Z\" fill=\"#000000\" fill-rule=\"nonzero\" fill-opacity=\"1\" /><path clip-path=\"url(#clip820)\" d=\"M184.19 459.37 L189.075 459.37 L189.075 465.25 L184.19 465.25 L184.19 459.37 Z\" fill=\"#000000\" fill-rule=\"nonzero\" fill-opacity=\"1\" /><path clip-path=\"url(#clip820)\" d=\"M209.26 433.768 Q205.649 433.768 203.82 437.333 Q202.014 440.875 202.014 448.004 Q202.014 455.111 203.82 458.676 Q205.649 462.217 209.26 462.217 Q212.894 462.217 214.699 458.676 Q216.528 455.111 216.528 448.004 Q216.528 440.875 214.699 437.333 Q212.894 433.768 209.26 433.768 M209.26 430.065 Q215.07 430.065 218.125 434.671 Q221.204 439.254 221.204 448.004 Q221.204 456.731 218.125 461.338 Q215.07 465.921 209.26 465.921 Q203.449 465.921 200.371 461.338 Q197.315 456.731 197.315 448.004 Q197.315 439.254 200.371 434.671 Q203.449 430.065 209.26 430.065 Z\" fill=\"#000000\" fill-rule=\"nonzero\" fill-opacity=\"1\" /><path clip-path=\"url(#clip820)\" d=\"M155.834 268.992 L163.473 268.992 L163.473 242.627 L155.163 244.293 L155.163 240.034 L163.427 238.368 L168.102 238.368 L168.102 268.992 L175.741 268.992 L175.741 272.928 L155.834 272.928 L155.834 268.992 Z\" fill=\"#000000\" fill-rule=\"nonzero\" fill-opacity=\"1\" /><path clip-path=\"url(#clip820)\" d=\"M185.186 267.048 L190.07 267.048 L190.07 272.928 L185.186 272.928 L185.186 267.048 Z\" fill=\"#000000\" fill-rule=\"nonzero\" fill-opacity=\"1\" /><path clip-path=\"url(#clip820)\" d=\"M200.301 238.368 L218.658 238.368 L218.658 242.303 L204.584 242.303 L204.584 250.775 Q205.602 250.428 206.621 250.266 Q207.639 250.08 208.658 250.08 Q214.445 250.08 217.824 253.252 Q221.204 256.423 221.204 261.84 Q221.204 267.418 217.732 270.52 Q214.26 273.599 207.94 273.599 Q205.764 273.599 203.496 273.228 Q201.25 272.858 198.843 272.117 L198.843 267.418 Q200.926 268.553 203.149 269.108 Q205.371 269.664 207.848 269.664 Q211.852 269.664 214.19 267.557 Q216.528 265.451 216.528 261.84 Q216.528 258.229 214.19 256.122 Q211.852 254.016 207.848 254.016 Q205.973 254.016 204.098 254.432 Q202.246 254.849 200.301 255.729 L200.301 238.368 Z\" fill=\"#000000\" fill-rule=\"nonzero\" fill-opacity=\"1\" /><path clip-path=\"url(#clip820)\" d=\"M58.657 990.062 L77.5631 990.062 L77.5631 995.951 L28.3562 995.951 L28.3562 990.062 L33.7671 990.062 Q30.5842 988.216 29.0564 985.415 Q27.4968 982.583 27.4968 978.668 Q27.4968 972.175 32.6531 968.133 Q37.8093 964.058 46.212 964.058 Q54.6147 964.058 59.771 968.133 Q64.9272 972.175 64.9272 978.668 Q64.9272 982.583 63.3994 985.415 Q61.8398 988.216 58.657 990.062 M46.212 970.138 Q39.7508 970.138 36.0905 972.811 Q32.3984 975.453 32.3984 980.1 Q32.3984 984.747 36.0905 987.421 Q39.7508 990.062 46.212 990.062 Q52.6732 990.062 56.3653 987.421 Q60.0256 984.747 60.0256 980.1 Q60.0256 975.453 56.3653 972.811 Q52.6732 970.138 46.212 970.138 Z\" fill=\"#000000\" fill-rule=\"nonzero\" fill-opacity=\"1\" /><path clip-path=\"url(#clip820)\" d=\"M32.4621 940.537 Q32.4621 945.248 36.1542 947.985 Q39.8145 950.722 46.212 950.722 Q52.6095 950.722 56.3017 948.017 Q59.9619 945.28 59.9619 940.537 Q59.9619 935.858 56.2698 933.121 Q52.5777 930.384 46.212 930.384 Q39.8781 930.384 36.186 933.121 Q32.4621 935.858 32.4621 940.537 M27.4968 940.537 Q27.4968 932.898 32.4621 928.538 Q37.4273 924.177 46.212 924.177 Q54.9649 924.177 59.9619 928.538 Q64.9272 932.898 64.9272 940.537 Q64.9272 948.208 59.9619 952.568 Q54.9649 956.897 46.212 956.897 Q37.4273 956.897 32.4621 952.568 Q27.4968 948.208 27.4968 940.537 Z\" fill=\"#000000\" fill-rule=\"nonzero\" fill-opacity=\"1\" /><path clip-path=\"url(#clip820)\" d=\"M29.4065 891.744 L34.9447 891.744 Q33.6716 894.227 33.035 896.9 Q32.3984 899.574 32.3984 902.438 Q32.3984 906.799 33.7352 908.995 Q35.072 911.159 37.7456 911.159 Q39.7826 911.159 40.9603 909.6 Q42.1061 908.04 43.1565 903.33 L43.6021 901.324 Q44.9389 895.086 47.3897 892.476 Q49.8086 889.834 54.1691 889.834 Q59.1344 889.834 62.0308 893.781 Q64.9272 897.696 64.9272 904.571 Q64.9272 907.436 64.3543 910.555 Q63.8132 913.642 62.6992 917.08 L56.6518 917.08 Q58.3387 913.833 59.198 910.682 Q60.0256 907.531 60.0256 904.444 Q60.0256 900.306 58.6251 898.078 Q57.1929 895.85 54.6147 895.85 Q52.2276 895.85 50.9545 897.473 Q49.6813 899.065 48.5037 904.507 L48.0262 906.544 Q46.8804 911.987 44.5251 914.406 Q42.138 916.825 38.0002 916.825 Q32.9713 916.825 30.2341 913.26 Q27.4968 909.695 27.4968 903.139 Q27.4968 899.892 27.9743 897.028 Q28.4517 894.163 29.4065 891.744 Z\" fill=\"#000000\" fill-rule=\"nonzero\" fill-opacity=\"1\" /><path clip-path=\"url(#clip820)\" d=\"M28.3562 880.509 L28.3562 874.652 L64.0042 874.652 L64.0042 880.509 L28.3562 880.509 M14.479 880.509 L14.479 874.652 L21.895 874.652 L21.895 880.509 L14.479 880.509 Z\" fill=\"#000000\" fill-rule=\"nonzero\" fill-opacity=\"1\" /><path clip-path=\"url(#clip820)\" d=\"M18.2347 856.605 L28.3562 856.605 L28.3562 844.542 L32.9077 844.542 L32.9077 856.605 L52.2594 856.605 Q56.6199 856.605 57.8613 855.428 Q59.1026 854.218 59.1026 850.558 L59.1026 844.542 L64.0042 844.542 L64.0042 850.558 Q64.0042 857.337 61.4897 859.916 Q58.9434 862.494 52.2594 862.494 L32.9077 862.494 L32.9077 866.79 L28.3562 866.79 L28.3562 862.494 L18.2347 862.494 L18.2347 856.605 Z\" fill=\"#000000\" fill-rule=\"nonzero\" fill-opacity=\"1\" /><path clip-path=\"url(#clip820)\" d=\"M28.3562 836.84 L28.3562 830.983 L64.0042 830.983 L64.0042 836.84 L28.3562 836.84 M14.479 836.84 L14.479 830.983 L21.895 830.983 L21.895 836.84 L14.479 836.84 Z\" fill=\"#000000\" fill-rule=\"nonzero\" fill-opacity=\"1\" /><path clip-path=\"url(#clip820)\" d=\"M32.4621 804.916 Q32.4621 809.626 36.1542 812.364 Q39.8145 815.101 46.212 815.101 Q52.6095 815.101 56.3017 812.396 Q59.9619 809.658 59.9619 804.916 Q59.9619 800.237 56.2698 797.5 Q52.5777 794.763 46.212 794.763 Q39.8781 794.763 36.186 797.5 Q32.4621 800.237 32.4621 804.916 M27.4968 804.916 Q27.4968 797.277 32.4621 792.916 Q37.4273 788.556 46.212 788.556 Q54.9649 788.556 59.9619 792.916 Q64.9272 797.277 64.9272 804.916 Q64.9272 812.586 59.9619 816.947 Q54.9649 821.276 46.212 821.276 Q37.4273 821.276 32.4621 816.947 Q27.4968 812.586 27.4968 804.916 Z\" fill=\"#000000\" fill-rule=\"nonzero\" fill-opacity=\"1\" /><path clip-path=\"url(#clip820)\" d=\"M42.4881 749.216 L64.0042 749.216 L64.0042 755.072 L42.679 755.072 Q37.6183 755.072 35.1038 757.046 Q32.5894 759.019 32.5894 762.966 Q32.5894 767.708 35.6131 770.446 Q38.6368 773.183 43.8567 773.183 L64.0042 773.183 L64.0042 779.071 L28.3562 779.071 L28.3562 773.183 L33.8944 773.183 Q30.6797 771.082 29.0883 768.249 Q27.4968 765.385 27.4968 761.661 Q27.4968 755.518 31.3163 752.367 Q35.1038 749.216 42.4881 749.216 Z\" fill=\"#000000\" fill-rule=\"nonzero\" fill-opacity=\"1\" /><path clip-path=\"url(#clip820)\" d=\"M14.5426 702.746 Q21.8632 707.011 29.0246 709.08 Q36.186 711.149 43.5384 711.149 Q50.8908 711.149 58.1159 709.08 Q65.3091 706.979 72.5979 702.746 L72.5979 707.839 Q65.1182 712.613 57.8931 715 Q50.668 717.356 43.5384 717.356 Q36.4406 717.356 29.2474 715 Q22.0542 712.645 14.5426 707.839 L14.5426 702.746 Z\" fill=\"#000000\" fill-rule=\"nonzero\" fill-opacity=\"1\" /><path clip-path=\"url(#clip820)\" d=\"M35.1993 663.629 Q31.2526 661.433 29.3747 658.377 Q27.4968 655.322 27.4968 651.184 Q27.4968 645.614 31.4117 642.59 Q35.2948 639.567 42.4881 639.567 L64.0042 639.567 L64.0042 645.455 L42.679 645.455 Q37.5546 645.455 35.072 647.269 Q32.5894 649.083 32.5894 652.807 Q32.5894 657.359 35.6131 660 Q38.6368 662.642 43.8567 662.642 L64.0042 662.642 L64.0042 668.531 L42.679 668.531 Q37.5228 668.531 35.072 670.345 Q32.5894 672.159 32.5894 675.947 Q32.5894 680.434 35.6449 683.076 Q38.6686 685.718 43.8567 685.718 L64.0042 685.718 L64.0042 691.606 L28.3562 691.606 L28.3562 685.718 L33.8944 685.718 Q30.616 683.713 29.0564 680.912 Q27.4968 678.111 27.4968 674.26 Q27.4968 670.377 29.4702 667.671 Q31.4436 664.934 35.1993 663.629 Z\" fill=\"#000000\" fill-rule=\"nonzero\" fill-opacity=\"1\" /><path clip-path=\"url(#clip820)\" d=\"M35.1993 600.131 Q31.2526 597.935 29.3747 594.879 Q27.4968 591.824 27.4968 587.686 Q27.4968 582.116 31.4117 579.092 Q35.2948 576.069 42.4881 576.069 L64.0042 576.069 L64.0042 581.957 L42.679 581.957 Q37.5546 581.957 35.072 583.771 Q32.5894 585.585 32.5894 589.309 Q32.5894 593.861 35.6131 596.503 Q38.6368 599.144 43.8567 599.144 L64.0042 599.144 L64.0042 605.033 L42.679 605.033 Q37.5228 605.033 35.072 606.847 Q32.5894 608.661 32.5894 612.449 Q32.5894 616.936 35.6449 619.578 Q38.6686 622.22 43.8567 622.22 L64.0042 622.22 L64.0042 628.108 L28.3562 628.108 L28.3562 622.22 L33.8944 622.22 Q30.616 620.215 29.0564 617.414 Q27.4968 614.613 27.4968 610.762 Q27.4968 606.879 29.4702 604.173 Q31.4436 601.436 35.1993 600.131 Z\" fill=\"#000000\" fill-rule=\"nonzero\" fill-opacity=\"1\" /><path clip-path=\"url(#clip820)\" d=\"M14.5426 565.311 L14.5426 560.218 Q22.0542 555.444 29.2474 553.088 Q36.4406 550.701 43.5384 550.701 Q50.668 550.701 57.8931 553.088 Q65.1182 555.444 72.5979 560.218 L72.5979 565.311 Q65.3091 561.077 58.1159 559.009 Q50.8908 556.908 43.5384 556.908 Q36.186 556.908 29.0246 559.009 Q21.8632 561.077 14.5426 565.311 Z\" fill=\"#000000\" fill-rule=\"nonzero\" fill-opacity=\"1\" /><path clip-path=\"url(#clip820)\" d=\"M1112.04 27.2059 L1147.44 27.2059 L1147.44 34.0114 L1119.41 66.6212 L1147.44 66.6212 L1147.44 72.576 L1111.02 72.576 L1111.02 65.7705 L1139.05 33.1607 L1112.04 33.1607 L1112.04 27.2059 Z\" fill=\"#000000\" fill-rule=\"nonzero\" fill-opacity=\"1\" /><path clip-path=\"url(#clip820)\" d=\"M1192.41 65.7705 L1192.41 89.8329 L1184.91 89.8329 L1184.91 27.2059 L1192.41 27.2059 L1192.41 34.0924 Q1194.75 30.0415 1198.32 28.0971 Q1201.92 26.1121 1206.91 26.1121 Q1215.17 26.1121 1220.32 32.6746 Q1225.5 39.2371 1225.5 49.9314 Q1225.5 60.6258 1220.32 67.1883 Q1215.17 73.7508 1206.91 73.7508 Q1201.92 73.7508 1198.32 71.8063 Q1194.75 69.8214 1192.41 65.7705 M1217.76 49.9314 Q1217.76 41.7081 1214.36 37.0496 Q1211 32.3505 1205.08 32.3505 Q1199.17 32.3505 1195.77 37.0496 Q1192.41 41.7081 1192.41 49.9314 Q1192.41 58.1548 1195.77 62.8538 Q1199.17 67.5124 1205.08 67.5124 Q1211 67.5124 1214.36 62.8538 Q1217.76 58.1548 1217.76 49.9314 Z\" fill=\"#000000\" fill-rule=\"nonzero\" fill-opacity=\"1\" /><path clip-path=\"url(#clip820)\" d=\"M1255.44 32.4315 Q1249.44 32.4315 1245.96 37.1306 Q1242.47 41.7891 1242.47 49.9314 Q1242.47 58.0738 1245.92 62.7728 Q1249.4 67.4314 1255.44 67.4314 Q1261.39 67.4314 1264.88 62.7323 Q1268.36 58.0333 1268.36 49.9314 Q1268.36 41.8701 1264.88 37.1711 Q1261.39 32.4315 1255.44 32.4315 M1255.44 26.1121 Q1265.16 26.1121 1270.71 32.4315 Q1276.26 38.7509 1276.26 49.9314 Q1276.26 61.0714 1270.71 67.4314 Q1265.16 73.7508 1255.44 73.7508 Q1245.67 73.7508 1240.12 67.4314 Q1234.62 61.0714 1234.62 49.9314 Q1234.62 38.7509 1240.12 32.4315 Q1245.67 26.1121 1255.44 26.1121 Z\" fill=\"#000000\" fill-rule=\"nonzero\" fill-opacity=\"1\" /><path clip-path=\"url(#clip820)\" d=\"M1317.54 28.5427 L1317.54 35.5912 Q1314.38 33.9709 1310.98 33.1607 Q1307.57 32.3505 1303.93 32.3505 Q1298.38 32.3505 1295.58 34.0519 Q1292.83 35.7533 1292.83 39.156 Q1292.83 41.7486 1294.81 43.2475 Q1296.8 44.7058 1302.79 46.0426 L1305.34 46.6097 Q1313.28 48.3111 1316.61 51.4303 Q1319.97 54.509 1319.97 60.0587 Q1319.97 66.3781 1314.95 70.0644 Q1309.96 73.7508 1301.21 73.7508 Q1297.57 73.7508 1293.6 73.0216 Q1289.67 72.3329 1285.29 70.9151 L1285.29 63.2184 Q1289.42 65.3654 1293.43 66.4591 Q1297.45 67.5124 1301.37 67.5124 Q1306.64 67.5124 1309.48 65.73 Q1312.31 63.9071 1312.31 60.6258 Q1312.31 57.5877 1310.25 55.9673 Q1308.22 54.3469 1301.29 52.8481 L1298.7 52.2405 Q1291.77 50.7821 1288.7 47.7845 Q1285.62 44.7463 1285.62 39.4801 Q1285.62 33.0797 1290.15 29.5959 Q1294.69 26.1121 1303.04 26.1121 Q1307.17 26.1121 1310.81 26.7198 Q1314.46 27.3274 1317.54 28.5427 Z\" fill=\"#000000\" fill-rule=\"nonzero\" fill-opacity=\"1\" /><path clip-path=\"url(#clip820)\" d=\"M1331.84 27.2059 L1339.29 27.2059 L1339.29 72.576 L1331.84 72.576 L1331.84 27.2059 M1331.84 9.54393 L1339.29 9.54393 L1339.29 18.9825 L1331.84 18.9825 L1331.84 9.54393 Z\" fill=\"#000000\" fill-rule=\"nonzero\" fill-opacity=\"1\" /><path clip-path=\"url(#clip820)\" d=\"M1362.26 14.324 L1362.26 27.2059 L1377.61 27.2059 L1377.61 32.9987 L1362.26 32.9987 L1362.26 57.6282 Q1362.26 63.1779 1363.76 64.7578 Q1365.3 66.3376 1369.96 66.3376 L1377.61 66.3376 L1377.61 72.576 L1369.96 72.576 Q1361.33 72.576 1358.05 69.3758 Q1354.77 66.1351 1354.77 57.6282 L1354.77 32.9987 L1349.3 32.9987 L1349.3 27.2059 L1354.77 27.2059 L1354.77 14.324 L1362.26 14.324 Z\" fill=\"#000000\" fill-rule=\"nonzero\" fill-opacity=\"1\" /><path clip-path=\"url(#clip820)\" d=\"M1387.42 27.2059 L1394.87 27.2059 L1394.87 72.576 L1387.42 72.576 L1387.42 27.2059 M1387.42 9.54393 L1394.87 9.54393 L1394.87 18.9825 L1387.42 18.9825 L1387.42 9.54393 Z\" fill=\"#000000\" fill-rule=\"nonzero\" fill-opacity=\"1\" /><path clip-path=\"url(#clip820)\" d=\"M1428.05 32.4315 Q1422.05 32.4315 1418.57 37.1306 Q1415.08 41.7891 1415.08 49.9314 Q1415.08 58.0738 1418.53 62.7728 Q1422.01 67.4314 1428.05 67.4314 Q1434 67.4314 1437.49 62.7323 Q1440.97 58.0333 1440.97 49.9314 Q1440.97 41.8701 1437.49 37.1711 Q1434 32.4315 1428.05 32.4315 M1428.05 26.1121 Q1437.77 26.1121 1443.32 32.4315 Q1448.87 38.7509 1448.87 49.9314 Q1448.87 61.0714 1443.32 67.4314 Q1437.77 73.7508 1428.05 73.7508 Q1418.28 73.7508 1412.73 67.4314 Q1407.22 61.0714 1407.22 49.9314 Q1407.22 38.7509 1412.73 32.4315 Q1418.28 26.1121 1428.05 26.1121 Z\" fill=\"#000000\" fill-rule=\"nonzero\" fill-opacity=\"1\" /><path clip-path=\"url(#clip820)\" d=\"M1498.94 45.1919 L1498.94 72.576 L1491.48 72.576 L1491.48 45.4349 Q1491.48 38.994 1488.97 35.7938 Q1486.46 32.5936 1481.44 32.5936 Q1475.4 32.5936 1471.92 36.4419 Q1468.43 40.2903 1468.43 46.9338 L1468.43 72.576 L1460.94 72.576 L1460.94 27.2059 L1468.43 27.2059 L1468.43 34.2544 Q1471.11 30.163 1474.71 28.1376 Q1478.36 26.1121 1483.1 26.1121 Q1490.92 26.1121 1494.93 30.9732 Q1498.94 35.7938 1498.94 45.1919 Z\" fill=\"#000000\" fill-rule=\"nonzero\" fill-opacity=\"1\" /><polyline clip-path=\"url(#clip822)\" style=\"stroke:#009af9; stroke-linecap:round; stroke-linejoin:round; stroke-width:4; stroke-opacity:1; fill:none\" points=\"316.512,737.805 332.9,737.272 349.287,740.362 365.674,744.445 382.062,745.414 398.449,745.466 414.837,746.135 431.224,747.878 447.612,751.213 463.999,757.802 480.387,760.217 496.774,760.508 513.162,757.537 529.549,753.838 545.936,753.956 562.324,759.455 578.711,761.061 595.099,764.086 611.486,771.911 627.874,776.314 644.261,780.111 660.649,782.325 677.036,782.025 693.424,782.66 709.811,782.858 726.198,784.066 742.586,782.853 758.973,784.237 775.361,783.729 791.748,783.879 808.136,783.974 824.523,785.209 840.911,796.121 857.298,797.925 873.685,795.361 890.073,799.546 906.46,799.662 922.848,808.644 939.235,812.664 955.623,813.468 972.01,813.062 988.398,812.02 1004.79,809.952 1021.17,811.754 1037.56,811.626 1053.95,809.704 1070.33,812.016 1086.72,813.997 1103.11,815.08 1119.5,816.349 1135.88,817.188 1152.27,817.579 1168.66,817.741 1185.05,819.15 1201.43,820.607 1217.82,819.83 1234.21,819.158 1250.6,819.64 1266.98,817.943 1283.37,815.62 1299.76,816.119 1316.15,814.719 1332.53,814.792 1348.92,816.735 1365.31,815.872 1381.7,815.161 1398.08,815.576 1414.47,816.892 1430.86,815.649 1447.25,815.575 1463.63,814.293 1480.02,814.402 1496.41,816.778 1512.8,819.297 1529.18,819.871 1545.57,820.979 1561.96,821.259 1578.35,821.084 1594.73,821.239 1611.12,822.87 1627.51,822.555 1643.9,821.968 1660.28,823.078 1676.67,822.547 1693.06,819.562 1709.45,819.289 1725.83,821.228 1742.22,821.073 1758.61,820.888 1775,821.41 1791.38,822.157 1807.77,821.774 1824.16,822.685 1840.55,821.658 1856.93,820.732 1873.32,821.491 1889.71,820.567 1906.1,820.173 1922.48,820.334 1938.87,820.296 1955.26,820.233 1971.64,820.098 1988.03,817.861 2004.42,817.906 2020.81,820.157 2037.19,820.088 2053.58,819.974 2069.97,817.573 2086.36,818.357 2102.74,819.557 2119.13,822.612 2135.52,827.33 2151.91,829.34 2168.29,827.983 2184.68,828.452 2201.07,828.827 2217.46,829.114 2233.84,830.75 2250.23,830.502 2266.62,830.011 2283.01,829.967 2293.45,829.852 \"/>\n",
       "<polyline clip-path=\"url(#clip822)\" style=\"stroke:#e26f46; stroke-linecap:round; stroke-linejoin:round; stroke-width:4; stroke-opacity:1; fill:none\" points=\"316.512,757.856 332.9,734.513 349.287,729.801 365.674,730.923 382.062,733.527 398.449,736.903 414.837,736.948 431.224,729.867 447.612,727.852 463.999,729.917 480.387,729.508 496.774,725.022 513.162,726.438 529.549,726.971 545.936,726.378 562.324,726.42 578.711,729.117 595.099,729.564 611.486,730.011 627.874,730.339 644.261,731.736 660.649,731.789 677.036,732.755 693.424,733.783 709.811,734.375 726.198,736.942 742.586,737.336 758.973,733.022 775.361,732.38 791.748,732.786 808.136,729.463 824.523,731.1 840.911,730.777 857.298,730.63 873.685,730.707 890.073,730.375 906.46,729.906 922.848,729.503 939.235,730.528 955.623,730.854 972.01,730.864 988.398,729.161 1004.79,727.948 1021.17,726.52 1037.56,728.986 1053.95,729.843 1070.33,729.987 1086.72,729.822 1103.11,729.885 1119.5,733.014 1135.88,734.331 1152.27,733.799 1168.66,733.711 1185.05,734.227 1201.43,733.371 1217.82,735.574 1234.21,735.61 1250.6,735.886 1266.98,736.047 1283.37,735.365 1299.76,735.629 1316.15,736.424 1332.53,738.172 1348.92,733.089 1365.31,735.978 1381.7,740.818 1398.08,740.985 1414.47,740.588 1430.86,740.862 1447.25,742.802 1463.63,742.527 1480.02,742.261 1496.41,747.569 1512.8,747.966 1529.18,748.205 1545.57,748.543 1561.96,747.739 1578.35,748.761 1594.73,749.435 1611.12,750.043 1627.51,750.637 1643.9,751.069 1660.28,754.288 1676.67,754.286 1693.06,752.627 1709.45,749.693 1725.83,747.992 1742.22,747.514 1758.61,747.482 1775,747.852 1791.38,747.136 1807.77,747.181 1824.16,747.007 1840.55,751.865 1856.93,752.669 1873.32,752.751 1889.71,753.822 1906.1,754.214 1922.48,759.878 1938.87,767.436 1955.26,768.791 1971.64,766.921 1988.03,766.587 2004.42,766.753 2020.81,765.432 2037.19,765.402 2053.58,765.083 2069.97,764.541 2086.36,763.597 2102.74,763.51 2119.13,763.468 2135.52,763.65 2151.91,758.827 2168.29,758.642 2184.68,758.639 2201.07,758.417 2217.46,757.895 2233.84,756.609 2250.23,755.162 2266.62,756.597 2283.01,756.533 2293.45,756.39 \"/>\n",
       "<polyline clip-path=\"url(#clip822)\" style=\"stroke:#3da44d; stroke-linecap:round; stroke-linejoin:round; stroke-width:4; stroke-opacity:1; fill:none\" points=\"316.512,430.137 332.9,438.409 349.287,437.879 365.674,438.287 382.062,437.712 398.449,439.84 414.837,442.82 431.224,444.347 447.612,442.982 463.999,441.719 480.387,441.195 496.774,441.332 513.162,440.35 529.549,441.183 545.936,442.148 562.324,441.453 578.711,439.417 595.099,436.545 611.486,436.141 627.874,435.016 644.261,435.163 660.649,437.001 677.036,436.185 693.424,435.518 709.811,435.243 726.198,435.787 742.586,435.165 758.973,435.687 775.361,437.231 791.748,437.07 808.136,439.34 824.523,445.384 840.911,448.381 857.298,448.449 873.685,447.747 890.073,448.461 906.46,448.56 922.848,448.654 939.235,448.811 955.623,448.307 972.01,450.327 988.398,458.871 1004.79,480.224 1021.17,504.849 1037.56,536.215 1053.95,577.42 1070.33,627.585 1086.72,674.707 1103.11,724.882 1119.5,768.764 1135.88,808.995 1152.27,848.952 1168.66,884.943 1185.05,905.024 1201.43,913.313 1217.82,914.968 1234.21,915.938 1250.6,914.965 1266.98,916.225 1283.37,916.365 1299.76,915.723 1316.15,915.281 1332.53,911.054 1348.92,910.996 1365.31,910.046 1381.7,903.528 1398.08,903.504 1414.47,901.384 1430.86,902.546 1447.25,899.074 1463.63,897.927 1480.02,897.286 1496.41,891.586 1512.8,888.619 1529.18,884.525 1545.57,884.145 1561.96,884.615 1578.35,885.618 1594.73,885.658 1611.12,885.032 1627.51,887.789 1643.9,887.014 1660.28,888.092 1676.67,892.166 1693.06,891.81 1709.45,888.271 1725.83,880.265 1742.22,871.252 1758.61,859.392 1775,844.883 1791.38,827.189 1807.77,814.027 1824.16,800.207 1840.55,794.198 1856.93,791.311 1873.32,792.89 1889.71,790.963 1906.1,788.6 1922.48,789.33 1938.87,788.289 1955.26,787.183 1971.64,787.804 1988.03,787.837 2004.42,789.232 2020.81,789.085 2037.19,788.655 2053.58,786.401 2069.97,776.018 2086.36,775.528 2102.74,776.41 2119.13,775.994 2135.52,781.39 2151.91,781.817 2168.29,783.602 2184.68,785.437 2201.07,788.668 2217.46,789.378 2233.84,788.858 2250.23,788.106 2266.62,790.854 2283.01,793.232 2293.45,794.704 \"/>\n",
       "<polyline clip-path=\"url(#clip822)\" style=\"stroke:#c271d2; stroke-linecap:round; stroke-linejoin:round; stroke-width:4; stroke-opacity:1; fill:none\" points=\"316.512,1006.62 332.9,1010.21 349.287,1013.41 365.674,1010.47 382.062,988.373 398.449,974.538 414.837,961.283 431.224,955.267 447.612,957.7 463.999,959.16 480.387,949.559 496.774,927.841 513.162,904.14 529.549,892.922 545.936,885.6 562.324,883.879 578.711,883.679 595.099,883.991 611.486,882.582 627.874,874.758 644.261,875.298 660.649,875.765 677.036,871.924 693.424,873.074 709.811,867.634 726.198,857.24 742.586,851.742 758.973,850.523 775.361,849.488 791.748,851.492 808.136,858.273 824.523,866.094 840.911,873.466 857.298,875.406 873.685,872.417 890.073,869.963 906.46,862.307 922.848,855.74 939.235,858.639 955.623,858.297 972.01,853.173 988.398,848.976 1004.79,839.957 1021.17,830.269 1037.56,831.658 1053.95,837.577 1070.33,843.811 1086.72,850.477 1103.11,850.146 1119.5,853.04 1135.88,851.87 1152.27,851.151 1168.66,854.183 1185.05,851.208 1201.43,845.712 1217.82,847.091 1234.21,847.794 1250.6,849.313 1266.98,849.288 1283.37,848.578 1299.76,848.687 1316.15,850.681 1332.53,849.87 1348.92,850.442 1365.31,850.047 1381.7,850.117 1398.08,850.854 1414.47,851.342 1430.86,851.385 1447.25,851.116 1463.63,851.572 1480.02,849.267 1496.41,848.643 1512.8,848.296 1529.18,846.996 1545.57,845.575 1561.96,845.343 1578.35,844.27 1594.73,844.828 1611.12,845.508 1627.51,845.004 1643.9,845.401 1660.28,844.74 1676.67,844.764 1693.06,843.732 1709.45,841.995 1725.83,845.315 1742.22,845.14 1758.61,845.106 1775,845.521 1791.38,848.382 1807.77,856.759 1824.16,859.868 1840.55,860.121 1856.93,862.378 1873.32,864.446 1889.71,864.392 1906.1,864.144 1922.48,864.891 1938.87,860.848 1955.26,858.746 1971.64,857.867 1988.03,856.213 2004.42,857.324 2020.81,862.369 2037.19,860.462 2053.58,861.7 2069.97,861.347 2086.36,861.833 2102.74,860.244 2119.13,856.75 2135.52,856.247 2151.91,856.541 2168.29,857.176 2184.68,854.665 2201.07,854.481 2217.46,854.973 2233.84,855.234 2250.23,855.02 2266.62,853.765 2283.01,852.054 2293.45,845.698 \"/>\n",
       "<polyline clip-path=\"url(#clip822)\" style=\"stroke:#ac8d18; stroke-linecap:round; stroke-linejoin:round; stroke-width:4; stroke-opacity:1; fill:none\" points=\"316.512,483.849 332.9,490.242 349.287,491.412 365.674,488.577 382.062,492.698 398.449,495.264 414.837,498.143 431.224,499.743 447.612,501.875 463.999,500.804 480.387,504.493 496.774,507.994 513.162,505.481 529.549,505.956 545.936,509.205 562.324,507.096 578.711,504.829 595.099,505.004 611.486,505.399 627.874,506.407 644.261,510.468 660.649,530.152 677.036,547.59 693.424,557.995 709.811,575.639 726.198,600.729 742.586,632.848 758.973,653.115 775.361,669.095 791.748,685.792 808.136,703.118 824.523,719.775 840.911,733.27 857.298,738.037 873.685,744.539 890.073,753.2 906.46,761.554 922.848,773.156 939.235,791.526 955.623,812.944 972.01,837.738 988.398,864.524 1004.79,889.375 1021.17,906.581 1037.56,907.519 1053.95,899.453 1070.33,892.421 1086.72,886.125 1103.11,882.079 1119.5,880.436 1135.88,879.864 1152.27,882.148 1168.66,878.412 1185.05,879.309 1201.43,878.415 1217.82,872.897 1234.21,871.426 1250.6,868.947 1266.98,871.076 1283.37,874.731 1299.76,867.222 1316.15,861.978 1332.53,862.437 1348.92,863.004 1365.31,863.136 1381.7,861.565 1398.08,865.519 1414.47,866.594 1430.86,866.786 1447.25,865.78 1463.63,865.181 1480.02,865.954 1496.41,869.968 1512.8,870.189 1529.18,871.242 1545.57,870.567 1561.96,871.05 1578.35,872.109 1594.73,873.233 1611.12,872.298 1627.51,870.788 1643.9,872.725 1660.28,873.262 1676.67,876.006 1693.06,876.038 1709.45,879.859 1725.83,880.353 1742.22,878.122 1758.61,879.771 1775,882.307 1791.38,887.791 1807.77,887.475 1824.16,886.099 1840.55,883.909 1856.93,883.349 1873.32,881.912 1889.71,877.123 1906.1,875.218 1922.48,876.058 1938.87,874.153 1955.26,870.354 1971.64,867.194 1988.03,861.67 2004.42,863.267 2020.81,866.372 2037.19,867.313 2053.58,867.75 2069.97,864.221 2086.36,863.758 2102.74,864.855 2119.13,867.229 2135.52,866.657 2151.91,866.861 2168.29,866.189 2184.68,864.938 2201.07,864.974 2217.46,865.596 2233.84,865.351 2250.23,865.485 2266.62,863.872 2283.01,863.303 2293.45,861.846 \"/>\n",
       "<polyline clip-path=\"url(#clip822)\" style=\"stroke:#00a9ad; stroke-linecap:round; stroke-linejoin:round; stroke-width:4; stroke-opacity:1; fill:none\" points=\"316.512,723.166 332.9,707.8 349.287,692.321 365.674,688.448 382.062,688.239 398.449,686.839 414.837,688.515 431.224,690.449 447.612,699.001 463.999,703.983 480.387,710.698 496.774,714.099 513.162,702.927 529.549,700.085 545.936,698.684 562.324,705.01 578.711,706.073 595.099,712.337 611.486,729.114 627.874,743.601 644.261,755.35 660.649,768.723 677.036,790.317 693.424,807.306 709.811,824.227 726.198,832.322 742.586,835.113 758.973,830.789 775.361,826.973 791.748,826.687 808.136,826.79 824.523,828.821 840.911,830.461 857.298,836.792 873.685,837.749 890.073,837.643 906.46,835.116 922.848,827.057 939.235,821.981 955.623,825.63 972.01,837.678 988.398,849.801 1004.79,866.505 1021.17,880.784 1037.56,894.689 1053.95,906.254 1070.33,913.395 1086.72,923.532 1103.11,929.772 1119.5,928.638 1135.88,929.891 1152.27,924.566 1168.66,913.135 1185.05,900.298 1201.43,888.83 1217.82,875.364 1234.21,856.387 1250.6,836.637 1266.98,817.398 1283.37,797.738 1299.76,778.124 1316.15,759.512 1332.53,746.459 1348.92,740.018 1365.31,730.524 1381.7,727.347 1398.08,728.409 1414.47,732.739 1430.86,736.84 1447.25,740.799 1463.63,743.52 1480.02,730.558 1496.41,717.773 1512.8,710.465 1529.18,697.761 1545.57,687.563 1561.96,681.052 1578.35,679.754 1594.73,679.941 1611.12,680.781 1627.51,682.829 1643.9,682.17 1660.28,680.53 1676.67,677.325 1693.06,673.161 1709.45,671.248 1725.83,672.352 1742.22,671.206 1758.61,670.751 1775,670.395 1791.38,668.887 1807.77,671.495 1824.16,671.425 1840.55,673.712 1856.93,689.131 1873.32,710.103 1889.71,725.945 1906.1,751.972 1922.48,776.996 1938.87,793.097 1955.26,800.895 1971.64,799.386 1988.03,799.007 2004.42,797.212 2020.81,794.834 2037.19,795.9 2053.58,797.085 2069.97,797.584 2086.36,805.774 2102.74,810.632 2119.13,812.61 2135.52,813.615 2151.91,815.595 2168.29,815.616 2184.68,815.655 2201.07,814.484 2217.46,814.419 2233.84,813.288 2250.23,813.486 2266.62,813.993 2283.01,814.268 2293.45,813.769 \"/>\n",
       "<polyline clip-path=\"url(#clip822)\" style=\"stroke:#ed5d92; stroke-linecap:round; stroke-linejoin:round; stroke-width:4; stroke-opacity:1; fill:none\" points=\"316.512,816.211 332.9,818.014 349.287,821.578 365.674,821.002 382.062,820.366 398.449,820.25 414.837,818.162 431.224,816.8 447.612,817.192 463.999,818.486 480.387,819.146 496.774,818.133 513.162,818.065 529.549,821.484 545.936,823.629 562.324,826.205 578.711,826.801 595.099,827.212 611.486,826.378 627.874,825.627 644.261,826.521 660.649,826.585 677.036,825.564 693.424,821.217 709.811,820.827 726.198,822.313 742.586,824.66 758.973,826.416 775.361,826.584 791.748,826.436 808.136,826.332 824.523,824.967 840.911,823.474 857.298,822.136 873.685,821.049 890.073,820.946 906.46,819.863 922.848,820.204 939.235,819.897 955.623,820.404 972.01,820.974 988.398,819.826 1004.79,819.911 1021.17,819.176 1037.56,819.032 1053.95,821.081 1070.33,823.937 1086.72,825.967 1103.11,828.913 1119.5,830.794 1135.88,831.932 1152.27,832.503 1168.66,832.329 1185.05,833.883 1201.43,834.522 1217.82,835.979 1234.21,838.436 1250.6,838.544 1266.98,839.074 1283.37,840.322 1299.76,839.226 1316.15,838.115 1332.53,838.165 1348.92,838.455 1365.31,839.283 1381.7,840.101 1398.08,838.052 1414.47,838.125 1430.86,838.987 1447.25,839.911 1463.63,837.928 1480.02,833.092 1496.41,834.239 1512.8,836.554 1529.18,836.398 1545.57,839.501 1561.96,841.72 1578.35,838.549 1594.73,831.245 1611.12,830.254 1627.51,829.301 1643.9,829.951 1660.28,831.267 1676.67,829.126 1693.06,829.085 1709.45,831.748 1725.83,832.883 1742.22,832.699 1758.61,834.38 1775,834.079 1791.38,830.784 1807.77,830.735 1824.16,830.682 1840.55,833.047 1856.93,833.548 1873.32,833.385 1889.71,836.85 1906.1,841.951 1922.48,842.135 1938.87,842.259 1955.26,842.156 1971.64,841.844 1988.03,838.855 2004.42,839.373 2020.81,839.459 2037.19,837.627 2053.58,837.864 2069.97,836.818 2086.36,835.898 2102.74,829.912 2119.13,829.319 2135.52,829.848 2151.91,832.102 2168.29,836.617 2184.68,836.628 2201.07,840.884 2217.46,839.27 2233.84,839.334 2250.23,839.574 2266.62,840.813 2283.01,837.9 2293.45,837.353 \"/>\n",
       "<polyline clip-path=\"url(#clip822)\" style=\"stroke:#c68125; stroke-linecap:round; stroke-linejoin:round; stroke-width:4; stroke-opacity:1; fill:none\" points=\"316.512,684.081 332.9,686.392 349.287,688.969 365.674,689.274 382.062,689.458 398.449,692.529 414.837,693.145 431.224,692.066 447.612,698.203 463.999,698.135 480.387,702.097 496.774,705.522 513.162,707.935 529.549,709.644 545.936,707.094 562.324,706.398 578.711,707.116 595.099,705.747 611.486,706.541 627.874,706.573 644.261,705.798 660.649,709.257 677.036,710.414 693.424,708.721 709.811,709.904 726.198,710.57 742.586,713.616 758.973,714.543 775.361,714.795 791.748,712.291 808.136,713.848 824.523,715.909 840.911,717.231 857.298,717.932 873.685,717.026 890.073,718.552 906.46,720.245 922.848,716.576 939.235,714.428 955.623,713.902 972.01,717.311 988.398,716.997 1004.79,719.17 1021.17,720.68 1037.56,721.919 1053.95,722.403 1070.33,722.276 1086.72,724.263 1103.11,726.192 1119.5,725.131 1135.88,725.082 1152.27,726.476 1168.66,726.231 1185.05,726.098 1201.43,729.905 1217.82,731.03 1234.21,734.597 1250.6,742.072 1266.98,749.06 1283.37,749.441 1299.76,747.543 1316.15,748.596 1332.53,746.835 1348.92,746.152 1365.31,749.996 1381.7,747.135 1398.08,747.557 1414.47,751.211 1430.86,756.451 1447.25,758.698 1463.63,751.396 1480.02,753.137 1496.41,755.241 1512.8,760.63 1529.18,776.882 1545.57,788.655 1561.96,791.183 1578.35,790.52 1594.73,787.624 1611.12,789.001 1627.51,790.768 1643.9,795.433 1660.28,793.565 1676.67,793.177 1693.06,791.846 1709.45,793.431 1725.83,794.672 1742.22,797.728 1758.61,802.129 1775,799.564 1791.38,796.87 1807.77,798.262 1824.16,795.177 1840.55,793.689 1856.93,797.151 1873.32,797.898 1889.71,796.021 1906.1,794.34 1922.48,792.803 1938.87,794.268 1955.26,792.697 1971.64,795.317 1988.03,795.731 2004.42,799.537 2020.81,799.626 2037.19,797.513 2053.58,796.555 2069.97,790.99 2086.36,791.922 2102.74,793.782 2119.13,796.372 2135.52,796.571 2151.91,799.852 2168.29,794.337 2184.68,787.684 2201.07,785.752 2217.46,788.59 2233.84,786.216 2250.23,786.723 2266.62,783.275 2283.01,782.559 2293.45,783.031 \"/>\n",
       "<polyline clip-path=\"url(#clip822)\" style=\"stroke:#00a98d; stroke-linecap:round; stroke-linejoin:round; stroke-width:4; stroke-opacity:1; fill:none\" points=\"316.512,366.975 332.9,355.734 349.287,355.202 365.674,353.979 382.062,355.237 398.449,354.078 414.837,355.78 431.224,356.777 447.612,356.679 463.999,357.779 480.387,360.3 496.774,359.123 513.162,359.198 529.549,362.152 545.936,370.124 562.324,378.022 578.711,385.636 595.099,387.791 611.486,387.342 627.874,387.801 644.261,395.774 660.649,410.116 677.036,430.931 693.424,442.502 709.811,459.331 726.198,479.275 742.586,498.94 758.973,518.819 775.361,538.999 791.748,557.643 808.136,580.188 824.523,589.976 840.911,595.867 857.298,598.333 873.685,597.087 890.073,596.365 906.46,602.502 922.848,608.763 939.235,607.826 955.623,609.218 972.01,609.953 988.398,611.044 1004.79,611.903 1021.17,614.877 1037.56,615.236 1053.95,614.471 1070.33,614.757 1086.72,615.592 1103.11,616.426 1119.5,617.957 1135.88,617.46 1152.27,617.151 1168.66,616.728 1185.05,617.41 1201.43,626.269 1217.82,629.675 1234.21,636.794 1250.6,639.344 1266.98,648.258 1283.37,660.403 1299.76,663.019 1316.15,662.873 1332.53,663.882 1348.92,662.901 1365.31,664.975 1381.7,668.702 1398.08,668.337 1414.47,663.679 1430.86,662.756 1447.25,660.774 1463.63,664.606 1480.02,668.296 1496.41,673.569 1512.8,679.864 1529.18,702.692 1545.57,728.192 1561.96,737.171 1578.35,735.363 1594.73,732.53 1611.12,737.708 1627.51,734.145 1643.9,739.758 1660.28,740.597 1676.67,742.021 1693.06,739.211 1709.45,738.657 1725.83,739.144 1742.22,740.983 1758.61,743.887 1775,747.155 1791.38,748.104 1807.77,755.867 1824.16,766.571 1840.55,770.227 1856.93,770.984 1873.32,762.685 1889.71,754.224 1906.1,750.45 1922.48,751.573 1938.87,752.655 1955.26,753.151 1971.64,752.848 1988.03,753.987 2004.42,763.85 2020.81,774.536 2037.19,776.416 2053.58,770.909 2069.97,765.857 2086.36,771.563 2102.74,775.686 2119.13,776.946 2135.52,768.769 2151.91,765.676 2168.29,763.185 2184.68,760.708 2201.07,765.64 2217.46,767.876 2233.84,770.217 2250.23,772.005 2266.62,773.667 2283.01,774.455 2293.45,777.677 \"/>\n",
       "<polyline clip-path=\"url(#clip822)\" style=\"stroke:#8e971d; stroke-linecap:round; stroke-linejoin:round; stroke-width:4; stroke-opacity:1; fill:none\" points=\"316.512,766.969 332.9,776.945 349.287,782.101 365.674,785.105 382.062,784.786 398.449,784.985 414.837,787.6 431.224,785.493 447.612,785.848 463.999,785.385 480.387,786.257 496.774,783.178 513.162,784.89 529.549,785.803 545.936,783.648 562.324,779.957 578.711,777.576 595.099,770.785 611.486,768.462 627.874,765.868 644.261,765.296 660.649,765.539 677.036,766.829 693.424,768.017 709.811,767.984 726.198,766.437 742.586,765.417 758.973,763.505 775.361,763.87 791.748,757.501 808.136,754.393 824.523,755.097 840.911,755.582 857.298,756.432 873.685,767.142 890.073,773.707 906.46,778.797 922.848,783.989 939.235,786.556 955.623,783.213 972.01,773.757 988.398,777.408 1004.79,767.865 1021.17,749.412 1037.56,739.726 1053.95,731.117 1070.33,724.26 1086.72,721.335 1103.11,719.793 1119.5,723.235 1135.88,720.442 1152.27,720.673 1168.66,720.963 1185.05,722.082 1201.43,723.186 1217.82,725.48 1234.21,727.032 1250.6,730.304 1266.98,728.49 1283.37,729.025 1299.76,731.853 1316.15,731.008 1332.53,721.82 1348.92,727.747 1365.31,733.795 1381.7,733.008 1398.08,736.689 1414.47,737.588 1430.86,749.255 1447.25,761.221 1463.63,764.61 1480.02,764.992 1496.41,766.574 1512.8,769.919 1529.18,769.48 1545.57,772.726 1561.96,762.152 1578.35,754.345 1594.73,751.182 1611.12,746.684 1627.51,745.596 1643.9,743.584 1660.28,740.412 1676.67,731.436 1693.06,733.896 1709.45,732.845 1725.83,735.198 1742.22,739.478 1758.61,745.995 1775,746.631 1791.38,756.217 1807.77,771.231 1824.16,786.322 1840.55,801.049 1856.93,802.453 1873.32,808.607 1889.71,810.526 1906.1,810.018 1922.48,808.718 1938.87,806.934 1955.26,808.492 1971.64,807.334 1988.03,807.024 2004.42,805.447 2020.81,805.093 2037.19,805.805 2053.58,805.378 2069.97,807.628 2086.36,808.035 2102.74,808.038 2119.13,806.038 2135.52,803.755 2151.91,802.63 2168.29,802.497 2184.68,805.525 2201.07,806.697 2217.46,807.146 2233.84,805.286 2250.23,803.445 2266.62,803.548 2283.01,803.851 2293.45,803.49 \"/>\n",
       "<polyline clip-path=\"url(#clip822)\" style=\"stroke:#00a8cb; stroke-linecap:round; stroke-linejoin:round; stroke-width:4; stroke-opacity:1; fill:none\" points=\"316.512,1355.99 332.9,1367.19 349.287,1376.62 365.674,1376.86 382.062,1374.41 398.449,1364.08 414.837,1362.68 431.224,1364.13 447.612,1368.54 463.999,1369.46 480.387,1381.06 496.774,1384.11 513.162,1386.09 529.549,1386.4 545.936,1383.72 562.324,1384.79 578.711,1384.89 595.099,1379.38 611.486,1380.76 627.874,1377.49 644.261,1367.79 660.649,1345.68 677.036,1327.27 693.424,1305.32 709.811,1278.54 726.198,1248.05 742.586,1208.53 758.973,1170.71 775.361,1122.16 791.748,1057.94 808.136,976.148 824.523,891.193 840.911,816.86 857.298,750.534 873.685,696.795 890.073,658.717 906.46,639.945 922.848,625.782 939.235,622.03 955.623,621.434 972.01,626.816 988.398,633.881 1004.79,639.08 1021.17,641.027 1037.56,644.778 1053.95,646.952 1070.33,647.289 1086.72,647.637 1103.11,649.799 1119.5,643.159 1135.88,639.059 1152.27,646.911 1168.66,664.172 1185.05,688.588 1201.43,722.041 1217.82,753.899 1234.21,785.131 1250.6,816.931 1266.98,843.941 1283.37,867.799 1299.76,871.599 1316.15,870.76 1332.53,871.121 1348.92,871.463 1365.31,873.152 1381.7,875.595 1398.08,874.987 1414.47,875.464 1430.86,875.351 1447.25,870.673 1463.63,869.272 1480.02,871.98 1496.41,871.998 1512.8,869.515 1529.18,869.775 1545.57,871.705 1561.96,874.86 1578.35,880.238 1594.73,885.828 1611.12,882.095 1627.51,874.9 1643.9,873.325 1660.28,874.879 1676.67,869.722 1693.06,866.222 1709.45,866.128 1725.83,864.178 1742.22,864.046 1758.61,863.617 1775,862.285 1791.38,860.365 1807.77,856.857 1824.16,855.513 1840.55,853.199 1856.93,850.282 1873.32,851.366 1889.71,850.849 1906.1,851.598 1922.48,850.626 1938.87,844.662 1955.26,842.806 1971.64,843.81 1988.03,845.13 2004.42,843.649 2020.81,842.498 2037.19,841.472 2053.58,841.756 2069.97,841.383 2086.36,839.339 2102.74,841 2119.13,837.771 2135.52,834.629 2151.91,835.83 2168.29,833.919 2184.68,834.196 2201.07,835.62 2217.46,836.455 2233.84,836.48 2250.23,836.894 2266.62,836.685 2283.01,839.738 2293.45,840.297 \"/>\n",
       "<polyline clip-path=\"url(#clip822)\" style=\"stroke:#9b7fe8; stroke-linecap:round; stroke-linejoin:round; stroke-width:4; stroke-opacity:1; fill:none\" points=\"316.512,1188.1 332.9,1182.16 349.287,1176.53 365.674,1166.16 382.062,1149 398.449,1118.02 414.837,1084.91 431.224,1052.56 447.612,1023.34 463.999,990.281 480.387,963.159 496.774,939.238 513.162,922.719 529.549,916.622 545.936,915.227 562.324,910.492 578.711,907.667 595.099,908.598 611.486,908.132 627.874,908.226 644.261,907.561 660.649,911.923 677.036,909.089 693.424,909.463 709.811,910.376 726.198,911.256 742.586,922.595 758.973,929.195 775.361,928.009 791.748,920.196 808.136,906.254 824.523,887.291 840.911,868.718 857.298,844.072 873.685,817.115 890.073,784.704 906.46,750.847 922.848,723.478 939.235,712.23 955.623,715.558 972.01,715.882 988.398,716.657 1004.79,714.421 1021.17,717.245 1037.56,724.869 1053.95,734.717 1070.33,746.492 1086.72,759.954 1103.11,783.098 1119.5,809.379 1135.88,833.859 1152.27,846.295 1168.66,848.549 1185.05,848.239 1201.43,849.475 1217.82,850.238 1234.21,855.481 1250.6,851.939 1266.98,854.283 1283.37,853.622 1299.76,853.829 1316.15,853.549 1332.53,853.389 1348.92,850.957 1365.31,850.507 1381.7,848.2 1398.08,847.942 1414.47,847.738 1430.86,845.786 1447.25,844.281 1463.63,838.133 1480.02,835.728 1496.41,833.477 1512.8,832.196 1529.18,830.705 1545.57,832.871 1561.96,831.423 1578.35,826.796 1594.73,828.309 1611.12,834.306 1627.51,835.722 1643.9,836.048 1660.28,835.362 1676.67,839.498 1693.06,844.351 1709.45,844.976 1725.83,845.423 1742.22,845.518 1758.61,836.93 1775,831.625 1791.38,830.768 1807.77,829.49 1824.16,829.414 1840.55,829.335 1856.93,829.975 1873.32,838.076 1889.71,838.974 1906.1,838.801 1922.48,839.444 1938.87,836.93 1955.26,836.36 1971.64,836.039 1988.03,835.751 2004.42,835.518 2020.81,835.526 2037.19,838.842 2053.58,841.761 2069.97,843.761 2086.36,843.474 2102.74,843.217 2119.13,842.038 2135.52,842.588 2151.91,840.361 2168.29,839.971 2184.68,839.218 2201.07,839.409 2217.46,839.278 2233.84,839.344 2250.23,837.717 2266.62,837.864 2283.01,837.777 2293.45,838.735 \"/>\n",
       "<polyline clip-path=\"url(#clip822)\" style=\"stroke:#608cf6; stroke-linecap:round; stroke-linejoin:round; stroke-width:4; stroke-opacity:1; fill:none\" points=\"316.512,1178.64 332.9,1170.36 349.287,1157.83 365.674,1158.09 382.062,1160.06 398.449,1160.55 414.837,1161.25 431.224,1161.44 447.612,1161.53 463.999,1162.2 480.387,1157.83 496.774,1152.92 513.162,1152.77 529.549,1153.42 545.936,1154.25 562.324,1159.14 578.711,1156.49 595.099,1157.98 611.486,1158.08 627.874,1157.2 644.261,1157.14 660.649,1156.96 677.036,1157.23 693.424,1158.05 709.811,1157.48 726.198,1158.56 742.586,1161.9 758.973,1162.04 775.361,1162.25 791.748,1162.04 808.136,1156.99 824.523,1156.71 840.911,1157.38 857.298,1156.75 873.685,1150.21 890.073,1145.39 906.46,1145.83 922.848,1145.02 939.235,1132.72 955.623,1116.95 972.01,1103.23 988.398,1086.54 1004.79,1062.6 1021.17,1033.93 1037.56,1001.69 1053.95,963.712 1070.33,925.427 1086.72,890.288 1103.11,865.119 1119.5,841.329 1135.88,822.971 1152.27,817.124 1168.66,814.491 1185.05,808.224 1201.43,802.716 1217.82,804.008 1234.21,806.425 1250.6,813.585 1266.98,811.973 1283.37,811.58 1299.76,811.748 1316.15,812.183 1332.53,814.151 1348.92,814.172 1365.31,815.278 1381.7,819.902 1398.08,821.971 1414.47,824.188 1430.86,823.077 1447.25,820.778 1463.63,821.221 1480.02,824.024 1496.41,826.504 1512.8,825.763 1529.18,825.747 1545.57,825.112 1561.96,824.837 1578.35,825.453 1594.73,825.012 1611.12,824.362 1627.51,824.906 1643.9,823.252 1660.28,822.589 1676.67,818.381 1693.06,811.846 1709.45,813.945 1725.83,816.49 1742.22,815.753 1758.61,816.337 1775,815.956 1791.38,815.361 1807.77,815.404 1824.16,812.581 1840.55,809.867 1856.93,806.283 1873.32,803.077 1889.71,802.519 1906.1,800.744 1922.48,797.891 1938.87,797.302 1955.26,794.599 1971.64,793.22 1988.03,793.157 2004.42,792.411 2020.81,792.379 2037.19,791.624 2053.58,787.902 2069.97,787.686 2086.36,789.52 2102.74,792.629 2119.13,790.962 2135.52,789.063 2151.91,789.077 2168.29,792.048 2184.68,792.918 2201.07,791.091 2217.46,790.594 2233.84,790.06 2250.23,789.661 2266.62,792.345 2283.01,792.871 2293.45,797.452 \"/>\n",
       "<polyline clip-path=\"url(#clip822)\" style=\"stroke:#f05f73; stroke-linecap:round; stroke-linejoin:round; stroke-width:4; stroke-opacity:1; fill:none\" points=\"316.512,735.921 332.9,728.652 349.287,728.954 365.674,729.118 382.062,728.811 398.449,726.466 414.837,729.722 431.224,728.249 447.612,723.523 463.999,723.479 480.387,723.649 496.774,723.722 513.162,720.64 529.549,715.972 545.936,711.945 562.324,712.388 578.711,721.664 595.099,725.16 611.486,712.346 627.874,711.261 644.261,711.224 660.649,711.454 677.036,711.308 693.424,711.327 709.811,711.059 726.198,712.266 742.586,711.709 758.973,711.679 775.361,712.3 791.748,711.035 808.136,710.989 824.523,710.923 840.911,713.812 857.298,714.267 873.685,716.41 890.073,715.776 906.46,710.893 922.848,710.387 939.235,710.662 955.623,710.393 972.01,710.64 988.398,710.053 1004.79,709.949 1021.17,710.037 1037.56,709.854 1053.95,710.053 1070.33,709.775 1086.72,707.127 1103.11,707.382 1119.5,705.975 1135.88,707.712 1152.27,716.842 1168.66,718.365 1185.05,718.252 1201.43,716.475 1217.82,716.185 1234.21,732.05 1250.6,749.75 1266.98,767.73 1283.37,783.933 1299.76,800.539 1316.15,819.951 1332.53,845.435 1348.92,874.392 1365.31,907.435 1381.7,942.706 1398.08,977.186 1414.47,1004.65 1430.86,1031.7 1447.25,1060.73 1463.63,1103.16 1480.02,1143.27 1496.41,1181.04 1512.8,1219.51 1529.18,1250.27 1545.57,1266.62 1561.96,1268.57 1578.35,1268.82 1594.73,1266.69 1611.12,1248.67 1627.51,1228.3 1643.9,1195.96 1660.28,1157.4 1676.67,1107.93 1693.06,1040 1709.45,966.27 1725.83,885.493 1742.22,796.813 1758.61,711.119 1775,626.931 1791.38,542.279 1807.77,457.563 1824.16,377.696 1840.55,312.8 1856.93,263.315 1873.32,223.83 1889.71,193.171 1906.1,166.886 1922.48,160.256 1938.87,160.625 1955.26,168.836 1971.64,174.939 1988.03,186.92 2004.42,202.818 2020.81,216.885 2037.19,236.76 2053.58,261.982 2069.97,288.905 2086.36,313.83 2102.74,345.445 2119.13,387.898 2135.52,436.402 2151.91,494.545 2168.29,554.196 2184.68,615.334 2201.07,672.698 2217.46,739.382 2233.84,814.362 2250.23,891.502 2266.62,974.046 2283.01,1056.1 2293.45,1106.93 \"/>\n",
       "<polyline clip-path=\"url(#clip822)\" style=\"stroke:#dd64b5; stroke-linecap:round; stroke-linejoin:round; stroke-width:4; stroke-opacity:1; fill:none\" points=\"316.512,1280.17 332.9,1271.55 349.287,1258.85 365.674,1241.32 382.062,1226.1 398.449,1213.15 414.837,1197.36 431.224,1184.71 447.612,1176.22 463.999,1172.87 480.387,1162.38 496.774,1163.87 513.162,1163.75 529.549,1162.12 545.936,1161.85 562.324,1162.35 578.711,1166.11 595.099,1162.98 611.486,1162.89 627.874,1153.93 644.261,1135.74 660.649,1120.64 677.036,1101.24 693.424,1077.54 709.811,1050.29 726.198,1022.01 742.586,988.92 758.973,952.098 775.361,910.684 791.748,859.168 808.136,810.104 824.523,772.35 840.911,755.094 857.298,743.953 873.685,738.807 890.073,740.428 906.46,736.369 922.848,735.722 939.235,742.792 955.623,743.887 972.01,747.682 988.398,762.307 1004.79,776.465 1021.17,781.572 1037.56,780.966 1053.95,779.043 1070.33,780.072 1086.72,784.632 1103.11,783.975 1119.5,782.095 1135.88,782.864 1152.27,783.157 1168.66,781.532 1185.05,781.487 1201.43,785.78 1217.82,786 1234.21,786.107 1250.6,792.227 1266.98,793.565 1283.37,795.198 1299.76,802.145 1316.15,801.322 1332.53,800.485 1348.92,808.514 1365.31,808.122 1381.7,804.599 1398.08,806.071 1414.47,807.499 1430.86,807.487 1447.25,809.647 1463.63,811.042 1480.02,809.92 1496.41,804.523 1512.8,802.322 1529.18,807.921 1545.57,810.879 1561.96,811.969 1578.35,810.999 1594.73,810.817 1611.12,813.1 1627.51,811.247 1643.9,809.809 1660.28,809.159 1676.67,809.543 1693.06,809.355 1709.45,809.542 1725.83,810.898 1742.22,810.764 1758.61,810.582 1775,811.102 1791.38,812.822 1807.77,813.092 1824.16,812.641 1840.55,814.334 1856.93,812.931 1873.32,811.474 1889.71,805.295 1906.1,803.395 1922.48,803 1938.87,803.147 1955.26,804.097 1971.64,805.009 1988.03,806.674 2004.42,809.492 2020.81,808.756 2037.19,807.584 2053.58,804.632 2069.97,805.037 2086.36,804.733 2102.74,805.182 2119.13,805.693 2135.52,805.175 2151.91,803.336 2168.29,801.903 2184.68,803.496 2201.07,806.963 2217.46,804.552 2233.84,800.565 2250.23,801.201 2266.62,801.422 2283.01,800.47 2293.45,805.123 \"/>\n",
       "<polyline clip-path=\"url(#clip822)\" style=\"stroke:#6b9e32; stroke-linecap:round; stroke-linejoin:round; stroke-width:4; stroke-opacity:1; fill:none\" points=\"316.512,861.307 332.9,852.036 349.287,852.001 365.674,850.635 382.062,849.774 398.449,848.633 414.837,847.385 431.224,844.285 447.612,839.698 463.999,838.049 480.387,832.784 496.774,836.186 513.162,836.867 529.549,839.176 545.936,838.131 562.324,838.255 578.711,836.643 595.099,837.276 611.486,837.47 627.874,838.045 644.261,838.267 660.649,835.602 677.036,835.73 693.424,834.335 709.811,837.977 726.198,840.692 742.586,841.042 758.973,839.424 775.361,839.014 791.748,839.922 808.136,841.674 824.523,844.113 840.911,842.13 857.298,844.351 873.685,846.033 890.073,849.892 906.46,850.969 922.848,854.175 939.235,854.793 955.623,853.052 972.01,848.415 988.398,846.485 1004.79,846.499 1021.17,842.679 1037.56,841.039 1053.95,842.417 1070.33,842.942 1086.72,839.107 1103.11,836.855 1119.5,834.175 1135.88,836.569 1152.27,837.7 1168.66,841.071 1185.05,843.187 1201.43,845.182 1217.82,840.23 1234.21,839.698 1250.6,836.673 1266.98,837.23 1283.37,836.239 1299.76,837.331 1316.15,835.639 1332.53,833.936 1348.92,833.018 1365.31,831.719 1381.7,831.24 1398.08,834.158 1414.47,838.109 1430.86,838.631 1447.25,835.358 1463.63,836.351 1480.02,835.203 1496.41,835.547 1512.8,833.723 1529.18,829.619 1545.57,829.428 1561.96,832.714 1578.35,831.345 1594.73,831.146 1611.12,831.658 1627.51,830.894 1643.9,832.815 1660.28,831.396 1676.67,833.641 1693.06,833.495 1709.45,833.574 1725.83,833.177 1742.22,834.219 1758.61,834.275 1775,829.639 1791.38,825.88 1807.77,826.794 1824.16,826.491 1840.55,826.68 1856.93,829.6 1873.32,831.733 1889.71,832.883 1906.1,831.515 1922.48,833.652 1938.87,835.553 1955.26,836.81 1971.64,837.469 1988.03,835.504 2004.42,835.228 2020.81,835.278 2037.19,835.753 2053.58,839.533 2069.97,840.623 2086.36,841.495 2102.74,840.36 2119.13,839.91 2135.52,838.797 2151.91,840.357 2168.29,838.947 2184.68,837.958 2201.07,838.699 2217.46,837.067 2233.84,836.573 2250.23,837.44 2266.62,837.648 2283.01,834.543 2293.45,834.007 \"/>\n",
       "<polyline clip-path=\"url(#clip822)\" style=\"stroke:#009af9; stroke-linecap:round; stroke-linejoin:round; stroke-width:4; stroke-opacity:1; fill:none\" points=\"316.512,375.671 332.9,375.859 349.287,381.072 365.674,379.9 382.062,382.415 398.449,388.213 414.837,393.832 431.224,392.585 447.612,397.361 463.999,400.883 480.387,394.765 496.774,394.229 513.162,397.6 529.549,400.243 545.936,405.384 562.324,403.709 578.711,404.063 595.099,406.446 611.486,407.882 627.874,409.073 644.261,419.851 660.649,436.197 677.036,440.936 693.424,439.337 709.811,442.435 726.198,443.691 742.586,445.199 758.973,442.806 775.361,445.641 791.748,441.726 808.136,441.443 824.523,440.981 840.911,443.814 857.298,447.555 873.685,449.999 890.073,448.812 906.46,443.994 922.848,449.468 939.235,455.134 955.623,456.055 972.01,454.616 988.398,455.173 1004.79,461.139 1021.17,464.169 1037.56,466.414 1053.95,464.306 1070.33,465.316 1086.72,475.789 1103.11,480.675 1119.5,485.778 1135.88,485.264 1152.27,484.952 1168.66,485.181 1185.05,487.206 1201.43,491.669 1217.82,498.101 1234.21,507.573 1250.6,519.094 1266.98,533.627 1283.37,560.526 1299.76,592.582 1316.15,624.103 1332.53,653.858 1348.92,687.353 1365.31,720.019 1381.7,753.954 1398.08,793.379 1414.47,835.777 1430.86,866.041 1447.25,869.69 1463.63,868.015 1480.02,867.556 1496.41,876.441 1512.8,876.838 1529.18,876.601 1545.57,877.632 1561.96,879.539 1578.35,878.662 1594.73,878.676 1611.12,879.834 1627.51,881.56 1643.9,878.073 1660.28,877.233 1676.67,877.357 1693.06,876.342 1709.45,875.265 1725.83,870.914 1742.22,870.036 1758.61,871.5 1775,867.815 1791.38,869.274 1807.77,870.391 1824.16,868.539 1840.55,863.515 1856.93,864.644 1873.32,866.347 1889.71,875.913 1906.1,887.676 1922.48,890.844 1938.87,891.319 1955.26,883.833 1971.64,881.754 1988.03,883.473 2004.42,887.338 2020.81,887.406 2037.19,887.888 2053.58,890.15 2069.97,892.086 2086.36,891.841 2102.74,890.349 2119.13,889.015 2135.52,890.704 2151.91,897.756 2168.29,903.128 2184.68,904.273 2201.07,904.103 2217.46,899.857 2233.84,900.243 2250.23,902.12 2266.62,902.117 2283.01,901.463 2293.45,904.038 \"/>\n",
       "<polyline clip-path=\"url(#clip822)\" style=\"stroke:#e26f46; stroke-linecap:round; stroke-linejoin:round; stroke-width:4; stroke-opacity:1; fill:none\" points=\"316.512,890.332 332.9,895.749 349.287,903.759 365.674,907.795 382.062,906.203 398.449,906.171 414.837,908.606 431.224,909.491 447.612,910.55 463.999,908.658 480.387,907.933 496.774,904.943 513.162,900.923 529.549,900.977 545.936,901.344 562.324,901.828 578.711,901.732 595.099,902.203 611.486,901.929 627.874,902.136 644.261,900.138 660.649,898.818 677.036,899.192 693.424,910.723 709.811,905.193 726.198,902.313 742.586,901.657 758.973,902.195 775.361,902.975 791.748,908.284 808.136,907.165 824.523,895.031 840.911,876.769 857.298,869.154 873.685,864.22 890.073,861.665 906.46,865.93 922.848,874.069 939.235,891.72 955.623,901.914 972.01,908.955 988.398,915.602 1004.79,925.275 1021.17,923.946 1037.56,924.567 1053.95,924.882 1070.33,922.717 1086.72,922.041 1103.11,923.404 1119.5,920.434 1135.88,922.826 1152.27,918.737 1168.66,918.78 1185.05,901.545 1201.43,875.856 1217.82,851.567 1234.21,823.901 1250.6,807.924 1266.98,789.782 1283.37,764.565 1299.76,739.886 1316.15,726.012 1332.53,716.995 1348.92,701.854 1365.31,689.535 1381.7,687.609 1398.08,694.898 1414.47,695.202 1430.86,694.784 1447.25,700.349 1463.63,707.728 1480.02,719.431 1496.41,732.854 1512.8,742.225 1529.18,742.855 1545.57,742.971 1561.96,741.878 1578.35,739.972 1594.73,742.256 1611.12,753.591 1627.51,761.414 1643.9,769.523 1660.28,775.089 1676.67,792.066 1693.06,808.379 1709.45,822.598 1725.83,837.977 1742.22,852.786 1758.61,867.125 1775,865.673 1791.38,867.39 1807.77,867.449 1824.16,850.926 1840.55,839.962 1856.93,833.105 1873.32,835.49 1889.71,835.3 1906.1,834.614 1922.48,834.22 1938.87,829.961 1955.26,825.369 1971.64,825.94 1988.03,823.475 2004.42,822.046 2020.81,820.309 2037.19,820.723 2053.58,821.977 2069.97,822.011 2086.36,813.912 2102.74,814.561 2119.13,807.704 2135.52,803.64 2151.91,798.743 2168.29,796.071 2184.68,796.635 2201.07,796.497 2217.46,793.488 2233.84,792.243 2250.23,792.658 2266.62,792.36 2283.01,784.712 2293.45,778.751 \"/>\n",
       "<polyline clip-path=\"url(#clip822)\" style=\"stroke:#3da44d; stroke-linecap:round; stroke-linejoin:round; stroke-width:4; stroke-opacity:1; fill:none\" points=\"316.512,946.186 332.9,945.747 349.287,948.757 365.674,955.185 382.062,956.234 398.449,957.006 414.837,967.628 431.224,960.331 447.612,949.18 463.999,947.128 480.387,951.018 496.774,949.816 513.162,951.1 529.549,951.91 545.936,953.315 562.324,952.35 578.711,950.065 595.099,949.327 611.486,948.159 627.874,945.169 644.261,940.041 660.649,932.503 677.036,929.203 693.424,927.106 709.811,922.746 726.198,925.161 742.586,927.195 758.973,926.732 775.361,926.662 791.748,925.855 808.136,927 824.523,923.815 840.911,926.754 857.298,926.708 873.685,925.768 890.073,926.438 906.46,927.218 922.848,924.526 939.235,922.878 955.623,927.121 972.01,925.772 988.398,922.772 1004.79,921.71 1021.17,910.26 1037.56,905.513 1053.95,906.322 1070.33,898.832 1086.72,887.548 1103.11,883.391 1119.5,883.996 1135.88,884.899 1152.27,882.784 1168.66,883.055 1185.05,882.995 1201.43,884.244 1217.82,880.901 1234.21,877.736 1250.6,879.847 1266.98,882.712 1283.37,885.532 1299.76,887.804 1316.15,880.596 1332.53,880.821 1348.92,878.532 1365.31,879.918 1381.7,878.511 1398.08,877.077 1414.47,877.431 1430.86,880.826 1447.25,882.644 1463.63,885.773 1480.02,887.408 1496.41,887.191 1512.8,891.92 1529.18,898.957 1545.57,905.896 1561.96,915.831 1578.35,924.673 1594.73,927.234 1611.12,920.956 1627.51,919.279 1643.9,914.628 1660.28,913.596 1676.67,915.058 1693.06,914.023 1709.45,913.943 1725.83,911.259 1742.22,913.323 1758.61,914.217 1775,913.275 1791.38,911.96 1807.77,913.312 1824.16,915.714 1840.55,920.874 1856.93,921.569 1873.32,926.737 1889.71,933.227 1906.1,931.526 1922.48,926.061 1938.87,927.048 1955.26,927.51 1971.64,926.003 1988.03,925.374 2004.42,923.752 2020.81,922.392 2037.19,921.288 2053.58,913.89 2069.97,906.107 2086.36,905.203 2102.74,905.028 2119.13,907.643 2135.52,904.804 2151.91,902.447 2168.29,906.416 2184.68,906.619 2201.07,903.819 2217.46,897.502 2233.84,895.883 2250.23,896.7 2266.62,897.733 2283.01,901.016 2293.45,900.115 \"/>\n",
       "<polyline clip-path=\"url(#clip822)\" style=\"stroke:#c271d2; stroke-linecap:round; stroke-linejoin:round; stroke-width:4; stroke-opacity:1; fill:none\" points=\"316.512,987.25 332.9,996.959 349.287,1002.49 365.674,1000.17 382.062,991.37 398.449,973.204 414.837,960.216 431.224,947.112 447.612,933.11 463.999,903.869 480.387,877.516 496.774,851.369 513.162,828.601 529.549,809.101 545.936,795.98 562.324,789.935 578.711,791.63 595.099,795.985 611.486,798.148 627.874,799.23 644.261,797.834 660.649,798.469 677.036,798.885 693.424,798.053 709.811,797.714 726.198,798.354 742.586,799.355 758.973,801.38 775.361,800.813 791.748,800.347 808.136,804.288 824.523,807.597 840.911,804.696 857.298,802.29 873.685,803.256 890.073,799.564 906.46,794.737 922.848,796.585 939.235,802.412 955.623,809.791 972.01,814.635 988.398,823.539 1004.79,828.073 1021.17,830.597 1037.56,830.75 1053.95,831.514 1070.33,832.663 1086.72,834.112 1103.11,834.422 1119.5,834.858 1135.88,835.36 1152.27,833.165 1168.66,834.512 1185.05,831.747 1201.43,836.769 1217.82,841.214 1234.21,847.517 1250.6,853.865 1266.98,853.553 1283.37,856.483 1299.76,861.143 1316.15,862.349 1332.53,863.895 1348.92,861.473 1365.31,860.222 1381.7,859.318 1398.08,860.936 1414.47,859.269 1430.86,857.78 1447.25,856.465 1463.63,855.535 1480.02,856.606 1496.41,855.99 1512.8,858.554 1529.18,860.207 1545.57,861.467 1561.96,860.413 1578.35,856.061 1594.73,855.055 1611.12,853.078 1627.51,857.539 1643.9,857.555 1660.28,855.491 1676.67,859.924 1693.06,859.947 1709.45,856.626 1725.83,856.623 1742.22,859.033 1758.61,860.744 1775,866.18 1791.38,866.148 1807.77,856.465 1824.16,850.848 1840.55,849.364 1856.93,849.231 1873.32,849.383 1889.71,849.124 1906.1,846.628 1922.48,851.208 1938.87,857.119 1955.26,856.62 1971.64,855.365 1988.03,855.195 2004.42,857.195 2020.81,858.315 2037.19,862.151 2053.58,866.145 2069.97,873.195 2086.36,874.649 2102.74,874.574 2119.13,871.209 2135.52,872.375 2151.91,871.996 2168.29,873.943 2184.68,880.061 2201.07,881.797 2217.46,876.606 2233.84,873.902 2250.23,874.813 2266.62,875.069 2283.01,875.964 2293.45,875.224 \"/>\n",
       "<polyline clip-path=\"url(#clip822)\" style=\"stroke:#ac8d18; stroke-linecap:round; stroke-linejoin:round; stroke-width:4; stroke-opacity:1; fill:none\" points=\"316.512,691.421 332.9,691.076 349.287,697.596 365.674,699.501 382.062,702.158 398.449,709.303 414.837,712.401 431.224,708.079 447.612,708.167 463.999,707.636 480.387,710.02 496.774,716.394 513.162,724.946 529.549,718.163 545.936,715.316 562.324,712.812 578.711,723.446 595.099,734.016 611.486,745.359 627.874,754.501 644.261,766.086 660.649,774.605 677.036,774.976 693.424,775.727 709.811,778.188 726.198,779.637 742.586,782.613 758.973,784.989 775.361,785.63 791.748,786.412 808.136,784.896 824.523,784.332 840.911,784.034 857.298,783.844 873.685,782.92 890.073,783.146 906.46,783.974 922.848,783.176 939.235,778.277 955.623,779.559 972.01,780.363 988.398,782.026 1004.79,782.647 1021.17,784.253 1037.56,785.474 1053.95,786.61 1070.33,787.075 1086.72,782.236 1103.11,776.161 1119.5,775.992 1135.88,778.31 1152.27,779.225 1168.66,781.827 1185.05,782.15 1201.43,784.537 1217.82,782.254 1234.21,777.029 1250.6,777.114 1266.98,781.847 1283.37,795.339 1299.76,807.261 1316.15,805.151 1332.53,797.008 1348.92,798.744 1365.31,800.545 1381.7,801.223 1398.08,801.555 1414.47,805.024 1430.86,810.079 1447.25,812.172 1463.63,806.238 1480.02,806.011 1496.41,806.468 1512.8,800.889 1529.18,796.214 1545.57,790.513 1561.96,796.775 1578.35,798.342 1594.73,797.873 1611.12,798.832 1627.51,792.478 1643.9,782.51 1660.28,774.855 1676.67,768.935 1693.06,761.98 1709.45,757.792 1725.83,756.199 1742.22,760.732 1758.61,773.582 1775,773.603 1791.38,773.997 1807.77,772.992 1824.16,778.55 1840.55,784.119 1856.93,785.322 1873.32,790.266 1889.71,790.797 1906.1,790.836 1922.48,790.245 1938.87,791.12 1955.26,790.489 1971.64,787.327 1988.03,787.151 2004.42,788.231 2020.81,788.389 2037.19,788.127 2053.58,788.527 2069.97,797.552 2086.36,798.902 2102.74,796.453 2119.13,803.707 2135.52,801.763 2151.91,796.7 2168.29,797.417 2184.68,799.119 2201.07,797.429 2217.46,800.052 2233.84,798.755 2250.23,799.084 2266.62,799.671 2283.01,802.546 2293.45,804.626 \"/>\n",
       "<polyline clip-path=\"url(#clip822)\" style=\"stroke:#00a9ad; stroke-linecap:round; stroke-linejoin:round; stroke-width:4; stroke-opacity:1; fill:none\" points=\"316.512,801.297 332.9,795.84 349.287,796.18 365.674,796.956 382.062,808.831 398.449,818.221 414.837,819.294 431.224,820.56 447.612,818.304 463.999,819.246 480.387,819.825 496.774,819.948 513.162,819.999 529.549,819.467 545.936,819.297 562.324,819.141 578.711,820.952 595.099,821.619 611.486,821.42 627.874,821.555 644.261,821.095 660.649,823.612 677.036,823.176 693.424,826.226 709.811,825.77 726.198,827.347 742.586,826.19 758.973,826.993 775.361,830.091 791.748,830.409 808.136,831.406 824.523,830.839 840.911,830.875 857.298,830.988 873.685,830.498 890.073,829.819 906.46,830.319 922.848,830.152 939.235,827.793 955.623,826.321 972.01,825.838 988.398,825.192 1004.79,822.422 1021.17,822.955 1037.56,822.623 1053.95,822.797 1070.33,822.738 1086.72,821.284 1103.11,821.821 1119.5,821.985 1135.88,822.104 1152.27,823.761 1168.66,824.674 1185.05,825.119 1201.43,825.452 1217.82,825.78 1234.21,825.985 1250.6,826.528 1266.98,826.296 1283.37,826.54 1299.76,825.728 1316.15,826.432 1332.53,827.878 1348.92,827.992 1365.31,828.423 1381.7,828.552 1398.08,828.736 1414.47,828.596 1430.86,828.939 1447.25,835.075 1463.63,834.233 1480.02,834.257 1496.41,834.012 1512.8,833.716 1529.18,831.735 1545.57,832.127 1561.96,831.932 1578.35,832.487 1594.73,830.652 1611.12,830.691 1627.51,833.436 1643.9,839.277 1660.28,838.633 1676.67,840.622 1693.06,841.229 1709.45,841.484 1725.83,841.728 1742.22,841.922 1758.61,841.622 1775,841.925 1791.38,841.054 1807.77,840.324 1824.16,840.432 1840.55,836.986 1856.93,837.155 1873.32,837.207 1889.71,836.562 1906.1,835.89 1922.48,835.37 1938.87,837.79 1955.26,844.111 1971.64,845.243 1988.03,846.798 2004.42,846.411 2020.81,846.449 2037.19,846.161 2053.58,843.141 2069.97,841.472 2086.36,842.596 2102.74,846.383 2119.13,845.717 2135.52,848.763 2151.91,848.365 2168.29,848.984 2184.68,848.789 2201.07,848.7 2217.46,849.142 2233.84,849.937 2250.23,856.499 2266.62,857.424 2283.01,857.553 2293.45,856.12 \"/>\n",
       "<polyline clip-path=\"url(#clip822)\" style=\"stroke:#ed5d92; stroke-linecap:round; stroke-linejoin:round; stroke-width:4; stroke-opacity:1; fill:none\" points=\"316.512,933.608 332.9,929.049 349.287,927.555 365.674,926.996 382.062,929.097 398.449,930.343 414.837,931.457 431.224,927.181 447.612,926.81 463.999,925.095 480.387,924.708 496.774,924.123 513.162,925.108 529.549,924.34 545.936,928.241 562.324,926.719 578.711,926.899 595.099,926.974 611.486,920.199 627.874,921.619 644.261,921.583 660.649,923.568 677.036,925.526 693.424,926.125 709.811,923.876 726.198,924.129 742.586,923.934 758.973,923.738 775.361,925.031 791.748,923.826 808.136,918.26 824.523,915.704 840.911,912.922 857.298,914.983 873.685,918.084 890.073,923.282 906.46,928.558 922.848,940.487 939.235,942.828 955.623,949.133 972.01,955.287 988.398,958.477 1004.79,956.672 1021.17,957.226 1037.56,957.184 1053.95,956.957 1070.33,955.84 1086.72,957.74 1103.11,953.039 1119.5,952.477 1135.88,952.874 1152.27,950.567 1168.66,950.389 1185.05,949.041 1201.43,941.044 1217.82,927.73 1234.21,921.726 1250.6,921.208 1266.98,919.917 1283.37,919.146 1299.76,917.764 1316.15,919.144 1332.53,920.037 1348.92,912.833 1365.31,898.595 1381.7,885.378 1398.08,872.544 1414.47,862.992 1430.86,860.318 1447.25,861.206 1463.63,862.111 1480.02,861.454 1496.41,857.465 1512.8,859.04 1529.18,859.606 1545.57,863.555 1561.96,866.744 1578.35,868.983 1594.73,869.06 1611.12,872.172 1627.51,868.721 1643.9,867.929 1660.28,867.012 1676.67,867.828 1693.06,869.122 1709.45,866.853 1725.83,868.211 1742.22,870.338 1758.61,870.952 1775,876.398 1791.38,876.563 1807.77,877.868 1824.16,878.097 1840.55,877.235 1856.93,876.026 1873.32,877.879 1889.71,878.58 1906.1,879.021 1922.48,880.784 1938.87,878.77 1955.26,879.836 1971.64,881.323 1988.03,879.985 2004.42,877.498 2020.81,878.118 2037.19,881.683 2053.58,882.632 2069.97,881.316 2086.36,882.178 2102.74,885.188 2119.13,887.136 2135.52,887.765 2151.91,888.277 2168.29,888.619 2184.68,885.88 2201.07,879.566 2217.46,874.196 2233.84,873.533 2250.23,873.416 2266.62,874.132 2283.01,873.644 2293.45,877.454 \"/>\n",
       "<polyline clip-path=\"url(#clip822)\" style=\"stroke:#c68125; stroke-linecap:round; stroke-linejoin:round; stroke-width:4; stroke-opacity:1; fill:none\" points=\"316.512,898.976 332.9,889.38 349.287,881.903 365.674,874.509 382.062,865.354 398.449,858.578 414.837,854.725 431.224,846.473 447.612,847.323 463.999,845.509 480.387,843.583 496.774,841.205 513.162,835.924 529.549,836.45 545.936,836.591 562.324,840.525 578.711,842.568 595.099,843.658 611.486,848.192 627.874,844.673 644.261,841.766 660.649,841.793 677.036,842.043 693.424,841.976 709.811,841.778 726.198,839.819 742.586,841.159 758.973,841.511 775.361,839.985 791.748,834.917 808.136,829.821 824.523,822.295 840.911,821.291 857.298,818.894 873.685,818.681 890.073,822.947 906.46,819.935 922.848,818.215 939.235,816.138 955.623,815.034 972.01,816.991 988.398,818.233 1004.79,818.971 1021.17,821.961 1037.56,825.78 1053.95,826.68 1070.33,824.783 1086.72,820.653 1103.11,820.038 1119.5,818.813 1135.88,815.661 1152.27,814.756 1168.66,816.776 1185.05,816.553 1201.43,810.682 1217.82,812.416 1234.21,815.764 1250.6,813.691 1266.98,815.298 1283.37,816.798 1299.76,815.996 1316.15,815.897 1332.53,815.661 1348.92,815.704 1365.31,815.771 1381.7,813.842 1398.08,813.635 1414.47,813.982 1430.86,814.643 1447.25,815.583 1463.63,813.056 1480.02,813.233 1496.41,812.955 1512.8,813.272 1529.18,811.581 1545.57,812.668 1561.96,819.804 1578.35,826.108 1594.73,826.616 1611.12,826.378 1627.51,827.079 1643.9,826.796 1660.28,826.976 1676.67,826.815 1693.06,826.52 1709.45,826.808 1725.83,826.96 1742.22,826.273 1758.61,828.168 1775,827.505 1791.38,826.491 1807.77,826.623 1824.16,827.069 1840.55,827.11 1856.93,826.605 1873.32,826.624 1889.71,827.28 1906.1,826.428 1922.48,827.113 1938.87,824.743 1955.26,824.572 1971.64,823.69 1988.03,822.823 2004.42,824.859 2020.81,822.573 2037.19,825.228 2053.58,825.831 2069.97,825.982 2086.36,825.617 2102.74,826.351 2119.13,824.684 2135.52,823.449 2151.91,823.793 2168.29,827.077 2184.68,826.39 2201.07,826.216 2217.46,826.502 2233.84,825.592 2250.23,825.639 2266.62,825.66 2283.01,825.222 2293.45,825.347 \"/>\n",
       "</svg>\n"
      ]
     },
     "execution_count": 19,
     "metadata": {},
     "output_type": "execute_result"
    }
   ],
   "source": [
    "plot_all_trajectories(results, \"z\")\n",
    "plot!()"
   ]
  },
  {
   "cell_type": "code",
   "execution_count": 20,
   "id": "6af6991e-30a5-48a4-b562-0fd098ffd4f2",
   "metadata": {},
   "outputs": [
    {
     "data": {
      "image/svg+xml": [
       "<?xml version=\"1.0\" encoding=\"utf-8\"?>\n",
       "<svg xmlns=\"http://www.w3.org/2000/svg\" xmlns:xlink=\"http://www.w3.org/1999/xlink\" width=\"600\" height=\"400\" viewBox=\"0 0 2400 1600\">\n",
       "<defs>\n",
       "  <clipPath id=\"clip860\">\n",
       "    <rect x=\"0\" y=\"0\" width=\"2400\" height=\"1600\"/>\n",
       "  </clipPath>\n",
       "</defs>\n",
       "<path clip-path=\"url(#clip860)\" d=\"M0 1600 L2400 1600 L2400 0 L0 0  Z\" fill=\"#ffffff\" fill-rule=\"evenodd\" fill-opacity=\"1\"/>\n",
       "<defs>\n",
       "  <clipPath id=\"clip861\">\n",
       "    <rect x=\"480\" y=\"0\" width=\"1681\" height=\"1600\"/>\n",
       "  </clipPath>\n",
       "</defs>\n",
       "<path clip-path=\"url(#clip860)\" d=\"M232.389 1423.18 L2352.76 1423.18 L2352.76 123.472 L232.389 123.472  Z\" fill=\"#ffffff\" fill-rule=\"evenodd\" fill-opacity=\"1\"/>\n",
       "<defs>\n",
       "  <clipPath id=\"clip862\">\n",
       "    <rect x=\"232\" y=\"123\" width=\"2121\" height=\"1301\"/>\n",
       "  </clipPath>\n",
       "</defs>\n",
       "<polyline clip-path=\"url(#clip862)\" style=\"stroke:#000000; stroke-linecap:round; stroke-linejoin:round; stroke-width:2; stroke-opacity:0.1; fill:none\" points=\"292.4,1423.18 292.4,123.472 \"/>\n",
       "<polyline clip-path=\"url(#clip862)\" style=\"stroke:#000000; stroke-linecap:round; stroke-linejoin:round; stroke-width:2; stroke-opacity:0.1; fill:none\" points=\"959.182,1423.18 959.182,123.472 \"/>\n",
       "<polyline clip-path=\"url(#clip862)\" style=\"stroke:#000000; stroke-linecap:round; stroke-linejoin:round; stroke-width:2; stroke-opacity:0.1; fill:none\" points=\"1625.96,1423.18 1625.96,123.472 \"/>\n",
       "<polyline clip-path=\"url(#clip862)\" style=\"stroke:#000000; stroke-linecap:round; stroke-linejoin:round; stroke-width:2; stroke-opacity:0.1; fill:none\" points=\"2292.75,1423.18 2292.75,123.472 \"/>\n",
       "<polyline clip-path=\"url(#clip860)\" style=\"stroke:#000000; stroke-linecap:round; stroke-linejoin:round; stroke-width:4; stroke-opacity:1; fill:none\" points=\"232.389,1423.18 2352.76,1423.18 \"/>\n",
       "<polyline clip-path=\"url(#clip860)\" style=\"stroke:#000000; stroke-linecap:round; stroke-linejoin:round; stroke-width:4; stroke-opacity:1; fill:none\" points=\"292.4,1423.18 292.4,1404.28 \"/>\n",
       "<polyline clip-path=\"url(#clip860)\" style=\"stroke:#000000; stroke-linecap:round; stroke-linejoin:round; stroke-width:4; stroke-opacity:1; fill:none\" points=\"959.182,1423.18 959.182,1404.28 \"/>\n",
       "<polyline clip-path=\"url(#clip860)\" style=\"stroke:#000000; stroke-linecap:round; stroke-linejoin:round; stroke-width:4; stroke-opacity:1; fill:none\" points=\"1625.96,1423.18 1625.96,1404.28 \"/>\n",
       "<polyline clip-path=\"url(#clip860)\" style=\"stroke:#000000; stroke-linecap:round; stroke-linejoin:round; stroke-width:4; stroke-opacity:1; fill:none\" points=\"2292.75,1423.18 2292.75,1404.28 \"/>\n",
       "<path clip-path=\"url(#clip860)\" d=\"M292.4 1454.1 Q288.789 1454.1 286.96 1457.66 Q285.154 1461.2 285.154 1468.33 Q285.154 1475.44 286.96 1479.01 Q288.789 1482.55 292.4 1482.55 Q296.034 1482.55 297.84 1479.01 Q299.668 1475.44 299.668 1468.33 Q299.668 1461.2 297.84 1457.66 Q296.034 1454.1 292.4 1454.1 M292.4 1450.39 Q298.21 1450.39 301.265 1455 Q304.344 1459.58 304.344 1468.33 Q304.344 1477.06 301.265 1481.67 Q298.21 1486.25 292.4 1486.25 Q286.59 1486.25 283.511 1481.67 Q280.455 1477.06 280.455 1468.33 Q280.455 1459.58 283.511 1455 Q286.59 1450.39 292.4 1450.39 Z\" fill=\"#000000\" fill-rule=\"nonzero\" fill-opacity=\"1\" /><path clip-path=\"url(#clip860)\" d=\"M933.869 1481.64 L941.508 1481.64 L941.508 1455.28 L933.198 1456.95 L933.198 1452.69 L941.462 1451.02 L946.138 1451.02 L946.138 1481.64 L953.777 1481.64 L953.777 1485.58 L933.869 1485.58 L933.869 1481.64 Z\" fill=\"#000000\" fill-rule=\"nonzero\" fill-opacity=\"1\" /><path clip-path=\"url(#clip860)\" d=\"M973.221 1454.1 Q969.61 1454.1 967.781 1457.66 Q965.976 1461.2 965.976 1468.33 Q965.976 1475.44 967.781 1479.01 Q969.61 1482.55 973.221 1482.55 Q976.855 1482.55 978.661 1479.01 Q980.489 1475.44 980.489 1468.33 Q980.489 1461.2 978.661 1457.66 Q976.855 1454.1 973.221 1454.1 M973.221 1450.39 Q979.031 1450.39 982.087 1455 Q985.165 1459.58 985.165 1468.33 Q985.165 1477.06 982.087 1481.67 Q979.031 1486.25 973.221 1486.25 Q967.411 1486.25 964.332 1481.67 Q961.277 1477.06 961.277 1468.33 Q961.277 1459.58 964.332 1455 Q967.411 1450.39 973.221 1450.39 Z\" fill=\"#000000\" fill-rule=\"nonzero\" fill-opacity=\"1\" /><path clip-path=\"url(#clip860)\" d=\"M1604.74 1481.64 L1621.06 1481.64 L1621.06 1485.58 L1599.11 1485.58 L1599.11 1481.64 Q1601.77 1478.89 1606.36 1474.26 Q1610.96 1469.61 1612.14 1468.27 Q1614.39 1465.74 1615.27 1464.01 Q1616.17 1462.25 1616.17 1460.56 Q1616.17 1457.8 1614.23 1456.07 Q1612.31 1454.33 1609.2 1454.33 Q1607.01 1454.33 1604.55 1455.09 Q1602.12 1455.86 1599.34 1457.41 L1599.34 1452.69 Q1602.17 1451.55 1604.62 1450.97 Q1607.07 1450.39 1609.11 1450.39 Q1614.48 1450.39 1617.68 1453.08 Q1620.87 1455.77 1620.87 1460.26 Q1620.87 1462.39 1620.06 1464.31 Q1619.27 1466.2 1617.17 1468.8 Q1616.59 1469.47 1613.49 1472.69 Q1610.38 1475.88 1604.74 1481.64 Z\" fill=\"#000000\" fill-rule=\"nonzero\" fill-opacity=\"1\" /><path clip-path=\"url(#clip860)\" d=\"M1640.87 1454.1 Q1637.26 1454.1 1635.43 1457.66 Q1633.63 1461.2 1633.63 1468.33 Q1633.63 1475.44 1635.43 1479.01 Q1637.26 1482.55 1640.87 1482.55 Q1644.51 1482.55 1646.31 1479.01 Q1648.14 1475.44 1648.14 1468.33 Q1648.14 1461.2 1646.31 1457.66 Q1644.51 1454.1 1640.87 1454.1 M1640.87 1450.39 Q1646.68 1450.39 1649.74 1455 Q1652.82 1459.58 1652.82 1468.33 Q1652.82 1477.06 1649.74 1481.67 Q1646.68 1486.25 1640.87 1486.25 Q1635.06 1486.25 1631.98 1481.67 Q1628.93 1477.06 1628.93 1468.33 Q1628.93 1459.58 1631.98 1455 Q1635.06 1450.39 1640.87 1450.39 Z\" fill=\"#000000\" fill-rule=\"nonzero\" fill-opacity=\"1\" /><path clip-path=\"url(#clip860)\" d=\"M2281.59 1466.95 Q2284.94 1467.66 2286.82 1469.93 Q2288.72 1472.2 2288.72 1475.53 Q2288.72 1480.65 2285.2 1483.45 Q2281.68 1486.25 2275.2 1486.25 Q2273.02 1486.25 2270.71 1485.81 Q2268.42 1485.39 2265.96 1484.54 L2265.96 1480.02 Q2267.91 1481.16 2270.22 1481.74 Q2272.54 1482.32 2275.06 1482.32 Q2279.46 1482.32 2281.75 1480.58 Q2284.07 1478.84 2284.07 1475.53 Q2284.07 1472.48 2281.91 1470.77 Q2279.78 1469.03 2275.96 1469.03 L2271.94 1469.03 L2271.94 1465.19 L2276.15 1465.19 Q2279.6 1465.19 2281.43 1463.82 Q2283.25 1462.43 2283.25 1459.84 Q2283.25 1457.18 2281.36 1455.77 Q2279.48 1454.33 2275.96 1454.33 Q2274.04 1454.33 2271.84 1454.75 Q2269.64 1455.16 2267 1456.04 L2267 1451.88 Q2269.67 1451.14 2271.98 1450.77 Q2274.32 1450.39 2276.38 1450.39 Q2281.7 1450.39 2284.81 1452.83 Q2287.91 1455.23 2287.91 1459.35 Q2287.91 1462.22 2286.26 1464.21 Q2284.62 1466.18 2281.59 1466.95 Z\" fill=\"#000000\" fill-rule=\"nonzero\" fill-opacity=\"1\" /><path clip-path=\"url(#clip860)\" d=\"M2307.58 1454.1 Q2303.97 1454.1 2302.14 1457.66 Q2300.34 1461.2 2300.34 1468.33 Q2300.34 1475.44 2302.14 1479.01 Q2303.97 1482.55 2307.58 1482.55 Q2311.22 1482.55 2313.02 1479.01 Q2314.85 1475.44 2314.85 1468.33 Q2314.85 1461.2 2313.02 1457.66 Q2311.22 1454.1 2307.58 1454.1 M2307.58 1450.39 Q2313.39 1450.39 2316.45 1455 Q2319.53 1459.58 2319.53 1468.33 Q2319.53 1477.06 2316.45 1481.67 Q2313.39 1486.25 2307.58 1486.25 Q2301.77 1486.25 2298.69 1481.67 Q2295.64 1477.06 2295.64 1468.33 Q2295.64 1459.58 2298.69 1455 Q2301.77 1450.39 2307.58 1450.39 Z\" fill=\"#000000\" fill-rule=\"nonzero\" fill-opacity=\"1\" /><path clip-path=\"url(#clip860)\" d=\"M1148.28 1522.27 L1148.28 1532.4 L1160.34 1532.4 L1160.34 1536.95 L1148.28 1536.95 L1148.28 1556.3 Q1148.28 1560.66 1149.46 1561.9 Q1150.67 1563.14 1154.33 1563.14 L1160.34 1563.14 L1160.34 1568.04 L1154.33 1568.04 Q1147.55 1568.04 1144.97 1565.53 Q1142.39 1562.98 1142.39 1556.3 L1142.39 1536.95 L1138.09 1536.95 L1138.09 1532.4 L1142.39 1532.4 L1142.39 1522.27 L1148.28 1522.27 Z\" fill=\"#000000\" fill-rule=\"nonzero\" fill-opacity=\"1\" /><path clip-path=\"url(#clip860)\" d=\"M1168.04 1532.4 L1173.9 1532.4 L1173.9 1568.04 L1168.04 1568.04 L1168.04 1532.4 M1168.04 1518.52 L1173.9 1518.52 L1173.9 1525.93 L1168.04 1525.93 L1168.04 1518.52 Z\" fill=\"#000000\" fill-rule=\"nonzero\" fill-opacity=\"1\" /><path clip-path=\"url(#clip860)\" d=\"M1213.91 1539.24 Q1216.1 1535.29 1219.16 1533.41 Q1222.22 1531.54 1226.35 1531.54 Q1231.92 1531.54 1234.95 1535.45 Q1237.97 1539.33 1237.97 1546.53 L1237.97 1568.04 L1232.08 1568.04 L1232.08 1546.72 Q1232.08 1541.59 1230.27 1539.11 Q1228.45 1536.63 1224.73 1536.63 Q1220.18 1536.63 1217.54 1539.65 Q1214.9 1542.68 1214.9 1547.9 L1214.9 1568.04 L1209.01 1568.04 L1209.01 1546.72 Q1209.01 1541.56 1207.19 1539.11 Q1205.38 1536.63 1201.59 1536.63 Q1197.1 1536.63 1194.46 1539.68 Q1191.82 1542.71 1191.82 1547.9 L1191.82 1568.04 L1185.93 1568.04 L1185.93 1532.4 L1191.82 1532.4 L1191.82 1537.93 Q1193.82 1534.66 1196.63 1533.1 Q1199.43 1531.54 1203.28 1531.54 Q1207.16 1531.54 1209.87 1533.51 Q1212.6 1535.48 1213.91 1539.24 Z\" fill=\"#000000\" fill-rule=\"nonzero\" fill-opacity=\"1\" /><path clip-path=\"url(#clip860)\" d=\"M1280.14 1548.76 L1280.14 1551.62 L1253.22 1551.62 Q1253.6 1557.67 1256.85 1560.85 Q1260.12 1564 1265.95 1564 Q1269.32 1564 1272.47 1563.17 Q1275.66 1562.35 1278.77 1560.69 L1278.77 1566.23 Q1275.62 1567.57 1272.31 1568.27 Q1269 1568.97 1265.6 1568.97 Q1257.07 1568.97 1252.07 1564 Q1247.11 1559.04 1247.11 1550.57 Q1247.11 1541.82 1251.82 1536.69 Q1256.56 1531.54 1264.58 1531.54 Q1271.77 1531.54 1275.94 1536.18 Q1280.14 1540.8 1280.14 1548.76 M1274.29 1547.04 Q1274.22 1542.23 1271.58 1539.37 Q1268.97 1536.5 1264.64 1536.5 Q1259.74 1536.5 1256.78 1539.27 Q1253.85 1542.04 1253.41 1547.07 L1274.29 1547.04 Z\" fill=\"#000000\" fill-rule=\"nonzero\" fill-opacity=\"1\" /><path clip-path=\"url(#clip860)\" d=\"M1324.54 1518.58 Q1320.28 1525.9 1318.21 1533.06 Q1316.14 1540.23 1316.14 1547.58 Q1316.14 1554.93 1318.21 1562.16 Q1320.31 1569.35 1324.54 1576.64 L1319.45 1576.64 Q1314.68 1569.16 1312.29 1561.93 Q1309.94 1554.71 1309.94 1547.58 Q1309.94 1540.48 1312.29 1533.29 Q1314.65 1526.09 1319.45 1518.58 L1324.54 1518.58 Z\" fill=\"#000000\" fill-rule=\"nonzero\" fill-opacity=\"1\" /><path clip-path=\"url(#clip860)\" d=\"M1363.66 1539.24 Q1365.86 1535.29 1368.91 1533.41 Q1371.97 1531.54 1376.11 1531.54 Q1381.68 1531.54 1384.7 1535.45 Q1387.72 1539.33 1387.72 1546.53 L1387.72 1568.04 L1381.84 1568.04 L1381.84 1546.72 Q1381.84 1541.59 1380.02 1539.11 Q1378.21 1536.63 1374.48 1536.63 Q1369.93 1536.63 1367.29 1539.65 Q1364.65 1542.68 1364.65 1547.9 L1364.65 1568.04 L1358.76 1568.04 L1358.76 1546.72 Q1358.76 1541.56 1356.95 1539.11 Q1355.13 1536.63 1351.34 1536.63 Q1346.86 1536.63 1344.21 1539.68 Q1341.57 1542.71 1341.57 1547.9 L1341.57 1568.04 L1335.68 1568.04 L1335.68 1532.4 L1341.57 1532.4 L1341.57 1537.93 Q1343.58 1534.66 1346.38 1533.1 Q1349.18 1531.54 1353.03 1531.54 Q1356.91 1531.54 1359.62 1533.51 Q1362.36 1535.48 1363.66 1539.24 Z\" fill=\"#000000\" fill-rule=\"nonzero\" fill-opacity=\"1\" /><path clip-path=\"url(#clip860)\" d=\"M1422.13 1533.45 L1422.13 1538.98 Q1419.65 1537.71 1416.97 1537.07 Q1414.3 1536.44 1411.44 1536.44 Q1407.08 1536.44 1404.88 1537.77 Q1402.72 1539.11 1402.72 1541.79 Q1402.72 1543.82 1404.27 1545 Q1405.83 1546.15 1410.55 1547.2 L1412.55 1547.64 Q1418.79 1548.98 1421.4 1551.43 Q1424.04 1553.85 1424.04 1558.21 Q1424.04 1563.17 1420.09 1566.07 Q1416.18 1568.97 1409.3 1568.97 Q1406.44 1568.97 1403.32 1568.39 Q1400.23 1567.85 1396.8 1566.74 L1396.8 1560.69 Q1400.04 1562.38 1403.19 1563.24 Q1406.34 1564.07 1409.43 1564.07 Q1413.57 1564.07 1415.8 1562.66 Q1418.02 1561.23 1418.02 1558.65 Q1418.02 1556.27 1416.4 1554.99 Q1414.81 1553.72 1409.37 1552.54 L1407.33 1552.07 Q1401.89 1550.92 1399.47 1548.56 Q1397.05 1546.18 1397.05 1542.04 Q1397.05 1537.01 1400.61 1534.27 Q1404.18 1531.54 1410.74 1531.54 Q1413.98 1531.54 1416.85 1532.01 Q1419.71 1532.49 1422.13 1533.45 Z\" fill=\"#000000\" fill-rule=\"nonzero\" fill-opacity=\"1\" /><path clip-path=\"url(#clip860)\" d=\"M1432.44 1518.58 L1437.54 1518.58 Q1442.31 1526.09 1444.67 1533.29 Q1447.05 1540.48 1447.05 1547.58 Q1447.05 1554.71 1444.67 1561.93 Q1442.31 1569.16 1437.54 1576.64 L1432.44 1576.64 Q1436.68 1569.35 1438.75 1562.16 Q1440.85 1554.93 1440.85 1547.58 Q1440.85 1540.23 1438.75 1533.06 Q1436.68 1525.9 1432.44 1518.58 Z\" fill=\"#000000\" fill-rule=\"nonzero\" fill-opacity=\"1\" /><polyline clip-path=\"url(#clip862)\" style=\"stroke:#000000; stroke-linecap:round; stroke-linejoin:round; stroke-width:2; stroke-opacity:0.1; fill:none\" points=\"232.389,1250.2 2352.76,1250.2 \"/>\n",
       "<polyline clip-path=\"url(#clip862)\" style=\"stroke:#000000; stroke-linecap:round; stroke-linejoin:round; stroke-width:2; stroke-opacity:0.1; fill:none\" points=\"232.389,1019.86 2352.76,1019.86 \"/>\n",
       "<polyline clip-path=\"url(#clip862)\" style=\"stroke:#000000; stroke-linecap:round; stroke-linejoin:round; stroke-width:2; stroke-opacity:0.1; fill:none\" points=\"232.389,789.53 2352.76,789.53 \"/>\n",
       "<polyline clip-path=\"url(#clip862)\" style=\"stroke:#000000; stroke-linecap:round; stroke-linejoin:round; stroke-width:2; stroke-opacity:0.1; fill:none\" points=\"232.389,559.197 2352.76,559.197 \"/>\n",
       "<polyline clip-path=\"url(#clip862)\" style=\"stroke:#000000; stroke-linecap:round; stroke-linejoin:round; stroke-width:2; stroke-opacity:0.1; fill:none\" points=\"232.389,328.864 2352.76,328.864 \"/>\n",
       "<polyline clip-path=\"url(#clip860)\" style=\"stroke:#000000; stroke-linecap:round; stroke-linejoin:round; stroke-width:4; stroke-opacity:1; fill:none\" points=\"232.389,1423.18 232.389,123.472 \"/>\n",
       "<polyline clip-path=\"url(#clip860)\" style=\"stroke:#000000; stroke-linecap:round; stroke-linejoin:round; stroke-width:4; stroke-opacity:1; fill:none\" points=\"232.389,1250.2 251.287,1250.2 \"/>\n",
       "<polyline clip-path=\"url(#clip860)\" style=\"stroke:#000000; stroke-linecap:round; stroke-linejoin:round; stroke-width:4; stroke-opacity:1; fill:none\" points=\"232.389,1019.86 251.287,1019.86 \"/>\n",
       "<polyline clip-path=\"url(#clip860)\" style=\"stroke:#000000; stroke-linecap:round; stroke-linejoin:round; stroke-width:4; stroke-opacity:1; fill:none\" points=\"232.389,789.53 251.287,789.53 \"/>\n",
       "<polyline clip-path=\"url(#clip860)\" style=\"stroke:#000000; stroke-linecap:round; stroke-linejoin:round; stroke-width:4; stroke-opacity:1; fill:none\" points=\"232.389,559.197 251.287,559.197 \"/>\n",
       "<polyline clip-path=\"url(#clip860)\" style=\"stroke:#000000; stroke-linecap:round; stroke-linejoin:round; stroke-width:4; stroke-opacity:1; fill:none\" points=\"232.389,328.864 251.287,328.864 \"/>\n",
       "<path clip-path=\"url(#clip860)\" d=\"M149.306 1263.54 L165.626 1263.54 L165.626 1267.48 L143.681 1267.48 L143.681 1263.54 Q146.343 1260.79 150.927 1256.16 Q155.533 1251.5 156.714 1250.16 Q158.959 1247.64 159.839 1245.9 Q160.741 1244.14 160.741 1242.45 Q160.741 1239.7 158.797 1237.96 Q156.876 1236.23 153.774 1236.23 Q151.575 1236.23 149.121 1236.99 Q146.691 1237.75 143.913 1239.3 L143.913 1234.58 Q146.737 1233.45 149.191 1232.87 Q151.644 1232.29 153.681 1232.29 Q159.052 1232.29 162.246 1234.98 Q165.44 1237.66 165.44 1242.15 Q165.44 1244.28 164.63 1246.2 Q163.843 1248.1 161.737 1250.69 Q161.158 1251.36 158.056 1254.58 Q154.954 1257.78 149.306 1263.54 Z\" fill=\"#000000\" fill-rule=\"nonzero\" fill-opacity=\"1\" /><path clip-path=\"url(#clip860)\" d=\"M175.487 1232.92 L193.843 1232.92 L193.843 1236.85 L179.769 1236.85 L179.769 1245.32 Q180.788 1244.98 181.806 1244.81 Q182.825 1244.63 183.843 1244.63 Q189.63 1244.63 193.01 1247.8 Q196.389 1250.97 196.389 1256.39 Q196.389 1261.97 192.917 1265.07 Q189.445 1268.15 183.126 1268.15 Q180.95 1268.15 178.681 1267.78 Q176.436 1267.41 174.028 1266.67 L174.028 1261.97 Q176.112 1263.1 178.334 1263.66 Q180.556 1264.21 183.033 1264.21 Q187.038 1264.21 189.375 1262.11 Q191.713 1260 191.713 1256.39 Q191.713 1252.78 189.375 1250.67 Q187.038 1248.56 183.033 1248.56 Q181.158 1248.56 179.283 1248.98 Q177.431 1249.4 175.487 1250.28 L175.487 1232.92 Z\" fill=\"#000000\" fill-rule=\"nonzero\" fill-opacity=\"1\" /><path clip-path=\"url(#clip860)\" d=\"M144.329 1002.58 L162.686 1002.58 L162.686 1006.52 L148.612 1006.52 L148.612 1014.99 Q149.63 1014.64 150.649 1014.48 Q151.667 1014.3 152.686 1014.3 Q158.473 1014.3 161.852 1017.47 Q165.232 1020.64 165.232 1026.05 Q165.232 1031.63 161.76 1034.74 Q158.288 1037.81 151.968 1037.81 Q149.792 1037.81 147.524 1037.44 Q145.279 1037.07 142.871 1036.33 L142.871 1031.63 Q144.954 1032.77 147.177 1033.32 Q149.399 1033.88 151.876 1033.88 Q155.88 1033.88 158.218 1031.77 Q160.556 1029.67 160.556 1026.05 Q160.556 1022.44 158.218 1020.34 Q155.88 1018.23 151.876 1018.23 Q150.001 1018.23 148.126 1018.65 Q146.274 1019.06 144.329 1019.94 L144.329 1002.58 Z\" fill=\"#000000\" fill-rule=\"nonzero\" fill-opacity=\"1\" /><path clip-path=\"url(#clip860)\" d=\"M184.445 1005.66 Q180.834 1005.66 179.005 1009.23 Q177.2 1012.77 177.2 1019.9 Q177.2 1027 179.005 1030.57 Q180.834 1034.11 184.445 1034.11 Q188.079 1034.11 189.885 1030.57 Q191.713 1027 191.713 1019.9 Q191.713 1012.77 189.885 1009.23 Q188.079 1005.66 184.445 1005.66 M184.445 1001.96 Q190.255 1001.96 193.311 1006.56 Q196.389 1011.15 196.389 1019.9 Q196.389 1028.62 193.311 1033.23 Q190.255 1037.81 184.445 1037.81 Q178.635 1037.81 175.556 1033.23 Q172.501 1028.62 172.501 1019.9 Q172.501 1011.15 175.556 1006.56 Q178.635 1001.96 184.445 1001.96 Z\" fill=\"#000000\" fill-rule=\"nonzero\" fill-opacity=\"1\" /><path clip-path=\"url(#clip860)\" d=\"M144.098 772.25 L166.32 772.25 L166.32 774.241 L153.774 806.81 L148.89 806.81 L160.695 776.185 L144.098 776.185 L144.098 772.25 Z\" fill=\"#000000\" fill-rule=\"nonzero\" fill-opacity=\"1\" /><path clip-path=\"url(#clip860)\" d=\"M175.487 772.25 L193.843 772.25 L193.843 776.185 L179.769 776.185 L179.769 784.657 Q180.788 784.31 181.806 784.148 Q182.825 783.963 183.843 783.963 Q189.63 783.963 193.01 787.134 Q196.389 790.305 196.389 795.722 Q196.389 801.301 192.917 804.402 Q189.445 807.481 183.126 807.481 Q180.95 807.481 178.681 807.111 Q176.436 806.74 174.028 806 L174.028 801.301 Q176.112 802.435 178.334 802.99 Q180.556 803.546 183.033 803.546 Q187.038 803.546 189.375 801.439 Q191.713 799.333 191.713 795.722 Q191.713 792.111 189.375 790.004 Q187.038 787.898 183.033 787.898 Q181.158 787.898 179.283 788.315 Q177.431 788.731 175.487 789.611 L175.487 772.25 Z\" fill=\"#000000\" fill-rule=\"nonzero\" fill-opacity=\"1\" /><path clip-path=\"url(#clip860)\" d=\"M114.931 572.542 L122.57 572.542 L122.57 546.176 L114.26 547.843 L114.26 543.584 L122.524 541.917 L127.2 541.917 L127.2 572.542 L134.839 572.542 L134.839 576.477 L114.931 576.477 L114.931 572.542 Z\" fill=\"#000000\" fill-rule=\"nonzero\" fill-opacity=\"1\" /><path clip-path=\"url(#clip860)\" d=\"M154.283 544.996 Q150.672 544.996 148.843 548.56 Q147.038 552.102 147.038 559.232 Q147.038 566.338 148.843 569.903 Q150.672 573.445 154.283 573.445 Q157.917 573.445 159.723 569.903 Q161.552 566.338 161.552 559.232 Q161.552 552.102 159.723 548.56 Q157.917 544.996 154.283 544.996 M154.283 541.292 Q160.093 541.292 163.149 545.898 Q166.227 550.482 166.227 559.232 Q166.227 567.959 163.149 572.565 Q160.093 577.148 154.283 577.148 Q148.473 577.148 145.394 572.565 Q142.339 567.959 142.339 559.232 Q142.339 550.482 145.394 545.898 Q148.473 541.292 154.283 541.292 Z\" fill=\"#000000\" fill-rule=\"nonzero\" fill-opacity=\"1\" /><path clip-path=\"url(#clip860)\" d=\"M184.445 544.996 Q180.834 544.996 179.005 548.56 Q177.2 552.102 177.2 559.232 Q177.2 566.338 179.005 569.903 Q180.834 573.445 184.445 573.445 Q188.079 573.445 189.885 569.903 Q191.713 566.338 191.713 559.232 Q191.713 552.102 189.885 548.56 Q188.079 544.996 184.445 544.996 M184.445 541.292 Q190.255 541.292 193.311 545.898 Q196.389 550.482 196.389 559.232 Q196.389 567.959 193.311 572.565 Q190.255 577.148 184.445 577.148 Q178.635 577.148 175.556 572.565 Q172.501 567.959 172.501 559.232 Q172.501 550.482 175.556 545.898 Q178.635 541.292 184.445 541.292 Z\" fill=\"#000000\" fill-rule=\"nonzero\" fill-opacity=\"1\" /><path clip-path=\"url(#clip860)\" d=\"M115.927 342.209 L123.566 342.209 L123.566 315.843 L115.256 317.51 L115.256 313.251 L123.519 311.584 L128.195 311.584 L128.195 342.209 L135.834 342.209 L135.834 346.144 L115.927 346.144 L115.927 342.209 Z\" fill=\"#000000\" fill-rule=\"nonzero\" fill-opacity=\"1\" /><path clip-path=\"url(#clip860)\" d=\"M149.306 342.209 L165.626 342.209 L165.626 346.144 L143.681 346.144 L143.681 342.209 Q146.343 339.454 150.927 334.825 Q155.533 330.172 156.714 328.829 Q158.959 326.306 159.839 324.57 Q160.741 322.811 160.741 321.121 Q160.741 318.367 158.797 316.63 Q156.876 314.894 153.774 314.894 Q151.575 314.894 149.121 315.658 Q146.691 316.422 143.913 317.973 L143.913 313.251 Q146.737 312.117 149.191 311.538 Q151.644 310.959 153.681 310.959 Q159.052 310.959 162.246 313.644 Q165.44 316.33 165.44 320.82 Q165.44 322.95 164.63 324.871 Q163.843 326.769 161.737 329.362 Q161.158 330.033 158.056 333.251 Q154.954 336.445 149.306 342.209 Z\" fill=\"#000000\" fill-rule=\"nonzero\" fill-opacity=\"1\" /><path clip-path=\"url(#clip860)\" d=\"M175.487 311.584 L193.843 311.584 L193.843 315.519 L179.769 315.519 L179.769 323.992 Q180.788 323.644 181.806 323.482 Q182.825 323.297 183.843 323.297 Q189.63 323.297 193.01 326.468 Q196.389 329.64 196.389 335.056 Q196.389 340.635 192.917 343.737 Q189.445 346.815 183.126 346.815 Q180.95 346.815 178.681 346.445 Q176.436 346.075 174.028 345.334 L174.028 340.635 Q176.112 341.769 178.334 342.325 Q180.556 342.88 183.033 342.88 Q187.038 342.88 189.375 340.774 Q191.713 338.667 191.713 335.056 Q191.713 331.445 189.375 329.339 Q187.038 327.232 183.033 327.232 Q181.158 327.232 179.283 327.649 Q177.431 328.066 175.487 328.945 L175.487 311.584 Z\" fill=\"#000000\" fill-rule=\"nonzero\" fill-opacity=\"1\" /><path clip-path=\"url(#clip860)\" d=\"M18.2347 1042.23 L28.3562 1042.23 L28.3562 1030.17 L32.9077 1030.17 L32.9077 1042.23 L52.2594 1042.23 Q56.6199 1042.23 57.8613 1041.05 Q59.1026 1039.84 59.1026 1036.18 L59.1026 1030.17 L64.0042 1030.17 L64.0042 1036.18 Q64.0042 1042.96 61.4897 1045.54 Q58.9434 1048.12 52.2594 1048.12 L32.9077 1048.12 L32.9077 1052.41 L28.3562 1052.41 L28.3562 1048.12 L18.2347 1048.12 L18.2347 1042.23 Z\" fill=\"#000000\" fill-rule=\"nonzero\" fill-opacity=\"1\" /><path clip-path=\"url(#clip860)\" d=\"M44.7161 991.972 L47.5806 991.972 L47.5806 1018.9 Q53.6281 1018.52 56.8109 1015.27 Q59.9619 1011.99 59.9619 1006.17 Q59.9619 1002.79 59.1344 999.643 Q58.3069 996.46 56.6518 993.341 L62.1899 993.341 Q63.5267 996.492 64.227 999.802 Q64.9272 1003.11 64.9272 1006.52 Q64.9272 1015.05 59.9619 1020.04 Q54.9967 1025.01 46.5303 1025.01 Q37.7774 1025.01 32.6531 1020.3 Q27.4968 1015.56 27.4968 1007.54 Q27.4968 1000.34 32.1438 996.173 Q36.7589 991.972 44.7161 991.972 M42.9973 997.829 Q38.1912 997.892 35.3266 1000.53 Q32.4621 1003.14 32.4621 1007.47 Q32.4621 1012.37 35.2312 1015.33 Q38.0002 1018.26 43.0292 1018.71 L42.9973 997.829 Z\" fill=\"#000000\" fill-rule=\"nonzero\" fill-opacity=\"1\" /><path clip-path=\"url(#clip860)\" d=\"M35.1993 954.605 Q31.2526 952.409 29.3747 949.354 Q27.4968 946.298 27.4968 942.16 Q27.4968 936.59 31.4117 933.567 Q35.2948 930.543 42.4881 930.543 L64.0042 930.543 L64.0042 936.431 L42.679 936.431 Q37.5546 936.431 35.072 938.246 Q32.5894 940.06 32.5894 943.784 Q32.5894 948.335 35.6131 950.977 Q38.6368 953.619 43.8567 953.619 L64.0042 953.619 L64.0042 959.507 L42.679 959.507 Q37.5228 959.507 35.072 961.321 Q32.5894 963.135 32.5894 966.923 Q32.5894 971.411 35.6449 974.053 Q38.6686 976.694 43.8567 976.694 L64.0042 976.694 L64.0042 982.583 L28.3562 982.583 L28.3562 976.694 L33.8944 976.694 Q30.616 974.689 29.0564 971.888 Q27.4968 969.087 27.4968 965.236 Q27.4968 961.353 29.4702 958.648 Q31.4436 955.91 35.1993 954.605 Z\" fill=\"#000000\" fill-rule=\"nonzero\" fill-opacity=\"1\" /><path clip-path=\"url(#clip860)\" d=\"M58.657 913.196 L77.5631 913.196 L77.5631 919.085 L28.3562 919.085 L28.3562 913.196 L33.7671 913.196 Q30.5842 911.35 29.0564 908.55 Q27.4968 905.717 27.4968 901.802 Q27.4968 895.309 32.6531 891.267 Q37.8093 887.193 46.212 887.193 Q54.6147 887.193 59.771 891.267 Q64.9272 895.309 64.9272 901.802 Q64.9272 905.717 63.3994 908.55 Q61.8398 911.35 58.657 913.196 M46.212 893.272 Q39.7508 893.272 36.0905 895.945 Q32.3984 898.587 32.3984 903.234 Q32.3984 907.881 36.0905 910.555 Q39.7508 913.196 46.212 913.196 Q52.6732 913.196 56.3653 910.555 Q60.0256 907.881 60.0256 903.234 Q60.0256 898.587 56.3653 895.945 Q52.6732 893.272 46.212 893.272 Z\" fill=\"#000000\" fill-rule=\"nonzero\" fill-opacity=\"1\" /><path clip-path=\"url(#clip860)\" d=\"M44.7161 846.993 L47.5806 846.993 L47.5806 873.92 Q53.6281 873.538 56.8109 870.292 Q59.9619 867.013 59.9619 861.189 Q59.9619 857.815 59.1344 854.664 Q58.3069 851.481 56.6518 848.362 L62.1899 848.362 Q63.5267 851.513 64.227 854.823 Q64.9272 858.133 64.9272 861.539 Q64.9272 870.069 59.9619 875.066 Q54.9967 880.031 46.5303 880.031 Q37.7774 880.031 32.6531 875.321 Q27.4968 870.578 27.4968 862.557 Q27.4968 855.364 32.1438 851.194 Q36.7589 846.993 44.7161 846.993 M42.9973 852.85 Q38.1912 852.913 35.3266 855.555 Q32.4621 858.165 32.4621 862.494 Q32.4621 867.395 35.2312 870.355 Q38.0002 873.283 43.0292 873.729 L42.9973 852.85 Z\" fill=\"#000000\" fill-rule=\"nonzero\" fill-opacity=\"1\" /><path clip-path=\"url(#clip860)\" d=\"M33.8307 816.724 Q33.2578 817.711 33.0032 818.889 Q32.7167 820.034 32.7167 821.435 Q32.7167 826.4 35.9632 829.074 Q39.1779 831.715 45.2253 831.715 L64.0042 831.715 L64.0042 837.604 L28.3562 837.604 L28.3562 831.715 L33.8944 831.715 Q30.6479 829.869 29.0883 826.909 Q27.4968 823.949 27.4968 819.716 Q27.4968 819.111 27.5923 818.379 Q27.656 817.647 27.8151 816.756 L33.8307 816.724 Z\" fill=\"#000000\" fill-rule=\"nonzero\" fill-opacity=\"1\" /><path clip-path=\"url(#clip860)\" d=\"M46.0847 794.381 Q46.0847 801.478 47.7079 804.216 Q49.3312 806.953 53.2461 806.953 Q56.3653 806.953 58.2114 804.916 Q60.0256 802.847 60.0256 799.314 Q60.0256 794.444 56.5881 791.516 Q53.1188 788.556 47.3897 788.556 L46.0847 788.556 L46.0847 794.381 M43.6657 782.699 L64.0042 782.699 L64.0042 788.556 L58.5933 788.556 Q61.8398 790.561 63.3994 793.553 Q64.9272 796.545 64.9272 800.874 Q64.9272 806.348 61.8716 809.595 Q58.7843 812.809 53.6281 812.809 Q47.6125 812.809 44.5569 808.799 Q41.5014 804.757 41.5014 796.768 L41.5014 788.556 L40.9285 788.556 Q36.8862 788.556 34.6901 791.23 Q32.4621 793.871 32.4621 798.677 Q32.4621 801.733 33.1941 804.629 Q33.9262 807.526 35.3903 810.199 L29.9795 810.199 Q28.7381 806.985 28.1334 803.961 Q27.4968 800.937 27.4968 798.073 Q27.4968 790.338 31.5072 786.519 Q35.5176 782.699 43.6657 782.699 Z\" fill=\"#000000\" fill-rule=\"nonzero\" fill-opacity=\"1\" /><path clip-path=\"url(#clip860)\" d=\"M18.2347 764.844 L28.3562 764.844 L28.3562 752.781 L32.9077 752.781 L32.9077 764.844 L52.2594 764.844 Q56.6199 764.844 57.8613 763.666 Q59.1026 762.457 59.1026 758.796 L59.1026 752.781 L64.0042 752.781 L64.0042 758.796 Q64.0042 765.576 61.4897 768.154 Q58.9434 770.732 52.2594 770.732 L32.9077 770.732 L32.9077 775.029 L28.3562 775.029 L28.3562 770.732 L18.2347 770.732 L18.2347 764.844 Z\" fill=\"#000000\" fill-rule=\"nonzero\" fill-opacity=\"1\" /><path clip-path=\"url(#clip860)\" d=\"M49.9359 745.683 L28.3562 745.683 L28.3562 739.826 L49.7131 739.826 Q54.7739 739.826 57.3202 737.853 Q59.8346 735.88 59.8346 731.933 Q59.8346 727.191 56.8109 724.453 Q53.7872 721.684 48.5673 721.684 L28.3562 721.684 L28.3562 715.828 L64.0042 715.828 L64.0042 721.684 L58.5296 721.684 Q61.7762 723.817 63.3676 726.649 Q64.9272 729.45 64.9272 733.174 Q64.9272 739.317 61.1078 742.5 Q57.2883 745.683 49.9359 745.683 M27.4968 730.946 L27.4968 730.946 Z\" fill=\"#000000\" fill-rule=\"nonzero\" fill-opacity=\"1\" /><path clip-path=\"url(#clip860)\" d=\"M33.8307 683.108 Q33.2578 684.095 33.0032 685.272 Q32.7167 686.418 32.7167 687.819 Q32.7167 692.784 35.9632 695.457 Q39.1779 698.099 45.2253 698.099 L64.0042 698.099 L64.0042 703.988 L28.3562 703.988 L28.3562 698.099 L33.8944 698.099 Q30.6479 696.253 29.0883 693.293 Q27.4968 690.333 27.4968 686.1 Q27.4968 685.495 27.5923 684.763 Q27.656 684.031 27.8151 683.14 L33.8307 683.108 Z\" fill=\"#000000\" fill-rule=\"nonzero\" fill-opacity=\"1\" /><path clip-path=\"url(#clip860)\" d=\"M44.7161 647.906 L47.5806 647.906 L47.5806 674.833 Q53.6281 674.451 56.8109 671.204 Q59.9619 667.926 59.9619 662.101 Q59.9619 658.727 59.1344 655.576 Q58.3069 652.393 56.6518 649.274 L62.1899 649.274 Q63.5267 652.425 64.227 655.735 Q64.9272 659.046 64.9272 662.451 Q64.9272 670.981 59.9619 675.978 Q54.9967 680.944 46.5303 680.944 Q37.7774 680.944 32.6531 676.233 Q27.4968 671.491 27.4968 663.47 Q27.4968 656.277 32.1438 652.107 Q36.7589 647.906 44.7161 647.906 M42.9973 653.762 Q38.1912 653.826 35.3266 656.468 Q32.4621 659.077 32.4621 663.406 Q32.4621 668.308 35.2312 671.268 Q38.0002 674.196 43.0292 674.642 L42.9973 653.762 Z\" fill=\"#000000\" fill-rule=\"nonzero\" fill-opacity=\"1\" /><path clip-path=\"url(#clip860)\" d=\"M14.5426 603.505 Q21.8632 607.77 29.0246 609.839 Q36.186 611.908 43.5384 611.908 Q50.8908 611.908 58.1159 609.839 Q65.3091 607.738 72.5979 603.505 L72.5979 608.597 Q65.1182 613.372 57.8931 615.759 Q50.668 618.114 43.5384 618.114 Q36.4406 618.114 29.2474 615.759 Q22.0542 613.404 14.5426 608.597 L14.5426 603.505 Z\" fill=\"#000000\" fill-rule=\"nonzero\" fill-opacity=\"1\" /><path clip-path=\"url(#clip860)\" d=\"M77.5631 592.747 L28.3562 592.747 L28.3562 586.89 L50.5089 586.89 Q55.124 586.89 57.4793 584.694 Q59.8346 582.498 59.8346 578.201 Q59.8346 573.491 57.161 571.135 Q54.4874 568.748 49.1402 568.748 L28.3562 568.748 L28.3562 562.892 L55.7924 562.892 Q57.7021 562.892 58.6251 562.351 Q59.5163 561.778 59.5163 560.6 Q59.5163 560.314 59.3572 559.804 Q59.1662 559.295 58.7843 558.404 L63.4949 558.404 Q64.227 559.709 64.5771 560.886 Q64.9272 562.032 64.9272 563.146 Q64.9272 565.342 63.6859 566.647 Q62.4446 567.952 59.8983 568.43 Q62.4127 570.021 63.6859 572.345 Q64.9272 574.636 64.9272 577.756 Q64.9272 581.002 63.6859 583.294 Q62.4446 585.554 59.9619 586.89 L77.5631 586.89 L77.5631 592.747 Z\" fill=\"#000000\" fill-rule=\"nonzero\" fill-opacity=\"1\" /><path clip-path=\"url(#clip860)\" d=\"M16.4842 550.415 L16.4842 543.985 L36.568 543.985 L16.4842 522.66 L16.4842 514.385 L38.6368 537.97 L64.0042 512.698 L64.0042 521.164 L41.1194 543.985 L64.0042 543.985 L64.0042 550.415 L16.4842 550.415 Z\" fill=\"#000000\" fill-rule=\"nonzero\" fill-opacity=\"1\" /><path clip-path=\"url(#clip860)\" d=\"M14.5426 508.847 L14.5426 503.754 Q22.0542 498.98 29.2474 496.625 Q36.4406 494.237 43.5384 494.237 Q50.668 494.237 57.8931 496.625 Q65.1182 498.98 72.5979 503.754 L72.5979 508.847 Q65.3091 504.614 58.1159 502.545 Q50.8908 500.444 43.5384 500.444 Q36.186 500.444 29.0246 502.545 Q21.8632 504.614 14.5426 508.847 Z\" fill=\"#000000\" fill-rule=\"nonzero\" fill-opacity=\"1\" /><path clip-path=\"url(#clip860)\" d=\"M1021.77 76.7889 Q1018.61 84.8907 1015.61 87.3618 Q1012.61 89.8329 1007.59 89.8329 L1001.64 89.8329 L1001.64 83.5945 L1006.01 83.5945 Q1009.09 83.5945 1010.79 82.1361 Q1012.49 80.6778 1014.56 75.2496 L1015.9 71.8468 L997.545 27.2059 L1005.44 27.2059 L1019.62 62.6918 L1033.8 27.2059 L1041.7 27.2059 L1021.77 76.7889 Z\" fill=\"#000000\" fill-rule=\"nonzero\" fill-opacity=\"1\" /><path clip-path=\"url(#clip860)\" d=\"M1085.73 14.324 L1085.73 27.2059 L1101.09 27.2059 L1101.09 32.9987 L1085.73 32.9987 L1085.73 57.6282 Q1085.73 63.1779 1087.23 64.7578 Q1088.77 66.3376 1093.43 66.3376 L1101.09 66.3376 L1101.09 72.576 L1093.43 72.576 Q1084.8 72.576 1081.52 69.3758 Q1078.24 66.1351 1078.24 57.6282 L1078.24 32.9987 L1072.77 32.9987 L1072.77 27.2059 L1078.24 27.2059 L1078.24 14.324 L1085.73 14.324 Z\" fill=\"#000000\" fill-rule=\"nonzero\" fill-opacity=\"1\" /><path clip-path=\"url(#clip860)\" d=\"M1149.7 48.0275 L1149.7 51.6733 L1115.43 51.6733 Q1115.91 59.3701 1120.04 63.421 Q1124.22 67.4314 1131.63 67.4314 Q1135.92 67.4314 1139.93 66.3781 Q1143.99 65.3249 1147.96 63.2184 L1147.96 70.267 Q1143.94 71.9684 1139.73 72.8596 Q1135.52 73.7508 1131.18 73.7508 Q1120.33 73.7508 1113.97 67.4314 Q1107.65 61.1119 1107.65 50.3365 Q1107.65 39.1965 1113.64 32.6746 Q1119.68 26.1121 1129.89 26.1121 Q1139.04 26.1121 1144.35 32.0264 Q1149.7 37.9003 1149.7 48.0275 M1142.24 45.84 Q1142.16 39.7232 1138.8 36.0774 Q1135.48 32.4315 1129.97 32.4315 Q1123.73 32.4315 1119.96 35.9558 Q1116.24 39.4801 1115.67 45.8805 L1142.24 45.84 Z\" fill=\"#000000\" fill-rule=\"nonzero\" fill-opacity=\"1\" /><path clip-path=\"url(#clip860)\" d=\"M1197.25 35.9153 Q1200.05 30.8922 1203.94 28.5022 Q1207.83 26.1121 1213.09 26.1121 Q1220.18 26.1121 1224.03 31.0947 Q1227.88 36.0368 1227.88 45.1919 L1227.88 72.576 L1220.39 72.576 L1220.39 45.4349 Q1220.39 38.913 1218.08 35.7533 Q1215.77 32.5936 1211.03 32.5936 Q1205.24 32.5936 1201.87 36.4419 Q1198.51 40.2903 1198.51 46.9338 L1198.51 72.576 L1191.02 72.576 L1191.02 45.4349 Q1191.02 38.8725 1188.71 35.7533 Q1186.4 32.5936 1181.58 32.5936 Q1175.87 32.5936 1172.5 36.4824 Q1169.14 40.3308 1169.14 46.9338 L1169.14 72.576 L1161.65 72.576 L1161.65 27.2059 L1169.14 27.2059 L1169.14 34.2544 Q1171.69 30.082 1175.26 28.0971 Q1178.82 26.1121 1183.72 26.1121 Q1188.67 26.1121 1192.11 28.6237 Q1195.59 31.1352 1197.25 35.9153 Z\" fill=\"#000000\" fill-rule=\"nonzero\" fill-opacity=\"1\" /><path clip-path=\"url(#clip860)\" d=\"M1249.96 65.7705 L1249.96 89.8329 L1242.46 89.8329 L1242.46 27.2059 L1249.96 27.2059 L1249.96 34.0924 Q1252.31 30.0415 1255.87 28.0971 Q1259.48 26.1121 1264.46 26.1121 Q1272.72 26.1121 1277.87 32.6746 Q1283.05 39.2371 1283.05 49.9314 Q1283.05 60.6258 1277.87 67.1883 Q1272.72 73.7508 1264.46 73.7508 Q1259.48 73.7508 1255.87 71.8063 Q1252.31 69.8214 1249.96 65.7705 M1275.32 49.9314 Q1275.32 41.7081 1271.91 37.0496 Q1268.55 32.3505 1262.64 32.3505 Q1256.72 32.3505 1253.32 37.0496 Q1249.96 41.7081 1249.96 49.9314 Q1249.96 58.1548 1253.32 62.8538 Q1256.72 67.5124 1262.64 67.5124 Q1268.55 67.5124 1271.91 62.8538 Q1275.32 58.1548 1275.32 49.9314 Z\" fill=\"#000000\" fill-rule=\"nonzero\" fill-opacity=\"1\" /><path clip-path=\"url(#clip860)\" d=\"M1334.22 48.0275 L1334.22 51.6733 L1299.95 51.6733 Q1300.43 59.3701 1304.56 63.421 Q1308.74 67.4314 1316.15 67.4314 Q1320.44 67.4314 1324.45 66.3781 Q1328.5 65.3249 1332.47 63.2184 L1332.47 70.267 Q1328.46 71.9684 1324.25 72.8596 Q1320.04 73.7508 1315.7 73.7508 Q1304.85 73.7508 1298.49 67.4314 Q1292.17 61.1119 1292.17 50.3365 Q1292.17 39.1965 1298.16 32.6746 Q1304.2 26.1121 1314.41 26.1121 Q1323.56 26.1121 1328.87 32.0264 Q1334.22 37.9003 1334.22 48.0275 M1326.76 45.84 Q1326.68 39.7232 1323.32 36.0774 Q1320 32.4315 1314.49 32.4315 Q1308.25 32.4315 1304.48 35.9558 Q1300.76 39.4801 1300.19 45.8805 L1326.76 45.84 Z\" fill=\"#000000\" fill-rule=\"nonzero\" fill-opacity=\"1\" /><path clip-path=\"url(#clip860)\" d=\"M1372.74 34.1734 Q1371.48 33.4443 1369.99 33.1202 Q1368.53 32.7556 1366.74 32.7556 Q1360.43 32.7556 1357.02 36.8875 Q1353.66 40.9789 1353.66 48.6757 L1353.66 72.576 L1346.17 72.576 L1346.17 27.2059 L1353.66 27.2059 L1353.66 34.2544 Q1356.01 30.1225 1359.78 28.1376 Q1363.54 26.1121 1368.93 26.1121 Q1369.7 26.1121 1370.63 26.2337 Q1371.57 26.3147 1372.7 26.5172 L1372.74 34.1734 Z\" fill=\"#000000\" fill-rule=\"nonzero\" fill-opacity=\"1\" /><path clip-path=\"url(#clip860)\" d=\"M1401.18 49.7694 Q1392.14 49.7694 1388.66 51.8354 Q1385.18 53.9013 1385.18 58.8839 Q1385.18 62.8538 1387.77 65.2034 Q1390.4 67.5124 1394.9 67.5124 Q1401.1 67.5124 1404.82 63.1374 Q1408.59 58.7219 1408.59 51.4303 L1408.59 49.7694 L1401.18 49.7694 M1416.04 46.6907 L1416.04 72.576 L1408.59 72.576 L1408.59 65.6895 Q1406.04 69.8214 1402.23 71.8063 Q1398.42 73.7508 1392.91 73.7508 Q1385.95 73.7508 1381.81 69.8619 Q1377.72 65.9325 1377.72 59.3701 Q1377.72 51.7138 1382.83 47.825 Q1387.97 43.9361 1398.14 43.9361 L1408.59 43.9361 L1408.59 43.2069 Q1408.59 38.0623 1405.19 35.2672 Q1401.83 32.4315 1395.71 32.4315 Q1391.82 32.4315 1388.13 33.3632 Q1384.45 34.295 1381.04 36.1584 L1381.04 29.2718 Q1385.14 27.692 1388.98 26.9223 Q1392.83 26.1121 1396.48 26.1121 Q1406.32 26.1121 1411.18 31.2163 Q1416.04 36.3204 1416.04 46.6907 Z\" fill=\"#000000\" fill-rule=\"nonzero\" fill-opacity=\"1\" /><path clip-path=\"url(#clip860)\" d=\"M1438.77 14.324 L1438.77 27.2059 L1454.12 27.2059 L1454.12 32.9987 L1438.77 32.9987 L1438.77 57.6282 Q1438.77 63.1779 1440.27 64.7578 Q1441.81 66.3376 1446.47 66.3376 L1454.12 66.3376 L1454.12 72.576 L1446.47 72.576 Q1437.84 72.576 1434.56 69.3758 Q1431.28 66.1351 1431.28 57.6282 L1431.28 32.9987 L1425.81 32.9987 L1425.81 27.2059 L1431.28 27.2059 L1431.28 14.324 L1438.77 14.324 Z\" fill=\"#000000\" fill-rule=\"nonzero\" fill-opacity=\"1\" /><path clip-path=\"url(#clip860)\" d=\"M1463.16 54.671 L1463.16 27.2059 L1470.61 27.2059 L1470.61 54.3874 Q1470.61 60.8284 1473.12 64.0691 Q1475.63 67.2693 1480.66 67.2693 Q1486.69 67.2693 1490.18 63.421 Q1493.7 59.5726 1493.7 52.9291 L1493.7 27.2059 L1501.15 27.2059 L1501.15 72.576 L1493.7 72.576 L1493.7 65.6084 Q1490.99 69.7404 1487.38 71.7658 Q1483.82 73.7508 1479.08 73.7508 Q1471.26 73.7508 1467.21 68.8897 Q1463.16 64.0286 1463.16 54.671 M1481.91 26.1121 L1481.91 26.1121 Z\" fill=\"#000000\" fill-rule=\"nonzero\" fill-opacity=\"1\" /><path clip-path=\"url(#clip860)\" d=\"M1542.8 34.1734 Q1541.54 33.4443 1540.04 33.1202 Q1538.58 32.7556 1536.8 32.7556 Q1530.48 32.7556 1527.08 36.8875 Q1523.72 40.9789 1523.72 48.6757 L1523.72 72.576 L1516.22 72.576 L1516.22 27.2059 L1523.72 27.2059 L1523.72 34.2544 Q1526.07 30.1225 1529.83 28.1376 Q1533.6 26.1121 1538.99 26.1121 Q1539.76 26.1121 1540.69 26.2337 Q1541.62 26.3147 1542.76 26.5172 L1542.8 34.1734 Z\" fill=\"#000000\" fill-rule=\"nonzero\" fill-opacity=\"1\" /><path clip-path=\"url(#clip860)\" d=\"M1587.6 48.0275 L1587.6 51.6733 L1553.33 51.6733 Q1553.82 59.3701 1557.95 63.421 Q1562.12 67.4314 1569.53 67.4314 Q1573.83 67.4314 1577.84 66.3781 Q1581.89 65.3249 1585.86 63.2184 L1585.86 70.267 Q1581.85 71.9684 1577.63 72.8596 Q1573.42 73.7508 1569.09 73.7508 Q1558.23 73.7508 1551.87 67.4314 Q1545.55 61.1119 1545.55 50.3365 Q1545.55 39.1965 1551.55 32.6746 Q1557.58 26.1121 1567.79 26.1121 Q1576.95 26.1121 1582.25 32.0264 Q1587.6 37.9003 1587.6 48.0275 M1580.15 45.84 Q1580.07 39.7232 1576.7 36.0774 Q1573.38 32.4315 1567.87 32.4315 Q1561.63 32.4315 1557.87 35.9558 Q1554.14 39.4801 1553.57 45.8805 L1580.15 45.84 Z\" fill=\"#000000\" fill-rule=\"nonzero\" fill-opacity=\"1\" /><polyline clip-path=\"url(#clip862)\" style=\"stroke:#009af9; stroke-linecap:round; stroke-linejoin:round; stroke-width:4; stroke-opacity:1; fill:none\" points=\"292.4,256.935 308.981,1104.77 325.563,1242.37 342.144,1248.82 358.726,1316.66 375.307,1335.95 391.889,1168.48 408.47,679.368 425.052,1092.47 441.633,968.058 458.215,1004.26 474.796,1185.8 491.378,1205.15 507.959,1138.89 524.541,1313.18 541.122,1220.76 557.704,1310.54 574.285,1340.88 590.867,1286.33 607.448,1152.36 624.03,1159.42 640.611,1073.51 657.193,1117.78 673.774,1038.98 690.356,882.18 706.937,922.761 723.519,761.07 740.1,453.928 756.682,357.952 773.263,598.148 789.845,696.072 806.426,604.689 823.008,876.807 839.589,972.671 856.171,720.961 872.752,889.919 889.334,724.88 905.915,789.476 922.497,847.494 939.078,925.386 955.66,960.212 972.241,986.859 988.823,845.595 1005.4,663.887 1021.99,471.113 1038.57,160.256 1055.15,263.337 1071.73,181.185 1088.31,383.791 1104.89,695.08 1121.48,939.947 1138.06,923.664 1154.64,944.488 1171.22,1026.74 1187.8,953.258 1204.38,1025.59 1220.96,719.64 1237.55,531.481 1254.13,885.857 1270.71,953.101 1287.29,474.359 1303.87,757.471 1320.45,704.281 1337.03,519.412 1353.62,753.729 1370.2,937.138 1386.78,914.956 1403.36,908.04 1419.94,691.489 1436.52,806.932 1453.11,885.427 1469.69,969.208 1486.27,766.832 1502.85,708.949 1519.43,802.05 1536.01,861.746 1552.59,948.294 1569.18,1189.31 1585.76,1122.61 1602.34,1171.52 1618.92,1108.42 1635.5,1383.73 1652.08,1279 1668.66,1353.75 1685.25,1308.75 1701.83,1363.51 1718.41,1344.6 1734.99,1336.43 1751.57,1192.71 1768.15,1245.82 1784.74,1285.27 1801.32,1289.34 1817.9,1140.28 1834.48,1178.31 1851.06,1307.08 1867.64,1355.58 1884.22,1223.88 1900.81,1265.09 1917.39,1273.78 1933.97,1345.74 1950.55,1356.01 1967.13,1382.9 1983.71,1258.78 2000.29,1224.96 2016.88,1358.23 2033.46,1216.1 2050.04,1011.91 2066.62,1214.72 2083.2,1168.24 2099.78,1292.15 2116.37,1258.55 2132.95,1355.51 2149.53,1347.8 2166.11,1325.16 2182.69,1333.42 2199.27,1263.49 2215.85,1386.4 2232.44,1375.05 2249.02,1383.58 2265.6,1276.32 2282.18,1344.22 2292.75,1321.94 \"/>\n",
       "</svg>\n"
      ]
     },
     "execution_count": 20,
     "metadata": {},
     "output_type": "execute_result"
    }
   ],
   "source": [
    "plot_temperature(results, \"y\")\n",
    "plot!()"
   ]
  },
  {
   "cell_type": "code",
   "execution_count": 21,
   "id": "8ad0b2d0-3b85-41a6-bd34-9458afb2b565",
   "metadata": {},
   "outputs": [
    {
     "name": "stdout",
     "output_type": "stream",
     "text": [
      "--------------------------------------------------\n",
      "Molecules trapped: 24 out of 24\n",
      "Final cloud size: (0.29, 0.37, 0.18) mm\n",
      "Final temperature: (27.36, 17.21, 222.84) μK\n",
      "Average photons scattered: 9851\n",
      "Average scattering rate: 0.328 MHz\n",
      "--------------------------------------------------\n"
     ]
    }
   ],
   "source": [
    "summarize_results(results)"
   ]
  },
  {
   "cell_type": "markdown",
   "id": "45695fd2-fcc6-40a3-92e8-b16dc8748252",
   "metadata": {},
   "source": [
    "## Scanning configurations"
   ]
  },
  {
   "cell_type": "code",
   "execution_count": 30,
   "id": "32177b08-13e8-4885-9596-fa451057d157",
   "metadata": {},
   "outputs": [],
   "source": [
    "function next_configuration!(lists, indicies)\n",
    "   for which_param in 1:length(lists)\n",
    "       if indicies[which_param] < length(lists[which_param])\n",
    "           indicies[which_param] += 1\n",
    "            break\n",
    "        else # set this param to index q, try to increase the next next param\n",
    "            indicies[which_param] = 1\n",
    "        end\n",
    "    end\n",
    "end\n",
    ";"
   ]
  },
  {
   "cell_type": "code",
   "execution_count": null,
   "id": "8779677e-6155-4775-a7cb-f34371921b77",
   "metadata": {},
   "outputs": [],
   "source": [
    "\n",
    "params = MutableNamedTuple(t_end = 30e-3, n_values = 20,\n",
    "                            pol1_x=σ⁻, pol2_x=σ⁺, pol3_x=σ⁻, pol4_x=σ⁺, \n",
    "                            s1=2.0, s2=0.0, s3=0.05, s4=0.05,\n",
    "                            Δ1=4.0Γ, Δ2=-0.8Γ, Δ3=-1.0Γ, Δ4=+0.5Γ, \n",
    "                            B_gradient = 30, \n",
    "                            temp=temp, diameter=diameter, \n",
    "                            displacement=displacement, kick=kick,\n",
    "                            ramp_time = 4e-3)"
   ]
  },
  {
   "cell_type": "code",
   "execution_count": 24,
   "id": "030bfbc9-a120-436e-b88c-fc25739ce39d",
   "metadata": {},
   "outputs": [
    {
     "data": {
      "text/plain": [
       "324"
      ]
     },
     "execution_count": 24,
     "metadata": {},
     "output_type": "execute_result"
    }
   ],
   "source": [
    "3 * 3 * 2 * 2 * 3 * 3"
   ]
  },
  {
   "cell_type": "code",
   "execution_count": 25,
   "id": "2022eb1a-6bf4-4882-8f98-31c2a93d9bf2",
   "metadata": {},
   "outputs": [
    {
     "data": {
      "text/plain": [
       "12-element Vector{Int64}:\n",
       " 1\n",
       " 1\n",
       " 1\n",
       " 1\n",
       " 1\n",
       " 1\n",
       " 1\n",
       " 1\n",
       " 1\n",
       " 1\n",
       " 1\n",
       " 1"
      ]
     },
     "execution_count": 25,
     "metadata": {},
     "output_type": "execute_result"
    }
   ],
   "source": [
    "# fixed:\n",
    "t_end = 30e-3 #s\n",
    "n_values = 20\n",
    "ramp_time = 4e-3 #s\n",
    "B_gradient = 30 #G/cm\n",
    "\n",
    "temp = @with_unit 0.5 \"mK\"\n",
    "diameter = @with_unit 0.6 \"mm\"\n",
    "displacement = [0.0, 0.0, 0.0]\n",
    "kick = [0,0, 0.0, 0.0]\n",
    "\n",
    "# variable:\n",
    "pol1_x_list = [σ⁻]\n",
    "pol2_x_list = [σ⁺]\n",
    "pol3_x_list = [σ⁻]\n",
    "pol4_x_list = [σ⁺]\n",
    "\n",
    "s1_list = [1.5, 2.0, 2.5]\n",
    "s2_list = [0.0]\n",
    "s3_list = [0.05, 0.1]\n",
    "s4_list = [0.05, 0.1]\n",
    "\n",
    "Δ1_list = [2.0, 4.0, 6.0] .* Γ\n",
    "Δ2_list = [0.0]\n",
    "Δ3_list = [-0.5, -1.0, -1.5] .* Γ\n",
    "Δ4_list = [0.5, 1.0, 1.5] .* Γ\n",
    "\n",
    "lists = [pol1_x_list, pol2_x_list, pol3_x_list, pol4_x_list,\n",
    "        s1_list, s2_list, s3_list, s4_list,\n",
    "        Δ1_list, Δ2_list, Δ3_list, Δ4_list]\n",
    "\n",
    "n_scans = 1\n",
    "for l in lists\n",
    "   n_scans *= length(l) \n",
    "end\n",
    "\n",
    "comments = \"scan d3 +- 1MHz\";\n",
    "saving_dir = make_scan_folder(lists, working_dir, 1, comments);\n",
    "\n",
    "scan_counter = 0\n",
    "indicies = [\n",
    "    1,1,1,1, \n",
    "    1,1,1,1, \n",
    "    1,1,1,1\n",
    "]"
   ]
  },
  {
   "cell_type": "code",
   "execution_count": 31,
   "id": "260ebd13-d22d-43f3-8e3e-626c467e837d",
   "metadata": {},
   "outputs": [],
   "source": [
    "scan_counter = 0\n",
    "indicies = [1,1,1,1, 1,1,1,1, 1,1,1,1]\n",
    "while scan_counter < 21\n",
    "    scan_counter += 1\n",
    "    next_configuration!(lists, indicies)\n",
    "end;"
   ]
  },
  {
   "cell_type": "code",
   "execution_count": 32,
   "id": "561402b9-5a2a-456f-b780-d9c7e24f215f",
   "metadata": {},
   "outputs": [
    {
     "data": {
      "text/plain": [
       "21"
      ]
     },
     "execution_count": 32,
     "metadata": {},
     "output_type": "execute_result"
    }
   ],
   "source": [
    "scan_counter"
   ]
  },
  {
   "cell_type": "code",
   "execution_count": 33,
   "id": "70db6f1f-fe67-4075-b327-079db4c5bdbd",
   "metadata": {},
   "outputs": [
    {
     "data": {
      "text/plain": [
       "2.0106192982974675e7"
      ]
     },
     "execution_count": 33,
     "metadata": {},
     "output_type": "execute_result"
    }
   ],
   "source": [
    "\n",
    "s1 = s1_list[indicies[5]]\n",
    "\n",
    "s3 = s3_list[indicies[7]]\n",
    "\n",
    "Δ1 = Δ1_list[indicies[9]]\n",
    "\n",
    "Δ3 = Δ3_list[indicies[11]]\n"
   ]
  },
  {
   "cell_type": "code",
   "execution_count": 34,
   "id": "0b3bf72e-11a1-48af-874b-5b08a5434370",
   "metadata": {},
   "outputs": [
    {
     "data": {
      "text/plain": [
       "1.0"
      ]
     },
     "execution_count": 34,
     "metadata": {},
     "output_type": "execute_result"
    }
   ],
   "source": [
    "s1"
   ]
  },
  {
   "cell_type": "code",
   "execution_count": null,
   "id": "16f127fc-f238-44cb-96de-b52fcee583f3",
   "metadata": {},
   "outputs": [
    {
     "name": "stdout",
     "output_type": "stream",
     "text": [
      "============= configuration 22 / 625 =============\n"
     ]
    },
    {
     "name": "stderr",
     "output_type": "stream",
     "text": [
      "\u001b[32mProgress: 100%|█████████████████████████████████████████| Time: 0:01:18\u001b[39m\n"
     ]
    },
    {
     "name": "stdout",
     "output_type": "stream",
     "text": [
      "============= configuration 23 / 625 =============\n"
     ]
    },
    {
     "name": "stderr",
     "output_type": "stream",
     "text": [
      "\u001b[32mProgress: 100%|█████████████████████████████████████████| Time: 0:01:39\u001b[39m\n"
     ]
    },
    {
     "name": "stdout",
     "output_type": "stream",
     "text": [
      "============= configuration 24 / 625 =============\n"
     ]
    },
    {
     "name": "stderr",
     "output_type": "stream",
     "text": [
      "\u001b[32mProgress: 100%|█████████████████████████████████████████| Time: 0:01:40\u001b[39m\n"
     ]
    },
    {
     "name": "stdout",
     "output_type": "stream",
     "text": [
      "============= configuration 25 / 625 =============\n"
     ]
    },
    {
     "name": "stderr",
     "output_type": "stream",
     "text": [
      "\u001b[32mProgress: 100%|█████████████████████████████████████████| Time: 0:02:10\u001b[39m\n"
     ]
    },
    {
     "name": "stdout",
     "output_type": "stream",
     "text": [
      "============= configuration 26 / 625 =============\n"
     ]
    },
    {
     "name": "stderr",
     "output_type": "stream",
     "text": [
      "\u001b[32mProgress: 100%|█████████████████████████████████████████| Time: 0:01:39\u001b[39m\n"
     ]
    },
    {
     "name": "stdout",
     "output_type": "stream",
     "text": [
      "============= configuration 27 / 625 =============\n"
     ]
    },
    {
     "name": "stderr",
     "output_type": "stream",
     "text": [
      "\u001b[32mProgress: 100%|█████████████████████████████████████████| Time: 0:02:03\u001b[39m\n"
     ]
    },
    {
     "name": "stdout",
     "output_type": "stream",
     "text": [
      "============= configuration 28 / 625 =============\n"
     ]
    },
    {
     "name": "stderr",
     "output_type": "stream",
     "text": [
      "\u001b[32mProgress: 100%|█████████████████████████████████████████| Time: 0:02:29\u001b[39m\n"
     ]
    },
    {
     "name": "stdout",
     "output_type": "stream",
     "text": [
      "============= configuration 29 / 625 =============\n"
     ]
    },
    {
     "name": "stderr",
     "output_type": "stream",
     "text": [
      "\u001b[32mProgress: 100%|█████████████████████████████████████████| Time: 0:02:32\u001b[39m\n"
     ]
    },
    {
     "name": "stdout",
     "output_type": "stream",
     "text": [
      "============= configuration 30 / 625 =============\n"
     ]
    },
    {
     "name": "stderr",
     "output_type": "stream",
     "text": [
      "\u001b[32mProgress:  92%|██████████████████████████████████████   |  ETA: 0:00:13\u001b[39m\r"
     ]
    },
    {
     "name": "stdout",
     "output_type": "stream",
     "text": [
      "============= configuration 31 / 625 ============="
     ]
    },
    {
     "name": "stderr",
     "output_type": "stream",
     "text": [
      "\u001b[32mProgress: 100%|█████████████████████████████████████████| Time: 0:02:46\u001b[39m\n"
     ]
    },
    {
     "name": "stdout",
     "output_type": "stream",
     "text": [
      "\n"
     ]
    },
    {
     "name": "stderr",
     "output_type": "stream",
     "text": [
      "\u001b[32mProgress: 100%|█████████████████████████████████████████| Time: 0:01:55\u001b[39m\n"
     ]
    },
    {
     "name": "stdout",
     "output_type": "stream",
     "text": [
      "============= configuration 32 / 625 =============\n"
     ]
    },
    {
     "name": "stderr",
     "output_type": "stream",
     "text": [
      "\u001b[32mProgress: 100%|█████████████████████████████████████████| Time: 0:02:02\u001b[39m\n"
     ]
    },
    {
     "name": "stdout",
     "output_type": "stream",
     "text": [
      "============= configuration 33 / 625 =============\n"
     ]
    },
    {
     "name": "stderr",
     "output_type": "stream",
     "text": [
      "\u001b[32mProgress: 100%|█████████████████████████████████████████| Time: 0:02:15\u001b[39m\n"
     ]
    },
    {
     "name": "stdout",
     "output_type": "stream",
     "text": [
      "============= configuration 34 / 625 =============\n"
     ]
    },
    {
     "name": "stderr",
     "output_type": "stream",
     "text": [
      "\u001b[32mProgress: 100%|█████████████████████████████████████████| Time: 0:02:36\u001b[39m\n"
     ]
    },
    {
     "name": "stdout",
     "output_type": "stream",
     "text": [
      "============= configuration 35 / 625 =============\n"
     ]
    },
    {
     "name": "stderr",
     "output_type": "stream",
     "text": [
      "\u001b[32mProgress: 100%|█████████████████████████████████████████| Time: 0:02:47\u001b[39m\n"
     ]
    },
    {
     "name": "stdout",
     "output_type": "stream",
     "text": [
      "============= configuration 36 / 625 =============\n"
     ]
    },
    {
     "name": "stderr",
     "output_type": "stream",
     "text": [
      "\u001b[32mProgress: 100%|█████████████████████████████████████████| Time: 0:01:50\u001b[39m\n"
     ]
    },
    {
     "name": "stdout",
     "output_type": "stream",
     "text": [
      "============= configuration 37 / 625 =============\n"
     ]
    },
    {
     "name": "stderr",
     "output_type": "stream",
     "text": [
      "\u001b[32mProgress: 100%|█████████████████████████████████████████| Time: 0:02:05\u001b[39m\n"
     ]
    },
    {
     "name": "stdout",
     "output_type": "stream",
     "text": [
      "============= configuration 38 / 625 =============\n"
     ]
    },
    {
     "name": "stderr",
     "output_type": "stream",
     "text": [
      "\u001b[32mProgress: 100%|█████████████████████████████████████████| Time: 0:02:54\u001b[39m\n"
     ]
    },
    {
     "name": "stdout",
     "output_type": "stream",
     "text": [
      "============= configuration 39 / 625 =============\n"
     ]
    },
    {
     "name": "stderr",
     "output_type": "stream",
     "text": [
      "\u001b[32mProgress: 100%|█████████████████████████████████████████| Time: 0:03:09\u001b[39m\n"
     ]
    },
    {
     "name": "stdout",
     "output_type": "stream",
     "text": [
      "============= configuration 40 / 625 =============\n"
     ]
    },
    {
     "name": "stderr",
     "output_type": "stream",
     "text": [
      "\u001b[32mProgress: 100%|█████████████████████████████████████████| Time: 0:03:11\u001b[39m\n"
     ]
    },
    {
     "name": "stdout",
     "output_type": "stream",
     "text": [
      "============= configuration 41 / 625 =============\n"
     ]
    },
    {
     "name": "stderr",
     "output_type": "stream",
     "text": [
      "\u001b[32mProgress: 100%|█████████████████████████████████████████| Time: 0:02:11\u001b[39m\n"
     ]
    },
    {
     "name": "stdout",
     "output_type": "stream",
     "text": [
      "============= configuration 42 / 625 =============\n"
     ]
    },
    {
     "name": "stderr",
     "output_type": "stream",
     "text": [
      "\u001b[32mProgress: 100%|█████████████████████████████████████████| Time: 0:02:16\u001b[39m\n"
     ]
    },
    {
     "name": "stdout",
     "output_type": "stream",
     "text": [
      "============= configuration 43 / 625 =============\n"
     ]
    },
    {
     "name": "stderr",
     "output_type": "stream",
     "text": [
      "\u001b[32mProgress: 100%|█████████████████████████████████████████| Time: 0:02:46\u001b[39m\n"
     ]
    },
    {
     "name": "stdout",
     "output_type": "stream",
     "text": [
      "============= configuration 44 / 625 =============\n"
     ]
    },
    {
     "name": "stderr",
     "output_type": "stream",
     "text": [
      "\u001b[32mProgress: 100%|█████████████████████████████████████████| Time: 0:03:19\u001b[39m\n"
     ]
    },
    {
     "name": "stdout",
     "output_type": "stream",
     "text": [
      "============= configuration 45 / 625 =============\n"
     ]
    },
    {
     "name": "stderr",
     "output_type": "stream",
     "text": [
      "\u001b[32mProgress: 100%|█████████████████████████████████████████| Time: 0:03:17\u001b[39m\n"
     ]
    },
    {
     "name": "stdout",
     "output_type": "stream",
     "text": [
      "============= configuration 46 / 625 =============\n"
     ]
    },
    {
     "name": "stderr",
     "output_type": "stream",
     "text": [
      "\u001b[32mProgress: 100%|█████████████████████████████████████████| Time: 0:01:48\u001b[39m\n"
     ]
    },
    {
     "name": "stdout",
     "output_type": "stream",
     "text": [
      "============= configuration 47 / 625 =============\n"
     ]
    },
    {
     "name": "stderr",
     "output_type": "stream",
     "text": [
      "\u001b[32mProgress: 100%|█████████████████████████████████████████| Time: 0:02:10\u001b[39m\n"
     ]
    },
    {
     "name": "stdout",
     "output_type": "stream",
     "text": [
      "============= configuration 48 / 625 =============\n"
     ]
    },
    {
     "name": "stderr",
     "output_type": "stream",
     "text": [
      "\u001b[32mProgress: 100%|█████████████████████████████████████████| Time: 0:02:34\u001b[39m\n"
     ]
    },
    {
     "name": "stdout",
     "output_type": "stream",
     "text": [
      "============= configuration 49 / 625 =============\n"
     ]
    },
    {
     "name": "stderr",
     "output_type": "stream",
     "text": [
      "\u001b[32mProgress: 100%|█████████████████████████████████████████| Time: 0:02:49\u001b[39m\n"
     ]
    },
    {
     "name": "stdout",
     "output_type": "stream",
     "text": [
      "============= configuration 50 / 625 =============\n"
     ]
    },
    {
     "name": "stderr",
     "output_type": "stream",
     "text": [
      "\u001b[32mProgress: 100%|█████████████████████████████████████████| Time: 0:03:14\u001b[39m\n"
     ]
    },
    {
     "name": "stdout",
     "output_type": "stream",
     "text": [
      "============= configuration 51 / 625 =============\n"
     ]
    },
    {
     "name": "stderr",
     "output_type": "stream",
     "text": [
      "\u001b[32mProgress: 100%|█████████████████████████████████████████| Time: 0:00:51\u001b[39m\n"
     ]
    },
    {
     "name": "stdout",
     "output_type": "stream",
     "text": [
      "============= configuration 52 / 625 =============\n"
     ]
    },
    {
     "name": "stderr",
     "output_type": "stream",
     "text": [
      "\u001b[32mProgress: 100%|█████████████████████████████████████████| Time: 0:02:20\u001b[39m\n"
     ]
    },
    {
     "name": "stdout",
     "output_type": "stream",
     "text": [
      "============= configuration 53 / 625 =============\n"
     ]
    },
    {
     "name": "stderr",
     "output_type": "stream",
     "text": [
      "\u001b[32mProgress: 100%|█████████████████████████████████████████| Time: 0:02:56\u001b[39m\n"
     ]
    },
    {
     "name": "stdout",
     "output_type": "stream",
     "text": [
      "============= configuration 54 / 625 =============\n"
     ]
    },
    {
     "name": "stderr",
     "output_type": "stream",
     "text": [
      "\u001b[32mProgress: 100%|█████████████████████████████████████████| Time: 0:03:13\u001b[39m\n"
     ]
    },
    {
     "name": "stdout",
     "output_type": "stream",
     "text": [
      "============= configuration 55 / 625 =============\n"
     ]
    },
    {
     "name": "stderr",
     "output_type": "stream",
     "text": [
      "\u001b[32mProgress: 100%|█████████████████████████████████████████| Time: 0:03:47\u001b[39m\n"
     ]
    },
    {
     "name": "stdout",
     "output_type": "stream",
     "text": [
      "============= configuration 56 / 625 =============\n"
     ]
    },
    {
     "name": "stderr",
     "output_type": "stream",
     "text": [
      "\u001b[32mProgress: 100%|█████████████████████████████████████████| Time: 0:01:04\u001b[39m\n"
     ]
    },
    {
     "name": "stdout",
     "output_type": "stream",
     "text": [
      "============= configuration 57 / 625 =============\n"
     ]
    },
    {
     "name": "stderr",
     "output_type": "stream",
     "text": [
      "\u001b[32mProgress: 100%|█████████████████████████████████████████| Time: 0:02:26\u001b[39m\n"
     ]
    },
    {
     "name": "stdout",
     "output_type": "stream",
     "text": [
      "============= configuration 58 / 625 =============\n"
     ]
    },
    {
     "name": "stderr",
     "output_type": "stream",
     "text": [
      "\u001b[32mProgress: 100%|█████████████████████████████████████████| Time: 0:03:10\u001b[39m\n"
     ]
    },
    {
     "name": "stdout",
     "output_type": "stream",
     "text": [
      "============= configuration 59 / 625 =============\n"
     ]
    },
    {
     "name": "stderr",
     "output_type": "stream",
     "text": [
      "\u001b[32mProgress: 100%|█████████████████████████████████████████| Time: 0:03:18\u001b[39m\n"
     ]
    },
    {
     "name": "stdout",
     "output_type": "stream",
     "text": [
      "============= configuration 60 / 625 =============\n"
     ]
    },
    {
     "name": "stderr",
     "output_type": "stream",
     "text": [
      "\u001b[32mProgress: 100%|█████████████████████████████████████████| Time: 0:03:27\u001b[39m\n"
     ]
    },
    {
     "name": "stdout",
     "output_type": "stream",
     "text": [
      "============= configuration 61 / 625 =============\n"
     ]
    },
    {
     "name": "stderr",
     "output_type": "stream",
     "text": [
      "\u001b[32mProgress: 100%|█████████████████████████████████████████| Time: 0:01:18\u001b[39m\n"
     ]
    },
    {
     "name": "stdout",
     "output_type": "stream",
     "text": [
      "============= configuration 62 / 625 =============\n"
     ]
    },
    {
     "name": "stderr",
     "output_type": "stream",
     "text": [
      "\u001b[32mProgress: 100%|█████████████████████████████████████████| Time: 0:02:52\u001b[39m\n"
     ]
    },
    {
     "name": "stdout",
     "output_type": "stream",
     "text": [
      "============= configuration 63 / 625 =============\n"
     ]
    },
    {
     "name": "stderr",
     "output_type": "stream",
     "text": [
      "\u001b[32mProgress: 100%|█████████████████████████████████████████| Time: 0:02:58\u001b[39m\n"
     ]
    },
    {
     "name": "stdout",
     "output_type": "stream",
     "text": [
      "============= configuration 64 / 625 =============\n"
     ]
    },
    {
     "name": "stderr",
     "output_type": "stream",
     "text": [
      "\u001b[32mProgress: 100%|█████████████████████████████████████████| Time: 0:03:16\u001b[39m"
     ]
    },
    {
     "name": "stdout",
     "output_type": "stream",
     "text": [
      "============= configuration 65 / 625 ============="
     ]
    },
    {
     "name": "stderr",
     "output_type": "stream",
     "text": [
      "\n"
     ]
    },
    {
     "name": "stdout",
     "output_type": "stream",
     "text": [
      "\n"
     ]
    },
    {
     "name": "stderr",
     "output_type": "stream",
     "text": [
      "\u001b[32mProgress: 100%|█████████████████████████████████████████| Time: 0:03:22\u001b[39m\n"
     ]
    },
    {
     "name": "stdout",
     "output_type": "stream",
     "text": [
      "============= configuration 66 / 625 =============\n"
     ]
    },
    {
     "name": "stderr",
     "output_type": "stream",
     "text": [
      "\u001b[32mProgress:  98%|████████████████████████████████████████ |  ETA: 0:00:04\u001b[39m\r"
     ]
    },
    {
     "name": "stdout",
     "output_type": "stream",
     "text": [
      "============= configuration 67 / 625 =============\n"
     ]
    },
    {
     "name": "stderr",
     "output_type": "stream",
     "text": [
      "\u001b[32mProgress: 100%|█████████████████████████████████████████| Time: 0:02:26\u001b[39m\n",
      "\u001b[32mProgress: 100%|█████████████████████████████████████████| Time: 0:03:18\u001b[39m\n"
     ]
    },
    {
     "name": "stdout",
     "output_type": "stream",
     "text": [
      "============= configuration 68 / 625 =============\n"
     ]
    },
    {
     "name": "stderr",
     "output_type": "stream",
     "text": [
      "\u001b[32mProgress: 100%|█████████████████████████████████████████| Time: 0:03:17\u001b[39m\n"
     ]
    },
    {
     "name": "stdout",
     "output_type": "stream",
     "text": [
      "============= configuration 69 / 625 =============\n"
     ]
    },
    {
     "name": "stderr",
     "output_type": "stream",
     "text": [
      "\u001b[32mProgress:  62%|██████████████████████████               |  ETA: 0:01:31\u001b[39m\r"
     ]
    },
    {
     "name": "stdout",
     "output_type": "stream",
     "text": [
      "============= configuration 70 / 625 =============\n",
      "============= configuration 71 / 625 =============\n",
      "============= configuration 72 / 625 =============\n",
      "============= configuration 73 / 625 =============\n",
      "============= configuration 74 / 625 =============\n",
      "============= configuration 75 / 625 =============\n",
      "============= configuration 76 / 625 =============\n",
      "============= configuration 77 / 625 =============\n",
      "============= configuration 78 / 625 =============\n",
      "============= configuration 79 / 625 =============\n",
      "============= configuration 80 / 625 =============\n",
      "============= configuration 81 / 625 =============\n",
      "============= configuration 82 / 625 =============\n",
      "============= configuration 83 / 625 =============\n",
      "============= configuration 84 / 625 =============\n",
      "============= configuration 85 / 625 =============\n",
      "============= configuration 86 / 625 =============\n",
      "============= configuration 87 / 625 =============\n"
     ]
    }
   ],
   "source": [
    "\n",
    "\n",
    "while scan_counter < n_scans\n",
    "    @printf(\"============= configuration %i / %i =============\", scan_counter+1, n_scans)\n",
    "    println()\n",
    "    \n",
    "    pol1_x = pol1_x_list[indicies[1]]\n",
    "    pol2_x = pol2_x_list[indicies[2]]\n",
    "    pol3_x = pol3_x_list[indicies[3]]\n",
    "    pol4_x = pol4_x_list[indicies[4]]\n",
    "    s1 = s1_list[indicies[5]]\n",
    "    s2 = s2_list[indicies[6]]\n",
    "    s3 = s3_list[indicies[7]]\n",
    "    s4 = s4_list[indicies[8]]\n",
    "    Δ1 = Δ1_list[indicies[9]]\n",
    "    Δ2 = Δ2_list[indicies[10]]\n",
    "    Δ3 = Δ3_list[indicies[11]]\n",
    "    Δ4 = Δ4_list[indicies[12]]\n",
    "    \n",
    "    params = MutableNamedTuple(t_end = t_end, n_values = n_values,\n",
    "                            pol1_x=pol1_x, pol2_x=pol2_x, pol3_x=pol3_x, pol4_x=pol4_x, \n",
    "                            s1=s1, s2=s2, s3=s3, s4=s4,\n",
    "                            Δ1=Δ1, Δ2=Δ2, Δ3=Δ3, Δ4=Δ4, \n",
    "                            B_gradient = B_gradient, \n",
    "                            temp=temp, diameter=diameter, \n",
    "                            displacement=displacement, kick=kick,\n",
    "                            ramp_time = ramp_time)\n",
    "\n",
    "    test_i = log_test_info(saving_dir,1,params)\n",
    "    \n",
    "    results = simulate_particles(package, params, params.n_values);\n",
    "\n",
    "    save_results(saving_dir, test_i, results)\n",
    "    \n",
    "   scan_counter += 1 \n",
    "   next_configuration!(lists, indicies)\n",
    "\n",
    "    \n",
    "end\n",
    ";"
   ]
  },
  {
   "cell_type": "code",
   "execution_count": null,
   "id": "0bd27fc5-9ad6-4246-8cb6-83e913bc3cc5",
   "metadata": {},
   "outputs": [],
   "source": []
  }
 ],
 "metadata": {
  "kernelspec": {
   "display_name": "Julia (20 threads) 1.9.0-rc3",
   "language": "julia",
   "name": "julia-_20-threads_-1.9"
  },
  "language_info": {
   "file_extension": ".jl",
   "mimetype": "application/julia",
   "name": "julia",
   "version": "1.9.0"
  }
 },
 "nbformat": 4,
 "nbformat_minor": 5
}
