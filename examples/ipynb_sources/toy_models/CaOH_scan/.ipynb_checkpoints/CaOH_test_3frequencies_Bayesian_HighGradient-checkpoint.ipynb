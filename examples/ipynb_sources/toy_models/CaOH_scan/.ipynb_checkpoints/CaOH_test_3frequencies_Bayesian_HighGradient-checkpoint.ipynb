{
 "cells": [
  {
   "cell_type": "code",
   "execution_count": 1,
   "id": "eb68f43c-512c-49e4-b9ae-e0ead28ff26c",
   "metadata": {},
   "outputs": [],
   "source": [
    "using Revise"
   ]
  },
  {
   "cell_type": "code",
   "execution_count": 2,
   "id": "95aa508f-186f-41d9-9dee-7045b9117fa1",
   "metadata": {},
   "outputs": [
    {
     "name": "stderr",
     "output_type": "stream",
     "text": [
      "WARNING: Method definition Zeeman_x(Any, Any) in module Main at C:\\Google Drive\\github\\OpticalBlochEquations\\examples\\ipynb_sources\\toy_models\\CaOH_scan\\CaOH_scan_helper_v2.jl:62 overwritten at C:\\Google Drive\\github\\OpticalBlochEquations\\examples\\ipynb_sources\\toy_models\\CaOH_scan\\CaOH_scan_helper_v2.jl:135.\n",
      "WARNING: Method definition Zeeman_y(Any, Any) in module Main at C:\\Google Drive\\github\\OpticalBlochEquations\\examples\\ipynb_sources\\toy_models\\CaOH_scan\\CaOH_scan_helper_v2.jl:63 overwritten at C:\\Google Drive\\github\\OpticalBlochEquations\\examples\\ipynb_sources\\toy_models\\CaOH_scan\\CaOH_scan_helper_v2.jl:136.\n",
      "WARNING: Method definition Zeeman_z(Any, Any) in module Main at C:\\Google Drive\\github\\OpticalBlochEquations\\examples\\ipynb_sources\\toy_models\\CaOH_scan\\CaOH_scan_helper_v2.jl:64 overwritten at C:\\Google Drive\\github\\OpticalBlochEquations\\examples\\ipynb_sources\\toy_models\\CaOH_scan\\CaOH_scan_helper_v2.jl:137.\n"
     ]
    }
   ],
   "source": [
    "using\n",
    "    QuantumStates,\n",
    "    OpticalBlochEquations,\n",
    "    DifferentialEquations,\n",
    "    UnitsToValue,\n",
    "    LinearAlgebra,\n",
    "    Printf,\n",
    "    Plots,\n",
    "    Random,\n",
    "    StatsBase\n",
    ";\n",
    "\n",
    "using Distributions\n",
    "\n",
    "import MutableNamedTuples: MutableNamedTuple\n",
    "import StructArrays: StructArray, StructVector\n",
    "import StaticArrays: @SVector, SVector\n",
    "import LinearAlgebra: norm, ⋅, adjoint!, diag\n",
    "import LoopVectorization: @turbo\n",
    "using BenchmarkTools\n",
    "using Parameters\n",
    "using LsqFit\n",
    "\n",
    "import ProgressMeter: Progress, next!\n",
    "\n",
    "const λ = 626e-9\n",
    "const Γ = 2π* 6.4e6\n",
    "const m = @with_unit 57 \"u\"\n",
    "const k = 2π / λ\n",
    "_μB = (μ_B / h) * 1e-4;\n",
    "\n",
    "include(\"CaOH_scan_helper_v2.jl\")\n",
    "working_dir = \"C:\\\\Google Drive\\\\github\\\\OpticalBlochEquations\\\\examples\\\\ipynb_sources\\\\toy_models\\\\CaOH_scan\"\n",
    ";"
   ]
  },
  {
   "cell_type": "code",
   "execution_count": 3,
   "id": "de4dbeed-384d-491d-9257-f185a577b5ae",
   "metadata": {},
   "outputs": [],
   "source": [
    "function survived(t_end, times, trajectories)\n",
    "    _survived = Int64[]\n",
    "    for i ∈ eachindex(trajectories)\n",
    "        if abs(times[i][end] - t_end*1e3) <= 1.0\n",
    "            push!(_survived, i)\n",
    "        end\n",
    "    end\n",
    "    return _survived\n",
    "end\n",
    "\n",
    "function cloud_size(trajectories, i)\n",
    "    std(trajectory[i] for trajectory ∈ trajectories)\n",
    "end\n",
    "\n",
    "\"\"\"\n",
    "    Evaluates the density given a set of trajectories.\n",
    "\"\"\"\n",
    "function density(t_end, results)\n",
    "    \n",
    "    times, x_trajectories, y_trajectories, z_trajectories = results.times, results.x_trajectories, results.y_trajectories, results.z_trajectories\n",
    "    \n",
    "    # Sample number of photons before the molecule is lost to vibrational dark state\n",
    "    n_molecules = length(times)\n",
    "    \n",
    "    _survived = survived(t_end, times, x_trajectories)\n",
    "    println(_survived)\n",
    "    \n",
    "    surviving_x_trajectories = x_trajectories[_survived]\n",
    "    surviving_y_trajectories = y_trajectories[_survived]\n",
    "    surviving_z_trajectories = z_trajectories[_survived]\n",
    "    \n",
    "    n = length(_survived)\n",
    "    _density = Float64(n)\n",
    "    if n > 1\n",
    "        idx_end = length(surviving_x_trajectories[1])\n",
    "        σ_x = cloud_size(surviving_x_trajectories, idx_end)\n",
    "        σ_y = cloud_size(surviving_y_trajectories, idx_end)\n",
    "        σ_z = cloud_size(surviving_z_trajectories, idx_end)\n",
    "        _density /= σ_x * σ_y * σ_z\n",
    "    end\n",
    "    return _density\n",
    "end\n",
    "\n",
    "function distance(x_trajectory, y_trajectory, z_trajectory, idx)\n",
    "    return sqrt(x_trajectory[idx]^2 + y_trajectory[idx]^2 + z_trajectory[idx]^2)\n",
    "end\n",
    "\n",
    "goodness_val(r) = r <= 0.8 ? (0.8 - r)^3 : 0\n",
    "\"\"\"\n",
    "    Evaluates how many particles are within a 0.3 mm radius.\n",
    "\"\"\"\n",
    "function goodness(t_end, results)\n",
    "    \n",
    "    times, x_trajectories, y_trajectories, z_trajectories = results.times, results.x_trajectories, results.y_trajectories, results.z_trajectories\n",
    "    \n",
    "    # Sample number of photons before the molecule is lost to vibrational dark state\n",
    "    n_molecules = length(times)\n",
    "    \n",
    "    _survived = survived(t_end, times, x_trajectories)\n",
    "    @printf(\"Survival: %i / %i\", length(_survived), n_molecules)\n",
    "    println()\n",
    "    \n",
    "    surviving_x_trajectories = x_trajectories[_survived]\n",
    "    surviving_y_trajectories = y_trajectories[_survived]\n",
    "    surviving_z_trajectories = z_trajectories[_survived]\n",
    "    \n",
    "    n = 0\n",
    "    for survived_idx ∈ _survived\n",
    "        idx_end = length(x_trajectories[survived_idx])\n",
    "        r = distance(x_trajectories[survived_idx], y_trajectories[survived_idx], z_trajectories[survived_idx], idx_end)\n",
    "        n += goodness_val(r) * exp(-results.photons_scattered[survived_idx] / 15000)\n",
    "    end\n",
    "    return n/n_molecules\n",
    "end\n",
    ";"
   ]
  },
  {
   "cell_type": "markdown",
   "id": "e4453cb6-d6f1-4d9c-b8f6-1add3157ae21",
   "metadata": {},
   "source": [
    "### Set up the molecule"
   ]
  },
  {
   "cell_type": "code",
   "execution_count": 4,
   "id": "18ccd92a-51ee-4774-af90-92e948637eca",
   "metadata": {},
   "outputs": [],
   "source": [
    "package = get_CaOH_package()\n",
    "n_states = length(package.states)\n",
    "n_excited = package.n_excited\n",
    ";"
   ]
  },
  {
   "cell_type": "code",
   "execution_count": 5,
   "id": "6eec7ca6-a7a8-4731-a3b0-229dd6220dc0",
   "metadata": {},
   "outputs": [],
   "source": [
    "\"\"\"\n",
    "    Function to optimize (density).\n",
    "\"\"\"\n",
    "function f(x)\n",
    "    s1 = x[1]\n",
    "    s3 = x[2]\n",
    "    s4 = x[3]\n",
    "    Δ1 = x[4]*Γ\n",
    "    Δ3 = Δ1\n",
    "    Δ4 = x[5]*Γ\n",
    "    ramp_time = 10e-3\n",
    "    B_gradient = 90\n",
    "\n",
    "    temp = @with_unit 0.050 \"mK\"\n",
    "    diameter = @with_unit 2.5 \"mm\"\n",
    "    displacement = [0.0, 0.0, 0.0]\n",
    "    kick = [0,0, 0.0, 0.0]\n",
    "    \n",
    "    params = MutableNamedTuple(\n",
    "        t_end=20e-3, n_values=20,\n",
    "        # pol1_x=σ⁻, pol2_x=σ⁺, pol3_x=σ⁺, pol4_x=σ⁻, \n",
    "        pol1_x=σ⁺, pol2_x=σ⁺, pol3_x=σ⁻, pol4_x=σ⁺, # weird polarizations\n",
    "        s1=s1, s2=0., s3=s3, s4=s4,\n",
    "        Δ1=Δ1, Δ2=0., Δ3=Δ3, Δ4=Δ4,\n",
    "        B_gradient=B_gradient,\n",
    "        temp=temp, \n",
    "        diameter=diameter,\n",
    "        displacement=displacement, \n",
    "        kick=kick,\n",
    "        ramp_time=ramp_time,\n",
    "        pol_imbalance=0.0, s_imbalance = (0.0, 0.0, 0.0))\n",
    "    \n",
    "    results = simulate_particles_v2(package, params)\n",
    "    \n",
    "    @printf(\"s1 = %.2f; s3 = %.2f; s4 = %.2f; Δ1 = %.2f Γ; Δ3 = Δ1; Δ4 = %.2f Γ\", x[1], x[2], x[3], x[4], x[5])\n",
    "    println()\n",
    "    \n",
    "    _goodness = goodness(params.t_end, results)\n",
    "    @printf(\"goodness = %.3f\", _goodness)\n",
    "    println()\n",
    "    \n",
    "    return _goodness\n",
    "end\n",
    ";    "
   ]
  },
  {
   "cell_type": "code",
   "execution_count": 6,
   "id": "3221d146-70a8-48f7-a39d-6283cfc80b1f",
   "metadata": {},
   "outputs": [
    {
     "name": "stderr",
     "output_type": "stream",
     "text": [
      "WARNING: using BayesianOptimization.Progress in module Main conflicts with an existing identifier.\n",
      "\u001b[33m\u001b[1m┌ \u001b[22m\u001b[39m\u001b[33m\u001b[1mWarning: \u001b[22m\u001b[39muse values(kwargs) and keys(kwargs) instead of kwargs.data and kwargs.itr\n",
      "\u001b[33m\u001b[1m│ \u001b[22m\u001b[39m  caller = #MAPGPOptimizer#19 at gp.jl:37 [inlined]\n",
      "\u001b[33m\u001b[1m└ \u001b[22m\u001b[39m\u001b[90m@ Core C:\\Users\\Christian\\.julia\\packages\\BayesianOptimization\\nq1HY\\src\\models\\gp.jl:37\u001b[39m\n"
     ]
    }
   ],
   "source": [
    "using BayesianOptimization, GaussianProcesses\n",
    "\n",
    "model = ElasticGPE(5,                            # 6 input dimensions\n",
    "                   mean = MeanConst(1.),         \n",
    "                   kernel = SEArd([1., 1, 1, 1, 1], 5.),\n",
    "                   logNoise = 0.,\n",
    "                   capacity = 3000)              # the initial capacity of the GP is 3000 samples\n",
    "set_priors!(model.mean, [Normal(1., 1.)])\n",
    "\n",
    "# Optimize the hyperparameters of the GP using maximum a posteriori (MAP) estimates every x steps\n",
    "modeloptimizer = MAPGPOptimizer(\n",
    "    every = 1, \n",
    "    noisebounds = [-3, 3], # bounds of the logNoise\n",
    "    kernbounds = [[-3, -3, -3, -3, -3, -5], [3, 3, 3, 3, 3, 5]],  # bounds of the parameters GaussianProcesses.get_param_names(model.kernel)\n",
    "    maxeval = 1000)\n",
    "\n",
    "opt = BOpt(f,\n",
    "           model,\n",
    "           UpperConfidenceBound(),                   # type of acquisition\n",
    "           modeloptimizer,                        \n",
    "           [0.5, 3.0, 0.5, +0.5, -10.0],        # lowerbounds\n",
    "           [4.0, 8.0, 6.5, +4.0, -4.0],        # upperbounds         \n",
    "           repetitions = 1,                          # evaluate the function for each input x times\n",
    "           maxiterations = 50,                       # evaluate at x input positions\n",
    "           sense = Max,                              # maximize the function\n",
    "           acquisitionoptions = (method = :LD_LBFGS, # run optimization of acquisition function with NLopts :LD_LBFGS method\n",
    "                                 restarts = 10,       # run the NLopt method from x random initial conditions each time\n",
    "                                 maxtime = 1.0,      # run the NLopt method for at most 1.0 second each time\n",
    "                                 maxeval = 5000),    # run the NLopt methods for at most 1000 iterations (for other options see https://github.com/JuliaOpt/NLopt.jl)\n",
    "           verbosity = BayesianOptimization.Progress)\n",
    "\n",
    "# result = boptimize!(opt);\n",
    ";"
   ]
  },
  {
   "cell_type": "code",
   "execution_count": 7,
   "id": "1a248c93",
   "metadata": {},
   "outputs": [],
   "source": [
    "using BayesianOptimization, GaussianProcesses\n",
    "using Serialization\n",
    "opt_old = deserialize(joinpath(working_dir, \"optimized_3freqs_smallparamspace_fixedphotonbudget_bugfixed_highgrad.jl\"));\n",
    "opt.model = opt_old.model;\n",
    "opt.model_optimum = opt_old.model_optimum;\n",
    "opt.model_optimizer = opt_old.model_optimizer;\n",
    "opt.modeloptimizer = opt_old.modeloptimizer;\n",
    "opt.observed_optimum = opt_old.observed_optimum;\n",
    "opt.observed_optimizer = opt_old.observed_optimizer;\n",
    "# opt.acquisition = opt_old.acquisition;\n",
    "# opt.acquisitionoptions = opt_old.acquisitionoptions;"
   ]
  },
  {
   "cell_type": "code",
   "execution_count": 9,
   "id": "3e79c2d4-516c-4ee7-8379-c7fa3e80ff1c",
   "metadata": {},
   "outputs": [
    {
     "name": "stderr",
     "output_type": "stream",
     "text": [
      "\u001b[32mProgress: 100%|█████████████████████████████████████████| Time: 0:01:31\u001b[39m\n"
     ]
    }
   ],
   "source": [
    "serialize(\"optimized_3freqs_smallparamspace_fixedphotonbudget_bugfixed_highgrad.jl\", opt)"
   ]
  },
  {
   "cell_type": "code",
   "execution_count": 8,
   "id": "514881da-2443-482a-9b9d-0d2649f743b0",
   "metadata": {
    "tags": []
   },
   "outputs": [
    {
     "name": "stderr",
     "output_type": "stream",
     "text": [
      "\u001b[32mProgress: 100%|█████████████████████████████████████████| Time: 0:01:56\u001b[39m\n"
     ]
    },
    {
     "name": "stdout",
     "output_type": "stream",
     "text": [
      "s1 = 0.83; s3 = 5.34; s4 = 3.31; Δ1 = 2.80 Γ; Δ3 = Δ1; Δ4 = -8.31 Γ\n",
      "Survival: 0 / 20\n",
      "goodness = 0.000\n"
     ]
    },
    {
     "name": "stderr",
     "output_type": "stream",
     "text": [
      "\u001b[32mProgress: 100%|█████████████████████████████████████████| Time: 0:01:19\u001b[39m\n"
     ]
    },
    {
     "name": "stdout",
     "output_type": "stream",
     "text": [
      "s1 = 2.58; s3 = 7.84; s4 = 6.31; Δ1 = 1.05 Γ; Δ3 = Δ1; Δ4 = -5.31 Γ\n",
      "Survival: 6 / 20\n",
      "goodness = 0.004\n"
     ]
    },
    {
     "name": "stderr",
     "output_type": "stream",
     "text": [
      "\u001b[32mProgress: 100%|█████████████████████████████████████████| Time: 0:01:25\u001b[39m\n"
     ]
    },
    {
     "name": "stdout",
     "output_type": "stream",
     "text": [
      "s1 = 3.45; s3 = 4.09; s4 = 1.81; Δ1 = 3.67 Γ; Δ3 = Δ1; Δ4 = -6.81 Γ\n",
      "Survival: 5 / 20\n",
      "goodness = 0.021\n"
     ]
    },
    {
     "name": "stderr",
     "output_type": "stream",
     "text": [
      "\u001b[32mProgress: 100%|█████████████████████████████████████████| Time: 0:02:14\u001b[39m\n"
     ]
    },
    {
     "name": "stdout",
     "output_type": "stream",
     "text": [
      "s1 = 1.70; s3 = 6.59; s4 = 4.81; Δ1 = 1.92 Γ; Δ3 = Δ1; Δ4 = -9.81 Γ\n",
      "Survival: 9 / 20\n",
      "goodness = 0.009\n"
     ]
    },
    {
     "name": "stderr",
     "output_type": "stream",
     "text": [
      "\u001b[32mProgress: 100%|█████████████████████████████████████████| Time: 0:01:36\u001b[39m\n"
     ]
    },
    {
     "name": "stdout",
     "output_type": "stream",
     "text": [
      "s1 = 2.14; s3 = 3.47; s4 = 5.56; Δ1 = 1.48 Γ; Δ3 = Δ1; Δ4 = -9.06 Γ\n",
      "Survival: 3 / 20\n",
      "goodness = 0.011\n"
     ]
    },
    {
     "name": "stderr",
     "output_type": "stream",
     "text": [
      "\u001b[32mProgress: 100%|█████████████████████████████████████████| Time: 0:01:43\u001b[39m\n"
     ]
    },
    {
     "name": "stdout",
     "output_type": "stream",
     "text": [
      "s1 = 3.89; s3 = 5.97; s4 = 2.56; Δ1 = 3.23 Γ; Δ3 = Δ1; Δ4 = -6.06 Γ\n",
      "Survival: 11 / 20\n",
      "goodness = 0.024\n"
     ]
    },
    {
     "name": "stderr",
     "output_type": "stream",
     "text": [
      "\u001b[32mProgress: 100%|█████████████████████████████████████████| Time: 0:01:26\u001b[39m\n"
     ]
    },
    {
     "name": "stdout",
     "output_type": "stream",
     "text": [
      "s1 = 3.02; s3 = 4.72; s4 = 4.06; Δ1 = 0.61 Γ; Δ3 = Δ1; Δ4 = -4.56 Γ\n",
      "Survival: 6 / 20\n",
      "goodness = 0.008\n"
     ]
    },
    {
     "name": "stderr",
     "output_type": "stream",
     "text": [
      "\u001b[32mProgress: 100%|█████████████████████████████████████████| Time: 0:01:52\u001b[39m\n"
     ]
    },
    {
     "name": "stdout",
     "output_type": "stream",
     "text": [
      "s1 = 1.27; s3 = 7.22; s4 = 1.06; Δ1 = 2.36 Γ; Δ3 = Δ1; Δ4 = -7.56 Γ\n",
      "Survival: 5 / 20\n",
      "goodness = 0.004\n"
     ]
    },
    {
     "name": "stderr",
     "output_type": "stream",
     "text": [
      "\u001b[32mProgress: 100%|█████████████████████████████████████████| Time: 0:00:34\u001b[39m\n"
     ]
    },
    {
     "name": "stdout",
     "output_type": "stream",
     "text": [
      "s1 = 1.05; s3 = 3.78; s4 = 3.69; Δ1 = 3.45 Γ; Δ3 = Δ1; Δ4 = -4.94 Γ\n",
      "Survival: 0 / 20\n",
      "goodness = 0.000\n"
     ]
    },
    {
     "name": "stderr",
     "output_type": "stream",
     "text": [
      "\u001b[32mProgress: 100%|█████████████████████████████████████████| Time: 0:01:48\u001b[39m\n"
     ]
    },
    {
     "name": "stdout",
     "output_type": "stream",
     "text": [
      "s1 = 2.80; s3 = 6.28; s4 = 0.69; Δ1 = 1.70 Γ; Δ3 = Δ1; Δ4 = -7.94 Γ\n",
      "Survival: 7 / 20\n",
      "goodness = 0.004\n"
     ]
    },
    {
     "name": "stderr",
     "output_type": "stream",
     "text": [
      "\u001b[32mProgress: 100%|█████████████████████████████████████████| Time: 0:01:52\u001b[39m\n"
     ]
    },
    {
     "name": "stdout",
     "output_type": "stream",
     "text": [
      "s1 = 3.67; s3 = 5.03; s4 = 5.19; Δ1 = 2.58 Γ; Δ3 = Δ1; Δ4 = -9.44 Γ\n",
      "Survival: 5 / 20\n",
      "goodness = 0.013\n"
     ]
    },
    {
     "name": "stderr",
     "output_type": "stream",
     "text": [
      "\u001b[32mProgress: 100%|█████████████████████████████████████████| Time: 0:01:13\u001b[39m\n"
     ]
    },
    {
     "name": "stdout",
     "output_type": "stream",
     "text": [
      "s1 = 1.92; s3 = 7.53; s4 = 2.19; Δ1 = 0.83 Γ; Δ3 = Δ1; Δ4 = -6.44 Γ\n",
      "Survival: 12 / 20\n",
      "goodness = 0.010\n"
     ]
    },
    {
     "name": "stderr",
     "output_type": "stream",
     "text": [
      "\u001b[32mProgress: 100%|█████████████████████████████████████████| Time: 0:01:42\u001b[39m\n"
     ]
    },
    {
     "name": "stdout",
     "output_type": "stream",
     "text": [
      "s1 = 1.48; s3 = 4.41; s4 = 1.44; Δ1 = 1.27 Γ; Δ3 = Δ1; Δ4 = -5.69 Γ\n",
      "Survival: 3 / 20\n",
      "goodness = 0.005\n"
     ]
    },
    {
     "name": "stderr",
     "output_type": "stream",
     "text": [
      "\u001b[32mProgress: 100%|█████████████████████████████████████████| Time: 0:01:13\u001b[39m\n"
     ]
    },
    {
     "name": "stdout",
     "output_type": "stream",
     "text": [
      "s1 = 3.23; s3 = 6.91; s4 = 4.44; Δ1 = 3.02 Γ; Δ3 = Δ1; Δ4 = -8.69 Γ\n",
      "Survival: 4 / 20\n",
      "goodness = 0.008\n"
     ]
    },
    {
     "name": "stderr",
     "output_type": "stream",
     "text": [
      "\u001b[32mProgress: 100%|█████████████████████████████████████████| Time: 0:01:19\u001b[39m\n"
     ]
    },
    {
     "name": "stdout",
     "output_type": "stream",
     "text": [
      "s1 = 2.36; s3 = 3.16; s4 = 2.94; Δ1 = 2.14 Γ; Δ3 = Δ1; Δ4 = -7.19 Γ\n",
      "Survival: 1 / 20\n",
      "goodness = 0.005\n"
     ]
    },
    {
     "name": "stderr",
     "output_type": "stream",
     "text": [
      "\u001b[32mProgress: 100%|█████████████████████████████████████████| Time: 0:00:21\u001b[39m\n"
     ]
    },
    {
     "name": "stdout",
     "output_type": "stream",
     "text": [
      "s1 = 0.61; s3 = 5.66; s4 = 5.94; Δ1 = 3.89 Γ; Δ3 = Δ1; Δ4 = -4.19 Γ\n",
      "Survival: 0 / 20\n",
      "goodness = 0.000\n"
     ]
    },
    {
     "name": "stderr",
     "output_type": "stream",
     "text": [
      "\u001b[32mProgress: 100%|█████████████████████████████████████████| Time: 0:01:06\u001b[39m\n"
     ]
    },
    {
     "name": "stdout",
     "output_type": "stream",
     "text": [
      "s1 = 0.66; s3 = 4.33; s4 = 4.72; Δ1 = 2.41 Γ; Δ3 = Δ1; Δ4 = -9.16 Γ\n",
      "Survival: 1 / 20\n",
      "goodness = 0.006\n"
     ]
    },
    {
     "name": "stderr",
     "output_type": "stream",
     "text": [
      "\u001b[32mProgress:  95%|███████████████████████████████████████  |  ETA: 0:00:04\u001b[39m\r"
     ]
    },
    {
     "name": "stdout",
     "output_type": "stream",
     "text": [
      "s1 = 2.41; s3 = 6.83; s4 = 1.72; Δ1 = 0.66 Γ; Δ3 = Δ1; Δ4 = -6.16 Γ\n",
      "Survival: 6 / 20\n",
      "goodness = 0.006\n"
     ]
    },
    {
     "name": "stderr",
     "output_type": "stream",
     "text": [
      "\u001b[32mProgress: 100%|█████████████████████████████████████████| Time: 0:01:09\u001b[39m\n",
      "\u001b[32mProgress: 100%|█████████████████████████████████████████| Time: 0:01:22\u001b[39m\n"
     ]
    },
    {
     "name": "stdout",
     "output_type": "stream",
     "text": [
      "s1 = 3.29; s3 = 3.08; s4 = 6.22; Δ1 = 3.29 Γ; Δ3 = Δ1; Δ4 = -4.66 Γ\n",
      "Survival: 1 / 20\n",
      "goodness = 0.003\n"
     ]
    },
    {
     "name": "stderr",
     "output_type": "stream",
     "text": [
      "\u001b[32mProgress: 100%|█████████████████████████████████████████| Time: 0:01:24\u001b[39m\n"
     ]
    },
    {
     "name": "stdout",
     "output_type": "stream",
     "text": [
      "s1 = 1.54; s3 = 5.58; s4 = 3.22; Δ1 = 1.54 Γ; Δ3 = Δ1; Δ4 = -7.66 Γ\n",
      "Survival: 11 / 20\n",
      "goodness = 0.029\n"
     ]
    },
    {
     "name": "stderr",
     "output_type": "stream",
     "text": [
      "\u001b[32mProgress: 100%|█████████████████████████████████████████| Time: 0:02:02\u001b[39m\n"
     ]
    },
    {
     "name": "stdout",
     "output_type": "stream",
     "text": [
      "s1 = 1.98; s3 = 3.70; s4 = 0.97; Δ1 = 1.98 Γ; Δ3 = Δ1; Δ4 = -8.41 Γ\n",
      "Survival: 2 / 20\n",
      "goodness = 0.000\n"
     ]
    },
    {
     "name": "stderr",
     "output_type": "stream",
     "text": [
      "\u001b[32mProgress: 100%|█████████████████████████████████████████| Time: 0:01:11\u001b[39m\n"
     ]
    },
    {
     "name": "stdout",
     "output_type": "stream",
     "text": [
      "s1 = 3.73; s3 = 6.20; s4 = 3.97; Δ1 = 3.73 Γ; Δ3 = Δ1; Δ4 = -5.41 Γ\n",
      "Survival: 12 / 20\n",
      "goodness = 0.027\n"
     ]
    },
    {
     "name": "stderr",
     "output_type": "stream",
     "text": [
      "\u001b[32mProgress: 100%|█████████████████████████████████████████| Time: 0:01:00\u001b[39m\n"
     ]
    },
    {
     "name": "stdout",
     "output_type": "stream",
     "text": [
      "s1 = 2.85; s3 = 4.95; s4 = 2.47; Δ1 = 1.10 Γ; Δ3 = Δ1; Δ4 = -6.91 Γ\n",
      "Survival: 5 / 20\n",
      "goodness = 0.008\n"
     ]
    },
    {
     "name": "stderr",
     "output_type": "stream",
     "text": [
      "\u001b[32mProgress: 100%|█████████████████████████████████████████| Time: 0:01:11\u001b[39m\n"
     ]
    },
    {
     "name": "stdout",
     "output_type": "stream",
     "text": [
      "s1 = 1.10; s3 = 7.45; s4 = 5.47; Δ1 = 2.85 Γ; Δ3 = Δ1; Δ4 = -9.91 Γ\n",
      "Survival: 1 / 20\n",
      "goodness = 0.002\n"
     ]
    },
    {
     "name": "stderr",
     "output_type": "stream",
     "text": [
      "\u001b[32mProgress: 100%|█████████████████████████████████████████| Time: 0:00:38\u001b[39m\n"
     ]
    },
    {
     "name": "stdout",
     "output_type": "stream",
     "text": [
      "s1 = 1.32; s3 = 3.39; s4 = 2.09; Δ1 = 3.95 Γ; Δ3 = Δ1; Δ4 = -5.78 Γ\n",
      "Survival: 0 / 20\n",
      "goodness = 0.000\n"
     ]
    },
    {
     "name": "stderr",
     "output_type": "stream",
     "text": [
      "\u001b[36m\u001b[1m[ \u001b[22m\u001b[39m\u001b[36m\u001b[1mInfo: \u001b[22m\u001b[39m2023-11-03T03:04:08.369\titeration: 25\tcurrent optimum: 0.02891065799577953\n",
      "\u001b[32mProgress: 100%|█████████████████████████████████████████| Time: 0:00:19\u001b[39m\n",
      "\u001b[36m\u001b[1m[ \u001b[22m\u001b[39m\u001b[36m\u001b[1mInfo: \u001b[22m\u001b[39m2023-11-03T03:04:32.294\titeration: 26\tcurrent optimum: 0.02891065799577953\n"
     ]
    },
    {
     "name": "stdout",
     "output_type": "stream",
     "text": [
      "s1 = 4.00; s3 = 8.00; s4 = 6.50; Δ1 = 4.00 Γ; Δ3 = Δ1; Δ4 = -4.00 Γ\n",
      "Survival: 0 / 20\n",
      "goodness = 0.000\n"
     ]
    },
    {
     "name": "stderr",
     "output_type": "stream",
     "text": [
      "\u001b[32mProgress: 100%|█████████████████████████████████████████| Time: 0:02:55\u001b[39m\n",
      "\u001b[36m\u001b[1m[ \u001b[22m\u001b[39m\u001b[36m\u001b[1mInfo: \u001b[22m\u001b[39m2023-11-03T03:07:27.930\titeration: 27\tcurrent optimum: 0.02891065799577953\n"
     ]
    },
    {
     "name": "stdout",
     "output_type": "stream",
     "text": [
      "s1 = 4.00; s3 = 3.00; s4 = 0.50; Δ1 = 4.00 Γ; Δ3 = Δ1; Δ4 = -10.00 Γ\n",
      "Survival: 14 / 20\n",
      "goodness = 0.011\n"
     ]
    },
    {
     "name": "stderr",
     "output_type": "stream",
     "text": [
      "\u001b[32mProgress: 100%|█████████████████████████████████████████| Time: 0:01:53\u001b[39m\n",
      "\u001b[36m\u001b[1m[ \u001b[22m\u001b[39m\u001b[36m\u001b[1mInfo: \u001b[22m\u001b[39m2023-11-03T03:09:21.413\titeration: 28\tcurrent optimum: 0.02891065799577953\n"
     ]
    },
    {
     "name": "stdout",
     "output_type": "stream",
     "text": [
      "s1 = 0.50; s3 = 8.00; s4 = 0.50; Δ1 = 0.50 Γ; Δ3 = Δ1; Δ4 = -10.00 Γ\n",
      "Survival: 3 / 20\n",
      "goodness = 0.001\n"
     ]
    },
    {
     "name": "stderr",
     "output_type": "stream",
     "text": [
      "\u001b[32mProgress: 100%|█████████████████████████████████████████| Time: 0:00:30\u001b[39m\n",
      "\u001b[36m\u001b[1m[ \u001b[22m\u001b[39m\u001b[36m\u001b[1mInfo: \u001b[22m\u001b[39m2023-11-03T03:09:52.027\titeration: 29\tcurrent optimum: 0.02891065799577953\n"
     ]
    },
    {
     "name": "stdout",
     "output_type": "stream",
     "text": [
      "s1 = 4.00; s3 = 8.00; s4 = 6.50; Δ1 = 4.00 Γ; Δ3 = Δ1; Δ4 = -4.00 Γ\n",
      "Survival: 0 / 20\n",
      "goodness = 0.000\n"
     ]
    },
    {
     "name": "stderr",
     "output_type": "stream",
     "text": [
      "\u001b[32mProgress: 100%|█████████████████████████████████████████| Time: 0:01:42\u001b[39m\n",
      "\u001b[36m\u001b[1m[ \u001b[22m\u001b[39m\u001b[36m\u001b[1mInfo: \u001b[22m\u001b[39m2023-11-03T03:11:34.832\titeration: 30\tcurrent optimum: 0.02891065799577953\n"
     ]
    },
    {
     "name": "stdout",
     "output_type": "stream",
     "text": [
      "s1 = 4.00; s3 = 3.00; s4 = 6.50; Δ1 = 0.50 Γ; Δ3 = Δ1; Δ4 = -10.00 Γ\n",
      "Survival: 5 / 20\n",
      "goodness = 0.011\n"
     ]
    },
    {
     "name": "stderr",
     "output_type": "stream",
     "text": [
      "\u001b[32mProgress: 100%|█████████████████████████████████████████| Time: 0:01:31\u001b[39m\n",
      "\u001b[36m\u001b[1m[ \u001b[22m\u001b[39m\u001b[36m\u001b[1mInfo: \u001b[22m\u001b[39m2023-11-03T03:13:06.968\titeration: 31\tcurrent optimum: 0.02891065799577953\n"
     ]
    },
    {
     "name": "stdout",
     "output_type": "stream",
     "text": [
      "s1 = 4.00; s3 = 8.00; s4 = 0.50; Δ1 = 0.50 Γ; Δ3 = Δ1; Δ4 = -4.00 Γ\n",
      "Survival: 9 / 20\n",
      "goodness = 0.006\n"
     ]
    },
    {
     "name": "stderr",
     "output_type": "stream",
     "text": [
      "\u001b[32mProgress: 100%|█████████████████████████████████████████| Time: 0:01:19\u001b[39m\n",
      "\u001b[36m\u001b[1m[ \u001b[22m\u001b[39m\u001b[36m\u001b[1mInfo: \u001b[22m\u001b[39m2023-11-03T03:14:26.152\titeration: 32\tcurrent optimum: 0.02891065799577953\n"
     ]
    },
    {
     "name": "stdout",
     "output_type": "stream",
     "text": [
      "s1 = 0.50; s3 = 3.00; s4 = 0.50; Δ1 = 0.50 Γ; Δ3 = Δ1; Δ4 = -10.00 Γ\n",
      "Survival: 4 / 20\n",
      "goodness = 0.016\n"
     ]
    },
    {
     "name": "stderr",
     "output_type": "stream",
     "text": [
      "\u001b[32mProgress: 100%|█████████████████████████████████████████| Time: 0:01:13\u001b[39m\n",
      "\u001b[36m\u001b[1m[ \u001b[22m\u001b[39m\u001b[36m\u001b[1mInfo: \u001b[22m\u001b[39m2023-11-03T03:15:39.463\titeration: 33\tcurrent optimum: 0.02891065799577953\n"
     ]
    },
    {
     "name": "stdout",
     "output_type": "stream",
     "text": [
      "s1 = 0.50; s3 = 3.00; s4 = 6.50; Δ1 = 0.50 Γ; Δ3 = Δ1; Δ4 = -4.00 Γ\n",
      "Survival: 1 / 20\n",
      "goodness = 0.001\n"
     ]
    },
    {
     "name": "stderr",
     "output_type": "stream",
     "text": [
      "\u001b[32mProgress: 100%|█████████████████████████████████████████| Time: 0:02:28\u001b[39m\n"
     ]
    },
    {
     "name": "stdout",
     "output_type": "stream",
     "text": [
      "s1 = 4.00; s3 = 8.00; s4 = 0.50; Δ1 = 4.00 Γ; Δ3 = Δ1; Δ4 = -10.00 Γ\n",
      "Survival: 6 / 20\n",
      "goodness = 0.001\n"
     ]
    },
    {
     "name": "stderr",
     "output_type": "stream",
     "text": [
      "\u001b[36m\u001b[1m[ \u001b[22m\u001b[39m\u001b[36m\u001b[1mInfo: \u001b[22m\u001b[39m2023-11-03T03:18:08.461\titeration: 34\tcurrent optimum: 0.02891065799577953\n",
      "\u001b[32mProgress: 100%|█████████████████████████████████████████| Time: 0:01:26\u001b[39m\n",
      "\u001b[36m\u001b[1m[ \u001b[22m\u001b[39m\u001b[36m\u001b[1mInfo: \u001b[22m\u001b[39m2023-11-03T03:19:35.504\titeration: 35\tcurrent optimum: 0.02891065799577953\n"
     ]
    },
    {
     "name": "stdout",
     "output_type": "stream",
     "text": [
      "s1 = 0.50; s3 = 3.00; s4 = 6.50; Δ1 = 0.50 Γ; Δ3 = Δ1; Δ4 = -4.00 Γ\n",
      "Survival: 2 / 20\n",
      "goodness = 0.002\n"
     ]
    },
    {
     "name": "stderr",
     "output_type": "stream",
     "text": [
      "\u001b[32mProgress: 100%|█████████████████████████████████████████| Time: 0:02:20\u001b[39m\n",
      "\u001b[36m\u001b[1m[ \u001b[22m\u001b[39m\u001b[36m\u001b[1mInfo: \u001b[22m\u001b[39m2023-11-03T03:21:55.793\titeration: 36\tcurrent optimum: 0.02891065799577953\n"
     ]
    },
    {
     "name": "stdout",
     "output_type": "stream",
     "text": [
      "s1 = 4.00; s3 = 8.00; s4 = 6.50; Δ1 = 4.00 Γ; Δ3 = Δ1; Δ4 = -10.00 Γ\n",
      "Survival: 5 / 20\n",
      "goodness = 0.002\n"
     ]
    },
    {
     "name": "stderr",
     "output_type": "stream",
     "text": [
      "\u001b[32mProgress: 100%|█████████████████████████████████████████| Time: 0:00:56\u001b[39m\n",
      "\u001b[36m\u001b[1m[ \u001b[22m\u001b[39m\u001b[36m\u001b[1mInfo: \u001b[22m\u001b[39m2023-11-03T03:22:52.145\titeration: 37\tcurrent optimum: 0.02891065799577953\n"
     ]
    },
    {
     "name": "stdout",
     "output_type": "stream",
     "text": [
      "s1 = 0.50; s3 = 3.00; s4 = 0.50; Δ1 = 0.50 Γ; Δ3 = Δ1; Δ4 = -4.00 Γ\n",
      "Survival: 2 / 20\n",
      "goodness = 0.007\n"
     ]
    },
    {
     "name": "stderr",
     "output_type": "stream",
     "text": [
      "\u001b[32mProgress: 100%|█████████████████████████████████████████| Time: 0:01:52\u001b[39m\n",
      "\u001b[36m\u001b[1m[ \u001b[22m\u001b[39m\u001b[36m\u001b[1mInfo: \u001b[22m\u001b[39m2023-11-03T03:24:44.245\titeration: 38\tcurrent optimum: 0.02891065799577953\n"
     ]
    },
    {
     "name": "stdout",
     "output_type": "stream",
     "text": [
      "s1 = 4.00; s3 = 8.00; s4 = 0.50; Δ1 = 0.50 Γ; Δ3 = Δ1; Δ4 = -10.00 Γ\n",
      "Survival: 9 / 20\n",
      "goodness = 0.008\n"
     ]
    },
    {
     "name": "stderr",
     "output_type": "stream",
     "text": [
      "\u001b[32mProgress: 100%|█████████████████████████████████████████| Time: 0:01:10\u001b[39m\n",
      "\u001b[36m\u001b[1m[ \u001b[22m\u001b[39m\u001b[36m\u001b[1mInfo: \u001b[22m\u001b[39m2023-11-03T03:25:54.382\titeration: 39\tcurrent optimum: 0.02891065799577953\n"
     ]
    },
    {
     "name": "stdout",
     "output_type": "stream",
     "text": [
      "s1 = 4.00; s3 = 3.00; s4 = 0.50; Δ1 = 4.00 Γ; Δ3 = Δ1; Δ4 = -4.00 Γ\n",
      "Survival: 7 / 20\n",
      "goodness = 0.021\n"
     ]
    },
    {
     "name": "stderr",
     "output_type": "stream",
     "text": [
      "\u001b[32mProgress: 100%|█████████████████████████████████████████| Time: 0:00:44\u001b[39m\n",
      "\u001b[36m\u001b[1m[ \u001b[22m\u001b[39m\u001b[36m\u001b[1mInfo: \u001b[22m\u001b[39m2023-11-03T03:26:38.902\titeration: 40\tcurrent optimum: 0.02891065799577953\n"
     ]
    },
    {
     "name": "stdout",
     "output_type": "stream",
     "text": [
      "s1 = 0.50; s3 = 3.00; s4 = 6.50; Δ1 = 4.00 Γ; Δ3 = Δ1; Δ4 = -10.00 Γ\n",
      "Survival: 0 / 20\n",
      "goodness = 0.000\n"
     ]
    },
    {
     "name": "stderr",
     "output_type": "stream",
     "text": [
      "\u001b[32mProgress: 100%|█████████████████████████████████████████| Time: 0:01:36\u001b[39m\n",
      "\u001b[36m\u001b[1m[ \u001b[22m\u001b[39m\u001b[36m\u001b[1mInfo: \u001b[22m\u001b[39m2023-11-03T03:28:15.530\titeration: 41\tcurrent optimum: 0.02891065799577953\n"
     ]
    },
    {
     "name": "stdout",
     "output_type": "stream",
     "text": [
      "s1 = 4.00; s3 = 8.00; s4 = 0.50; Δ1 = 0.50 Γ; Δ3 = Δ1; Δ4 = -4.00 Γ\n",
      "Survival: 11 / 20\n",
      "goodness = 0.005\n"
     ]
    },
    {
     "name": "stderr",
     "output_type": "stream",
     "text": [
      "\u001b[32mProgress: 100%|█████████████████████████████████████████| Time: 0:01:36\u001b[39m\n",
      "\u001b[36m\u001b[1m[ \u001b[22m\u001b[39m\u001b[36m\u001b[1mInfo: \u001b[22m\u001b[39m2023-11-03T03:29:52.022\titeration: 42\tcurrent optimum: 0.02891065799577953\n"
     ]
    },
    {
     "name": "stdout",
     "output_type": "stream",
     "text": [
      "s1 = 0.50; s3 = 8.00; s4 = 6.50; Δ1 = 0.50 Γ; Δ3 = Δ1; Δ4 = -10.00 Γ\n",
      "Survival: 1 / 20\n",
      "goodness = 0.001\n"
     ]
    },
    {
     "name": "stderr",
     "output_type": "stream",
     "text": [
      "\u001b[32mProgress: 100%|█████████████████████████████████████████| Time: 0:01:27\u001b[39m\n"
     ]
    },
    {
     "name": "stdout",
     "output_type": "stream",
     "text": [
      "s1 = 4.00; s3 = 3.00; s4 = 0.50; Δ1 = 4.00 Γ; Δ3 = Δ1; Δ4 = -4.00 Γ\n",
      "Survival: 4 / 20\n",
      "goodness = 0.018\n"
     ]
    },
    {
     "name": "stderr",
     "output_type": "stream",
     "text": [
      "\u001b[36m\u001b[1m[ \u001b[22m\u001b[39m\u001b[36m\u001b[1mInfo: \u001b[22m\u001b[39m2023-11-03T03:31:19.194\titeration: 43\tcurrent optimum: 0.02891065799577953\n",
      "\u001b[32mProgress: 100%|█████████████████████████████████████████| Time: 0:00:36\u001b[39m\n"
     ]
    },
    {
     "name": "stdout",
     "output_type": "stream",
     "text": [
      "s1 = 0.50; s3 = 8.00; s4 = 0.50; Δ1 = 4.00 Γ; Δ3 = Δ1; Δ4 = -4.00 Γ\n",
      "Survival: 0 / 20\n",
      "goodness = 0.000"
     ]
    },
    {
     "name": "stderr",
     "output_type": "stream",
     "text": [
      "\u001b[36m\u001b[1m[ \u001b[22m\u001b[39m\u001b[36m\u001b[1mInfo: \u001b[22m\u001b[39m2023-11-03T03:31:56.407\titeration: 44\tcurrent optimum: 0.02891065799577953\n"
     ]
    },
    {
     "name": "stdout",
     "output_type": "stream",
     "text": [
      "\n"
     ]
    },
    {
     "name": "stderr",
     "output_type": "stream",
     "text": [
      "\u001b[32mProgress: 100%|█████████████████████████████████████████| Time: 0:01:18\u001b[39m\n",
      "\u001b[36m\u001b[1m[ \u001b[22m\u001b[39m\u001b[36m\u001b[1mInfo: \u001b[22m\u001b[39m2023-11-03T03:33:14.820\titeration: 45\tcurrent optimum: 0.02891065799577953\n"
     ]
    },
    {
     "name": "stdout",
     "output_type": "stream",
     "text": [
      "s1 = 0.50; s3 = 3.00; s4 = 6.50; Δ1 = 4.00 Γ; Δ3 = Δ1; Δ4 = -10.00 Γ\n",
      "Survival: 0 / 20\n",
      "goodness = 0.000\n"
     ]
    },
    {
     "name": "stderr",
     "output_type": "stream",
     "text": [
      "\u001b[32mProgress: 100%|█████████████████████████████████████████| Time: 0:00:52\u001b[39m\n",
      "\u001b[36m\u001b[1m[ \u001b[22m\u001b[39m\u001b[36m\u001b[1mInfo: \u001b[22m\u001b[39m2023-11-03T03:34:07.714\titeration: 46\tcurrent optimum: 0.02891065799577953\n"
     ]
    },
    {
     "name": "stdout",
     "output_type": "stream",
     "text": [
      "s1 = 4.00; s3 = 3.00; s4 = 0.50; Δ1 = 0.50 Γ; Δ3 = Δ1; Δ4 = -4.00 Γ\n",
      "Survival: 2 / 20\n",
      "goodness = 0.003\n"
     ]
    },
    {
     "name": "stderr",
     "output_type": "stream",
     "text": [
      "\u001b[32mProgress: 100%|█████████████████████████████████████████| Time: 0:01:46\u001b[39m\n",
      "\u001b[36m\u001b[1m[ \u001b[22m\u001b[39m\u001b[36m\u001b[1mInfo: \u001b[22m\u001b[39m2023-11-03T03:35:54.381\titeration: 47\tcurrent optimum: 0.02891065799577953\n"
     ]
    },
    {
     "name": "stdout",
     "output_type": "stream",
     "text": [
      "s1 = 4.00; s3 = 8.00; s4 = 6.50; Δ1 = 0.50 Γ; Δ3 = Δ1; Δ4 = -10.00 Γ\n",
      "Survival: 9 / 20\n",
      "goodness = 0.005\n"
     ]
    },
    {
     "name": "stderr",
     "output_type": "stream",
     "text": [
      "\u001b[32mProgress: 100%|█████████████████████████████████████████| Time: 0:00:25\u001b[39m\n",
      "\u001b[36m\u001b[1m[ \u001b[22m\u001b[39m\u001b[36m\u001b[1mInfo: \u001b[22m\u001b[39m2023-11-03T03:36:20.119\titeration: 48\tcurrent optimum: 0.02891065799577953\n"
     ]
    },
    {
     "name": "stdout",
     "output_type": "stream",
     "text": [
      "s1 = 0.50; s3 = 8.00; s4 = 0.50; Δ1 = 4.00 Γ; Δ3 = Δ1; Δ4 = -4.00 Γ\n",
      "Survival: 0 / 20\n",
      "goodness = 0.000\n"
     ]
    },
    {
     "name": "stderr",
     "output_type": "stream",
     "text": [
      "\u001b[32mProgress: 100%|█████████████████████████████████████████| Time: 0:01:30\u001b[39m\n",
      "\u001b[36m\u001b[1m[ \u001b[22m\u001b[39m\u001b[36m\u001b[1mInfo: \u001b[22m\u001b[39m2023-11-03T03:37:50.445\titeration: 49\tcurrent optimum: 0.03537150480985605\n"
     ]
    },
    {
     "name": "stdout",
     "output_type": "stream",
     "text": [
      "s1 = 4.00; s3 = 3.00; s4 = 6.50; Δ1 = 4.00 Γ; Δ3 = Δ1; Δ4 = -10.00 Γ\n",
      "Survival: 7 / 20\n",
      "goodness = 0.035\n"
     ]
    },
    {
     "name": "stderr",
     "output_type": "stream",
     "text": [
      "\u001b[32mProgress: 100%|█████████████████████████████████████████| Time: 0:01:35\u001b[39m"
     ]
    },
    {
     "name": "stdout",
     "output_type": "stream",
     "text": [
      "s1 = 4.00; s3 = 3.00; s4 = 6.50; Δ1 = 0.50 Γ; Δ3 = Δ1; Δ4 = -10.00 Γ\n",
      "Survival: 5 / 20\n",
      "goodness = 0.017"
     ]
    },
    {
     "name": "stderr",
     "output_type": "stream",
     "text": [
      "\n"
     ]
    },
    {
     "name": "stdout",
     "output_type": "stream",
     "text": [
      "\n"
     ]
    },
    {
     "name": "stderr",
     "output_type": "stream",
     "text": [
      "\u001b[36m\u001b[1m┌ \u001b[22m\u001b[39m\u001b[36m\u001b[1mInfo: \u001b[22m\u001b[39m ────────────────────────────────────────────────────────────────────────────────\n",
      "\u001b[36m\u001b[1m│ \u001b[22m\u001b[39m                                        Time                    Allocations      \n",
      "\u001b[36m\u001b[1m│ \u001b[22m\u001b[39m                               ───────────────────────   ────────────────────────\n",
      "\u001b[36m\u001b[1m│ \u001b[22m\u001b[39m       Tot / % measured:            1.17h / 100.0%           2.95GiB /  99.6%    \n",
      "\u001b[36m\u001b[1m│ \u001b[22m\u001b[39m\n",
      "\u001b[36m\u001b[1m│ \u001b[22m\u001b[39m Section               ncalls     time    %tot     avg     alloc    %tot      avg\n",
      "\u001b[36m\u001b[1m│ \u001b[22m\u001b[39m ────────────────────────────────────────────────────────────────────────────────\n",
      "\u001b[36m\u001b[1m│ \u001b[22m\u001b[39m function evaluation       50    1.17h   99.8%   84.1s   2.01GiB   68.3%  41.1MiB\n",
      "\u001b[36m\u001b[1m│ \u001b[22m\u001b[39m acquisition               26    6.97s    0.2%   268ms    825MiB   27.5%  31.7MiB\n",
      "\u001b[36m\u001b[1m│ \u001b[22m\u001b[39m model update              26    928ms    0.0%  35.7ms   59.0MiB    2.0%  2.27MiB\n",
      "\u001b[36m\u001b[1m│ \u001b[22m\u001b[39m model hyperparamet...     26    741ms    0.0%  28.5ms   67.3MiB    2.2%  2.59MiB\n",
      "\u001b[36m\u001b[1m└ \u001b[22m\u001b[39m ────────────────────────────────────────────────────────────────────────────────\n"
     ]
    },
    {
     "name": "stdout",
     "output_type": "stream",
     "text": [
      "===== Autosaved =====\n"
     ]
    },
    {
     "name": "stderr",
     "output_type": "stream",
     "text": [
      "\u001b[36m\u001b[1m[ \u001b[22m\u001b[39m\u001b[36m\u001b[1mInfo: \u001b[22m\u001b[39m2023-11-03T03:39:30.462\titeration: 50\tcurrent optimum: 0.03537150480985605\n",
      "\u001b[32mProgress: 100%|█████████████████████████████████████████| Time: 0:01:46\u001b[39m\n",
      "\u001b[36m\u001b[1m[ \u001b[22m\u001b[39m\u001b[36m\u001b[1mInfo: \u001b[22m\u001b[39m2023-11-03T03:41:17.430\titeration: 51\tcurrent optimum: 0.03537150480985605\n"
     ]
    },
    {
     "name": "stdout",
     "output_type": "stream",
     "text": [
      "s1 = 4.00; s3 = 8.00; s4 = 6.50; Δ1 = 0.50 Γ; Δ3 = Δ1; Δ4 = -4.00 Γ\n",
      "Survival: 11 / 20\n",
      "goodness = 0.002\n"
     ]
    },
    {
     "name": "stderr",
     "output_type": "stream",
     "text": [
      "\u001b[32mProgress: 100%|█████████████████████████████████████████| Time: 0:02:24\u001b[39m\n",
      "\u001b[36m\u001b[1m[ \u001b[22m\u001b[39m\u001b[36m\u001b[1mInfo: \u001b[22m\u001b[39m2023-11-03T03:43:42.114\titeration: 52\tcurrent optimum: 0.03537150480985605\n"
     ]
    },
    {
     "name": "stdout",
     "output_type": "stream",
     "text": [
      "s1 = 4.00; s3 = 3.00; s4 = 0.50; Δ1 = 4.00 Γ; Δ3 = Δ1; Δ4 = -10.00 Γ\n",
      "Survival: 8 / 20\n",
      "goodness = 0.007\n"
     ]
    },
    {
     "name": "stderr",
     "output_type": "stream",
     "text": [
      "\u001b[32mProgress: 100%|█████████████████████████████████████████| Time: 0:01:00\u001b[39m\n",
      "\u001b[36m\u001b[1m[ \u001b[22m\u001b[39m\u001b[36m\u001b[1mInfo: \u001b[22m\u001b[39m2023-11-03T03:44:42.852\titeration: 53\tcurrent optimum: 0.03537150480985605\n"
     ]
    },
    {
     "name": "stdout",
     "output_type": "stream",
     "text": [
      "s1 = 0.50; s3 = 3.00; s4 = 6.50; Δ1 = 4.00 Γ; Δ3 = Δ1; Δ4 = -10.00 Γ\n",
      "Survival: 0 / 20\n",
      "goodness = 0.000\n"
     ]
    },
    {
     "name": "stderr",
     "output_type": "stream",
     "text": [
      "\u001b[32mProgress: 100%|█████████████████████████████████████████| Time: 0:00:49\u001b[39m\n",
      "\u001b[36m\u001b[1m[ \u001b[22m\u001b[39m\u001b[36m\u001b[1mInfo: \u001b[22m\u001b[39m2023-11-03T03:45:32.669\titeration: 54\tcurrent optimum: 0.03537150480985605\n"
     ]
    },
    {
     "name": "stdout",
     "output_type": "stream",
     "text": [
      "s1 = 0.50; s3 = 3.00; s4 = 0.50; Δ1 = 0.50 Γ; Δ3 = Δ1; Δ4 = -4.00 Γ\n",
      "Survival: 7 / 20\n",
      "goodness = 0.030\n"
     ]
    },
    {
     "name": "stderr",
     "output_type": "stream",
     "text": [
      "\u001b[32mProgress: 100%|█████████████████████████████████████████| Time: 0:02:06\u001b[39m\n",
      "\u001b[36m\u001b[1m[ \u001b[22m\u001b[39m\u001b[36m\u001b[1mInfo: \u001b[22m\u001b[39m2023-11-03T03:47:39.700\titeration: 55\tcurrent optimum: 0.03537150480985605\n"
     ]
    },
    {
     "name": "stdout",
     "output_type": "stream",
     "text": [
      "s1 = 4.00; s3 = 8.00; s4 = 6.50; Δ1 = 0.50 Γ; Δ3 = Δ1; Δ4 = -4.00 Γ\n",
      "Survival: 16 / 20\n",
      "goodness = 0.003\n"
     ]
    },
    {
     "name": "stderr",
     "output_type": "stream",
     "text": [
      "\u001b[32mProgress: 100%|█████████████████████████████████████████| Time: 0:01:42\u001b[39m\n"
     ]
    },
    {
     "name": "stdout",
     "output_type": "stream",
     "text": [
      "s1 = 0.50; s3 = 8.00; s4 = 0.50; Δ1 = 0.50 Γ; Δ3 = Δ1; Δ4 = -10.00 Γ\n",
      "Survival: 3 / 20\n",
      "goodness = 0.001\n"
     ]
    },
    {
     "name": "stderr",
     "output_type": "stream",
     "text": [
      "\u001b[36m\u001b[1m[ \u001b[22m\u001b[39m\u001b[36m\u001b[1mInfo: \u001b[22m\u001b[39m2023-11-03T03:49:22.431\titeration: 56\tcurrent optimum: 0.03537150480985605\n",
      "\u001b[32mProgress: 100%|█████████████████████████████████████████| Time: 0:00:58\u001b[39m\n",
      "\u001b[36m\u001b[1m[ \u001b[22m\u001b[39m\u001b[36m\u001b[1mInfo: \u001b[22m\u001b[39m2023-11-03T03:50:21.241\titeration: 57\tcurrent optimum: 0.03537150480985605\n"
     ]
    },
    {
     "name": "stdout",
     "output_type": "stream",
     "text": [
      "s1 = 4.00; s3 = 3.00; s4 = 0.50; Δ1 = 4.00 Γ; Δ3 = Δ1; Δ4 = -4.00 Γ\n",
      "Survival: 3 / 20\n",
      "goodness = 0.009\n"
     ]
    },
    {
     "name": "stderr",
     "output_type": "stream",
     "text": [
      "\u001b[32mProgress: 100%|█████████████████████████████████████████| Time: 0:00:30\u001b[39m\n",
      "\u001b[36m\u001b[1m[ \u001b[22m\u001b[39m\u001b[36m\u001b[1mInfo: \u001b[22m\u001b[39m2023-11-03T03:50:52.228\titeration: 58\tcurrent optimum: 0.03537150480985605\n"
     ]
    },
    {
     "name": "stdout",
     "output_type": "stream",
     "text": [
      "s1 = 0.50; s3 = 8.00; s4 = 6.50; Δ1 = 4.00 Γ; Δ3 = Δ1; Δ4 = -4.00 Γ\n",
      "Survival: 0 / 20\n",
      "goodness = 0.000\n"
     ]
    },
    {
     "name": "stderr",
     "output_type": "stream",
     "text": [
      "\u001b[32mProgress: 100%|█████████████████████████████████████████| Time: 0:01:10\u001b[39m\n",
      "\u001b[36m\u001b[1m[ \u001b[22m\u001b[39m\u001b[36m\u001b[1mInfo: \u001b[22m\u001b[39m2023-11-03T03:52:02.924\titeration: 59\tcurrent optimum: 0.03537150480985605\n"
     ]
    },
    {
     "name": "stdout",
     "output_type": "stream",
     "text": [
      "s1 = 0.50; s3 = 3.00; s4 = 0.50; Δ1 = 4.00 Γ; Δ3 = Δ1; Δ4 = -10.00 Γ\n",
      "Survival: 0 / 20\n",
      "goodness = 0.000\n"
     ]
    },
    {
     "name": "stderr",
     "output_type": "stream",
     "text": [
      "\u001b[32mProgress: 100%|█████████████████████████████████████████| Time: 0:00:50\u001b[39m\n",
      "\u001b[36m\u001b[1m[ \u001b[22m\u001b[39m\u001b[36m\u001b[1mInfo: \u001b[22m\u001b[39m2023-11-03T03:52:53.141\titeration: 60\tcurrent optimum: 0.03537150480985605\n"
     ]
    },
    {
     "name": "stdout",
     "output_type": "stream",
     "text": [
      "s1 = 4.00; s3 = 3.00; s4 = 6.50; Δ1 = 4.00 Γ; Δ3 = Δ1; Δ4 = -4.00 Γ\n",
      "Survival: 0 / 20\n",
      "goodness = 0.000\n"
     ]
    },
    {
     "name": "stderr",
     "output_type": "stream",
     "text": [
      "\u001b[32mProgress: 100%|█████████████████████████████████████████| Time: 0:00:51\u001b[39m\n",
      "\u001b[36m\u001b[1m[ \u001b[22m\u001b[39m\u001b[36m\u001b[1mInfo: \u001b[22m\u001b[39m2023-11-03T03:53:45.030\titeration: 61\tcurrent optimum: 0.03537150480985605\n"
     ]
    },
    {
     "name": "stdout",
     "output_type": "stream",
     "text": [
      "s1 = 0.50; s3 = 3.00; s4 = 0.50; Δ1 = 0.50 Γ; Δ3 = Δ1; Δ4 = -10.00 Γ\n",
      "Survival: 2 / 20\n",
      "goodness = 0.010\n"
     ]
    },
    {
     "name": "stderr",
     "output_type": "stream",
     "text": [
      "\u001b[32mProgress: 100%|█████████████████████████████████████████| Time: 0:01:46\u001b[39m\n",
      "\u001b[36m\u001b[1m[ \u001b[22m\u001b[39m\u001b[36m\u001b[1mInfo: \u001b[22m\u001b[39m2023-11-03T03:55:31.615\titeration: 62\tcurrent optimum: 0.03537150480985605\n"
     ]
    },
    {
     "name": "stdout",
     "output_type": "stream",
     "text": [
      "s1 = 4.00; s3 = 8.00; s4 = 0.50; Δ1 = 4.00 Γ; Δ3 = Δ1; Δ4 = -10.00 Γ\n",
      "Survival: 4 / 20\n",
      "goodness = 0.000\n"
     ]
    },
    {
     "name": "stderr",
     "output_type": "stream",
     "text": [
      "\u001b[32mProgress: 100%|█████████████████████████████████████████| Time: 0:01:54\u001b[39m\n",
      "\u001b[36m\u001b[1m[ \u001b[22m\u001b[39m\u001b[36m\u001b[1mInfo: \u001b[22m\u001b[39m2023-11-03T03:57:26.413\titeration: 63\tcurrent optimum: 0.03537150480985605\n"
     ]
    },
    {
     "name": "stdout",
     "output_type": "stream",
     "text": [
      "s1 = 4.00; s3 = 8.00; s4 = 6.50; Δ1 = 0.50 Γ; Δ3 = Δ1; Δ4 = -4.00 Γ\n",
      "Survival: 12 / 20\n",
      "goodness = 0.002\n"
     ]
    },
    {
     "name": "stderr",
     "output_type": "stream",
     "text": [
      "\u001b[32mProgress: 100%|█████████████████████████████████████████| Time: 0:00:29\u001b[39m\n",
      "\u001b[36m\u001b[1m[ \u001b[22m\u001b[39m\u001b[36m\u001b[1mInfo: \u001b[22m\u001b[39m2023-11-03T03:57:55.643\titeration: 64\tcurrent optimum: 0.03537150480985605\n"
     ]
    },
    {
     "name": "stdout",
     "output_type": "stream",
     "text": [
      "s1 = 0.50; s3 = 3.00; s4 = 6.50; Δ1 = 0.50 Γ; Δ3 = Δ1; Δ4 = -10.00 Γ\n",
      "Survival: 0 / 20\n",
      "goodness = 0.000\n"
     ]
    },
    {
     "name": "stderr",
     "output_type": "stream",
     "text": [
      "\u001b[32mProgress: 100%|█████████████████████████████████████████| Time: 0:01:03\u001b[39m\n",
      "\u001b[36m\u001b[1m[ \u001b[22m\u001b[39m\u001b[36m\u001b[1mInfo: \u001b[22m\u001b[39m2023-11-03T03:58:59.348\titeration: 65\tcurrent optimum: 0.03537150480985605\n"
     ]
    },
    {
     "name": "stdout",
     "output_type": "stream",
     "text": [
      "s1 = 0.50; s3 = 8.00; s4 = 0.50; Δ1 = 4.00 Γ; Δ3 = Δ1; Δ4 = -4.00 Γ\n",
      "Survival: 0 / 20\n",
      "goodness = 0.000\n"
     ]
    },
    {
     "name": "stderr",
     "output_type": "stream",
     "text": [
      "\u001b[32mProgress: 100%|█████████████████████████████████████████| Time: 0:02:34\u001b[39m\n",
      "\u001b[36m\u001b[1m[ \u001b[22m\u001b[39m\u001b[36m\u001b[1mInfo: \u001b[22m\u001b[39m2023-11-03T04:01:33.582\titeration: 66\tcurrent optimum: 0.03537150480985605\n"
     ]
    },
    {
     "name": "stdout",
     "output_type": "stream",
     "text": [
      "s1 = 4.00; s3 = 3.00; s4 = 0.50; Δ1 = 4.00 Γ; Δ3 = Δ1; Δ4 = -10.00 Γ\n",
      "Survival: 7 / 20\n",
      "goodness = 0.012\n"
     ]
    },
    {
     "name": "stderr",
     "output_type": "stream",
     "text": [
      "\u001b[32mProgress: 100%|█████████████████████████████████████████| Time: 0:01:18\u001b[39m\n",
      "\u001b[36m\u001b[1m[ \u001b[22m\u001b[39m\u001b[36m\u001b[1mInfo: \u001b[22m\u001b[39m2023-11-03T04:02:52.481\titeration: 67\tcurrent optimum: 0.03537150480985605\n"
     ]
    },
    {
     "name": "stdout",
     "output_type": "stream",
     "text": [
      "s1 = 4.00; s3 = 3.00; s4 = 6.50; Δ1 = 0.50 Γ; Δ3 = Δ1; Δ4 = -10.00 Γ\n",
      "Survival: 5 / 20\n",
      "goodness = 0.010\n"
     ]
    },
    {
     "name": "stderr",
     "output_type": "stream",
     "text": [
      "\u001b[32mProgress: 100%|█████████████████████████████████████████| Time: 0:00:40\u001b[39m\n",
      "\u001b[36m\u001b[1m[ \u001b[22m\u001b[39m\u001b[36m\u001b[1mInfo: \u001b[22m\u001b[39m2023-11-03T04:03:33.136\titeration: 68\tcurrent optimum: 0.03537150480985605\n"
     ]
    },
    {
     "name": "stdout",
     "output_type": "stream",
     "text": [
      "s1 = 0.50; s3 = 3.00; s4 = 0.50; Δ1 = 0.50 Γ; Δ3 = Δ1; Δ4 = -4.00 Γ\n",
      "Survival: 6 / 20\n",
      "goodness = 0.025\n"
     ]
    },
    {
     "name": "stderr",
     "output_type": "stream",
     "text": [
      "\u001b[32mProgress: 100%|█████████████████████████████████████████| Time: 0:01:22\u001b[39m\n",
      "\u001b[36m\u001b[1m[ \u001b[22m\u001b[39m\u001b[36m\u001b[1mInfo: \u001b[22m\u001b[39m2023-11-03T04:04:55.444\titeration: 69\tcurrent optimum: 0.03537150480985605\n"
     ]
    },
    {
     "name": "stdout",
     "output_type": "stream",
     "text": [
      "s1 = 4.00; s3 = 3.00; s4 = 6.50; Δ1 = 0.50 Γ; Δ3 = Δ1; Δ4 = -4.00 Γ\n",
      "Survival: 7 / 20\n",
      "goodness = 0.006\n"
     ]
    },
    {
     "name": "stderr",
     "output_type": "stream",
     "text": [
      "\u001b[32mProgress: 100%|█████████████████████████████████████████| Time: 0:01:23\u001b[39m\n",
      "\u001b[36m\u001b[1m[ \u001b[22m\u001b[39m\u001b[36m\u001b[1mInfo: \u001b[22m\u001b[39m2023-11-03T04:06:18.877\titeration: 70\tcurrent optimum: 0.03537150480985605\n"
     ]
    },
    {
     "name": "stdout",
     "output_type": "stream",
     "text": [
      "s1 = 4.00; s3 = 8.00; s4 = 0.50; Δ1 = 4.00 Γ; Δ3 = Δ1; Δ4 = -10.00 Γ\n",
      "Survival: 3 / 20\n",
      "goodness = 0.001\n"
     ]
    },
    {
     "name": "stderr",
     "output_type": "stream",
     "text": [
      "\u001b[32mProgress: 100%|█████████████████████████████████████████| Time: 0:01:21\u001b[39m\n",
      "\u001b[36m\u001b[1m[ \u001b[22m\u001b[39m\u001b[36m\u001b[1mInfo: \u001b[22m\u001b[39m2023-11-03T04:07:40.564\titeration: 71\tcurrent optimum: 0.03537150480985605\n"
     ]
    },
    {
     "name": "stdout",
     "output_type": "stream",
     "text": [
      "s1 = 0.50; s3 = 8.00; s4 = 6.50; Δ1 = 0.50 Γ; Δ3 = Δ1; Δ4 = -10.00 Γ\n",
      "Survival: 1 / 20\n",
      "goodness = 0.001\n"
     ]
    },
    {
     "name": "stderr",
     "output_type": "stream",
     "text": [
      "\u001b[32mProgress: 100%|█████████████████████████████████████████| Time: 0:00:50\u001b[39m\n",
      "\u001b[36m\u001b[1m[ \u001b[22m\u001b[39m\u001b[36m\u001b[1mInfo: \u001b[22m\u001b[39m2023-11-03T04:08:31.148\titeration: 72\tcurrent optimum: 0.03537150480985605\n"
     ]
    },
    {
     "name": "stdout",
     "output_type": "stream",
     "text": [
      "s1 = 0.50; s3 = 3.00; s4 = 0.50; Δ1 = 0.50 Γ; Δ3 = Δ1; Δ4 = -4.00 Γ\n",
      "Survival: 5 / 20\n",
      "goodness = 0.018\n"
     ]
    },
    {
     "name": "stderr",
     "output_type": "stream",
     "text": [
      "\u001b[32mProgress: 100%|█████████████████████████████████████████| Time: 0:01:31\u001b[39m\n",
      "\u001b[36m\u001b[1m[ \u001b[22m\u001b[39m\u001b[36m\u001b[1mInfo: \u001b[22m\u001b[39m2023-11-03T04:10:02.521\titeration: 73\tcurrent optimum: 0.03537150480985605\n"
     ]
    },
    {
     "name": "stdout",
     "output_type": "stream",
     "text": [
      "s1 = 4.00; s3 = 3.00; s4 = 6.50; Δ1 = 0.50 Γ; Δ3 = Δ1; Δ4 = -4.00 Γ\n",
      "Survival: 9 / 20\n",
      "goodness = 0.006\n"
     ]
    },
    {
     "name": "stderr",
     "output_type": "stream",
     "text": [
      "\u001b[32mProgress: 100%|█████████████████████████████████████████| Time: 0:01:03\u001b[39m\n",
      "\u001b[36m\u001b[1m[ \u001b[22m\u001b[39m\u001b[36m\u001b[1mInfo: \u001b[22m\u001b[39m2023-11-03T04:11:06.071\titeration: 74\tcurrent optimum: 0.03537150480985605\n"
     ]
    },
    {
     "name": "stdout",
     "output_type": "stream",
     "text": [
      "s1 = 4.00; s3 = 8.00; s4 = 0.50; Δ1 = 4.00 Γ; Δ3 = Δ1; Δ4 = -4.00 Γ\n",
      "Survival: 3 / 20\n",
      "goodness = 0.001\n"
     ]
    },
    {
     "name": "stderr",
     "output_type": "stream",
     "text": [
      "\u001b[32mProgress: 100%|█████████████████████████████████████████| Time: 0:01:04\u001b[39m\n",
      "\u001b[36m\u001b[1m[ \u001b[22m\u001b[39m\u001b[36m\u001b[1mInfo: \u001b[22m\u001b[39m2023-11-03T04:12:10.562\titeration: 75\tcurrent optimum: 0.03537150480985605\n"
     ]
    },
    {
     "name": "stdout",
     "output_type": "stream",
     "text": [
      "s1 = 0.50; s3 = 8.00; s4 = 0.50; Δ1 = 0.50 Γ; Δ3 = Δ1; Δ4 = -10.00 Γ\n",
      "Survival: 0 / 20\n",
      "goodness = 0.000\n"
     ]
    },
    {
     "name": "stderr",
     "output_type": "stream",
     "text": [
      "\u001b[32mProgress: 100%|█████████████████████████████████████████| Time: 0:00:18\u001b[39m\n"
     ]
    },
    {
     "name": "stdout",
     "output_type": "stream",
     "text": [
      "s1 = 0.50; s3 = 8.00; s4 = 6.50; Δ1 = 4.00 Γ; Δ3 = Δ1; Δ4 = -4.00 Γ\n",
      "Survival: 0 / 20\n",
      "goodness = 0.000\n"
     ]
    },
    {
     "name": "stderr",
     "output_type": "stream",
     "text": [
      "\u001b[36m\u001b[1m[ \u001b[22m\u001b[39m\u001b[36m\u001b[1mInfo: \u001b[22m\u001b[39m2023-11-03T04:12:29.020\titeration: 76\tcurrent optimum: 0.03537150480985605\n",
      "\u001b[32mProgress: 100%|█████████████████████████████████████████| Time: 0:01:59\u001b[39m\n",
      "\u001b[36m\u001b[1m[ \u001b[22m\u001b[39m\u001b[36m\u001b[1mInfo: \u001b[22m\u001b[39m2023-11-03T04:14:28.205\titeration: 77\tcurrent optimum: 0.03560562827826223\n"
     ]
    },
    {
     "name": "stdout",
     "output_type": "stream",
     "text": [
      "s1 = 4.00; s3 = 3.00; s4 = 0.50; Δ1 = 4.00 Γ; Δ3 = Δ1; Δ4 = -10.00 Γ\n",
      "Survival: 11 / 20\n",
      "goodness = 0.036\n"
     ]
    },
    {
     "name": "stderr",
     "output_type": "stream",
     "text": [
      "\u001b[32mProgress: 100%|█████████████████████████████████████████| Time: 0:01:12\u001b[39m\n",
      "\u001b[36m\u001b[1m[ \u001b[22m\u001b[39m\u001b[36m\u001b[1mInfo: \u001b[22m\u001b[39m2023-11-03T04:15:40.574\titeration: 78\tcurrent optimum: 0.03560562827826223\n"
     ]
    },
    {
     "name": "stdout",
     "output_type": "stream",
     "text": [
      "s1 = 0.50; s3 = 3.00; s4 = 0.50; Δ1 = 4.00 Γ; Δ3 = Δ1; Δ4 = -10.00 Γ\n",
      "Survival: 0 / 20\n",
      "goodness = 0.000\n"
     ]
    },
    {
     "name": "stderr",
     "output_type": "stream",
     "text": [
      "\u001b[32mProgress: 100%|█████████████████████████████████████████| Time: 0:01:15\u001b[39m\n",
      "\u001b[36m\u001b[1m[ \u001b[22m\u001b[39m\u001b[36m\u001b[1mInfo: \u001b[22m\u001b[39m2023-11-03T04:16:56.221\titeration: 79\tcurrent optimum: 0.03560562827826223\n"
     ]
    },
    {
     "name": "stdout",
     "output_type": "stream",
     "text": [
      "s1 = 4.00; s3 = 3.00; s4 = 6.50; Δ1 = 0.50 Γ; Δ3 = Δ1; Δ4 = -4.00 Γ\n",
      "Survival: 5 / 20\n",
      "goodness = 0.005\n"
     ]
    },
    {
     "name": "stderr",
     "output_type": "stream",
     "text": [
      "\u001b[32mProgress: 100%|█████████████████████████████████████████| Time: 0:01:25\u001b[39m\n",
      "\u001b[36m\u001b[1m[ \u001b[22m\u001b[39m\u001b[36m\u001b[1mInfo: \u001b[22m\u001b[39m2023-11-03T04:18:21.357\titeration: 80\tcurrent optimum: 0.03560562827826223\n"
     ]
    },
    {
     "name": "stdout",
     "output_type": "stream",
     "text": [
      "s1 = 4.00; s3 = 8.00; s4 = 6.50; Δ1 = 4.00 Γ; Δ3 = Δ1; Δ4 = -10.00 Γ\n",
      "Survival: 2 / 20\n",
      "goodness = 0.000\n"
     ]
    },
    {
     "name": "stderr",
     "output_type": "stream",
     "text": [
      "\u001b[32mProgress: 100%|█████████████████████████████████████████| Time: 0:01:04\u001b[39m\n"
     ]
    },
    {
     "name": "stdout",
     "output_type": "stream",
     "text": [
      "s1 = 4.00; s3 = 3.00; s4 = 0.50; Δ1 = 0.50 Γ; Δ3 = Δ1; Δ4 = -4.00 Γ\n",
      "Survival: 2 / 20\n",
      "goodness = 0.003\n"
     ]
    },
    {
     "name": "stderr",
     "output_type": "stream",
     "text": [
      "\u001b[36m\u001b[1m[ \u001b[22m\u001b[39m\u001b[36m\u001b[1mInfo: \u001b[22m\u001b[39m2023-11-03T04:19:25.702\titeration: 81\tcurrent optimum: 0.03560562827826223\n",
      "\u001b[32mProgress: 100%|█████████████████████████████████████████| Time: 0:01:18\u001b[39m\n",
      "\u001b[36m\u001b[1m[ \u001b[22m\u001b[39m\u001b[36m\u001b[1mInfo: \u001b[22m\u001b[39m2023-11-03T04:20:44.193\titeration: 82\tcurrent optimum: 0.03560562827826223\n"
     ]
    },
    {
     "name": "stdout",
     "output_type": "stream",
     "text": [
      "s1 = 0.50; s3 = 3.00; s4 = 6.50; Δ1 = 0.50 Γ; Δ3 = Δ1; Δ4 = -10.00 Γ\n",
      "Survival: 1 / 20\n",
      "goodness = 0.003\n"
     ]
    },
    {
     "name": "stderr",
     "output_type": "stream",
     "text": [
      "\u001b[32mProgress:  95%|███████████████████████████████████████  |  ETA: 0:00:04\u001b[39m"
     ]
    },
    {
     "name": "stdout",
     "output_type": "stream",
     "text": [
      "s1 = 4.00; s3 = 8.00; s4 = 0.50; Δ1 = 4.00 Γ; Δ3 = Δ1; Δ4 = -4.00 Γ\n",
      "Survival: 1 / 20\n",
      "goodness = 0.000\n"
     ]
    },
    {
     "name": "stderr",
     "output_type": "stream",
     "text": [
      "\u001b[32mProgress: 100%|█████████████████████████████████████████| Time: 0:01:11\u001b[39m\n",
      "\u001b[36m\u001b[1m[ \u001b[22m\u001b[39m\u001b[36m\u001b[1mInfo: \u001b[22m\u001b[39m2023-11-03T04:21:55.714\titeration: 83\tcurrent optimum: 0.03560562827826223\n",
      "\u001b[32mProgress: 100%|█████████████████████████████████████████| Time: 0:00:41\u001b[39m\n",
      "\u001b[36m\u001b[1m[ \u001b[22m\u001b[39m\u001b[36m\u001b[1mInfo: \u001b[22m\u001b[39m2023-11-03T04:22:36.869\titeration: 84\tcurrent optimum: 0.03560562827826223\n"
     ]
    },
    {
     "name": "stdout",
     "output_type": "stream",
     "text": [
      "s1 = 0.50; s3 = 3.00; s4 = 6.50; Δ1 = 4.00 Γ; Δ3 = Δ1; Δ4 = -10.00 Γ\n",
      "Survival: 0 / 20\n",
      "goodness = 0.000\n"
     ]
    },
    {
     "name": "stderr",
     "output_type": "stream",
     "text": [
      "\u001b[32mProgress: 100%|█████████████████████████████████████████| Time: 0:00:32\u001b[39m\n",
      "\u001b[36m\u001b[1m[ \u001b[22m\u001b[39m\u001b[36m\u001b[1mInfo: \u001b[22m\u001b[39m2023-11-03T04:23:09.396\titeration: 85\tcurrent optimum: 0.03560562827826223\n"
     ]
    },
    {
     "name": "stdout",
     "output_type": "stream",
     "text": [
      "s1 = 0.50; s3 = 8.00; s4 = 0.50; Δ1 = 4.00 Γ; Δ3 = Δ1; Δ4 = -4.00 Γ\n",
      "Survival: 0 / 20\n",
      "goodness = 0.000\n"
     ]
    },
    {
     "name": "stderr",
     "output_type": "stream",
     "text": [
      "\u001b[32mProgress: 100%|█████████████████████████████████████████| Time: 0:00:55\u001b[39m\n",
      "\u001b[36m\u001b[1m[ \u001b[22m\u001b[39m\u001b[36m\u001b[1mInfo: \u001b[22m\u001b[39m2023-11-03T04:24:05.197\titeration: 86\tcurrent optimum: 0.03560562827826223\n"
     ]
    },
    {
     "name": "stdout",
     "output_type": "stream",
     "text": [
      "s1 = 0.50; s3 = 3.00; s4 = 0.50; Δ1 = 0.50 Γ; Δ3 = Δ1; Δ4 = -10.00 Γ\n",
      "Survival: 4 / 20\n",
      "goodness = 0.015\n"
     ]
    },
    {
     "name": "stderr",
     "output_type": "stream",
     "text": [
      "\u001b[32mProgress: 100%|█████████████████████████████████████████| Time: 0:00:51\u001b[39m\n"
     ]
    },
    {
     "name": "stdout",
     "output_type": "stream",
     "text": [
      "s1 = 4.00; s3 = 3.00; s4 = 0.50; Δ1 = 0.50 Γ; Δ3 = Δ1; Δ4 = -4.00 Γ\n",
      "Survival: 3 / 20\n",
      "goodness = 0.004\n"
     ]
    },
    {
     "name": "stderr",
     "output_type": "stream",
     "text": [
      "\u001b[36m\u001b[1m[ \u001b[22m\u001b[39m\u001b[36m\u001b[1mInfo: \u001b[22m\u001b[39m2023-11-03T04:24:56.316\titeration: 87\tcurrent optimum: 0.03560562827826223\n",
      "\u001b[32mProgress: 100%|█████████████████████████████████████████| Time: 0:01:31\u001b[39m\n",
      "\u001b[36m\u001b[1m[ \u001b[22m\u001b[39m\u001b[36m\u001b[1mInfo: \u001b[22m\u001b[39m2023-11-03T04:26:27.866\titeration: 88\tcurrent optimum: 0.03560562827826223\n"
     ]
    },
    {
     "name": "stdout",
     "output_type": "stream",
     "text": [
      "s1 = 4.00; s3 = 8.00; s4 = 6.50; Δ1 = 0.50 Γ; Δ3 = Δ1; Δ4 = -10.00 Γ\n",
      "Survival: 13 / 20\n",
      "goodness = 0.006\n"
     ]
    },
    {
     "name": "stderr",
     "output_type": "stream",
     "text": [
      "\u001b[32mProgress: 100%|█████████████████████████████████████████| Time: 0:00:26\u001b[39m\n",
      "\u001b[36m\u001b[1m[ \u001b[22m\u001b[39m\u001b[36m\u001b[1mInfo: \u001b[22m\u001b[39m2023-11-03T04:26:54.902\titeration: 89\tcurrent optimum: 0.03560562827826223\n"
     ]
    },
    {
     "name": "stdout",
     "output_type": "stream",
     "text": [
      "s1 = 0.50; s3 = 3.00; s4 = 6.50; Δ1 = 4.00 Γ; Δ3 = Δ1; Δ4 = -4.00 Γ\n",
      "Survival: 0 / 20\n",
      "goodness = 0.000\n"
     ]
    },
    {
     "name": "stderr",
     "output_type": "stream",
     "text": [
      "\u001b[32mProgress: 100%|█████████████████████████████████████████| Time: 0:00:54\u001b[39m\n"
     ]
    },
    {
     "name": "stdout",
     "output_type": "stream",
     "text": [
      "s1 = 0.50; s3 = 8.00; s4 = 0.50; Δ1 = 4.00 Γ; Δ3 = Δ1; Δ4 = -10.00 Γ\n",
      "Survival: 0 / 20\n",
      "goodness = 0.000\n"
     ]
    },
    {
     "name": "stderr",
     "output_type": "stream",
     "text": [
      "\u001b[36m\u001b[1m[ \u001b[22m\u001b[39m\u001b[36m\u001b[1mInfo: \u001b[22m\u001b[39m2023-11-03T04:27:49.891\titeration: 90\tcurrent optimum: 0.03560562827826223\n",
      "\u001b[32mProgress: 100%|█████████████████████████████████████████| Time: 0:01:16\u001b[39m\n",
      "\u001b[36m\u001b[1m[ \u001b[22m\u001b[39m\u001b[36m\u001b[1mInfo: \u001b[22m\u001b[39m2023-11-03T04:29:06.229\titeration: 91\tcurrent optimum: 0.03560562827826223\n"
     ]
    },
    {
     "name": "stdout",
     "output_type": "stream",
     "text": [
      "s1 = 4.00; s3 = 3.00; s4 = 6.50; Δ1 = 0.50 Γ; Δ3 = Δ1; Δ4 = -4.00 Γ\n",
      "Survival: 3 / 20\n",
      "goodness = 0.002\n"
     ]
    },
    {
     "name": "stderr",
     "output_type": "stream",
     "text": [
      "\u001b[32mProgress: 100%|█████████████████████████████████████████| Time: 0:01:11\u001b[39m\n",
      "\u001b[36m\u001b[1m[ \u001b[22m\u001b[39m\u001b[36m\u001b[1mInfo: \u001b[22m\u001b[39m2023-11-03T04:30:18.158\titeration: 92\tcurrent optimum: 0.03560562827826223\n"
     ]
    },
    {
     "name": "stdout",
     "output_type": "stream",
     "text": [
      "s1 = 0.50; s3 = 8.00; s4 = 0.50; Δ1 = 0.50 Γ; Δ3 = Δ1; Δ4 = -10.00 Γ\n",
      "Survival: 2 / 20\n",
      "goodness = 0.002\n"
     ]
    },
    {
     "name": "stderr",
     "output_type": "stream",
     "text": [
      "\u001b[32mProgress: 100%|█████████████████████████████████████████| Time: 0:01:02\u001b[39m\n",
      "\u001b[36m\u001b[1m[ \u001b[22m\u001b[39m\u001b[36m\u001b[1mInfo: \u001b[22m\u001b[39m2023-11-03T04:31:20.905\titeration: 93\tcurrent optimum: 0.03560562827826223\n"
     ]
    },
    {
     "name": "stdout",
     "output_type": "stream",
     "text": [
      "s1 = 4.00; s3 = 3.00; s4 = 6.50; Δ1 = 0.50 Γ; Δ3 = Δ1; Δ4 = -10.00 Γ\n",
      "Survival: 3 / 20\n",
      "goodness = 0.005\n"
     ]
    },
    {
     "name": "stderr",
     "output_type": "stream",
     "text": [
      "\u001b[32mProgress: 100%|█████████████████████████████████████████| Time: 0:01:43\u001b[39m\n",
      "\u001b[36m\u001b[1m[ \u001b[22m\u001b[39m\u001b[36m\u001b[1mInfo: \u001b[22m\u001b[39m2023-11-03T04:33:04.112\titeration: 94\tcurrent optimum: 0.03560562827826223\n"
     ]
    },
    {
     "name": "stdout",
     "output_type": "stream",
     "text": [
      "s1 = 4.00; s3 = 8.00; s4 = 0.50; Δ1 = 0.50 Γ; Δ3 = Δ1; Δ4 = -4.00 Γ\n",
      "Survival: 8 / 20\n",
      "goodness = 0.004\n"
     ]
    },
    {
     "name": "stderr",
     "output_type": "stream",
     "text": [
      "\u001b[32mProgress: 100%|█████████████████████████████████████████| Time: 0:00:25\u001b[39m\n",
      "\u001b[36m\u001b[1m[ \u001b[22m\u001b[39m\u001b[36m\u001b[1mInfo: \u001b[22m\u001b[39m2023-11-03T04:33:29.353\titeration: 95\tcurrent optimum: 0.03560562827826223\n"
     ]
    },
    {
     "name": "stdout",
     "output_type": "stream",
     "text": [
      "s1 = 4.00; s3 = 3.00; s4 = 6.50; Δ1 = 4.00 Γ; Δ3 = Δ1; Δ4 = -4.00 Γ\n",
      "Survival: 0 / 20\n",
      "goodness = 0.000\n"
     ]
    },
    {
     "name": "stderr",
     "output_type": "stream",
     "text": [
      "\u001b[32mProgress: 100%|█████████████████████████████████████████| Time: 0:01:44\u001b[39m\n",
      "\u001b[36m\u001b[1m[ \u001b[22m\u001b[39m\u001b[36m\u001b[1mInfo: \u001b[22m\u001b[39m2023-11-03T04:35:14.139\titeration: 96\tcurrent optimum: 0.03560562827826223\n"
     ]
    },
    {
     "name": "stdout",
     "output_type": "stream",
     "text": [
      "s1 = 4.00; s3 = 3.00; s4 = 0.50; Δ1 = 4.00 Γ; Δ3 = Δ1; Δ4 = -10.00 Γ\n",
      "Survival: 5 / 20\n",
      "goodness = 0.010\n"
     ]
    },
    {
     "name": "stderr",
     "output_type": "stream",
     "text": [
      "\u001b[32mProgress: 100%|█████████████████████████████████████████| Time: 0:01:22\u001b[39m\n",
      "\u001b[36m\u001b[1m[ \u001b[22m\u001b[39m\u001b[36m\u001b[1mInfo: \u001b[22m\u001b[39m2023-11-03T04:36:36.726\titeration: 97\tcurrent optimum: 0.03560562827826223\n"
     ]
    },
    {
     "name": "stdout",
     "output_type": "stream",
     "text": [
      "s1 = 0.50; s3 = 8.00; s4 = 0.50; Δ1 = 0.50 Γ; Δ3 = Δ1; Δ4 = -10.00 Γ\n",
      "Survival: 2 / 20\n",
      "goodness = 0.001\n"
     ]
    },
    {
     "name": "stderr",
     "output_type": "stream",
     "text": [
      "\u001b[32mProgress: 100%|█████████████████████████████████████████| Time: 0:00:55\u001b[39m\n"
     ]
    },
    {
     "name": "stdout",
     "output_type": "stream",
     "text": [
      "s1 = 0.50; s3 = 3.00; s4 = 6.50; Δ1 = 0.50 Γ; Δ3 = Δ1; Δ4 = -4.00 Γ\n",
      "Survival: 1 / 20\n",
      "goodness = 0.001\n"
     ]
    },
    {
     "name": "stderr",
     "output_type": "stream",
     "text": [
      "\u001b[36m\u001b[1m[ \u001b[22m\u001b[39m\u001b[36m\u001b[1mInfo: \u001b[22m\u001b[39m2023-11-03T04:37:32.720\titeration: 98\tcurrent optimum: 0.03560562827826223\n",
      "\u001b[32mProgress: 100%|█████████████████████████████████████████| Time: 0:01:12\u001b[39m\n",
      "\u001b[36m\u001b[1m[ \u001b[22m\u001b[39m\u001b[36m\u001b[1mInfo: \u001b[22m\u001b[39m2023-11-03T04:38:45.028\titeration: 99\tcurrent optimum: 0.03560562827826223\n"
     ]
    },
    {
     "name": "stdout",
     "output_type": "stream",
     "text": [
      "s1 = 0.50; s3 = 8.00; s4 = 6.50; Δ1 = 4.00 Γ; Δ3 = Δ1; Δ4 = -10.00 Γ\n",
      "Survival: 0 / 20\n",
      "goodness = 0.000\n"
     ]
    },
    {
     "name": "stderr",
     "output_type": "stream",
     "text": [
      "\u001b[32mProgress: 100%|█████████████████████████████████████████| Time: 0:00:40\u001b[39m"
     ]
    },
    {
     "name": "stdout",
     "output_type": "stream",
     "text": [
      "s1 = 0.50; s3 = 3.00; s4 = 0.50; Δ1 = 4.00 Γ; Δ3 = Δ1; Δ4 = -4.00 Γ\n",
      "Survival: 0 / 20\n",
      "goodness = 0.000\n"
     ]
    },
    {
     "name": "stderr",
     "output_type": "stream",
     "text": [
      "\n",
      "\u001b[36m\u001b[1m┌ \u001b[22m\u001b[39m\u001b[36m\u001b[1mInfo: \u001b[22m\u001b[39m ────────────────────────────────────────────────────────────────────────────────\n",
      "\u001b[36m\u001b[1m│ \u001b[22m\u001b[39m                                        Time                    Allocations      \n",
      "\u001b[36m\u001b[1m│ \u001b[22m\u001b[39m                               ───────────────────────   ────────────────────────\n",
      "\u001b[36m\u001b[1m│ \u001b[22m\u001b[39m       Tot / % measured:            3595s / 100.0%            807MiB /  99.9%    \n",
      "\u001b[36m\u001b[1m│ \u001b[22m\u001b[39m\n",
      "\u001b[36m\u001b[1m│ \u001b[22m\u001b[39m Section               ncalls     time    %tot     avg     alloc    %tot      avg\n",
      "\u001b[36m\u001b[1m│ \u001b[22m\u001b[39m ────────────────────────────────────────────────────────────────────────────────\n",
      "\u001b[36m\u001b[1m│ \u001b[22m\u001b[39m function evaluation       50    3595s  100.0%   71.9s    601MiB   74.5%  12.0MiB\n",
      "\u001b[36m\u001b[1m│ \u001b[22m\u001b[39m model hyperparamet...     50    261ms    0.0%  5.22ms   14.3MiB    1.8%   293KiB\n",
      "\u001b[36m\u001b[1m│ \u001b[22m\u001b[39m acquisition               51    243ms    0.0%  4.76ms    191MiB   23.6%  3.74MiB\n",
      "\u001b[36m\u001b[1m│ \u001b[22m\u001b[39m model update              50   3.35ms    0.0%  67.0μs    434KiB    0.1%  8.67KiB\n",
      "\u001b[36m\u001b[1m└ \u001b[22m\u001b[39m ────────────────────────────────────────────────────────────────────────────────\n",
      "\u001b[36m\u001b[1m[ \u001b[22m\u001b[39m\u001b[36m\u001b[1mInfo: \u001b[22m\u001b[39m2023-11-03T04:39:26.105\titeration: 100\tcurrent optimum: 0.03560562827826223\n"
     ]
    },
    {
     "name": "stdout",
     "output_type": "stream",
     "text": [
      "===== Autosaved =====\n"
     ]
    },
    {
     "name": "stderr",
     "output_type": "stream",
     "text": [
      "\u001b[32mProgress: 100%|█████████████████████████████████████████| Time: 0:02:03\u001b[39m\n",
      "\u001b[36m\u001b[1m[ \u001b[22m\u001b[39m\u001b[36m\u001b[1mInfo: \u001b[22m\u001b[39m2023-11-03T04:41:30.007\titeration: 101\tcurrent optimum: 0.03560562827826223\n"
     ]
    },
    {
     "name": "stdout",
     "output_type": "stream",
     "text": [
      "s1 = 4.00; s3 = 8.00; s4 = 6.50; Δ1 = 0.50 Γ; Δ3 = Δ1; Δ4 = -10.00 Γ\n",
      "Survival: 12 / 20\n",
      "goodness = 0.005\n"
     ]
    },
    {
     "name": "stderr",
     "output_type": "stream",
     "text": [
      "\u001b[32mProgress: 100%|█████████████████████████████████████████| Time: 0:01:25\u001b[39m\n",
      "\u001b[36m\u001b[1m[ \u001b[22m\u001b[39m\u001b[36m\u001b[1mInfo: \u001b[22m\u001b[39m2023-11-03T04:42:55.191\titeration: 102\tcurrent optimum: 0.03560562827826223\n"
     ]
    },
    {
     "name": "stdout",
     "output_type": "stream",
     "text": [
      "s1 = 4.00; s3 = 3.00; s4 = 0.50; Δ1 = 0.50 Γ; Δ3 = Δ1; Δ4 = -10.00 Γ\n",
      "Survival: 5 / 20\n",
      "goodness = 0.012\n"
     ]
    },
    {
     "name": "stderr",
     "output_type": "stream",
     "text": [
      "\u001b[32mProgress: 100%|█████████████████████████████████████████| Time: 0:01:10\u001b[39m\n"
     ]
    },
    {
     "name": "stdout",
     "output_type": "stream",
     "text": [
      "s1 = 4.00; s3 = 8.00; s4 = 0.50; Δ1 = 4.00 Γ; Δ3 = Δ1; Δ4 = -4.00 Γ\n",
      "Survival: 4 / 20\n",
      "goodness = 0.001"
     ]
    },
    {
     "name": "stderr",
     "output_type": "stream",
     "text": [
      "\u001b[36m\u001b[1m[ \u001b[22m\u001b[39m\u001b[36m\u001b[1mInfo: \u001b[22m\u001b[39m2023-11-03T04:44:05.769\titeration: 103\tcurrent optimum: 0.03560562827826223\n"
     ]
    },
    {
     "name": "stdout",
     "output_type": "stream",
     "text": [
      "\n"
     ]
    },
    {
     "name": "stderr",
     "output_type": "stream",
     "text": [
      "\u001b[32mProgress: 100%|█████████████████████████████████████████| Time: 0:01:42\u001b[39m\n"
     ]
    },
    {
     "name": "stdout",
     "output_type": "stream",
     "text": [
      "s1 = 0.50; s3 = 8.00; s4 = 6.50; Δ1 = 0.50 Γ; Δ3 = Δ1; Δ4 = -4.00 Γ\n",
      "Survival: 3 / 20\n",
      "goodness = 0.001\n"
     ]
    },
    {
     "name": "stderr",
     "output_type": "stream",
     "text": [
      "\u001b[36m\u001b[1m[ \u001b[22m\u001b[39m\u001b[36m\u001b[1mInfo: \u001b[22m\u001b[39m2023-11-03T04:45:48.291\titeration: 104\tcurrent optimum: 0.03560562827826223\n",
      "\u001b[32mProgress: 100%|█████████████████████████████████████████| Time: 0:01:44\u001b[39m\n",
      "\u001b[36m\u001b[1m[ \u001b[22m\u001b[39m\u001b[36m\u001b[1mInfo: \u001b[22m\u001b[39m2023-11-03T04:47:32.341\titeration: 105\tcurrent optimum: 0.03560562827826223\n"
     ]
    },
    {
     "name": "stdout",
     "output_type": "stream",
     "text": [
      "s1 = 4.00; s3 = 3.00; s4 = 6.50; Δ1 = 4.00 Γ; Δ3 = Δ1; Δ4 = -10.00 Γ\n",
      "Survival: 3 / 20\n",
      "goodness = 0.016\n"
     ]
    },
    {
     "name": "stderr",
     "output_type": "stream",
     "text": [
      "\u001b[32mProgress: 100%|█████████████████████████████████████████| Time: 0:02:02\u001b[39m\n",
      "\u001b[36m\u001b[1m[ \u001b[22m\u001b[39m\u001b[36m\u001b[1mInfo: \u001b[22m\u001b[39m2023-11-03T04:49:34.840\titeration: 106\tcurrent optimum: 0.03560562827826223\n"
     ]
    },
    {
     "name": "stdout",
     "output_type": "stream",
     "text": [
      "s1 = 4.00; s3 = 3.00; s4 = 0.50; Δ1 = 4.00 Γ; Δ3 = Δ1; Δ4 = -10.00 Γ\n",
      "Survival: 11 / 20\n",
      "goodness = 0.013\n"
     ]
    },
    {
     "name": "stderr",
     "output_type": "stream",
     "text": [
      "\u001b[32mProgress: 100%|█████████████████████████████████████████| Time: 0:00:44\u001b[39m\n",
      "\u001b[36m\u001b[1m[ \u001b[22m\u001b[39m\u001b[36m\u001b[1mInfo: \u001b[22m\u001b[39m2023-11-03T04:50:19.278\titeration: 107\tcurrent optimum: 0.03560562827826223\n"
     ]
    },
    {
     "name": "stdout",
     "output_type": "stream",
     "text": [
      "s1 = 4.00; s3 = 3.00; s4 = 0.50; Δ1 = 0.50 Γ; Δ3 = Δ1; Δ4 = -4.00 Γ\n",
      "Survival: 0 / 20\n",
      "goodness = 0.000\n"
     ]
    },
    {
     "name": "stderr",
     "output_type": "stream",
     "text": [
      "\u001b[32mProgress: 100%|█████████████████████████████████████████| Time: 0:00:41\u001b[39m\n"
     ]
    },
    {
     "name": "stdout",
     "output_type": "stream",
     "text": [
      "s1 = 0.50; s3 = 8.00; s4 = 6.50; Δ1 = 4.00 Γ; Δ3 = Δ1; Δ4 = -10.00 Γ\n",
      "Survival: 0 / 20\n",
      "goodness = 0.000\n"
     ]
    },
    {
     "name": "stderr",
     "output_type": "stream",
     "text": [
      "\u001b[36m\u001b[1m[ \u001b[22m\u001b[39m\u001b[36m\u001b[1mInfo: \u001b[22m\u001b[39m2023-11-03T04:51:00.897\titeration: 108\tcurrent optimum: 0.03560562827826223\n",
      "\u001b[32mProgress: 100%|█████████████████████████████████████████| Time: 0:02:04\u001b[39m\n",
      "\u001b[36m\u001b[1m[ \u001b[22m\u001b[39m\u001b[36m\u001b[1mInfo: \u001b[22m\u001b[39m2023-11-03T04:53:05.578\titeration: 109\tcurrent optimum: 0.03560562827826223\n"
     ]
    },
    {
     "name": "stdout",
     "output_type": "stream",
     "text": [
      "s1 = 4.00; s3 = 3.00; s4 = 0.50; Δ1 = 4.00 Γ; Δ3 = Δ1; Δ4 = -10.00 Γ\n",
      "Survival: 12 / 20\n",
      "goodness = 0.034\n"
     ]
    },
    {
     "name": "stderr",
     "output_type": "stream",
     "text": [
      "\u001b[32mProgress: 100%|█████████████████████████████████████████| Time: 0:00:47\u001b[39m\n",
      "\u001b[36m\u001b[1m[ \u001b[22m\u001b[39m\u001b[36m\u001b[1mInfo: \u001b[22m\u001b[39m2023-11-03T04:53:52.943\titeration: 110\tcurrent optimum: 0.03560562827826223\n"
     ]
    },
    {
     "name": "stdout",
     "output_type": "stream",
     "text": [
      "s1 = 4.00; s3 = 3.00; s4 = 0.50; Δ1 = 0.50 Γ; Δ3 = Δ1; Δ4 = -10.00 Γ\n",
      "Survival: 4 / 20\n",
      "goodness = 0.007\n"
     ]
    },
    {
     "name": "stderr",
     "output_type": "stream",
     "text": [
      "\u001b[32mProgress: 100%|█████████████████████████████████████████| Time: 0:00:21\u001b[39m\n",
      "\u001b[36m\u001b[1m[ \u001b[22m\u001b[39m\u001b[36m\u001b[1mInfo: \u001b[22m\u001b[39m2023-11-03T04:54:14.528\titeration: 111\tcurrent optimum: 0.03560562827826223\n"
     ]
    },
    {
     "name": "stdout",
     "output_type": "stream",
     "text": [
      "s1 = 0.50; s3 = 8.00; s4 = 6.50; Δ1 = 4.00 Γ; Δ3 = Δ1; Δ4 = -4.00 Γ\n",
      "Survival: 0 / 20\n",
      "goodness = 0.000\n"
     ]
    },
    {
     "name": "stderr",
     "output_type": "stream",
     "text": [
      "\u001b[32mProgress: 100%|█████████████████████████████████████████| Time: 0:00:48\u001b[39m\n",
      "\u001b[36m\u001b[1m[ \u001b[22m\u001b[39m\u001b[36m\u001b[1mInfo: \u001b[22m\u001b[39m2023-11-03T04:55:02.755\titeration: 112\tcurrent optimum: 0.03560562827826223\n"
     ]
    },
    {
     "name": "stdout",
     "output_type": "stream",
     "text": [
      "s1 = 0.50; s3 = 3.00; s4 = 0.50; Δ1 = 4.00 Γ; Δ3 = Δ1; Δ4 = -4.00 Γ\n",
      "Survival: 0 / 20\n",
      "goodness = 0.000\n"
     ]
    },
    {
     "name": "stderr",
     "output_type": "stream",
     "text": [
      "\u001b[32mProgress: 100%|█████████████████████████████████████████| Time: 0:01:32\u001b[39m\n",
      "\u001b[36m\u001b[1m[ \u001b[22m\u001b[39m\u001b[36m\u001b[1mInfo: \u001b[22m\u001b[39m2023-11-03T04:56:35.286\titeration: 113\tcurrent optimum: 0.03560562827826223\n"
     ]
    },
    {
     "name": "stdout",
     "output_type": "stream",
     "text": [
      "s1 = 4.00; s3 = 8.00; s4 = 0.50; Δ1 = 0.50 Γ; Δ3 = Δ1; Δ4 = -10.00 Γ\n",
      "Survival: 5 / 20\n",
      "goodness = 0.003\n"
     ]
    },
    {
     "name": "stderr",
     "output_type": "stream",
     "text": [
      "\u001b[32mProgress: 100%|█████████████████████████████████████████| Time: 0:01:21\u001b[39m\n",
      "\u001b[36m\u001b[1m[ \u001b[22m\u001b[39m\u001b[36m\u001b[1mInfo: \u001b[22m\u001b[39m2023-11-03T04:57:56.461\titeration: 114\tcurrent optimum: 0.03560562827826223\n"
     ]
    },
    {
     "name": "stdout",
     "output_type": "stream",
     "text": [
      "s1 = 4.00; s3 = 8.00; s4 = 6.50; Δ1 = 4.00 Γ; Δ3 = Δ1; Δ4 = -10.00 Γ\n",
      "Survival: 2 / 20\n",
      "goodness = 0.002\n"
     ]
    },
    {
     "name": "stderr",
     "output_type": "stream",
     "text": [
      "\u001b[32mProgress: 100%|█████████████████████████████████████████| Time: 0:00:58\u001b[39m\n",
      "\u001b[36m\u001b[1m[ \u001b[22m\u001b[39m\u001b[36m\u001b[1mInfo: \u001b[22m\u001b[39m2023-11-03T04:58:55.144\titeration: 115\tcurrent optimum: 0.03560562827826223\n"
     ]
    },
    {
     "name": "stdout",
     "output_type": "stream",
     "text": [
      "s1 = 0.50; s3 = 3.00; s4 = 6.50; Δ1 = 0.50 Γ; Δ3 = Δ1; Δ4 = -4.00 Γ\n",
      "Survival: 1 / 20\n",
      "goodness = 0.001\n"
     ]
    },
    {
     "name": "stderr",
     "output_type": "stream",
     "text": [
      "\u001b[32mProgress: 100%|█████████████████████████████████████████| Time: 0:00:57\u001b[39m\n",
      "\u001b[36m\u001b[1m[ \u001b[22m\u001b[39m\u001b[36m\u001b[1mInfo: \u001b[22m\u001b[39m2023-11-03T04:59:52.567\titeration: 116\tcurrent optimum: 0.03560562827826223\n"
     ]
    },
    {
     "name": "stdout",
     "output_type": "stream",
     "text": [
      "s1 = 4.00; s3 = 3.00; s4 = 0.50; Δ1 = 0.50 Γ; Δ3 = Δ1; Δ4 = -10.00 Γ\n",
      "Survival: 6 / 20\n",
      "goodness = 0.018\n"
     ]
    },
    {
     "name": "stderr",
     "output_type": "stream",
     "text": [
      "\u001b[32mProgress: 100%|█████████████████████████████████████████| Time: 0:00:44\u001b[39m\n",
      "\u001b[36m\u001b[1m[ \u001b[22m\u001b[39m\u001b[36m\u001b[1mInfo: \u001b[22m\u001b[39m2023-11-03T05:00:36.761\titeration: 117\tcurrent optimum: 0.03560562827826223\n"
     ]
    },
    {
     "name": "stdout",
     "output_type": "stream",
     "text": [
      "s1 = 0.50; s3 = 3.00; s4 = 0.50; Δ1 = 4.00 Γ; Δ3 = Δ1; Δ4 = -4.00 Γ\n",
      "Survival: 0 / 20\n",
      "goodness = 0.000\n"
     ]
    },
    {
     "name": "stderr",
     "output_type": "stream",
     "text": [
      "\u001b[32mProgress: 100%|█████████████████████████████████████████| Time: 0:01:55\u001b[39m\n",
      "\u001b[36m\u001b[1m[ \u001b[22m\u001b[39m\u001b[36m\u001b[1mInfo: \u001b[22m\u001b[39m2023-11-03T05:02:32.377\titeration: 118\tcurrent optimum: 0.03560562827826223\n"
     ]
    },
    {
     "name": "stdout",
     "output_type": "stream",
     "text": [
      "s1 = 4.00; s3 = 8.00; s4 = 6.50; Δ1 = 0.50 Γ; Δ3 = Δ1; Δ4 = -10.00 Γ\n",
      "Survival: 9 / 20\n",
      "goodness = 0.004\n"
     ]
    },
    {
     "name": "stderr",
     "output_type": "stream",
     "text": [
      "\u001b[32mProgress: 100%|█████████████████████████████████████████| Time: 0:02:07\u001b[39m\n",
      "\u001b[36m\u001b[1m[ \u001b[22m\u001b[39m\u001b[36m\u001b[1mInfo: \u001b[22m\u001b[39m2023-11-03T05:04:40.294\titeration: 119\tcurrent optimum: 0.03560562827826223\n"
     ]
    },
    {
     "name": "stdout",
     "output_type": "stream",
     "text": [
      "s1 = 4.00; s3 = 3.00; s4 = 0.50; Δ1 = 4.00 Γ; Δ3 = Δ1; Δ4 = -10.00 Γ\n",
      "Survival: 9 / 20\n",
      "goodness = 0.009\n"
     ]
    },
    {
     "name": "stderr",
     "output_type": "stream",
     "text": [
      "\u001b[32mProgress: 100%|█████████████████████████████████████████| Time: 0:02:26\u001b[39m\n",
      "\u001b[36m\u001b[1m[ \u001b[22m\u001b[39m\u001b[36m\u001b[1mInfo: \u001b[22m\u001b[39m2023-11-03T05:07:06.434\titeration: 120\tcurrent optimum: 0.03560562827826223\n"
     ]
    },
    {
     "name": "stdout",
     "output_type": "stream",
     "text": [
      "s1 = 4.00; s3 = 8.00; s4 = 6.50; Δ1 = 0.50 Γ; Δ3 = Δ1; Δ4 = -4.00 Γ\n",
      "Survival: 11 / 20\n",
      "goodness = 0.002\n"
     ]
    },
    {
     "name": "stderr",
     "output_type": "stream",
     "text": [
      "\u001b[32mProgress: 100%|█████████████████████████████████████████| Time: 0:00:31\u001b[39m\n"
     ]
    },
    {
     "name": "stdout",
     "output_type": "stream",
     "text": [
      "s1 = 0.50; s3 = 3.00; s4 = 0.50; Δ1 = 4.00 Γ; Δ3 = Δ1; Δ4 = -4.00 Γ"
     ]
    },
    {
     "name": "stderr",
     "output_type": "stream",
     "text": [
      "\u001b[36m\u001b[1m[ \u001b[22m\u001b[39m\u001b[36m\u001b[1mInfo: \u001b[22m\u001b[39m2023-11-03T05:07:38.446\titeration: 121\tcurrent optimum: 0.03560562827826223\n"
     ]
    },
    {
     "name": "stdout",
     "output_type": "stream",
     "text": [
      "\n",
      "Survival: 0 / 20\n",
      "goodness = 0.000\n"
     ]
    },
    {
     "name": "stderr",
     "output_type": "stream",
     "text": [
      "\u001b[32mProgress: 100%|█████████████████████████████████████████| Time: 0:00:59\u001b[39m\n",
      "\u001b[36m\u001b[1m[ \u001b[22m\u001b[39m\u001b[36m\u001b[1mInfo: \u001b[22m\u001b[39m2023-11-03T05:08:37.806\titeration: 122\tcurrent optimum: 0.03560562827826223\n"
     ]
    },
    {
     "name": "stdout",
     "output_type": "stream",
     "text": [
      "s1 = 0.50; s3 = 3.00; s4 = 6.50; Δ1 = 4.00 Γ; Δ3 = Δ1; Δ4 = -10.00 Γ\n",
      "Survival: 0 / 20\n",
      "goodness = 0.000\n"
     ]
    },
    {
     "name": "stderr",
     "output_type": "stream",
     "text": [
      "\u001b[32mProgress: 100%|█████████████████████████████████████████| Time: 0:02:10\u001b[39m\n",
      "\u001b[36m\u001b[1m[ \u001b[22m\u001b[39m\u001b[36m\u001b[1mInfo: \u001b[22m\u001b[39m2023-11-03T05:10:48.296\titeration: 123\tcurrent optimum: 0.03560562827826223\n"
     ]
    },
    {
     "name": "stdout",
     "output_type": "stream",
     "text": [
      "s1 = 4.00; s3 = 8.00; s4 = 0.50; Δ1 = 0.50 Γ; Δ3 = Δ1; Δ4 = -4.00 Γ\n",
      "Survival: 13 / 20\n",
      "goodness = 0.008\n"
     ]
    },
    {
     "name": "stderr",
     "output_type": "stream",
     "text": [
      "\u001b[32mProgress: 100%|█████████████████████████████████████████| Time: 0:01:00\u001b[39m\n",
      "\u001b[36m\u001b[1m[ \u001b[22m\u001b[39m\u001b[36m\u001b[1mInfo: \u001b[22m\u001b[39m2023-11-03T05:11:49.395\titeration: 124\tcurrent optimum: 0.03560562827826223\n"
     ]
    },
    {
     "name": "stdout",
     "output_type": "stream",
     "text": [
      "s1 = 0.50; s3 = 8.00; s4 = 0.50; Δ1 = 0.50 Γ; Δ3 = Δ1; Δ4 = -10.00 Γ\n",
      "Survival: 0 / 20\n",
      "goodness = 0.000\n"
     ]
    },
    {
     "name": "stderr",
     "output_type": "stream",
     "text": [
      "\u001b[32mProgress: 100%|█████████████████████████████████████████| Time: 0:01:37\u001b[39m\n",
      "\u001b[36m\u001b[1m[ \u001b[22m\u001b[39m\u001b[36m\u001b[1mInfo: \u001b[22m\u001b[39m2023-11-03T05:13:26.822\titeration: 125\tcurrent optimum: 0.03560562827826223\n"
     ]
    },
    {
     "name": "stdout",
     "output_type": "stream",
     "text": [
      "s1 = 4.00; s3 = 3.00; s4 = 6.50; Δ1 = 0.50 Γ; Δ3 = Δ1; Δ4 = -4.00 Γ\n",
      "Survival: 9 / 20\n",
      "goodness = 0.005\n"
     ]
    },
    {
     "name": "stderr",
     "output_type": "stream",
     "text": [
      "\u001b[32mProgress: 100%|█████████████████████████████████████████| Time: 0:00:50\u001b[39m\n"
     ]
    },
    {
     "name": "stdout",
     "output_type": "stream",
     "text": [
      "s1 = 0.50; s3 = 8.00; s4 = 6.50; Δ1 = 4.00 Γ; Δ3 = Δ1; Δ4 = -10.00 Γ\n",
      "Survival: 0 / 20\n",
      "goodness = 0.000"
     ]
    },
    {
     "name": "stderr",
     "output_type": "stream",
     "text": [
      "\u001b[36m\u001b[1m[ \u001b[22m\u001b[39m\u001b[36m\u001b[1mInfo: \u001b[22m\u001b[39m2023-11-03T05:14:17.573\titeration: 126\tcurrent optimum: 0.03560562827826223\n"
     ]
    },
    {
     "name": "stdout",
     "output_type": "stream",
     "text": [
      "\n"
     ]
    },
    {
     "name": "stderr",
     "output_type": "stream",
     "text": [
      "\u001b[32mProgress: 100%|█████████████████████████████████████████| Time: 0:01:16\u001b[39m\n",
      "\u001b[36m\u001b[1m[ \u001b[22m\u001b[39m\u001b[36m\u001b[1mInfo: \u001b[22m\u001b[39m2023-11-03T05:15:34.157\titeration: 127\tcurrent optimum: 0.03560562827826223\n"
     ]
    },
    {
     "name": "stdout",
     "output_type": "stream",
     "text": [
      "s1 = 4.00; s3 = 3.00; s4 = 0.50; Δ1 = 4.00 Γ; Δ3 = Δ1; Δ4 = -4.00 Γ\n",
      "Survival: 6 / 20\n",
      "goodness = 0.026\n"
     ]
    },
    {
     "name": "stderr",
     "output_type": "stream",
     "text": [
      "\u001b[32mProgress: 100%|█████████████████████████████████████████| Time: 0:01:26\u001b[39m\n"
     ]
    },
    {
     "name": "stdout",
     "output_type": "stream",
     "text": [
      "s1 = 0.50; s3 = 3.00; s4 = 0.50; Δ1 = 0.50 Γ; Δ3 = Δ1; Δ4 = -10.00 Γ\n",
      "Survival: 2 / 20\n",
      "goodness = 0.008\n"
     ]
    },
    {
     "name": "stderr",
     "output_type": "stream",
     "text": [
      "\u001b[36m\u001b[1m[ \u001b[22m\u001b[39m\u001b[36m\u001b[1mInfo: \u001b[22m\u001b[39m2023-11-03T05:17:01.023\titeration: 128\tcurrent optimum: 0.03560562827826223\n",
      "\u001b[32mProgress: 100%|█████████████████████████████████████████| Time: 0:01:57\u001b[39m\n",
      "\u001b[36m\u001b[1m[ \u001b[22m\u001b[39m\u001b[36m\u001b[1mInfo: \u001b[22m\u001b[39m2023-11-03T05:18:58.623\titeration: 129\tcurrent optimum: 0.03560562827826223\n"
     ]
    },
    {
     "name": "stdout",
     "output_type": "stream",
     "text": [
      "s1 = 4.00; s3 = 8.00; s4 = 0.50; Δ1 = 0.50 Γ; Δ3 = Δ1; Δ4 = -4.00 Γ\n",
      "Survival: 8 / 20\n",
      "goodness = 0.004\n"
     ]
    },
    {
     "name": "stderr",
     "output_type": "stream",
     "text": [
      "\u001b[32mProgress: 100%|█████████████████████████████████████████| Time: 0:00:26\u001b[39m\n",
      "\u001b[36m\u001b[1m[ \u001b[22m\u001b[39m\u001b[36m\u001b[1mInfo: \u001b[22m\u001b[39m2023-11-03T05:19:24.899\titeration: 130\tcurrent optimum: 0.03560562827826223\n"
     ]
    },
    {
     "name": "stdout",
     "output_type": "stream",
     "text": [
      "s1 = 4.00; s3 = 3.00; s4 = 6.50; Δ1 = 4.00 Γ; Δ3 = Δ1; Δ4 = -4.00 Γ\n",
      "Survival: 0 / 20\n",
      "goodness = 0.000\n"
     ]
    },
    {
     "name": "stderr",
     "output_type": "stream",
     "text": [
      "\u001b[32mProgress:  95%|███████████████████████████████████████  |  ETA: 0:00:05\u001b[39m\r"
     ]
    },
    {
     "name": "stdout",
     "output_type": "stream",
     "text": [
      "s1 = 4.00; s3 = 3.00; s4 = 6.50; Δ1 = 0.50 Γ; Δ3 = Δ1; Δ4 = -10.00 Γ\n",
      "Survival: 3 / 20\n",
      "goodness = 0.007"
     ]
    },
    {
     "name": "stderr",
     "output_type": "stream",
     "text": [
      "\u001b[32mProgress: 100%|█████████████████████████████████████████| Time: 0:01:36\u001b[39m\n",
      "\u001b[36m\u001b[1m[ \u001b[22m\u001b[39m\u001b[36m\u001b[1mInfo: \u001b[22m\u001b[39m2023-11-03T05:21:01.750\titeration: 131\tcurrent optimum: 0.03560562827826223\n"
     ]
    },
    {
     "name": "stdout",
     "output_type": "stream",
     "text": [
      "\n"
     ]
    },
    {
     "name": "stderr",
     "output_type": "stream",
     "text": [
      "\u001b[32mProgress: 100%|█████████████████████████████████████████| Time: 0:02:30\u001b[39m\n",
      "\u001b[36m\u001b[1m[ \u001b[22m\u001b[39m\u001b[36m\u001b[1mInfo: \u001b[22m\u001b[39m2023-11-03T05:23:32.173\titeration: 132\tcurrent optimum: 0.03560562827826223\n"
     ]
    },
    {
     "name": "stdout",
     "output_type": "stream",
     "text": [
      "s1 = 4.00; s3 = 8.00; s4 = 0.50; Δ1 = 4.00 Γ; Δ3 = Δ1; Δ4 = -10.00 Γ\n",
      "Survival: 3 / 20\n",
      "goodness = 0.000\n"
     ]
    },
    {
     "name": "stderr",
     "output_type": "stream",
     "text": [
      "\u001b[32mProgress: 100%|█████████████████████████████████████████| Time: 0:02:05\u001b[39m\n",
      "\u001b[36m\u001b[1m[ \u001b[22m\u001b[39m\u001b[36m\u001b[1mInfo: \u001b[22m\u001b[39m2023-11-03T05:25:37.749\titeration: 133\tcurrent optimum: 0.03560562827826223\n"
     ]
    },
    {
     "name": "stdout",
     "output_type": "stream",
     "text": [
      "s1 = 0.50; s3 = 8.00; s4 = 6.50; Δ1 = 0.50 Γ; Δ3 = Δ1; Δ4 = -4.00 Γ\n",
      "Survival: 4 / 20\n",
      "goodness = 0.000\n"
     ]
    },
    {
     "name": "stderr",
     "output_type": "stream",
     "text": [
      "\u001b[32mProgress: 100%|█████████████████████████████████████████| Time: 0:01:56\u001b[39m\n",
      "\u001b[36m\u001b[1m[ \u001b[22m\u001b[39m\u001b[36m\u001b[1mInfo: \u001b[22m\u001b[39m2023-11-03T05:27:34.607\titeration: 134\tcurrent optimum: 0.03560562827826223\n"
     ]
    },
    {
     "name": "stdout",
     "output_type": "stream",
     "text": [
      "s1 = 4.00; s3 = 3.00; s4 = 0.50; Δ1 = 4.00 Γ; Δ3 = Δ1; Δ4 = -10.00 Γ\n",
      "Survival: 12 / 20\n",
      "goodness = 0.034\n"
     ]
    },
    {
     "name": "stderr",
     "output_type": "stream",
     "text": [
      "\u001b[32mProgress: 100%|█████████████████████████████████████████| Time: 0:00:57\u001b[39m\n",
      "\u001b[36m\u001b[1m[ \u001b[22m\u001b[39m\u001b[36m\u001b[1mInfo: \u001b[22m\u001b[39m2023-11-03T05:28:31.955\titeration: 135\tcurrent optimum: 0.03560562827826223\n"
     ]
    },
    {
     "name": "stdout",
     "output_type": "stream",
     "text": [
      "s1 = 0.50; s3 = 3.00; s4 = 0.50; Δ1 = 0.50 Γ; Δ3 = Δ1; Δ4 = -10.00 Γ\n",
      "Survival: 3 / 20\n",
      "goodness = 0.010\n"
     ]
    },
    {
     "name": "stderr",
     "output_type": "stream",
     "text": [
      "\u001b[32mProgress: 100%|█████████████████████████████████████████| Time: 0:00:36\u001b[39m\n"
     ]
    },
    {
     "name": "stdout",
     "output_type": "stream",
     "text": [
      "s1 = 4.00; s3 = 3.00; s4 = 6.50; Δ1 = 4.00 Γ; Δ3 = Δ1; Δ4 = -4.00 Γ\n",
      "Survival: 0 / 20\n",
      "goodness = 0.000"
     ]
    },
    {
     "name": "stderr",
     "output_type": "stream",
     "text": [
      "\u001b[36m\u001b[1m[ \u001b[22m\u001b[39m\u001b[36m\u001b[1mInfo: \u001b[22m\u001b[39m2023-11-03T05:29:08.134\titeration: 136\tcurrent optimum: 0.03560562827826223\n"
     ]
    },
    {
     "name": "stdout",
     "output_type": "stream",
     "text": [
      "\n"
     ]
    },
    {
     "name": "stderr",
     "output_type": "stream",
     "text": [
      "\u001b[32mProgress: 100%|█████████████████████████████████████████| Time: 0:01:40\u001b[39m\n",
      "\u001b[36m\u001b[1m[ \u001b[22m\u001b[39m\u001b[36m\u001b[1mInfo: \u001b[22m\u001b[39m2023-11-03T05:30:49.138\titeration: 137\tcurrent optimum: 0.03560562827826223\n"
     ]
    },
    {
     "name": "stdout",
     "output_type": "stream",
     "text": [
      "s1 = 0.50; s3 = 8.00; s4 = 0.50; Δ1 = 0.50 Γ; Δ3 = Δ1; Δ4 = -10.00 Γ\n",
      "Survival: 2 / 20\n",
      "goodness = 0.000\n"
     ]
    },
    {
     "name": "stderr",
     "output_type": "stream",
     "text": [
      "\u001b[32mProgress: 100%|█████████████████████████████████████████| Time: 0:01:46\u001b[39m\n",
      "\u001b[36m\u001b[1m[ \u001b[22m\u001b[39m\u001b[36m\u001b[1mInfo: \u001b[22m\u001b[39m2023-11-03T05:32:35.365\titeration: 138\tcurrent optimum: 0.03560562827826223\n"
     ]
    },
    {
     "name": "stdout",
     "output_type": "stream",
     "text": [
      "s1 = 4.00; s3 = 3.00; s4 = 6.50; Δ1 = 4.00 Γ; Δ3 = Δ1; Δ4 = -10.00 Γ\n",
      "Survival: 6 / 20\n",
      "goodness = 0.025\n"
     ]
    },
    {
     "name": "stderr",
     "output_type": "stream",
     "text": [
      "\u001b[32mProgress: 100%|█████████████████████████████████████████| Time: 0:00:47\u001b[39m\n",
      "\u001b[36m\u001b[1m[ \u001b[22m\u001b[39m\u001b[36m\u001b[1mInfo: \u001b[22m\u001b[39m2023-11-03T05:33:22.824\titeration: 139\tcurrent optimum: 0.03560562827826223\n"
     ]
    },
    {
     "name": "stdout",
     "output_type": "stream",
     "text": [
      "s1 = 0.50; s3 = 3.00; s4 = 0.50; Δ1 = 4.00 Γ; Δ3 = Δ1; Δ4 = -4.00 Γ\n",
      "Survival: 0 / 20\n",
      "goodness = 0.000\n"
     ]
    },
    {
     "name": "stderr",
     "output_type": "stream",
     "text": [
      "\u001b[32mProgress: 100%|█████████████████████████████████████████| Time: 0:01:33\u001b[39m\n",
      "\u001b[36m\u001b[1m[ \u001b[22m\u001b[39m\u001b[36m\u001b[1mInfo: \u001b[22m\u001b[39m2023-11-03T05:34:56.219\titeration: 140\tcurrent optimum: 0.03560562827826223\n"
     ]
    },
    {
     "name": "stdout",
     "output_type": "stream",
     "text": [
      "s1 = 4.00; s3 = 8.00; s4 = 6.50; Δ1 = 4.00 Γ; Δ3 = Δ1; Δ4 = -10.00 Γ\n",
      "Survival: 4 / 20\n",
      "goodness = 0.000\n"
     ]
    },
    {
     "name": "stderr",
     "output_type": "stream",
     "text": [
      "\u001b[32mProgress: 100%|█████████████████████████████████████████| Time: 0:01:07\u001b[39m\n",
      "\u001b[36m\u001b[1m[ \u001b[22m\u001b[39m\u001b[36m\u001b[1mInfo: \u001b[22m\u001b[39m2023-11-03T05:36:03.736\titeration: 141\tcurrent optimum: 0.03560562827826223\n"
     ]
    },
    {
     "name": "stdout",
     "output_type": "stream",
     "text": [
      "s1 = 4.00; s3 = 3.00; s4 = 0.50; Δ1 = 4.00 Γ; Δ3 = Δ1; Δ4 = -4.00 Γ\n",
      "Survival: 6 / 20\n",
      "goodness = 0.030\n"
     ]
    },
    {
     "name": "stderr",
     "output_type": "stream",
     "text": [
      "\u001b[32mProgress: 100%|█████████████████████████████████████████| Time: 0:00:59\u001b[39m\n",
      "\u001b[36m\u001b[1m[ \u001b[22m\u001b[39m\u001b[36m\u001b[1mInfo: \u001b[22m\u001b[39m2023-11-03T05:37:03.709\titeration: 142\tcurrent optimum: 0.03560562827826223\n"
     ]
    },
    {
     "name": "stdout",
     "output_type": "stream",
     "text": [
      "s1 = 0.50; s3 = 8.00; s4 = 0.50; Δ1 = 4.00 Γ; Δ3 = Δ1; Δ4 = -4.00 Γ\n",
      "Survival: 0 / 20\n",
      "goodness = 0.000\n"
     ]
    },
    {
     "name": "stderr",
     "output_type": "stream",
     "text": [
      "\u001b[32mProgress: 100%|█████████████████████████████████████████| Time: 0:01:42\u001b[39m\n",
      "\u001b[36m\u001b[1m[ \u001b[22m\u001b[39m\u001b[36m\u001b[1mInfo: \u001b[22m\u001b[39m2023-11-03T05:38:46.771\titeration: 143\tcurrent optimum: 0.03560562827826223\n"
     ]
    },
    {
     "name": "stdout",
     "output_type": "stream",
     "text": [
      "s1 = 4.00; s3 = 3.00; s4 = 6.50; Δ1 = 0.50 Γ; Δ3 = Δ1; Δ4 = -10.00 Γ\n",
      "Survival: 2 / 20\n",
      "goodness = 0.004\n"
     ]
    },
    {
     "name": "stderr",
     "output_type": "stream",
     "text": [
      "\u001b[32mProgress: 100%|█████████████████████████████████████████| Time: 0:01:09\u001b[39m\n",
      "\u001b[36m\u001b[1m[ \u001b[22m\u001b[39m\u001b[36m\u001b[1mInfo: \u001b[22m\u001b[39m2023-11-03T05:39:55.842\titeration: 144\tcurrent optimum: 0.03560562827826223\n"
     ]
    },
    {
     "name": "stdout",
     "output_type": "stream",
     "text": [
      "s1 = 0.50; s3 = 3.00; s4 = 0.50; Δ1 = 4.00 Γ; Δ3 = Δ1; Δ4 = -10.00 Γ\n",
      "Survival: 0 / 20\n",
      "goodness = 0.000\n"
     ]
    },
    {
     "name": "stderr",
     "output_type": "stream",
     "text": [
      "\u001b[32mProgress: 100%|█████████████████████████████████████████| Time: 0:01:17\u001b[39m\n",
      "\u001b[36m\u001b[1m[ \u001b[22m\u001b[39m\u001b[36m\u001b[1mInfo: \u001b[22m\u001b[39m2023-11-03T05:41:13.800\titeration: 145\tcurrent optimum: 0.03560562827826223\n"
     ]
    },
    {
     "name": "stdout",
     "output_type": "stream",
     "text": [
      "s1 = 4.00; s3 = 3.00; s4 = 6.50; Δ1 = 0.50 Γ; Δ3 = Δ1; Δ4 = -4.00 Γ\n",
      "Survival: 5 / 20\n",
      "goodness = 0.004\n"
     ]
    },
    {
     "name": "stderr",
     "output_type": "stream",
     "text": [
      "\u001b[32mProgress: 100%|█████████████████████████████████████████| Time: 0:01:23\u001b[39m\n",
      "\u001b[36m\u001b[1m[ \u001b[22m\u001b[39m\u001b[36m\u001b[1mInfo: \u001b[22m\u001b[39m2023-11-03T05:42:36.871\titeration: 146\tcurrent optimum: 0.03560562827826223\n"
     ]
    },
    {
     "name": "stdout",
     "output_type": "stream",
     "text": [
      "s1 = 4.00; s3 = 8.00; s4 = 0.50; Δ1 = 0.50 Γ; Δ3 = Δ1; Δ4 = -4.00 Γ\n",
      "Survival: 9 / 20\n",
      "goodness = 0.007\n"
     ]
    },
    {
     "name": "stderr",
     "output_type": "stream",
     "text": [
      "\u001b[32mProgress: 100%|█████████████████████████████████████████| Time: 0:00:21\u001b[39m\n",
      "\u001b[36m\u001b[1m[ \u001b[22m\u001b[39m\u001b[36m\u001b[1mInfo: \u001b[22m\u001b[39m2023-11-03T05:42:58.844\titeration: 147\tcurrent optimum: 0.03560562827826223\n"
     ]
    },
    {
     "name": "stdout",
     "output_type": "stream",
     "text": [
      "s1 = 0.50; s3 = 8.00; s4 = 6.50; Δ1 = 4.00 Γ; Δ3 = Δ1; Δ4 = -4.00 Γ\n",
      "Survival: 0 / 20\n",
      "goodness = 0.000\n"
     ]
    },
    {
     "name": "stderr",
     "output_type": "stream",
     "text": [
      "\u001b[32mProgress: 100%|█████████████████████████████████████████| Time: 0:01:38\u001b[39m\n",
      "\u001b[36m\u001b[1m[ \u001b[22m\u001b[39m\u001b[36m\u001b[1mInfo: \u001b[22m\u001b[39m2023-11-03T05:44:37.794\titeration: 148\tcurrent optimum: 0.03560562827826223\n"
     ]
    },
    {
     "name": "stdout",
     "output_type": "stream",
     "text": [
      "s1 = 4.00; s3 = 3.00; s4 = 0.50; Δ1 = 0.50 Γ; Δ3 = Δ1; Δ4 = -10.00 Γ\n",
      "Survival: 2 / 20\n",
      "goodness = 0.004\n"
     ]
    },
    {
     "name": "stderr",
     "output_type": "stream",
     "text": [
      "\u001b[32mProgress: 100%|█████████████████████████████████████████| Time: 0:00:59\u001b[39m\n",
      "\u001b[36m\u001b[1m[ \u001b[22m\u001b[39m\u001b[36m\u001b[1mInfo: \u001b[22m\u001b[39m2023-11-03T05:45:37.826\titeration: 149\tcurrent optimum: 0.03560562827826223\n"
     ]
    },
    {
     "name": "stdout",
     "output_type": "stream",
     "text": [
      "s1 = 0.50; s3 = 3.00; s4 = 6.50; Δ1 = 4.00 Γ; Δ3 = Δ1; Δ4 = -10.00 Γ\n",
      "Survival: 0 / 20\n",
      "goodness = 0.000\n"
     ]
    },
    {
     "name": "stderr",
     "output_type": "stream",
     "text": [
      "\u001b[32mProgress: 100%|█████████████████████████████████████████| Time: 0:01:14\u001b[39m\n"
     ]
    },
    {
     "name": "stdout",
     "output_type": "stream",
     "text": [
      "s1 = 4.00; s3 = 8.00; s4 = 0.50; Δ1 = 4.00 Γ; Δ3 = Δ1; Δ4 = -4.00 Γ\n",
      "Survival: 3 / 20\n",
      "goodness = 0.002\n"
     ]
    },
    {
     "name": "stderr",
     "output_type": "stream",
     "text": [
      "\u001b[36m\u001b[1m┌ \u001b[22m\u001b[39m\u001b[36m\u001b[1mInfo: \u001b[22m\u001b[39m ────────────────────────────────────────────────────────────────────────────────\n",
      "\u001b[36m\u001b[1m│ \u001b[22m\u001b[39m                                        Time                    Allocations      \n",
      "\u001b[36m\u001b[1m│ \u001b[22m\u001b[39m                               ───────────────────────   ────────────────────────\n",
      "\u001b[36m\u001b[1m│ \u001b[22m\u001b[39m       Tot / % measured:            1.12h / 100.0%            940MiB /  99.9%    \n",
      "\u001b[36m\u001b[1m│ \u001b[22m\u001b[39m\n",
      "\u001b[36m\u001b[1m│ \u001b[22m\u001b[39m Section               ncalls     time    %tot     avg     alloc    %tot      avg\n",
      "\u001b[36m\u001b[1m│ \u001b[22m\u001b[39m ────────────────────────────────────────────────────────────────────────────────\n",
      "\u001b[36m\u001b[1m│ \u001b[22m\u001b[39m function evaluation       50    1.12h  100.0%   80.9s    616MiB   65.5%  12.3MiB\n",
      "\u001b[36m\u001b[1m│ \u001b[22m\u001b[39m model hyperparamet...     50    627ms    0.0%  12.5ms   34.8MiB    3.7%   713KiB\n",
      "\u001b[36m\u001b[1m│ \u001b[22m\u001b[39m acquisition               51    268ms    0.0%  5.25ms    288MiB   30.7%  5.65MiB\n",
      "\u001b[36m\u001b[1m│ \u001b[22m\u001b[39m model update              50   4.68ms    0.0%  93.6μs    665KiB    0.1%  13.3KiB\n",
      "\u001b[36m\u001b[1m└ \u001b[22m\u001b[39m ────────────────────────────────────────────────────────────────────────────────\n",
      "\u001b[36m\u001b[1m[ \u001b[22m\u001b[39m\u001b[36m\u001b[1mInfo: \u001b[22m\u001b[39m2023-11-03T05:46:53.598\titeration: 150\tcurrent optimum: 0.03560562827826223\n"
     ]
    },
    {
     "name": "stdout",
     "output_type": "stream",
     "text": [
      "===== Autosaved =====\n"
     ]
    },
    {
     "name": "stderr",
     "output_type": "stream",
     "text": [
      "\u001b[32mProgress: 100%|█████████████████████████████████████████| Time: 0:02:07\u001b[39m\n",
      "\u001b[36m\u001b[1m[ \u001b[22m\u001b[39m\u001b[36m\u001b[1mInfo: \u001b[22m\u001b[39m2023-11-03T05:49:00.914\titeration: 151\tcurrent optimum: 0.03560562827826223\n"
     ]
    },
    {
     "name": "stdout",
     "output_type": "stream",
     "text": [
      "s1 = 4.00; s3 = 8.00; s4 = 6.50; Δ1 = 0.50 Γ; Δ3 = Δ1; Δ4 = -10.00 Γ\n",
      "Survival: 12 / 20\n",
      "goodness = 0.009\n"
     ]
    },
    {
     "name": "stderr",
     "output_type": "stream",
     "text": [
      "\u001b[32mProgress: 100%|█████████████████████████████████████████| Time: 0:01:03\u001b[39m\n",
      "\u001b[36m\u001b[1m[ \u001b[22m\u001b[39m\u001b[36m\u001b[1mInfo: \u001b[22m\u001b[39m2023-11-03T05:50:04.488\titeration: 152\tcurrent optimum: 0.03560562827826223\n"
     ]
    },
    {
     "name": "stdout",
     "output_type": "stream",
     "text": [
      "s1 = 0.50; s3 = 3.00; s4 = 0.50; Δ1 = 0.50 Γ; Δ3 = Δ1; Δ4 = -10.00 Γ\n",
      "Survival: 4 / 20\n",
      "goodness = 0.015\n"
     ]
    },
    {
     "name": "stderr",
     "output_type": "stream",
     "text": [
      "\u001b[32mProgress: 100%|█████████████████████████████████████████| Time: 0:01:44\u001b[39m\n",
      "\u001b[36m\u001b[1m[ \u001b[22m\u001b[39m\u001b[36m\u001b[1mInfo: \u001b[22m\u001b[39m2023-11-03T05:51:49.010\titeration: 153\tcurrent optimum: 0.03560562827826223\n"
     ]
    },
    {
     "name": "stdout",
     "output_type": "stream",
     "text": [
      "s1 = 4.00; s3 = 3.00; s4 = 0.50; Δ1 = 0.50 Γ; Δ3 = Δ1; Δ4 = -4.00 Γ\n",
      "Survival: 3 / 20\n",
      "goodness = 0.003\n"
     ]
    },
    {
     "name": "stderr",
     "output_type": "stream",
     "text": [
      "\u001b[32mProgress: 100%|█████████████████████████████████████████| Time: 0:01:33\u001b[39m\n"
     ]
    },
    {
     "name": "stdout",
     "output_type": "stream",
     "text": [
      "s1 = 0.50; s3 = 8.00; s4 = 6.50; Δ1 = 4.00 Γ; Δ3 = Δ1; Δ4 = -10.00 Γ\n",
      "Survival: 1 / 20\n",
      "goodness = 0.000"
     ]
    },
    {
     "name": "stderr",
     "output_type": "stream",
     "text": [
      "\u001b[36m\u001b[1m[ \u001b[22m\u001b[39m\u001b[36m\u001b[1mInfo: \u001b[22m\u001b[39m2023-11-03T05:53:22.849\titeration: 154\tcurrent optimum: 0.03560562827826223\n"
     ]
    },
    {
     "name": "stdout",
     "output_type": "stream",
     "text": [
      "\n"
     ]
    },
    {
     "name": "stderr",
     "output_type": "stream",
     "text": [
      "\u001b[32mProgress: 100%|█████████████████████████████████████████| Time: 0:01:24\u001b[39m\n"
     ]
    },
    {
     "name": "stdout",
     "output_type": "stream",
     "text": [
      "s1 = 0.50; s3 = 8.00; s4 = 0.50; Δ1 = 0.50 Γ; Δ3 = Δ1; Δ4 = -4.00 Γ\n",
      "Survival: 0 / 20\n",
      "goodness = 0.000\n"
     ]
    },
    {
     "name": "stderr",
     "output_type": "stream",
     "text": [
      "\u001b[36m\u001b[1m[ \u001b[22m\u001b[39m\u001b[36m\u001b[1mInfo: \u001b[22m\u001b[39m2023-11-03T05:54:47.527\titeration: 155\tcurrent optimum: 0.03560562827826223\n",
      "\u001b[32mProgress: 100%|█████████████████████████████████████████| Time: 0:00:45\u001b[39m\n",
      "\u001b[36m\u001b[1m[ \u001b[22m\u001b[39m\u001b[36m\u001b[1mInfo: \u001b[22m\u001b[39m2023-11-03T05:55:33.178\titeration: 156\tcurrent optimum: 0.03560562827826223\n"
     ]
    },
    {
     "name": "stdout",
     "output_type": "stream",
     "text": [
      "s1 = 0.50; s3 = 3.00; s4 = 6.50; Δ1 = 0.50 Γ; Δ3 = Δ1; Δ4 = -10.00 Γ\n",
      "Survival: 0 / 20\n",
      "goodness = 0.000\n"
     ]
    },
    {
     "name": "stderr",
     "output_type": "stream",
     "text": [
      "\u001b[32mProgress: 100%|█████████████████████████████████████████| Time: 0:00:34\u001b[39m\n"
     ]
    },
    {
     "name": "stdout",
     "output_type": "stream",
     "text": [
      "s1 = 4.00; s3 = 3.00; s4 = 6.50; Δ1 = 4.00 Γ; Δ3 = Δ1; Δ4 = -4.00 Γ\n",
      "Survival: 0 / 20\n",
      "goodness = 0.000"
     ]
    },
    {
     "name": "stderr",
     "output_type": "stream",
     "text": [
      "\u001b[36m\u001b[1m[ \u001b[22m\u001b[39m\u001b[36m\u001b[1mInfo: \u001b[22m\u001b[39m2023-11-03T05:56:08.234\titeration: 157\tcurrent optimum: 0.03560562827826223\n"
     ]
    },
    {
     "name": "stdout",
     "output_type": "stream",
     "text": [
      "\n"
     ]
    },
    {
     "name": "stderr",
     "output_type": "stream",
     "text": [
      "\u001b[32mProgress: 100%|█████████████████████████████████████████| Time: 0:02:01\u001b[39m\n",
      "\u001b[36m\u001b[1m[ \u001b[22m\u001b[39m\u001b[36m\u001b[1mInfo: \u001b[22m\u001b[39m2023-11-03T05:58:09.582\titeration: 158\tcurrent optimum: 0.03560562827826223\n"
     ]
    },
    {
     "name": "stdout",
     "output_type": "stream",
     "text": [
      "s1 = 4.00; s3 = 8.00; s4 = 0.50; Δ1 = 4.00 Γ; Δ3 = Δ1; Δ4 = -10.00 Γ\n",
      "Survival: 6 / 20\n",
      "goodness = 0.001\n"
     ]
    },
    {
     "name": "stderr",
     "output_type": "stream",
     "text": [
      "\u001b[32mProgress: 100%|█████████████████████████████████████████| Time: 0:00:52\u001b[39m\n",
      "\u001b[36m\u001b[1m[ \u001b[22m\u001b[39m\u001b[36m\u001b[1mInfo: \u001b[22m\u001b[39m2023-11-03T05:59:01.888\titeration: 159\tcurrent optimum: 0.03560562827826223\n"
     ]
    },
    {
     "name": "stdout",
     "output_type": "stream",
     "text": [
      "s1 = 4.00; s3 = 3.00; s4 = 0.50; Δ1 = 0.50 Γ; Δ3 = Δ1; Δ4 = -10.00 Γ\n",
      "Survival: 1 / 20\n",
      "goodness = 0.002\n"
     ]
    },
    {
     "name": "stderr",
     "output_type": "stream",
     "text": [
      "\u001b[32mProgress: 100%|█████████████████████████████████████████| Time: 0:00:23\u001b[39m\n",
      "\u001b[36m\u001b[1m[ \u001b[22m\u001b[39m\u001b[36m\u001b[1mInfo: \u001b[22m\u001b[39m2023-11-03T05:59:25.557\titeration: 160\tcurrent optimum: 0.03560562827826223\n"
     ]
    },
    {
     "name": "stdout",
     "output_type": "stream",
     "text": [
      "s1 = 0.50; s3 = 3.00; s4 = 6.50; Δ1 = 0.50 Γ; Δ3 = Δ1; Δ4 = -4.00 Γ\n",
      "Survival: 0 / 20\n",
      "goodness = 0.000\n"
     ]
    },
    {
     "name": "stderr",
     "output_type": "stream",
     "text": [
      "\u001b[32mProgress: 100%|█████████████████████████████████████████| Time: 0:00:55\u001b[39m\n"
     ]
    },
    {
     "name": "stdout",
     "output_type": "stream",
     "text": [
      "s1 = 4.00; s3 = 8.00; s4 = 0.50; Δ1 = 4.00 Γ; Δ3 = Δ1; Δ4 = -4.00 Γ\n",
      "Survival: 2 / 20\n",
      "goodness = 0.001\n"
     ]
    },
    {
     "name": "stderr",
     "output_type": "stream",
     "text": [
      "\u001b[36m\u001b[1m[ \u001b[22m\u001b[39m\u001b[36m\u001b[1mInfo: \u001b[22m\u001b[39m2023-11-03T06:00:20.941\titeration: 161\tcurrent optimum: 0.03560562827826223\n",
      "\u001b[32mProgress: 100%|█████████████████████████████████████████| Time: 0:00:43\u001b[39m"
     ]
    },
    {
     "name": "stdout",
     "output_type": "stream",
     "text": [
      "s1 = 0.50; s3 = 3.00; s4 = 6.50; Δ1 = 4.00 Γ; Δ3 = Δ1; Δ4 = -10.00 Γ\n",
      "Survival: 0 / 20\n",
      "goodness = 0.000\n"
     ]
    },
    {
     "name": "stderr",
     "output_type": "stream",
     "text": [
      "\n",
      "\u001b[36m\u001b[1m[ \u001b[22m\u001b[39m\u001b[36m\u001b[1mInfo: \u001b[22m\u001b[39m2023-11-03T06:01:04.844\titeration: 162\tcurrent optimum: 0.03560562827826223\n",
      "\u001b[32mProgress: 100%|█████████████████████████████████████████| Time: 0:01:35\u001b[39m\n",
      "\u001b[36m\u001b[1m[ \u001b[22m\u001b[39m\u001b[36m\u001b[1mInfo: \u001b[22m\u001b[39m2023-11-03T06:02:40.770\titeration: 163\tcurrent optimum: 0.03560562827826223\n"
     ]
    },
    {
     "name": "stdout",
     "output_type": "stream",
     "text": [
      "s1 = 4.00; s3 = 8.00; s4 = 0.50; Δ1 = 0.50 Γ; Δ3 = Δ1; Δ4 = -10.00 Γ\n",
      "Survival: 6 / 20\n",
      "goodness = 0.004\n"
     ]
    },
    {
     "name": "stderr",
     "output_type": "stream",
     "text": [
      "\u001b[32mProgress: 100%|█████████████████████████████████████████| Time: 0:00:22\u001b[39m\n",
      "\u001b[36m\u001b[1m[ \u001b[22m\u001b[39m\u001b[36m\u001b[1mInfo: \u001b[22m\u001b[39m2023-11-03T06:03:03.196\titeration: 164\tcurrent optimum: 0.03560562827826223\n"
     ]
    },
    {
     "name": "stdout",
     "output_type": "stream",
     "text": [
      "s1 = 4.00; s3 = 8.00; s4 = 6.50; Δ1 = 4.00 Γ; Δ3 = Δ1; Δ4 = -4.00 Γ\n",
      "Survival: 0 / 20\n",
      "goodness = 0.000\n"
     ]
    },
    {
     "name": "stderr",
     "output_type": "stream",
     "text": [
      "\u001b[32mProgress: 100%|█████████████████████████████████████████| Time: 0:00:53\u001b[39m\n"
     ]
    },
    {
     "name": "stdout",
     "output_type": "stream",
     "text": [
      "s1 = 0.50; s3 = 3.00; s4 = 0.50; Δ1 = 4.00 Γ; Δ3 = Δ1; Δ4 = -4.00 Γ\n",
      "Survival: 0 / 20\n",
      "goodness = 0.000\n"
     ]
    },
    {
     "name": "stderr",
     "output_type": "stream",
     "text": [
      "\u001b[36m\u001b[1m[ \u001b[22m\u001b[39m\u001b[36m\u001b[1mInfo: \u001b[22m\u001b[39m2023-11-03T06:03:56.224\titeration: 165\tcurrent optimum: 0.03560562827826223\n",
      "\u001b[32mProgress: 100%|█████████████████████████████████████████| Time: 0:01:26\u001b[39m\n",
      "\u001b[36m\u001b[1m[ \u001b[22m\u001b[39m\u001b[36m\u001b[1mInfo: \u001b[22m\u001b[39m2023-11-03T06:05:22.835\titeration: 166\tcurrent optimum: 0.03560562827826223\n"
     ]
    },
    {
     "name": "stdout",
     "output_type": "stream",
     "text": [
      "s1 = 0.50; s3 = 8.00; s4 = 0.50; Δ1 = 0.50 Γ; Δ3 = Δ1; Δ4 = -10.00 Γ\n",
      "Survival: 3 / 20\n",
      "goodness = 0.003\n"
     ]
    },
    {
     "name": "stderr",
     "output_type": "stream",
     "text": [
      "\u001b[32mProgress: 100%|█████████████████████████████████████████| Time: 0:01:37\u001b[39m\n"
     ]
    },
    {
     "name": "stdout",
     "output_type": "stream",
     "text": [
      "s1 = 4.00; s3 = 3.00; s4 = 6.50; Δ1 = 4.00 Γ; Δ3 = Δ1; Δ4 = -10.00 Γ"
     ]
    },
    {
     "name": "stderr",
     "output_type": "stream",
     "text": [
      "\u001b[36m\u001b[1m[ \u001b[22m\u001b[39m\u001b[36m\u001b[1mInfo: \u001b[22m\u001b[39m2023-11-03T06:07:00.258\titeration: 167\tcurrent optimum: 0.03841996494769029\n"
     ]
    },
    {
     "name": "stdout",
     "output_type": "stream",
     "text": [
      "\n",
      "Survival: 9 / 20\n",
      "goodness = 0.038\n"
     ]
    },
    {
     "name": "stderr",
     "output_type": "stream",
     "text": [
      "\u001b[32mProgress: 100%|█████████████████████████████████████████| Time: 0:00:50\u001b[39m\n",
      "\u001b[36m\u001b[1m[ \u001b[22m\u001b[39m\u001b[36m\u001b[1mInfo: \u001b[22m\u001b[39m2023-11-03T06:07:50.309\titeration: 168\tcurrent optimum: 0.03841996494769029\n"
     ]
    },
    {
     "name": "stdout",
     "output_type": "stream",
     "text": [
      "s1 = 4.00; s3 = 3.00; s4 = 6.50; Δ1 = 4.00 Γ; Δ3 = Δ1; Δ4 = -4.00 Γ\n",
      "Survival: 0 / 20\n",
      "goodness = 0.000\n"
     ]
    },
    {
     "name": "stderr",
     "output_type": "stream",
     "text": [
      "\u001b[32mProgress: 100%|█████████████████████████████████████████| Time: 0:01:24\u001b[39m\n",
      "\u001b[36m\u001b[1m[ \u001b[22m\u001b[39m\u001b[36m\u001b[1mInfo: \u001b[22m\u001b[39m2023-11-03T06:09:14.637\titeration: 169\tcurrent optimum: 0.03841996494769029\n"
     ]
    },
    {
     "name": "stdout",
     "output_type": "stream",
     "text": [
      "s1 = 4.00; s3 = 3.00; s4 = 6.50; Δ1 = 0.50 Γ; Δ3 = Δ1; Δ4 = -10.00 Γ\n",
      "Survival: 6 / 20\n",
      "goodness = 0.013\n"
     ]
    },
    {
     "name": "stderr",
     "output_type": "stream",
     "text": [
      "\u001b[32mProgress: 100%|█████████████████████████████████████████| Time: 0:01:03\u001b[39m\n",
      "\u001b[36m\u001b[1m[ \u001b[22m\u001b[39m\u001b[36m\u001b[1mInfo: \u001b[22m\u001b[39m2023-11-03T06:10:18.455\titeration: 170\tcurrent optimum: 0.03841996494769029\n"
     ]
    },
    {
     "name": "stdout",
     "output_type": "stream",
     "text": [
      "s1 = 4.00; s3 = 3.00; s4 = 0.50; Δ1 = 0.50 Γ; Δ3 = Δ1; Δ4 = -10.00 Γ\n",
      "Survival: 4 / 20\n",
      "goodness = 0.008\n"
     ]
    },
    {
     "name": "stderr",
     "output_type": "stream",
     "text": [
      "\u001b[32mProgress: 100%|█████████████████████████████████████████| Time: 0:02:13\u001b[39m\n"
     ]
    },
    {
     "name": "stdout",
     "output_type": "stream",
     "text": [
      "s1 = 0.50; s3 = 8.00; s4 = 6.50; Δ1 = 0.50 Γ; Δ3 = Δ1; Δ4 = -4.00 Γ\n",
      "Survival: 2 / 20\n",
      "goodness = 0.000"
     ]
    },
    {
     "name": "stderr",
     "output_type": "stream",
     "text": [
      "\u001b[36m\u001b[1m[ \u001b[22m\u001b[39m\u001b[36m\u001b[1mInfo: \u001b[22m\u001b[39m2023-11-03T06:12:32.269\titeration: 171\tcurrent optimum: 0.03841996494769029\n"
     ]
    },
    {
     "name": "stdout",
     "output_type": "stream",
     "text": [
      "\n"
     ]
    },
    {
     "name": "stderr",
     "output_type": "stream",
     "text": [
      "\u001b[32mProgress: 100%|█████████████████████████████████████████| Time: 0:02:56\u001b[39m\n",
      "\u001b[36m\u001b[1m[ \u001b[22m\u001b[39m\u001b[36m\u001b[1mInfo: \u001b[22m\u001b[39m2023-11-03T06:15:29.223\titeration: 172\tcurrent optimum: 0.03841996494769029\n"
     ]
    },
    {
     "name": "stdout",
     "output_type": "stream",
     "text": [
      "s1 = 4.00; s3 = 8.00; s4 = 0.50; Δ1 = 4.00 Γ; Δ3 = Δ1; Δ4 = -10.00 Γ\n",
      "Survival: 8 / 20\n",
      "goodness = 0.001\n"
     ]
    },
    {
     "name": "stderr",
     "output_type": "stream",
     "text": [
      "\u001b[32mProgress: 100%|█████████████████████████████████████████| Time: 0:00:53\u001b[39m\n",
      "\u001b[36m\u001b[1m[ \u001b[22m\u001b[39m\u001b[36m\u001b[1mInfo: \u001b[22m\u001b[39m2023-11-03T06:16:23.209\titeration: 173\tcurrent optimum: 0.03841996494769029\n"
     ]
    },
    {
     "name": "stdout",
     "output_type": "stream",
     "text": [
      "s1 = 0.50; s3 = 3.00; s4 = 6.50; Δ1 = 4.00 Γ; Δ3 = Δ1; Δ4 = -10.00 Γ\n",
      "Survival: 0 / 20\n",
      "goodness = 0.000\n"
     ]
    },
    {
     "name": "stderr",
     "output_type": "stream",
     "text": [
      "\u001b[32mProgress:  95%|███████████████████████████████████████  |  ETA: 0:00:03\u001b[39m\r"
     ]
    },
    {
     "name": "stdout",
     "output_type": "stream",
     "text": [
      "s1 = 0.50; s3 = 8.00; s4 = 0.50; Δ1 = 0.50 Γ; Δ3 = Δ1; Δ4 = -4.00 Γ\n",
      "Survival: 1 / 20\n",
      "goodness = 0.001"
     ]
    },
    {
     "name": "stderr",
     "output_type": "stream",
     "text": [
      "\u001b[32mProgress: 100%|█████████████████████████████████████████| Time: 0:01:08\u001b[39m\n",
      "\u001b[36m\u001b[1m[ \u001b[22m\u001b[39m\u001b[36m\u001b[1mInfo: \u001b[22m\u001b[39m2023-11-03T06:17:32.284\titeration: 174\tcurrent optimum: 0.03841996494769029\n"
     ]
    },
    {
     "name": "stdout",
     "output_type": "stream",
     "text": [
      "\n"
     ]
    },
    {
     "name": "stderr",
     "output_type": "stream",
     "text": [
      "\u001b[32mProgress: 100%|█████████████████████████████████████████| Time: 0:02:50\u001b[39m\n",
      "\u001b[36m\u001b[1m[ \u001b[22m\u001b[39m\u001b[36m\u001b[1mInfo: \u001b[22m\u001b[39m2023-11-03T06:20:23.124\titeration: 175\tcurrent optimum: 0.03841996494769029\n"
     ]
    },
    {
     "name": "stdout",
     "output_type": "stream",
     "text": [
      "s1 = 4.00; s3 = 3.00; s4 = 0.50; Δ1 = 4.00 Γ; Δ3 = Δ1; Δ4 = -10.00 Γ\n",
      "Survival: 13 / 20\n",
      "goodness = 0.022\n"
     ]
    },
    {
     "name": "stderr",
     "output_type": "stream",
     "text": [
      "\u001b[32mProgress: 100%|█████████████████████████████████████████| Time: 0:00:54\u001b[39m\n"
     ]
    },
    {
     "name": "stdout",
     "output_type": "stream",
     "text": [
      "s1 = 4.00; s3 = 3.00; s4 = 0.50; Δ1 = 0.50 Γ; Δ3 = Δ1; Δ4 = -4.00 Γ\n",
      "Survival: 5 / 20\n",
      "goodness = 0.013\n"
     ]
    },
    {
     "name": "stderr",
     "output_type": "stream",
     "text": [
      "\u001b[36m\u001b[1m[ \u001b[22m\u001b[39m\u001b[36m\u001b[1mInfo: \u001b[22m\u001b[39m2023-11-03T06:21:17.816\titeration: 176\tcurrent optimum: 0.03841996494769029\n",
      "\u001b[32mProgress: 100%|█████████████████████████████████████████| Time: 0:01:23\u001b[39m"
     ]
    },
    {
     "name": "stdout",
     "output_type": "stream",
     "text": [
      "s1 = 4.00; s3 = 3.00; s4 = 6.50; Δ1 = 0.50 Γ; Δ3 = Δ1; Δ4 = -10.00 Γ\n",
      "Survival: 5 / 20\n",
      "goodness = 0.011"
     ]
    },
    {
     "name": "stderr",
     "output_type": "stream",
     "text": [
      "\n"
     ]
    },
    {
     "name": "stdout",
     "output_type": "stream",
     "text": [
      "\n"
     ]
    },
    {
     "name": "stderr",
     "output_type": "stream",
     "text": [
      "\u001b[36m\u001b[1m[ \u001b[22m\u001b[39m\u001b[36m\u001b[1mInfo: \u001b[22m\u001b[39m2023-11-03T06:22:41.913\titeration: 177\tcurrent optimum: 0.03841996494769029\n",
      "\u001b[32mProgress: 100%|█████████████████████████████████████████| Time: 0:01:27\u001b[39m\n"
     ]
    },
    {
     "name": "stdout",
     "output_type": "stream",
     "text": [
      "s1 = 4.00; s3 = 8.00; s4 = 6.50; Δ1 = 4.00 Γ; Δ3 = Δ1; Δ4 = -10.00 Γ\n",
      "Survival: 5 / 20\n",
      "goodness = 0.002"
     ]
    },
    {
     "name": "stderr",
     "output_type": "stream",
     "text": [
      "\u001b[36m\u001b[1m[ \u001b[22m\u001b[39m\u001b[36m\u001b[1mInfo: \u001b[22m\u001b[39m2023-11-03T06:24:09.764\titeration: 178\tcurrent optimum: 0.03841996494769029\n"
     ]
    },
    {
     "name": "stdout",
     "output_type": "stream",
     "text": [
      "\n"
     ]
    },
    {
     "name": "stderr",
     "output_type": "stream",
     "text": [
      "\u001b[32mProgress: 100%|█████████████████████████████████████████| Time: 0:01:01\u001b[39m\n",
      "\u001b[36m\u001b[1m[ \u001b[22m\u001b[39m\u001b[36m\u001b[1mInfo: \u001b[22m\u001b[39m2023-11-03T06:25:11.440\titeration: 179\tcurrent optimum: 0.03841996494769029\n"
     ]
    },
    {
     "name": "stdout",
     "output_type": "stream",
     "text": [
      "s1 = 4.00; s3 = 3.00; s4 = 0.50; Δ1 = 4.00 Γ; Δ3 = Δ1; Δ4 = -4.00 Γ\n",
      "Survival: 3 / 20\n",
      "goodness = 0.017\n"
     ]
    },
    {
     "name": "stderr",
     "output_type": "stream",
     "text": [
      "\u001b[32mProgress: 100%|█████████████████████████████████████████| Time: 0:00:58\u001b[39m\n",
      "\u001b[36m\u001b[1m[ \u001b[22m\u001b[39m\u001b[36m\u001b[1mInfo: \u001b[22m\u001b[39m2023-11-03T06:26:10.543\titeration: 180\tcurrent optimum: 0.03841996494769029\n"
     ]
    },
    {
     "name": "stdout",
     "output_type": "stream",
     "text": [
      "s1 = 0.50; s3 = 3.00; s4 = 0.50; Δ1 = 0.50 Γ; Δ3 = Δ1; Δ4 = -4.00 Γ\n",
      "Survival: 1 / 20\n",
      "goodness = 0.004\n"
     ]
    },
    {
     "name": "stderr",
     "output_type": "stream",
     "text": [
      "\u001b[32mProgress: 100%|█████████████████████████████████████████| Time: 0:01:19\u001b[39m\n",
      "\u001b[36m\u001b[1m[ \u001b[22m\u001b[39m\u001b[36m\u001b[1mInfo: \u001b[22m\u001b[39m2023-11-03T06:27:30.535\titeration: 181\tcurrent optimum: 0.03841996494769029\n"
     ]
    },
    {
     "name": "stdout",
     "output_type": "stream",
     "text": [
      "s1 = 0.50; s3 = 8.00; s4 = 6.50; Δ1 = 0.50 Γ; Δ3 = Δ1; Δ4 = -10.00 Γ\n",
      "Survival: 0 / 20\n",
      "goodness = 0.000\n"
     ]
    },
    {
     "name": "stderr",
     "output_type": "stream",
     "text": [
      "\u001b[32mProgress: 100%|█████████████████████████████████████████| Time: 0:02:10\u001b[39m\n",
      "\u001b[36m\u001b[1m[ \u001b[22m\u001b[39m\u001b[36m\u001b[1mInfo: \u001b[22m\u001b[39m2023-11-03T06:29:40.611\titeration: 182\tcurrent optimum: 0.03841996494769029\n"
     ]
    },
    {
     "name": "stdout",
     "output_type": "stream",
     "text": [
      "s1 = 4.00; s3 = 3.00; s4 = 0.50; Δ1 = 4.00 Γ; Δ3 = Δ1; Δ4 = -10.00 Γ\n",
      "Survival: 10 / 20\n",
      "goodness = 0.016\n"
     ]
    },
    {
     "name": "stderr",
     "output_type": "stream",
     "text": [
      "\u001b[32mProgress: 100%|█████████████████████████████████████████| Time: 0:00:24\u001b[39m\n",
      "\u001b[36m\u001b[1m[ \u001b[22m\u001b[39m\u001b[36m\u001b[1mInfo: \u001b[22m\u001b[39m2023-11-03T06:30:04.663\titeration: 183\tcurrent optimum: 0.03841996494769029\n"
     ]
    },
    {
     "name": "stdout",
     "output_type": "stream",
     "text": [
      "s1 = 4.00; s3 = 3.00; s4 = 6.50; Δ1 = 4.00 Γ; Δ3 = Δ1; Δ4 = -4.00 Γ\n",
      "Survival: 0 / 20\n",
      "goodness = 0.000\n"
     ]
    },
    {
     "name": "stderr",
     "output_type": "stream",
     "text": [
      "\u001b[32mProgress: 100%|█████████████████████████████████████████| Time: 0:00:19\u001b[39m\n",
      "\u001b[36m\u001b[1m[ \u001b[22m\u001b[39m\u001b[36m\u001b[1mInfo: \u001b[22m\u001b[39m2023-11-03T06:30:24.265\titeration: 184\tcurrent optimum: 0.03841996494769029\n"
     ]
    },
    {
     "name": "stdout",
     "output_type": "stream",
     "text": [
      "s1 = 0.50; s3 = 8.00; s4 = 0.50; Δ1 = 4.00 Γ; Δ3 = Δ1; Δ4 = -10.00 Γ\n",
      "Survival: 0 / 20\n",
      "goodness = 0.000\n"
     ]
    },
    {
     "name": "stderr",
     "output_type": "stream",
     "text": [
      "\u001b[32mProgress: 100%|█████████████████████████████████████████| Time: 0:01:30\u001b[39m\n",
      "\u001b[36m\u001b[1m[ \u001b[22m\u001b[39m\u001b[36m\u001b[1mInfo: \u001b[22m\u001b[39m2023-11-03T06:31:55.301\titeration: 185\tcurrent optimum: 0.03841996494769029\n"
     ]
    },
    {
     "name": "stdout",
     "output_type": "stream",
     "text": [
      "s1 = 4.00; s3 = 3.00; s4 = 0.50; Δ1 = 0.50 Γ; Δ3 = Δ1; Δ4 = -4.00 Γ\n",
      "Survival: 4 / 20\n",
      "goodness = 0.005\n"
     ]
    },
    {
     "name": "stderr",
     "output_type": "stream",
     "text": [
      "\u001b[32mProgress: 100%|█████████████████████████████████████████| Time: 0:02:01\u001b[39m\n"
     ]
    },
    {
     "name": "stdout",
     "output_type": "stream",
     "text": [
      "s1 = 0.50; s3 = 8.00; s4 = 6.50; Δ1 = 0.50 Γ; Δ3 = Δ1; Δ4 = -4.00 Γ\n",
      "Survival: 2 / 20\n",
      "goodness = 0.000\n"
     ]
    },
    {
     "name": "stderr",
     "output_type": "stream",
     "text": [
      "\u001b[36m\u001b[1m[ \u001b[22m\u001b[39m\u001b[36m\u001b[1mInfo: \u001b[22m\u001b[39m2023-11-03T06:33:57.227\titeration: 186\tcurrent optimum: 0.03841996494769029\n",
      "\u001b[32mProgress: 100%|█████████████████████████████████████████| Time: 0:01:05\u001b[39m\n",
      "\u001b[36m\u001b[1m[ \u001b[22m\u001b[39m\u001b[36m\u001b[1mInfo: \u001b[22m\u001b[39m2023-11-03T06:35:02.430\titeration: 187\tcurrent optimum: 0.03841996494769029\n"
     ]
    },
    {
     "name": "stdout",
     "output_type": "stream",
     "text": [
      "s1 = 0.50; s3 = 3.00; s4 = 0.50; Δ1 = 4.00 Γ; Δ3 = Δ1; Δ4 = -10.00 Γ\n",
      "Survival: 0 / 20\n",
      "goodness = 0.000\n"
     ]
    },
    {
     "name": "stderr",
     "output_type": "stream",
     "text": [
      "\u001b[32mProgress: 100%|█████████████████████████████████████████| Time: 0:01:45\u001b[39m\n"
     ]
    },
    {
     "name": "stdout",
     "output_type": "stream",
     "text": [
      "s1 = 4.00; s3 = 3.00; s4 = 6.50; Δ1 = 4.00 Γ; Δ3 = Δ1; Δ4 = -10.00 Γ\n",
      "Survival: 7 / 20\n",
      "goodness = 0.031\n"
     ]
    },
    {
     "name": "stderr",
     "output_type": "stream",
     "text": [
      "\u001b[36m\u001b[1m[ \u001b[22m\u001b[39m\u001b[36m\u001b[1mInfo: \u001b[22m\u001b[39m2023-11-03T06:36:48.238\titeration: 188\tcurrent optimum: 0.03841996494769029\n",
      "\u001b[32mProgress: 100%|█████████████████████████████████████████| Time: 0:01:22\u001b[39m\n"
     ]
    },
    {
     "name": "stdout",
     "output_type": "stream",
     "text": [
      "s1 = 4.00; s3 = 8.00; s4 = 6.50; Δ1 = 4.00 Γ; Δ3 = Δ1; Δ4 = -10.00 Γ\n",
      "Survival: 4 / 20\n",
      "goodness = 0.003"
     ]
    },
    {
     "name": "stderr",
     "output_type": "stream",
     "text": [
      "\u001b[36m\u001b[1m[ \u001b[22m\u001b[39m\u001b[36m\u001b[1mInfo: \u001b[22m\u001b[39m2023-11-03T06:38:11.157\titeration: 189\tcurrent optimum: 0.03841996494769029\n"
     ]
    },
    {
     "name": "stdout",
     "output_type": "stream",
     "text": [
      "\n"
     ]
    },
    {
     "name": "stderr",
     "output_type": "stream",
     "text": [
      "\u001b[32mProgress: 100%|█████████████████████████████████████████| Time: 0:00:51\u001b[39m\n",
      "\u001b[36m\u001b[1m[ \u001b[22m\u001b[39m\u001b[36m\u001b[1mInfo: \u001b[22m\u001b[39m2023-11-03T06:39:02.687\titeration: 190\tcurrent optimum: 0.03841996494769029\n"
     ]
    },
    {
     "name": "stdout",
     "output_type": "stream",
     "text": [
      "s1 = 4.00; s3 = 3.00; s4 = 0.50; Δ1 = 0.50 Γ; Δ3 = Δ1; Δ4 = -10.00 Γ\n",
      "Survival: 3 / 20\n",
      "goodness = 0.007\n"
     ]
    },
    {
     "name": "stderr",
     "output_type": "stream",
     "text": [
      "\u001b[32mProgress: 100%|█████████████████████████████████████████| Time: 0:00:59\u001b[39m\n"
     ]
    },
    {
     "name": "stdout",
     "output_type": "stream",
     "text": [
      "s1 = 0.50; s3 = 3.00; s4 = 6.50; Δ1 = 0.50 Γ; Δ3 = Δ1; Δ4 = -4.00 Γ\n",
      "Survival: 1 / 20\n",
      "goodness = 0.001\n"
     ]
    },
    {
     "name": "stderr",
     "output_type": "stream",
     "text": [
      "\u001b[36m\u001b[1m[ \u001b[22m\u001b[39m\u001b[36m\u001b[1mInfo: \u001b[22m\u001b[39m2023-11-03T06:40:01.981\titeration: 191\tcurrent optimum: 0.03841996494769029\n",
      "\u001b[32mProgress: 100%|█████████████████████████████████████████| Time: 0:01:20\u001b[39m\n",
      "\u001b[36m\u001b[1m[ \u001b[22m\u001b[39m\u001b[36m\u001b[1mInfo: \u001b[22m\u001b[39m2023-11-03T06:41:22.296\titeration: 192\tcurrent optimum: 0.03841996494769029\n"
     ]
    },
    {
     "name": "stdout",
     "output_type": "stream",
     "text": [
      "s1 = 4.00; s3 = 8.00; s4 = 0.50; Δ1 = 0.50 Γ; Δ3 = Δ1; Δ4 = -4.00 Γ\n",
      "Survival: 12 / 20\n",
      "goodness = 0.008\n"
     ]
    },
    {
     "name": "stderr",
     "output_type": "stream",
     "text": [
      "\u001b[32mProgress: 100%|█████████████████████████████████████████| Time: 0:01:24\u001b[39m\n"
     ]
    },
    {
     "name": "stdout",
     "output_type": "stream",
     "text": [
      "s1 = 4.00; s3 = 8.00; s4 = 6.50; Δ1 = 4.00 Γ; Δ3 = Δ1; Δ4 = -10.00 Γ\n",
      "Survival: 7 / 20\n",
      "goodness = 0.005\n"
     ]
    },
    {
     "name": "stderr",
     "output_type": "stream",
     "text": [
      "\u001b[36m\u001b[1m[ \u001b[22m\u001b[39m\u001b[36m\u001b[1mInfo: \u001b[22m\u001b[39m2023-11-03T06:42:46.513\titeration: 193\tcurrent optimum: 0.03841996494769029\n",
      "\u001b[32mProgress: 100%|█████████████████████████████████████████| Time: 0:01:05\u001b[39m\n",
      "\u001b[36m\u001b[1m[ \u001b[22m\u001b[39m\u001b[36m\u001b[1mInfo: \u001b[22m\u001b[39m2023-11-03T06:43:52.009\titeration: 194\tcurrent optimum: 0.03841996494769029\n"
     ]
    },
    {
     "name": "stdout",
     "output_type": "stream",
     "text": [
      "s1 = 0.50; s3 = 3.00; s4 = 0.50; Δ1 = 4.00 Γ; Δ3 = Δ1; Δ4 = -10.00 Γ\n",
      "Survival: 0 / 20\n",
      "goodness = 0.000\n"
     ]
    },
    {
     "name": "stderr",
     "output_type": "stream",
     "text": [
      "\u001b[32mProgress: 100%|█████████████████████████████████████████| Time: 0:02:02\u001b[39m\n",
      "\u001b[36m\u001b[1m[ \u001b[22m\u001b[39m\u001b[36m\u001b[1mInfo: \u001b[22m\u001b[39m2023-11-03T06:45:54.491\titeration: 195\tcurrent optimum: 0.03841996494769029\n"
     ]
    },
    {
     "name": "stdout",
     "output_type": "stream",
     "text": [
      "s1 = 4.00; s3 = 8.00; s4 = 6.50; Δ1 = 0.50 Γ; Δ3 = Δ1; Δ4 = -4.00 Γ\n",
      "Survival: 14 / 20\n",
      "goodness = 0.002\n"
     ]
    },
    {
     "name": "stderr",
     "output_type": "stream",
     "text": [
      "\u001b[32mProgress: 100%|█████████████████████████████████████████| Time: 0:00:29\u001b[39m\n",
      "\u001b[36m\u001b[1m[ \u001b[22m\u001b[39m\u001b[36m\u001b[1mInfo: \u001b[22m\u001b[39m2023-11-03T06:46:23.637\titeration: 196\tcurrent optimum: 0.03841996494769029\n"
     ]
    },
    {
     "name": "stdout",
     "output_type": "stream",
     "text": [
      "s1 = 0.50; s3 = 3.00; s4 = 0.50; Δ1 = 4.00 Γ; Δ3 = Δ1; Δ4 = -4.00 Γ\n",
      "Survival: 0 / 20\n",
      "goodness = 0.000\n"
     ]
    },
    {
     "name": "stderr",
     "output_type": "stream",
     "text": [
      "\u001b[32mProgress: 100%|█████████████████████████████████████████| Time: 0:02:03\u001b[39m\n",
      "\u001b[36m\u001b[1m[ \u001b[22m\u001b[39m\u001b[36m\u001b[1mInfo: \u001b[22m\u001b[39m2023-11-03T06:48:27.775\titeration: 197\tcurrent optimum: 0.03841996494769029\n"
     ]
    },
    {
     "name": "stdout",
     "output_type": "stream",
     "text": [
      "s1 = 4.00; s3 = 8.00; s4 = 6.50; Δ1 = 4.00 Γ; Δ3 = Δ1; Δ4 = -10.00 Γ\n",
      "Survival: 4 / 20\n",
      "goodness = 0.001\n"
     ]
    },
    {
     "name": "stderr",
     "output_type": "stream",
     "text": [
      "\u001b[32mProgress:  95%|███████████████████████████████████████  |  ETA: 0:00:01\u001b[39m"
     ]
    },
    {
     "name": "stdout",
     "output_type": "stream",
     "text": [
      "s1 = 0.50; s3 = 3.00; s4 = 6.50; Δ1 = 0.50 Γ; Δ3 = Δ1; Δ4 = -4.00 Γ\n",
      "Survival: 0 / 20\n",
      "goodness = 0.000"
     ]
    },
    {
     "name": "stderr",
     "output_type": "stream",
     "text": [
      "\u001b[32mProgress: 100%|█████████████████████████████████████████| Time: 0:00:59\u001b[39m\n",
      "\u001b[36m\u001b[1m[ \u001b[22m\u001b[39m\u001b[36m\u001b[1mInfo: \u001b[22m\u001b[39m2023-11-03T06:49:27.327\titeration: 198\tcurrent optimum: 0.03841996494769029\n"
     ]
    },
    {
     "name": "stdout",
     "output_type": "stream",
     "text": [
      "\n"
     ]
    },
    {
     "name": "stderr",
     "output_type": "stream",
     "text": [
      "\u001b[32mProgress: 100%|█████████████████████████████████████████| Time: 0:01:14\u001b[39m\n",
      "\u001b[36m\u001b[1m[ \u001b[22m\u001b[39m\u001b[36m\u001b[1mInfo: \u001b[22m\u001b[39m2023-11-03T06:50:41.661\titeration: 199\tcurrent optimum: 0.03841996494769029\n"
     ]
    },
    {
     "name": "stdout",
     "output_type": "stream",
     "text": [
      "s1 = 4.00; s3 = 3.00; s4 = 0.50; Δ1 = 0.50 Γ; Δ3 = Δ1; Δ4 = -10.00 Γ\n",
      "Survival: 5 / 20\n",
      "goodness = 0.014\n"
     ]
    },
    {
     "name": "stderr",
     "output_type": "stream",
     "text": [
      "\u001b[32mProgress:  95%|███████████████████████████████████████  |  ETA: 0:00:04\u001b[39m"
     ]
    },
    {
     "name": "stdout",
     "output_type": "stream",
     "text": [
      "s1 = 4.00; s3 = 8.00; s4 = 0.50; Δ1 = 0.50 Γ; Δ3 = Δ1; Δ4 = -10.00 Γ\n",
      "Survival: 8 / 20\n",
      "goodness = 0.007\n"
     ]
    },
    {
     "name": "stderr",
     "output_type": "stream",
     "text": [
      "\u001b[32mProgress: 100%|█████████████████████████████████████████| Time: 0:01:11\u001b[39m\n",
      "\u001b[36m\u001b[1m┌ \u001b[22m\u001b[39m\u001b[36m\u001b[1mInfo: \u001b[22m\u001b[39m ────────────────────────────────────────────────────────────────────────────────\n",
      "\u001b[36m\u001b[1m│ \u001b[22m\u001b[39m                                        Time                    Allocations      \n",
      "\u001b[36m\u001b[1m│ \u001b[22m\u001b[39m                               ───────────────────────   ────────────────────────\n",
      "\u001b[36m\u001b[1m│ \u001b[22m\u001b[39m       Tot / % measured:            1.08h / 100.0%           1.03GiB /  99.9%    \n",
      "\u001b[36m\u001b[1m│ \u001b[22m\u001b[39m\n",
      "\u001b[36m\u001b[1m│ \u001b[22m\u001b[39m Section               ncalls     time    %tot     avg     alloc    %tot      avg\n",
      "\u001b[36m\u001b[1m│ \u001b[22m\u001b[39m ────────────────────────────────────────────────────────────────────────────────\n",
      "\u001b[36m\u001b[1m│ \u001b[22m\u001b[39m function evaluation       50    1.08h  100.0%   78.0s    601MiB   57.0%  12.0MiB\n",
      "\u001b[36m\u001b[1m│ \u001b[22m\u001b[39m model hyperparamet...     50    1.08s    0.0%  21.5ms   64.9MiB    6.2%  1.30MiB\n",
      "\u001b[36m\u001b[1m│ \u001b[22m\u001b[39m acquisition               51    373ms    0.0%  7.32ms    387MiB   36.7%  7.59MiB\n",
      "\u001b[36m\u001b[1m│ \u001b[22m\u001b[39m model update              50   5.62ms    0.0%   112μs    931KiB    0.1%  18.6KiB\n",
      "\u001b[36m\u001b[1m└ \u001b[22m\u001b[39m ────────────────────────────────────────────────────────────────────────────────\n",
      "\u001b[36m\u001b[1m[ \u001b[22m\u001b[39m\u001b[36m\u001b[1mInfo: \u001b[22m\u001b[39m2023-11-03T06:51:53.737\titeration: 200\tcurrent optimum: 0.03841996494769029\n"
     ]
    },
    {
     "name": "stdout",
     "output_type": "stream",
     "text": [
      "===== Autosaved =====\n"
     ]
    },
    {
     "name": "stderr",
     "output_type": "stream",
     "text": [
      "\u001b[32mProgress: 100%|█████████████████████████████████████████| Time: 0:00:29\u001b[39m\n",
      "\u001b[36m\u001b[1m[ \u001b[22m\u001b[39m\u001b[36m\u001b[1mInfo: \u001b[22m\u001b[39m2023-11-03T06:52:23.167\titeration: 201\tcurrent optimum: 0.03841996494769029\n"
     ]
    },
    {
     "name": "stdout",
     "output_type": "stream",
     "text": [
      "s1 = 0.50; s3 = 3.00; s4 = 0.50; Δ1 = 4.00 Γ; Δ3 = Δ1; Δ4 = -4.00 Γ\n",
      "Survival: 0 / 20\n",
      "goodness = 0.000\n"
     ]
    },
    {
     "name": "stderr",
     "output_type": "stream",
     "text": [
      "\u001b[32mProgress: 100%|█████████████████████████████████████████| Time: 0:01:53\u001b[39m\n"
     ]
    },
    {
     "name": "stdout",
     "output_type": "stream",
     "text": [
      "s1 = 0.50; s3 = 8.00; s4 = 6.50; Δ1 = 0.50 Γ; Δ3 = Δ1; Δ4 = -10.00 Γ\n",
      "Survival: 0 / 20\n",
      "goodness = 0.000"
     ]
    },
    {
     "name": "stderr",
     "output_type": "stream",
     "text": [
      "\u001b[36m\u001b[1m[ \u001b[22m\u001b[39m\u001b[36m\u001b[1mInfo: \u001b[22m\u001b[39m2023-11-03T06:54:16.512\titeration: 202\tcurrent optimum: 0.03841996494769029\n"
     ]
    },
    {
     "name": "stdout",
     "output_type": "stream",
     "text": [
      "\n"
     ]
    },
    {
     "name": "stderr",
     "output_type": "stream",
     "text": [
      "\u001b[32mProgress: 100%|█████████████████████████████████████████| Time: 0:00:26\u001b[39m\n",
      "\u001b[36m\u001b[1m[ \u001b[22m\u001b[39m\u001b[36m\u001b[1mInfo: \u001b[22m\u001b[39m2023-11-03T06:54:42.651\titeration: 203\tcurrent optimum: 0.03841996494769029\n"
     ]
    },
    {
     "name": "stdout",
     "output_type": "stream",
     "text": [
      "s1 = 4.00; s3 = 3.00; s4 = 6.50; Δ1 = 4.00 Γ; Δ3 = Δ1; Δ4 = -4.00 Γ\n",
      "Survival: 0 / 20\n",
      "goodness = 0.000\n"
     ]
    },
    {
     "name": "stderr",
     "output_type": "stream",
     "text": [
      "\u001b[32mProgress: 100%|█████████████████████████████████████████| Time: 0:01:43\u001b[39m\n"
     ]
    },
    {
     "name": "stdout",
     "output_type": "stream",
     "text": [
      "s1 = 4.00; s3 = 8.00; s4 = 0.50; Δ1 = 0.50 Γ; Δ3 = Δ1; Δ4 = -10.00 Γ\n",
      "Survival: 11 / 20\n",
      "goodness = 0.006"
     ]
    },
    {
     "name": "stderr",
     "output_type": "stream",
     "text": [
      "\u001b[36m\u001b[1m[ \u001b[22m\u001b[39m\u001b[36m\u001b[1mInfo: \u001b[22m\u001b[39m2023-11-03T06:56:26.821\titeration: 204\tcurrent optimum: 0.03841996494769029\n"
     ]
    },
    {
     "name": "stdout",
     "output_type": "stream",
     "text": [
      "\n"
     ]
    },
    {
     "name": "stderr",
     "output_type": "stream",
     "text": [
      "\u001b[32mProgress: 100%|█████████████████████████████████████████| Time: 0:02:24\u001b[39m\n",
      "\u001b[36m\u001b[1m[ \u001b[22m\u001b[39m\u001b[36m\u001b[1mInfo: \u001b[22m\u001b[39m2023-11-03T06:58:51.852\titeration: 205\tcurrent optimum: 0.03841996494769029\n"
     ]
    },
    {
     "name": "stdout",
     "output_type": "stream",
     "text": [
      "s1 = 4.00; s3 = 3.00; s4 = 0.50; Δ1 = 4.00 Γ; Δ3 = Δ1; Δ4 = -10.00 Γ\n",
      "Survival: 11 / 20\n",
      "goodness = 0.007\n"
     ]
    },
    {
     "name": "stderr",
     "output_type": "stream",
     "text": [
      "\u001b[32mProgress: 100%|█████████████████████████████████████████| Time: 0:00:59\u001b[39m\n",
      "\u001b[36m\u001b[1m[ \u001b[22m\u001b[39m\u001b[36m\u001b[1mInfo: \u001b[22m\u001b[39m2023-11-03T06:59:51.399\titeration: 206\tcurrent optimum: 0.03841996494769029\n"
     ]
    },
    {
     "name": "stdout",
     "output_type": "stream",
     "text": [
      "s1 = 4.00; s3 = 8.00; s4 = 0.50; Δ1 = 4.00 Γ; Δ3 = Δ1; Δ4 = -4.00 Γ\n",
      "Survival: 2 / 20\n",
      "goodness = 0.002\n"
     ]
    },
    {
     "name": "stderr",
     "output_type": "stream",
     "text": [
      "\u001b[32mProgress: 100%|█████████████████████████████████████████| Time: 0:00:35\u001b[39m\n",
      "\u001b[36m\u001b[1m[ \u001b[22m\u001b[39m\u001b[36m\u001b[1mInfo: \u001b[22m\u001b[39m2023-11-03T07:00:26.662\titeration: 207\tcurrent optimum: 0.03841996494769029\n"
     ]
    },
    {
     "name": "stdout",
     "output_type": "stream",
     "text": [
      "s1 = 0.50; s3 = 3.00; s4 = 6.50; Δ1 = 0.50 Γ; Δ3 = Δ1; Δ4 = -4.00 Γ\n",
      "Survival: 0 / 20\n",
      "goodness = 0.000\n"
     ]
    },
    {
     "name": "stderr",
     "output_type": "stream",
     "text": [
      "\u001b[32mProgress: 100%|█████████████████████████████████████████| Time: 0:01:29\u001b[39m\n",
      "\u001b[36m\u001b[1m[ \u001b[22m\u001b[39m\u001b[36m\u001b[1mInfo: \u001b[22m\u001b[39m2023-11-03T07:01:56.581\titeration: 208\tcurrent optimum: 0.03841996494769029\n"
     ]
    },
    {
     "name": "stdout",
     "output_type": "stream",
     "text": [
      "s1 = 4.00; s3 = 3.00; s4 = 6.50; Δ1 = 0.50 Γ; Δ3 = Δ1; Δ4 = -10.00 Γ\n",
      "Survival: 7 / 20\n",
      "goodness = 0.015\n"
     ]
    },
    {
     "name": "stderr",
     "output_type": "stream",
     "text": [
      "\u001b[32mProgress:  90%|█████████████████████████████████████    |  ETA: 0:00:07\u001b[39m\r"
     ]
    },
    {
     "name": "stdout",
     "output_type": "stream",
     "text": [
      "s1 = 4.00; s3 = 3.00; s4 = 0.50; Δ1 = 0.50 Γ; Δ3 = Δ1; Δ4 = -10.00 Γ\n",
      "Survival: 3 / 20\n",
      "goodness = 0.003\n"
     ]
    },
    {
     "name": "stderr",
     "output_type": "stream",
     "text": [
      "\u001b[32mProgress: 100%|█████████████████████████████████████████| Time: 0:01:01\u001b[39m\n",
      "\u001b[36m\u001b[1m[ \u001b[22m\u001b[39m\u001b[36m\u001b[1mInfo: \u001b[22m\u001b[39m2023-11-03T07:02:58.514\titeration: 209\tcurrent optimum: 0.03841996494769029\n",
      "\u001b[32mProgress: 100%|█████████████████████████████████████████| Time: 0:00:43\u001b[39m\n"
     ]
    },
    {
     "name": "stdout",
     "output_type": "stream",
     "text": [
      "s1 = 0.50; s3 = 8.00; s4 = 6.50; Δ1 = 4.00 Γ; Δ3 = Δ1; Δ4 = -4.00 Γ\n",
      "Survival: 0 / 20\n",
      "goodness = 0.000\n"
     ]
    },
    {
     "name": "stderr",
     "output_type": "stream",
     "text": [
      "\u001b[36m\u001b[1m[ \u001b[22m\u001b[39m\u001b[36m\u001b[1mInfo: \u001b[22m\u001b[39m2023-11-03T07:03:42.507\titeration: 210\tcurrent optimum: 0.03841996494769029\n",
      "\u001b[32mProgress: 100%|█████████████████████████████████████████| Time: 0:00:58\u001b[39m\n",
      "\u001b[36m\u001b[1m[ \u001b[22m\u001b[39m\u001b[36m\u001b[1mInfo: \u001b[22m\u001b[39m2023-11-03T07:04:40.608\titeration: 211\tcurrent optimum: 0.03841996494769029\n"
     ]
    },
    {
     "name": "stdout",
     "output_type": "stream",
     "text": [
      "s1 = 0.50; s3 = 8.00; s4 = 0.50; Δ1 = 4.00 Γ; Δ3 = Δ1; Δ4 = -10.00 Γ\n",
      "Survival: 1 / 20\n",
      "goodness = 0.000\n"
     ]
    },
    {
     "name": "stderr",
     "output_type": "stream",
     "text": [
      "\u001b[32mProgress: 100%|█████████████████████████████████████████| Time: 0:01:28\u001b[39m\n",
      "\u001b[36m\u001b[1m[ \u001b[22m\u001b[39m\u001b[36m\u001b[1mInfo: \u001b[22m\u001b[39m2023-11-03T07:06:08.929\titeration: 212\tcurrent optimum: 0.03841996494769029\n"
     ]
    },
    {
     "name": "stdout",
     "output_type": "stream",
     "text": [
      "s1 = 4.00; s3 = 3.00; s4 = 6.50; Δ1 = 0.50 Γ; Δ3 = Δ1; Δ4 = -10.00 Γ\n",
      "Survival: 6 / 20\n",
      "goodness = 0.013\n"
     ]
    },
    {
     "name": "stderr",
     "output_type": "stream",
     "text": [
      "\u001b[32mProgress: 100%|█████████████████████████████████████████| Time: 0:01:04\u001b[39m\n",
      "\u001b[36m\u001b[1m[ \u001b[22m\u001b[39m\u001b[36m\u001b[1mInfo: \u001b[22m\u001b[39m2023-11-03T07:07:13.710\titeration: 213\tcurrent optimum: 0.03841996494769029\n"
     ]
    },
    {
     "name": "stdout",
     "output_type": "stream",
     "text": [
      "s1 = 4.00; s3 = 8.00; s4 = 0.50; Δ1 = 4.00 Γ; Δ3 = Δ1; Δ4 = -4.00 Γ\n",
      "Survival: 2 / 20\n",
      "goodness = 0.001\n"
     ]
    },
    {
     "name": "stderr",
     "output_type": "stream",
     "text": [
      "\u001b[32mProgress: 100%|█████████████████████████████████████████| Time: 0:01:29\u001b[39m\n",
      "\u001b[36m\u001b[1m[ \u001b[22m\u001b[39m\u001b[36m\u001b[1mInfo: \u001b[22m\u001b[39m2023-11-03T07:08:43.858\titeration: 214\tcurrent optimum: 0.03841996494769029\n"
     ]
    },
    {
     "name": "stdout",
     "output_type": "stream",
     "text": [
      "s1 = 0.50; s3 = 3.00; s4 = 6.50; Δ1 = 0.50 Γ; Δ3 = Δ1; Δ4 = -10.00 Γ\n",
      "Survival: 2 / 20\n",
      "goodness = 0.005\n"
     ]
    },
    {
     "name": "stderr",
     "output_type": "stream",
     "text": [
      "\u001b[32mProgress: 100%|█████████████████████████████████████████| Time: 0:00:56\u001b[39m\n",
      "\u001b[36m\u001b[1m[ \u001b[22m\u001b[39m\u001b[36m\u001b[1mInfo: \u001b[22m\u001b[39m2023-11-03T07:09:40.223\titeration: 215\tcurrent optimum: 0.03841996494769029\n"
     ]
    },
    {
     "name": "stdout",
     "output_type": "stream",
     "text": [
      "s1 = 4.00; s3 = 3.00; s4 = 6.50; Δ1 = 4.00 Γ; Δ3 = Δ1; Δ4 = -4.00 Γ\n",
      "Survival: 0 / 20\n",
      "goodness = 0.000\n"
     ]
    },
    {
     "name": "stderr",
     "output_type": "stream",
     "text": [
      "\u001b[32mProgress: 100%|█████████████████████████████████████████| Time: 0:00:29\u001b[39m\n"
     ]
    },
    {
     "name": "stdout",
     "output_type": "stream",
     "text": [
      "s1 = 0.50; s3 = 8.00; s4 = 0.50; Δ1 = 4.00 Γ; Δ3 = Δ1; Δ4 = -10.00 Γ\n",
      "Survival: 0 / 20\n",
      "goodness = 0.000\n"
     ]
    },
    {
     "name": "stderr",
     "output_type": "stream",
     "text": [
      "\u001b[36m\u001b[1m[ \u001b[22m\u001b[39m\u001b[36m\u001b[1mInfo: \u001b[22m\u001b[39m2023-11-03T07:10:10.243\titeration: 216\tcurrent optimum: 0.03841996494769029\n",
      "\u001b[32mProgress: 100%|█████████████████████████████████████████| Time: 0:01:15\u001b[39m\n"
     ]
    },
    {
     "name": "stdout",
     "output_type": "stream",
     "text": [
      "s1 = 4.00; s3 = 3.00; s4 = 0.50; Δ1 = 0.50 Γ; Δ3 = Δ1; Δ4 = -10.00 Γ\n",
      "Survival: 3 / 20\n",
      "goodness = 0.008\n"
     ]
    },
    {
     "name": "stderr",
     "output_type": "stream",
     "text": [
      "\u001b[36m\u001b[1m[ \u001b[22m\u001b[39m\u001b[36m\u001b[1mInfo: \u001b[22m\u001b[39m2023-11-03T07:11:25.392\titeration: 217\tcurrent optimum: 0.03841996494769029\n",
      "\u001b[32mProgress: 100%|█████████████████████████████████████████| Time: 0:00:38\u001b[39m\n",
      "\u001b[36m\u001b[1m[ \u001b[22m\u001b[39m\u001b[36m\u001b[1mInfo: \u001b[22m\u001b[39m2023-11-03T07:12:04.369\titeration: 218\tcurrent optimum: 0.03841996494769029\n"
     ]
    },
    {
     "name": "stdout",
     "output_type": "stream",
     "text": [
      "s1 = 0.50; s3 = 3.00; s4 = 0.50; Δ1 = 0.50 Γ; Δ3 = Δ1; Δ4 = -4.00 Γ\n",
      "Survival: 2 / 20\n",
      "goodness = 0.012\n"
     ]
    },
    {
     "name": "stderr",
     "output_type": "stream",
     "text": [
      "\u001b[32mProgress: 100%|█████████████████████████████████████████| Time: 0:02:24\u001b[39m\n"
     ]
    },
    {
     "name": "stdout",
     "output_type": "stream",
     "text": [
      "s1 = 4.00; s3 = 8.00; s4 = 6.50; Δ1 = 0.50 Γ; Δ3 = Δ1; Δ4 = -4.00 Γ\n",
      "Survival: 14 / 20\n",
      "goodness = 0.003\n"
     ]
    },
    {
     "name": "stderr",
     "output_type": "stream",
     "text": [
      "\u001b[36m\u001b[1m[ \u001b[22m\u001b[39m\u001b[36m\u001b[1mInfo: \u001b[22m\u001b[39m2023-11-03T07:14:29.210\titeration: 219\tcurrent optimum: 0.03841996494769029\n",
      "\u001b[32mProgress: 100%|█████████████████████████████████████████| Time: 0:01:17\u001b[39m\n"
     ]
    },
    {
     "name": "stdout",
     "output_type": "stream",
     "text": [
      "s1 = 0.50; s3 = 3.00; s4 = 6.50; Δ1 = 0.50 Γ; Δ3 = Δ1; Δ4 = -10.00 Γ\n",
      "Survival: 1 / 20\n",
      "goodness = 0.004\n"
     ]
    },
    {
     "name": "stderr",
     "output_type": "stream",
     "text": [
      "\u001b[36m\u001b[1m[ \u001b[22m\u001b[39m\u001b[36m\u001b[1mInfo: \u001b[22m\u001b[39m2023-11-03T07:15:47.002\titeration: 220\tcurrent optimum: 0.03841996494769029\n",
      "\u001b[32mProgress: 100%|█████████████████████████████████████████| Time: 0:01:50\u001b[39m\n",
      "\u001b[36m\u001b[1m[ \u001b[22m\u001b[39m\u001b[36m\u001b[1mInfo: \u001b[22m\u001b[39m2023-11-03T07:17:37.812\titeration: 221\tcurrent optimum: 0.03841996494769029\n"
     ]
    },
    {
     "name": "stdout",
     "output_type": "stream",
     "text": [
      "s1 = 4.00; s3 = 8.00; s4 = 0.50; Δ1 = 0.50 Γ; Δ3 = Δ1; Δ4 = -4.00 Γ\n",
      "Survival: 10 / 20\n",
      "goodness = 0.006\n"
     ]
    },
    {
     "name": "stderr",
     "output_type": "stream",
     "text": [
      "\u001b[32mProgress: 100%|█████████████████████████████████████████| Time: 0:02:33\u001b[39m\n",
      "\u001b[36m\u001b[1m[ \u001b[22m\u001b[39m\u001b[36m\u001b[1mInfo: \u001b[22m\u001b[39m2023-11-03T07:20:11.008\titeration: 222\tcurrent optimum: 0.03841996494769029\n"
     ]
    },
    {
     "name": "stdout",
     "output_type": "stream",
     "text": [
      "s1 = 4.00; s3 = 3.00; s4 = 0.50; Δ1 = 4.00 Γ; Δ3 = Δ1; Δ4 = -10.00 Γ\n",
      "Survival: 13 / 20\n",
      "goodness = 0.016\n"
     ]
    },
    {
     "name": "stderr",
     "output_type": "stream",
     "text": [
      "\u001b[32mProgress: 100%|█████████████████████████████████████████| Time: 0:01:21\u001b[39m\n",
      "\u001b[36m\u001b[1m[ \u001b[22m\u001b[39m\u001b[36m\u001b[1mInfo: \u001b[22m\u001b[39m2023-11-03T07:21:32.215\titeration: 223\tcurrent optimum: 0.03841996494769029\n"
     ]
    },
    {
     "name": "stdout",
     "output_type": "stream",
     "text": [
      "s1 = 4.00; s3 = 3.00; s4 = 6.50; Δ1 = 4.00 Γ; Δ3 = Δ1; Δ4 = -10.00 Γ\n",
      "Survival: 2 / 20\n",
      "goodness = 0.009\n"
     ]
    },
    {
     "name": "stderr",
     "output_type": "stream",
     "text": [
      "\u001b[32mProgress: 100%|█████████████████████████████████████████| Time: 0:01:34\u001b[39m"
     ]
    },
    {
     "name": "stdout",
     "output_type": "stream",
     "text": [
      "s1 = 4.00; s3 = 8.00; s4 = 0.50; Δ1 = 0.50 Γ; Δ3 = Δ1; Δ4 = -4.00 Γ\n",
      "Survival: 11 / 20\n",
      "goodness = 0.007"
     ]
    },
    {
     "name": "stderr",
     "output_type": "stream",
     "text": [
      "\n",
      "\u001b[36m\u001b[1m[ \u001b[22m\u001b[39m\u001b[36m\u001b[1mInfo: \u001b[22m\u001b[39m2023-11-03T07:23:06.502\titeration: 224\tcurrent optimum: 0.03841996494769029\n"
     ]
    },
    {
     "name": "stdout",
     "output_type": "stream",
     "text": [
      "\n"
     ]
    },
    {
     "name": "stderr",
     "output_type": "stream",
     "text": [
      "\u001b[32mProgress: 100%|█████████████████████████████████████████| Time: 0:00:17\u001b[39m\n",
      "\u001b[36m\u001b[1m[ \u001b[22m\u001b[39m\u001b[36m\u001b[1mInfo: \u001b[22m\u001b[39m2023-11-03T07:23:23.678\titeration: 225\tcurrent optimum: 0.03841996494769029\n"
     ]
    },
    {
     "name": "stdout",
     "output_type": "stream",
     "text": [
      "s1 = 0.50; s3 = 3.00; s4 = 6.50; Δ1 = 4.00 Γ; Δ3 = Δ1; Δ4 = -4.00 Γ\n",
      "Survival: 0 / 20\n",
      "goodness = 0.000\n"
     ]
    },
    {
     "name": "stderr",
     "output_type": "stream",
     "text": [
      "\u001b[32mProgress: 100%|█████████████████████████████████████████| Time: 0:01:28\u001b[39m\n"
     ]
    },
    {
     "name": "stdout",
     "output_type": "stream",
     "text": [
      "s1 = 0.50; s3 = 8.00; s4 = 0.50; Δ1 = 4.00 Γ; Δ3 = Δ1; Δ4 = -10.00 Γ\n",
      "Survival: 0 / 20\n",
      "goodness = 0.000"
     ]
    },
    {
     "name": "stderr",
     "output_type": "stream",
     "text": [
      "\u001b[36m\u001b[1m[ \u001b[22m\u001b[39m\u001b[36m\u001b[1mInfo: \u001b[22m\u001b[39m2023-11-03T07:24:52.547\titeration: 226\tcurrent optimum: 0.03841996494769029\n"
     ]
    },
    {
     "name": "stdout",
     "output_type": "stream",
     "text": [
      "\n"
     ]
    },
    {
     "name": "stderr",
     "output_type": "stream",
     "text": [
      "\u001b[32mProgress: 100%|█████████████████████████████████████████| Time: 0:01:19\u001b[39m\n"
     ]
    },
    {
     "name": "stdout",
     "output_type": "stream",
     "text": [
      "s1 = 0.50; s3 = 3.00; s4 = 6.50; Δ1 = 0.50 Γ; Δ3 = Δ1; Δ4 = -10.00 Γ\n",
      "Survival: 0 / 20\n",
      "goodness = 0.000"
     ]
    },
    {
     "name": "stderr",
     "output_type": "stream",
     "text": [
      "\u001b[36m\u001b[1m[ \u001b[22m\u001b[39m\u001b[36m\u001b[1mInfo: \u001b[22m\u001b[39m2023-11-03T07:26:12.410\titeration: 227\tcurrent optimum: 0.03841996494769029\n"
     ]
    },
    {
     "name": "stdout",
     "output_type": "stream",
     "text": [
      "\n"
     ]
    },
    {
     "name": "stderr",
     "output_type": "stream",
     "text": [
      "\u001b[32mProgress: 100%|█████████████████████████████████████████| Time: 0:01:45\u001b[39m\n"
     ]
    },
    {
     "name": "stdout",
     "output_type": "stream",
     "text": [
      "s1 = 4.00; s3 = 3.00; s4 = 0.50; Δ1 = 0.50 Γ; Δ3 = Δ1; Δ4 = -4.00 Γ\n",
      "Survival: 5 / 20\n",
      "goodness = 0.005\n"
     ]
    },
    {
     "name": "stderr",
     "output_type": "stream",
     "text": [
      "\u001b[36m\u001b[1m[ \u001b[22m\u001b[39m\u001b[36m\u001b[1mInfo: \u001b[22m\u001b[39m2023-11-03T07:27:58.159\titeration: 228\tcurrent optimum: 0.03841996494769029\n",
      "\u001b[32mProgress: 100%|█████████████████████████████████████████| Time: 0:00:25\u001b[39m\n",
      "\u001b[36m\u001b[1m[ \u001b[22m\u001b[39m\u001b[36m\u001b[1mInfo: \u001b[22m\u001b[39m2023-11-03T07:28:23.915\titeration: 229\tcurrent optimum: 0.03841996494769029\n"
     ]
    },
    {
     "name": "stdout",
     "output_type": "stream",
     "text": [
      "s1 = 0.50; s3 = 8.00; s4 = 6.50; Δ1 = 4.00 Γ; Δ3 = Δ1; Δ4 = -10.00 Γ\n",
      "Survival: 0 / 20\n",
      "goodness = 0.000\n"
     ]
    },
    {
     "name": "stderr",
     "output_type": "stream",
     "text": [
      "\u001b[32mProgress: 100%|█████████████████████████████████████████| Time: 0:00:49\u001b[39m\n",
      "\u001b[36m\u001b[1m[ \u001b[22m\u001b[39m\u001b[36m\u001b[1mInfo: \u001b[22m\u001b[39m2023-11-03T07:29:13.599\titeration: 230\tcurrent optimum: 0.03841996494769029\n"
     ]
    },
    {
     "name": "stdout",
     "output_type": "stream",
     "text": [
      "s1 = 4.00; s3 = 8.00; s4 = 0.50; Δ1 = 4.00 Γ; Δ3 = Δ1; Δ4 = -4.00 Γ\n",
      "Survival: 2 / 20\n",
      "goodness = 0.001\n"
     ]
    },
    {
     "name": "stderr",
     "output_type": "stream",
     "text": [
      "\u001b[32mProgress: 100%|█████████████████████████████████████████| Time: 0:01:04\u001b[39m\n",
      "\u001b[36m\u001b[1m[ \u001b[22m\u001b[39m\u001b[36m\u001b[1mInfo: \u001b[22m\u001b[39m2023-11-03T07:30:18.293\titeration: 231\tcurrent optimum: 0.03841996494769029\n"
     ]
    },
    {
     "name": "stdout",
     "output_type": "stream",
     "text": [
      "s1 = 4.00; s3 = 8.00; s4 = 0.50; Δ1 = 0.50 Γ; Δ3 = Δ1; Δ4 = -10.00 Γ\n",
      "Survival: 9 / 20\n",
      "goodness = 0.006\n"
     ]
    },
    {
     "name": "stderr",
     "output_type": "stream",
     "text": [
      "\u001b[32mProgress: 100%|█████████████████████████████████████████| Time: 0:00:31\u001b[39m\n",
      "\u001b[36m\u001b[1m[ \u001b[22m\u001b[39m\u001b[36m\u001b[1mInfo: \u001b[22m\u001b[39m2023-11-03T07:30:50.176\titeration: 232\tcurrent optimum: 0.03841996494769029\n"
     ]
    },
    {
     "name": "stdout",
     "output_type": "stream",
     "text": [
      "s1 = 4.00; s3 = 3.00; s4 = 6.50; Δ1 = 4.00 Γ; Δ3 = Δ1; Δ4 = -4.00 Γ\n",
      "Survival: 0 / 20\n",
      "goodness = 0.000\n"
     ]
    },
    {
     "name": "stderr",
     "output_type": "stream",
     "text": [
      "\u001b[32mProgress: 100%|█████████████████████████████████████████| Time: 0:01:00\u001b[39m\n",
      "\u001b[36m\u001b[1m[ \u001b[22m\u001b[39m\u001b[36m\u001b[1mInfo: \u001b[22m\u001b[39m2023-11-03T07:31:51.063\titeration: 233\tcurrent optimum: 0.03841996494769029\n"
     ]
    },
    {
     "name": "stdout",
     "output_type": "stream",
     "text": [
      "s1 = 4.00; s3 = 3.00; s4 = 0.50; Δ1 = 0.50 Γ; Δ3 = Δ1; Δ4 = -10.00 Γ\n",
      "Survival: 3 / 20\n",
      "goodness = 0.010\n"
     ]
    },
    {
     "name": "stderr",
     "output_type": "stream",
     "text": [
      "\u001b[32mProgress: 100%|█████████████████████████████████████████| Time: 0:01:21\u001b[39m\n",
      "\u001b[36m\u001b[1m[ \u001b[22m\u001b[39m\u001b[36m\u001b[1mInfo: \u001b[22m\u001b[39m2023-11-03T07:33:12.728\titeration: 234\tcurrent optimum: 0.03841996494769029\n"
     ]
    },
    {
     "name": "stdout",
     "output_type": "stream",
     "text": [
      "s1 = 0.50; s3 = 8.00; s4 = 6.50; Δ1 = 0.50 Γ; Δ3 = Δ1; Δ4 = -10.00 Γ\n",
      "Survival: 2 / 20\n",
      "goodness = 0.002\n"
     ]
    },
    {
     "name": "stderr",
     "output_type": "stream",
     "text": [
      "\u001b[32mProgress: 100%|█████████████████████████████████████████| Time: 0:00:39\u001b[39m\n",
      "\u001b[36m\u001b[1m[ \u001b[22m\u001b[39m\u001b[36m\u001b[1mInfo: \u001b[22m\u001b[39m2023-11-03T07:33:52.032\titeration: 235\tcurrent optimum: 0.03841996494769029\n"
     ]
    },
    {
     "name": "stdout",
     "output_type": "stream",
     "text": [
      "s1 = 0.50; s3 = 3.00; s4 = 0.50; Δ1 = 4.00 Γ; Δ3 = Δ1; Δ4 = -4.00 Γ\n",
      "Survival: 0 / 20\n",
      "goodness = 0.000\n"
     ]
    },
    {
     "name": "stderr",
     "output_type": "stream",
     "text": [
      "\u001b[32mProgress: 100%|█████████████████████████████████████████| Time: 0:01:28\u001b[39m\n",
      "\u001b[36m\u001b[1m[ \u001b[22m\u001b[39m\u001b[36m\u001b[1mInfo: \u001b[22m\u001b[39m2023-11-03T07:35:20.544\titeration: 236\tcurrent optimum: 0.03841996494769029\n"
     ]
    },
    {
     "name": "stdout",
     "output_type": "stream",
     "text": [
      "s1 = 4.00; s3 = 3.00; s4 = 6.50; Δ1 = 4.00 Γ; Δ3 = Δ1; Δ4 = -10.00 Γ\n",
      "Survival: 2 / 20\n",
      "goodness = 0.010\n"
     ]
    },
    {
     "name": "stderr",
     "output_type": "stream",
     "text": [
      "\u001b[32mProgress: 100%|█████████████████████████████████████████| Time: 0:00:57\u001b[39m\n"
     ]
    },
    {
     "name": "stdout",
     "output_type": "stream",
     "text": [
      "s1 = 0.50; s3 = 3.00; s4 = 0.50; Δ1 = 0.50 Γ; Δ3 = Δ1; Δ4 = -4.00 Γ\n",
      "Survival: 1 / 20\n",
      "goodness = 0.006"
     ]
    },
    {
     "name": "stderr",
     "output_type": "stream",
     "text": [
      "\u001b[36m\u001b[1m[ \u001b[22m\u001b[39m\u001b[36m\u001b[1mInfo: \u001b[22m\u001b[39m2023-11-03T07:36:18.222\titeration: 237\tcurrent optimum: 0.03841996494769029\n"
     ]
    },
    {
     "name": "stdout",
     "output_type": "stream",
     "text": [
      "\n"
     ]
    },
    {
     "name": "stderr",
     "output_type": "stream",
     "text": [
      "\u001b[32mProgress:  95%|███████████████████████████████████████  |  ETA: 0:00:04\u001b[39m\r"
     ]
    },
    {
     "name": "stdout",
     "output_type": "stream",
     "text": [
      "s1 = 4.00; s3 = 8.00; s4 = 6.50; Δ1 = 4.00 Γ; Δ3 = Δ1; Δ4 = -10.00 Γ\n",
      "Survival: 9 / 20\n",
      "goodness = 0.007"
     ]
    },
    {
     "name": "stderr",
     "output_type": "stream",
     "text": [
      "\u001b[32mProgress: 100%|█████████████████████████████████████████| Time: 0:01:27\u001b[39m\n",
      "\u001b[36m\u001b[1m[ \u001b[22m\u001b[39m\u001b[36m\u001b[1mInfo: \u001b[22m\u001b[39m2023-11-03T07:37:45.771\titeration: 238\tcurrent optimum: 0.03841996494769029\n"
     ]
    },
    {
     "name": "stdout",
     "output_type": "stream",
     "text": [
      "\n"
     ]
    },
    {
     "name": "stderr",
     "output_type": "stream",
     "text": [
      "\u001b[32mProgress: 100%|█████████████████████████████████████████| Time: 0:00:58\u001b[39m\n"
     ]
    },
    {
     "name": "stdout",
     "output_type": "stream",
     "text": [
      "s1 = 0.50; s3 = 3.00; s4 = 0.50; Δ1 = 0.50 Γ; Δ3 = Δ1; Δ4 = -10.00 Γ\n",
      "Survival: 1 / 20\n",
      "goodness = 0.005"
     ]
    },
    {
     "name": "stderr",
     "output_type": "stream",
     "text": [
      "\u001b[36m\u001b[1m[ \u001b[22m\u001b[39m\u001b[36m\u001b[1mInfo: \u001b[22m\u001b[39m2023-11-03T07:38:43.906\titeration: 239\tcurrent optimum: 0.03841996494769029\n"
     ]
    },
    {
     "name": "stdout",
     "output_type": "stream",
     "text": [
      "\n"
     ]
    },
    {
     "name": "stderr",
     "output_type": "stream",
     "text": [
      "\u001b[32mProgress: 100%|█████████████████████████████████████████| Time: 0:00:16\u001b[39m\n",
      "\u001b[36m\u001b[1m[ \u001b[22m\u001b[39m\u001b[36m\u001b[1mInfo: \u001b[22m\u001b[39m2023-11-03T07:39:00.465\titeration: 240\tcurrent optimum: 0.03841996494769029\n"
     ]
    },
    {
     "name": "stdout",
     "output_type": "stream",
     "text": [
      "s1 = 4.00; s3 = 8.00; s4 = 6.50; Δ1 = 4.00 Γ; Δ3 = Δ1; Δ4 = -4.00 Γ\n",
      "Survival: 0 / 20\n",
      "goodness = 0.000\n"
     ]
    },
    {
     "name": "stderr",
     "output_type": "stream",
     "text": [
      "\u001b[32mProgress: 100%|█████████████████████████████████████████| Time: 0:00:59\u001b[39m\n"
     ]
    },
    {
     "name": "stdout",
     "output_type": "stream",
     "text": [
      "s1 = 4.00; s3 = 8.00; s4 = 0.50; Δ1 = 0.50 Γ; Δ3 = Δ1; Δ4 = -10.00 Γ\n",
      "Survival: 7 / 20\n",
      "goodness = 0.006"
     ]
    },
    {
     "name": "stderr",
     "output_type": "stream",
     "text": [
      "\u001b[36m\u001b[1m[ \u001b[22m\u001b[39m\u001b[36m\u001b[1mInfo: \u001b[22m\u001b[39m2023-11-03T07:40:00.132\titeration: 241\tcurrent optimum: 0.03841996494769029\n"
     ]
    },
    {
     "name": "stdout",
     "output_type": "stream",
     "text": [
      "\n"
     ]
    },
    {
     "name": "stderr",
     "output_type": "stream",
     "text": [
      "\u001b[32mProgress: 100%|█████████████████████████████████████████| Time: 0:00:49\u001b[39m\n",
      "\u001b[36m\u001b[1m[ \u001b[22m\u001b[39m\u001b[36m\u001b[1mInfo: \u001b[22m\u001b[39m2023-11-03T07:40:49.398\titeration: 242\tcurrent optimum: 0.03841996494769029\n"
     ]
    },
    {
     "name": "stdout",
     "output_type": "stream",
     "text": [
      "s1 = 0.50; s3 = 3.00; s4 = 6.50; Δ1 = 0.50 Γ; Δ3 = Δ1; Δ4 = -4.00 Γ\n",
      "Survival: 0 / 20\n",
      "goodness = 0.000\n"
     ]
    },
    {
     "name": "stderr",
     "output_type": "stream",
     "text": [
      "\u001b[32mProgress: 100%|█████████████████████████████████████████| Time: 0:01:05\u001b[39m"
     ]
    },
    {
     "name": "stdout",
     "output_type": "stream",
     "text": [
      "s1 = 0.50; s3 = 3.00; s4 = 0.50; Δ1 = 4.00 Γ; Δ3 = Δ1; Δ4 = -10.00 Γ\n",
      "Survival: 0 / 20\n",
      "goodness = 0.000"
     ]
    },
    {
     "name": "stderr",
     "output_type": "stream",
     "text": [
      "\n",
      "\u001b[36m\u001b[1m[ \u001b[22m\u001b[39m\u001b[36m\u001b[1mInfo: \u001b[22m\u001b[39m2023-11-03T07:41:54.543\titeration: 243\tcurrent optimum: 0.03841996494769029\n"
     ]
    },
    {
     "name": "stdout",
     "output_type": "stream",
     "text": [
      "\n"
     ]
    },
    {
     "name": "stderr",
     "output_type": "stream",
     "text": [
      "\u001b[32mProgress: 100%|█████████████████████████████████████████| Time: 0:02:13\u001b[39m\n",
      "\u001b[36m\u001b[1m[ \u001b[22m\u001b[39m\u001b[36m\u001b[1mInfo: \u001b[22m\u001b[39m2023-11-03T07:44:07.700\titeration: 244\tcurrent optimum: 0.03841996494769029\n"
     ]
    },
    {
     "name": "stdout",
     "output_type": "stream",
     "text": [
      "s1 = 4.00; s3 = 8.00; s4 = 6.50; Δ1 = 0.50 Γ; Δ3 = Δ1; Δ4 = -4.00 Γ\n",
      "Survival: 17 / 20\n",
      "goodness = 0.003\n"
     ]
    },
    {
     "name": "stderr",
     "output_type": "stream",
     "text": [
      "\u001b[32mProgress: 100%|█████████████████████████████████████████| Time: 0:01:07\u001b[39m\n"
     ]
    },
    {
     "name": "stdout",
     "output_type": "stream",
     "text": [
      "s1 = 4.00; s3 = 3.00; s4 = 0.50; Δ1 = 4.00 Γ; Δ3 = Δ1; Δ4 = -4.00 Γ\n",
      "Survival: 5 / 20\n",
      "goodness = 0.021\n"
     ]
    },
    {
     "name": "stderr",
     "output_type": "stream",
     "text": [
      "\u001b[36m\u001b[1m[ \u001b[22m\u001b[39m\u001b[36m\u001b[1mInfo: \u001b[22m\u001b[39m2023-11-03T07:45:15.750\titeration: 245\tcurrent optimum: 0.03841996494769029\n",
      "\u001b[32mProgress: 100%|█████████████████████████████████████████| Time: 0:00:55\u001b[39m\n",
      "\u001b[36m\u001b[1m[ \u001b[22m\u001b[39m\u001b[36m\u001b[1mInfo: \u001b[22m\u001b[39m2023-11-03T07:46:11.086\titeration: 246\tcurrent optimum: 0.03841996494769029\n"
     ]
    },
    {
     "name": "stdout",
     "output_type": "stream",
     "text": [
      "s1 = 0.50; s3 = 8.00; s4 = 0.50; Δ1 = 4.00 Γ; Δ3 = Δ1; Δ4 = -10.00 Γ\n",
      "Survival: 0 / 20\n",
      "goodness = 0.000\n"
     ]
    },
    {
     "name": "stderr",
     "output_type": "stream",
     "text": [
      "\u001b[32mProgress: 100%|█████████████████████████████████████████| Time: 0:00:56\u001b[39m\n",
      "\u001b[36m\u001b[1m[ \u001b[22m\u001b[39m\u001b[36m\u001b[1mInfo: \u001b[22m\u001b[39m2023-11-03T07:47:07.974\titeration: 247\tcurrent optimum: 0.03841996494769029\n"
     ]
    },
    {
     "name": "stdout",
     "output_type": "stream",
     "text": [
      "s1 = 4.00; s3 = 3.00; s4 = 6.50; Δ1 = 4.00 Γ; Δ3 = Δ1; Δ4 = -4.00 Γ\n",
      "Survival: 0 / 20\n",
      "goodness = 0.000\n"
     ]
    },
    {
     "name": "stderr",
     "output_type": "stream",
     "text": [
      "\u001b[32mProgress: 100%|█████████████████████████████████████████| Time: 0:01:19\u001b[39m\n",
      "\u001b[36m\u001b[1m[ \u001b[22m\u001b[39m\u001b[36m\u001b[1mInfo: \u001b[22m\u001b[39m2023-11-03T07:48:27.661\titeration: 248\tcurrent optimum: 0.03841996494769029\n"
     ]
    },
    {
     "name": "stdout",
     "output_type": "stream",
     "text": [
      "s1 = 4.00; s3 = 3.00; s4 = 0.50; Δ1 = 0.50 Γ; Δ3 = Δ1; Δ4 = -4.00 Γ\n",
      "Survival: 5 / 20\n",
      "goodness = 0.008\n"
     ]
    },
    {
     "name": "stderr",
     "output_type": "stream",
     "text": [
      "\u001b[32mProgress: 100%|█████████████████████████████████████████| Time: 0:01:35\u001b[39m\n"
     ]
    },
    {
     "name": "stdout",
     "output_type": "stream",
     "text": [
      "s1 = 0.50; s3 = 8.00; s4 = 0.50; Δ1 = 0.50 Γ; Δ3 = Δ1; Δ4 = -10.00 Γ\n",
      "Survival: 1 / 20\n",
      "goodness = 0.000"
     ]
    },
    {
     "name": "stderr",
     "output_type": "stream",
     "text": [
      "\u001b[36m\u001b[1m[ \u001b[22m\u001b[39m\u001b[36m\u001b[1mInfo: \u001b[22m\u001b[39m2023-11-03T07:50:03.040\titeration: 249\tcurrent optimum: 0.03841996494769029\n"
     ]
    },
    {
     "name": "stdout",
     "output_type": "stream",
     "text": [
      "\n"
     ]
    },
    {
     "name": "stderr",
     "output_type": "stream",
     "text": [
      "\u001b[32mProgress:  95%|███████████████████████████████████████  |  ETA: 0:00:03\u001b[39m\r"
     ]
    },
    {
     "name": "stdout",
     "output_type": "stream",
     "text": [
      "s1 = 4.00; s3 = 3.00; s4 = 6.50; Δ1 = 0.50 Γ; Δ3 = Δ1; Δ4 = -4.00 Γ\n",
      "Survival: 5 / 20\n",
      "goodness = 0.003"
     ]
    },
    {
     "name": "stderr",
     "output_type": "stream",
     "text": [
      "\u001b[32mProgress: 100%|█████████████████████████████████████████| Time: 0:01:02\u001b[39m\n"
     ]
    },
    {
     "name": "stdout",
     "output_type": "stream",
     "text": [
      "\n"
     ]
    },
    {
     "name": "stderr",
     "output_type": "stream",
     "text": [
      "\u001b[36m\u001b[1m┌ \u001b[22m\u001b[39m\u001b[36m\u001b[1mInfo: \u001b[22m\u001b[39m ────────────────────────────────────────────────────────────────────────────────\n",
      "\u001b[36m\u001b[1m│ \u001b[22m\u001b[39m                                        Time                    Allocations      \n",
      "\u001b[36m\u001b[1m│ \u001b[22m\u001b[39m                               ───────────────────────   ────────────────────────\n",
      "\u001b[36m\u001b[1m│ \u001b[22m\u001b[39m       Tot / % measured:            3552s / 100.0%           1.14GiB /  99.9%    \n",
      "\u001b[36m\u001b[1m│ \u001b[22m\u001b[39m\n",
      "\u001b[36m\u001b[1m│ \u001b[22m\u001b[39m Section               ncalls     time    %tot     avg     alloc    %tot      avg\n",
      "\u001b[36m\u001b[1m│ \u001b[22m\u001b[39m ────────────────────────────────────────────────────────────────────────────────\n",
      "\u001b[36m\u001b[1m│ \u001b[22m\u001b[39m function evaluation       50    3550s   99.9%   71.0s    578MiB   49.5%  11.6MiB\n",
      "\u001b[36m\u001b[1m│ \u001b[22m\u001b[39m model hyperparamet...     50    1.60s    0.0%  32.1ms    104MiB    9.0%  2.09MiB\n",
      "\u001b[36m\u001b[1m│ \u001b[22m\u001b[39m acquisition               51    434ms    0.0%  8.52ms    483MiB   41.4%  9.48MiB\n",
      "\u001b[36m\u001b[1m│ \u001b[22m\u001b[39m model update              50   7.14ms    0.0%   143μs   1.14MiB    0.1%  23.3KiB\n",
      "\u001b[36m\u001b[1m└ \u001b[22m\u001b[39m ────────────────────────────────────────────────────────────────────────────────\n",
      "\u001b[36m\u001b[1m[ \u001b[22m\u001b[39m\u001b[36m\u001b[1mInfo: \u001b[22m\u001b[39m2023-11-03T07:51:06.008\titeration: 250\tcurrent optimum: 0.03841996494769029\n"
     ]
    },
    {
     "name": "stdout",
     "output_type": "stream",
     "text": [
      "===== Autosaved =====\n"
     ]
    },
    {
     "name": "stderr",
     "output_type": "stream",
     "text": [
      "\u001b[32mProgress: 100%|█████████████████████████████████████████| Time: 0:01:37\u001b[39m\n",
      "\u001b[36m\u001b[1m[ \u001b[22m\u001b[39m\u001b[36m\u001b[1mInfo: \u001b[22m\u001b[39m2023-11-03T07:52:43.662\titeration: 251\tcurrent optimum: 0.03841996494769029\n"
     ]
    },
    {
     "name": "stdout",
     "output_type": "stream",
     "text": [
      "s1 = 4.00; s3 = 3.00; s4 = 6.50; Δ1 = 4.00 Γ; Δ3 = Δ1; Δ4 = -10.00 Γ\n",
      "Survival: 3 / 20\n",
      "goodness = 0.014\n"
     ]
    },
    {
     "name": "stderr",
     "output_type": "stream",
     "text": [
      "\u001b[32mProgress: 100%|█████████████████████████████████████████| Time: 0:01:31\u001b[39m\n",
      "\u001b[36m\u001b[1m[ \u001b[22m\u001b[39m\u001b[36m\u001b[1mInfo: \u001b[22m\u001b[39m2023-11-03T07:54:15.530\titeration: 252\tcurrent optimum: 0.03841996494769029\n"
     ]
    },
    {
     "name": "stdout",
     "output_type": "stream",
     "text": [
      "s1 = 4.00; s3 = 8.00; s4 = 0.50; Δ1 = 0.50 Γ; Δ3 = Δ1; Δ4 = -10.00 Γ\n",
      "Survival: 13 / 20\n",
      "goodness = 0.011\n"
     ]
    },
    {
     "name": "stderr",
     "output_type": "stream",
     "text": [
      "\u001b[32mProgress: 100%|█████████████████████████████████████████| Time: 0:01:17\u001b[39m\n"
     ]
    },
    {
     "name": "stdout",
     "output_type": "stream",
     "text": [
      "s1 = 4.00; s3 = 8.00; s4 = 6.50; Δ1 = 4.00 Γ; Δ3 = Δ1; Δ4 = -10.00 Γ\n",
      "Survival: 6 / 20\n",
      "goodness = 0.004\n"
     ]
    },
    {
     "name": "stderr",
     "output_type": "stream",
     "text": [
      "\u001b[36m\u001b[1m[ \u001b[22m\u001b[39m\u001b[36m\u001b[1mInfo: \u001b[22m\u001b[39m2023-11-03T07:55:33.254\titeration: 253\tcurrent optimum: 0.03841996494769029\n",
      "\u001b[32mProgress: 100%|█████████████████████████████████████████| Time: 0:00:22\u001b[39m\n"
     ]
    },
    {
     "name": "stdout",
     "output_type": "stream",
     "text": [
      "s1 = 0.50; s3 = 3.00; s4 = 0.50; Δ1 = 4.00 Γ; Δ3 = Δ1; Δ4 = -4.00 Γ\n",
      "Survival: 0 / 20\n",
      "goodness = 0.000"
     ]
    },
    {
     "name": "stderr",
     "output_type": "stream",
     "text": [
      "\u001b[36m\u001b[1m[ \u001b[22m\u001b[39m\u001b[36m\u001b[1mInfo: \u001b[22m\u001b[39m2023-11-03T07:55:55.898\titeration: 254\tcurrent optimum: 0.03841996494769029\n"
     ]
    },
    {
     "name": "stdout",
     "output_type": "stream",
     "text": [
      "\n"
     ]
    },
    {
     "name": "stderr",
     "output_type": "stream",
     "text": [
      "\u001b[32mProgress: 100%|█████████████████████████████████████████| Time: 0:01:45\u001b[39m\n"
     ]
    },
    {
     "name": "stdout",
     "output_type": "stream",
     "text": [
      "s1 = 0.50; s3 = 8.00; s4 = 6.50; Δ1 = 0.50 Γ; Δ3 = Δ1; Δ4 = -10.00 Γ\n",
      "Survival: 1 / 20\n",
      "goodness = 0.001\n"
     ]
    },
    {
     "name": "stderr",
     "output_type": "stream",
     "text": [
      "\u001b[36m\u001b[1m[ \u001b[22m\u001b[39m\u001b[36m\u001b[1mInfo: \u001b[22m\u001b[39m2023-11-03T07:57:41.359\titeration: 255\tcurrent optimum: 0.03841996494769029\n",
      "\u001b[32mProgress: 100%|█████████████████████████████████████████| Time: 0:01:18\u001b[39m\n"
     ]
    },
    {
     "name": "stdout",
     "output_type": "stream",
     "text": [
      "s1 = 0.50; s3 = 8.00; s4 = 0.50; Δ1 = 0.50 Γ; Δ3 = Δ1; Δ4 = -4.00 Γ\n",
      "Survival: 0 / 20\n",
      "goodness = 0.000"
     ]
    },
    {
     "name": "stderr",
     "output_type": "stream",
     "text": [
      "\u001b[36m\u001b[1m[ \u001b[22m\u001b[39m\u001b[36m\u001b[1mInfo: \u001b[22m\u001b[39m2023-11-03T07:59:00.458\titeration: 256\tcurrent optimum: 0.03841996494769029\n"
     ]
    },
    {
     "name": "stdout",
     "output_type": "stream",
     "text": [
      "\n"
     ]
    },
    {
     "name": "stderr",
     "output_type": "stream",
     "text": [
      "\u001b[32mProgress: 100%|█████████████████████████████████████████| Time: 0:01:45\u001b[39m\n",
      "\u001b[36m\u001b[1m[ \u001b[22m\u001b[39m\u001b[36m\u001b[1mInfo: \u001b[22m\u001b[39m2023-11-03T08:00:45.614\titeration: 257\tcurrent optimum: 0.03841996494769029\n"
     ]
    },
    {
     "name": "stdout",
     "output_type": "stream",
     "text": [
      "s1 = 4.00; s3 = 3.00; s4 = 6.50; Δ1 = 0.50 Γ; Δ3 = Δ1; Δ4 = -10.00 Γ\n",
      "Survival: 7 / 20\n",
      "goodness = 0.017\n"
     ]
    },
    {
     "name": "stderr",
     "output_type": "stream",
     "text": [
      "\u001b[32mProgress:  95%|███████████████████████████████████████  |  ETA: 0:00:05\u001b[39m\r"
     ]
    },
    {
     "name": "stdout",
     "output_type": "stream",
     "text": [
      "s1 = 4.00; s3 = 3.00; s4 = 6.50; Δ1 = 4.00 Γ; Δ3 = Δ1; Δ4 = -10.00 Γ\n",
      "Survival: 8 / 20\n",
      "goodness = 0.037"
     ]
    },
    {
     "name": "stderr",
     "output_type": "stream",
     "text": [
      "\u001b[32mProgress: 100%|█████████████████████████████████████████| Time: 0:01:34\u001b[39m\n",
      "\u001b[36m\u001b[1m[ \u001b[22m\u001b[39m\u001b[36m\u001b[1mInfo: \u001b[22m\u001b[39m2023-11-03T08:02:20.099\titeration: 258\tcurrent optimum: 0.03841996494769029\n"
     ]
    },
    {
     "name": "stdout",
     "output_type": "stream",
     "text": [
      "\n"
     ]
    },
    {
     "name": "stderr",
     "output_type": "stream",
     "text": [
      "\u001b[32mProgress: 100%|█████████████████████████████████████████| Time: 0:01:16\u001b[39m\n",
      "\u001b[36m\u001b[1m[ \u001b[22m\u001b[39m\u001b[36m\u001b[1mInfo: \u001b[22m\u001b[39m2023-11-03T08:03:37.185\titeration: 259\tcurrent optimum: 0.03841996494769029\n"
     ]
    },
    {
     "name": "stdout",
     "output_type": "stream",
     "text": [
      "s1 = 4.00; s3 = 3.00; s4 = 6.50; Δ1 = 0.50 Γ; Δ3 = Δ1; Δ4 = -10.00 Γ\n",
      "Survival: 4 / 20\n",
      "goodness = 0.008\n"
     ]
    },
    {
     "name": "stderr",
     "output_type": "stream",
     "text": [
      "\u001b[32mProgress: 100%|█████████████████████████████████████████| Time: 0:01:04\u001b[39m\n"
     ]
    },
    {
     "name": "stdout",
     "output_type": "stream",
     "text": [
      "s1 = 4.00; s3 = 3.00; s4 = 0.50; Δ1 = 4.00 Γ; Δ3 = Δ1; Δ4 = -4.00 Γ\n",
      "Survival: 2 / 20\n",
      "goodness = 0.007"
     ]
    },
    {
     "name": "stderr",
     "output_type": "stream",
     "text": [
      "\u001b[36m\u001b[1m[ \u001b[22m\u001b[39m\u001b[36m\u001b[1mInfo: \u001b[22m\u001b[39m2023-11-03T08:04:41.332\titeration: 260\tcurrent optimum: 0.03841996494769029\n"
     ]
    },
    {
     "name": "stdout",
     "output_type": "stream",
     "text": [
      "\n"
     ]
    },
    {
     "name": "stderr",
     "output_type": "stream",
     "text": [
      "\u001b[32mProgress: 100%|█████████████████████████████████████████| Time: 0:00:35\u001b[39m\n"
     ]
    },
    {
     "name": "stdout",
     "output_type": "stream",
     "text": [
      "s1 = 0.50; s3 = 3.00; s4 = 6.50; Δ1 = 4.00 Γ; Δ3 = Δ1; Δ4 = -10.00 Γ\n",
      "Survival: 0 / 20\n",
      "goodness = 0.000\n"
     ]
    },
    {
     "name": "stderr",
     "output_type": "stream",
     "text": [
      "\u001b[36m\u001b[1m[ \u001b[22m\u001b[39m\u001b[36m\u001b[1mInfo: \u001b[22m\u001b[39m2023-11-03T08:05:16.852\titeration: 261\tcurrent optimum: 0.03841996494769029\n",
      "\u001b[32mProgress: 100%|█████████████████████████████████████████| Time: 0:01:40\u001b[39m\n"
     ]
    },
    {
     "name": "stdout",
     "output_type": "stream",
     "text": [
      "s1 = 4.00; s3 = 3.00; s4 = 0.50; Δ1 = 0.50 Γ; Δ3 = Δ1; Δ4 = -10.00 Γ\n",
      "Survival: 3 / 20\n",
      "goodness = 0.006"
     ]
    },
    {
     "name": "stderr",
     "output_type": "stream",
     "text": [
      "\u001b[36m\u001b[1m[ \u001b[22m\u001b[39m\u001b[36m\u001b[1mInfo: \u001b[22m\u001b[39m2023-11-03T08:06:57.816\titeration: 262\tcurrent optimum: 0.03841996494769029\n"
     ]
    },
    {
     "name": "stdout",
     "output_type": "stream",
     "text": [
      "\n"
     ]
    },
    {
     "name": "stderr",
     "output_type": "stream",
     "text": [
      "\u001b[32mProgress: 100%|█████████████████████████████████████████| Time: 0:00:21\u001b[39m\n"
     ]
    },
    {
     "name": "stdout",
     "output_type": "stream",
     "text": [
      "s1 = 0.50; s3 = 8.00; s4 = 6.50; Δ1 = 4.00 Γ; Δ3 = Δ1; Δ4 = -4.00 Γ\n",
      "Survival: 0 / 20\n",
      "goodness = 0.000\n"
     ]
    },
    {
     "name": "stderr",
     "output_type": "stream",
     "text": [
      "\u001b[36m\u001b[1m[ \u001b[22m\u001b[39m\u001b[36m\u001b[1mInfo: \u001b[22m\u001b[39m2023-11-03T08:07:20.119\titeration: 263\tcurrent optimum: 0.03841996494769029\n",
      "\u001b[32mProgress: 100%|█████████████████████████████████████████| Time: 0:02:51\u001b[39m\n"
     ]
    },
    {
     "name": "stdout",
     "output_type": "stream",
     "text": [
      "s1 = 4.00; s3 = 3.00; s4 = 0.50; Δ1 = 4.00 Γ; Δ3 = Δ1; Δ4 = -10.00 Γ\n",
      "Survival: 13 / 20\n",
      "goodness = 0.021\n"
     ]
    },
    {
     "name": "stderr",
     "output_type": "stream",
     "text": [
      "\u001b[36m\u001b[1m[ \u001b[22m\u001b[39m\u001b[36m\u001b[1mInfo: \u001b[22m\u001b[39m2023-11-03T08:10:11.349\titeration: 264\tcurrent optimum: 0.03841996494769029\n",
      "\u001b[32mProgress: 100%|█████████████████████████████████████████| Time: 0:02:29\u001b[39m\n"
     ]
    },
    {
     "name": "stdout",
     "output_type": "stream",
     "text": [
      "s1 = 4.00; s3 = 3.00; s4 = 0.50; Δ1 = 4.00 Γ; Δ3 = Δ1; Δ4 = -10.00 Γ\n",
      "Survival: 12 / 20\n",
      "goodness = 0.026"
     ]
    },
    {
     "name": "stderr",
     "output_type": "stream",
     "text": [
      "\u001b[36m\u001b[1m[ \u001b[22m\u001b[39m\u001b[36m\u001b[1mInfo: \u001b[22m\u001b[39m2023-11-03T08:12:41.178\titeration: 265\tcurrent optimum: 0.03841996494769029\n"
     ]
    },
    {
     "name": "stdout",
     "output_type": "stream",
     "text": [
      "\n"
     ]
    },
    {
     "name": "stderr",
     "output_type": "stream",
     "text": [
      "\u001b[32mProgress: 100%|█████████████████████████████████████████| Time: 0:02:18\u001b[39m\n"
     ]
    },
    {
     "name": "stdout",
     "output_type": "stream",
     "text": [
      "s1 = 4.00; s3 = 3.00; s4 = 0.50; Δ1 = 4.00 Γ; Δ3 = Δ1; Δ4 = -10.00 Γ\n",
      "Survival: 10 / 20\n",
      "goodness = 0.025"
     ]
    },
    {
     "name": "stderr",
     "output_type": "stream",
     "text": [
      "\u001b[36m\u001b[1m[ \u001b[22m\u001b[39m\u001b[36m\u001b[1mInfo: \u001b[22m\u001b[39m2023-11-03T08:14:59.476\titeration: 266\tcurrent optimum: 0.03841996494769029\n"
     ]
    },
    {
     "name": "stdout",
     "output_type": "stream",
     "text": [
      "\n"
     ]
    },
    {
     "name": "stderr",
     "output_type": "stream",
     "text": [
      "\u001b[32mProgress: 100%|█████████████████████████████████████████| Time: 0:01:47\u001b[39m"
     ]
    },
    {
     "name": "stdout",
     "output_type": "stream",
     "text": [
      "s1 = 4.00; s3 = 3.00; s4 = 6.50; Δ1 = 4.00 Γ; Δ3 = Δ1; Δ4 = -10.00 Γ\n",
      "Survival: 7 / 20\n",
      "goodness = 0.033\n"
     ]
    },
    {
     "name": "stderr",
     "output_type": "stream",
     "text": [
      "\n",
      "\u001b[36m\u001b[1m[ \u001b[22m\u001b[39m\u001b[36m\u001b[1mInfo: \u001b[22m\u001b[39m2023-11-03T08:16:47.523\titeration: 267\tcurrent optimum: 0.03841996494769029\n",
      "\u001b[32mProgress: 100%|█████████████████████████████████████████| Time: 0:01:07\u001b[39m"
     ]
    },
    {
     "name": "stdout",
     "output_type": "stream",
     "text": [
      "s1 = 4.00; s3 = 8.00; s4 = 0.50; Δ1 = 0.50 Γ; Δ3 = Δ1; Δ4 = -10.00 Γ\n",
      "Survival: 7 / 20\n",
      "goodness = 0.007\n"
     ]
    },
    {
     "name": "stderr",
     "output_type": "stream",
     "text": [
      "\n",
      "\u001b[36m\u001b[1m[ \u001b[22m\u001b[39m\u001b[36m\u001b[1mInfo: \u001b[22m\u001b[39m2023-11-03T08:17:55.367\titeration: 268\tcurrent optimum: 0.03841996494769029\n",
      "\u001b[32mProgress: 100%|█████████████████████████████████████████| Time: 0:00:25\u001b[39m\n"
     ]
    },
    {
     "name": "stdout",
     "output_type": "stream",
     "text": [
      "s1 = 4.00; s3 = 3.00; s4 = 6.50; Δ1 = 4.00 Γ; Δ3 = Δ1; Δ4 = -4.00 Γ\n",
      "Survival: 0 / 20\n",
      "goodness = 0.000"
     ]
    },
    {
     "name": "stderr",
     "output_type": "stream",
     "text": [
      "\u001b[36m\u001b[1m[ \u001b[22m\u001b[39m\u001b[36m\u001b[1mInfo: \u001b[22m\u001b[39m2023-11-03T08:18:20.612\titeration: 269\tcurrent optimum: 0.03841996494769029\n"
     ]
    },
    {
     "name": "stdout",
     "output_type": "stream",
     "text": [
      "\n"
     ]
    },
    {
     "name": "stderr",
     "output_type": "stream",
     "text": [
      "\u001b[32mProgress: 100%|█████████████████████████████████████████| Time: 0:00:51\u001b[39m\n"
     ]
    },
    {
     "name": "stdout",
     "output_type": "stream",
     "text": [
      "s1 = 4.00; s3 = 3.00; s4 = 0.50; Δ1 = 0.50 Γ; Δ3 = Δ1; Δ4 = -10.00 Γ\n",
      "Survival: 3 / 20\n",
      "goodness = 0.008\n"
     ]
    },
    {
     "name": "stderr",
     "output_type": "stream",
     "text": [
      "\u001b[36m\u001b[1m[ \u001b[22m\u001b[39m\u001b[36m\u001b[1mInfo: \u001b[22m\u001b[39m2023-11-03T08:19:11.773\titeration: 270\tcurrent optimum: 0.03841996494769029\n",
      "\u001b[32mProgress: 100%|█████████████████████████████████████████| Time: 0:01:31\u001b[39m\n"
     ]
    },
    {
     "name": "stdout",
     "output_type": "stream",
     "text": [
      "s1 = 4.00; s3 = 3.00; s4 = 6.50; Δ1 = 0.50 Γ; Δ3 = Δ1; Δ4 = -10.00 Γ\n",
      "Survival: 4 / 20\n",
      "goodness = 0.010"
     ]
    },
    {
     "name": "stderr",
     "output_type": "stream",
     "text": [
      "\u001b[36m\u001b[1m[ \u001b[22m\u001b[39m\u001b[36m\u001b[1mInfo: \u001b[22m\u001b[39m2023-11-03T08:20:43.331\titeration: 271\tcurrent optimum: 0.03841996494769029\n"
     ]
    },
    {
     "name": "stdout",
     "output_type": "stream",
     "text": [
      "\n"
     ]
    },
    {
     "name": "stderr",
     "output_type": "stream",
     "text": [
      "\u001b[32mProgress: 100%|█████████████████████████████████████████| Time: 0:01:57\u001b[39m\n"
     ]
    },
    {
     "name": "stdout",
     "output_type": "stream",
     "text": [
      "s1 = 4.00; s3 = 8.00; s4 = 6.50; Δ1 = 4.00 Γ; Δ3 = Δ1; Δ4 = -10.00 Γ\n",
      "Survival: 4 / 20\n",
      "goodness = 0.002"
     ]
    },
    {
     "name": "stderr",
     "output_type": "stream",
     "text": [
      "\u001b[36m\u001b[1m[ \u001b[22m\u001b[39m\u001b[36m\u001b[1mInfo: \u001b[22m\u001b[39m2023-11-03T08:22:41.289\titeration: 272\tcurrent optimum: 0.03841996494769029\n"
     ]
    },
    {
     "name": "stdout",
     "output_type": "stream",
     "text": [
      "\n"
     ]
    },
    {
     "name": "stderr",
     "output_type": "stream",
     "text": [
      "\u001b[32mProgress: 100%|█████████████████████████████████████████| Time: 0:02:04\u001b[39m\n"
     ]
    },
    {
     "name": "stdout",
     "output_type": "stream",
     "text": [
      "s1 = 4.00; s3 = 3.00; s4 = 0.50; Δ1 = 4.00 Γ; Δ3 = Δ1; Δ4 = -10.00 Γ\n",
      "Survival: 14 / 20\n",
      "goodness = 0.054"
     ]
    },
    {
     "name": "stderr",
     "output_type": "stream",
     "text": [
      "\u001b[36m\u001b[1m[ \u001b[22m\u001b[39m\u001b[36m\u001b[1mInfo: \u001b[22m\u001b[39m2023-11-03T08:24:46.388\titeration: 273\tcurrent optimum: 0.05402633771643363\n"
     ]
    },
    {
     "name": "stdout",
     "output_type": "stream",
     "text": [
      "\n"
     ]
    },
    {
     "name": "stderr",
     "output_type": "stream",
     "text": [
      "\u001b[32mProgress: 100%|█████████████████████████████████████████| Time: 0:01:21\u001b[39m\n"
     ]
    },
    {
     "name": "stdout",
     "output_type": "stream",
     "text": [
      "s1 = 4.00; s3 = 3.00; s4 = 0.50; Δ1 = 4.00 Γ; Δ3 = Δ1; Δ4 = -4.00 Γ\n",
      "Survival: 4 / 20\n",
      "goodness = 0.022"
     ]
    },
    {
     "name": "stderr",
     "output_type": "stream",
     "text": [
      "\u001b[36m\u001b[1m[ \u001b[22m\u001b[39m\u001b[36m\u001b[1mInfo: \u001b[22m\u001b[39m2023-11-03T08:26:08.614\titeration: 274\tcurrent optimum: 0.05402633771643363\n"
     ]
    },
    {
     "name": "stdout",
     "output_type": "stream",
     "text": [
      "\n"
     ]
    },
    {
     "name": "stderr",
     "output_type": "stream",
     "text": [
      "\u001b[32mProgress: 100%|█████████████████████████████████████████| Time: 0:01:38\u001b[39m\n"
     ]
    },
    {
     "name": "stdout",
     "output_type": "stream",
     "text": [
      "s1 = 4.00; s3 = 3.00; s4 = 0.50; Δ1 = 0.50 Γ; Δ3 = Δ1; Δ4 = -4.00 Γ\n",
      "Survival: 4 / 20\n",
      "goodness = 0.008\n"
     ]
    },
    {
     "name": "stderr",
     "output_type": "stream",
     "text": [
      "\u001b[36m\u001b[1m[ \u001b[22m\u001b[39m\u001b[36m\u001b[1mInfo: \u001b[22m\u001b[39m2023-11-03T08:27:47.376\titeration: 275\tcurrent optimum: 0.05402633771643363\n",
      "\u001b[32mProgress: 100%|█████████████████████████████████████████| Time: 0:02:30\u001b[39m\n"
     ]
    },
    {
     "name": "stdout",
     "output_type": "stream",
     "text": [
      "s1 = 4.00; s3 = 3.00; s4 = 0.50; Δ1 = 4.00 Γ; Δ3 = Δ1; Δ4 = -10.00 Γ\n",
      "Survival: 8 / 20\n",
      "goodness = 0.008"
     ]
    },
    {
     "name": "stderr",
     "output_type": "stream",
     "text": [
      "\u001b[36m\u001b[1m[ \u001b[22m\u001b[39m\u001b[36m\u001b[1mInfo: \u001b[22m\u001b[39m2023-11-03T08:30:18.547\titeration: 276\tcurrent optimum: 0.05402633771643363\n"
     ]
    },
    {
     "name": "stdout",
     "output_type": "stream",
     "text": [
      "\n"
     ]
    },
    {
     "name": "stderr",
     "output_type": "stream",
     "text": [
      "\u001b[32mProgress: 100%|█████████████████████████████████████████| Time: 0:01:49\u001b[39m\n"
     ]
    },
    {
     "name": "stdout",
     "output_type": "stream",
     "text": [
      "s1 = 4.00; s3 = 3.00; s4 = 6.50; Δ1 = 4.00 Γ; Δ3 = Δ1; Δ4 = -10.00 Γ\n",
      "Survival: 5 / 20\n",
      "goodness = 0.023\n"
     ]
    },
    {
     "name": "stderr",
     "output_type": "stream",
     "text": [
      "\u001b[36m\u001b[1m[ \u001b[22m\u001b[39m\u001b[36m\u001b[1mInfo: \u001b[22m\u001b[39m2023-11-03T08:32:07.807\titeration: 277\tcurrent optimum: 0.05402633771643363\n",
      "\u001b[32mProgress: 100%|█████████████████████████████████████████| Time: 0:01:23\u001b[39m\n"
     ]
    },
    {
     "name": "stdout",
     "output_type": "stream",
     "text": [
      "s1 = 4.00; s3 = 8.00; s4 = 6.50; Δ1 = 4.00 Γ; Δ3 = Δ1; Δ4 = -10.00 Γ\n",
      "Survival: 4 / 20\n",
      "goodness = 0.003\n"
     ]
    },
    {
     "name": "stderr",
     "output_type": "stream",
     "text": [
      "\u001b[36m\u001b[1m[ \u001b[22m\u001b[39m\u001b[36m\u001b[1mInfo: \u001b[22m\u001b[39m2023-11-03T08:33:31.906\titeration: 278\tcurrent optimum: 0.05402633771643363\n",
      "\u001b[32mProgress: 100%|█████████████████████████████████████████| Time: 0:02:04\u001b[39m\n"
     ]
    },
    {
     "name": "stdout",
     "output_type": "stream",
     "text": [
      "s1 = 4.00; s3 = 3.00; s4 = 6.50; Δ1 = 4.00 Γ; Δ3 = Δ1; Δ4 = -10.00 Γ\n",
      "Survival: 5 / 20\n",
      "goodness = 0.024"
     ]
    },
    {
     "name": "stderr",
     "output_type": "stream",
     "text": [
      "\u001b[36m\u001b[1m[ \u001b[22m\u001b[39m\u001b[36m\u001b[1mInfo: \u001b[22m\u001b[39m2023-11-03T08:35:36.705\titeration: 279\tcurrent optimum: 0.05402633771643363\n"
     ]
    },
    {
     "name": "stdout",
     "output_type": "stream",
     "text": [
      "\n"
     ]
    },
    {
     "name": "stderr",
     "output_type": "stream",
     "text": [
      "\u001b[32mProgress: 100%|█████████████████████████████████████████| Time: 0:01:24\u001b[39m\n"
     ]
    },
    {
     "name": "stdout",
     "output_type": "stream",
     "text": [
      "s1 = 4.00; s3 = 3.00; s4 = 6.50; Δ1 = 4.00 Γ; Δ3 = Δ1; Δ4 = -10.00 Γ\n",
      "Survival: 5 / 20\n",
      "goodness = 0.023"
     ]
    },
    {
     "name": "stderr",
     "output_type": "stream",
     "text": [
      "\u001b[36m\u001b[1m[ \u001b[22m\u001b[39m\u001b[36m\u001b[1mInfo: \u001b[22m\u001b[39m2023-11-03T08:37:00.975\titeration: 280\tcurrent optimum: 0.05402633771643363\n"
     ]
    },
    {
     "name": "stdout",
     "output_type": "stream",
     "text": [
      "\n"
     ]
    },
    {
     "name": "stderr",
     "output_type": "stream",
     "text": [
      "\u001b[32mProgress: 100%|█████████████████████████████████████████| Time: 0:01:00\u001b[39m\n"
     ]
    },
    {
     "name": "stdout",
     "output_type": "stream",
     "text": [
      "s1 = 4.00; s3 = 3.00; s4 = 0.50; Δ1 = 4.00 Γ; Δ3 = Δ1; Δ4 = -4.00 Γ\n",
      "Survival: 4 / 20\n",
      "goodness = 0.018\n"
     ]
    },
    {
     "name": "stderr",
     "output_type": "stream",
     "text": [
      "\u001b[36m\u001b[1m[ \u001b[22m\u001b[39m\u001b[36m\u001b[1mInfo: \u001b[22m\u001b[39m2023-11-03T08:38:01.593\titeration: 281\tcurrent optimum: 0.05402633771643363\n",
      "\u001b[32mProgress: 100%|█████████████████████████████████████████| Time: 0:00:59\u001b[39m\n"
     ]
    },
    {
     "name": "stdout",
     "output_type": "stream",
     "text": [
      "s1 = 4.00; s3 = 3.00; s4 = 0.50; Δ1 = 0.50 Γ; Δ3 = Δ1; Δ4 = -10.00 Γ\n",
      "Survival: 7 / 20\n",
      "goodness = 0.022"
     ]
    },
    {
     "name": "stderr",
     "output_type": "stream",
     "text": [
      "\u001b[36m\u001b[1m[ \u001b[22m\u001b[39m\u001b[36m\u001b[1mInfo: \u001b[22m\u001b[39m2023-11-03T08:39:01.880\titeration: 282\tcurrent optimum: 0.05402633771643363\n"
     ]
    },
    {
     "name": "stdout",
     "output_type": "stream",
     "text": [
      "\n"
     ]
    },
    {
     "name": "stderr",
     "output_type": "stream",
     "text": [
      "\u001b[32mProgress: 100%|█████████████████████████████████████████| Time: 0:01:13\u001b[39m\n"
     ]
    },
    {
     "name": "stdout",
     "output_type": "stream",
     "text": [
      "s1 = 4.00; s3 = 3.00; s4 = 0.50; Δ1 = 4.00 Γ; Δ3 = Δ1; Δ4 = -4.00 Γ\n",
      "Survival: 4 / 20\n",
      "goodness = 0.013"
     ]
    },
    {
     "name": "stderr",
     "output_type": "stream",
     "text": [
      "\u001b[36m\u001b[1m[ \u001b[22m\u001b[39m\u001b[36m\u001b[1mInfo: \u001b[22m\u001b[39m2023-11-03T08:40:15.075\titeration: 283\tcurrent optimum: 0.05402633771643363\n"
     ]
    },
    {
     "name": "stdout",
     "output_type": "stream",
     "text": [
      "\n"
     ]
    },
    {
     "name": "stderr",
     "output_type": "stream",
     "text": [
      "\u001b[32mProgress: 100%|█████████████████████████████████████████| Time: 0:02:26\u001b[39m\n"
     ]
    },
    {
     "name": "stdout",
     "output_type": "stream",
     "text": [
      "s1 = 4.00; s3 = 8.00; s4 = 0.50; Δ1 = 4.00 Γ; Δ3 = Δ1; Δ4 = -10.00 Γ\n",
      "Survival: 8 / 20\n",
      "goodness = 0.002\n"
     ]
    },
    {
     "name": "stderr",
     "output_type": "stream",
     "text": [
      "\u001b[36m\u001b[1m[ \u001b[22m\u001b[39m\u001b[36m\u001b[1mInfo: \u001b[22m\u001b[39m2023-11-03T08:42:42.394\titeration: 284\tcurrent optimum: 0.05402633771643363\n",
      "\u001b[32mProgress: 100%|█████████████████████████████████████████| Time: 0:01:45\u001b[39m\n"
     ]
    },
    {
     "name": "stdout",
     "output_type": "stream",
     "text": [
      "s1 = 4.00; s3 = 3.00; s4 = 0.50; Δ1 = 0.50 Γ; Δ3 = Δ1; Δ4 = -4.00 Γ\n",
      "Survival: 6 / 20\n",
      "goodness = 0.011\n"
     ]
    },
    {
     "name": "stderr",
     "output_type": "stream",
     "text": [
      "\u001b[36m\u001b[1m[ \u001b[22m\u001b[39m\u001b[36m\u001b[1mInfo: \u001b[22m\u001b[39m2023-11-03T08:44:28.281\titeration: 285\tcurrent optimum: 0.05402633771643363\n",
      "\u001b[32mProgress: 100%|█████████████████████████████████████████| Time: 0:01:02\u001b[39m\n"
     ]
    },
    {
     "name": "stdout",
     "output_type": "stream",
     "text": [
      "s1 = 4.00; s3 = 3.00; s4 = 0.50; Δ1 = 4.00 Γ; Δ3 = Δ1; Δ4 = -4.00 Γ\n",
      "Survival: 2 / 20\n",
      "goodness = 0.004"
     ]
    },
    {
     "name": "stderr",
     "output_type": "stream",
     "text": [
      "\u001b[36m\u001b[1m[ \u001b[22m\u001b[39m\u001b[36m\u001b[1mInfo: \u001b[22m\u001b[39m2023-11-03T08:45:31.152\titeration: 286\tcurrent optimum: 0.05402633771643363\n"
     ]
    },
    {
     "name": "stdout",
     "output_type": "stream",
     "text": [
      "\n"
     ]
    },
    {
     "name": "stderr",
     "output_type": "stream",
     "text": [
      "\u001b[32mProgress: 100%|█████████████████████████████████████████| Time: 0:01:48\u001b[39m\n"
     ]
    },
    {
     "name": "stdout",
     "output_type": "stream",
     "text": [
      "s1 = 4.00; s3 = 3.00; s4 = 6.50; Δ1 = 4.00 Γ; Δ3 = Δ1; Δ4 = -10.00 Γ\n",
      "Survival: 5 / 20\n",
      "goodness = 0.022"
     ]
    },
    {
     "name": "stderr",
     "output_type": "stream",
     "text": [
      "\u001b[36m\u001b[1m[ \u001b[22m\u001b[39m\u001b[36m\u001b[1mInfo: \u001b[22m\u001b[39m2023-11-03T08:47:19.927\titeration: 287\tcurrent optimum: 0.05402633771643363\n"
     ]
    },
    {
     "name": "stdout",
     "output_type": "stream",
     "text": [
      "\n"
     ]
    },
    {
     "name": "stderr",
     "output_type": "stream",
     "text": [
      "\u001b[32mProgress: 100%|█████████████████████████████████████████| Time: 0:01:49\u001b[39m\n"
     ]
    },
    {
     "name": "stdout",
     "output_type": "stream",
     "text": [
      "s1 = 4.00; s3 = 3.00; s4 = 6.50; Δ1 = 4.00 Γ; Δ3 = Δ1; Δ4 = -10.00 Γ\n",
      "Survival: 6 / 20\n",
      "goodness = 0.025\n"
     ]
    },
    {
     "name": "stderr",
     "output_type": "stream",
     "text": [
      "\u001b[36m\u001b[1m[ \u001b[22m\u001b[39m\u001b[36m\u001b[1mInfo: \u001b[22m\u001b[39m2023-11-03T08:49:09.282\titeration: 288\tcurrent optimum: 0.05402633771643363\n",
      "\u001b[32mProgress: 100%|█████████████████████████████████████████| Time: 0:01:10\u001b[39m\n"
     ]
    },
    {
     "name": "stdout",
     "output_type": "stream",
     "text": [
      "s1 = 4.00; s3 = 3.00; s4 = 0.50; Δ1 = 0.50 Γ; Δ3 = Δ1; Δ4 = -10.00 Γ\n",
      "Survival: 2 / 20\n",
      "goodness = 0.006"
     ]
    },
    {
     "name": "stderr",
     "output_type": "stream",
     "text": [
      "\u001b[36m\u001b[1m[ \u001b[22m\u001b[39m\u001b[36m\u001b[1mInfo: \u001b[22m\u001b[39m2023-11-03T08:50:19.746\titeration: 289\tcurrent optimum: 0.05402633771643363\n"
     ]
    },
    {
     "name": "stdout",
     "output_type": "stream",
     "text": [
      "\n"
     ]
    },
    {
     "name": "stderr",
     "output_type": "stream",
     "text": [
      "\u001b[32mProgress: 100%|█████████████████████████████████████████| Time: 0:01:21\u001b[39m\n"
     ]
    },
    {
     "name": "stdout",
     "output_type": "stream",
     "text": [
      "s1 = 4.00; s3 = 3.00; s4 = 6.50; Δ1 = 0.50 Γ; Δ3 = Δ1; Δ4 = -10.00 Γ\n",
      "Survival: 3 / 20\n",
      "goodness = 0.006"
     ]
    },
    {
     "name": "stderr",
     "output_type": "stream",
     "text": [
      "\u001b[36m\u001b[1m[ \u001b[22m\u001b[39m\u001b[36m\u001b[1mInfo: \u001b[22m\u001b[39m2023-11-03T08:51:41.514\titeration: 290\tcurrent optimum: 0.05402633771643363\n"
     ]
    },
    {
     "name": "stdout",
     "output_type": "stream",
     "text": [
      "\n"
     ]
    },
    {
     "name": "stderr",
     "output_type": "stream",
     "text": [
      "\u001b[32mProgress: 100%|█████████████████████████████████████████| Time: 0:02:15\u001b[39m\n"
     ]
    },
    {
     "name": "stdout",
     "output_type": "stream",
     "text": [
      "s1 = 4.00; s3 = 8.00; s4 = 6.50; Δ1 = 0.50 Γ; Δ3 = Δ1; Δ4 = -10.00 Γ\n",
      "Survival: 12 / 20\n",
      "goodness = 0.005"
     ]
    },
    {
     "name": "stderr",
     "output_type": "stream",
     "text": [
      "\u001b[36m\u001b[1m[ \u001b[22m\u001b[39m\u001b[36m\u001b[1mInfo: \u001b[22m\u001b[39m2023-11-03T08:53:57.844\titeration: 291\tcurrent optimum: 0.05402633771643363\n"
     ]
    },
    {
     "name": "stdout",
     "output_type": "stream",
     "text": [
      "\n"
     ]
    },
    {
     "name": "stderr",
     "output_type": "stream",
     "text": [
      "\u001b[32mProgress: 100%|█████████████████████████████████████████| Time: 0:01:12\u001b[39m\n"
     ]
    },
    {
     "name": "stdout",
     "output_type": "stream",
     "text": [
      "s1 = 0.50; s3 = 3.00; s4 = 0.50; Δ1 = 0.50 Γ; Δ3 = Δ1; Δ4 = -10.00 Γ\n",
      "Survival: 1 / 20\n",
      "goodness = 0.005\n"
     ]
    },
    {
     "name": "stderr",
     "output_type": "stream",
     "text": [
      "\u001b[36m\u001b[1m[ \u001b[22m\u001b[39m\u001b[36m\u001b[1mInfo: \u001b[22m\u001b[39m2023-11-03T08:55:10.889\titeration: 292\tcurrent optimum: 0.05402633771643363\n",
      "\u001b[32mProgress: 100%|█████████████████████████████████████████| Time: 0:01:10\u001b[39m\n"
     ]
    },
    {
     "name": "stdout",
     "output_type": "stream",
     "text": [
      "s1 = 4.00; s3 = 8.00; s4 = 0.50; Δ1 = 4.00 Γ; Δ3 = Δ1; Δ4 = -10.00 Γ\n",
      "Survival: 7 / 20\n",
      "goodness = 0.007\n"
     ]
    },
    {
     "name": "stderr",
     "output_type": "stream",
     "text": [
      "\u001b[36m\u001b[1m[ \u001b[22m\u001b[39m\u001b[36m\u001b[1mInfo: \u001b[22m\u001b[39m2023-11-03T08:56:21.306\titeration: 293\tcurrent optimum: 0.05402633771643363\n",
      "\u001b[32mProgress: 100%|█████████████████████████████████████████| Time: 0:01:24\u001b[39m\n"
     ]
    },
    {
     "name": "stdout",
     "output_type": "stream",
     "text": [
      "s1 = 4.00; s3 = 3.00; s4 = 6.50; Δ1 = 0.50 Γ; Δ3 = Δ1; Δ4 = -4.00 Γ\n",
      "Survival: 10 / 20\n",
      "goodness = 0.006"
     ]
    },
    {
     "name": "stderr",
     "output_type": "stream",
     "text": [
      "\u001b[36m\u001b[1m[ \u001b[22m\u001b[39m\u001b[36m\u001b[1mInfo: \u001b[22m\u001b[39m2023-11-03T08:57:46.005\titeration: 294\tcurrent optimum: 0.05402633771643363\n"
     ]
    },
    {
     "name": "stdout",
     "output_type": "stream",
     "text": [
      "\n"
     ]
    },
    {
     "name": "stderr",
     "output_type": "stream",
     "text": [
      "\u001b[32mProgress: 100%|█████████████████████████████████████████| Time: 0:01:01\u001b[39m\n"
     ]
    },
    {
     "name": "stdout",
     "output_type": "stream",
     "text": [
      "s1 = 0.50; s3 = 3.00; s4 = 6.50; Δ1 = 4.00 Γ; Δ3 = Δ1; Δ4 = -10.00 Γ\n",
      "Survival: 0 / 20\n",
      "goodness = 0.000"
     ]
    },
    {
     "name": "stderr",
     "output_type": "stream",
     "text": [
      "\u001b[36m\u001b[1m[ \u001b[22m\u001b[39m\u001b[36m\u001b[1mInfo: \u001b[22m\u001b[39m2023-11-03T08:58:47.754\titeration: 295\tcurrent optimum: 0.05402633771643363\n"
     ]
    },
    {
     "name": "stdout",
     "output_type": "stream",
     "text": [
      "\n"
     ]
    },
    {
     "name": "stderr",
     "output_type": "stream",
     "text": [
      "\u001b[32mProgress: 100%|█████████████████████████████████████████| Time: 0:00:47\u001b[39m\n"
     ]
    },
    {
     "name": "stdout",
     "output_type": "stream",
     "text": [
      "s1 = 4.00; s3 = 8.00; s4 = 6.50; Δ1 = 4.00 Γ; Δ3 = Δ1; Δ4 = -4.00 Γ\n",
      "Survival: 0 / 20\n",
      "goodness = 0.000"
     ]
    },
    {
     "name": "stderr",
     "output_type": "stream",
     "text": [
      "\u001b[36m\u001b[1m[ \u001b[22m\u001b[39m\u001b[36m\u001b[1mInfo: \u001b[22m\u001b[39m2023-11-03T08:59:35.580\titeration: 296\tcurrent optimum: 0.05402633771643363\n"
     ]
    },
    {
     "name": "stdout",
     "output_type": "stream",
     "text": [
      "\n"
     ]
    },
    {
     "name": "stderr",
     "output_type": "stream",
     "text": [
      "\u001b[32mProgress: 100%|█████████████████████████████████████████| Time: 0:00:56\u001b[39m\n"
     ]
    },
    {
     "name": "stdout",
     "output_type": "stream",
     "text": [
      "s1 = 0.50; s3 = 3.00; s4 = 0.50; Δ1 = 0.50 Γ; Δ3 = Δ1; Δ4 = -10.00 Γ\n",
      "Survival: 3 / 20\n",
      "goodness = 0.010"
     ]
    },
    {
     "name": "stderr",
     "output_type": "stream",
     "text": [
      "\u001b[36m\u001b[1m[ \u001b[22m\u001b[39m\u001b[36m\u001b[1mInfo: \u001b[22m\u001b[39m2023-11-03T09:00:31.759\titeration: 297\tcurrent optimum: 0.05402633771643363\n"
     ]
    },
    {
     "name": "stdout",
     "output_type": "stream",
     "text": [
      "\n"
     ]
    },
    {
     "name": "stderr",
     "output_type": "stream",
     "text": [
      "\u001b[32mProgress: 100%|█████████████████████████████████████████| Time: 0:00:47\u001b[39m\n"
     ]
    },
    {
     "name": "stdout",
     "output_type": "stream",
     "text": [
      "s1 = 4.00; s3 = 3.00; s4 = 0.50; Δ1 = 0.50 Γ; Δ3 = Δ1; Δ4 = -10.00 Γ\n",
      "Survival: 4 / 20\n",
      "goodness = 0.010"
     ]
    },
    {
     "name": "stderr",
     "output_type": "stream",
     "text": [
      "\u001b[36m\u001b[1m[ \u001b[22m\u001b[39m\u001b[36m\u001b[1mInfo: \u001b[22m\u001b[39m2023-11-03T09:01:19.817\titeration: 298\tcurrent optimum: 0.05402633771643363\n"
     ]
    },
    {
     "name": "stdout",
     "output_type": "stream",
     "text": [
      "\n"
     ]
    },
    {
     "name": "stderr",
     "output_type": "stream",
     "text": [
      "\u001b[32mProgress: 100%|█████████████████████████████████████████| Time: 0:01:17\u001b[39m\n"
     ]
    },
    {
     "name": "stdout",
     "output_type": "stream",
     "text": [
      "s1 = 0.50; s3 = 3.00; s4 = 0.50; Δ1 = 4.00 Γ; Δ3 = Δ1; Δ4 = -10.00 Γ\n",
      "Survival: 0 / 20\n",
      "goodness = 0.000"
     ]
    },
    {
     "name": "stderr",
     "output_type": "stream",
     "text": [
      "\u001b[36m\u001b[1m[ \u001b[22m\u001b[39m\u001b[36m\u001b[1mInfo: \u001b[22m\u001b[39m2023-11-03T09:02:37.296\titeration: 299\tcurrent optimum: 0.05402633771643363\n"
     ]
    },
    {
     "name": "stdout",
     "output_type": "stream",
     "text": [
      "\n"
     ]
    },
    {
     "name": "stderr",
     "output_type": "stream",
     "text": [
      "\u001b[32mProgress: 100%|█████████████████████████████████████████| Time: 0:01:20\u001b[39m\n"
     ]
    },
    {
     "name": "stdout",
     "output_type": "stream",
     "text": [
      "s1 = 4.00; s3 = 3.00; s4 = 0.50; Δ1 = 4.00 Γ; Δ3 = Δ1; Δ4 = -4.00 Γ\n",
      "Survival: 5 / 20\n",
      "goodness = 0.025\n"
     ]
    },
    {
     "name": "stderr",
     "output_type": "stream",
     "text": [
      "\u001b[36m\u001b[1m┌ \u001b[22m\u001b[39m\u001b[36m\u001b[1mInfo: \u001b[22m\u001b[39m ────────────────────────────────────────────────────────────────────────────────\n",
      "\u001b[36m\u001b[1m│ \u001b[22m\u001b[39m                                        Time                    Allocations      \n",
      "\u001b[36m\u001b[1m│ \u001b[22m\u001b[39m                               ───────────────────────   ────────────────────────\n",
      "\u001b[36m\u001b[1m│ \u001b[22m\u001b[39m       Tot / % measured:            1.21h / 100.0%           1.67GiB /  99.9%    \n",
      "\u001b[36m\u001b[1m│ \u001b[22m\u001b[39m\n",
      "\u001b[36m\u001b[1m│ \u001b[22m\u001b[39m Section               ncalls     time    %tot     avg     alloc    %tot      avg\n",
      "\u001b[36m\u001b[1m│ \u001b[22m\u001b[39m ────────────────────────────────────────────────────────────────────────────────\n",
      "\u001b[36m\u001b[1m│ \u001b[22m\u001b[39m function evaluation       50    1.21h   99.8%   87.3s    650MiB   38.1%  13.0MiB\n",
      "\u001b[36m\u001b[1m│ \u001b[22m\u001b[39m model hyperparamet...     50    6.13s    0.1%   123ms    455MiB   26.7%  9.10MiB\n",
      "\u001b[36m\u001b[1m│ \u001b[22m\u001b[39m acquisition               51    574ms    0.0%  11.3ms    599MiB   35.1%  11.7MiB\n",
      "\u001b[36m\u001b[1m│ \u001b[22m\u001b[39m model update              50   8.41ms    0.0%   168μs   1.37MiB    0.1%  28.1KiB\n",
      "\u001b[36m\u001b[1m└ \u001b[22m\u001b[39m ────────────────────────────────────────────────────────────────────────────────\n",
      "\u001b[36m\u001b[1m[ \u001b[22m\u001b[39m\u001b[36m\u001b[1mInfo: \u001b[22m\u001b[39m2023-11-03T09:03:58.023\titeration: 300\tcurrent optimum: 0.05402633771643363\n"
     ]
    },
    {
     "name": "stdout",
     "output_type": "stream",
     "text": [
      "===== Autosaved =====\n"
     ]
    },
    {
     "name": "stderr",
     "output_type": "stream",
     "text": [
      "\u001b[32mProgress: 100%|█████████████████████████████████████████| Time: 0:01:36\u001b[39m\n"
     ]
    },
    {
     "name": "stdout",
     "output_type": "stream",
     "text": [
      "s1 = 4.00; s3 = 3.00; s4 = 0.50; Δ1 = 4.00 Γ; Δ3 = Δ1; Δ4 = -4.00 Γ\n",
      "Survival: 4 / 20\n",
      "goodness = 0.020"
     ]
    },
    {
     "name": "stderr",
     "output_type": "stream",
     "text": [
      "\u001b[36m\u001b[1m[ \u001b[22m\u001b[39m\u001b[36m\u001b[1mInfo: \u001b[22m\u001b[39m2023-11-03T09:05:35.105\titeration: 301\tcurrent optimum: 0.05402633771643363\n"
     ]
    },
    {
     "name": "stdout",
     "output_type": "stream",
     "text": [
      "\n"
     ]
    },
    {
     "name": "stderr",
     "output_type": "stream",
     "text": [
      "\u001b[32mProgress: 100%|█████████████████████████████████████████| Time: 0:01:32\u001b[39m\n"
     ]
    },
    {
     "name": "stdout",
     "output_type": "stream",
     "text": [
      "s1 = 4.00; s3 = 8.00; s4 = 6.50; Δ1 = 4.00 Γ; Δ3 = Δ1; Δ4 = -10.00 Γ\n",
      "Survival: 5 / 20\n",
      "goodness = 0.004\n"
     ]
    },
    {
     "name": "stderr",
     "output_type": "stream",
     "text": [
      "\u001b[36m\u001b[1m[ \u001b[22m\u001b[39m\u001b[36m\u001b[1mInfo: \u001b[22m\u001b[39m2023-11-03T09:07:08.361\titeration: 302\tcurrent optimum: 0.05402633771643363\n",
      "\u001b[32mProgress: 100%|█████████████████████████████████████████| Time: 0:00:41\u001b[39m\n"
     ]
    },
    {
     "name": "stdout",
     "output_type": "stream",
     "text": [
      "s1 = 4.00; s3 = 3.00; s4 = 6.50; Δ1 = 4.00 Γ; Δ3 = Δ1; Δ4 = -4.00 Γ\n",
      "Survival: 0 / 20\n",
      "goodness = 0.000"
     ]
    },
    {
     "name": "stderr",
     "output_type": "stream",
     "text": [
      "\u001b[36m\u001b[1m[ \u001b[22m\u001b[39m\u001b[36m\u001b[1mInfo: \u001b[22m\u001b[39m2023-11-03T09:07:49.605\titeration: 303\tcurrent optimum: 0.05402633771643363\n"
     ]
    },
    {
     "name": "stdout",
     "output_type": "stream",
     "text": [
      "\n"
     ]
    },
    {
     "name": "stderr",
     "output_type": "stream",
     "text": [
      "\u001b[32mProgress:  95%|███████████████████████████████████████  |  ETA: 0:00:07\u001b[39m\r"
     ]
    },
    {
     "name": "stdout",
     "output_type": "stream",
     "text": [
      "s1 = 4.00; s3 = 3.00; s4 = 0.50; Δ1 = 4.00 Γ; Δ3 = Δ1; Δ4 = -10.00 Γ\n",
      "Survival: 12 / 20\n",
      "goodness = 0.013"
     ]
    },
    {
     "name": "stderr",
     "output_type": "stream",
     "text": [
      "\u001b[32mProgress: 100%|█████████████████████████████████████████| Time: 0:02:19\u001b[39m\n",
      "\u001b[36m\u001b[1m[ \u001b[22m\u001b[39m\u001b[36m\u001b[1mInfo: \u001b[22m\u001b[39m2023-11-03T09:10:08.834\titeration: 304\tcurrent optimum: 0.05402633771643363\n"
     ]
    },
    {
     "name": "stdout",
     "output_type": "stream",
     "text": [
      "\n"
     ]
    },
    {
     "name": "stderr",
     "output_type": "stream",
     "text": [
      "\u001b[32mProgress: 100%|█████████████████████████████████████████| Time: 0:01:59\u001b[39m\n"
     ]
    },
    {
     "name": "stdout",
     "output_type": "stream",
     "text": [
      "s1 = 4.00; s3 = 8.00; s4 = 0.50; Δ1 = 4.00 Γ; Δ3 = Δ1; Δ4 = -10.00 Γ\n",
      "Survival: 5 / 20\n",
      "goodness = 0.000"
     ]
    },
    {
     "name": "stderr",
     "output_type": "stream",
     "text": [
      "\u001b[36m\u001b[1m[ \u001b[22m\u001b[39m\u001b[36m\u001b[1mInfo: \u001b[22m\u001b[39m2023-11-03T09:12:08.531\titeration: 305\tcurrent optimum: 0.05402633771643363\n"
     ]
    },
    {
     "name": "stdout",
     "output_type": "stream",
     "text": [
      "\n"
     ]
    },
    {
     "name": "stderr",
     "output_type": "stream",
     "text": [
      "\u001b[32mProgress:  95%|███████████████████████████████████████  |  ETA: 0:00:04\u001b[39m\r"
     ]
    },
    {
     "name": "stdout",
     "output_type": "stream",
     "text": [
      "s1 = 0.50; s3 = 3.00; s4 = 0.50; Δ1 = 0.50 Γ; Δ3 = Δ1; Δ4 = -10.00 Γ\n",
      "Survival: 3 / 20\n",
      "goodness = 0.013"
     ]
    },
    {
     "name": "stderr",
     "output_type": "stream",
     "text": [
      "\u001b[32mProgress: 100%|█████████████████████████████████████████| Time: 0:01:14\u001b[39m\n",
      "\u001b[36m\u001b[1m[ \u001b[22m\u001b[39m\u001b[36m\u001b[1mInfo: \u001b[22m\u001b[39m2023-11-03T09:13:22.973\titeration: 306\tcurrent optimum: 0.05402633771643363\n"
     ]
    },
    {
     "name": "stdout",
     "output_type": "stream",
     "text": [
      "\n"
     ]
    },
    {
     "name": "stderr",
     "output_type": "stream",
     "text": [
      "\u001b[32mProgress: 100%|█████████████████████████████████████████| Time: 0:00:30\u001b[39m\n"
     ]
    },
    {
     "name": "stdout",
     "output_type": "stream",
     "text": [
      "s1 = 0.50; s3 = 3.00; s4 = 6.50; Δ1 = 0.50 Γ; Δ3 = Δ1; Δ4 = -4.00 Γ\n",
      "Survival: 0 / 20\n",
      "goodness = 0.000"
     ]
    },
    {
     "name": "stderr",
     "output_type": "stream",
     "text": [
      "\u001b[36m\u001b[1m[ \u001b[22m\u001b[39m\u001b[36m\u001b[1mInfo: \u001b[22m\u001b[39m2023-11-03T09:13:53.949\titeration: 307\tcurrent optimum: 0.05402633771643363\n"
     ]
    },
    {
     "name": "stdout",
     "output_type": "stream",
     "text": [
      "\n"
     ]
    },
    {
     "name": "stderr",
     "output_type": "stream",
     "text": [
      "\u001b[32mProgress: 100%|█████████████████████████████████████████| Time: 0:01:04\u001b[39m"
     ]
    },
    {
     "name": "stdout",
     "output_type": "stream",
     "text": [
      "s1 = 4.00; s3 = 3.00; s4 = 0.50; Δ1 = 4.00 Γ; Δ3 = Δ1; Δ4 = -4.00 Γ\n",
      "Survival: 6 / 20\n",
      "goodness = 0.027\n"
     ]
    },
    {
     "name": "stderr",
     "output_type": "stream",
     "text": [
      "\n",
      "\u001b[36m\u001b[1m[ \u001b[22m\u001b[39m\u001b[36m\u001b[1mInfo: \u001b[22m\u001b[39m2023-11-03T09:14:58.941\titeration: 308\tcurrent optimum: 0.05402633771643363\n",
      "\u001b[32mProgress: 100%|█████████████████████████████████████████| Time: 0:01:08\u001b[39m\n"
     ]
    },
    {
     "name": "stdout",
     "output_type": "stream",
     "text": [
      "s1 = 4.00; s3 = 3.00; s4 = 0.50; Δ1 = 0.50 Γ; Δ3 = Δ1; Δ4 = -10.00 Γ\n",
      "Survival: 2 / 20\n",
      "goodness = 0.008\n"
     ]
    },
    {
     "name": "stderr",
     "output_type": "stream",
     "text": [
      "\u001b[36m\u001b[1m[ \u001b[22m\u001b[39m\u001b[36m\u001b[1mInfo: \u001b[22m\u001b[39m2023-11-03T09:16:07.463\titeration: 309\tcurrent optimum: 0.05402633771643363\n",
      "\u001b[32mProgress: 100%|█████████████████████████████████████████| Time: 0:00:53\u001b[39m\n"
     ]
    },
    {
     "name": "stdout",
     "output_type": "stream",
     "text": [
      "s1 = 4.00; s3 = 3.00; s4 = 6.50; Δ1 = 4.00 Γ; Δ3 = Δ1; Δ4 = -4.00 Γ\n",
      "Survival: 0 / 20\n",
      "goodness = 0.000"
     ]
    },
    {
     "name": "stderr",
     "output_type": "stream",
     "text": [
      "\u001b[36m\u001b[1m[ \u001b[22m\u001b[39m\u001b[36m\u001b[1mInfo: \u001b[22m\u001b[39m2023-11-03T09:17:01.022\titeration: 310\tcurrent optimum: 0.05402633771643363\n"
     ]
    },
    {
     "name": "stdout",
     "output_type": "stream",
     "text": [
      "\n"
     ]
    },
    {
     "name": "stderr",
     "output_type": "stream",
     "text": [
      "\u001b[32mProgress: 100%|█████████████████████████████████████████| Time: 0:00:57\u001b[39m\n"
     ]
    },
    {
     "name": "stdout",
     "output_type": "stream",
     "text": [
      "s1 = 0.50; s3 = 3.00; s4 = 0.50; Δ1 = 0.50 Γ; Δ3 = Δ1; Δ4 = -10.00 Γ\n",
      "Survival: 2 / 20\n",
      "goodness = 0.011\n"
     ]
    },
    {
     "name": "stderr",
     "output_type": "stream",
     "text": [
      "\u001b[36m\u001b[1m[ \u001b[22m\u001b[39m\u001b[36m\u001b[1mInfo: \u001b[22m\u001b[39m2023-11-03T09:17:58.842\titeration: 311\tcurrent optimum: 0.05402633771643363\n",
      "\u001b[32mProgress:  95%|███████████████████████████████████████  |  ETA: 0:00:03\u001b[39m\r"
     ]
    },
    {
     "name": "stdout",
     "output_type": "stream",
     "text": [
      "s1 = 0.50; s3 = 3.00; s4 = 0.50; Δ1 = 4.00 Γ; Δ3 = Δ1; Δ4 = -10.00 Γ\n",
      "Survival: 0 / 20\n",
      "goodness = 0.000"
     ]
    },
    {
     "name": "stderr",
     "output_type": "stream",
     "text": [
      "\u001b[32mProgress: 100%|█████████████████████████████████████████| Time: 0:01:03\u001b[39m\n"
     ]
    },
    {
     "name": "stdout",
     "output_type": "stream",
     "text": [
      "\n"
     ]
    },
    {
     "name": "stderr",
     "output_type": "stream",
     "text": [
      "\u001b[36m\u001b[1m[ \u001b[22m\u001b[39m\u001b[36m\u001b[1mInfo: \u001b[22m\u001b[39m2023-11-03T09:19:02.459\titeration: 312\tcurrent optimum: 0.05402633771643363\n",
      "\u001b[32mProgress: 100%|█████████████████████████████████████████| Time: 0:02:00\u001b[39m\n"
     ]
    },
    {
     "name": "stdout",
     "output_type": "stream",
     "text": [
      "s1 = 4.00; s3 = 8.00; s4 = 0.50; Δ1 = 0.50 Γ; Δ3 = Δ1; Δ4 = -4.00 Γ\n",
      "Survival: 4 / 20\n",
      "goodness = 0.001"
     ]
    },
    {
     "name": "stderr",
     "output_type": "stream",
     "text": [
      "\u001b[36m\u001b[1m[ \u001b[22m\u001b[39m\u001b[36m\u001b[1mInfo: \u001b[22m\u001b[39m2023-11-03T09:21:02.691\titeration: 313\tcurrent optimum: 0.05402633771643363\n"
     ]
    },
    {
     "name": "stdout",
     "output_type": "stream",
     "text": [
      "\n"
     ]
    },
    {
     "name": "stderr",
     "output_type": "stream",
     "text": [
      "\u001b[32mProgress: 100%|█████████████████████████████████████████| Time: 0:01:21\u001b[39m"
     ]
    },
    {
     "name": "stdout",
     "output_type": "stream",
     "text": [
      "s1 = 4.00; s3 = 3.00; s4 = 6.50; Δ1 = 0.50 Γ; Δ3 = Δ1; Δ4 = -4.00 Γ\n",
      "Survival: 7 / 20\n",
      "goodness = 0.005"
     ]
    },
    {
     "name": "stderr",
     "output_type": "stream",
     "text": [
      "\n"
     ]
    },
    {
     "name": "stdout",
     "output_type": "stream",
     "text": [
      "\n"
     ]
    },
    {
     "name": "stderr",
     "output_type": "stream",
     "text": [
      "\u001b[36m\u001b[1m[ \u001b[22m\u001b[39m\u001b[36m\u001b[1mInfo: \u001b[22m\u001b[39m2023-11-03T09:22:24.186\titeration: 314\tcurrent optimum: 0.05402633771643363\n",
      "\u001b[32mProgress: 100%|█████████████████████████████████████████| Time: 0:02:18\u001b[39m\n"
     ]
    },
    {
     "name": "stdout",
     "output_type": "stream",
     "text": [
      "s1 = 4.00; s3 = 3.00; s4 = 0.50; Δ1 = 4.00 Γ; Δ3 = Δ1; Δ4 = -10.00 Γ\n",
      "Survival: 11 / 20\n",
      "goodness = 0.012"
     ]
    },
    {
     "name": "stderr",
     "output_type": "stream",
     "text": [
      "\u001b[36m\u001b[1m[ \u001b[22m\u001b[39m\u001b[36m\u001b[1mInfo: \u001b[22m\u001b[39m2023-11-03T09:24:42.839\titeration: 315\tcurrent optimum: 0.05402633771643363\n"
     ]
    },
    {
     "name": "stdout",
     "output_type": "stream",
     "text": [
      "\n"
     ]
    },
    {
     "name": "stderr",
     "output_type": "stream",
     "text": [
      "\u001b[32mProgress: 100%|█████████████████████████████████████████| Time: 0:01:38\u001b[39m\n"
     ]
    },
    {
     "name": "stdout",
     "output_type": "stream",
     "text": [
      "s1 = 0.50; s3 = 8.00; s4 = 0.50; Δ1 = 0.50 Γ; Δ3 = Δ1; Δ4 = -4.00 Γ\n",
      "Survival: 3 / 20\n",
      "goodness = 0.002"
     ]
    },
    {
     "name": "stderr",
     "output_type": "stream",
     "text": [
      "\u001b[36m\u001b[1m[ \u001b[22m\u001b[39m\u001b[36m\u001b[1mInfo: \u001b[22m\u001b[39m2023-11-03T09:26:21.584\titeration: 316\tcurrent optimum: 0.05402633771643363\n"
     ]
    },
    {
     "name": "stdout",
     "output_type": "stream",
     "text": [
      "\n"
     ]
    },
    {
     "name": "stderr",
     "output_type": "stream",
     "text": [
      "\u001b[32mProgress: 100%|█████████████████████████████████████████| Time: 0:00:27\u001b[39m\n"
     ]
    },
    {
     "name": "stdout",
     "output_type": "stream",
     "text": [
      "s1 = 0.50; s3 = 3.00; s4 = 6.50; Δ1 = 4.00 Γ; Δ3 = Δ1; Δ4 = -4.00 Γ\n",
      "Survival: 0 / 20\n",
      "goodness = 0.000\n"
     ]
    },
    {
     "name": "stderr",
     "output_type": "stream",
     "text": [
      "\u001b[36m\u001b[1m[ \u001b[22m\u001b[39m\u001b[36m\u001b[1mInfo: \u001b[22m\u001b[39m2023-11-03T09:26:49.403\titeration: 317\tcurrent optimum: 0.05402633771643363\n",
      "\u001b[32mProgress: 100%|█████████████████████████████████████████| Time: 0:01:26\u001b[39m\n"
     ]
    },
    {
     "name": "stdout",
     "output_type": "stream",
     "text": [
      "s1 = 4.00; s3 = 8.00; s4 = 6.50; Δ1 = 0.50 Γ; Δ3 = Δ1; Δ4 = -10.00 Γ\n",
      "Survival: 8 / 20\n",
      "goodness = 0.005"
     ]
    },
    {
     "name": "stderr",
     "output_type": "stream",
     "text": [
      "\u001b[36m\u001b[1m[ \u001b[22m\u001b[39m\u001b[36m\u001b[1mInfo: \u001b[22m\u001b[39m2023-11-03T09:28:15.973\titeration: 318\tcurrent optimum: 0.05402633771643363\n"
     ]
    },
    {
     "name": "stdout",
     "output_type": "stream",
     "text": [
      "\n"
     ]
    },
    {
     "name": "stderr",
     "output_type": "stream",
     "text": [
      "\u001b[32mProgress: 100%|█████████████████████████████████████████| Time: 0:00:49\u001b[39m\n"
     ]
    },
    {
     "name": "stdout",
     "output_type": "stream",
     "text": [
      "s1 = 4.00; s3 = 3.00; s4 = 0.50; Δ1 = 0.50 Γ; Δ3 = Δ1; Δ4 = -4.00 Γ\n",
      "Survival: 1 / 20\n",
      "goodness = 0.002\n"
     ]
    },
    {
     "name": "stderr",
     "output_type": "stream",
     "text": [
      "\u001b[36m\u001b[1m[ \u001b[22m\u001b[39m\u001b[36m\u001b[1mInfo: \u001b[22m\u001b[39m2023-11-03T09:29:05.835\titeration: 319\tcurrent optimum: 0.05402633771643363\n",
      "\u001b[32mProgress:  95%|███████████████████████████████████████  |  ETA: 0:00:03\u001b[39m\r"
     ]
    },
    {
     "name": "stdout",
     "output_type": "stream",
     "text": [
      "s1 = 4.00; s3 = 8.00; s4 = 0.50; Δ1 = 4.00 Γ; Δ3 = Δ1; Δ4 = -4.00 Γ\n",
      "Survival: 3 / 20\n",
      "goodness = 0.003"
     ]
    },
    {
     "name": "stderr",
     "output_type": "stream",
     "text": [
      "\u001b[32mProgress: 100%|█████████████████████████████████████████| Time: 0:01:00\u001b[39m\n",
      "\u001b[36m\u001b[1m[ \u001b[22m\u001b[39m\u001b[36m\u001b[1mInfo: \u001b[22m\u001b[39m2023-11-03T09:30:06.861\titeration: 320\tcurrent optimum: 0.05402633771643363\n"
     ]
    },
    {
     "name": "stdout",
     "output_type": "stream",
     "text": [
      "\n"
     ]
    },
    {
     "name": "stderr",
     "output_type": "stream",
     "text": [
      "\u001b[32mProgress: 100%|█████████████████████████████████████████| Time: 0:01:14\u001b[39m\n"
     ]
    },
    {
     "name": "stdout",
     "output_type": "stream",
     "text": [
      "s1 = 0.50; s3 = 3.00; s4 = 0.50; Δ1 = 4.00 Γ; Δ3 = Δ1; Δ4 = -10.00 Γ\n",
      "Survival: 0 / 20\n",
      "goodness = 0.000"
     ]
    },
    {
     "name": "stderr",
     "output_type": "stream",
     "text": [
      "\u001b[36m\u001b[1m[ \u001b[22m\u001b[39m\u001b[36m\u001b[1mInfo: \u001b[22m\u001b[39m2023-11-03T09:31:22.014\titeration: 321\tcurrent optimum: 0.05402633771643363\n"
     ]
    },
    {
     "name": "stdout",
     "output_type": "stream",
     "text": [
      "\n"
     ]
    },
    {
     "name": "stderr",
     "output_type": "stream",
     "text": [
      "\u001b[32mProgress:  95%|███████████████████████████████████████  |  ETA: 0:00:06\u001b[39m\r"
     ]
    },
    {
     "name": "stdout",
     "output_type": "stream",
     "text": [
      "s1 = 4.00; s3 = 3.00; s4 = 6.50; Δ1 = 4.00 Γ; Δ3 = Δ1; Δ4 = -10.00 Γ\n",
      "Survival: 6 / 20\n",
      "goodness = 0.027"
     ]
    },
    {
     "name": "stderr",
     "output_type": "stream",
     "text": [
      "\u001b[32mProgress: 100%|█████████████████████████████████████████| Time: 0:01:45\u001b[39m\n",
      "\u001b[36m\u001b[1m[ \u001b[22m\u001b[39m\u001b[36m\u001b[1mInfo: \u001b[22m\u001b[39m2023-11-03T09:33:08.133\titeration: 322\tcurrent optimum: 0.05402633771643363\n"
     ]
    },
    {
     "name": "stdout",
     "output_type": "stream",
     "text": [
      "\n"
     ]
    },
    {
     "name": "stderr",
     "output_type": "stream",
     "text": [
      "\u001b[32mProgress: 100%|█████████████████████████████████████████| Time: 0:00:52\u001b[39m\n"
     ]
    },
    {
     "name": "stdout",
     "output_type": "stream",
     "text": [
      "s1 = 4.00; s3 = 3.00; s4 = 0.50; Δ1 = 0.50 Γ; Δ3 = Δ1; Δ4 = -10.00 Γ\n",
      "Survival: 3 / 20\n",
      "goodness = 0.007"
     ]
    },
    {
     "name": "stderr",
     "output_type": "stream",
     "text": [
      "\u001b[36m\u001b[1m[ \u001b[22m\u001b[39m\u001b[36m\u001b[1mInfo: \u001b[22m\u001b[39m2023-11-03T09:34:01.100\titeration: 323\tcurrent optimum: 0.05402633771643363\n"
     ]
    },
    {
     "name": "stdout",
     "output_type": "stream",
     "text": [
      "\n"
     ]
    },
    {
     "name": "stderr",
     "output_type": "stream",
     "text": [
      "\u001b[32mProgress:  95%|███████████████████████████████████████  |  ETA: 0:00:05\u001b[39m\r"
     ]
    },
    {
     "name": "stdout",
     "output_type": "stream",
     "text": [
      "s1 = 4.00; s3 = 8.00; s4 = 0.50; Δ1 = 4.00 Γ; Δ3 = Δ1; Δ4 = -10.00 Γ\n",
      "Survival: 8 / 20\n",
      "goodness = 0.002"
     ]
    },
    {
     "name": "stderr",
     "output_type": "stream",
     "text": [
      "\u001b[32mProgress: 100%|█████████████████████████████████████████| Time: 0:01:54\u001b[39m\n",
      "\u001b[36m\u001b[1m[ \u001b[22m\u001b[39m\u001b[36m\u001b[1mInfo: \u001b[22m\u001b[39m2023-11-03T09:35:55.434\titeration: 324\tcurrent optimum: 0.05402633771643363\n"
     ]
    },
    {
     "name": "stdout",
     "output_type": "stream",
     "text": [
      "\n"
     ]
    },
    {
     "name": "stderr",
     "output_type": "stream",
     "text": [
      "\u001b[32mProgress: 100%|█████████████████████████████████████████| Time: 0:00:46\u001b[39m\n"
     ]
    },
    {
     "name": "stdout",
     "output_type": "stream",
     "text": [
      "s1 = 0.50; s3 = 8.00; s4 = 0.50; Δ1 = 4.00 Γ; Δ3 = Δ1; Δ4 = -4.00 Γ\n",
      "Survival: 0 / 20\n",
      "goodness = 0.000"
     ]
    },
    {
     "name": "stderr",
     "output_type": "stream",
     "text": [
      "\u001b[36m\u001b[1m[ \u001b[22m\u001b[39m\u001b[36m\u001b[1mInfo: \u001b[22m\u001b[39m2023-11-03T09:36:41.694\titeration: 325\tcurrent optimum: 0.05402633771643363\n"
     ]
    },
    {
     "name": "stdout",
     "output_type": "stream",
     "text": [
      "\n"
     ]
    },
    {
     "name": "stderr",
     "output_type": "stream",
     "text": [
      "\u001b[32mProgress: 100%|█████████████████████████████████████████| Time: 0:01:25\u001b[39m\n"
     ]
    },
    {
     "name": "stdout",
     "output_type": "stream",
     "text": [
      "s1 = 4.00; s3 = 3.00; s4 = 6.50; Δ1 = 0.50 Γ; Δ3 = Δ1; Δ4 = -4.00 Γ\n",
      "Survival: 4 / 20\n",
      "goodness = 0.003"
     ]
    },
    {
     "name": "stderr",
     "output_type": "stream",
     "text": [
      "\u001b[36m\u001b[1m[ \u001b[22m\u001b[39m\u001b[36m\u001b[1mInfo: \u001b[22m\u001b[39m2023-11-03T09:38:07.626\titeration: 326\tcurrent optimum: 0.05402633771643363\n"
     ]
    },
    {
     "name": "stdout",
     "output_type": "stream",
     "text": [
      "\n"
     ]
    },
    {
     "name": "stderr",
     "output_type": "stream",
     "text": [
      "\u001b[32mProgress: 100%|█████████████████████████████████████████| Time: 0:01:30\u001b[39m\n"
     ]
    },
    {
     "name": "stdout",
     "output_type": "stream",
     "text": [
      "s1 = 4.00; s3 = 3.00; s4 = 6.50; Δ1 = 0.50 Γ; Δ3 = Δ1; Δ4 = -10.00 Γ\n",
      "Survival: 3 / 20\n",
      "goodness = 0.007\n"
     ]
    },
    {
     "name": "stderr",
     "output_type": "stream",
     "text": [
      "\u001b[36m\u001b[1m[ \u001b[22m\u001b[39m\u001b[36m\u001b[1mInfo: \u001b[22m\u001b[39m2023-11-03T09:39:38.068\titeration: 327\tcurrent optimum: 0.05402633771643363\n",
      "\u001b[32mProgress: 100%|█████████████████████████████████████████| Time: 0:01:29\u001b[39m\n"
     ]
    },
    {
     "name": "stdout",
     "output_type": "stream",
     "text": [
      "s1 = 0.50; s3 = 3.00; s4 = 6.50; Δ1 = 0.50 Γ; Δ3 = Δ1; Δ4 = -10.00 Γ\n",
      "Survival: 1 / 20\n",
      "goodness = 0.003"
     ]
    },
    {
     "name": "stderr",
     "output_type": "stream",
     "text": [
      "\u001b[36m\u001b[1m[ \u001b[22m\u001b[39m\u001b[36m\u001b[1mInfo: \u001b[22m\u001b[39m2023-11-03T09:41:07.712\titeration: 328\tcurrent optimum: 0.05402633771643363\n"
     ]
    },
    {
     "name": "stdout",
     "output_type": "stream",
     "text": [
      "\n"
     ]
    },
    {
     "name": "stderr",
     "output_type": "stream",
     "text": [
      "\u001b[32mProgress: 100%|█████████████████████████████████████████| Time: 0:02:02\u001b[39m\n"
     ]
    },
    {
     "name": "stdout",
     "output_type": "stream",
     "text": [
      "s1 = 4.00; s3 = 8.00; s4 = 6.50; Δ1 = 0.50 Γ; Δ3 = Δ1; Δ4 = -4.00 Γ\n",
      "Survival: 10 / 20\n",
      "goodness = 0.003"
     ]
    },
    {
     "name": "stderr",
     "output_type": "stream",
     "text": [
      "\u001b[36m\u001b[1m[ \u001b[22m\u001b[39m\u001b[36m\u001b[1mInfo: \u001b[22m\u001b[39m2023-11-03T09:43:10.405\titeration: 329\tcurrent optimum: 0.05402633771643363\n"
     ]
    },
    {
     "name": "stdout",
     "output_type": "stream",
     "text": [
      "\n"
     ]
    },
    {
     "name": "stderr",
     "output_type": "stream",
     "text": [
      "\u001b[32mProgress: 100%|█████████████████████████████████████████| Time: 0:01:16\u001b[39m\n"
     ]
    },
    {
     "name": "stdout",
     "output_type": "stream",
     "text": [
      "s1 = 4.00; s3 = 3.00; s4 = 6.50; Δ1 = 4.00 Γ; Δ3 = Δ1; Δ4 = -10.00 Γ\n",
      "Survival: 2 / 20\n",
      "goodness = 0.008\n"
     ]
    },
    {
     "name": "stderr",
     "output_type": "stream",
     "text": [
      "\u001b[36m\u001b[1m[ \u001b[22m\u001b[39m\u001b[36m\u001b[1mInfo: \u001b[22m\u001b[39m2023-11-03T09:44:26.980\titeration: 330\tcurrent optimum: 0.05402633771643363\n",
      "\u001b[32mProgress: 100%|█████████████████████████████████████████| Time: 0:00:24\u001b[39m\n"
     ]
    },
    {
     "name": "stdout",
     "output_type": "stream",
     "text": [
      "s1 = 0.50; s3 = 3.00; s4 = 0.50; Δ1 = 4.00 Γ; Δ3 = Δ1; Δ4 = -4.00 Γ\n",
      "Survival: 0 / 20\n",
      "goodness = 0.000\n"
     ]
    },
    {
     "name": "stderr",
     "output_type": "stream",
     "text": [
      "\u001b[36m\u001b[1m[ \u001b[22m\u001b[39m\u001b[36m\u001b[1mInfo: \u001b[22m\u001b[39m2023-11-03T09:44:51.604\titeration: 331\tcurrent optimum: 0.05402633771643363\n",
      "\u001b[32mProgress: 100%|█████████████████████████████████████████| Time: 0:02:52\u001b[39m\n"
     ]
    },
    {
     "name": "stdout",
     "output_type": "stream",
     "text": [
      "s1 = 4.00; s3 = 8.00; s4 = 0.50; Δ1 = 4.00 Γ; Δ3 = Δ1; Δ4 = -10.00 Γ\n",
      "Survival: 10 / 20\n",
      "goodness = 0.004"
     ]
    },
    {
     "name": "stderr",
     "output_type": "stream",
     "text": [
      "\u001b[36m\u001b[1m[ \u001b[22m\u001b[39m\u001b[36m\u001b[1mInfo: \u001b[22m\u001b[39m2023-11-03T09:47:43.986\titeration: 332\tcurrent optimum: 0.05402633771643363\n"
     ]
    },
    {
     "name": "stdout",
     "output_type": "stream",
     "text": [
      "\n"
     ]
    },
    {
     "name": "stderr",
     "output_type": "stream",
     "text": [
      "\u001b[32mProgress: 100%|█████████████████████████████████████████| Time: 0:01:59\u001b[39m\n"
     ]
    },
    {
     "name": "stdout",
     "output_type": "stream",
     "text": [
      "s1 = 0.50; s3 = 8.00; s4 = 6.50; Δ1 = 0.50 Γ; Δ3 = Δ1; Δ4 = -4.00 Γ\n",
      "Survival: 3 / 20\n",
      "goodness = 0.000"
     ]
    },
    {
     "name": "stderr",
     "output_type": "stream",
     "text": [
      "\u001b[36m\u001b[1m[ \u001b[22m\u001b[39m\u001b[36m\u001b[1mInfo: \u001b[22m\u001b[39m2023-11-03T09:49:43.656\titeration: 333\tcurrent optimum: 0.05402633771643363\n"
     ]
    },
    {
     "name": "stdout",
     "output_type": "stream",
     "text": [
      "\n"
     ]
    },
    {
     "name": "stderr",
     "output_type": "stream",
     "text": [
      "\u001b[32mProgress: 100%|█████████████████████████████████████████| Time: 0:00:55\u001b[39m\n"
     ]
    },
    {
     "name": "stdout",
     "output_type": "stream",
     "text": [
      "s1 = 4.00; s3 = 3.00; s4 = 0.50; Δ1 = 0.50 Γ; Δ3 = Δ1; Δ4 = -4.00 Γ\n",
      "Survival: 4 / 20\n",
      "goodness = 0.008\n"
     ]
    },
    {
     "name": "stderr",
     "output_type": "stream",
     "text": [
      "\u001b[36m\u001b[1m[ \u001b[22m\u001b[39m\u001b[36m\u001b[1mInfo: \u001b[22m\u001b[39m2023-11-03T09:50:39.168\titeration: 334\tcurrent optimum: 0.05402633771643363\n",
      "\u001b[32mProgress: 100%|█████████████████████████████████████████| Time: 0:01:13\u001b[39m"
     ]
    },
    {
     "name": "stdout",
     "output_type": "stream",
     "text": [
      "s1 = 4.00; s3 = 3.00; s4 = 0.50; Δ1 = 0.50 Γ; Δ3 = Δ1; Δ4 = -10.00 Γ\n",
      "Survival: 3 / 20\n",
      "goodness = 0.006\n"
     ]
    },
    {
     "name": "stderr",
     "output_type": "stream",
     "text": [
      "\n",
      "\u001b[36m\u001b[1m[ \u001b[22m\u001b[39m\u001b[36m\u001b[1mInfo: \u001b[22m\u001b[39m2023-11-03T09:51:53.111\titeration: 335\tcurrent optimum: 0.05402633771643363\n",
      "\u001b[32mProgress: 100%|█████████████████████████████████████████| Time: 0:01:28\u001b[39m\n"
     ]
    },
    {
     "name": "stdout",
     "output_type": "stream",
     "text": [
      "s1 = 4.00; s3 = 8.00; s4 = 6.50; Δ1 = 4.00 Γ; Δ3 = Δ1; Δ4 = -10.00 Γ\n",
      "Survival: 2 / 20\n",
      "goodness = 0.001\n"
     ]
    },
    {
     "name": "stderr",
     "output_type": "stream",
     "text": [
      "\u001b[36m\u001b[1m[ \u001b[22m\u001b[39m\u001b[36m\u001b[1mInfo: \u001b[22m\u001b[39m2023-11-03T09:53:21.499\titeration: 336\tcurrent optimum: 0.05402633771643363\n",
      "\u001b[32mProgress:  95%|███████████████████████████████████████  |  ETA: 0:00:02\u001b[39m"
     ]
    },
    {
     "ename": "LoadError",
     "evalue": "InterruptException:",
     "output_type": "error",
     "traceback": [
      "InterruptException:",
      "",
      "Stacktrace:",
      "  [1] try_yieldto(undo::typeof(Base.ensure_rescheduled))",
      "    @ Base .\\task.jl:920",
      "  [2] wait()",
      "    @ Base .\\task.jl:984",
      "  [3] wait(c::Base.GenericCondition{Base.Threads.SpinLock}; first::Bool)",
      "    @ Base .\\condition.jl:130",
      "  [4] wait(c::Base.GenericCondition{Base.Threads.SpinLock})",
      "    @ Base .\\condition.jl:125",
      "  [5] _wait(t::Task)",
      "    @ Base .\\task.jl:308",
      "  [6] threading_run(fun::var\"#72#threadsfor_fun#20\"{var\"#72#threadsfor_fun#12#21\"{MutableNamedTuple{(:states, :n_excited, :d, :Zeeman_x_mat, :Zeeman_y_mat, :Zeeman_z_mat), Tuple{Base.RefValue{Vector{State{HundsCaseB_Rot}}}, Base.RefValue{Int64}, Base.RefValue{Array{ComplexF64, 3}}, Base.RefValue{StructArray{ComplexF64, 2, NamedTuple{(:re, :im), Tuple{Matrix{Float64}, Matrix{Float64}}}, Int64}}, Base.RefValue{StructArray{ComplexF64, 2, NamedTuple{(:re, :im), Tuple{Matrix{Float64}, Matrix{Float64}}}, Int64}}, Base.RefValue{StructArray{ComplexF64, 2, NamedTuple{(:re, :im), Tuple{Matrix{Float64}, Matrix{Float64}}}, Int64}}}}, MutableNamedTuple{(:t_end, :n_values, :pol1_x, :pol2_x, :pol3_x, :pol4_x, :s1, :s2, :s3, :s4, :Δ1, :Δ2, :Δ3, :Δ4, :B_gradient, :temp, :diameter, :displacement, :kick, :ramp_time, :pol_imbalance, :s_imbalance), Tuple{Base.RefValue{Float64}, Base.RefValue{Int64}, Base.RefValue{SVector{3, ComplexF64}}, Base.RefValue{SVector{3, ComplexF64}}, Base.RefValue{SVector{3, ComplexF64}}, Base.RefValue{SVector{3, ComplexF64}}, Base.RefValue{Float64}, Base.RefValue{Float64}, Base.RefValue{Float64}, Base.RefValue{Float64}, Base.RefValue{Float64}, Base.RefValue{Float64}, Base.RefValue{Float64}, Base.RefValue{Float64}, Base.RefValue{Int64}, Base.RefValue{Float64}, Base.RefValue{Float64}, Base.RefValue{Vector{Float64}}, Base.RefValue{Vector{Float64}}, Base.RefValue{Float64}, Base.RefValue{Float64}, Base.RefValue{Tuple{Float64, Float64, Float64}}}}, Vector{Float64}, Vector{Vector{Float64}}, Vector{Vector{Float64}}, Vector{Vector{Float64}}, Vector{Vector{Float64}}, Vector{Vector{Float64}}, Vector{Vector{Float64}}, Vector{Vector{Float64}}, Vector{Vector{Float64}}, Int64, Int64, Progress, Int64, Int64, UnitRange{Int64}}}, static::Bool)",
      "    @ Base.Threads .\\threadingconstructs.jl:152",
      "  [7] macro expansion",
      "    @ .\\threadingconstructs.jl:205 [inlined]",
      "  [8] simulate_particles_v2(package::MutableNamedTuple{(:states, :n_excited, :d, :Zeeman_x_mat, :Zeeman_y_mat, :Zeeman_z_mat), Tuple{Base.RefValue{Vector{State{HundsCaseB_Rot}}}, Base.RefValue{Int64}, Base.RefValue{Array{ComplexF64, 3}}, Base.RefValue{StructArray{ComplexF64, 2, NamedTuple{(:re, :im), Tuple{Matrix{Float64}, Matrix{Float64}}}, Int64}}, Base.RefValue{StructArray{ComplexF64, 2, NamedTuple{(:re, :im), Tuple{Matrix{Float64}, Matrix{Float64}}}, Int64}}, Base.RefValue{StructArray{ComplexF64, 2, NamedTuple{(:re, :im), Tuple{Matrix{Float64}, Matrix{Float64}}}, Int64}}}}, params::MutableNamedTuple{(:t_end, :n_values, :pol1_x, :pol2_x, :pol3_x, :pol4_x, :s1, :s2, :s3, :s4, :Δ1, :Δ2, :Δ3, :Δ4, :B_gradient, :temp, :diameter, :displacement, :kick, :ramp_time, :pol_imbalance, :s_imbalance), Tuple{Base.RefValue{Float64}, Base.RefValue{Int64}, Base.RefValue{SVector{3, ComplexF64}}, Base.RefValue{SVector{3, ComplexF64}}, Base.RefValue{SVector{3, ComplexF64}}, Base.RefValue{SVector{3, ComplexF64}}, Base.RefValue{Float64}, Base.RefValue{Float64}, Base.RefValue{Float64}, Base.RefValue{Float64}, Base.RefValue{Float64}, Base.RefValue{Float64}, Base.RefValue{Float64}, Base.RefValue{Float64}, Base.RefValue{Int64}, Base.RefValue{Float64}, Base.RefValue{Float64}, Base.RefValue{Vector{Float64}}, Base.RefValue{Vector{Float64}}, Base.RefValue{Float64}, Base.RefValue{Float64}, Base.RefValue{Tuple{Float64, Float64, Float64}}}})",
      "    @ Main C:\\Google Drive\\github\\OpticalBlochEquations\\examples\\ipynb_sources\\toy_models\\CaOH_scan\\CaOH_scan_helper_v2.jl:408",
      "  [9] f(x::Vector{Float64})",
      "    @ Main .\\In[5]:33",
      " [10] macro expansion",
      "    @ C:\\Users\\Christian\\.julia\\packages\\TimerOutputs\\RsWnF\\src\\TimerOutput.jl:237 [inlined]",
      " [11] _evaluate_function(o::BOpt{typeof(f), GPE{ElasticArrays.ElasticMatrix{Float64, Vector{Float64}}, ElasticArrays.ElasticVector{Float64, Vector{Float64}}, MeanConst, SEArd{Float64}, GaussianProcesses.ElasticCovStrat, GaussianProcesses.StationaryARDData{ElasticPDMats.AllElasticArray{Float64, 3}}, ElasticPDMats.ElasticPDMat{Float64, Matrix{Float64}}, GaussianProcesses.Scalar{Float64}}, UpperConfidenceBound{BrochuBetaScaling}, NamedTuple{(:method, :restarts, :maxeval, :maxtime), Tuple{Symbol, Int64, Int64, Float64}}, MAPGPOptimizer{NamedTuple{(:domean, :kern, :noise, :lik, :meanbounds, :kernbounds, :noisebounds, :likbounds, :method, :maxeval), Tuple{Bool, Bool, Bool, Bool, Nothing, Vector{Vector{Int64}}, Vector{Int64}, Nothing, Symbol, Int64}}}, ScaledSobolIterator{Float64, 5}}, x::Vector{Float64})",
      "    @ BayesianOptimization C:\\Users\\Christian\\.julia\\packages\\BayesianOptimization\\nq1HY\\src\\BayesianOptimization.jl:160",
      " [12] boptimize!(o::BOpt{typeof(f), GPE{ElasticArrays.ElasticMatrix{Float64, Vector{Float64}}, ElasticArrays.ElasticVector{Float64, Vector{Float64}}, MeanConst, SEArd{Float64}, GaussianProcesses.ElasticCovStrat, GaussianProcesses.StationaryARDData{ElasticPDMats.AllElasticArray{Float64, 3}}, ElasticPDMats.ElasticPDMat{Float64, Matrix{Float64}}, GaussianProcesses.Scalar{Float64}}, UpperConfidenceBound{BrochuBetaScaling}, NamedTuple{(:method, :restarts, :maxeval, :maxtime), Tuple{Symbol, Int64, Int64, Float64}}, MAPGPOptimizer{NamedTuple{(:domean, :kern, :noise, :lik, :meanbounds, :kernbounds, :noisebounds, :likbounds, :method, :maxeval), Tuple{Bool, Bool, Bool, Bool, Nothing, Vector{Vector{Int64}}, Vector{Int64}, Nothing, Symbol, Int64}}}, ScaledSobolIterator{Float64, 5}})",
      "    @ BayesianOptimization C:\\Users\\Christian\\.julia\\packages\\BayesianOptimization\\nq1HY\\src\\BayesianOptimization.jl:146",
      " [13] top-level scope",
      "    @ .\\In[8]:5"
     ]
    }
   ],
   "source": [
    "using Serialization\n",
    "    \n",
    "while true\n",
    "    maxiterations!(opt, 50)\n",
    "    result = boptimize!(opt)\n",
    "    serialize(\"optimized_3freqs_smallparamspace_fixedphotonbudget_bugfixed_highgrad.jl\", opt)\n",
    "    println(\"===== Autosaved =====\")\n",
    "end"
   ]
  },
  {
   "cell_type": "code",
   "execution_count": null,
   "id": "7a7c8653-f06f-4a32-89f4-f126b2835147",
   "metadata": {},
   "outputs": [],
   "source": [
    "plot(moving_average(opt.model.y, 10))"
   ]
  },
  {
   "cell_type": "code",
   "execution_count": null,
   "id": "1b62b8de-4b83-4eb4-8e5a-eae257e8b950",
   "metadata": {},
   "outputs": [],
   "source": [
    "opt.observed_optimum"
   ]
  },
  {
   "cell_type": "code",
   "execution_count": null,
   "id": "be634307-a206-4d6a-9b8c-2c9981fa5ef8",
   "metadata": {},
   "outputs": [],
   "source": [
    "opt.observed_optimizer"
   ]
  },
  {
   "cell_type": "code",
   "execution_count": null,
   "id": "6836a06e-5525-4ad9-86ce-76c72a67cb2a",
   "metadata": {},
   "outputs": [],
   "source": [
    "opt.model_optimum"
   ]
  },
  {
   "cell_type": "code",
   "execution_count": null,
   "id": "4a0f281c-24a5-43f1-af1c-35897e3fcf8b",
   "metadata": {},
   "outputs": [],
   "source": [
    "opt.model_optimizer"
   ]
  },
  {
   "cell_type": "code",
   "execution_count": 206,
   "id": "411d8b28",
   "metadata": {},
   "outputs": [
    {
     "data": {
      "image/png": "[encoded data removed]",
      "image/svg+xml": [
       "<?xml version=\"1.0\" encoding=\"utf-8\"?>\n",
       "<svg xmlns=\"http://www.w3.org/2000/svg\" xmlns:xlink=\"http://www.w3.org/1999/xlink\" width=\"600\" height=\"400\" viewBox=\"0 0 2400 1600\">\n",
       "<defs>\n",
       "  <clipPath id=\"clip500\">\n",
       "    <rect x=\"0\" y=\"0\" width=\"2400\" height=\"1600\"/>\n",
       "  </clipPath>\n",
       "</defs>\n",
       "<path clip-path=\"url(#clip500)\" d=\"M0 1600 L2400 1600 L2400 0 L0 0  Z\" fill=\"#ffffff\" fill-rule=\"evenodd\" fill-opacity=\"1\"/>\n",
       "<defs>\n",
       "  <clipPath id=\"clip501\">\n",
       "    <rect x=\"480\" y=\"0\" width=\"1681\" height=\"1600\"/>\n",
       "  </clipPath>\n",
       "</defs>\n",
       "<path clip-path=\"url(#clip500)\" d=\"M242.135 1423.18 L2112.76 1423.18 L2112.76 47.2441 L242.135 47.2441  Z\" fill=\"#ffffff\" fill-rule=\"evenodd\" fill-opacity=\"1\"/>\n",
       "<defs>\n",
       "  <clipPath id=\"clip502\">\n",
       "    <rect x=\"242\" y=\"47\" width=\"1872\" height=\"1377\"/>\n",
       "  </clipPath>\n",
       "</defs>\n",
       "<polyline clip-path=\"url(#clip502)\" style=\"stroke:#000000; stroke-linecap:round; stroke-linejoin:round; stroke-width:2; stroke-opacity:0.1; fill:none\" points=\"454.192,1423.18 454.192,47.2441 \"/>\n",
       "<polyline clip-path=\"url(#clip502)\" style=\"stroke:#000000; stroke-linecap:round; stroke-linejoin:round; stroke-width:2; stroke-opacity:0.1; fill:none\" points=\"743.494,1423.18 743.494,47.2441 \"/>\n",
       "<polyline clip-path=\"url(#clip502)\" style=\"stroke:#000000; stroke-linecap:round; stroke-linejoin:round; stroke-width:2; stroke-opacity:0.1; fill:none\" points=\"1032.79,1423.18 1032.79,47.2441 \"/>\n",
       "<polyline clip-path=\"url(#clip502)\" style=\"stroke:#000000; stroke-linecap:round; stroke-linejoin:round; stroke-width:2; stroke-opacity:0.1; fill:none\" points=\"1322.1,1423.18 1322.1,47.2441 \"/>\n",
       "<polyline clip-path=\"url(#clip502)\" style=\"stroke:#000000; stroke-linecap:round; stroke-linejoin:round; stroke-width:2; stroke-opacity:0.1; fill:none\" points=\"1611.4,1423.18 1611.4,47.2441 \"/>\n",
       "<polyline clip-path=\"url(#clip502)\" style=\"stroke:#000000; stroke-linecap:round; stroke-linejoin:round; stroke-width:2; stroke-opacity:0.1; fill:none\" points=\"1900.7,1423.18 1900.7,47.2441 \"/>\n",
       "<polyline clip-path=\"url(#clip500)\" style=\"stroke:#000000; stroke-linecap:round; stroke-linejoin:round; stroke-width:4; stroke-opacity:1; fill:none\" points=\"242.135,1423.18 2112.76,1423.18 \"/>\n",
       "<polyline clip-path=\"url(#clip500)\" style=\"stroke:#000000; stroke-linecap:round; stroke-linejoin:round; stroke-width:4; stroke-opacity:1; fill:none\" points=\"454.192,1423.18 454.192,1404.28 \"/>\n",
       "<polyline clip-path=\"url(#clip500)\" style=\"stroke:#000000; stroke-linecap:round; stroke-linejoin:round; stroke-width:4; stroke-opacity:1; fill:none\" points=\"743.494,1423.18 743.494,1404.28 \"/>\n",
       "<polyline clip-path=\"url(#clip500)\" style=\"stroke:#000000; stroke-linecap:round; stroke-linejoin:round; stroke-width:4; stroke-opacity:1; fill:none\" points=\"1032.79,1423.18 1032.79,1404.28 \"/>\n",
       "<polyline clip-path=\"url(#clip500)\" style=\"stroke:#000000; stroke-linecap:round; stroke-linejoin:round; stroke-width:4; stroke-opacity:1; fill:none\" points=\"1322.1,1423.18 1322.1,1404.28 \"/>\n",
       "<polyline clip-path=\"url(#clip500)\" style=\"stroke:#000000; stroke-linecap:round; stroke-linejoin:round; stroke-width:4; stroke-opacity:1; fill:none\" points=\"1611.4,1423.18 1611.4,1404.28 \"/>\n",
       "<polyline clip-path=\"url(#clip500)\" style=\"stroke:#000000; stroke-linecap:round; stroke-linejoin:round; stroke-width:4; stroke-opacity:1; fill:none\" points=\"1900.7,1423.18 1900.7,1404.28 \"/>\n",
       "<path clip-path=\"url(#clip500)\" d=\"M444.574 1481.64 L452.213 1481.64 L452.213 1455.28 L443.903 1456.95 L443.903 1452.69 L452.167 1451.02 L456.843 1451.02 L456.843 1481.64 L464.482 1481.64 L464.482 1485.58 L444.574 1485.58 L444.574 1481.64 Z\" fill=\"#000000\" fill-rule=\"nonzero\" fill-opacity=\"1\" /><path clip-path=\"url(#clip500)\" d=\"M738.146 1481.64 L754.466 1481.64 L754.466 1485.58 L732.521 1485.58 L732.521 1481.64 Q735.183 1478.89 739.767 1474.26 Q744.373 1469.61 745.554 1468.27 Q747.799 1465.74 748.679 1464.01 Q749.581 1462.25 749.581 1460.56 Q749.581 1457.8 747.637 1456.07 Q745.716 1454.33 742.614 1454.33 Q740.415 1454.33 737.961 1455.09 Q735.531 1455.86 732.753 1457.41 L732.753 1452.69 Q735.577 1451.55 738.031 1450.97 Q740.484 1450.39 742.521 1450.39 Q747.892 1450.39 751.086 1453.08 Q754.281 1455.77 754.281 1460.26 Q754.281 1462.39 753.47 1464.31 Q752.683 1466.2 750.577 1468.8 Q749.998 1469.47 746.896 1472.69 Q743.794 1475.88 738.146 1481.64 Z\" fill=\"#000000\" fill-rule=\"nonzero\" fill-opacity=\"1\" /><path clip-path=\"url(#clip500)\" d=\"M1037.04 1466.95 Q1040.4 1467.66 1042.27 1469.93 Q1044.17 1472.2 1044.17 1475.53 Q1044.17 1480.65 1040.65 1483.45 Q1037.13 1486.25 1030.65 1486.25 Q1028.48 1486.25 1026.16 1485.81 Q1023.87 1485.39 1021.42 1484.54 L1021.42 1480.02 Q1023.36 1481.16 1025.68 1481.74 Q1027.99 1482.32 1030.51 1482.32 Q1034.91 1482.32 1037.2 1480.58 Q1039.52 1478.84 1039.52 1475.53 Q1039.52 1472.48 1037.37 1470.77 Q1035.24 1469.03 1031.42 1469.03 L1027.39 1469.03 L1027.39 1465.19 L1031.6 1465.19 Q1035.05 1465.19 1036.88 1463.82 Q1038.71 1462.43 1038.71 1459.84 Q1038.71 1457.18 1036.81 1455.77 Q1034.94 1454.33 1031.42 1454.33 Q1029.5 1454.33 1027.3 1454.75 Q1025.1 1455.16 1022.46 1456.04 L1022.46 1451.88 Q1025.12 1451.14 1027.44 1450.77 Q1029.77 1450.39 1031.83 1450.39 Q1037.16 1450.39 1040.26 1452.83 Q1043.36 1455.23 1043.36 1459.35 Q1043.36 1462.22 1041.72 1464.21 Q1040.07 1466.18 1037.04 1466.95 Z\" fill=\"#000000\" fill-rule=\"nonzero\" fill-opacity=\"1\" /><path clip-path=\"url(#clip500)\" d=\"M1325.11 1455.09 L1313.3 1473.54 L1325.11 1473.54 L1325.11 1455.09 M1323.88 1451.02 L1329.76 1451.02 L1329.76 1473.54 L1334.69 1473.54 L1334.69 1477.43 L1329.76 1477.43 L1329.76 1485.58 L1325.11 1485.58 L1325.11 1477.43 L1309.5 1477.43 L1309.5 1472.92 L1323.88 1451.02 Z\" fill=\"#000000\" fill-rule=\"nonzero\" fill-opacity=\"1\" /><path clip-path=\"url(#clip500)\" d=\"M1601.67 1451.02 L1620.03 1451.02 L1620.03 1454.96 L1605.96 1454.96 L1605.96 1463.43 Q1606.98 1463.08 1607.99 1462.92 Q1609.01 1462.73 1610.03 1462.73 Q1615.82 1462.73 1619.2 1465.9 Q1622.58 1469.08 1622.58 1474.49 Q1622.58 1480.07 1619.11 1483.17 Q1615.63 1486.25 1609.31 1486.25 Q1607.14 1486.25 1604.87 1485.88 Q1602.62 1485.51 1600.22 1484.77 L1600.22 1480.07 Q1602.3 1481.2 1604.52 1481.76 Q1606.74 1482.32 1609.22 1482.32 Q1613.23 1482.32 1615.56 1480.21 Q1617.9 1478.1 1617.9 1474.49 Q1617.9 1470.88 1615.56 1468.77 Q1613.23 1466.67 1609.22 1466.67 Q1607.35 1466.67 1605.47 1467.08 Q1603.62 1467.5 1601.67 1468.38 L1601.67 1451.02 Z\" fill=\"#000000\" fill-rule=\"nonzero\" fill-opacity=\"1\" /><path clip-path=\"url(#clip500)\" d=\"M1901.1 1466.44 Q1897.96 1466.44 1896.1 1468.59 Q1894.27 1470.74 1894.27 1474.49 Q1894.27 1478.22 1896.1 1480.39 Q1897.96 1482.55 1901.1 1482.55 Q1904.25 1482.55 1906.08 1480.39 Q1907.93 1478.22 1907.93 1474.49 Q1907.93 1470.74 1906.08 1468.59 Q1904.25 1466.44 1901.1 1466.44 M1910.39 1451.78 L1910.39 1456.04 Q1908.63 1455.21 1906.82 1454.77 Q1905.04 1454.33 1903.28 1454.33 Q1898.65 1454.33 1896.2 1457.45 Q1893.77 1460.58 1893.42 1466.9 Q1894.78 1464.89 1896.84 1463.82 Q1898.9 1462.73 1901.38 1462.73 Q1906.59 1462.73 1909.6 1465.9 Q1912.63 1469.05 1912.63 1474.49 Q1912.63 1479.82 1909.48 1483.03 Q1906.33 1486.25 1901.1 1486.25 Q1895.11 1486.25 1891.94 1481.67 Q1888.77 1477.06 1888.77 1468.33 Q1888.77 1460.14 1892.65 1455.28 Q1896.54 1450.39 1903.09 1450.39 Q1904.85 1450.39 1906.64 1450.74 Q1908.44 1451.09 1910.39 1451.78 Z\" fill=\"#000000\" fill-rule=\"nonzero\" fill-opacity=\"1\" /><path clip-path=\"url(#clip500)\" d=\"M1168.66 1533.45 L1168.66 1538.98 Q1166.18 1537.71 1163.5 1537.07 Q1160.83 1536.44 1157.97 1536.44 Q1153.61 1536.44 1151.41 1537.77 Q1149.25 1539.11 1149.25 1541.79 Q1149.25 1543.82 1150.8 1545 Q1152.36 1546.15 1157.08 1547.2 L1159.08 1547.64 Q1165.32 1548.98 1167.93 1551.43 Q1170.57 1553.85 1170.57 1558.21 Q1170.57 1563.17 1166.62 1566.07 Q1162.71 1568.97 1155.83 1568.97 Q1152.97 1568.97 1149.85 1568.39 Q1146.76 1567.85 1143.33 1566.74 L1143.33 1560.69 Q1146.57 1562.38 1149.72 1563.24 Q1152.87 1564.07 1155.96 1564.07 Q1160.1 1564.07 1162.33 1562.66 Q1164.55 1561.23 1164.55 1558.65 Q1164.55 1556.27 1162.93 1554.99 Q1161.34 1553.72 1155.9 1552.54 L1153.86 1552.07 Q1148.42 1550.92 1146 1548.56 Q1143.58 1546.18 1143.58 1542.04 Q1143.58 1537.01 1147.14 1534.27 Q1150.71 1531.54 1157.27 1531.54 Q1160.51 1531.54 1163.38 1532.01 Q1166.24 1532.49 1168.66 1533.45 Z\" fill=\"#000000\" fill-rule=\"nonzero\" fill-opacity=\"1\" /><path clip-path=\"url(#clip500)\" d=\"M1198.39 1526.13 L1182.16 1551.49 L1198.39 1551.49 L1198.39 1526.13 M1196.7 1520.52 L1204.79 1520.52 L1204.79 1551.49 L1211.57 1551.49 L1211.57 1556.84 L1204.79 1556.84 L1204.79 1568.04 L1198.39 1568.04 L1198.39 1556.84 L1176.94 1556.84 L1176.94 1550.63 L1196.7 1520.52 Z\" fill=\"#000000\" fill-rule=\"nonzero\" fill-opacity=\"1\" /><polyline clip-path=\"url(#clip502)\" style=\"stroke:#000000; stroke-linecap:round; stroke-linejoin:round; stroke-width:2; stroke-opacity:0.1; fill:none\" points=\"242.135,1373.6 2112.76,1373.6 \"/>\n",
       "<polyline clip-path=\"url(#clip502)\" style=\"stroke:#000000; stroke-linecap:round; stroke-linejoin:round; stroke-width:2; stroke-opacity:0.1; fill:none\" points=\"242.135,1160.8 2112.76,1160.8 \"/>\n",
       "<polyline clip-path=\"url(#clip502)\" style=\"stroke:#000000; stroke-linecap:round; stroke-linejoin:round; stroke-width:2; stroke-opacity:0.1; fill:none\" points=\"242.135,948.007 2112.76,948.007 \"/>\n",
       "<polyline clip-path=\"url(#clip502)\" style=\"stroke:#000000; stroke-linecap:round; stroke-linejoin:round; stroke-width:2; stroke-opacity:0.1; fill:none\" points=\"242.135,735.212 2112.76,735.212 \"/>\n",
       "<polyline clip-path=\"url(#clip502)\" style=\"stroke:#000000; stroke-linecap:round; stroke-linejoin:round; stroke-width:2; stroke-opacity:0.1; fill:none\" points=\"242.135,522.416 2112.76,522.416 \"/>\n",
       "<polyline clip-path=\"url(#clip502)\" style=\"stroke:#000000; stroke-linecap:round; stroke-linejoin:round; stroke-width:2; stroke-opacity:0.1; fill:none\" points=\"242.135,309.621 2112.76,309.621 \"/>\n",
       "<polyline clip-path=\"url(#clip502)\" style=\"stroke:#000000; stroke-linecap:round; stroke-linejoin:round; stroke-width:2; stroke-opacity:0.1; fill:none\" points=\"242.135,96.8254 2112.76,96.8254 \"/>\n",
       "<polyline clip-path=\"url(#clip500)\" style=\"stroke:#000000; stroke-linecap:round; stroke-linejoin:round; stroke-width:4; stroke-opacity:1; fill:none\" points=\"242.135,1423.18 242.135,47.2441 \"/>\n",
       "<polyline clip-path=\"url(#clip500)\" style=\"stroke:#000000; stroke-linecap:round; stroke-linejoin:round; stroke-width:4; stroke-opacity:1; fill:none\" points=\"242.135,1373.6 258.883,1373.6 \"/>\n",
       "<polyline clip-path=\"url(#clip500)\" style=\"stroke:#000000; stroke-linecap:round; stroke-linejoin:round; stroke-width:4; stroke-opacity:1; fill:none\" points=\"242.135,1160.8 258.883,1160.8 \"/>\n",
       "<polyline clip-path=\"url(#clip500)\" style=\"stroke:#000000; stroke-linecap:round; stroke-linejoin:round; stroke-width:4; stroke-opacity:1; fill:none\" points=\"242.135,948.007 258.883,948.007 \"/>\n",
       "<polyline clip-path=\"url(#clip500)\" style=\"stroke:#000000; stroke-linecap:round; stroke-linejoin:round; stroke-width:4; stroke-opacity:1; fill:none\" points=\"242.135,735.212 258.883,735.212 \"/>\n",
       "<polyline clip-path=\"url(#clip500)\" style=\"stroke:#000000; stroke-linecap:round; stroke-linejoin:round; stroke-width:4; stroke-opacity:1; fill:none\" points=\"242.135,522.416 258.883,522.416 \"/>\n",
       "<polyline clip-path=\"url(#clip500)\" style=\"stroke:#000000; stroke-linecap:round; stroke-linejoin:round; stroke-width:4; stroke-opacity:1; fill:none\" points=\"242.135,309.621 258.883,309.621 \"/>\n",
       "<polyline clip-path=\"url(#clip500)\" style=\"stroke:#000000; stroke-linecap:round; stroke-linejoin:round; stroke-width:4; stroke-opacity:1; fill:none\" points=\"242.135,96.8254 258.883,96.8254 \"/>\n",
       "<path clip-path=\"url(#clip500)\" d=\"M114.26 1374.05 L143.936 1374.05 L143.936 1377.99 L114.26 1377.99 L114.26 1374.05 Z\" fill=\"#000000\" fill-rule=\"nonzero\" fill-opacity=\"1\" /><path clip-path=\"url(#clip500)\" d=\"M154.839 1386.94 L162.477 1386.94 L162.477 1360.58 L154.167 1362.24 L154.167 1357.99 L162.431 1356.32 L167.107 1356.32 L167.107 1386.94 L174.746 1386.94 L174.746 1390.88 L154.839 1390.88 L154.839 1386.94 Z\" fill=\"#000000\" fill-rule=\"nonzero\" fill-opacity=\"1\" /><path clip-path=\"url(#clip500)\" d=\"M194.19 1359.4 Q190.579 1359.4 188.75 1362.96 Q186.945 1366.5 186.945 1373.63 Q186.945 1380.74 188.75 1384.3 Q190.579 1387.85 194.19 1387.85 Q197.825 1387.85 199.63 1384.3 Q201.459 1380.74 201.459 1373.63 Q201.459 1366.5 199.63 1362.96 Q197.825 1359.4 194.19 1359.4 M194.19 1355.69 Q200 1355.69 203.056 1360.3 Q206.135 1364.88 206.135 1373.63 Q206.135 1382.36 203.056 1386.97 Q200 1391.55 194.19 1391.55 Q188.38 1391.55 185.301 1386.97 Q182.246 1382.36 182.246 1373.63 Q182.246 1364.88 185.301 1360.3 Q188.38 1355.69 194.19 1355.69 Z\" fill=\"#000000\" fill-rule=\"nonzero\" fill-opacity=\"1\" /><path clip-path=\"url(#clip500)\" d=\"M144.607 1161.25 L174.283 1161.25 L174.283 1165.19 L144.607 1165.19 L144.607 1161.25 Z\" fill=\"#000000\" fill-rule=\"nonzero\" fill-opacity=\"1\" /><path clip-path=\"url(#clip500)\" d=\"M184.514 1177.37 L184.514 1173.11 Q186.274 1173.94 188.079 1174.38 Q189.885 1174.82 191.621 1174.82 Q196.25 1174.82 198.681 1171.72 Q201.135 1168.59 201.482 1162.25 Q200.139 1164.24 198.079 1165.31 Q196.019 1166.37 193.519 1166.37 Q188.334 1166.37 185.301 1163.25 Q182.292 1160.1 182.292 1154.66 Q182.292 1149.33 185.44 1146.12 Q188.588 1142.9 193.82 1142.9 Q199.815 1142.9 202.963 1147.5 Q206.135 1152.09 206.135 1160.84 Q206.135 1169.01 202.246 1173.89 Q198.38 1178.75 191.829 1178.75 Q190.07 1178.75 188.264 1178.41 Q186.459 1178.06 184.514 1177.37 M193.82 1162.71 Q196.968 1162.71 198.797 1160.56 Q200.649 1158.41 200.649 1154.66 Q200.649 1150.93 198.797 1148.78 Q196.968 1146.6 193.82 1146.6 Q190.672 1146.6 188.82 1148.78 Q186.991 1150.93 186.991 1154.66 Q186.991 1158.41 188.82 1160.56 Q190.672 1162.71 193.82 1162.71 Z\" fill=\"#000000\" fill-rule=\"nonzero\" fill-opacity=\"1\" /><path clip-path=\"url(#clip500)\" d=\"M144.515 948.459 L174.19 948.459 L174.19 952.394 L144.515 952.394 L144.515 948.459 Z\" fill=\"#000000\" fill-rule=\"nonzero\" fill-opacity=\"1\" /><path clip-path=\"url(#clip500)\" d=\"M194.283 948.876 Q190.95 948.876 189.028 950.658 Q187.13 952.44 187.13 955.565 Q187.13 958.69 189.028 960.473 Q190.95 962.255 194.283 962.255 Q197.616 962.255 199.537 960.473 Q201.459 958.667 201.459 955.565 Q201.459 952.44 199.537 950.658 Q197.639 948.876 194.283 948.876 M189.607 946.885 Q186.598 946.144 184.908 944.084 Q183.241 942.024 183.241 939.061 Q183.241 934.917 186.181 932.51 Q189.144 930.102 194.283 930.102 Q199.445 930.102 202.385 932.51 Q205.324 934.917 205.324 939.061 Q205.324 942.024 203.635 944.084 Q201.968 946.144 198.982 946.885 Q202.362 947.672 204.237 949.963 Q206.135 952.255 206.135 955.565 Q206.135 960.588 203.056 963.274 Q200 965.959 194.283 965.959 Q188.565 965.959 185.487 963.274 Q182.431 960.588 182.431 955.565 Q182.431 952.255 184.329 949.963 Q186.227 947.672 189.607 946.885 M187.894 939.501 Q187.894 942.186 189.561 943.69 Q191.25 945.195 194.283 945.195 Q197.292 945.195 198.982 943.69 Q200.695 942.186 200.695 939.501 Q200.695 936.815 198.982 935.311 Q197.292 933.806 194.283 933.806 Q191.25 933.806 189.561 935.311 Q187.894 936.815 187.894 939.501 Z\" fill=\"#000000\" fill-rule=\"nonzero\" fill-opacity=\"1\" /><path clip-path=\"url(#clip500)\" d=\"M145.325 735.663 L175.001 735.663 L175.001 739.599 L145.325 739.599 L145.325 735.663 Z\" fill=\"#000000\" fill-rule=\"nonzero\" fill-opacity=\"1\" /><path clip-path=\"url(#clip500)\" d=\"M183.913 717.932 L206.135 717.932 L206.135 719.923 L193.588 752.492 L188.704 752.492 L200.51 721.867 L183.913 721.867 L183.913 717.932 Z\" fill=\"#000000\" fill-rule=\"nonzero\" fill-opacity=\"1\" /><path clip-path=\"url(#clip500)\" d=\"M144.26 522.868 L173.936 522.868 L173.936 526.803 L144.26 526.803 L144.26 522.868 Z\" fill=\"#000000\" fill-rule=\"nonzero\" fill-opacity=\"1\" /><path clip-path=\"url(#clip500)\" d=\"M194.607 520.553 Q191.459 520.553 189.607 522.706 Q187.778 524.859 187.778 528.609 Q187.778 532.335 189.607 534.511 Q191.459 536.664 194.607 536.664 Q197.755 536.664 199.584 534.511 Q201.436 532.335 201.436 528.609 Q201.436 524.859 199.584 522.706 Q197.755 520.553 194.607 520.553 M203.889 505.9 L203.889 510.16 Q202.13 509.326 200.325 508.886 Q198.542 508.447 196.783 508.447 Q192.153 508.447 189.7 511.572 Q187.269 514.697 186.922 521.016 Q188.288 519.002 190.348 517.937 Q192.408 516.849 194.885 516.849 Q200.093 516.849 203.102 520.021 Q206.135 523.169 206.135 528.609 Q206.135 533.933 202.987 537.15 Q199.838 540.368 194.607 540.368 Q188.612 540.368 185.44 535.784 Q182.269 531.178 182.269 522.451 Q182.269 514.257 186.158 509.396 Q190.047 504.511 196.598 504.511 Q198.357 504.511 200.139 504.859 Q201.945 505.206 203.889 505.9 Z\" fill=\"#000000\" fill-rule=\"nonzero\" fill-opacity=\"1\" /><path clip-path=\"url(#clip500)\" d=\"M145.417 310.072 L175.093 310.072 L175.093 314.008 L145.417 314.008 L145.417 310.072 Z\" fill=\"#000000\" fill-rule=\"nonzero\" fill-opacity=\"1\" /><path clip-path=\"url(#clip500)\" d=\"M185.232 292.341 L203.588 292.341 L203.588 296.276 L189.514 296.276 L189.514 304.748 Q190.533 304.401 191.551 304.239 Q192.57 304.054 193.588 304.054 Q199.375 304.054 202.755 307.225 Q206.135 310.396 206.135 315.813 Q206.135 321.392 202.662 324.494 Q199.19 327.572 192.871 327.572 Q190.695 327.572 188.426 327.202 Q186.181 326.832 183.774 326.091 L183.774 321.392 Q185.857 322.526 188.079 323.082 Q190.301 323.637 192.778 323.637 Q196.783 323.637 199.121 321.531 Q201.459 319.424 201.459 315.813 Q201.459 312.202 199.121 310.095 Q196.783 307.989 192.778 307.989 Q190.903 307.989 189.028 308.406 Q187.176 308.822 185.232 309.702 L185.232 292.341 Z\" fill=\"#000000\" fill-rule=\"nonzero\" fill-opacity=\"1\" /><path clip-path=\"url(#clip500)\" d=\"M143.936 97.2768 L173.612 97.2768 L173.612 101.212 L143.936 101.212 L143.936 97.2768 Z\" fill=\"#000000\" fill-rule=\"nonzero\" fill-opacity=\"1\" /><path clip-path=\"url(#clip500)\" d=\"M196.551 83.6195 L184.746 102.068 L196.551 102.068 L196.551 83.6195 M195.325 79.5454 L201.204 79.5454 L201.204 102.068 L206.135 102.068 L206.135 105.957 L201.204 105.957 L201.204 114.105 L196.551 114.105 L196.551 105.957 L180.95 105.957 L180.95 101.443 L195.325 79.5454 Z\" fill=\"#000000\" fill-rule=\"nonzero\" fill-opacity=\"1\" /><path clip-path=\"url(#clip500)\" d=\"M22.818 754.389 L58.657 767.438 L58.657 741.307 L22.818 754.389 M64.0042 776.159 L16.4842 758.017 L16.4842 750.728 L64.0042 732.618 L64.0042 776.159 Z\" fill=\"#000000\" fill-rule=\"nonzero\" fill-opacity=\"1\" /><path clip-path=\"url(#clip500)\" d=\"M22.086 707.442 L47.4533 723.674 L47.4533 707.442 L22.086 707.442 M16.4842 709.128 L16.4842 701.044 L47.4533 701.044 L47.4533 694.265 L52.8005 694.265 L52.8005 701.044 L64.0042 701.044 L64.0042 707.442 L52.8005 707.442 L52.8005 728.894 L46.5939 728.894 L16.4842 709.128 Z\" fill=\"#000000\" fill-rule=\"nonzero\" fill-opacity=\"1\" /><g clip-path=\"url(#clip502)\">\n",
       "<image width=\"1765\" height=\"1298\" xlink:href=\"data:image/png;base64,\n",
       "iVBORw0KGgoAAAANSUhEUgAABuUAAAUSCAYAAAAe0/xTAAAgAElEQVR4nOzb0ZHsOnIE0AKbvfJG\n",
       "Jsl9eSBp7xsC+pAB2oiNqowdnuNARgEgm2TOrP/8j38/NezsNR1Z51zzmYE59wms7Q6sbWDOnZgz\n",
       "cYYCc74mM3Af2s5Qi+cFM1Zl5nz2J5D5lrWdz/wJ3Pcic74lM7Cf71nb2d/rv14wY1VozsCz11+R\n",
       "tZXZlzkeWX+NfxWq+pOY8yWZf575Df2zZzP/nMSM85v55zzjmX+vn/HMP+vPeObf198Dmf8znvmn\n",
       "/ns+8/zXKzL/2oHMZ34/nz2fuROZZ/aeMP+WAgAAAAAAAC+jlAMAAAAAAIBmSjkAAAAAAABoppQD\n",
       "AAAAAACAZko5AAAAAAAAaKaUAwAAAAAAgGZKOQAAAAAAAGimlAMAAAAAAIBmSjkAAAAAAABoppQD\n",
       "AAAAAACAZko5AAAAAAAAaKaUAwAAAAAAgGZKOQAAAAAAAGimlAMAAAAAAIBmSjkAAAAAAABoppQD\n",
       "AAAAAACAZko5AAAAAAAAaKaUAwAAAAAAgGZKOQAAAAAAAGimlAMAAAAAAIBmSjkAAAAAAABodn++\n",
       "P+OhZ6/5zDPfPybmvF6ytjuytok55zOvvcczE3O+JnMlMs+vz7wCMz6BzBXITKztFbhO1voEMgNn\n",
       "aAcy6x3Xiv38ZZmB5+lpK/AcVNf8c+1K/N3r/Jj+vLfV/Ltu4gydwJiJpU1knivwXWg6L3HfC7wz\n",
       "nMAzyTnz7ynnfMczd2JtE5kr8I0vkRn4IUus7Qk82556XpG59mymR2kAAAAAAABoppQDAAAAAACA\n",
       "Zko5AAAAAAAAaKaUAwAAAAAAgGZKOQAAAAAAAGimlAMAAAAAAIBmSjkAAAAAAABoppQDAAAAAACA\n",
       "Zko5AAAAAAAAaKaUAwAAAAAAgGZKOQAAAAAAAGimlAMAAAAAAIBmSjkAAAAAAABoppQDAAAAAACA\n",
       "Zko5AAAAAAAAaKaUAwAAAAAAgGZKOQAAAAAAAGimlAMAAAAAAIBmSjkAAAAAAABoppQDAAAAAACA\n",
       "Zvf1/ZlP3Ws88pz5/vEk5oxkzq/tOu+Y8wpk7sicezxzP+9YW5m/I6+qaiWuzecznvmsM565XpJ5\n",
       "rfn9vN6ytjsw53jiizIDoWv+UWhcYi8r8M4QmTORGngu8SfFnQLv1+OJ75FY2xO6+/12ie9QkfNz\n",
       "5lNPfeczA3PuCnxvCzzYnvXMZ17zmbvekXlO4OVo+Ax5rAUAAAAAAIBmSjkAAAAAAABoppQDAAAA\n",
       "AACAZko5AAAAAAAAaKaUAwAAAAAAgGZKOQAAAAAAAGimlAMAAAAAAIBmSjkAAAAAAABoppQDAAAA\n",
       "AACAZko5AAAAAAAAaKaUAwAAAAAAgGZKOQAAAAAAAGimlAMAAAAAAIBmSjkAAAAAAABoppQDAAAA\n",
       "AACAZko5AAAAAAAAaKaUAwAAAAAAgGZKOQAAAAAAAGimlAMAAAAAAIBmSjkAAAAAAABodn++P+Oh\n",
       "Z69A5nz/eM5L5tx7PHO9ZM7EfmbWNjDnNb+f1zM/5w6sbSbzM5r3PGc0r6pqrfnMHchcw3tZVbVe\n",
       "sp9r/rEkNGcgczwxlfmS/Zx/RIjs57TIjC95xsz8rW1gzsB++jPmPucVd74K/HK+IzNxfjLrmni3\n",
       "Ho+sU/PvgDuwoYn36x34vX5N5npekXkSmVcg88xmesQEAAAAAACAZko5AAAAAAAAaKaUAwAAAAAA\n",
       "gGZKOQAAAAAAAGimlAMAAAAAAIBmSjkAAAAAAABoppQDAAAAAACAZko5AAAAAAAAaKaUAwAAAAAA\n",
       "gGZKOQAAAAAAAGimlAMAAAAAAIBmSjkAAAAAAABoppQDAAAAAACAZko5AAAAAAAAaKaUAwAAAAAA\n",
       "gGZKOQAAAAAAAGimlAMAAAAAAIBmSjkAAAAAAABoppQDAAAAAACAZko5AAAAAAAAaKaUAwAAAAAA\n",
       "gGb39f0ZDz17jWfWnu8fz5mf8yTmDOynOfusxNo+L5nzOuOZ6wlk7t+fudb8+dmBM/s8n/HMtQLn\n",
       "J7Cf6zVrG5izAnOOJ2b2sxKZez4yI7C2wxLXSUTg97quxIWS+Pvel9yDAkubuANl7nqBd/rxxIzp\n",
       "OSNnNvCNL/L5dCWuk8D7deAUnTP/bnTqO565Az+eez3jmafmMyNzXoE5z++f03/KAQAAAAAAQDOl\n",
       "HAAAAAAAADRTygEAAAAAAEAzpRwAAAAAAAA0U8oBAAAAAABAM6UcAAAAAAAANFPKAQAAAAAAQDOl\n",
       "HAAAAAAAADRTygEAAAAAAEAzpRwAAAAAAAA0U8oBAAAAAABAM6UcAAAAAAAANFPKAQAAAAAAQDOl\n",
       "HAAAAAAAADRTygEAAAAAAEAzpRwAAAAAAAA0U8oBAAAAAABAM6UcAAAAAAAANFPKAQAAAAAAQDOl\n",
       "HAAAAAAAADS7r+/PeOjZazyz9nz/mJjznJfMmdjPJ7G2ezxzJdb2ms9ckf0MzPmStZ0+t2t9RvOq\n",
       "qtY+85lrPnPvwNo+ibUdj3zPnPWOOStwfUbGjGT+/rVNrGsF1vU1As+Ydc2/p2Qk3hnGI+u85AYf\n",
       "+FxSJzBo4m57hkMTZ/Y95+cd3/gCr9eRa3NPX5xVtWv+hyySuRKZz3jmqfnMff3+Of2nHAAAAAAA\n",
       "ADRTygEAAAAAAEAzpRwAAAAAAAA0U8oBAAAAAABAM6UcAAAAAAAANFPKAQAAAAAAQDOlHAAAAAAA\n",
       "ADRTygEAAAAAAEAzpRwAAAAAAAA0U8oBAAAAAABAM6UcAAAAAAAANFPKAQAAAAAAQDOlHAAAAAAA\n",
       "ADRTygEAAAAAAEAzpRwAAAAAAAA0U8oBAAAAAABAM6UcAAAAAAAANFPKAQAAAAAAQDOlHAAAAAAA\n",
       "ADRTygEAAAAAAECz+/r+jIeeHegC9x6PPHsFMufXNjFnJea8Ems7n7kT18ozP+cK7OdOzBk4Q2t9\n",
       "5jP3Gc271mxeVeb8PIm9fObXNnJmE3NWYM7AtfKWOSsx53hiVUXWFvh/Rd7HAu8p44lVx99Otznz\n",
       "Ryjy43lW4FvU8LHNXJsvyTzz5yfyWTFxnQTu7/vMvzPs+o5nPoEb/F7PfGbN9zh7JTIDazs8p6c9\n",
       "AAAAAAAAaKaUAwAAAAAAgGZKOQAAAAAAAGimlAMAAAAAAIBmSjkAAAAAAABoppQDAAAAAACAZko5\n",
       "AAAAAAAAaKaUAwAAAAAAgGZKOQAAAAAAAGimlAMAAAAAAIBmSjkAAAAAAABoppQDAAAAAACAZko5\n",
       "AAAAAAAAaKaUAwAAAAAAgGZKOQAAAAAAAGimlAMAAAAAAIBmSjkAAAAAAABoppQDAAAAAACAZko5\n",
       "AAAAAAAAaKaUAwAAAAAAgGb3+v6Mh6493wWevcYzVyDzRNY20O3uPR75lrVdT2DO64xn7mc+cwXm\n",
       "PC+Zc/rc7vUZzauqWmt+XWsH9jKxtoHrpOodZ2g9gTnHE0PXZ8BKLG4Fzu14Ympt4V9M4r0zcX9f\n",
       "gXfdK/AOOJ5YdQJ3+MycgffO4bVNrOv8lRl5Hat9zV8nibU9gf9TCXzKrB1479xn/uA+6zueuc/8\n",
       "hu71zGfWfOaz5vuqzzWb6T/lAAAAAAAAoJlSDgAAAAAAAJop5QAAAAAAAKCZUg4AAAAAAACaKeUA\n",
       "AAAAAACgmVIOAAAAAAAAminlAAAAAAAAoJlSDgAAAAAAAJop5QAAAAAAAKCZUg4AAAAAAACaKeUA\n",
       "AAAAAACgmVIOAAAAAAAAminlAAAAAAAAoJlSDgAAAAAAAJop5QAAAAAAAKCZUg4AAAAAAACaKeUA\n",
       "AAAAAACgmVIOAAAAAAAAminlAAAAAAAAoJlSDgAAAAAAAJop5QAAAAAAAKDZfX2f8dCz93jm2ms8\n",
       "8+z5znMF1jYx5wnsZyX28wms7ZXYz8DfByTmfMl+1vMZj1zr/Oq8qqq95te19vycibVdgbVdgZ+x\n",
       "55lf24jA2tZL1jaxtFWBe8J4IvyzAu+644lvyky8jwUmDdxsT+A580TmnA/dw2u7AzNG9jLwOp+4\n",
       "7+3A4kY+KyauzcAhemr+/fp7At9oav4b/FPzPc6zfl6RuWs203/KAQAAAAAAQDOlHAAAAAAAADRT\n",
       "ygEAAAAAAEAzpRwAAAAAAAA0U8oBAAAAAABAM6UcAAAAAAAANFPKAQAAAAAAQDOlHAAAAAAAADRT\n",
       "ygEAAAAAAEAzpRwAAAAAAAA0U8oBAAAAAABAM6UcAAAAAAAANFPKAQAAAAAAQDOlHAAAAAAAADRT\n",
       "ygEAAAAAAEAzpRwAAAAAAAA0U8oBAAAAAABAM6UcAAAAAAAANFPKAQAAAAAAQDOlHAAAAAAAADS7\n",
       "1/dnPnWvQOZ8/7j2Hs88r1nb+cyzz3zmNX+GIvv5BP4+4Aqcoeszn/nMn9u15jP3mt3PFdjLdQX2\n",
       "8gnMGTg/K/DTmZizVmI/xyNrJe57FVjb8cRMZiYU/rUEflEimW/xlv08gb8R3xX4RhOZc94Z/sF+\n",
       "y3WS2MvAp6/EZ6jMfp75B9sd+Pa1A4don/n3sV33eOZT3/HMXX8LZD7zmWu2I/OfcgAAAAAAANBM\n",
       "KQcAAAAAAADNlHIAAAAAAADQTCkHAAAAAAAAzZRyAAAAAAAA0EwpBwAAAAAAAM2UcgAAAAAAANBM\n",
       "KQcAAAAAAADNlHIAAAAAAADQTCkHAAAAAAAAzZRyAAAAAAAA0EwpBwAAAAAAAM2UcgAAAAAAANBM\n",
       "KQcAAAAAAADNlHIAAAAAAADQTCkHAAAAAAAAzZRyAAAAAAAA0EwpBwAAAAAAAM2UcgAAAAAAANBM\n",
       "KQcAAAAAAADN7vV95lP3CmTuQGZizvmedQXW9iTmfOYzzxXIfM585jWfeSXmXIm1fce5reszGpe4\n",
       "TmrNzlhVtQJndr1lzpqfM2FV4Fp5ydrSKXFuf7/Eqp7IVs6/A2ZObOBdNzDoSYy5AqGJ95RI5njk\n",
       "i+aczYt8bgtcmy/5rFiBL7a1AxdKZG0Di/us+UGfwEPCc+bfO791j2c+9bf5zDXfVz3112ie/5QD\n",
       "AAAAAACAZko5AAAAAAAAaKaUAwAAAAAAgGZKOQAAAAAAAGimlAMAAAAAAIBmSjkAAAAAAABoppQD\n",
       "AAAAAACAZko5AAAAAAAAaKaUAwAAAAAAgGZKOQAAAAAAAGimlAMAAAAAAIBmSjkAAAAAAABoppQD\n",
       "AAAAAACAZko5AAAAAAAAaKaUAwAAAAAAgGZKOQAAAAAAAGimlAMAAAAAAIBmSjkAAAAAAABoppQD\n",
       "AAAAAACAZko5AAAAAAAAaKaUAwAAAAAAgGb3+u751L1ktmWeQGZgzicw55W4VgK9+TWfuZ75zBOY\n",
       "M5L5fOYzV+D6HM48a35dV2Bdd2DO6b38P4E5EwJruyJnaD4ykskv8/sPUeLu/haRtT3zZ/YEXo1O\n",
       "4No8Nf/emThDgbfrOoG/S9+B1X3Dfu7AtZnYy8icL/msmPjctgO/nU/kc3ji3Cbu7/Pvus+5xzO/\n",
       "gV/sp37mM9e/jeb5TzkAAAAAAABoppQDAAAAAACAZko5AAAAAAAAaKaUAwAAAAAAgGZKOQAAAAAA\n",
       "AGimlAMAAAAAAIBmSjkAAAAAAABoppQDAAAAAACAZko5AAAAAAAAaKaUAwAAAAAAgGZKOQAAAAAA\n",
       "AGimlAMAAAAAAIBmSjkAAAAAAABoppQDAAAAAACAZko5AAAAAAAAaKaUAwAAAAAAgGZKOQAAAAAA\n",
       "AGimlAMAAAAAAIBmSjkAAAAAAABoppQDAAAAAACAZnd950PXPvOhgcyz13jm2uORVYE560qcocCc\n",
       "z/ycK7C2J7GfgbWt9ZbMz3jkNTznCazrCaxrBW57iTMbGTMQuhL3A+AfMn51Rm4HkbvtfOSZz4xs\n",
       "ZyA0MecJnKHMnPN24lqJPMPPf6Q5a/7v7/fww+0O7OX0jP+XOR5ZO/DvG5FPmYnPioG1feYjI/f3\n",
       "J3B9PoH/dfqe+e9CT93jmd9AYfXUz2ie/5QDAAAAAACAZko5AAAAAAAAaKaUAwAAAAAAgGZKOQAA\n",
       "AAAAAGimlAMAAAAAAIBmSjkAAAAAAABoppQDAAAAAACAZko5AAAAAAAAaKaUAwAAAAAAgGZKOQAA\n",
       "AAAAAGimlAMAAAAAAIBmSjkAAAAAAABoppQDAAAAAACAZko5AAAAAAAAaKaUAwAAAAAAgGZKOQAA\n",
       "AAAAAGimlAMAAAAAAIBmSjkAAAAAAABoppQDAAAAAACAZko5AAAAAAAAaHave42HnnPGM2vPR679\n",
       "jjnPM5+5rkDoM3+t1BU4Q0/gEF2Bvw8IZK5A5rk+gcz5czs9Z2LGnbgFrcA9aAXO7HhiVSXWtubX\n",
       "NiJwrQD/v8RdL/HaGZkzkXkC3xECN/hIZuLcrvk59zX/3pm5PuffAXdg0unMwFeL92QG7u+Jd90d\n",
       "+AyV+Ez8RO7v45H1nPnQJ3CvfQK/Kd8z/x3hqe945l2zXYP/lAMAAAAAAIBmSjkAAAAAAABoppQD\n",
       "AAAAAACAZko5AAAAAAAAaKaUAwAAAAAAgGZKOQAAAAAAAGimlAMAAAAAAIBmSjkAAAAAAABoppQD\n",
       "AAAAAACAZko5AAAAAAAAaKaUAwAAAAAAgGZKOQAAAAAAAGimlAMAAAAAAIBmSjkAAAAAAABoppQD\n",
       "AAAAAACAZko5AAAAAAAAaKaUAwAAAAAAgGZKOQAAAAAAAGimlAMAAAAAAIBmSjkAAAAAAABodtd3\n",
       "vpdb+4xnViDz7PHIyJzrSuznfOQJVNhrP/OhV2DQJ3CGlsy+zE8gc3jOwIxXBX7HIns5H3kCaxu5\n",
       "ThIC+5nwkjH5RQJ3vReZvyOc85LMyNqOR0beOxNrm/hckji3O/A+dgcy95rd0b3mL5QdeOCLZAbu\n",
       "QTtxD0p8ykx8bpuPrB241z6Bb9NPYEOfwIPJU/PfLu5A5rfu0Tz/KQcAAAAAAADNlHIAAAAAAADQ\n",
       "TCkHAAAAAAAAzZRyAAAAAAAA0EwpBwAAAAAAAM2UcgAAAAAAANBMKQcAAAAAAADNlHIAAAAAAADQ\n",
       "TCkHAAAAAAAAzZRyAAAAAAAA0EwpBwAAAAAAAM2UcgAAAAAAANBMKQcAAAAAAADNlHIAAAAAAADQ\n",
       "TCkHAAAAAAAAzZRyAAAAAAAA0EwpBwAAAAAAAM2UcgAAAAAAANBMKQcAAAAAAADNlHIAAAAAAADQ\n",
       "TCkHAAAAAAAAze763vOpewcyz3jkCmQm1vYEtrOewH5egf185iPPmt/Qda3xzErs51syA9u51uyc\n",
       "Zzivqmqvz3hmYi+vxNrW/Nombnv8LoG7+3u8YHFP4gZ/5jNPJHP+Af4kzmwgMzJm4pU+cH3uwLVy\n",
       "J25DgQewxOeSxLWyh//mfwcuzr0C5ydwnbwmM/BvKoFPmZF77RNY2zvwO/Yk1nbNL+4T+FW5z/w3\n",
       "mqdmOzL/KQcAAAAAAADNlHIAAAAAAADQTCkHAAAAAAAAzZRyAAAAAAAA0EwpBwAAAAAAAM2UcgAA\n",
       "AAAAANBMKQcAAAAAAADNlHIAAAAAAADQTCkHAAAAAAAAzZRyAAAAAAAA0EwpBwAAAAAAAM2UcgAA\n",
       "AAAAANBMKQcAAAAAAADNlHIAAAAAAADQTCkHAAAAAAAAzZRyAAAAAAAA0EwpBwAAAAAAAM2UcgAA\n",
       "AAAAANBMKQcAAAAAAADNlHIAAAAAAADQ7K7vPZ+690syz3zms8YjV2LOa34/zzMeWXXNr+0KZNYT\n",
       "yFzz10oFImsl1jaR+RnOm5/xCpyfwE7WTqzteGLVSdwP4J+VuCkkROacvSmcxIPt8E91VWYrT+CB\n",
       "7y2ZOzFn4Ac7sp8vmXOf+e8Id+C9M/E8fQ9n7sB3ix34VQl8yYx8ytyBd6MncG3egRfPl3yarh3Y\n",
       "z8SciXP7BJ4R7sCLw1OzHZn/lAMAAAAAAIBmSjkAAAAAAABoppQDAAAAAACAZko5AAAAAAAAaKaU\n",
       "AwAAAAAAgGZKOQAAAAAAAGimlAMAAAAAAIBmSjkAAAAAAABoppQDAAAAAACAZko5AAAAAAAAaKaU\n",
       "AwAAAAAAgGZKOQAAAAAAAGimlAMAAAAAAIBmSjkAAAAAAABoppQDAAAAAACAZko5AAAAAAAAaKaU\n",
       "AwAAAAAAgGZKOQAAAAAAAGimlAMAAAAAAIBmSjkAAAAAAABodtd9z6fuE8jc78i8XjLns8YjV2Jt\n",
       "n/nIswLX5/x21grMedb8GVorsbjzkeOZL7lOqubnvNZnPDOwmxX4RfGXWPAPOmf+hnuGH/o+iRtf\n",
       "QGQvz/wD/AnsZ2Zt35G5E5nXO+a8A3OewFNf5AwNvx99Au9jdyBzB94Bn8B1Mv8GWHUnPk1H9nM+\n",
       "M7G2iTkTz9N34Bvfs+YX9w58pXnO7J3I9xkAAAAAAABoppQDAAAAAACAZko5AAAAAAAAaKaUAwAA\n",
       "AAAAgGZKOQAAAAAAAGimlAMAAAAAAIBmSjkAAAAAAABoppQDAAAAAACAZko5AAAAAAAAaKaUAwAA\n",
       "AAAAgGZKOQAAAAAAAGimlAMAAAAAAIBmSjkAAAAAAABoppQDAAAAAACAZko5AAAAAAAAaKaUAwAA\n",
       "AAAAgGZKOQAAAAAAAGimlAMAAAAAAIBmSjkAAAAAAABoppQDAAAAAACAZko5AAAAAAAAaHaf+zse\n",
       "us4ez6z9kswnMeczn7nWfOYOZK75/VzrjGeeaz6zApkrkHkSxzZwbs/wuV0VOLOBvazXzDkv8VdR\n",
       "gScEf/312wRuCSfxQ3YCz7bTAuua2MvPZ34vE3NmMhNrOx5Z+y37GXgAS8yZ2M8d+Hbxueaf+u7h\n",
       "vMxezt+EPoHHoDswZ+Jz2w68qDyBc3sH1vYJrO0deEZ4rvnFfQJzfgK/Y/eZP0TP8NcL30oAAAAA\n",
       "AACgmVIOAAAAAAAAminlAAAAAAAAoJlSDgAAAAAAAJop5QAAAAAAAKCZUg4AAAAAAACaKeUAAAAA\n",
       "AACgmVIOAAAAAAAAminlAAAAAAAAoJlSDgAAAAAAAJop5QAAAAAAAKCZUg4AAAAAAACaKeUAAAAA\n",
       "AACgmVIOAAAAAAAAminlAAAAAAAAoJlSDgAAAAAAAJop5QAAAAAAAKCZUg4AAAAAAACaKeUAAAAA\n",
       "AACgmVIOAAAAAAAAmt31/Y6Hnr3HMyuQufYznllXYG2fQLd7Bdb2CaxtYs7AGVqJtV3zkWed8cwV\n",
       "yKxIZmBDp71gxKp6z5wBib/ECtzd6wrcgiqSGfkhm488gWehgDN880us6ydxnQR+VBJrG7kFRe4H\n",
       "85n7zP+SZeYMZF7zmXdizsB9KDLn8DvgJ/Dd4h5PrNpn/gl+ei+rqp7AY+0n8A3hDryoPIH7wR3Y\n",
       "z8wZms/MrO18aCLzZ/iLif+UAwAAAAAAgGZKOQAAAAAAAGimlAMAAAAAAIBmSjkAAAAAAABoppQD\n",
       "AAAAAACAZko5AAAAAAAAaKaUAwAAAAAAgGZKOQAAAAAAAGimlAMAAAAAAIBmSjkAAAAAAABoppQD\n",
       "AAAAAACAZko5AAAAAAAAaKaUAwAAAAAAgGZKOQAAAAAAAGimlAMAAAAAAIBmSjkAAAAAAABoppQD\n",
       "AAAAAACAZko5AAAAAAAAaKaUAwAAAAAAgGZKOQAAAAAAAGh21/2dT907kPmMR54d6DwDc66V2M81\n",
       "n2nOxsz5c5uYM3GtnHXGMxPW8JynEudnPDLkHWf2Ld5ybFdg0lWBZ77xxNRfEM5Pes7sfp7Arfac\n",
       "37+uVVWfT2LOQOYn8FwbmHMHzlBmzpdkXvOZtzlb7MB7biLzcwUyAw8Jd+Bl90nsZ2DOO/AA/wQy\n",
       "P4GXhjvwPP0E7u+fwJyRa2X4d8x/ygEAAAAAAEAzpRwAAAAAAAA0U8oBAAAAAABAM6UcAAAAAAAA\n",
       "NFPKAQAAAAAAQDOlHAAAAAAAADRTygEAAAAAAEAzpRwAAAAAAAA0U8oBAAAAAABAM6UcAAAAAAAA\n",
       "NFPKAQAAAAAAQDOlHAAAAAAAADRTygEAAAAAAEAzpRwAAAAAAAA0U8oBAAAAAABAM6UcAAAAAAAA\n",
       "NFPKAQAAAAAAQDOlHAAAAAAAADRTygEAAAAAAEAzpRwAAAAAAAA0u8/9nU/dezxy7UD/GJizAnOe\n",
       "6xnPXE9gP9f8nLXXfGZizmXOvsj5+9CpM55ZazZzBWY8gb0MXJnvEbhMEplXIHOf+ZN7ncBvykvO\n",
       "UAX2swL7eYbX9rxmXefnPIE5r2t+zk9iPwNzJn5Tzpl/5kvM+ZrMyPX5++dMzPgZfueMZQYe4D/T\n",
       "D0JVdQcehZ7AN6HMfs7PmdnP+czPazIT9/jZrsF/ygEAAAAAAEAzpRwAAAAAAAA0U8oBAAAAAABA\n",
       "M6UcAAAAAAAANFPKAQAAAAAAQDOlHAAAAAAAADRTygEAAAAAAEAzpRwAAAAAAAA0U8oBAAAAAABA\n",
       "M6UcAAAAAAAANFPKAQAAAAAAQDOlHAAAAAAAADRTygEAAAAAAEAzpRwAAAAAAAA0U8oBAAAAAABA\n",
       "M6UcAAAAAAAANFPKAQAAAAAAQDOlHAAAAAAAADRTygEAAAAAAEAzpRwAAAAAAAA0U8oBAAAAAABA\n",
       "s/vc3/HQtZ/xzLMD/WNgzhWZcz7zrPm1rbXmI/d8ZmLOiuznfGRkbQNW7fHMM760ZzqwViDzBPby\n",
       "HVdJVegm9IrMq+Z/U+avlKo1f0uoa/5mW3UC7w2BOafX9gTWNfBjXZ+XnJ+3zHl95uf8BOZMXJ87\n",
       "MGcmc/7bxT7zP9ifwEPCHs78XPNPX4n7QWIv35P5lv1MzDkemckMfIL/BN4B78AZ+omcodlQ/ykH\n",
       "AAAAAAAAzZRyAAAAAAAA0EwpBwAAAAAAAM2UcgAAAAAAANBMKQcAAAAAAADNlHIAAAAAAADQTCkH\n",
       "AAAAAAAAzZRyAAAAAAAA0EwpBwAAAAAAAM2UcgAAAAAAANBMKQcAAAAAAADNlHIAAAAAAADQTCkH\n",
       "AAAAAAAAzZRyAAAAAAAA0EwpBwAAAAAAAM2UcgAAAAAAANBMKQcAAAAAAADNlHIAAAAAAADQTCkH\n",
       "AAAAAAAAzZRyAAAAAAAA0Oyu+zseevZnPJU/zI0AACAASURBVLP2Mx659nzneQJz1rPGI9eaz6xA\n",
       "5tnW9ldlVuD6TEhsZ+3RvDOalktdgcxzZveyKnJkMxIH9yWZ68yfoiuQuU/geTqytoHf6+Fzm3jG\n",
       "rGt+Xc81P+fnmv8dS8x5Beb8BO4HJzDnDsz52YE5A+9jewXmTNyHIs8Is5mfwPn5rPmHzNdkXoHM\n",
       "M595Bx6/nsC1cgf280n8dgb2M5IZ+JeuO/BO/zN8rfhPOQAAAAAAAGimlAMAAAAAAIBmSjkAAAAA\n",
       "AABoppQDAAAAAACAZko5AAAAAAAAaKaUAwAAAAAAgGZKOQAAAAAAAGimlAMAAAAAAIBmSjkAAAAA\n",
       "AABoppQDAAAAAACAZko5AAAAAAAAaKaUAwAAAAAAgGZKOQAAAAAAAGimlAMAAAAAAIBmSjkAAAAA\n",
       "AABoppQDAAAAAACAZko5AAAAAAAAaKaUAwAAAAAAgGZKOQAAAAAAAGimlAMAAAAAAIBm97m/86l7\n",
       "j0euPd8/nkBmYs5aL1nbwJz1BNa21nhmrfnMlZgzsrbzkW+wav537IwnZlJXIPME9jOxoeu85L4X\n",
       "yFznGc98yxm6Ims7P+cZzrwC72PTM1ZVXScx5/yZvQJr+4msbeAMXfNzfgJz7rfMGTi3O3F9Bt6v\n",
       "9zX77SJxD/pciXtt4vzMP2S+J/Mt+5mYczxSZmvm779W/KccAAAAAAAANFPKAQAAAAAAQDOlHAAA\n",
       "AAAAADRTygEAAAAAAEAzpRwAAP/Lvh3lWI4jSQAkpay+/4E7xf2YCyww8HBM0ewCjiApPUmeCQAA\n",
       "AECYUg4AAAAAAADClHIAAAAAAAAQppQDAAAAAACAMKUcAAAAAAAAhCnlAAAAAAAAIEwpBwAAAAAA\n",
       "AGFKOQAAAAAAAAhTygEAAAAAAECYUg4AAAAAAADClHIAAAAAAAAQppQDAAAAAACAMKUcAAAAAAAA\n",
       "hCnlAAAAAAAAIEwpBwAAAAAAAGFKOQAAAAAAAAj7OT9/xkP3941nnq/QPzYyfwuZez5zF+Y8e49n\n",
       "7kLmamT+zmee1djP8chVGLMTWplz1l6F384zHlkJ3Y1Bzy37eUfmPoWbUCFzn9/xzPXdMeczvZ/f\n",
       "/IyncGZPYS934cw+T+E35SlcJ88dazt+P1hrvYU5vzP/Tv8Unr8q+1lY2294bd/Cy/W75x8yZf5d\n",
       "mU9lzvHI9VSuz/HIazILj1+VzOnfFf8pBwAAAAAAAGFKOQAAAAAAAAhTygEAAAAAAECYUg4AAAAA\n",
       "AADClHIAAAAAAAAQppQDAAAAAACAMKUcAAAAAAAAhCnlAAAAAAAAIEwpBwAAAAAAAGFKOQAAAAAA\n",
       "AAhTygEAAAAAAECYUg4AAAAAAADClHIAAAAAAAAQppQDAAAAAACAMKUcAAAAAAAAhCnlAAAAAAAA\n",
       "IEwpBwAAAAAAAGFKOQAAAAAAAAhTygEAAAAAAECYUg4AAAAAAADClHIAAAAAAAAQ9nPef+ZT928h\n",
       "c75/3IXM05jz2+OZZ89n7t875lyNtS2M2Qg944lrNZa2Y3h1G5tZsNc3nnkuWdxdmbOQeebP0DqF\n",
       "O98pPNsWlvYprO33za/tLsy5h+fc7/yMT+F+cBrvKW9hzkvW9nnm56xkFu5BjTnfwrn9Cuf2K3yj\n",
       "+fb82v4Ov1+/z/y6vmf+Wfot7OVb+Fby7sba3pJ5y36OR5bWdjxSZoj/lAMAAAAAAIAwpRwAAAAA\n",
       "AACEKeUAAAAAAAAgTCkHAAAAAAAAYUo5AAAAAAAACFPKAQAAAAAAQJhSDgAAAAAAAMKUcgAAAAAA\n",
       "ABCmlAMAAAAAAIAwpRwAAAAAAACEKeUAAAAAAAAgTCkHAAAAAAAAYUo5AAAAAAAACFPKAQAAAAAA\n",
       "QJhSDgAAAAAAAMKUcgAAAAAAABCmlAMAAAAAAIAwpRwAAAAAAACEKeUAAAAAAAAgTCkHAAAAAAAA\n",
       "YT/r58946PkKXeAtmb+FzL3nIwt98mnM+TufudZ85hlPXGsX5mzorG1BY9AbFNZ1FzLP+Qqh85Hr\n",
       "zIfur7G2hbtQI/NrzDm/n7sw5y7M+QzP2bjv7e93PPN5C8+1hfveeebX9hTW9imc27eQeQq/Kd/T\n",
       "uO8VMp87zu1z5r+XvMPPmb+N+0Hhm9BbOLPTe7nWWm/hJfApZDbm7GQW7rWFV6PCo5DMaOZsqP+U\n",
       "AwAAAAAAgDClHAAAAAAAAIQp5QAAAAAAACBMKQcAAAAAAABhSjkAAAAAAAAIU8oBAAAAAABAmFIO\n",
       "AAAAAAAAwpRyAAAAAAAAEKaUAwAAAAAAgDClHAAAAAAAAIQp5QAAAAAAACBMKQcAAAAAAABhSjkA\n",
       "AAAAAAAIU8oBAAAAAABAmFIOAAAAAAAAwpRyAAAAAAAAEKaUAwAAAAAAgDClHAAAAAAAAIQp5QAA\n",
       "AAAAACBMKQcAAAAAAABhP+f9Zz51/zsfuef7x1PI3HuPZ57f+cxVmHM15lyNtb0icp1CamPOhlPI\n",
       "LNz5xhMrC3sac85n7lM4QZU55zMbR2idbzyycYbW1zi3v+OZuzDnLsw5vZ/PN3+drLdwZgtz7nc+\n",
       "8ylcJ99TmLOQ2Zlz/jvCe8navmd+bb/Cfejb85m/w99o3sL3tt89/2D7yIwpPJZUMp/GnIWPF7es\n",
       "7VP4Hn7LtTKd6T/lAAAAAAAAIEwpBwAAAAAAAGFKOQAAAAAAAAhTygEAAAAAAECYUg4AAAAAAADC\n",
       "lHIAAAAAAAAQppQDAAAAAACAMKUcAAAAAAAAhCnlAAAAAAAAIEwpBwAAAAAAAGFKOQAAAAAAAAhT\n",
       "ygEAAAAAAECYUg4AAAAAAADClHIAAAAAAAAQppQDAAAAAACAMKUcAAAAAAAAhCnlAAAAAAAAIEwp\n",
       "BwAAAAAAAGFKOQAAAAAAAAhTygEAAAAAAECYUg4AAAAAAADCfs77Zz51F7rA/W8hszHnLkTOz3l+\n",
       "C3Ou+cwzH7n273zmmY9sXCrrFCbdjdU985nTa7sbh7aS2Tg/85GNzH2+8cxT2M/dOENf4R5U2M/1\n",
       "FZ6FGg8m3/za7sLarnd2zn3Juu7hdV1rraewtuedX9vKnE9hPwuZnTkLZ6gxZ+HcPs/895LGnO/w\n",
       "d6Hf/ffP+J/M+edamTnPNXMWflMaj++XZDbWtpL5l+cBAAAAAADAdZRyAAAAAAAAEKaUAwAAAAAA\n",
       "gDClHAAAAAAAAIQp5QAAAAAAACBMKQcAAAAAAABhSjkAAAAAAAAIU8oBAAAAAABAmFIOAAAAAAAA\n",
       "wpRyAAAAAAAAEKaUAwAAAAAAgDClHAAAAAAAAIQp5QAAAAAAACBMKQcAAAAAAABhSjkAAAAAAAAI\n",
       "U8oBAAAAAABAmFIOAAAAAAAAwpRyAAAAAAAAEKaUAwAAAAAAgDClHAAAAAAAAIT9nPfPeOje813g\n",
       "KWTu/e945tl7PHM1Mtcdmbuwtqcx53jiWqeQuQuhlTkLmeMaC3saB0imzP/SNx+53vk59ykM+hXu\n",
       "to3Md35td2VtZ+fcl6zrM7yua611Cmv7fIX362d+zq+Q+TTm3IXrs/C95Cm8HDX2s3Efep7Cfg4/\n",
       "C72F+95v4/ycwm9n4TtUJ3P+HvQ27nuXzPkWHt8753Y8spLZ2c/hvNk4AAAAAAAAuI9SDgAAAAAA\n",
       "AMKUcgAAAAAAABCmlAMAAAAAAIAwpRwAAAAAAACEKeUAAAAAAAAgTCkHAAAAAAAAYUo5AAAAAAAA\n",
       "CFPKAQAAAAAAQJhSDgAAAAAAAMKUcgAAAAAAABCmlAMAAAAAAIAwpRwAAAAAAACEKeUAAAAAAAAg\n",
       "TCkHAAAAAAAAYUo5AAAAAAAACFPKAQAAAAAAQJhSDgAAAAAAAMKUcgAAAAAAABCmlAMAAAAAAICw\n",
       "n/X+Mx569r/jmWsX+se9ZaYi13zmGU9cqzBmI3KdwupW5iwcos6chf18ZzMrMzYOkMy/KrNxhs53\n",
       "y5zjkWu9hdCv8Kvyzc+5379/zt1Y16fwzlC4Tp7C2p6ncZ3Mv1/fsraPzFzmVzi3z/xzSeNaeYa/\n",
       "uVXOzymcnz1/ft5CZmPOazIL39s6azv/nPkW1rbxmvIWviwWXhvG19Z/ygEAAAAAAECYUg4AAAAA\n",
       "AADClHIAAAAAAAAQppQDAAAAAACAMKUcAAAAAAAAhCnlAAAAAAAAIEwpBwAAAAAAAGFKOQAAAAAA\n",
       "AAhTygEAAAAAAECYUg4AAAAAAADClHIAAAAAAAAQppQDAAAAAACAMKUcAAAAAAAAhCnlAAAAAAAA\n",
       "IEwpBwAAAAAAAGFKOQAAAAAAAAhTygEAAAAAAECYUg4AAAAAAADClHIAAAAAAAAQppQDAAAAAACA\n",
       "sJ/z/plP3fNd4N7/jmeevcczdyHzrPnMVchsTHkaoQV7nfHMMx+59jufuQprW1ncaYUZTyFzN/by\n",
       "fIXMwsXZWNuvkPk29rNwrTTW9pb9/BqZhefpZ3bOXdjLXVjXXTg/e3gv78osfEd45u+1T2FtZQYz\n",
       "C/ehp3CtPMPPJc8uXJuFzLeQ+XvJnI3Mzhkaj1xPIbOzn/ODNtZWZihvNg4AAAAAAADuo5QDAAAA\n",
       "AACAMKUcAAAAAAAAhCnlAAAAAAAAIEwpBwAAAAAAAGFKOQAAAAAAAAhTygEAAAAAAECYUg4AAAAA\n",
       "AADClHIAAAAAAAAQppQDAAAAAACAMKUcAAAAAAAAhCnlAAAAAAAAIEwpBwAAAAAAAGFKOQAAAAAA\n",
       "AAhTygEAAAAAAECYUg4AAAAAAADClHIAAAAAAAAQppQDAAAAAACAMKUcAAAAAAAAhCnlAAAAAAAA\n",
       "IEwpBwAAAAAAAGE/6/mnEPvveOJZezxzFzKvmXM+sqIx5jl3hO53PHKdVVnc8cRd2M8znLnfbzRv\n",
       "rVW5TqbXda219rljbddX+Luo95L7wVfYz8JvymrMWcjcz/w94byF5+lveM7pvLXWfubve43zU8ks\n",
       "PJc8hTN0GveDPZ/5Va6Vwv1935H5FM5t4/p8hq+VZ89fJ9Mz/iezMWfhOil8t+jMOa8yZ2Vt55/f\n",
       "75lzPPKKTP8pBwAAAAAAAGFKOQAAAAAAAAhTygEAAAAAAECYUg4AAAAAAADClHIAAAAAAAAQppQD\n",
       "AAAAAACAMKUcAAAAAAAAhCnlAAAAAAAAIEwpBwAAAAAAAGFKOQAAAAAAAAhTygEAAAAAAECYUg4A\n",
       "AAAAAADClHIAAAAAAAAQppQDAAAAAACAMKUcAAAAAAAAhCnlAAAAAAAAIEwpBwAAAAAAAGFKOQAA\n",
       "AAAAAAhTygEAAAAAAECYUg4AAAAAAADCfs7zZzx07z2euQqZp5DZWNvT2M75yHUKmQ2dtb1jdXdj\n",
       "zjOfed75zD085znfaN5aa+2ncH6e+TnX8xYyC2v7Fta2cD9YX+FaeQvPQl/hvlc5t4XflMYZ+gp/\n",
       "tzh8vz2F+/uuZM7vZePa7GTecobmM59G5r5kzsYZKvymPHv+nvAM34eewrNXZV1lyvxfzCx8++qs\n",
       "7fx7Z2fO8cj1FL5OT8/pP+UAAAAAAAAgTCkHAAAAAAAAYUo5AAAAAAAACFPKAQAAAAAAQJhSDgAA\n",
       "AAAAAMKUcgAAAAAAABCmlAMAAAAAAIAwpRwAAAAAAACEKeUAAAAAAAAgTCkHAAAAAAAAYUo5AAAA\n",
       "AAAACFPKAQAAAAAAQJhSDgAAAAAAAMKUcgAAAAAAABCmlAMAAAAAAIAwpRwAAAAAAACEKeUAAAAA\n",
       "AAAgTCkHAAAAAAAAYUo5AAAAAAAACFPKAQAAAAAAQNjPev6Mh56zxzP3ms9chcxTyGys7DnzmbfM\n",
       "2QjdjUELmacx53vHfp73G8275cyuM7uua3Wuk12Yc33vfObTuAcV/v7rK8xZWdv5yGvW9incE57Z\n",
       "a2UXZjyFzMac92TO39934X4gM+dpzLkLcxYyO3MOv48N56211rPn73uN8yPzb8scj7wncz7SnMnM\n",
       "vzwPAAAAAAAArqOUAwAAAAAAgDClHAAAAAAAAIQp5QAAAAAAACBMKQcAAAAAAABhSjkAAAAAAAAI\n",
       "U8oBAAAAAABAmFIOAAAAAAAAwpRyAAAAAAAAEKaUAwAAAAAAgDClHAAAAAAAAIQp5QAAAAAAACBM\n",
       "KQcAAAAAAABhSjkAAAAAAAAIU8oBAAAAAABAmFIOAAAAAAAAwpRyAAAAAAAAEKaUAwAAAAAAgDCl\n",
       "HAAAAAAAAIQp5QAAAAAAACBMKQcAAAAAAABhP+v5M5969nzkms9chczGlGed8czOnPN2JXU+s3GG\n",
       "GnPuU5jzfPOR73zmnp7zKazr845n7sKcjbVdhbVdhetkfYW/xXoamYV70Ft4tv0Kv2NP4Xfsmszp\n",
       "37H5a7Nxfs4Ne7nW2ruQ2ZjzlszCfj6FOb9L5rwlcw8/Zz57/v7eyKzcD/b8M0JlPwvfhMwZzLxl\n",
       "zj3/3vkUPsLfkOk/5QAAAAAAACBMKQcAAAAAAABhSjkAAAAAAAAIU8oBAAAAAABAmFIOAAAAAAAA\n",
       "wpRyAAAAAAAAEKaUAwAAAAAAgDClHAAAAAAAAIQp5QAAAAAAACBMKQcAAAAAAABhSjkAAAAAAAAI\n",
       "U8oBAAAAAABAmFIOAAAAAAAAwpRyAAAAAAAAEKaUAwAAAAAAgDClHAAAAAAAAIQp5QAAAAAAACBM\n",
       "KQcAAAAAAABhSjkAAAAAAAAIU8oBAAAAAABA2M9+/oyHnrPHM9dqZM47hczGylbmPPOppzFpYc7K\n",
       "2hYy1/vNZ575zF3IXM9s5hnOW2utXTg/57zjmfsrzNnYz6fwd1FvIfMrZDbW9in8plQy5yM7czZ+\n",
       "x4YXt3LfuyVz/kLZhetk70syG2t7y37eMuclmc9w5tM4P9/fv65r3XNmK9dJ4Rtf4ww1Xhl24eP0\n",
       "08isnKH5QSuvncNj+k85AAAAAAAACFPKAQAAAAAAQJhSDgAAAAAAAMKUcgAAAAAAABCmlAMAAAAA\n",
       "AIAwpRwAAAAAAACEKeUAAAAAAAAgTCkHAAAAAAAAYUo5AAAAAAAACFPKAQAAAAAAQJhSDgAAAAAA\n",
       "AMKUcgAAAAAAABCmlAMAAAAAAIAwpRwAAAAAAACEKeUAAAAAAAAgTCkHAAAAAAAAYUo5AAAAAAAA\n",
       "CFPKAQAAAAAAQJhSDgAAAAAAAMKUcgAAAAAAABD2s54/46H72+OZR/0YdK7IPGc+c1fm/MYzVyFz\n",
       "V+b8mc98LjlDz2zmfu+4TqbXda211lv4wf4Kmc9byGycocLavvPPmavwbLueRmbhma9whHZlzuHr\n",
       "s3BtnsK6NvZS5l+WuS/JvGVtL5nzueDc3rKuMpOZ45GVTNdKTuOb7bPnD9FTmXM8cj1rNlRVBQAA\n",
       "AAAAAGFKOQAAAAAAAAhTygEAAAAAAECYUg4AAAAAAADClHIAAAAAAAAQppQDAAAAAACAMKUcAAAA\n",
       "AAAAhCnlAAAAAAAAIEwpBwAAAAAAAGFKOQAAAAAAAAhTygEAAAAAAECYUg4AAAAAAADClHIAAAAA\n",
       "AAAQppQDAAAAAACAMKUcAAAAAAAAhCnlAAAAAAAAIEwpBwAAAAAAAGFKOQAAAAAAAAhTygEAAAAA\n",
       "AECYUg4AAAAAAADCfvb+GQ89hSpwf/OZjTnXOoXE+cxdyFznkrU9jYulsLaVOQuZz3zmPu945vSc\n",
       "lfPT2MtC5jFnzH4KDybPns/cjTkb+zm/tucpPJcUMk/j3E7PWdnLW+61d2Te8lxyTWbhg8ne8/eh\n",
       "55LMxtpOZ1rXYGbhO9TT+PZ1yX42Pk3fMmflVXc+cm1zRvhPOQAAAAAAAAhTygEAAAAAAECYUg4A\n",
       "AAAAAADClHIAAAAAAAAQppQDAAAAAACAMKUcAAAAAAAAhCnlAAAAAAAAIEwpBwAAAAAAAGFKOQAA\n",
       "AAAAAAhTygEAAAAAAECYUg4AAAAAAADClHIAAAAAAAAQppQDAAAAAACAMKUcAAAAAAAAhCnlAAAA\n",
       "AAAAIEwpBwAAAAAAAGFKOQAAAAAAAAhTygEAAAAAAECYUg4AAAAAAADClHIAAAAAAAAQppQDAAAA\n",
       "AACAsJ+1f8ZD93jiWqdQP+7vjGeePZ+5CpmNOfdTWNvzzWc+8/eEU5hzn/k5O/s5n3nOO545Pef+\n",
       "fkfz1lprPYUfskbmvmROayvzv85s/KYUnuIbz183ZFbOz/x10nh+P43z03g3kinzv80s3If2LmQW\n",
       "7gmN/XyGM2+Yca219rpkzsYjZmNtC5mVa2U8sTXnHdfnU2hyKq+df3keAAAAAAAAXEcpBwAAAAAA\n",
       "AGFKOQAAAAAAAAhTygEAAAAAAECYUg4AAAAAAADClHIAAAAAAAAQppQDAAAAAACAMKUcAAAAAAAA\n",
       "hCnlAAAAAAAAIEwpBwAAAAAAAGFKOQAAAAAAAAhTygEAAAAAAECYUg4AAAAAAADClHIAAAAAAAAQ\n",
       "ppQDAAAAAACAMKUcAAAAAAAAhCnlAAAAAAAAIEwpBwAAAAAAAGFKOQAAAAAAAAhTygEAAAAAAEDY\n",
       "z35+xkPPNx659nzkOvuMZ+5nPvOs+cxVyDyFg1u5PitzvuOZjRvR+QpzPr/jkftcMGfjzH6FM7sL\n",
       "5+cp/L3QJZmnkNnZz8JT3y5kFuasPGcWjlBjzjWd2Zix8G5UeR+75B3wiutk3bO2lcxbrk+ZmbzC\n",
       "N6HGunYea+9Y21syn1uulfHEzitgo9/oXCuFd93hSP8pBwAAAAAAAGFKOQAAAAAAAAhTygEAAAAA\n",
       "AECYUg4AAAAAAADClHIAAAAAAAAQppQDAAAAAACAMKUcAAAAAAAAhCnlAAAAAAAAIEwpBwAAAAAA\n",
       "AGFKOQAAAAAAAAhTygEAAAAAAECYUg4AAAAAAADClHIAAAAAAAAQppQDAAAAAACAMKUcAAAAAAAA\n",
       "hCnlAAAAAAAAIEwpBwAAAAAAAGFKOQAAAAAAAAhTygEAAAAAAECYUg4AAAAAAADCfvZ+51P3GY88\n",
       "az5zP9945vkKczb2c8+v7Xp+5jNPY87CPeHMZzbO0L5kbdf3O585vLbnacw4/3c0u5DZmPM01nbf\n",
       "sbbrljlvWdvCM18ncz5yPLOxrk/jfazxnnLLdXLHe+ctc8qU+b+WecOMN2U+hW+2jf9S2YVnzEZm\n",
       "Z20L18p4Yuv6nJ+0cU+YntJ/ygEAAAAAAECYUg4AAAAAAADClHIAAAAAAAAQppQDAAAAAACAMKUc\n",
       "AAAAAAAAhCnlAAAAAAAAIEwpBwAAAAAAAGFKOQAAAAAAAAhTygEAAAAAAECYUg4AAAAAAADClHIA\n",
       "AAAAAAAQppQDAAAAAACAMKUcAAAAAAAAhCnlAAAAAAAAIEwpBwAAAAAAAGFKOQAAAAAAAAhTygEA\n",
       "AAAAAECYUg4AAAAAAADClHIAAAAAAAAQppQDAAAAAACAsJ+93/nUfeYz13zmKWRW1nZ/hczGuZ2f\n",
       "8zzzc+4zn9mZ83c8czXW9itcK4X9XN/sflZ+O5/CmS3s5dnzc+5d+Bulp5C593zmU8hs7Octa9v4\n",
       "c75rMoef4SvvDHdk7um9bGU21vaSzGuuFXPK/B/KW2utXfjG15lz3g1ndq21nsYZcm5jnsoZmp+0\n",
       "8arb2c/hvNk4AAAAAAAAuI9SDgAAAAAAAMKUcgAAAAAAABCmlAMAAAAAAIAwpRwAAAAAAACEKeUA\n",
       "AAAAAAAgTCkHAAAAAAAAYUo5AAAAAAAACFPKAQAAAAAAQJhSDgAAAAAAAMKUcgAAAAAAABCmlAMA\n",
       "AAAAAIAwpRwAAAAAAACEKeUAAAAAAAAgTCkHAAAAAAAAYUo5AAAAAAAACFPKAQAAAAAAQJhSDgAA\n",
       "AAAAAMKUcgAAAAAAABCmlAMAAAAAAIAwpRwAAAAAAACE/ez1zqfuM5+5Lsnc33jkKWTuPX9uG3Ou\n",
       "wpzrKWSexn2ocYZ+xzP3U/jbi6+QOT3nJet69h7PrJzZRmZhbRtznj2fuZ/G2hYyG2fomszGM/xw\n",
       "XONPM5/5dT2Vvbwks7CfjTm3zL8sczzSuf1L8mqZhe+Kt1yb98xZyJyPLF2f8+7Zz0LmcJ7/lAMA\n",
       "AAAAAIAwpRwAAAAAAACEKeUAAAAAAAAgTCkHAAAAAAAAYUo5AAAAAAAACFPKAQAAAAAAQJhSDgAA\n",
       "AAAAAMKUcgAAAAAAABCmlAMAAAAAAIAwpRwAAAAAAACEKeUAAAAAAAAgTCkHAAAAAAAAYUo5AAAA\n",
       "AAAACFPKAQAAAAAAQJhSDgAAAAAAAMKUcgAAAAAAABCmlAMAAAAAAIAwpRwAAAAAAACEKeUAAAAA\n",
       "AAAgTCkHAAAAAAAAYT97z/dyZ73jmWudQuQ3n7kLa7vNmcucn/MUMvc1cxb+DkJmxLlgxrVuOrN7\n",
       "PPI8l+znM7+2jf2U+VdFrlNZ2tl3lTOct9Zaq5C5n/nMxtpOn5+bMivntpI5HrnWBfdamX9P3lWZ\n",
       "he+nncx516xt5dzOM2cwszDp9LOQ/5QDAAAAAACAMKUcAAAAAAAAhCnlAAAAAAAAIEwpBwAAAAAA\n",
       "AGFKOQAAAAAAAAhTygEAAAAAAECYUg4AAAAAAADClHIAAAAAAAAQppQDAAAAAACAMKUcAAAAAAAA\n",
       "hCnlAAAAAAAAIEwpBwAAAAAAAGFKOQAAAAAAAAhTygEAAAAAAECYUg4AAAAAAADClHIAAAAAAAAQ\n",
       "ppQDAAAAAACAMKUcAAAAAAAAhCnlAAAAAAAAIEwpBwAAAAAAAGE/a8/3cnud8cxK/7jf+cz1zUcW\n",
       "ztAprO3ev+OZp7C2jf28J3P+3FbO0FPI/GYz996jef8JveU6mV/bxnXSOUPO7d+VecsZamQW3lWm\n",
       "xywsa2dd5zN3IfNcsra37Oct12djbSuZhe9flXM7rHKZNDJvefRqZFauzfHI0trKzGU2fsfmJ73h\n",
       "3PpPOQAAAAAAAAhTygEAAAAAAECYUg4AAAAAAADClHIAAAAAAAAQppQDAAAAAACAMKUcAAAAAAAA\n",
       "hCnlAAAAAAAAIEwpBwAAAAAAAGFKOQAAAAAAAAhTygEAAAAAAECYUg4AAAAAAADClHIAAAAAAAAQ\n",
       "ppQDAAAAAACAMKUcAAAAAAAAhCnlzg0l9AAAD4RJREFUAAAAAAAAIEwpBwAAAAAAAGFKOQAAAAAA\n",
       "AAhTygEAAAAAAECYUg4AAAAAAADClHIAAAAAAAAQppQDAAAAAACAsJ9d6eVOIbEw5y5knkvmlClT\n",
       "psxmZmPGZ9+RWTk/5pQp8/+lch+aj1yFMccz9/z7WGddG3PKzGXORzYyd2Ftb8m85twWjO/nLWe2\n",
       "8P10FzIrc1auzTv2s5LZuCeMJ5ZeO+cjS+d2dlL/KQcAAAAAAABhSjkAAAAAAAAIU8oBAAAAAABA\n",
       "mFIOAAAAAAAAwpRyAAAAAAAAEKaUAwAAAAAAgDClHAAAAAAAAIQp5QAAAAAAACBMKQcAAAAAAABh\n",
       "SjkAAAAAAAAIU8oBAAAAAABAmFIOAAAAAAAAwpRyAAAAAAAAEKaUAwAAAAAAgDClHAAAAAAAAIQp\n",
       "5QAAAAAAACBMKQcAAAAAAABhSjkAAAAAAAAIU8oBAAAAAABAmFIOAAAAAAAAwn72nu/lzjrjmbvR\n",
       "P55CZmM/C3NWzm0hs7Gfja6+sbadM7THMxtzVs7tdOYt12bjt7NyncxnNua8JbNzr71jbTsuWds9\n",
       "/H7UOD7TM7ZU1vaKyLUbZ+iWzMI3mobOz3Xh+9cFmdc8Bd3yGDQfuRr3vUseEe45Q5c8296zn7Nx\n",
       "/lMOAAAAAAAAwpRyAAAAAAAAEKaUAwAAAAAAgDClHAAAAAAAAIQp5QAAAAAAACBMKQcAAAAAAABh\n",
       "SjkAAAAAAAAIU8oBAAAAAABAmFIOAAAAAAAAwpRyAAAAAAAAEKaUAwAAAAAAgDClHAAAAAAAAIQp\n",
       "5QAAAAAAACBMKQcAAAAAAABhSjkAAAAAAAAIU8oBAAAAAABAmFIOAAAAAAAAwpRyAAAAAAAAEKaU\n",
       "AwAAAAAAgDClHAAAAAAAAIT9NHq5vb7xzLX2eOLZ85nrFPZzz2eewpyda6WwtoX9rPx9QOP6bKxt\n",
       "Y87C/XZ6zsr9vZC5L5nzlszGub3nDM1H3nJuO2t7QeYlW3n2mQ8tZO41n3nN2jYObkPlvlc4Q4Vr\n",
       "peKCc7sr94M77u+N66Szn+OR18zZcMPjeyvzFtNr6z/lAAAAAAD+r307yHEkRwIgyAT0/ydv7mnu\n",
       "AwjOmFKYfSCKTCZL1d4CgJgoBwAAAAAAADFRDgAAAAAAAGKiHAAAAAAAAMREOQAAAAAAAIiJcgAA\n",
       "AAAAABAT5QAAAAAAACAmygEAAAAAAEBMlAMAAAAAAICYKAcAAAAAAAAxUQ4AAAAAAABiohwAAAAA\n",
       "AADERDkAAAAAAACIiXIAAAAAAAAQE+UAAAAAAAAgJsoBAAAAAABATJQDAAAAAACAmCgHAAAAAAAA\n",
       "MVEOAAAAAAAAYqIcAAAAAAAAxD7P81wf+p77Myf64/MO7O3A8zwD6zwT6xyZOdDNt+ztyP9J2LHO\n",
       "kXvo8t5O/O5c825umTlxH6xZ5/2RM+f2/sgt7+eWj9PXPe/9kRPP8v7IoftgYOaIiXO7411Z87Fk\n",
       "4nmOnNvrI4l4lr9m4g4aMHLX3jdyv4/8Thn4G/DyOn1TDgAAAAAAAGKiHAAAAAAAAMREOQAAAAAA\n",
       "AIiJcgAAAAAAABAT5QAAAAAAACAmygEAAAAAAEBMlAMAAAAAAICYKAcAAAAAAAAxUQ4AAAAAAABi\n",
       "ohwAAAAAAADERDkAAAAAAACIiXIAAAAAAAAQE+UAAAAAAAAgJsoBAAAAAABATJQDAAAAAACAmCgH\n",
       "AAAAAAAAMVEOAAAAAAAAYqIcAAAAAAAAxEQ5AAAAAAAAiIlyAAAAAAAAEBPlAAAAAAAAIPY557k+\n",
       "9BmY+Q7MPM/95vm8A3v7DOztwDpnGvaSdU6cITPN/G7g5Xlnyb6eM3PvTezt/ZHWaSb843ne6zNH\n",
       "/mY499d5BvZ2ZObI3t4fueeq3XGG1jzOEZef58C9t+bPsQEz1/uOO2jmCO3Y2xFrFvr7fFMOAAAA\n",
       "AAAAYqIcAAAAAAAAxEQ5AAAAAAAAiIlyAAAAAAAAEBPlAAAAAAAAICbKAQAAAAAAQEyUAwAAAAAA\n",
       "gJgoBwAAAAAAADFRDgAAAAAAAGKiHAAAAAAAAMREOQAAAAAAAIiJcgAAAAAAABAT5QAAAAAAACAm\n",
       "ygEAAAAAAEBMlAMAAAAAAICYKAcAAAAAAAAxUQ4AAAAAAABiohwAAAAAAADERDkAAAAAAACIiXIA\n",
       "AAAAAAAQ+zwDQ99zf+rMOgc8A3v73p85coYG9vYdmDnztiw5Q9aZTr07bmKNS4wcnyXv5sixHRi6\n",
       "4Aqam+l5/tTMDZYc2Zm/OydGTqx0YKY7KDTxPJecoctmlrjjDhq5ayfeEzL+uaSz5SPChpm+KQcA\n",
       "AAAAAAAxUQ4AAAAAAABiohwAAAAAAADERDkAAAAAAACIiXIAAAAAAAAQE+UAAAAAAAAgJsoBAAAA\n",
       "AABATJQDAAAAAACAmCgHAAAAAAAAMVEOAAAAAAAAYqIcAAAAAAAAxEQ5AAAAAAAAiIlyAAAAAAAA\n",
       "EBPlAAAAAAAAICbKAQAAAAAAQEyUAwAAAAAAgJgoBwAAAAAAADFRDgAAAAAAAGKiHAAAAAAAAMRE\n",
       "OQAAAAAAAIh9znkGxppp5pcTn/sz3/f6yBkTR2hi6MirsmSdW57ndTvu9yUP07v5c0O3zJywZW8v\n",
       "f9DccnwmLNnbkbdky6+x2/fBlCXX+5Jlwp8z888zS+73Jdy1fMM35QAAAAAAACAmygEAAAAAAEBM\n",
       "lAMAAAAAAICYKAcAAAAAAAAxUQ4AAAAAAABiohwAAAAAAADERDkAAAAAAACIiXIAAAAAAAAQE+UA\n",
       "AAAAAAAgJsoBAAAAAABATJQDAAAAAACAmCgHAAAAAAAAMVEOAAAAAAAAYqIcAAAAAAAAxEQ5AAAA\n",
       "AAAAiIlyAAAAAAAAEBPlAAAAAAAAICbKAQAAAAAAQEyUAwAAAAAAgJgoBwAAAAAAADFRDgAAAAAA\n",
       "AGKf89wfOjDyvO/9mSPrHJi5x8QT3TJzgnX+li3rvMy2hmwusMyaa2/iD09/BfKdZ+DcrrkSRgw8\n",
       "Tw+ULzg+nS3v5sgyl+ytdTZ8Uw4AAAAAAABiohwAAAAAAADERDkAAAAAAACIiXIAAAAAAAAQE+UA\n",
       "AAAAAAAgJsoBAAAAAABATJQDAAAAAACAmCgHAAAAAAAAMVEOAAAAAAAAYqIcAAAAAAAAxEQ5AAAA\n",
       "AAAAiIlyAAAAAAAAEBPlAAAAAAAAICbKAQAAAAAAQEyUAwAAAAAAgJgoBwAAAAAAADFRDgAAAAAA\n",
       "AGKiHAAAAAAAAMREOQAAAAAAAIiJcgAAAAAAABD7TP8AwH/LMzDzHZhJaOIQXTewyBX7evascw0P\n",
       "NDOxtVtmAvzDHQT/0u//Ve9jEF/zQH/M7997dHxTDgAAAAAAAGKiHAAAAAAAAMREOQAAAAAAAIiJ\n",
       "cgAAAAAAABAT5QAAAAAAACAmygEAAAAAAEBMlAMAAAAAAICYKAcAAAAAAAAxUQ4AAAAAAABiohwA\n",
       "AAAAAADERDkAAAAAAACIiXIAAAAAAAAQE+UAAAAAAAAgJsoBAAAAAABATJQDAAAAAACAmCgHAAAA\n",
       "AAAAMVEOAAAAAAAAYqIcAAAAAAAAxEQ5AAAAAAAAiIlyAAAAAAAAEPtM/wDAf8s7/QPw9604RCsW\n",
       "OcPWAgAAzHimfwCA3+ebcgAAAAAAABAT5QAAAAAAACAmygEAAAAAAEBMlAMAAAAAAICYKAcAAAAA\n",
       "AAAxUQ4AAAAAAABiohwAAAAAAADERDkAAAAAAACIiXIAAAAAAAAQE+UAAAAAAAAgJsoBAAAAAABA\n",
       "TJQDAAAAAACAmCgHAAAAAAAAMVEOAAAAAAAAYqIcAAAAAAAAxEQ5AAAAAAAAiIlyAAAAAAAAEBPl\n",
       "AAAAAAAAICbKAQAAAAAAQEyUAwAAAAAAgNjnvPeHvgMzJyxZ5iITT3TLzAnW+VsWrNN18GO2bO6W\n",
       "dQ7Ycic4QgDwBzzTP0Buzccgn70Acr4pBwAAAAAAADFRDgAAAAAAAGKiHAAAAAAAAMREOQAAAAAA\n",
       "AIiJcgAAAAAAABAT5QAAAAAAACAmygEAAAAAAEBMlAMAAAAAAICYKAcAAAAAAAAxUQ4AAAAAAABi\n",
       "ohwAAAAAAADERDkAAAAAAACIiXIAAAAAAAAQE+UAAAAAAAAgJsoBAAAAAABATJQDAAAAAACAmCgH\n",
       "AAAAAAAAMVEOAAAAAAAAYqIcAAAAAAAAxEQ5AAAAAAAAiIlyAAAAAAAAEPuc8w6MNdPMLye+E+tc\n",
       "YmRrB4aOvCpL1jkzFP6WLa/JlnUu+fwFX1lzZJ/7I9+BmVssObfvwLldsrXAv7DmPtjyT0Jb+PzF\n",
       "F3xTDgAAAAAAAGKiHAAAAAAAAMREOQAAAAAAAIiJcgAAAAAAABAT5QAAAAAAACAmygEAAAAAAEBM\n",
       "lAMAAAAAAICYKAcAAAAAAAAxUQ4AAAAAAABiohwAAAAAAADERDkAAAAAAACIiXIAAAAAAAAQE+UA\n",
       "AAAAAAAgJsoBAAAAAABATJQDAAAAAACAmCgHAAAAAAAAMVEOAAAAAAAAYqIcAAAAAAAAxEQ5AAAA\n",
       "AAAAiIlyAAAAAAAAEPu8I2PvT92yzvNO7O3E7g6sc2BvJ57nzNtyf+YzdCvctmWd99+VHe/Jmpkj\n",
       "d+2EJetc8zwnLLkTNrwrC5Y4Zsnejixz4iPC/ZHnnGdk6nVLrvctZ8jHL/6akX/im7jfl7ybS5Y5\n",
       "Y8vmXl6nb8oBAAAAAABATJQDAAAAAACAmCgHAAAAAAAAMVEOAAAAAAAAYqIcAAAAAAAAxEQ5AAAA\n",
       "AAAAiIlyAAAAAAAAEBPlAAAAAAAAICbKAQAAAAAAQEyUAwAAAAAAgJgoBwAAAAAAADFRDgAAAAAA\n",
       "AGKiHAAAAAAAAMREOQAAAAAAAIiJcgAAAAAAABAT5QAAAAAAACAmygEAAAAAAEBMlAMAAAAAAICY\n",
       "KAcAAAAAAAAxUQ4AAAAAAABin3Pe60PfgZnn/O/+yHfJ3g6sc+LcmlmOXDJzyT204k7Ysq9bZg54\n",
       "tty1I7/HBmzZWjN/a+YGE1ft/ZEzRvb2uT90YqY7KDTxPO/PXPM4V5g4PxN3LT9lySW0ZJlEfFMO\n",
       "AAAAAAAAYqIcAAAAAAAAxEQ5AAAAAAAAiIlyAAAAAAAAEBPlAAAAAAAAICbKAQAAAAAAQEyUAwAA\n",
       "AAAAgJgoBwAAAAAAADFRDgAAAAAAAGKiHAAAAAAAAMREOQAAAAAAAIiJcgAAAAAAABAT5QAAAAAA\n",
       "ACAmygEAAAAAAEBMlAMAAAAAAICYKAcAAAAAAAAxUQ4AAAAAAABiohwAAAAAAADERDkAAAAAAACI\n",
       "iXIAAAAAAAAQ+z9HysQ0Yvu1cgAAAABJRU5ErkJggg==\n",
       "\" transform=\"translate(295, 86)\"/>\n",
       "</g>\n",
       "<circle clip-path=\"url(#clip502)\" cx=\"1123.2\" cy=\"1014.51\" r=\"14.4\" fill=\"#e26f46\" fill-rule=\"evenodd\" fill-opacity=\"1\" stroke=\"#000000\" stroke-opacity=\"1\" stroke-width=\"3.2\"/>\n",
       "<circle clip-path=\"url(#clip502)\" cx=\"1991.1\" cy=\"376.12\" r=\"14.4\" fill=\"#e26f46\" fill-rule=\"evenodd\" fill-opacity=\"1\" stroke=\"#000000\" stroke-opacity=\"1\" stroke-width=\"3.2\"/>\n",
       "<circle clip-path=\"url(#clip502)\" cx=\"689.25\" cy=\"695.313\" r=\"14.4\" fill=\"#e26f46\" fill-rule=\"evenodd\" fill-opacity=\"1\" stroke=\"#000000\" stroke-opacity=\"1\" stroke-width=\"3.2\"/>\n",
       "<circle clip-path=\"url(#clip502)\" cx=\"1557.15\" cy=\"1333.7\" r=\"14.4\" fill=\"#e26f46\" fill-rule=\"evenodd\" fill-opacity=\"1\" stroke=\"#000000\" stroke-opacity=\"1\" stroke-width=\"3.2\"/>\n",
       "<circle clip-path=\"url(#clip502)\" cx=\"1774.13\" cy=\"1174.1\" r=\"14.4\" fill=\"#e26f46\" fill-rule=\"evenodd\" fill-opacity=\"1\" stroke=\"#000000\" stroke-opacity=\"1\" stroke-width=\"3.2\"/>\n",
       "<circle clip-path=\"url(#clip502)\" cx=\"906.225\" cy=\"535.716\" r=\"14.4\" fill=\"#e26f46\" fill-rule=\"evenodd\" fill-opacity=\"1\" stroke=\"#000000\" stroke-opacity=\"1\" stroke-width=\"3.2\"/>\n",
       "<circle clip-path=\"url(#clip502)\" cx=\"1340.18\" cy=\"216.523\" r=\"14.4\" fill=\"#e26f46\" fill-rule=\"evenodd\" fill-opacity=\"1\" stroke=\"#000000\" stroke-opacity=\"1\" stroke-width=\"3.2\"/>\n",
       "<circle clip-path=\"url(#clip502)\" cx=\"472.274\" cy=\"854.909\" r=\"14.4\" fill=\"#e26f46\" fill-rule=\"evenodd\" fill-opacity=\"1\" stroke=\"#000000\" stroke-opacity=\"1\" stroke-width=\"3.2\"/>\n",
       "<circle clip-path=\"url(#clip502)\" cx=\"1231.69\" cy=\"296.321\" r=\"14.4\" fill=\"#e26f46\" fill-rule=\"evenodd\" fill-opacity=\"1\" stroke=\"#000000\" stroke-opacity=\"1\" stroke-width=\"3.2\"/>\n",
       "<circle clip-path=\"url(#clip502)\" cx=\"363.786\" cy=\"934.708\" r=\"14.4\" fill=\"#e26f46\" fill-rule=\"evenodd\" fill-opacity=\"1\" stroke=\"#000000\" stroke-opacity=\"1\" stroke-width=\"3.2\"/>\n",
       "<circle clip-path=\"url(#clip502)\" cx=\"1665.64\" cy=\"1253.9\" r=\"14.4\" fill=\"#e26f46\" fill-rule=\"evenodd\" fill-opacity=\"1\" stroke=\"#000000\" stroke-opacity=\"1\" stroke-width=\"3.2\"/>\n",
       "<circle clip-path=\"url(#clip502)\" cx=\"797.738\" cy=\"615.514\" r=\"14.4\" fill=\"#e26f46\" fill-rule=\"evenodd\" fill-opacity=\"1\" stroke=\"#000000\" stroke-opacity=\"1\" stroke-width=\"3.2\"/>\n",
       "<circle clip-path=\"url(#clip502)\" cx=\"580.762\" cy=\"455.918\" r=\"14.4\" fill=\"#e26f46\" fill-rule=\"evenodd\" fill-opacity=\"1\" stroke=\"#000000\" stroke-opacity=\"1\" stroke-width=\"3.2\"/>\n",
       "<circle clip-path=\"url(#clip502)\" cx=\"1448.67\" cy=\"1094.3\" r=\"14.4\" fill=\"#e26f46\" fill-rule=\"evenodd\" fill-opacity=\"1\" stroke=\"#000000\" stroke-opacity=\"1\" stroke-width=\"3.2\"/>\n",
       "<circle clip-path=\"url(#clip502)\" cx=\"1014.71\" cy=\"775.111\" r=\"14.4\" fill=\"#e26f46\" fill-rule=\"evenodd\" fill-opacity=\"1\" stroke=\"#000000\" stroke-opacity=\"1\" stroke-width=\"3.2\"/>\n",
       "<circle clip-path=\"url(#clip502)\" cx=\"1882.62\" cy=\"136.725\" r=\"14.4\" fill=\"#e26f46\" fill-rule=\"evenodd\" fill-opacity=\"1\" stroke=\"#000000\" stroke-opacity=\"1\" stroke-width=\"3.2\"/>\n",
       "<circle clip-path=\"url(#clip502)\" cx=\"1530.03\" cy=\"1194.05\" r=\"14.4\" fill=\"#e26f46\" fill-rule=\"evenodd\" fill-opacity=\"1\" stroke=\"#000000\" stroke-opacity=\"1\" stroke-width=\"3.2\"/>\n",
       "<circle clip-path=\"url(#clip502)\" cx=\"662.128\" cy=\"555.666\" r=\"14.4\" fill=\"#e26f46\" fill-rule=\"evenodd\" fill-opacity=\"1\" stroke=\"#000000\" stroke-opacity=\"1\" stroke-width=\"3.2\"/>\n",
       "<circle clip-path=\"url(#clip502)\" cx=\"1963.98\" cy=\"236.472\" r=\"14.4\" fill=\"#e26f46\" fill-rule=\"evenodd\" fill-opacity=\"1\" stroke=\"#000000\" stroke-opacity=\"1\" stroke-width=\"3.2\"/>\n",
       "<circle clip-path=\"url(#clip502)\" cx=\"1096.08\" cy=\"874.859\" r=\"14.4\" fill=\"#e26f46\" fill-rule=\"evenodd\" fill-opacity=\"1\" stroke=\"#000000\" stroke-opacity=\"1\" stroke-width=\"3.2\"/>\n",
       "<circle clip-path=\"url(#clip502)\" cx=\"445.152\" cy=\"1034.46\" r=\"14.4\" fill=\"#e26f46\" fill-rule=\"evenodd\" fill-opacity=\"1\" stroke=\"#000000\" stroke-opacity=\"1\" stroke-width=\"3.2\"/>\n",
       "<circle clip-path=\"url(#clip502)\" cx=\"1313.06\" cy=\"396.069\" r=\"14.4\" fill=\"#e26f46\" fill-rule=\"evenodd\" fill-opacity=\"1\" stroke=\"#000000\" stroke-opacity=\"1\" stroke-width=\"3.2\"/>\n",
       "<circle clip-path=\"url(#clip502)\" cx=\"879.103\" cy=\"715.262\" r=\"14.4\" fill=\"#e26f46\" fill-rule=\"evenodd\" fill-opacity=\"1\" stroke=\"#000000\" stroke-opacity=\"1\" stroke-width=\"3.2\"/>\n",
       "<circle clip-path=\"url(#clip502)\" cx=\"1747.01\" cy=\"1353.65\" r=\"14.4\" fill=\"#e26f46\" fill-rule=\"evenodd\" fill-opacity=\"1\" stroke=\"#000000\" stroke-opacity=\"1\" stroke-width=\"3.2\"/>\n",
       "<circle clip-path=\"url(#clip502)\" cx=\"770.616\" cy=\"475.867\" r=\"14.4\" fill=\"#e26f46\" fill-rule=\"evenodd\" fill-opacity=\"1\" stroke=\"#000000\" stroke-opacity=\"1\" stroke-width=\"3.2\"/>\n",
       "<circle clip-path=\"url(#clip502)\" cx=\"309.542\" cy=\"96.8254\" r=\"14.4\" fill=\"#e26f46\" fill-rule=\"evenodd\" fill-opacity=\"1\" stroke=\"#000000\" stroke-opacity=\"1\" stroke-width=\"3.2\"/>\n",
       "<circle clip-path=\"url(#clip502)\" cx=\"2045.35\" cy=\"1373.6\" r=\"14.4\" fill=\"#e26f46\" fill-rule=\"evenodd\" fill-opacity=\"1\" stroke=\"#000000\" stroke-opacity=\"1\" stroke-width=\"3.2\"/>\n",
       "<circle clip-path=\"url(#clip502)\" cx=\"2045.35\" cy=\"96.8254\" r=\"14.4\" fill=\"#e26f46\" fill-rule=\"evenodd\" fill-opacity=\"1\" stroke=\"#000000\" stroke-opacity=\"1\" stroke-width=\"3.2\"/>\n",
       "<circle clip-path=\"url(#clip502)\" cx=\"309.542\" cy=\"1373.6\" r=\"14.4\" fill=\"#e26f46\" fill-rule=\"evenodd\" fill-opacity=\"1\" stroke=\"#000000\" stroke-opacity=\"1\" stroke-width=\"3.2\"/>\n",
       "<circle clip-path=\"url(#clip502)\" cx=\"309.542\" cy=\"1373.6\" r=\"14.4\" fill=\"#e26f46\" fill-rule=\"evenodd\" fill-opacity=\"1\" stroke=\"#000000\" stroke-opacity=\"1\" stroke-width=\"3.2\"/>\n",
       "<circle clip-path=\"url(#clip502)\" cx=\"309.542\" cy=\"1373.6\" r=\"14.4\" fill=\"#e26f46\" fill-rule=\"evenodd\" fill-opacity=\"1\" stroke=\"#000000\" stroke-opacity=\"1\" stroke-width=\"3.2\"/>\n",
       "<circle clip-path=\"url(#clip502)\" cx=\"2045.35\" cy=\"96.8254\" r=\"14.4\" fill=\"#e26f46\" fill-rule=\"evenodd\" fill-opacity=\"1\" stroke=\"#000000\" stroke-opacity=\"1\" stroke-width=\"3.2\"/>\n",
       "<circle clip-path=\"url(#clip502)\" cx=\"2045.35\" cy=\"1373.6\" r=\"14.4\" fill=\"#e26f46\" fill-rule=\"evenodd\" fill-opacity=\"1\" stroke=\"#000000\" stroke-opacity=\"1\" stroke-width=\"3.2\"/>\n",
       "<circle clip-path=\"url(#clip502)\" cx=\"309.542\" cy=\"96.8254\" r=\"14.4\" fill=\"#e26f46\" fill-rule=\"evenodd\" fill-opacity=\"1\" stroke=\"#000000\" stroke-opacity=\"1\" stroke-width=\"3.2\"/>\n",
       "<circle clip-path=\"url(#clip502)\" cx=\"309.542\" cy=\"96.8254\" r=\"14.4\" fill=\"#e26f46\" fill-rule=\"evenodd\" fill-opacity=\"1\" stroke=\"#000000\" stroke-opacity=\"1\" stroke-width=\"3.2\"/>\n",
       "<circle clip-path=\"url(#clip502)\" cx=\"2045.35\" cy=\"1373.6\" r=\"14.4\" fill=\"#e26f46\" fill-rule=\"evenodd\" fill-opacity=\"1\" stroke=\"#000000\" stroke-opacity=\"1\" stroke-width=\"3.2\"/>\n",
       "<circle clip-path=\"url(#clip502)\" cx=\"2045.35\" cy=\"96.8254\" r=\"14.4\" fill=\"#e26f46\" fill-rule=\"evenodd\" fill-opacity=\"1\" stroke=\"#000000\" stroke-opacity=\"1\" stroke-width=\"3.2\"/>\n",
       "<circle clip-path=\"url(#clip502)\" cx=\"309.542\" cy=\"1373.6\" r=\"14.4\" fill=\"#e26f46\" fill-rule=\"evenodd\" fill-opacity=\"1\" stroke=\"#000000\" stroke-opacity=\"1\" stroke-width=\"3.2\"/>\n",
       "<circle clip-path=\"url(#clip502)\" cx=\"309.542\" cy=\"1373.6\" r=\"14.4\" fill=\"#e26f46\" fill-rule=\"evenodd\" fill-opacity=\"1\" stroke=\"#000000\" stroke-opacity=\"1\" stroke-width=\"3.2\"/>\n",
       "<circle clip-path=\"url(#clip502)\" cx=\"2045.35\" cy=\"96.8254\" r=\"14.4\" fill=\"#e26f46\" fill-rule=\"evenodd\" fill-opacity=\"1\" stroke=\"#000000\" stroke-opacity=\"1\" stroke-width=\"3.2\"/>\n",
       "<circle clip-path=\"url(#clip502)\" cx=\"309.542\" cy=\"96.8254\" r=\"14.4\" fill=\"#e26f46\" fill-rule=\"evenodd\" fill-opacity=\"1\" stroke=\"#000000\" stroke-opacity=\"1\" stroke-width=\"3.2\"/>\n",
       "<circle clip-path=\"url(#clip502)\" cx=\"2045.35\" cy=\"1373.6\" r=\"14.4\" fill=\"#e26f46\" fill-rule=\"evenodd\" fill-opacity=\"1\" stroke=\"#000000\" stroke-opacity=\"1\" stroke-width=\"3.2\"/>\n",
       "<circle clip-path=\"url(#clip502)\" cx=\"309.542\" cy=\"96.8254\" r=\"14.4\" fill=\"#e26f46\" fill-rule=\"evenodd\" fill-opacity=\"1\" stroke=\"#000000\" stroke-opacity=\"1\" stroke-width=\"3.2\"/>\n",
       "<circle clip-path=\"url(#clip502)\" cx=\"2045.35\" cy=\"1373.6\" r=\"14.4\" fill=\"#e26f46\" fill-rule=\"evenodd\" fill-opacity=\"1\" stroke=\"#000000\" stroke-opacity=\"1\" stroke-width=\"3.2\"/>\n",
       "<circle clip-path=\"url(#clip502)\" cx=\"309.542\" cy=\"96.8254\" r=\"14.4\" fill=\"#e26f46\" fill-rule=\"evenodd\" fill-opacity=\"1\" stroke=\"#000000\" stroke-opacity=\"1\" stroke-width=\"3.2\"/>\n",
       "<circle clip-path=\"url(#clip502)\" cx=\"2045.35\" cy=\"1373.6\" r=\"14.4\" fill=\"#e26f46\" fill-rule=\"evenodd\" fill-opacity=\"1\" stroke=\"#000000\" stroke-opacity=\"1\" stroke-width=\"3.2\"/>\n",
       "<circle clip-path=\"url(#clip502)\" cx=\"2045.35\" cy=\"96.8254\" r=\"14.4\" fill=\"#e26f46\" fill-rule=\"evenodd\" fill-opacity=\"1\" stroke=\"#000000\" stroke-opacity=\"1\" stroke-width=\"3.2\"/>\n",
       "<circle clip-path=\"url(#clip502)\" cx=\"309.542\" cy=\"1373.6\" r=\"14.4\" fill=\"#e26f46\" fill-rule=\"evenodd\" fill-opacity=\"1\" stroke=\"#000000\" stroke-opacity=\"1\" stroke-width=\"3.2\"/>\n",
       "<circle clip-path=\"url(#clip502)\" cx=\"309.542\" cy=\"96.8254\" r=\"14.4\" fill=\"#e26f46\" fill-rule=\"evenodd\" fill-opacity=\"1\" stroke=\"#000000\" stroke-opacity=\"1\" stroke-width=\"3.2\"/>\n",
       "<circle clip-path=\"url(#clip502)\" cx=\"2045.35\" cy=\"1373.6\" r=\"14.4\" fill=\"#e26f46\" fill-rule=\"evenodd\" fill-opacity=\"1\" stroke=\"#000000\" stroke-opacity=\"1\" stroke-width=\"3.2\"/>\n",
       "<circle clip-path=\"url(#clip502)\" cx=\"309.542\" cy=\"96.8254\" r=\"14.4\" fill=\"#e26f46\" fill-rule=\"evenodd\" fill-opacity=\"1\" stroke=\"#000000\" stroke-opacity=\"1\" stroke-width=\"3.2\"/>\n",
       "<circle clip-path=\"url(#clip502)\" cx=\"309.542\" cy=\"1373.6\" r=\"14.4\" fill=\"#e26f46\" fill-rule=\"evenodd\" fill-opacity=\"1\" stroke=\"#000000\" stroke-opacity=\"1\" stroke-width=\"3.2\"/>\n",
       "<circle clip-path=\"url(#clip502)\" cx=\"309.542\" cy=\"1373.6\" r=\"14.4\" fill=\"#e26f46\" fill-rule=\"evenodd\" fill-opacity=\"1\" stroke=\"#000000\" stroke-opacity=\"1\" stroke-width=\"3.2\"/>\n",
       "<circle clip-path=\"url(#clip502)\" cx=\"2045.35\" cy=\"96.8254\" r=\"14.4\" fill=\"#e26f46\" fill-rule=\"evenodd\" fill-opacity=\"1\" stroke=\"#000000\" stroke-opacity=\"1\" stroke-width=\"3.2\"/>\n",
       "<circle clip-path=\"url(#clip502)\" cx=\"2045.35\" cy=\"96.8254\" r=\"14.4\" fill=\"#e26f46\" fill-rule=\"evenodd\" fill-opacity=\"1\" stroke=\"#000000\" stroke-opacity=\"1\" stroke-width=\"3.2\"/>\n",
       "<circle clip-path=\"url(#clip502)\" cx=\"309.542\" cy=\"1373.6\" r=\"14.4\" fill=\"#e26f46\" fill-rule=\"evenodd\" fill-opacity=\"1\" stroke=\"#000000\" stroke-opacity=\"1\" stroke-width=\"3.2\"/>\n",
       "<circle clip-path=\"url(#clip502)\" cx=\"2045.35\" cy=\"96.8254\" r=\"14.4\" fill=\"#e26f46\" fill-rule=\"evenodd\" fill-opacity=\"1\" stroke=\"#000000\" stroke-opacity=\"1\" stroke-width=\"3.2\"/>\n",
       "<circle clip-path=\"url(#clip502)\" cx=\"309.542\" cy=\"1373.6\" r=\"14.4\" fill=\"#e26f46\" fill-rule=\"evenodd\" fill-opacity=\"1\" stroke=\"#000000\" stroke-opacity=\"1\" stroke-width=\"3.2\"/>\n",
       "<circle clip-path=\"url(#clip502)\" cx=\"309.542\" cy=\"96.8254\" r=\"14.4\" fill=\"#e26f46\" fill-rule=\"evenodd\" fill-opacity=\"1\" stroke=\"#000000\" stroke-opacity=\"1\" stroke-width=\"3.2\"/>\n",
       "<circle clip-path=\"url(#clip502)\" cx=\"2045.35\" cy=\"1373.6\" r=\"14.4\" fill=\"#e26f46\" fill-rule=\"evenodd\" fill-opacity=\"1\" stroke=\"#000000\" stroke-opacity=\"1\" stroke-width=\"3.2\"/>\n",
       "<circle clip-path=\"url(#clip502)\" cx=\"2045.35\" cy=\"96.8254\" r=\"14.4\" fill=\"#e26f46\" fill-rule=\"evenodd\" fill-opacity=\"1\" stroke=\"#000000\" stroke-opacity=\"1\" stroke-width=\"3.2\"/>\n",
       "<circle clip-path=\"url(#clip502)\" cx=\"309.542\" cy=\"1373.6\" r=\"14.4\" fill=\"#e26f46\" fill-rule=\"evenodd\" fill-opacity=\"1\" stroke=\"#000000\" stroke-opacity=\"1\" stroke-width=\"3.2\"/>\n",
       "<circle clip-path=\"url(#clip502)\" cx=\"2045.35\" cy=\"96.8254\" r=\"14.4\" fill=\"#e26f46\" fill-rule=\"evenodd\" fill-opacity=\"1\" stroke=\"#000000\" stroke-opacity=\"1\" stroke-width=\"3.2\"/>\n",
       "<circle clip-path=\"url(#clip502)\" cx=\"309.542\" cy=\"1373.6\" r=\"14.4\" fill=\"#e26f46\" fill-rule=\"evenodd\" fill-opacity=\"1\" stroke=\"#000000\" stroke-opacity=\"1\" stroke-width=\"3.2\"/>\n",
       "<circle clip-path=\"url(#clip502)\" cx=\"2045.35\" cy=\"96.8254\" r=\"14.4\" fill=\"#e26f46\" fill-rule=\"evenodd\" fill-opacity=\"1\" stroke=\"#000000\" stroke-opacity=\"1\" stroke-width=\"3.2\"/>\n",
       "<circle clip-path=\"url(#clip502)\" cx=\"2045.35\" cy=\"1373.6\" r=\"14.4\" fill=\"#e26f46\" fill-rule=\"evenodd\" fill-opacity=\"1\" stroke=\"#000000\" stroke-opacity=\"1\" stroke-width=\"3.2\"/>\n",
       "<circle clip-path=\"url(#clip502)\" cx=\"309.542\" cy=\"96.8254\" r=\"14.4\" fill=\"#e26f46\" fill-rule=\"evenodd\" fill-opacity=\"1\" stroke=\"#000000\" stroke-opacity=\"1\" stroke-width=\"3.2\"/>\n",
       "<circle clip-path=\"url(#clip502)\" cx=\"309.542\" cy=\"96.8254\" r=\"14.4\" fill=\"#e26f46\" fill-rule=\"evenodd\" fill-opacity=\"1\" stroke=\"#000000\" stroke-opacity=\"1\" stroke-width=\"3.2\"/>\n",
       "<circle clip-path=\"url(#clip502)\" cx=\"2045.35\" cy=\"1373.6\" r=\"14.4\" fill=\"#e26f46\" fill-rule=\"evenodd\" fill-opacity=\"1\" stroke=\"#000000\" stroke-opacity=\"1\" stroke-width=\"3.2\"/>\n",
       "<circle clip-path=\"url(#clip502)\" cx=\"309.542\" cy=\"96.8254\" r=\"14.4\" fill=\"#e26f46\" fill-rule=\"evenodd\" fill-opacity=\"1\" stroke=\"#000000\" stroke-opacity=\"1\" stroke-width=\"3.2\"/>\n",
       "<circle clip-path=\"url(#clip502)\" cx=\"309.542\" cy=\"1373.6\" r=\"14.4\" fill=\"#e26f46\" fill-rule=\"evenodd\" fill-opacity=\"1\" stroke=\"#000000\" stroke-opacity=\"1\" stroke-width=\"3.2\"/>\n",
       "<circle clip-path=\"url(#clip502)\" cx=\"2045.35\" cy=\"96.8254\" r=\"14.4\" fill=\"#e26f46\" fill-rule=\"evenodd\" fill-opacity=\"1\" stroke=\"#000000\" stroke-opacity=\"1\" stroke-width=\"3.2\"/>\n",
       "<circle clip-path=\"url(#clip502)\" cx=\"2045.35\" cy=\"1373.6\" r=\"14.4\" fill=\"#e26f46\" fill-rule=\"evenodd\" fill-opacity=\"1\" stroke=\"#000000\" stroke-opacity=\"1\" stroke-width=\"3.2\"/>\n",
       "<circle clip-path=\"url(#clip502)\" cx=\"309.542\" cy=\"96.8254\" r=\"14.4\" fill=\"#e26f46\" fill-rule=\"evenodd\" fill-opacity=\"1\" stroke=\"#000000\" stroke-opacity=\"1\" stroke-width=\"3.2\"/>\n",
       "<circle clip-path=\"url(#clip502)\" cx=\"2045.35\" cy=\"1373.6\" r=\"14.4\" fill=\"#e26f46\" fill-rule=\"evenodd\" fill-opacity=\"1\" stroke=\"#000000\" stroke-opacity=\"1\" stroke-width=\"3.2\"/>\n",
       "<circle clip-path=\"url(#clip502)\" cx=\"309.542\" cy=\"96.8254\" r=\"14.4\" fill=\"#e26f46\" fill-rule=\"evenodd\" fill-opacity=\"1\" stroke=\"#000000\" stroke-opacity=\"1\" stroke-width=\"3.2\"/>\n",
       "<circle clip-path=\"url(#clip502)\" cx=\"309.542\" cy=\"1373.6\" r=\"14.4\" fill=\"#e26f46\" fill-rule=\"evenodd\" fill-opacity=\"1\" stroke=\"#000000\" stroke-opacity=\"1\" stroke-width=\"3.2\"/>\n",
       "<circle clip-path=\"url(#clip502)\" cx=\"2045.35\" cy=\"1373.6\" r=\"14.4\" fill=\"#e26f46\" fill-rule=\"evenodd\" fill-opacity=\"1\" stroke=\"#000000\" stroke-opacity=\"1\" stroke-width=\"3.2\"/>\n",
       "<circle clip-path=\"url(#clip502)\" cx=\"2045.35\" cy=\"96.8254\" r=\"14.4\" fill=\"#e26f46\" fill-rule=\"evenodd\" fill-opacity=\"1\" stroke=\"#000000\" stroke-opacity=\"1\" stroke-width=\"3.2\"/>\n",
       "<circle clip-path=\"url(#clip502)\" cx=\"2045.35\" cy=\"1373.6\" r=\"14.4\" fill=\"#e26f46\" fill-rule=\"evenodd\" fill-opacity=\"1\" stroke=\"#000000\" stroke-opacity=\"1\" stroke-width=\"3.2\"/>\n",
       "<circle clip-path=\"url(#clip502)\" cx=\"309.542\" cy=\"96.8254\" r=\"14.4\" fill=\"#e26f46\" fill-rule=\"evenodd\" fill-opacity=\"1\" stroke=\"#000000\" stroke-opacity=\"1\" stroke-width=\"3.2\"/>\n",
       "<circle clip-path=\"url(#clip502)\" cx=\"309.542\" cy=\"1373.6\" r=\"14.4\" fill=\"#e26f46\" fill-rule=\"evenodd\" fill-opacity=\"1\" stroke=\"#000000\" stroke-opacity=\"1\" stroke-width=\"3.2\"/>\n",
       "<circle clip-path=\"url(#clip502)\" cx=\"2045.35\" cy=\"96.8254\" r=\"14.4\" fill=\"#e26f46\" fill-rule=\"evenodd\" fill-opacity=\"1\" stroke=\"#000000\" stroke-opacity=\"1\" stroke-width=\"3.2\"/>\n",
       "<circle clip-path=\"url(#clip502)\" cx=\"309.542\" cy=\"1373.6\" r=\"14.4\" fill=\"#e26f46\" fill-rule=\"evenodd\" fill-opacity=\"1\" stroke=\"#000000\" stroke-opacity=\"1\" stroke-width=\"3.2\"/>\n",
       "<circle clip-path=\"url(#clip502)\" cx=\"309.542\" cy=\"96.8254\" r=\"14.4\" fill=\"#e26f46\" fill-rule=\"evenodd\" fill-opacity=\"1\" stroke=\"#000000\" stroke-opacity=\"1\" stroke-width=\"3.2\"/>\n",
       "<circle clip-path=\"url(#clip502)\" cx=\"2045.35\" cy=\"1373.6\" r=\"14.4\" fill=\"#e26f46\" fill-rule=\"evenodd\" fill-opacity=\"1\" stroke=\"#000000\" stroke-opacity=\"1\" stroke-width=\"3.2\"/>\n",
       "<circle clip-path=\"url(#clip502)\" cx=\"2045.35\" cy=\"96.8254\" r=\"14.4\" fill=\"#e26f46\" fill-rule=\"evenodd\" fill-opacity=\"1\" stroke=\"#000000\" stroke-opacity=\"1\" stroke-width=\"3.2\"/>\n",
       "<circle clip-path=\"url(#clip502)\" cx=\"309.542\" cy=\"1373.6\" r=\"14.4\" fill=\"#e26f46\" fill-rule=\"evenodd\" fill-opacity=\"1\" stroke=\"#000000\" stroke-opacity=\"1\" stroke-width=\"3.2\"/>\n",
       "<circle clip-path=\"url(#clip502)\" cx=\"2045.35\" cy=\"1373.6\" r=\"14.4\" fill=\"#e26f46\" fill-rule=\"evenodd\" fill-opacity=\"1\" stroke=\"#000000\" stroke-opacity=\"1\" stroke-width=\"3.2\"/>\n",
       "<circle clip-path=\"url(#clip502)\" cx=\"309.542\" cy=\"96.8254\" r=\"14.4\" fill=\"#e26f46\" fill-rule=\"evenodd\" fill-opacity=\"1\" stroke=\"#000000\" stroke-opacity=\"1\" stroke-width=\"3.2\"/>\n",
       "<circle clip-path=\"url(#clip502)\" cx=\"2045.35\" cy=\"96.8254\" r=\"14.4\" fill=\"#e26f46\" fill-rule=\"evenodd\" fill-opacity=\"1\" stroke=\"#000000\" stroke-opacity=\"1\" stroke-width=\"3.2\"/>\n",
       "<circle clip-path=\"url(#clip502)\" cx=\"309.542\" cy=\"1373.6\" r=\"14.4\" fill=\"#e26f46\" fill-rule=\"evenodd\" fill-opacity=\"1\" stroke=\"#000000\" stroke-opacity=\"1\" stroke-width=\"3.2\"/>\n",
       "<circle clip-path=\"url(#clip502)\" cx=\"309.542\" cy=\"1373.6\" r=\"14.4\" fill=\"#e26f46\" fill-rule=\"evenodd\" fill-opacity=\"1\" stroke=\"#000000\" stroke-opacity=\"1\" stroke-width=\"3.2\"/>\n",
       "<circle clip-path=\"url(#clip502)\" cx=\"2045.35\" cy=\"1373.6\" r=\"14.4\" fill=\"#e26f46\" fill-rule=\"evenodd\" fill-opacity=\"1\" stroke=\"#000000\" stroke-opacity=\"1\" stroke-width=\"3.2\"/>\n",
       "<circle clip-path=\"url(#clip502)\" cx=\"309.542\" cy=\"96.8254\" r=\"14.4\" fill=\"#e26f46\" fill-rule=\"evenodd\" fill-opacity=\"1\" stroke=\"#000000\" stroke-opacity=\"1\" stroke-width=\"3.2\"/>\n",
       "<circle clip-path=\"url(#clip502)\" cx=\"309.542\" cy=\"96.8254\" r=\"14.4\" fill=\"#e26f46\" fill-rule=\"evenodd\" fill-opacity=\"1\" stroke=\"#000000\" stroke-opacity=\"1\" stroke-width=\"3.2\"/>\n",
       "<circle clip-path=\"url(#clip502)\" cx=\"2045.35\" cy=\"96.8254\" r=\"14.4\" fill=\"#e26f46\" fill-rule=\"evenodd\" fill-opacity=\"1\" stroke=\"#000000\" stroke-opacity=\"1\" stroke-width=\"3.2\"/>\n",
       "<circle clip-path=\"url(#clip502)\" cx=\"2045.35\" cy=\"1373.6\" r=\"14.4\" fill=\"#e26f46\" fill-rule=\"evenodd\" fill-opacity=\"1\" stroke=\"#000000\" stroke-opacity=\"1\" stroke-width=\"3.2\"/>\n",
       "<circle clip-path=\"url(#clip502)\" cx=\"309.542\" cy=\"1373.6\" r=\"14.4\" fill=\"#e26f46\" fill-rule=\"evenodd\" fill-opacity=\"1\" stroke=\"#000000\" stroke-opacity=\"1\" stroke-width=\"3.2\"/>\n",
       "<circle clip-path=\"url(#clip502)\" cx=\"2045.35\" cy=\"96.8254\" r=\"14.4\" fill=\"#e26f46\" fill-rule=\"evenodd\" fill-opacity=\"1\" stroke=\"#000000\" stroke-opacity=\"1\" stroke-width=\"3.2\"/>\n",
       "<circle clip-path=\"url(#clip502)\" cx=\"309.542\" cy=\"1373.6\" r=\"14.4\" fill=\"#e26f46\" fill-rule=\"evenodd\" fill-opacity=\"1\" stroke=\"#000000\" stroke-opacity=\"1\" stroke-width=\"3.2\"/>\n",
       "<circle clip-path=\"url(#clip502)\" cx=\"2045.35\" cy=\"96.8254\" r=\"14.4\" fill=\"#e26f46\" fill-rule=\"evenodd\" fill-opacity=\"1\" stroke=\"#000000\" stroke-opacity=\"1\" stroke-width=\"3.2\"/>\n",
       "<circle clip-path=\"url(#clip502)\" cx=\"309.542\" cy=\"96.8254\" r=\"14.4\" fill=\"#e26f46\" fill-rule=\"evenodd\" fill-opacity=\"1\" stroke=\"#000000\" stroke-opacity=\"1\" stroke-width=\"3.2\"/>\n",
       "<circle clip-path=\"url(#clip502)\" cx=\"2045.35\" cy=\"1373.6\" r=\"14.4\" fill=\"#e26f46\" fill-rule=\"evenodd\" fill-opacity=\"1\" stroke=\"#000000\" stroke-opacity=\"1\" stroke-width=\"3.2\"/>\n",
       "<circle clip-path=\"url(#clip502)\" cx=\"309.542\" cy=\"1373.6\" r=\"14.4\" fill=\"#e26f46\" fill-rule=\"evenodd\" fill-opacity=\"1\" stroke=\"#000000\" stroke-opacity=\"1\" stroke-width=\"3.2\"/>\n",
       "<circle clip-path=\"url(#clip502)\" cx=\"309.542\" cy=\"96.8254\" r=\"14.4\" fill=\"#e26f46\" fill-rule=\"evenodd\" fill-opacity=\"1\" stroke=\"#000000\" stroke-opacity=\"1\" stroke-width=\"3.2\"/>\n",
       "<circle clip-path=\"url(#clip502)\" cx=\"2045.35\" cy=\"1373.6\" r=\"14.4\" fill=\"#e26f46\" fill-rule=\"evenodd\" fill-opacity=\"1\" stroke=\"#000000\" stroke-opacity=\"1\" stroke-width=\"3.2\"/>\n",
       "<circle clip-path=\"url(#clip502)\" cx=\"2045.35\" cy=\"96.8254\" r=\"14.4\" fill=\"#e26f46\" fill-rule=\"evenodd\" fill-opacity=\"1\" stroke=\"#000000\" stroke-opacity=\"1\" stroke-width=\"3.2\"/>\n",
       "<circle clip-path=\"url(#clip502)\" cx=\"309.542\" cy=\"1373.6\" r=\"14.4\" fill=\"#e26f46\" fill-rule=\"evenodd\" fill-opacity=\"1\" stroke=\"#000000\" stroke-opacity=\"1\" stroke-width=\"3.2\"/>\n",
       "<circle clip-path=\"url(#clip502)\" cx=\"2045.35\" cy=\"96.8254\" r=\"14.4\" fill=\"#e26f46\" fill-rule=\"evenodd\" fill-opacity=\"1\" stroke=\"#000000\" stroke-opacity=\"1\" stroke-width=\"3.2\"/>\n",
       "<circle clip-path=\"url(#clip502)\" cx=\"309.542\" cy=\"1373.6\" r=\"14.4\" fill=\"#e26f46\" fill-rule=\"evenodd\" fill-opacity=\"1\" stroke=\"#000000\" stroke-opacity=\"1\" stroke-width=\"3.2\"/>\n",
       "<circle clip-path=\"url(#clip502)\" cx=\"2045.35\" cy=\"1373.6\" r=\"14.4\" fill=\"#e26f46\" fill-rule=\"evenodd\" fill-opacity=\"1\" stroke=\"#000000\" stroke-opacity=\"1\" stroke-width=\"3.2\"/>\n",
       "<circle clip-path=\"url(#clip502)\" cx=\"309.542\" cy=\"96.8254\" r=\"14.4\" fill=\"#e26f46\" fill-rule=\"evenodd\" fill-opacity=\"1\" stroke=\"#000000\" stroke-opacity=\"1\" stroke-width=\"3.2\"/>\n",
       "<circle clip-path=\"url(#clip502)\" cx=\"309.542\" cy=\"96.8254\" r=\"14.4\" fill=\"#e26f46\" fill-rule=\"evenodd\" fill-opacity=\"1\" stroke=\"#000000\" stroke-opacity=\"1\" stroke-width=\"3.2\"/>\n",
       "<circle clip-path=\"url(#clip502)\" cx=\"309.542\" cy=\"96.8254\" r=\"14.4\" fill=\"#e26f46\" fill-rule=\"evenodd\" fill-opacity=\"1\" stroke=\"#000000\" stroke-opacity=\"1\" stroke-width=\"3.2\"/>\n",
       "<circle clip-path=\"url(#clip502)\" cx=\"2045.35\" cy=\"1373.6\" r=\"14.4\" fill=\"#e26f46\" fill-rule=\"evenodd\" fill-opacity=\"1\" stroke=\"#000000\" stroke-opacity=\"1\" stroke-width=\"3.2\"/>\n",
       "<circle clip-path=\"url(#clip502)\" cx=\"309.542\" cy=\"96.8254\" r=\"14.4\" fill=\"#e26f46\" fill-rule=\"evenodd\" fill-opacity=\"1\" stroke=\"#000000\" stroke-opacity=\"1\" stroke-width=\"3.2\"/>\n",
       "<circle clip-path=\"url(#clip502)\" cx=\"2045.35\" cy=\"96.8254\" r=\"14.4\" fill=\"#e26f46\" fill-rule=\"evenodd\" fill-opacity=\"1\" stroke=\"#000000\" stroke-opacity=\"1\" stroke-width=\"3.2\"/>\n",
       "<circle clip-path=\"url(#clip502)\" cx=\"309.542\" cy=\"1373.6\" r=\"14.4\" fill=\"#e26f46\" fill-rule=\"evenodd\" fill-opacity=\"1\" stroke=\"#000000\" stroke-opacity=\"1\" stroke-width=\"3.2\"/>\n",
       "<circle clip-path=\"url(#clip502)\" cx=\"2045.35\" cy=\"1373.6\" r=\"14.4\" fill=\"#e26f46\" fill-rule=\"evenodd\" fill-opacity=\"1\" stroke=\"#000000\" stroke-opacity=\"1\" stroke-width=\"3.2\"/>\n",
       "<circle clip-path=\"url(#clip502)\" cx=\"309.542\" cy=\"1373.6\" r=\"14.4\" fill=\"#e26f46\" fill-rule=\"evenodd\" fill-opacity=\"1\" stroke=\"#000000\" stroke-opacity=\"1\" stroke-width=\"3.2\"/>\n",
       "<circle clip-path=\"url(#clip502)\" cx=\"309.542\" cy=\"96.8254\" r=\"14.4\" fill=\"#e26f46\" fill-rule=\"evenodd\" fill-opacity=\"1\" stroke=\"#000000\" stroke-opacity=\"1\" stroke-width=\"3.2\"/>\n",
       "<circle clip-path=\"url(#clip502)\" cx=\"309.542\" cy=\"1373.6\" r=\"14.4\" fill=\"#e26f46\" fill-rule=\"evenodd\" fill-opacity=\"1\" stroke=\"#000000\" stroke-opacity=\"1\" stroke-width=\"3.2\"/>\n",
       "<circle clip-path=\"url(#clip502)\" cx=\"2045.35\" cy=\"96.8254\" r=\"14.4\" fill=\"#e26f46\" fill-rule=\"evenodd\" fill-opacity=\"1\" stroke=\"#000000\" stroke-opacity=\"1\" stroke-width=\"3.2\"/>\n",
       "<circle clip-path=\"url(#clip502)\" cx=\"309.542\" cy=\"1373.6\" r=\"14.4\" fill=\"#e26f46\" fill-rule=\"evenodd\" fill-opacity=\"1\" stroke=\"#000000\" stroke-opacity=\"1\" stroke-width=\"3.2\"/>\n",
       "<circle clip-path=\"url(#clip502)\" cx=\"2045.35\" cy=\"1373.6\" r=\"14.4\" fill=\"#e26f46\" fill-rule=\"evenodd\" fill-opacity=\"1\" stroke=\"#000000\" stroke-opacity=\"1\" stroke-width=\"3.2\"/>\n",
       "<circle clip-path=\"url(#clip502)\" cx=\"309.542\" cy=\"96.8254\" r=\"14.4\" fill=\"#e26f46\" fill-rule=\"evenodd\" fill-opacity=\"1\" stroke=\"#000000\" stroke-opacity=\"1\" stroke-width=\"3.2\"/>\n",
       "<circle clip-path=\"url(#clip502)\" cx=\"2045.35\" cy=\"1373.6\" r=\"14.4\" fill=\"#e26f46\" fill-rule=\"evenodd\" fill-opacity=\"1\" stroke=\"#000000\" stroke-opacity=\"1\" stroke-width=\"3.2\"/>\n",
       "<circle clip-path=\"url(#clip502)\" cx=\"309.542\" cy=\"96.8254\" r=\"14.4\" fill=\"#e26f46\" fill-rule=\"evenodd\" fill-opacity=\"1\" stroke=\"#000000\" stroke-opacity=\"1\" stroke-width=\"3.2\"/>\n",
       "<circle clip-path=\"url(#clip502)\" cx=\"2045.35\" cy=\"96.8254\" r=\"14.4\" fill=\"#e26f46\" fill-rule=\"evenodd\" fill-opacity=\"1\" stroke=\"#000000\" stroke-opacity=\"1\" stroke-width=\"3.2\"/>\n",
       "<circle clip-path=\"url(#clip502)\" cx=\"309.542\" cy=\"1373.6\" r=\"14.4\" fill=\"#e26f46\" fill-rule=\"evenodd\" fill-opacity=\"1\" stroke=\"#000000\" stroke-opacity=\"1\" stroke-width=\"3.2\"/>\n",
       "<circle clip-path=\"url(#clip502)\" cx=\"2045.35\" cy=\"1373.6\" r=\"14.4\" fill=\"#e26f46\" fill-rule=\"evenodd\" fill-opacity=\"1\" stroke=\"#000000\" stroke-opacity=\"1\" stroke-width=\"3.2\"/>\n",
       "<circle clip-path=\"url(#clip502)\" cx=\"309.542\" cy=\"96.8254\" r=\"14.4\" fill=\"#e26f46\" fill-rule=\"evenodd\" fill-opacity=\"1\" stroke=\"#000000\" stroke-opacity=\"1\" stroke-width=\"3.2\"/>\n",
       "<circle clip-path=\"url(#clip502)\" cx=\"2045.35\" cy=\"96.8254\" r=\"14.4\" fill=\"#e26f46\" fill-rule=\"evenodd\" fill-opacity=\"1\" stroke=\"#000000\" stroke-opacity=\"1\" stroke-width=\"3.2\"/>\n",
       "<circle clip-path=\"url(#clip502)\" cx=\"309.542\" cy=\"1373.6\" r=\"14.4\" fill=\"#e26f46\" fill-rule=\"evenodd\" fill-opacity=\"1\" stroke=\"#000000\" stroke-opacity=\"1\" stroke-width=\"3.2\"/>\n",
       "<circle clip-path=\"url(#clip502)\" cx=\"309.542\" cy=\"1373.6\" r=\"14.4\" fill=\"#e26f46\" fill-rule=\"evenodd\" fill-opacity=\"1\" stroke=\"#000000\" stroke-opacity=\"1\" stroke-width=\"3.2\"/>\n",
       "<circle clip-path=\"url(#clip502)\" cx=\"2045.35\" cy=\"96.8254\" r=\"14.4\" fill=\"#e26f46\" fill-rule=\"evenodd\" fill-opacity=\"1\" stroke=\"#000000\" stroke-opacity=\"1\" stroke-width=\"3.2\"/>\n",
       "<circle clip-path=\"url(#clip502)\" cx=\"2045.35\" cy=\"1373.6\" r=\"14.4\" fill=\"#e26f46\" fill-rule=\"evenodd\" fill-opacity=\"1\" stroke=\"#000000\" stroke-opacity=\"1\" stroke-width=\"3.2\"/>\n",
       "<circle clip-path=\"url(#clip502)\" cx=\"309.542\" cy=\"96.8254\" r=\"14.4\" fill=\"#e26f46\" fill-rule=\"evenodd\" fill-opacity=\"1\" stroke=\"#000000\" stroke-opacity=\"1\" stroke-width=\"3.2\"/>\n",
       "<circle clip-path=\"url(#clip502)\" cx=\"2045.35\" cy=\"96.8254\" r=\"14.4\" fill=\"#e26f46\" fill-rule=\"evenodd\" fill-opacity=\"1\" stroke=\"#000000\" stroke-opacity=\"1\" stroke-width=\"3.2\"/>\n",
       "<circle clip-path=\"url(#clip502)\" cx=\"309.542\" cy=\"96.8254\" r=\"14.4\" fill=\"#e26f46\" fill-rule=\"evenodd\" fill-opacity=\"1\" stroke=\"#000000\" stroke-opacity=\"1\" stroke-width=\"3.2\"/>\n",
       "<circle clip-path=\"url(#clip502)\" cx=\"2045.35\" cy=\"1373.6\" r=\"14.4\" fill=\"#e26f46\" fill-rule=\"evenodd\" fill-opacity=\"1\" stroke=\"#000000\" stroke-opacity=\"1\" stroke-width=\"3.2\"/>\n",
       "<circle clip-path=\"url(#clip502)\" cx=\"309.542\" cy=\"1373.6\" r=\"14.4\" fill=\"#e26f46\" fill-rule=\"evenodd\" fill-opacity=\"1\" stroke=\"#000000\" stroke-opacity=\"1\" stroke-width=\"3.2\"/>\n",
       "<circle clip-path=\"url(#clip502)\" cx=\"309.542\" cy=\"1373.6\" r=\"14.4\" fill=\"#e26f46\" fill-rule=\"evenodd\" fill-opacity=\"1\" stroke=\"#000000\" stroke-opacity=\"1\" stroke-width=\"3.2\"/>\n",
       "<circle clip-path=\"url(#clip502)\" cx=\"309.542\" cy=\"1373.6\" r=\"14.4\" fill=\"#e26f46\" fill-rule=\"evenodd\" fill-opacity=\"1\" stroke=\"#000000\" stroke-opacity=\"1\" stroke-width=\"3.2\"/>\n",
       "<circle clip-path=\"url(#clip502)\" cx=\"2045.35\" cy=\"1373.6\" r=\"14.4\" fill=\"#e26f46\" fill-rule=\"evenodd\" fill-opacity=\"1\" stroke=\"#000000\" stroke-opacity=\"1\" stroke-width=\"3.2\"/>\n",
       "<circle clip-path=\"url(#clip502)\" cx=\"309.542\" cy=\"1373.6\" r=\"14.4\" fill=\"#e26f46\" fill-rule=\"evenodd\" fill-opacity=\"1\" stroke=\"#000000\" stroke-opacity=\"1\" stroke-width=\"3.2\"/>\n",
       "<circle clip-path=\"url(#clip502)\" cx=\"2045.35\" cy=\"96.8254\" r=\"14.4\" fill=\"#e26f46\" fill-rule=\"evenodd\" fill-opacity=\"1\" stroke=\"#000000\" stroke-opacity=\"1\" stroke-width=\"3.2\"/>\n",
       "<defs>\n",
       "  <clipPath id=\"clip503\">\n",
       "    <rect x=\"2160\" y=\"47\" width=\"73\" height=\"1377\"/>\n",
       "  </clipPath>\n",
       "</defs>\n",
       "<g clip-path=\"url(#clip503)\">\n",
       "<image width=\"72\" height=\"1376\" xlink:href=\"data:image/png;base64,\n",
       "iVBORw0KGgoAAAANSUhEUgAAAEgAAAVgCAYAAADsKhu7AAAL6UlEQVR4nO3dwZEjNxBFQVBR/lsh\n",
       "L6UFZIHqHclDpgUTL35wCXTP7Off+/c7/K+/vv0D/DqBgkBBoCBQmPv+/fbP8NMsKAgUBAoChXnv\n",
       "z7d/hp9mQUGgIFAQKAgUHDWCBQWBgkBBoDDPh/TKgoJAQaAgUJh3fUhvLCgIFAQKAgWBgqNGsKAg\n",
       "UBAoCBR8SAcLCgIFgYJAwX1QsKAgUBAoCBQECnMcNVYWFAQKAgWBgvugYEFBoCBQECgIFOa4MFtZ\n",
       "UBAoCBQECnPuP9/+GX6aBQWBgkBBoODSPlhQECgIFAQKAgX3QcGCgkBBoCBQ8CEdLCgIFAQKAgX3\n",
       "QcGCgkBBoCBQECjMx1FjZUFBoCBQECjMuf5XhI0FBYGCQEGgIFBw1AgWFAQKAgWBgqNGsKAgUBAo\n",
       "CBS8HxQsKAgUBAoCBYHCfBw1VhYUBAoCBYGCt1yDBQWBgkBBoOCbdLCgIFAQKAgUBAoePQcLCgIF\n",
       "gYJAwVEjWFAQKAgUBAoCBUeNYEFBoCBQECg4agQLCgIFgYJAYc693/4ZfpoFBYGCQEGgIFBw1AgW\n",
       "FAQKAgWBgkv7YEFBoCBQECj4kA4WFAQKAgWBgkBhPp5qrCwoCBQECgIFR41gQUGgIFAQKAgUvEAV\n",
       "LCgIFAQKAgX3QcGCgkBBoCBQcB8ULCgIFAQKAgWBgvugYEFBoCBQECj4kA4WFAQKAgWBgl/qDRYU\n",
       "BAoCBYGCQMFRI1hQECgIFAQKPqSDBQWBgkBBoCBQ8K9YsKAgUBAoCBR8SAcLCgIFgYJAYc7zIb2x\n",
       "oCBQECgIFAQKjhrBgoJAQaAgUPAhHSwoCBQECgIFH9LBgoJAQaAgUBAozLnv2z/DT7OgIFAQKAgU\n",
       "HDWCBQWBgkBBoCBQcNQIFhQECgIFgYKjRrCgIFAQKAgUfJMOFhQECgIFgYJAYY6TxsqCgkBBoCBQ\n",
       "mPMcNTYWFAQKAgWBgm/SwYKCQEGgIFAQKPhXLFhQECgIFAQK44/g7SwoCBQECgIFgYKjRrCgIFAQ\n",
       "KAgUfEgHCwoCBYGCQGHO/Xz7Z/hpFhQECgIFgYJAYd7zr9jGgoJAQaAgUHAfFCwoCBQECgIF90HB\n",
       "goJAQaAgUBAozLsabdQJAgWBgkDBUSNYUBAoCBQECgKFOR49rywoCBQECgKFeY4aKwsKAgWBgkBh\n",
       "jkv7lTpBoCBQECgIFBw1ggUFgYJAQaDg0j5YUBAoCBQECl7iDOoEgYJAQaAgUPCWa7CgIFAQKAgU\n",
       "XNoHCwoCBYGCQEGgMO9ptFEnCBQECgIF90HBgoJAQaAgUHAfFCwoCBQECgIFgcIc90ErdYJAQaAg\n",
       "UHDUCBYUBAoCBYGCD+lgQUGgIFAQKAgU/NZzsKAgUBAoCBT81nNQJwgUBAoCBYHCPEeNlQUFgYJA\n",
       "QaDgqUawoCBQECgIFPyvCEGdIFAQKAgUBArug4IFBYGCQEGg4D4oWFAQKAgUBAq+SQcLCgIFgYJA\n",
       "QaDgLdegThAoCBQECo4awYKCQEGgIFAQKHiqESwoCBQECgIFR41gQUGgIFAQKPiva4IFBYGCQEGg\n",
       "IFDwv2QGdYJAQaAgUHAfFCwoCBQECgIFT1aDBQWBgkBBoCBQcNQIFhQECgIFgcJcH9IrCwoCBYGC\n",
       "QEGg4LeegzpBoCBQECi4DwoWFAQKAgWBgg/pYEFBoCBQECgIFLxAFSwoCBQECgIFR41gQUGgIFAQ\n",
       "KPiQDhYUBAoCBYGCQMGfpgjqBIGCQEGgMNel/cqCgkBBoCBQECi4MAsWFAQKAgWBgg/pYEFBoCBQ\n",
       "ECj4kA4WFAQKAgWBgkDBH1gKFhQECgIFgYKjRrCgIFAQKAgUfEgHCwoCBYGCQEGg4FcRgjpBoCBQ\n",
       "ECj4VYRgQUGgIFAQKAgUXJgFCwoCBYGCQMGHdLCgIFAQKAgUvMQZLCgIFAQKAgWBgqNGsKAgUBAo\n",
       "CBTmHR/SGwsKAgWBgkDBfVCwoCBQECgIFAQK7oOCBQWBgkBBoOCoESwoCBQECgIFgYKjRrCgIFAQ\n",
       "KAgUHDWCBQWBgkBBoOCbdLCgIFAQKAgUBAr+FQsWFAQKAgWBwly/irCyoCBQECgIFHyTDhYUBAoC\n",
       "BYGCQMGj52BBQaAgUBAozHvf/hF+mwUFgYJAQaAgUHDUCBYUBAoCBYGCv4IXLCgIFAQKAgXfpIMF\n",
       "BYGCQEGgIFDwAlWwoCBQECgIFPwqQrCgIFAQKAgUvB8ULCgIFAQKAgWBgqcawYKCQEGgIFBwaR8s\n",
       "KAgUBAoCBYGCpxrBgoJAQaAgUHAfFCwoCBQECgIFj56DBQWBgkBBoCBQcB8ULCgIFAQKAgWPnoMF\n",
       "BYGCQEGgMPfbP8GPs6AgUBAoCBQECo4awYKCQEGgIFDwflCwoCBQECgIFAQKLsyCBQWBgkBBoOA+\n",
       "KFhQECgIFAQKvkkHCwoCBYGCQEGg4KgRLCgIFAQKAgWPnoMFBYGCQEGgMP4yxc6CgkBBoCBQECg4\n",
       "agQLCgIFgYJAwaPnYEFBoCBQECgIFDx6DhYUBAoCBYGCo0awoCBQECgIFHyTDhYUBAoCBYGCQGGu\n",
       "N6hWFhQECgIFgYL7oGBBQaAgUBAouA8KFhQECgIFgYJAwVEjWFAQKAgUBArzXNqvLCgIFAQKAgWB\n",
       "wtzjwmxjQUGgIFAQKHg/KFhQECgIFAQK/gpesKAgUBAoCBQECv4KXrCgIFAQKAgUPHoOFhQECgIF\n",
       "gYKXOIMFBYGCQEGgIFDwC3XBgoJAQaAgUHDUCBYUBAoCBYGCQMFbrsGCgkBBoCBQ8JZrsKAgUBAo\n",
       "CBR8kw4WFAQKAgWBgkDBW67BgoJAQaAgUPD3g4IFBYGCQEGg4D4oWFAQKAgUBAoCBY+egwUFgYJA\n",
       "QaDgqBEsKAgUBAoCBYGCo0awoCBQECgIFBw1ggUFgYJAQaDgQzpYUBAoCBQECgIF90HBgoJAQaAg\n",
       "UHDUCBYUBAoCBYGCb9LBgoJAQaAgUBAoOGoECwoCBYGCQMHfDwoWFAQKAgWBgkDB/+0TLCgIFAQK\n",
       "AgX3QcGCgkBBoCBQmHd8Sm8sKAgUBAoCBYGCo0awoCBQECgIFDx6DhYUBAoCBYGCJ6vBgoJAQaAg\n",
       "UBAouA8KFhQECgIFgYJHz8GCgkBBoCBQECg4agQLCgIFgYJAwR9YChYUBAoCBYHCXC8IrSwoCBQE\n",
       "CgIFgYIXqIIFBYGCQEGgMM9RY2VBQaAgUBAo+CYdLCgIFAQKAgWBgqcawYKCQEGgIFDwflCwoCBQ\n",
       "ECgIFAQKc/1C3cqCgkBBoCBQcB8ULCgIFAQKAgV/miJYUBAoCBQECgIFL1AFCwoCBYGCQMGlfbCg\n",
       "IFAQKAgU3AcFCwoCBYGCQEGgMPe4EdpYUBAoCBQECu6DggUFgYJAQaAgUPCvWLCgIFAQKAgUPNUI\n",
       "FhQECgIFgYJL+2BBQaAgUBAoCBTmfhw1NhYUBAoCBYGCo0awoCBQECgIFOb5kF5ZUBAoCBQECgIF\n",
       "R41gQUGgIFAQKMz9+JDeWFAQKAgUBAoCBUeNYEFBoCBQECh4qhEsKAgUBAoCBd+kgwUFgYJAQaAg\n",
       "UPCvWLCgIFAQKAgUPHoOFhQECgIFgcK88+fbP8NPs6AgUBAoCBQECu6DggUFgYJAQaDg/aBgQUGg\n",
       "IFAQKAgU5j4XZhsLCgIFgYJAwVEjWFAQKAgUBApzPXpeWVAQKAgUBAoCBUeNYEFBoCBQECg4agQL\n",
       "CgIFgYJAYd7zTXpjQUGgIFAQKAgU3AcFCwoCBYGCQMFLnMGCgkBBoCBQECg4agQLCgIFgYJAYZ6j\n",
       "xsqCgkBBoCBQ8E06WFAQKAgUBAoChbleoFpZUBAoCBQECv7gdrCgIFAQKAgU/CpCsKAgUBAoCBQE\n",
       "Cp5qBAsKAgWBgkDBUSNYUBAoCBQECgIF/4oFCwoCBYGCQMGj52BBQaAgUBAo+CYdLCgIFAQKAgWB\n",
       "whyPnlcWFAQKAgWBgqNGsKAgUBAoCBS8xBksKAgUBAoCBYHCHEeNlQUFgYJAQaDg/aBgQUGgIFAQ\n",
       "KAgUPHoOFhQECgIFgYL7oGBBQaAgUBAozDvv2z/DT7OgIFAQKAgUBArug4IFBYGCQEGgMMdRY2VB\n",
       "QaAgUBAo/AdhU+3PqlcPeQAAAABJRU5ErkJggg==\n",
       "\" transform=\"translate(2161, 47)\"/>\n",
       "</g>\n",
       "<path clip-path=\"url(#clip500)\" d=\"M2280.7 1232.29 Q2277.09 1232.29 2275.26 1235.86 Q2273.45 1239.4 2273.45 1246.53 Q2273.45 1253.63 2275.26 1257.2 Q2277.09 1260.74 2280.7 1260.74 Q2284.33 1260.74 2286.14 1257.2 Q2287.97 1253.63 2287.97 1246.53 Q2287.97 1239.4 2286.14 1235.86 Q2284.33 1232.29 2280.7 1232.29 M2280.7 1228.59 Q2286.51 1228.59 2289.57 1233.19 Q2292.64 1237.78 2292.64 1246.53 Q2292.64 1255.25 2289.57 1259.86 Q2286.51 1264.44 2280.7 1264.44 Q2274.89 1264.44 2271.81 1259.86 Q2268.76 1255.25 2268.76 1246.53 Q2268.76 1237.78 2271.81 1233.19 Q2274.89 1228.59 2280.7 1228.59 Z\" fill=\"#000000\" fill-rule=\"nonzero\" fill-opacity=\"1\" /><path clip-path=\"url(#clip500)\" d=\"M2300.86 1257.89 L2305.75 1257.89 L2305.75 1263.77 L2300.86 1263.77 L2300.86 1257.89 Z\" fill=\"#000000\" fill-rule=\"nonzero\" fill-opacity=\"1\" /><path clip-path=\"url(#clip500)\" d=\"M2325.93 1232.29 Q2322.32 1232.29 2320.49 1235.86 Q2318.69 1239.4 2318.69 1246.53 Q2318.69 1253.63 2320.49 1257.2 Q2322.32 1260.74 2325.93 1260.74 Q2329.57 1260.74 2331.37 1257.2 Q2333.2 1253.63 2333.2 1246.53 Q2333.2 1239.4 2331.37 1235.86 Q2329.57 1232.29 2325.93 1232.29 M2325.93 1228.59 Q2331.74 1228.59 2334.8 1233.19 Q2337.88 1237.78 2337.88 1246.53 Q2337.88 1255.25 2334.8 1259.86 Q2331.74 1264.44 2325.93 1264.44 Q2320.12 1264.44 2317.04 1259.86 Q2313.99 1255.25 2313.99 1246.53 Q2313.99 1237.78 2317.04 1233.19 Q2320.12 1228.59 2325.93 1228.59 Z\" fill=\"#000000\" fill-rule=\"nonzero\" fill-opacity=\"1\" /><path clip-path=\"url(#clip500)\" d=\"M2356.09 1232.29 Q2352.48 1232.29 2350.65 1235.86 Q2348.85 1239.4 2348.85 1246.53 Q2348.85 1253.63 2350.65 1257.2 Q2352.48 1260.74 2356.09 1260.74 Q2359.73 1260.74 2361.53 1257.2 Q2363.36 1253.63 2363.36 1246.53 Q2363.36 1239.4 2361.53 1235.86 Q2359.73 1232.29 2356.09 1232.29 M2356.09 1228.59 Q2361.9 1228.59 2364.96 1233.19 Q2368.04 1237.78 2368.04 1246.53 Q2368.04 1255.25 2364.96 1259.86 Q2361.9 1264.44 2356.09 1264.44 Q2350.28 1264.44 2347.2 1259.86 Q2344.15 1255.25 2344.15 1246.53 Q2344.15 1237.78 2347.2 1233.19 Q2350.28 1228.59 2356.09 1228.59 Z\" fill=\"#000000\" fill-rule=\"nonzero\" fill-opacity=\"1\" /><path clip-path=\"url(#clip500)\" d=\"M2386.26 1247.36 Q2382.92 1247.36 2381 1249.14 Q2379.1 1250.93 2379.1 1254.05 Q2379.1 1257.18 2381 1258.96 Q2382.92 1260.74 2386.26 1260.74 Q2389.59 1260.74 2391.51 1258.96 Q2393.43 1257.15 2393.43 1254.05 Q2393.43 1250.93 2391.51 1249.14 Q2389.61 1247.36 2386.26 1247.36 M2381.58 1245.37 Q2378.57 1244.63 2376.88 1242.57 Q2375.21 1240.51 2375.21 1237.55 Q2375.21 1233.4 2378.15 1230.99 Q2381.12 1228.59 2386.26 1228.59 Q2391.42 1228.59 2394.36 1230.99 Q2397.3 1233.4 2397.3 1237.55 Q2397.3 1240.51 2395.61 1242.57 Q2393.94 1244.63 2390.95 1245.37 Q2394.33 1246.16 2396.21 1248.45 Q2398.11 1250.74 2398.11 1254.05 Q2398.11 1259.07 2395.03 1261.76 Q2391.97 1264.44 2386.26 1264.44 Q2380.54 1264.44 2377.46 1261.76 Q2374.4 1259.07 2374.4 1254.05 Q2374.4 1250.74 2376.3 1248.45 Q2378.2 1246.16 2381.58 1245.37 M2379.87 1237.99 Q2379.87 1240.67 2381.53 1242.18 Q2383.22 1243.68 2386.26 1243.68 Q2389.26 1243.68 2390.95 1242.18 Q2392.67 1240.67 2392.67 1237.99 Q2392.67 1235.3 2390.95 1233.8 Q2389.26 1232.29 2386.26 1232.29 Q2383.22 1232.29 2381.53 1233.8 Q2379.87 1235.3 2379.87 1237.99 Z\" fill=\"#000000\" fill-rule=\"nonzero\" fill-opacity=\"1\" /><path clip-path=\"url(#clip500)\" d=\"M2417 1244.63 Q2413.85 1244.63 2412 1246.78 Q2410.17 1248.93 2410.17 1252.68 Q2410.17 1256.41 2412 1258.59 Q2413.85 1260.74 2417 1260.74 Q2420.14 1260.74 2421.97 1258.59 Q2423.82 1256.41 2423.82 1252.68 Q2423.82 1248.93 2421.97 1246.78 Q2420.14 1244.63 2417 1244.63 M2426.28 1229.98 L2426.28 1234.24 Q2424.52 1233.4 2422.71 1232.96 Q2420.93 1232.52 2419.17 1232.52 Q2414.54 1232.52 2412.09 1235.65 Q2409.66 1238.77 2409.31 1245.09 Q2410.68 1243.08 2412.74 1242.01 Q2414.8 1240.93 2417.27 1240.93 Q2422.48 1240.93 2425.49 1244.1 Q2428.52 1247.24 2428.52 1252.68 Q2428.52 1258.01 2425.38 1261.23 Q2422.23 1264.44 2417 1264.44 Q2411 1264.44 2407.83 1259.86 Q2404.66 1255.25 2404.66 1246.53 Q2404.66 1238.33 2408.55 1233.47 Q2412.44 1228.59 2418.99 1228.59 Q2420.75 1228.59 2422.53 1228.93 Q2424.33 1229.28 2426.28 1229.98 Z\" fill=\"#000000\" fill-rule=\"nonzero\" fill-opacity=\"1\" /><path clip-path=\"url(#clip500)\" d=\"M2435.4 1229.21 L2457.62 1229.21 L2457.62 1231.2 L2445.07 1263.77 L2440.19 1263.77 L2452 1233.15 L2435.4 1233.15 L2435.4 1229.21 Z\" fill=\"#000000\" fill-rule=\"nonzero\" fill-opacity=\"1\" /><path clip-path=\"url(#clip500)\" d=\"M2466.79 1229.21 L2485.14 1229.21 L2485.14 1233.15 L2471.07 1233.15 L2471.07 1241.62 Q2472.09 1241.27 2473.11 1241.11 Q2474.13 1240.93 2475.14 1240.93 Q2480.93 1240.93 2484.31 1244.1 Q2487.69 1247.27 2487.69 1252.68 Q2487.69 1258.26 2484.22 1261.36 Q2480.75 1264.44 2474.43 1264.44 Q2472.25 1264.44 2469.98 1264.07 Q2467.74 1263.7 2465.33 1262.96 L2465.33 1258.26 Q2467.41 1259.4 2469.63 1259.95 Q2471.86 1260.51 2474.33 1260.51 Q2478.34 1260.51 2480.68 1258.4 Q2483.01 1256.3 2483.01 1252.68 Q2483.01 1249.07 2480.68 1246.97 Q2478.34 1244.86 2474.33 1244.86 Q2472.46 1244.86 2470.58 1245.28 Q2468.73 1245.69 2466.79 1246.57 L2466.79 1229.21 Z\" fill=\"#000000\" fill-rule=\"nonzero\" fill-opacity=\"1\" /><path clip-path=\"url(#clip500)\" d=\"M2280.7 1044.65 Q2277.09 1044.65 2275.26 1048.22 Q2273.45 1051.76 2273.45 1058.89 Q2273.45 1065.99 2275.26 1069.56 Q2277.09 1073.1 2280.7 1073.1 Q2284.33 1073.1 2286.14 1069.56 Q2287.97 1065.99 2287.97 1058.89 Q2287.97 1051.76 2286.14 1048.22 Q2284.33 1044.65 2280.7 1044.65 M2280.7 1040.95 Q2286.51 1040.95 2289.57 1045.55 Q2292.64 1050.14 2292.64 1058.89 Q2292.64 1067.61 2289.57 1072.22 Q2286.51 1076.8 2280.7 1076.8 Q2274.89 1076.8 2271.81 1072.22 Q2268.76 1067.61 2268.76 1058.89 Q2268.76 1050.14 2271.81 1045.55 Q2274.89 1040.95 2280.7 1040.95 Z\" fill=\"#000000\" fill-rule=\"nonzero\" fill-opacity=\"1\" /><path clip-path=\"url(#clip500)\" d=\"M2300.86 1070.25 L2305.75 1070.25 L2305.75 1076.13 L2300.86 1076.13 L2300.86 1070.25 Z\" fill=\"#000000\" fill-rule=\"nonzero\" fill-opacity=\"1\" /><path clip-path=\"url(#clip500)\" d=\"M2325.93 1044.65 Q2322.32 1044.65 2320.49 1048.22 Q2318.69 1051.76 2318.69 1058.89 Q2318.69 1065.99 2320.49 1069.56 Q2322.32 1073.1 2325.93 1073.1 Q2329.57 1073.1 2331.37 1069.56 Q2333.2 1065.99 2333.2 1058.89 Q2333.2 1051.76 2331.37 1048.22 Q2329.57 1044.65 2325.93 1044.65 M2325.93 1040.95 Q2331.74 1040.95 2334.8 1045.55 Q2337.88 1050.14 2337.88 1058.89 Q2337.88 1067.61 2334.8 1072.22 Q2331.74 1076.8 2325.93 1076.8 Q2320.12 1076.8 2317.04 1072.22 Q2313.99 1067.61 2313.99 1058.89 Q2313.99 1050.14 2317.04 1045.55 Q2320.12 1040.95 2325.93 1040.95 Z\" fill=\"#000000\" fill-rule=\"nonzero\" fill-opacity=\"1\" /><path clip-path=\"url(#clip500)\" d=\"M2356.09 1044.65 Q2352.48 1044.65 2350.65 1048.22 Q2348.85 1051.76 2348.85 1058.89 Q2348.85 1065.99 2350.65 1069.56 Q2352.48 1073.1 2356.09 1073.1 Q2359.73 1073.1 2361.53 1069.56 Q2363.36 1065.99 2363.36 1058.89 Q2363.36 1051.76 2361.53 1048.22 Q2359.73 1044.65 2356.09 1044.65 M2356.09 1040.95 Q2361.9 1040.95 2364.96 1045.55 Q2368.04 1050.14 2368.04 1058.89 Q2368.04 1067.61 2364.96 1072.22 Q2361.9 1076.8 2356.09 1076.8 Q2350.28 1076.8 2347.2 1072.22 Q2344.15 1067.61 2344.15 1058.89 Q2344.15 1050.14 2347.2 1045.55 Q2350.28 1040.95 2356.09 1040.95 Z\" fill=\"#000000\" fill-rule=\"nonzero\" fill-opacity=\"1\" /><path clip-path=\"url(#clip500)\" d=\"M2386.26 1059.72 Q2382.92 1059.72 2381 1061.5 Q2379.1 1063.29 2379.1 1066.41 Q2379.1 1069.54 2381 1071.32 Q2382.92 1073.1 2386.26 1073.1 Q2389.59 1073.1 2391.51 1071.32 Q2393.43 1069.51 2393.43 1066.41 Q2393.43 1063.29 2391.51 1061.5 Q2389.61 1059.72 2386.26 1059.72 M2381.58 1057.73 Q2378.57 1056.99 2376.88 1054.93 Q2375.21 1052.87 2375.21 1049.91 Q2375.21 1045.76 2378.15 1043.35 Q2381.12 1040.95 2386.26 1040.95 Q2391.42 1040.95 2394.36 1043.35 Q2397.3 1045.76 2397.3 1049.91 Q2397.3 1052.87 2395.61 1054.93 Q2393.94 1056.99 2390.95 1057.73 Q2394.33 1058.52 2396.21 1060.81 Q2398.11 1063.1 2398.11 1066.41 Q2398.11 1071.43 2395.03 1074.12 Q2391.97 1076.8 2386.26 1076.8 Q2380.54 1076.8 2377.46 1074.12 Q2374.4 1071.43 2374.4 1066.41 Q2374.4 1063.1 2376.3 1060.81 Q2378.2 1058.52 2381.58 1057.73 M2379.87 1050.35 Q2379.87 1053.03 2381.53 1054.54 Q2383.22 1056.04 2386.26 1056.04 Q2389.26 1056.04 2390.95 1054.54 Q2392.67 1053.03 2392.67 1050.35 Q2392.67 1047.66 2390.95 1046.16 Q2389.26 1044.65 2386.26 1044.65 Q2383.22 1044.65 2381.53 1046.16 Q2379.87 1047.66 2379.87 1050.35 Z\" fill=\"#000000\" fill-rule=\"nonzero\" fill-opacity=\"1\" /><path clip-path=\"url(#clip500)\" d=\"M2405.24 1041.57 L2427.46 1041.57 L2427.46 1043.56 L2414.91 1076.13 L2410.03 1076.13 L2421.83 1045.51 L2405.24 1045.51 L2405.24 1041.57 Z\" fill=\"#000000\" fill-rule=\"nonzero\" fill-opacity=\"1\" /><path clip-path=\"url(#clip500)\" d=\"M2446.58 1044.65 Q2442.97 1044.65 2441.14 1048.22 Q2439.33 1051.76 2439.33 1058.89 Q2439.33 1065.99 2441.14 1069.56 Q2442.97 1073.1 2446.58 1073.1 Q2450.21 1073.1 2452.02 1069.56 Q2453.85 1065.99 2453.85 1058.89 Q2453.85 1051.76 2452.02 1048.22 Q2450.21 1044.65 2446.58 1044.65 M2446.58 1040.95 Q2452.39 1040.95 2455.44 1045.55 Q2458.52 1050.14 2458.52 1058.89 Q2458.52 1067.61 2455.44 1072.22 Q2452.39 1076.8 2446.58 1076.8 Q2440.77 1076.8 2437.69 1072.22 Q2434.63 1067.61 2434.63 1058.89 Q2434.63 1050.14 2437.69 1045.55 Q2440.77 1040.95 2446.58 1040.95 Z\" fill=\"#000000\" fill-rule=\"nonzero\" fill-opacity=\"1\" /><path clip-path=\"url(#clip500)\" d=\"M2476.74 1044.65 Q2473.13 1044.65 2471.3 1048.22 Q2469.5 1051.76 2469.5 1058.89 Q2469.5 1065.99 2471.3 1069.56 Q2473.13 1073.1 2476.74 1073.1 Q2480.38 1073.1 2482.18 1069.56 Q2484.01 1065.99 2484.01 1058.89 Q2484.01 1051.76 2482.18 1048.22 Q2480.38 1044.65 2476.74 1044.65 M2476.74 1040.95 Q2482.55 1040.95 2485.61 1045.55 Q2488.69 1050.14 2488.69 1058.89 Q2488.69 1067.61 2485.61 1072.22 Q2482.55 1076.8 2476.74 1076.8 Q2470.93 1076.8 2467.85 1072.22 Q2464.8 1067.61 2464.8 1058.89 Q2464.8 1050.14 2467.85 1045.55 Q2470.93 1040.95 2476.74 1040.95 Z\" fill=\"#000000\" fill-rule=\"nonzero\" fill-opacity=\"1\" /><path clip-path=\"url(#clip500)\" d=\"M2280.7 857.011 Q2277.09 857.011 2275.26 860.576 Q2273.45 864.118 2273.45 871.247 Q2273.45 878.354 2275.26 881.918 Q2277.09 885.46 2280.7 885.46 Q2284.33 885.46 2286.14 881.918 Q2287.97 878.354 2287.97 871.247 Q2287.97 864.118 2286.14 860.576 Q2284.33 857.011 2280.7 857.011 M2280.7 853.307 Q2286.51 853.307 2289.57 857.914 Q2292.64 862.497 2292.64 871.247 Q2292.64 879.974 2289.57 884.58 Q2286.51 889.164 2280.7 889.164 Q2274.89 889.164 2271.81 884.58 Q2268.76 879.974 2268.76 871.247 Q2268.76 862.497 2271.81 857.914 Q2274.89 853.307 2280.7 853.307 Z\" fill=\"#000000\" fill-rule=\"nonzero\" fill-opacity=\"1\" /><path clip-path=\"url(#clip500)\" d=\"M2300.86 882.613 L2305.75 882.613 L2305.75 888.492 L2300.86 888.492 L2300.86 882.613 Z\" fill=\"#000000\" fill-rule=\"nonzero\" fill-opacity=\"1\" /><path clip-path=\"url(#clip500)\" d=\"M2325.93 857.011 Q2322.32 857.011 2320.49 860.576 Q2318.69 864.118 2318.69 871.247 Q2318.69 878.354 2320.49 881.918 Q2322.32 885.46 2325.93 885.46 Q2329.57 885.46 2331.37 881.918 Q2333.2 878.354 2333.2 871.247 Q2333.2 864.118 2331.37 860.576 Q2329.57 857.011 2325.93 857.011 M2325.93 853.307 Q2331.74 853.307 2334.8 857.914 Q2337.88 862.497 2337.88 871.247 Q2337.88 879.974 2334.8 884.58 Q2331.74 889.164 2325.93 889.164 Q2320.12 889.164 2317.04 884.58 Q2313.99 879.974 2313.99 871.247 Q2313.99 862.497 2317.04 857.914 Q2320.12 853.307 2325.93 853.307 Z\" fill=\"#000000\" fill-rule=\"nonzero\" fill-opacity=\"1\" /><path clip-path=\"url(#clip500)\" d=\"M2356.09 857.011 Q2352.48 857.011 2350.65 860.576 Q2348.85 864.118 2348.85 871.247 Q2348.85 878.354 2350.65 881.918 Q2352.48 885.46 2356.09 885.46 Q2359.73 885.46 2361.53 881.918 Q2363.36 878.354 2363.36 871.247 Q2363.36 864.118 2361.53 860.576 Q2359.73 857.011 2356.09 857.011 M2356.09 853.307 Q2361.9 853.307 2364.96 857.914 Q2368.04 862.497 2368.04 871.247 Q2368.04 879.974 2364.96 884.58 Q2361.9 889.164 2356.09 889.164 Q2350.28 889.164 2347.2 884.58 Q2344.15 879.974 2344.15 871.247 Q2344.15 862.497 2347.2 857.914 Q2350.28 853.307 2356.09 853.307 Z\" fill=\"#000000\" fill-rule=\"nonzero\" fill-opacity=\"1\" /><path clip-path=\"url(#clip500)\" d=\"M2386.26 872.08 Q2382.92 872.08 2381 873.863 Q2379.1 875.645 2379.1 878.77 Q2379.1 881.895 2381 883.678 Q2382.92 885.46 2386.26 885.46 Q2389.59 885.46 2391.51 883.678 Q2393.43 881.872 2393.43 878.77 Q2393.43 875.645 2391.51 873.863 Q2389.61 872.08 2386.26 872.08 M2381.58 870.09 Q2378.57 869.349 2376.88 867.289 Q2375.21 865.229 2375.21 862.266 Q2375.21 858.122 2378.15 855.715 Q2381.12 853.307 2386.26 853.307 Q2391.42 853.307 2394.36 855.715 Q2397.3 858.122 2397.3 862.266 Q2397.3 865.229 2395.61 867.289 Q2393.94 869.349 2390.95 870.09 Q2394.33 870.877 2396.21 873.168 Q2398.11 875.46 2398.11 878.77 Q2398.11 883.793 2395.03 886.479 Q2391.97 889.164 2386.26 889.164 Q2380.54 889.164 2377.46 886.479 Q2374.4 883.793 2374.4 878.77 Q2374.4 875.46 2376.3 873.168 Q2378.2 870.877 2381.58 870.09 M2379.87 862.705 Q2379.87 865.391 2381.53 866.895 Q2383.22 868.4 2386.26 868.4 Q2389.26 868.4 2390.95 866.895 Q2392.67 865.391 2392.67 862.705 Q2392.67 860.02 2390.95 858.516 Q2389.26 857.011 2386.26 857.011 Q2383.22 857.011 2381.53 858.516 Q2379.87 860.02 2379.87 862.705 Z\" fill=\"#000000\" fill-rule=\"nonzero\" fill-opacity=\"1\" /><path clip-path=\"url(#clip500)\" d=\"M2405.24 853.932 L2427.46 853.932 L2427.46 855.923 L2414.91 888.492 L2410.03 888.492 L2421.83 857.868 L2405.24 857.868 L2405.24 853.932 Z\" fill=\"#000000\" fill-rule=\"nonzero\" fill-opacity=\"1\" /><path clip-path=\"url(#clip500)\" d=\"M2440.61 884.557 L2456.93 884.557 L2456.93 888.492 L2434.98 888.492 L2434.98 884.557 Q2437.64 881.803 2442.23 877.173 Q2446.83 872.52 2448.01 871.178 Q2450.26 868.655 2451.14 866.918 Q2452.04 865.159 2452.04 863.469 Q2452.04 860.715 2450.1 858.979 Q2448.18 857.243 2445.07 857.243 Q2442.88 857.243 2440.42 858.006 Q2437.99 858.77 2435.21 860.321 L2435.21 855.599 Q2438.04 854.465 2440.49 853.886 Q2442.94 853.307 2444.98 853.307 Q2450.35 853.307 2453.55 855.993 Q2456.74 858.678 2456.74 863.168 Q2456.74 865.298 2455.93 867.219 Q2455.14 869.117 2453.04 871.71 Q2452.46 872.381 2449.36 875.599 Q2446.25 878.793 2440.61 884.557 Z\" fill=\"#000000\" fill-rule=\"nonzero\" fill-opacity=\"1\" /><path clip-path=\"url(#clip500)\" d=\"M2466.79 853.932 L2485.14 853.932 L2485.14 857.868 L2471.07 857.868 L2471.07 866.34 Q2472.09 865.993 2473.11 865.83 Q2474.13 865.645 2475.14 865.645 Q2480.93 865.645 2484.31 868.817 Q2487.69 871.988 2487.69 877.404 Q2487.69 882.983 2484.22 886.085 Q2480.75 889.164 2474.43 889.164 Q2472.25 889.164 2469.98 888.793 Q2467.74 888.423 2465.33 887.682 L2465.33 882.983 Q2467.41 884.117 2469.63 884.673 Q2471.86 885.229 2474.33 885.229 Q2478.34 885.229 2480.68 883.122 Q2483.01 881.016 2483.01 877.404 Q2483.01 873.793 2480.68 871.687 Q2478.34 869.58 2474.33 869.58 Q2472.46 869.58 2470.58 869.997 Q2468.73 870.414 2466.79 871.293 L2466.79 853.932 Z\" fill=\"#000000\" fill-rule=\"nonzero\" fill-opacity=\"1\" /><path clip-path=\"url(#clip500)\" d=\"M2280.7 669.371 Q2277.09 669.371 2275.26 672.936 Q2273.45 676.478 2273.45 683.607 Q2273.45 690.714 2275.26 694.278 Q2277.09 697.82 2280.7 697.82 Q2284.33 697.82 2286.14 694.278 Q2287.97 690.714 2287.97 683.607 Q2287.97 676.478 2286.14 672.936 Q2284.33 669.371 2280.7 669.371 M2280.7 665.667 Q2286.51 665.667 2289.57 670.274 Q2292.64 674.857 2292.64 683.607 Q2292.64 692.334 2289.57 696.94 Q2286.51 701.524 2280.7 701.524 Q2274.89 701.524 2271.81 696.94 Q2268.76 692.334 2268.76 683.607 Q2268.76 674.857 2271.81 670.274 Q2274.89 665.667 2280.7 665.667 Z\" fill=\"#000000\" fill-rule=\"nonzero\" fill-opacity=\"1\" /><path clip-path=\"url(#clip500)\" d=\"M2300.86 694.973 L2305.75 694.973 L2305.75 700.852 L2300.86 700.852 L2300.86 694.973 Z\" fill=\"#000000\" fill-rule=\"nonzero\" fill-opacity=\"1\" /><path clip-path=\"url(#clip500)\" d=\"M2325.93 669.371 Q2322.32 669.371 2320.49 672.936 Q2318.69 676.478 2318.69 683.607 Q2318.69 690.714 2320.49 694.278 Q2322.32 697.82 2325.93 697.82 Q2329.57 697.82 2331.37 694.278 Q2333.2 690.714 2333.2 683.607 Q2333.2 676.478 2331.37 672.936 Q2329.57 669.371 2325.93 669.371 M2325.93 665.667 Q2331.74 665.667 2334.8 670.274 Q2337.88 674.857 2337.88 683.607 Q2337.88 692.334 2334.8 696.94 Q2331.74 701.524 2325.93 701.524 Q2320.12 701.524 2317.04 696.94 Q2313.99 692.334 2313.99 683.607 Q2313.99 674.857 2317.04 670.274 Q2320.12 665.667 2325.93 665.667 Z\" fill=\"#000000\" fill-rule=\"nonzero\" fill-opacity=\"1\" /><path clip-path=\"url(#clip500)\" d=\"M2356.09 669.371 Q2352.48 669.371 2350.65 672.936 Q2348.85 676.478 2348.85 683.607 Q2348.85 690.714 2350.65 694.278 Q2352.48 697.82 2356.09 697.82 Q2359.73 697.82 2361.53 694.278 Q2363.36 690.714 2363.36 683.607 Q2363.36 676.478 2361.53 672.936 Q2359.73 669.371 2356.09 669.371 M2356.09 665.667 Q2361.9 665.667 2364.96 670.274 Q2368.04 674.857 2368.04 683.607 Q2368.04 692.334 2364.96 696.94 Q2361.9 701.524 2356.09 701.524 Q2350.28 701.524 2347.2 696.94 Q2344.15 692.334 2344.15 683.607 Q2344.15 674.857 2347.2 670.274 Q2350.28 665.667 2356.09 665.667 Z\" fill=\"#000000\" fill-rule=\"nonzero\" fill-opacity=\"1\" /><path clip-path=\"url(#clip500)\" d=\"M2386.26 684.44 Q2382.92 684.44 2381 686.223 Q2379.1 688.005 2379.1 691.13 Q2379.1 694.255 2381 696.038 Q2382.92 697.82 2386.26 697.82 Q2389.59 697.82 2391.51 696.038 Q2393.43 694.232 2393.43 691.13 Q2393.43 688.005 2391.51 686.223 Q2389.61 684.44 2386.26 684.44 M2381.58 682.45 Q2378.57 681.709 2376.88 679.649 Q2375.21 677.589 2375.21 674.626 Q2375.21 670.482 2378.15 668.075 Q2381.12 665.667 2386.26 665.667 Q2391.42 665.667 2394.36 668.075 Q2397.3 670.482 2397.3 674.626 Q2397.3 677.589 2395.61 679.649 Q2393.94 681.709 2390.95 682.45 Q2394.33 683.237 2396.21 685.528 Q2398.11 687.82 2398.11 691.13 Q2398.11 696.153 2395.03 698.839 Q2391.97 701.524 2386.26 701.524 Q2380.54 701.524 2377.46 698.839 Q2374.4 696.153 2374.4 691.13 Q2374.4 687.82 2376.3 685.528 Q2378.2 683.237 2381.58 682.45 M2379.87 675.066 Q2379.87 677.751 2381.53 679.255 Q2383.22 680.76 2386.26 680.76 Q2389.26 680.76 2390.95 679.255 Q2392.67 677.751 2392.67 675.066 Q2392.67 672.38 2390.95 670.876 Q2389.26 669.371 2386.26 669.371 Q2383.22 669.371 2381.53 670.876 Q2379.87 672.38 2379.87 675.066 Z\" fill=\"#000000\" fill-rule=\"nonzero\" fill-opacity=\"1\" /><path clip-path=\"url(#clip500)\" d=\"M2405.24 666.292 L2427.46 666.292 L2427.46 668.283 L2414.91 700.852 L2410.03 700.852 L2421.83 670.228 L2405.24 670.228 L2405.24 666.292 Z\" fill=\"#000000\" fill-rule=\"nonzero\" fill-opacity=\"1\" /><path clip-path=\"url(#clip500)\" d=\"M2436.63 666.292 L2454.98 666.292 L2454.98 670.228 L2440.91 670.228 L2440.91 678.7 Q2441.93 678.353 2442.94 678.191 Q2443.96 678.005 2444.98 678.005 Q2450.77 678.005 2454.15 681.177 Q2457.53 684.348 2457.53 689.765 Q2457.53 695.343 2454.06 698.445 Q2450.58 701.524 2444.26 701.524 Q2442.09 701.524 2439.82 701.153 Q2437.57 700.783 2435.17 700.042 L2435.17 695.343 Q2437.25 696.477 2439.47 697.033 Q2441.69 697.589 2444.17 697.589 Q2448.18 697.589 2450.51 695.482 Q2452.85 693.376 2452.85 689.765 Q2452.85 686.153 2450.51 684.047 Q2448.18 681.94 2444.17 681.94 Q2442.3 681.94 2440.42 682.357 Q2438.57 682.774 2436.63 683.653 L2436.63 666.292 Z\" fill=\"#000000\" fill-rule=\"nonzero\" fill-opacity=\"1\" /><path clip-path=\"url(#clip500)\" d=\"M2476.74 669.371 Q2473.13 669.371 2471.3 672.936 Q2469.5 676.478 2469.5 683.607 Q2469.5 690.714 2471.3 694.278 Q2473.13 697.82 2476.74 697.82 Q2480.38 697.82 2482.18 694.278 Q2484.01 690.714 2484.01 683.607 Q2484.01 676.478 2482.18 672.936 Q2480.38 669.371 2476.74 669.371 M2476.74 665.667 Q2482.55 665.667 2485.61 670.274 Q2488.69 674.857 2488.69 683.607 Q2488.69 692.334 2485.61 696.94 Q2482.55 701.524 2476.74 701.524 Q2470.93 701.524 2467.85 696.94 Q2464.8 692.334 2464.8 683.607 Q2464.8 674.857 2467.85 670.274 Q2470.93 665.667 2476.74 665.667 Z\" fill=\"#000000\" fill-rule=\"nonzero\" fill-opacity=\"1\" /><path clip-path=\"url(#clip500)\" d=\"M2280.7 481.731 Q2277.09 481.731 2275.26 485.296 Q2273.45 488.838 2273.45 495.967 Q2273.45 503.074 2275.26 506.638 Q2277.09 510.18 2280.7 510.18 Q2284.33 510.18 2286.14 506.638 Q2287.97 503.074 2287.97 495.967 Q2287.97 488.838 2286.14 485.296 Q2284.33 481.731 2280.7 481.731 M2280.7 478.027 Q2286.51 478.027 2289.57 482.634 Q2292.64 487.217 2292.64 495.967 Q2292.64 504.694 2289.57 509.3 Q2286.51 513.884 2280.7 513.884 Q2274.89 513.884 2271.81 509.3 Q2268.76 504.694 2268.76 495.967 Q2268.76 487.217 2271.81 482.634 Q2274.89 478.027 2280.7 478.027 Z\" fill=\"#000000\" fill-rule=\"nonzero\" fill-opacity=\"1\" /><path clip-path=\"url(#clip500)\" d=\"M2300.86 507.333 L2305.75 507.333 L2305.75 513.212 L2300.86 513.212 L2300.86 507.333 Z\" fill=\"#000000\" fill-rule=\"nonzero\" fill-opacity=\"1\" /><path clip-path=\"url(#clip500)\" d=\"M2325.93 481.731 Q2322.32 481.731 2320.49 485.296 Q2318.69 488.838 2318.69 495.967 Q2318.69 503.074 2320.49 506.638 Q2322.32 510.18 2325.93 510.18 Q2329.57 510.18 2331.37 506.638 Q2333.2 503.074 2333.2 495.967 Q2333.2 488.838 2331.37 485.296 Q2329.57 481.731 2325.93 481.731 M2325.93 478.027 Q2331.74 478.027 2334.8 482.634 Q2337.88 487.217 2337.88 495.967 Q2337.88 504.694 2334.8 509.3 Q2331.74 513.884 2325.93 513.884 Q2320.12 513.884 2317.04 509.3 Q2313.99 504.694 2313.99 495.967 Q2313.99 487.217 2317.04 482.634 Q2320.12 478.027 2325.93 478.027 Z\" fill=\"#000000\" fill-rule=\"nonzero\" fill-opacity=\"1\" /><path clip-path=\"url(#clip500)\" d=\"M2356.09 481.731 Q2352.48 481.731 2350.65 485.296 Q2348.85 488.838 2348.85 495.967 Q2348.85 503.074 2350.65 506.638 Q2352.48 510.18 2356.09 510.18 Q2359.73 510.18 2361.53 506.638 Q2363.36 503.074 2363.36 495.967 Q2363.36 488.838 2361.53 485.296 Q2359.73 481.731 2356.09 481.731 M2356.09 478.027 Q2361.9 478.027 2364.96 482.634 Q2368.04 487.217 2368.04 495.967 Q2368.04 504.694 2364.96 509.3 Q2361.9 513.884 2356.09 513.884 Q2350.28 513.884 2347.2 509.3 Q2344.15 504.694 2344.15 495.967 Q2344.15 487.217 2347.2 482.634 Q2350.28 478.027 2356.09 478.027 Z\" fill=\"#000000\" fill-rule=\"nonzero\" fill-opacity=\"1\" /><path clip-path=\"url(#clip500)\" d=\"M2386.26 496.8 Q2382.92 496.8 2381 498.583 Q2379.1 500.365 2379.1 503.49 Q2379.1 506.615 2381 508.398 Q2382.92 510.18 2386.26 510.18 Q2389.59 510.18 2391.51 508.398 Q2393.43 506.592 2393.43 503.49 Q2393.43 500.365 2391.51 498.583 Q2389.61 496.8 2386.26 496.8 M2381.58 494.81 Q2378.57 494.069 2376.88 492.009 Q2375.21 489.949 2375.21 486.986 Q2375.21 482.842 2378.15 480.435 Q2381.12 478.027 2386.26 478.027 Q2391.42 478.027 2394.36 480.435 Q2397.3 482.842 2397.3 486.986 Q2397.3 489.949 2395.61 492.009 Q2393.94 494.069 2390.95 494.81 Q2394.33 495.597 2396.21 497.888 Q2398.11 500.18 2398.11 503.49 Q2398.11 508.513 2395.03 511.199 Q2391.97 513.884 2386.26 513.884 Q2380.54 513.884 2377.46 511.199 Q2374.4 508.513 2374.4 503.49 Q2374.4 500.18 2376.3 497.888 Q2378.2 495.597 2381.58 494.81 M2379.87 487.426 Q2379.87 490.111 2381.53 491.615 Q2383.22 493.12 2386.26 493.12 Q2389.26 493.12 2390.95 491.615 Q2392.67 490.111 2392.67 487.426 Q2392.67 484.74 2390.95 483.236 Q2389.26 481.731 2386.26 481.731 Q2383.22 481.731 2381.53 483.236 Q2379.87 484.74 2379.87 487.426 Z\" fill=\"#000000\" fill-rule=\"nonzero\" fill-opacity=\"1\" /><path clip-path=\"url(#clip500)\" d=\"M2405.24 478.652 L2427.46 478.652 L2427.46 480.643 L2414.91 513.212 L2410.03 513.212 L2421.83 482.588 L2405.24 482.588 L2405.24 478.652 Z\" fill=\"#000000\" fill-rule=\"nonzero\" fill-opacity=\"1\" /><path clip-path=\"url(#clip500)\" d=\"M2435.4 478.652 L2457.62 478.652 L2457.62 480.643 L2445.07 513.212 L2440.19 513.212 L2452 482.588 L2435.4 482.588 L2435.4 478.652 Z\" fill=\"#000000\" fill-rule=\"nonzero\" fill-opacity=\"1\" /><path clip-path=\"url(#clip500)\" d=\"M2466.79 478.652 L2485.14 478.652 L2485.14 482.588 L2471.07 482.588 L2471.07 491.06 Q2472.09 490.713 2473.11 490.551 Q2474.13 490.365 2475.14 490.365 Q2480.93 490.365 2484.31 493.537 Q2487.69 496.708 2487.69 502.125 Q2487.69 507.703 2484.22 510.805 Q2480.75 513.884 2474.43 513.884 Q2472.25 513.884 2469.98 513.513 Q2467.74 513.143 2465.33 512.402 L2465.33 507.703 Q2467.41 508.837 2469.63 509.393 Q2471.86 509.949 2474.33 509.949 Q2478.34 509.949 2480.68 507.842 Q2483.01 505.736 2483.01 502.125 Q2483.01 498.513 2480.68 496.407 Q2478.34 494.301 2474.33 494.301 Q2472.46 494.301 2470.58 494.717 Q2468.73 495.134 2466.79 496.013 L2466.79 478.652 Z\" fill=\"#000000\" fill-rule=\"nonzero\" fill-opacity=\"1\" /><path clip-path=\"url(#clip500)\" d=\"M2280.7 294.091 Q2277.09 294.091 2275.26 297.656 Q2273.45 301.198 2273.45 308.327 Q2273.45 315.434 2275.26 318.998 Q2277.09 322.54 2280.7 322.54 Q2284.33 322.54 2286.14 318.998 Q2287.97 315.434 2287.97 308.327 Q2287.97 301.198 2286.14 297.656 Q2284.33 294.091 2280.7 294.091 M2280.7 290.387 Q2286.51 290.387 2289.57 294.994 Q2292.64 299.577 2292.64 308.327 Q2292.64 317.054 2289.57 321.66 Q2286.51 326.244 2280.7 326.244 Q2274.89 326.244 2271.81 321.66 Q2268.76 317.054 2268.76 308.327 Q2268.76 299.577 2271.81 294.994 Q2274.89 290.387 2280.7 290.387 Z\" fill=\"#000000\" fill-rule=\"nonzero\" fill-opacity=\"1\" /><path clip-path=\"url(#clip500)\" d=\"M2300.86 319.693 L2305.75 319.693 L2305.75 325.572 L2300.86 325.572 L2300.86 319.693 Z\" fill=\"#000000\" fill-rule=\"nonzero\" fill-opacity=\"1\" /><path clip-path=\"url(#clip500)\" d=\"M2325.93 294.091 Q2322.32 294.091 2320.49 297.656 Q2318.69 301.198 2318.69 308.327 Q2318.69 315.434 2320.49 318.998 Q2322.32 322.54 2325.93 322.54 Q2329.57 322.54 2331.37 318.998 Q2333.2 315.434 2333.2 308.327 Q2333.2 301.198 2331.37 297.656 Q2329.57 294.091 2325.93 294.091 M2325.93 290.387 Q2331.74 290.387 2334.8 294.994 Q2337.88 299.577 2337.88 308.327 Q2337.88 317.054 2334.8 321.66 Q2331.74 326.244 2325.93 326.244 Q2320.12 326.244 2317.04 321.66 Q2313.99 317.054 2313.99 308.327 Q2313.99 299.577 2317.04 294.994 Q2320.12 290.387 2325.93 290.387 Z\" fill=\"#000000\" fill-rule=\"nonzero\" fill-opacity=\"1\" /><path clip-path=\"url(#clip500)\" d=\"M2356.09 294.091 Q2352.48 294.091 2350.65 297.656 Q2348.85 301.198 2348.85 308.327 Q2348.85 315.434 2350.65 318.998 Q2352.48 322.54 2356.09 322.54 Q2359.73 322.54 2361.53 318.998 Q2363.36 315.434 2363.36 308.327 Q2363.36 301.198 2361.53 297.656 Q2359.73 294.091 2356.09 294.091 M2356.09 290.387 Q2361.9 290.387 2364.96 294.994 Q2368.04 299.577 2368.04 308.327 Q2368.04 317.054 2364.96 321.66 Q2361.9 326.244 2356.09 326.244 Q2350.28 326.244 2347.2 321.66 Q2344.15 317.054 2344.15 308.327 Q2344.15 299.577 2347.2 294.994 Q2350.28 290.387 2356.09 290.387 Z\" fill=\"#000000\" fill-rule=\"nonzero\" fill-opacity=\"1\" /><path clip-path=\"url(#clip500)\" d=\"M2386.26 309.161 Q2382.92 309.161 2381 310.943 Q2379.1 312.725 2379.1 315.85 Q2379.1 318.975 2381 320.758 Q2382.92 322.54 2386.26 322.54 Q2389.59 322.54 2391.51 320.758 Q2393.43 318.952 2393.43 315.85 Q2393.43 312.725 2391.51 310.943 Q2389.61 309.161 2386.26 309.161 M2381.58 307.17 Q2378.57 306.429 2376.88 304.369 Q2375.21 302.309 2375.21 299.346 Q2375.21 295.202 2378.15 292.795 Q2381.12 290.387 2386.26 290.387 Q2391.42 290.387 2394.36 292.795 Q2397.3 295.202 2397.3 299.346 Q2397.3 302.309 2395.61 304.369 Q2393.94 306.429 2390.95 307.17 Q2394.33 307.957 2396.21 310.248 Q2398.11 312.54 2398.11 315.85 Q2398.11 320.873 2395.03 323.559 Q2391.97 326.244 2386.26 326.244 Q2380.54 326.244 2377.46 323.559 Q2374.4 320.873 2374.4 315.85 Q2374.4 312.54 2376.3 310.248 Q2378.2 307.957 2381.58 307.17 M2379.87 299.786 Q2379.87 302.471 2381.53 303.975 Q2383.22 305.48 2386.26 305.48 Q2389.26 305.48 2390.95 303.975 Q2392.67 302.471 2392.67 299.786 Q2392.67 297.1 2390.95 295.596 Q2389.26 294.091 2386.26 294.091 Q2383.22 294.091 2381.53 295.596 Q2379.87 297.1 2379.87 299.786 Z\" fill=\"#000000\" fill-rule=\"nonzero\" fill-opacity=\"1\" /><path clip-path=\"url(#clip500)\" d=\"M2416.42 309.161 Q2413.08 309.161 2411.16 310.943 Q2409.26 312.725 2409.26 315.85 Q2409.26 318.975 2411.16 320.758 Q2413.08 322.54 2416.42 322.54 Q2419.75 322.54 2421.67 320.758 Q2423.59 318.952 2423.59 315.85 Q2423.59 312.725 2421.67 310.943 Q2419.77 309.161 2416.42 309.161 M2411.74 307.17 Q2408.73 306.429 2407.04 304.369 Q2405.38 302.309 2405.38 299.346 Q2405.38 295.202 2408.32 292.795 Q2411.28 290.387 2416.42 290.387 Q2421.58 290.387 2424.52 292.795 Q2427.46 295.202 2427.46 299.346 Q2427.46 302.309 2425.77 304.369 Q2424.1 306.429 2421.12 307.17 Q2424.5 307.957 2426.37 310.248 Q2428.27 312.54 2428.27 315.85 Q2428.27 320.873 2425.19 323.559 Q2422.13 326.244 2416.42 326.244 Q2410.7 326.244 2407.62 323.559 Q2404.57 320.873 2404.57 315.85 Q2404.57 312.54 2406.46 310.248 Q2408.36 307.957 2411.74 307.17 M2410.03 299.786 Q2410.03 302.471 2411.69 303.975 Q2413.38 305.48 2416.42 305.48 Q2419.43 305.48 2421.12 303.975 Q2422.83 302.471 2422.83 299.786 Q2422.83 297.1 2421.12 295.596 Q2419.43 294.091 2416.42 294.091 Q2413.38 294.091 2411.69 295.596 Q2410.03 297.1 2410.03 299.786 Z\" fill=\"#000000\" fill-rule=\"nonzero\" fill-opacity=\"1\" /><path clip-path=\"url(#clip500)\" d=\"M2446.58 294.091 Q2442.97 294.091 2441.14 297.656 Q2439.33 301.198 2439.33 308.327 Q2439.33 315.434 2441.14 318.998 Q2442.97 322.54 2446.58 322.54 Q2450.21 322.54 2452.02 318.998 Q2453.85 315.434 2453.85 308.327 Q2453.85 301.198 2452.02 297.656 Q2450.21 294.091 2446.58 294.091 M2446.58 290.387 Q2452.39 290.387 2455.44 294.994 Q2458.52 299.577 2458.52 308.327 Q2458.52 317.054 2455.44 321.66 Q2452.39 326.244 2446.58 326.244 Q2440.77 326.244 2437.69 321.66 Q2434.63 317.054 2434.63 308.327 Q2434.63 299.577 2437.69 294.994 Q2440.77 290.387 2446.58 290.387 Z\" fill=\"#000000\" fill-rule=\"nonzero\" fill-opacity=\"1\" /><path clip-path=\"url(#clip500)\" d=\"M2476.74 294.091 Q2473.13 294.091 2471.3 297.656 Q2469.5 301.198 2469.5 308.327 Q2469.5 315.434 2471.3 318.998 Q2473.13 322.54 2476.74 322.54 Q2480.38 322.54 2482.18 318.998 Q2484.01 315.434 2484.01 308.327 Q2484.01 301.198 2482.18 297.656 Q2480.38 294.091 2476.74 294.091 M2476.74 290.387 Q2482.55 290.387 2485.61 294.994 Q2488.69 299.577 2488.69 308.327 Q2488.69 317.054 2485.61 321.66 Q2482.55 326.244 2476.74 326.244 Q2470.93 326.244 2467.85 321.66 Q2464.8 317.054 2464.8 308.327 Q2464.8 299.577 2467.85 294.994 Q2470.93 290.387 2476.74 290.387 Z\" fill=\"#000000\" fill-rule=\"nonzero\" fill-opacity=\"1\" /><path clip-path=\"url(#clip500)\" d=\"M2280.7 106.451 Q2277.09 106.451 2275.26 110.016 Q2273.45 113.558 2273.45 120.687 Q2273.45 127.794 2275.26 131.358 Q2277.09 134.9 2280.7 134.9 Q2284.33 134.9 2286.14 131.358 Q2287.97 127.794 2287.97 120.687 Q2287.97 113.558 2286.14 110.016 Q2284.33 106.451 2280.7 106.451 M2280.7 102.747 Q2286.51 102.747 2289.57 107.354 Q2292.64 111.937 2292.64 120.687 Q2292.64 129.414 2289.57 134.02 Q2286.51 138.604 2280.7 138.604 Q2274.89 138.604 2271.81 134.02 Q2268.76 129.414 2268.76 120.687 Q2268.76 111.937 2271.81 107.354 Q2274.89 102.747 2280.7 102.747 Z\" fill=\"#000000\" fill-rule=\"nonzero\" fill-opacity=\"1\" /><path clip-path=\"url(#clip500)\" d=\"M2300.86 132.053 L2305.75 132.053 L2305.75 137.932 L2300.86 137.932 L2300.86 132.053 Z\" fill=\"#000000\" fill-rule=\"nonzero\" fill-opacity=\"1\" /><path clip-path=\"url(#clip500)\" d=\"M2325.93 106.451 Q2322.32 106.451 2320.49 110.016 Q2318.69 113.558 2318.69 120.687 Q2318.69 127.794 2320.49 131.358 Q2322.32 134.9 2325.93 134.9 Q2329.57 134.9 2331.37 131.358 Q2333.2 127.794 2333.2 120.687 Q2333.2 113.558 2331.37 110.016 Q2329.57 106.451 2325.93 106.451 M2325.93 102.747 Q2331.74 102.747 2334.8 107.354 Q2337.88 111.937 2337.88 120.687 Q2337.88 129.414 2334.8 134.02 Q2331.74 138.604 2325.93 138.604 Q2320.12 138.604 2317.04 134.02 Q2313.99 129.414 2313.99 120.687 Q2313.99 111.937 2317.04 107.354 Q2320.12 102.747 2325.93 102.747 Z\" fill=\"#000000\" fill-rule=\"nonzero\" fill-opacity=\"1\" /><path clip-path=\"url(#clip500)\" d=\"M2356.09 106.451 Q2352.48 106.451 2350.65 110.016 Q2348.85 113.558 2348.85 120.687 Q2348.85 127.794 2350.65 131.358 Q2352.48 134.9 2356.09 134.9 Q2359.73 134.9 2361.53 131.358 Q2363.36 127.794 2363.36 120.687 Q2363.36 113.558 2361.53 110.016 Q2359.73 106.451 2356.09 106.451 M2356.09 102.747 Q2361.9 102.747 2364.96 107.354 Q2368.04 111.937 2368.04 120.687 Q2368.04 129.414 2364.96 134.02 Q2361.9 138.604 2356.09 138.604 Q2350.28 138.604 2347.2 134.02 Q2344.15 129.414 2344.15 120.687 Q2344.15 111.937 2347.2 107.354 Q2350.28 102.747 2356.09 102.747 Z\" fill=\"#000000\" fill-rule=\"nonzero\" fill-opacity=\"1\" /><path clip-path=\"url(#clip500)\" d=\"M2386.26 121.521 Q2382.92 121.521 2381 123.303 Q2379.1 125.085 2379.1 128.21 Q2379.1 131.335 2381 133.118 Q2382.92 134.9 2386.26 134.9 Q2389.59 134.9 2391.51 133.118 Q2393.43 131.312 2393.43 128.21 Q2393.43 125.085 2391.51 123.303 Q2389.61 121.521 2386.26 121.521 M2381.58 119.53 Q2378.57 118.789 2376.88 116.729 Q2375.21 114.669 2375.21 111.706 Q2375.21 107.562 2378.15 105.155 Q2381.12 102.747 2386.26 102.747 Q2391.42 102.747 2394.36 105.155 Q2397.3 107.562 2397.3 111.706 Q2397.3 114.669 2395.61 116.729 Q2393.94 118.789 2390.95 119.53 Q2394.33 120.317 2396.21 122.608 Q2398.11 124.9 2398.11 128.21 Q2398.11 133.233 2395.03 135.919 Q2391.97 138.604 2386.26 138.604 Q2380.54 138.604 2377.46 135.919 Q2374.4 133.233 2374.4 128.21 Q2374.4 124.9 2376.3 122.608 Q2378.2 120.317 2381.58 119.53 M2379.87 112.146 Q2379.87 114.831 2381.53 116.335 Q2383.22 117.84 2386.26 117.84 Q2389.26 117.84 2390.95 116.335 Q2392.67 114.831 2392.67 112.146 Q2392.67 109.46 2390.95 107.956 Q2389.26 106.451 2386.26 106.451 Q2383.22 106.451 2381.53 107.956 Q2379.87 109.46 2379.87 112.146 Z\" fill=\"#000000\" fill-rule=\"nonzero\" fill-opacity=\"1\" /><path clip-path=\"url(#clip500)\" d=\"M2416.42 121.521 Q2413.08 121.521 2411.16 123.303 Q2409.26 125.085 2409.26 128.21 Q2409.26 131.335 2411.16 133.118 Q2413.08 134.9 2416.42 134.9 Q2419.75 134.9 2421.67 133.118 Q2423.59 131.312 2423.59 128.21 Q2423.59 125.085 2421.67 123.303 Q2419.77 121.521 2416.42 121.521 M2411.74 119.53 Q2408.73 118.789 2407.04 116.729 Q2405.38 114.669 2405.38 111.706 Q2405.38 107.562 2408.32 105.155 Q2411.28 102.747 2416.42 102.747 Q2421.58 102.747 2424.52 105.155 Q2427.46 107.562 2427.46 111.706 Q2427.46 114.669 2425.77 116.729 Q2424.1 118.789 2421.12 119.53 Q2424.5 120.317 2426.37 122.608 Q2428.27 124.9 2428.27 128.21 Q2428.27 133.233 2425.19 135.919 Q2422.13 138.604 2416.42 138.604 Q2410.7 138.604 2407.62 135.919 Q2404.57 133.233 2404.57 128.21 Q2404.57 124.9 2406.46 122.608 Q2408.36 120.317 2411.74 119.53 M2410.03 112.146 Q2410.03 114.831 2411.69 116.335 Q2413.38 117.84 2416.42 117.84 Q2419.43 117.84 2421.12 116.335 Q2422.83 114.831 2422.83 112.146 Q2422.83 109.46 2421.12 107.956 Q2419.43 106.451 2416.42 106.451 Q2413.38 106.451 2411.69 107.956 Q2410.03 109.46 2410.03 112.146 Z\" fill=\"#000000\" fill-rule=\"nonzero\" fill-opacity=\"1\" /><path clip-path=\"url(#clip500)\" d=\"M2440.61 133.997 L2456.93 133.997 L2456.93 137.932 L2434.98 137.932 L2434.98 133.997 Q2437.64 131.243 2442.23 126.613 Q2446.83 121.96 2448.01 120.618 Q2450.26 118.095 2451.14 116.359 Q2452.04 114.599 2452.04 112.909 Q2452.04 110.155 2450.1 108.419 Q2448.18 106.683 2445.07 106.683 Q2442.88 106.683 2440.42 107.447 Q2437.99 108.21 2435.21 109.761 L2435.21 105.039 Q2438.04 103.905 2440.49 103.326 Q2442.94 102.747 2444.98 102.747 Q2450.35 102.747 2453.55 105.433 Q2456.74 108.118 2456.74 112.609 Q2456.74 114.738 2455.93 116.659 Q2455.14 118.558 2453.04 121.15 Q2452.46 121.821 2449.36 125.039 Q2446.25 128.233 2440.61 133.997 Z\" fill=\"#000000\" fill-rule=\"nonzero\" fill-opacity=\"1\" /><path clip-path=\"url(#clip500)\" d=\"M2466.79 103.372 L2485.14 103.372 L2485.14 107.308 L2471.07 107.308 L2471.07 115.78 Q2472.09 115.433 2473.11 115.271 Q2474.13 115.085 2475.14 115.085 Q2480.93 115.085 2484.31 118.257 Q2487.69 121.428 2487.69 126.845 Q2487.69 132.423 2484.22 135.525 Q2480.75 138.604 2474.43 138.604 Q2472.25 138.604 2469.98 138.233 Q2467.74 137.863 2465.33 137.122 L2465.33 132.423 Q2467.41 133.558 2469.63 134.113 Q2471.86 134.669 2474.33 134.669 Q2478.34 134.669 2480.68 132.562 Q2483.01 130.456 2483.01 126.845 Q2483.01 123.233 2480.68 121.127 Q2478.34 119.021 2474.33 119.021 Q2472.46 119.021 2470.58 119.437 Q2468.73 119.854 2466.79 120.734 L2466.79 103.372 Z\" fill=\"#000000\" fill-rule=\"nonzero\" fill-opacity=\"1\" /><polyline clip-path=\"url(#clip500)\" style=\"stroke:#000000; stroke-linecap:round; stroke-linejoin:round; stroke-width:4; stroke-opacity:1; fill:none\" points=\"2232.76,1423.18 2232.76,1250.12 2256.76,1250.12 2232.76,1250.12 2232.76,1062.48 2256.76,1062.48 2232.76,1062.48 2232.76,874.841 2256.76,874.841 2232.76,874.841 2232.76,687.201 2256.76,687.201 2232.76,687.201 2232.76,499.561 2256.76,499.561 2232.76,499.561 2232.76,311.921 2256.76,311.921 2232.76,311.921 2232.76,124.281 2256.76,124.281 2232.76,124.281 2232.76,47.2441 \"/>\n",
       "</svg>\n"
      ],
      "text/html": [
       "<?xml version=\"1.0\" encoding=\"utf-8\"?>\n",
       "<svg xmlns=\"http://www.w3.org/2000/svg\" xmlns:xlink=\"http://www.w3.org/1999/xlink\" width=\"600\" height=\"400\" viewBox=\"0 0 2400 1600\">\n",
       "<defs>\n",
       "  <clipPath id=\"clip550\">\n",
       "    <rect x=\"0\" y=\"0\" width=\"2400\" height=\"1600\"/>\n",
       "  </clipPath>\n",
       "</defs>\n",
       "<path clip-path=\"url(#clip550)\" d=\"M0 1600 L2400 1600 L2400 0 L0 0  Z\" fill=\"#ffffff\" fill-rule=\"evenodd\" fill-opacity=\"1\"/>\n",
       "<defs>\n",
       "  <clipPath id=\"clip551\">\n",
       "    <rect x=\"480\" y=\"0\" width=\"1681\" height=\"1600\"/>\n",
       "  </clipPath>\n",
       "</defs>\n",
       "<path clip-path=\"url(#clip550)\" d=\"M242.135 1423.18 L2112.76 1423.18 L2112.76 47.2441 L242.135 47.2441  Z\" fill=\"#ffffff\" fill-rule=\"evenodd\" fill-opacity=\"1\"/>\n",
       "<defs>\n",
       "  <clipPath id=\"clip552\">\n",
       "    <rect x=\"242\" y=\"47\" width=\"1872\" height=\"1377\"/>\n",
       "  </clipPath>\n",
       "</defs>\n",
       "<polyline clip-path=\"url(#clip552)\" style=\"stroke:#000000; stroke-linecap:round; stroke-linejoin:round; stroke-width:2; stroke-opacity:0.1; fill:none\" points=\"454.192,1423.18 454.192,47.2441 \"/>\n",
       "<polyline clip-path=\"url(#clip552)\" style=\"stroke:#000000; stroke-linecap:round; stroke-linejoin:round; stroke-width:2; stroke-opacity:0.1; fill:none\" points=\"743.494,1423.18 743.494,47.2441 \"/>\n",
       "<polyline clip-path=\"url(#clip552)\" style=\"stroke:#000000; stroke-linecap:round; stroke-linejoin:round; stroke-width:2; stroke-opacity:0.1; fill:none\" points=\"1032.79,1423.18 1032.79,47.2441 \"/>\n",
       "<polyline clip-path=\"url(#clip552)\" style=\"stroke:#000000; stroke-linecap:round; stroke-linejoin:round; stroke-width:2; stroke-opacity:0.1; fill:none\" points=\"1322.1,1423.18 1322.1,47.2441 \"/>\n",
       "<polyline clip-path=\"url(#clip552)\" style=\"stroke:#000000; stroke-linecap:round; stroke-linejoin:round; stroke-width:2; stroke-opacity:0.1; fill:none\" points=\"1611.4,1423.18 1611.4,47.2441 \"/>\n",
       "<polyline clip-path=\"url(#clip552)\" style=\"stroke:#000000; stroke-linecap:round; stroke-linejoin:round; stroke-width:2; stroke-opacity:0.1; fill:none\" points=\"1900.7,1423.18 1900.7,47.2441 \"/>\n",
       "<polyline clip-path=\"url(#clip550)\" style=\"stroke:#000000; stroke-linecap:round; stroke-linejoin:round; stroke-width:4; stroke-opacity:1; fill:none\" points=\"242.135,1423.18 2112.76,1423.18 \"/>\n",
       "<polyline clip-path=\"url(#clip550)\" style=\"stroke:#000000; stroke-linecap:round; stroke-linejoin:round; stroke-width:4; stroke-opacity:1; fill:none\" points=\"454.192,1423.18 454.192,1404.28 \"/>\n",
       "<polyline clip-path=\"url(#clip550)\" style=\"stroke:#000000; stroke-linecap:round; stroke-linejoin:round; stroke-width:4; stroke-opacity:1; fill:none\" points=\"743.494,1423.18 743.494,1404.28 \"/>\n",
       "<polyline clip-path=\"url(#clip550)\" style=\"stroke:#000000; stroke-linecap:round; stroke-linejoin:round; stroke-width:4; stroke-opacity:1; fill:none\" points=\"1032.79,1423.18 1032.79,1404.28 \"/>\n",
       "<polyline clip-path=\"url(#clip550)\" style=\"stroke:#000000; stroke-linecap:round; stroke-linejoin:round; stroke-width:4; stroke-opacity:1; fill:none\" points=\"1322.1,1423.18 1322.1,1404.28 \"/>\n",
       "<polyline clip-path=\"url(#clip550)\" style=\"stroke:#000000; stroke-linecap:round; stroke-linejoin:round; stroke-width:4; stroke-opacity:1; fill:none\" points=\"1611.4,1423.18 1611.4,1404.28 \"/>\n",
       "<polyline clip-path=\"url(#clip550)\" style=\"stroke:#000000; stroke-linecap:round; stroke-linejoin:round; stroke-width:4; stroke-opacity:1; fill:none\" points=\"1900.7,1423.18 1900.7,1404.28 \"/>\n",
       "<path clip-path=\"url(#clip550)\" d=\"M444.574 1481.64 L452.213 1481.64 L452.213 1455.28 L443.903 1456.95 L443.903 1452.69 L452.167 1451.02 L456.843 1451.02 L456.843 1481.64 L464.482 1481.64 L464.482 1485.58 L444.574 1485.58 L444.574 1481.64 Z\" fill=\"#000000\" fill-rule=\"nonzero\" fill-opacity=\"1\" /><path clip-path=\"url(#clip550)\" d=\"M738.146 1481.64 L754.466 1481.64 L754.466 1485.58 L732.521 1485.58 L732.521 1481.64 Q735.183 1478.89 739.767 1474.26 Q744.373 1469.61 745.554 1468.27 Q747.799 1465.74 748.679 1464.01 Q749.581 1462.25 749.581 1460.56 Q749.581 1457.8 747.637 1456.07 Q745.716 1454.33 742.614 1454.33 Q740.415 1454.33 737.961 1455.09 Q735.531 1455.86 732.753 1457.41 L732.753 1452.69 Q735.577 1451.55 738.031 1450.97 Q740.484 1450.39 742.521 1450.39 Q747.892 1450.39 751.086 1453.08 Q754.281 1455.77 754.281 1460.26 Q754.281 1462.39 753.47 1464.31 Q752.683 1466.2 750.577 1468.8 Q749.998 1469.47 746.896 1472.69 Q743.794 1475.88 738.146 1481.64 Z\" fill=\"#000000\" fill-rule=\"nonzero\" fill-opacity=\"1\" /><path clip-path=\"url(#clip550)\" d=\"M1037.04 1466.95 Q1040.4 1467.66 1042.27 1469.93 Q1044.17 1472.2 1044.17 1475.53 Q1044.17 1480.65 1040.65 1483.45 Q1037.13 1486.25 1030.65 1486.25 Q1028.48 1486.25 1026.16 1485.81 Q1023.87 1485.39 1021.42 1484.54 L1021.42 1480.02 Q1023.36 1481.16 1025.68 1481.74 Q1027.99 1482.32 1030.51 1482.32 Q1034.91 1482.32 1037.2 1480.58 Q1039.52 1478.84 1039.52 1475.53 Q1039.52 1472.48 1037.37 1470.77 Q1035.24 1469.03 1031.42 1469.03 L1027.39 1469.03 L1027.39 1465.19 L1031.6 1465.19 Q1035.05 1465.19 1036.88 1463.82 Q1038.71 1462.43 1038.71 1459.84 Q1038.71 1457.18 1036.81 1455.77 Q1034.94 1454.33 1031.42 1454.33 Q1029.5 1454.33 1027.3 1454.75 Q1025.1 1455.16 1022.46 1456.04 L1022.46 1451.88 Q1025.12 1451.14 1027.44 1450.77 Q1029.77 1450.39 1031.83 1450.39 Q1037.16 1450.39 1040.26 1452.83 Q1043.36 1455.23 1043.36 1459.35 Q1043.36 1462.22 1041.72 1464.21 Q1040.07 1466.18 1037.04 1466.95 Z\" fill=\"#000000\" fill-rule=\"nonzero\" fill-opacity=\"1\" /><path clip-path=\"url(#clip550)\" d=\"M1325.11 1455.09 L1313.3 1473.54 L1325.11 1473.54 L1325.11 1455.09 M1323.88 1451.02 L1329.76 1451.02 L1329.76 1473.54 L1334.69 1473.54 L1334.69 1477.43 L1329.76 1477.43 L1329.76 1485.58 L1325.11 1485.58 L1325.11 1477.43 L1309.5 1477.43 L1309.5 1472.92 L1323.88 1451.02 Z\" fill=\"#000000\" fill-rule=\"nonzero\" fill-opacity=\"1\" /><path clip-path=\"url(#clip550)\" d=\"M1601.67 1451.02 L1620.03 1451.02 L1620.03 1454.96 L1605.96 1454.96 L1605.96 1463.43 Q1606.98 1463.08 1607.99 1462.92 Q1609.01 1462.73 1610.03 1462.73 Q1615.82 1462.73 1619.2 1465.9 Q1622.58 1469.08 1622.58 1474.49 Q1622.58 1480.07 1619.11 1483.17 Q1615.63 1486.25 1609.31 1486.25 Q1607.14 1486.25 1604.87 1485.88 Q1602.62 1485.51 1600.22 1484.77 L1600.22 1480.07 Q1602.3 1481.2 1604.52 1481.76 Q1606.74 1482.32 1609.22 1482.32 Q1613.23 1482.32 1615.56 1480.21 Q1617.9 1478.1 1617.9 1474.49 Q1617.9 1470.88 1615.56 1468.77 Q1613.23 1466.67 1609.22 1466.67 Q1607.35 1466.67 1605.47 1467.08 Q1603.62 1467.5 1601.67 1468.38 L1601.67 1451.02 Z\" fill=\"#000000\" fill-rule=\"nonzero\" fill-opacity=\"1\" /><path clip-path=\"url(#clip550)\" d=\"M1901.1 1466.44 Q1897.96 1466.44 1896.1 1468.59 Q1894.27 1470.74 1894.27 1474.49 Q1894.27 1478.22 1896.1 1480.39 Q1897.96 1482.55 1901.1 1482.55 Q1904.25 1482.55 1906.08 1480.39 Q1907.93 1478.22 1907.93 1474.49 Q1907.93 1470.74 1906.08 1468.59 Q1904.25 1466.44 1901.1 1466.44 M1910.39 1451.78 L1910.39 1456.04 Q1908.63 1455.21 1906.82 1454.77 Q1905.04 1454.33 1903.28 1454.33 Q1898.65 1454.33 1896.2 1457.45 Q1893.77 1460.58 1893.42 1466.9 Q1894.78 1464.89 1896.84 1463.82 Q1898.9 1462.73 1901.38 1462.73 Q1906.59 1462.73 1909.6 1465.9 Q1912.63 1469.05 1912.63 1474.49 Q1912.63 1479.82 1909.48 1483.03 Q1906.33 1486.25 1901.1 1486.25 Q1895.11 1486.25 1891.94 1481.67 Q1888.77 1477.06 1888.77 1468.33 Q1888.77 1460.14 1892.65 1455.28 Q1896.54 1450.39 1903.09 1450.39 Q1904.85 1450.39 1906.64 1450.74 Q1908.44 1451.09 1910.39 1451.78 Z\" fill=\"#000000\" fill-rule=\"nonzero\" fill-opacity=\"1\" /><path clip-path=\"url(#clip550)\" d=\"M1168.66 1533.45 L1168.66 1538.98 Q1166.18 1537.71 1163.5 1537.07 Q1160.83 1536.44 1157.97 1536.44 Q1153.61 1536.44 1151.41 1537.77 Q1149.25 1539.11 1149.25 1541.79 Q1149.25 1543.82 1150.8 1545 Q1152.36 1546.15 1157.08 1547.2 L1159.08 1547.64 Q1165.32 1548.98 1167.93 1551.43 Q1170.57 1553.85 1170.57 1558.21 Q1170.57 1563.17 1166.62 1566.07 Q1162.71 1568.97 1155.83 1568.97 Q1152.97 1568.97 1149.85 1568.39 Q1146.76 1567.85 1143.33 1566.74 L1143.33 1560.69 Q1146.57 1562.38 1149.72 1563.24 Q1152.87 1564.07 1155.96 1564.07 Q1160.1 1564.07 1162.33 1562.66 Q1164.55 1561.23 1164.55 1558.65 Q1164.55 1556.27 1162.93 1554.99 Q1161.34 1553.72 1155.9 1552.54 L1153.86 1552.07 Q1148.42 1550.92 1146 1548.56 Q1143.58 1546.18 1143.58 1542.04 Q1143.58 1537.01 1147.14 1534.27 Q1150.71 1531.54 1157.27 1531.54 Q1160.51 1531.54 1163.38 1532.01 Q1166.24 1532.49 1168.66 1533.45 Z\" fill=\"#000000\" fill-rule=\"nonzero\" fill-opacity=\"1\" /><path clip-path=\"url(#clip550)\" d=\"M1198.39 1526.13 L1182.16 1551.49 L1198.39 1551.49 L1198.39 1526.13 M1196.7 1520.52 L1204.79 1520.52 L1204.79 1551.49 L1211.57 1551.49 L1211.57 1556.84 L1204.79 1556.84 L1204.79 1568.04 L1198.39 1568.04 L1198.39 1556.84 L1176.94 1556.84 L1176.94 1550.63 L1196.7 1520.52 Z\" fill=\"#000000\" fill-rule=\"nonzero\" fill-opacity=\"1\" /><polyline clip-path=\"url(#clip552)\" style=\"stroke:#000000; stroke-linecap:round; stroke-linejoin:round; stroke-width:2; stroke-opacity:0.1; fill:none\" points=\"242.135,1373.6 2112.76,1373.6 \"/>\n",
       "<polyline clip-path=\"url(#clip552)\" style=\"stroke:#000000; stroke-linecap:round; stroke-linejoin:round; stroke-width:2; stroke-opacity:0.1; fill:none\" points=\"242.135,1160.8 2112.76,1160.8 \"/>\n",
       "<polyline clip-path=\"url(#clip552)\" style=\"stroke:#000000; stroke-linecap:round; stroke-linejoin:round; stroke-width:2; stroke-opacity:0.1; fill:none\" points=\"242.135,948.007 2112.76,948.007 \"/>\n",
       "<polyline clip-path=\"url(#clip552)\" style=\"stroke:#000000; stroke-linecap:round; stroke-linejoin:round; stroke-width:2; stroke-opacity:0.1; fill:none\" points=\"242.135,735.212 2112.76,735.212 \"/>\n",
       "<polyline clip-path=\"url(#clip552)\" style=\"stroke:#000000; stroke-linecap:round; stroke-linejoin:round; stroke-width:2; stroke-opacity:0.1; fill:none\" points=\"242.135,522.416 2112.76,522.416 \"/>\n",
       "<polyline clip-path=\"url(#clip552)\" style=\"stroke:#000000; stroke-linecap:round; stroke-linejoin:round; stroke-width:2; stroke-opacity:0.1; fill:none\" points=\"242.135,309.621 2112.76,309.621 \"/>\n",
       "<polyline clip-path=\"url(#clip552)\" style=\"stroke:#000000; stroke-linecap:round; stroke-linejoin:round; stroke-width:2; stroke-opacity:0.1; fill:none\" points=\"242.135,96.8254 2112.76,96.8254 \"/>\n",
       "<polyline clip-path=\"url(#clip550)\" style=\"stroke:#000000; stroke-linecap:round; stroke-linejoin:round; stroke-width:4; stroke-opacity:1; fill:none\" points=\"242.135,1423.18 242.135,47.2441 \"/>\n",
       "<polyline clip-path=\"url(#clip550)\" style=\"stroke:#000000; stroke-linecap:round; stroke-linejoin:round; stroke-width:4; stroke-opacity:1; fill:none\" points=\"242.135,1373.6 258.883,1373.6 \"/>\n",
       "<polyline clip-path=\"url(#clip550)\" style=\"stroke:#000000; stroke-linecap:round; stroke-linejoin:round; stroke-width:4; stroke-opacity:1; fill:none\" points=\"242.135,1160.8 258.883,1160.8 \"/>\n",
       "<polyline clip-path=\"url(#clip550)\" style=\"stroke:#000000; stroke-linecap:round; stroke-linejoin:round; stroke-width:4; stroke-opacity:1; fill:none\" points=\"242.135,948.007 258.883,948.007 \"/>\n",
       "<polyline clip-path=\"url(#clip550)\" style=\"stroke:#000000; stroke-linecap:round; stroke-linejoin:round; stroke-width:4; stroke-opacity:1; fill:none\" points=\"242.135,735.212 258.883,735.212 \"/>\n",
       "<polyline clip-path=\"url(#clip550)\" style=\"stroke:#000000; stroke-linecap:round; stroke-linejoin:round; stroke-width:4; stroke-opacity:1; fill:none\" points=\"242.135,522.416 258.883,522.416 \"/>\n",
       "<polyline clip-path=\"url(#clip550)\" style=\"stroke:#000000; stroke-linecap:round; stroke-linejoin:round; stroke-width:4; stroke-opacity:1; fill:none\" points=\"242.135,309.621 258.883,309.621 \"/>\n",
       "<polyline clip-path=\"url(#clip550)\" style=\"stroke:#000000; stroke-linecap:round; stroke-linejoin:round; stroke-width:4; stroke-opacity:1; fill:none\" points=\"242.135,96.8254 258.883,96.8254 \"/>\n",
       "<path clip-path=\"url(#clip550)\" d=\"M114.26 1374.05 L143.936 1374.05 L143.936 1377.99 L114.26 1377.99 L114.26 1374.05 Z\" fill=\"#000000\" fill-rule=\"nonzero\" fill-opacity=\"1\" /><path clip-path=\"url(#clip550)\" d=\"M154.839 1386.94 L162.477 1386.94 L162.477 1360.58 L154.167 1362.24 L154.167 1357.99 L162.431 1356.32 L167.107 1356.32 L167.107 1386.94 L174.746 1386.94 L174.746 1390.88 L154.839 1390.88 L154.839 1386.94 Z\" fill=\"#000000\" fill-rule=\"nonzero\" fill-opacity=\"1\" /><path clip-path=\"url(#clip550)\" d=\"M194.19 1359.4 Q190.579 1359.4 188.75 1362.96 Q186.945 1366.5 186.945 1373.63 Q186.945 1380.74 188.75 1384.3 Q190.579 1387.85 194.19 1387.85 Q197.825 1387.85 199.63 1384.3 Q201.459 1380.74 201.459 1373.63 Q201.459 1366.5 199.63 1362.96 Q197.825 1359.4 194.19 1359.4 M194.19 1355.69 Q200 1355.69 203.056 1360.3 Q206.135 1364.88 206.135 1373.63 Q206.135 1382.36 203.056 1386.97 Q200 1391.55 194.19 1391.55 Q188.38 1391.55 185.301 1386.97 Q182.246 1382.36 182.246 1373.63 Q182.246 1364.88 185.301 1360.3 Q188.38 1355.69 194.19 1355.69 Z\" fill=\"#000000\" fill-rule=\"nonzero\" fill-opacity=\"1\" /><path clip-path=\"url(#clip550)\" d=\"M144.607 1161.25 L174.283 1161.25 L174.283 1165.19 L144.607 1165.19 L144.607 1161.25 Z\" fill=\"#000000\" fill-rule=\"nonzero\" fill-opacity=\"1\" /><path clip-path=\"url(#clip550)\" d=\"M184.514 1177.37 L184.514 1173.11 Q186.274 1173.94 188.079 1174.38 Q189.885 1174.82 191.621 1174.82 Q196.25 1174.82 198.681 1171.72 Q201.135 1168.59 201.482 1162.25 Q200.139 1164.24 198.079 1165.31 Q196.019 1166.37 193.519 1166.37 Q188.334 1166.37 185.301 1163.25 Q182.292 1160.1 182.292 1154.66 Q182.292 1149.33 185.44 1146.12 Q188.588 1142.9 193.82 1142.9 Q199.815 1142.9 202.963 1147.5 Q206.135 1152.09 206.135 1160.84 Q206.135 1169.01 202.246 1173.89 Q198.38 1178.75 191.829 1178.75 Q190.07 1178.75 188.264 1178.41 Q186.459 1178.06 184.514 1177.37 M193.82 1162.71 Q196.968 1162.71 198.797 1160.56 Q200.649 1158.41 200.649 1154.66 Q200.649 1150.93 198.797 1148.78 Q196.968 1146.6 193.82 1146.6 Q190.672 1146.6 188.82 1148.78 Q186.991 1150.93 186.991 1154.66 Q186.991 1158.41 188.82 1160.56 Q190.672 1162.71 193.82 1162.71 Z\" fill=\"#000000\" fill-rule=\"nonzero\" fill-opacity=\"1\" /><path clip-path=\"url(#clip550)\" d=\"M144.515 948.459 L174.19 948.459 L174.19 952.394 L144.515 952.394 L144.515 948.459 Z\" fill=\"#000000\" fill-rule=\"nonzero\" fill-opacity=\"1\" /><path clip-path=\"url(#clip550)\" d=\"M194.283 948.876 Q190.95 948.876 189.028 950.658 Q187.13 952.44 187.13 955.565 Q187.13 958.69 189.028 960.473 Q190.95 962.255 194.283 962.255 Q197.616 962.255 199.537 960.473 Q201.459 958.667 201.459 955.565 Q201.459 952.44 199.537 950.658 Q197.639 948.876 194.283 948.876 M189.607 946.885 Q186.598 946.144 184.908 944.084 Q183.241 942.024 183.241 939.061 Q183.241 934.917 186.181 932.51 Q189.144 930.102 194.283 930.102 Q199.445 930.102 202.385 932.51 Q205.324 934.917 205.324 939.061 Q205.324 942.024 203.635 944.084 Q201.968 946.144 198.982 946.885 Q202.362 947.672 204.237 949.963 Q206.135 952.255 206.135 955.565 Q206.135 960.588 203.056 963.274 Q200 965.959 194.283 965.959 Q188.565 965.959 185.487 963.274 Q182.431 960.588 182.431 955.565 Q182.431 952.255 184.329 949.963 Q186.227 947.672 189.607 946.885 M187.894 939.501 Q187.894 942.186 189.561 943.69 Q191.25 945.195 194.283 945.195 Q197.292 945.195 198.982 943.69 Q200.695 942.186 200.695 939.501 Q200.695 936.815 198.982 935.311 Q197.292 933.806 194.283 933.806 Q191.25 933.806 189.561 935.311 Q187.894 936.815 187.894 939.501 Z\" fill=\"#000000\" fill-rule=\"nonzero\" fill-opacity=\"1\" /><path clip-path=\"url(#clip550)\" d=\"M145.325 735.663 L175.001 735.663 L175.001 739.599 L145.325 739.599 L145.325 735.663 Z\" fill=\"#000000\" fill-rule=\"nonzero\" fill-opacity=\"1\" /><path clip-path=\"url(#clip550)\" d=\"M183.913 717.932 L206.135 717.932 L206.135 719.923 L193.588 752.492 L188.704 752.492 L200.51 721.867 L183.913 721.867 L183.913 717.932 Z\" fill=\"#000000\" fill-rule=\"nonzero\" fill-opacity=\"1\" /><path clip-path=\"url(#clip550)\" d=\"M144.26 522.868 L173.936 522.868 L173.936 526.803 L144.26 526.803 L144.26 522.868 Z\" fill=\"#000000\" fill-rule=\"nonzero\" fill-opacity=\"1\" /><path clip-path=\"url(#clip550)\" d=\"M194.607 520.553 Q191.459 520.553 189.607 522.706 Q187.778 524.859 187.778 528.609 Q187.778 532.335 189.607 534.511 Q191.459 536.664 194.607 536.664 Q197.755 536.664 199.584 534.511 Q201.436 532.335 201.436 528.609 Q201.436 524.859 199.584 522.706 Q197.755 520.553 194.607 520.553 M203.889 505.9 L203.889 510.16 Q202.13 509.326 200.325 508.886 Q198.542 508.447 196.783 508.447 Q192.153 508.447 189.7 511.572 Q187.269 514.697 186.922 521.016 Q188.288 519.002 190.348 517.937 Q192.408 516.849 194.885 516.849 Q200.093 516.849 203.102 520.021 Q206.135 523.169 206.135 528.609 Q206.135 533.933 202.987 537.15 Q199.838 540.368 194.607 540.368 Q188.612 540.368 185.44 535.784 Q182.269 531.178 182.269 522.451 Q182.269 514.257 186.158 509.396 Q190.047 504.511 196.598 504.511 Q198.357 504.511 200.139 504.859 Q201.945 505.206 203.889 505.9 Z\" fill=\"#000000\" fill-rule=\"nonzero\" fill-opacity=\"1\" /><path clip-path=\"url(#clip550)\" d=\"M145.417 310.072 L175.093 310.072 L175.093 314.008 L145.417 314.008 L145.417 310.072 Z\" fill=\"#000000\" fill-rule=\"nonzero\" fill-opacity=\"1\" /><path clip-path=\"url(#clip550)\" d=\"M185.232 292.341 L203.588 292.341 L203.588 296.276 L189.514 296.276 L189.514 304.748 Q190.533 304.401 191.551 304.239 Q192.57 304.054 193.588 304.054 Q199.375 304.054 202.755 307.225 Q206.135 310.396 206.135 315.813 Q206.135 321.392 202.662 324.494 Q199.19 327.572 192.871 327.572 Q190.695 327.572 188.426 327.202 Q186.181 326.832 183.774 326.091 L183.774 321.392 Q185.857 322.526 188.079 323.082 Q190.301 323.637 192.778 323.637 Q196.783 323.637 199.121 321.531 Q201.459 319.424 201.459 315.813 Q201.459 312.202 199.121 310.095 Q196.783 307.989 192.778 307.989 Q190.903 307.989 189.028 308.406 Q187.176 308.822 185.232 309.702 L185.232 292.341 Z\" fill=\"#000000\" fill-rule=\"nonzero\" fill-opacity=\"1\" /><path clip-path=\"url(#clip550)\" d=\"M143.936 97.2768 L173.612 97.2768 L173.612 101.212 L143.936 101.212 L143.936 97.2768 Z\" fill=\"#000000\" fill-rule=\"nonzero\" fill-opacity=\"1\" /><path clip-path=\"url(#clip550)\" d=\"M196.551 83.6195 L184.746 102.068 L196.551 102.068 L196.551 83.6195 M195.325 79.5454 L201.204 79.5454 L201.204 102.068 L206.135 102.068 L206.135 105.957 L201.204 105.957 L201.204 114.105 L196.551 114.105 L196.551 105.957 L180.95 105.957 L180.95 101.443 L195.325 79.5454 Z\" fill=\"#000000\" fill-rule=\"nonzero\" fill-opacity=\"1\" /><path clip-path=\"url(#clip550)\" d=\"M22.818 754.389 L58.657 767.438 L58.657 741.307 L22.818 754.389 M64.0042 776.159 L16.4842 758.017 L16.4842 750.728 L64.0042 732.618 L64.0042 776.159 Z\" fill=\"#000000\" fill-rule=\"nonzero\" fill-opacity=\"1\" /><path clip-path=\"url(#clip550)\" d=\"M22.086 707.442 L47.4533 723.674 L47.4533 707.442 L22.086 707.442 M16.4842 709.128 L16.4842 701.044 L47.4533 701.044 L47.4533 694.265 L52.8005 694.265 L52.8005 701.044 L64.0042 701.044 L64.0042 707.442 L52.8005 707.442 L52.8005 728.894 L46.5939 728.894 L16.4842 709.128 Z\" fill=\"#000000\" fill-rule=\"nonzero\" fill-opacity=\"1\" /><g clip-path=\"url(#clip552)\">\n",
       "<image width=\"1765\" height=\"1298\" xlink:href=\"data:image/png;base64,\n",
       "iVBORw0KGgoAAAANSUhEUgAABuUAAAUSCAYAAAAe0/xTAAAgAElEQVR4nOzb0ZHsOnIE0AKbvfJG\n",
       "Jsl9eSBp7xsC+pAB2oiNqowdnuNARgEgm2TOrP/8j38/NezsNR1Z51zzmYE59wms7Q6sbWDOnZgz\n",
       "cYYCc74mM3Af2s5Qi+cFM1Zl5nz2J5D5lrWdz/wJ3Pcic74lM7Cf71nb2d/rv14wY1VozsCz11+R\n",
       "tZXZlzkeWX+NfxWq+pOY8yWZf575Df2zZzP/nMSM85v55zzjmX+vn/HMP+vPeObf198Dmf8znvmn\n",
       "/ns+8/zXKzL/2oHMZ34/nz2fuROZZ/aeMP+WAgAAAAAAAC+jlAMAAAAAAIBmSjkAAAAAAABoppQD\n",
       "AAAAAACAZko5AAAAAAAAaKaUAwAAAAAAgGZKOQAAAAAAAGimlAMAAAAAAIBmSjkAAAAAAABoppQD\n",
       "AAAAAACAZko5AAAAAAAAaKaUAwAAAAAAgGZKOQAAAAAAAGimlAMAAAAAAIBmSjkAAAAAAABoppQD\n",
       "AAAAAACAZko5AAAAAAAAaKaUAwAAAAAAgGZKOQAAAAAAAGimlAMAAAAAAIBmSjkAAAAAAABodn++\n",
       "P+OhZ6/5zDPfPybmvF6ytjuytok55zOvvcczE3O+JnMlMs+vz7wCMz6BzBXITKztFbhO1voEMgNn\n",
       "aAcy6x3Xiv38ZZmB5+lpK/AcVNf8c+1K/N3r/Jj+vLfV/Ltu4gydwJiJpU1knivwXWg6L3HfC7wz\n",
       "nMAzyTnz7ynnfMczd2JtE5kr8I0vkRn4IUus7Qk82556XpG59mymR2kAAAAAAABoppQDAAAAAACA\n",
       "Zko5AAAAAAAAaKaUAwAAAAAAgGZKOQAAAAAAAGimlAMAAAAAAIBmSjkAAAAAAABoppQDAAAAAACA\n",
       "Zko5AAAAAAAAaKaUAwAAAAAAgGZKOQAAAAAAAGimlAMAAAAAAIBmSjkAAAAAAABoppQDAAAAAACA\n",
       "Zko5AAAAAAAAaKaUAwAAAAAAgGZKOQAAAAAAAGimlAMAAAAAAIBmSjkAAAAAAABoppQDAAAAAACA\n",
       "Zvf1/ZlP3Ws88pz5/vEk5oxkzq/tOu+Y8wpk7sicezxzP+9YW5m/I6+qaiWuzecznvmsM565XpJ5\n",
       "rfn9vN6ytjsw53jiizIDoWv+UWhcYi8r8M4QmTORGngu8SfFnQLv1+OJ75FY2xO6+/12ie9QkfNz\n",
       "5lNPfeczA3PuCnxvCzzYnvXMZ17zmbvekXlO4OVo+Ax5rAUAAAAAAIBmSjkAAAAAAABoppQDAAAA\n",
       "AACAZko5AAAAAAAAaKaUAwAAAAAAgGZKOQAAAAAAAGimlAMAAAAAAIBmSjkAAAAAAABoppQDAAAA\n",
       "AACAZko5AAAAAAAAaKaUAwAAAAAAgGZKOQAAAAAAAGimlAMAAAAAAIBmSjkAAAAAAABoppQDAAAA\n",
       "AACAZko5AAAAAAAAaKaUAwAAAAAAgGZKOQAAAAAAAGimlAMAAAAAAIBmSjkAAAAAAABodn++P+Oh\n",
       "Z69A5nz/eM5L5tx7PHO9ZM7EfmbWNjDnNb+f1zM/5w6sbSbzM5r3PGc0r6pqrfnMHchcw3tZVbVe\n",
       "sp9r/rEkNGcgczwxlfmS/Zx/RIjs57TIjC95xsz8rW1gzsB++jPmPucVd74K/HK+IzNxfjLrmni3\n",
       "Ho+sU/PvgDuwoYn36x34vX5N5npekXkSmVcg88xmesQEAAAAAACAZko5AAAAAAAAaKaUAwAAAAAA\n",
       "gGZKOQAAAAAAAGimlAMAAAAAAIBmSjkAAAAAAABoppQDAAAAAACAZko5AAAAAAAAaKaUAwAAAAAA\n",
       "gGZKOQAAAAAAAGimlAMAAAAAAIBmSjkAAAAAAABoppQDAAAAAACAZko5AAAAAAAAaKaUAwAAAAAA\n",
       "gGZKOQAAAAAAAGimlAMAAAAAAIBmSjkAAAAAAABoppQDAAAAAACAZko5AAAAAAAAaKaUAwAAAAAA\n",
       "gGb39f0ZDz17jWfWnu8fz5mf8yTmDOynOfusxNo+L5nzOuOZ6wlk7t+fudb8+dmBM/s8n/HMtQLn\n",
       "J7Cf6zVrG5izAnOOJ2b2sxKZez4yI7C2wxLXSUTg97quxIWS+Pvel9yDAkubuANl7nqBd/rxxIzp\n",
       "OSNnNvCNL/L5dCWuk8D7deAUnTP/bnTqO565Az+eez3jmafmMyNzXoE5z++f03/KAQAAAAAAQDOl\n",
       "HAAAAAAAADRTygEAAAAAAEAzpRwAAAAAAAA0U8oBAAAAAABAM6UcAAAAAAAANFPKAQAAAAAAQDOl\n",
       "HAAAAAAAADRTygEAAAAAAEAzpRwAAAAAAAA0U8oBAAAAAABAM6UcAAAAAAAANFPKAQAAAAAAQDOl\n",
       "HAAAAAAAADRTygEAAAAAAEAzpRwAAAAAAAA0U8oBAAAAAABAM6UcAAAAAAAANFPKAQAAAAAAQDOl\n",
       "HAAAAAAAADS7r+/PeOjZazyz9nz/mJjznJfMmdjPJ7G2ezxzJdb2ms9ckf0MzPmStZ0+t2t9RvOq\n",
       "qtY+85lrPnPvwNo+ibUdj3zPnPWOOStwfUbGjGT+/rVNrGsF1vU1As+Ydc2/p2Qk3hnGI+u85AYf\n",
       "+FxSJzBo4m57hkMTZ/Y95+cd3/gCr9eRa3NPX5xVtWv+hyySuRKZz3jmqfnMff3+Of2nHAAAAAAA\n",
       "ADRTygEAAAAAAEAzpRwAAAAAAAA0U8oBAAAAAABAM6UcAAAAAAAANFPKAQAAAAAAQDOlHAAAAAAA\n",
       "ADRTygEAAAAAAEAzpRwAAAAAAAA0U8oBAAAAAABAM6UcAAAAAAAANFPKAQAAAAAAQDOlHAAAAAAA\n",
       "ADRTygEAAAAAAEAzpRwAAAAAAAA0U8oBAAAAAABAM6UcAAAAAAAANFPKAQAAAAAAQDOlHAAAAAAA\n",
       "ADRTygEAAAAAAECz+/r+jIeeHegC9x6PPHsFMufXNjFnJea8Ems7n7kT18ozP+cK7OdOzBk4Q2t9\n",
       "5jP3Gc271mxeVeb8PIm9fObXNnJmE3NWYM7AtfKWOSsx53hiVUXWFvh/Rd7HAu8p44lVx99Otznz\n",
       "Ryjy43lW4FvU8LHNXJsvyTzz5yfyWTFxnQTu7/vMvzPs+o5nPoEb/F7PfGbN9zh7JTIDazs8p6c9\n",
       "AAAAAAAAaKaUAwAAAAAAgGZKOQAAAAAAAGimlAMAAAAAAIBmSjkAAAAAAABoppQDAAAAAACAZko5\n",
       "AAAAAAAAaKaUAwAAAAAAgGZKOQAAAAAAAGimlAMAAAAAAIBmSjkAAAAAAABoppQDAAAAAACAZko5\n",
       "AAAAAAAAaKaUAwAAAAAAgGZKOQAAAAAAAGimlAMAAAAAAIBmSjkAAAAAAABoppQDAAAAAACAZko5\n",
       "AAAAAAAAaKaUAwAAAAAAgGb3+v6Mh6493wWevcYzVyDzRNY20O3uPR75lrVdT2DO64xn7mc+cwXm\n",
       "PC+Zc/rc7vUZzauqWmt+XWsH9jKxtoHrpOodZ2g9gTnHE0PXZ8BKLG4Fzu14Ympt4V9M4r0zcX9f\n",
       "gXfdK/AOOJ5YdQJ3+MycgffO4bVNrOv8lRl5Hat9zV8nibU9gf9TCXzKrB1479xn/uA+6zueuc/8\n",
       "hu71zGfWfOaz5vuqzzWb6T/lAAAAAAAAoJlSDgAAAAAAAJop5QAAAAAAAKCZUg4AAAAAAACaKeUA\n",
       "AAAAAACgmVIOAAAAAAAAminlAAAAAAAAoJlSDgAAAAAAAJop5QAAAAAAAKCZUg4AAAAAAACaKeUA\n",
       "AAAAAACgmVIOAAAAAAAAminlAAAAAAAAoJlSDgAAAAAAAJop5QAAAAAAAKCZUg4AAAAAAACaKeUA\n",
       "AAAAAACgmVIOAAAAAAAAminlAAAAAAAAoJlSDgAAAAAAAJop5QAAAAAAAKDZfX2f8dCz93jm2ms8\n",
       "8+z5znMF1jYx5wnsZyX28wms7ZXYz8DfByTmfMl+1vMZj1zr/Oq8qqq95te19vycibVdgbVdgZ+x\n",
       "55lf24jA2tZL1jaxtFWBe8J4IvyzAu+644lvyky8jwUmDdxsT+A580TmnA/dw2u7AzNG9jLwOp+4\n",
       "7+3A4kY+KyauzcAhemr+/fp7At9oav4b/FPzPc6zfl6RuWs203/KAQAAAAAAQDOlHAAAAAAAADRT\n",
       "ygEAAAAAAEAzpRwAAAAAAAA0U8oBAAAAAABAM6UcAAAAAAAANFPKAQAAAAAAQDOlHAAAAAAAADRT\n",
       "ygEAAAAAAEAzpRwAAAAAAAA0U8oBAAAAAABAM6UcAAAAAAAANFPKAQAAAAAAQDOlHAAAAAAAADRT\n",
       "ygEAAAAAAEAzpRwAAAAAAAA0U8oBAAAAAABAM6UcAAAAAAAANFPKAQAAAAAAQDOlHAAAAAAAADS7\n",
       "1/dnPnWvQOZ8/7j2Hs88r1nb+cyzz3zmNX+GIvv5BP4+4Aqcoeszn/nMn9u15jP3mt3PFdjLdQX2\n",
       "8gnMGTg/K/DTmZizVmI/xyNrJe57FVjb8cRMZiYU/rUEflEimW/xlv08gb8R3xX4RhOZc94Z/sF+\n",
       "y3WS2MvAp6/EZ6jMfp75B9sd+Pa1A4don/n3sV33eOZT3/HMXX8LZD7zmWu2I/OfcgAAAAAAANBM\n",
       "KQcAAAAAAADNlHIAAAAAAADQTCkHAAAAAAAAzZRyAAAAAAAA0EwpBwAAAAAAAM2UcgAAAAAAANBM\n",
       "KQcAAAAAAADNlHIAAAAAAADQTCkHAAAAAAAAzZRyAAAAAAAA0EwpBwAAAAAAAM2UcgAAAAAAANBM\n",
       "KQcAAAAAAADNlHIAAAAAAADQTCkHAAAAAAAAzZRyAAAAAAAA0EwpBwAAAAAAAM2UcgAAAAAAANBM\n",
       "KQcAAAAAAADN7vV95lP3CmTuQGZizvmedQXW9iTmfOYzzxXIfM585jWfeSXmXIm1fce5reszGpe4\n",
       "TmrNzlhVtQJndr1lzpqfM2FV4Fp5ydrSKXFuf7/Eqp7IVs6/A2ZObOBdNzDoSYy5AqGJ95RI5njk\n",
       "i+aczYt8bgtcmy/5rFiBL7a1AxdKZG0Di/us+UGfwEPCc+bfO791j2c+9bf5zDXfVz3112ie/5QD\n",
       "AAAAAACAZko5AAAAAAAAaKaUAwAAAAAAgGZKOQAAAAAAAGimlAMAAAAAAIBmSjkAAAAAAABoppQD\n",
       "AAAAAACAZko5AAAAAAAAaKaUAwAAAAAAgGZKOQAAAAAAAGimlAMAAAAAAIBmSjkAAAAAAABoppQD\n",
       "AAAAAACAZko5AAAAAAAAaKaUAwAAAAAAgGZKOQAAAAAAAGimlAMAAAAAAIBmSjkAAAAAAABoppQD\n",
       "AAAAAACAZko5AAAAAAAAaKaUAwAAAAAAgGb3+u751L1ktmWeQGZgzicw55W4VgK9+TWfuZ75zBOY\n",
       "M5L5fOYzV+D6HM48a35dV2Bdd2DO6b38P4E5EwJruyJnaD4ykskv8/sPUeLu/haRtT3zZ/YEXo1O\n",
       "4No8Nf/emThDgbfrOoG/S9+B1X3Dfu7AtZnYy8icL/msmPjctgO/nU/kc3ji3Cbu7/Pvus+5xzO/\n",
       "gV/sp37mM9e/jeb5TzkAAAAAAABoppQDAAAAAACAZko5AAAAAAAAaKaUAwAAAAAAgGZKOQAAAAAA\n",
       "AGimlAMAAAAAAIBmSjkAAAAAAABoppQDAAAAAACAZko5AAAAAAAAaKaUAwAAAAAAgGZKOQAAAAAA\n",
       "AGimlAMAAAAAAIBmSjkAAAAAAABoppQDAAAAAACAZko5AAAAAAAAaKaUAwAAAAAAgGZKOQAAAAAA\n",
       "AGimlAMAAAAAAIBmSjkAAAAAAABoppQDAAAAAACAZnd950PXPvOhgcyz13jm2uORVYE560qcocCc\n",
       "z/ycK7C2J7GfgbWt9ZbMz3jkNTznCazrCaxrBW57iTMbGTMQuhL3A+AfMn51Rm4HkbvtfOSZz4xs\n",
       "ZyA0MecJnKHMnPN24lqJPMPPf6Q5a/7v7/fww+0O7OX0jP+XOR5ZO/DvG5FPmYnPioG1feYjI/f3\n",
       "J3B9PoH/dfqe+e9CT93jmd9AYfXUz2ie/5QDAAAAAACAZko5AAAAAAAAaKaUAwAAAAAAgGZKOQAA\n",
       "AAAAAGimlAMAAAAAAIBmSjkAAAAAAABoppQDAAAAAACAZko5AAAAAAAAaKaUAwAAAAAAgGZKOQAA\n",
       "AAAAAGimlAMAAAAAAIBmSjkAAAAAAABoppQDAAAAAACAZko5AAAAAAAAaKaUAwAAAAAAgGZKOQAA\n",
       "AAAAAGimlAMAAAAAAIBmSjkAAAAAAABoppQDAAAAAACAZko5AAAAAAAAaHave42HnnPGM2vPR679\n",
       "jjnPM5+5rkDoM3+t1BU4Q0/gEF2Bvw8IZK5A5rk+gcz5czs9Z2LGnbgFrcA9aAXO7HhiVSXWtubX\n",
       "NiJwrQD/v8RdL/HaGZkzkXkC3xECN/hIZuLcrvk59zX/3pm5PuffAXdg0unMwFeL92QG7u+Jd90d\n",
       "+AyV+Ez8RO7v45H1nPnQJ3CvfQK/Kd8z/x3hqe945l2zXYP/lAMAAAAAAIBmSjkAAAAAAABoppQD\n",
       "AAAAAACAZko5AAAAAAAAaKaUAwAAAAAAgGZKOQAAAAAAAGimlAMAAAAAAIBmSjkAAAAAAABoppQD\n",
       "AAAAAACAZko5AAAAAAAAaKaUAwAAAAAAgGZKOQAAAAAAAGimlAMAAAAAAIBmSjkAAAAAAABoppQD\n",
       "AAAAAACAZko5AAAAAAAAaKaUAwAAAAAAgGZKOQAAAAAAAGimlAMAAAAAAIBmSjkAAAAAAABodtd3\n",
       "vpdb+4xnViDz7PHIyJzrSuznfOQJVNhrP/OhV2DQJ3CGlsy+zE8gc3jOwIxXBX7HIns5H3kCaxu5\n",
       "ThIC+5nwkjH5RQJ3vReZvyOc85LMyNqOR0beOxNrm/hckji3O/A+dgcy95rd0b3mL5QdeOCLZAbu\n",
       "QTtxD0p8ykx8bpuPrB241z6Bb9NPYEOfwIPJU/PfLu5A5rfu0Tz/KQcAAAAAAADNlHIAAAAAAADQ\n",
       "TCkHAAAAAAAAzZRyAAAAAAAA0EwpBwAAAAAAAM2UcgAAAAAAANBMKQcAAAAAAADNlHIAAAAAAADQ\n",
       "TCkHAAAAAAAAzZRyAAAAAAAA0EwpBwAAAAAAAM2UcgAAAAAAANBMKQcAAAAAAADNlHIAAAAAAADQ\n",
       "TCkHAAAAAAAAzZRyAAAAAAAA0EwpBwAAAAAAAM2UcgAAAAAAANBMKQcAAAAAAADNlHIAAAAAAADQ\n",
       "TCkHAAAAAAAAze763vOpewcyz3jkCmQm1vYEtrOewH5egf185iPPmt/Qda3xzErs51syA9u51uyc\n",
       "Zzivqmqvz3hmYi+vxNrW/Nombnv8LoG7+3u8YHFP4gZ/5jNPJHP+Af4kzmwgMzJm4pU+cH3uwLVy\n",
       "J25DgQewxOeSxLWyh//mfwcuzr0C5ydwnbwmM/BvKoFPmZF77RNY2zvwO/Yk1nbNL+4T+FW5z/w3\n",
       "mqdmOzL/KQcAAAAAAADNlHIAAAAAAADQTCkHAAAAAAAAzZRyAAAAAAAA0EwpBwAAAAAAAM2UcgAA\n",
       "AAAAANBMKQcAAAAAAADNlHIAAAAAAADQTCkHAAAAAAAAzZRyAAAAAAAA0EwpBwAAAAAAAM2UcgAA\n",
       "AAAAANBMKQcAAAAAAADNlHIAAAAAAADQTCkHAAAAAAAAzZRyAAAAAAAA0EwpBwAAAAAAAM2UcgAA\n",
       "AAAAANBMKQcAAAAAAADNlHIAAAAAAADQ7K7vPZ+690syz3zms8YjV2LOa34/zzMeWXXNr+0KZNYT\n",
       "yFzz10oFImsl1jaR+RnOm5/xCpyfwE7WTqzteGLVSdwP4J+VuCkkROacvSmcxIPt8E91VWYrT+CB\n",
       "7y2ZOzFn4Ac7sp8vmXOf+e8Id+C9M/E8fQ9n7sB3ix34VQl8yYx8ytyBd6MncG3egRfPl3yarh3Y\n",
       "z8SciXP7BJ4R7sCLw1OzHZn/lAMAAAAAAIBmSjkAAAAAAABoppQDAAAAAACAZko5AAAAAAAAaKaU\n",
       "AwAAAAAAgGZKOQAAAAAAAGimlAMAAAAAAIBmSjkAAAAAAABoppQDAAAAAACAZko5AAAAAAAAaKaU\n",
       "AwAAAAAAgGZKOQAAAAAAAGimlAMAAAAAAIBmSjkAAAAAAABoppQDAAAAAACAZko5AAAAAAAAaKaU\n",
       "AwAAAAAAgGZKOQAAAAAAAGimlAMAAAAAAIBmSjkAAAAAAABodtd9z6fuE8jc78i8XjLns8YjV2Jt\n",
       "n/nIswLX5/x21grMedb8GVorsbjzkeOZL7lOqubnvNZnPDOwmxX4RfGXWPAPOmf+hnuGH/o+iRtf\n",
       "QGQvz/wD/AnsZ2Zt35G5E5nXO+a8A3OewFNf5AwNvx99Au9jdyBzB94Bn8B1Mv8GWHUnPk1H9nM+\n",
       "M7G2iTkTz9N34Bvfs+YX9w58pXnO7J3I9xkAAAAAAABoppQDAAAAAACAZko5AAAAAAAAaKaUAwAA\n",
       "AAAAgGZKOQAAAAAAAGimlAMAAAAAAIBmSjkAAAAAAABoppQDAAAAAACAZko5AAAAAAAAaKaUAwAA\n",
       "AAAAgGZKOQAAAAAAAGimlAMAAAAAAIBmSjkAAAAAAABoppQDAAAAAACAZko5AAAAAAAAaKaUAwAA\n",
       "AAAAgGZKOQAAAAAAAGimlAMAAAAAAIBmSjkAAAAAAABoppQDAAAAAACAZko5AAAAAAAAaHaf+zse\n",
       "us4ez6z9kswnMeczn7nWfOYOZK75/VzrjGeeaz6zApkrkHkSxzZwbs/wuV0VOLOBvazXzDkv8VdR\n",
       "gScEf/312wRuCSfxQ3YCz7bTAuua2MvPZ34vE3NmMhNrOx5Z+y37GXgAS8yZ2M8d+Hbxueaf+u7h\n",
       "vMxezt+EPoHHoDswZ+Jz2w68qDyBc3sH1vYJrO0deEZ4rvnFfQJzfgK/Y/eZP0TP8NcL30oAAAAA\n",
       "AACgmVIOAAAAAAAAminlAAAAAAAAoJlSDgAAAAAAAJop5QAAAAAAAKCZUg4AAAAAAACaKeUAAAAA\n",
       "AACgmVIOAAAAAAAAminlAAAAAAAAoJlSDgAAAAAAAJop5QAAAAAAAKCZUg4AAAAAAACaKeUAAAAA\n",
       "AACgmVIOAAAAAAAAminlAAAAAAAAoJlSDgAAAAAAAJop5QAAAAAAAKCZUg4AAAAAAACaKeUAAAAA\n",
       "AACgmVIOAAAAAAAAmt31/Y6Hnr3HMyuQufYznllXYG2fQLd7Bdb2CaxtYs7AGVqJtV3zkWed8cwV\n",
       "yKxIZmBDp71gxKp6z5wBib/ECtzd6wrcgiqSGfkhm488gWehgDN880us6ydxnQR+VBJrG7kFRe4H\n",
       "85n7zP+SZeYMZF7zmXdizsB9KDLn8DvgJ/Dd4h5PrNpn/gl+ei+rqp7AY+0n8A3hDryoPIH7wR3Y\n",
       "z8wZms/MrO18aCLzZ/iLif+UAwAAAAAAgGZKOQAAAAAAAGimlAMAAAAAAIBmSjkAAAAAAABoppQD\n",
       "AAAAAACAZko5AAAAAAAAaKaUAwAAAAAAgGZKOQAAAAAAAGimlAMAAAAAAIBmSjkAAAAAAABoppQD\n",
       "AAAAAACAZko5AAAAAAAAaKaUAwAAAAAAgGZKOQAAAAAAAGimlAMAAAAAAIBmSjkAAAAAAABoppQD\n",
       "AAAAAACAZko5AAAAAAAAaKaUAwAAAAAAgGZKOQAAAAAAAGh21/2dT907kPmMR54d6DwDc66V2M81\n",
       "n2nOxsz5c5uYM3GtnHXGMxPW8JynEudnPDLkHWf2Ld5ybFdg0lWBZ77xxNRfEM5Pes7sfp7Arfac\n",
       "37+uVVWfT2LOQOYn8FwbmHMHzlBmzpdkXvOZtzlb7MB7biLzcwUyAw8Jd+Bl90nsZ2DOO/AA/wQy\n",
       "P4GXhjvwPP0E7u+fwJyRa2X4d8x/ygEAAAAAAEAzpRwAAAAAAAA0U8oBAAAAAABAM6UcAAAAAAAA\n",
       "NFPKAQAAAAAAQDOlHAAAAAAAADRTygEAAAAAAEAzpRwAAAAAAAA0U8oBAAAAAABAM6UcAAAAAAAA\n",
       "NFPKAQAAAAAAQDOlHAAAAAAAADRTygEAAAAAAEAzpRwAAAAAAAA0U8oBAAAAAABAM6UcAAAAAAAA\n",
       "NFPKAQAAAAAAQDOlHAAAAAAAADRTygEAAAAAAEAzpRwAAAAAAAA0u8/9nU/dezxy7UD/GJizAnOe\n",
       "6xnPXE9gP9f8nLXXfGZizmXOvsj5+9CpM55ZazZzBWY8gb0MXJnvEbhMEplXIHOf+ZN7ncBvykvO\n",
       "UAX2swL7eYbX9rxmXefnPIE5r2t+zk9iPwNzJn5Tzpl/5kvM+ZrMyPX5++dMzPgZfueMZQYe4D/T\n",
       "D0JVdQcehZ7AN6HMfs7PmdnP+czPazIT9/jZrsF/ygEAAAAAAEAzpRwAAAAAAAA0U8oBAAAAAABA\n",
       "M6UcAAAAAAAANFPKAQAAAAAAQDOlHAAAAAAAADRTygEAAAAAAEAzpRwAAAAAAAA0U8oBAAAAAABA\n",
       "M6UcAAAAAAAANFPKAQAAAAAAQDOlHAAAAAAAADRTygEAAAAAAEAzpRwAAAAAAAA0U8oBAAAAAABA\n",
       "M6UcAAAAAAAANFPKAQAAAAAAQDOlHAAAAAAAADRTygEAAAAAAEAzpRwAAAAAAAA0U8oBAAAAAABA\n",
       "s/vc3/HQtZ/xzLMD/WNgzhWZcz7zrPm1rbXmI/d8ZmLOiuznfGRkbQNW7fHMM760ZzqwViDzBPby\n",
       "HVdJVegm9IrMq+Z/U+avlKo1f0uoa/5mW3UC7w2BOafX9gTWNfBjXZ+XnJ+3zHl95uf8BOZMXJ87\n",
       "MGcmc/7bxT7zP9ifwEPCHs78XPNPX4n7QWIv35P5lv1MzDkemckMfIL/BN4B78AZ+omcodlQ/ykH\n",
       "AAAAAAAAzZRyAAAAAAAA0EwpBwAAAAAAAM2UcgAAAAAAANBMKQcAAAAAAADNlHIAAAAAAADQTCkH\n",
       "AAAAAAAAzZRyAAAAAAAA0EwpBwAAAAAAAM2UcgAAAAAAANBMKQcAAAAAAADNlHIAAAAAAADQTCkH\n",
       "AAAAAAAAzZRyAAAAAAAA0EwpBwAAAAAAAM2UcgAAAAAAANBMKQcAAAAAAADNlHIAAAAAAADQTCkH\n",
       "AAAAAAAAzZRyAAAAAAAA0Oyu+zseevZnPJU/zI0AACAASURBVLP2Mx659nzneQJz1rPGI9eaz6xA\n",
       "5tnW9ldlVuD6TEhsZ+3RvDOalktdgcxzZveyKnJkMxIH9yWZ68yfoiuQuU/geTqytoHf6+Fzm3jG\n",
       "rGt+Xc81P+fnmv8dS8x5Beb8BO4HJzDnDsz52YE5A+9jewXmTNyHIs8Is5mfwPn5rPmHzNdkXoHM\n",
       "M595Bx6/nsC1cgf280n8dgb2M5IZ+JeuO/BO/zN8rfhPOQAAAAAAAGimlAMAAAAAAIBmSjkAAAAA\n",
       "AABoppQDAAAAAACAZko5AAAAAAAAaKaUAwAAAAAAgGZKOQAAAAAAAGimlAMAAAAAAIBmSjkAAAAA\n",
       "AABoppQDAAAAAACAZko5AAAAAAAAaKaUAwAAAAAAgGZKOQAAAAAAAGimlAMAAAAAAIBmSjkAAAAA\n",
       "AABoppQDAAAAAACAZko5AAAAAAAAaKaUAwAAAAAAgGZKOQAAAAAAAGimlAMAAAAAAIBm97m/86l7\n",
       "j0euPd8/nkBmYs5aL1nbwJz1BNa21nhmrfnMlZgzsrbzkW+wav537IwnZlJXIPME9jOxoeu85L4X\n",
       "yFznGc98yxm6Ims7P+cZzrwC72PTM1ZVXScx5/yZvQJr+4msbeAMXfNzfgJz7rfMGTi3O3F9Bt6v\n",
       "9zX77SJxD/pciXtt4vzMP2S+J/Mt+5mYczxSZmvm779W/KccAAAAAAAANFPKAQAAAAAAQDOlHAAA\n",
       "AAAAADRTygEAAAAAAEAzpRwAAP/Lvh3lWI4jSQAkpay+/4E7xf2YCyww8HBM0ewCjiApPUmeCQAA\n",
       "AECYUg4AAAAAAADClHIAAAAAAAAQppQDAAAAAACAMKUcAAAAAAAAhCnlAAAAAAAAIEwpBwAAAAAA\n",
       "AGFKOQAAAAAAAAhTygEAAAAAAECYUg4AAAAAAADClHIAAAAAAAAQppQDAAAAAACAMKUcAAAAAAAA\n",
       "hCnlAAAAAAAAIEwpBwAAAAAAAGFKOQAAAAAAAAj7OT9/xkP3941nnq/QPzYyfwuZez5zF+Y8e49n\n",
       "7kLmamT+zmee1djP8chVGLMTWplz1l6F384zHlkJ3Y1Bzy37eUfmPoWbUCFzn9/xzPXdMeczvZ/f\n",
       "/IyncGZPYS934cw+T+E35SlcJ88dazt+P1hrvYU5vzP/Tv8Unr8q+1lY2294bd/Cy/W75x8yZf5d\n",
       "mU9lzvHI9VSuz/HIazILj1+VzOnfFf8pBwAAAAAAAGFKOQAAAAAAAAhTygEAAAAAAECYUg4AAAAA\n",
       "AADClHIAAAAAAAAQppQDAAAAAACAMKUcAAAAAAAAhCnlAAAAAAAAIEwpBwAAAAAAAGFKOQAAAAAA\n",
       "AAhTygEAAAAAAECYUg4AAAAAAADClHIAAAAAAAAQppQDAAAAAACAMKUcAAAAAAAAhCnlAAAAAAAA\n",
       "IEwpBwAAAAAAAGFKOQAAAAAAAAhTygEAAAAAAECYUg4AAAAAAADClHIAAAAAAAAQ9nPef+ZT928h\n",
       "c75/3IXM05jz2+OZZ89n7t875lyNtS2M2Qg944lrNZa2Y3h1G5tZsNc3nnkuWdxdmbOQeebP0DqF\n",
       "O98pPNsWlvYprO33za/tLsy5h+fc7/yMT+F+cBrvKW9hzkvW9nnm56xkFu5BjTnfwrn9Cuf2K3yj\n",
       "+fb82v4Ov1+/z/y6vmf+Wfot7OVb+Fby7sba3pJ5y36OR5bWdjxSZoj/lAMAAAAAAIAwpRwAAAAA\n",
       "AACEKeUAAAAAAAAgTCkHAAAAAAAAYUo5AAAAAAAACFPKAQAAAAAAQJhSDgAAAAAAAMKUcgAAAAAA\n",
       "ABCmlAMAAAAAAIAwpRwAAAAAAACEKeUAAAAAAAAgTCkHAAAAAAAAYUo5AAAAAAAACFPKAQAAAAAA\n",
       "QJhSDgAAAAAAAMKUcgAAAAAAABCmlAMAAAAAAIAwpRwAAAAAAACEKeUAAAAAAAAgTCkHAAAAAAAA\n",
       "YT/r58946PkKXeAtmb+FzL3nIwt98mnM+TufudZ85hlPXGsX5mzorG1BY9AbFNZ1FzLP+Qqh85Hr\n",
       "zIfur7G2hbtQI/NrzDm/n7sw5y7M+QzP2bjv7e93PPN5C8+1hfveeebX9hTW9imc27eQeQq/Kd/T\n",
       "uO8VMp87zu1z5r+XvMPPmb+N+0Hhm9BbOLPTe7nWWm/hJfApZDbm7GQW7rWFV6PCo5DMaOZsqP+U\n",
       "AwAAAAAAgDClHAAAAAAAAIQp5QAAAAAAACBMKQcAAAAAAABhSjkAAAAAAAAIU8oBAAAAAABAmFIO\n",
       "AAAAAAAAwpRyAAAAAAAAEKaUAwAAAAAAgDClHAAAAAAAAIQp5QAAAAAAACBMKQcAAAAAAABhSjkA\n",
       "AAAAAAAIU8oBAAAAAABAmFIOAAAAAAAAwpRyAAAAAAAAEKaUAwAAAAAAgDClHAAAAAAAAIQp5QAA\n",
       "AAAAACBMKQcAAAAAAABhP+f9Zz51/zsfuef7x1PI3HuPZ57f+cxVmHM15lyNtb0icp1CamPOhlPI\n",
       "LNz5xhMrC3sac85n7lM4QZU55zMbR2idbzyycYbW1zi3v+OZuzDnLsw5vZ/PN3+drLdwZgtz7nc+\n",
       "8ylcJ99TmLOQ2Zlz/jvCe8navmd+bb/Cfejb85m/w99o3sL3tt89/2D7yIwpPJZUMp/GnIWPF7es\n",
       "7VP4Hn7LtTKd6T/lAAAAAAAAIEwpBwAAAAAAAGFKOQAAAAAAAAhTygEAAAAAAECYUg4AAAAAAADC\n",
       "lHIAAAAAAAAQppQDAAAAAACAMKUcAAAAAAAAhCnlAAAAAAAAIEwpBwAAAAAAAGFKOQAAAAAAAAhT\n",
       "ygEAAAAAAECYUg4AAAAAAADClHIAAAAAAAAQppQDAAAAAACAMKUcAAAAAAAAhCnlAAAAAAAAIEwp\n",
       "BwAAAAAAAGFKOQAAAAAAAAhTygEAAAAAAECYUg4AAAAAAADCfs77Zz51F7rA/W8hszHnLkTOz3l+\n",
       "C3Ou+cwzH7n273zmmY9sXCrrFCbdjdU985nTa7sbh7aS2Tg/85GNzH2+8cxT2M/dOENf4R5U2M/1\n",
       "FZ6FGg8m3/za7sLarnd2zn3Juu7hdV1rraewtuedX9vKnE9hPwuZnTkLZ6gxZ+HcPs/895LGnO/w\n",
       "d6Hf/ffP+J/M+edamTnPNXMWflMaj++XZDbWtpL5l+cBAAAAAADAdZRyAAAAAAAAEKaUAwAAAAAA\n",
       "gDClHAAAAAAAAIQp5QAAAAAAACBMKQcAAAAAAABhSjkAAAAAAAAIU8oBAAAAAABAmFIOAAAAAAAA\n",
       "wpRyAAAAAAAAEKaUAwAAAAAAgDClHAAAAAAAAIQp5QAAAAAAACBMKQcAAAAAAABhSjkAAAAAAAAI\n",
       "U8oBAAAAAABAmFIOAAAAAAAAwpRyAAAAAAAAEKaUAwAAAAAAgDClHAAAAAAAAIT9nPfPeOje813g\n",
       "KWTu/e945tl7PHM1Mtcdmbuwtqcx53jiWqeQuQuhlTkLmeMaC3saB0imzP/SNx+53vk59ykM+hXu\n",
       "to3Md35td2VtZ+fcl6zrM7yua611Cmv7fIX362d+zq+Q+TTm3IXrs/C95Cm8HDX2s3Efep7Cfg4/\n",
       "C72F+95v4/ycwm9n4TtUJ3P+HvQ27nuXzPkWHt8753Y8spLZ2c/hvNk4AAAAAAAAuI9SDgAAAAAA\n",
       "AMKUcgAAAAAAABCmlAMAAAAAAIAwpRwAAAAAAACEKeUAAAAAAAAgTCkHAAAAAAAAYUo5AAAAAAAA\n",
       "CFPKAQAAAAAAQJhSDgAAAAAAAMKUcgAAAAAAABCmlAMAAAAAAIAwpRwAAAAAAACEKeUAAAAAAAAg\n",
       "TCkHAAAAAAAAYUo5AAAAAAAACFPKAQAAAAAAQJhSDgAAAAAAAMKUcgAAAAAAABCmlAMAAAAAAICw\n",
       "n/X+Mx569r/jmWsX+se9ZaYi13zmGU9cqzBmI3KdwupW5iwcos6chf18ZzMrMzYOkMy/KrNxhs53\n",
       "y5zjkWu9hdCv8Kvyzc+5379/zt1Y16fwzlC4Tp7C2p6ncZ3Mv1/fsraPzFzmVzi3z/xzSeNaeYa/\n",
       "uVXOzymcnz1/ft5CZmPOazIL39s6azv/nPkW1rbxmvIWviwWXhvG19Z/ygEAAAAAAECYUg4AAAAA\n",
       "AADClHIAAAAAAAAQppQDAAAAAACAMKUcAAAAAAAAhCnlAAAAAAAAIEwpBwAAAAAAAGFKOQAAAAAA\n",
       "AAhTygEAAAAAAECYUg4AAAAAAADClHIAAAAAAAAQppQDAAAAAACAMKUcAAAAAAAAhCnlAAAAAAAA\n",
       "IEwpBwAAAAAAAGFKOQAAAAAAAAhTygEAAAAAAECYUg4AAAAAAADClHIAAAAAAAAQppQDAAAAAACA\n",
       "sJ/z/plP3fNd4N7/jmeevcczdyHzrPnMVchsTHkaoQV7nfHMMx+59jufuQprW1ncaYUZTyFzN/by\n",
       "fIXMwsXZWNuvkPk29rNwrTTW9pb9/BqZhefpZ3bOXdjLXVjXXTg/e3gv78osfEd45u+1T2FtZQYz\n",
       "C/ehp3CtPMPPJc8uXJuFzLeQ+XvJnI3Mzhkaj1xPIbOzn/ODNtZWZihvNg4AAAAAAADuo5QDAAAA\n",
       "AACAMKUcAAAAAAAAhCnlAAAAAAAAIEwpBwAAAAAAAGFKOQAAAAAAAAhTygEAAAAAAECYUg4AAAAA\n",
       "AADClHIAAAAAAAAQppQDAAAAAACAMKUcAAAAAAAAhCnlAAAAAAAAIEwpBwAAAAAAAGFKOQAAAAAA\n",
       "AAhTygEAAAAAAECYUg4AAAAAAADClHIAAAAAAAAQppQDAAAAAACAMKUcAAAAAAAAhCnlAAAAAAAA\n",
       "IEwpBwAAAAAAAGE/6/mnEPvveOJZezxzFzKvmXM+sqIx5jl3hO53PHKdVVnc8cRd2M8znLnfbzRv\n",
       "rVW5TqbXda219rljbddX+Luo95L7wVfYz8JvymrMWcjcz/w94byF5+lveM7pvLXWfubve43zU8ks\n",
       "PJc8hTN0GveDPZ/5Va6Vwv1935H5FM5t4/p8hq+VZ89fJ9Mz/iezMWfhOil8t+jMOa8yZ2Vt55/f\n",
       "75lzPPKKTP8pBwAAAAAAAGFKOQAAAAAAAAhTygEAAAAAAECYUg4AAAAAAADClHIAAAAAAAAQppQD\n",
       "AAAAAACAMKUcAAAAAAAAhCnlAAAAAAAAIEwpBwAAAAAAAGFKOQAAAAAAAAhTygEAAAAAAECYUg4A\n",
       "AAAAAADClHIAAAAAAAAQppQDAAAAAACAMKUcAAAAAAAAhCnlAAAAAAAAIEwpBwAAAAAAAGFKOQAA\n",
       "AAAAAAhTygEAAAAAAECYUg4AAAAAAADCfs7zZzx07z2euQqZp5DZWNvT2M75yHUKmQ2dtb1jdXdj\n",
       "zjOfed75zD085znfaN5aa+2ncH6e+TnX8xYyC2v7Fta2cD9YX+FaeQvPQl/hvlc5t4XflMYZ+gp/\n",
       "tzh8vz2F+/uuZM7vZePa7GTecobmM59G5r5kzsYZKvymPHv+nvAM34eewrNXZV1lyvxfzCx8++qs\n",
       "7fx7Z2fO8cj1FL5OT8/pP+UAAAAAAAAgTCkHAAAAAAAAYUo5AAAAAAAACFPKAQAAAAAAQJhSDgAA\n",
       "AAAAAMKUcgAAAAAAABCmlAMAAAAAAIAwpRwAAAAAAACEKeUAAAAAAAAgTCkHAAAAAAAAYUo5AAAA\n",
       "AAAACFPKAQAAAAAAQJhSDgAAAAAAAMKUcgAAAAAAABCmlAMAAAAAAIAwpRwAAAAAAACEKeUAAAAA\n",
       "AAAgTCkHAAAAAAAAYUo5AAAAAAAACFPKAQAAAAAAQNjPev6Mh56zxzP3ms9chcxTyGys7DnzmbfM\n",
       "2QjdjUELmacx53vHfp73G8275cyuM7uua3Wuk12Yc33vfObTuAcV/v7rK8xZWdv5yGvW9incE57Z\n",
       "a2UXZjyFzMac92TO39934X4gM+dpzLkLcxYyO3MOv48N56211rPn73uN8yPzb8scj7wncz7SnMnM\n",
       "vzwPAAAAAAAArqOUAwAAAAAAgDClHAAAAAAAAIQp5QAAAAAAACBMKQcAAAAAAABhSjkAAAAAAAAI\n",
       "U8oBAAAAAABAmFIOAAAAAAAAwpRyAAAAAAAAEKaUAwAAAAAAgDClHAAAAAAAAIQp5QAAAAAAACBM\n",
       "KQcAAAAAAABhSjkAAAAAAAAIU8oBAAAAAABAmFIOAAAAAAAAwpRyAAAAAAAAEKaUAwAAAAAAgDCl\n",
       "HAAAAAAAAIQp5QAAAAAAACBMKQcAAAAAAABhP+v5M5969nzkms9chczGlGed8czOnPN2JXU+s3GG\n",
       "GnPuU5jzfPOR73zmnp7zKazr845n7sKcjbVdhbVdhetkfYW/xXoamYV70Ft4tv0Kv2NP4Xfsmszp\n",
       "37H5a7Nxfs4Ne7nW2ruQ2ZjzlszCfj6FOb9L5rwlcw8/Zz57/v7eyKzcD/b8M0JlPwvfhMwZzLxl\n",
       "zj3/3vkUPsLfkOk/5QAAAAAAACBMKQcAAAAAAABhSjkAAAAAAAAIU8oBAAAAAABAmFIOAAAAAAAA\n",
       "wpRyAAAAAAAAEKaUAwAAAAAAgDClHAAAAAAAAIQp5QAAAAAAACBMKQcAAAAAAABhSjkAAAAAAAAI\n",
       "U8oBAAAAAABAmFIOAAAAAAAAwpRyAAAAAAAAEKaUAwAAAAAAgDClHAAAAAAAAIQp5QAAAAAAACBM\n",
       "KQcAAAAAAABhSjkAAAAAAAAIU8oBAAAAAABA2M9+/oyHnrPHM9dqZM47hczGylbmPPOppzFpYc7K\n",
       "2hYy1/vNZ575zF3IXM9s5hnOW2utXTg/57zjmfsrzNnYz6fwd1FvIfMrZDbW9in8plQy5yM7czZ+\n",
       "x4YXt3LfuyVz/kLZhetk70syG2t7y37eMuclmc9w5tM4P9/fv65r3XNmK9dJ4Rtf4ww1Xhl24eP0\n",
       "08isnKH5QSuvncNj+k85AAAAAAAACFPKAQAAAAAAQJhSDgAAAAAAAMKUcgAAAAAAABCmlAMAAAAA\n",
       "AIAwpRwAAAAAAACEKeUAAAAAAAAgTCkHAAAAAAAAYUo5AAAAAAAACFPKAQAAAAAAQJhSDgAAAAAA\n",
       "AMKUcgAAAAAAABCmlAMAAAAAAIAwpRwAAAAAAACEKeUAAAAAAAAgTCkHAAAAAAAAYUo5AAAAAAAA\n",
       "CFPKAQAAAAAAQJhSDgAAAAAAAMKUcgAAAAAAABD2s54/46H72+OZR/0YdK7IPGc+c1fm/MYzVyFz\n",
       "V+b8mc98LjlDz2zmfu+4TqbXda211lv4wf4Kmc9byGycocLavvPPmavwbLueRmbhma9whHZlzuHr\n",
       "s3BtnsK6NvZS5l+WuS/JvGVtL5nzueDc3rKuMpOZ45GVTNdKTuOb7bPnD9FTmXM8cj1rNlRVBQAA\n",
       "AAAAAGFKOQAAAAAAAAhTygEAAAAAAECYUg4AAAAAAADClHIAAAAAAAAQppQDAAAAAACAMKUcAAAA\n",
       "AAAAhCnlAAAAAAAAIEwpBwAAAAAAAGFKOQAAAAAAAAhTygEAAAAAAECYUg4AAAAAAADClHIAAAAA\n",
       "AAAQppQDAAAAAACAMKUcAAAAAAAAhCnlAAAAAAAAIEwpBwAAAAAAAGFKOQAAAAAAAAhTygEAAAAA\n",
       "AECYUg4AAAAAAADCfvb+GQ89hSpwf/OZjTnXOoXE+cxdyFznkrU9jYulsLaVOQuZz3zmPu945vSc\n",
       "lfPT2MtC5jFnzH4KDybPns/cjTkb+zm/tucpPJcUMk/j3E7PWdnLW+61d2Te8lxyTWbhg8ne8/eh\n",
       "55LMxtpOZ1rXYGbhO9TT+PZ1yX42Pk3fMmflVXc+cm1zRvhPOQAAAAAAAAhTygEAAAAAAECYUg4A\n",
       "AAAAAADClHIAAAAAAAAQppQDAAAAAACAMKUcAAAAAAAAhCnlAAAAAAAAIEwpBwAAAAAAAGFKOQAA\n",
       "AAAAAAhTygEAAAAAAECYUg4AAAAAAADClHIAAAAAAAAQppQDAAAAAACAMKUcAAAAAAAAhCnlAAAA\n",
       "AAAAIEwpBwAAAAAAAGFKOQAAAAAAAAhTygEAAAAAAECYUg4AAAAAAADClHIAAAAAAAAQppQDAAAA\n",
       "AACAsJ+1f8ZD93jiWqdQP+7vjGeePZ+5CpmNOfdTWNvzzWc+8/eEU5hzn/k5O/s5n3nOO545Pef+\n",
       "fkfz1lprPYUfskbmvmROayvzv85s/KYUnuIbz183ZFbOz/x10nh+P43z03g3kinzv80s3If2LmQW\n",
       "7gmN/XyGM2+Yca219rpkzsYjZmNtC5mVa2U8sTXnHdfnU2hyKq+df3keAAAAAAAAXEcpBwAAAAAA\n",
       "AGFKOQAAAAAAAAhTygEAAAAAAECYUg4AAAAAAADClHIAAAAAAAAQppQDAAAAAACAMKUcAAAAAAAA\n",
       "hCnlAAAAAAAAIEwpBwAAAAAAAGFKOQAAAAAAAAhTygEAAAAAAECYUg4AAAAAAADClHIAAAAAAAAQ\n",
       "ppQDAAAAAACAMKUcAAAAAAAAhCnlAAAAAAAAIEwpBwAAAAAAAGFKOQAAAAAAAAhTygEAAAAAAEDY\n",
       "z35+xkPPNx659nzkOvuMZ+5nPvOs+cxVyDyFg1u5PitzvuOZjRvR+QpzPr/jkftcMGfjzH6FM7sL\n",
       "5+cp/L3QJZmnkNnZz8JT3y5kFuasPGcWjlBjzjWd2Zix8G5UeR+75B3wiutk3bO2lcxbrk+ZmbzC\n",
       "N6HGunYea+9Y21syn1uulfHEzitgo9/oXCuFd93hSP8pBwAAAAAAAGFKOQAAAAAAAAhTygEAAAAA\n",
       "AECYUg4AAAAAAADClHIAAAAAAAAQppQDAAAAAACAMKUcAAAAAAAAhCnlAAAAAAAAIEwpBwAAAAAA\n",
       "AGFKOQAAAAAAAAhTygEAAAAAAECYUg4AAAAAAADClHIAAAAAAAAQppQDAAAAAACAMKUcAAAAAAAA\n",
       "hCnlAAAAAAAAIEwpBwAAAAAAAGFKOQAAAAAAAAhTygEAAAAAAECYUg4AAAAAAADCfvZ+51P3GY88\n",
       "az5zP9945vkKczb2c8+v7Xp+5jNPY87CPeHMZzbO0L5kbdf3O585vLbnacw4/3c0u5DZmPM01nbf\n",
       "sbbrljlvWdvCM18ncz5yPLOxrk/jfazxnnLLdXLHe+ctc8qU+b+WecOMN2U+hW+2jf9S2YVnzEZm\n",
       "Z20L18p4Yuv6nJ+0cU+YntJ/ygEAAAAAAECYUg4AAAAAAADClHIAAAAAAAAQppQDAAAAAACAMKUc\n",
       "AAAAAAAAhCnlAAAAAAAAIEwpBwAAAAAAAGFKOQAAAAAAAAhTygEAAAAAAECYUg4AAAAAAADClHIA\n",
       "AAAAAAAQppQDAAAAAACAMKUcAAAAAAAAhCnlAAAAAAAAIEwpBwAAAAAAAGFKOQAAAAAAAAhTygEA\n",
       "AAAAAECYUg4AAAAAAADClHIAAAAAAAAQppQDAAAAAACAsJ+93/nUfeYz13zmKWRW1nZ/hczGuZ2f\n",
       "8zzzc+4zn9mZ83c8czXW9itcK4X9XN/sflZ+O5/CmS3s5dnzc+5d+Bulp5C593zmU8hs7Octa9v4\n",
       "c75rMoef4SvvDHdk7um9bGU21vaSzGuuFXPK/B/KW2utXfjG15lz3g1ndq21nsYZcm5jnsoZmp+0\n",
       "8arb2c/hvNk4AAAAAAAAuI9SDgAAAAAAAMKUcgAAAAAAABCmlAMAAAAAAIAwpRwAAAAAAACEKeUA\n",
       "AAAAAAAgTCkHAAAAAAAAYUo5AAAAAAAACFPKAQAAAAAAQJhSDgAAAAAAAMKUcgAAAAAAABCmlAMA\n",
       "AAAAAIAwpRwAAAAAAACEKeUAAAAAAAAgTCkHAAAAAAAAYUo5AAAAAAAACFPKAQAAAAAAQJhSDgAA\n",
       "AAAAAMKUcgAAAAAAABCmlAMAAAAAAIAwpRwAAAAAAACE/ez1zqfuM5+5Lsnc33jkKWTuPX9uG3Ou\n",
       "wpzrKWSexn2ocYZ+xzP3U/jbi6+QOT3nJet69h7PrJzZRmZhbRtznj2fuZ/G2hYyG2fomszGM/xw\n",
       "XONPM5/5dT2Vvbwks7CfjTm3zL8sczzSuf1L8mqZhe+Kt1yb98xZyJyPLF2f8+7Zz0LmcJ7/lAMA\n",
       "AAAAAIAwpRwAAAAAAACEKeUAAAAAAAAgTCkHAAAAAAAAYUo5AAAAAAAACFPKAQAAAAAAQJhSDgAA\n",
       "AAAAAMKUcgAAAAAAABCmlAMAAAAAAIAwpRwAAAAAAACEKeUAAAAAAAAgTCkHAAAAAAAAYUo5AAAA\n",
       "AAAACFPKAQAAAAAAQJhSDgAAAAAAAMKUcgAAAAAAABCmlAMAAAAAAIAwpRwAAAAAAACEKeUAAAAA\n",
       "AAAgTCkHAAAAAAAAYT97z/dyZ73jmWudQuQ3n7kLa7vNmcucn/MUMvc1cxb+DkJmxLlgxrVuOrN7\n",
       "PPI8l+znM7+2jf2U+VdFrlNZ2tl3lTOct9Zaq5C5n/nMxtpOn5+bMivntpI5HrnWBfdamX9P3lWZ\n",
       "he+nncx516xt5dzOM2cwszDp9LOQ/5QDAAAAAACAMKUcAAAAAAAAhCnlAAAAAAAAIEwpBwAAAAAA\n",
       "AGFKOQAAAAAAAAhTygEAAAAAAECYUg4AAAAAAADClHIAAAAAAAAQppQDAAAAAACAMKUcAAAAAAAA\n",
       "hCnlAAAAAAAAIEwpBwAAAAAAAGFKOQAAAAAAAAhTygEAAAAAAECYUg4AAAAAAADClHIAAAAAAAAQ\n",
       "ppQDAAAAAACAMKUcAAAAAAAAhCnlAAAAAAAAIEwpBwAAAAAAAGE/a8/3cnud8cxK/7jf+cz1zUcW\n",
       "ztAprO3ev+OZp7C2jf28J3P+3FbO0FPI/GYz996jef8JveU6mV/bxnXSOUPO7d+VecsZamQW3lWm\n",
       "xywsa2dd5zN3IfNcsra37Oct12djbSuZhe9flXM7rHKZNDJvefRqZFauzfHI0trKzGU2fsfmJ73h\n",
       "3PpPOQAAAAAAAAhTygEAAAAAAECYUg4AAAAAAADClHIAAAAAAAAQppQDAAAAAACAMKUcAAAAAAAA\n",
       "hCnlAAAAAAAAIEwpBwAAAAAAAGFKOQAAAAAAAAhTygEAAAAAAECYUg4AAAAAAADClHIAAAAAAAAQ\n",
       "ppQDAAAAAACAMKUcAAAAAAAAhCnlzg0l9AAAD4RJREFUAAAAAAAAIEwpBwAAAAAAAGFKOQAAAAAA\n",
       "AAhTygEAAAAAAECYUg4AAAAAAADClHIAAAAAAAAQppQDAAAAAACAsJ9d6eVOIbEw5y5knkvmlClT\n",
       "psxmZmPGZ9+RWTk/5pQp8/+lch+aj1yFMccz9/z7WGddG3PKzGXORzYyd2Ftb8m85twWjO/nLWe2\n",
       "8P10FzIrc1auzTv2s5LZuCeMJ5ZeO+cjS+d2dlL/KQcAAAAAAABhSjkAAAAAAAAIU8oBAAAAAABA\n",
       "mFIOAAAAAAAAwpRyAAAAAAAAEKaUAwAAAAAAgDClHAAAAAAAAIQp5QAAAAAAACBMKQcAAAAAAABh\n",
       "SjkAAAAAAAAIU8oBAAAAAABAmFIOAAAAAAAAwpRyAAAAAAAAEKaUAwAAAAAAgDClHAAAAAAAAIQp\n",
       "5QAAAAAAACBMKQcAAAAAAABhSjkAAAAAAAAIU8oBAAAAAABAmFIOAAAAAAAAwn72nu/lzjrjmbvR\n",
       "P55CZmM/C3NWzm0hs7Gfja6+sbadM7THMxtzVs7tdOYt12bjt7NyncxnNua8JbNzr71jbTsuWds9\n",
       "/H7UOD7TM7ZU1vaKyLUbZ+iWzMI3mobOz3Xh+9cFmdc8Bd3yGDQfuRr3vUseEe45Q5c8296zn7Nx\n",
       "/lMOAAAAAAAAwpRyAAAAAAAAEKaUAwAAAAAAgDClHAAAAAAAAIQp5QAAAAAAACBMKQcAAAAAAABh\n",
       "SjkAAAAAAAAIU8oBAAAAAABAmFIOAAAAAAAAwpRyAAAAAAAAEKaUAwAAAAAAgDClHAAAAAAAAIQp\n",
       "5QAAAAAAACBMKQcAAAAAAABhSjkAAAAAAAAIU8oBAAAAAABAmFIOAAAAAAAAwpRyAAAAAAAAEKaU\n",
       "AwAAAAAAgDClHAAAAAAAAIT9NHq5vb7xzLX2eOLZ85nrFPZzz2eewpyda6WwtoX9rPx9QOP6bKxt\n",
       "Y87C/XZ6zsr9vZC5L5nzlszGub3nDM1H3nJuO2t7QeYlW3n2mQ8tZO41n3nN2jYObkPlvlc4Q4Vr\n",
       "peKCc7sr94M77u+N66Szn+OR18zZcMPjeyvzFtNr6z/lAAAAAAD+r307yHEkRwIgyAT0/ydv7mnu\n",
       "AwjOmFKYfSCKTCZL1d4CgJgoBwAAAAAAADFRDgAAAAAAAGKiHAAAAAAAAMREOQAAAAAAAIiJcgAA\n",
       "AAAAABAT5QAAAAAAACAmygEAAAAAAEBMlAMAAAAAAICYKAcAAAAAAAAxUQ4AAAAAAABiohwAAAAA\n",
       "AADERDkAAAAAAACIiXIAAAAAAAAQE+UAAAAAAAAgJsoBAAAAAABATJQDAAAAAACAmCgHAAAAAAAA\n",
       "MVEOAAAAAAAAYqIcAAAAAAAAxD7P81wf+p77Myf64/MO7O3A8zwD6zwT6xyZOdDNt+ztyP9J2LHO\n",
       "kXvo8t5O/O5c825umTlxH6xZ5/2RM+f2/sgt7+eWj9PXPe/9kRPP8v7IoftgYOaIiXO7411Z87Fk\n",
       "4nmOnNvrI4l4lr9m4g4aMHLX3jdyv4/8Thn4G/DyOn1TDgAAAAAAAGKiHAAAAAAAAMREOQAAAAAA\n",
       "AIiJcgAAAAAAABAT5QAAAAAAACAmygEAAAAAAEBMlAMAAAAAAICYKAcAAAAAAAAxUQ4AAAAAAABi\n",
       "ohwAAAAAAADERDkAAAAAAACIiXIAAAAAAAAQE+UAAAAAAAAgJsoBAAAAAABATJQDAAAAAACAmCgH\n",
       "AAAAAAAAMVEOAAAAAAAAYqIcAAAAAAAAxEQ5AAAAAAAAiIlyAAAAAAAAEBPlAAAAAAAAIPY557k+\n",
       "9BmY+Q7MPM/95vm8A3v7DOztwDpnGvaSdU6cITPN/G7g5Xlnyb6eM3PvTezt/ZHWaSb843ne6zNH\n",
       "/mY499d5BvZ2ZObI3t4fueeq3XGG1jzOEZef58C9t+bPsQEz1/uOO2jmCO3Y2xFrFvr7fFMOAAAA\n",
       "AAAAYqIcAAAAAAAAxEQ5AAAAAAAAiIlyAAAAAAAAEBPlAAAAAAAAICbKAQAAAAAAQEyUAwAAAAAA\n",
       "gJgoBwAAAAAAADFRDgAAAAAAAGKiHAAAAAAAAMREOQAAAAAAAIiJcgAAAAAAABAT5QAAAAAAACAm\n",
       "ygEAAAAAAEBMlAMAAAAAAICYKAcAAAAAAAAxUQ4AAAAAAABiohwAAAAAAADERDkAAAAAAACIiXIA\n",
       "AAAAAAAQ+zwDQ99zf+rMOgc8A3v73p85coYG9vYdmDnztiw5Q9aZTr07bmKNS4wcnyXv5sixHRi6\n",
       "4Aqam+l5/tTMDZYc2Zm/OydGTqx0YKY7KDTxPJecoctmlrjjDhq5ayfeEzL+uaSz5SPChpm+KQcA\n",
       "AAAAAAAxUQ4AAAAAAABiohwAAAAAAADERDkAAAAAAACIiXIAAAAAAAAQE+UAAAAAAAAgJsoBAAAA\n",
       "AABATJQDAAAAAACAmCgHAAAAAAAAMVEOAAAAAAAAYqIcAAAAAAAAxEQ5AAAAAAAAiIlyAAAAAAAA\n",
       "EBPlAAAAAAAAICbKAQAAAAAAQEyUAwAAAAAAgJgoBwAAAAAAADFRDgAAAAAAAGKiHAAAAAAAAMRE\n",
       "OQAAAAAAAIh9znkGxppp5pcTn/sz3/f6yBkTR2hi6MirsmSdW57ndTvu9yUP07v5c0O3zJywZW8v\n",
       "f9DccnwmLNnbkbdky6+x2/fBlCXX+5Jlwp8z888zS+73Jdy1fMM35QAAAAAAACAmygEAAAAAAEBM\n",
       "lAMAAAAAAICYKAcAAAAAAAAxUQ4AAAAAAABiohwAAAAAAADERDkAAAAAAACIiXIAAAAAAAAQE+UA\n",
       "AAAAAAAgJsoBAAAAAABATJQDAAAAAACAmCgHAAAAAAAAMVEOAAAAAAAAYqIcAAAAAAAAxEQ5AAAA\n",
       "AAAAiIlyAAAAAAAAEBPlAAAAAAAAICbKAQAAAAAAQEyUAwAAAAAAgJgoBwAAAAAAADFRDgAAAAAA\n",
       "AGKf89wfOjDyvO/9mSPrHJi5x8QT3TJzgnX+li3rvMy2hmwusMyaa2/iD09/BfKdZ+DcrrkSRgw8\n",
       "Tw+ULzg+nS3v5sgyl+ytdTZ8Uw4AAAAAAABiohwAAAAAAADERDkAAAAAAACIiXIAAAAAAAAQE+UA\n",
       "AAAAAAAgJsoBAAAAAABATJQDAAAAAACAmCgHAAAAAAAAMVEOAAAAAAAAYqIcAAAAAAAAxEQ5AAAA\n",
       "AAAAiIlyAAAAAAAAEBPlAAAAAAAAICbKAQAAAAAAQEyUAwAAAAAAgJgoBwAAAAAAADFRDgAAAAAA\n",
       "AGKiHAAAAAAAAMREOQAAAAAAAIiJcgAAAAAAABD7TP8AwH/LMzDzHZhJaOIQXTewyBX7evascw0P\n",
       "NDOxtVtmAvzDHQT/0u//Ve9jEF/zQH/M7997dHxTDgAAAAAAAGKiHAAAAAAAAMREOQAAAAAAAIiJ\n",
       "cgAAAAAAABAT5QAAAAAAACAmygEAAAAAAEBMlAMAAAAAAICYKAcAAAAAAAAxUQ4AAAAAAABiohwA\n",
       "AAAAAADERDkAAAAAAACIiXIAAAAAAAAQE+UAAAAAAAAgJsoBAAAAAABATJQDAAAAAACAmCgHAAAA\n",
       "AAAAMVEOAAAAAAAAYqIcAAAAAAAAxEQ5AAAAAAAAiIlyAAAAAAAAEPtM/wDAf8s7/QPw9604RCsW\n",
       "OcPWAgAAzHimfwCA3+ebcgAAAAAAABAT5QAAAAAAACAmygEAAAAAAEBMlAMAAAAAAICYKAcAAAAA\n",
       "AAAxUQ4AAAAAAABiohwAAAAAAADERDkAAAAAAACIiXIAAAAAAAAQE+UAAAAAAAAgJsoBAAAAAABA\n",
       "TJQDAAAAAACAmCgHAAAAAAAAMVEOAAAAAAAAYqIcAAAAAAAAxEQ5AAAAAAAAiIlyAAAAAAAAEBPl\n",
       "AAAAAAAAICbKAQAAAAAAQEyUAwAAAAAAgNjnvPeHvgMzJyxZ5iITT3TLzAnW+VsWrNN18GO2bO6W\n",
       "dQ7Ycic4QgDwBzzTP0Buzccgn70Acr4pBwAAAAAAADFRDgAAAAAAAGKiHAAAAAAAAMREOQAAAAAA\n",
       "AIiJcgAAAAAAABAT5QAAAAAAACAmygEAAAAAAEBMlAMAAAAAAICYKAcAAAAAAAAxUQ4AAAAAAABi\n",
       "ohwAAAAAAADERDkAAAAAAACIiXIAAAAAAAAQE+UAAAAAAAAgJsoBAAAAAABATJQDAAAAAACAmCgH\n",
       "AAAAAAAAMVEOAAAAAAAAYqIcAAAAAAAAxEQ5AAAAAAAAiIlyAAAAAAAAEPuc8w6MNdPMLye+E+tc\n",
       "YmRrB4aOvCpL1jkzFP6WLa/JlnUu+fwFX1lzZJ/7I9+BmVssObfvwLldsrXAv7DmPtjyT0Jb+PzF\n",
       "F3xTDgAAAAAAAGKiHAAAAAAAAMREOQAAAAAAAIiJcgAAAAAAABAT5QAAAAAAACAmygEAAAAAAEBM\n",
       "lAMAAAAAAICYKAcAAAAAAAAxUQ4AAAAAAABiohwAAAAAAADERDkAAAAAAACIiXIAAAAAAAAQE+UA\n",
       "AAAAAAAgJsoBAAAAAABATJQDAAAAAACAmCgHAAAAAAAAMVEOAAAAAAAAYqIcAAAAAAAAxEQ5AAAA\n",
       "AAAAiIlyAAAAAAAAEPu8I2PvT92yzvNO7O3E7g6sc2BvJ57nzNtyf+YzdCvctmWd99+VHe/Jmpkj\n",
       "d+2EJetc8zwnLLkTNrwrC5Y4Zsnejixz4iPC/ZHnnGdk6nVLrvctZ8jHL/6akX/im7jfl7ybS5Y5\n",
       "Y8vmXl6nb8oBAAAAAABATJQDAAAAAACAmCgHAAAAAAAAMVEOAAAAAAAAYqIcAAAAAAAAxEQ5AAAA\n",
       "AAAAiIlyAAAAAAAAEBPlAAAAAAAAICbKAQAAAAAAQEyUAwAAAAAAgJgoBwAAAAAAADFRDgAAAAAA\n",
       "AGKiHAAAAAAAAMREOQAAAAAAAIiJcgAAAAAAABAT5QAAAAAAACAmygEAAAAAAEBMlAMAAAAAAICY\n",
       "KAcAAAAAAAAxUQ4AAAAAAABin3Pe60PfgZnn/O/+yHfJ3g6sc+LcmlmOXDJzyT204k7Ysq9bZg54\n",
       "tty1I7/HBmzZWjN/a+YGE1ft/ZEzRvb2uT90YqY7KDTxPO/PXPM4V5g4PxN3LT9lySW0ZJlEfFMO\n",
       "AAAAAAAAYqIcAAAAAAAAxEQ5AAAAAAAAiIlyAAAAAAAAEBPlAAAAAAAAICbKAQAAAAAAQEyUAwAA\n",
       "AAAAgJgoBwAAAAAAADFRDgAAAAAAAGKiHAAAAAAAAMREOQAAAAAAAIiJcgAAAAAAABAT5QAAAAAA\n",
       "ACAmygEAAAAAAEBMlAMAAAAAAICYKAcAAAAAAAAxUQ4AAAAAAABiohwAAAAAAADERDkAAAAAAACI\n",
       "iXIAAAAAAAAQ+z9HysQ0Yvu1cgAAAABJRU5ErkJggg==\n",
       "\" transform=\"translate(295, 86)\"/>\n",
       "</g>\n",
       "<circle clip-path=\"url(#clip552)\" cx=\"1123.2\" cy=\"1014.51\" r=\"14.4\" fill=\"#e26f46\" fill-rule=\"evenodd\" fill-opacity=\"1\" stroke=\"#000000\" stroke-opacity=\"1\" stroke-width=\"3.2\"/>\n",
       "<circle clip-path=\"url(#clip552)\" cx=\"1991.1\" cy=\"376.12\" r=\"14.4\" fill=\"#e26f46\" fill-rule=\"evenodd\" fill-opacity=\"1\" stroke=\"#000000\" stroke-opacity=\"1\" stroke-width=\"3.2\"/>\n",
       "<circle clip-path=\"url(#clip552)\" cx=\"689.25\" cy=\"695.313\" r=\"14.4\" fill=\"#e26f46\" fill-rule=\"evenodd\" fill-opacity=\"1\" stroke=\"#000000\" stroke-opacity=\"1\" stroke-width=\"3.2\"/>\n",
       "<circle clip-path=\"url(#clip552)\" cx=\"1557.15\" cy=\"1333.7\" r=\"14.4\" fill=\"#e26f46\" fill-rule=\"evenodd\" fill-opacity=\"1\" stroke=\"#000000\" stroke-opacity=\"1\" stroke-width=\"3.2\"/>\n",
       "<circle clip-path=\"url(#clip552)\" cx=\"1774.13\" cy=\"1174.1\" r=\"14.4\" fill=\"#e26f46\" fill-rule=\"evenodd\" fill-opacity=\"1\" stroke=\"#000000\" stroke-opacity=\"1\" stroke-width=\"3.2\"/>\n",
       "<circle clip-path=\"url(#clip552)\" cx=\"906.225\" cy=\"535.716\" r=\"14.4\" fill=\"#e26f46\" fill-rule=\"evenodd\" fill-opacity=\"1\" stroke=\"#000000\" stroke-opacity=\"1\" stroke-width=\"3.2\"/>\n",
       "<circle clip-path=\"url(#clip552)\" cx=\"1340.18\" cy=\"216.523\" r=\"14.4\" fill=\"#e26f46\" fill-rule=\"evenodd\" fill-opacity=\"1\" stroke=\"#000000\" stroke-opacity=\"1\" stroke-width=\"3.2\"/>\n",
       "<circle clip-path=\"url(#clip552)\" cx=\"472.274\" cy=\"854.909\" r=\"14.4\" fill=\"#e26f46\" fill-rule=\"evenodd\" fill-opacity=\"1\" stroke=\"#000000\" stroke-opacity=\"1\" stroke-width=\"3.2\"/>\n",
       "<circle clip-path=\"url(#clip552)\" cx=\"1231.69\" cy=\"296.321\" r=\"14.4\" fill=\"#e26f46\" fill-rule=\"evenodd\" fill-opacity=\"1\" stroke=\"#000000\" stroke-opacity=\"1\" stroke-width=\"3.2\"/>\n",
       "<circle clip-path=\"url(#clip552)\" cx=\"363.786\" cy=\"934.708\" r=\"14.4\" fill=\"#e26f46\" fill-rule=\"evenodd\" fill-opacity=\"1\" stroke=\"#000000\" stroke-opacity=\"1\" stroke-width=\"3.2\"/>\n",
       "<circle clip-path=\"url(#clip552)\" cx=\"1665.64\" cy=\"1253.9\" r=\"14.4\" fill=\"#e26f46\" fill-rule=\"evenodd\" fill-opacity=\"1\" stroke=\"#000000\" stroke-opacity=\"1\" stroke-width=\"3.2\"/>\n",
       "<circle clip-path=\"url(#clip552)\" cx=\"797.738\" cy=\"615.514\" r=\"14.4\" fill=\"#e26f46\" fill-rule=\"evenodd\" fill-opacity=\"1\" stroke=\"#000000\" stroke-opacity=\"1\" stroke-width=\"3.2\"/>\n",
       "<circle clip-path=\"url(#clip552)\" cx=\"580.762\" cy=\"455.918\" r=\"14.4\" fill=\"#e26f46\" fill-rule=\"evenodd\" fill-opacity=\"1\" stroke=\"#000000\" stroke-opacity=\"1\" stroke-width=\"3.2\"/>\n",
       "<circle clip-path=\"url(#clip552)\" cx=\"1448.67\" cy=\"1094.3\" r=\"14.4\" fill=\"#e26f46\" fill-rule=\"evenodd\" fill-opacity=\"1\" stroke=\"#000000\" stroke-opacity=\"1\" stroke-width=\"3.2\"/>\n",
       "<circle clip-path=\"url(#clip552)\" cx=\"1014.71\" cy=\"775.111\" r=\"14.4\" fill=\"#e26f46\" fill-rule=\"evenodd\" fill-opacity=\"1\" stroke=\"#000000\" stroke-opacity=\"1\" stroke-width=\"3.2\"/>\n",
       "<circle clip-path=\"url(#clip552)\" cx=\"1882.62\" cy=\"136.725\" r=\"14.4\" fill=\"#e26f46\" fill-rule=\"evenodd\" fill-opacity=\"1\" stroke=\"#000000\" stroke-opacity=\"1\" stroke-width=\"3.2\"/>\n",
       "<circle clip-path=\"url(#clip552)\" cx=\"1530.03\" cy=\"1194.05\" r=\"14.4\" fill=\"#e26f46\" fill-rule=\"evenodd\" fill-opacity=\"1\" stroke=\"#000000\" stroke-opacity=\"1\" stroke-width=\"3.2\"/>\n",
       "<circle clip-path=\"url(#clip552)\" cx=\"662.128\" cy=\"555.666\" r=\"14.4\" fill=\"#e26f46\" fill-rule=\"evenodd\" fill-opacity=\"1\" stroke=\"#000000\" stroke-opacity=\"1\" stroke-width=\"3.2\"/>\n",
       "<circle clip-path=\"url(#clip552)\" cx=\"1963.98\" cy=\"236.472\" r=\"14.4\" fill=\"#e26f46\" fill-rule=\"evenodd\" fill-opacity=\"1\" stroke=\"#000000\" stroke-opacity=\"1\" stroke-width=\"3.2\"/>\n",
       "<circle clip-path=\"url(#clip552)\" cx=\"1096.08\" cy=\"874.859\" r=\"14.4\" fill=\"#e26f46\" fill-rule=\"evenodd\" fill-opacity=\"1\" stroke=\"#000000\" stroke-opacity=\"1\" stroke-width=\"3.2\"/>\n",
       "<circle clip-path=\"url(#clip552)\" cx=\"445.152\" cy=\"1034.46\" r=\"14.4\" fill=\"#e26f46\" fill-rule=\"evenodd\" fill-opacity=\"1\" stroke=\"#000000\" stroke-opacity=\"1\" stroke-width=\"3.2\"/>\n",
       "<circle clip-path=\"url(#clip552)\" cx=\"1313.06\" cy=\"396.069\" r=\"14.4\" fill=\"#e26f46\" fill-rule=\"evenodd\" fill-opacity=\"1\" stroke=\"#000000\" stroke-opacity=\"1\" stroke-width=\"3.2\"/>\n",
       "<circle clip-path=\"url(#clip552)\" cx=\"879.103\" cy=\"715.262\" r=\"14.4\" fill=\"#e26f46\" fill-rule=\"evenodd\" fill-opacity=\"1\" stroke=\"#000000\" stroke-opacity=\"1\" stroke-width=\"3.2\"/>\n",
       "<circle clip-path=\"url(#clip552)\" cx=\"1747.01\" cy=\"1353.65\" r=\"14.4\" fill=\"#e26f46\" fill-rule=\"evenodd\" fill-opacity=\"1\" stroke=\"#000000\" stroke-opacity=\"1\" stroke-width=\"3.2\"/>\n",
       "<circle clip-path=\"url(#clip552)\" cx=\"770.616\" cy=\"475.867\" r=\"14.4\" fill=\"#e26f46\" fill-rule=\"evenodd\" fill-opacity=\"1\" stroke=\"#000000\" stroke-opacity=\"1\" stroke-width=\"3.2\"/>\n",
       "<circle clip-path=\"url(#clip552)\" cx=\"309.542\" cy=\"96.8254\" r=\"14.4\" fill=\"#e26f46\" fill-rule=\"evenodd\" fill-opacity=\"1\" stroke=\"#000000\" stroke-opacity=\"1\" stroke-width=\"3.2\"/>\n",
       "<circle clip-path=\"url(#clip552)\" cx=\"2045.35\" cy=\"1373.6\" r=\"14.4\" fill=\"#e26f46\" fill-rule=\"evenodd\" fill-opacity=\"1\" stroke=\"#000000\" stroke-opacity=\"1\" stroke-width=\"3.2\"/>\n",
       "<circle clip-path=\"url(#clip552)\" cx=\"2045.35\" cy=\"96.8254\" r=\"14.4\" fill=\"#e26f46\" fill-rule=\"evenodd\" fill-opacity=\"1\" stroke=\"#000000\" stroke-opacity=\"1\" stroke-width=\"3.2\"/>\n",
       "<circle clip-path=\"url(#clip552)\" cx=\"309.542\" cy=\"1373.6\" r=\"14.4\" fill=\"#e26f46\" fill-rule=\"evenodd\" fill-opacity=\"1\" stroke=\"#000000\" stroke-opacity=\"1\" stroke-width=\"3.2\"/>\n",
       "<circle clip-path=\"url(#clip552)\" cx=\"309.542\" cy=\"1373.6\" r=\"14.4\" fill=\"#e26f46\" fill-rule=\"evenodd\" fill-opacity=\"1\" stroke=\"#000000\" stroke-opacity=\"1\" stroke-width=\"3.2\"/>\n",
       "<circle clip-path=\"url(#clip552)\" cx=\"309.542\" cy=\"1373.6\" r=\"14.4\" fill=\"#e26f46\" fill-rule=\"evenodd\" fill-opacity=\"1\" stroke=\"#000000\" stroke-opacity=\"1\" stroke-width=\"3.2\"/>\n",
       "<circle clip-path=\"url(#clip552)\" cx=\"2045.35\" cy=\"96.8254\" r=\"14.4\" fill=\"#e26f46\" fill-rule=\"evenodd\" fill-opacity=\"1\" stroke=\"#000000\" stroke-opacity=\"1\" stroke-width=\"3.2\"/>\n",
       "<circle clip-path=\"url(#clip552)\" cx=\"2045.35\" cy=\"1373.6\" r=\"14.4\" fill=\"#e26f46\" fill-rule=\"evenodd\" fill-opacity=\"1\" stroke=\"#000000\" stroke-opacity=\"1\" stroke-width=\"3.2\"/>\n",
       "<circle clip-path=\"url(#clip552)\" cx=\"309.542\" cy=\"96.8254\" r=\"14.4\" fill=\"#e26f46\" fill-rule=\"evenodd\" fill-opacity=\"1\" stroke=\"#000000\" stroke-opacity=\"1\" stroke-width=\"3.2\"/>\n",
       "<circle clip-path=\"url(#clip552)\" cx=\"309.542\" cy=\"96.8254\" r=\"14.4\" fill=\"#e26f46\" fill-rule=\"evenodd\" fill-opacity=\"1\" stroke=\"#000000\" stroke-opacity=\"1\" stroke-width=\"3.2\"/>\n",
       "<circle clip-path=\"url(#clip552)\" cx=\"2045.35\" cy=\"1373.6\" r=\"14.4\" fill=\"#e26f46\" fill-rule=\"evenodd\" fill-opacity=\"1\" stroke=\"#000000\" stroke-opacity=\"1\" stroke-width=\"3.2\"/>\n",
       "<circle clip-path=\"url(#clip552)\" cx=\"2045.35\" cy=\"96.8254\" r=\"14.4\" fill=\"#e26f46\" fill-rule=\"evenodd\" fill-opacity=\"1\" stroke=\"#000000\" stroke-opacity=\"1\" stroke-width=\"3.2\"/>\n",
       "<circle clip-path=\"url(#clip552)\" cx=\"309.542\" cy=\"1373.6\" r=\"14.4\" fill=\"#e26f46\" fill-rule=\"evenodd\" fill-opacity=\"1\" stroke=\"#000000\" stroke-opacity=\"1\" stroke-width=\"3.2\"/>\n",
       "<circle clip-path=\"url(#clip552)\" cx=\"309.542\" cy=\"1373.6\" r=\"14.4\" fill=\"#e26f46\" fill-rule=\"evenodd\" fill-opacity=\"1\" stroke=\"#000000\" stroke-opacity=\"1\" stroke-width=\"3.2\"/>\n",
       "<circle clip-path=\"url(#clip552)\" cx=\"2045.35\" cy=\"96.8254\" r=\"14.4\" fill=\"#e26f46\" fill-rule=\"evenodd\" fill-opacity=\"1\" stroke=\"#000000\" stroke-opacity=\"1\" stroke-width=\"3.2\"/>\n",
       "<circle clip-path=\"url(#clip552)\" cx=\"309.542\" cy=\"96.8254\" r=\"14.4\" fill=\"#e26f46\" fill-rule=\"evenodd\" fill-opacity=\"1\" stroke=\"#000000\" stroke-opacity=\"1\" stroke-width=\"3.2\"/>\n",
       "<circle clip-path=\"url(#clip552)\" cx=\"2045.35\" cy=\"1373.6\" r=\"14.4\" fill=\"#e26f46\" fill-rule=\"evenodd\" fill-opacity=\"1\" stroke=\"#000000\" stroke-opacity=\"1\" stroke-width=\"3.2\"/>\n",
       "<circle clip-path=\"url(#clip552)\" cx=\"309.542\" cy=\"96.8254\" r=\"14.4\" fill=\"#e26f46\" fill-rule=\"evenodd\" fill-opacity=\"1\" stroke=\"#000000\" stroke-opacity=\"1\" stroke-width=\"3.2\"/>\n",
       "<circle clip-path=\"url(#clip552)\" cx=\"2045.35\" cy=\"1373.6\" r=\"14.4\" fill=\"#e26f46\" fill-rule=\"evenodd\" fill-opacity=\"1\" stroke=\"#000000\" stroke-opacity=\"1\" stroke-width=\"3.2\"/>\n",
       "<circle clip-path=\"url(#clip552)\" cx=\"309.542\" cy=\"96.8254\" r=\"14.4\" fill=\"#e26f46\" fill-rule=\"evenodd\" fill-opacity=\"1\" stroke=\"#000000\" stroke-opacity=\"1\" stroke-width=\"3.2\"/>\n",
       "<circle clip-path=\"url(#clip552)\" cx=\"2045.35\" cy=\"1373.6\" r=\"14.4\" fill=\"#e26f46\" fill-rule=\"evenodd\" fill-opacity=\"1\" stroke=\"#000000\" stroke-opacity=\"1\" stroke-width=\"3.2\"/>\n",
       "<circle clip-path=\"url(#clip552)\" cx=\"2045.35\" cy=\"96.8254\" r=\"14.4\" fill=\"#e26f46\" fill-rule=\"evenodd\" fill-opacity=\"1\" stroke=\"#000000\" stroke-opacity=\"1\" stroke-width=\"3.2\"/>\n",
       "<circle clip-path=\"url(#clip552)\" cx=\"309.542\" cy=\"1373.6\" r=\"14.4\" fill=\"#e26f46\" fill-rule=\"evenodd\" fill-opacity=\"1\" stroke=\"#000000\" stroke-opacity=\"1\" stroke-width=\"3.2\"/>\n",
       "<circle clip-path=\"url(#clip552)\" cx=\"309.542\" cy=\"96.8254\" r=\"14.4\" fill=\"#e26f46\" fill-rule=\"evenodd\" fill-opacity=\"1\" stroke=\"#000000\" stroke-opacity=\"1\" stroke-width=\"3.2\"/>\n",
       "<circle clip-path=\"url(#clip552)\" cx=\"2045.35\" cy=\"1373.6\" r=\"14.4\" fill=\"#e26f46\" fill-rule=\"evenodd\" fill-opacity=\"1\" stroke=\"#000000\" stroke-opacity=\"1\" stroke-width=\"3.2\"/>\n",
       "<circle clip-path=\"url(#clip552)\" cx=\"309.542\" cy=\"96.8254\" r=\"14.4\" fill=\"#e26f46\" fill-rule=\"evenodd\" fill-opacity=\"1\" stroke=\"#000000\" stroke-opacity=\"1\" stroke-width=\"3.2\"/>\n",
       "<circle clip-path=\"url(#clip552)\" cx=\"309.542\" cy=\"1373.6\" r=\"14.4\" fill=\"#e26f46\" fill-rule=\"evenodd\" fill-opacity=\"1\" stroke=\"#000000\" stroke-opacity=\"1\" stroke-width=\"3.2\"/>\n",
       "<circle clip-path=\"url(#clip552)\" cx=\"309.542\" cy=\"1373.6\" r=\"14.4\" fill=\"#e26f46\" fill-rule=\"evenodd\" fill-opacity=\"1\" stroke=\"#000000\" stroke-opacity=\"1\" stroke-width=\"3.2\"/>\n",
       "<circle clip-path=\"url(#clip552)\" cx=\"2045.35\" cy=\"96.8254\" r=\"14.4\" fill=\"#e26f46\" fill-rule=\"evenodd\" fill-opacity=\"1\" stroke=\"#000000\" stroke-opacity=\"1\" stroke-width=\"3.2\"/>\n",
       "<circle clip-path=\"url(#clip552)\" cx=\"2045.35\" cy=\"96.8254\" r=\"14.4\" fill=\"#e26f46\" fill-rule=\"evenodd\" fill-opacity=\"1\" stroke=\"#000000\" stroke-opacity=\"1\" stroke-width=\"3.2\"/>\n",
       "<circle clip-path=\"url(#clip552)\" cx=\"309.542\" cy=\"1373.6\" r=\"14.4\" fill=\"#e26f46\" fill-rule=\"evenodd\" fill-opacity=\"1\" stroke=\"#000000\" stroke-opacity=\"1\" stroke-width=\"3.2\"/>\n",
       "<circle clip-path=\"url(#clip552)\" cx=\"2045.35\" cy=\"96.8254\" r=\"14.4\" fill=\"#e26f46\" fill-rule=\"evenodd\" fill-opacity=\"1\" stroke=\"#000000\" stroke-opacity=\"1\" stroke-width=\"3.2\"/>\n",
       "<circle clip-path=\"url(#clip552)\" cx=\"309.542\" cy=\"1373.6\" r=\"14.4\" fill=\"#e26f46\" fill-rule=\"evenodd\" fill-opacity=\"1\" stroke=\"#000000\" stroke-opacity=\"1\" stroke-width=\"3.2\"/>\n",
       "<circle clip-path=\"url(#clip552)\" cx=\"309.542\" cy=\"96.8254\" r=\"14.4\" fill=\"#e26f46\" fill-rule=\"evenodd\" fill-opacity=\"1\" stroke=\"#000000\" stroke-opacity=\"1\" stroke-width=\"3.2\"/>\n",
       "<circle clip-path=\"url(#clip552)\" cx=\"2045.35\" cy=\"1373.6\" r=\"14.4\" fill=\"#e26f46\" fill-rule=\"evenodd\" fill-opacity=\"1\" stroke=\"#000000\" stroke-opacity=\"1\" stroke-width=\"3.2\"/>\n",
       "<circle clip-path=\"url(#clip552)\" cx=\"2045.35\" cy=\"96.8254\" r=\"14.4\" fill=\"#e26f46\" fill-rule=\"evenodd\" fill-opacity=\"1\" stroke=\"#000000\" stroke-opacity=\"1\" stroke-width=\"3.2\"/>\n",
       "<circle clip-path=\"url(#clip552)\" cx=\"309.542\" cy=\"1373.6\" r=\"14.4\" fill=\"#e26f46\" fill-rule=\"evenodd\" fill-opacity=\"1\" stroke=\"#000000\" stroke-opacity=\"1\" stroke-width=\"3.2\"/>\n",
       "<circle clip-path=\"url(#clip552)\" cx=\"2045.35\" cy=\"96.8254\" r=\"14.4\" fill=\"#e26f46\" fill-rule=\"evenodd\" fill-opacity=\"1\" stroke=\"#000000\" stroke-opacity=\"1\" stroke-width=\"3.2\"/>\n",
       "<circle clip-path=\"url(#clip552)\" cx=\"309.542\" cy=\"1373.6\" r=\"14.4\" fill=\"#e26f46\" fill-rule=\"evenodd\" fill-opacity=\"1\" stroke=\"#000000\" stroke-opacity=\"1\" stroke-width=\"3.2\"/>\n",
       "<circle clip-path=\"url(#clip552)\" cx=\"2045.35\" cy=\"96.8254\" r=\"14.4\" fill=\"#e26f46\" fill-rule=\"evenodd\" fill-opacity=\"1\" stroke=\"#000000\" stroke-opacity=\"1\" stroke-width=\"3.2\"/>\n",
       "<circle clip-path=\"url(#clip552)\" cx=\"2045.35\" cy=\"1373.6\" r=\"14.4\" fill=\"#e26f46\" fill-rule=\"evenodd\" fill-opacity=\"1\" stroke=\"#000000\" stroke-opacity=\"1\" stroke-width=\"3.2\"/>\n",
       "<circle clip-path=\"url(#clip552)\" cx=\"309.542\" cy=\"96.8254\" r=\"14.4\" fill=\"#e26f46\" fill-rule=\"evenodd\" fill-opacity=\"1\" stroke=\"#000000\" stroke-opacity=\"1\" stroke-width=\"3.2\"/>\n",
       "<circle clip-path=\"url(#clip552)\" cx=\"309.542\" cy=\"96.8254\" r=\"14.4\" fill=\"#e26f46\" fill-rule=\"evenodd\" fill-opacity=\"1\" stroke=\"#000000\" stroke-opacity=\"1\" stroke-width=\"3.2\"/>\n",
       "<circle clip-path=\"url(#clip552)\" cx=\"2045.35\" cy=\"1373.6\" r=\"14.4\" fill=\"#e26f46\" fill-rule=\"evenodd\" fill-opacity=\"1\" stroke=\"#000000\" stroke-opacity=\"1\" stroke-width=\"3.2\"/>\n",
       "<circle clip-path=\"url(#clip552)\" cx=\"309.542\" cy=\"96.8254\" r=\"14.4\" fill=\"#e26f46\" fill-rule=\"evenodd\" fill-opacity=\"1\" stroke=\"#000000\" stroke-opacity=\"1\" stroke-width=\"3.2\"/>\n",
       "<circle clip-path=\"url(#clip552)\" cx=\"309.542\" cy=\"1373.6\" r=\"14.4\" fill=\"#e26f46\" fill-rule=\"evenodd\" fill-opacity=\"1\" stroke=\"#000000\" stroke-opacity=\"1\" stroke-width=\"3.2\"/>\n",
       "<circle clip-path=\"url(#clip552)\" cx=\"2045.35\" cy=\"96.8254\" r=\"14.4\" fill=\"#e26f46\" fill-rule=\"evenodd\" fill-opacity=\"1\" stroke=\"#000000\" stroke-opacity=\"1\" stroke-width=\"3.2\"/>\n",
       "<circle clip-path=\"url(#clip552)\" cx=\"2045.35\" cy=\"1373.6\" r=\"14.4\" fill=\"#e26f46\" fill-rule=\"evenodd\" fill-opacity=\"1\" stroke=\"#000000\" stroke-opacity=\"1\" stroke-width=\"3.2\"/>\n",
       "<circle clip-path=\"url(#clip552)\" cx=\"309.542\" cy=\"96.8254\" r=\"14.4\" fill=\"#e26f46\" fill-rule=\"evenodd\" fill-opacity=\"1\" stroke=\"#000000\" stroke-opacity=\"1\" stroke-width=\"3.2\"/>\n",
       "<circle clip-path=\"url(#clip552)\" cx=\"2045.35\" cy=\"1373.6\" r=\"14.4\" fill=\"#e26f46\" fill-rule=\"evenodd\" fill-opacity=\"1\" stroke=\"#000000\" stroke-opacity=\"1\" stroke-width=\"3.2\"/>\n",
       "<circle clip-path=\"url(#clip552)\" cx=\"309.542\" cy=\"96.8254\" r=\"14.4\" fill=\"#e26f46\" fill-rule=\"evenodd\" fill-opacity=\"1\" stroke=\"#000000\" stroke-opacity=\"1\" stroke-width=\"3.2\"/>\n",
       "<circle clip-path=\"url(#clip552)\" cx=\"309.542\" cy=\"1373.6\" r=\"14.4\" fill=\"#e26f46\" fill-rule=\"evenodd\" fill-opacity=\"1\" stroke=\"#000000\" stroke-opacity=\"1\" stroke-width=\"3.2\"/>\n",
       "<circle clip-path=\"url(#clip552)\" cx=\"2045.35\" cy=\"1373.6\" r=\"14.4\" fill=\"#e26f46\" fill-rule=\"evenodd\" fill-opacity=\"1\" stroke=\"#000000\" stroke-opacity=\"1\" stroke-width=\"3.2\"/>\n",
       "<circle clip-path=\"url(#clip552)\" cx=\"2045.35\" cy=\"96.8254\" r=\"14.4\" fill=\"#e26f46\" fill-rule=\"evenodd\" fill-opacity=\"1\" stroke=\"#000000\" stroke-opacity=\"1\" stroke-width=\"3.2\"/>\n",
       "<circle clip-path=\"url(#clip552)\" cx=\"2045.35\" cy=\"1373.6\" r=\"14.4\" fill=\"#e26f46\" fill-rule=\"evenodd\" fill-opacity=\"1\" stroke=\"#000000\" stroke-opacity=\"1\" stroke-width=\"3.2\"/>\n",
       "<circle clip-path=\"url(#clip552)\" cx=\"309.542\" cy=\"96.8254\" r=\"14.4\" fill=\"#e26f46\" fill-rule=\"evenodd\" fill-opacity=\"1\" stroke=\"#000000\" stroke-opacity=\"1\" stroke-width=\"3.2\"/>\n",
       "<circle clip-path=\"url(#clip552)\" cx=\"309.542\" cy=\"1373.6\" r=\"14.4\" fill=\"#e26f46\" fill-rule=\"evenodd\" fill-opacity=\"1\" stroke=\"#000000\" stroke-opacity=\"1\" stroke-width=\"3.2\"/>\n",
       "<circle clip-path=\"url(#clip552)\" cx=\"2045.35\" cy=\"96.8254\" r=\"14.4\" fill=\"#e26f46\" fill-rule=\"evenodd\" fill-opacity=\"1\" stroke=\"#000000\" stroke-opacity=\"1\" stroke-width=\"3.2\"/>\n",
       "<circle clip-path=\"url(#clip552)\" cx=\"309.542\" cy=\"1373.6\" r=\"14.4\" fill=\"#e26f46\" fill-rule=\"evenodd\" fill-opacity=\"1\" stroke=\"#000000\" stroke-opacity=\"1\" stroke-width=\"3.2\"/>\n",
       "<circle clip-path=\"url(#clip552)\" cx=\"309.542\" cy=\"96.8254\" r=\"14.4\" fill=\"#e26f46\" fill-rule=\"evenodd\" fill-opacity=\"1\" stroke=\"#000000\" stroke-opacity=\"1\" stroke-width=\"3.2\"/>\n",
       "<circle clip-path=\"url(#clip552)\" cx=\"2045.35\" cy=\"1373.6\" r=\"14.4\" fill=\"#e26f46\" fill-rule=\"evenodd\" fill-opacity=\"1\" stroke=\"#000000\" stroke-opacity=\"1\" stroke-width=\"3.2\"/>\n",
       "<circle clip-path=\"url(#clip552)\" cx=\"2045.35\" cy=\"96.8254\" r=\"14.4\" fill=\"#e26f46\" fill-rule=\"evenodd\" fill-opacity=\"1\" stroke=\"#000000\" stroke-opacity=\"1\" stroke-width=\"3.2\"/>\n",
       "<circle clip-path=\"url(#clip552)\" cx=\"309.542\" cy=\"1373.6\" r=\"14.4\" fill=\"#e26f46\" fill-rule=\"evenodd\" fill-opacity=\"1\" stroke=\"#000000\" stroke-opacity=\"1\" stroke-width=\"3.2\"/>\n",
       "<circle clip-path=\"url(#clip552)\" cx=\"2045.35\" cy=\"1373.6\" r=\"14.4\" fill=\"#e26f46\" fill-rule=\"evenodd\" fill-opacity=\"1\" stroke=\"#000000\" stroke-opacity=\"1\" stroke-width=\"3.2\"/>\n",
       "<circle clip-path=\"url(#clip552)\" cx=\"309.542\" cy=\"96.8254\" r=\"14.4\" fill=\"#e26f46\" fill-rule=\"evenodd\" fill-opacity=\"1\" stroke=\"#000000\" stroke-opacity=\"1\" stroke-width=\"3.2\"/>\n",
       "<circle clip-path=\"url(#clip552)\" cx=\"2045.35\" cy=\"96.8254\" r=\"14.4\" fill=\"#e26f46\" fill-rule=\"evenodd\" fill-opacity=\"1\" stroke=\"#000000\" stroke-opacity=\"1\" stroke-width=\"3.2\"/>\n",
       "<circle clip-path=\"url(#clip552)\" cx=\"309.542\" cy=\"1373.6\" r=\"14.4\" fill=\"#e26f46\" fill-rule=\"evenodd\" fill-opacity=\"1\" stroke=\"#000000\" stroke-opacity=\"1\" stroke-width=\"3.2\"/>\n",
       "<circle clip-path=\"url(#clip552)\" cx=\"309.542\" cy=\"1373.6\" r=\"14.4\" fill=\"#e26f46\" fill-rule=\"evenodd\" fill-opacity=\"1\" stroke=\"#000000\" stroke-opacity=\"1\" stroke-width=\"3.2\"/>\n",
       "<circle clip-path=\"url(#clip552)\" cx=\"2045.35\" cy=\"1373.6\" r=\"14.4\" fill=\"#e26f46\" fill-rule=\"evenodd\" fill-opacity=\"1\" stroke=\"#000000\" stroke-opacity=\"1\" stroke-width=\"3.2\"/>\n",
       "<circle clip-path=\"url(#clip552)\" cx=\"309.542\" cy=\"96.8254\" r=\"14.4\" fill=\"#e26f46\" fill-rule=\"evenodd\" fill-opacity=\"1\" stroke=\"#000000\" stroke-opacity=\"1\" stroke-width=\"3.2\"/>\n",
       "<circle clip-path=\"url(#clip552)\" cx=\"309.542\" cy=\"96.8254\" r=\"14.4\" fill=\"#e26f46\" fill-rule=\"evenodd\" fill-opacity=\"1\" stroke=\"#000000\" stroke-opacity=\"1\" stroke-width=\"3.2\"/>\n",
       "<circle clip-path=\"url(#clip552)\" cx=\"2045.35\" cy=\"96.8254\" r=\"14.4\" fill=\"#e26f46\" fill-rule=\"evenodd\" fill-opacity=\"1\" stroke=\"#000000\" stroke-opacity=\"1\" stroke-width=\"3.2\"/>\n",
       "<circle clip-path=\"url(#clip552)\" cx=\"2045.35\" cy=\"1373.6\" r=\"14.4\" fill=\"#e26f46\" fill-rule=\"evenodd\" fill-opacity=\"1\" stroke=\"#000000\" stroke-opacity=\"1\" stroke-width=\"3.2\"/>\n",
       "<circle clip-path=\"url(#clip552)\" cx=\"309.542\" cy=\"1373.6\" r=\"14.4\" fill=\"#e26f46\" fill-rule=\"evenodd\" fill-opacity=\"1\" stroke=\"#000000\" stroke-opacity=\"1\" stroke-width=\"3.2\"/>\n",
       "<circle clip-path=\"url(#clip552)\" cx=\"2045.35\" cy=\"96.8254\" r=\"14.4\" fill=\"#e26f46\" fill-rule=\"evenodd\" fill-opacity=\"1\" stroke=\"#000000\" stroke-opacity=\"1\" stroke-width=\"3.2\"/>\n",
       "<circle clip-path=\"url(#clip552)\" cx=\"309.542\" cy=\"1373.6\" r=\"14.4\" fill=\"#e26f46\" fill-rule=\"evenodd\" fill-opacity=\"1\" stroke=\"#000000\" stroke-opacity=\"1\" stroke-width=\"3.2\"/>\n",
       "<circle clip-path=\"url(#clip552)\" cx=\"2045.35\" cy=\"96.8254\" r=\"14.4\" fill=\"#e26f46\" fill-rule=\"evenodd\" fill-opacity=\"1\" stroke=\"#000000\" stroke-opacity=\"1\" stroke-width=\"3.2\"/>\n",
       "<circle clip-path=\"url(#clip552)\" cx=\"309.542\" cy=\"96.8254\" r=\"14.4\" fill=\"#e26f46\" fill-rule=\"evenodd\" fill-opacity=\"1\" stroke=\"#000000\" stroke-opacity=\"1\" stroke-width=\"3.2\"/>\n",
       "<circle clip-path=\"url(#clip552)\" cx=\"2045.35\" cy=\"1373.6\" r=\"14.4\" fill=\"#e26f46\" fill-rule=\"evenodd\" fill-opacity=\"1\" stroke=\"#000000\" stroke-opacity=\"1\" stroke-width=\"3.2\"/>\n",
       "<circle clip-path=\"url(#clip552)\" cx=\"309.542\" cy=\"1373.6\" r=\"14.4\" fill=\"#e26f46\" fill-rule=\"evenodd\" fill-opacity=\"1\" stroke=\"#000000\" stroke-opacity=\"1\" stroke-width=\"3.2\"/>\n",
       "<circle clip-path=\"url(#clip552)\" cx=\"309.542\" cy=\"96.8254\" r=\"14.4\" fill=\"#e26f46\" fill-rule=\"evenodd\" fill-opacity=\"1\" stroke=\"#000000\" stroke-opacity=\"1\" stroke-width=\"3.2\"/>\n",
       "<circle clip-path=\"url(#clip552)\" cx=\"2045.35\" cy=\"1373.6\" r=\"14.4\" fill=\"#e26f46\" fill-rule=\"evenodd\" fill-opacity=\"1\" stroke=\"#000000\" stroke-opacity=\"1\" stroke-width=\"3.2\"/>\n",
       "<circle clip-path=\"url(#clip552)\" cx=\"2045.35\" cy=\"96.8254\" r=\"14.4\" fill=\"#e26f46\" fill-rule=\"evenodd\" fill-opacity=\"1\" stroke=\"#000000\" stroke-opacity=\"1\" stroke-width=\"3.2\"/>\n",
       "<circle clip-path=\"url(#clip552)\" cx=\"309.542\" cy=\"1373.6\" r=\"14.4\" fill=\"#e26f46\" fill-rule=\"evenodd\" fill-opacity=\"1\" stroke=\"#000000\" stroke-opacity=\"1\" stroke-width=\"3.2\"/>\n",
       "<circle clip-path=\"url(#clip552)\" cx=\"2045.35\" cy=\"96.8254\" r=\"14.4\" fill=\"#e26f46\" fill-rule=\"evenodd\" fill-opacity=\"1\" stroke=\"#000000\" stroke-opacity=\"1\" stroke-width=\"3.2\"/>\n",
       "<circle clip-path=\"url(#clip552)\" cx=\"309.542\" cy=\"1373.6\" r=\"14.4\" fill=\"#e26f46\" fill-rule=\"evenodd\" fill-opacity=\"1\" stroke=\"#000000\" stroke-opacity=\"1\" stroke-width=\"3.2\"/>\n",
       "<circle clip-path=\"url(#clip552)\" cx=\"2045.35\" cy=\"1373.6\" r=\"14.4\" fill=\"#e26f46\" fill-rule=\"evenodd\" fill-opacity=\"1\" stroke=\"#000000\" stroke-opacity=\"1\" stroke-width=\"3.2\"/>\n",
       "<circle clip-path=\"url(#clip552)\" cx=\"309.542\" cy=\"96.8254\" r=\"14.4\" fill=\"#e26f46\" fill-rule=\"evenodd\" fill-opacity=\"1\" stroke=\"#000000\" stroke-opacity=\"1\" stroke-width=\"3.2\"/>\n",
       "<circle clip-path=\"url(#clip552)\" cx=\"309.542\" cy=\"96.8254\" r=\"14.4\" fill=\"#e26f46\" fill-rule=\"evenodd\" fill-opacity=\"1\" stroke=\"#000000\" stroke-opacity=\"1\" stroke-width=\"3.2\"/>\n",
       "<circle clip-path=\"url(#clip552)\" cx=\"309.542\" cy=\"96.8254\" r=\"14.4\" fill=\"#e26f46\" fill-rule=\"evenodd\" fill-opacity=\"1\" stroke=\"#000000\" stroke-opacity=\"1\" stroke-width=\"3.2\"/>\n",
       "<circle clip-path=\"url(#clip552)\" cx=\"2045.35\" cy=\"1373.6\" r=\"14.4\" fill=\"#e26f46\" fill-rule=\"evenodd\" fill-opacity=\"1\" stroke=\"#000000\" stroke-opacity=\"1\" stroke-width=\"3.2\"/>\n",
       "<circle clip-path=\"url(#clip552)\" cx=\"309.542\" cy=\"96.8254\" r=\"14.4\" fill=\"#e26f46\" fill-rule=\"evenodd\" fill-opacity=\"1\" stroke=\"#000000\" stroke-opacity=\"1\" stroke-width=\"3.2\"/>\n",
       "<circle clip-path=\"url(#clip552)\" cx=\"2045.35\" cy=\"96.8254\" r=\"14.4\" fill=\"#e26f46\" fill-rule=\"evenodd\" fill-opacity=\"1\" stroke=\"#000000\" stroke-opacity=\"1\" stroke-width=\"3.2\"/>\n",
       "<circle clip-path=\"url(#clip552)\" cx=\"309.542\" cy=\"1373.6\" r=\"14.4\" fill=\"#e26f46\" fill-rule=\"evenodd\" fill-opacity=\"1\" stroke=\"#000000\" stroke-opacity=\"1\" stroke-width=\"3.2\"/>\n",
       "<circle clip-path=\"url(#clip552)\" cx=\"2045.35\" cy=\"1373.6\" r=\"14.4\" fill=\"#e26f46\" fill-rule=\"evenodd\" fill-opacity=\"1\" stroke=\"#000000\" stroke-opacity=\"1\" stroke-width=\"3.2\"/>\n",
       "<circle clip-path=\"url(#clip552)\" cx=\"309.542\" cy=\"1373.6\" r=\"14.4\" fill=\"#e26f46\" fill-rule=\"evenodd\" fill-opacity=\"1\" stroke=\"#000000\" stroke-opacity=\"1\" stroke-width=\"3.2\"/>\n",
       "<circle clip-path=\"url(#clip552)\" cx=\"309.542\" cy=\"96.8254\" r=\"14.4\" fill=\"#e26f46\" fill-rule=\"evenodd\" fill-opacity=\"1\" stroke=\"#000000\" stroke-opacity=\"1\" stroke-width=\"3.2\"/>\n",
       "<circle clip-path=\"url(#clip552)\" cx=\"309.542\" cy=\"1373.6\" r=\"14.4\" fill=\"#e26f46\" fill-rule=\"evenodd\" fill-opacity=\"1\" stroke=\"#000000\" stroke-opacity=\"1\" stroke-width=\"3.2\"/>\n",
       "<circle clip-path=\"url(#clip552)\" cx=\"2045.35\" cy=\"96.8254\" r=\"14.4\" fill=\"#e26f46\" fill-rule=\"evenodd\" fill-opacity=\"1\" stroke=\"#000000\" stroke-opacity=\"1\" stroke-width=\"3.2\"/>\n",
       "<circle clip-path=\"url(#clip552)\" cx=\"309.542\" cy=\"1373.6\" r=\"14.4\" fill=\"#e26f46\" fill-rule=\"evenodd\" fill-opacity=\"1\" stroke=\"#000000\" stroke-opacity=\"1\" stroke-width=\"3.2\"/>\n",
       "<circle clip-path=\"url(#clip552)\" cx=\"2045.35\" cy=\"1373.6\" r=\"14.4\" fill=\"#e26f46\" fill-rule=\"evenodd\" fill-opacity=\"1\" stroke=\"#000000\" stroke-opacity=\"1\" stroke-width=\"3.2\"/>\n",
       "<circle clip-path=\"url(#clip552)\" cx=\"309.542\" cy=\"96.8254\" r=\"14.4\" fill=\"#e26f46\" fill-rule=\"evenodd\" fill-opacity=\"1\" stroke=\"#000000\" stroke-opacity=\"1\" stroke-width=\"3.2\"/>\n",
       "<circle clip-path=\"url(#clip552)\" cx=\"2045.35\" cy=\"1373.6\" r=\"14.4\" fill=\"#e26f46\" fill-rule=\"evenodd\" fill-opacity=\"1\" stroke=\"#000000\" stroke-opacity=\"1\" stroke-width=\"3.2\"/>\n",
       "<circle clip-path=\"url(#clip552)\" cx=\"309.542\" cy=\"96.8254\" r=\"14.4\" fill=\"#e26f46\" fill-rule=\"evenodd\" fill-opacity=\"1\" stroke=\"#000000\" stroke-opacity=\"1\" stroke-width=\"3.2\"/>\n",
       "<circle clip-path=\"url(#clip552)\" cx=\"2045.35\" cy=\"96.8254\" r=\"14.4\" fill=\"#e26f46\" fill-rule=\"evenodd\" fill-opacity=\"1\" stroke=\"#000000\" stroke-opacity=\"1\" stroke-width=\"3.2\"/>\n",
       "<circle clip-path=\"url(#clip552)\" cx=\"309.542\" cy=\"1373.6\" r=\"14.4\" fill=\"#e26f46\" fill-rule=\"evenodd\" fill-opacity=\"1\" stroke=\"#000000\" stroke-opacity=\"1\" stroke-width=\"3.2\"/>\n",
       "<circle clip-path=\"url(#clip552)\" cx=\"2045.35\" cy=\"1373.6\" r=\"14.4\" fill=\"#e26f46\" fill-rule=\"evenodd\" fill-opacity=\"1\" stroke=\"#000000\" stroke-opacity=\"1\" stroke-width=\"3.2\"/>\n",
       "<circle clip-path=\"url(#clip552)\" cx=\"309.542\" cy=\"96.8254\" r=\"14.4\" fill=\"#e26f46\" fill-rule=\"evenodd\" fill-opacity=\"1\" stroke=\"#000000\" stroke-opacity=\"1\" stroke-width=\"3.2\"/>\n",
       "<circle clip-path=\"url(#clip552)\" cx=\"2045.35\" cy=\"96.8254\" r=\"14.4\" fill=\"#e26f46\" fill-rule=\"evenodd\" fill-opacity=\"1\" stroke=\"#000000\" stroke-opacity=\"1\" stroke-width=\"3.2\"/>\n",
       "<circle clip-path=\"url(#clip552)\" cx=\"309.542\" cy=\"1373.6\" r=\"14.4\" fill=\"#e26f46\" fill-rule=\"evenodd\" fill-opacity=\"1\" stroke=\"#000000\" stroke-opacity=\"1\" stroke-width=\"3.2\"/>\n",
       "<circle clip-path=\"url(#clip552)\" cx=\"309.542\" cy=\"1373.6\" r=\"14.4\" fill=\"#e26f46\" fill-rule=\"evenodd\" fill-opacity=\"1\" stroke=\"#000000\" stroke-opacity=\"1\" stroke-width=\"3.2\"/>\n",
       "<circle clip-path=\"url(#clip552)\" cx=\"2045.35\" cy=\"96.8254\" r=\"14.4\" fill=\"#e26f46\" fill-rule=\"evenodd\" fill-opacity=\"1\" stroke=\"#000000\" stroke-opacity=\"1\" stroke-width=\"3.2\"/>\n",
       "<circle clip-path=\"url(#clip552)\" cx=\"2045.35\" cy=\"1373.6\" r=\"14.4\" fill=\"#e26f46\" fill-rule=\"evenodd\" fill-opacity=\"1\" stroke=\"#000000\" stroke-opacity=\"1\" stroke-width=\"3.2\"/>\n",
       "<circle clip-path=\"url(#clip552)\" cx=\"309.542\" cy=\"96.8254\" r=\"14.4\" fill=\"#e26f46\" fill-rule=\"evenodd\" fill-opacity=\"1\" stroke=\"#000000\" stroke-opacity=\"1\" stroke-width=\"3.2\"/>\n",
       "<circle clip-path=\"url(#clip552)\" cx=\"2045.35\" cy=\"96.8254\" r=\"14.4\" fill=\"#e26f46\" fill-rule=\"evenodd\" fill-opacity=\"1\" stroke=\"#000000\" stroke-opacity=\"1\" stroke-width=\"3.2\"/>\n",
       "<circle clip-path=\"url(#clip552)\" cx=\"309.542\" cy=\"96.8254\" r=\"14.4\" fill=\"#e26f46\" fill-rule=\"evenodd\" fill-opacity=\"1\" stroke=\"#000000\" stroke-opacity=\"1\" stroke-width=\"3.2\"/>\n",
       "<circle clip-path=\"url(#clip552)\" cx=\"2045.35\" cy=\"1373.6\" r=\"14.4\" fill=\"#e26f46\" fill-rule=\"evenodd\" fill-opacity=\"1\" stroke=\"#000000\" stroke-opacity=\"1\" stroke-width=\"3.2\"/>\n",
       "<circle clip-path=\"url(#clip552)\" cx=\"309.542\" cy=\"1373.6\" r=\"14.4\" fill=\"#e26f46\" fill-rule=\"evenodd\" fill-opacity=\"1\" stroke=\"#000000\" stroke-opacity=\"1\" stroke-width=\"3.2\"/>\n",
       "<circle clip-path=\"url(#clip552)\" cx=\"309.542\" cy=\"1373.6\" r=\"14.4\" fill=\"#e26f46\" fill-rule=\"evenodd\" fill-opacity=\"1\" stroke=\"#000000\" stroke-opacity=\"1\" stroke-width=\"3.2\"/>\n",
       "<circle clip-path=\"url(#clip552)\" cx=\"309.542\" cy=\"1373.6\" r=\"14.4\" fill=\"#e26f46\" fill-rule=\"evenodd\" fill-opacity=\"1\" stroke=\"#000000\" stroke-opacity=\"1\" stroke-width=\"3.2\"/>\n",
       "<circle clip-path=\"url(#clip552)\" cx=\"2045.35\" cy=\"1373.6\" r=\"14.4\" fill=\"#e26f46\" fill-rule=\"evenodd\" fill-opacity=\"1\" stroke=\"#000000\" stroke-opacity=\"1\" stroke-width=\"3.2\"/>\n",
       "<circle clip-path=\"url(#clip552)\" cx=\"309.542\" cy=\"1373.6\" r=\"14.4\" fill=\"#e26f46\" fill-rule=\"evenodd\" fill-opacity=\"1\" stroke=\"#000000\" stroke-opacity=\"1\" stroke-width=\"3.2\"/>\n",
       "<circle clip-path=\"url(#clip552)\" cx=\"2045.35\" cy=\"96.8254\" r=\"14.4\" fill=\"#e26f46\" fill-rule=\"evenodd\" fill-opacity=\"1\" stroke=\"#000000\" stroke-opacity=\"1\" stroke-width=\"3.2\"/>\n",
       "<defs>\n",
       "  <clipPath id=\"clip553\">\n",
       "    <rect x=\"2160\" y=\"47\" width=\"73\" height=\"1377\"/>\n",
       "  </clipPath>\n",
       "</defs>\n",
       "<g clip-path=\"url(#clip553)\">\n",
       "<image width=\"72\" height=\"1376\" xlink:href=\"data:image/png;base64,\n",
       "iVBORw0KGgoAAAANSUhEUgAAAEgAAAVgCAYAAADsKhu7AAAL6UlEQVR4nO3dwZEjNxBFQVBR/lsh\n",
       "L6UFZIHqHclDpgUTL35wCXTP7Off+/c7/K+/vv0D/DqBgkBBoCBQmPv+/fbP8NMsKAgUBAoChXnv\n",
       "z7d/hp9mQUGgIFAQKAgUHDWCBQWBgkBBoDDPh/TKgoJAQaAgUJh3fUhvLCgIFAQKAgWBgqNGsKAg\n",
       "UBAoCBR8SAcLCgIFgYJAwX1QsKAgUBAoCBQECnMcNVYWFAQKAgWBgvugYEFBoCBQECgIFOa4MFtZ\n",
       "UBAoCBQECnPuP9/+GX6aBQWBgkBBoODSPlhQECgIFAQKAgX3QcGCgkBBoCBQ8CEdLCgIFAQKAgX3\n",
       "QcGCgkBBoCBQECjMx1FjZUFBoCBQECjMuf5XhI0FBYGCQEGgIFBw1AgWFAQKAgWBgqNGsKAgUBAo\n",
       "CBS8HxQsKAgUBAoCBYHCfBw1VhYUBAoCBYGCt1yDBQWBgkBBoOCbdLCgIFAQKAgUBAoePQcLCgIF\n",
       "gYJAwVEjWFAQKAgUBAoCBUeNYEFBoCBQECg4agQLCgIFgYJAYc693/4ZfpoFBYGCQEGgIFBw1AgW\n",
       "FAQKAgWBgkv7YEFBoCBQECj4kA4WFAQKAgWBgkBhPp5qrCwoCBQECgIFR41gQUGgIFAQKAgUvEAV\n",
       "LCgIFAQKAgX3QcGCgkBBoCBQcB8ULCgIFAQKAgWBgvugYEFBoCBQECj4kA4WFAQKAgWBgl/qDRYU\n",
       "BAoCBYGCQMFRI1hQECgIFAQKPqSDBQWBgkBBoCBQ8K9YsKAgUBAoCBR8SAcLCgIFgYJAYc7zIb2x\n",
       "oCBQECgIFAQKjhrBgoJAQaAgUPAhHSwoCBQECgIFH9LBgoJAQaAgUBAozLnv2z/DT7OgIFAQKAgU\n",
       "HDWCBQWBgkBBoCBQcNQIFhQECgIFgYKjRrCgIFAQKAgUfJMOFhQECgIFgYJAYY6TxsqCgkBBoCBQ\n",
       "mPMcNTYWFAQKAgWBgm/SwYKCQEGgIFAQKPhXLFhQECgIFAQK44/g7SwoCBQECgIFgYKjRrCgIFAQ\n",
       "KAgUfEgHCwoCBYGCQGHO/Xz7Z/hpFhQECgIFgYJAYd7zr9jGgoJAQaAgUHAfFCwoCBQECgIF90HB\n",
       "goJAQaAgUBAozLsabdQJAgWBgkDBUSNYUBAoCBQECgKFOR49rywoCBQECgKFeY4aKwsKAgWBgkBh\n",
       "jkv7lTpBoCBQECgIFBw1ggUFgYJAQaDg0j5YUBAoCBQECl7iDOoEgYJAQaAgUPCWa7CgIFAQKAgU\n",
       "XNoHCwoCBYGCQEGgMO9ptFEnCBQECgIF90HBgoJAQaAgUHAfFCwoCBQECgIFgcIc90ErdYJAQaAg\n",
       "UHDUCBYUBAoCBYGCD+lgQUGgIFAQKAgU/NZzsKAgUBAoCBT81nNQJwgUBAoCBYHCPEeNlQUFgYJA\n",
       "QaDgqUawoCBQECgIFPyvCEGdIFAQKAgUBArug4IFBYGCQEGg4D4oWFAQKAgUBAq+SQcLCgIFgYJA\n",
       "QaDgLdegThAoCBQECo4awYKCQEGgIFAQKHiqESwoCBQECgIFR41gQUGgIFAQKPiva4IFBYGCQEGg\n",
       "IFDwv2QGdYJAQaAgUHAfFCwoCBQECgIFT1aDBQWBgkBBoCBQcNQIFhQECgIFgcJcH9IrCwoCBYGC\n",
       "QEGg4LeegzpBoCBQECi4DwoWFAQKAgWBgg/pYEFBoCBQECgIFLxAFSwoCBQECgIFR41gQUGgIFAQ\n",
       "KPiQDhYUBAoCBYGCQMGfpgjqBIGCQEGgMNel/cqCgkBBoCBQECi4MAsWFAQKAgWBgg/pYEFBoCBQ\n",
       "ECj4kA4WFAQKAgWBgkDBH1gKFhQECgIFgYKjRrCgIFAQKAgUfEgHCwoCBYGCQEGg4FcRgjpBoCBQ\n",
       "ECj4VYRgQUGgIFAQKAgUXJgFCwoCBYGCQMGHdLCgIFAQKAgUvMQZLCgIFAQKAgWBgqNGsKAgUBAo\n",
       "CBTmHR/SGwsKAgWBgkDBfVCwoCBQECgIFAQK7oOCBQWBgkBBoOCoESwoCBQECgIFgYKjRrCgIFAQ\n",
       "KAgUHDWCBQWBgkBBoOCbdLCgIFAQKAgUBAr+FQsWFAQKAgWBwly/irCyoCBQECgIFHyTDhYUBAoC\n",
       "BYGCQMGj52BBQaAgUBAozHvf/hF+mwUFgYJAQaAgUHDUCBYUBAoCBYGCv4IXLCgIFAQKAgXfpIMF\n",
       "BYGCQEGgIFDwAlWwoCBQECgIFPwqQrCgIFAQKAgUvB8ULCgIFAQKAgWBgqcawYKCQEGgIFBwaR8s\n",
       "KAgUBAoCBYGCpxrBgoJAQaAgUHAfFCwoCBQECgIFj56DBQWBgkBBoCBQcB8ULCgIFAQKAgWPnoMF\n",
       "BYGCQEGgMPfbP8GPs6AgUBAoCBQECo4awYKCQEGgIFDwflCwoCBQECgIFAQKLsyCBQWBgkBBoOA+\n",
       "KFhQECgIFAQKvkkHCwoCBYGCQEGg4KgRLCgIFAQKAgWPnoMFBYGCQEGgMP4yxc6CgkBBoCBQECg4\n",
       "agQLCgIFgYJAwaPnYEFBoCBQECgIFDx6DhYUBAoCBYGCo0awoCBQECgIFHyTDhYUBAoCBYGCQGGu\n",
       "N6hWFhQECgIFgYL7oGBBQaAgUBAouA8KFhQECgIFgYJAwVEjWFAQKAgUBArzXNqvLCgIFAQKAgWB\n",
       "wtzjwmxjQUGgIFAQKHg/KFhQECgIFAQK/gpesKAgUBAoCBQECv4KXrCgIFAQKAgUPHoOFhQECgIF\n",
       "gYKXOIMFBYGCQEGgIFDwC3XBgoJAQaAgUHDUCBYUBAoCBYGCQMFbrsGCgkBBoCBQ8JZrsKAgUBAo\n",
       "CBR8kw4WFAQKAgWBgkDBW67BgoJAQaAgUPD3g4IFBYGCQEGg4D4oWFAQKAgUBAoCBY+egwUFgYJA\n",
       "QaDgqBEsKAgUBAoCBYGCo0awoCBQECgIFBw1ggUFgYJAQaDgQzpYUBAoCBQECgIF90HBgoJAQaAg\n",
       "UHDUCBYUBAoCBYGCb9LBgoJAQaAgUBAoOGoECwoCBYGCQMHfDwoWFAQKAgWBgkDB/+0TLCgIFAQK\n",
       "AgX3QcGCgkBBoCBQmHd8Sm8sKAgUBAoCBYGCo0awoCBQECgIFDx6DhYUBAoCBYGCJ6vBgoJAQaAg\n",
       "UBAouA8KFhQECgIFgYJHz8GCgkBBoCBQECg4agQLCgIFgYJAwR9YChYUBAoCBYHCXC8IrSwoCBQE\n",
       "CgIFgYIXqIIFBYGCQEGgMM9RY2VBQaAgUBAo+CYdLCgIFAQKAgWBgqcawYKCQEGgIFDwflCwoCBQ\n",
       "ECgIFAQKc/1C3cqCgkBBoCBQcB8ULCgIFAQKAgV/miJYUBAoCBQECgIFL1AFCwoCBYGCQMGlfbCg\n",
       "IFAQKAgU3AcFCwoCBYGCQEGgMPe4EdpYUBAoCBQECu6DggUFgYJAQaAgUPCvWLCgIFAQKAgUPNUI\n",
       "FhQECgIFgYJL+2BBQaAgUBAoCBTmfhw1NhYUBAoCBYGCo0awoCBQECgIFOb5kF5ZUBAoCBQECgIF\n",
       "R41gQUGgIFAQKMz9+JDeWFAQKAgUBAoCBUeNYEFBoCBQECh4qhEsKAgUBAoCBd+kgwUFgYJAQaAg\n",
       "UPCvWLCgIFAQKAgUPHoOFhQECgIFgcK88+fbP8NPs6AgUBAoCBQECu6DggUFgYJAQaDg/aBgQUGg\n",
       "IFAQKAgU5j4XZhsLCgIFgYJAwVEjWFAQKAgUBApzPXpeWVAQKAgUBAoCBUeNYEFBoCBQECg4agQL\n",
       "CgIFgYJAYd7zTXpjQUGgIFAQKAgU3AcFCwoCBYGCQMFLnMGCgkBBoCBQECg4agQLCgIFgYJAYZ6j\n",
       "xsqCgkBBoCBQ8E06WFAQKAgUBAoChbleoFpZUBAoCBQECv7gdrCgIFAQKAgU/CpCsKAgUBAoCBQE\n",
       "Cp5qBAsKAgWBgkDBUSNYUBAoCBQECgIF/4oFCwoCBYGCQMGj52BBQaAgUBAo+CYdLCgIFAQKAgWB\n",
       "whyPnlcWFAQKAgWBgqNGsKAgUBAoCBS8xBksKAgUBAoCBYHCHEeNlQUFgYJAQaDg/aBgQUGgIFAQ\n",
       "KAgUPHoOFhQECgIFgYL7oGBBQaAgUBAozDvv2z/DT7OgIFAQKAgUBArug4IFBYGCQEGgMMdRY2VB\n",
       "QaAgUBAo/AdhU+3PqlcPeQAAAABJRU5ErkJggg==\n",
       "\" transform=\"translate(2161, 47)\"/>\n",
       "</g>\n",
       "<path clip-path=\"url(#clip550)\" d=\"M2280.7 1232.29 Q2277.09 1232.29 2275.26 1235.86 Q2273.45 1239.4 2273.45 1246.53 Q2273.45 1253.63 2275.26 1257.2 Q2277.09 1260.74 2280.7 1260.74 Q2284.33 1260.74 2286.14 1257.2 Q2287.97 1253.63 2287.97 1246.53 Q2287.97 1239.4 2286.14 1235.86 Q2284.33 1232.29 2280.7 1232.29 M2280.7 1228.59 Q2286.51 1228.59 2289.57 1233.19 Q2292.64 1237.78 2292.64 1246.53 Q2292.64 1255.25 2289.57 1259.86 Q2286.51 1264.44 2280.7 1264.44 Q2274.89 1264.44 2271.81 1259.86 Q2268.76 1255.25 2268.76 1246.53 Q2268.76 1237.78 2271.81 1233.19 Q2274.89 1228.59 2280.7 1228.59 Z\" fill=\"#000000\" fill-rule=\"nonzero\" fill-opacity=\"1\" /><path clip-path=\"url(#clip550)\" d=\"M2300.86 1257.89 L2305.75 1257.89 L2305.75 1263.77 L2300.86 1263.77 L2300.86 1257.89 Z\" fill=\"#000000\" fill-rule=\"nonzero\" fill-opacity=\"1\" /><path clip-path=\"url(#clip550)\" d=\"M2325.93 1232.29 Q2322.32 1232.29 2320.49 1235.86 Q2318.69 1239.4 2318.69 1246.53 Q2318.69 1253.63 2320.49 1257.2 Q2322.32 1260.74 2325.93 1260.74 Q2329.57 1260.74 2331.37 1257.2 Q2333.2 1253.63 2333.2 1246.53 Q2333.2 1239.4 2331.37 1235.86 Q2329.57 1232.29 2325.93 1232.29 M2325.93 1228.59 Q2331.74 1228.59 2334.8 1233.19 Q2337.88 1237.78 2337.88 1246.53 Q2337.88 1255.25 2334.8 1259.86 Q2331.74 1264.44 2325.93 1264.44 Q2320.12 1264.44 2317.04 1259.86 Q2313.99 1255.25 2313.99 1246.53 Q2313.99 1237.78 2317.04 1233.19 Q2320.12 1228.59 2325.93 1228.59 Z\" fill=\"#000000\" fill-rule=\"nonzero\" fill-opacity=\"1\" /><path clip-path=\"url(#clip550)\" d=\"M2356.09 1232.29 Q2352.48 1232.29 2350.65 1235.86 Q2348.85 1239.4 2348.85 1246.53 Q2348.85 1253.63 2350.65 1257.2 Q2352.48 1260.74 2356.09 1260.74 Q2359.73 1260.74 2361.53 1257.2 Q2363.36 1253.63 2363.36 1246.53 Q2363.36 1239.4 2361.53 1235.86 Q2359.73 1232.29 2356.09 1232.29 M2356.09 1228.59 Q2361.9 1228.59 2364.96 1233.19 Q2368.04 1237.78 2368.04 1246.53 Q2368.04 1255.25 2364.96 1259.86 Q2361.9 1264.44 2356.09 1264.44 Q2350.28 1264.44 2347.2 1259.86 Q2344.15 1255.25 2344.15 1246.53 Q2344.15 1237.78 2347.2 1233.19 Q2350.28 1228.59 2356.09 1228.59 Z\" fill=\"#000000\" fill-rule=\"nonzero\" fill-opacity=\"1\" /><path clip-path=\"url(#clip550)\" d=\"M2386.26 1247.36 Q2382.92 1247.36 2381 1249.14 Q2379.1 1250.93 2379.1 1254.05 Q2379.1 1257.18 2381 1258.96 Q2382.92 1260.74 2386.26 1260.74 Q2389.59 1260.74 2391.51 1258.96 Q2393.43 1257.15 2393.43 1254.05 Q2393.43 1250.93 2391.51 1249.14 Q2389.61 1247.36 2386.26 1247.36 M2381.58 1245.37 Q2378.57 1244.63 2376.88 1242.57 Q2375.21 1240.51 2375.21 1237.55 Q2375.21 1233.4 2378.15 1230.99 Q2381.12 1228.59 2386.26 1228.59 Q2391.42 1228.59 2394.36 1230.99 Q2397.3 1233.4 2397.3 1237.55 Q2397.3 1240.51 2395.61 1242.57 Q2393.94 1244.63 2390.95 1245.37 Q2394.33 1246.16 2396.21 1248.45 Q2398.11 1250.74 2398.11 1254.05 Q2398.11 1259.07 2395.03 1261.76 Q2391.97 1264.44 2386.26 1264.44 Q2380.54 1264.44 2377.46 1261.76 Q2374.4 1259.07 2374.4 1254.05 Q2374.4 1250.74 2376.3 1248.45 Q2378.2 1246.16 2381.58 1245.37 M2379.87 1237.99 Q2379.87 1240.67 2381.53 1242.18 Q2383.22 1243.68 2386.26 1243.68 Q2389.26 1243.68 2390.95 1242.18 Q2392.67 1240.67 2392.67 1237.99 Q2392.67 1235.3 2390.95 1233.8 Q2389.26 1232.29 2386.26 1232.29 Q2383.22 1232.29 2381.53 1233.8 Q2379.87 1235.3 2379.87 1237.99 Z\" fill=\"#000000\" fill-rule=\"nonzero\" fill-opacity=\"1\" /><path clip-path=\"url(#clip550)\" d=\"M2417 1244.63 Q2413.85 1244.63 2412 1246.78 Q2410.17 1248.93 2410.17 1252.68 Q2410.17 1256.41 2412 1258.59 Q2413.85 1260.74 2417 1260.74 Q2420.14 1260.74 2421.97 1258.59 Q2423.82 1256.41 2423.82 1252.68 Q2423.82 1248.93 2421.97 1246.78 Q2420.14 1244.63 2417 1244.63 M2426.28 1229.98 L2426.28 1234.24 Q2424.52 1233.4 2422.71 1232.96 Q2420.93 1232.52 2419.17 1232.52 Q2414.54 1232.52 2412.09 1235.65 Q2409.66 1238.77 2409.31 1245.09 Q2410.68 1243.08 2412.74 1242.01 Q2414.8 1240.93 2417.27 1240.93 Q2422.48 1240.93 2425.49 1244.1 Q2428.52 1247.24 2428.52 1252.68 Q2428.52 1258.01 2425.38 1261.23 Q2422.23 1264.44 2417 1264.44 Q2411 1264.44 2407.83 1259.86 Q2404.66 1255.25 2404.66 1246.53 Q2404.66 1238.33 2408.55 1233.47 Q2412.44 1228.59 2418.99 1228.59 Q2420.75 1228.59 2422.53 1228.93 Q2424.33 1229.28 2426.28 1229.98 Z\" fill=\"#000000\" fill-rule=\"nonzero\" fill-opacity=\"1\" /><path clip-path=\"url(#clip550)\" d=\"M2435.4 1229.21 L2457.62 1229.21 L2457.62 1231.2 L2445.07 1263.77 L2440.19 1263.77 L2452 1233.15 L2435.4 1233.15 L2435.4 1229.21 Z\" fill=\"#000000\" fill-rule=\"nonzero\" fill-opacity=\"1\" /><path clip-path=\"url(#clip550)\" d=\"M2466.79 1229.21 L2485.14 1229.21 L2485.14 1233.15 L2471.07 1233.15 L2471.07 1241.62 Q2472.09 1241.27 2473.11 1241.11 Q2474.13 1240.93 2475.14 1240.93 Q2480.93 1240.93 2484.31 1244.1 Q2487.69 1247.27 2487.69 1252.68 Q2487.69 1258.26 2484.22 1261.36 Q2480.75 1264.44 2474.43 1264.44 Q2472.25 1264.44 2469.98 1264.07 Q2467.74 1263.7 2465.33 1262.96 L2465.33 1258.26 Q2467.41 1259.4 2469.63 1259.95 Q2471.86 1260.51 2474.33 1260.51 Q2478.34 1260.51 2480.68 1258.4 Q2483.01 1256.3 2483.01 1252.68 Q2483.01 1249.07 2480.68 1246.97 Q2478.34 1244.86 2474.33 1244.86 Q2472.46 1244.86 2470.58 1245.28 Q2468.73 1245.69 2466.79 1246.57 L2466.79 1229.21 Z\" fill=\"#000000\" fill-rule=\"nonzero\" fill-opacity=\"1\" /><path clip-path=\"url(#clip550)\" d=\"M2280.7 1044.65 Q2277.09 1044.65 2275.26 1048.22 Q2273.45 1051.76 2273.45 1058.89 Q2273.45 1065.99 2275.26 1069.56 Q2277.09 1073.1 2280.7 1073.1 Q2284.33 1073.1 2286.14 1069.56 Q2287.97 1065.99 2287.97 1058.89 Q2287.97 1051.76 2286.14 1048.22 Q2284.33 1044.65 2280.7 1044.65 M2280.7 1040.95 Q2286.51 1040.95 2289.57 1045.55 Q2292.64 1050.14 2292.64 1058.89 Q2292.64 1067.61 2289.57 1072.22 Q2286.51 1076.8 2280.7 1076.8 Q2274.89 1076.8 2271.81 1072.22 Q2268.76 1067.61 2268.76 1058.89 Q2268.76 1050.14 2271.81 1045.55 Q2274.89 1040.95 2280.7 1040.95 Z\" fill=\"#000000\" fill-rule=\"nonzero\" fill-opacity=\"1\" /><path clip-path=\"url(#clip550)\" d=\"M2300.86 1070.25 L2305.75 1070.25 L2305.75 1076.13 L2300.86 1076.13 L2300.86 1070.25 Z\" fill=\"#000000\" fill-rule=\"nonzero\" fill-opacity=\"1\" /><path clip-path=\"url(#clip550)\" d=\"M2325.93 1044.65 Q2322.32 1044.65 2320.49 1048.22 Q2318.69 1051.76 2318.69 1058.89 Q2318.69 1065.99 2320.49 1069.56 Q2322.32 1073.1 2325.93 1073.1 Q2329.57 1073.1 2331.37 1069.56 Q2333.2 1065.99 2333.2 1058.89 Q2333.2 1051.76 2331.37 1048.22 Q2329.57 1044.65 2325.93 1044.65 M2325.93 1040.95 Q2331.74 1040.95 2334.8 1045.55 Q2337.88 1050.14 2337.88 1058.89 Q2337.88 1067.61 2334.8 1072.22 Q2331.74 1076.8 2325.93 1076.8 Q2320.12 1076.8 2317.04 1072.22 Q2313.99 1067.61 2313.99 1058.89 Q2313.99 1050.14 2317.04 1045.55 Q2320.12 1040.95 2325.93 1040.95 Z\" fill=\"#000000\" fill-rule=\"nonzero\" fill-opacity=\"1\" /><path clip-path=\"url(#clip550)\" d=\"M2356.09 1044.65 Q2352.48 1044.65 2350.65 1048.22 Q2348.85 1051.76 2348.85 1058.89 Q2348.85 1065.99 2350.65 1069.56 Q2352.48 1073.1 2356.09 1073.1 Q2359.73 1073.1 2361.53 1069.56 Q2363.36 1065.99 2363.36 1058.89 Q2363.36 1051.76 2361.53 1048.22 Q2359.73 1044.65 2356.09 1044.65 M2356.09 1040.95 Q2361.9 1040.95 2364.96 1045.55 Q2368.04 1050.14 2368.04 1058.89 Q2368.04 1067.61 2364.96 1072.22 Q2361.9 1076.8 2356.09 1076.8 Q2350.28 1076.8 2347.2 1072.22 Q2344.15 1067.61 2344.15 1058.89 Q2344.15 1050.14 2347.2 1045.55 Q2350.28 1040.95 2356.09 1040.95 Z\" fill=\"#000000\" fill-rule=\"nonzero\" fill-opacity=\"1\" /><path clip-path=\"url(#clip550)\" d=\"M2386.26 1059.72 Q2382.92 1059.72 2381 1061.5 Q2379.1 1063.29 2379.1 1066.41 Q2379.1 1069.54 2381 1071.32 Q2382.92 1073.1 2386.26 1073.1 Q2389.59 1073.1 2391.51 1071.32 Q2393.43 1069.51 2393.43 1066.41 Q2393.43 1063.29 2391.51 1061.5 Q2389.61 1059.72 2386.26 1059.72 M2381.58 1057.73 Q2378.57 1056.99 2376.88 1054.93 Q2375.21 1052.87 2375.21 1049.91 Q2375.21 1045.76 2378.15 1043.35 Q2381.12 1040.95 2386.26 1040.95 Q2391.42 1040.95 2394.36 1043.35 Q2397.3 1045.76 2397.3 1049.91 Q2397.3 1052.87 2395.61 1054.93 Q2393.94 1056.99 2390.95 1057.73 Q2394.33 1058.52 2396.21 1060.81 Q2398.11 1063.1 2398.11 1066.41 Q2398.11 1071.43 2395.03 1074.12 Q2391.97 1076.8 2386.26 1076.8 Q2380.54 1076.8 2377.46 1074.12 Q2374.4 1071.43 2374.4 1066.41 Q2374.4 1063.1 2376.3 1060.81 Q2378.2 1058.52 2381.58 1057.73 M2379.87 1050.35 Q2379.87 1053.03 2381.53 1054.54 Q2383.22 1056.04 2386.26 1056.04 Q2389.26 1056.04 2390.95 1054.54 Q2392.67 1053.03 2392.67 1050.35 Q2392.67 1047.66 2390.95 1046.16 Q2389.26 1044.65 2386.26 1044.65 Q2383.22 1044.65 2381.53 1046.16 Q2379.87 1047.66 2379.87 1050.35 Z\" fill=\"#000000\" fill-rule=\"nonzero\" fill-opacity=\"1\" /><path clip-path=\"url(#clip550)\" d=\"M2405.24 1041.57 L2427.46 1041.57 L2427.46 1043.56 L2414.91 1076.13 L2410.03 1076.13 L2421.83 1045.51 L2405.24 1045.51 L2405.24 1041.57 Z\" fill=\"#000000\" fill-rule=\"nonzero\" fill-opacity=\"1\" /><path clip-path=\"url(#clip550)\" d=\"M2446.58 1044.65 Q2442.97 1044.65 2441.14 1048.22 Q2439.33 1051.76 2439.33 1058.89 Q2439.33 1065.99 2441.14 1069.56 Q2442.97 1073.1 2446.58 1073.1 Q2450.21 1073.1 2452.02 1069.56 Q2453.85 1065.99 2453.85 1058.89 Q2453.85 1051.76 2452.02 1048.22 Q2450.21 1044.65 2446.58 1044.65 M2446.58 1040.95 Q2452.39 1040.95 2455.44 1045.55 Q2458.52 1050.14 2458.52 1058.89 Q2458.52 1067.61 2455.44 1072.22 Q2452.39 1076.8 2446.58 1076.8 Q2440.77 1076.8 2437.69 1072.22 Q2434.63 1067.61 2434.63 1058.89 Q2434.63 1050.14 2437.69 1045.55 Q2440.77 1040.95 2446.58 1040.95 Z\" fill=\"#000000\" fill-rule=\"nonzero\" fill-opacity=\"1\" /><path clip-path=\"url(#clip550)\" d=\"M2476.74 1044.65 Q2473.13 1044.65 2471.3 1048.22 Q2469.5 1051.76 2469.5 1058.89 Q2469.5 1065.99 2471.3 1069.56 Q2473.13 1073.1 2476.74 1073.1 Q2480.38 1073.1 2482.18 1069.56 Q2484.01 1065.99 2484.01 1058.89 Q2484.01 1051.76 2482.18 1048.22 Q2480.38 1044.65 2476.74 1044.65 M2476.74 1040.95 Q2482.55 1040.95 2485.61 1045.55 Q2488.69 1050.14 2488.69 1058.89 Q2488.69 1067.61 2485.61 1072.22 Q2482.55 1076.8 2476.74 1076.8 Q2470.93 1076.8 2467.85 1072.22 Q2464.8 1067.61 2464.8 1058.89 Q2464.8 1050.14 2467.85 1045.55 Q2470.93 1040.95 2476.74 1040.95 Z\" fill=\"#000000\" fill-rule=\"nonzero\" fill-opacity=\"1\" /><path clip-path=\"url(#clip550)\" d=\"M2280.7 857.011 Q2277.09 857.011 2275.26 860.576 Q2273.45 864.118 2273.45 871.247 Q2273.45 878.354 2275.26 881.918 Q2277.09 885.46 2280.7 885.46 Q2284.33 885.46 2286.14 881.918 Q2287.97 878.354 2287.97 871.247 Q2287.97 864.118 2286.14 860.576 Q2284.33 857.011 2280.7 857.011 M2280.7 853.307 Q2286.51 853.307 2289.57 857.914 Q2292.64 862.497 2292.64 871.247 Q2292.64 879.974 2289.57 884.58 Q2286.51 889.164 2280.7 889.164 Q2274.89 889.164 2271.81 884.58 Q2268.76 879.974 2268.76 871.247 Q2268.76 862.497 2271.81 857.914 Q2274.89 853.307 2280.7 853.307 Z\" fill=\"#000000\" fill-rule=\"nonzero\" fill-opacity=\"1\" /><path clip-path=\"url(#clip550)\" d=\"M2300.86 882.613 L2305.75 882.613 L2305.75 888.492 L2300.86 888.492 L2300.86 882.613 Z\" fill=\"#000000\" fill-rule=\"nonzero\" fill-opacity=\"1\" /><path clip-path=\"url(#clip550)\" d=\"M2325.93 857.011 Q2322.32 857.011 2320.49 860.576 Q2318.69 864.118 2318.69 871.247 Q2318.69 878.354 2320.49 881.918 Q2322.32 885.46 2325.93 885.46 Q2329.57 885.46 2331.37 881.918 Q2333.2 878.354 2333.2 871.247 Q2333.2 864.118 2331.37 860.576 Q2329.57 857.011 2325.93 857.011 M2325.93 853.307 Q2331.74 853.307 2334.8 857.914 Q2337.88 862.497 2337.88 871.247 Q2337.88 879.974 2334.8 884.58 Q2331.74 889.164 2325.93 889.164 Q2320.12 889.164 2317.04 884.58 Q2313.99 879.974 2313.99 871.247 Q2313.99 862.497 2317.04 857.914 Q2320.12 853.307 2325.93 853.307 Z\" fill=\"#000000\" fill-rule=\"nonzero\" fill-opacity=\"1\" /><path clip-path=\"url(#clip550)\" d=\"M2356.09 857.011 Q2352.48 857.011 2350.65 860.576 Q2348.85 864.118 2348.85 871.247 Q2348.85 878.354 2350.65 881.918 Q2352.48 885.46 2356.09 885.46 Q2359.73 885.46 2361.53 881.918 Q2363.36 878.354 2363.36 871.247 Q2363.36 864.118 2361.53 860.576 Q2359.73 857.011 2356.09 857.011 M2356.09 853.307 Q2361.9 853.307 2364.96 857.914 Q2368.04 862.497 2368.04 871.247 Q2368.04 879.974 2364.96 884.58 Q2361.9 889.164 2356.09 889.164 Q2350.28 889.164 2347.2 884.58 Q2344.15 879.974 2344.15 871.247 Q2344.15 862.497 2347.2 857.914 Q2350.28 853.307 2356.09 853.307 Z\" fill=\"#000000\" fill-rule=\"nonzero\" fill-opacity=\"1\" /><path clip-path=\"url(#clip550)\" d=\"M2386.26 872.08 Q2382.92 872.08 2381 873.863 Q2379.1 875.645 2379.1 878.77 Q2379.1 881.895 2381 883.678 Q2382.92 885.46 2386.26 885.46 Q2389.59 885.46 2391.51 883.678 Q2393.43 881.872 2393.43 878.77 Q2393.43 875.645 2391.51 873.863 Q2389.61 872.08 2386.26 872.08 M2381.58 870.09 Q2378.57 869.349 2376.88 867.289 Q2375.21 865.229 2375.21 862.266 Q2375.21 858.122 2378.15 855.715 Q2381.12 853.307 2386.26 853.307 Q2391.42 853.307 2394.36 855.715 Q2397.3 858.122 2397.3 862.266 Q2397.3 865.229 2395.61 867.289 Q2393.94 869.349 2390.95 870.09 Q2394.33 870.877 2396.21 873.168 Q2398.11 875.46 2398.11 878.77 Q2398.11 883.793 2395.03 886.479 Q2391.97 889.164 2386.26 889.164 Q2380.54 889.164 2377.46 886.479 Q2374.4 883.793 2374.4 878.77 Q2374.4 875.46 2376.3 873.168 Q2378.2 870.877 2381.58 870.09 M2379.87 862.705 Q2379.87 865.391 2381.53 866.895 Q2383.22 868.4 2386.26 868.4 Q2389.26 868.4 2390.95 866.895 Q2392.67 865.391 2392.67 862.705 Q2392.67 860.02 2390.95 858.516 Q2389.26 857.011 2386.26 857.011 Q2383.22 857.011 2381.53 858.516 Q2379.87 860.02 2379.87 862.705 Z\" fill=\"#000000\" fill-rule=\"nonzero\" fill-opacity=\"1\" /><path clip-path=\"url(#clip550)\" d=\"M2405.24 853.932 L2427.46 853.932 L2427.46 855.923 L2414.91 888.492 L2410.03 888.492 L2421.83 857.868 L2405.24 857.868 L2405.24 853.932 Z\" fill=\"#000000\" fill-rule=\"nonzero\" fill-opacity=\"1\" /><path clip-path=\"url(#clip550)\" d=\"M2440.61 884.557 L2456.93 884.557 L2456.93 888.492 L2434.98 888.492 L2434.98 884.557 Q2437.64 881.803 2442.23 877.173 Q2446.83 872.52 2448.01 871.178 Q2450.26 868.655 2451.14 866.918 Q2452.04 865.159 2452.04 863.469 Q2452.04 860.715 2450.1 858.979 Q2448.18 857.243 2445.07 857.243 Q2442.88 857.243 2440.42 858.006 Q2437.99 858.77 2435.21 860.321 L2435.21 855.599 Q2438.04 854.465 2440.49 853.886 Q2442.94 853.307 2444.98 853.307 Q2450.35 853.307 2453.55 855.993 Q2456.74 858.678 2456.74 863.168 Q2456.74 865.298 2455.93 867.219 Q2455.14 869.117 2453.04 871.71 Q2452.46 872.381 2449.36 875.599 Q2446.25 878.793 2440.61 884.557 Z\" fill=\"#000000\" fill-rule=\"nonzero\" fill-opacity=\"1\" /><path clip-path=\"url(#clip550)\" d=\"M2466.79 853.932 L2485.14 853.932 L2485.14 857.868 L2471.07 857.868 L2471.07 866.34 Q2472.09 865.993 2473.11 865.83 Q2474.13 865.645 2475.14 865.645 Q2480.93 865.645 2484.31 868.817 Q2487.69 871.988 2487.69 877.404 Q2487.69 882.983 2484.22 886.085 Q2480.75 889.164 2474.43 889.164 Q2472.25 889.164 2469.98 888.793 Q2467.74 888.423 2465.33 887.682 L2465.33 882.983 Q2467.41 884.117 2469.63 884.673 Q2471.86 885.229 2474.33 885.229 Q2478.34 885.229 2480.68 883.122 Q2483.01 881.016 2483.01 877.404 Q2483.01 873.793 2480.68 871.687 Q2478.34 869.58 2474.33 869.58 Q2472.46 869.58 2470.58 869.997 Q2468.73 870.414 2466.79 871.293 L2466.79 853.932 Z\" fill=\"#000000\" fill-rule=\"nonzero\" fill-opacity=\"1\" /><path clip-path=\"url(#clip550)\" d=\"M2280.7 669.371 Q2277.09 669.371 2275.26 672.936 Q2273.45 676.478 2273.45 683.607 Q2273.45 690.714 2275.26 694.278 Q2277.09 697.82 2280.7 697.82 Q2284.33 697.82 2286.14 694.278 Q2287.97 690.714 2287.97 683.607 Q2287.97 676.478 2286.14 672.936 Q2284.33 669.371 2280.7 669.371 M2280.7 665.667 Q2286.51 665.667 2289.57 670.274 Q2292.64 674.857 2292.64 683.607 Q2292.64 692.334 2289.57 696.94 Q2286.51 701.524 2280.7 701.524 Q2274.89 701.524 2271.81 696.94 Q2268.76 692.334 2268.76 683.607 Q2268.76 674.857 2271.81 670.274 Q2274.89 665.667 2280.7 665.667 Z\" fill=\"#000000\" fill-rule=\"nonzero\" fill-opacity=\"1\" /><path clip-path=\"url(#clip550)\" d=\"M2300.86 694.973 L2305.75 694.973 L2305.75 700.852 L2300.86 700.852 L2300.86 694.973 Z\" fill=\"#000000\" fill-rule=\"nonzero\" fill-opacity=\"1\" /><path clip-path=\"url(#clip550)\" d=\"M2325.93 669.371 Q2322.32 669.371 2320.49 672.936 Q2318.69 676.478 2318.69 683.607 Q2318.69 690.714 2320.49 694.278 Q2322.32 697.82 2325.93 697.82 Q2329.57 697.82 2331.37 694.278 Q2333.2 690.714 2333.2 683.607 Q2333.2 676.478 2331.37 672.936 Q2329.57 669.371 2325.93 669.371 M2325.93 665.667 Q2331.74 665.667 2334.8 670.274 Q2337.88 674.857 2337.88 683.607 Q2337.88 692.334 2334.8 696.94 Q2331.74 701.524 2325.93 701.524 Q2320.12 701.524 2317.04 696.94 Q2313.99 692.334 2313.99 683.607 Q2313.99 674.857 2317.04 670.274 Q2320.12 665.667 2325.93 665.667 Z\" fill=\"#000000\" fill-rule=\"nonzero\" fill-opacity=\"1\" /><path clip-path=\"url(#clip550)\" d=\"M2356.09 669.371 Q2352.48 669.371 2350.65 672.936 Q2348.85 676.478 2348.85 683.607 Q2348.85 690.714 2350.65 694.278 Q2352.48 697.82 2356.09 697.82 Q2359.73 697.82 2361.53 694.278 Q2363.36 690.714 2363.36 683.607 Q2363.36 676.478 2361.53 672.936 Q2359.73 669.371 2356.09 669.371 M2356.09 665.667 Q2361.9 665.667 2364.96 670.274 Q2368.04 674.857 2368.04 683.607 Q2368.04 692.334 2364.96 696.94 Q2361.9 701.524 2356.09 701.524 Q2350.28 701.524 2347.2 696.94 Q2344.15 692.334 2344.15 683.607 Q2344.15 674.857 2347.2 670.274 Q2350.28 665.667 2356.09 665.667 Z\" fill=\"#000000\" fill-rule=\"nonzero\" fill-opacity=\"1\" /><path clip-path=\"url(#clip550)\" d=\"M2386.26 684.44 Q2382.92 684.44 2381 686.223 Q2379.1 688.005 2379.1 691.13 Q2379.1 694.255 2381 696.038 Q2382.92 697.82 2386.26 697.82 Q2389.59 697.82 2391.51 696.038 Q2393.43 694.232 2393.43 691.13 Q2393.43 688.005 2391.51 686.223 Q2389.61 684.44 2386.26 684.44 M2381.58 682.45 Q2378.57 681.709 2376.88 679.649 Q2375.21 677.589 2375.21 674.626 Q2375.21 670.482 2378.15 668.075 Q2381.12 665.667 2386.26 665.667 Q2391.42 665.667 2394.36 668.075 Q2397.3 670.482 2397.3 674.626 Q2397.3 677.589 2395.61 679.649 Q2393.94 681.709 2390.95 682.45 Q2394.33 683.237 2396.21 685.528 Q2398.11 687.82 2398.11 691.13 Q2398.11 696.153 2395.03 698.839 Q2391.97 701.524 2386.26 701.524 Q2380.54 701.524 2377.46 698.839 Q2374.4 696.153 2374.4 691.13 Q2374.4 687.82 2376.3 685.528 Q2378.2 683.237 2381.58 682.45 M2379.87 675.066 Q2379.87 677.751 2381.53 679.255 Q2383.22 680.76 2386.26 680.76 Q2389.26 680.76 2390.95 679.255 Q2392.67 677.751 2392.67 675.066 Q2392.67 672.38 2390.95 670.876 Q2389.26 669.371 2386.26 669.371 Q2383.22 669.371 2381.53 670.876 Q2379.87 672.38 2379.87 675.066 Z\" fill=\"#000000\" fill-rule=\"nonzero\" fill-opacity=\"1\" /><path clip-path=\"url(#clip550)\" d=\"M2405.24 666.292 L2427.46 666.292 L2427.46 668.283 L2414.91 700.852 L2410.03 700.852 L2421.83 670.228 L2405.24 670.228 L2405.24 666.292 Z\" fill=\"#000000\" fill-rule=\"nonzero\" fill-opacity=\"1\" /><path clip-path=\"url(#clip550)\" d=\"M2436.63 666.292 L2454.98 666.292 L2454.98 670.228 L2440.91 670.228 L2440.91 678.7 Q2441.93 678.353 2442.94 678.191 Q2443.96 678.005 2444.98 678.005 Q2450.77 678.005 2454.15 681.177 Q2457.53 684.348 2457.53 689.765 Q2457.53 695.343 2454.06 698.445 Q2450.58 701.524 2444.26 701.524 Q2442.09 701.524 2439.82 701.153 Q2437.57 700.783 2435.17 700.042 L2435.17 695.343 Q2437.25 696.477 2439.47 697.033 Q2441.69 697.589 2444.17 697.589 Q2448.18 697.589 2450.51 695.482 Q2452.85 693.376 2452.85 689.765 Q2452.85 686.153 2450.51 684.047 Q2448.18 681.94 2444.17 681.94 Q2442.3 681.94 2440.42 682.357 Q2438.57 682.774 2436.63 683.653 L2436.63 666.292 Z\" fill=\"#000000\" fill-rule=\"nonzero\" fill-opacity=\"1\" /><path clip-path=\"url(#clip550)\" d=\"M2476.74 669.371 Q2473.13 669.371 2471.3 672.936 Q2469.5 676.478 2469.5 683.607 Q2469.5 690.714 2471.3 694.278 Q2473.13 697.82 2476.74 697.82 Q2480.38 697.82 2482.18 694.278 Q2484.01 690.714 2484.01 683.607 Q2484.01 676.478 2482.18 672.936 Q2480.38 669.371 2476.74 669.371 M2476.74 665.667 Q2482.55 665.667 2485.61 670.274 Q2488.69 674.857 2488.69 683.607 Q2488.69 692.334 2485.61 696.94 Q2482.55 701.524 2476.74 701.524 Q2470.93 701.524 2467.85 696.94 Q2464.8 692.334 2464.8 683.607 Q2464.8 674.857 2467.85 670.274 Q2470.93 665.667 2476.74 665.667 Z\" fill=\"#000000\" fill-rule=\"nonzero\" fill-opacity=\"1\" /><path clip-path=\"url(#clip550)\" d=\"M2280.7 481.731 Q2277.09 481.731 2275.26 485.296 Q2273.45 488.838 2273.45 495.967 Q2273.45 503.074 2275.26 506.638 Q2277.09 510.18 2280.7 510.18 Q2284.33 510.18 2286.14 506.638 Q2287.97 503.074 2287.97 495.967 Q2287.97 488.838 2286.14 485.296 Q2284.33 481.731 2280.7 481.731 M2280.7 478.027 Q2286.51 478.027 2289.57 482.634 Q2292.64 487.217 2292.64 495.967 Q2292.64 504.694 2289.57 509.3 Q2286.51 513.884 2280.7 513.884 Q2274.89 513.884 2271.81 509.3 Q2268.76 504.694 2268.76 495.967 Q2268.76 487.217 2271.81 482.634 Q2274.89 478.027 2280.7 478.027 Z\" fill=\"#000000\" fill-rule=\"nonzero\" fill-opacity=\"1\" /><path clip-path=\"url(#clip550)\" d=\"M2300.86 507.333 L2305.75 507.333 L2305.75 513.212 L2300.86 513.212 L2300.86 507.333 Z\" fill=\"#000000\" fill-rule=\"nonzero\" fill-opacity=\"1\" /><path clip-path=\"url(#clip550)\" d=\"M2325.93 481.731 Q2322.32 481.731 2320.49 485.296 Q2318.69 488.838 2318.69 495.967 Q2318.69 503.074 2320.49 506.638 Q2322.32 510.18 2325.93 510.18 Q2329.57 510.18 2331.37 506.638 Q2333.2 503.074 2333.2 495.967 Q2333.2 488.838 2331.37 485.296 Q2329.57 481.731 2325.93 481.731 M2325.93 478.027 Q2331.74 478.027 2334.8 482.634 Q2337.88 487.217 2337.88 495.967 Q2337.88 504.694 2334.8 509.3 Q2331.74 513.884 2325.93 513.884 Q2320.12 513.884 2317.04 509.3 Q2313.99 504.694 2313.99 495.967 Q2313.99 487.217 2317.04 482.634 Q2320.12 478.027 2325.93 478.027 Z\" fill=\"#000000\" fill-rule=\"nonzero\" fill-opacity=\"1\" /><path clip-path=\"url(#clip550)\" d=\"M2356.09 481.731 Q2352.48 481.731 2350.65 485.296 Q2348.85 488.838 2348.85 495.967 Q2348.85 503.074 2350.65 506.638 Q2352.48 510.18 2356.09 510.18 Q2359.73 510.18 2361.53 506.638 Q2363.36 503.074 2363.36 495.967 Q2363.36 488.838 2361.53 485.296 Q2359.73 481.731 2356.09 481.731 M2356.09 478.027 Q2361.9 478.027 2364.96 482.634 Q2368.04 487.217 2368.04 495.967 Q2368.04 504.694 2364.96 509.3 Q2361.9 513.884 2356.09 513.884 Q2350.28 513.884 2347.2 509.3 Q2344.15 504.694 2344.15 495.967 Q2344.15 487.217 2347.2 482.634 Q2350.28 478.027 2356.09 478.027 Z\" fill=\"#000000\" fill-rule=\"nonzero\" fill-opacity=\"1\" /><path clip-path=\"url(#clip550)\" d=\"M2386.26 496.8 Q2382.92 496.8 2381 498.583 Q2379.1 500.365 2379.1 503.49 Q2379.1 506.615 2381 508.398 Q2382.92 510.18 2386.26 510.18 Q2389.59 510.18 2391.51 508.398 Q2393.43 506.592 2393.43 503.49 Q2393.43 500.365 2391.51 498.583 Q2389.61 496.8 2386.26 496.8 M2381.58 494.81 Q2378.57 494.069 2376.88 492.009 Q2375.21 489.949 2375.21 486.986 Q2375.21 482.842 2378.15 480.435 Q2381.12 478.027 2386.26 478.027 Q2391.42 478.027 2394.36 480.435 Q2397.3 482.842 2397.3 486.986 Q2397.3 489.949 2395.61 492.009 Q2393.94 494.069 2390.95 494.81 Q2394.33 495.597 2396.21 497.888 Q2398.11 500.18 2398.11 503.49 Q2398.11 508.513 2395.03 511.199 Q2391.97 513.884 2386.26 513.884 Q2380.54 513.884 2377.46 511.199 Q2374.4 508.513 2374.4 503.49 Q2374.4 500.18 2376.3 497.888 Q2378.2 495.597 2381.58 494.81 M2379.87 487.426 Q2379.87 490.111 2381.53 491.615 Q2383.22 493.12 2386.26 493.12 Q2389.26 493.12 2390.95 491.615 Q2392.67 490.111 2392.67 487.426 Q2392.67 484.74 2390.95 483.236 Q2389.26 481.731 2386.26 481.731 Q2383.22 481.731 2381.53 483.236 Q2379.87 484.74 2379.87 487.426 Z\" fill=\"#000000\" fill-rule=\"nonzero\" fill-opacity=\"1\" /><path clip-path=\"url(#clip550)\" d=\"M2405.24 478.652 L2427.46 478.652 L2427.46 480.643 L2414.91 513.212 L2410.03 513.212 L2421.83 482.588 L2405.24 482.588 L2405.24 478.652 Z\" fill=\"#000000\" fill-rule=\"nonzero\" fill-opacity=\"1\" /><path clip-path=\"url(#clip550)\" d=\"M2435.4 478.652 L2457.62 478.652 L2457.62 480.643 L2445.07 513.212 L2440.19 513.212 L2452 482.588 L2435.4 482.588 L2435.4 478.652 Z\" fill=\"#000000\" fill-rule=\"nonzero\" fill-opacity=\"1\" /><path clip-path=\"url(#clip550)\" d=\"M2466.79 478.652 L2485.14 478.652 L2485.14 482.588 L2471.07 482.588 L2471.07 491.06 Q2472.09 490.713 2473.11 490.551 Q2474.13 490.365 2475.14 490.365 Q2480.93 490.365 2484.31 493.537 Q2487.69 496.708 2487.69 502.125 Q2487.69 507.703 2484.22 510.805 Q2480.75 513.884 2474.43 513.884 Q2472.25 513.884 2469.98 513.513 Q2467.74 513.143 2465.33 512.402 L2465.33 507.703 Q2467.41 508.837 2469.63 509.393 Q2471.86 509.949 2474.33 509.949 Q2478.34 509.949 2480.68 507.842 Q2483.01 505.736 2483.01 502.125 Q2483.01 498.513 2480.68 496.407 Q2478.34 494.301 2474.33 494.301 Q2472.46 494.301 2470.58 494.717 Q2468.73 495.134 2466.79 496.013 L2466.79 478.652 Z\" fill=\"#000000\" fill-rule=\"nonzero\" fill-opacity=\"1\" /><path clip-path=\"url(#clip550)\" d=\"M2280.7 294.091 Q2277.09 294.091 2275.26 297.656 Q2273.45 301.198 2273.45 308.327 Q2273.45 315.434 2275.26 318.998 Q2277.09 322.54 2280.7 322.54 Q2284.33 322.54 2286.14 318.998 Q2287.97 315.434 2287.97 308.327 Q2287.97 301.198 2286.14 297.656 Q2284.33 294.091 2280.7 294.091 M2280.7 290.387 Q2286.51 290.387 2289.57 294.994 Q2292.64 299.577 2292.64 308.327 Q2292.64 317.054 2289.57 321.66 Q2286.51 326.244 2280.7 326.244 Q2274.89 326.244 2271.81 321.66 Q2268.76 317.054 2268.76 308.327 Q2268.76 299.577 2271.81 294.994 Q2274.89 290.387 2280.7 290.387 Z\" fill=\"#000000\" fill-rule=\"nonzero\" fill-opacity=\"1\" /><path clip-path=\"url(#clip550)\" d=\"M2300.86 319.693 L2305.75 319.693 L2305.75 325.572 L2300.86 325.572 L2300.86 319.693 Z\" fill=\"#000000\" fill-rule=\"nonzero\" fill-opacity=\"1\" /><path clip-path=\"url(#clip550)\" d=\"M2325.93 294.091 Q2322.32 294.091 2320.49 297.656 Q2318.69 301.198 2318.69 308.327 Q2318.69 315.434 2320.49 318.998 Q2322.32 322.54 2325.93 322.54 Q2329.57 322.54 2331.37 318.998 Q2333.2 315.434 2333.2 308.327 Q2333.2 301.198 2331.37 297.656 Q2329.57 294.091 2325.93 294.091 M2325.93 290.387 Q2331.74 290.387 2334.8 294.994 Q2337.88 299.577 2337.88 308.327 Q2337.88 317.054 2334.8 321.66 Q2331.74 326.244 2325.93 326.244 Q2320.12 326.244 2317.04 321.66 Q2313.99 317.054 2313.99 308.327 Q2313.99 299.577 2317.04 294.994 Q2320.12 290.387 2325.93 290.387 Z\" fill=\"#000000\" fill-rule=\"nonzero\" fill-opacity=\"1\" /><path clip-path=\"url(#clip550)\" d=\"M2356.09 294.091 Q2352.48 294.091 2350.65 297.656 Q2348.85 301.198 2348.85 308.327 Q2348.85 315.434 2350.65 318.998 Q2352.48 322.54 2356.09 322.54 Q2359.73 322.54 2361.53 318.998 Q2363.36 315.434 2363.36 308.327 Q2363.36 301.198 2361.53 297.656 Q2359.73 294.091 2356.09 294.091 M2356.09 290.387 Q2361.9 290.387 2364.96 294.994 Q2368.04 299.577 2368.04 308.327 Q2368.04 317.054 2364.96 321.66 Q2361.9 326.244 2356.09 326.244 Q2350.28 326.244 2347.2 321.66 Q2344.15 317.054 2344.15 308.327 Q2344.15 299.577 2347.2 294.994 Q2350.28 290.387 2356.09 290.387 Z\" fill=\"#000000\" fill-rule=\"nonzero\" fill-opacity=\"1\" /><path clip-path=\"url(#clip550)\" d=\"M2386.26 309.161 Q2382.92 309.161 2381 310.943 Q2379.1 312.725 2379.1 315.85 Q2379.1 318.975 2381 320.758 Q2382.92 322.54 2386.26 322.54 Q2389.59 322.54 2391.51 320.758 Q2393.43 318.952 2393.43 315.85 Q2393.43 312.725 2391.51 310.943 Q2389.61 309.161 2386.26 309.161 M2381.58 307.17 Q2378.57 306.429 2376.88 304.369 Q2375.21 302.309 2375.21 299.346 Q2375.21 295.202 2378.15 292.795 Q2381.12 290.387 2386.26 290.387 Q2391.42 290.387 2394.36 292.795 Q2397.3 295.202 2397.3 299.346 Q2397.3 302.309 2395.61 304.369 Q2393.94 306.429 2390.95 307.17 Q2394.33 307.957 2396.21 310.248 Q2398.11 312.54 2398.11 315.85 Q2398.11 320.873 2395.03 323.559 Q2391.97 326.244 2386.26 326.244 Q2380.54 326.244 2377.46 323.559 Q2374.4 320.873 2374.4 315.85 Q2374.4 312.54 2376.3 310.248 Q2378.2 307.957 2381.58 307.17 M2379.87 299.786 Q2379.87 302.471 2381.53 303.975 Q2383.22 305.48 2386.26 305.48 Q2389.26 305.48 2390.95 303.975 Q2392.67 302.471 2392.67 299.786 Q2392.67 297.1 2390.95 295.596 Q2389.26 294.091 2386.26 294.091 Q2383.22 294.091 2381.53 295.596 Q2379.87 297.1 2379.87 299.786 Z\" fill=\"#000000\" fill-rule=\"nonzero\" fill-opacity=\"1\" /><path clip-path=\"url(#clip550)\" d=\"M2416.42 309.161 Q2413.08 309.161 2411.16 310.943 Q2409.26 312.725 2409.26 315.85 Q2409.26 318.975 2411.16 320.758 Q2413.08 322.54 2416.42 322.54 Q2419.75 322.54 2421.67 320.758 Q2423.59 318.952 2423.59 315.85 Q2423.59 312.725 2421.67 310.943 Q2419.77 309.161 2416.42 309.161 M2411.74 307.17 Q2408.73 306.429 2407.04 304.369 Q2405.38 302.309 2405.38 299.346 Q2405.38 295.202 2408.32 292.795 Q2411.28 290.387 2416.42 290.387 Q2421.58 290.387 2424.52 292.795 Q2427.46 295.202 2427.46 299.346 Q2427.46 302.309 2425.77 304.369 Q2424.1 306.429 2421.12 307.17 Q2424.5 307.957 2426.37 310.248 Q2428.27 312.54 2428.27 315.85 Q2428.27 320.873 2425.19 323.559 Q2422.13 326.244 2416.42 326.244 Q2410.7 326.244 2407.62 323.559 Q2404.57 320.873 2404.57 315.85 Q2404.57 312.54 2406.46 310.248 Q2408.36 307.957 2411.74 307.17 M2410.03 299.786 Q2410.03 302.471 2411.69 303.975 Q2413.38 305.48 2416.42 305.48 Q2419.43 305.48 2421.12 303.975 Q2422.83 302.471 2422.83 299.786 Q2422.83 297.1 2421.12 295.596 Q2419.43 294.091 2416.42 294.091 Q2413.38 294.091 2411.69 295.596 Q2410.03 297.1 2410.03 299.786 Z\" fill=\"#000000\" fill-rule=\"nonzero\" fill-opacity=\"1\" /><path clip-path=\"url(#clip550)\" d=\"M2446.58 294.091 Q2442.97 294.091 2441.14 297.656 Q2439.33 301.198 2439.33 308.327 Q2439.33 315.434 2441.14 318.998 Q2442.97 322.54 2446.58 322.54 Q2450.21 322.54 2452.02 318.998 Q2453.85 315.434 2453.85 308.327 Q2453.85 301.198 2452.02 297.656 Q2450.21 294.091 2446.58 294.091 M2446.58 290.387 Q2452.39 290.387 2455.44 294.994 Q2458.52 299.577 2458.52 308.327 Q2458.52 317.054 2455.44 321.66 Q2452.39 326.244 2446.58 326.244 Q2440.77 326.244 2437.69 321.66 Q2434.63 317.054 2434.63 308.327 Q2434.63 299.577 2437.69 294.994 Q2440.77 290.387 2446.58 290.387 Z\" fill=\"#000000\" fill-rule=\"nonzero\" fill-opacity=\"1\" /><path clip-path=\"url(#clip550)\" d=\"M2476.74 294.091 Q2473.13 294.091 2471.3 297.656 Q2469.5 301.198 2469.5 308.327 Q2469.5 315.434 2471.3 318.998 Q2473.13 322.54 2476.74 322.54 Q2480.38 322.54 2482.18 318.998 Q2484.01 315.434 2484.01 308.327 Q2484.01 301.198 2482.18 297.656 Q2480.38 294.091 2476.74 294.091 M2476.74 290.387 Q2482.55 290.387 2485.61 294.994 Q2488.69 299.577 2488.69 308.327 Q2488.69 317.054 2485.61 321.66 Q2482.55 326.244 2476.74 326.244 Q2470.93 326.244 2467.85 321.66 Q2464.8 317.054 2464.8 308.327 Q2464.8 299.577 2467.85 294.994 Q2470.93 290.387 2476.74 290.387 Z\" fill=\"#000000\" fill-rule=\"nonzero\" fill-opacity=\"1\" /><path clip-path=\"url(#clip550)\" d=\"M2280.7 106.451 Q2277.09 106.451 2275.26 110.016 Q2273.45 113.558 2273.45 120.687 Q2273.45 127.794 2275.26 131.358 Q2277.09 134.9 2280.7 134.9 Q2284.33 134.9 2286.14 131.358 Q2287.97 127.794 2287.97 120.687 Q2287.97 113.558 2286.14 110.016 Q2284.33 106.451 2280.7 106.451 M2280.7 102.747 Q2286.51 102.747 2289.57 107.354 Q2292.64 111.937 2292.64 120.687 Q2292.64 129.414 2289.57 134.02 Q2286.51 138.604 2280.7 138.604 Q2274.89 138.604 2271.81 134.02 Q2268.76 129.414 2268.76 120.687 Q2268.76 111.937 2271.81 107.354 Q2274.89 102.747 2280.7 102.747 Z\" fill=\"#000000\" fill-rule=\"nonzero\" fill-opacity=\"1\" /><path clip-path=\"url(#clip550)\" d=\"M2300.86 132.053 L2305.75 132.053 L2305.75 137.932 L2300.86 137.932 L2300.86 132.053 Z\" fill=\"#000000\" fill-rule=\"nonzero\" fill-opacity=\"1\" /><path clip-path=\"url(#clip550)\" d=\"M2325.93 106.451 Q2322.32 106.451 2320.49 110.016 Q2318.69 113.558 2318.69 120.687 Q2318.69 127.794 2320.49 131.358 Q2322.32 134.9 2325.93 134.9 Q2329.57 134.9 2331.37 131.358 Q2333.2 127.794 2333.2 120.687 Q2333.2 113.558 2331.37 110.016 Q2329.57 106.451 2325.93 106.451 M2325.93 102.747 Q2331.74 102.747 2334.8 107.354 Q2337.88 111.937 2337.88 120.687 Q2337.88 129.414 2334.8 134.02 Q2331.74 138.604 2325.93 138.604 Q2320.12 138.604 2317.04 134.02 Q2313.99 129.414 2313.99 120.687 Q2313.99 111.937 2317.04 107.354 Q2320.12 102.747 2325.93 102.747 Z\" fill=\"#000000\" fill-rule=\"nonzero\" fill-opacity=\"1\" /><path clip-path=\"url(#clip550)\" d=\"M2356.09 106.451 Q2352.48 106.451 2350.65 110.016 Q2348.85 113.558 2348.85 120.687 Q2348.85 127.794 2350.65 131.358 Q2352.48 134.9 2356.09 134.9 Q2359.73 134.9 2361.53 131.358 Q2363.36 127.794 2363.36 120.687 Q2363.36 113.558 2361.53 110.016 Q2359.73 106.451 2356.09 106.451 M2356.09 102.747 Q2361.9 102.747 2364.96 107.354 Q2368.04 111.937 2368.04 120.687 Q2368.04 129.414 2364.96 134.02 Q2361.9 138.604 2356.09 138.604 Q2350.28 138.604 2347.2 134.02 Q2344.15 129.414 2344.15 120.687 Q2344.15 111.937 2347.2 107.354 Q2350.28 102.747 2356.09 102.747 Z\" fill=\"#000000\" fill-rule=\"nonzero\" fill-opacity=\"1\" /><path clip-path=\"url(#clip550)\" d=\"M2386.26 121.521 Q2382.92 121.521 2381 123.303 Q2379.1 125.085 2379.1 128.21 Q2379.1 131.335 2381 133.118 Q2382.92 134.9 2386.26 134.9 Q2389.59 134.9 2391.51 133.118 Q2393.43 131.312 2393.43 128.21 Q2393.43 125.085 2391.51 123.303 Q2389.61 121.521 2386.26 121.521 M2381.58 119.53 Q2378.57 118.789 2376.88 116.729 Q2375.21 114.669 2375.21 111.706 Q2375.21 107.562 2378.15 105.155 Q2381.12 102.747 2386.26 102.747 Q2391.42 102.747 2394.36 105.155 Q2397.3 107.562 2397.3 111.706 Q2397.3 114.669 2395.61 116.729 Q2393.94 118.789 2390.95 119.53 Q2394.33 120.317 2396.21 122.608 Q2398.11 124.9 2398.11 128.21 Q2398.11 133.233 2395.03 135.919 Q2391.97 138.604 2386.26 138.604 Q2380.54 138.604 2377.46 135.919 Q2374.4 133.233 2374.4 128.21 Q2374.4 124.9 2376.3 122.608 Q2378.2 120.317 2381.58 119.53 M2379.87 112.146 Q2379.87 114.831 2381.53 116.335 Q2383.22 117.84 2386.26 117.84 Q2389.26 117.84 2390.95 116.335 Q2392.67 114.831 2392.67 112.146 Q2392.67 109.46 2390.95 107.956 Q2389.26 106.451 2386.26 106.451 Q2383.22 106.451 2381.53 107.956 Q2379.87 109.46 2379.87 112.146 Z\" fill=\"#000000\" fill-rule=\"nonzero\" fill-opacity=\"1\" /><path clip-path=\"url(#clip550)\" d=\"M2416.42 121.521 Q2413.08 121.521 2411.16 123.303 Q2409.26 125.085 2409.26 128.21 Q2409.26 131.335 2411.16 133.118 Q2413.08 134.9 2416.42 134.9 Q2419.75 134.9 2421.67 133.118 Q2423.59 131.312 2423.59 128.21 Q2423.59 125.085 2421.67 123.303 Q2419.77 121.521 2416.42 121.521 M2411.74 119.53 Q2408.73 118.789 2407.04 116.729 Q2405.38 114.669 2405.38 111.706 Q2405.38 107.562 2408.32 105.155 Q2411.28 102.747 2416.42 102.747 Q2421.58 102.747 2424.52 105.155 Q2427.46 107.562 2427.46 111.706 Q2427.46 114.669 2425.77 116.729 Q2424.1 118.789 2421.12 119.53 Q2424.5 120.317 2426.37 122.608 Q2428.27 124.9 2428.27 128.21 Q2428.27 133.233 2425.19 135.919 Q2422.13 138.604 2416.42 138.604 Q2410.7 138.604 2407.62 135.919 Q2404.57 133.233 2404.57 128.21 Q2404.57 124.9 2406.46 122.608 Q2408.36 120.317 2411.74 119.53 M2410.03 112.146 Q2410.03 114.831 2411.69 116.335 Q2413.38 117.84 2416.42 117.84 Q2419.43 117.84 2421.12 116.335 Q2422.83 114.831 2422.83 112.146 Q2422.83 109.46 2421.12 107.956 Q2419.43 106.451 2416.42 106.451 Q2413.38 106.451 2411.69 107.956 Q2410.03 109.46 2410.03 112.146 Z\" fill=\"#000000\" fill-rule=\"nonzero\" fill-opacity=\"1\" /><path clip-path=\"url(#clip550)\" d=\"M2440.61 133.997 L2456.93 133.997 L2456.93 137.932 L2434.98 137.932 L2434.98 133.997 Q2437.64 131.243 2442.23 126.613 Q2446.83 121.96 2448.01 120.618 Q2450.26 118.095 2451.14 116.359 Q2452.04 114.599 2452.04 112.909 Q2452.04 110.155 2450.1 108.419 Q2448.18 106.683 2445.07 106.683 Q2442.88 106.683 2440.42 107.447 Q2437.99 108.21 2435.21 109.761 L2435.21 105.039 Q2438.04 103.905 2440.49 103.326 Q2442.94 102.747 2444.98 102.747 Q2450.35 102.747 2453.55 105.433 Q2456.74 108.118 2456.74 112.609 Q2456.74 114.738 2455.93 116.659 Q2455.14 118.558 2453.04 121.15 Q2452.46 121.821 2449.36 125.039 Q2446.25 128.233 2440.61 133.997 Z\" fill=\"#000000\" fill-rule=\"nonzero\" fill-opacity=\"1\" /><path clip-path=\"url(#clip550)\" d=\"M2466.79 103.372 L2485.14 103.372 L2485.14 107.308 L2471.07 107.308 L2471.07 115.78 Q2472.09 115.433 2473.11 115.271 Q2474.13 115.085 2475.14 115.085 Q2480.93 115.085 2484.31 118.257 Q2487.69 121.428 2487.69 126.845 Q2487.69 132.423 2484.22 135.525 Q2480.75 138.604 2474.43 138.604 Q2472.25 138.604 2469.98 138.233 Q2467.74 137.863 2465.33 137.122 L2465.33 132.423 Q2467.41 133.558 2469.63 134.113 Q2471.86 134.669 2474.33 134.669 Q2478.34 134.669 2480.68 132.562 Q2483.01 130.456 2483.01 126.845 Q2483.01 123.233 2480.68 121.127 Q2478.34 119.021 2474.33 119.021 Q2472.46 119.021 2470.58 119.437 Q2468.73 119.854 2466.79 120.734 L2466.79 103.372 Z\" fill=\"#000000\" fill-rule=\"nonzero\" fill-opacity=\"1\" /><polyline clip-path=\"url(#clip550)\" style=\"stroke:#000000; stroke-linecap:round; stroke-linejoin:round; stroke-width:4; stroke-opacity:1; fill:none\" points=\"2232.76,1423.18 2232.76,1250.12 2256.76,1250.12 2232.76,1250.12 2232.76,1062.48 2256.76,1062.48 2232.76,1062.48 2232.76,874.841 2256.76,874.841 2232.76,874.841 2232.76,687.201 2256.76,687.201 2232.76,687.201 2232.76,499.561 2256.76,499.561 2232.76,499.561 2232.76,311.921 2256.76,311.921 2232.76,311.921 2232.76,124.281 2256.76,124.281 2232.76,124.281 2232.76,47.2441 \"/>\n",
       "</svg>\n"
      ]
     },
     "execution_count": 206,
     "metadata": {},
     "output_type": "execute_result"
    }
   ],
   "source": [
    "# variables = [\"s1\", \"s2\", \"s3\", \"s4\", \"Δ1=Δ3\", \"Δ2\", \"Δ4\"]\n",
    "variables = [\"s1\", \"s3\", \"s4\", \"Δ1=Δ3\", \"Δ4\"]\n",
    "\n",
    "idx1 = 3\n",
    "idx2 = 5\n",
    "\n",
    "list1 = opt.lowerbounds[idx1]:0.1:opt.upperbounds[idx1]\n",
    "list2 = opt.lowerbounds[idx2]:0.1:opt.upperbounds[idx2]\n",
    "\n",
    "preds_mat = zeros(length(list1), length(list2))\n",
    "points = zeros(5, 1)\n",
    "\n",
    "for (i, val1) ∈ enumerate(list1)\n",
    "    for (j, val2) ∈ enumerate(list2)\n",
    "        points[:,1] .= opt.model_optimizer\n",
    "        points[idx1,1] = val1\n",
    "        points[idx2,1] = val2\n",
    "        preds_mat[i,j] = predict_y(opt.model, points)[1][1]\n",
    "    end\n",
    "end\n",
    "heatmap(list1, list2, preds_mat')\n",
    "scatter!(opt.model.x[idx1,:], opt.model.x[idx2,:], legend=nothing, xlabel=variables[idx1], ylabel=variables[idx2])"
   ]
  },
  {
   "cell_type": "code",
   "execution_count": 112,
   "id": "41b259b2-a61b-4008-af0f-4d7cae45397f",
   "metadata": {},
   "outputs": [
    {
     "data": {
      "text/plain": [
       "UpperConfidenceBound{BrochuBetaScaling}(BrochuBetaScaling(0.1), 9.530831449357468)"
      ]
     },
     "execution_count": 112,
     "metadata": {},
     "output_type": "execute_result"
    }
   ],
   "source": [
    "opt.acquisition"
   ]
  },
  {
   "cell_type": "code",
   "execution_count": 30,
   "id": "a109f01b",
   "metadata": {},
   "outputs": [
    {
     "data": {
      "text/plain": [
       "7-element Vector{Float64}:\n",
       "  4.0\n",
       "  3.2953050501635595\n",
       "  0.1860363733133069\n",
       "  4.0\n",
       "  4.0\n",
       " -5.0\n",
       " 27.801602313493724"
      ]
     },
     "execution_count": 30,
     "metadata": {},
     "output_type": "execute_result"
    }
   ],
   "source": [
    "opt.model_optimizer"
   ]
  },
  {
   "cell_type": "code",
   "execution_count": 31,
   "id": "97fd0032-f320-4997-98e4-80926471c879",
   "metadata": {},
   "outputs": [
    {
     "data": {
      "text/plain": [
       "7-element Vector{Float64}:\n",
       "  4.0\n",
       "  4.0\n",
       "  0.0\n",
       "  4.0\n",
       "  0.5\n",
       " -1.0\n",
       " 50.0"
      ]
     },
     "execution_count": 31,
     "metadata": {},
     "output_type": "execute_result"
    }
   ],
   "source": [
    "opt.observed_optimizer"
   ]
  },
  {
   "cell_type": "code",
   "execution_count": 21,
   "id": "838236c6-c3bf-45f9-a162-5ecd86b28f35",
   "metadata": {},
   "outputs": [
    {
     "data": {
      "text/plain": [
       "moving_average (generic function with 1 method)"
      ]
     },
     "execution_count": 21,
     "metadata": {},
     "output_type": "execute_result"
    }
   ],
   "source": [
    "moving_average(vs,n) = [sum(@view vs[i:(i+n-1)])/n for i in 1:(length(vs)-(n-1))]"
   ]
  },
  {
   "cell_type": "code",
   "execution_count": 42,
   "id": "82aed1d4-a92c-4887-b756-08ff991b4158",
   "metadata": {},
   "outputs": [
    {
     "data": {
      "text/plain": [
       "f (generic function with 1 method)"
      ]
     },
     "execution_count": 42,
     "metadata": {},
     "output_type": "execute_result"
    }
   ],
   "source": [
    "opt.func = f"
   ]
  },
  {
   "cell_type": "code",
   "execution_count": 43,
   "id": "372b82b1-12df-4963-a6b7-ea76cdce701b",
   "metadata": {},
   "outputs": [
    {
     "data": {
      "text/html": [
       "# 1 method for generic function <b>f</b> from \u001b[35mMain\u001b[39m:<ul><li> f(x) in Main at In[38]:16</li> </ul>"
      ],
      "text/plain": [
       "# 1 method for generic function \"f\" from \u001b[35mMain\u001b[39m:\n",
       " [1] f(\u001b[90mx\u001b[39m)\n",
       "\u001b[90m     @\u001b[39m \u001b[90m\u001b[4mIn[38]:16\u001b[24m\u001b[39m"
      ]
     },
     "execution_count": 43,
     "metadata": {},
     "output_type": "execute_result"
    }
   ],
   "source": [
    "methods(f)"
   ]
  },
  {
   "cell_type": "code",
   "execution_count": null,
   "id": "8442e768-e5ee-4575-b0e4-958f3f497b58",
   "metadata": {},
   "outputs": [],
   "source": []
  },
  {
   "cell_type": "code",
   "execution_count": null,
   "id": "5ce78c9c",
   "metadata": {},
   "outputs": [],
   "source": []
  },
  {
   "cell_type": "code",
   "execution_count": null,
   "id": "b348c54d",
   "metadata": {},
   "outputs": [],
   "source": []
  },
  {
   "cell_type": "code",
   "execution_count": null,
   "id": "55e85cf1",
   "metadata": {},
   "outputs": [],
   "source": []
  },
  {
   "cell_type": "code",
   "execution_count": null,
   "id": "f9384541",
   "metadata": {},
   "outputs": [],
   "source": []
  },
  {
   "cell_type": "code",
   "execution_count": null,
   "id": "ba596761-8ca5-4808-8429-5fcb0c6705a0",
   "metadata": {},
   "outputs": [],
   "source": []
  },
  {
   "cell_type": "markdown",
   "id": "d55f0747-429c-47f2-9924-2e680a9649dc",
   "metadata": {},
   "source": [
    "## Running a single configuration"
   ]
  },
  {
   "cell_type": "code",
   "execution_count": 58,
   "id": "f4d7bc24-dfb1-4b65-8d1b-2cb20375b448",
   "metadata": {},
   "outputs": [],
   "source": [
    "temp = @with_unit 0.1 \"mK\"\n",
    "diameter = @with_unit 0.6 \"mm\"\n",
    "displacement = [0.0, 0.0, 0.0]\n",
    "kick = [0,0, 0.0, 0.0]\n",
    "\n",
    "params = MutableNamedTuple(t_end = 1e-3, n_values = 20,\n",
    "                            pol1_x=σ⁻, pol2_x=σ⁺, pol3_x=σ⁻, pol4_x=σ⁺, \n",
    "                            s1=2.0, s2=0.0, s3=0.05, s4=0.05,\n",
    "                            Δ1=4.0Γ, Δ2=-0.8Γ, Δ3=-1.0Γ, Δ4=+0.5Γ, \n",
    "                            B_gradient = 30, \n",
    "                            temp=temp, diameter=diameter, \n",
    "                            displacement=displacement, kick=kick,\n",
    "                            ramp_time = 4e-3)\n",
    ";\n",
    "\n",
    "results = simulate_particles_v2(package, params);"
   ]
  },
  {
   "cell_type": "code",
   "execution_count": 60,
   "id": "e9b68c93-7c29-45a2-b71c-e9cc46d575bd",
   "metadata": {},
   "outputs": [
    {
     "data": {
      "text/plain": [
       "36.24340520601817"
      ]
     },
     "execution_count": 60,
     "metadata": {},
     "output_type": "execute_result"
    }
   ],
   "source": [
    "density(params.t_end, results.times, results.x_trajectories, results.y_trajectories, results.z_trajectories)"
   ]
  },
  {
   "cell_type": "markdown",
   "id": "45695fd2-fcc6-40a3-92e8-b16dc8748252",
   "metadata": {},
   "source": [
    "## Scanning configurations"
   ]
  },
  {
   "cell_type": "code",
   "execution_count": 55,
   "id": "2022eb1a-6bf4-4882-8f98-31c2a93d9bf2",
   "metadata": {},
   "outputs": [],
   "source": [
    "# fixed:\n",
    "t_end = 30e-3 #s\n",
    "n_values = 20\n",
    "ramp_time = 4e-3 #s\n",
    "B_gradient = 30 #G/cm\n",
    "\n",
    "temp = @with_unit 0.5 \"mK\"\n",
    "diameter = @with_unit 0.6 \"mm\"\n",
    "displacement = [0.0, 0.0, 0.0]\n",
    "kick = [0,0, 0.0, 0.0]\n",
    "\n",
    "# variable:\n",
    "pol1_x_list = [σ⁻]\n",
    "pol2_x_list = [σ⁺]\n",
    "pol3_x_list = [σ⁻]\n",
    "pol4_x_list = [σ⁺]\n",
    "\n",
    "s1_list = [1.5, 2.0, 2.5]\n",
    "s2_list = [0.0]\n",
    "s3_list = [0.05, 0.1]\n",
    "s4_list = [0.05, 0.1]\n",
    "\n",
    "Δ1_list = [2.0, 4.0, 6.0] .* Γ\n",
    "Δ2_list = [0.0]\n",
    "Δ3_list = [-0.5, -1.0, -1.5] .* Γ\n",
    "Δ4_list = [0.5, 1.0, 1.5] .* Γ\n",
    "\n",
    "lists = [pol1_x_list, pol2_x_list, pol3_x_list, pol4_x_list,\n",
    "        s1_list, s2_list, s3_list, s4_list,\n",
    "        Δ1_list, Δ2_list, Δ3_list, Δ4_list]\n",
    "\n",
    "n_scans = 1\n",
    "for l in lists\n",
    "   n_scans *= length(l) \n",
    "end\n",
    "\n",
    "comments = \"scan d3 +- 1MHz\";\n",
    "saving_dir = make_scan_folder(lists, working_dir, 1, comments);\n",
    "\n",
    "scan_counter = 0\n",
    "indicies = [\n",
    "    1,1,1,1, \n",
    "    1,1,1,1, \n",
    "    1,1,1,1\n",
    "];"
   ]
  },
  {
   "cell_type": "code",
   "execution_count": null,
   "id": "16f127fc-f238-44cb-96de-b52fcee583f3",
   "metadata": {},
   "outputs": [
    {
     "name": "stdout",
     "output_type": "stream",
     "text": [
      "============= configuration 1 / 324 =============\n"
     ]
    },
    {
     "name": "stderr",
     "output_type": "stream",
     "text": [
      "\u001b[32mProgress: 100%|█████████████████████████████████████████| Time: 0:01:26\u001b[39m\n"
     ]
    },
    {
     "name": "stdout",
     "output_type": "stream",
     "text": [
      "============= configuration 2 / 324 =============\n"
     ]
    },
    {
     "name": "stderr",
     "output_type": "stream",
     "text": [
      "\u001b[32mProgress: 100%|█████████████████████████████████████████| Time: 0:01:26\u001b[39m\n"
     ]
    },
    {
     "name": "stdout",
     "output_type": "stream",
     "text": [
      "============= configuration 3 / 324 =============\n"
     ]
    },
    {
     "name": "stderr",
     "output_type": "stream",
     "text": [
      "\u001b[32mProgress: 100%|█████████████████████████████████████████| Time: 0:01:36\u001b[39m\n"
     ]
    },
    {
     "name": "stdout",
     "output_type": "stream",
     "text": [
      "============= configuration 4 / 324 =============\n"
     ]
    },
    {
     "name": "stderr",
     "output_type": "stream",
     "text": [
      "\u001b[32mProgress: 100%|█████████████████████████████████████████| Time: 0:01:14\u001b[39m\n"
     ]
    },
    {
     "name": "stdout",
     "output_type": "stream",
     "text": [
      "============= configuration 5 / 324 =============\n"
     ]
    },
    {
     "name": "stderr",
     "output_type": "stream",
     "text": [
      "\u001b[32mProgress: 100%|█████████████████████████████████████████| Time: 0:01:23\u001b[39m\n"
     ]
    },
    {
     "name": "stdout",
     "output_type": "stream",
     "text": [
      "============= configuration 6 / 324 =============\n"
     ]
    },
    {
     "name": "stderr",
     "output_type": "stream",
     "text": [
      "\u001b[32mProgress: 100%|█████████████████████████████████████████| Time: 0:01:37\u001b[39m\n"
     ]
    },
    {
     "name": "stdout",
     "output_type": "stream",
     "text": [
      "============= configuration 7 / 324 =============\n"
     ]
    },
    {
     "name": "stderr",
     "output_type": "stream",
     "text": [
      "\u001b[32mProgress: 100%|█████████████████████████████████████████| Time: 0:01:28\u001b[39m\n"
     ]
    },
    {
     "name": "stdout",
     "output_type": "stream",
     "text": [
      "============= configuration 8 / 324 =============\n"
     ]
    },
    {
     "name": "stderr",
     "output_type": "stream",
     "text": [
      "\u001b[32mProgress: 100%|█████████████████████████████████████████| Time: 0:01:29\u001b[39m\n"
     ]
    },
    {
     "name": "stdout",
     "output_type": "stream",
     "text": [
      "============= configuration 9 / 324 =============\n"
     ]
    },
    {
     "name": "stderr",
     "output_type": "stream",
     "text": [
      "\u001b[32mProgress: 100%|█████████████████████████████████████████| Time: 0:01:36\u001b[39m\n"
     ]
    },
    {
     "name": "stdout",
     "output_type": "stream",
     "text": [
      "============= configuration 10 / 324 =============\n"
     ]
    },
    {
     "name": "stderr",
     "output_type": "stream",
     "text": [
      "\u001b[32mProgress: 100%|█████████████████████████████████████████| Time: 0:01:16\u001b[39m\n"
     ]
    },
    {
     "name": "stdout",
     "output_type": "stream",
     "text": [
      "============= configuration 11 / 324 =============\n"
     ]
    },
    {
     "name": "stderr",
     "output_type": "stream",
     "text": [
      "\u001b[32mProgress: 100%|█████████████████████████████████████████| Time: 0:01:28\u001b[39m\n"
     ]
    },
    {
     "name": "stdout",
     "output_type": "stream",
     "text": [
      "============= configuration 12 / 324 =============\n"
     ]
    },
    {
     "name": "stderr",
     "output_type": "stream",
     "text": [
      "\u001b[32mProgress: 100%|█████████████████████████████████████████| Time: 0:01:30\u001b[39m\n"
     ]
    },
    {
     "name": "stdout",
     "output_type": "stream",
     "text": [
      "============= configuration 13 / 324 =============\n"
     ]
    },
    {
     "name": "stderr",
     "output_type": "stream",
     "text": [
      "\u001b[32mProgress: 100%|█████████████████████████████████████████| Time: 0:01:26\u001b[39m\n"
     ]
    },
    {
     "name": "stdout",
     "output_type": "stream",
     "text": [
      "============= configuration 14 / 324 =============\n"
     ]
    },
    {
     "name": "stderr",
     "output_type": "stream",
     "text": [
      "\u001b[32mProgress: 100%|█████████████████████████████████████████| Time: 0:01:42\u001b[39m\n"
     ]
    },
    {
     "name": "stdout",
     "output_type": "stream",
     "text": [
      "============= configuration 15 / 324 =============\n"
     ]
    },
    {
     "name": "stderr",
     "output_type": "stream",
     "text": [
      "\u001b[32mProgress: 100%|█████████████████████████████████████████| Time: 0:01:44\u001b[39m\n"
     ]
    },
    {
     "name": "stdout",
     "output_type": "stream",
     "text": [
      "============= configuration 16 / 324 =============\n"
     ]
    },
    {
     "name": "stderr",
     "output_type": "stream",
     "text": [
      "\u001b[32mProgress: 100%|█████████████████████████████████████████| Time: 0:01:33\u001b[39m\n"
     ]
    },
    {
     "name": "stdout",
     "output_type": "stream",
     "text": [
      "============= configuration 17 / 324 =============\n"
     ]
    },
    {
     "name": "stderr",
     "output_type": "stream",
     "text": [
      "\u001b[32mProgress: 100%|█████████████████████████████████████████| Time: 0:01:36\u001b[39m\n"
     ]
    },
    {
     "name": "stdout",
     "output_type": "stream",
     "text": [
      "============= configuration 18 / 324 =============\n"
     ]
    },
    {
     "name": "stderr",
     "output_type": "stream",
     "text": [
      "\u001b[32mProgress: 100%|█████████████████████████████████████████| Time: 0:01:42\u001b[39m\n"
     ]
    },
    {
     "name": "stdout",
     "output_type": "stream",
     "text": [
      "============= configuration 19 / 324 =============\n"
     ]
    },
    {
     "name": "stderr",
     "output_type": "stream",
     "text": [
      "\u001b[32mProgress: 100%|█████████████████████████████████████████| Time: 0:01:36\u001b[39m\n"
     ]
    },
    {
     "name": "stdout",
     "output_type": "stream",
     "text": [
      "============= configuration 20 / 324 =============\n"
     ]
    },
    {
     "name": "stderr",
     "output_type": "stream",
     "text": [
      "\u001b[32mProgress: 100%|█████████████████████████████████████████| Time: 0:01:34\u001b[39m\n"
     ]
    },
    {
     "name": "stdout",
     "output_type": "stream",
     "text": [
      "============= configuration 21 / 324 =============\n"
     ]
    },
    {
     "name": "stderr",
     "output_type": "stream",
     "text": [
      "\u001b[32mProgress: 100%|█████████████████████████████████████████| Time: 0:01:36\u001b[39m\n"
     ]
    },
    {
     "name": "stdout",
     "output_type": "stream",
     "text": [
      "============= configuration 22 / 324 =============\n"
     ]
    },
    {
     "name": "stderr",
     "output_type": "stream",
     "text": [
      "\u001b[32mProgress: 100%|█████████████████████████████████████████| Time: 0:01:30\u001b[39m\n"
     ]
    },
    {
     "name": "stdout",
     "output_type": "stream",
     "text": [
      "============= configuration 23 / 324 =============\n"
     ]
    },
    {
     "name": "stderr",
     "output_type": "stream",
     "text": [
      "\u001b[32mProgress: 100%|█████████████████████████████████████████| Time: 0:01:33\u001b[39m\n"
     ]
    },
    {
     "name": "stdout",
     "output_type": "stream",
     "text": [
      "============= configuration 24 / 324 =============\n"
     ]
    },
    {
     "name": "stderr",
     "output_type": "stream",
     "text": [
      "\u001b[32mProgress: 100%|█████████████████████████████████████████| Time: 0:01:33\u001b[39m\n"
     ]
    },
    {
     "name": "stdout",
     "output_type": "stream",
     "text": [
      "============= configuration 25 / 324 =============\n"
     ]
    },
    {
     "name": "stderr",
     "output_type": "stream",
     "text": [
      "\u001b[32mProgress: 100%|█████████████████████████████████████████| Time: 0:01:47\u001b[39m\n"
     ]
    },
    {
     "name": "stdout",
     "output_type": "stream",
     "text": [
      "============= configuration 26 / 324 =============\n"
     ]
    },
    {
     "name": "stderr",
     "output_type": "stream",
     "text": [
      "\u001b[32mProgress: 100%|█████████████████████████████████████████| Time: 0:02:49\u001b[39m\n"
     ]
    },
    {
     "name": "stdout",
     "output_type": "stream",
     "text": [
      "============= configuration 27 / 324 =============\n"
     ]
    },
    {
     "name": "stderr",
     "output_type": "stream",
     "text": [
      "\u001b[32mProgress: 100%|█████████████████████████████████████████| Time: 0:01:48\u001b[39m\n"
     ]
    },
    {
     "name": "stdout",
     "output_type": "stream",
     "text": [
      "============= configuration 28 / 324 =============\n"
     ]
    },
    {
     "name": "stderr",
     "output_type": "stream",
     "text": [
      "\u001b[32mProgress: 100%|█████████████████████████████████████████| Time: 0:01:37\u001b[39m\n"
     ]
    },
    {
     "name": "stdout",
     "output_type": "stream",
     "text": [
      "============= configuration 29 / 324 =============\n"
     ]
    },
    {
     "name": "stderr",
     "output_type": "stream",
     "text": [
      "\u001b[32mProgress: 100%|█████████████████████████████████████████| Time: 0:01:47\u001b[39m\n"
     ]
    },
    {
     "name": "stdout",
     "output_type": "stream",
     "text": [
      "============= configuration 30 / 324 =============\n"
     ]
    },
    {
     "name": "stderr",
     "output_type": "stream",
     "text": [
      "\u001b[32mProgress: 100%|█████████████████████████████████████████| Time: 0:01:54\u001b[39m\n"
     ]
    },
    {
     "name": "stdout",
     "output_type": "stream",
     "text": [
      "============= configuration 31 / 324 =============\n"
     ]
    },
    {
     "name": "stderr",
     "output_type": "stream",
     "text": [
      "\u001b[32mProgress: 100%|█████████████████████████████████████████| Time: 0:02:53\u001b[39m\n"
     ]
    },
    {
     "name": "stdout",
     "output_type": "stream",
     "text": [
      "============= configuration 32 / 324 =============\n"
     ]
    },
    {
     "name": "stderr",
     "output_type": "stream",
     "text": [
      "\u001b[32mProgress: 100%|█████████████████████████████████████████| Time: 0:01:46\u001b[39m\n"
     ]
    },
    {
     "name": "stdout",
     "output_type": "stream",
     "text": [
      "============= configuration 33 / 324 =============\n"
     ]
    },
    {
     "name": "stderr",
     "output_type": "stream",
     "text": [
      "\u001b[32mProgress: 100%|█████████████████████████████████████████| Time: 0:01:50\u001b[39m\n"
     ]
    },
    {
     "name": "stdout",
     "output_type": "stream",
     "text": [
      "============= configuration 34 / 324 =============\n"
     ]
    },
    {
     "name": "stderr",
     "output_type": "stream",
     "text": [
      "\u001b[32mProgress: 100%|█████████████████████████████████████████| Time: 0:01:38\u001b[39m\n"
     ]
    },
    {
     "name": "stdout",
     "output_type": "stream",
     "text": [
      "============= configuration 35 / 324 =============\n"
     ]
    },
    {
     "name": "stderr",
     "output_type": "stream",
     "text": [
      "\u001b[32mProgress: 100%|█████████████████████████████████████████| Time: 0:01:44\u001b[39m\n"
     ]
    },
    {
     "name": "stdout",
     "output_type": "stream",
     "text": [
      "============= configuration 36 / 324 =============\n"
     ]
    },
    {
     "name": "stderr",
     "output_type": "stream",
     "text": [
      "\u001b[32mProgress: 100%|█████████████████████████████████████████| Time: 0:01:52\u001b[39m\n"
     ]
    },
    {
     "name": "stdout",
     "output_type": "stream",
     "text": [
      "============= configuration 37 / 324 =============\n"
     ]
    },
    {
     "name": "stderr",
     "output_type": "stream",
     "text": [
      "\u001b[32mProgress: 100%|█████████████████████████████████████████| Time: 0:01:35\u001b[39m\n"
     ]
    },
    {
     "name": "stdout",
     "output_type": "stream",
     "text": [
      "============= configuration 38 / 324 =============\n"
     ]
    },
    {
     "name": "stderr",
     "output_type": "stream",
     "text": [
      "\u001b[32mProgress: 100%|█████████████████████████████████████████| Time: 0:01:36\u001b[39m\n"
     ]
    },
    {
     "name": "stdout",
     "output_type": "stream",
     "text": [
      "============= configuration 39 / 324 =============\n"
     ]
    },
    {
     "name": "stderr",
     "output_type": "stream",
     "text": [
      "\u001b[32mProgress: 100%|█████████████████████████████████████████| Time: 0:01:42\u001b[39m\n"
     ]
    },
    {
     "name": "stdout",
     "output_type": "stream",
     "text": [
      "============= configuration 40 / 324 =============\n"
     ]
    },
    {
     "name": "stderr",
     "output_type": "stream",
     "text": [
      "\u001b[32mProgress:  70%|█████████████████████████████            |  ETA: 0:00:37\u001b[39m\u001b[91m\u001b[1m┌ \u001b[22m\u001b[39m\u001b[91m\u001b[1mError: \u001b[22m\u001b[39mError watching manifest\n",
      "\u001b[91m\u001b[1m│ \u001b[22m\u001b[39m  exception =\n",
      "\u001b[91m\u001b[1m│ \u001b[22m\u001b[39m   LoadError: UndefVarError: `@reexport` not defined\n",
      "\u001b[91m\u001b[1m│ \u001b[22m\u001b[39m   in expression starting at C:\\Users\\Christian\\.julia\\packages\\StatsFuns\\atA5S\\src\\StatsFuns.jl:8\n",
      "\u001b[91m\u001b[1m└ \u001b[22m\u001b[39m\u001b[90m@ Revise C:\\Users\\Christian\\.julia\\packages\\Revise\\Kw99o\\src\\pkgs.jl:477\u001b[39m\n",
      "\u001b[32mProgress: 100%|█████████████████████████████████████████| Time: 0:01:27\u001b[39m\n"
     ]
    },
    {
     "name": "stdout",
     "output_type": "stream",
     "text": [
      "============= configuration 41 / 324 =============\n"
     ]
    },
    {
     "name": "stderr",
     "output_type": "stream",
     "text": [
      "\u001b[32mProgress: 100%|█████████████████████████████████████████| Time: 0:02:03\u001b[39m\n"
     ]
    },
    {
     "name": "stdout",
     "output_type": "stream",
     "text": [
      "============= configuration 42 / 324 =============\n"
     ]
    },
    {
     "name": "stderr",
     "output_type": "stream",
     "text": [
      "\u001b[32mProgress: 100%|█████████████████████████████████████████| Time: 0:02:50\u001b[39m\n"
     ]
    },
    {
     "name": "stdout",
     "output_type": "stream",
     "text": [
      "============= configuration 43 / 324 =============\n"
     ]
    },
    {
     "name": "stderr",
     "output_type": "stream",
     "text": [
      "\u001b[32mProgress: 100%|█████████████████████████████████████████| Time: 0:02:30\u001b[39m\n"
     ]
    },
    {
     "name": "stdout",
     "output_type": "stream",
     "text": [
      "============= configuration 44 / 324 =============\n"
     ]
    },
    {
     "name": "stderr",
     "output_type": "stream",
     "text": [
      "\u001b[32mProgress: 100%|█████████████████████████████████████████| Time: 0:02:40\u001b[39m\n"
     ]
    },
    {
     "name": "stdout",
     "output_type": "stream",
     "text": [
      "============= configuration 45 / 324 =============\n"
     ]
    },
    {
     "name": "stderr",
     "output_type": "stream",
     "text": [
      "\u001b[32mProgress: 100%|█████████████████████████████████████████| Time: 0:02:48\u001b[39m\n"
     ]
    },
    {
     "name": "stdout",
     "output_type": "stream",
     "text": [
      "============= configuration 46 / 324 =============\n"
     ]
    },
    {
     "name": "stderr",
     "output_type": "stream",
     "text": [
      "\u001b[32mProgress: 100%|█████████████████████████████████████████| Time: 0:02:08\u001b[39m\n"
     ]
    },
    {
     "name": "stdout",
     "output_type": "stream",
     "text": [
      "============= configuration 47 / 324 =============\n"
     ]
    },
    {
     "name": "stderr",
     "output_type": "stream",
     "text": [
      "\u001b[32mProgress: 100%|█████████████████████████████████████████| Time: 0:01:56\u001b[39m\n"
     ]
    },
    {
     "name": "stdout",
     "output_type": "stream",
     "text": [
      "============= configuration 48 / 324 =============\n"
     ]
    },
    {
     "name": "stderr",
     "output_type": "stream",
     "text": [
      "\u001b[32mProgress: 100%|█████████████████████████████████████████| Time: 0:01:51\u001b[39m\n"
     ]
    },
    {
     "name": "stdout",
     "output_type": "stream",
     "text": [
      "============= configuration 49 / 324 =============\n"
     ]
    },
    {
     "name": "stderr",
     "output_type": "stream",
     "text": [
      "\u001b[32mProgress: 100%|█████████████████████████████████████████| Time: 0:01:44\u001b[39m\n"
     ]
    },
    {
     "name": "stdout",
     "output_type": "stream",
     "text": [
      "============= configuration 50 / 324 =============\n"
     ]
    },
    {
     "name": "stderr",
     "output_type": "stream",
     "text": [
      "\u001b[32mProgress: 100%|█████████████████████████████████████████| Time: 0:01:51\u001b[39m\n"
     ]
    },
    {
     "name": "stdout",
     "output_type": "stream",
     "text": [
      "============= configuration 51 / 324 =============\n"
     ]
    },
    {
     "name": "stderr",
     "output_type": "stream",
     "text": [
      "\u001b[32mProgress: 100%|█████████████████████████████████████████| Time: 0:01:56\u001b[39m\n"
     ]
    },
    {
     "name": "stdout",
     "output_type": "stream",
     "text": [
      "============= configuration 52 / 324 =============\n"
     ]
    },
    {
     "name": "stderr",
     "output_type": "stream",
     "text": [
      "\u001b[32mProgress: 100%|█████████████████████████████████████████| Time: 0:01:43\u001b[39m\n"
     ]
    },
    {
     "name": "stdout",
     "output_type": "stream",
     "text": [
      "============= configuration 53 / 324 =============\n"
     ]
    },
    {
     "name": "stderr",
     "output_type": "stream",
     "text": [
      "\u001b[32mProgress: 100%|█████████████████████████████████████████| Time: 0:01:50\u001b[39m\n"
     ]
    },
    {
     "name": "stdout",
     "output_type": "stream",
     "text": [
      "============= configuration 54 / 324 =============\n"
     ]
    },
    {
     "name": "stderr",
     "output_type": "stream",
     "text": [
      "\u001b[32mProgress: 100%|█████████████████████████████████████████| Time: 0:01:52\u001b[39m\n"
     ]
    },
    {
     "name": "stdout",
     "output_type": "stream",
     "text": [
      "============= configuration 55 / 324 =============\n"
     ]
    },
    {
     "name": "stderr",
     "output_type": "stream",
     "text": [
      "\u001b[32mProgress: 100%|█████████████████████████████████████████| Time: 0:01:39\u001b[39m\n"
     ]
    },
    {
     "name": "stdout",
     "output_type": "stream",
     "text": [
      "============= configuration 56 / 324 =============\n"
     ]
    },
    {
     "name": "stderr",
     "output_type": "stream",
     "text": [
      "\u001b[32mProgress: 100%|█████████████████████████████████████████| Time: 0:01:44\u001b[39m\n"
     ]
    },
    {
     "name": "stdout",
     "output_type": "stream",
     "text": [
      "============= configuration 57 / 324 =============\n"
     ]
    },
    {
     "name": "stderr",
     "output_type": "stream",
     "text": [
      "\u001b[32mProgress: 100%|█████████████████████████████████████████| Time: 0:01:42\u001b[39m\n"
     ]
    },
    {
     "name": "stdout",
     "output_type": "stream",
     "text": [
      "============= configuration 58 / 324 =============\n"
     ]
    },
    {
     "name": "stderr",
     "output_type": "stream",
     "text": [
      "\u001b[32mProgress: 100%|█████████████████████████████████████████| Time: 0:01:34\u001b[39m\n"
     ]
    },
    {
     "name": "stdout",
     "output_type": "stream",
     "text": [
      "============= configuration 59 / 324 =============\n"
     ]
    },
    {
     "name": "stderr",
     "output_type": "stream",
     "text": [
      "\u001b[32mProgress: 100%|█████████████████████████████████████████| Time: 0:01:45\u001b[39m\n"
     ]
    },
    {
     "name": "stdout",
     "output_type": "stream",
     "text": [
      "============= configuration 60 / 324 =============\n"
     ]
    },
    {
     "name": "stderr",
     "output_type": "stream",
     "text": [
      "\u001b[32mProgress: 100%|█████████████████████████████████████████| Time: 0:01:44\u001b[39m\n"
     ]
    },
    {
     "name": "stdout",
     "output_type": "stream",
     "text": [
      "============= configuration 61 / 324 =============\n"
     ]
    },
    {
     "name": "stderr",
     "output_type": "stream",
     "text": [
      "\u001b[32mProgress: 100%|█████████████████████████████████████████| Time: 0:01:48\u001b[39m\n"
     ]
    },
    {
     "name": "stdout",
     "output_type": "stream",
     "text": [
      "============= configuration 62 / 324 =============\n"
     ]
    },
    {
     "name": "stderr",
     "output_type": "stream",
     "text": [
      "\u001b[32mProgress: 100%|█████████████████████████████████████████| Time: 0:01:56\u001b[39m\n"
     ]
    },
    {
     "name": "stdout",
     "output_type": "stream",
     "text": [
      "============= configuration 63 / 324 =============\n"
     ]
    },
    {
     "name": "stderr",
     "output_type": "stream",
     "text": [
      "\u001b[32mProgress: 100%|█████████████████████████████████████████| Time: 0:01:52\u001b[39m\n"
     ]
    },
    {
     "name": "stdout",
     "output_type": "stream",
     "text": [
      "============= configuration 64 / 324 =============\n"
     ]
    },
    {
     "name": "stderr",
     "output_type": "stream",
     "text": [
      "\u001b[32mProgress: 100%|█████████████████████████████████████████| Time: 0:01:49\u001b[39m\n"
     ]
    },
    {
     "name": "stdout",
     "output_type": "stream",
     "text": [
      "============= configuration 65 / 324 =============\n"
     ]
    },
    {
     "name": "stderr",
     "output_type": "stream",
     "text": [
      "\u001b[32mProgress: 100%|█████████████████████████████████████████| Time: 0:01:52\u001b[39m\n"
     ]
    },
    {
     "name": "stdout",
     "output_type": "stream",
     "text": [
      "============= configuration 66 / 324 =============\n"
     ]
    },
    {
     "name": "stderr",
     "output_type": "stream",
     "text": [
      "\u001b[32mProgress: 100%|█████████████████████████████████████████| Time: 0:02:00\u001b[39m\n"
     ]
    },
    {
     "name": "stdout",
     "output_type": "stream",
     "text": [
      "============= configuration 67 / 324 =============\n"
     ]
    },
    {
     "name": "stderr",
     "output_type": "stream",
     "text": [
      "\u001b[32mProgress:  25%|███████████                              |  ETA: 0:04:54\u001b[39m\u001b[91m\u001b[1m┌ \u001b[22m\u001b[39m\u001b[91m\u001b[1mError: \u001b[22m\u001b[39mError watching manifest\n",
      "\u001b[91m\u001b[1m│ \u001b[22m\u001b[39m  exception =\n",
      "\u001b[91m\u001b[1m│ \u001b[22m\u001b[39m   LoadError: UndefVarError: `@reexport` not defined\n",
      "\u001b[91m\u001b[1m│ \u001b[22m\u001b[39m   in expression starting at C:\\Users\\Christian\\.julia\\packages\\StatsFuns\\atA5S\\src\\StatsFuns.jl:8\n",
      "\u001b[91m\u001b[1m└ \u001b[22m\u001b[39m\u001b[90m@ Revise C:\\Users\\Christian\\.julia\\packages\\Revise\\Kw99o\\src\\pkgs.jl:477\u001b[39m\n",
      "\u001b[32mProgress: 100%|█████████████████████████████████████████| Time: 0:01:44\u001b[39m\n"
     ]
    },
    {
     "name": "stdout",
     "output_type": "stream",
     "text": [
      "============= configuration 68 / 324 =============\n"
     ]
    },
    {
     "name": "stderr",
     "output_type": "stream",
     "text": [
      "\u001b[32mProgress: 100%|█████████████████████████████████████████| Time: 0:01:54\u001b[39m\n"
     ]
    },
    {
     "name": "stdout",
     "output_type": "stream",
     "text": [
      "============= configuration 69 / 324 =============\n"
     ]
    },
    {
     "name": "stderr",
     "output_type": "stream",
     "text": [
      "\u001b[32mProgress: 100%|█████████████████████████████████████████| Time: 0:02:04\u001b[39m\n"
     ]
    },
    {
     "name": "stdout",
     "output_type": "stream",
     "text": [
      "============= configuration 70 / 324 =============\n"
     ]
    },
    {
     "name": "stderr",
     "output_type": "stream",
     "text": [
      "\u001b[32mProgress: 100%|█████████████████████████████████████████| Time: 0:01:53\u001b[39m\n"
     ]
    },
    {
     "name": "stdout",
     "output_type": "stream",
     "text": [
      "============= configuration 71 / 324 =============\n"
     ]
    },
    {
     "name": "stderr",
     "output_type": "stream",
     "text": [
      "\u001b[32mProgress: 100%|█████████████████████████████████████████| Time: 0:01:53\u001b[39m\n"
     ]
    }
   ],
   "source": [
    "while scan_counter < n_scans\n",
    "    @printf(\"============= configuration %i / %i =============\", scan_counter+1, n_scans)\n",
    "    println()\n",
    "    \n",
    "    pol1_x = pol1_x_list[indicies[1]]\n",
    "    pol2_x = pol2_x_list[indicies[2]]\n",
    "    pol3_x = pol3_x_list[indicies[3]]\n",
    "    pol4_x = pol4_x_list[indicies[4]]\n",
    "    s1 = s1_list[indicies[5]]\n",
    "    s2 = s2_list[indicies[6]]\n",
    "    s3 = s3_list[indicies[7]]\n",
    "    s4 = s4_list[indicies[8]]\n",
    "    Δ1 = Δ1_list[indicies[9]]\n",
    "    Δ2 = Δ2_list[indicies[10]]\n",
    "    Δ3 = Δ3_list[indicies[11]]\n",
    "    Δ4 = Δ4_list[indicies[12]]\n",
    "    \n",
    "    params = MutableNamedTuple(t_end = t_end, n_values = n_values,\n",
    "                            pol1_x=pol1_x, pol2_x=pol2_x, pol3_x=pol3_x, pol4_x=pol4_x, \n",
    "                            s1=s1, s2=s2, s3=s3, s4=s4,\n",
    "                            Δ1=Δ1, Δ2=Δ2, Δ3=Δ3, Δ4=Δ4, \n",
    "                            B_gradient = B_gradient, \n",
    "                            temp=temp, diameter=diameter, \n",
    "                            displacement=displacement, kick=kick,\n",
    "                            ramp_time = ramp_time)\n",
    "\n",
    "    test_i = log_test_info(saving_dir,1,params)\n",
    "    \n",
    "    results = simulate_particles(package, params, params.n_values);\n",
    "\n",
    "    save_results(saving_dir, test_i, results)\n",
    "    \n",
    "    scan_counter += 1 \n",
    "    next_configuration!(lists, indicies)\n",
    "    \n",
    "end\n",
    ";"
   ]
  },
  {
   "cell_type": "code",
   "execution_count": null,
   "id": "0bd27fc5-9ad6-4246-8cb6-83e913bc3cc5",
   "metadata": {},
   "outputs": [],
   "source": []
  }
 ],
 "metadata": {
  "kernelspec": {
   "display_name": "Julia (20 threads) 1.9.3",
   "language": "julia",
   "name": "julia-_20-threads_-1.9"
  },
  "language_info": {
   "file_extension": ".jl",
   "mimetype": "application/julia",
   "name": "julia",
   "version": "1.9.3"
  }
 },
 "nbformat": 4,
 "nbformat_minor": 5
}
