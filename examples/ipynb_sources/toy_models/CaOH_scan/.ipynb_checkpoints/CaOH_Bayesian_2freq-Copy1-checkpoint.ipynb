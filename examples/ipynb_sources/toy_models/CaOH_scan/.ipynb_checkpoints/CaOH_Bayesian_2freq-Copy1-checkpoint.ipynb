{
 "cells": [
  {
   "cell_type": "code",
   "execution_count": 9,
   "id": "eb68f43c-512c-49e4-b9ae-e0ead28ff26c",
   "metadata": {},
   "outputs": [],
   "source": [
    "using Revise"
   ]
  },
  {
   "cell_type": "code",
   "execution_count": 10,
   "id": "95aa508f-186f-41d9-9dee-7045b9117fa1",
   "metadata": {},
   "outputs": [
    {
     "name": "stderr",
     "output_type": "stream",
     "text": [
      "WARNING: Method definition Zeeman_x(Any, Any) in module Main at G:\\My Drive\\github\\OpticalBlochEquations\\examples\\ipynb_sources\\toy_models\\CaOH_scan\\CaOH_scan_helper_v2_imbalance.jl:62 overwritten at G:\\My Drive\\github\\OpticalBlochEquations\\examples\\ipynb_sources\\toy_models\\CaOH_scan\\CaOH_scan_helper_v2_imbalance.jl:135.\n",
      "WARNING: Method definition Zeeman_y(Any, Any) in module Main at G:\\My Drive\\github\\OpticalBlochEquations\\examples\\ipynb_sources\\toy_models\\CaOH_scan\\CaOH_scan_helper_v2_imbalance.jl:63 overwritten at G:\\My Drive\\github\\OpticalBlochEquations\\examples\\ipynb_sources\\toy_models\\CaOH_scan\\CaOH_scan_helper_v2_imbalance.jl:136.\n",
      "WARNING: Method definition Zeeman_z(Any, Any) in module Main at G:\\My Drive\\github\\OpticalBlochEquations\\examples\\ipynb_sources\\toy_models\\CaOH_scan\\CaOH_scan_helper_v2_imbalance.jl:64 overwritten at G:\\My Drive\\github\\OpticalBlochEquations\\examples\\ipynb_sources\\toy_models\\CaOH_scan\\CaOH_scan_helper_v2_imbalance.jl:137.\n"
     ]
    }
   ],
   "source": [
    "using\n",
    "    QuantumStates,\n",
    "    OpticalBlochEquations,\n",
    "    DifferentialEquations,\n",
    "    UnitsToValue,\n",
    "    LinearAlgebra,\n",
    "    Printf,\n",
    "    Plots,\n",
    "    Random,\n",
    "    StatsBase\n",
    ";\n",
    "\n",
    "using Distributions\n",
    "\n",
    "import MutableNamedTuples: MutableNamedTuple\n",
    "import StructArrays: StructArray, StructVector\n",
    "import StaticArrays: @SVector, SVector\n",
    "import LinearAlgebra: norm, ⋅, adjoint!, diag\n",
    "import LoopVectorization: @turbo\n",
    "using BenchmarkTools\n",
    "using Parameters\n",
    "using LsqFit\n",
    "\n",
    "import ProgressMeter: Progress, next!\n",
    "\n",
    "const λ = 626e-9\n",
    "const Γ = 2π* 6.4e6\n",
    "const m = @with_unit 57 \"u\"\n",
    "const k = 2π / λ\n",
    "_μB = (μ_B / h) * 1e-4;\n",
    "\n",
    "include(\"CaOH_scan_helper_v2_imbalance.jl\")\n",
    ";"
   ]
  },
  {
   "cell_type": "code",
   "execution_count": 11,
   "id": "de4dbeed-384d-491d-9257-f185a577b5ae",
   "metadata": {},
   "outputs": [],
   "source": [
    "function survived(t_end, times, trajectories)\n",
    "    _survived = Int64[]\n",
    "    for i ∈ eachindex(trajectories)\n",
    "        if abs(times[i][end] - t_end*1e3) <= 1.0\n",
    "            push!(_survived, i)\n",
    "        end\n",
    "    end\n",
    "    return _survived\n",
    "end\n",
    "\n",
    "function cloud_size(trajectories, i)\n",
    "    std(trajectory[i] for trajectory ∈ trajectories)\n",
    "end\n",
    "\n",
    "\"\"\"\n",
    "    Evaluates the density given a set of trajectories.\n",
    "\"\"\"\n",
    "function density(t_end, results)\n",
    "    \n",
    "    times, x_trajectories, y_trajectories, z_trajectories = results.times, results.x_trajectories, results.y_trajectories, results.z_trajectories\n",
    "    \n",
    "    # Sample number of photons before the molecule is lost to vibrational dark state\n",
    "    n_molecules = length(times)\n",
    "    \n",
    "    _survived = survived(t_end, times, x_trajectories)\n",
    "    println(_survived)\n",
    "    \n",
    "    surviving_x_trajectories = x_trajectories[_survived]\n",
    "    surviving_y_trajectories = y_trajectories[_survived]\n",
    "    surviving_z_trajectories = z_trajectories[_survived]\n",
    "    \n",
    "    n = length(_survived)\n",
    "    _density = Float64(n)\n",
    "    if n > 1\n",
    "        idx_end = length(surviving_x_trajectories[1])\n",
    "        σ_x = cloud_size(surviving_x_trajectories, idx_end)\n",
    "        σ_y = cloud_size(surviving_y_trajectories, idx_end)\n",
    "        σ_z = cloud_size(surviving_z_trajectories, idx_end)\n",
    "        _density /= σ_x * σ_y * σ_z\n",
    "    end\n",
    "    return _density\n",
    "end\n",
    "\n",
    "function distance(x_trajectory, y_trajectory, z_trajectory, idx)\n",
    "    return sqrt(x_trajectory[idx]^2 + y_trajectory[idx]^2 + z_trajectory[idx]^2)\n",
    "end\n",
    "\n",
    "\"\"\"\n",
    "    Evaluates how many particles are within a 0.3 mm radius.\n",
    "\"\"\"\n",
    "function goodness(t_end, results)\n",
    "    \n",
    "    times, x_trajectories, y_trajectories, z_trajectories = results.times, results.x_trajectories, results.y_trajectories, results.z_trajectories\n",
    "    \n",
    "    # Sample number of photons before the molecule is lost to vibrational dark state\n",
    "    n_molecules = length(times)\n",
    "    \n",
    "    _survived = survived(t_end, times, x_trajectories)\n",
    "    @printf(\"Survival: %i / %i\", length(_survived), n_molecules)\n",
    "    println()\n",
    "    \n",
    "    surviving_x_trajectories = x_trajectories[_survived]\n",
    "    surviving_y_trajectories = y_trajectories[_survived]\n",
    "    surviving_z_trajectories = z_trajectories[_survived]\n",
    "    \n",
    "    n = 0\n",
    "    for survived_idx ∈ _survived\n",
    "        idx_end = length(x_trajectories[survived_idx])\n",
    "        r = distance(x_trajectories[survived_idx], y_trajectories[survived_idx], z_trajectories[survived_idx], idx_end)\n",
    "        if r > 1.0\n",
    "            n += 0.0\n",
    "        elseif r > 0.5\n",
    "            n += 0.1 * exp(-results.photons_scattered[survived_idx]/14000)\n",
    "        elseif r > 0.3\n",
    "            n += (0.6 - r)* exp(-results.photons_scattered[survived_idx]/14000)\n",
    "        elseif r <= 0.3\n",
    "            n += ((0.3 - r) * 3 + 0.3) * exp(-results.photons_scattered[survived_idx]/14000)\n",
    "        end\n",
    "    end\n",
    "    return n/n_molecules\n",
    "end\n",
    ";"
   ]
  },
  {
   "cell_type": "markdown",
   "id": "e4453cb6-d6f1-4d9c-b8f6-1add3157ae21",
   "metadata": {},
   "source": [
    "### Set up the molecule"
   ]
  },
  {
   "cell_type": "code",
   "execution_count": 12,
   "id": "18ccd92a-51ee-4774-af90-92e948637eca",
   "metadata": {},
   "outputs": [],
   "source": [
    "package = get_CaOH_package()\n",
    "n_states = length(package.states)\n",
    "n_excited = package.n_excited\n",
    ";"
   ]
  },
  {
   "cell_type": "code",
   "execution_count": 13,
   "id": "6eec7ca6-a7a8-4731-a3b0-229dd6220dc0",
   "metadata": {},
   "outputs": [],
   "source": [
    "\n",
    "\"\"\"\n",
    "    Function to optimize (density).\n",
    "\"\"\"\n",
    "function f(x)\n",
    "    s1 = x[1]\n",
    "    s3 = x[2]\n",
    "\n",
    "    Δ1 = x[3]*Γ\n",
    "    Δ3 = x[4]*Γ\n",
    "    \n",
    "#     pol1 = sqrt(x[5]) * σ⁺ + sqrt(1-x[5]) * σ⁻\n",
    "#     pol3 = sqrt(x[6]) * σ⁺ + sqrt(1-x[6]) * σ⁻\n",
    "    ramp_time = 10e-3\n",
    "    B_gradient = -30 \n",
    "\n",
    "    temp = @with_unit 0.050 \"mK\"\n",
    "    diameter = @with_unit 0.9 \"mm\"\n",
    "    displacement = [0.5, 0.5, 0.5].*1e-3\n",
    "    kick = [0,0, 0.0, 0.0]\n",
    "    \n",
    "    params = MutableNamedTuple(\n",
    "        t_end=20e-3, n_values=20,\n",
    "        pol1_x=σ⁺, pol2_x=σ⁺, pol3_x=σ⁺, pol4_x=σ⁻, \n",
    "        s1=s1, s2=0.0, s3=s3, s4=0.0,\n",
    "        Δ1=Δ1, Δ2=0.0, Δ3=Δ3, Δ4=0.0,\n",
    "        B_gradient=B_gradient,\n",
    "        temp=temp, \n",
    "        diameter=diameter,\n",
    "        displacement=displacement, \n",
    "        kick=kick,\n",
    "        ramp_time=ramp_time,\n",
    "        pol_imbalance=0.0, s_imbalance = (0.0, 0.0, 0.0), photon_budget=Inf)\n",
    "    \n",
    "    results = simulate_particles_v3(package, params, variable_budget=true)\n",
    "    \n",
    "    @printf(\"s1 = %.2f; s3 = %.2f; Δ1 = %.2fΓ; Δ3 = %.2fΓ\",x[1], x[2], x[3], x[4])\n",
    "    println()\n",
    "    \n",
    "    _goodness = goodness(params.t_end, results) * 100\n",
    "#     if _goodness > 0.2\n",
    "#         working_dir = \"C:\\\\Users\\\\halla\\\\OneDrive\\\\Desktop\\\\blueMOT_sim\\\\Bayesian\"\n",
    "#         test_i = log_test_info(working_dir,1,params)\n",
    "#         save_results(working_dir, test_i, results)\n",
    "#     end\n",
    "# #     println(results.photons_scattered)\n",
    "    \n",
    "    @printf(\"goodness = %.3f\", _goodness)\n",
    "    println()\n",
    "    \n",
    "    return _goodness\n",
    "end\n",
    ";    "
   ]
  },
  {
   "cell_type": "code",
   "execution_count": 14,
   "id": "3221d146-70a8-48f7-a39d-6283cfc80b1f",
   "metadata": {},
   "outputs": [],
   "source": [
    "using BayesianOptimization, GaussianProcesses\n",
    "\n",
    "model = ElasticGPE(4,                            # 6 input dimensions\n",
    "                   mean = MeanConst(1.),         \n",
    "                   kernel = SEArd([0.1, 0.1, 0.1, 0.1], 5.),\n",
    "                   logNoise = 0.,\n",
    "                   capacity = 3000)              # the initial capacity of the GP is 3000 samples\n",
    "set_priors!(model.mean, [Normal(1, 1)])\n",
    "\n",
    "# Optimize the hyperparameters of the GP using maximum a posteriori (MAP) estimates every x steps\n",
    "modeloptimizer = MAPGPOptimizer(\n",
    "    every = 1, \n",
    "    noisebounds = [-3, 3], # bounds of the logNoise\n",
    "    kernbounds = [[-3, -3, -3, -3, -5], [3, 3, 3, 3,5]],  # bounds of the parameters GaussianProcesses.get_param_names(model.kernel)\n",
    "    maxeval = 1000)\n",
    "\n",
    "opt = BOpt(f,\n",
    "           model,\n",
    "           ExpectedImprovement(),                   # type of acquisition\n",
    "           modeloptimizer,                        \n",
    "           [0.5, 0.5, 0.5,0.5],        # lowerbounds\n",
    "           [5.0, 5.0, 3.0,3.0],        # upperbounds         \n",
    "           repetitions = 1,                          # evaluate the function for each input x times\n",
    "           maxiterations = 20,                       # evaluate at x input positions\n",
    "           sense = Max,                              # maximize the function\n",
    "           acquisitionoptions = (method = :LD_LBFGS, # run optimization of acquisition function with NLopts :LD_LBFGS method\n",
    "                                 restarts = 5,       # run the NLopt method from x random initial conditions each time\n",
    "                                 maxtime = 1.0,      # run the NLopt method for at most 1.0 second each time\n",
    "                                 maxeval = 1000),    # run the NLopt methods for at most 1000 iterations (for other options see https://github.com/JuliaOpt/NLopt.jl)\n",
    "           verbosity = BayesianOptimization.Progress)\n",
    "\n",
    "# result = boptimize!(opt);\n",
    ";"
   ]
  },
  {
   "cell_type": "code",
   "execution_count": 15,
   "id": "66683d77",
   "metadata": {},
   "outputs": [],
   "source": [
    "# using BayesianOptimization, GaussianProcesses\n",
    "# using Serialization\n",
    "# working_dir = \"C:\\\\Users\\\\halla\\\\OneDrive\\\\Desktop\\\\blueMOT_sim\\\\Bayesian\"\n",
    "# opt_old = deserialize(joinpath(working_dir, \"opt_high_red_det.jl\"));\n",
    "# opt.model = opt_old.model;\n",
    "# opt.model_optimum = opt_old.model_optimum;\n",
    "# opt.model_optimizer = opt_old.model_optimizer;\n",
    "# opt.modeloptimizer = opt_old.modeloptimizer;\n",
    "# opt.observed_optimum = opt_old.observed_optimum;\n",
    "# opt.observed_optimizer = opt_old.observed_optimizer;\n",
    "# opt.acquisition = opt_old.acquisition;\n",
    "# opt.acquisitionoptions = opt_old.acquisitionoptions;"
   ]
  },
  {
   "cell_type": "code",
   "execution_count": null,
   "id": "514881da-2443-482a-9b9d-0d2649f743b0",
   "metadata": {},
   "outputs": [
    {
     "name": "stderr",
     "output_type": "stream",
     "text": [
      "\u001b[32mProgress: 100%|█████████████████████████████████████████| Time: 0:00:58\u001b[39m\n"
     ]
    },
    {
     "name": "stdout",
     "output_type": "stream",
     "text": [
      "s1 = 0.92; s3 = 2.61; Δ1 = 1.67Γ; Δ3 = 2.14Γ\n",
      "Survival: 13 / 20\n",
      "goodness = 1.920\n"
     ]
    },
    {
     "name": "stderr",
     "output_type": "stream",
     "text": [
      "\u001b[32mProgress: 100%|█████████████████████████████████████████| Time: 0:01:01\u001b[39m\n"
     ]
    },
    {
     "name": "stdout",
     "output_type": "stream",
     "text": [
      "s1 = 3.17; s3 = 4.86; Δ1 = 2.92Γ; Δ3 = 0.89Γ\n",
      "Survival: 17 / 20\n",
      "goodness = 2.665\n"
     ]
    },
    {
     "name": "stderr",
     "output_type": "stream",
     "text": [
      "\u001b[32mProgress: 100%|█████████████████████████████████████████| Time: 0:01:15\u001b[39m\n"
     ]
    },
    {
     "name": "stdout",
     "output_type": "stream",
     "text": [
      "s1 = 4.30; s3 = 1.48; Δ1 = 1.05Γ; Δ3 = 2.77Γ\n",
      "Survival: 12 / 20\n"
     ]
    },
    {
     "name": "stderr",
     "output_type": "stream",
     "text": [
      "\r",
      "\u001b[32mProgress:  10%|█████                                    |  ETA: 0:05:46\u001b[39m\r",
      "\u001b[32mProgress:  15%|███████                                  |  ETA: 0:03:42\u001b[39m\r",
      "\u001b[32mProgress:  20%|█████████                                |  ETA: 0:02:41\u001b[39m\r",
      "\u001b[32mProgress:  25%|███████████                              |  ETA: 0:02:27\u001b[39m\r",
      "\u001b[32mProgress:  30%|█████████████                            |  ETA: 0:02:05\u001b[39m\r",
      "\u001b[32mProgress:  35%|███████████████                          |  ETA: 0:01:40\u001b[39m\r",
      "\u001b[32mProgress:  40%|█████████████████                        |  ETA: 0:01:22\u001b[39m\r",
      "\u001b[32mProgress:  45%|███████████████████                      |  ETA: 0:01:07\u001b[39m\r",
      "\u001b[32mProgress:  55%|███████████████████████                  |  ETA: 0:00:45\u001b[39m\r",
      "\u001b[32mProgress:  60%|█████████████████████████                |  ETA: 0:00:37\u001b[39m"
     ]
    },
    {
     "name": "stdout",
     "output_type": "stream",
     "text": [
      "goodness = 1.738\n"
     ]
    },
    {
     "name": "stderr",
     "output_type": "stream",
     "text": [
      "\u001b[32mProgress: 100%|█████████████████████████████████████████| Time: 0:01:16\u001b[39m\n"
     ]
    },
    {
     "name": "stdout",
     "output_type": "stream",
     "text": [
      "s1 = 2.05; s3 = 3.73; Δ1 = 2.30Γ; Δ3 = 1.52Γ\n",
      "Survival: 20 / 20\n",
      "goodness = 7.466\n"
     ]
    },
    {
     "name": "stderr",
     "output_type": "stream",
     "text": [
      "\u001b[32mProgress: 100%|█████████████████████████████████████████| Time: 0:01:06\u001b[39m\n"
     ]
    },
    {
     "name": "stdout",
     "output_type": "stream",
     "text": [
      "s1 = 2.61; s3 = 0.92; Δ1 = 2.61Γ; Δ3 = 1.20Γ\n",
      "Survival: 20 / 20\n",
      "goodness = 0.585\n"
     ]
    },
    {
     "name": "stderr",
     "output_type": "stream",
     "text": [
      "\u001b[32mProgress: 100%|█████████████████████████████████████████| Time: 0:01:05\u001b[39m\n"
     ]
    },
    {
     "name": "stdout",
     "output_type": "stream",
     "text": [
      "s1 = 4.86; s3 = 3.17; Δ1 = 1.36Γ; Δ3 = 2.45Γ\n",
      "Survival: 11 / 20\n",
      "goodness = 0.407\n"
     ]
    },
    {
     "name": "stderr",
     "output_type": "stream",
     "text": [
      "\u001b[32mProgress: 100%|█████████████████████████████████████████| Time: 0:01:09\u001b[39m\n"
     ]
    },
    {
     "name": "stdout",
     "output_type": "stream",
     "text": [
      "s1 = 3.73; s3 = 2.05; Δ1 = 1.98Γ; Δ3 = 0.58Γ\n",
      "Survival: 19 / 20\n",
      "goodness = 0.684\n"
     ]
    },
    {
     "name": "stderr",
     "output_type": "stream",
     "text": [
      "\u001b[32mProgress: 100%|█████████████████████████████████████████| Time: 0:01:01\u001b[39m\n"
     ]
    },
    {
     "name": "stdout",
     "output_type": "stream",
     "text": [
      "s1 = 1.48; s3 = 4.30; Δ1 = 0.73Γ; Δ3 = 1.83Γ\n",
      "Survival: 8 / 20\n",
      "goodness = 0.223\n"
     ]
    },
    {
     "name": "stderr",
     "output_type": "stream",
     "text": [
      "\u001b[32mProgress: 100%|█████████████████████████████████████████| Time: 0:00:58\u001b[39m\n"
     ]
    },
    {
     "name": "stdout",
     "output_type": "stream",
     "text": [
      "s1 = 1.20; s3 = 1.20; Δ1 = 1.83Γ; Δ3 = 2.61Γ\n",
      "Survival: 13 / 20\n",
      "goodness = 2.820\n"
     ]
    },
    {
     "name": "stderr",
     "output_type": "stream",
     "text": [
      "\u001b[32mProgress: 100%|█████████████████████████████████████████| Time: 0:00:54\u001b[39m\n"
     ]
    },
    {
     "name": "stdout",
     "output_type": "stream",
     "text": [
      "s1 = 3.45; s3 = 3.45; Δ1 = 0.58Γ; Δ3 = 1.36Γ\n",
      "Survival: 4 / 20\n",
      "goodness = 0.043\n"
     ]
    },
    {
     "name": "stderr",
     "output_type": "stream",
     "text": [
      "\u001b[32mProgress: 100%|█████████████████████████████████████████| Time: 0:01:09\u001b[39m\n"
     ]
    },
    {
     "name": "stdout",
     "output_type": "stream",
     "text": [
      "s1 = 4.58; s3 = 2.33; Δ1 = 2.45Γ; Δ3 = 1.98Γ\n",
      "Survival: 20 / 20\n",
      "goodness = 1.815\n"
     ]
    },
    {
     "name": "stderr",
     "output_type": "stream",
     "text": [
      "\u001b[32mProgress: 100%|█████████████████████████████████████████| Time: 0:01:09\u001b[39m\n"
     ]
    },
    {
     "name": "stdout",
     "output_type": "stream",
     "text": [
      "s1 = 2.33; s3 = 4.58; Δ1 = 1.20Γ; Δ3 = 0.73Γ\n",
      "Survival: 18 / 20\n",
      "goodness = 3.067\n"
     ]
    },
    {
     "name": "stderr",
     "output_type": "stream",
     "text": [
      "\u001b[32mProgress: 100%|█████████████████████████████████████████| Time: 0:00:55\u001b[39m\n"
     ]
    },
    {
     "name": "stdout",
     "output_type": "stream",
     "text": [
      "s1 = 1.77; s3 = 1.77; Δ1 = 0.89Γ; Δ3 = 1.05Γ\n",
      "Survival: 9 / 20\n",
      "goodness = 0.087\n"
     ]
    },
    {
     "name": "stderr",
     "output_type": "stream",
     "text": [
      "\u001b[32mProgress: 100%|█████████████████████████████████████████| Time: 0:01:09\u001b[39m\n"
     ]
    },
    {
     "name": "stdout",
     "output_type": "stream",
     "text": [
      "s1 = 4.02; s3 = 4.02; Δ1 = 2.14Γ; Δ3 = 2.30Γ\n",
      "Survival: 20 / 20\n",
      "goodness = 0.109\n"
     ]
    },
    {
     "name": "stderr",
     "output_type": "stream",
     "text": [
      "\u001b[32mProgress: 100%|█████████████████████████████████████████| Time: 0:01:11\u001b[39m\n"
     ]
    },
    {
     "name": "stdout",
     "output_type": "stream",
     "text": [
      "s1 = 2.89; s3 = 0.64; Δ1 = 1.52Γ; Δ3 = 1.67Γ\n",
      "Survival: 14 / 20\n",
      "goodness = 1.925\n"
     ]
    },
    {
     "name": "stderr",
     "output_type": "stream",
     "text": [
      "\u001b[32mProgress: 100%|█████████████████████████████████████████| Time: 0:00:54\u001b[39m\n"
     ]
    },
    {
     "name": "stdout",
     "output_type": "stream",
     "text": [
      "s1 = 0.64; s3 = 2.89; Δ1 = 2.77Γ; Δ3 = 2.92Γ\n",
      "Survival: 4 / 20\n",
      "goodness = 0.220\n"
     ]
    },
    {
     "name": "stderr",
     "output_type": "stream",
     "text": [
      "\u001b[32mProgress: 100%|█████████████████████████████████████████| Time: 0:00:53\u001b[39m\n"
     ]
    },
    {
     "name": "stdout",
     "output_type": "stream",
     "text": [
      "s1 = 0.71; s3 = 1.70; Δ1 = 2.26Γ; Δ3 = 1.87Γ\n",
      "Survival: 17 / 20\n",
      "goodness = 23.648\n"
     ]
    },
    {
     "name": "stderr",
     "output_type": "stream",
     "text": [
      "\u001b[32mProgress: 100%|█████████████████████████████████████████| Time: 0:01:02\u001b[39m\n"
     ]
    },
    {
     "name": "stdout",
     "output_type": "stream",
     "text": [
      "s1 = 2.96; s3 = 3.95; Δ1 = 1.01Γ; Δ3 = 0.62Γ\n",
      "Survival: 14 / 20\n",
      "goodness = 1.582\n"
     ]
    },
    {
     "name": "stderr",
     "output_type": "stream",
     "text": [
      "\u001b[32mProgress: 100%|█████████████████████████████████████████| Time: 0:01:11\u001b[39m\n"
     ]
    },
    {
     "name": "stdout",
     "output_type": "stream",
     "text": [
      "s1 = 4.09; s3 = 0.57; Δ1 = 2.88Γ; Δ3 = 2.49Γ\n",
      "Survival: 20 / 20\n",
      "goodness = 1.566\n"
     ]
    },
    {
     "name": "stderr",
     "output_type": "stream",
     "text": [
      "\u001b[32mProgress: 100%|█████████████████████████████████████████| Time: 0:01:11\u001b[39m\n",
      "\u001b[36m\u001b[1m[ \u001b[22m\u001b[39m\u001b[36m\u001b[1mInfo: \u001b[22m\u001b[39m2023-11-16T12:28:58.901\titeration: 20\tcurrent optimum: 23.647737009668234\n"
     ]
    },
    {
     "name": "stdout",
     "output_type": "stream",
     "text": [
      "s1 = 1.84; s3 = 2.82; Δ1 = 1.63Γ; Δ3 = 1.24Γ\n",
      "Survival: 20 / 20\n",
      "goodness = 5.695\n"
     ]
    },
    {
     "name": "stderr",
     "output_type": "stream",
     "text": [
      "\u001b[32mProgress: 100%|█████████████████████████████████████████| Time: 0:00:37\u001b[39m\n",
      "\u001b[36m\u001b[1m[ \u001b[22m\u001b[39m\u001b[36m\u001b[1mInfo: \u001b[22m\u001b[39m2023-11-16T12:29:36.904\titeration: 21\tcurrent optimum: 23.647737009668234\n"
     ]
    },
    {
     "name": "stdout",
     "output_type": "stream",
     "text": [
      "s1 = 0.50; s3 = 5.00; Δ1 = 2.34Γ; Δ3 = 3.00Γ\n",
      "Survival: 1 / 20\n",
      "goodness = 0.000\n"
     ]
    },
    {
     "name": "stderr",
     "output_type": "stream",
     "text": [
      "\u001b[32mProgress: 100%|█████████████████████████████████████████| Time: 0:01:03\u001b[39m\n",
      "\u001b[36m\u001b[1m[ \u001b[22m\u001b[39m\u001b[36m\u001b[1mInfo: \u001b[22m\u001b[39m2023-11-16T12:30:40.183\titeration: 22\tcurrent optimum: 23.647737009668234\n"
     ]
    },
    {
     "name": "stdout",
     "output_type": "stream",
     "text": [
      "s1 = 0.65; s3 = 0.72; Δ1 = 1.19Γ; Δ3 = 2.34Γ\n",
      "Survival: 8 / 20\n",
      "goodness = 8.365\n"
     ]
    },
    {
     "name": "stderr",
     "output_type": "stream",
     "text": [
      "\u001b[32mProgress: 100%|█████████████████████████████████████████| Time: 0:01:16\u001b[39m\n",
      "\u001b[36m\u001b[1m[ \u001b[22m\u001b[39m\u001b[36m\u001b[1mInfo: \u001b[22m\u001b[39m2023-11-16T12:31:57.210\titeration: 23\tcurrent optimum: 23.647737009668234\n"
     ]
    },
    {
     "name": "stdout",
     "output_type": "stream",
     "text": [
      "s1 = 5.00; s3 = 1.80; Δ1 = 2.24Γ; Δ3 = 0.50Γ\n",
      "Survival: 20 / 20\n",
      "goodness = 1.297\n"
     ]
    },
    {
     "name": "stderr",
     "output_type": "stream",
     "text": [
      "\u001b[32mProgress: 100%|█████████████████████████████████████████| Time: 0:00:48\u001b[39m\n",
      "\u001b[36m\u001b[1m[ \u001b[22m\u001b[39m\u001b[36m\u001b[1mInfo: \u001b[22m\u001b[39m2023-11-16T12:32:46.080\titeration: 24\tcurrent optimum: 23.647737009668234\n"
     ]
    },
    {
     "name": "stdout",
     "output_type": "stream",
     "text": [
      "s1 = 0.50; s3 = 1.39; Δ1 = 1.27Γ; Δ3 = 2.35Γ\n",
      "Survival: 5 / 20\n",
      "goodness = 7.724\n"
     ]
    },
    {
     "name": "stderr",
     "output_type": "stream",
     "text": [
      "\u001b[32mProgress: 100%|█████████████████████████████████████████| Time: 0:00:57\u001b[39m\n",
      "\u001b[36m\u001b[1m[ \u001b[22m\u001b[39m\u001b[36m\u001b[1mInfo: \u001b[22m\u001b[39m2023-11-16T12:33:43.163\titeration: 25\tcurrent optimum: 23.647737009668234\n"
     ]
    },
    {
     "name": "stdout",
     "output_type": "stream",
     "text": [
      "s1 = 0.82; s3 = 0.97; Δ1 = 2.24Γ; Δ3 = 0.50Γ\n",
      "Survival: 5 / 20\n",
      "goodness = 1.133\n"
     ]
    },
    {
     "name": "stderr",
     "output_type": "stream",
     "text": [
      "\u001b[32mProgress: 100%|█████████████████████████████████████████| Time: 0:00:35\u001b[39m\n",
      "\u001b[36m\u001b[1m[ \u001b[22m\u001b[39m\u001b[36m\u001b[1mInfo: \u001b[22m\u001b[39m2023-11-16T12:34:18.350\titeration: 26\tcurrent optimum: 23.647737009668234\n"
     ]
    },
    {
     "name": "stdout",
     "output_type": "stream",
     "text": [
      "s1 = 0.50; s3 = 1.74; Δ1 = 2.19Γ; Δ3 = 0.50Γ\n",
      "Survival: 1 / 20\n",
      "goodness = 0.000\n"
     ]
    },
    {
     "name": "stderr",
     "output_type": "stream",
     "text": [
      "\u001b[32mProgress: 100%|█████████████████████████████████████████| Time: 0:01:15\u001b[39m\n",
      "\u001b[36m\u001b[1m[ \u001b[22m\u001b[39m\u001b[36m\u001b[1mInfo: \u001b[22m\u001b[39m2023-11-16T12:35:34.172\titeration: 27\tcurrent optimum: 23.647737009668234\n"
     ]
    },
    {
     "name": "stdout",
     "output_type": "stream",
     "text": [
      "s1 = 2.03; s3 = 4.07; Δ1 = 1.35Γ; Δ3 = 1.02Γ\n",
      "Survival: 18 / 20\n",
      "goodness = 3.991\n"
     ]
    },
    {
     "name": "stderr",
     "output_type": "stream",
     "text": [
      "\u001b[32mProgress: 100%|█████████████████████████████████████████| Time: 0:00:50\u001b[39m\n",
      "\u001b[36m\u001b[1m[ \u001b[22m\u001b[39m\u001b[36m\u001b[1mInfo: \u001b[22m\u001b[39m2023-11-16T12:36:24.669\titeration: 28\tcurrent optimum: 23.647737009668234\n"
     ]
    },
    {
     "name": "stdout",
     "output_type": "stream",
     "text": [
      "s1 = 1.77; s3 = 1.10; Δ1 = 0.52Γ; Δ3 = 2.64Γ\n",
      "Survival: 3 / 20\n",
      "goodness = 2.511\n"
     ]
    },
    {
     "name": "stderr",
     "output_type": "stream",
     "text": [
      "\u001b[32mProgress: 100%|█████████████████████████████████████████| Time: 0:01:08\u001b[39m\n",
      "\u001b[36m\u001b[1m[ \u001b[22m\u001b[39m\u001b[36m\u001b[1mInfo: \u001b[22m\u001b[39m2023-11-16T12:37:33.218\titeration: 29\tcurrent optimum: 23.647737009668234\n"
     ]
    },
    {
     "name": "stdout",
     "output_type": "stream",
     "text": [
      "s1 = 4.10; s3 = 0.96; Δ1 = 1.51Γ; Δ3 = 1.54Γ\n",
      "Survival: 12 / 20\n",
      "goodness = 1.510\n",
      "s1 = 0.62; s3 = 0.91; Δ1 = 0.97Γ; Δ3 = 1.05Γ\n",
      "Survival: 3 / 20\n",
      "goodness = 1.018\n"
     ]
    },
    {
     "name": "stderr",
     "output_type": "stream",
     "text": [
      "\u001b[32mProgress: 100%|█████████████████████████████████████████| Time: 0:00:50\u001b[39m\n",
      "\u001b[36m\u001b[1m┌ \u001b[22m\u001b[39m\u001b[36m\u001b[1mInfo: \u001b[22m\u001b[39m ────────────────────────────────────────────────────────────────────────────────\n",
      "\u001b[36m\u001b[1m│ \u001b[22m\u001b[39m                                        Time                    Allocations      \n",
      "\u001b[36m\u001b[1m│ \u001b[22m\u001b[39m                               ───────────────────────   ────────────────────────\n",
      "\u001b[36m\u001b[1m│ \u001b[22m\u001b[39m       Tot / % measured:            1864s / 100.0%            711MiB / 100.0%    \n",
      "\u001b[36m\u001b[1m│ \u001b[22m\u001b[39m\n",
      "\u001b[36m\u001b[1m│ \u001b[22m\u001b[39m Section               ncalls     time    %tot     avg     alloc    %tot      avg\n",
      "\u001b[36m\u001b[1m│ \u001b[22m\u001b[39m ────────────────────────────────────────────────────────────────────────────────\n",
      "\u001b[36m\u001b[1m│ \u001b[22m\u001b[39m function evaluation       30    1864s  100.0%   62.1s    703MiB   98.8%  23.4MiB\n",
      "\u001b[36m\u001b[1m│ \u001b[22m\u001b[39m model hyperparamet...     11   18.8ms    0.0%  1.71ms   3.33MiB    0.5%   310KiB\n",
      "\u001b[36m\u001b[1m│ \u001b[22m\u001b[39m acquisition               11   5.31ms    0.0%   482μs   4.99MiB    0.7%   465KiB\n",
      "\u001b[36m\u001b[1m│ \u001b[22m\u001b[39m model update              11    653μs    0.0%  59.4μs   49.4KiB    0.0%  4.49KiB\n",
      "\u001b[36m\u001b[1m└ \u001b[22m\u001b[39m ────────────────────────────────────────────────────────────────────────────────\n",
      "\u001b[36m\u001b[1m[ \u001b[22m\u001b[39m\u001b[36m\u001b[1mInfo: \u001b[22m\u001b[39m2023-11-16T12:38:23.666\titeration: 30\tcurrent optimum: 23.647737009668234\n"
     ]
    },
    {
     "name": "stdout",
     "output_type": "stream",
     "text": [
      "===== Autosaved =====\n"
     ]
    },
    {
     "name": "stderr",
     "output_type": "stream",
     "text": [
      "\u001b[32mProgress: 100%|█████████████████████████████████████████| Time: 0:01:08\u001b[39m\n",
      "\u001b[36m\u001b[1m[ \u001b[22m\u001b[39m\u001b[36m\u001b[1mInfo: \u001b[22m\u001b[39m2023-11-16T12:39:32.585\titeration: 31\tcurrent optimum: 23.647737009668234\n"
     ]
    },
    {
     "name": "stdout",
     "output_type": "stream",
     "text": [
      "s1 = 3.98; s3 = 3.60; Δ1 = 2.63Γ; Δ3 = 1.05Γ\n",
      "Survival: 20 / 20\n",
      "goodness = 0.646\n"
     ]
    },
    {
     "name": "stderr",
     "output_type": "stream",
     "text": [
      "\u001b[32mProgress: 100%|█████████████████████████████████████████| Time: 0:01:10\u001b[39m\n",
      "\u001b[36m\u001b[1m[ \u001b[22m\u001b[39m\u001b[36m\u001b[1mInfo: \u001b[22m\u001b[39m2023-11-16T12:40:42.750\titeration: 32\tcurrent optimum: 23.647737009668234\n"
     ]
    },
    {
     "name": "stdout",
     "output_type": "stream",
     "text": [
      "s1 = 2.07; s3 = 1.24; Δ1 = 1.45Γ; Δ3 = 2.60Γ\n",
      "Survival: 11 / 20\n",
      "goodness = 4.349\n"
     ]
    },
    {
     "name": "stderr",
     "output_type": "stream",
     "text": [
      "\u001b[32mProgress: 100%|█████████████████████████████████████████| Time: 0:01:08\u001b[39m\n",
      "\u001b[36m\u001b[1m[ \u001b[22m\u001b[39m\u001b[36m\u001b[1mInfo: \u001b[22m\u001b[39m2023-11-16T12:41:51.744\titeration: 33\tcurrent optimum: 23.647737009668234\n"
     ]
    },
    {
     "name": "stdout",
     "output_type": "stream",
     "text": [
      "s1 = 4.42; s3 = 2.70; Δ1 = 2.93Γ; Δ3 = 1.07Γ\n",
      "Survival: 20 / 20\n",
      "goodness = 0.554\n"
     ]
    },
    {
     "name": "stderr",
     "output_type": "stream",
     "text": [
      "\u001b[32mProgress: 100%|█████████████████████████████████████████| Time: 0:00:44\u001b[39m\n",
      "\u001b[36m\u001b[1m[ \u001b[22m\u001b[39m\u001b[36m\u001b[1mInfo: \u001b[22m\u001b[39m2023-11-16T12:42:36.482\titeration: 34\tcurrent optimum: 23.647737009668234\n"
     ]
    },
    {
     "name": "stdout",
     "output_type": "stream",
     "text": [
      "s1 = 0.68; s3 = 0.53; Δ1 = 0.72Γ; Δ3 = 0.77Γ\n",
      "Survival: 2 / 20\n",
      "goodness = 0.271\n"
     ]
    },
    {
     "name": "stderr",
     "output_type": "stream",
     "text": [
      "\u001b[32mProgress: 100%|█████████████████████████████████████████| Time: 0:00:44\u001b[39m\n",
      "\u001b[36m\u001b[1m[ \u001b[22m\u001b[39m\u001b[36m\u001b[1mInfo: \u001b[22m\u001b[39m2023-11-16T12:43:20.787\titeration: 35\tcurrent optimum: 23.647737009668234\n"
     ]
    },
    {
     "name": "stdout",
     "output_type": "stream",
     "text": [
      "s1 = 0.77; s3 = 4.29; Δ1 = 0.97Γ; Δ3 = 0.96Γ\n",
      "Survival: 7 / 20\n",
      "goodness = 0.164\n"
     ]
    },
    {
     "name": "stderr",
     "output_type": "stream",
     "text": [
      "\u001b[32mProgress: 100%|█████████████████████████████████████████| Time: 0:00:51\u001b[39m\n",
      "\u001b[36m\u001b[1m[ \u001b[22m\u001b[39m\u001b[36m\u001b[1mInfo: \u001b[22m\u001b[39m2023-11-16T12:44:11.947\titeration: 36\tcurrent optimum: 23.647737009668234\n"
     ]
    },
    {
     "name": "stdout",
     "output_type": "stream",
     "text": [
      "s1 = 1.65; s3 = 4.55; Δ1 = 1.44Γ; Δ3 = 2.26Γ\n",
      "Survival: 10 / 20\n",
      "goodness = 1.203\n"
     ]
    },
    {
     "name": "stderr",
     "output_type": "stream",
     "text": [
      "\u001b[32mProgress: 100%|█████████████████████████████████████████| Time: 0:00:41\u001b[39m\n",
      "\u001b[36m\u001b[1m[ \u001b[22m\u001b[39m\u001b[36m\u001b[1mInfo: \u001b[22m\u001b[39m2023-11-16T12:44:53.880\titeration: 37\tcurrent optimum: 23.647737009668234\n"
     ]
    },
    {
     "name": "stdout",
     "output_type": "stream",
     "text": [
      "s1 = 1.75; s3 = 4.25; Δ1 = 0.52Γ; Δ3 = 1.00Γ\n",
      "Survival: 2 / 20\n",
      "goodness = 0.026\n"
     ]
    },
    {
     "name": "stderr",
     "output_type": "stream",
     "text": [
      "\u001b[32mProgress: 100%|█████████████████████████████████████████| Time: 0:01:08\u001b[39m\n",
      "\u001b[36m\u001b[1m[ \u001b[22m\u001b[39m\u001b[36m\u001b[1mInfo: \u001b[22m\u001b[39m2023-11-16T12:46:02.344\titeration: 38\tcurrent optimum: 23.647737009668234\n"
     ]
    },
    {
     "name": "stdout",
     "output_type": "stream",
     "text": [
      "s1 = 2.80; s3 = 0.77; Δ1 = 1.73Γ; Δ3 = 2.78Γ\n",
      "Survival: 14 / 20\n",
      "goodness = 5.046\n"
     ]
    },
    {
     "name": "stderr",
     "output_type": "stream",
     "text": [
      "\u001b[32mProgress: 100%|█████████████████████████████████████████| Time: 0:01:04\u001b[39m\n",
      "\u001b[36m\u001b[1m[ \u001b[22m\u001b[39m\u001b[36m\u001b[1mInfo: \u001b[22m\u001b[39m2023-11-16T12:47:07.028\titeration: 39\tcurrent optimum: 23.647737009668234\n"
     ]
    },
    {
     "name": "stdout",
     "output_type": "stream",
     "text": [
      "s1 = 3.35; s3 = 2.03; Δ1 = 2.42Γ; Δ3 = 2.94Γ\n",
      "Survival: 17 / 20\n",
      "goodness = 4.593\n"
     ]
    },
    {
     "name": "stderr",
     "output_type": "stream",
     "text": [
      "\u001b[32mProgress: 100%|█████████████████████████████████████████| Time: 0:01:14\u001b[39m\n",
      "\u001b[36m\u001b[1m[ \u001b[22m\u001b[39m\u001b[36m\u001b[1mInfo: \u001b[22m\u001b[39m2023-11-16T12:48:21.553\titeration: 40\tcurrent optimum: 23.647737009668234\n"
     ]
    },
    {
     "name": "stdout",
     "output_type": "stream",
     "text": [
      "s1 = 1.42; s3 = 1.39; Δ1 = 2.83Γ; Δ3 = 1.58Γ\n",
      "Survival: 18 / 20\n",
      "goodness = 0.497\n"
     ]
    },
    {
     "name": "stderr",
     "output_type": "stream",
     "text": [
      "\u001b[32mProgress: 100%|█████████████████████████████████████████| Time: 0:01:13\u001b[39m\n"
     ]
    },
    {
     "name": "stdout",
     "output_type": "stream",
     "text": [
      "s1 = 4.95; s3 = 3.60; Δ1 = 0.78Γ; Δ3 = 1.20Γ\n",
      "Survival: 15 / 20\n",
      "goodness = 0.143\n"
     ]
    },
    {
     "name": "stderr",
     "output_type": "stream",
     "text": [
      "\u001b[36m\u001b[1m[ \u001b[22m\u001b[39m\u001b[36m\u001b[1mInfo: \u001b[22m\u001b[39m2023-11-16T12:49:35.272\titeration: 41\tcurrent optimum: 23.647737009668234\n",
      "\u001b[32mProgress: 100%|█████████████████████████████████████████| Time: 0:01:18\u001b[39m\n",
      "\u001b[36m\u001b[1m[ \u001b[22m\u001b[39m\u001b[36m\u001b[1mInfo: \u001b[22m\u001b[39m2023-11-16T12:50:54.076\titeration: 42\tcurrent optimum: 23.647737009668234\n"
     ]
    },
    {
     "name": "stdout",
     "output_type": "stream",
     "text": [
      "s1 = 4.59; s3 = 4.21; Δ1 = 1.71Γ; Δ3 = 2.64Γ\n",
      "Survival: 15 / 20\n",
      "goodness = 0.000\n"
     ]
    },
    {
     "name": "stderr",
     "output_type": "stream",
     "text": [
      "\u001b[32mProgress: 100%|█████████████████████████████████████████| Time: 0:01:04\u001b[39m\n",
      "\u001b[36m\u001b[1m[ \u001b[22m\u001b[39m\u001b[36m\u001b[1mInfo: \u001b[22m\u001b[39m2023-11-16T12:51:58.108\titeration: 43\tcurrent optimum: 23.647737009668234\n"
     ]
    },
    {
     "name": "stdout",
     "output_type": "stream",
     "text": [
      "s1 = 3.25; s3 = 3.82; Δ1 = 0.86Γ; Δ3 = 2.71Γ\n",
      "Survival: 19 / 20\n",
      "goodness = 1.626\n"
     ]
    },
    {
     "name": "stderr",
     "output_type": "stream",
     "text": [
      "\u001b[32mProgress: 100%|█████████████████████████████████████████| Time: 0:01:13\u001b[39m\n",
      "\u001b[36m\u001b[1m[ \u001b[22m\u001b[39m\u001b[36m\u001b[1mInfo: \u001b[22m\u001b[39m2023-11-16T12:53:11.608\titeration: 44\tcurrent optimum: 23.647737009668234\n"
     ]
    },
    {
     "name": "stdout",
     "output_type": "stream",
     "text": [
      "s1 = 4.28; s3 = 4.89; Δ1 = 1.19Γ; Δ3 = 1.59Γ\n",
      "Survival: 19 / 20\n",
      "goodness = 0.046\n"
     ]
    },
    {
     "name": "stderr",
     "output_type": "stream",
     "text": [
      "\u001b[32mProgress: 100%|█████████████████████████████████████████| Time: 0:01:01\u001b[39m\n",
      "\u001b[36m\u001b[1m[ \u001b[22m\u001b[39m\u001b[36m\u001b[1mInfo: \u001b[22m\u001b[39m2023-11-16T12:54:13.055\titeration: 45\tcurrent optimum: 23.647737009668234\n"
     ]
    },
    {
     "name": "stdout",
     "output_type": "stream",
     "text": [
      "s1 = 1.89; s3 = 3.08; Δ1 = 1.18Γ; Δ3 = 2.69Γ\n",
      "Survival: 12 / 20\n",
      "goodness = 1.199\n"
     ]
    },
    {
     "name": "stderr",
     "output_type": "stream",
     "text": [
      "\u001b[32mProgress: 100%|█████████████████████████████████████████| Time: 0:01:03\u001b[39m\n",
      "\u001b[36m\u001b[1m[ \u001b[22m\u001b[39m\u001b[36m\u001b[1mInfo: \u001b[22m\u001b[39m2023-11-16T12:55:16.338\titeration: 46\tcurrent optimum: 23.647737009668234\n"
     ]
    },
    {
     "name": "stdout",
     "output_type": "stream",
     "text": [
      "s1 = 1.91; s3 = 4.18; Δ1 = 2.48Γ; Δ3 = 1.12Γ\n",
      "Survival: 14 / 20\n",
      "goodness = 2.543\n"
     ]
    },
    {
     "name": "stderr",
     "output_type": "stream",
     "text": [
      "\u001b[32mProgress: 100%|█████████████████████████████████████████| Time: 0:00:30\u001b[39m\n",
      "\u001b[36m\u001b[1m[ \u001b[22m\u001b[39m\u001b[36m\u001b[1mInfo: \u001b[22m\u001b[39m2023-11-16T12:55:46.939\titeration: 47\tcurrent optimum: 23.647737009668234\n"
     ]
    },
    {
     "name": "stdout",
     "output_type": "stream",
     "text": [
      "s1 = 0.55; s3 = 2.21; Δ1 = 0.69Γ; Δ3 = 1.17Γ\n",
      "Survival: 0 / 20\n",
      "goodness = 0.000\n"
     ]
    },
    {
     "name": "stderr",
     "output_type": "stream",
     "text": [
      "\u001b[32mProgress: 100%|█████████████████████████████████████████| Time: 0:01:06\u001b[39m\n",
      "\u001b[36m\u001b[1m[ \u001b[22m\u001b[39m\u001b[36m\u001b[1mInfo: \u001b[22m\u001b[39m2023-11-16T12:56:53.489\titeration: 48\tcurrent optimum: 23.647737009668234\n"
     ]
    },
    {
     "name": "stdout",
     "output_type": "stream",
     "text": [
      "s1 = 4.28; s3 = 3.49; Δ1 = 2.22Γ; Δ3 = 2.29Γ\n",
      "Survival: 20 / 20\n",
      "goodness = 1.198\n"
     ]
    },
    {
     "name": "stderr",
     "output_type": "stream",
     "text": [
      "\u001b[32mProgress: 100%|█████████████████████████████████████████| Time: 0:01:04\u001b[39m\n",
      "\u001b[36m\u001b[1m[ \u001b[22m\u001b[39m\u001b[36m\u001b[1mInfo: \u001b[22m\u001b[39m2023-11-16T12:57:57.897\titeration: 49\tcurrent optimum: 23.647737009668234\n"
     ]
    },
    {
     "name": "stdout",
     "output_type": "stream",
     "text": [
      "s1 = 4.02; s3 = 1.21; Δ1 = 2.61Γ; Δ3 = 2.88Γ\n",
      "Survival: 20 / 20\n",
      "goodness = 1.341\n"
     ]
    },
    {
     "name": "stderr",
     "output_type": "stream",
     "text": [
      "\u001b[32mProgress: 100%|█████████████████████████████████████████| Time: 0:01:08\u001b[39m\n",
      "\u001b[36m\u001b[1m[ \u001b[22m\u001b[39m\u001b[36m\u001b[1mInfo: \u001b[22m\u001b[39m2023-11-16T12:59:06.242\titeration: 50\tcurrent optimum: 23.647737009668234\n"
     ]
    },
    {
     "name": "stdout",
     "output_type": "stream",
     "text": [
      "s1 = 2.26; s3 = 2.25; Δ1 = 2.85Γ; Δ3 = 1.16Γ\n",
      "Survival: 20 / 20\n",
      "goodness = 2.568\n"
     ]
    },
    {
     "name": "stderr",
     "output_type": "stream",
     "text": [
      "\u001b[32mProgress: 100%|█████████████████████████████████████████| Time: 0:01:08\u001b[39m\n"
     ]
    },
    {
     "name": "stdout",
     "output_type": "stream",
     "text": [
      "s1 = 1.93; s3 = 2.84; Δ1 = 1.65Γ; Δ3 = 2.72Γ\n",
      "Survival: 17 / 20\n",
      "goodness = 2.444\n"
     ]
    },
    {
     "name": "stderr",
     "output_type": "stream",
     "text": [
      "\u001b[36m\u001b[1m[ \u001b[22m\u001b[39m\u001b[36m\u001b[1mInfo: \u001b[22m\u001b[39m2023-11-16T13:00:14.711\titeration: 51\tcurrent optimum: 23.647737009668234\n",
      "\u001b[32mProgress: 100%|█████████████████████████████████████████| Time: 0:01:01\u001b[39m\n",
      "\u001b[36m\u001b[1m[ \u001b[22m\u001b[39m\u001b[36m\u001b[1mInfo: \u001b[22m\u001b[39m2023-11-16T13:01:16.096\titeration: 52\tcurrent optimum: 23.647737009668234\n"
     ]
    },
    {
     "name": "stdout",
     "output_type": "stream",
     "text": [
      "s1 = 1.59; s3 = 2.83; Δ1 = 1.42Γ; Δ3 = 2.20Γ\n",
      "Survival: 15 / 20\n",
      "goodness = 4.310\n"
     ]
    },
    {
     "name": "stderr",
     "output_type": "stream",
     "text": [
      "\u001b[32mProgress: 100%|█████████████████████████████████████████| Time: 0:00:57\u001b[39m\n",
      "\u001b[36m\u001b[1m[ \u001b[22m\u001b[39m\u001b[36m\u001b[1mInfo: \u001b[22m\u001b[39m2023-11-16T13:02:14.096\titeration: 53\tcurrent optimum: 23.647737009668234\n"
     ]
    },
    {
     "name": "stdout",
     "output_type": "stream",
     "text": [
      "s1 = 3.53; s3 = 3.57; Δ1 = 1.67Γ; Δ3 = 2.02Γ\n",
      "Survival: 20 / 20\n",
      "goodness = 1.611\n"
     ]
    },
    {
     "name": "stderr",
     "output_type": "stream",
     "text": [
      "\u001b[32mProgress: 100%|█████████████████████████████████████████| Time: 0:01:11\u001b[39m\n",
      "\u001b[36m\u001b[1m[ \u001b[22m\u001b[39m\u001b[36m\u001b[1mInfo: \u001b[22m\u001b[39m2023-11-16T13:03:25.372\titeration: 54\tcurrent optimum: 23.647737009668234\n"
     ]
    },
    {
     "name": "stdout",
     "output_type": "stream",
     "text": [
      "s1 = 1.79; s3 = 4.21; Δ1 = 1.58Γ; Δ3 = 2.69Γ\n",
      "Survival: 15 / 20\n",
      "goodness = 0.522\n"
     ]
    },
    {
     "name": "stderr",
     "output_type": "stream",
     "text": [
      "\u001b[32mProgress: 100%|█████████████████████████████████████████| Time: 0:01:03\u001b[39m\n",
      "\u001b[36m\u001b[1m[ \u001b[22m\u001b[39m\u001b[36m\u001b[1mInfo: \u001b[22m\u001b[39m2023-11-16T13:04:29.256\titeration: 55\tcurrent optimum: 23.647737009668234\n"
     ]
    },
    {
     "name": "stdout",
     "output_type": "stream",
     "text": [
      "s1 = 1.27; s3 = 1.97; Δ1 = 1.30Γ; Δ3 = 1.38Γ\n",
      "Survival: 12 / 20\n",
      "goodness = 0.722\n"
     ]
    },
    {
     "name": "stderr",
     "output_type": "stream",
     "text": [
      "\u001b[32mProgress: 100%|█████████████████████████████████████████| Time: 0:01:52\u001b[39m\n"
     ]
    },
    {
     "name": "stdout",
     "output_type": "stream",
     "text": [
      "s1 = 3.74; s3 = 1.07; Δ1 = 2.11Γ; Δ3 = 0.58Γ\n",
      "Survival: 18 / 20"
     ]
    },
    {
     "name": "stderr",
     "output_type": "stream",
     "text": [
      "\u001b[36m\u001b[1m[ \u001b[22m\u001b[39m\u001b[36m\u001b[1mInfo: \u001b[22m\u001b[39m2023-11-16T13:06:21.499\titeration: 56\tcurrent optimum: 23.647737009668234\n"
     ]
    },
    {
     "name": "stdout",
     "output_type": "stream",
     "text": [
      "\n",
      "goodness = 1.344\n"
     ]
    },
    {
     "name": "stderr",
     "output_type": "stream",
     "text": [
      "\u001b[32mProgress: 100%|█████████████████████████████████████████| Time: 0:00:53\u001b[39m\n",
      "\u001b[36m\u001b[1m[ \u001b[22m\u001b[39m\u001b[36m\u001b[1mInfo: \u001b[22m\u001b[39m2023-11-16T13:07:14.615\titeration: 57\tcurrent optimum: 23.647737009668234\n"
     ]
    },
    {
     "name": "stdout",
     "output_type": "stream",
     "text": [
      "s1 = 3.49; s3 = 3.44; Δ1 = 0.88Γ; Δ3 = 2.02Γ\n",
      "Survival: 8 / 20\n",
      "goodness = 0.364\n"
     ]
    },
    {
     "name": "stderr",
     "output_type": "stream",
     "text": [
      "\u001b[32mProgress: 100%|█████████████████████████████████████████| Time: 0:01:53\u001b[39m\n"
     ]
    },
    {
     "name": "stdout",
     "output_type": "stream",
     "text": [
      "s1 = 4.25; s3 = 2.25; Δ1 = 2.39Γ; Δ3 = 1.46Γ\n",
      "Survival: 20 / 20\n",
      "goodness = 0.716\n"
     ]
    },
    {
     "name": "stderr",
     "output_type": "stream",
     "text": [
      "\u001b[36m\u001b[1m[ \u001b[22m\u001b[39m\u001b[36m\u001b[1mInfo: \u001b[22m\u001b[39m2023-11-16T13:09:08.830\titeration: 58\tcurrent optimum: 23.647737009668234\n",
      "\u001b[32mProgress: 100%|█████████████████████████████████████████| Time: 0:01:18\u001b[39m\n",
      "\u001b[36m\u001b[1m[ \u001b[22m\u001b[39m\u001b[36m\u001b[1mInfo: \u001b[22m\u001b[39m2023-11-16T13:10:27.534\titeration: 59\tcurrent optimum: 23.647737009668234\n"
     ]
    },
    {
     "name": "stdout",
     "output_type": "stream",
     "text": [
      "s1 = 3.07; s3 = 1.07; Δ1 = 1.90Γ; Δ3 = 1.53Γ\n",
      "Survival: 20 / 20\n",
      "goodness = 1.358\n"
     ]
    },
    {
     "name": "stderr",
     "output_type": "stream",
     "text": [
      "\u001b[32mProgress: 100%|█████████████████████████████████████████| Time: 0:01:43\u001b[39m\n"
     ]
    },
    {
     "name": "stdout",
     "output_type": "stream",
     "text": [
      "s1 = 1.18; s3 = 2.42; Δ1 = 1.31Γ; Δ3 = 1.40Γ\n",
      "Survival: 14 / 20\n",
      "goodness = 0.319\n"
     ]
    },
    {
     "name": "stderr",
     "output_type": "stream",
     "text": [
      "\u001b[36m\u001b[1m┌ \u001b[22m\u001b[39m\u001b[36m\u001b[1mInfo: \u001b[22m\u001b[39m ────────────────────────────────────────────────────────────────────────────────\n",
      "\u001b[36m\u001b[1m│ \u001b[22m\u001b[39m                                        Time                    Allocations      \n",
      "\u001b[36m\u001b[1m│ \u001b[22m\u001b[39m                               ───────────────────────   ────────────────────────\n",
      "\u001b[36m\u001b[1m│ \u001b[22m\u001b[39m       Tot / % measured:            2027s / 100.0%            268MiB /  99.9%    \n",
      "\u001b[36m\u001b[1m│ \u001b[22m\u001b[39m\n",
      "\u001b[36m\u001b[1m│ \u001b[22m\u001b[39m Section               ncalls     time    %tot     avg     alloc    %tot      avg\n",
      "\u001b[36m\u001b[1m│ \u001b[22m\u001b[39m ────────────────────────────────────────────────────────────────────────────────\n",
      "\u001b[36m\u001b[1m│ \u001b[22m\u001b[39m function evaluation       30    2027s  100.0%   67.6s    259MiB   96.7%  8.62MiB\n",
      "\u001b[36m\u001b[1m│ \u001b[22m\u001b[39m model hyperparamet...     30    118ms    0.0%  3.94ms   6.80MiB    2.5%   232KiB\n",
      "\u001b[36m\u001b[1m│ \u001b[22m\u001b[39m acquisition               31   3.54ms    0.0%   114μs   1.92MiB    0.7%  63.4KiB\n",
      "\u001b[36m\u001b[1m│ \u001b[22m\u001b[39m model update              30   1.89ms    0.0%  63.1μs    154KiB    0.1%  5.12KiB\n",
      "\u001b[36m\u001b[1m└ \u001b[22m\u001b[39m ────────────────────────────────────────────────────────────────────────────────\n",
      "\u001b[36m\u001b[1m[ \u001b[22m\u001b[39m\u001b[36m\u001b[1mInfo: \u001b[22m\u001b[39m2023-11-16T13:12:11.334\titeration: 60\tcurrent optimum: 23.647737009668234\n"
     ]
    },
    {
     "name": "stdout",
     "output_type": "stream",
     "text": [
      "===== Autosaved =====\n"
     ]
    },
    {
     "name": "stderr",
     "output_type": "stream",
     "text": [
      "\u001b[32mProgress: 100%|█████████████████████████████████████████| Time: 0:01:17\u001b[39m\n",
      "\u001b[36m\u001b[1m[ \u001b[22m\u001b[39m\u001b[36m\u001b[1mInfo: \u001b[22m\u001b[39m2023-11-16T13:13:28.463\titeration: 61\tcurrent optimum: 23.647737009668234\n"
     ]
    },
    {
     "name": "stdout",
     "output_type": "stream",
     "text": [
      "s1 = 2.33; s3 = 4.00; Δ1 = 2.85Γ; Δ3 = 2.14Γ\n",
      "Survival: 20 / 20\n",
      "goodness = 5.491\n"
     ]
    },
    {
     "name": "stderr",
     "output_type": "stream",
     "text": [
      "\u001b[32mProgress: 100%|█████████████████████████████████████████| Time: 0:01:10\u001b[39m\n",
      "\u001b[36m\u001b[1m[ \u001b[22m\u001b[39m\u001b[36m\u001b[1mInfo: \u001b[22m\u001b[39m2023-11-16T13:14:38.949\titeration: 62\tcurrent optimum: 23.647737009668234\n"
     ]
    },
    {
     "name": "stdout",
     "output_type": "stream",
     "text": [
      "s1 = 1.06; s3 = 2.90; Δ1 = 1.22Γ; Δ3 = 0.90Γ\n",
      "Survival: 20 / 20\n",
      "goodness = 4.287\n"
     ]
    },
    {
     "name": "stderr",
     "output_type": "stream",
     "text": [
      "\u001b[32mProgress: 100%|█████████████████████████████████████████| Time: 0:01:34\u001b[39m\n",
      "\u001b[36m\u001b[1m[ \u001b[22m\u001b[39m\u001b[36m\u001b[1mInfo: \u001b[22m\u001b[39m2023-11-16T13:16:13.002\titeration: 63\tcurrent optimum: 23.647737009668234\n"
     ]
    },
    {
     "name": "stdout",
     "output_type": "stream",
     "text": [
      "s1 = 3.71; s3 = 1.68; Δ1 = 0.67Γ; Δ3 = 2.98Γ\n",
      "Survival: 7 / 20\n",
      "goodness = 1.996\n"
     ]
    },
    {
     "name": "stderr",
     "output_type": "stream",
     "text": [
      "\u001b[32mProgress: 100%|█████████████████████████████████████████| Time: 0:01:41\u001b[39m\n",
      "\u001b[36m\u001b[1m[ \u001b[22m\u001b[39m\u001b[36m\u001b[1mInfo: \u001b[22m\u001b[39m2023-11-16T13:17:54.682\titeration: 64\tcurrent optimum: 23.647737009668234\n"
     ]
    },
    {
     "name": "stdout",
     "output_type": "stream",
     "text": [
      "s1 = 2.65; s3 = 2.43; Δ1 = 1.61Γ; Δ3 = 1.94Γ\n",
      "Survival: 20 / 20\n",
      "goodness = 0.182\n"
     ]
    },
    {
     "name": "stderr",
     "output_type": "stream",
     "text": [
      "\u001b[32mProgress: 100%|█████████████████████████████████████████| Time: 0:01:12\u001b[39m\n",
      "\u001b[36m\u001b[1m[ \u001b[22m\u001b[39m\u001b[36m\u001b[1mInfo: \u001b[22m\u001b[39m2023-11-16T13:19:07.292\titeration: 65\tcurrent optimum: 23.647737009668234\n"
     ]
    },
    {
     "name": "stdout",
     "output_type": "stream",
     "text": [
      "s1 = 4.20; s3 = 1.46; Δ1 = 2.72Γ; Δ3 = 2.31Γ\n",
      "Survival: 20 / 20\n",
      "goodness = 1.146\n"
     ]
    },
    {
     "name": "stderr",
     "output_type": "stream",
     "text": [
      "\u001b[32mProgress: 100%|█████████████████████████████████████████| Time: 0:01:13\u001b[39m\n",
      "\u001b[36m\u001b[1m[ \u001b[22m\u001b[39m\u001b[36m\u001b[1mInfo: \u001b[22m\u001b[39m2023-11-16T13:20:21.007\titeration: 66\tcurrent optimum: 23.647737009668234\n"
     ]
    },
    {
     "name": "stdout",
     "output_type": "stream",
     "text": [
      "s1 = 2.42; s3 = 4.96; Δ1 = 2.11Γ; Δ3 = 1.61Γ\n",
      "Survival: 18 / 20\n",
      "goodness = 3.008\n"
     ]
    },
    {
     "name": "stderr",
     "output_type": "stream",
     "text": [
      "\u001b[32mProgress: 100%|█████████████████████████████████████████| Time: 0:01:06\u001b[39m\n"
     ]
    },
    {
     "name": "stdout",
     "output_type": "stream",
     "text": [
      "s1 = 3.95; s3 = 0.78; Δ1 = 1.44Γ; Δ3 = 2.65Γ\n",
      "Survival: 8 / 20\n",
      "goodness = 0.876\n"
     ]
    },
    {
     "name": "stderr",
     "output_type": "stream",
     "text": [
      "\u001b[36m\u001b[1m[ \u001b[22m\u001b[39m\u001b[36m\u001b[1mInfo: \u001b[22m\u001b[39m2023-11-16T13:21:27.242\titeration: 67\tcurrent optimum: 23.647737009668234\n",
      "\u001b[32mProgress: 100%|█████████████████████████████████████████| Time: 0:01:05\u001b[39m\n",
      "\u001b[36m\u001b[1m[ \u001b[22m\u001b[39m\u001b[36m\u001b[1mInfo: \u001b[22m\u001b[39m2023-11-16T13:22:32.649\titeration: 68\tcurrent optimum: 23.647737009668234\n"
     ]
    },
    {
     "name": "stdout",
     "output_type": "stream",
     "text": [
      "s1 = 4.12; s3 = 4.10; Δ1 = 1.07Γ; Δ3 = 2.02Γ\n",
      "Survival: 13 / 20\n",
      "goodness = 0.268\n"
     ]
    },
    {
     "name": "stderr",
     "output_type": "stream",
     "text": [
      "\u001b[32mProgress: 100%|█████████████████████████████████████████| Time: 0:00:59\u001b[39m\n",
      "\u001b[36m\u001b[1m[ \u001b[22m\u001b[39m\u001b[36m\u001b[1mInfo: \u001b[22m\u001b[39m2023-11-16T13:23:31.863\titeration: 69\tcurrent optimum: 23.647737009668234\n"
     ]
    },
    {
     "name": "stdout",
     "output_type": "stream",
     "text": [
      "s1 = 2.40; s3 = 3.36; Δ1 = 2.71Γ; Δ3 = 1.11Γ\n",
      "Survival: 18 / 20\n",
      "goodness = 3.682\n"
     ]
    },
    {
     "name": "stderr",
     "output_type": "stream",
     "text": [
      "\u001b[32mProgress: 100%|█████████████████████████████████████████| Time: 0:00:53\u001b[39m\n",
      "\u001b[36m\u001b[1m[ \u001b[22m\u001b[39m\u001b[36m\u001b[1mInfo: \u001b[22m\u001b[39m2023-11-16T13:24:25.852\titeration: 70\tcurrent optimum: 23.647737009668234\n"
     ]
    },
    {
     "name": "stdout",
     "output_type": "stream",
     "text": [
      "s1 = 2.31; s3 = 2.99; Δ1 = 2.81Γ; Δ3 = 1.17Γ\n",
      "Survival: 17 / 20\n",
      "goodness = 6.297\n"
     ]
    },
    {
     "name": "stderr",
     "output_type": "stream",
     "text": [
      "\u001b[32mProgress: 100%|█████████████████████████████████████████| Time: 0:01:11\u001b[39m\n",
      "\u001b[36m\u001b[1m[ \u001b[22m\u001b[39m\u001b[36m\u001b[1mInfo: \u001b[22m\u001b[39m2023-11-16T13:25:37.340\titeration: 71\tcurrent optimum: 23.647737009668234\n"
     ]
    },
    {
     "name": "stdout",
     "output_type": "stream",
     "text": [
      "s1 = 3.45; s3 = 2.16; Δ1 = 2.14Γ; Δ3 = 1.04Γ\n",
      "Survival: 20 / 20\n",
      "goodness = 1.332\n"
     ]
    },
    {
     "name": "stderr",
     "output_type": "stream",
     "text": [
      "\u001b[32mProgress: 100%|█████████████████████████████████████████| Time: 0:00:49\u001b[39m\n",
      "\u001b[36m\u001b[1m[ \u001b[22m\u001b[39m\u001b[36m\u001b[1mInfo: \u001b[22m\u001b[39m2023-11-16T13:26:27.256\titeration: 72\tcurrent optimum: 23.647737009668234\n"
     ]
    },
    {
     "name": "stdout",
     "output_type": "stream",
     "text": [
      "s1 = 4.22; s3 = 1.36; Δ1 = 0.67Γ; Δ3 = 2.06Γ\n",
      "Survival: 3 / 20\n",
      "goodness = 0.850\n"
     ]
    },
    {
     "name": "stderr",
     "output_type": "stream",
     "text": [
      "\u001b[32mProgress: 100%|█████████████████████████████████████████| Time: 0:01:46\u001b[39m\n",
      "\u001b[36m\u001b[1m[ \u001b[22m\u001b[39m\u001b[36m\u001b[1mInfo: \u001b[22m\u001b[39m2023-11-16T13:28:13.972\titeration: 73\tcurrent optimum: 23.647737009668234\n"
     ]
    },
    {
     "name": "stdout",
     "output_type": "stream",
     "text": [
      "s1 = 4.77; s3 = 4.61; Δ1 = 2.80Γ; Δ3 = 2.25Γ\n",
      "Survival: 20 / 20\n",
      "goodness = 3.612\n"
     ]
    },
    {
     "name": "stderr",
     "output_type": "stream",
     "text": [
      "\u001b[32mProgress: 100%|█████████████████████████████████████████| Time: 0:01:26\u001b[39m\n"
     ]
    },
    {
     "name": "stdout",
     "output_type": "stream",
     "text": [
      "s1 = 2.35; s3 = 4.86; Δ1 = 1.38Γ; Δ3 = 0.88Γ\n",
      "Survival: 18 / 20\n",
      "goodness = 2.166\n"
     ]
    },
    {
     "name": "stderr",
     "output_type": "stream",
     "text": [
      "\u001b[36m\u001b[1m[ \u001b[22m\u001b[39m\u001b[36m\u001b[1mInfo: \u001b[22m\u001b[39m2023-11-16T13:29:41.573\titeration: 74\tcurrent optimum: 23.647737009668234\n",
      "\u001b[32mProgress: 100%|█████████████████████████████████████████| Time: 0:01:12\u001b[39m\n",
      "\u001b[36m\u001b[1m[ \u001b[22m\u001b[39m\u001b[36m\u001b[1mInfo: \u001b[22m\u001b[39m2023-11-16T13:30:54.433\titeration: 75\tcurrent optimum: 23.647737009668234\n"
     ]
    },
    {
     "name": "stdout",
     "output_type": "stream",
     "text": [
      "s1 = 1.34; s3 = 2.64; Δ1 = 2.25Γ; Δ3 = 1.94Γ\n",
      "Survival: 20 / 20\n",
      "goodness = 2.268\n"
     ]
    },
    {
     "name": "stderr",
     "output_type": "stream",
     "text": [
      "\u001b[32mProgress: 100%|█████████████████████████████████████████| Time: 0:00:57\u001b[39m\n",
      "\u001b[36m\u001b[1m[ \u001b[22m\u001b[39m\u001b[36m\u001b[1mInfo: \u001b[22m\u001b[39m2023-11-16T13:31:51.510\titeration: 76\tcurrent optimum: 23.647737009668234\n"
     ]
    },
    {
     "name": "stdout",
     "output_type": "stream",
     "text": [
      "s1 = 1.37; s3 = 1.54; Δ1 = 2.22Γ; Δ3 = 2.51Γ\n",
      "Survival: 19 / 20\n",
      "goodness = 0.417\n"
     ]
    },
    {
     "name": "stderr",
     "output_type": "stream",
     "text": [
      "\u001b[32mProgress: 100%|█████████████████████████████████████████| Time: 0:00:57\u001b[39m\n",
      "\u001b[36m\u001b[1m[ \u001b[22m\u001b[39m\u001b[36m\u001b[1mInfo: \u001b[22m\u001b[39m2023-11-16T13:32:49.530\titeration: 77\tcurrent optimum: 23.647737009668234\n"
     ]
    },
    {
     "name": "stdout",
     "output_type": "stream",
     "text": [
      "s1 = 2.42; s3 = 4.05; Δ1 = 1.04Γ; Δ3 = 2.31Γ\n",
      "Survival: 14 / 20\n",
      "goodness = 1.521\n"
     ]
    },
    {
     "name": "stderr",
     "output_type": "stream",
     "text": [
      "\u001b[32mProgress: 100%|█████████████████████████████████████████| Time: 0:01:27\u001b[39m\n"
     ]
    },
    {
     "name": "stdout",
     "output_type": "stream",
     "text": [
      "s1 = 0.82; s3 = 0.75; Δ1 = 1.46Γ; Δ3 = 2.49Γ\n",
      "Survival: 10 / 20\n",
      "goodness = 0.296\n"
     ]
    },
    {
     "name": "stderr",
     "output_type": "stream",
     "text": [
      "\u001b[36m\u001b[1m[ \u001b[22m\u001b[39m\u001b[36m\u001b[1mInfo: \u001b[22m\u001b[39m2023-11-16T13:34:17.882\titeration: 78\tcurrent optimum: 23.647737009668234\n",
      "\u001b[32mProgress: 100%|█████████████████████████████████████████| Time: 0:00:46\u001b[39m\n",
      "\u001b[36m\u001b[1m[ \u001b[22m\u001b[39m\u001b[36m\u001b[1mInfo: \u001b[22m\u001b[39m2023-11-16T13:35:04.678\titeration: 79\tcurrent optimum: 23.647737009668234\n"
     ]
    },
    {
     "name": "stdout",
     "output_type": "stream",
     "text": [
      "s1 = 1.46; s3 = 4.76; Δ1 = 0.99Γ; Δ3 = 1.05Γ\n",
      "Survival: 6 / 20\n",
      "goodness = 0.038\n"
     ]
    },
    {
     "name": "stderr",
     "output_type": "stream",
     "text": [
      "\u001b[32mProgress: 100%|█████████████████████████████████████████| Time: 0:01:01\u001b[39m\n",
      "\u001b[36m\u001b[1m[ \u001b[22m\u001b[39m\u001b[36m\u001b[1mInfo: \u001b[22m\u001b[39m2023-11-16T13:36:06.295\titeration: 80\tcurrent optimum: 23.647737009668234\n"
     ]
    },
    {
     "name": "stdout",
     "output_type": "stream",
     "text": [
      "s1 = 0.89; s3 = 0.82; Δ1 = 1.37Γ; Δ3 = 0.99Γ\n",
      "Survival: 16 / 20\n",
      "goodness = 11.960\n"
     ]
    },
    {
     "name": "stderr",
     "output_type": "stream",
     "text": [
      "\u001b[32mProgress: 100%|█████████████████████████████████████████| Time: 0:01:13\u001b[39m\n"
     ]
    },
    {
     "name": "stdout",
     "output_type": "stream",
     "text": [
      "s1 = 3.91; s3 = 4.30; Δ1 = 2.67Γ; Δ3 = 2.16Γ\n",
      "Survival: 20 / 20\n",
      "goodness = 2.410"
     ]
    },
    {
     "name": "stderr",
     "output_type": "stream",
     "text": [
      "\u001b[36m\u001b[1m[ \u001b[22m\u001b[39m\u001b[36m\u001b[1mInfo: \u001b[22m\u001b[39m2023-11-16T13:37:20.255\titeration: 81\tcurrent optimum: 23.647737009668234\n"
     ]
    },
    {
     "name": "stdout",
     "output_type": "stream",
     "text": [
      "\n"
     ]
    },
    {
     "name": "stderr",
     "output_type": "stream",
     "text": [
      "\u001b[32mProgress: 100%|█████████████████████████████████████████| Time: 0:01:00\u001b[39m\n",
      "\u001b[36m\u001b[1m[ \u001b[22m\u001b[39m\u001b[36m\u001b[1mInfo: \u001b[22m\u001b[39m2023-11-16T13:38:21.332\titeration: 82\tcurrent optimum: 23.647737009668234\n"
     ]
    },
    {
     "name": "stdout",
     "output_type": "stream",
     "text": [
      "s1 = 1.16; s3 = 1.43; Δ1 = 1.85Γ; Δ3 = 1.23Γ\n",
      "Survival: 14 / 20\n",
      "goodness = 4.186\n"
     ]
    },
    {
     "name": "stderr",
     "output_type": "stream",
     "text": [
      "\u001b[32mProgress: 100%|█████████████████████████████████████████| Time: 0:01:34\u001b[39m\n"
     ]
    },
    {
     "name": "stdout",
     "output_type": "stream",
     "text": [
      "s1 = 4.68; s3 = 1.05; Δ1 = 1.20Γ; Δ3 = 0.60Γ\n",
      "Survival: 17 / 20\n",
      "goodness = 2.457\n"
     ]
    },
    {
     "name": "stderr",
     "output_type": "stream",
     "text": [
      "\u001b[36m\u001b[1m[ \u001b[22m\u001b[39m\u001b[36m\u001b[1mInfo: \u001b[22m\u001b[39m2023-11-16T13:39:57.357\titeration: 83\tcurrent optimum: 23.647737009668234\n",
      "\u001b[32mProgress: 100%|█████████████████████████████████████████| Time: 0:01:30\u001b[39m\n"
     ]
    },
    {
     "name": "stdout",
     "output_type": "stream",
     "text": [
      "s1 = 0.95; s3 = 3.88; Δ1 = 2.11Γ; Δ3 = 1.58Γ\n",
      "Survival: 20 / 20\n",
      "goodness = 16.321\n"
     ]
    },
    {
     "name": "stderr",
     "output_type": "stream",
     "text": [
      "\u001b[36m\u001b[1m[ \u001b[22m\u001b[39m\u001b[36m\u001b[1mInfo: \u001b[22m\u001b[39m2023-11-16T13:41:27.941\titeration: 84\tcurrent optimum: 23.647737009668234\n",
      "\u001b[32mProgress: 100%|█████████████████████████████████████████| Time: 0:01:08\u001b[39m\n"
     ]
    },
    {
     "name": "stdout",
     "output_type": "stream",
     "text": [
      "s1 = 3.13; s3 = 1.41; Δ1 = 1.94Γ; Δ3 = 1.22Γ\n",
      "Survival: 20 / 20\n",
      "goodness = 1.970\n"
     ]
    },
    {
     "name": "stderr",
     "output_type": "stream",
     "text": [
      "\u001b[36m\u001b[1m[ \u001b[22m\u001b[39m\u001b[36m\u001b[1mInfo: \u001b[22m\u001b[39m2023-11-16T13:42:36.726\titeration: 85\tcurrent optimum: 23.647737009668234\n",
      "\u001b[32mProgress: 100%|█████████████████████████████████████████| Time: 0:01:01\u001b[39m\n",
      "\u001b[36m\u001b[1m[ \u001b[22m\u001b[39m\u001b[36m\u001b[1mInfo: \u001b[22m\u001b[39m2023-11-16T13:43:38.079\titeration: 86\tcurrent optimum: 23.647737009668234\n"
     ]
    },
    {
     "name": "stdout",
     "output_type": "stream",
     "text": [
      "s1 = 0.89; s3 = 2.52; Δ1 = 2.30Γ; Δ3 = 0.51Γ\n",
      "Survival: 7 / 20\n",
      "goodness = 1.978\n"
     ]
    },
    {
     "name": "stderr",
     "output_type": "stream",
     "text": [
      "\u001b[32mProgress: 100%|█████████████████████████████████████████| Time: 0:00:46\u001b[39m\n"
     ]
    },
    {
     "name": "stdout",
     "output_type": "stream",
     "text": [
      "s1 = 1.19; s3 = 4.70; Δ1 = 0.58Γ; Δ3 = 1.38Γ\n",
      "Survival: 2 / 20\n"
     ]
    },
    {
     "name": "stderr",
     "output_type": "stream",
     "text": [
      "\u001b[36m\u001b[1m[ \u001b[22m\u001b[39m\u001b[36m\u001b[1mInfo: \u001b[22m\u001b[39m2023-11-16T13:44:25.451\titeration: 87\tcurrent optimum: 23.647737009668234\n"
     ]
    },
    {
     "name": "stdout",
     "output_type": "stream",
     "text": [
      "goodness = 0.063\n"
     ]
    },
    {
     "name": "stderr",
     "output_type": "stream",
     "text": [
      "\u001b[32mProgress: 100%|█████████████████████████████████████████| Time: 0:01:51\u001b[39m\n",
      "\u001b[36m\u001b[1m[ \u001b[22m\u001b[39m\u001b[36m\u001b[1mInfo: \u001b[22m\u001b[39m2023-11-16T13:46:17.216\titeration: 88\tcurrent optimum: 23.647737009668234\n"
     ]
    },
    {
     "name": "stdout",
     "output_type": "stream",
     "text": [
      "s1 = 4.36; s3 = 4.07; Δ1 = 1.36Γ; Δ3 = 2.79Γ\n",
      "Survival: 19 / 20\n",
      "goodness = 1.309\n"
     ]
    },
    {
     "name": "stderr",
     "output_type": "stream",
     "text": [
      "\u001b[32mProgress: 100%|█████████████████████████████████████████| Time: 0:01:16\u001b[39m\n",
      "\u001b[36m\u001b[1m[ \u001b[22m\u001b[39m\u001b[36m\u001b[1mInfo: \u001b[22m\u001b[39m2023-11-16T13:47:33.961\titeration: 89\tcurrent optimum: 23.647737009668234\n"
     ]
    },
    {
     "name": "stdout",
     "output_type": "stream",
     "text": [
      "s1 = 4.02; s3 = 1.71; Δ1 = 1.64Γ; Δ3 = 1.99Γ\n",
      "Survival: 20 / 20\n",
      "goodness = 0.339\n"
     ]
    },
    {
     "name": "stderr",
     "output_type": "stream",
     "text": [
      "\u001b[32mProgress: 100%|█████████████████████████████████████████| Time: 0:01:13\u001b[39m\n"
     ]
    },
    {
     "name": "stdout",
     "output_type": "stream",
     "text": [
      "s1 = 3.51; s3 = 0.72; Δ1 = 2.90Γ; Δ3 = 2.59Γ\n",
      "Survival: 20 / 20\n",
      "goodness = 3.915\n"
     ]
    },
    {
     "name": "stderr",
     "output_type": "stream",
     "text": [
      "\u001b[36m\u001b[1m┌ \u001b[22m\u001b[39m\u001b[36m\u001b[1mInfo: \u001b[22m\u001b[39m ────────────────────────────────────────────────────────────────────────────────\n",
      "\u001b[36m\u001b[1m│ \u001b[22m\u001b[39m                                        Time                    Allocations      \n",
      "\u001b[36m\u001b[1m│ \u001b[22m\u001b[39m                               ───────────────────────   ────────────────────────\n",
      "\u001b[36m\u001b[1m│ \u001b[22m\u001b[39m       Tot / % measured:            2196s / 100.0%            283MiB /  99.9%    \n",
      "\u001b[36m\u001b[1m│ \u001b[22m\u001b[39m\n",
      "\u001b[36m\u001b[1m│ \u001b[22m\u001b[39m Section               ncalls     time    %tot     avg     alloc    %tot      avg\n",
      "\u001b[36m\u001b[1m│ \u001b[22m\u001b[39m ────────────────────────────────────────────────────────────────────────────────\n",
      "\u001b[36m\u001b[1m│ \u001b[22m\u001b[39m function evaluation       30    2194s   99.9%   73.1s    264MiB   93.4%  8.80MiB\n",
      "\u001b[36m\u001b[1m│ \u001b[22m\u001b[39m model hyperparamet...     30    1.58s    0.1%  52.8ms   15.9MiB    5.6%   544KiB\n",
      "\u001b[36m\u001b[1m│ \u001b[22m\u001b[39m acquisition               31   6.35ms    0.0%   205μs   2.61MiB    0.9%  86.1KiB\n",
      "\u001b[36m\u001b[1m│ \u001b[22m\u001b[39m model update              30   3.11ms    0.0%   104μs    244KiB    0.1%  8.13KiB\n",
      "\u001b[36m\u001b[1m└ \u001b[22m\u001b[39m ────────────────────────────────────────────────────────────────────────────────\n",
      "\u001b[36m\u001b[1m[ \u001b[22m\u001b[39m\u001b[36m\u001b[1mInfo: \u001b[22m\u001b[39m2023-11-16T13:48:47.611\titeration: 90\tcurrent optimum: 23.647737009668234\n"
     ]
    },
    {
     "name": "stdout",
     "output_type": "stream",
     "text": [
      "===== Autosaved =====\n"
     ]
    },
    {
     "name": "stderr",
     "output_type": "stream",
     "text": [
      "\u001b[32mProgress: 100%|█████████████████████████████████████████| Time: 0:01:17\u001b[39m\n"
     ]
    },
    {
     "name": "stdout",
     "output_type": "stream",
     "text": [
      "s1 = 2.75; s3 = 1.87; Δ1 = 1.23Γ; Δ3 = 1.56Γ\n",
      "Survival: 19 / 20\n",
      "goodness = 0.000\n"
     ]
    },
    {
     "name": "stderr",
     "output_type": "stream",
     "text": [
      "\u001b[36m\u001b[1m[ \u001b[22m\u001b[39m\u001b[36m\u001b[1mInfo: \u001b[22m\u001b[39m2023-11-16T13:50:05.585\titeration: 91\tcurrent optimum: 23.647737009668234\n",
      "\u001b[32mProgress: 100%|█████████████████████████████████████████| Time: 0:01:04\u001b[39m\n",
      "\u001b[36m\u001b[1m[ \u001b[22m\u001b[39m\u001b[36m\u001b[1mInfo: \u001b[22m\u001b[39m2023-11-16T13:51:09.860\titeration: 92\tcurrent optimum: 23.647737009668234\n"
     ]
    },
    {
     "name": "stdout",
     "output_type": "stream",
     "text": [
      "s1 = 3.16; s3 = 4.40; Δ1 = 1.70Γ; Δ3 = 1.36Γ\n",
      "Survival: 17 / 20\n",
      "goodness = 1.186\n"
     ]
    },
    {
     "name": "stderr",
     "output_type": "stream",
     "text": [
      "\u001b[32mProgress: 100%|█████████████████████████████████████████| Time: 0:00:53\u001b[39m\n",
      "\u001b[36m\u001b[1m[ \u001b[22m\u001b[39m\u001b[36m\u001b[1mInfo: \u001b[22m\u001b[39m2023-11-16T13:52:03.626\titeration: 93\tcurrent optimum: 23.647737009668234\n"
     ]
    },
    {
     "name": "stdout",
     "output_type": "stream",
     "text": [
      "s1 = 4.34; s3 = 2.16; Δ1 = 2.30Γ; Δ3 = 2.86Γ\n",
      "Survival: 17 / 20\n",
      "goodness = 0.330\n"
     ]
    },
    {
     "name": "stderr",
     "output_type": "stream",
     "text": [
      "\u001b[32mProgress: 100%|█████████████████████████████████████████| Time: 0:01:02\u001b[39m\n",
      "\u001b[36m\u001b[1m[ \u001b[22m\u001b[39m\u001b[36m\u001b[1mInfo: \u001b[22m\u001b[39m2023-11-16T13:53:06.496\titeration: 94\tcurrent optimum: 23.647737009668234\n"
     ]
    },
    {
     "name": "stdout",
     "output_type": "stream",
     "text": [
      "s1 = 3.63; s3 = 2.17; Δ1 = 1.17Γ; Δ3 = 1.56Γ\n",
      "Survival: 17 / 20\n",
      "goodness = 0.777\n"
     ]
    },
    {
     "name": "stderr",
     "output_type": "stream",
     "text": [
      "\u001b[32mProgress: 100%|█████████████████████████████████████████| Time: 0:01:53\u001b[39m\n"
     ]
    },
    {
     "name": "stdout",
     "output_type": "stream",
     "text": [
      "s1 = 4.78; s3 = 4.84; Δ1 = 2.85Γ; Δ3 = 0.79Γ\n",
      "Survival: 18 / 20\n",
      "goodness = 0.774\n"
     ]
    },
    {
     "name": "stderr",
     "output_type": "stream",
     "text": [
      "\u001b[36m\u001b[1m[ \u001b[22m\u001b[39m\u001b[36m\u001b[1mInfo: \u001b[22m\u001b[39m2023-11-16T13:54:59.925\titeration: 95\tcurrent optimum: 23.647737009668234\n",
      "\u001b[32mProgress: 100%|█████████████████████████████████████████| Time: 0:02:09\u001b[39m\n",
      "\u001b[36m\u001b[1m[ \u001b[22m\u001b[39m\u001b[36m\u001b[1mInfo: \u001b[22m\u001b[39m2023-11-16T13:57:09.413\titeration: 96\tcurrent optimum: 23.647737009668234\n"
     ]
    },
    {
     "name": "stdout",
     "output_type": "stream",
     "text": [
      "s1 = 4.07; s3 = 1.25; Δ1 = 2.88Γ; Δ3 = 1.88Γ\n",
      "Survival: 20 / 20\n",
      "goodness = 1.159\n"
     ]
    },
    {
     "name": "stderr",
     "output_type": "stream",
     "text": [
      "\u001b[32mProgress: 100%|█████████████████████████████████████████| Time: 0:01:35\u001b[39m"
     ]
    },
    {
     "name": "stdout",
     "output_type": "stream",
     "text": [
      "s1 = 4.80; s3 = 1.22; Δ1 = 2.44Γ; Δ3 = 1.27Γ\n",
      "Survival: 20 / 20\n",
      "goodness = 0.989\n"
     ]
    },
    {
     "name": "stderr",
     "output_type": "stream",
     "text": [
      "\n",
      "\u001b[36m\u001b[1m[ \u001b[22m\u001b[39m\u001b[36m\u001b[1mInfo: \u001b[22m\u001b[39m2023-11-16T13:58:45.394\titeration: 97\tcurrent optimum: 23.647737009668234\n",
      "\u001b[32mProgress: 100%|█████████████████████████████████████████| Time: 0:01:11\u001b[39m\n",
      "\u001b[36m\u001b[1m[ \u001b[22m\u001b[39m\u001b[36m\u001b[1mInfo: \u001b[22m\u001b[39m2023-11-16T13:59:56.764\titeration: 98\tcurrent optimum: 23.647737009668234\n"
     ]
    },
    {
     "name": "stdout",
     "output_type": "stream",
     "text": [
      "s1 = 2.39; s3 = 1.26; Δ1 = 1.08Γ; Δ3 = 2.95Γ\n",
      "Survival: 8 / 20\n",
      "goodness = 3.408\n"
     ]
    },
    {
     "name": "stderr",
     "output_type": "stream",
     "text": [
      "\u001b[32mProgress: 100%|█████████████████████████████████████████| Time: 0:01:19\u001b[39m"
     ]
    },
    {
     "name": "stdout",
     "output_type": "stream",
     "text": [
      "s1 = 1.16; s3 = 2.82; Δ1 = 2.09Γ; Δ3 = 2.12Γ\n",
      "Survival: 16 / 20\n",
      "goodness = 3.279\n"
     ]
    },
    {
     "name": "stderr",
     "output_type": "stream",
     "text": [
      "\n",
      "\u001b[36m\u001b[1m[ \u001b[22m\u001b[39m\u001b[36m\u001b[1mInfo: \u001b[22m\u001b[39m2023-11-16T14:01:16.347\titeration: 99\tcurrent optimum: 23.647737009668234\n",
      "\u001b[32mProgress: 100%|█████████████████████████████████████████| Time: 0:01:41\u001b[39m\n",
      "\u001b[36m\u001b[1m[ \u001b[22m\u001b[39m\u001b[36m\u001b[1mInfo: \u001b[22m\u001b[39m2023-11-16T14:02:57.626\titeration: 100\tcurrent optimum: 23.647737009668234\n"
     ]
    },
    {
     "name": "stdout",
     "output_type": "stream",
     "text": [
      "s1 = 4.69; s3 = 0.57; Δ1 = 1.47Γ; Δ3 = 0.54Γ\n",
      "Survival: 18 / 20\n",
      "goodness = 0.948\n"
     ]
    },
    {
     "name": "stderr",
     "output_type": "stream",
     "text": [
      "\u001b[32mProgress: 100%|█████████████████████████████████████████| Time: 0:00:24\u001b[39m\n",
      "\u001b[36m\u001b[1m[ \u001b[22m\u001b[39m\u001b[36m\u001b[1mInfo: \u001b[22m\u001b[39m2023-11-16T14:03:22.274\titeration: 101\tcurrent optimum: 23.647737009668234\n"
     ]
    },
    {
     "name": "stdout",
     "output_type": "stream",
     "text": [
      "s1 = 0.79; s3 = 4.12; Δ1 = 2.23Γ; Δ3 = 0.77Γ\n",
      "Survival: 0 / 20\n",
      "goodness = 0.000\n"
     ]
    },
    {
     "name": "stderr",
     "output_type": "stream",
     "text": [
      "\u001b[32mProgress: 100%|█████████████████████████████████████████| Time: 0:01:04\u001b[39m\n",
      "\u001b[36m\u001b[1m[ \u001b[22m\u001b[39m\u001b[36m\u001b[1mInfo: \u001b[22m\u001b[39m2023-11-16T14:04:26.660\titeration: 102\tcurrent optimum: 23.647737009668234\n"
     ]
    },
    {
     "name": "stdout",
     "output_type": "stream",
     "text": [
      "s1 = 4.87; s3 = 1.24; Δ1 = 1.58Γ; Δ3 = 0.51Γ\n",
      "Survival: 19 / 20\n",
      "goodness = 1.056\n"
     ]
    },
    {
     "name": "stderr",
     "output_type": "stream",
     "text": [
      "\u001b[32mProgress: 100%|█████████████████████████████████████████| Time: 0:01:21\u001b[39m\n",
      "\u001b[36m\u001b[1m[ \u001b[22m\u001b[39m\u001b[36m\u001b[1mInfo: \u001b[22m\u001b[39m2023-11-16T14:05:48.338\titeration: 103\tcurrent optimum: 23.647737009668234\n"
     ]
    },
    {
     "name": "stdout",
     "output_type": "stream",
     "text": [
      "s1 = 4.86; s3 = 0.61; Δ1 = 1.64Γ; Δ3 = 2.57Γ\n",
      "Survival: 9 / 20\n",
      "goodness = 0.684\n"
     ]
    },
    {
     "name": "stderr",
     "output_type": "stream",
     "text": [
      "\u001b[32mProgress: 100%|█████████████████████████████████████████| Time: 0:00:58\u001b[39m\n",
      "\u001b[36m\u001b[1m[ \u001b[22m\u001b[39m\u001b[36m\u001b[1mInfo: \u001b[22m\u001b[39m2023-11-16T14:06:47.141\titeration: 104\tcurrent optimum: 23.647737009668234\n"
     ]
    },
    {
     "name": "stdout",
     "output_type": "stream",
     "text": [
      "s1 = 2.80; s3 = 1.05; Δ1 = 1.80Γ; Δ3 = 0.73Γ\n",
      "Survival: 16 / 20\n",
      "goodness = 1.908\n"
     ]
    },
    {
     "name": "stderr",
     "output_type": "stream",
     "text": [
      "\u001b[32mProgress: 100%|█████████████████████████████████████████| Time: 0:00:46\u001b[39m\n"
     ]
    },
    {
     "name": "stdout",
     "output_type": "stream",
     "text": [
      "s1 = 0.76; s3 = 1.89; Δ1 = 2.41Γ; Δ3 = 1.72Γ\n",
      "Survival: 8 / 20\n",
      "goodness = 5.966"
     ]
    },
    {
     "name": "stderr",
     "output_type": "stream",
     "text": [
      "\u001b[36m\u001b[1m[ \u001b[22m\u001b[39m\u001b[36m\u001b[1mInfo: \u001b[22m\u001b[39m2023-11-16T14:07:33.753\titeration: 105\tcurrent optimum: 23.647737009668234\n"
     ]
    },
    {
     "name": "stdout",
     "output_type": "stream",
     "text": [
      "\n"
     ]
    },
    {
     "name": "stderr",
     "output_type": "stream",
     "text": [
      "\u001b[32mProgress: 100%|█████████████████████████████████████████| Time: 0:00:26\u001b[39m\n"
     ]
    },
    {
     "name": "stdout",
     "output_type": "stream",
     "text": [
      "s1 = 0.94; s3 = 0.50; Δ1 = 0.50Γ; Δ3 = 1.20Γ\n",
      "Survival: 1 / 20\n",
      "goodness = 1.457\n"
     ]
    },
    {
     "name": "stderr",
     "output_type": "stream",
     "text": [
      "\u001b[36m\u001b[1m[ \u001b[22m\u001b[39m\u001b[36m\u001b[1mInfo: \u001b[22m\u001b[39m2023-11-16T14:08:00.455\titeration: 106\tcurrent optimum: 23.647737009668234\n",
      "\u001b[32mProgress: 100%|█████████████████████████████████████████| Time: 0:00:47\u001b[39m\n",
      "\u001b[36m\u001b[1m[ \u001b[22m\u001b[39m\u001b[36m\u001b[1mInfo: \u001b[22m\u001b[39m2023-11-16T14:08:47.996\titeration: 107\tcurrent optimum: 23.647737009668234\n"
     ]
    },
    {
     "name": "stdout",
     "output_type": "stream",
     "text": [
      "s1 = 2.21; s3 = 0.52; Δ1 = 1.08Γ; Δ3 = 2.04Γ\n",
      "Survival: 4 / 20\n",
      "goodness = 0.467\n"
     ]
    },
    {
     "name": "stderr",
     "output_type": "stream",
     "text": [
      "\u001b[32mProgress: 100%|█████████████████████████████████████████| Time: 0:01:02\u001b[39m\n",
      "\u001b[36m\u001b[1m[ \u001b[22m\u001b[39m\u001b[36m\u001b[1mInfo: \u001b[22m\u001b[39m2023-11-16T14:09:50.285\titeration: 108\tcurrent optimum: 23.647737009668234\n"
     ]
    },
    {
     "name": "stdout",
     "output_type": "stream",
     "text": [
      "s1 = 2.32; s3 = 2.16; Δ1 = 1.72Γ; Δ3 = 2.53Γ\n",
      "Survival: 13 / 20\n",
      "goodness = 3.482\n"
     ]
    },
    {
     "name": "stderr",
     "output_type": "stream",
     "text": [
      "\u001b[32mProgress: 100%|█████████████████████████████████████████| Time: 0:01:00\u001b[39m\n"
     ]
    },
    {
     "name": "stdout",
     "output_type": "stream",
     "text": [
      "s1 = 1.01; s3 = 0.92; Δ1 = 2.75Γ; Δ3 = 1.62Γ\n",
      "Survival: 11 / 20\n",
      "goodness = 1.320\n"
     ]
    },
    {
     "name": "stderr",
     "output_type": "stream",
     "text": [
      "\u001b[36m\u001b[1m[ \u001b[22m\u001b[39m\u001b[36m\u001b[1mInfo: \u001b[22m\u001b[39m2023-11-16T14:10:50.580\titeration: 109\tcurrent optimum: 23.647737009668234\n",
      "\u001b[32mProgress: 100%|█████████████████████████████████████████| Time: 0:01:10\u001b[39m\n",
      "\u001b[36m\u001b[1m[ \u001b[22m\u001b[39m\u001b[36m\u001b[1mInfo: \u001b[22m\u001b[39m2023-11-16T14:12:01.503\titeration: 110\tcurrent optimum: 23.647737009668234\n"
     ]
    },
    {
     "name": "stdout",
     "output_type": "stream",
     "text": [
      "s1 = 2.59; s3 = 1.86; Δ1 = 2.07Γ; Δ3 = 2.02Γ\n",
      "Survival: 17 / 20\n",
      "goodness = 1.706\n"
     ]
    },
    {
     "name": "stderr",
     "output_type": "stream",
     "text": [
      "\u001b[32mProgress: 100%|█████████████████████████████████████████| Time: 0:01:11\u001b[39m\n",
      "\u001b[36m\u001b[1m[ \u001b[22m\u001b[39m\u001b[36m\u001b[1mInfo: \u001b[22m\u001b[39m2023-11-16T14:13:12.646\titeration: 111\tcurrent optimum: 23.647737009668234\n"
     ]
    },
    {
     "name": "stdout",
     "output_type": "stream",
     "text": [
      "s1 = 2.11; s3 = 3.09; Δ1 = 1.45Γ; Δ3 = 1.68Γ\n",
      "Survival: 17 / 20\n",
      "goodness = 0.000\n"
     ]
    },
    {
     "name": "stderr",
     "output_type": "stream",
     "text": [
      "\u001b[32mProgress: 100%|█████████████████████████████████████████| Time: 0:01:11\u001b[39m"
     ]
    },
    {
     "name": "stdout",
     "output_type": "stream",
     "text": [
      "s1 = 2.01; s3 = 3.45; Δ1 = 2.41Γ; Δ3 = 0.69Γ\n",
      "Survival: 13 / 20\n",
      "goodness = 1.228\n"
     ]
    },
    {
     "name": "stderr",
     "output_type": "stream",
     "text": [
      "\n",
      "\u001b[36m\u001b[1m[ \u001b[22m\u001b[39m\u001b[36m\u001b[1mInfo: \u001b[22m\u001b[39m2023-11-16T14:14:24.685\titeration: 112\tcurrent optimum: 23.647737009668234\n",
      "\u001b[32mProgress: 100%|█████████████████████████████████████████| Time: 0:01:01\u001b[39m\n",
      "\u001b[36m\u001b[1m[ \u001b[22m\u001b[39m\u001b[36m\u001b[1mInfo: \u001b[22m\u001b[39m2023-11-16T14:15:26.167\titeration: 113\tcurrent optimum: 23.647737009668234\n"
     ]
    },
    {
     "name": "stdout",
     "output_type": "stream",
     "text": [
      "s1 = 2.00; s3 = 3.68; Δ1 = 0.94Γ; Δ3 = 1.79Γ\n",
      "Survival: 6 / 20\n",
      "goodness = 0.325\n"
     ]
    },
    {
     "name": "stderr",
     "output_type": "stream",
     "text": [
      "\u001b[32mProgress: 100%|█████████████████████████████████████████| Time: 0:00:45\u001b[39m\n",
      "\u001b[36m\u001b[1m[ \u001b[22m\u001b[39m\u001b[36m\u001b[1mInfo: \u001b[22m\u001b[39m2023-11-16T14:16:11.719\titeration: 114\tcurrent optimum: 23.647737009668234\n"
     ]
    },
    {
     "name": "stdout",
     "output_type": "stream",
     "text": [
      "s1 = 3.08; s3 = 2.78; Δ1 = 0.57Γ; Δ3 = 0.71Γ\n",
      "Survival: 3 / 20\n",
      "goodness = 0.000\n"
     ]
    },
    {
     "name": "stderr",
     "output_type": "stream",
     "text": [
      "\u001b[32mProgress: 100%|█████████████████████████████████████████| Time: 0:01:07\u001b[39m\n",
      "\u001b[36m\u001b[1m[ \u001b[22m\u001b[39m\u001b[36m\u001b[1mInfo: \u001b[22m\u001b[39m2023-11-16T14:17:19.036\titeration: 115\tcurrent optimum: 23.647737009668234\n"
     ]
    },
    {
     "name": "stdout",
     "output_type": "stream",
     "text": [
      "s1 = 2.65; s3 = 2.59; Δ1 = 1.69Γ; Δ3 = 2.63Γ\n",
      "Survival: 17 / 20\n",
      "goodness = 2.453\n"
     ]
    },
    {
     "name": "stderr",
     "output_type": "stream",
     "text": [
      "\u001b[32mProgress:  95%|███████████████████████████████████████  |  ETA: 0:00:03\u001b[39m"
     ]
    },
    {
     "name": "stdout",
     "output_type": "stream",
     "text": [
      "s1 = 0.94; s3 = 4.27; Δ1 = 1.59Γ; Δ3 = 0.90Γ\n",
      "Survival: 13 / 20\n",
      "goodness = 7.511\n"
     ]
    },
    {
     "name": "stderr",
     "output_type": "stream",
     "text": [
      "\u001b[32mProgress: 100%|█████████████████████████████████████████| Time: 0:01:03\u001b[39m\n",
      "\u001b[36m\u001b[1m[ \u001b[22m\u001b[39m\u001b[36m\u001b[1mInfo: \u001b[22m\u001b[39m2023-11-16T14:18:22.554\titeration: 116\tcurrent optimum: 23.647737009668234\n",
      "\u001b[32mProgress: 100%|█████████████████████████████████████████| Time: 0:01:11\u001b[39m\n"
     ]
    },
    {
     "name": "stdout",
     "output_type": "stream",
     "text": [
      "s1 = 2.07; s3 = 1.21; Δ1 = 1.29Γ; Δ3 = 2.92Γ\n",
      "Survival: 11 / 20\n",
      "goodness = 0.948\n"
     ]
    },
    {
     "name": "stderr",
     "output_type": "stream",
     "text": [
      "\u001b[36m\u001b[1m[ \u001b[22m\u001b[39m\u001b[36m\u001b[1mInfo: \u001b[22m\u001b[39m2023-11-16T14:19:33.931\titeration: 117\tcurrent optimum: 23.647737009668234\n",
      "\u001b[32mProgress: 100%|█████████████████████████████████████████| Time: 0:01:04\u001b[39m"
     ]
    },
    {
     "name": "stdout",
     "output_type": "stream",
     "text": [
      "s1 = 2.84; s3 = 2.82; Δ1 = 0.64Γ; Δ3 = 2.02Γ\n",
      "Survival: 8 / 20\n",
      "goodness = 1.373"
     ]
    },
    {
     "name": "stderr",
     "output_type": "stream",
     "text": [
      "\n",
      "\u001b[36m\u001b[1m[ \u001b[22m\u001b[39m\u001b[36m\u001b[1mInfo: \u001b[22m\u001b[39m2023-11-16T14:20:37.985\titeration: 118\tcurrent optimum: 23.647737009668234\n"
     ]
    },
    {
     "name": "stdout",
     "output_type": "stream",
     "text": [
      "\n"
     ]
    },
    {
     "name": "stderr",
     "output_type": "stream",
     "text": [
      "\u001b[32mProgress: 100%|█████████████████████████████████████████| Time: 0:00:52\u001b[39m\n",
      "\u001b[36m\u001b[1m[ \u001b[22m\u001b[39m\u001b[36m\u001b[1mInfo: \u001b[22m\u001b[39m2023-11-16T14:21:30.274\titeration: 119\tcurrent optimum: 23.647737009668234\n"
     ]
    },
    {
     "name": "stdout",
     "output_type": "stream",
     "text": [
      "s1 = 1.55; s3 = 4.95; Δ1 = 1.69Γ; Δ3 = 0.72Γ\n",
      "Survival: 9 / 20\n",
      "goodness = 2.129\n"
     ]
    },
    {
     "name": "stderr",
     "output_type": "stream",
     "text": [
      "\r",
      "\u001b[32mProgress:  10%|█████                                    |  ETA: 0:01:36\u001b[39m\r",
      "\u001b[32mProgress:  15%|███████                                  |  ETA: 0:01:20\u001b[39m\r",
      "\u001b[32mProgress:  20%|█████████                                |  ETA: 0:01:19\u001b[39m\r",
      "\u001b[32mProgress:  25%|███████████                              |  ETA: 0:01:02\u001b[39m\r",
      "\u001b[32mProgress:  30%|█████████████                            |  ETA: 0:00:58\u001b[39m\r",
      "\u001b[32mProgress:  45%|███████████████████                      |  ETA: 0:00:35\u001b[39m\r",
      "\u001b[32mProgress:  50%|█████████████████████                    |  ETA: 0:00:35\u001b[39m\r",
      "\u001b[32mProgress:  55%|███████████████████████                  |  ETA: 0:00:29\u001b[39m\r",
      "\u001b[32mProgress:  60%|█████████████████████████                |  ETA: 0:00:25\u001b[39m\r",
      "\u001b[32mProgress:  65%|███████████████████████████              |  ETA: 0:00:20\u001b[39m\r",
      "\u001b[32mProgress:  70%|█████████████████████████████            |  ETA: 0:00:17\u001b[39m\r",
      "\u001b[32mProgress:  75%|███████████████████████████████          |  ETA: 0:00:14\u001b[39m\r",
      "\u001b[32mProgress:  80%|█████████████████████████████████        |  ETA: 0:00:11\u001b[39m\r",
      "\u001b[32mProgress:  85%|███████████████████████████████████      |  ETA: 0:00:08\u001b[39m\r",
      "\u001b[32mProgress:  90%|█████████████████████████████████████    |  ETA: 0:00:05\u001b[39m\r",
      "\u001b[32mProgress:  95%|███████████████████████████████████████  |  ETA: 0:00:03\u001b[39m\r",
      "\u001b[32mProgress: 100%|█████████████████████████████████████████| Time: 0:00:53\u001b[39m"
     ]
    },
    {
     "name": "stdout",
     "output_type": "stream",
     "text": [
      "s1 = 3.96; s3 = 0.73; Δ1 = 0.88Γ; Δ3 = 1.35Γ\n",
      "Survival: 7 / 20\n",
      "goodness = 0.108"
     ]
    },
    {
     "name": "stderr",
     "output_type": "stream",
     "text": [
      "\n",
      "\u001b[36m\u001b[1m┌ \u001b[22m\u001b[39m\u001b[36m\u001b[1mInfo: \u001b[22m\u001b[39m ────────────────────────────────────────────────────────────────────────────────\n",
      "\u001b[36m\u001b[1m│ \u001b[22m\u001b[39m                                        Time                    Allocations      \n",
      "\u001b[36m\u001b[1m│ \u001b[22m\u001b[39m                               ───────────────────────   ────────────────────────\n",
      "\u001b[36m\u001b[1m│ \u001b[22m\u001b[39m       Tot / % measured:            2016s / 100.0%            312MiB /  99.8%    \n",
      "\u001b[36m\u001b[1m│ \u001b[22m\u001b[39m\n",
      "\u001b[36m\u001b[1m│ \u001b[22m\u001b[39m Section               ncalls     time    %tot     avg     alloc    %tot      avg\n",
      "\u001b[36m\u001b[1m│ \u001b[22m\u001b[39m ────────────────────────────────────────────────────────────────────────────────\n",
      "\u001b[36m\u001b[1m│ \u001b[22m\u001b[39m function evaluation       30    2015s  100.0%   67.2s    252MiB   80.9%  8.39MiB\n",
      "\u001b[36m\u001b[1m│ \u001b[22m\u001b[39m model hyperparamet...     30    952ms    0.0%  31.7ms   49.1MiB   15.8%  1.64MiB\n",
      "\u001b[36m\u001b[1m│ \u001b[22m\u001b[39m acquisition               31   51.1ms    0.0%  1.65ms   10.2MiB    3.3%   336KiB\n",
      "\u001b[36m\u001b[1m│ \u001b[22m\u001b[39m model update              30   3.82ms    0.0%   127μs    316KiB    0.1%  10.5KiB\n",
      "\u001b[36m\u001b[1m└ \u001b[22m\u001b[39m ────────────────────────────────────────────────────────────────────────────────\n",
      "\u001b[36m\u001b[1m[ \u001b[22m\u001b[39m\u001b[36m\u001b[1mInfo: \u001b[22m\u001b[39m2023-11-16T14:22:23.955\titeration: 120\tcurrent optimum: 23.647737009668234\n"
     ]
    },
    {
     "name": "stdout",
     "output_type": "stream",
     "text": [
      "\n",
      "===== Autosaved =====\n"
     ]
    },
    {
     "name": "stderr",
     "output_type": "stream",
     "text": [
      "\u001b[32mProgress: 100%|█████████████████████████████████████████| Time: 0:01:08\u001b[39m\n"
     ]
    },
    {
     "name": "stdout",
     "output_type": "stream",
     "text": [
      "s1 = 0.90; s3 = 5.00; Δ1 = 1.44Γ; Δ3 = 1.57Γ\n",
      "Survival: 15 / 20\n",
      "goodness = 0.134\n"
     ]
    },
    {
     "name": "stderr",
     "output_type": "stream",
     "text": [
      "\u001b[36m\u001b[1m[ \u001b[22m\u001b[39m\u001b[36m\u001b[1mInfo: \u001b[22m\u001b[39m2023-11-16T14:23:32.376\titeration: 121\tcurrent optimum: 23.647737009668234\n",
      "\u001b[32mProgress: 100%|█████████████████████████████████████████| Time: 0:01:03\u001b[39m\n",
      "\u001b[36m\u001b[1m[ \u001b[22m\u001b[39m\u001b[36m\u001b[1mInfo: \u001b[22m\u001b[39m2023-11-16T14:24:35.551\titeration: 122\tcurrent optimum: 23.647737009668234\n"
     ]
    },
    {
     "name": "stdout",
     "output_type": "stream",
     "text": [
      "s1 = 3.18; s3 = 1.29; Δ1 = 1.36Γ; Δ3 = 1.03Γ\n",
      "Survival: 18 / 20\n",
      "goodness = 4.496\n"
     ]
    },
    {
     "name": "stderr",
     "output_type": "stream",
     "text": [
      "\u001b[32mProgress: 100%|█████████████████████████████████████████| Time: 0:00:59\u001b[39m\n"
     ]
    },
    {
     "name": "stdout",
     "output_type": "stream",
     "text": [
      "s1 = 2.29; s3 = 1.59; Δ1 = 2.55Γ; Δ3 = 2.73Γ\n",
      "Survival: 20 / 20\n",
      "goodness = 0.848"
     ]
    },
    {
     "name": "stderr",
     "output_type": "stream",
     "text": [
      "\u001b[36m\u001b[1m[ \u001b[22m\u001b[39m\u001b[36m\u001b[1mInfo: \u001b[22m\u001b[39m2023-11-16T14:25:35.374\titeration: 123\tcurrent optimum: 23.647737009668234\n"
     ]
    },
    {
     "name": "stdout",
     "output_type": "stream",
     "text": [
      "\n"
     ]
    },
    {
     "name": "stderr",
     "output_type": "stream",
     "text": [
      "\u001b[32mProgress: 100%|█████████████████████████████████████████| Time: 0:00:57\u001b[39m\n",
      "\u001b[36m\u001b[1m[ \u001b[22m\u001b[39m\u001b[36m\u001b[1mInfo: \u001b[22m\u001b[39m2023-11-16T14:26:32.944\titeration: 124\tcurrent optimum: 23.647737009668234\n"
     ]
    },
    {
     "name": "stdout",
     "output_type": "stream",
     "text": [
      "s1 = 1.24; s3 = 4.75; Δ1 = 2.55Γ; Δ3 = 2.52Γ\n",
      "Survival: 13 / 20\n",
      "goodness = 0.711\n"
     ]
    },
    {
     "name": "stderr",
     "output_type": "stream",
     "text": [
      "\u001b[32mProgress: 100%|█████████████████████████████████████████| Time: 0:01:03\u001b[39m\n"
     ]
    },
    {
     "name": "stdout",
     "output_type": "stream",
     "text": [
      "s1 = 3.04; s3 = 1.40; Δ1 = 2.38Γ; Δ3 = 1.04Γ\n",
      "Survival: 16 / 20\n",
      "goodness = 1.139\n"
     ]
    },
    {
     "name": "stderr",
     "output_type": "stream",
     "text": [
      "\u001b[36m\u001b[1m[ \u001b[22m\u001b[39m\u001b[36m\u001b[1mInfo: \u001b[22m\u001b[39m2023-11-16T14:27:36.151\titeration: 125\tcurrent optimum: 23.647737009668234\n",
      "\u001b[32mProgress:  95%|███████████████████████████████████████  |  ETA: 0:00:04\u001b[39m\r"
     ]
    },
    {
     "name": "stdout",
     "output_type": "stream",
     "text": [
      "s1 = 4.40; s3 = 2.35; Δ1 = 1.72Γ; Δ3 = 0.75Γ\n",
      "Survival: 19 / 20\n",
      "goodness = 1.824\n"
     ]
    },
    {
     "name": "stderr",
     "output_type": "stream",
     "text": [
      "\u001b[32mProgress: 100%|█████████████████████████████████████████| Time: 0:01:10\u001b[39m\n",
      "\u001b[36m\u001b[1m[ \u001b[22m\u001b[39m\u001b[36m\u001b[1mInfo: \u001b[22m\u001b[39m2023-11-16T14:28:46.592\titeration: 126\tcurrent optimum: 23.647737009668234\n",
      "\u001b[32mProgress: 100%|█████████████████████████████████████████| Time: 0:01:19\u001b[39m\n",
      "\u001b[36m\u001b[1m[ \u001b[22m\u001b[39m\u001b[36m\u001b[1mInfo: \u001b[22m\u001b[39m2023-11-16T14:30:06.522\titeration: 127\tcurrent optimum: 23.647737009668234\n"
     ]
    },
    {
     "name": "stdout",
     "output_type": "stream",
     "text": [
      "s1 = 4.55; s3 = 1.20; Δ1 = 2.21Γ; Δ3 = 1.29Γ\n",
      "Survival: 20 / 20\n",
      "goodness = 1.659\n"
     ]
    },
    {
     "name": "stderr",
     "output_type": "stream",
     "text": [
      "\u001b[32mProgress: 100%|█████████████████████████████████████████| Time: 0:01:07\u001b[39m\n",
      "\u001b[36m\u001b[1m[ \u001b[22m\u001b[39m\u001b[36m\u001b[1mInfo: \u001b[22m\u001b[39m2023-11-16T14:31:13.881\titeration: 128\tcurrent optimum: 23.647737009668234\n"
     ]
    },
    {
     "name": "stdout",
     "output_type": "stream",
     "text": [
      "s1 = 2.69; s3 = 3.35; Δ1 = 2.35Γ; Δ3 = 2.32Γ\n",
      "Survival: 17 / 20\n",
      "goodness = 0.937\n"
     ]
    },
    {
     "name": "stderr",
     "output_type": "stream",
     "text": [
      "\u001b[32mProgress: 100%|█████████████████████████████████████████| Time: 0:00:56\u001b[39m\n"
     ]
    },
    {
     "name": "stdout",
     "output_type": "stream",
     "text": [
      "s1 = 1.42; s3 = 3.26; Δ1 = 2.85Γ; Δ3 = 0.76Γ\n",
      "Survival: 12 / 20\n",
      "goodness = 2.971\n"
     ]
    },
    {
     "name": "stderr",
     "output_type": "stream",
     "text": [
      "\u001b[36m\u001b[1m[ \u001b[22m\u001b[39m\u001b[36m\u001b[1mInfo: \u001b[22m\u001b[39m2023-11-16T14:32:10.086\titeration: 129\tcurrent optimum: 23.647737009668234\n",
      "\u001b[32mProgress: 100%|█████████████████████████████████████████| Time: 0:00:45\u001b[39m\n",
      "\u001b[36m\u001b[1m[ \u001b[22m\u001b[39m\u001b[36m\u001b[1mInfo: \u001b[22m\u001b[39m2023-11-16T14:32:55.329\titeration: 130\tcurrent optimum: 23.647737009668234\n"
     ]
    },
    {
     "name": "stdout",
     "output_type": "stream",
     "text": [
      "s1 = 3.17; s3 = 1.02; Δ1 = 0.90Γ; Δ3 = 1.44Γ\n",
      "Survival: 4 / 20\n",
      "goodness = 0.000\n"
     ]
    },
    {
     "name": "stderr",
     "output_type": "stream",
     "text": [
      "\u001b[32mProgress: 100%|█████████████████████████████████████████| Time: 0:01:05\u001b[39m\n",
      "\u001b[36m\u001b[1m[ \u001b[22m\u001b[39m\u001b[36m\u001b[1mInfo: \u001b[22m\u001b[39m2023-11-16T14:34:00.805\titeration: 131\tcurrent optimum: 23.647737009668234\n"
     ]
    },
    {
     "name": "stdout",
     "output_type": "stream",
     "text": [
      "s1 = 2.68; s3 = 0.68; Δ1 = 2.07Γ; Δ3 = 0.70Γ\n",
      "Survival: 16 / 20\n",
      "goodness = 1.983\n"
     ]
    },
    {
     "name": "stderr",
     "output_type": "stream",
     "text": [
      "\u001b[32mProgress:  95%|███████████████████████████████████████  |  ETA: 0:00:03\u001b[39m\r"
     ]
    },
    {
     "name": "stdout",
     "output_type": "stream",
     "text": [
      "s1 = 2.24; s3 = 2.05; Δ1 = 2.30Γ; Δ3 = 2.79Γ\n",
      "Survival: 17 / 20\n",
      "goodness = 1.269"
     ]
    },
    {
     "name": "stderr",
     "output_type": "stream",
     "text": [
      "\u001b[32mProgress: 100%|█████████████████████████████████████████| Time: 0:01:08\u001b[39m\n",
      "\u001b[36m\u001b[1m[ \u001b[22m\u001b[39m\u001b[36m\u001b[1mInfo: \u001b[22m\u001b[39m2023-11-16T14:35:09.185\titeration: 132\tcurrent optimum: 23.647737009668234\n"
     ]
    },
    {
     "name": "stdout",
     "output_type": "stream",
     "text": [
      "\n"
     ]
    },
    {
     "name": "stderr",
     "output_type": "stream",
     "text": [
      "\u001b[32mProgress: 100%|█████████████████████████████████████████| Time: 0:01:11\u001b[39m\n"
     ]
    },
    {
     "name": "stdout",
     "output_type": "stream",
     "text": [
      "s1 = 2.04; s3 = 2.54; Δ1 = 2.89Γ; Δ3 = 1.65Γ\n",
      "Survival: 19 / 20\n",
      "goodness = 3.475\n"
     ]
    },
    {
     "name": "stderr",
     "output_type": "stream",
     "text": [
      "\u001b[36m\u001b[1m[ \u001b[22m\u001b[39m\u001b[36m\u001b[1mInfo: \u001b[22m\u001b[39m2023-11-16T14:36:20.848\titeration: 133\tcurrent optimum: 23.647737009668234\n",
      "\u001b[32mProgress: 100%|█████████████████████████████████████████| Time: 0:00:54\u001b[39m\n",
      "\u001b[36m\u001b[1m[ \u001b[22m\u001b[39m\u001b[36m\u001b[1mInfo: \u001b[22m\u001b[39m2023-11-16T14:37:15.317\titeration: 134\tcurrent optimum: 23.647737009668234\n"
     ]
    },
    {
     "name": "stdout",
     "output_type": "stream",
     "text": [
      "s1 = 0.68; s3 = 2.09; Δ1 = 2.18Γ; Δ3 = 1.80Γ\n",
      "Survival: 20 / 20\n",
      "goodness = 21.057\n"
     ]
    },
    {
     "name": "stderr",
     "output_type": "stream",
     "text": [
      "\u001b[32mProgress:  95%|███████████████████████████████████████  |  ETA: 0:00:03\u001b[39m\u001b[32mProgress:  80%|█████████████████████████████████        |  ETA: 0:00:14\u001b[39m\r"
     ]
    },
    {
     "name": "stdout",
     "output_type": "stream",
     "text": [
      "s1 = 2.79; s3 = 1.44; Δ1 = 2.82Γ; Δ3 = 2.53Γ\n",
      "Survival: 20 / 20\n",
      "goodness = 5.399\n"
     ]
    },
    {
     "name": "stderr",
     "output_type": "stream",
     "text": [
      "\u001b[32mProgress: 100%|█████████████████████████████████████████| Time: 0:01:02\u001b[39m\n",
      "\u001b[36m\u001b[1m[ \u001b[22m\u001b[39m\u001b[36m\u001b[1mInfo: \u001b[22m\u001b[39m2023-11-16T14:38:17.622\titeration: 135\tcurrent optimum: 23.647737009668234\n",
      "\u001b[32mProgress: 100%|█████████████████████████████████████████| Time: 0:01:28\u001b[39m\n"
     ]
    },
    {
     "name": "stdout",
     "output_type": "stream",
     "text": [
      "s1 = 3.30; s3 = 1.97; Δ1 = 1.09Γ; Δ3 = 2.54Γ\n",
      "Survival: 11 / 20\n",
      "goodness = 1.573\n"
     ]
    },
    {
     "name": "stderr",
     "output_type": "stream",
     "text": [
      "\u001b[36m\u001b[1m[ \u001b[22m\u001b[39m\u001b[36m\u001b[1mInfo: \u001b[22m\u001b[39m2023-11-16T14:39:46.687\titeration: 136\tcurrent optimum: 23.647737009668234\n",
      "\u001b[32mProgress: 100%|█████████████████████████████████████████| Time: 0:01:40\u001b[39m\n"
     ]
    },
    {
     "name": "stdout",
     "output_type": "stream",
     "text": [
      "s1 = 2.15; s3 = 2.96; Δ1 = 1.91Γ; Δ3 = 1.77Γ\n",
      "Survival: 19 / 20\n",
      "goodness = 1.620\n"
     ]
    },
    {
     "name": "stderr",
     "output_type": "stream",
     "text": [
      "\u001b[36m\u001b[1m[ \u001b[22m\u001b[39m\u001b[36m\u001b[1mInfo: \u001b[22m\u001b[39m2023-11-16T14:41:27.534\titeration: 137\tcurrent optimum: 23.647737009668234\n",
      "\u001b[32mProgress: 100%|█████████████████████████████████████████| Time: 0:01:11\u001b[39m\n"
     ]
    },
    {
     "name": "stdout",
     "output_type": "stream",
     "text": [
      "s1 = 3.09; s3 = 3.65; Δ1 = 1.35Γ; Δ3 = 2.27Γ\n",
      "Survival: 16 / 20\n",
      "goodness = 0.901"
     ]
    },
    {
     "name": "stderr",
     "output_type": "stream",
     "text": [
      "\u001b[36m\u001b[1m[ \u001b[22m\u001b[39m\u001b[36m\u001b[1mInfo: \u001b[22m\u001b[39m2023-11-16T14:42:39.103\titeration: 138\tcurrent optimum: 23.647737009668234\n"
     ]
    },
    {
     "name": "stdout",
     "output_type": "stream",
     "text": [
      "\n"
     ]
    },
    {
     "name": "stderr",
     "output_type": "stream",
     "text": [
      "\u001b[32mProgress: 100%|█████████████████████████████████████████| Time: 0:01:03\u001b[39m\n"
     ]
    },
    {
     "name": "stdout",
     "output_type": "stream",
     "text": [
      "s1 = 4.97; s3 = 0.74; Δ1 = 0.89Γ; Δ3 = 2.34Γ\n",
      "Survival: 3 / 20\n",
      "goodness = 1.165\n"
     ]
    },
    {
     "name": "stderr",
     "output_type": "stream",
     "text": [
      "\u001b[36m\u001b[1m[ \u001b[22m\u001b[39m\u001b[36m\u001b[1mInfo: \u001b[22m\u001b[39m2023-11-16T14:43:45.985\titeration: 139\tcurrent optimum: 23.647737009668234\n",
      "\u001b[32mProgress: 100%|█████████████████████████████████████████| Time: 0:02:01\u001b[39m\n"
     ]
    },
    {
     "name": "stdout",
     "output_type": "stream",
     "text": [
      "s1 = 1.90; s3 = 2.96; Δ1 = 2.66Γ; Δ3 = 2.68Γ\n",
      "Survival: 20 / 20\n",
      "goodness = 1.355\n"
     ]
    },
    {
     "name": "stderr",
     "output_type": "stream",
     "text": [
      "\u001b[36m\u001b[1m[ \u001b[22m\u001b[39m\u001b[36m\u001b[1mInfo: \u001b[22m\u001b[39m2023-11-16T14:45:50.606\titeration: 140\tcurrent optimum: 23.647737009668234\n",
      "\u001b[32mProgress: 100%|█████████████████████████████████████████| Time: 0:01:18\u001b[39m\n",
      "\u001b[36m\u001b[1m[ \u001b[22m\u001b[39m\u001b[36m\u001b[1mInfo: \u001b[22m\u001b[39m2023-11-16T14:47:09.650\titeration: 141\tcurrent optimum: 23.647737009668234\n"
     ]
    },
    {
     "name": "stdout",
     "output_type": "stream",
     "text": [
      "s1 = 1.95; s3 = 1.98; Δ1 = 1.07Γ; Δ3 = 1.03Γ\n",
      "Survival: 9 / 20\n",
      "goodness = 1.315\n"
     ]
    },
    {
     "name": "stderr",
     "output_type": "stream",
     "text": [
      "\u001b[32mProgress: 100%|█████████████████████████████████████████| Time: 0:01:08\u001b[39m\n"
     ]
    },
    {
     "name": "stdout",
     "output_type": "stream",
     "text": [
      "s1 = 0.71; s3 = 5.00; Δ1 = 2.20Γ; Δ3 = 1.81Γ\n",
      "Survival: 17 / 20\n",
      "goodness = 8.566\n"
     ]
    },
    {
     "name": "stderr",
     "output_type": "stream",
     "text": [
      "\u001b[36m\u001b[1m[ \u001b[22m\u001b[39m\u001b[36m\u001b[1mInfo: \u001b[22m\u001b[39m2023-11-16T14:48:18.603\titeration: 142\tcurrent optimum: 23.647737009668234\n",
      "\u001b[32mProgress: 100%|█████████████████████████████████████████| Time: 0:00:49\u001b[39m\n"
     ]
    },
    {
     "name": "stdout",
     "output_type": "stream",
     "text": [
      "s1 = 0.77; s3 = 4.90; Δ1 = 1.66Γ; Δ3 = 2.89Γ\n",
      "Survival: 2 / 20\n",
      "goodness = 0.134"
     ]
    },
    {
     "name": "stderr",
     "output_type": "stream",
     "text": [
      "\u001b[36m\u001b[1m[ \u001b[22m\u001b[39m\u001b[36m\u001b[1mInfo: \u001b[22m\u001b[39m2023-11-16T14:49:08.590\titeration: 143\tcurrent optimum: 23.647737009668234\n"
     ]
    },
    {
     "name": "stdout",
     "output_type": "stream",
     "text": [
      "\n"
     ]
    },
    {
     "name": "stderr",
     "output_type": "stream",
     "text": [
      "\u001b[32mProgress: 100%|█████████████████████████████████████████| Time: 0:00:54\u001b[39m\n",
      "\u001b[36m\u001b[1m[ \u001b[22m\u001b[39m\u001b[36m\u001b[1mInfo: \u001b[22m\u001b[39m2023-11-16T14:50:02.870\titeration: 144\tcurrent optimum: 23.647737009668234\n"
     ]
    },
    {
     "name": "stdout",
     "output_type": "stream",
     "text": [
      "s1 = 2.47; s3 = 4.51; Δ1 = 0.59Γ; Δ3 = 1.13Γ\n",
      "Survival: 7 / 20\n",
      "goodness = 0.000\n"
     ]
    },
    {
     "name": "stderr",
     "output_type": "stream",
     "text": [
      "\u001b[32mProgress: 100%|█████████████████████████████████████████| Time: 0:01:08\u001b[39m\n",
      "\u001b[36m\u001b[1m[ \u001b[22m\u001b[39m\u001b[36m\u001b[1mInfo: \u001b[22m\u001b[39m2023-11-16T14:51:11.155\titeration: 145\tcurrent optimum: 23.647737009668234\n"
     ]
    },
    {
     "name": "stdout",
     "output_type": "stream",
     "text": [
      "s1 = 3.11; s3 = 0.80; Δ1 = 2.24Γ; Δ3 = 2.58Γ\n",
      "Survival: 18 / 20\n",
      "goodness = 1.634\n"
     ]
    },
    {
     "name": "stderr",
     "output_type": "stream",
     "text": [
      "\u001b[32mProgress: 100%|█████████████████████████████████████████| Time: 0:00:59\u001b[39m\n",
      "\u001b[36m\u001b[1m[ \u001b[22m\u001b[39m\u001b[36m\u001b[1mInfo: \u001b[22m\u001b[39m2023-11-16T14:52:10.723\titeration: 146\tcurrent optimum: 23.647737009668234\n"
     ]
    },
    {
     "name": "stdout",
     "output_type": "stream",
     "text": [
      "s1 = 2.76; s3 = 4.15; Δ1 = 2.24Γ; Δ3 = 1.49Γ\n",
      "Survival: 20 / 20\n",
      "goodness = 3.197\n"
     ]
    },
    {
     "name": "stderr",
     "output_type": "stream",
     "text": [
      "\u001b[32mProgress: 100%|█████████████████████████████████████████| Time: 0:01:11\u001b[39m\n"
     ]
    },
    {
     "name": "stdout",
     "output_type": "stream",
     "text": [
      "s1 = 2.26; s3 = 2.06; Δ1 = 0.53Γ; Δ3 = 1.42Γ\n",
      "Survival: 1 / 20\n",
      "goodness = 0.125\n"
     ]
    },
    {
     "name": "stderr",
     "output_type": "stream",
     "text": [
      "\u001b[36m\u001b[1m[ \u001b[22m\u001b[39m\u001b[36m\u001b[1mInfo: \u001b[22m\u001b[39m2023-11-16T14:53:26.481\titeration: 147\tcurrent optimum: 23.647737009668234\n",
      "\u001b[32mProgress: 100%|█████████████████████████████████████████| Time: 0:01:46\u001b[39m\n"
     ]
    },
    {
     "name": "stdout",
     "output_type": "stream",
     "text": [
      "s1 = 3.49; s3 = 1.19; Δ1 = 2.65Γ; Δ3 = 1.48Γ\n",
      "Survival: 20 / 20\n",
      "goodness = 2.596\n"
     ]
    },
    {
     "name": "stderr",
     "output_type": "stream",
     "text": [
      "\u001b[36m\u001b[1m[ \u001b[22m\u001b[39m\u001b[36m\u001b[1mInfo: \u001b[22m\u001b[39m2023-11-16T14:55:15.582\titeration: 148\tcurrent optimum: 23.647737009668234\n",
      "\u001b[32mProgress: 100%|█████████████████████████████████████████| Time: 0:01:13\u001b[39m\n",
      "\u001b[36m\u001b[1m[ \u001b[22m\u001b[39m\u001b[36m\u001b[1mInfo: \u001b[22m\u001b[39m2023-11-16T14:56:29.367\titeration: 149\tcurrent optimum: 23.647737009668234\n"
     ]
    },
    {
     "name": "stdout",
     "output_type": "stream",
     "text": [
      "s1 = 2.25; s3 = 4.36; Δ1 = 1.99Γ; Δ3 = 2.64Γ\n",
      "Survival: 20 / 20\n",
      "goodness = 0.874\n"
     ]
    },
    {
     "name": "stderr",
     "output_type": "stream",
     "text": [
      "\u001b[32mProgress: 100%|█████████████████████████████████████████| Time: 0:01:05\u001b[39m\n"
     ]
    },
    {
     "name": "stdout",
     "output_type": "stream",
     "text": [
      "s1 = 4.45; s3 = 2.48; Δ1 = 0.69Γ; Δ3 = 0.93Γ\n",
      "Survival: 9 / 20\n",
      "goodness = 0.234\n"
     ]
    },
    {
     "name": "stderr",
     "output_type": "stream",
     "text": [
      "\u001b[36m\u001b[1m┌ \u001b[22m\u001b[39m\u001b[36m\u001b[1mInfo: \u001b[22m\u001b[39m ────────────────────────────────────────────────────────────────────────────────\n",
      "\u001b[36m\u001b[1m│ \u001b[22m\u001b[39m                                        Time                    Allocations      \n",
      "\u001b[36m\u001b[1m│ \u001b[22m\u001b[39m                               ───────────────────────   ────────────────────────\n",
      "\u001b[36m\u001b[1m│ \u001b[22m\u001b[39m       Tot / % measured:            2111s / 100.0%            366MiB /  99.9%    \n",
      "\u001b[36m\u001b[1m│ \u001b[22m\u001b[39m\n",
      "\u001b[36m\u001b[1m│ \u001b[22m\u001b[39m Section               ncalls     time    %tot     avg     alloc    %tot      avg\n",
      "\u001b[36m\u001b[1m│ \u001b[22m\u001b[39m ────────────────────────────────────────────────────────────────────────────────\n",
      "\u001b[36m\u001b[1m│ \u001b[22m\u001b[39m function evaluation       30    2100s   99.5%   70.0s    259MiB   70.8%  8.63MiB\n",
      "\u001b[36m\u001b[1m│ \u001b[22m\u001b[39m model hyperparamet...     30    10.5s    0.5%   350ms   95.0MiB   26.0%  3.17MiB\n",
      "\u001b[36m\u001b[1m│ \u001b[22m\u001b[39m acquisition               31   10.1ms    0.0%   327μs   11.1MiB    3.1%   368KiB\n",
      "\u001b[36m\u001b[1m│ \u001b[22m\u001b[39m model update              30   4.15ms    0.0%   138μs    392KiB    0.1%  13.1KiB\n",
      "\u001b[36m\u001b[1m└ \u001b[22m\u001b[39m ────────────────────────────────────────────────────────────────────────────────\n",
      "\u001b[36m\u001b[1m[ \u001b[22m\u001b[39m\u001b[36m\u001b[1mInfo: \u001b[22m\u001b[39m2023-11-16T14:57:35.505\titeration: 150\tcurrent optimum: 23.647737009668234\n"
     ]
    },
    {
     "name": "stdout",
     "output_type": "stream",
     "text": [
      "===== Autosaved =====\n"
     ]
    },
    {
     "name": "stderr",
     "output_type": "stream",
     "text": [
      "\u001b[32mProgress: 100%|█████████████████████████████████████████| Time: 0:00:59\u001b[39m\n",
      "\u001b[36m\u001b[1m[ \u001b[22m\u001b[39m\u001b[36m\u001b[1mInfo: \u001b[22m\u001b[39m2023-11-16T14:58:35.146\titeration: 151\tcurrent optimum: 23.647737009668234\n"
     ]
    },
    {
     "name": "stdout",
     "output_type": "stream",
     "text": [
      "s1 = 4.93; s3 = 1.26; Δ1 = 1.49Γ; Δ3 = 1.78Γ\n",
      "Survival: 15 / 20\n",
      "goodness = 0.763\n"
     ]
    },
    {
     "name": "stderr",
     "output_type": "stream",
     "text": [
      "\u001b[32mProgress:  85%|███████████████████████████████████      |  ETA: 0:00:09\u001b[39m"
     ]
    },
    {
     "name": "stdout",
     "output_type": "stream",
     "text": [
      "s1 = 3.69; s3 = 1.87; Δ1 = 1.25Γ; Δ3 = 0.54Γ\n",
      "Survival: 13 / 20\n",
      "goodness = 1.931\n"
     ]
    },
    {
     "name": "stderr",
     "output_type": "stream",
     "text": [
      "\u001b[32mProgress: 100%|█████████████████████████████████████████| Time: 0:00:58\u001b[39m\n",
      "\u001b[36m\u001b[1m[ \u001b[22m\u001b[39m\u001b[36m\u001b[1mInfo: \u001b[22m\u001b[39m2023-11-16T14:59:33.310\titeration: 152\tcurrent optimum: 23.647737009668234\n",
      "\u001b[32mProgress: 100%|█████████████████████████████████████████| Time: 0:00:44\u001b[39m\n",
      "\u001b[36m\u001b[1m[ \u001b[22m\u001b[39m\u001b[36m\u001b[1mInfo: \u001b[22m\u001b[39m2023-11-16T15:00:18.144\titeration: 153\tcurrent optimum: 23.647737009668234\n"
     ]
    },
    {
     "name": "stdout",
     "output_type": "stream",
     "text": [
      "s1 = 0.85; s3 = 2.88; Δ1 = 2.38Γ; Δ3 = 1.17Γ\n",
      "Survival: 6 / 20\n",
      "goodness = 2.759\n"
     ]
    },
    {
     "name": "stderr",
     "output_type": "stream",
     "text": [
      "\u001b[32mProgress: 100%|█████████████████████████████████████████| Time: 0:00:56\u001b[39m\n",
      "\u001b[36m\u001b[1m[ \u001b[22m\u001b[39m\u001b[36m\u001b[1mInfo: \u001b[22m\u001b[39m2023-11-16T15:01:14.966\titeration: 154\tcurrent optimum: 23.647737009668234\n"
     ]
    },
    {
     "name": "stdout",
     "output_type": "stream",
     "text": [
      "s1 = 3.89; s3 = 2.13; Δ1 = 1.49Γ; Δ3 = 0.77Γ\n",
      "Survival: 17 / 20\n",
      "goodness = 1.115\n"
     ]
    },
    {
     "name": "stderr",
     "output_type": "stream",
     "text": [
      "\u001b[32mProgress: 100%|█████████████████████████████████████████| Time: 0:01:34\u001b[39m\n"
     ]
    },
    {
     "name": "stdout",
     "output_type": "stream",
     "text": [
      "s1 = 2.06; s3 = 4.38; Δ1 = 1.79Γ; Δ3 = 0.75Γ\n",
      "Survival: 15 / 20\n",
      "goodness = 4.816\n"
     ]
    },
    {
     "name": "stderr",
     "output_type": "stream",
     "text": [
      "\u001b[36m\u001b[1m[ \u001b[22m\u001b[39m\u001b[36m\u001b[1mInfo: \u001b[22m\u001b[39m2023-11-16T15:02:52.143\titeration: 155\tcurrent optimum: 23.647737009668234\n",
      "\u001b[32mProgress: 100%|█████████████████████████████████████████| Time: 0:03:06\u001b[39m\n"
     ]
    },
    {
     "name": "stdout",
     "output_type": "stream",
     "text": [
      "s1 = 1.82; s3 = 0.66; Δ1 = 1.66Γ; Δ3 = 2.18Γ\n",
      "Survival: 13 / 20\n",
      "goodness = 1.629\n"
     ]
    },
    {
     "name": "stderr",
     "output_type": "stream",
     "text": [
      "\u001b[36m\u001b[1m[ \u001b[22m\u001b[39m\u001b[36m\u001b[1mInfo: \u001b[22m\u001b[39m2023-11-16T15:05:59.393\titeration: 156\tcurrent optimum: 23.647737009668234\n",
      "\u001b[32mProgress: 100%|█████████████████████████████████████████| Time: 0:01:22\u001b[39m\n"
     ]
    },
    {
     "name": "stdout",
     "output_type": "stream",
     "text": [
      "s1 = 0.80; s3 = 0.90; Δ1 = 0.92Γ; Δ3 = 2.27Γ\n",
      "Survival: 4 / 20\n",
      "goodness = 0.000\n"
     ]
    },
    {
     "name": "stderr",
     "output_type": "stream",
     "text": [
      "\u001b[36m\u001b[1m[ \u001b[22m\u001b[39m\u001b[36m\u001b[1mInfo: \u001b[22m\u001b[39m2023-11-16T15:07:25.405\titeration: 157\tcurrent optimum: 23.647737009668234\n",
      "\u001b[32mProgress: 100%|█████████████████████████████████████████| Time: 0:01:18\u001b[39m\n"
     ]
    },
    {
     "name": "stdout",
     "output_type": "stream",
     "text": [
      "s1 = 4.19; s3 = 2.31; Δ1 = 1.92Γ; Δ3 = 1.37Γ\n",
      "Survival: 20 / 20\n",
      "goodness = 0.589"
     ]
    },
    {
     "name": "stderr",
     "output_type": "stream",
     "text": [
      "\u001b[36m\u001b[1m[ \u001b[22m\u001b[39m\u001b[36m\u001b[1mInfo: \u001b[22m\u001b[39m2023-11-16T15:08:43.958\titeration: 158\tcurrent optimum: 23.647737009668234\n"
     ]
    },
    {
     "name": "stdout",
     "output_type": "stream",
     "text": [
      "\n"
     ]
    },
    {
     "name": "stderr",
     "output_type": "stream",
     "text": [
      "\u001b[32mProgress: 100%|█████████████████████████████████████████| Time: 0:01:14\u001b[39m\n",
      "\u001b[36m\u001b[1m[ \u001b[22m\u001b[39m\u001b[36m\u001b[1mInfo: \u001b[22m\u001b[39m2023-11-16T15:09:58.225\titeration: 159\tcurrent optimum: 23.647737009668234\n"
     ]
    },
    {
     "name": "stdout",
     "output_type": "stream",
     "text": [
      "s1 = 1.54; s3 = 1.27; Δ1 = 2.91Γ; Δ3 = 2.36Γ\n",
      "Survival: 20 / 20\n",
      "goodness = 9.109\n"
     ]
    },
    {
     "name": "stderr",
     "output_type": "stream",
     "text": [
      "\u001b[32mProgress: 100%|█████████████████████████████████████████| Time: 0:00:51\u001b[39m\n",
      "\u001b[36m\u001b[1m[ \u001b[22m\u001b[39m\u001b[36m\u001b[1mInfo: \u001b[22m\u001b[39m2023-11-16T15:10:49.939\titeration: 160\tcurrent optimum: 23.647737009668234\n"
     ]
    },
    {
     "name": "stdout",
     "output_type": "stream",
     "text": [
      "s1 = 0.50; s3 = 2.85; Δ1 = 1.24Γ; Δ3 = 1.33Γ\n",
      "Survival: 12 / 20\n",
      "goodness = 0.477\n"
     ]
    },
    {
     "name": "stderr",
     "output_type": "stream",
     "text": [
      "\u001b[32mProgress: 100%|█████████████████████████████████████████| Time: 0:01:07\u001b[39m\n",
      "\u001b[36m\u001b[1m[ \u001b[22m\u001b[39m\u001b[36m\u001b[1mInfo: \u001b[22m\u001b[39m2023-11-16T15:11:57.239\titeration: 161\tcurrent optimum: 23.647737009668234\n"
     ]
    },
    {
     "name": "stdout",
     "output_type": "stream",
     "text": [
      "s1 = 3.00; s3 = 4.65; Δ1 = 1.64Γ; Δ3 = 0.56Γ\n",
      "Survival: 13 / 20\n",
      "goodness = 1.067\n"
     ]
    },
    {
     "name": "stderr",
     "output_type": "stream",
     "text": [
      "\u001b[32mProgress: 100%|█████████████████████████████████████████| Time: 0:01:13\u001b[39m\n"
     ]
    },
    {
     "name": "stdout",
     "output_type": "stream",
     "text": [
      "s1 = 2.52; s3 = 3.32; Δ1 = 2.77Γ; Δ3 = 1.62Γ\n",
      "Survival: 20 / 20\n",
      "goodness = 2.373\n"
     ]
    },
    {
     "name": "stderr",
     "output_type": "stream",
     "text": [
      "\u001b[36m\u001b[1m[ \u001b[22m\u001b[39m\u001b[36m\u001b[1mInfo: \u001b[22m\u001b[39m2023-11-16T15:13:10.974\titeration: 162\tcurrent optimum: 23.647737009668234\n",
      "\u001b[32mProgress: 100%|█████████████████████████████████████████| Time: 0:00:48\u001b[39m\n",
      "\u001b[36m\u001b[1m[ \u001b[22m\u001b[39m\u001b[36m\u001b[1mInfo: \u001b[22m\u001b[39m2023-11-16T15:13:59.309\titeration: 163\tcurrent optimum: 23.647737009668234\n"
     ]
    },
    {
     "name": "stdout",
     "output_type": "stream",
     "text": [
      "s1 = 0.75; s3 = 4.10; Δ1 = 2.57Γ; Δ3 = 2.40Γ\n",
      "Survival: 16 / 20\n",
      "goodness = 4.251\n"
     ]
    },
    {
     "name": "stderr",
     "output_type": "stream",
     "text": [
      "\u001b[32mProgress: 100%|█████████████████████████████████████████| Time: 0:02:06\u001b[39m\n"
     ]
    },
    {
     "name": "stdout",
     "output_type": "stream",
     "text": [
      "s1 = 3.78; s3 = 4.25; Δ1 = 2.68Γ; Δ3 = 2.61Γ\n",
      "Survival: 19 / 20\n",
      "goodness = 0.464"
     ]
    },
    {
     "name": "stderr",
     "output_type": "stream",
     "text": [
      "\u001b[36m\u001b[1m[ \u001b[22m\u001b[39m\u001b[36m\u001b[1mInfo: \u001b[22m\u001b[39m2023-11-16T15:16:07.759\titeration: 164\tcurrent optimum: 23.647737009668234\n"
     ]
    },
    {
     "name": "stdout",
     "output_type": "stream",
     "text": [
      "\n"
     ]
    },
    {
     "name": "stderr",
     "output_type": "stream",
     "text": [
      "\u001b[32mProgress: 100%|█████████████████████████████████████████| Time: 0:01:23\u001b[39m\n"
     ]
    },
    {
     "name": "stdout",
     "output_type": "stream",
     "text": [
      "s1 = 0.97; s3 = 1.52; Δ1 = 2.09Γ; Δ3 = 1.97Γ\n",
      "Survival: 17 / 20\n",
      "goodness = 5.997\n"
     ]
    },
    {
     "name": "stderr",
     "output_type": "stream",
     "text": [
      "\u001b[36m\u001b[1m[ \u001b[22m\u001b[39m\u001b[36m\u001b[1mInfo: \u001b[22m\u001b[39m2023-11-16T15:17:34.483\titeration: 165\tcurrent optimum: 23.647737009668234\n",
      "\u001b[32mProgress: 100%|█████████████████████████████████████████| Time: 0:01:46\u001b[39m\n"
     ]
    },
    {
     "name": "stdout",
     "output_type": "stream",
     "text": [
      "s1 = 4.64; s3 = 0.70; Δ1 = 2.08Γ; Δ3 = 0.62Γ\n",
      "Survival: 20 / 20\n",
      "goodness = 2.126"
     ]
    },
    {
     "name": "stderr",
     "output_type": "stream",
     "text": [
      "\u001b[36m\u001b[1m[ \u001b[22m\u001b[39m\u001b[36m\u001b[1mInfo: \u001b[22m\u001b[39m2023-11-16T15:19:21.197\titeration: 166\tcurrent optimum: 23.647737009668234\n"
     ]
    },
    {
     "name": "stdout",
     "output_type": "stream",
     "text": [
      "\n"
     ]
    },
    {
     "name": "stderr",
     "output_type": "stream",
     "text": [
      "\u001b[32mProgress: 100%|█████████████████████████████████████████| Time: 0:00:56\u001b[39m\n"
     ]
    },
    {
     "name": "stdout",
     "output_type": "stream",
     "text": [
      "s1 = 0.78; s3 = 1.72; Δ1 = 2.22Γ; Δ3 = 2.77Γ\n",
      "Survival: 13 / 20\n",
      "goodness = 2.751\n"
     ]
    },
    {
     "name": "stderr",
     "output_type": "stream",
     "text": [
      "\u001b[36m\u001b[1m[ \u001b[22m\u001b[39m\u001b[36m\u001b[1mInfo: \u001b[22m\u001b[39m2023-11-16T15:20:18.276\titeration: 167\tcurrent optimum: 23.647737009668234\n",
      "\u001b[32mProgress: 100%|█████████████████████████████████████████| Time: 0:00:54\u001b[39m\n",
      "\u001b[36m\u001b[1m[ \u001b[22m\u001b[39m\u001b[36m\u001b[1mInfo: \u001b[22m\u001b[39m2023-11-16T15:21:13.026\titeration: 168\tcurrent optimum: 23.647737009668234\n"
     ]
    },
    {
     "name": "stdout",
     "output_type": "stream",
     "text": [
      "s1 = 1.47; s3 = 4.75; Δ1 = 2.68Γ; Δ3 = 1.80Γ\n",
      "Survival: 9 / 20\n",
      "goodness = 4.770\n"
     ]
    },
    {
     "name": "stderr",
     "output_type": "stream",
     "text": [
      "\u001b[32mProgress: 100%|█████████████████████████████████████████| Time: 0:01:02\u001b[39m\n",
      "\u001b[36m\u001b[1m[ \u001b[22m\u001b[39m\u001b[36m\u001b[1mInfo: \u001b[22m\u001b[39m2023-11-16T15:22:15.958\titeration: 169\tcurrent optimum: 23.647737009668234\n"
     ]
    },
    {
     "name": "stdout",
     "output_type": "stream",
     "text": [
      "s1 = 1.42; s3 = 4.09; Δ1 = 2.14Γ; Δ3 = 1.34Γ\n",
      "Survival: 13 / 20\n",
      "goodness = 5.695\n"
     ]
    },
    {
     "name": "stderr",
     "output_type": "stream",
     "text": [
      "\u001b[32mProgress: 100%|█████████████████████████████████████████| Time: 0:01:02\u001b[39m\n",
      "\u001b[36m\u001b[1m[ \u001b[22m\u001b[39m\u001b[36m\u001b[1mInfo: \u001b[22m\u001b[39m2023-11-16T15:23:18.705\titeration: 170\tcurrent optimum: 23.647737009668234\n"
     ]
    },
    {
     "name": "stdout",
     "output_type": "stream",
     "text": [
      "s1 = 1.53; s3 = 3.94; Δ1 = 1.80Γ; Δ3 = 1.59Γ\n",
      "Survival: 19 / 20\n",
      "goodness = 1.962\n"
     ]
    },
    {
     "name": "stderr",
     "output_type": "stream",
     "text": [
      "\u001b[32mProgress: 100%|█████████████████████████████████████████| Time: 0:01:05\u001b[39m"
     ]
    },
    {
     "name": "stdout",
     "output_type": "stream",
     "text": [
      "s1 = 2.49; s3 = 2.19; Δ1 = 1.65Γ; Δ3 = 0.67Γ\n",
      "Survival: 20 / 20\n",
      "goodness = 2.428"
     ]
    },
    {
     "name": "stderr",
     "output_type": "stream",
     "text": [
      "\n",
      "\u001b[36m\u001b[1m[ \u001b[22m\u001b[39m\u001b[36m\u001b[1mInfo: \u001b[22m\u001b[39m2023-11-16T15:24:24.220\titeration: 171\tcurrent optimum: 23.647737009668234\n"
     ]
    },
    {
     "name": "stdout",
     "output_type": "stream",
     "text": [
      "\n"
     ]
    },
    {
     "name": "stderr",
     "output_type": "stream",
     "text": [
      "\u001b[32mProgress: 100%|█████████████████████████████████████████| Time: 0:01:19\u001b[39m\n",
      "\u001b[36m\u001b[1m[ \u001b[22m\u001b[39m\u001b[36m\u001b[1mInfo: \u001b[22m\u001b[39m2023-11-16T15:25:44.234\titeration: 172\tcurrent optimum: 23.647737009668234\n"
     ]
    },
    {
     "name": "stdout",
     "output_type": "stream",
     "text": [
      "s1 = 4.29; s3 = 3.78; Δ1 = 2.13Γ; Δ3 = 0.66Γ\n",
      "Survival: 18 / 20\n",
      "goodness = 0.662\n"
     ]
    },
    {
     "name": "stderr",
     "output_type": "stream",
     "text": [
      "\u001b[32mProgress: 100%|█████████████████████████████████████████| Time: 0:01:09\u001b[39m\n"
     ]
    },
    {
     "name": "stdout",
     "output_type": "stream",
     "text": [
      "s1 = 1.85; s3 = 1.71; Δ1 = 1.80Γ; Δ3 = 0.57Γ\n",
      "Survival: 15 / 20\n",
      "goodness = 2.261"
     ]
    },
    {
     "name": "stderr",
     "output_type": "stream",
     "text": [
      "\u001b[36m\u001b[1m[ \u001b[22m\u001b[39m\u001b[36m\u001b[1mInfo: \u001b[22m\u001b[39m2023-11-16T15:26:54.395\titeration: 173\tcurrent optimum: 23.647737009668234\n"
     ]
    },
    {
     "name": "stdout",
     "output_type": "stream",
     "text": [
      "\n"
     ]
    },
    {
     "name": "stderr",
     "output_type": "stream",
     "text": [
      "\u001b[32mProgress: 100%|█████████████████████████████████████████| Time: 0:01:37\u001b[39m\n"
     ]
    },
    {
     "name": "stdout",
     "output_type": "stream",
     "text": [
      "s1 = 1.54; s3 = 1.06; Δ1 = 1.24Γ; Δ3 = 0.92Γ\n",
      "Survival: 16 / 20\n",
      "goodness = 5.005\n"
     ]
    }
   ],
   "source": [
    "using Serialization\n",
    "working_dir = \"C:\\\\Users\\\\halla\\\\OneDrive\\\\Desktop\\\\blueMOT_sim\\\\Bayesian\"\n",
    "# opt = deserialize(joinpath(working_dir, \"opt_constrained_red_freq.jl\"))\n",
    "    \n",
    "while true\n",
    "    maxiterations!(opt, 30)\n",
    "    result = boptimize!(opt)\n",
    "    serialize(joinpath(working_dir, \"opt_2freq_4param_-30B_flip_pol.jl\"), opt)\n",
    "    println(\"===== Autosaved =====\")\n",
    "    \n",
    "end"
   ]
  },
  {
   "cell_type": "code",
   "execution_count": null,
   "id": "0234bfab",
   "metadata": {},
   "outputs": [],
   "source": []
  },
  {
   "cell_type": "code",
   "execution_count": null,
   "id": "5ff3f99f",
   "metadata": {},
   "outputs": [],
   "source": []
  },
  {
   "cell_type": "code",
   "execution_count": null,
   "id": "df9eb643",
   "metadata": {},
   "outputs": [],
   "source": []
  },
  {
   "cell_type": "code",
   "execution_count": null,
   "id": "1c7b0002",
   "metadata": {},
   "outputs": [],
   "source": []
  },
  {
   "cell_type": "code",
   "execution_count": null,
   "id": "2f35f722",
   "metadata": {},
   "outputs": [],
   "source": []
  },
  {
   "cell_type": "code",
   "execution_count": null,
   "id": "8442e768-e5ee-4575-b0e4-958f3f497b58",
   "metadata": {},
   "outputs": [],
   "source": []
  },
  {
   "cell_type": "code",
   "execution_count": null,
   "id": "00494baf",
   "metadata": {},
   "outputs": [],
   "source": []
  },
  {
   "cell_type": "code",
   "execution_count": null,
   "id": "80945aba",
   "metadata": {},
   "outputs": [],
   "source": []
  },
  {
   "cell_type": "code",
   "execution_count": null,
   "id": "a3d7c8b6",
   "metadata": {},
   "outputs": [],
   "source": []
  },
  {
   "cell_type": "code",
   "execution_count": null,
   "id": "89f098b1",
   "metadata": {},
   "outputs": [],
   "source": []
  },
  {
   "cell_type": "code",
   "execution_count": null,
   "id": "ba596761-8ca5-4808-8429-5fcb0c6705a0",
   "metadata": {},
   "outputs": [],
   "source": []
  },
  {
   "cell_type": "markdown",
   "id": "45695fd2-fcc6-40a3-92e8-b16dc8748252",
   "metadata": {},
   "source": [
    "## Scanning configurations"
   ]
  },
  {
   "cell_type": "code",
   "execution_count": null,
   "id": "2022eb1a-6bf4-4882-8f98-31c2a93d9bf2",
   "metadata": {},
   "outputs": [],
   "source": [
    "# fixed:\n",
    "t_end = 30e-3 #s\n",
    "n_values = 20\n",
    "ramp_time = 4e-3 #s\n",
    "B_gradient = 30 #G/cm\n",
    "\n",
    "temp = @with_unit 0.5 \"mK\"\n",
    "diameter = @with_unit 0.6 \"mm\"\n",
    "displacement = [0.0, 0.0, 0.0]\n",
    "kick = [0,0, 0.0, 0.0]\n",
    "\n",
    "# variable:\n",
    "pol1_x_list = [σ⁻]\n",
    "pol2_x_list = [σ⁺]\n",
    "pol3_x_list = [σ⁻]\n",
    "pol4_x_list = [σ⁺]\n",
    "\n",
    "s1_list = [1.5, 2.0, 2.5]\n",
    "s2_list = [0.0]\n",
    "s3_list = [0.05, 0.1]\n",
    "s4_list = [0.05, 0.1]\n",
    "\n",
    "Δ1_list = [2.0, 4.0, 6.0] .* Γ\n",
    "Δ2_list = [0.0]\n",
    "Δ3_list = [-0.5, -1.0, -1.5] .* Γ\n",
    "Δ4_list = [0.5, 1.0, 1.5] .* Γ\n",
    "\n",
    "lists = [pol1_x_list, pol2_x_list, pol3_x_list, pol4_x_list,\n",
    "        s1_list, s2_list, s3_list, s4_list,\n",
    "        Δ1_list, Δ2_list, Δ3_list, Δ4_list]\n",
    "\n",
    "n_scans = 1\n",
    "for l in lists\n",
    "   n_scans *= length(l) \n",
    "end\n",
    "\n",
    "comments = \"scan d3 +- 1MHz\";\n",
    "saving_dir = make_scan_folder(lists, working_dir, 1, comments);\n",
    "\n",
    "scan_counter = 0\n",
    "indicies = [\n",
    "    1,1,1,1, \n",
    "    1,1,1,1, \n",
    "    1,1,1,1\n",
    "];"
   ]
  },
  {
   "cell_type": "code",
   "execution_count": null,
   "id": "16f127fc-f238-44cb-96de-b52fcee583f3",
   "metadata": {},
   "outputs": [],
   "source": [
    "while scan_counter < n_scans\n",
    "    @printf(\"============= configuration %i / %i =============\", scan_counter+1, n_scans)\n",
    "    println()\n",
    "    \n",
    "    pol1_x = pol1_x_list[indicies[1]]\n",
    "    pol2_x = pol2_x_list[indicies[2]]\n",
    "    pol3_x = pol3_x_list[indicies[3]]\n",
    "    pol4_x = pol4_x_list[indicies[4]]\n",
    "    s1 = s1_list[indicies[5]]\n",
    "    s2 = s2_list[indicies[6]]\n",
    "    s3 = s3_list[indicies[7]]\n",
    "    s4 = s4_list[indicies[8]]\n",
    "    Δ1 = Δ1_list[indicies[9]]\n",
    "    Δ2 = Δ2_list[indicies[10]]\n",
    "    Δ3 = Δ3_list[indicies[11]]\n",
    "    Δ4 = Δ4_list[indicies[12]]\n",
    "    \n",
    "    params = MutableNamedTuple(t_end = t_end, n_values = n_values,\n",
    "                            pol1_x=pol1_x, pol2_x=pol2_x, pol3_x=pol3_x, pol4_x=pol4_x, \n",
    "                            s1=s1, s2=s2, s3=s3, s4=s4,\n",
    "                            Δ1=Δ1, Δ2=Δ2, Δ3=Δ3, Δ4=Δ4, \n",
    "                            B_gradient = B_gradient, \n",
    "                            temp=temp, diameter=diameter, \n",
    "                            displacement=displacement, kick=kick,\n",
    "                            ramp_time = ramp_time)\n",
    "\n",
    "    test_i = log_test_info(saving_dir,1,params)\n",
    "    \n",
    "    results = simulate_particles(package, params, params.n_values);\n",
    "\n",
    "    save_results(saving_dir, test_i, results)\n",
    "    \n",
    "    scan_counter += 1 \n",
    "    next_configuration!(lists, indicies)\n",
    "    \n",
    "end\n",
    ";"
   ]
  },
  {
   "cell_type": "code",
   "execution_count": null,
   "id": "0bd27fc5-9ad6-4246-8cb6-83e913bc3cc5",
   "metadata": {},
   "outputs": [],
   "source": []
  }
 ],
 "metadata": {
  "kernelspec": {
   "display_name": "Julia (20 threads) 1.9.2",
   "language": "julia",
   "name": "julia-_20-threads_-1.9"
  },
  "language_info": {
   "file_extension": ".jl",
   "mimetype": "application/julia",
   "name": "julia",
   "version": "1.9.2"
  }
 },
 "nbformat": 4,
 "nbformat_minor": 5
}
