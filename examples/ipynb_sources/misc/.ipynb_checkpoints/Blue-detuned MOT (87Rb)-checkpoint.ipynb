{
 "cells": [
  {
   "cell_type": "markdown",
   "id": "3f50d2d3-72cd-4712-875f-73139c0d04b0",
   "metadata": {
    "tags": []
   },
   "source": [
    "# Reproduce Fig. 1 from \"Blue-Detuned Magneto-Optical Trap\" (PRL 120, 083201 (2018))\n",
    "\n",
    "* Values are from Steck notes of the 87Rb D2 line\n",
    "* Energies are in MHz\n"
   ]
  },
  {
   "cell_type": "code",
   "execution_count": 1,
   "id": "88d9f069-4a3e-440f-ba63-12dbac65d56b",
   "metadata": {},
   "outputs": [],
   "source": [
    "using Revise"
   ]
  },
  {
   "cell_type": "code",
   "execution_count": 2,
   "id": "b0fa20c6-1e0b-4580-82df-6ea7f358692f",
   "metadata": {},
   "outputs": [],
   "source": [
    "using\n",
    "    QuantumStates,\n",
    "    OpticalBlochEquations,\n",
    "    DifferentialEquations,\n",
    "    UnitsToValue"
   ]
  },
  {
   "cell_type": "code",
   "execution_count": 3,
   "id": "b9c62805-1344-4060-bef3-c183e2d9b4c4",
   "metadata": {},
   "outputs": [],
   "source": [
    "λ = 780.241209686e-9\n",
    "Γ = 2π * 6.065e6 # in units of MHz\n",
    "m = @with_unit 87 \"u\"\n",
    "k = 2π / λ\n",
    ";"
   ]
  },
  {
   "cell_type": "markdown",
   "id": "aace7b0c-f9fd-4ab6-a8c5-3a61baf6194b",
   "metadata": {},
   "source": [
    "$5^2S_{1/2}$ state\n"
   ]
  },
  {
   "cell_type": "code",
   "execution_count": 4,
   "id": "164df9dd-f169-465f-a45c-f2ec6a85d723",
   "metadata": {},
   "outputs": [],
   "source": [
    "# F = 1\n",
    "QN_bounds = (E = 0.0, F = 1)\n",
    "F1_lower = enumerate_states(AngularMomentumState, QN_bounds)\n",
    "\n",
    "# F = 2\n",
    "QN_bounds = (E = 6.83468261090429e9, F = 2) # GHz (in units of MHz)\n",
    "F2_lower = enumerate_states(AngularMomentumState, QN_bounds)\n",
    ";"
   ]
  },
  {
   "cell_type": "markdown",
   "id": "defa2ac5-a441-4aff-bee0-82a09d991265",
   "metadata": {},
   "source": [
    "$5^2P_{3/2}$\n"
   ]
  },
  {
   "cell_type": "code",
   "execution_count": 5,
   "id": "f0aba979-c21f-4b4f-8a86-16ee093e6ebe",
   "metadata": {},
   "outputs": [],
   "source": [
    "E_upper = 384.2304844685e12 # THz (in units of MHz)\n",
    "\n",
    "# F = 1\n",
    "QN_bounds = (E = E_upper - 72.9113e6 - 156.947e6, F = 1)\n",
    "F1_upper = enumerate_states(AngularMomentumState, QN_bounds)\n",
    "\n",
    "# F = 2\n",
    "QN_bounds = (E = E_upper - 72.9113e6, F = 2)\n",
    "F2_upper = enumerate_states(AngularMomentumState, QN_bounds)\n",
    ";"
   ]
  },
  {
   "cell_type": "code",
   "execution_count": 6,
   "id": "cfead26b-817b-4149-9072-36f5931329ff",
   "metadata": {},
   "outputs": [],
   "source": [
    "ground_states = [F1_lower; F2_lower]\n",
    "excited_states = [F1_upper; F2_upper]\n",
    "states = [ground_states; excited_states]\n",
    ";"
   ]
  },
  {
   "cell_type": "code",
   "execution_count": 7,
   "id": "e5826d2c-6e46-484a-ae99-15feda27fbf4",
   "metadata": {},
   "outputs": [],
   "source": [
    "d = zeros(length(states), length(states), 3)\n",
    "for (i, state) in enumerate(ground_states)\n",
    "    for (j, state′) in enumerate(excited_states)\n",
    "        j += length(ground_states)\n",
    "        for p in -1:1\n",
    "            tdm = TDM(state, state′, p)\n",
    "            d[i,j,p+2] = tdm\n",
    "            # d[j,i,p+2] = conj(tdm)\n",
    "        end\n",
    "    end\n",
    "end\n",
    "\n",
    "# Magnetic moments in units of MHz/G\n",
    "# For now, only assuming a field along the z axis\n",
    "d_m = zeros(length(states), length(states), 3)\n",
    "for (i, state) in enumerate(states)\n",
    "    for (j, state′) in enumerate(states)\n",
    "        for p ∈ -1:1\n",
    "            if j > i\n",
    "                d_m[i,j,p+2] += TDM_magnetic(state, state′, p) * (state.E == state′.E)\n",
    "                d_m[i,j,p+2] += TDM_magnetic(state′, state, p) * (state.E == state′.E)\n",
    "            elseif i == j\n",
    "                d_m[i,j,p+2] += TDM_magnetic(state, state′, p) * (state.E == state′.E)\n",
    "            end\n",
    "        end\n",
    "    end\n",
    "end\n",
    "d_m[1:3,1:3,:]     .*= (-1/2)\n",
    "d_m[4:8,4:8,:]     .*= ( 1/2)\n",
    "d_m[9:11,9:11,:]   .*= (2/3)\n",
    "d_m[12:16,12:16,:] .*= (2/3)\n",
    "# d_m ./= (Γ / (μB * 1e6))\n",
    ";"
   ]
  },
  {
   "cell_type": "code",
   "execution_count": 8,
   "id": "4d395359-3dd4-4b2f-9190-9c19003e4090",
   "metadata": {
    "tags": []
   },
   "outputs": [],
   "source": [
    "# Laser parameters\n",
    "δf11 = +11.5e6\n",
    "δf22 = +26.0e6\n",
    "θ₁ = 0.0\n",
    "θ₂ = 0.0\n",
    "\n",
    "Isat = 2.503\n",
    "s = (113 / Isat) / 12\n",
    "\n",
    "# pol = σ⁻\n",
    "pol = σ⁺\n",
    "\n",
    "# Create MOT beams for F=1 -> F'=1 transition\n",
    "ω_F1_to_F1 = 2π * (F1_upper[1].E - F1_lower[1].E + δf11)\n",
    "\n",
    "k̂ = +x̂\n",
    "ϵ = exp(im * θ₁) * rotate_pol(pol, k̂)\n",
    "laser1 = Laser(k̂, ϵ, ω_F1_to_F1, s)\n",
    "\n",
    "k̂ = -x̂\n",
    "ϵ = exp(im * θ₁) * rotate_pol(pol, k̂)\n",
    "laser2 = Laser(k̂, ϵ, ω_F1_to_F1, s)\n",
    "\n",
    "k̂ = +ŷ\n",
    "ϵ = exp(im * θ₂) * rotate_pol(pol, k̂)\n",
    "laser3 = Laser(k̂, ϵ, ω_F1_to_F1, s)\n",
    "\n",
    "k̂ = -ŷ\n",
    "ϵ = exp(im * θ₂) * rotate_pol(pol, k̂)\n",
    "laser4 = Laser(k̂, ϵ, ω_F1_to_F1, s)\n",
    "\n",
    "k̂ = +ẑ\n",
    "ϵ = rotate_pol(pol, k̂)\n",
    "laser5 = Laser(k̂, ϵ, ω_F1_to_F1, s)\n",
    "\n",
    "k̂ = -ẑ\n",
    "ϵ = rotate_pol(pol, k̂)\n",
    "laser6 = Laser(k̂, ϵ, ω_F1_to_F1, s)\n",
    "\n",
    "# Create MOT beams for F=2 -> F'=2 transition\n",
    "ω_F2_to_F2 = 2π * (F2_upper[1].E - F2_lower[1].E + δf22)\n",
    "\n",
    "k̂ = +x̂\n",
    "ϵ = exp(im * θ₁) * rotate_pol(pol, k̂)\n",
    "laser7 = Laser(k̂, ϵ, ω_F2_to_F2, s)\n",
    "\n",
    "k̂ = -x̂\n",
    "ϵ = exp(im * θ₁) * rotate_pol(pol, k̂)\n",
    "laser8 = Laser(k̂, ϵ, ω_F2_to_F2, s)\n",
    "\n",
    "k̂ = +ŷ\n",
    "ϵ = exp(im * θ₂) * rotate_pol(pol, k̂)\n",
    "laser9 = Laser(k̂, ϵ, ω_F2_to_F2, s)\n",
    "\n",
    "k̂ = -ŷ\n",
    "ϵ = exp(im * θ₂) * rotate_pol(pol, k̂)\n",
    "laser10 = Laser(k̂, ϵ, ω_F2_to_F2, s)\n",
    "\n",
    "k̂ = +ẑ\n",
    "ϵ = rotate_pol(pol, k̂)\n",
    "laser11 = Laser(k̂, ϵ, ω_F2_to_F2, s)\n",
    "\n",
    "k̂ = -ẑ\n",
    "ϵ = rotate_pol(pol, k̂)\n",
    "laser12 = Laser(k̂, ϵ, ω_F2_to_F2, s)\n",
    "\n",
    "lasers = [laser1, laser2, laser3, laser4, laser5, laser6, laser7, laser8, laser9, laser10, laser11, laser12]\n",
    ";"
   ]
  },
  {
   "cell_type": "code",
   "execution_count": 9,
   "id": "e60177ae-7f9e-4a25-b23a-1a97120478f8",
   "metadata": {},
   "outputs": [],
   "source": [
    "freq_res = 1e-2\n",
    "\n",
    "ρ0 = zeros(ComplexF64, length(states), length(states))\n",
    "ρ0[3,3] = 1.0\n",
    "\n",
    "particle = Particle()\n",
    "particle.r0 = (0.0, 0.0, 0.0) \n",
    "particle.v = (0.0, 0.0, 0.0)\n",
    "\n",
    "p = obe(ρ0, particle, states, lasers, d, d_m, true, true, λ, Γ, freq_res)\n",
    "\n",
    "_μB = (μ_B / h) * (1e-6 * 1e-4)\n",
    "p.B = (0., 0., 0.) ./ (Γ / (_μB * 1e6))\n",
    "p.r0 = (0., 0., 0.) .* 2π\n",
    "p.v = (0., 0., 25) ./ (Γ / k)\n",
    "p.v = round_vel(p.v, p.freq_res)\n",
    ";"
   ]
  },
  {
   "cell_type": "code",
   "execution_count": 10,
   "id": "6bb7942e-088d-4be4-ba79-5df26470f8e0",
   "metadata": {},
   "outputs": [],
   "source": [
    "# using BenchmarkTools\n",
    "# @btime ρ!(dρ, ρ0, p, 0.0)"
   ]
  },
  {
   "cell_type": "code",
   "execution_count": 11,
   "id": "f3f8fca8-0263-40d8-abbd-0efc76f4684d",
   "metadata": {},
   "outputs": [],
   "source": [
    "t_end = 3p.period+1\n",
    "tspan = (0., t_end)\n",
    "prob = ODEProblem(ρ!, p.ρ0_vec, tspan, p, abstol=1e-5, save_on=false) # callback=AutoAbstol(false, init_curmax=0.0)) # what does this do?\n",
    ";"
   ]
  },
  {
   "cell_type": "code",
   "execution_count": 12,
   "id": "df5cd82e-a6fb-495e-845e-803cabab9a1d",
   "metadata": {},
   "outputs": [
    {
     "name": "stdout",
     "output_type": "stream",
     "text": [
      " 23.013504 seconds (24.14 M allocations: 1.464 GiB, 1.45% gc time, 77.48% compilation time)\n"
     ]
    }
   ],
   "source": [
    "cb = PeriodicCallback(reset_force!, p.period)\n",
    "@time sol = DifferentialEquations.solve(prob, alg=DP5(), callback=cb);"
   ]
  },
  {
   "cell_type": "code",
   "execution_count": 13,
   "id": "430de5a9-84a6-477d-841e-157a60c4c42d",
   "metadata": {},
   "outputs": [
    {
     "data": {
      "image/svg+xml": [
       "<?xml version=\"1.0\" encoding=\"utf-8\"?>\n",
       "<svg xmlns=\"http://www.w3.org/2000/svg\" xmlns:xlink=\"http://www.w3.org/1999/xlink\" width=\"800\" height=\"400\" viewBox=\"0 0 3200 1600\">\n",
       "<defs>\n",
       "  <clipPath id=\"clip480\">\n",
       "    <rect x=\"0\" y=\"0\" width=\"3200\" height=\"1600\"/>\n",
       "  </clipPath>\n",
       "</defs>\n",
       "<path clip-path=\"url(#clip480)\" d=\"\n",
       "M0 1600 L3200 1600 L3200 0 L0 0  Z\n",
       "  \" fill=\"#ffffff\" fill-rule=\"evenodd\" fill-opacity=\"1\"/>\n",
       "<defs>\n",
       "  <clipPath id=\"clip481\">\n",
       "    <rect x=\"640\" y=\"0\" width=\"2241\" height=\"1600\"/>\n",
       "  </clipPath>\n",
       "</defs>\n",
       "<path clip-path=\"url(#clip480)\" d=\"\n",
       "M194.274 1495.09 L3152.76 1495.09 L3152.76 47.2441 L194.274 47.2441  Z\n",
       "  \" fill=\"#ffffff\" fill-rule=\"evenodd\" fill-opacity=\"1\"/>\n",
       "<defs>\n",
       "  <clipPath id=\"clip482\">\n",
       "    <rect x=\"194\" y=\"47\" width=\"2959\" height=\"1449\"/>\n",
       "  </clipPath>\n",
       "</defs>\n",
       "<polyline clip-path=\"url(#clip482)\" style=\"stroke:#000000; stroke-linecap:round; stroke-linejoin:round; stroke-width:2; stroke-opacity:0.1; fill:none\" points=\"\n",
       "  278.005,1495.09 278.005,47.2441 \n",
       "  \"/>\n",
       "<polyline clip-path=\"url(#clip482)\" style=\"stroke:#000000; stroke-linecap:round; stroke-linejoin:round; stroke-width:2; stroke-opacity:0.1; fill:none\" points=\"\n",
       "  1017.95,1495.09 1017.95,47.2441 \n",
       "  \"/>\n",
       "<polyline clip-path=\"url(#clip482)\" style=\"stroke:#000000; stroke-linecap:round; stroke-linejoin:round; stroke-width:2; stroke-opacity:0.1; fill:none\" points=\"\n",
       "  1757.9,1495.09 1757.9,47.2441 \n",
       "  \"/>\n",
       "<polyline clip-path=\"url(#clip482)\" style=\"stroke:#000000; stroke-linecap:round; stroke-linejoin:round; stroke-width:2; stroke-opacity:0.1; fill:none\" points=\"\n",
       "  2497.85,1495.09 2497.85,47.2441 \n",
       "  \"/>\n",
       "<polyline clip-path=\"url(#clip480)\" style=\"stroke:#000000; stroke-linecap:round; stroke-linejoin:round; stroke-width:4; stroke-opacity:1; fill:none\" points=\"\n",
       "  194.274,1495.09 3152.76,1495.09 \n",
       "  \"/>\n",
       "<polyline clip-path=\"url(#clip480)\" style=\"stroke:#000000; stroke-linecap:round; stroke-linejoin:round; stroke-width:4; stroke-opacity:1; fill:none\" points=\"\n",
       "  278.005,1495.09 278.005,1476.19 \n",
       "  \"/>\n",
       "<polyline clip-path=\"url(#clip480)\" style=\"stroke:#000000; stroke-linecap:round; stroke-linejoin:round; stroke-width:4; stroke-opacity:1; fill:none\" points=\"\n",
       "  1017.95,1495.09 1017.95,1476.19 \n",
       "  \"/>\n",
       "<polyline clip-path=\"url(#clip480)\" style=\"stroke:#000000; stroke-linecap:round; stroke-linejoin:round; stroke-width:4; stroke-opacity:1; fill:none\" points=\"\n",
       "  1757.9,1495.09 1757.9,1476.19 \n",
       "  \"/>\n",
       "<polyline clip-path=\"url(#clip480)\" style=\"stroke:#000000; stroke-linecap:round; stroke-linejoin:round; stroke-width:4; stroke-opacity:1; fill:none\" points=\"\n",
       "  2497.85,1495.09 2497.85,1476.19 \n",
       "  \"/>\n",
       "<path clip-path=\"url(#clip480)\" d=\"M278.005 1532.41 Q274.394 1532.41 272.565 1535.97 Q270.759 1539.51 270.759 1546.64 Q270.759 1553.75 272.565 1557.31 Q274.394 1560.86 278.005 1560.86 Q281.639 1560.86 283.444 1557.31 Q285.273 1553.75 285.273 1546.64 Q285.273 1539.51 283.444 1535.97 Q281.639 1532.41 278.005 1532.41 M278.005 1528.7 Q283.815 1528.7 286.87 1533.31 Q289.949 1537.89 289.949 1546.64 Q289.949 1555.37 286.87 1559.98 Q283.815 1564.56 278.005 1564.56 Q272.194 1564.56 269.116 1559.98 Q266.06 1555.37 266.06 1546.64 Q266.06 1537.89 269.116 1533.31 Q272.194 1528.7 278.005 1528.7 Z\" fill=\"#000000\" fill-rule=\"evenodd\" fill-opacity=\"1\" /><path clip-path=\"url(#clip480)\" d=\"M977.572 1529.33 L995.928 1529.33 L995.928 1533.26 L981.854 1533.26 L981.854 1541.74 Q982.872 1541.39 983.891 1541.23 Q984.909 1541.04 985.928 1541.04 Q991.715 1541.04 995.095 1544.21 Q998.474 1547.38 998.474 1552.8 Q998.474 1558.38 995.002 1561.48 Q991.53 1564.56 985.21 1564.56 Q983.034 1564.56 980.766 1564.19 Q978.521 1563.82 976.113 1563.08 L976.113 1558.38 Q978.197 1559.51 980.419 1560.07 Q982.641 1560.62 985.118 1560.62 Q989.122 1560.62 991.46 1558.52 Q993.798 1556.41 993.798 1552.8 Q993.798 1549.19 991.46 1547.08 Q989.122 1544.98 985.118 1544.98 Q983.243 1544.98 981.368 1545.39 Q979.516 1545.81 977.572 1546.69 L977.572 1529.33 Z\" fill=\"#000000\" fill-rule=\"evenodd\" fill-opacity=\"1\" /><path clip-path=\"url(#clip480)\" d=\"M1017.69 1532.41 Q1014.08 1532.41 1012.25 1535.97 Q1010.44 1539.51 1010.44 1546.64 Q1010.44 1553.75 1012.25 1557.31 Q1014.08 1560.86 1017.69 1560.86 Q1021.32 1560.86 1023.13 1557.31 Q1024.96 1553.75 1024.96 1546.64 Q1024.96 1539.51 1023.13 1535.97 Q1021.32 1532.41 1017.69 1532.41 M1017.69 1528.7 Q1023.5 1528.7 1026.55 1533.31 Q1029.63 1537.89 1029.63 1546.64 Q1029.63 1555.37 1026.55 1559.98 Q1023.5 1564.56 1017.69 1564.56 Q1011.88 1564.56 1008.8 1559.98 Q1005.74 1555.37 1005.74 1546.64 Q1005.74 1537.89 1008.8 1533.31 Q1011.88 1528.7 1017.69 1528.7 Z\" fill=\"#000000\" fill-rule=\"evenodd\" fill-opacity=\"1\" /><path clip-path=\"url(#clip480)\" d=\"M1047.85 1532.41 Q1044.24 1532.41 1042.41 1535.97 Q1040.6 1539.51 1040.6 1546.64 Q1040.6 1553.75 1042.41 1557.31 Q1044.24 1560.86 1047.85 1560.86 Q1051.48 1560.86 1053.29 1557.31 Q1055.12 1553.75 1055.12 1546.64 Q1055.12 1539.51 1053.29 1535.97 Q1051.48 1532.41 1047.85 1532.41 M1047.85 1528.7 Q1053.66 1528.7 1056.71 1533.31 Q1059.79 1537.89 1059.79 1546.64 Q1059.79 1555.37 1056.71 1559.98 Q1053.66 1564.56 1047.85 1564.56 Q1042.04 1564.56 1038.96 1559.98 Q1035.9 1555.37 1035.9 1546.64 Q1035.9 1537.89 1038.96 1533.31 Q1042.04 1528.7 1047.85 1528.7 Z\" fill=\"#000000\" fill-rule=\"evenodd\" fill-opacity=\"1\" /><path clip-path=\"url(#clip480)\" d=\"M1702.43 1559.95 L1710.07 1559.95 L1710.07 1533.59 L1701.76 1535.25 L1701.76 1530.99 L1710.02 1529.33 L1714.7 1529.33 L1714.7 1559.95 L1722.34 1559.95 L1722.34 1563.89 L1702.43 1563.89 L1702.43 1559.95 Z\" fill=\"#000000\" fill-rule=\"evenodd\" fill-opacity=\"1\" /><path clip-path=\"url(#clip480)\" d=\"M1741.78 1532.41 Q1738.17 1532.41 1736.34 1535.97 Q1734.53 1539.51 1734.53 1546.64 Q1734.53 1553.75 1736.34 1557.31 Q1738.17 1560.86 1741.78 1560.86 Q1745.41 1560.86 1747.22 1557.31 Q1749.05 1553.75 1749.05 1546.64 Q1749.05 1539.51 1747.22 1535.97 Q1745.41 1532.41 1741.78 1532.41 M1741.78 1528.7 Q1747.59 1528.7 1750.65 1533.31 Q1753.72 1537.89 1753.72 1546.64 Q1753.72 1555.37 1750.65 1559.98 Q1747.59 1564.56 1741.78 1564.56 Q1735.97 1564.56 1732.89 1559.98 Q1729.83 1555.37 1729.83 1546.64 Q1729.83 1537.89 1732.89 1533.31 Q1735.97 1528.7 1741.78 1528.7 Z\" fill=\"#000000\" fill-rule=\"evenodd\" fill-opacity=\"1\" /><path clip-path=\"url(#clip480)\" d=\"M1771.94 1532.41 Q1768.33 1532.41 1766.5 1535.97 Q1764.7 1539.51 1764.7 1546.64 Q1764.7 1553.75 1766.5 1557.31 Q1768.33 1560.86 1771.94 1560.86 Q1775.58 1560.86 1777.38 1557.31 Q1779.21 1553.75 1779.21 1546.64 Q1779.21 1539.51 1777.38 1535.97 Q1775.58 1532.41 1771.94 1532.41 M1771.94 1528.7 Q1777.75 1528.7 1780.81 1533.31 Q1783.89 1537.89 1783.89 1546.64 Q1783.89 1555.37 1780.81 1559.98 Q1777.75 1564.56 1771.94 1564.56 Q1766.13 1564.56 1763.05 1559.98 Q1760 1555.37 1760 1546.64 Q1760 1537.89 1763.05 1533.31 Q1766.13 1528.7 1771.94 1528.7 Z\" fill=\"#000000\" fill-rule=\"evenodd\" fill-opacity=\"1\" /><path clip-path=\"url(#clip480)\" d=\"M1802.1 1532.41 Q1798.49 1532.41 1796.66 1535.97 Q1794.86 1539.51 1794.86 1546.64 Q1794.86 1553.75 1796.66 1557.31 Q1798.49 1560.86 1802.1 1560.86 Q1805.74 1560.86 1807.54 1557.31 Q1809.37 1553.75 1809.37 1546.64 Q1809.37 1539.51 1807.54 1535.97 Q1805.74 1532.41 1802.1 1532.41 M1802.1 1528.7 Q1807.91 1528.7 1810.97 1533.31 Q1814.05 1537.89 1814.05 1546.64 Q1814.05 1555.37 1810.97 1559.98 Q1807.91 1564.56 1802.1 1564.56 Q1796.29 1564.56 1793.21 1559.98 Q1790.16 1555.37 1790.16 1546.64 Q1790.16 1537.89 1793.21 1533.31 Q1796.29 1528.7 1802.1 1528.7 Z\" fill=\"#000000\" fill-rule=\"evenodd\" fill-opacity=\"1\" /><path clip-path=\"url(#clip480)\" d=\"M2442.38 1559.95 L2450.02 1559.95 L2450.02 1533.59 L2441.71 1535.25 L2441.71 1530.99 L2449.97 1529.33 L2454.64 1529.33 L2454.64 1559.95 L2462.28 1559.95 L2462.28 1563.89 L2442.38 1563.89 L2442.38 1559.95 Z\" fill=\"#000000\" fill-rule=\"evenodd\" fill-opacity=\"1\" /><path clip-path=\"url(#clip480)\" d=\"M2471.77 1529.33 L2490.13 1529.33 L2490.13 1533.26 L2476.06 1533.26 L2476.06 1541.74 Q2477.08 1541.39 2478.09 1541.23 Q2479.11 1541.04 2480.13 1541.04 Q2485.92 1541.04 2489.3 1544.21 Q2492.68 1547.38 2492.68 1552.8 Q2492.68 1558.38 2489.2 1561.48 Q2485.73 1564.56 2479.41 1564.56 Q2477.24 1564.56 2474.97 1564.19 Q2472.72 1563.82 2470.32 1563.08 L2470.32 1558.38 Q2472.4 1559.51 2474.62 1560.07 Q2476.84 1560.62 2479.32 1560.62 Q2483.33 1560.62 2485.66 1558.52 Q2488 1556.41 2488 1552.8 Q2488 1549.19 2485.66 1547.08 Q2483.33 1544.98 2479.32 1544.98 Q2477.45 1544.98 2475.57 1545.39 Q2473.72 1545.81 2471.77 1546.69 L2471.77 1529.33 Z\" fill=\"#000000\" fill-rule=\"evenodd\" fill-opacity=\"1\" /><path clip-path=\"url(#clip480)\" d=\"M2511.89 1532.41 Q2508.28 1532.41 2506.45 1535.97 Q2504.64 1539.51 2504.64 1546.64 Q2504.64 1553.75 2506.45 1557.31 Q2508.28 1560.86 2511.89 1560.86 Q2515.52 1560.86 2517.33 1557.31 Q2519.16 1553.75 2519.16 1546.64 Q2519.16 1539.51 2517.33 1535.97 Q2515.52 1532.41 2511.89 1532.41 M2511.89 1528.7 Q2517.7 1528.7 2520.76 1533.31 Q2523.83 1537.89 2523.83 1546.64 Q2523.83 1555.37 2520.76 1559.98 Q2517.7 1564.56 2511.89 1564.56 Q2506.08 1564.56 2503 1559.98 Q2499.95 1555.37 2499.95 1546.64 Q2499.95 1537.89 2503 1533.31 Q2506.08 1528.7 2511.89 1528.7 Z\" fill=\"#000000\" fill-rule=\"evenodd\" fill-opacity=\"1\" /><path clip-path=\"url(#clip480)\" d=\"M2542.05 1532.41 Q2538.44 1532.41 2536.61 1535.97 Q2534.81 1539.51 2534.81 1546.64 Q2534.81 1553.75 2536.61 1557.31 Q2538.44 1560.86 2542.05 1560.86 Q2545.69 1560.86 2547.49 1557.31 Q2549.32 1553.75 2549.32 1546.64 Q2549.32 1539.51 2547.49 1535.97 Q2545.69 1532.41 2542.05 1532.41 M2542.05 1528.7 Q2547.86 1528.7 2550.92 1533.31 Q2554 1537.89 2554 1546.64 Q2554 1555.37 2550.92 1559.98 Q2547.86 1564.56 2542.05 1564.56 Q2536.24 1564.56 2533.16 1559.98 Q2530.11 1555.37 2530.11 1546.64 Q2530.11 1537.89 2533.16 1533.31 Q2536.24 1528.7 2542.05 1528.7 Z\" fill=\"#000000\" fill-rule=\"evenodd\" fill-opacity=\"1\" /><polyline clip-path=\"url(#clip482)\" style=\"stroke:#000000; stroke-linecap:round; stroke-linejoin:round; stroke-width:2; stroke-opacity:0.1; fill:none\" points=\"\n",
       "  194.274,1374.43 3152.76,1374.43 \n",
       "  \"/>\n",
       "<polyline clip-path=\"url(#clip482)\" style=\"stroke:#000000; stroke-linecap:round; stroke-linejoin:round; stroke-width:2; stroke-opacity:0.1; fill:none\" points=\"\n",
       "  194.274,1072.8 3152.76,1072.8 \n",
       "  \"/>\n",
       "<polyline clip-path=\"url(#clip482)\" style=\"stroke:#000000; stroke-linecap:round; stroke-linejoin:round; stroke-width:2; stroke-opacity:0.1; fill:none\" points=\"\n",
       "  194.274,771.166 3152.76,771.166 \n",
       "  \"/>\n",
       "<polyline clip-path=\"url(#clip482)\" style=\"stroke:#000000; stroke-linecap:round; stroke-linejoin:round; stroke-width:2; stroke-opacity:0.1; fill:none\" points=\"\n",
       "  194.274,469.532 3152.76,469.532 \n",
       "  \"/>\n",
       "<polyline clip-path=\"url(#clip482)\" style=\"stroke:#000000; stroke-linecap:round; stroke-linejoin:round; stroke-width:2; stroke-opacity:0.1; fill:none\" points=\"\n",
       "  194.274,167.898 3152.76,167.898 \n",
       "  \"/>\n",
       "<polyline clip-path=\"url(#clip480)\" style=\"stroke:#000000; stroke-linecap:round; stroke-linejoin:round; stroke-width:4; stroke-opacity:1; fill:none\" points=\"\n",
       "  194.274,1495.09 194.274,47.2441 \n",
       "  \"/>\n",
       "<polyline clip-path=\"url(#clip480)\" style=\"stroke:#000000; stroke-linecap:round; stroke-linejoin:round; stroke-width:4; stroke-opacity:1; fill:none\" points=\"\n",
       "  194.274,1374.43 213.172,1374.43 \n",
       "  \"/>\n",
       "<polyline clip-path=\"url(#clip480)\" style=\"stroke:#000000; stroke-linecap:round; stroke-linejoin:round; stroke-width:4; stroke-opacity:1; fill:none\" points=\"\n",
       "  194.274,1072.8 213.172,1072.8 \n",
       "  \"/>\n",
       "<polyline clip-path=\"url(#clip480)\" style=\"stroke:#000000; stroke-linecap:round; stroke-linejoin:round; stroke-width:4; stroke-opacity:1; fill:none\" points=\"\n",
       "  194.274,771.166 213.172,771.166 \n",
       "  \"/>\n",
       "<polyline clip-path=\"url(#clip480)\" style=\"stroke:#000000; stroke-linecap:round; stroke-linejoin:round; stroke-width:4; stroke-opacity:1; fill:none\" points=\"\n",
       "  194.274,469.532 213.172,469.532 \n",
       "  \"/>\n",
       "<polyline clip-path=\"url(#clip480)\" style=\"stroke:#000000; stroke-linecap:round; stroke-linejoin:round; stroke-width:4; stroke-opacity:1; fill:none\" points=\"\n",
       "  194.274,167.898 213.172,167.898 \n",
       "  \"/>\n",
       "<path clip-path=\"url(#clip480)\" d=\"M58.9365 1360.23 Q55.3254 1360.23 53.4967 1363.8 Q51.6912 1367.34 51.6912 1374.47 Q51.6912 1381.58 53.4967 1385.14 Q55.3254 1388.68 58.9365 1388.68 Q62.5707 1388.68 64.3763 1385.14 Q66.205 1381.58 66.205 1374.47 Q66.205 1367.34 64.3763 1363.8 Q62.5707 1360.23 58.9365 1360.23 M58.9365 1356.53 Q64.7467 1356.53 67.8022 1361.14 Q70.8809 1365.72 70.8809 1374.47 Q70.8809 1383.2 67.8022 1387.8 Q64.7467 1392.39 58.9365 1392.39 Q53.1264 1392.39 50.0477 1387.8 Q46.9921 1383.2 46.9921 1374.47 Q46.9921 1365.72 50.0477 1361.14 Q53.1264 1356.53 58.9365 1356.53 Z\" fill=\"#000000\" fill-rule=\"evenodd\" fill-opacity=\"1\" /><path clip-path=\"url(#clip480)\" d=\"M79.0984 1385.83 L83.9827 1385.83 L83.9827 1391.71 L79.0984 1391.71 L79.0984 1385.83 Z\" fill=\"#000000\" fill-rule=\"evenodd\" fill-opacity=\"1\" /><path clip-path=\"url(#clip480)\" d=\"M104.168 1360.23 Q100.557 1360.23 98.728 1363.8 Q96.9224 1367.34 96.9224 1374.47 Q96.9224 1381.58 98.728 1385.14 Q100.557 1388.68 104.168 1388.68 Q107.802 1388.68 109.608 1385.14 Q111.436 1381.58 111.436 1374.47 Q111.436 1367.34 109.608 1363.8 Q107.802 1360.23 104.168 1360.23 M104.168 1356.53 Q109.978 1356.53 113.033 1361.14 Q116.112 1365.72 116.112 1374.47 Q116.112 1383.2 113.033 1387.8 Q109.978 1392.39 104.168 1392.39 Q98.3576 1392.39 95.2789 1387.8 Q92.2234 1383.2 92.2234 1374.47 Q92.2234 1365.72 95.2789 1361.14 Q98.3576 1356.53 104.168 1356.53 Z\" fill=\"#000000\" fill-rule=\"evenodd\" fill-opacity=\"1\" /><path clip-path=\"url(#clip480)\" d=\"M134.33 1360.23 Q130.719 1360.23 128.89 1363.8 Q127.084 1367.34 127.084 1374.47 Q127.084 1381.58 128.89 1385.14 Q130.719 1388.68 134.33 1388.68 Q137.964 1388.68 139.769 1385.14 Q141.598 1381.58 141.598 1374.47 Q141.598 1367.34 139.769 1363.8 Q137.964 1360.23 134.33 1360.23 M134.33 1356.53 Q140.14 1356.53 143.195 1361.14 Q146.274 1365.72 146.274 1374.47 Q146.274 1383.2 143.195 1387.8 Q140.14 1392.39 134.33 1392.39 Q128.519 1392.39 125.441 1387.8 Q122.385 1383.2 122.385 1374.47 Q122.385 1365.72 125.441 1361.14 Q128.519 1356.53 134.33 1356.53 Z\" fill=\"#000000\" fill-rule=\"evenodd\" fill-opacity=\"1\" /><path clip-path=\"url(#clip480)\" d=\"M59.9319 1058.6 Q56.3208 1058.6 54.4921 1062.16 Q52.6865 1065.71 52.6865 1072.83 Q52.6865 1079.94 54.4921 1083.51 Q56.3208 1087.05 59.9319 1087.05 Q63.5661 1087.05 65.3717 1083.51 Q67.2004 1079.94 67.2004 1072.83 Q67.2004 1065.71 65.3717 1062.16 Q63.5661 1058.6 59.9319 1058.6 M59.9319 1054.9 Q65.742 1054.9 68.7976 1059.5 Q71.8763 1064.08 71.8763 1072.83 Q71.8763 1081.56 68.7976 1086.17 Q65.742 1090.75 59.9319 1090.75 Q54.1217 1090.75 51.043 1086.17 Q47.9875 1081.56 47.9875 1072.83 Q47.9875 1064.08 51.043 1059.5 Q54.1217 1054.9 59.9319 1054.9 Z\" fill=\"#000000\" fill-rule=\"evenodd\" fill-opacity=\"1\" /><path clip-path=\"url(#clip480)\" d=\"M80.0938 1084.2 L84.978 1084.2 L84.978 1090.08 L80.0938 1090.08 L80.0938 1084.2 Z\" fill=\"#000000\" fill-rule=\"evenodd\" fill-opacity=\"1\" /><path clip-path=\"url(#clip480)\" d=\"M99.1909 1086.14 L115.51 1086.14 L115.51 1090.08 L93.566 1090.08 L93.566 1086.14 Q96.228 1083.39 100.811 1078.76 Q105.418 1074.11 106.598 1072.77 Q108.844 1070.24 109.723 1068.51 Q110.626 1066.75 110.626 1065.06 Q110.626 1062.3 108.682 1060.57 Q106.76 1058.83 103.658 1058.83 Q101.459 1058.83 99.0057 1059.59 Q96.5752 1060.36 93.7974 1061.91 L93.7974 1057.19 Q96.6215 1056.05 99.0752 1055.47 Q101.529 1054.9 103.566 1054.9 Q108.936 1054.9 112.131 1057.58 Q115.325 1060.27 115.325 1064.76 Q115.325 1066.89 114.515 1068.81 Q113.728 1070.71 111.621 1073.3 Q111.043 1073.97 107.941 1077.19 Q104.839 1080.38 99.1909 1086.14 Z\" fill=\"#000000\" fill-rule=\"evenodd\" fill-opacity=\"1\" /><path clip-path=\"url(#clip480)\" d=\"M125.371 1055.52 L143.728 1055.52 L143.728 1059.46 L129.654 1059.46 L129.654 1067.93 Q130.672 1067.58 131.691 1067.42 Q132.709 1067.23 133.728 1067.23 Q139.515 1067.23 142.894 1070.4 Q146.274 1073.58 146.274 1078.99 Q146.274 1084.57 142.802 1087.67 Q139.33 1090.75 133.01 1090.75 Q130.834 1090.75 128.566 1090.38 Q126.32 1090.01 123.913 1089.27 L123.913 1084.57 Q125.996 1085.71 128.219 1086.26 Q130.441 1086.82 132.918 1086.82 Q136.922 1086.82 139.26 1084.71 Q141.598 1082.6 141.598 1078.99 Q141.598 1075.38 139.26 1073.27 Q136.922 1071.17 132.918 1071.17 Q131.043 1071.17 129.168 1071.58 Q127.316 1072 125.371 1072.88 L125.371 1055.52 Z\" fill=\"#000000\" fill-rule=\"evenodd\" fill-opacity=\"1\" /><path clip-path=\"url(#clip480)\" d=\"M58.9365 756.965 Q55.3254 756.965 53.4967 760.529 Q51.6912 764.071 51.6912 771.201 Q51.6912 778.307 53.4967 781.872 Q55.3254 785.414 58.9365 785.414 Q62.5707 785.414 64.3763 781.872 Q66.205 778.307 66.205 771.201 Q66.205 764.071 64.3763 760.529 Q62.5707 756.965 58.9365 756.965 M58.9365 753.261 Q64.7467 753.261 67.8022 757.867 Q70.8809 762.451 70.8809 771.201 Q70.8809 779.928 67.8022 784.534 Q64.7467 789.117 58.9365 789.117 Q53.1264 789.117 50.0477 784.534 Q46.9921 779.928 46.9921 771.201 Q46.9921 762.451 50.0477 757.867 Q53.1264 753.261 58.9365 753.261 Z\" fill=\"#000000\" fill-rule=\"evenodd\" fill-opacity=\"1\" /><path clip-path=\"url(#clip480)\" d=\"M79.0984 782.566 L83.9827 782.566 L83.9827 788.446 L79.0984 788.446 L79.0984 782.566 Z\" fill=\"#000000\" fill-rule=\"evenodd\" fill-opacity=\"1\" /><path clip-path=\"url(#clip480)\" d=\"M94.2141 753.886 L112.57 753.886 L112.57 757.821 L98.4965 757.821 L98.4965 766.293 Q99.515 765.946 100.534 765.784 Q101.552 765.599 102.571 765.599 Q108.358 765.599 111.737 768.77 Q115.117 771.941 115.117 777.358 Q115.117 782.937 111.645 786.039 Q108.172 789.117 101.853 789.117 Q99.677 789.117 97.4085 788.747 Q95.1632 788.377 92.7558 787.636 L92.7558 782.937 Q94.8391 784.071 97.0613 784.627 Q99.2835 785.182 101.76 785.182 Q105.765 785.182 108.103 783.076 Q110.441 780.969 110.441 777.358 Q110.441 773.747 108.103 771.641 Q105.765 769.534 101.76 769.534 Q99.8854 769.534 98.0104 769.951 Q96.1585 770.367 94.2141 771.247 L94.2141 753.886 Z\" fill=\"#000000\" fill-rule=\"evenodd\" fill-opacity=\"1\" /><path clip-path=\"url(#clip480)\" d=\"M134.33 756.965 Q130.719 756.965 128.89 760.529 Q127.084 764.071 127.084 771.201 Q127.084 778.307 128.89 781.872 Q130.719 785.414 134.33 785.414 Q137.964 785.414 139.769 781.872 Q141.598 778.307 141.598 771.201 Q141.598 764.071 139.769 760.529 Q137.964 756.965 134.33 756.965 M134.33 753.261 Q140.14 753.261 143.195 757.867 Q146.274 762.451 146.274 771.201 Q146.274 779.928 143.195 784.534 Q140.14 789.117 134.33 789.117 Q128.519 789.117 125.441 784.534 Q122.385 779.928 122.385 771.201 Q122.385 762.451 125.441 757.867 Q128.519 753.261 134.33 753.261 Z\" fill=\"#000000\" fill-rule=\"evenodd\" fill-opacity=\"1\" /><path clip-path=\"url(#clip480)\" d=\"M59.9319 455.331 Q56.3208 455.331 54.4921 458.895 Q52.6865 462.437 52.6865 469.567 Q52.6865 476.673 54.4921 480.238 Q56.3208 483.779 59.9319 483.779 Q63.5661 483.779 65.3717 480.238 Q67.2004 476.673 67.2004 469.567 Q67.2004 462.437 65.3717 458.895 Q63.5661 455.331 59.9319 455.331 M59.9319 451.627 Q65.742 451.627 68.7976 456.233 Q71.8763 460.817 71.8763 469.567 Q71.8763 478.293 68.7976 482.9 Q65.742 487.483 59.9319 487.483 Q54.1217 487.483 51.043 482.9 Q47.9875 478.293 47.9875 469.567 Q47.9875 460.817 51.043 456.233 Q54.1217 451.627 59.9319 451.627 Z\" fill=\"#000000\" fill-rule=\"evenodd\" fill-opacity=\"1\" /><path clip-path=\"url(#clip480)\" d=\"M80.0938 480.932 L84.978 480.932 L84.978 486.812 L80.0938 486.812 L80.0938 480.932 Z\" fill=\"#000000\" fill-rule=\"evenodd\" fill-opacity=\"1\" /><path clip-path=\"url(#clip480)\" d=\"M93.9826 452.252 L116.205 452.252 L116.205 454.243 L103.658 486.812 L98.7743 486.812 L110.58 456.187 L93.9826 456.187 L93.9826 452.252 Z\" fill=\"#000000\" fill-rule=\"evenodd\" fill-opacity=\"1\" /><path clip-path=\"url(#clip480)\" d=\"M125.371 452.252 L143.728 452.252 L143.728 456.187 L129.654 456.187 L129.654 464.659 Q130.672 464.312 131.691 464.15 Q132.709 463.965 133.728 463.965 Q139.515 463.965 142.894 467.136 Q146.274 470.307 146.274 475.724 Q146.274 481.303 142.802 484.404 Q139.33 487.483 133.01 487.483 Q130.834 487.483 128.566 487.113 Q126.32 486.742 123.913 486.002 L123.913 481.303 Q125.996 482.437 128.219 482.992 Q130.441 483.548 132.918 483.548 Q136.922 483.548 139.26 481.442 Q141.598 479.335 141.598 475.724 Q141.598 472.113 139.26 470.006 Q136.922 467.9 132.918 467.9 Q131.043 467.9 129.168 468.317 Q127.316 468.733 125.371 469.613 L125.371 452.252 Z\" fill=\"#000000\" fill-rule=\"evenodd\" fill-opacity=\"1\" /><path clip-path=\"url(#clip480)\" d=\"M49.7467 181.243 L57.3856 181.243 L57.3856 154.877 L49.0754 156.544 L49.0754 152.284 L57.3393 150.618 L62.0152 150.618 L62.0152 181.243 L69.654 181.243 L69.654 185.178 L49.7467 185.178 L49.7467 181.243 Z\" fill=\"#000000\" fill-rule=\"evenodd\" fill-opacity=\"1\" /><path clip-path=\"url(#clip480)\" d=\"M79.0984 179.298 L83.9827 179.298 L83.9827 185.178 L79.0984 185.178 L79.0984 179.298 Z\" fill=\"#000000\" fill-rule=\"evenodd\" fill-opacity=\"1\" /><path clip-path=\"url(#clip480)\" d=\"M104.168 153.696 Q100.557 153.696 98.728 157.261 Q96.9224 160.803 96.9224 167.932 Q96.9224 175.039 98.728 178.604 Q100.557 182.145 104.168 182.145 Q107.802 182.145 109.608 178.604 Q111.436 175.039 111.436 167.932 Q111.436 160.803 109.608 157.261 Q107.802 153.696 104.168 153.696 M104.168 149.993 Q109.978 149.993 113.033 154.599 Q116.112 159.183 116.112 167.932 Q116.112 176.659 113.033 181.266 Q109.978 185.849 104.168 185.849 Q98.3576 185.849 95.2789 181.266 Q92.2234 176.659 92.2234 167.932 Q92.2234 159.183 95.2789 154.599 Q98.3576 149.993 104.168 149.993 Z\" fill=\"#000000\" fill-rule=\"evenodd\" fill-opacity=\"1\" /><path clip-path=\"url(#clip480)\" d=\"M134.33 153.696 Q130.719 153.696 128.89 157.261 Q127.084 160.803 127.084 167.932 Q127.084 175.039 128.89 178.604 Q130.719 182.145 134.33 182.145 Q137.964 182.145 139.769 178.604 Q141.598 175.039 141.598 167.932 Q141.598 160.803 139.769 157.261 Q137.964 153.696 134.33 153.696 M134.33 149.993 Q140.14 149.993 143.195 154.599 Q146.274 159.183 146.274 167.932 Q146.274 176.659 143.195 181.266 Q140.14 185.849 134.33 185.849 Q128.519 185.849 125.441 181.266 Q122.385 176.659 122.385 167.932 Q122.385 159.183 125.441 154.599 Q128.519 149.993 134.33 149.993 Z\" fill=\"#000000\" fill-rule=\"evenodd\" fill-opacity=\"1\" /><polyline clip-path=\"url(#clip482)\" style=\"stroke:#009af9; stroke-linecap:round; stroke-linejoin:round; stroke-width:4; stroke-opacity:1; fill:none\" points=\"\n",
       "  278.005,1374.43 3069.03,1286.89 \n",
       "  \"/>\n",
       "<polyline clip-path=\"url(#clip482)\" style=\"stroke:#e26f46; stroke-linecap:round; stroke-linejoin:round; stroke-width:4; stroke-opacity:1; fill:none\" points=\"\n",
       "  278.005,1374.43 3069.03,1035.97 \n",
       "  \"/>\n",
       "<polyline clip-path=\"url(#clip482)\" style=\"stroke:#3da44d; stroke-linecap:round; stroke-linejoin:round; stroke-width:4; stroke-opacity:1; fill:none\" points=\"\n",
       "  278.005,167.898 3069.03,1368.41 \n",
       "  \"/>\n",
       "<polyline clip-path=\"url(#clip482)\" style=\"stroke:#c271d2; stroke-linecap:round; stroke-linejoin:round; stroke-width:4; stroke-opacity:1; fill:none\" points=\"\n",
       "  278.005,1374.43 3069.03,951.908 \n",
       "  \"/>\n",
       "<polyline clip-path=\"url(#clip482)\" style=\"stroke:#ac8d18; stroke-linecap:round; stroke-linejoin:round; stroke-width:4; stroke-opacity:1; fill:none\" points=\"\n",
       "  278.005,1374.43 3069.03,1242.9 \n",
       "  \"/>\n",
       "<polyline clip-path=\"url(#clip482)\" style=\"stroke:#00a9ad; stroke-linecap:round; stroke-linejoin:round; stroke-width:4; stroke-opacity:1; fill:none\" points=\"\n",
       "  278.005,1374.43 3069.03,1309.3 \n",
       "  \"/>\n",
       "<polyline clip-path=\"url(#clip482)\" style=\"stroke:#ed5d92; stroke-linecap:round; stroke-linejoin:round; stroke-width:4; stroke-opacity:1; fill:none\" points=\"\n",
       "  278.005,1374.43 3069.03,1359.28 \n",
       "  \"/>\n",
       "<polyline clip-path=\"url(#clip482)\" style=\"stroke:#c68125; stroke-linecap:round; stroke-linejoin:round; stroke-width:4; stroke-opacity:1; fill:none\" points=\"\n",
       "  278.005,1374.43 3069.03,1363.55 \n",
       "  \"/>\n",
       "<polyline clip-path=\"url(#clip482)\" style=\"stroke:#00a98d; stroke-linecap:round; stroke-linejoin:round; stroke-width:4; stroke-opacity:1; fill:none\" points=\"\n",
       "  278.005,1374.43 3069.03,1344.42 \n",
       "  \"/>\n",
       "<polyline clip-path=\"url(#clip482)\" style=\"stroke:#8e971d; stroke-linecap:round; stroke-linejoin:round; stroke-width:4; stroke-opacity:1; fill:none\" points=\"\n",
       "  278.005,1374.43 3069.03,1373.58 \n",
       "  \"/>\n",
       "<polyline clip-path=\"url(#clip482)\" style=\"stroke:#00a8cb; stroke-linecap:round; stroke-linejoin:round; stroke-width:4; stroke-opacity:1; fill:none\" points=\"\n",
       "  278.005,1374.43 3069.03,1371.17 \n",
       "  \"/>\n",
       "<polyline clip-path=\"url(#clip482)\" style=\"stroke:#9b7fe8; stroke-linecap:round; stroke-linejoin:round; stroke-width:4; stroke-opacity:1; fill:none\" points=\"\n",
       "  278.005,1374.43 3069.03,1302.87 \n",
       "  \"/>\n",
       "<polyline clip-path=\"url(#clip482)\" style=\"stroke:#608cf6; stroke-linecap:round; stroke-linejoin:round; stroke-width:4; stroke-opacity:1; fill:none\" points=\"\n",
       "  278.005,1374.43 3069.03,1358.76 \n",
       "  \"/>\n",
       "<polyline clip-path=\"url(#clip482)\" style=\"stroke:#f05f73; stroke-linecap:round; stroke-linejoin:round; stroke-width:4; stroke-opacity:1; fill:none\" points=\"\n",
       "  278.005,1374.43 3069.03,1370.78 \n",
       "  \"/>\n",
       "<polyline clip-path=\"url(#clip482)\" style=\"stroke:#dd64b5; stroke-linecap:round; stroke-linejoin:round; stroke-width:4; stroke-opacity:1; fill:none\" points=\"\n",
       "  278.005,1374.43 3069.03,1371.66 \n",
       "  \"/>\n",
       "<polyline clip-path=\"url(#clip482)\" style=\"stroke:#6b9e32; stroke-linecap:round; stroke-linejoin:round; stroke-width:4; stroke-opacity:1; fill:none\" points=\"\n",
       "  278.005,1374.43 3069.03,1372.96 \n",
       "  \"/>\n",
       "<polyline clip-path=\"url(#clip482)\" style=\"stroke:#ff0000; stroke-linecap:round; stroke-linejoin:round; stroke-width:4; stroke-opacity:1; fill:none\" stroke-dasharray=\"16, 10\" points=\"\n",
       "  1209.33,2942.93 1209.33,-1400.6 \n",
       "  \"/>\n",
       "<polyline clip-path=\"url(#clip482)\" style=\"stroke:#ff0000; stroke-linecap:round; stroke-linejoin:round; stroke-width:4; stroke-opacity:1; fill:none\" stroke-dasharray=\"16, 10\" points=\"\n",
       "  2139.18,2942.93 2139.18,-1400.6 \n",
       "  \"/>\n",
       "</svg>\n"
      ]
     },
     "execution_count": 13,
     "metadata": {},
     "output_type": "execute_result"
    }
   ],
   "source": [
    "using Plots\n",
    "plot_us = sol.u\n",
    "plot_ts = sol.t\n",
    "\n",
    "n_states = size(p.ρ_soa, 1)\n",
    "plot(size=(800, 400), ylim=(-0.1, 1.1), legend=nothing)\n",
    "for i in 1:n_states\n",
    "    state_idx = n_states*(i-1) + i\n",
    "    plot!(plot_ts, [real(u[state_idx]) for u in plot_us])\n",
    "end\n",
    "plot!()\n",
    "vline!([sol.t[end] - 2p.period, sol.t[end] - p.period], color=\"red\", linestyle=:dash)"
   ]
  },
  {
   "cell_type": "code",
   "execution_count": 14,
   "id": "6f982278-ce3f-4346-a72a-69b36f45ae0e",
   "metadata": {},
   "outputs": [
    {
     "data": {
      "text/plain": [
       "(1885.9555921538758, 1885.9555921538758)"
      ]
     },
     "execution_count": 14,
     "metadata": {},
     "output_type": "execute_result"
    }
   ],
   "source": [
    "sol.t[end], t_end"
   ]
  },
  {
   "cell_type": "code",
   "execution_count": 15,
   "id": "9640c185-61c4-47dd-8b9c-3af78d7a05fe",
   "metadata": {},
   "outputs": [
    {
     "data": {
      "text/plain": [
       "3-element StaticArraysCore.SVector{3, Float64} with indices SOneTo(3):\n",
       " -0.007655767168992676\n",
       "  0.02082027207080624\n",
       " 12.747617395402857"
      ]
     },
     "execution_count": 15,
     "metadata": {},
     "output_type": "execute_result"
    }
   ],
   "source": [
    "prob.p.force_last_period * (1e-3 * ħ * k * Γ / m)"
   ]
  },
  {
   "cell_type": "code",
   "execution_count": 16,
   "id": "23b4f259-fe3d-43fc-ae44-2859707d64d0",
   "metadata": {},
   "outputs": [
    {
     "data": {
      "text/plain": [
       "3-element StaticArraysCore.SVector{3, Float64} with indices SOneTo(3):\n",
       " -0.007655767168992676\n",
       "  0.02082027207080624\n",
       " 12.747617395402857"
      ]
     },
     "execution_count": 16,
     "metadata": {},
     "output_type": "execute_result"
    }
   ],
   "source": [
    "prob.p.force_last_period * (1e-3 * ħ * k * Γ / m)"
   ]
  },
  {
   "cell_type": "markdown",
   "id": "5b7850d1-d00d-4236-8aab-834b305ad509",
   "metadata": {},
   "source": [
    "## Force versus velocity\n"
   ]
  },
  {
   "cell_type": "code",
   "execution_count": 20,
   "id": "3358ed8a-89ab-414e-9550-e61f6ea1dd7c",
   "metadata": {},
   "outputs": [],
   "source": [
    "using Distributions\n",
    "uniform_dist = Uniform(0, 2π)\n",
    "function sample_direction(r=1.0)\n",
    "    θ = 2π * rand()\n",
    "    z = rand() * 2 - 1\n",
    "    return (r * sqrt(1 - z^2) * cos(θ), r * sqrt(1 - z^2) * sin(θ), r * z)\n",
    "end\n",
    ";"
   ]
  },
  {
   "cell_type": "code",
   "execution_count": 25,
   "id": "44893aea-4716-425e-8439-8f00da3cd2db",
   "metadata": {},
   "outputs": [],
   "source": [
    "function prob_func!(prob, scan_values, i)\n",
    "    # Update velocity and position\n",
    "    prob.p.v .= sample_direction(scan_values.v[i])\n",
    "    prob.p.v .= round_vel(prob.p.v, prob.p.freq_res)    \n",
    "    prob.p.r0 .= rand(uniform_dist, 3)\n",
    "    return prob\n",
    "end\n",
    "function param_func(p, scan_values, i)\n",
    "    return scan_values.v[i]\n",
    "end\n",
    "function output_func(p, sol)\n",
    "    f = p.force_last_period\n",
    "    return (f ⋅ p.v) / norm(p.v)\n",
    "end\n",
    ";"
   ]
  },
  {
   "cell_type": "code",
   "execution_count": 26,
   "id": "8fd54ad9-dbdd-4bc7-9f02-8671f205e9da",
   "metadata": {},
   "outputs": [],
   "source": [
    "t_end = 2p.period+1; tspan = (0., t_end)\n",
    "p = obe(ρ0, particle, states, lasers, d, d_m, true, true, λ, Γ, freq_res)\n",
    "prob = ODEProblem(ρ!, p.ρ0_vec, tspan, p, abstol=1e-5, save_on=false)\n",
    "\n",
    "n_samples = 50\n",
    "\n",
    "p.freq_res = 1e-2\n",
    "prob.p.B .= (0.0, 0.0, 0.0)\n",
    "vs = repeat([[0,1,2,3,4]; collect(5:5:40)], n_samples) ./ (Γ / k)\n",
    "# vs = repeat(0:0.2:2.0, n_samples) ./ (Γ / k)\n",
    "\n",
    "scan_values = (v = vs,)\n",
    ";"
   ]
  },
  {
   "cell_type": "code",
   "execution_count": 27,
   "id": "477ca9e8-e949-4ffd-80f8-9665bc97e56a",
   "metadata": {},
   "outputs": [
    {
     "name": "stderr",
     "output_type": "stream",
     "text": [
      "\u001b[32mProgress: 100%|█████████████████████████████████████████| Time: 0:02:36\u001b[39m\n"
     ]
    },
    {
     "name": "stdout",
     "output_type": "stream",
     "text": [
      "156.335283 seconds (4.64 M allocations: 289.943 MiB, 0.06% gc time, 1.26% compilation time: 66% of which was recompilation)\n"
     ]
    }
   ],
   "source": [
    "@time scan_params, forces = force_scan(prob, scan_values, prob_func!, param_func, output_func);"
   ]
  },
  {
   "cell_type": "code",
   "execution_count": 30,
   "id": "2e7cc7e3-774b-4eff-a043-3ad95eae56b5",
   "metadata": {},
   "outputs": [
    {
     "data": {
      "image/svg+xml": [
       "<?xml version=\"1.0\" encoding=\"utf-8\"?>\n",
       "<svg xmlns=\"http://www.w3.org/2000/svg\" xmlns:xlink=\"http://www.w3.org/1999/xlink\" width=\"600\" height=\"400\" viewBox=\"0 0 2400 1600\">\n",
       "<defs>\n",
       "  <clipPath id=\"clip560\">\n",
       "    <rect x=\"0\" y=\"0\" width=\"2400\" height=\"1600\"/>\n",
       "  </clipPath>\n",
       "</defs>\n",
       "<path clip-path=\"url(#clip560)\" d=\"\n",
       "M0 1600 L2400 1600 L2400 0 L0 0  Z\n",
       "  \" fill=\"#ffffff\" fill-rule=\"evenodd\" fill-opacity=\"1\"/>\n",
       "<defs>\n",
       "  <clipPath id=\"clip561\">\n",
       "    <rect x=\"480\" y=\"0\" width=\"1681\" height=\"1600\"/>\n",
       "  </clipPath>\n",
       "</defs>\n",
       "<path clip-path=\"url(#clip560)\" d=\"\n",
       "M202.227 1423.18 L2352.76 1423.18 L2352.76 47.2441 L202.227 47.2441  Z\n",
       "  \" fill=\"#ffffff\" fill-rule=\"evenodd\" fill-opacity=\"1\"/>\n",
       "<defs>\n",
       "  <clipPath id=\"clip562\">\n",
       "    <rect x=\"202\" y=\"47\" width=\"2152\" height=\"1377\"/>\n",
       "  </clipPath>\n",
       "</defs>\n",
       "<polyline clip-path=\"url(#clip562)\" style=\"stroke:#000000; stroke-linecap:round; stroke-linejoin:round; stroke-width:2; stroke-opacity:0.1; fill:none\" points=\"\n",
       "  263.091,1423.18 263.091,47.2441 \n",
       "  \"/>\n",
       "<polyline clip-path=\"url(#clip562)\" style=\"stroke:#000000; stroke-linecap:round; stroke-linejoin:round; stroke-width:2; stroke-opacity:0.1; fill:none\" points=\"\n",
       "  770.292,1423.18 770.292,47.2441 \n",
       "  \"/>\n",
       "<polyline clip-path=\"url(#clip562)\" style=\"stroke:#000000; stroke-linecap:round; stroke-linejoin:round; stroke-width:2; stroke-opacity:0.1; fill:none\" points=\"\n",
       "  1277.49,1423.18 1277.49,47.2441 \n",
       "  \"/>\n",
       "<polyline clip-path=\"url(#clip562)\" style=\"stroke:#000000; stroke-linecap:round; stroke-linejoin:round; stroke-width:2; stroke-opacity:0.1; fill:none\" points=\"\n",
       "  1784.69,1423.18 1784.69,47.2441 \n",
       "  \"/>\n",
       "<polyline clip-path=\"url(#clip562)\" style=\"stroke:#000000; stroke-linecap:round; stroke-linejoin:round; stroke-width:2; stroke-opacity:0.1; fill:none\" points=\"\n",
       "  2291.89,1423.18 2291.89,47.2441 \n",
       "  \"/>\n",
       "<polyline clip-path=\"url(#clip560)\" style=\"stroke:#000000; stroke-linecap:round; stroke-linejoin:round; stroke-width:4; stroke-opacity:1; fill:none\" points=\"\n",
       "  202.227,1423.18 2352.76,1423.18 \n",
       "  \"/>\n",
       "<polyline clip-path=\"url(#clip560)\" style=\"stroke:#000000; stroke-linecap:round; stroke-linejoin:round; stroke-width:4; stroke-opacity:1; fill:none\" points=\"\n",
       "  202.227,47.2441 2352.76,47.2441 \n",
       "  \"/>\n",
       "<polyline clip-path=\"url(#clip560)\" style=\"stroke:#000000; stroke-linecap:round; stroke-linejoin:round; stroke-width:4; stroke-opacity:1; fill:none\" points=\"\n",
       "  263.091,1423.18 263.091,1404.28 \n",
       "  \"/>\n",
       "<polyline clip-path=\"url(#clip560)\" style=\"stroke:#000000; stroke-linecap:round; stroke-linejoin:round; stroke-width:4; stroke-opacity:1; fill:none\" points=\"\n",
       "  770.292,1423.18 770.292,1404.28 \n",
       "  \"/>\n",
       "<polyline clip-path=\"url(#clip560)\" style=\"stroke:#000000; stroke-linecap:round; stroke-linejoin:round; stroke-width:4; stroke-opacity:1; fill:none\" points=\"\n",
       "  1277.49,1423.18 1277.49,1404.28 \n",
       "  \"/>\n",
       "<polyline clip-path=\"url(#clip560)\" style=\"stroke:#000000; stroke-linecap:round; stroke-linejoin:round; stroke-width:4; stroke-opacity:1; fill:none\" points=\"\n",
       "  1784.69,1423.18 1784.69,1404.28 \n",
       "  \"/>\n",
       "<polyline clip-path=\"url(#clip560)\" style=\"stroke:#000000; stroke-linecap:round; stroke-linejoin:round; stroke-width:4; stroke-opacity:1; fill:none\" points=\"\n",
       "  2291.89,1423.18 2291.89,1404.28 \n",
       "  \"/>\n",
       "<path clip-path=\"url(#clip560)\" d=\"M263.091 1454.1 Q259.48 1454.1 257.652 1457.66 Q255.846 1461.2 255.846 1468.33 Q255.846 1475.44 257.652 1479.01 Q259.48 1482.55 263.091 1482.55 Q266.726 1482.55 268.531 1479.01 Q270.36 1475.44 270.36 1468.33 Q270.36 1461.2 268.531 1457.66 Q266.726 1454.1 263.091 1454.1 M263.091 1450.39 Q268.902 1450.39 271.957 1455 Q275.036 1459.58 275.036 1468.33 Q275.036 1477.06 271.957 1481.67 Q268.902 1486.25 263.091 1486.25 Q257.281 1486.25 254.203 1481.67 Q251.147 1477.06 251.147 1468.33 Q251.147 1459.58 254.203 1455 Q257.281 1450.39 263.091 1450.39 Z\" fill=\"#000000\" fill-rule=\"evenodd\" fill-opacity=\"1\" /><path clip-path=\"url(#clip560)\" d=\"M744.979 1481.64 L752.618 1481.64 L752.618 1455.28 L744.308 1456.95 L744.308 1452.69 L752.572 1451.02 L757.248 1451.02 L757.248 1481.64 L764.887 1481.64 L764.887 1485.58 L744.979 1485.58 L744.979 1481.64 Z\" fill=\"#000000\" fill-rule=\"evenodd\" fill-opacity=\"1\" /><path clip-path=\"url(#clip560)\" d=\"M784.331 1454.1 Q780.72 1454.1 778.891 1457.66 Q777.086 1461.2 777.086 1468.33 Q777.086 1475.44 778.891 1479.01 Q780.72 1482.55 784.331 1482.55 Q787.965 1482.55 789.771 1479.01 Q791.599 1475.44 791.599 1468.33 Q791.599 1461.2 789.771 1457.66 Q787.965 1454.1 784.331 1454.1 M784.331 1450.39 Q790.141 1450.39 793.197 1455 Q796.275 1459.58 796.275 1468.33 Q796.275 1477.06 793.197 1481.67 Q790.141 1486.25 784.331 1486.25 Q778.521 1486.25 775.442 1481.67 Q772.386 1477.06 772.386 1468.33 Q772.386 1459.58 775.442 1455 Q778.521 1450.39 784.331 1450.39 Z\" fill=\"#000000\" fill-rule=\"evenodd\" fill-opacity=\"1\" /><path clip-path=\"url(#clip560)\" d=\"M1256.26 1481.64 L1272.58 1481.64 L1272.58 1485.58 L1250.64 1485.58 L1250.64 1481.64 Q1253.3 1478.89 1257.89 1474.26 Q1262.49 1469.61 1263.67 1468.27 Q1265.92 1465.74 1266.8 1464.01 Q1267.7 1462.25 1267.7 1460.56 Q1267.7 1457.8 1265.76 1456.07 Q1263.83 1454.33 1260.73 1454.33 Q1258.53 1454.33 1256.08 1455.09 Q1253.65 1455.86 1250.87 1457.41 L1250.87 1452.69 Q1253.7 1451.55 1256.15 1450.97 Q1258.6 1450.39 1260.64 1450.39 Q1266.01 1450.39 1269.2 1453.08 Q1272.4 1455.77 1272.4 1460.26 Q1272.4 1462.39 1271.59 1464.31 Q1270.8 1466.2 1268.7 1468.8 Q1268.12 1469.47 1265.01 1472.69 Q1261.91 1475.88 1256.26 1481.64 Z\" fill=\"#000000\" fill-rule=\"evenodd\" fill-opacity=\"1\" /><path clip-path=\"url(#clip560)\" d=\"M1292.4 1454.1 Q1288.79 1454.1 1286.96 1457.66 Q1285.15 1461.2 1285.15 1468.33 Q1285.15 1475.44 1286.96 1479.01 Q1288.79 1482.55 1292.4 1482.55 Q1296.03 1482.55 1297.84 1479.01 Q1299.67 1475.44 1299.67 1468.33 Q1299.67 1461.2 1297.84 1457.66 Q1296.03 1454.1 1292.4 1454.1 M1292.4 1450.39 Q1298.21 1450.39 1301.26 1455 Q1304.34 1459.58 1304.34 1468.33 Q1304.34 1477.06 1301.26 1481.67 Q1298.21 1486.25 1292.4 1486.25 Q1286.59 1486.25 1283.51 1481.67 Q1280.45 1477.06 1280.45 1468.33 Q1280.45 1459.58 1283.51 1455 Q1286.59 1450.39 1292.4 1450.39 Z\" fill=\"#000000\" fill-rule=\"evenodd\" fill-opacity=\"1\" /><path clip-path=\"url(#clip560)\" d=\"M1773.53 1466.95 Q1776.89 1467.66 1778.77 1469.93 Q1780.66 1472.2 1780.66 1475.53 Q1780.66 1480.65 1777.15 1483.45 Q1773.63 1486.25 1767.15 1486.25 Q1764.97 1486.25 1762.65 1485.81 Q1760.36 1485.39 1757.91 1484.54 L1757.91 1480.02 Q1759.85 1481.16 1762.17 1481.74 Q1764.48 1482.32 1767.01 1482.32 Q1771.4 1482.32 1773.7 1480.58 Q1776.01 1478.84 1776.01 1475.53 Q1776.01 1472.48 1773.86 1470.77 Q1771.73 1469.03 1767.91 1469.03 L1763.88 1469.03 L1763.88 1465.19 L1768.09 1465.19 Q1771.54 1465.19 1773.37 1463.82 Q1775.2 1462.43 1775.2 1459.84 Q1775.2 1457.18 1773.3 1455.77 Q1771.43 1454.33 1767.91 1454.33 Q1765.99 1454.33 1763.79 1454.75 Q1761.59 1455.16 1758.95 1456.04 L1758.95 1451.88 Q1761.61 1451.14 1763.93 1450.77 Q1766.27 1450.39 1768.33 1450.39 Q1773.65 1450.39 1776.75 1452.83 Q1779.85 1455.23 1779.85 1459.35 Q1779.85 1462.22 1778.21 1464.21 Q1776.57 1466.18 1773.53 1466.95 Z\" fill=\"#000000\" fill-rule=\"evenodd\" fill-opacity=\"1\" /><path clip-path=\"url(#clip560)\" d=\"M1799.53 1454.1 Q1795.92 1454.1 1794.09 1457.66 Q1792.28 1461.2 1792.28 1468.33 Q1792.28 1475.44 1794.09 1479.01 Q1795.92 1482.55 1799.53 1482.55 Q1803.16 1482.55 1804.97 1479.01 Q1806.8 1475.44 1806.8 1468.33 Q1806.8 1461.2 1804.97 1457.66 Q1803.16 1454.1 1799.53 1454.1 M1799.53 1450.39 Q1805.34 1450.39 1808.4 1455 Q1811.47 1459.58 1811.47 1468.33 Q1811.47 1477.06 1808.4 1481.67 Q1805.34 1486.25 1799.53 1486.25 Q1793.72 1486.25 1790.64 1481.67 Q1787.59 1477.06 1787.59 1468.33 Q1787.59 1459.58 1790.64 1455 Q1793.72 1450.39 1799.53 1450.39 Z\" fill=\"#000000\" fill-rule=\"evenodd\" fill-opacity=\"1\" /><path clip-path=\"url(#clip560)\" d=\"M2280.06 1455.09 L2268.26 1473.54 L2280.06 1473.54 L2280.06 1455.09 M2278.84 1451.02 L2284.72 1451.02 L2284.72 1473.54 L2289.65 1473.54 L2289.65 1477.43 L2284.72 1477.43 L2284.72 1485.58 L2280.06 1485.58 L2280.06 1477.43 L2264.46 1477.43 L2264.46 1472.92 L2278.84 1451.02 Z\" fill=\"#000000\" fill-rule=\"evenodd\" fill-opacity=\"1\" /><path clip-path=\"url(#clip560)\" d=\"M2307.38 1454.1 Q2303.77 1454.1 2301.94 1457.66 Q2300.13 1461.2 2300.13 1468.33 Q2300.13 1475.44 2301.94 1479.01 Q2303.77 1482.55 2307.38 1482.55 Q2311.01 1482.55 2312.82 1479.01 Q2314.65 1475.44 2314.65 1468.33 Q2314.65 1461.2 2312.82 1457.66 Q2311.01 1454.1 2307.38 1454.1 M2307.38 1450.39 Q2313.19 1450.39 2316.24 1455 Q2319.32 1459.58 2319.32 1468.33 Q2319.32 1477.06 2316.24 1481.67 Q2313.19 1486.25 2307.38 1486.25 Q2301.57 1486.25 2298.49 1481.67 Q2295.43 1477.06 2295.43 1468.33 Q2295.43 1459.58 2298.49 1455 Q2301.57 1450.39 2307.38 1450.39 Z\" fill=\"#000000\" fill-rule=\"evenodd\" fill-opacity=\"1\" /><path clip-path=\"url(#clip560)\" d=\"M1075.33 1568.04 L1057.19 1520.52 L1063.91 1520.52 L1078.96 1560.53 L1094.05 1520.52 L1100.73 1520.52 L1082.62 1568.04 L1075.33 1568.04 Z\" fill=\"#000000\" fill-rule=\"evenodd\" fill-opacity=\"1\" /><path clip-path=\"url(#clip560)\" d=\"M1132.85 1548.76 L1132.85 1551.62 L1105.92 1551.62 Q1106.3 1557.67 1109.55 1560.85 Q1112.83 1564 1118.65 1564 Q1122.03 1564 1125.18 1563.17 Q1128.36 1562.35 1131.48 1560.69 L1131.48 1566.23 Q1128.33 1567.57 1125.02 1568.27 Q1121.71 1568.97 1118.3 1568.97 Q1109.77 1568.97 1104.77 1564 Q1099.81 1559.04 1099.81 1550.57 Q1099.81 1541.82 1104.52 1536.69 Q1109.26 1531.54 1117.28 1531.54 Q1124.48 1531.54 1128.65 1536.18 Q1132.85 1540.8 1132.85 1548.76 M1126.99 1547.04 Q1126.93 1542.23 1124.29 1539.37 Q1121.68 1536.5 1117.35 1536.5 Q1112.44 1536.5 1109.48 1539.27 Q1106.56 1542.04 1106.11 1547.07 L1126.99 1547.04 Z\" fill=\"#000000\" fill-rule=\"evenodd\" fill-opacity=\"1\" /><path clip-path=\"url(#clip560)\" d=\"M1142.46 1518.52 L1148.32 1518.52 L1148.32 1568.04 L1142.46 1568.04 L1142.46 1518.52 Z\" fill=\"#000000\" fill-rule=\"evenodd\" fill-opacity=\"1\" /><path clip-path=\"url(#clip560)\" d=\"M1174.38 1536.5 Q1169.67 1536.5 1166.94 1540.19 Q1164.2 1543.85 1164.2 1550.25 Q1164.2 1556.65 1166.9 1560.34 Q1169.64 1564 1174.38 1564 Q1179.06 1564 1181.8 1560.31 Q1184.54 1556.62 1184.54 1550.25 Q1184.54 1543.92 1181.8 1540.23 Q1179.06 1536.5 1174.38 1536.5 M1174.38 1531.54 Q1182.02 1531.54 1186.38 1536.5 Q1190.74 1541.47 1190.74 1550.25 Q1190.74 1559 1186.38 1564 Q1182.02 1568.97 1174.38 1568.97 Q1166.71 1568.97 1162.35 1564 Q1158.02 1559 1158.02 1550.25 Q1158.02 1541.47 1162.35 1536.5 Q1166.71 1531.54 1174.38 1531.54 Z\" fill=\"#000000\" fill-rule=\"evenodd\" fill-opacity=\"1\" /><path clip-path=\"url(#clip560)\" d=\"M1226.1 1533.76 L1226.1 1539.24 Q1223.62 1537.87 1221.11 1537.2 Q1218.62 1536.5 1216.08 1536.5 Q1210.38 1536.5 1207.23 1540.13 Q1204.08 1543.73 1204.08 1550.25 Q1204.08 1556.78 1207.23 1560.4 Q1210.38 1564 1216.08 1564 Q1218.62 1564 1221.11 1563.33 Q1223.62 1562.63 1226.1 1561.26 L1226.1 1566.68 Q1223.65 1567.82 1221.01 1568.39 Q1218.4 1568.97 1215.44 1568.97 Q1207.39 1568.97 1202.65 1563.91 Q1197.9 1558.85 1197.9 1550.25 Q1197.9 1541.53 1202.68 1536.53 Q1207.48 1531.54 1215.82 1531.54 Q1218.53 1531.54 1221.11 1532.11 Q1223.69 1532.65 1226.1 1533.76 Z\" fill=\"#000000\" fill-rule=\"evenodd\" fill-opacity=\"1\" /><path clip-path=\"url(#clip560)\" d=\"M1236.29 1532.4 L1242.15 1532.4 L1242.15 1568.04 L1236.29 1568.04 L1236.29 1532.4 M1236.29 1518.52 L1242.15 1518.52 L1242.15 1525.93 L1236.29 1525.93 L1236.29 1518.52 Z\" fill=\"#000000\" fill-rule=\"evenodd\" fill-opacity=\"1\" /><path clip-path=\"url(#clip560)\" d=\"M1260.19 1522.27 L1260.19 1532.4 L1272.26 1532.4 L1272.26 1536.95 L1260.19 1536.95 L1260.19 1556.3 Q1260.19 1560.66 1261.37 1561.9 Q1262.58 1563.14 1266.24 1563.14 L1272.26 1563.14 L1272.26 1568.04 L1266.24 1568.04 Q1259.46 1568.04 1256.88 1565.53 Q1254.3 1562.98 1254.3 1556.3 L1254.3 1536.95 L1250.01 1536.95 L1250.01 1532.4 L1254.3 1532.4 L1254.3 1522.27 L1260.19 1522.27 Z\" fill=\"#000000\" fill-rule=\"evenodd\" fill-opacity=\"1\" /><path clip-path=\"url(#clip560)\" d=\"M1294.79 1571.35 Q1292.31 1577.72 1289.95 1579.66 Q1287.6 1581.6 1283.65 1581.6 L1278.97 1581.6 L1278.97 1576.7 L1282.41 1576.7 Q1284.83 1576.7 1286.16 1575.56 Q1287.5 1574.41 1289.13 1570.14 L1290.18 1567.47 L1275.76 1532.4 L1281.96 1532.4 L1293.1 1560.28 L1304.24 1532.4 L1310.45 1532.4 L1294.79 1571.35 Z\" fill=\"#000000\" fill-rule=\"evenodd\" fill-opacity=\"1\" /><path clip-path=\"url(#clip560)\" d=\"M1353.32 1518.58 Q1349.06 1525.9 1346.99 1533.06 Q1344.92 1540.23 1344.92 1547.58 Q1344.92 1554.93 1346.99 1562.16 Q1349.09 1569.35 1353.32 1576.64 L1348.23 1576.64 Q1343.46 1569.16 1341.07 1561.93 Q1338.71 1554.71 1338.71 1547.58 Q1338.71 1540.48 1341.07 1533.29 Q1343.42 1526.09 1348.23 1518.58 L1353.32 1518.58 Z\" fill=\"#000000\" fill-rule=\"evenodd\" fill-opacity=\"1\" /><path clip-path=\"url(#clip560)\" d=\"M1392.44 1539.24 Q1394.64 1535.29 1397.69 1533.41 Q1400.75 1531.54 1404.89 1531.54 Q1410.46 1531.54 1413.48 1535.45 Q1416.5 1539.33 1416.5 1546.53 L1416.5 1568.04 L1410.61 1568.04 L1410.61 1546.72 Q1410.61 1541.59 1408.8 1539.11 Q1406.99 1536.63 1403.26 1536.63 Q1398.71 1536.63 1396.07 1539.65 Q1393.43 1542.68 1393.43 1547.9 L1393.43 1568.04 L1387.54 1568.04 L1387.54 1546.72 Q1387.54 1541.56 1385.72 1539.11 Q1383.91 1536.63 1380.12 1536.63 Q1375.63 1536.63 1372.99 1539.68 Q1370.35 1542.71 1370.35 1547.9 L1370.35 1568.04 L1364.46 1568.04 L1364.46 1532.4 L1370.35 1532.4 L1370.35 1537.93 Q1372.36 1534.66 1375.16 1533.1 Q1377.96 1531.54 1381.81 1531.54 Q1385.69 1531.54 1388.4 1533.51 Q1391.14 1535.48 1392.44 1539.24 Z\" fill=\"#000000\" fill-rule=\"evenodd\" fill-opacity=\"1\" /><path clip-path=\"url(#clip560)\" d=\"M1438.59 1520.52 L1444 1520.52 L1427.45 1574.09 L1422.04 1574.09 L1438.59 1520.52 Z\" fill=\"#000000\" fill-rule=\"evenodd\" fill-opacity=\"1\" /><path clip-path=\"url(#clip560)\" d=\"M1472.87 1533.45 L1472.87 1538.98 Q1470.39 1537.71 1467.71 1537.07 Q1465.04 1536.44 1462.18 1536.44 Q1457.82 1536.44 1455.62 1537.77 Q1453.46 1539.11 1453.46 1541.79 Q1453.46 1543.82 1455.02 1545 Q1456.57 1546.15 1461.29 1547.2 L1463.29 1547.64 Q1469.53 1548.98 1472.14 1551.43 Q1474.78 1553.85 1474.78 1558.21 Q1474.78 1563.17 1470.83 1566.07 Q1466.92 1568.97 1460.04 1568.97 Q1457.18 1568.97 1454.06 1568.39 Q1450.97 1567.85 1447.54 1566.74 L1447.54 1560.69 Q1450.78 1562.38 1453.93 1563.24 Q1457.08 1564.07 1460.17 1564.07 Q1464.31 1564.07 1466.54 1562.66 Q1468.77 1561.23 1468.77 1558.65 Q1468.77 1556.27 1467.14 1554.99 Q1465.55 1553.72 1460.11 1552.54 L1458.07 1552.07 Q1452.63 1550.92 1450.21 1548.56 Q1447.79 1546.18 1447.79 1542.04 Q1447.79 1537.01 1451.36 1534.27 Q1454.92 1531.54 1461.48 1531.54 Q1464.72 1531.54 1467.59 1532.01 Q1470.45 1532.49 1472.87 1533.45 Z\" fill=\"#000000\" fill-rule=\"evenodd\" fill-opacity=\"1\" /><path clip-path=\"url(#clip560)\" d=\"M1483.18 1518.58 L1488.28 1518.58 Q1493.05 1526.09 1495.41 1533.29 Q1497.79 1540.48 1497.79 1547.58 Q1497.79 1554.71 1495.41 1561.93 Q1493.05 1569.16 1488.28 1576.64 L1483.18 1576.64 Q1487.42 1569.35 1489.49 1562.16 Q1491.59 1554.93 1491.59 1547.58 Q1491.59 1540.23 1489.49 1533.06 Q1487.42 1525.9 1483.18 1518.58 Z\" fill=\"#000000\" fill-rule=\"evenodd\" fill-opacity=\"1\" /><polyline clip-path=\"url(#clip562)\" style=\"stroke:#000000; stroke-linecap:round; stroke-linejoin:round; stroke-width:2; stroke-opacity:0.1; fill:none\" points=\"\n",
       "  202.227,1205.99 2352.76,1205.99 \n",
       "  \"/>\n",
       "<polyline clip-path=\"url(#clip562)\" style=\"stroke:#000000; stroke-linecap:round; stroke-linejoin:round; stroke-width:2; stroke-opacity:0.1; fill:none\" points=\"\n",
       "  202.227,908.321 2352.76,908.321 \n",
       "  \"/>\n",
       "<polyline clip-path=\"url(#clip562)\" style=\"stroke:#000000; stroke-linecap:round; stroke-linejoin:round; stroke-width:2; stroke-opacity:0.1; fill:none\" points=\"\n",
       "  202.227,610.654 2352.76,610.654 \n",
       "  \"/>\n",
       "<polyline clip-path=\"url(#clip562)\" style=\"stroke:#000000; stroke-linecap:round; stroke-linejoin:round; stroke-width:2; stroke-opacity:0.1; fill:none\" points=\"\n",
       "  202.227,312.987 2352.76,312.987 \n",
       "  \"/>\n",
       "<polyline clip-path=\"url(#clip560)\" style=\"stroke:#000000; stroke-linecap:round; stroke-linejoin:round; stroke-width:4; stroke-opacity:1; fill:none\" points=\"\n",
       "  202.227,1423.18 202.227,47.2441 \n",
       "  \"/>\n",
       "<polyline clip-path=\"url(#clip560)\" style=\"stroke:#000000; stroke-linecap:round; stroke-linejoin:round; stroke-width:4; stroke-opacity:1; fill:none\" points=\"\n",
       "  2352.76,1423.18 2352.76,47.2441 \n",
       "  \"/>\n",
       "<polyline clip-path=\"url(#clip560)\" style=\"stroke:#000000; stroke-linecap:round; stroke-linejoin:round; stroke-width:4; stroke-opacity:1; fill:none\" points=\"\n",
       "  202.227,1205.99 221.125,1205.99 \n",
       "  \"/>\n",
       "<polyline clip-path=\"url(#clip560)\" style=\"stroke:#000000; stroke-linecap:round; stroke-linejoin:round; stroke-width:4; stroke-opacity:1; fill:none\" points=\"\n",
       "  202.227,908.321 221.125,908.321 \n",
       "  \"/>\n",
       "<polyline clip-path=\"url(#clip560)\" style=\"stroke:#000000; stroke-linecap:round; stroke-linejoin:round; stroke-width:4; stroke-opacity:1; fill:none\" points=\"\n",
       "  202.227,610.654 221.125,610.654 \n",
       "  \"/>\n",
       "<polyline clip-path=\"url(#clip560)\" style=\"stroke:#000000; stroke-linecap:round; stroke-linejoin:round; stroke-width:4; stroke-opacity:1; fill:none\" points=\"\n",
       "  202.227,312.987 221.125,312.987 \n",
       "  \"/>\n",
       "<path clip-path=\"url(#clip560)\" d=\"M154.283 1191.79 Q150.672 1191.79 148.843 1195.35 Q147.038 1198.89 147.038 1206.02 Q147.038 1213.13 148.843 1216.69 Q150.672 1220.24 154.283 1220.24 Q157.917 1220.24 159.723 1216.69 Q161.552 1213.13 161.552 1206.02 Q161.552 1198.89 159.723 1195.35 Q157.917 1191.79 154.283 1191.79 M154.283 1188.08 Q160.093 1188.08 163.149 1192.69 Q166.227 1197.27 166.227 1206.02 Q166.227 1214.75 163.149 1219.36 Q160.093 1223.94 154.283 1223.94 Q148.473 1223.94 145.394 1219.36 Q142.339 1214.75 142.339 1206.02 Q142.339 1197.27 145.394 1192.69 Q148.473 1188.08 154.283 1188.08 Z\" fill=\"#000000\" fill-rule=\"evenodd\" fill-opacity=\"1\" /><path clip-path=\"url(#clip560)\" d=\"M145.325 891.041 L163.681 891.041 L163.681 894.976 L149.607 894.976 L149.607 903.448 Q150.626 903.101 151.644 902.939 Q152.663 902.754 153.681 902.754 Q159.468 902.754 162.848 905.925 Q166.227 909.097 166.227 914.513 Q166.227 920.092 162.755 923.194 Q159.283 926.272 152.964 926.272 Q150.788 926.272 148.519 925.902 Q146.274 925.532 143.866 924.791 L143.866 920.092 Q145.95 921.226 148.172 921.782 Q150.394 922.337 152.871 922.337 Q156.876 922.337 159.214 920.231 Q161.552 918.124 161.552 914.513 Q161.552 910.902 159.214 908.796 Q156.876 906.689 152.871 906.689 Q150.996 906.689 149.121 907.106 Q147.269 907.522 145.325 908.402 L145.325 891.041 Z\" fill=\"#000000\" fill-rule=\"evenodd\" fill-opacity=\"1\" /><path clip-path=\"url(#clip560)\" d=\"M114.931 623.999 L122.57 623.999 L122.57 597.633 L114.26 599.3 L114.26 595.041 L122.524 593.374 L127.2 593.374 L127.2 623.999 L134.839 623.999 L134.839 627.934 L114.931 627.934 L114.931 623.999 Z\" fill=\"#000000\" fill-rule=\"evenodd\" fill-opacity=\"1\" /><path clip-path=\"url(#clip560)\" d=\"M154.283 596.453 Q150.672 596.453 148.843 600.018 Q147.038 603.559 147.038 610.689 Q147.038 617.795 148.843 621.36 Q150.672 624.902 154.283 624.902 Q157.917 624.902 159.723 621.36 Q161.552 617.795 161.552 610.689 Q161.552 603.559 159.723 600.018 Q157.917 596.453 154.283 596.453 M154.283 592.749 Q160.093 592.749 163.149 597.355 Q166.227 601.939 166.227 610.689 Q166.227 619.416 163.149 624.022 Q160.093 628.605 154.283 628.605 Q148.473 628.605 145.394 624.022 Q142.339 619.416 142.339 610.689 Q142.339 601.939 145.394 597.355 Q148.473 592.749 154.283 592.749 Z\" fill=\"#000000\" fill-rule=\"evenodd\" fill-opacity=\"1\" /><path clip-path=\"url(#clip560)\" d=\"M115.927 326.332 L123.566 326.332 L123.566 299.966 L115.256 301.633 L115.256 297.374 L123.519 295.707 L128.195 295.707 L128.195 326.332 L135.834 326.332 L135.834 330.267 L115.927 330.267 L115.927 326.332 Z\" fill=\"#000000\" fill-rule=\"evenodd\" fill-opacity=\"1\" /><path clip-path=\"url(#clip560)\" d=\"M145.325 295.707 L163.681 295.707 L163.681 299.642 L149.607 299.642 L149.607 308.114 Q150.626 307.767 151.644 307.605 Q152.663 307.42 153.681 307.42 Q159.468 307.42 162.848 310.591 Q166.227 313.762 166.227 319.179 Q166.227 324.758 162.755 327.86 Q159.283 330.938 152.964 330.938 Q150.788 330.938 148.519 330.568 Q146.274 330.198 143.866 329.457 L143.866 324.758 Q145.95 325.892 148.172 326.448 Q150.394 327.003 152.871 327.003 Q156.876 327.003 159.214 324.897 Q161.552 322.79 161.552 319.179 Q161.552 315.568 159.214 313.462 Q156.876 311.355 152.871 311.355 Q150.996 311.355 149.121 311.772 Q147.269 312.188 145.325 313.068 L145.325 295.707 Z\" fill=\"#000000\" fill-rule=\"evenodd\" fill-opacity=\"1\" /><path clip-path=\"url(#clip560)\" d=\"M46.0847 905.463 Q46.0847 912.561 47.7079 915.298 Q49.3312 918.035 53.2461 918.035 Q56.3653 918.035 58.2114 915.998 Q60.0256 913.929 60.0256 910.396 Q60.0256 905.526 56.5881 902.598 Q53.1188 899.638 47.3897 899.638 L46.0847 899.638 L46.0847 905.463 M43.6657 893.782 L64.0042 893.782 L64.0042 899.638 L58.5933 899.638 Q61.8398 901.643 63.3994 904.635 Q64.9272 907.627 64.9272 911.956 Q64.9272 917.43 61.8716 920.677 Q58.7843 923.892 53.6281 923.892 Q47.6125 923.892 44.5569 919.881 Q41.5014 915.839 41.5014 907.85 L41.5014 899.638 L40.9285 899.638 Q36.8862 899.638 34.6901 902.312 Q32.4621 904.954 32.4621 909.76 Q32.4621 912.815 33.1941 915.712 Q33.9262 918.608 35.3903 921.282 L29.9795 921.282 Q28.7381 918.067 28.1334 915.043 Q27.4968 912.019 27.4968 909.155 Q27.4968 901.421 31.5072 897.601 Q35.5176 893.782 43.6657 893.782 Z\" fill=\"#000000\" fill-rule=\"evenodd\" fill-opacity=\"1\" /><path clip-path=\"url(#clip560)\" d=\"M14.5426 846.93 Q21.8632 851.195 29.0246 853.264 Q36.186 855.333 43.5384 855.333 Q50.8908 855.333 58.1159 853.264 Q65.3091 851.163 72.5979 846.93 L72.5979 852.023 Q65.1182 856.797 57.8931 859.184 Q50.668 861.539 43.5384 861.539 Q36.4406 861.539 29.2474 859.184 Q22.0542 856.829 14.5426 852.023 L14.5426 846.93 Z\" fill=\"#000000\" fill-rule=\"evenodd\" fill-opacity=\"1\" /><path clip-path=\"url(#clip560)\" d=\"M58.5933 833.626 L58.5933 823.122 L22.3406 823.122 L24.6323 834.549 L18.7758 834.549 L16.4842 823.186 L16.4842 816.757 L58.5933 816.757 L58.5933 806.253 L64.0042 806.253 L64.0042 833.626 L58.5933 833.626 Z\" fill=\"#000000\" fill-rule=\"evenodd\" fill-opacity=\"1\" /><path clip-path=\"url(#clip560)\" d=\"M20.7174 779.517 Q20.7174 784.483 25.6189 786.997 Q30.4887 789.48 40.2919 789.48 Q50.0633 789.48 54.9649 786.997 Q59.8346 784.483 59.8346 779.517 Q59.8346 774.52 54.9649 772.038 Q50.0633 769.523 40.2919 769.523 Q30.4887 769.523 25.6189 772.038 Q20.7174 774.52 20.7174 779.517 M15.6248 779.517 Q15.6248 771.528 21.9587 767.327 Q28.2607 763.094 40.2919 763.094 Q52.2913 763.094 58.6251 767.327 Q64.9272 771.528 64.9272 779.517 Q64.9272 787.506 58.6251 791.739 Q52.2913 795.941 40.2919 795.941 Q28.2607 795.941 21.9587 791.739 Q15.6248 787.506 15.6248 779.517 Z\" fill=\"#000000\" fill-rule=\"evenodd\" fill-opacity=\"1\" /><path clip-path=\"url(#clip560)\" d=\"M28.3562 742.087 Q28.9291 739.159 30.6797 737.567 Q32.3984 735.944 35.0084 735.944 Q38.9551 735.944 41.0876 738.968 Q43.2201 741.991 43.2201 747.625 Q43.2201 749.439 42.9018 751.445 Q42.5517 753.418 41.9152 755.646 L38.0639 755.646 Q38.9233 753.991 39.337 752.113 Q39.7508 750.203 39.7508 748.071 Q39.7508 744.601 38.5095 742.692 Q37.2364 740.782 35.0084 740.782 Q32.6531 740.782 31.4436 742.564 Q30.2341 744.315 30.2341 747.752 L30.2341 750.49 L26.7966 750.49 L26.7966 747.498 Q26.7966 744.506 25.8099 742.978 Q24.7914 741.419 22.8817 741.419 Q21.0356 741.419 20.0808 743.01 Q19.0941 744.601 19.0941 747.625 Q19.0941 748.898 19.3806 750.521 Q19.667 752.145 20.3991 754.723 L16.7388 754.723 Q16.1977 752.399 15.9112 750.362 Q15.6248 748.325 15.6248 746.575 Q15.6248 741.991 17.5027 739.318 Q19.3806 736.612 22.5316 736.612 Q24.7277 736.612 26.2555 738.045 Q27.7833 739.477 28.3562 742.087 Z\" fill=\"#000000\" fill-rule=\"evenodd\" fill-opacity=\"1\" /><path clip-path=\"url(#clip560)\" d=\"M35.1993 678.016 Q31.2526 675.82 29.3747 672.764 Q27.4968 669.709 27.4968 665.571 Q27.4968 660.001 31.4117 656.977 Q35.2948 653.954 42.4881 653.954 L64.0042 653.954 L64.0042 659.842 L42.679 659.842 Q37.5546 659.842 35.072 661.656 Q32.5894 663.47 32.5894 667.194 Q32.5894 671.746 35.6131 674.388 Q38.6368 677.029 43.8567 677.029 L64.0042 677.029 L64.0042 682.918 L42.679 682.918 Q37.5228 682.918 35.072 684.732 Q32.5894 686.546 32.5894 690.334 Q32.5894 694.822 35.6449 697.463 Q38.6686 700.105 43.8567 700.105 L64.0042 700.105 L64.0042 705.993 L28.3562 705.993 L28.3562 700.105 L33.8944 700.105 Q30.616 698.1 29.0564 695.299 Q27.4968 692.498 27.4968 688.647 Q27.4968 684.764 29.4702 682.058 Q31.4436 679.321 35.1993 678.016 Z\" fill=\"#000000\" fill-rule=\"evenodd\" fill-opacity=\"1\" /><path clip-path=\"url(#clip560)\" d=\"M16.4842 631.865 L16.4842 626.454 L70.0516 643.005 L70.0516 648.416 L16.4842 631.865 Z\" fill=\"#000000\" fill-rule=\"evenodd\" fill-opacity=\"1\" /><path clip-path=\"url(#clip560)\" d=\"M29.4065 597.585 L34.9447 597.585 Q33.6716 600.068 33.035 602.742 Q32.3984 605.415 32.3984 608.28 Q32.3984 612.64 33.7352 614.836 Q35.072 617.001 37.7456 617.001 Q39.7826 617.001 40.9603 615.441 Q42.1061 613.882 43.1565 609.171 L43.6021 607.166 Q44.9389 600.927 47.3897 598.317 Q49.8086 595.676 54.1691 595.676 Q59.1344 595.676 62.0308 599.622 Q64.9272 603.537 64.9272 610.412 Q64.9272 613.277 64.3543 616.396 Q63.8132 619.483 62.6992 622.921 L56.6518 622.921 Q58.3387 619.674 59.198 616.523 Q60.0256 613.372 60.0256 610.285 Q60.0256 606.147 58.6251 603.919 Q57.1929 601.691 54.6147 601.691 Q52.2276 601.691 50.9545 603.315 Q49.6813 604.906 48.5037 610.349 L48.0262 612.386 Q46.8804 617.828 44.5251 620.247 Q42.138 622.666 38.0002 622.666 Q32.9713 622.666 30.2341 619.101 Q27.4968 615.537 27.4968 608.98 Q27.4968 605.733 27.9743 602.869 Q28.4517 600.004 29.4065 597.585 Z\" fill=\"#000000\" fill-rule=\"evenodd\" fill-opacity=\"1\" /><path clip-path=\"url(#clip560)\" d=\"M39.1142 583.963 L39.1142 570.467 L42.7427 570.467 L42.7427 589.501 L39.2416 589.501 Q38.2549 588.419 36.4725 586.414 Q26.7648 575.465 23.7729 575.465 Q21.6722 575.465 20.3991 577.12 Q19.0941 578.775 19.0941 581.48 Q19.0941 583.135 19.667 585.077 Q20.2081 587.018 21.3221 589.31 L17.4072 589.31 Q16.516 586.859 16.0704 584.758 Q15.6248 582.626 15.6248 580.812 Q15.6248 576.197 17.7255 573.428 Q19.8262 570.658 23.2636 570.658 Q27.6878 570.658 36.7271 581.194 Q38.2549 582.976 39.1142 583.963 Z\" fill=\"#000000\" fill-rule=\"evenodd\" fill-opacity=\"1\" /><path clip-path=\"url(#clip560)\" d=\"M14.5426 561.142 L14.5426 556.049 Q22.0542 551.275 29.2474 548.92 Q36.4406 546.532 43.5384 546.532 Q50.668 546.532 57.8931 548.92 Q65.1182 551.275 72.5979 556.049 L72.5979 561.142 Q65.3091 556.909 58.1159 554.84 Q50.8908 552.739 43.5384 552.739 Q36.186 552.739 29.0246 554.84 Q21.8632 556.909 14.5426 561.142 Z\" fill=\"#000000\" fill-rule=\"evenodd\" fill-opacity=\"1\" /><polyline clip-path=\"url(#clip562)\" style=\"stroke:#009af9; stroke-linecap:round; stroke-linejoin:round; stroke-width:10; stroke-opacity:1; fill:none\" points=\"\n",
       "  263.091,1205.99 313.811,1384.24 364.532,1351.15 415.252,1271.66 465.972,1210.35 516.692,1155.86 770.292,927.494 1023.89,663.761 1277.49,397.061 1531.09,86.1857 \n",
       "  1784.69,94.171 2038.29,306.457 2291.89,463.446 \n",
       "  \"/>\n",
       "</svg>\n"
      ]
     },
     "execution_count": 30,
     "metadata": {},
     "output_type": "execute_result"
    }
   ],
   "source": [
    "vs, averaged_forces = average_forces(scan_params, forces)\n",
    "averaged_forces[1] = 0.0\n",
    "plot(vs .* (Γ / k), (1e-3 * ħ * k * Γ / m) .* averaged_forces,\n",
    "    xlabel=\"Velocity (m/s)\",\n",
    "    ylabel=\"a (10³ m/s²)\", \n",
    "    framestyle=:box,\n",
    "    linewidth=2.5,\n",
    "    legend=nothing)"
   ]
  },
  {
   "cell_type": "markdown",
   "id": "ec77a821-8dc8-495a-9a7c-61cabf27d4af",
   "metadata": {},
   "source": [
    "## Force versus magnetic field\n"
   ]
  },
  {
   "cell_type": "code",
   "execution_count": 189,
   "id": "8edb3f5b-37ac-4048-b533-68995506d7f7",
   "metadata": {},
   "outputs": [],
   "source": [
    "function prob_func!(p, scan_values, i)\n",
    "    # Update velocity and position\n",
    "    p.v .= sample_direction(scan_values.vs[i])\n",
    "    p.r0 .= rand(uniform_dist, 3)\n",
    "    # Round `v` to ensure that the OBEs are periodic\n",
    "    p.v .= round_vel(p.v, p.freq_res)\n",
    "    p.B .= (0.0, 0.0, scan_values.Bz[i])\n",
    "    return nothing\n",
    "end\n",
    "function param_func(p, scan_values, i)\n",
    "    return p.B[3]\n",
    "end\n",
    "function output_func(p, sol)\n",
    "    f = p.force_last_period\n",
    "    return f[3] #(f ⋅ p.v) / norm(p.v)\n",
    "end\n",
    ";"
   ]
  },
  {
   "cell_type": "code",
   "execution_count": 192,
   "id": "4bf38adf-d296-4d26-8079-ad20e75d4868",
   "metadata": {},
   "outputs": [
    {
     "name": "stderr",
     "output_type": "stream",
     "text": [
      "\u001b[32mProgress: 100%|█████████████████████████████████████████| Time: 0:09:07\u001b[39m\n"
     ]
    },
    {
     "name": "stdout",
     "output_type": "stream",
     "text": [
      "547.370151 seconds (222.85 k allocations: 210.507 MiB)\n"
     ]
    }
   ],
   "source": [
    "p = obe(ρ0, particle, states, lasers, d, d_m, true, true, λ, Γ, freq_res)\n",
    "prob = ODEProblem(ρ!, p.ρ0_vec, tspan, p, abstol=1e-7, save_on=false)\n",
    "\n",
    "n_samples = 100\n",
    "\n",
    "Bzs = (0:2.5:52.0) ./ (Γ / (_μB * 1e6))\n",
    "vs  = 0.0 .* ones(length(Bzs))\n",
    "\n",
    "scan_values = (Bz = repeat(Bzs, n_samples), vs = repeat(vs, n_samples))\n",
    "@time scan_params, forces = force_scan(prob, scan_values, prob_func!, param_func, output_func);"
   ]
  },
  {
   "cell_type": "code",
   "execution_count": 193,
   "id": "0e95c903-7d4b-4d2c-b827-84886a3a3344",
   "metadata": {},
   "outputs": [
    {
     "data": {
      "image/svg+xml": [
       "<?xml version=\"1.0\" encoding=\"utf-8\"?>\n",
       "<svg xmlns=\"http://www.w3.org/2000/svg\" xmlns:xlink=\"http://www.w3.org/1999/xlink\" width=\"600\" height=\"400\" viewBox=\"0 0 2400 1600\">\n",
       "<defs>\n",
       "  <clipPath id=\"clip940\">\n",
       "    <rect x=\"0\" y=\"0\" width=\"2400\" height=\"1600\"/>\n",
       "  </clipPath>\n",
       "</defs>\n",
       "<path clip-path=\"url(#clip940)\" d=\"\n",
       "M0 1600 L2400 1600 L2400 0 L0 0  Z\n",
       "  \" fill=\"#ffffff\" fill-rule=\"evenodd\" fill-opacity=\"1\"/>\n",
       "<defs>\n",
       "  <clipPath id=\"clip941\">\n",
       "    <rect x=\"480\" y=\"0\" width=\"1681\" height=\"1600\"/>\n",
       "  </clipPath>\n",
       "</defs>\n",
       "<path clip-path=\"url(#clip940)\" d=\"\n",
       "M149.191 1486.45 L2352.76 1486.45 L2352.76 47.2441 L149.191 47.2441  Z\n",
       "  \" fill=\"#ffffff\" fill-rule=\"evenodd\" fill-opacity=\"1\"/>\n",
       "<defs>\n",
       "  <clipPath id=\"clip942\">\n",
       "    <rect x=\"149\" y=\"47\" width=\"2205\" height=\"1440\"/>\n",
       "  </clipPath>\n",
       "</defs>\n",
       "<polyline clip-path=\"url(#clip942)\" style=\"stroke:#000000; stroke-linecap:round; stroke-linejoin:round; stroke-width:2; stroke-opacity:0.1; fill:none\" points=\"\n",
       "  211.556,1486.45 211.556,47.2441 \n",
       "  \"/>\n",
       "<polyline clip-path=\"url(#clip942)\" style=\"stroke:#000000; stroke-linecap:round; stroke-linejoin:round; stroke-width:2; stroke-opacity:0.1; fill:none\" points=\"\n",
       "  627.323,1486.45 627.323,47.2441 \n",
       "  \"/>\n",
       "<polyline clip-path=\"url(#clip942)\" style=\"stroke:#000000; stroke-linecap:round; stroke-linejoin:round; stroke-width:2; stroke-opacity:0.1; fill:none\" points=\"\n",
       "  1043.09,1486.45 1043.09,47.2441 \n",
       "  \"/>\n",
       "<polyline clip-path=\"url(#clip942)\" style=\"stroke:#000000; stroke-linecap:round; stroke-linejoin:round; stroke-width:2; stroke-opacity:0.1; fill:none\" points=\"\n",
       "  1458.86,1486.45 1458.86,47.2441 \n",
       "  \"/>\n",
       "<polyline clip-path=\"url(#clip942)\" style=\"stroke:#000000; stroke-linecap:round; stroke-linejoin:round; stroke-width:2; stroke-opacity:0.1; fill:none\" points=\"\n",
       "  1874.62,1486.45 1874.62,47.2441 \n",
       "  \"/>\n",
       "<polyline clip-path=\"url(#clip942)\" style=\"stroke:#000000; stroke-linecap:round; stroke-linejoin:round; stroke-width:2; stroke-opacity:0.1; fill:none\" points=\"\n",
       "  2290.39,1486.45 2290.39,47.2441 \n",
       "  \"/>\n",
       "<polyline clip-path=\"url(#clip940)\" style=\"stroke:#000000; stroke-linecap:round; stroke-linejoin:round; stroke-width:4; stroke-opacity:1; fill:none\" points=\"\n",
       "  149.191,1486.45 2352.76,1486.45 \n",
       "  \"/>\n",
       "<polyline clip-path=\"url(#clip940)\" style=\"stroke:#000000; stroke-linecap:round; stroke-linejoin:round; stroke-width:4; stroke-opacity:1; fill:none\" points=\"\n",
       "  211.556,1486.45 211.556,1467.55 \n",
       "  \"/>\n",
       "<polyline clip-path=\"url(#clip940)\" style=\"stroke:#000000; stroke-linecap:round; stroke-linejoin:round; stroke-width:4; stroke-opacity:1; fill:none\" points=\"\n",
       "  627.323,1486.45 627.323,1467.55 \n",
       "  \"/>\n",
       "<polyline clip-path=\"url(#clip940)\" style=\"stroke:#000000; stroke-linecap:round; stroke-linejoin:round; stroke-width:4; stroke-opacity:1; fill:none\" points=\"\n",
       "  1043.09,1486.45 1043.09,1467.55 \n",
       "  \"/>\n",
       "<polyline clip-path=\"url(#clip940)\" style=\"stroke:#000000; stroke-linecap:round; stroke-linejoin:round; stroke-width:4; stroke-opacity:1; fill:none\" points=\"\n",
       "  1458.86,1486.45 1458.86,1467.55 \n",
       "  \"/>\n",
       "<polyline clip-path=\"url(#clip940)\" style=\"stroke:#000000; stroke-linecap:round; stroke-linejoin:round; stroke-width:4; stroke-opacity:1; fill:none\" points=\"\n",
       "  1874.62,1486.45 1874.62,1467.55 \n",
       "  \"/>\n",
       "<polyline clip-path=\"url(#clip940)\" style=\"stroke:#000000; stroke-linecap:round; stroke-linejoin:round; stroke-width:4; stroke-opacity:1; fill:none\" points=\"\n",
       "  2290.39,1486.45 2290.39,1467.55 \n",
       "  \"/>\n",
       "<path clip-path=\"url(#clip940)\" d=\"M211.556 1517.37 Q207.945 1517.37 206.116 1520.93 Q204.311 1524.47 204.311 1531.6 Q204.311 1538.71 206.116 1542.27 Q207.945 1545.82 211.556 1545.82 Q215.19 1545.82 216.996 1542.27 Q218.824 1538.71 218.824 1531.6 Q218.824 1524.47 216.996 1520.93 Q215.19 1517.37 211.556 1517.37 M211.556 1513.66 Q217.366 1513.66 220.422 1518.27 Q223.5 1522.85 223.5 1531.6 Q223.5 1540.33 220.422 1544.94 Q217.366 1549.52 211.556 1549.52 Q205.746 1549.52 202.667 1544.94 Q199.612 1540.33 199.612 1531.6 Q199.612 1522.85 202.667 1518.27 Q205.746 1513.66 211.556 1513.66 Z\" fill=\"#000000\" fill-rule=\"evenodd\" fill-opacity=\"1\" /><path clip-path=\"url(#clip940)\" d=\"M602.011 1544.91 L609.649 1544.91 L609.649 1518.55 L601.339 1520.21 L601.339 1515.95 L609.603 1514.29 L614.279 1514.29 L614.279 1544.91 L621.918 1544.91 L621.918 1548.85 L602.011 1548.85 L602.011 1544.91 Z\" fill=\"#000000\" fill-rule=\"evenodd\" fill-opacity=\"1\" /><path clip-path=\"url(#clip940)\" d=\"M641.362 1517.37 Q637.751 1517.37 635.922 1520.93 Q634.117 1524.47 634.117 1531.6 Q634.117 1538.71 635.922 1542.27 Q637.751 1545.82 641.362 1545.82 Q644.996 1545.82 646.802 1542.27 Q648.631 1538.71 648.631 1531.6 Q648.631 1524.47 646.802 1520.93 Q644.996 1517.37 641.362 1517.37 M641.362 1513.66 Q647.172 1513.66 650.228 1518.27 Q653.307 1522.85 653.307 1531.6 Q653.307 1540.33 650.228 1544.94 Q647.172 1549.52 641.362 1549.52 Q635.552 1549.52 632.473 1544.94 Q629.418 1540.33 629.418 1531.6 Q629.418 1522.85 632.473 1518.27 Q635.552 1513.66 641.362 1513.66 Z\" fill=\"#000000\" fill-rule=\"evenodd\" fill-opacity=\"1\" /><path clip-path=\"url(#clip940)\" d=\"M1021.86 1544.91 L1038.18 1544.91 L1038.18 1548.85 L1016.24 1548.85 L1016.24 1544.91 Q1018.9 1542.16 1023.48 1537.53 Q1028.09 1532.88 1029.27 1531.53 Q1031.52 1529.01 1032.4 1527.27 Q1033.3 1525.51 1033.3 1523.82 Q1033.3 1521.07 1031.35 1519.33 Q1029.43 1517.6 1026.33 1517.6 Q1024.13 1517.6 1021.68 1518.36 Q1019.25 1519.13 1016.47 1520.68 L1016.47 1515.95 Q1019.29 1514.82 1021.75 1514.24 Q1024.2 1513.66 1026.24 1513.66 Q1031.61 1513.66 1034.8 1516.35 Q1038 1519.03 1038 1523.52 Q1038 1525.65 1037.19 1527.57 Q1036.4 1529.47 1034.29 1532.07 Q1033.71 1532.74 1030.61 1535.95 Q1027.51 1539.15 1021.86 1544.91 Z\" fill=\"#000000\" fill-rule=\"evenodd\" fill-opacity=\"1\" /><path clip-path=\"url(#clip940)\" d=\"M1058 1517.37 Q1054.39 1517.37 1052.56 1520.93 Q1050.75 1524.47 1050.75 1531.6 Q1050.75 1538.71 1052.56 1542.27 Q1054.39 1545.82 1058 1545.82 Q1061.63 1545.82 1063.44 1542.27 Q1065.27 1538.71 1065.27 1531.6 Q1065.27 1524.47 1063.44 1520.93 Q1061.63 1517.37 1058 1517.37 M1058 1513.66 Q1063.81 1513.66 1066.86 1518.27 Q1069.94 1522.85 1069.94 1531.6 Q1069.94 1540.33 1066.86 1544.94 Q1063.81 1549.52 1058 1549.52 Q1052.19 1549.52 1049.11 1544.94 Q1046.05 1540.33 1046.05 1531.6 Q1046.05 1522.85 1049.11 1518.27 Q1052.19 1513.66 1058 1513.66 Z\" fill=\"#000000\" fill-rule=\"evenodd\" fill-opacity=\"1\" /><path clip-path=\"url(#clip940)\" d=\"M1447.7 1530.21 Q1451.06 1530.93 1452.93 1533.2 Q1454.83 1535.47 1454.83 1538.8 Q1454.83 1543.92 1451.31 1546.72 Q1447.79 1549.52 1441.31 1549.52 Q1439.13 1549.52 1436.82 1549.08 Q1434.53 1548.66 1432.07 1547.81 L1432.07 1543.29 Q1434.02 1544.43 1436.33 1545.01 Q1438.65 1545.58 1441.17 1545.58 Q1445.57 1545.58 1447.86 1543.85 Q1450.18 1542.11 1450.18 1538.8 Q1450.18 1535.75 1448.02 1534.03 Q1445.89 1532.3 1442.07 1532.3 L1438.05 1532.3 L1438.05 1528.45 L1442.26 1528.45 Q1445.71 1528.45 1447.54 1527.09 Q1449.37 1525.7 1449.37 1523.11 Q1449.37 1520.45 1447.47 1519.03 Q1445.59 1517.6 1442.07 1517.6 Q1440.15 1517.6 1437.95 1518.01 Q1435.76 1518.43 1433.12 1519.31 L1433.12 1515.14 Q1435.78 1514.4 1438.09 1514.03 Q1440.43 1513.66 1442.49 1513.66 Q1447.82 1513.66 1450.92 1516.09 Q1454.02 1518.5 1454.02 1522.62 Q1454.02 1525.49 1452.38 1527.48 Q1450.73 1529.45 1447.7 1530.21 Z\" fill=\"#000000\" fill-rule=\"evenodd\" fill-opacity=\"1\" /><path clip-path=\"url(#clip940)\" d=\"M1473.69 1517.37 Q1470.08 1517.37 1468.25 1520.93 Q1466.45 1524.47 1466.45 1531.6 Q1466.45 1538.71 1468.25 1542.27 Q1470.08 1545.82 1473.69 1545.82 Q1477.33 1545.82 1479.13 1542.27 Q1480.96 1538.71 1480.96 1531.6 Q1480.96 1524.47 1479.13 1520.93 Q1477.33 1517.37 1473.69 1517.37 M1473.69 1513.66 Q1479.5 1513.66 1482.56 1518.27 Q1485.64 1522.85 1485.64 1531.6 Q1485.64 1540.33 1482.56 1544.94 Q1479.5 1549.52 1473.69 1549.52 Q1467.88 1549.52 1464.81 1544.94 Q1461.75 1540.33 1461.75 1531.6 Q1461.75 1522.85 1464.81 1518.27 Q1467.88 1513.66 1473.69 1513.66 Z\" fill=\"#000000\" fill-rule=\"evenodd\" fill-opacity=\"1\" /><path clip-path=\"url(#clip940)\" d=\"M1862.8 1518.36 L1850.99 1536.81 L1862.8 1536.81 L1862.8 1518.36 M1861.57 1514.29 L1867.45 1514.29 L1867.45 1536.81 L1872.38 1536.81 L1872.38 1540.7 L1867.45 1540.7 L1867.45 1548.85 L1862.8 1548.85 L1862.8 1540.7 L1847.19 1540.7 L1847.19 1536.19 L1861.57 1514.29 Z\" fill=\"#000000\" fill-rule=\"evenodd\" fill-opacity=\"1\" /><path clip-path=\"url(#clip940)\" d=\"M1890.11 1517.37 Q1886.5 1517.37 1884.67 1520.93 Q1882.86 1524.47 1882.86 1531.6 Q1882.86 1538.71 1884.67 1542.27 Q1886.5 1545.82 1890.11 1545.82 Q1893.74 1545.82 1895.55 1542.27 Q1897.38 1538.71 1897.38 1531.6 Q1897.38 1524.47 1895.55 1520.93 Q1893.74 1517.37 1890.11 1517.37 M1890.11 1513.66 Q1895.92 1513.66 1898.98 1518.27 Q1902.05 1522.85 1902.05 1531.6 Q1902.05 1540.33 1898.98 1544.94 Q1895.92 1549.52 1890.11 1549.52 Q1884.3 1549.52 1881.22 1544.94 Q1878.17 1540.33 1878.17 1531.6 Q1878.17 1522.85 1881.22 1518.27 Q1884.3 1513.66 1890.11 1513.66 Z\" fill=\"#000000\" fill-rule=\"evenodd\" fill-opacity=\"1\" /><path clip-path=\"url(#clip940)\" d=\"M2265.09 1514.29 L2283.45 1514.29 L2283.45 1518.22 L2269.37 1518.22 L2269.37 1526.7 Q2270.39 1526.35 2271.41 1526.19 Q2272.43 1526 2273.45 1526 Q2279.23 1526 2282.61 1529.17 Q2285.99 1532.34 2285.99 1537.76 Q2285.99 1543.34 2282.52 1546.44 Q2279.05 1549.52 2272.73 1549.52 Q2270.55 1549.52 2268.28 1549.15 Q2266.04 1548.78 2263.63 1548.04 L2263.63 1543.34 Q2265.72 1544.47 2267.94 1545.03 Q2270.16 1545.58 2272.64 1545.58 Q2276.64 1545.58 2278.98 1543.48 Q2281.32 1541.37 2281.32 1537.76 Q2281.32 1534.15 2278.98 1532.04 Q2276.64 1529.94 2272.64 1529.94 Q2270.76 1529.94 2268.89 1530.35 Q2267.03 1530.77 2265.09 1531.65 L2265.09 1514.29 Z\" fill=\"#000000\" fill-rule=\"evenodd\" fill-opacity=\"1\" /><path clip-path=\"url(#clip940)\" d=\"M2305.21 1517.37 Q2301.59 1517.37 2299.77 1520.93 Q2297.96 1524.47 2297.96 1531.6 Q2297.96 1538.71 2299.77 1542.27 Q2301.59 1545.82 2305.21 1545.82 Q2308.84 1545.82 2310.65 1542.27 Q2312.47 1538.71 2312.47 1531.6 Q2312.47 1524.47 2310.65 1520.93 Q2308.84 1517.37 2305.21 1517.37 M2305.21 1513.66 Q2311.02 1513.66 2314.07 1518.27 Q2317.15 1522.85 2317.15 1531.6 Q2317.15 1540.33 2314.07 1544.94 Q2311.02 1549.52 2305.21 1549.52 Q2299.4 1549.52 2296.32 1544.94 Q2293.26 1540.33 2293.26 1531.6 Q2293.26 1522.85 2296.32 1518.27 Q2299.4 1513.66 2305.21 1513.66 Z\" fill=\"#000000\" fill-rule=\"evenodd\" fill-opacity=\"1\" /><polyline clip-path=\"url(#clip942)\" style=\"stroke:#000000; stroke-linecap:round; stroke-linejoin:round; stroke-width:2; stroke-opacity:0.1; fill:none\" points=\"\n",
       "  149.191,1453.12 2352.76,1453.12 \n",
       "  \"/>\n",
       "<polyline clip-path=\"url(#clip942)\" style=\"stroke:#000000; stroke-linecap:round; stroke-linejoin:round; stroke-width:2; stroke-opacity:0.1; fill:none\" points=\"\n",
       "  149.191,1166.98 2352.76,1166.98 \n",
       "  \"/>\n",
       "<polyline clip-path=\"url(#clip942)\" style=\"stroke:#000000; stroke-linecap:round; stroke-linejoin:round; stroke-width:2; stroke-opacity:0.1; fill:none\" points=\"\n",
       "  149.191,880.842 2352.76,880.842 \n",
       "  \"/>\n",
       "<polyline clip-path=\"url(#clip942)\" style=\"stroke:#000000; stroke-linecap:round; stroke-linejoin:round; stroke-width:2; stroke-opacity:0.1; fill:none\" points=\"\n",
       "  149.191,594.702 2352.76,594.702 \n",
       "  \"/>\n",
       "<polyline clip-path=\"url(#clip942)\" style=\"stroke:#000000; stroke-linecap:round; stroke-linejoin:round; stroke-width:2; stroke-opacity:0.1; fill:none\" points=\"\n",
       "  149.191,308.562 2352.76,308.562 \n",
       "  \"/>\n",
       "<polyline clip-path=\"url(#clip940)\" style=\"stroke:#000000; stroke-linecap:round; stroke-linejoin:round; stroke-width:4; stroke-opacity:1; fill:none\" points=\"\n",
       "  149.191,1486.45 149.191,47.2441 \n",
       "  \"/>\n",
       "<polyline clip-path=\"url(#clip940)\" style=\"stroke:#000000; stroke-linecap:round; stroke-linejoin:round; stroke-width:4; stroke-opacity:1; fill:none\" points=\"\n",
       "  149.191,1453.12 168.089,1453.12 \n",
       "  \"/>\n",
       "<polyline clip-path=\"url(#clip940)\" style=\"stroke:#000000; stroke-linecap:round; stroke-linejoin:round; stroke-width:4; stroke-opacity:1; fill:none\" points=\"\n",
       "  149.191,1166.98 168.089,1166.98 \n",
       "  \"/>\n",
       "<polyline clip-path=\"url(#clip940)\" style=\"stroke:#000000; stroke-linecap:round; stroke-linejoin:round; stroke-width:4; stroke-opacity:1; fill:none\" points=\"\n",
       "  149.191,880.842 168.089,880.842 \n",
       "  \"/>\n",
       "<polyline clip-path=\"url(#clip940)\" style=\"stroke:#000000; stroke-linecap:round; stroke-linejoin:round; stroke-width:4; stroke-opacity:1; fill:none\" points=\"\n",
       "  149.191,594.702 168.089,594.702 \n",
       "  \"/>\n",
       "<polyline clip-path=\"url(#clip940)\" style=\"stroke:#000000; stroke-linecap:round; stroke-linejoin:round; stroke-width:4; stroke-opacity:1; fill:none\" points=\"\n",
       "  149.191,308.562 168.089,308.562 \n",
       "  \"/>\n",
       "<path clip-path=\"url(#clip940)\" d=\"M50.9921 1453.57 L80.6679 1453.57 L80.6679 1457.51 L50.9921 1457.51 L50.9921 1453.57 Z\" fill=\"#000000\" fill-rule=\"evenodd\" fill-opacity=\"1\" /><path clip-path=\"url(#clip940)\" d=\"M103.608 1439.92 L91.8021 1458.36 L103.608 1458.36 L103.608 1439.92 M102.381 1435.84 L108.26 1435.84 L108.26 1458.36 L113.191 1458.36 L113.191 1462.25 L108.26 1462.25 L108.26 1470.4 L103.608 1470.4 L103.608 1462.25 L88.0058 1462.25 L88.0058 1457.74 L102.381 1435.84 Z\" fill=\"#000000\" fill-rule=\"evenodd\" fill-opacity=\"1\" /><path clip-path=\"url(#clip940)\" d=\"M52.1264 1167.43 L81.8021 1167.43 L81.8021 1171.37 L52.1264 1171.37 L52.1264 1167.43 Z\" fill=\"#000000\" fill-rule=\"evenodd\" fill-opacity=\"1\" /><path clip-path=\"url(#clip940)\" d=\"M106.061 1165.63 Q109.418 1166.35 111.293 1168.61 Q113.191 1170.88 113.191 1174.22 Q113.191 1179.33 109.672 1182.13 Q106.154 1184.93 99.6724 1184.93 Q97.4965 1184.93 95.1817 1184.49 Q92.89 1184.08 90.4364 1183.22 L90.4364 1178.71 Q92.3808 1179.84 94.6956 1180.42 Q97.0104 1181 99.5335 1181 Q103.932 1181 106.223 1179.26 Q108.538 1177.53 108.538 1174.22 Q108.538 1171.16 106.385 1169.45 Q104.256 1167.71 100.436 1167.71 L96.4085 1167.71 L96.4085 1163.87 L100.621 1163.87 Q104.071 1163.87 105.899 1162.5 Q107.728 1161.11 107.728 1158.52 Q107.728 1155.86 105.83 1154.45 Q103.955 1153.01 100.436 1153.01 Q98.515 1153.01 96.316 1153.43 Q94.1169 1153.85 91.478 1154.72 L91.478 1150.56 Q94.14 1149.82 96.4548 1149.45 Q98.7928 1149.08 100.853 1149.08 Q106.177 1149.08 109.279 1151.51 Q112.381 1153.91 112.381 1158.03 Q112.381 1160.91 110.737 1162.9 Q109.094 1164.86 106.061 1165.63 Z\" fill=\"#000000\" fill-rule=\"evenodd\" fill-opacity=\"1\" /><path clip-path=\"url(#clip940)\" d=\"M53.0754 881.293 L82.7512 881.293 L82.7512 885.228 L53.0754 885.228 L53.0754 881.293 Z\" fill=\"#000000\" fill-rule=\"evenodd\" fill-opacity=\"1\" /><path clip-path=\"url(#clip940)\" d=\"M96.8715 894.186 L113.191 894.186 L113.191 898.122 L91.2465 898.122 L91.2465 894.186 Q93.9086 891.432 98.4919 886.802 Q103.098 882.15 104.279 880.807 Q106.524 878.284 107.404 876.548 Q108.307 874.788 108.307 873.099 Q108.307 870.344 106.362 868.608 Q104.441 866.872 101.339 866.872 Q99.14 866.872 96.6863 867.636 Q94.2558 868.4 91.478 869.95 L91.478 865.228 Q94.3021 864.094 96.7558 863.515 Q99.2095 862.937 101.246 862.937 Q106.617 862.937 109.811 865.622 Q113.006 868.307 113.006 872.798 Q113.006 874.927 112.196 876.849 Q111.408 878.747 109.302 881.339 Q108.723 882.011 105.621 885.228 Q102.52 888.423 96.8715 894.186 Z\" fill=\"#000000\" fill-rule=\"evenodd\" fill-opacity=\"1\" /><path clip-path=\"url(#clip940)\" d=\"M52.7051 595.153 L82.3808 595.153 L82.3808 599.088 L52.7051 599.088 L52.7051 595.153 Z\" fill=\"#000000\" fill-rule=\"evenodd\" fill-opacity=\"1\" /><path clip-path=\"url(#clip940)\" d=\"M93.2836 608.046 L100.922 608.046 L100.922 581.681 L92.6123 583.347 L92.6123 579.088 L100.876 577.422 L105.552 577.422 L105.552 608.046 L113.191 608.046 L113.191 611.982 L93.2836 611.982 L93.2836 608.046 Z\" fill=\"#000000\" fill-rule=\"evenodd\" fill-opacity=\"1\" /><path clip-path=\"url(#clip940)\" d=\"M101.246 294.36 Q97.6354 294.36 95.8067 297.925 Q94.0012 301.467 94.0012 308.596 Q94.0012 315.703 95.8067 319.268 Q97.6354 322.809 101.246 322.809 Q104.881 322.809 106.686 319.268 Q108.515 315.703 108.515 308.596 Q108.515 301.467 106.686 297.925 Q104.881 294.36 101.246 294.36 M101.246 290.657 Q107.057 290.657 110.112 295.263 Q113.191 299.846 113.191 308.596 Q113.191 317.323 110.112 321.93 Q107.057 326.513 101.246 326.513 Q95.4363 326.513 92.3576 321.93 Q89.3021 317.323 89.3021 308.596 Q89.3021 299.846 92.3576 295.263 Q95.4363 290.657 101.246 290.657 Z\" fill=\"#000000\" fill-rule=\"evenodd\" fill-opacity=\"1\" /><polyline clip-path=\"url(#clip942)\" style=\"stroke:#009af9; stroke-linecap:round; stroke-linejoin:round; stroke-width:4; stroke-opacity:1; fill:none\" points=\"\n",
       "  211.556,424.38 315.498,179.445 419.439,555.5 523.381,673.156 627.323,1174.79 731.265,869.941 835.206,819.477 939.148,1045.55 1043.09,1445.72 1147.03,1325.41 \n",
       "  1250.97,1175.97 1354.92,1393.73 1458.86,1097.89 1562.8,1070.06 1666.74,860.862 1770.68,996.484 1874.62,921.133 1978.57,891.656 2082.51,397.871 2186.45,455.055 \n",
       "  2290.39,87.9763 \n",
       "  \"/>\n",
       "</svg>\n"
      ]
     },
     "execution_count": 193,
     "metadata": {},
     "output_type": "execute_result"
    }
   ],
   "source": [
    "Bzs, averaged_forces = average_forces(scan_params, forces)\n",
    "# averaged_forces[1] = 0.0\n",
    "plot(Bzs .* (Γ / (_μB * 1e6)), (1e-3 * ħ * k * Γ / m) .* averaged_forces, legend=nothing)"
   ]
  },
  {
   "cell_type": "code",
   "execution_count": null,
   "id": "dd8f3cf7-09db-4ed9-88bf-d6806ae4bcd8",
   "metadata": {},
   "outputs": [],
   "source": []
  }
 ],
 "metadata": {
  "kernelspec": {
   "display_name": "Julia (10 threads) 1.8.1",
   "language": "julia",
   "name": "julia-(10-threads)-1.8"
  },
  "language_info": {
   "file_extension": ".jl",
   "mimetype": "application/julia",
   "name": "julia",
   "version": "1.8.1"
  }
 },
 "nbformat": 4,
 "nbformat_minor": 5
}
