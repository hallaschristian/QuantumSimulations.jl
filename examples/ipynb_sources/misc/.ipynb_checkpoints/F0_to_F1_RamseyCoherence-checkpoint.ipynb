{
 "cells": [
  {
   "cell_type": "code",
   "execution_count": 2,
   "id": "5fcb35b6-eb12-4811-a9a6-a3b687c9a7fc",
   "metadata": {},
   "outputs": [],
   "source": [
    "using Revise"
   ]
  },
  {
   "cell_type": "code",
   "execution_count": 3,
   "id": "635e84b6-4338-4ff4-910e-504be9a213dd",
   "metadata": {},
   "outputs": [],
   "source": [
    "using\n",
    "    QuantumStates,\n",
    "    OpticalBlochEquations,\n",
    "    DifferentialEquations,\n",
    "    UnitsToValue,\n",
    "    LinearAlgebra\n",
    ";"
   ]
  },
  {
   "cell_type": "code",
   "execution_count": 4,
   "id": "51a8b3c5-721e-4b44-be0a-eb391d57c5fb",
   "metadata": {},
   "outputs": [],
   "source": [
    "H_operator = :(\n",
    "    B * Rotation +\n",
    "    B_z * Zeeman\n",
    ")\n",
    "parameters = @params begin\n",
    "    B = 1.\n",
    "    B_z = 0.\n",
    "end\n",
    "\n",
    "# Create basis states\n",
    "QN_bounds = (N = 0,)\n",
    "ground_states = enumerate_states(AngularMomentumState, QN_bounds)\n",
    "QN_bounds = (N = 1,)\n",
    "excited_states = enumerate_states(AngularMomentumState, QN_bounds)\n",
    "\n",
    "basis = [ground_states; excited_states]\n",
    "\n",
    "H = Hamiltonian(basis=basis, operator=H_operator, parameters=parameters)\n",
    "evaluate!(H)\n",
    "QuantumStates.solve!(H)\n",
    "update_basis_tdms!(H)\n",
    "update_tdms!(H)\n",
    ";"
   ]
  },
  {
   "cell_type": "code",
   "execution_count": 5,
   "id": "c817fa06-ef52-4cb2-84fb-1f60c2277605",
   "metadata": {},
   "outputs": [],
   "source": [
    "# Laser parameters\n",
    "s = 8.\n",
    "ω = 2π * energy(H.states[3])\n",
    "\n",
    "const lin = [0,1,0]\n",
    "const phase = π/2\n",
    "\n",
    "k̂ = +ẑ;\n",
    "\n",
    "ϵ_(ϵ1) = t -> ϵ1\n",
    "\n",
    "ϵ1 = ϵ_(lin)\n",
    "laser1 = Field(k̂, ϵ1, ω, s)\n",
    "\n",
    "ϵ2 = ϵ_(exp(im * π/2) * lin)\n",
    "laser2 = Field(k̂, ϵ2, ω, s)\n",
    "\n",
    "lasers = [laser1]\n",
    ";"
   ]
  },
  {
   "cell_type": "code",
   "execution_count": 6,
   "id": "0acb0760-448b-4cf3-87e6-96ae3e836ad7",
   "metadata": {},
   "outputs": [],
   "source": [
    "function update_H(H, p, τ)\n",
    "    H .= p.H₀\n",
    "end\n",
    ";"
   ]
  },
  {
   "cell_type": "code",
   "execution_count": 11,
   "id": "b0f6b34b-f2d0-43e9-a9c0-588d50707703",
   "metadata": {},
   "outputs": [
    {
     "name": "stdout",
     "output_type": "stream",
     "text": [
      " 19.208489 seconds (10.09 M allocations: 654.255 MiB, 3.50% gc time, 99.96% compilation time)\n",
      "  4.779128 seconds (2.18 M allocations: 141.707 MiB, 3.73% gc time, 99.55% compilation time: 2% of which was recompilation)"
     ]
    },
    {
     "name": "stderr",
     "output_type": "stream",
     "text": [
      "\u001b[33m\u001b[1m┌ \u001b[22m\u001b[39m\u001b[33m\u001b[1mWarning: \u001b[22m\u001b[39m#= C:\\Google Drive\\github\\OpticalBlochEquations\\src\\field.jl:35 =#:\n",
      "\u001b[33m\u001b[1m│ \u001b[22m\u001b[39m`LoopVectorization.check_args` on your inputs failed; running fallback `@inbounds @fastmath` loop instead.\n",
      "\u001b[33m\u001b[1m│ \u001b[22m\u001b[39mUse `warn_check_args=false`, e.g. `@turbo warn_check_args=false ...`, to disable this warning.\n",
      "\u001b[33m\u001b[1m└ \u001b[22m\u001b[39m\u001b[90m@ OpticalBlochEquations C:\\Users\\halla\\.julia\\packages\\LoopVectorization\\5ukqQ\\src\\condense_loopset.jl:1148\u001b[39m\n"
     ]
    },
    {
     "name": "stdout",
     "output_type": "stream",
     "text": [
      "\n",
      "  4.279718 seconds (2.00 M allocations: 127.193 MiB, 3.79% gc time, 99.90% compilation time)\n"
     ]
    }
   ],
   "source": [
    "# OBE parameters\n",
    "particle = Particle()\n",
    "freq_res = 1e-1\n",
    "\n",
    "ψ0 = zeros(ComplexF64, length(H.states))\n",
    "ψ0[1] = 1.0\n",
    "\n",
    "# π/2 pulse\n",
    "(dψ, ψ, p) = schrödinger(particle, H.states, H.matrix .* 0., [laser1], H.tdms, nothing, ψ0, false, update_H)\n",
    "\n",
    "tspan1 = (0., π/4)\n",
    "times1 = range(tspan1[1], tspan1[2], 10000)\n",
    "prob1 = ODEProblem(ψ!, ψ0, tspan1, p)\n",
    "@time sol1 = DifferentialEquations.solve(prob1, alg=DP5(), reltol=1e-3, saveat=times1)\n",
    "\n",
    "# variable precession\n",
    "(dψ, ψ, p) = schrödinger(particle, H.states, H.matrix, Field[], H.tdms, nothing, ψ0, false, update_H)\n",
    "\n",
    "precession_time = 2π/2\n",
    "tspan2 = (π/4, π/4 + precession_time)\n",
    "times2 = range(tspan2[1], tspan2[2], 10000)\n",
    "prob2 = ODEProblem(ψ!, sol1.u[end], tspan2, p)\n",
    "@time sol2 = DifferentialEquations.solve(prob2, alg=DP5(), reltol=1e-3, saveat=times2)\n",
    "\n",
    "# π/2 pulse\n",
    "(dψ, ψ, p) = schrödinger(particle, H.states, H.matrix .* 0., [laser2], H.tdms, nothing, ψ0, false, update_H)\n",
    "\n",
    "tspan3 = (π/4 + precession_time, 2π/4 + precession_time)\n",
    "times3 = range(tspan3[1], tspan3[2], 10000)\n",
    "prob3 = ODEProblem(ψ!, sol2.u[end], tspan3, p)\n",
    "@time sol3 = DifferentialEquations.solve(prob3, alg=DP5(), reltol=1e-4, saveat=times3)\n",
    ";"
   ]
  },
  {
   "cell_type": "code",
   "execution_count": 9,
   "id": "1f20a1c9-8955-44d1-9fd3-ac85a3a6ea23",
   "metadata": {},
   "outputs": [
    {
     "ename": "LoadError",
     "evalue": "UndefVarError: `sol1` not defined",
     "output_type": "error",
     "traceback": [
      "UndefVarError: `sol1` not defined",
      "",
      "Stacktrace:",
      " [1] top-level scope",
      "   @ In[9]:2"
     ]
    }
   ],
   "source": [
    "using Plots\n",
    "us = [sol1.u; sol2.u; sol3.u]\n",
    "ts = [times1; times2; times3]\n",
    "\n",
    "plot(legend=nothing)\n",
    "for i in 1:size(us[1], 1)\n",
    "    plot!(ts, [real(conj(u[i]) * u[i]) for u in us])\n",
    "end\n",
    "plot!()"
   ]
  },
  {
   "cell_type": "code",
   "execution_count": 10,
   "id": "7a5fb918-f09c-4a88-92af-589a8ec86817",
   "metadata": {},
   "outputs": [
    {
     "ename": "LoadError",
     "evalue": "UndefVarError: `sol1` not defined",
     "output_type": "error",
     "traceback": [
      "UndefVarError: `sol1` not defined",
      "",
      "Stacktrace:",
      " [1] top-level scope",
      "   @ In[10]:2"
     ]
    }
   ],
   "source": [
    "using Plots\n",
    "us = [sol1.u; sol2.u; sol3.u]\n",
    "ts = [times1; times2; times3]\n",
    "\n",
    "plot(legend=nothing)\n",
    "for i in 1:size(us[1], 1)\n",
    "    plot!(ts, [real(u[i]) for u in us])\n",
    "end\n",
    "plot!()"
   ]
  },
  {
   "cell_type": "code",
   "execution_count": null,
   "id": "74eb9f59-103f-4750-96da-30ddc78fbe3e",
   "metadata": {},
   "outputs": [],
   "source": []
  }
 ],
 "metadata": {
  "kernelspec": {
   "display_name": "Julia (20 threads) 1.9.0-rc3",
   "language": "julia",
   "name": "julia-_20-threads_-1.9"
  },
  "language_info": {
   "file_extension": ".jl",
   "mimetype": "application/julia",
   "name": "julia",
   "version": "1.9.0"
  }
 },
 "nbformat": 4,
 "nbformat_minor": 5
}
