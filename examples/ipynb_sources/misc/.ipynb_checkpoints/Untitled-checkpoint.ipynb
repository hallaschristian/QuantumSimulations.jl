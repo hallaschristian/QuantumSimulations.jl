{
 "cells": [
  {
   "cell_type": "markdown",
   "id": "787e38fa-c0eb-4eec-b4b3-36e34e1a938a",
   "metadata": {},
   "source": [
    "## Simulation of a magneto-optical trap (MOT) for molecules"
   ]
  },
  {
   "cell_type": "markdown",
   "id": "ce8429bd-6742-4825-b13e-e526574deb0f",
   "metadata": {},
   "source": [
    "The Hamiltonian for a molecule in a magneto-optical trap is given by\n",
    "$$\n",
    "   H = H_\\text{mol} + H_\\text{mol-field} + H_\\text{Zeeman}.\n",
    "$$"
   ]
  },
  {
   "cell_type": "markdown",
   "id": "43782d7e-9f9f-495a-b194-1fdf4cc4be73",
   "metadata": {},
   "source": [
    "We will start by simulating a magneto-optical trap for a simple two-level system, where the ground state has angular momentum $J = 0$ and the excited state has angular momentum $J' = 1$. The simulation will therefore include four sublevels, namely $J=0, M=0$ and $J'=1, M'=0,\\pm 1$."
   ]
  },
  {
   "cell_type": "code",
   "execution_count": 1,
   "id": "b2e84146-cee9-41b0-9e7e-54540163feda",
   "metadata": {},
   "outputs": [],
   "source": [
    "using HalfIntegers\n",
    "\n",
    "struct AngularMomentumState\n",
    "    E::Float64\n",
    "    J::HalfInteger\n",
    "    M::HalfInteger\n",
    "end\n",
    ";"
   ]
  },
  {
   "cell_type": "code",
   "execution_count": 165,
   "id": "9ddad155-75f0-48d3-9682-0f3e3aae4bb2",
   "metadata": {},
   "outputs": [],
   "source": [
    "# Example code for how to make a Hamiltonian for molecular structure that includes only rotational energy J²\n",
    "\n",
    "# # <J,M|J^2|J',M'>\n",
    "# function Rotation(state::AngularMomentumState, state′::AngularMomentumState)\n",
    "#     J, M = state.J, state.M\n",
    "#     J′, M′ = state′.J, state′.M\n",
    "#     val = 0.0\n",
    "#     if (J == J′) && (M == M′)\n",
    "#         val += J * (J + 1)\n",
    "#     end\n",
    "#     return val\n",
    "# end\n",
    "# ;\n",
    "\n",
    "# H = zeros(ComplexF64, length(states), length(states))\n",
    "# for (i, state) ∈ enumerate(states)\n",
    "#     for (j, state′) ∈ enumerate(states)\n",
    "#         H[i,j] = Rotation(state, state′)\n",
    "#     end\n",
    "# end\n",
    "# ;"
   ]
  },
  {
   "cell_type": "code",
   "execution_count": 166,
   "id": "4aa14c62-4f2d-4adf-8496-abf7e369ea54",
   "metadata": {},
   "outputs": [],
   "source": [
    "ground_states = [\n",
    "    AngularMomentumState(0,0,0)\n",
    "    ];\n",
    "\n",
    "const E0 = 400e12\n",
    "const ω0 = 2π * E0\n",
    "\n",
    "excited_states = [\n",
    "    AngularMomentumState(ω0, 1, -1)\n",
    "    AngularMomentumState(ω0, 1,  0)\n",
    "    AngularMomentumState(ω0, 1, +1)\n",
    "    ];\n",
    "\n",
    "states = [ground_states; excited_states]\n",
    ";"
   ]
  },
  {
   "cell_type": "markdown",
   "id": "d1e98ea9-3453-4b59-be6c-cbe8eb953952",
   "metadata": {
    "tags": []
   },
   "source": [
    "### Evaluating the Hamiltonian"
   ]
  },
  {
   "cell_type": "markdown",
   "id": "fe7353c9-196a-473f-a8c7-0580ce276701",
   "metadata": {
    "tags": []
   },
   "source": [
    "##### Master equation\n",
    "The master equation governing the evolution is given by\n",
    "$$\n",
    "    \\dot{\\rho}_I = \\frac{i}{\\hbar}[H_I(t), \\rho] + \\mathcal{L}(\\rho),\n",
    "$$\n",
    "where\n",
    "$$\n",
    "    \\mathcal{L}(\\rho) = - \\sum_k \\frac{\\gamma_k}{2} (c_k^\\dagger c_k \\rho + \\rho c_k^\\dagger c_k - 2 c_k \\rho c_k^\\dagger)\n",
    "$$\n",
    "\n",
    "is the Liouvillian operator responsible for spontaneous decay."
   ]
  },
  {
   "cell_type": "markdown",
   "id": "e5e26914-73f1-4523-9e70-aef98e0babfa",
   "metadata": {
    "tags": []
   },
   "source": [
    "##### Interaction picture\n",
    "We use the interaction picture in order to separate the time-independent molecular Hamiltonian from the time-dependent evolution due to the molecule-field and Zeeman interactions:\n",
    "\n",
    "$$\n",
    "    H = H_0 + H_I(t).\n",
    "$$\n",
    "\n",
    "Note that, in our case, $H_0 = H_\\text{mol}$ and $H_I(t) = H_\\text{mol-field} + H_\\text{Zeeman}$. In the interaction picture, the density matrix is transformed via the unitary operator represented by $U = e^{i H_0 t/\\hbar}$, i.e.,\n",
    "\n",
    "$$\n",
    "    \\rho_I = U \\rho_S U^\\dagger = e^{i H_0 t/\\hbar} \\rho_S e^{-i H_0 t/\\hbar}.\n",
    "$$"
   ]
  },
  {
   "cell_type": "markdown",
   "id": "e61e09dd-ef0e-49d3-9626-fc0261e7f4d4",
   "metadata": {
    "tags": []
   },
   "source": [
    "##### Interaction Hamiltonian\n",
    "Let us first consider the $H_\\text{mol-field}$ term in the interaction Hamiltonian. This is simply given by\n",
    "\n",
    "$$\n",
    "    H_\\text{mol-field} = -\\mathbf{d} \\cdot \\mathbf{E},\n",
    "$$\n",
    "\n",
    "where $\\mathbf{d}$ is the dipole moment operator. Note that $\\mathbf{d}$ and $\\mathbf{E}$ are typically written using spherical basis vectors. As such, the dot product is evaluated as follows:\n",
    "\n",
    "$$\n",
    "    \\mathbf{d} \\cdot \\mathbf{E} = \\sum_q (-1)^q d_q E_{-q}.\n",
    "$$\n",
    "\n",
    "The transition dipole moment between two states $|J,M\\rangle$ and $|J',M'\\rangle$ is therefore given by\n",
    "\n",
    "$$\n",
    "     \\langle J, M | \\mathbf{d} \\cdot \\mathbf{E} | J', M' \\rangle \n",
    "     =\n",
    "     \\sum_q (-1)^q E_{-q} \\langle J, M | d_q | J', M' \\rangle\n",
    "$$\n",
    "\n",
    "From the Wigner-Eckart theorem,\n",
    "\n",
    "$$\n",
    "    \\langle J, M | d_q | J', M' \\rangle \n",
    "    = \n",
    "    (-1)^{J-M}\n",
    "    \\begin{pmatrix}\n",
    "        J & 1 & J' \\\\\n",
    "        -M & q & M'\n",
    "    \\end{pmatrix}\n",
    "    \\langle J || d || J' \\rangle.\n",
    "$$\n",
    "\n",
    "The reduced matrix element is related to the linewidth of the electronic transition $\\Gamma$:\n",
    "\n",
    "$$\n",
    "    |\\langle J || d || J' \\rangle|^2 = \\frac{2J' + 1}{2J + 1} \\frac{3\\pi\\epsilon_0 \\hbar c^3}{\\omega_0^3} \\Gamma.\n",
    "$$\n"
   ]
  },
  {
   "cell_type": "code",
   "execution_count": 4,
   "id": "11d624e7-6534-4514-8431-92d22a61a983",
   "metadata": {},
   "outputs": [],
   "source": [
    "# Let's define some constants for the simulation\n",
    "const ϵ0 = 8.85418782e-12\n",
    "const ħ  = 1.05457182e-34\n",
    "const c  = 299792458.\n",
    "const Γ  = 2π * 10e6\n",
    ";"
   ]
  },
  {
   "cell_type": "code",
   "execution_count": 30,
   "id": "feff4eb4-70f9-43c1-8971-8ce6bb43b59e",
   "metadata": {},
   "outputs": [],
   "source": [
    "# We then define a data object `d_mat' which holds all the transition dipole moments\n",
    "using WignerSymbols\n",
    "\n",
    "H = zeros(ComplexF64, length(states), length(states))\n",
    "\n",
    "# <J,M|d_q|J',M'>\n",
    "function d_q(state::AngularMomentumState, state′::AngularMomentumState, q::Int64)\n",
    "    J,  M  = state.J,  state.M\n",
    "    J′, M′ = state′.J, state′.M \n",
    "    prefactor = (3π * ϵ0 * ħ * c^3 / ω0^3) * Γ\n",
    "    return (-1)^(J - M) * wigner3j(J, 1, J′, -M, q, M′) * sqrt((2J′ + 1) / (2J + 1) * prefactor)\n",
    "end\n",
    "\n",
    "d_mat = zeros(Float64, size(H)..., 3)\n",
    "for i ∈ 1:length(ground_states)\n",
    "    for j ∈ (length(ground_states)+1):length(states)\n",
    "        state = states[i]\n",
    "        state′ = states[j]\n",
    "        for q ∈ -1:1\n",
    "            d_mat[i,j,q+2] = d_q(state, state′, q)\n",
    "            d_mat[j,i,q+2] = d_q(state, state′, q)\n",
    "        end\n",
    "    end\n",
    "end\n",
    ";"
   ]
  },
  {
   "cell_type": "markdown",
   "id": "fcc1c4f3-792a-4c0b-a5ab-5ae274dcc7a9",
   "metadata": {},
   "source": [
    "The electric field of the lasers can be written as follows:\n",
    "\n",
    "$$\n",
    "    \\mathbf{E}(r,t) = E_0 \\varepsilon e^{i(k\\cdot r - \\omega t)} + \\text{c.c.}, \n",
    "$$\n",
    "\n",
    "where $\\varepsilon$ is a unit vector for the polarization. The amplitude $E_0$ is related to intensity of the field by \n",
    "\n",
    "$$\n",
    "    I = \\frac{1}{2} c \\epsilon_0 E_0^2 \\implies E_0 = \\sqrt{\\frac{2I}{c\\epsilon_0}}.\n",
    "$$"
   ]
  },
  {
   "cell_type": "code",
   "execution_count": 68,
   "id": "f76bee1d-f113-4eae-8981-7fb0f8672a4e",
   "metadata": {},
   "outputs": [],
   "source": [
    "# Define electric fields / lasers\n",
    "using LinearAlgebra, StaticArrays\n",
    "\n",
    "struct Laser\n",
    "    k::SVector{3, Float64}\n",
    "    ϵ::SVector{3, ComplexF64}\n",
    "    I::Float64\n",
    "    ω::Float64\n",
    "end\n",
    "\n",
    "function E(laser,r,t)\n",
    "    k, ϵ, I, ω = laser.k, laser.ϵ, laser.I, laser.ω\n",
    "    E0 = sqrt(2I / (c * ϵ0))\n",
    "    return ϵ * E0 * exp(im*(k⋅r - ω*t)) + conj(ϵ) * E0 * exp(-im*(k⋅r - ω*t))\n",
    "end\n",
    "\n",
    "function E_negative(laser,r,t)\n",
    "    k, ϵ, I, ω = laser.k, laser.ϵ, laser.I, laser.ω\n",
    "    E0 = sqrt(2I / (c * ϵ0))\n",
    "    return ϵ * E0 * exp(im*(k⋅r - ω*t))\n",
    "end\n",
    "\n",
    "x̂ = [1,0,0]\n",
    "ŷ = [0,1,0]\n",
    "ẑ = [0,0,1]\n",
    "\n",
    "σ⁻ = [1,0,0]\n",
    "σ⁰ = [0,1,0]\n",
    "σ⁺ = [0,0,1]\n",
    "\n",
    "I = 10*1e1 # 10 mW/cm^2, converted to W/m^2 by multiplying by 1e1\n",
    "ω = ω0 # set the laser frequency equal to the transition frequency\n",
    "\n",
    "laser1 = Laser(-ẑ, σ⁻, I, ω)\n",
    "laser2 = Laser(+ẑ, σ⁺, I, ω)\n",
    "lasers = [laser1, laser2]\n",
    ";"
   ]
  },
  {
   "cell_type": "markdown",
   "id": "61d55d13-958b-4f3d-9053-52d4c4152b30",
   "metadata": {},
   "source": [
    "We will make the rotating wave approximation by separating $\\mathbf{d}$ and $\\mathbf{E}$ into their negative and positive frequency components:\n",
    "\n",
    "$$\n",
    "    \\mathbf{d} \\cdot \\mathbf{E} = (\\mathbf{d}^- + \\mathbf{d}^+) \\cdot (\\mathbf{E}^- + \\mathbf{E}^+) \n",
    "    = \n",
    "    \\mathbf{d}^- \\cdot \\mathbf{E}^- + \n",
    "    \\mathbf{d}^+ \\cdot \\mathbf{E}^+ +\n",
    "    \\mathbf{d}^- \\cdot \\mathbf{E}^+ +\n",
    "    \\mathbf{d}^+ \\cdot \\mathbf{E}^-.\n",
    "$$\n",
    "\n",
    "As a specific example of this separation, consider the case where $\\mathbf{d}$ only connects two states $|1\\rangle$ and $|2\\rangle$. Then $\\mathbf{d} = d_{12} |1\\rangle\\langle 2| + d_{21} |2\\rangle\\langle 1|$. The first term carries an implicit time dependence of $e^{-i(\\omega_2 - \\omega_1) t} = e^{-i\\omega_0 t}$ (defining $\\omega_0 \\equiv \\omega_2 - \\omega_1$) while the second has a time dependence of $e^{-i\\omega t}$. The negative and positive components of the electric field are simply the two terms in the equation for $E(r,t)$ above, which have time dependence $e^{i\\omega t}$. Multiplying terms together, we see that the four terms above have the following time dependencies:\n",
    "\n",
    "$$\n",
    "    \\begin{align}\n",
    "        \\mathbf{d}^- \\cdot \\mathbf{E}^- &\\propto e^{-i \\omega_0 t} e^{-i\\omega t} = e^{-i(\\omega_0 + \\omega) t}, \\\\\n",
    "        \\mathbf{d}^+ \\cdot \\mathbf{E}^+ &\\propto e^{i \\omega_0 t} e^{i\\omega t} = e^{i(\\omega_0 + \\omega) t}, \\\\\n",
    "        \\mathbf{d}^- \\cdot \\mathbf{E}^+ &\\propto e^{-i \\omega_0 t} e^{i\\omega t} = e^{-i(\\omega_0 - \\omega) t}, \\\\\n",
    "        \\mathbf{d}^+ \\cdot \\mathbf{E}^- &\\propto e^{i \\omega_0 t} e^{-i\\omega t} = e^{i(\\omega_0 - \\omega) t}.\n",
    "    \\end{align}\n",
    "$$\n",
    "\n",
    "If we assume that $\\omega_0 - \\omega \\approx 0$, the first two terms are fast evolving. These are the terms that are removed in the rotating wave approximation."
   ]
  },
  {
   "cell_type": "code",
   "execution_count": 147,
   "id": "8910945c-c432-42e2-a93d-dbd29449ccfa",
   "metadata": {},
   "outputs": [],
   "source": [
    "function update_H!(H, E_rt, d_mat, lasers, r, t)\n",
    "    \n",
    "    # sum the electric fields for all lasers\n",
    "    E_rt -= E_rt\n",
    "    for laser ∈ lasers\n",
    "        E_rt += E_negative(laser,r,t)\n",
    "    end\n",
    "    \n",
    "    # compute - d⁺⋅E⁻ - d⁻⋅E⁺\n",
    "    for i ∈ axes(H,1)\n",
    "        for j ∈ i:size(H,2)\n",
    "            for q ∈ -1:1\n",
    "                d⁺ = d_mat[i,j,q+2]\n",
    "                d⁻ = d_mat[i,j,-q+2]\n",
    "                E⁻ = E_rt[q+2]\n",
    "                E⁺ = E_rt[-q+2]\n",
    "                H[i,j] = (-1)^q * (- d⁺ * E⁻ - d⁻ * E⁺)\n",
    "            end\n",
    "            H[j,i] = conj(H[i,j])\n",
    "        end\n",
    "    end\n",
    "    \n",
    "    return nothing\n",
    "end\n",
    ";"
   ]
  },
  {
   "cell_type": "markdown",
   "id": "ce47e59c-07db-49bd-ade9-635624199110",
   "metadata": {},
   "source": [
    "### Evaluating spontaneous decay terms"
   ]
  },
  {
   "cell_type": "markdown",
   "id": "d0c718a5-c6db-404f-b3f4-cbdc76a2e4bc",
   "metadata": {},
   "source": [
    "Note that $c_k = |1\\rangle\\langle k|$ (assuming a single ground state $|1\\rangle$ and multiple excited states $|k\\rangle$), so the operators take the following form:\n",
    "\n",
    "$$\n",
    "    \\begin{align}\n",
    "        c_k^\\dagger c_k &= |k\\rangle\\langle 1| 1 \\rangle \\langle k| = |k\\rangle\\langle k|.\n",
    "    \\end{align}\n",
    "$$\n",
    "\n",
    "Thus, \n",
    "\n",
    "$$\n",
    "    \\begin{align}\n",
    "        c_k^\\dagger c_k \\rho &= \\sum_i \\rho_{ki} |k \\rangle \\langle i |, \\\\\n",
    "        \\rho c_k^\\dagger c_k &= \\sum_i \\rho_{ik} |i \\rangle \\langle k |, \\\\\n",
    "        c_k \\rho c_k^\\dagger &= |1\\rangle\\langle k | \\rho | k \\rangle \\langle 1| = \\rho_{kk} |1\\rangle\\langle 1|.\n",
    "    \\end{align}\n",
    "$$"
   ]
  },
  {
   "cell_type": "code",
   "execution_count": 148,
   "id": "533dd6f0-d077-4af0-a2c0-d2434ca4b8c4",
   "metadata": {},
   "outputs": [],
   "source": [
    "ρ = zeros(ComplexF64, size(H)...)\n",
    "dρ = zeros(ComplexF64, size(H)...)\n",
    "\n",
    "u = zeros(ComplexF64, size(H,1), size(H,2)+6)\n",
    "du = zeros(ComplexF64, size(H,1), size(H,2)+6)\n",
    "\n",
    "ρ_tmp = deepcopy(ρ)\n",
    "dρ_tmp = deepcopy(dρ)\n",
    "\n",
    "function spontaneous_decay!(dρ, ρ)\n",
    "    for k ∈ 2:4 # iterate over excited states\n",
    "        γ_k = Γ\n",
    "        dρ[1,1] += γ_k * ρ[k,k]\n",
    "        for i ∈ 1:4 # iterate over all states\n",
    "            dρ[i,k] -= γ_k * ρ[i,k] / 2\n",
    "            dρ[k,i] -= γ_k * ρ[k,i] / 2\n",
    "        end\n",
    "    end\n",
    "    return nothing\n",
    "end\n",
    ";"
   ]
  },
  {
   "cell_type": "markdown",
   "id": "13974dbb-df42-4a35-8f7d-30fa5036d56d",
   "metadata": {},
   "source": [
    "### Solving the evolution of the master equation"
   ]
  },
  {
   "cell_type": "code",
   "execution_count": 156,
   "id": "4cbd0ce8-02ac-4749-8c2f-c14cbc8be8d3",
   "metadata": {},
   "outputs": [],
   "source": [
    "# Define some parameters to be used for the simulation\n",
    "E_rt = SVector{3, ComplexF64}(0, 0, 0) # total electric field\n",
    "r = SVector{3, Float64}(0, 0, 0) # position\n",
    "\n",
    "# We put all the parameters into a named tuple\n",
    "p = (H=H, E_rt=E_rt, d_mat=d_mat, lasers=lasers, r=r, states=states, ρ=ρ, dρ=dρ)\n",
    ";"
   ]
  },
  {
   "cell_type": "code",
   "execution_count": 163,
   "id": "d96297a9-0eb6-44ee-a922-53bf480c2698",
   "metadata": {},
   "outputs": [],
   "source": [
    "function update_dρ!(du, u, p, t)\n",
    "    \n",
    "    for i ∈ axes(p.ρ,1)\n",
    "        for j ∈ axes(p.ρ,2)\n",
    "            p.ρ[i,j] = u[i,j] * exp(+im*p.states[i].E*t) * exp(-im*p.states[j].E*t)\n",
    "        end\n",
    "    end\n",
    "    \n",
    "    # update Hamiltonian\n",
    "    update_H!(p.H, p.E_rt, p.d_mat, p.lasers, p.r, t)\n",
    "    \n",
    "    # evaluate (i/ħ)[H, ρ]\n",
    "    BLAS.gemm!('N', 'N', one(eltype(p.ρ)), p.H, p.ρ, zero(eltype(p.ρ)), p.dρ)\n",
    "    BLAS.gemm!('N', 'N', -one(eltype(p.ρ)), p.ρ, p.H, one(eltype(p.ρ)), p.dρ)\n",
    "    lmul!(im / ħ, p.dρ)\n",
    "    \n",
    "    # evaluate spontaneous decay terms\n",
    "    spontaneous_decay!(p.dρ, p.ρ)\n",
    "    \n",
    "    for i ∈ axes(p.ρ,1)\n",
    "        for j ∈ axes(p.ρ,2)\n",
    "            du[i,j] = p.dρ[i,j] * exp(-im*p.states[i].E*t) * exp(+im*p.states[j].E*t)\n",
    "        end\n",
    "    end\n",
    "    \n",
    "    # TODO:\n",
    "    # update dv (change in velocity)\n",
    "    # du[1,end-6:end-4] = force(p.ρ, t)\n",
    "    \n",
    "    # update dr (change in position)\n",
    "    # du[1,end-3:end] = u[1,end-6:end-4]\n",
    "    \n",
    "    return nothing\n",
    "    \n",
    "end\n",
    ";"
   ]
  },
  {
   "cell_type": "code",
   "execution_count": 164,
   "id": "d27b2268-52cb-487e-8210-4bdfce64bbd1",
   "metadata": {},
   "outputs": [
    {
     "name": "stdout",
     "output_type": "stream",
     "text": [
      "  2.167 μs (0 allocations: 0 bytes)\n"
     ]
    }
   ],
   "source": [
    "# Check the timing of the \"evolution\" function `update_dρ!`\n",
    "using BenchmarkTools\n",
    "@btime update_dρ!($du, $u, $p, $1.0)"
   ]
  },
  {
   "cell_type": "code",
   "execution_count": 152,
   "id": "8611fb73-f47a-45a2-b33e-1f84b70aa395",
   "metadata": {},
   "outputs": [
    {
     "name": "stdout",
     "output_type": "stream",
     "text": [
      "  0.003781 seconds (2.22 k allocations: 235.143 KiB, 86.42% compilation time: 100% of which was recompilation)\n"
     ]
    }
   ],
   "source": [
    "using DifferentialEquations\n",
    "tspan = (0, 0.2e-6)\n",
    "\n",
    "ρ0 = deepcopy(ρ)\n",
    "ρ0[3,3] = 1.0\n",
    "\n",
    "prob = ODEProblem(update_dρ!, ρ0, tspan, p)\n",
    "@time sol = solve(prob, alg=DP5(), reltol=1e-3, saveat=0.001e-6)\n",
    ";"
   ]
  },
  {
   "cell_type": "code",
   "execution_count": 153,
   "id": "f4669349-5d2a-45c3-af64-75f09e4e3035",
   "metadata": {},
   "outputs": [
    {
     "data": {
      "image/png": "[encoded data removed]",
      "image/svg+xml": [
       "<?xml version=\"1.0\" encoding=\"utf-8\"?>\n",
       "<svg xmlns=\"http://www.w3.org/2000/svg\" xmlns:xlink=\"http://www.w3.org/1999/xlink\" width=\"600\" height=\"400\" viewBox=\"0 0 2400 1600\">\n",
       "<defs>\n",
       "  <clipPath id=\"clip490\">\n",
       "    <rect x=\"0\" y=\"0\" width=\"2400\" height=\"1600\"/>\n",
       "  </clipPath>\n",
       "</defs>\n",
       "<path clip-path=\"url(#clip490)\" d=\"M0 1600 L2400 1600 L2400 0 L0 0  Z\" fill=\"#ffffff\" fill-rule=\"evenodd\" fill-opacity=\"1\"/>\n",
       "<defs>\n",
       "  <clipPath id=\"clip491\">\n",
       "    <rect x=\"480\" y=\"0\" width=\"1681\" height=\"1600\"/>\n",
       "  </clipPath>\n",
       "</defs>\n",
       "<path clip-path=\"url(#clip490)\" d=\"M186.274 1486.45 L2352.76 1486.45 L2352.76 47.2441 L186.274 47.2441  Z\" fill=\"#ffffff\" fill-rule=\"evenodd\" fill-opacity=\"1\"/>\n",
       "<defs>\n",
       "  <clipPath id=\"clip492\">\n",
       "    <rect x=\"186\" y=\"47\" width=\"2167\" height=\"1440\"/>\n",
       "  </clipPath>\n",
       "</defs>\n",
       "<polyline clip-path=\"url(#clip492)\" style=\"stroke:#000000; stroke-linecap:round; stroke-linejoin:round; stroke-width:2; stroke-opacity:0.1; fill:none\" points=\"237.37,1486.45 237.37,47.2441 \"/>\n",
       "<polyline clip-path=\"url(#clip492)\" style=\"stroke:#000000; stroke-linecap:round; stroke-linejoin:round; stroke-width:2; stroke-opacity:0.1; fill:none\" points=\"748.333,1486.45 748.333,47.2441 \"/>\n",
       "<polyline clip-path=\"url(#clip492)\" style=\"stroke:#000000; stroke-linecap:round; stroke-linejoin:round; stroke-width:2; stroke-opacity:0.1; fill:none\" points=\"1259.3,1486.45 1259.3,47.2441 \"/>\n",
       "<polyline clip-path=\"url(#clip492)\" style=\"stroke:#000000; stroke-linecap:round; stroke-linejoin:round; stroke-width:2; stroke-opacity:0.1; fill:none\" points=\"1770.26,1486.45 1770.26,47.2441 \"/>\n",
       "<polyline clip-path=\"url(#clip492)\" style=\"stroke:#000000; stroke-linecap:round; stroke-linejoin:round; stroke-width:2; stroke-opacity:0.1; fill:none\" points=\"2281.22,1486.45 2281.22,47.2441 \"/>\n",
       "<polyline clip-path=\"url(#clip490)\" style=\"stroke:#000000; stroke-linecap:round; stroke-linejoin:round; stroke-width:4; stroke-opacity:1; fill:none\" points=\"186.274,1486.45 2352.76,1486.45 \"/>\n",
       "<polyline clip-path=\"url(#clip490)\" style=\"stroke:#000000; stroke-linecap:round; stroke-linejoin:round; stroke-width:4; stroke-opacity:1; fill:none\" points=\"237.37,1486.45 237.37,1467.55 \"/>\n",
       "<polyline clip-path=\"url(#clip490)\" style=\"stroke:#000000; stroke-linecap:round; stroke-linejoin:round; stroke-width:4; stroke-opacity:1; fill:none\" points=\"748.333,1486.45 748.333,1467.55 \"/>\n",
       "<polyline clip-path=\"url(#clip490)\" style=\"stroke:#000000; stroke-linecap:round; stroke-linejoin:round; stroke-width:4; stroke-opacity:1; fill:none\" points=\"1259.3,1486.45 1259.3,1467.55 \"/>\n",
       "<polyline clip-path=\"url(#clip490)\" style=\"stroke:#000000; stroke-linecap:round; stroke-linejoin:round; stroke-width:4; stroke-opacity:1; fill:none\" points=\"1770.26,1486.45 1770.26,1467.55 \"/>\n",
       "<polyline clip-path=\"url(#clip490)\" style=\"stroke:#000000; stroke-linecap:round; stroke-linejoin:round; stroke-width:4; stroke-opacity:1; fill:none\" points=\"2281.22,1486.45 2281.22,1467.55 \"/>\n",
       "<path clip-path=\"url(#clip490)\" d=\"M237.37 1517.37 Q233.759 1517.37 231.93 1520.93 Q230.125 1524.47 230.125 1531.6 Q230.125 1538.71 231.93 1542.27 Q233.759 1545.82 237.37 1545.82 Q241.005 1545.82 242.81 1542.27 Q244.639 1538.71 244.639 1531.6 Q244.639 1524.47 242.81 1520.93 Q241.005 1517.37 237.37 1517.37 M237.37 1513.66 Q243.18 1513.66 246.236 1518.27 Q249.315 1522.85 249.315 1531.6 Q249.315 1540.33 246.236 1544.94 Q243.18 1549.52 237.37 1549.52 Q231.56 1549.52 228.481 1544.94 Q225.426 1540.33 225.426 1531.6 Q225.426 1522.85 228.481 1518.27 Q231.56 1513.66 237.37 1513.66 Z\" fill=\"#000000\" fill-rule=\"nonzero\" fill-opacity=\"1\" /><path clip-path=\"url(#clip490)\" d=\"M723.032 1514.29 L741.389 1514.29 L741.389 1518.22 L727.315 1518.22 L727.315 1526.7 Q728.333 1526.35 729.352 1526.19 Q730.37 1526 731.389 1526 Q737.176 1526 740.555 1529.17 Q743.935 1532.34 743.935 1537.76 Q743.935 1543.34 740.463 1546.44 Q736.99 1549.52 730.671 1549.52 Q728.495 1549.52 726.227 1549.15 Q723.981 1548.78 721.574 1548.04 L721.574 1543.34 Q723.657 1544.47 725.879 1545.03 Q728.102 1545.58 730.578 1545.58 Q734.583 1545.58 736.921 1543.48 Q739.259 1541.37 739.259 1537.76 Q739.259 1534.15 736.921 1532.04 Q734.583 1529.94 730.578 1529.94 Q728.703 1529.94 726.828 1530.35 Q724.977 1530.77 723.032 1531.65 L723.032 1514.29 Z\" fill=\"#000000\" fill-rule=\"nonzero\" fill-opacity=\"1\" /><path clip-path=\"url(#clip490)\" d=\"M763.148 1517.37 Q759.537 1517.37 757.708 1520.93 Q755.902 1524.47 755.902 1531.6 Q755.902 1538.71 757.708 1542.27 Q759.537 1545.82 763.148 1545.82 Q766.782 1545.82 768.588 1542.27 Q770.416 1538.71 770.416 1531.6 Q770.416 1524.47 768.588 1520.93 Q766.782 1517.37 763.148 1517.37 M763.148 1513.66 Q768.958 1513.66 772.013 1518.27 Q775.092 1522.85 775.092 1531.6 Q775.092 1540.33 772.013 1544.94 Q768.958 1549.52 763.148 1549.52 Q757.338 1549.52 754.259 1544.94 Q751.203 1540.33 751.203 1531.6 Q751.203 1522.85 754.259 1518.27 Q757.338 1513.66 763.148 1513.66 Z\" fill=\"#000000\" fill-rule=\"nonzero\" fill-opacity=\"1\" /><path clip-path=\"url(#clip490)\" d=\"M1218.9 1544.91 L1226.54 1544.91 L1226.54 1518.55 L1218.23 1520.21 L1218.23 1515.95 L1226.49 1514.29 L1231.17 1514.29 L1231.17 1544.91 L1238.81 1544.91 L1238.81 1548.85 L1218.9 1548.85 L1218.9 1544.91 Z\" fill=\"#000000\" fill-rule=\"nonzero\" fill-opacity=\"1\" /><path clip-path=\"url(#clip490)\" d=\"M1258.25 1517.37 Q1254.64 1517.37 1252.81 1520.93 Q1251.01 1524.47 1251.01 1531.6 Q1251.01 1538.71 1252.81 1542.27 Q1254.64 1545.82 1258.25 1545.82 Q1261.89 1545.82 1263.69 1542.27 Q1265.52 1538.71 1265.52 1531.6 Q1265.52 1524.47 1263.69 1520.93 Q1261.89 1517.37 1258.25 1517.37 M1258.25 1513.66 Q1264.06 1513.66 1267.12 1518.27 Q1270.2 1522.85 1270.2 1531.6 Q1270.2 1540.33 1267.12 1544.94 Q1264.06 1549.52 1258.25 1549.52 Q1252.44 1549.52 1249.37 1544.94 Q1246.31 1540.33 1246.31 1531.6 Q1246.31 1522.85 1249.37 1518.27 Q1252.44 1513.66 1258.25 1513.66 Z\" fill=\"#000000\" fill-rule=\"nonzero\" fill-opacity=\"1\" /><path clip-path=\"url(#clip490)\" d=\"M1288.42 1517.37 Q1284.8 1517.37 1282.98 1520.93 Q1281.17 1524.47 1281.17 1531.6 Q1281.17 1538.71 1282.98 1542.27 Q1284.8 1545.82 1288.42 1545.82 Q1292.05 1545.82 1293.86 1542.27 Q1295.68 1538.71 1295.68 1531.6 Q1295.68 1524.47 1293.86 1520.93 Q1292.05 1517.37 1288.42 1517.37 M1288.42 1513.66 Q1294.23 1513.66 1297.28 1518.27 Q1300.36 1522.85 1300.36 1531.6 Q1300.36 1540.33 1297.28 1544.94 Q1294.23 1549.52 1288.42 1549.52 Q1282.61 1549.52 1279.53 1544.94 Q1276.47 1540.33 1276.47 1531.6 Q1276.47 1522.85 1279.53 1518.27 Q1282.61 1513.66 1288.42 1513.66 Z\" fill=\"#000000\" fill-rule=\"nonzero\" fill-opacity=\"1\" /><path clip-path=\"url(#clip490)\" d=\"M1729.87 1544.91 L1737.5 1544.91 L1737.5 1518.55 L1729.19 1520.21 L1729.19 1515.95 L1737.46 1514.29 L1742.13 1514.29 L1742.13 1544.91 L1749.77 1544.91 L1749.77 1548.85 L1729.87 1548.85 L1729.87 1544.91 Z\" fill=\"#000000\" fill-rule=\"nonzero\" fill-opacity=\"1\" /><path clip-path=\"url(#clip490)\" d=\"M1759.26 1514.29 L1777.62 1514.29 L1777.62 1518.22 L1763.55 1518.22 L1763.55 1526.7 Q1764.56 1526.35 1765.58 1526.19 Q1766.6 1526 1767.62 1526 Q1773.41 1526 1776.79 1529.17 Q1780.17 1532.34 1780.17 1537.76 Q1780.17 1543.34 1776.69 1546.44 Q1773.22 1549.52 1766.9 1549.52 Q1764.73 1549.52 1762.46 1549.15 Q1760.21 1548.78 1757.8 1548.04 L1757.8 1543.34 Q1759.89 1544.47 1762.11 1545.03 Q1764.33 1545.58 1766.81 1545.58 Q1770.81 1545.58 1773.15 1543.48 Q1775.49 1541.37 1775.49 1537.76 Q1775.49 1534.15 1773.15 1532.04 Q1770.81 1529.94 1766.81 1529.94 Q1764.93 1529.94 1763.06 1530.35 Q1761.21 1530.77 1759.26 1531.65 L1759.26 1514.29 Z\" fill=\"#000000\" fill-rule=\"nonzero\" fill-opacity=\"1\" /><path clip-path=\"url(#clip490)\" d=\"M1799.38 1517.37 Q1795.77 1517.37 1793.94 1520.93 Q1792.13 1524.47 1792.13 1531.6 Q1792.13 1538.71 1793.94 1542.27 Q1795.77 1545.82 1799.38 1545.82 Q1803.01 1545.82 1804.82 1542.27 Q1806.65 1538.71 1806.65 1531.6 Q1806.65 1524.47 1804.82 1520.93 Q1803.01 1517.37 1799.38 1517.37 M1799.38 1513.66 Q1805.19 1513.66 1808.24 1518.27 Q1811.32 1522.85 1811.32 1531.6 Q1811.32 1540.33 1808.24 1544.94 Q1805.19 1549.52 1799.38 1549.52 Q1793.57 1549.52 1790.49 1544.94 Q1787.43 1540.33 1787.43 1531.6 Q1787.43 1522.85 1790.49 1518.27 Q1793.57 1513.66 1799.38 1513.66 Z\" fill=\"#000000\" fill-rule=\"nonzero\" fill-opacity=\"1\" /><path clip-path=\"url(#clip490)\" d=\"M2244.91 1544.91 L2261.23 1544.91 L2261.23 1548.85 L2239.29 1548.85 L2239.29 1544.91 Q2241.95 1542.16 2246.53 1537.53 Q2251.14 1532.88 2252.32 1531.53 Q2254.57 1529.01 2255.45 1527.27 Q2256.35 1525.51 2256.35 1523.82 Q2256.35 1521.07 2254.4 1519.33 Q2252.48 1517.6 2249.38 1517.6 Q2247.18 1517.6 2244.73 1518.36 Q2242.3 1519.13 2239.52 1520.68 L2239.52 1515.95 Q2242.34 1514.82 2244.8 1514.24 Q2247.25 1513.66 2249.29 1513.66 Q2254.66 1513.66 2257.85 1516.35 Q2261.05 1519.03 2261.05 1523.52 Q2261.05 1525.65 2260.24 1527.57 Q2259.45 1529.47 2257.34 1532.07 Q2256.77 1532.74 2253.66 1535.95 Q2250.56 1539.15 2244.91 1544.91 Z\" fill=\"#000000\" fill-rule=\"nonzero\" fill-opacity=\"1\" /><path clip-path=\"url(#clip490)\" d=\"M2281.05 1517.37 Q2277.44 1517.37 2275.61 1520.93 Q2273.8 1524.47 2273.8 1531.6 Q2273.8 1538.71 2275.61 1542.27 Q2277.44 1545.82 2281.05 1545.82 Q2284.68 1545.82 2286.49 1542.27 Q2288.32 1538.71 2288.32 1531.6 Q2288.32 1524.47 2286.49 1520.93 Q2284.68 1517.37 2281.05 1517.37 M2281.05 1513.66 Q2286.86 1513.66 2289.91 1518.27 Q2292.99 1522.85 2292.99 1531.6 Q2292.99 1540.33 2289.91 1544.94 Q2286.86 1549.52 2281.05 1549.52 Q2275.24 1549.52 2272.16 1544.94 Q2269.1 1540.33 2269.1 1531.6 Q2269.1 1522.85 2272.16 1518.27 Q2275.24 1513.66 2281.05 1513.66 Z\" fill=\"#000000\" fill-rule=\"nonzero\" fill-opacity=\"1\" /><path clip-path=\"url(#clip490)\" d=\"M2311.21 1517.37 Q2307.6 1517.37 2305.77 1520.93 Q2303.96 1524.47 2303.96 1531.6 Q2303.96 1538.71 2305.77 1542.27 Q2307.6 1545.82 2311.21 1545.82 Q2314.84 1545.82 2316.65 1542.27 Q2318.48 1538.71 2318.48 1531.6 Q2318.48 1524.47 2316.65 1520.93 Q2314.84 1517.37 2311.21 1517.37 M2311.21 1513.66 Q2317.02 1513.66 2320.08 1518.27 Q2323.15 1522.85 2323.15 1531.6 Q2323.15 1540.33 2320.08 1544.94 Q2317.02 1549.52 2311.21 1549.52 Q2305.4 1549.52 2302.32 1544.94 Q2299.27 1540.33 2299.27 1531.6 Q2299.27 1522.85 2302.32 1518.27 Q2305.4 1513.66 2311.21 1513.66 Z\" fill=\"#000000\" fill-rule=\"nonzero\" fill-opacity=\"1\" /><polyline clip-path=\"url(#clip492)\" style=\"stroke:#000000; stroke-linecap:round; stroke-linejoin:round; stroke-width:2; stroke-opacity:0.1; fill:none\" points=\"186.274,1445.72 2352.76,1445.72 \"/>\n",
       "<polyline clip-path=\"url(#clip492)\" style=\"stroke:#000000; stroke-linecap:round; stroke-linejoin:round; stroke-width:2; stroke-opacity:0.1; fill:none\" points=\"186.274,1106.28 2352.76,1106.28 \"/>\n",
       "<polyline clip-path=\"url(#clip492)\" style=\"stroke:#000000; stroke-linecap:round; stroke-linejoin:round; stroke-width:2; stroke-opacity:0.1; fill:none\" points=\"186.274,766.846 2352.76,766.846 \"/>\n",
       "<polyline clip-path=\"url(#clip492)\" style=\"stroke:#000000; stroke-linecap:round; stroke-linejoin:round; stroke-width:2; stroke-opacity:0.1; fill:none\" points=\"186.274,427.411 2352.76,427.411 \"/>\n",
       "<polyline clip-path=\"url(#clip492)\" style=\"stroke:#000000; stroke-linecap:round; stroke-linejoin:round; stroke-width:2; stroke-opacity:0.1; fill:none\" points=\"186.274,87.9763 2352.76,87.9763 \"/>\n",
       "<polyline clip-path=\"url(#clip490)\" style=\"stroke:#000000; stroke-linecap:round; stroke-linejoin:round; stroke-width:4; stroke-opacity:1; fill:none\" points=\"186.274,1486.45 186.274,47.2441 \"/>\n",
       "<polyline clip-path=\"url(#clip490)\" style=\"stroke:#000000; stroke-linecap:round; stroke-linejoin:round; stroke-width:4; stroke-opacity:1; fill:none\" points=\"186.274,1445.72 205.172,1445.72 \"/>\n",
       "<polyline clip-path=\"url(#clip490)\" style=\"stroke:#000000; stroke-linecap:round; stroke-linejoin:round; stroke-width:4; stroke-opacity:1; fill:none\" points=\"186.274,1106.28 205.172,1106.28 \"/>\n",
       "<polyline clip-path=\"url(#clip490)\" style=\"stroke:#000000; stroke-linecap:round; stroke-linejoin:round; stroke-width:4; stroke-opacity:1; fill:none\" points=\"186.274,766.846 205.172,766.846 \"/>\n",
       "<polyline clip-path=\"url(#clip490)\" style=\"stroke:#000000; stroke-linecap:round; stroke-linejoin:round; stroke-width:4; stroke-opacity:1; fill:none\" points=\"186.274,427.411 205.172,427.411 \"/>\n",
       "<polyline clip-path=\"url(#clip490)\" style=\"stroke:#000000; stroke-linecap:round; stroke-linejoin:round; stroke-width:4; stroke-opacity:1; fill:none\" points=\"186.274,87.9763 205.172,87.9763 \"/>\n",
       "<path clip-path=\"url(#clip490)\" d=\"M62.9365 1431.51 Q59.3254 1431.51 57.4967 1435.08 Q55.6912 1438.62 55.6912 1445.75 Q55.6912 1452.86 57.4967 1456.42 Q59.3254 1459.96 62.9365 1459.96 Q66.5707 1459.96 68.3763 1456.42 Q70.205 1452.86 70.205 1445.75 Q70.205 1438.62 68.3763 1435.08 Q66.5707 1431.51 62.9365 1431.51 M62.9365 1427.81 Q68.7467 1427.81 71.8022 1432.42 Q74.8809 1437 74.8809 1445.75 Q74.8809 1454.48 71.8022 1459.08 Q68.7467 1463.67 62.9365 1463.67 Q57.1264 1463.67 54.0477 1459.08 Q50.9921 1454.48 50.9921 1445.75 Q50.9921 1437 54.0477 1432.42 Q57.1264 1427.81 62.9365 1427.81 Z\" fill=\"#000000\" fill-rule=\"nonzero\" fill-opacity=\"1\" /><path clip-path=\"url(#clip490)\" d=\"M83.0984 1457.12 L87.9827 1457.12 L87.9827 1463 L83.0984 1463 L83.0984 1457.12 Z\" fill=\"#000000\" fill-rule=\"nonzero\" fill-opacity=\"1\" /><path clip-path=\"url(#clip490)\" d=\"M108.168 1431.51 Q104.557 1431.51 102.728 1435.08 Q100.922 1438.62 100.922 1445.75 Q100.922 1452.86 102.728 1456.42 Q104.557 1459.96 108.168 1459.96 Q111.802 1459.96 113.608 1456.42 Q115.436 1452.86 115.436 1445.75 Q115.436 1438.62 113.608 1435.08 Q111.802 1431.51 108.168 1431.51 M108.168 1427.81 Q113.978 1427.81 117.033 1432.42 Q120.112 1437 120.112 1445.75 Q120.112 1454.48 117.033 1459.08 Q113.978 1463.67 108.168 1463.67 Q102.358 1463.67 99.2789 1459.08 Q96.2234 1454.48 96.2234 1445.75 Q96.2234 1437 99.2789 1432.42 Q102.358 1427.81 108.168 1427.81 Z\" fill=\"#000000\" fill-rule=\"nonzero\" fill-opacity=\"1\" /><path clip-path=\"url(#clip490)\" d=\"M138.33 1431.51 Q134.719 1431.51 132.89 1435.08 Q131.084 1438.62 131.084 1445.75 Q131.084 1452.86 132.89 1456.42 Q134.719 1459.96 138.33 1459.96 Q141.964 1459.96 143.769 1456.42 Q145.598 1452.86 145.598 1445.75 Q145.598 1438.62 143.769 1435.08 Q141.964 1431.51 138.33 1431.51 M138.33 1427.81 Q144.14 1427.81 147.195 1432.42 Q150.274 1437 150.274 1445.75 Q150.274 1454.48 147.195 1459.08 Q144.14 1463.67 138.33 1463.67 Q132.519 1463.67 129.441 1459.08 Q126.385 1454.48 126.385 1445.75 Q126.385 1437 129.441 1432.42 Q132.519 1427.81 138.33 1427.81 Z\" fill=\"#000000\" fill-rule=\"nonzero\" fill-opacity=\"1\" /><path clip-path=\"url(#clip490)\" d=\"M63.9319 1092.08 Q60.3208 1092.08 58.4921 1095.64 Q56.6865 1099.19 56.6865 1106.32 Q56.6865 1113.42 58.4921 1116.99 Q60.3208 1120.53 63.9319 1120.53 Q67.5661 1120.53 69.3717 1116.99 Q71.2004 1113.42 71.2004 1106.32 Q71.2004 1099.19 69.3717 1095.64 Q67.5661 1092.08 63.9319 1092.08 M63.9319 1088.38 Q69.742 1088.38 72.7976 1092.98 Q75.8763 1097.57 75.8763 1106.32 Q75.8763 1115.04 72.7976 1119.65 Q69.742 1124.23 63.9319 1124.23 Q58.1217 1124.23 55.043 1119.65 Q51.9875 1115.04 51.9875 1106.32 Q51.9875 1097.57 55.043 1092.98 Q58.1217 1088.38 63.9319 1088.38 Z\" fill=\"#000000\" fill-rule=\"nonzero\" fill-opacity=\"1\" /><path clip-path=\"url(#clip490)\" d=\"M84.0938 1117.68 L88.978 1117.68 L88.978 1123.56 L84.0938 1123.56 L84.0938 1117.68 Z\" fill=\"#000000\" fill-rule=\"nonzero\" fill-opacity=\"1\" /><path clip-path=\"url(#clip490)\" d=\"M103.191 1119.63 L119.51 1119.63 L119.51 1123.56 L97.566 1123.56 L97.566 1119.63 Q100.228 1116.87 104.811 1112.24 Q109.418 1107.59 110.598 1106.25 Q112.844 1103.72 113.723 1101.99 Q114.626 1100.23 114.626 1098.54 Q114.626 1095.78 112.682 1094.05 Q110.76 1092.31 107.658 1092.31 Q105.459 1092.31 103.006 1093.07 Q100.575 1093.84 97.7974 1095.39 L97.7974 1090.67 Q100.621 1089.53 103.075 1088.95 Q105.529 1088.38 107.566 1088.38 Q112.936 1088.38 116.131 1091.06 Q119.325 1093.75 119.325 1098.24 Q119.325 1100.37 118.515 1102.29 Q117.728 1104.19 115.621 1106.78 Q115.043 1107.45 111.941 1110.67 Q108.839 1113.86 103.191 1119.63 Z\" fill=\"#000000\" fill-rule=\"nonzero\" fill-opacity=\"1\" /><path clip-path=\"url(#clip490)\" d=\"M129.371 1089 L147.728 1089 L147.728 1092.94 L133.654 1092.94 L133.654 1101.41 Q134.672 1101.06 135.691 1100.9 Q136.709 1100.71 137.728 1100.71 Q143.515 1100.71 146.894 1103.89 Q150.274 1107.06 150.274 1112.47 Q150.274 1118.05 146.802 1121.15 Q143.33 1124.23 137.01 1124.23 Q134.834 1124.23 132.566 1123.86 Q130.32 1123.49 127.913 1122.75 L127.913 1118.05 Q129.996 1119.19 132.219 1119.74 Q134.441 1120.3 136.918 1120.3 Q140.922 1120.3 143.26 1118.19 Q145.598 1116.08 145.598 1112.47 Q145.598 1108.86 143.26 1106.76 Q140.922 1104.65 136.918 1104.65 Q135.043 1104.65 133.168 1105.07 Q131.316 1105.48 129.371 1106.36 L129.371 1089 Z\" fill=\"#000000\" fill-rule=\"nonzero\" fill-opacity=\"1\" /><path clip-path=\"url(#clip490)\" d=\"M62.9365 752.645 Q59.3254 752.645 57.4967 756.209 Q55.6912 759.751 55.6912 766.881 Q55.6912 773.987 57.4967 777.552 Q59.3254 781.094 62.9365 781.094 Q66.5707 781.094 68.3763 777.552 Q70.205 773.987 70.205 766.881 Q70.205 759.751 68.3763 756.209 Q66.5707 752.645 62.9365 752.645 M62.9365 748.941 Q68.7467 748.941 71.8022 753.547 Q74.8809 758.131 74.8809 766.881 Q74.8809 775.608 71.8022 780.214 Q68.7467 784.797 62.9365 784.797 Q57.1264 784.797 54.0477 780.214 Q50.9921 775.608 50.9921 766.881 Q50.9921 758.131 54.0477 753.547 Q57.1264 748.941 62.9365 748.941 Z\" fill=\"#000000\" fill-rule=\"nonzero\" fill-opacity=\"1\" /><path clip-path=\"url(#clip490)\" d=\"M83.0984 778.246 L87.9827 778.246 L87.9827 784.126 L83.0984 784.126 L83.0984 778.246 Z\" fill=\"#000000\" fill-rule=\"nonzero\" fill-opacity=\"1\" /><path clip-path=\"url(#clip490)\" d=\"M98.2141 749.566 L116.57 749.566 L116.57 753.501 L102.496 753.501 L102.496 761.973 Q103.515 761.626 104.534 761.464 Q105.552 761.279 106.571 761.279 Q112.358 761.279 115.737 764.45 Q119.117 767.621 119.117 773.038 Q119.117 778.617 115.645 781.719 Q112.172 784.797 105.853 784.797 Q103.677 784.797 101.409 784.427 Q99.1632 784.057 96.7558 783.316 L96.7558 778.617 Q98.8391 779.751 101.061 780.307 Q103.284 780.862 105.76 780.862 Q109.765 780.862 112.103 778.756 Q114.441 776.649 114.441 773.038 Q114.441 769.427 112.103 767.321 Q109.765 765.214 105.76 765.214 Q103.885 765.214 102.01 765.631 Q100.159 766.047 98.2141 766.927 L98.2141 749.566 Z\" fill=\"#000000\" fill-rule=\"nonzero\" fill-opacity=\"1\" /><path clip-path=\"url(#clip490)\" d=\"M138.33 752.645 Q134.719 752.645 132.89 756.209 Q131.084 759.751 131.084 766.881 Q131.084 773.987 132.89 777.552 Q134.719 781.094 138.33 781.094 Q141.964 781.094 143.769 777.552 Q145.598 773.987 145.598 766.881 Q145.598 759.751 143.769 756.209 Q141.964 752.645 138.33 752.645 M138.33 748.941 Q144.14 748.941 147.195 753.547 Q150.274 758.131 150.274 766.881 Q150.274 775.608 147.195 780.214 Q144.14 784.797 138.33 784.797 Q132.519 784.797 129.441 780.214 Q126.385 775.608 126.385 766.881 Q126.385 758.131 129.441 753.547 Q132.519 748.941 138.33 748.941 Z\" fill=\"#000000\" fill-rule=\"nonzero\" fill-opacity=\"1\" /><path clip-path=\"url(#clip490)\" d=\"M63.9319 413.21 Q60.3208 413.21 58.4921 416.775 Q56.6865 420.316 56.6865 427.446 Q56.6865 434.552 58.4921 438.117 Q60.3208 441.659 63.9319 441.659 Q67.5661 441.659 69.3717 438.117 Q71.2004 434.552 71.2004 427.446 Q71.2004 420.316 69.3717 416.775 Q67.5661 413.21 63.9319 413.21 M63.9319 409.506 Q69.742 409.506 72.7976 414.113 Q75.8763 418.696 75.8763 427.446 Q75.8763 436.173 72.7976 440.779 Q69.742 445.362 63.9319 445.362 Q58.1217 445.362 55.043 440.779 Q51.9875 436.173 51.9875 427.446 Q51.9875 418.696 55.043 414.113 Q58.1217 409.506 63.9319 409.506 Z\" fill=\"#000000\" fill-rule=\"nonzero\" fill-opacity=\"1\" /><path clip-path=\"url(#clip490)\" d=\"M84.0938 438.812 L88.978 438.812 L88.978 444.691 L84.0938 444.691 L84.0938 438.812 Z\" fill=\"#000000\" fill-rule=\"nonzero\" fill-opacity=\"1\" /><path clip-path=\"url(#clip490)\" d=\"M97.9826 410.131 L120.205 410.131 L120.205 412.122 L107.658 444.691 L102.774 444.691 L114.58 414.066 L97.9826 414.066 L97.9826 410.131 Z\" fill=\"#000000\" fill-rule=\"nonzero\" fill-opacity=\"1\" /><path clip-path=\"url(#clip490)\" d=\"M129.371 410.131 L147.728 410.131 L147.728 414.066 L133.654 414.066 L133.654 422.538 Q134.672 422.191 135.691 422.029 Q136.709 421.844 137.728 421.844 Q143.515 421.844 146.894 425.015 Q150.274 428.187 150.274 433.603 Q150.274 439.182 146.802 442.284 Q143.33 445.362 137.01 445.362 Q134.834 445.362 132.566 444.992 Q130.32 444.622 127.913 443.881 L127.913 439.182 Q129.996 440.316 132.219 440.872 Q134.441 441.427 136.918 441.427 Q140.922 441.427 143.26 439.321 Q145.598 437.214 145.598 433.603 Q145.598 429.992 143.26 427.886 Q140.922 425.779 136.918 425.779 Q135.043 425.779 133.168 426.196 Q131.316 426.613 129.371 427.492 L129.371 410.131 Z\" fill=\"#000000\" fill-rule=\"nonzero\" fill-opacity=\"1\" /><path clip-path=\"url(#clip490)\" d=\"M53.7467 101.321 L61.3856 101.321 L61.3856 74.9555 L53.0754 76.6222 L53.0754 72.3629 L61.3393 70.6963 L66.0152 70.6963 L66.0152 101.321 L73.654 101.321 L73.654 105.256 L53.7467 105.256 L53.7467 101.321 Z\" fill=\"#000000\" fill-rule=\"nonzero\" fill-opacity=\"1\" /><path clip-path=\"url(#clip490)\" d=\"M83.0984 99.3767 L87.9827 99.3767 L87.9827 105.256 L83.0984 105.256 L83.0984 99.3767 Z\" fill=\"#000000\" fill-rule=\"nonzero\" fill-opacity=\"1\" /><path clip-path=\"url(#clip490)\" d=\"M108.168 73.775 Q104.557 73.775 102.728 77.3398 Q100.922 80.8814 100.922 88.011 Q100.922 95.1174 102.728 98.6822 Q104.557 102.224 108.168 102.224 Q111.802 102.224 113.608 98.6822 Q115.436 95.1174 115.436 88.011 Q115.436 80.8814 113.608 77.3398 Q111.802 73.775 108.168 73.775 M108.168 70.0713 Q113.978 70.0713 117.033 74.6777 Q120.112 79.261 120.112 88.011 Q120.112 96.7378 117.033 101.344 Q113.978 105.928 108.168 105.928 Q102.358 105.928 99.2789 101.344 Q96.2234 96.7378 96.2234 88.011 Q96.2234 79.261 99.2789 74.6777 Q102.358 70.0713 108.168 70.0713 Z\" fill=\"#000000\" fill-rule=\"nonzero\" fill-opacity=\"1\" /><path clip-path=\"url(#clip490)\" d=\"M138.33 73.775 Q134.719 73.775 132.89 77.3398 Q131.084 80.8814 131.084 88.011 Q131.084 95.1174 132.89 98.6822 Q134.719 102.224 138.33 102.224 Q141.964 102.224 143.769 98.6822 Q145.598 95.1174 145.598 88.011 Q145.598 80.8814 143.769 77.3398 Q141.964 73.775 138.33 73.775 M138.33 70.0713 Q144.14 70.0713 147.195 74.6777 Q150.274 79.261 150.274 88.011 Q150.274 96.7378 147.195 101.344 Q144.14 105.928 138.33 105.928 Q132.519 105.928 129.441 101.344 Q126.385 96.7378 126.385 88.011 Q126.385 79.261 129.441 74.6777 Q132.519 70.0713 138.33 70.0713 Z\" fill=\"#000000\" fill-rule=\"nonzero\" fill-opacity=\"1\" /><polyline clip-path=\"url(#clip492)\" style=\"stroke:#009af9; stroke-linecap:round; stroke-linejoin:round; stroke-width:4; stroke-opacity:1; fill:none\" points=\"247.59,1445.72 257.809,1363.38 268.028,1288.03 278.247,1220.95 288.467,1163 298.686,1114.61 308.905,1075.81 319.124,1046.21 329.344,1025.11 339.563,1011.51 349.782,1004.21 360.001,1001.88 370.221,1003.14 380.44,1006.58 390.659,1010.87 400.878,1014.85 411.098,1017.57 421.317,1018.22 431.536,1016.16 441.755,1011.01 451.975,1002.7 462.194,991.433 472.413,977.416 482.632,961.038 492.852,942.804 503.071,923.334 513.29,903.342 523.509,883.414 533.729,864.177 543.948,846.188 554.167,829.884 564.386,815.582 574.606,803.45 584.825,793.664 595.044,786.31 605.263,781.327 615.483,778.503 625.702,777.48 635.921,777.868 646.14,779.411 656.36,781.737 666.579,784.489 676.798,787.332 687.017,789.955 697.237,792.139 707.456,793.679 717.675,794.379 727.894,794.134 738.114,792.929 748.333,790.838 758.552,788.015 768.771,784.55 778.991,780.566 789.21,776.216 799.429,771.662 809.649,767.082 819.868,762.663 830.087,758.591 840.306,754.923 850.526,751.763 860.745,749.195 870.964,747.256 881.183,745.939 891.403,745.186 901.622,744.909 911.841,745.055 922.06,745.561 932.28,746.351 942.499,747.341 952.718,748.435 962.937,749.531 973.157,750.514 983.376,751.286 993.595,751.864 1003.81,752.21 1014.03,752.287 1024.25,752.088 1034.47,751.628 1044.69,750.946 1054.91,750.107 1065.13,749.159 1075.35,748.124 1085.57,747.047 1095.79,745.969 1106.01,744.93 1116.23,743.969 1126.45,743.121 1136.66,742.42 1146.88,741.897 1157.1,741.541 1167.32,741.321 1177.54,741.243 1187.76,741.303 1197.98,741.487 1208.2,741.771 1218.42,742.121 1228.64,742.495 1238.86,742.839 1249.08,743.156 1259.3,743.445 1269.51,743.678 1279.73,743.838 1289.95,743.914 1300.17,743.902 1310.39,743.808 1320.61,743.642 1330.83,743.425 1341.05,743.182 1351.27,742.922 1361.49,742.65 1371.71,742.373 1381.93,742.097 1392.15,741.831 1402.37,741.582 1412.58,741.362 1422.8,741.18 1433.02,741.048 1443.24,740.978 1453.46,740.984 1463.68,741.078 1473.9,741.225 1484.12,741.39 1494.34,741.564 1504.56,741.739 1514.78,741.905 1525,742.057 1535.22,742.184 1545.43,742.28 1555.65,742.337 1565.87,742.347 1576.09,742.306 1586.31,742.24 1596.53,742.16 1606.75,742.063 1616.97,741.948 1627.19,741.817 1637.41,741.674 1647.63,741.525 1657.85,741.379 1668.07,741.245 1678.29,741.138 1688.5,741.07 1698.72,741.061 1708.94,741.091 1719.16,741.132 1729.38,741.188 1739.6,741.26 1749.82,741.349 1760.04,741.45 1770.26,741.561 1780.48,741.674 1790.7,741.781 1800.92,741.872 1811.14,741.934 1821.35,741.952 1831.57,741.929 1841.79,741.899 1852.01,741.86 1862.23,741.806 1872.45,741.738 1882.67,741.654 1892.89,741.557 1903.11,741.452 1913.33,741.345 1923.55,741.245 1933.77,741.162 1943.99,741.109 1954.2,741.1 1964.42,741.132 1974.64,741.168 1984.86,741.212 1995.08,741.267 2005.3,741.335 2015.52,741.415 2025.74,741.506 2035.96,741.603 2046.18,741.7 2056.4,741.79 2066.62,741.864 2076.84,741.909 2087.06,741.912 2097.27,741.865 2107.49,741.806 2117.71,741.741 2127.93,741.67 2138.15,741.59 2148.37,741.503 2158.59,741.411 2168.81,741.318 2179.03,741.228 2189.25,741.148 2199.47,741.085 2209.69,741.049 2219.91,741.051 2230.12,741.101 2240.34,741.19 2250.56,741.287 2260.78,741.385 2271,741.479 2281.22,741.565 2291.44,741.639 \"/>\n",
       "<polyline clip-path=\"url(#clip492)\" style=\"stroke:#e26f46; stroke-linecap:round; stroke-linejoin:round; stroke-width:4; stroke-opacity:1; fill:none\" points=\"247.59,1445.72 257.809,1445.54 268.028,1444.39 278.247,1441.47 288.467,1436.21 298.686,1428.25 308.905,1417.45 319.124,1403.89 329.344,1387.81 339.563,1369.61 349.782,1349.77 360.001,1328.88 370.221,1307.53 380.44,1286.36 390.659,1265.95 400.878,1246.81 411.098,1229.34 421.317,1213.88 431.536,1200.71 441.755,1189.94 451.975,1181.56 462.194,1175.43 472.413,1171.39 482.632,1169.2 492.852,1168.58 503.071,1169.16 513.29,1170.56 523.509,1172.46 533.729,1174.49 543.948,1176.37 554.167,1177.84 564.386,1178.71 574.606,1178.88 584.825,1178.24 595.044,1176.72 605.263,1174.33 615.483,1171.16 625.702,1167.36 635.921,1163.12 646.14,1158.55 656.36,1153.83 666.579,1149.1 676.798,1144.53 687.017,1140.27 697.237,1136.4 707.456,1133.03 717.675,1130.23 727.894,1128.06 738.114,1126.5 748.333,1125.52 758.552,1125.03 768.771,1124.98 778.991,1125.29 789.21,1125.89 799.429,1126.69 809.649,1127.59 819.868,1128.5 830.087,1129.31 840.306,1129.99 850.526,1130.49 860.745,1130.76 870.964,1130.77 881.183,1130.54 891.403,1130.07 901.622,1129.42 911.841,1128.61 922.06,1127.66 932.28,1126.61 942.499,1125.5 952.718,1124.38 962.937,1123.29 973.157,1122.29 983.376,1121.42 993.595,1120.69 1003.81,1120.09 1014.03,1119.66 1024.25,1119.39 1034.47,1119.27 1044.69,1119.28 1054.91,1119.39 1065.13,1119.58 1075.35,1119.82 1085.57,1120.11 1095.79,1120.41 1106.01,1120.7 1116.23,1120.97 1126.45,1121.2 1136.66,1121.36 1146.88,1121.45 1157.1,1121.46 1167.32,1121.42 1177.54,1121.31 1187.76,1121.15 1197.98,1120.93 1208.2,1120.67 1218.42,1120.38 1228.64,1120.09 1238.86,1119.82 1249.08,1119.56 1259.3,1119.33 1269.51,1119.13 1279.73,1118.98 1289.95,1118.86 1300.17,1118.8 1310.39,1118.79 1320.61,1118.81 1330.83,1118.86 1341.05,1118.93 1351.27,1119.01 1361.49,1119.1 1371.71,1119.19 1381.93,1119.29 1392.15,1119.38 1402.37,1119.47 1412.58,1119.55 1422.8,1119.61 1433.02,1119.64 1443.24,1119.65 1453.46,1119.62 1463.68,1119.55 1473.9,1119.45 1484.12,1119.35 1494.34,1119.24 1504.56,1119.13 1514.78,1119.03 1525,1118.94 1535.22,1118.86 1545.43,1118.8 1555.65,1118.75 1565.87,1118.74 1576.09,1118.74 1586.31,1118.76 1596.53,1118.79 1606.75,1118.83 1616.97,1118.88 1627.19,1118.94 1637.41,1119 1647.63,1119.07 1657.85,1119.13 1668.07,1119.19 1678.29,1119.24 1688.5,1119.27 1698.72,1119.26 1708.94,1119.24 1719.16,1119.22 1729.38,1119.18 1739.6,1119.14 1749.82,1119.1 1760.04,1119.04 1770.26,1118.98 1780.48,1118.92 1790.7,1118.86 1800.92,1118.82 1811.14,1118.78 1821.35,1118.77 1831.57,1118.78 1841.79,1118.79 1852.01,1118.81 1862.23,1118.83 1872.45,1118.87 1882.67,1118.91 1892.89,1118.95 1903.11,1119 1913.33,1119.06 1923.55,1119.1 1933.77,1119.14 1943.99,1119.17 1954.2,1119.17 1964.42,1119.16 1974.64,1119.14 1984.86,1119.11 1995.08,1119.09 2005.3,1119.05 2015.52,1119.01 2025.74,1118.96 2035.96,1118.91 2046.18,1118.86 2056.4,1118.82 2066.62,1118.78 2076.84,1118.76 2087.06,1118.76 2097.27,1118.78 2107.49,1118.81 2117.71,1118.84 2127.93,1118.88 2138.15,1118.91 2148.37,1118.96 2158.59,1119 2168.81,1119.05 2179.03,1119.09 2189.25,1119.13 2199.47,1119.17 2209.69,1119.18 2219.91,1119.18 2230.12,1119.16 2240.34,1119.11 2250.56,1119.06 2260.78,1119.01 2271,1118.97 2281.22,1118.92 2291.44,1118.89 \"/>\n",
       "<polyline clip-path=\"url(#clip492)\" style=\"stroke:#3da44d; stroke-linecap:round; stroke-linejoin:round; stroke-width:4; stroke-opacity:1; fill:none\" points=\"247.59,87.9763 257.809,170.661 268.028,248.31 278.247,321.23 288.467,389.71 298.686,454.019 308.905,514.412 319.124,571.127 329.344,624.389 339.563,674.406 349.782,721.378 360.001,765.489 370.221,806.914 380.44,845.816 390.659,882.349 400.878,916.657 411.098,948.876 421.317,979.134 431.536,1007.55 441.755,1034.23 451.975,1059.29 462.194,1082.82 472.413,1104.92 482.632,1125.68 492.852,1145.17 503.071,1163.47 513.29,1180.66 523.509,1196.8 533.729,1211.96 543.948,1226.19 554.167,1239.56 564.386,1252.12 574.606,1263.91 584.825,1274.98 595.044,1285.38 605.263,1295.14 615.483,1304.31 625.702,1312.92 635.921,1321.01 646.14,1328.6 656.36,1335.74 666.579,1342.43 676.798,1348.72 687.017,1354.63 697.237,1360.18 707.456,1365.39 717.675,1370.28 727.894,1374.87 738.114,1379.19 748.333,1383.24 758.552,1387.04 768.771,1390.62 778.991,1393.97 789.21,1397.12 799.429,1400.08 809.649,1402.86 819.868,1405.47 830.087,1407.92 840.306,1410.22 850.526,1412.38 860.745,1414.41 870.964,1416.32 881.183,1418.11 891.403,1419.79 901.622,1421.37 911.841,1422.85 922.06,1424.25 932.28,1425.55 942.499,1426.78 952.718,1427.93 962.937,1429.02 973.157,1430.03 983.376,1430.99 993.595,1431.89 1003.81,1432.73 1014.03,1433.52 1024.25,1434.26 1034.47,1434.96 1044.69,1435.61 1054.91,1436.23 1065.13,1436.81 1075.35,1437.35 1085.57,1437.86 1095.79,1438.34 1106.01,1438.79 1116.23,1439.21 1126.45,1439.6 1136.66,1439.98 1146.88,1440.33 1157.1,1440.65 1167.32,1440.96 1177.54,1441.25 1187.76,1441.52 1197.98,1441.78 1208.2,1442.02 1218.42,1442.24 1228.64,1442.46 1238.86,1442.65 1249.08,1442.84 1259.3,1443.02 1269.51,1443.18 1279.73,1443.33 1289.95,1443.48 1300.17,1443.62 1310.39,1443.74 1320.61,1443.86 1330.83,1443.98 1341.05,1444.08 1351.27,1444.18 1361.49,1444.28 1371.71,1444.36 1381.93,1444.45 1392.15,1444.52 1402.37,1444.6 1412.58,1444.66 1422.8,1444.73 1433.02,1444.79 1443.24,1444.84 1453.46,1444.9 1463.68,1444.95 1473.9,1444.99 1484.12,1445.04 1494.34,1445.08 1504.56,1445.12 1514.78,1445.15 1525,1445.19 1535.22,1445.22 1545.43,1445.25 1555.65,1445.28 1565.87,1445.31 1576.09,1445.33 1586.31,1445.35 1596.53,1445.38 1606.75,1445.4 1616.97,1445.42 1627.19,1445.43 1637.41,1445.45 1647.63,1445.47 1657.85,1445.48 1668.07,1445.5 1678.29,1445.51 1688.5,1445.52 1698.72,1445.53 1708.94,1445.55 1719.16,1445.56 1729.38,1445.57 1739.6,1445.57 1749.82,1445.58 1760.04,1445.59 1770.26,1445.6 1780.48,1445.61 1790.7,1445.61 1800.92,1445.62 1811.14,1445.62 1821.35,1445.63 1831.57,1445.64 1841.79,1445.64 1852.01,1445.65 1862.23,1445.65 1872.45,1445.65 1882.67,1445.66 1892.89,1445.66 1903.11,1445.66 1913.33,1445.67 1923.55,1445.67 1933.77,1445.67 1943.99,1445.68 1954.2,1445.68 1964.42,1445.68 1974.64,1445.68 1984.86,1445.68 1995.08,1445.69 2005.3,1445.69 2015.52,1445.69 2025.74,1445.69 2035.96,1445.69 2046.18,1445.69 2056.4,1445.7 2066.62,1445.7 2076.84,1445.7 2087.06,1445.7 2097.27,1445.7 2107.49,1445.7 2117.71,1445.7 2127.93,1445.7 2138.15,1445.7 2148.37,1445.7 2158.59,1445.7 2168.81,1445.71 2179.03,1445.71 2189.25,1445.71 2199.47,1445.71 2209.69,1445.71 2219.91,1445.71 2230.12,1445.71 2240.34,1445.71 2250.56,1445.71 2260.78,1445.71 2271,1445.71 2281.22,1445.71 2291.44,1445.71 \"/>\n",
       "<polyline clip-path=\"url(#clip492)\" style=\"stroke:#c271d2; stroke-linecap:round; stroke-linejoin:round; stroke-width:4; stroke-opacity:1; fill:none\" points=\"247.59,1445.72 257.809,1445.54 268.028,1444.39 278.247,1441.47 288.467,1436.21 298.686,1428.25 308.905,1417.45 319.124,1403.89 329.344,1387.81 339.563,1369.61 349.782,1349.77 360.001,1328.88 370.221,1307.53 380.44,1286.36 390.659,1265.95 400.878,1246.81 411.098,1229.34 421.317,1213.88 431.536,1200.71 441.755,1189.94 451.975,1181.56 462.194,1175.43 472.413,1171.39 482.632,1169.2 492.852,1168.58 503.071,1169.16 513.29,1170.56 523.509,1172.46 533.729,1174.49 543.948,1176.37 554.167,1177.84 564.386,1178.71 574.606,1178.88 584.825,1178.24 595.044,1176.72 605.263,1174.33 615.483,1171.16 625.702,1167.36 635.921,1163.12 646.14,1158.55 656.36,1153.83 666.579,1149.1 676.798,1144.53 687.017,1140.27 697.237,1136.4 707.456,1133.03 717.675,1130.23 727.894,1128.06 738.114,1126.5 748.333,1125.52 758.552,1125.03 768.771,1124.98 778.991,1125.29 789.21,1125.89 799.429,1126.69 809.649,1127.59 819.868,1128.5 830.087,1129.31 840.306,1129.99 850.526,1130.49 860.745,1130.76 870.964,1130.77 881.183,1130.54 891.403,1130.07 901.622,1129.42 911.841,1128.61 922.06,1127.66 932.28,1126.61 942.499,1125.5 952.718,1124.38 962.937,1123.29 973.157,1122.29 983.376,1121.42 993.595,1120.69 1003.81,1120.09 1014.03,1119.66 1024.25,1119.39 1034.47,1119.27 1044.69,1119.28 1054.91,1119.39 1065.13,1119.58 1075.35,1119.82 1085.57,1120.11 1095.79,1120.41 1106.01,1120.7 1116.23,1120.97 1126.45,1121.2 1136.66,1121.36 1146.88,1121.45 1157.1,1121.46 1167.32,1121.42 1177.54,1121.31 1187.76,1121.15 1197.98,1120.93 1208.2,1120.67 1218.42,1120.38 1228.64,1120.09 1238.86,1119.82 1249.08,1119.56 1259.3,1119.33 1269.51,1119.13 1279.73,1118.98 1289.95,1118.86 1300.17,1118.8 1310.39,1118.79 1320.61,1118.81 1330.83,1118.86 1341.05,1118.93 1351.27,1119.01 1361.49,1119.1 1371.71,1119.19 1381.93,1119.29 1392.15,1119.38 1402.37,1119.47 1412.58,1119.55 1422.8,1119.61 1433.02,1119.64 1443.24,1119.65 1453.46,1119.62 1463.68,1119.55 1473.9,1119.45 1484.12,1119.35 1494.34,1119.24 1504.56,1119.13 1514.78,1119.03 1525,1118.94 1535.22,1118.86 1545.43,1118.8 1555.65,1118.75 1565.87,1118.74 1576.09,1118.74 1586.31,1118.76 1596.53,1118.79 1606.75,1118.83 1616.97,1118.88 1627.19,1118.94 1637.41,1119 1647.63,1119.07 1657.85,1119.13 1668.07,1119.19 1678.29,1119.24 1688.5,1119.27 1698.72,1119.26 1708.94,1119.24 1719.16,1119.22 1729.38,1119.18 1739.6,1119.14 1749.82,1119.1 1760.04,1119.04 1770.26,1118.98 1780.48,1118.92 1790.7,1118.86 1800.92,1118.82 1811.14,1118.78 1821.35,1118.77 1831.57,1118.78 1841.79,1118.79 1852.01,1118.81 1862.23,1118.83 1872.45,1118.87 1882.67,1118.91 1892.89,1118.95 1903.11,1119 1913.33,1119.06 1923.55,1119.1 1933.77,1119.14 1943.99,1119.17 1954.2,1119.17 1964.42,1119.16 1974.64,1119.14 1984.86,1119.11 1995.08,1119.09 2005.3,1119.05 2015.52,1119.01 2025.74,1118.96 2035.96,1118.91 2046.18,1118.86 2056.4,1118.82 2066.62,1118.78 2076.84,1118.76 2087.06,1118.76 2097.27,1118.78 2107.49,1118.81 2117.71,1118.84 2127.93,1118.88 2138.15,1118.91 2148.37,1118.96 2158.59,1119 2168.81,1119.05 2179.03,1119.09 2189.25,1119.13 2199.47,1119.17 2209.69,1119.18 2219.91,1119.18 2230.12,1119.16 2240.34,1119.11 2250.56,1119.06 2260.78,1119.01 2271,1118.97 2281.22,1118.92 2291.44,1118.89 \"/>\n",
       "<path clip-path=\"url(#clip490)\" d=\"M2009.75 354.418 L2280.54 354.418 L2280.54 95.2176 L2009.75 95.2176  Z\" fill=\"#ffffff\" fill-rule=\"evenodd\" fill-opacity=\"1\"/>\n",
       "<polyline clip-path=\"url(#clip490)\" style=\"stroke:#000000; stroke-linecap:round; stroke-linejoin:round; stroke-width:4; stroke-opacity:1; fill:none\" points=\"2009.75,354.418 2280.54,354.418 2280.54,95.2176 2009.75,95.2176 2009.75,354.418 \"/>\n",
       "<polyline clip-path=\"url(#clip490)\" style=\"stroke:#009af9; stroke-linecap:round; stroke-linejoin:round; stroke-width:4; stroke-opacity:1; fill:none\" points=\"2033.82,147.058 2178.25,147.058 \"/>\n",
       "<path clip-path=\"url(#clip490)\" d=\"M2216.17 166.745 Q2214.36 171.375 2212.65 172.787 Q2210.94 174.199 2208.07 174.199 L2204.66 174.199 L2204.66 170.634 L2207.16 170.634 Q2208.92 170.634 2209.89 169.8 Q2210.87 168.967 2212.05 165.865 L2212.81 163.921 L2202.32 138.412 L2206.84 138.412 L2214.94 158.689 L2223.04 138.412 L2227.56 138.412 L2216.17 166.745 Z\" fill=\"#000000\" fill-rule=\"nonzero\" fill-opacity=\"1\" /><path clip-path=\"url(#clip490)\" d=\"M2234.85 160.402 L2242.49 160.402 L2242.49 134.037 L2234.18 135.703 L2234.18 131.444 L2242.44 129.778 L2247.12 129.778 L2247.12 160.402 L2254.75 160.402 L2254.75 164.338 L2234.85 164.338 L2234.85 160.402 Z\" fill=\"#000000\" fill-rule=\"nonzero\" fill-opacity=\"1\" /><polyline clip-path=\"url(#clip490)\" style=\"stroke:#e26f46; stroke-linecap:round; stroke-linejoin:round; stroke-width:4; stroke-opacity:1; fill:none\" points=\"2033.82,198.898 2178.25,198.898 \"/>\n",
       "<path clip-path=\"url(#clip490)\" d=\"M2216.17 218.585 Q2214.36 223.215 2212.65 224.627 Q2210.94 226.039 2208.07 226.039 L2204.66 226.039 L2204.66 222.474 L2207.16 222.474 Q2208.92 222.474 2209.89 221.64 Q2210.87 220.807 2212.05 217.705 L2212.81 215.761 L2202.32 190.252 L2206.84 190.252 L2214.94 210.529 L2223.04 190.252 L2227.56 190.252 L2216.17 218.585 Z\" fill=\"#000000\" fill-rule=\"nonzero\" fill-opacity=\"1\" /><path clip-path=\"url(#clip490)\" d=\"M2238.07 212.242 L2254.38 212.242 L2254.38 216.178 L2232.44 216.178 L2232.44 212.242 Q2235.1 209.488 2239.69 204.858 Q2244.29 200.205 2245.47 198.863 Q2247.72 196.34 2248.6 194.604 Q2249.5 192.844 2249.5 191.155 Q2249.5 188.4 2247.56 186.664 Q2245.63 184.928 2242.53 184.928 Q2240.33 184.928 2237.88 185.692 Q2235.45 186.455 2232.67 188.006 L2232.67 183.284 Q2235.5 182.15 2237.95 181.571 Q2240.4 180.993 2242.44 180.993 Q2247.81 180.993 2251 183.678 Q2254.2 186.363 2254.2 190.854 Q2254.2 192.983 2253.39 194.905 Q2252.6 196.803 2250.5 199.395 Q2249.92 200.067 2246.82 203.284 Q2243.71 206.479 2238.07 212.242 Z\" fill=\"#000000\" fill-rule=\"nonzero\" fill-opacity=\"1\" /><polyline clip-path=\"url(#clip490)\" style=\"stroke:#3da44d; stroke-linecap:round; stroke-linejoin:round; stroke-width:4; stroke-opacity:1; fill:none\" points=\"2033.82,250.738 2178.25,250.738 \"/>\n",
       "<path clip-path=\"url(#clip490)\" d=\"M2216.17 270.425 Q2214.36 275.055 2212.65 276.467 Q2210.94 277.879 2208.07 277.879 L2204.66 277.879 L2204.66 274.314 L2207.16 274.314 Q2208.92 274.314 2209.89 273.48 Q2210.87 272.647 2212.05 269.545 L2212.81 267.601 L2202.32 242.092 L2206.84 242.092 L2214.94 262.369 L2223.04 242.092 L2227.56 242.092 L2216.17 270.425 Z\" fill=\"#000000\" fill-rule=\"nonzero\" fill-opacity=\"1\" /><path clip-path=\"url(#clip490)\" d=\"M2248.2 249.383 Q2251.56 250.101 2253.44 252.369 Q2255.33 254.638 2255.33 257.971 Q2255.33 263.087 2251.82 265.888 Q2248.3 268.689 2241.82 268.689 Q2239.64 268.689 2237.32 268.249 Q2235.03 267.832 2232.58 266.976 L2232.58 262.462 Q2234.52 263.596 2236.84 264.175 Q2239.15 264.754 2241.68 264.754 Q2246.07 264.754 2248.37 263.018 Q2250.68 261.281 2250.68 257.971 Q2250.68 254.916 2248.53 253.203 Q2246.4 251.467 2242.58 251.467 L2238.55 251.467 L2238.55 247.624 L2242.76 247.624 Q2246.21 247.624 2248.04 246.258 Q2249.87 244.87 2249.87 242.277 Q2249.87 239.615 2247.97 238.203 Q2246.1 236.768 2242.58 236.768 Q2240.66 236.768 2238.46 237.184 Q2236.26 237.601 2233.62 238.481 L2233.62 234.314 Q2236.28 233.573 2238.6 233.203 Q2240.94 232.833 2243 232.833 Q2248.32 232.833 2251.42 235.263 Q2254.52 237.67 2254.52 241.791 Q2254.52 244.661 2252.88 246.652 Q2251.24 248.62 2248.2 249.383 Z\" fill=\"#000000\" fill-rule=\"nonzero\" fill-opacity=\"1\" /><polyline clip-path=\"url(#clip490)\" style=\"stroke:#c271d2; stroke-linecap:round; stroke-linejoin:round; stroke-width:4; stroke-opacity:1; fill:none\" points=\"2033.82,302.578 2178.25,302.578 \"/>\n",
       "<path clip-path=\"url(#clip490)\" d=\"M2216.17 322.265 Q2214.36 326.895 2212.65 328.307 Q2210.94 329.719 2208.07 329.719 L2204.66 329.719 L2204.66 326.154 L2207.16 326.154 Q2208.92 326.154 2209.89 325.32 Q2210.87 324.487 2212.05 321.385 L2212.81 319.441 L2202.32 293.932 L2206.84 293.932 L2214.94 314.209 L2223.04 293.932 L2227.56 293.932 L2216.17 322.265 Z\" fill=\"#000000\" fill-rule=\"nonzero\" fill-opacity=\"1\" /><path clip-path=\"url(#clip490)\" d=\"M2246.88 289.372 L2235.08 307.821 L2246.88 307.821 L2246.88 289.372 M2245.66 285.298 L2251.54 285.298 L2251.54 307.821 L2256.47 307.821 L2256.47 311.709 L2251.54 311.709 L2251.54 319.858 L2246.88 319.858 L2246.88 311.709 L2231.28 311.709 L2231.28 307.196 L2245.66 285.298 Z\" fill=\"#000000\" fill-rule=\"nonzero\" fill-opacity=\"1\" /></svg>\n"
      ],
      "text/html": [
       "<?xml version=\"1.0\" encoding=\"utf-8\"?>\n",
       "<svg xmlns=\"http://www.w3.org/2000/svg\" xmlns:xlink=\"http://www.w3.org/1999/xlink\" width=\"600\" height=\"400\" viewBox=\"0 0 2400 1600\">\n",
       "<defs>\n",
       "  <clipPath id=\"clip540\">\n",
       "    <rect x=\"0\" y=\"0\" width=\"2400\" height=\"1600\"/>\n",
       "  </clipPath>\n",
       "</defs>\n",
       "<path clip-path=\"url(#clip540)\" d=\"M0 1600 L2400 1600 L2400 0 L0 0  Z\" fill=\"#ffffff\" fill-rule=\"evenodd\" fill-opacity=\"1\"/>\n",
       "<defs>\n",
       "  <clipPath id=\"clip541\">\n",
       "    <rect x=\"480\" y=\"0\" width=\"1681\" height=\"1600\"/>\n",
       "  </clipPath>\n",
       "</defs>\n",
       "<path clip-path=\"url(#clip540)\" d=\"M186.274 1486.45 L2352.76 1486.45 L2352.76 47.2441 L186.274 47.2441  Z\" fill=\"#ffffff\" fill-rule=\"evenodd\" fill-opacity=\"1\"/>\n",
       "<defs>\n",
       "  <clipPath id=\"clip542\">\n",
       "    <rect x=\"186\" y=\"47\" width=\"2167\" height=\"1440\"/>\n",
       "  </clipPath>\n",
       "</defs>\n",
       "<polyline clip-path=\"url(#clip542)\" style=\"stroke:#000000; stroke-linecap:round; stroke-linejoin:round; stroke-width:2; stroke-opacity:0.1; fill:none\" points=\"237.37,1486.45 237.37,47.2441 \"/>\n",
       "<polyline clip-path=\"url(#clip542)\" style=\"stroke:#000000; stroke-linecap:round; stroke-linejoin:round; stroke-width:2; stroke-opacity:0.1; fill:none\" points=\"748.333,1486.45 748.333,47.2441 \"/>\n",
       "<polyline clip-path=\"url(#clip542)\" style=\"stroke:#000000; stroke-linecap:round; stroke-linejoin:round; stroke-width:2; stroke-opacity:0.1; fill:none\" points=\"1259.3,1486.45 1259.3,47.2441 \"/>\n",
       "<polyline clip-path=\"url(#clip542)\" style=\"stroke:#000000; stroke-linecap:round; stroke-linejoin:round; stroke-width:2; stroke-opacity:0.1; fill:none\" points=\"1770.26,1486.45 1770.26,47.2441 \"/>\n",
       "<polyline clip-path=\"url(#clip542)\" style=\"stroke:#000000; stroke-linecap:round; stroke-linejoin:round; stroke-width:2; stroke-opacity:0.1; fill:none\" points=\"2281.22,1486.45 2281.22,47.2441 \"/>\n",
       "<polyline clip-path=\"url(#clip540)\" style=\"stroke:#000000; stroke-linecap:round; stroke-linejoin:round; stroke-width:4; stroke-opacity:1; fill:none\" points=\"186.274,1486.45 2352.76,1486.45 \"/>\n",
       "<polyline clip-path=\"url(#clip540)\" style=\"stroke:#000000; stroke-linecap:round; stroke-linejoin:round; stroke-width:4; stroke-opacity:1; fill:none\" points=\"237.37,1486.45 237.37,1467.55 \"/>\n",
       "<polyline clip-path=\"url(#clip540)\" style=\"stroke:#000000; stroke-linecap:round; stroke-linejoin:round; stroke-width:4; stroke-opacity:1; fill:none\" points=\"748.333,1486.45 748.333,1467.55 \"/>\n",
       "<polyline clip-path=\"url(#clip540)\" style=\"stroke:#000000; stroke-linecap:round; stroke-linejoin:round; stroke-width:4; stroke-opacity:1; fill:none\" points=\"1259.3,1486.45 1259.3,1467.55 \"/>\n",
       "<polyline clip-path=\"url(#clip540)\" style=\"stroke:#000000; stroke-linecap:round; stroke-linejoin:round; stroke-width:4; stroke-opacity:1; fill:none\" points=\"1770.26,1486.45 1770.26,1467.55 \"/>\n",
       "<polyline clip-path=\"url(#clip540)\" style=\"stroke:#000000; stroke-linecap:round; stroke-linejoin:round; stroke-width:4; stroke-opacity:1; fill:none\" points=\"2281.22,1486.45 2281.22,1467.55 \"/>\n",
       "<path clip-path=\"url(#clip540)\" d=\"M237.37 1517.37 Q233.759 1517.37 231.93 1520.93 Q230.125 1524.47 230.125 1531.6 Q230.125 1538.71 231.93 1542.27 Q233.759 1545.82 237.37 1545.82 Q241.005 1545.82 242.81 1542.27 Q244.639 1538.71 244.639 1531.6 Q244.639 1524.47 242.81 1520.93 Q241.005 1517.37 237.37 1517.37 M237.37 1513.66 Q243.18 1513.66 246.236 1518.27 Q249.315 1522.85 249.315 1531.6 Q249.315 1540.33 246.236 1544.94 Q243.18 1549.52 237.37 1549.52 Q231.56 1549.52 228.481 1544.94 Q225.426 1540.33 225.426 1531.6 Q225.426 1522.85 228.481 1518.27 Q231.56 1513.66 237.37 1513.66 Z\" fill=\"#000000\" fill-rule=\"nonzero\" fill-opacity=\"1\" /><path clip-path=\"url(#clip540)\" d=\"M723.032 1514.29 L741.389 1514.29 L741.389 1518.22 L727.315 1518.22 L727.315 1526.7 Q728.333 1526.35 729.352 1526.19 Q730.37 1526 731.389 1526 Q737.176 1526 740.555 1529.17 Q743.935 1532.34 743.935 1537.76 Q743.935 1543.34 740.463 1546.44 Q736.99 1549.52 730.671 1549.52 Q728.495 1549.52 726.227 1549.15 Q723.981 1548.78 721.574 1548.04 L721.574 1543.34 Q723.657 1544.47 725.879 1545.03 Q728.102 1545.58 730.578 1545.58 Q734.583 1545.58 736.921 1543.48 Q739.259 1541.37 739.259 1537.76 Q739.259 1534.15 736.921 1532.04 Q734.583 1529.94 730.578 1529.94 Q728.703 1529.94 726.828 1530.35 Q724.977 1530.77 723.032 1531.65 L723.032 1514.29 Z\" fill=\"#000000\" fill-rule=\"nonzero\" fill-opacity=\"1\" /><path clip-path=\"url(#clip540)\" d=\"M763.148 1517.37 Q759.537 1517.37 757.708 1520.93 Q755.902 1524.47 755.902 1531.6 Q755.902 1538.71 757.708 1542.27 Q759.537 1545.82 763.148 1545.82 Q766.782 1545.82 768.588 1542.27 Q770.416 1538.71 770.416 1531.6 Q770.416 1524.47 768.588 1520.93 Q766.782 1517.37 763.148 1517.37 M763.148 1513.66 Q768.958 1513.66 772.013 1518.27 Q775.092 1522.85 775.092 1531.6 Q775.092 1540.33 772.013 1544.94 Q768.958 1549.52 763.148 1549.52 Q757.338 1549.52 754.259 1544.94 Q751.203 1540.33 751.203 1531.6 Q751.203 1522.85 754.259 1518.27 Q757.338 1513.66 763.148 1513.66 Z\" fill=\"#000000\" fill-rule=\"nonzero\" fill-opacity=\"1\" /><path clip-path=\"url(#clip540)\" d=\"M1218.9 1544.91 L1226.54 1544.91 L1226.54 1518.55 L1218.23 1520.21 L1218.23 1515.95 L1226.49 1514.29 L1231.17 1514.29 L1231.17 1544.91 L1238.81 1544.91 L1238.81 1548.85 L1218.9 1548.85 L1218.9 1544.91 Z\" fill=\"#000000\" fill-rule=\"nonzero\" fill-opacity=\"1\" /><path clip-path=\"url(#clip540)\" d=\"M1258.25 1517.37 Q1254.64 1517.37 1252.81 1520.93 Q1251.01 1524.47 1251.01 1531.6 Q1251.01 1538.71 1252.81 1542.27 Q1254.64 1545.82 1258.25 1545.82 Q1261.89 1545.82 1263.69 1542.27 Q1265.52 1538.71 1265.52 1531.6 Q1265.52 1524.47 1263.69 1520.93 Q1261.89 1517.37 1258.25 1517.37 M1258.25 1513.66 Q1264.06 1513.66 1267.12 1518.27 Q1270.2 1522.85 1270.2 1531.6 Q1270.2 1540.33 1267.12 1544.94 Q1264.06 1549.52 1258.25 1549.52 Q1252.44 1549.52 1249.37 1544.94 Q1246.31 1540.33 1246.31 1531.6 Q1246.31 1522.85 1249.37 1518.27 Q1252.44 1513.66 1258.25 1513.66 Z\" fill=\"#000000\" fill-rule=\"nonzero\" fill-opacity=\"1\" /><path clip-path=\"url(#clip540)\" d=\"M1288.42 1517.37 Q1284.8 1517.37 1282.98 1520.93 Q1281.17 1524.47 1281.17 1531.6 Q1281.17 1538.71 1282.98 1542.27 Q1284.8 1545.82 1288.42 1545.82 Q1292.05 1545.82 1293.86 1542.27 Q1295.68 1538.71 1295.68 1531.6 Q1295.68 1524.47 1293.86 1520.93 Q1292.05 1517.37 1288.42 1517.37 M1288.42 1513.66 Q1294.23 1513.66 1297.28 1518.27 Q1300.36 1522.85 1300.36 1531.6 Q1300.36 1540.33 1297.28 1544.94 Q1294.23 1549.52 1288.42 1549.52 Q1282.61 1549.52 1279.53 1544.94 Q1276.47 1540.33 1276.47 1531.6 Q1276.47 1522.85 1279.53 1518.27 Q1282.61 1513.66 1288.42 1513.66 Z\" fill=\"#000000\" fill-rule=\"nonzero\" fill-opacity=\"1\" /><path clip-path=\"url(#clip540)\" d=\"M1729.87 1544.91 L1737.5 1544.91 L1737.5 1518.55 L1729.19 1520.21 L1729.19 1515.95 L1737.46 1514.29 L1742.13 1514.29 L1742.13 1544.91 L1749.77 1544.91 L1749.77 1548.85 L1729.87 1548.85 L1729.87 1544.91 Z\" fill=\"#000000\" fill-rule=\"nonzero\" fill-opacity=\"1\" /><path clip-path=\"url(#clip540)\" d=\"M1759.26 1514.29 L1777.62 1514.29 L1777.62 1518.22 L1763.55 1518.22 L1763.55 1526.7 Q1764.56 1526.35 1765.58 1526.19 Q1766.6 1526 1767.62 1526 Q1773.41 1526 1776.79 1529.17 Q1780.17 1532.34 1780.17 1537.76 Q1780.17 1543.34 1776.69 1546.44 Q1773.22 1549.52 1766.9 1549.52 Q1764.73 1549.52 1762.46 1549.15 Q1760.21 1548.78 1757.8 1548.04 L1757.8 1543.34 Q1759.89 1544.47 1762.11 1545.03 Q1764.33 1545.58 1766.81 1545.58 Q1770.81 1545.58 1773.15 1543.48 Q1775.49 1541.37 1775.49 1537.76 Q1775.49 1534.15 1773.15 1532.04 Q1770.81 1529.94 1766.81 1529.94 Q1764.93 1529.94 1763.06 1530.35 Q1761.21 1530.77 1759.26 1531.65 L1759.26 1514.29 Z\" fill=\"#000000\" fill-rule=\"nonzero\" fill-opacity=\"1\" /><path clip-path=\"url(#clip540)\" d=\"M1799.38 1517.37 Q1795.77 1517.37 1793.94 1520.93 Q1792.13 1524.47 1792.13 1531.6 Q1792.13 1538.71 1793.94 1542.27 Q1795.77 1545.82 1799.38 1545.82 Q1803.01 1545.82 1804.82 1542.27 Q1806.65 1538.71 1806.65 1531.6 Q1806.65 1524.47 1804.82 1520.93 Q1803.01 1517.37 1799.38 1517.37 M1799.38 1513.66 Q1805.19 1513.66 1808.24 1518.27 Q1811.32 1522.85 1811.32 1531.6 Q1811.32 1540.33 1808.24 1544.94 Q1805.19 1549.52 1799.38 1549.52 Q1793.57 1549.52 1790.49 1544.94 Q1787.43 1540.33 1787.43 1531.6 Q1787.43 1522.85 1790.49 1518.27 Q1793.57 1513.66 1799.38 1513.66 Z\" fill=\"#000000\" fill-rule=\"nonzero\" fill-opacity=\"1\" /><path clip-path=\"url(#clip540)\" d=\"M2244.91 1544.91 L2261.23 1544.91 L2261.23 1548.85 L2239.29 1548.85 L2239.29 1544.91 Q2241.95 1542.16 2246.53 1537.53 Q2251.14 1532.88 2252.32 1531.53 Q2254.57 1529.01 2255.45 1527.27 Q2256.35 1525.51 2256.35 1523.82 Q2256.35 1521.07 2254.4 1519.33 Q2252.48 1517.6 2249.38 1517.6 Q2247.18 1517.6 2244.73 1518.36 Q2242.3 1519.13 2239.52 1520.68 L2239.52 1515.95 Q2242.34 1514.82 2244.8 1514.24 Q2247.25 1513.66 2249.29 1513.66 Q2254.66 1513.66 2257.85 1516.35 Q2261.05 1519.03 2261.05 1523.52 Q2261.05 1525.65 2260.24 1527.57 Q2259.45 1529.47 2257.34 1532.07 Q2256.77 1532.74 2253.66 1535.95 Q2250.56 1539.15 2244.91 1544.91 Z\" fill=\"#000000\" fill-rule=\"nonzero\" fill-opacity=\"1\" /><path clip-path=\"url(#clip540)\" d=\"M2281.05 1517.37 Q2277.44 1517.37 2275.61 1520.93 Q2273.8 1524.47 2273.8 1531.6 Q2273.8 1538.71 2275.61 1542.27 Q2277.44 1545.82 2281.05 1545.82 Q2284.68 1545.82 2286.49 1542.27 Q2288.32 1538.71 2288.32 1531.6 Q2288.32 1524.47 2286.49 1520.93 Q2284.68 1517.37 2281.05 1517.37 M2281.05 1513.66 Q2286.86 1513.66 2289.91 1518.27 Q2292.99 1522.85 2292.99 1531.6 Q2292.99 1540.33 2289.91 1544.94 Q2286.86 1549.52 2281.05 1549.52 Q2275.24 1549.52 2272.16 1544.94 Q2269.1 1540.33 2269.1 1531.6 Q2269.1 1522.85 2272.16 1518.27 Q2275.24 1513.66 2281.05 1513.66 Z\" fill=\"#000000\" fill-rule=\"nonzero\" fill-opacity=\"1\" /><path clip-path=\"url(#clip540)\" d=\"M2311.21 1517.37 Q2307.6 1517.37 2305.77 1520.93 Q2303.96 1524.47 2303.96 1531.6 Q2303.96 1538.71 2305.77 1542.27 Q2307.6 1545.82 2311.21 1545.82 Q2314.84 1545.82 2316.65 1542.27 Q2318.48 1538.71 2318.48 1531.6 Q2318.48 1524.47 2316.65 1520.93 Q2314.84 1517.37 2311.21 1517.37 M2311.21 1513.66 Q2317.02 1513.66 2320.08 1518.27 Q2323.15 1522.85 2323.15 1531.6 Q2323.15 1540.33 2320.08 1544.94 Q2317.02 1549.52 2311.21 1549.52 Q2305.4 1549.52 2302.32 1544.94 Q2299.27 1540.33 2299.27 1531.6 Q2299.27 1522.85 2302.32 1518.27 Q2305.4 1513.66 2311.21 1513.66 Z\" fill=\"#000000\" fill-rule=\"nonzero\" fill-opacity=\"1\" /><polyline clip-path=\"url(#clip542)\" style=\"stroke:#000000; stroke-linecap:round; stroke-linejoin:round; stroke-width:2; stroke-opacity:0.1; fill:none\" points=\"186.274,1445.72 2352.76,1445.72 \"/>\n",
       "<polyline clip-path=\"url(#clip542)\" style=\"stroke:#000000; stroke-linecap:round; stroke-linejoin:round; stroke-width:2; stroke-opacity:0.1; fill:none\" points=\"186.274,1106.28 2352.76,1106.28 \"/>\n",
       "<polyline clip-path=\"url(#clip542)\" style=\"stroke:#000000; stroke-linecap:round; stroke-linejoin:round; stroke-width:2; stroke-opacity:0.1; fill:none\" points=\"186.274,766.846 2352.76,766.846 \"/>\n",
       "<polyline clip-path=\"url(#clip542)\" style=\"stroke:#000000; stroke-linecap:round; stroke-linejoin:round; stroke-width:2; stroke-opacity:0.1; fill:none\" points=\"186.274,427.411 2352.76,427.411 \"/>\n",
       "<polyline clip-path=\"url(#clip542)\" style=\"stroke:#000000; stroke-linecap:round; stroke-linejoin:round; stroke-width:2; stroke-opacity:0.1; fill:none\" points=\"186.274,87.9763 2352.76,87.9763 \"/>\n",
       "<polyline clip-path=\"url(#clip540)\" style=\"stroke:#000000; stroke-linecap:round; stroke-linejoin:round; stroke-width:4; stroke-opacity:1; fill:none\" points=\"186.274,1486.45 186.274,47.2441 \"/>\n",
       "<polyline clip-path=\"url(#clip540)\" style=\"stroke:#000000; stroke-linecap:round; stroke-linejoin:round; stroke-width:4; stroke-opacity:1; fill:none\" points=\"186.274,1445.72 205.172,1445.72 \"/>\n",
       "<polyline clip-path=\"url(#clip540)\" style=\"stroke:#000000; stroke-linecap:round; stroke-linejoin:round; stroke-width:4; stroke-opacity:1; fill:none\" points=\"186.274,1106.28 205.172,1106.28 \"/>\n",
       "<polyline clip-path=\"url(#clip540)\" style=\"stroke:#000000; stroke-linecap:round; stroke-linejoin:round; stroke-width:4; stroke-opacity:1; fill:none\" points=\"186.274,766.846 205.172,766.846 \"/>\n",
       "<polyline clip-path=\"url(#clip540)\" style=\"stroke:#000000; stroke-linecap:round; stroke-linejoin:round; stroke-width:4; stroke-opacity:1; fill:none\" points=\"186.274,427.411 205.172,427.411 \"/>\n",
       "<polyline clip-path=\"url(#clip540)\" style=\"stroke:#000000; stroke-linecap:round; stroke-linejoin:round; stroke-width:4; stroke-opacity:1; fill:none\" points=\"186.274,87.9763 205.172,87.9763 \"/>\n",
       "<path clip-path=\"url(#clip540)\" d=\"M62.9365 1431.51 Q59.3254 1431.51 57.4967 1435.08 Q55.6912 1438.62 55.6912 1445.75 Q55.6912 1452.86 57.4967 1456.42 Q59.3254 1459.96 62.9365 1459.96 Q66.5707 1459.96 68.3763 1456.42 Q70.205 1452.86 70.205 1445.75 Q70.205 1438.62 68.3763 1435.08 Q66.5707 1431.51 62.9365 1431.51 M62.9365 1427.81 Q68.7467 1427.81 71.8022 1432.42 Q74.8809 1437 74.8809 1445.75 Q74.8809 1454.48 71.8022 1459.08 Q68.7467 1463.67 62.9365 1463.67 Q57.1264 1463.67 54.0477 1459.08 Q50.9921 1454.48 50.9921 1445.75 Q50.9921 1437 54.0477 1432.42 Q57.1264 1427.81 62.9365 1427.81 Z\" fill=\"#000000\" fill-rule=\"nonzero\" fill-opacity=\"1\" /><path clip-path=\"url(#clip540)\" d=\"M83.0984 1457.12 L87.9827 1457.12 L87.9827 1463 L83.0984 1463 L83.0984 1457.12 Z\" fill=\"#000000\" fill-rule=\"nonzero\" fill-opacity=\"1\" /><path clip-path=\"url(#clip540)\" d=\"M108.168 1431.51 Q104.557 1431.51 102.728 1435.08 Q100.922 1438.62 100.922 1445.75 Q100.922 1452.86 102.728 1456.42 Q104.557 1459.96 108.168 1459.96 Q111.802 1459.96 113.608 1456.42 Q115.436 1452.86 115.436 1445.75 Q115.436 1438.62 113.608 1435.08 Q111.802 1431.51 108.168 1431.51 M108.168 1427.81 Q113.978 1427.81 117.033 1432.42 Q120.112 1437 120.112 1445.75 Q120.112 1454.48 117.033 1459.08 Q113.978 1463.67 108.168 1463.67 Q102.358 1463.67 99.2789 1459.08 Q96.2234 1454.48 96.2234 1445.75 Q96.2234 1437 99.2789 1432.42 Q102.358 1427.81 108.168 1427.81 Z\" fill=\"#000000\" fill-rule=\"nonzero\" fill-opacity=\"1\" /><path clip-path=\"url(#clip540)\" d=\"M138.33 1431.51 Q134.719 1431.51 132.89 1435.08 Q131.084 1438.62 131.084 1445.75 Q131.084 1452.86 132.89 1456.42 Q134.719 1459.96 138.33 1459.96 Q141.964 1459.96 143.769 1456.42 Q145.598 1452.86 145.598 1445.75 Q145.598 1438.62 143.769 1435.08 Q141.964 1431.51 138.33 1431.51 M138.33 1427.81 Q144.14 1427.81 147.195 1432.42 Q150.274 1437 150.274 1445.75 Q150.274 1454.48 147.195 1459.08 Q144.14 1463.67 138.33 1463.67 Q132.519 1463.67 129.441 1459.08 Q126.385 1454.48 126.385 1445.75 Q126.385 1437 129.441 1432.42 Q132.519 1427.81 138.33 1427.81 Z\" fill=\"#000000\" fill-rule=\"nonzero\" fill-opacity=\"1\" /><path clip-path=\"url(#clip540)\" d=\"M63.9319 1092.08 Q60.3208 1092.08 58.4921 1095.64 Q56.6865 1099.19 56.6865 1106.32 Q56.6865 1113.42 58.4921 1116.99 Q60.3208 1120.53 63.9319 1120.53 Q67.5661 1120.53 69.3717 1116.99 Q71.2004 1113.42 71.2004 1106.32 Q71.2004 1099.19 69.3717 1095.64 Q67.5661 1092.08 63.9319 1092.08 M63.9319 1088.38 Q69.742 1088.38 72.7976 1092.98 Q75.8763 1097.57 75.8763 1106.32 Q75.8763 1115.04 72.7976 1119.65 Q69.742 1124.23 63.9319 1124.23 Q58.1217 1124.23 55.043 1119.65 Q51.9875 1115.04 51.9875 1106.32 Q51.9875 1097.57 55.043 1092.98 Q58.1217 1088.38 63.9319 1088.38 Z\" fill=\"#000000\" fill-rule=\"nonzero\" fill-opacity=\"1\" /><path clip-path=\"url(#clip540)\" d=\"M84.0938 1117.68 L88.978 1117.68 L88.978 1123.56 L84.0938 1123.56 L84.0938 1117.68 Z\" fill=\"#000000\" fill-rule=\"nonzero\" fill-opacity=\"1\" /><path clip-path=\"url(#clip540)\" d=\"M103.191 1119.63 L119.51 1119.63 L119.51 1123.56 L97.566 1123.56 L97.566 1119.63 Q100.228 1116.87 104.811 1112.24 Q109.418 1107.59 110.598 1106.25 Q112.844 1103.72 113.723 1101.99 Q114.626 1100.23 114.626 1098.54 Q114.626 1095.78 112.682 1094.05 Q110.76 1092.31 107.658 1092.31 Q105.459 1092.31 103.006 1093.07 Q100.575 1093.84 97.7974 1095.39 L97.7974 1090.67 Q100.621 1089.53 103.075 1088.95 Q105.529 1088.38 107.566 1088.38 Q112.936 1088.38 116.131 1091.06 Q119.325 1093.75 119.325 1098.24 Q119.325 1100.37 118.515 1102.29 Q117.728 1104.19 115.621 1106.78 Q115.043 1107.45 111.941 1110.67 Q108.839 1113.86 103.191 1119.63 Z\" fill=\"#000000\" fill-rule=\"nonzero\" fill-opacity=\"1\" /><path clip-path=\"url(#clip540)\" d=\"M129.371 1089 L147.728 1089 L147.728 1092.94 L133.654 1092.94 L133.654 1101.41 Q134.672 1101.06 135.691 1100.9 Q136.709 1100.71 137.728 1100.71 Q143.515 1100.71 146.894 1103.89 Q150.274 1107.06 150.274 1112.47 Q150.274 1118.05 146.802 1121.15 Q143.33 1124.23 137.01 1124.23 Q134.834 1124.23 132.566 1123.86 Q130.32 1123.49 127.913 1122.75 L127.913 1118.05 Q129.996 1119.19 132.219 1119.74 Q134.441 1120.3 136.918 1120.3 Q140.922 1120.3 143.26 1118.19 Q145.598 1116.08 145.598 1112.47 Q145.598 1108.86 143.26 1106.76 Q140.922 1104.65 136.918 1104.65 Q135.043 1104.65 133.168 1105.07 Q131.316 1105.48 129.371 1106.36 L129.371 1089 Z\" fill=\"#000000\" fill-rule=\"nonzero\" fill-opacity=\"1\" /><path clip-path=\"url(#clip540)\" d=\"M62.9365 752.645 Q59.3254 752.645 57.4967 756.209 Q55.6912 759.751 55.6912 766.881 Q55.6912 773.987 57.4967 777.552 Q59.3254 781.094 62.9365 781.094 Q66.5707 781.094 68.3763 777.552 Q70.205 773.987 70.205 766.881 Q70.205 759.751 68.3763 756.209 Q66.5707 752.645 62.9365 752.645 M62.9365 748.941 Q68.7467 748.941 71.8022 753.547 Q74.8809 758.131 74.8809 766.881 Q74.8809 775.608 71.8022 780.214 Q68.7467 784.797 62.9365 784.797 Q57.1264 784.797 54.0477 780.214 Q50.9921 775.608 50.9921 766.881 Q50.9921 758.131 54.0477 753.547 Q57.1264 748.941 62.9365 748.941 Z\" fill=\"#000000\" fill-rule=\"nonzero\" fill-opacity=\"1\" /><path clip-path=\"url(#clip540)\" d=\"M83.0984 778.246 L87.9827 778.246 L87.9827 784.126 L83.0984 784.126 L83.0984 778.246 Z\" fill=\"#000000\" fill-rule=\"nonzero\" fill-opacity=\"1\" /><path clip-path=\"url(#clip540)\" d=\"M98.2141 749.566 L116.57 749.566 L116.57 753.501 L102.496 753.501 L102.496 761.973 Q103.515 761.626 104.534 761.464 Q105.552 761.279 106.571 761.279 Q112.358 761.279 115.737 764.45 Q119.117 767.621 119.117 773.038 Q119.117 778.617 115.645 781.719 Q112.172 784.797 105.853 784.797 Q103.677 784.797 101.409 784.427 Q99.1632 784.057 96.7558 783.316 L96.7558 778.617 Q98.8391 779.751 101.061 780.307 Q103.284 780.862 105.76 780.862 Q109.765 780.862 112.103 778.756 Q114.441 776.649 114.441 773.038 Q114.441 769.427 112.103 767.321 Q109.765 765.214 105.76 765.214 Q103.885 765.214 102.01 765.631 Q100.159 766.047 98.2141 766.927 L98.2141 749.566 Z\" fill=\"#000000\" fill-rule=\"nonzero\" fill-opacity=\"1\" /><path clip-path=\"url(#clip540)\" d=\"M138.33 752.645 Q134.719 752.645 132.89 756.209 Q131.084 759.751 131.084 766.881 Q131.084 773.987 132.89 777.552 Q134.719 781.094 138.33 781.094 Q141.964 781.094 143.769 777.552 Q145.598 773.987 145.598 766.881 Q145.598 759.751 143.769 756.209 Q141.964 752.645 138.33 752.645 M138.33 748.941 Q144.14 748.941 147.195 753.547 Q150.274 758.131 150.274 766.881 Q150.274 775.608 147.195 780.214 Q144.14 784.797 138.33 784.797 Q132.519 784.797 129.441 780.214 Q126.385 775.608 126.385 766.881 Q126.385 758.131 129.441 753.547 Q132.519 748.941 138.33 748.941 Z\" fill=\"#000000\" fill-rule=\"nonzero\" fill-opacity=\"1\" /><path clip-path=\"url(#clip540)\" d=\"M63.9319 413.21 Q60.3208 413.21 58.4921 416.775 Q56.6865 420.316 56.6865 427.446 Q56.6865 434.552 58.4921 438.117 Q60.3208 441.659 63.9319 441.659 Q67.5661 441.659 69.3717 438.117 Q71.2004 434.552 71.2004 427.446 Q71.2004 420.316 69.3717 416.775 Q67.5661 413.21 63.9319 413.21 M63.9319 409.506 Q69.742 409.506 72.7976 414.113 Q75.8763 418.696 75.8763 427.446 Q75.8763 436.173 72.7976 440.779 Q69.742 445.362 63.9319 445.362 Q58.1217 445.362 55.043 440.779 Q51.9875 436.173 51.9875 427.446 Q51.9875 418.696 55.043 414.113 Q58.1217 409.506 63.9319 409.506 Z\" fill=\"#000000\" fill-rule=\"nonzero\" fill-opacity=\"1\" /><path clip-path=\"url(#clip540)\" d=\"M84.0938 438.812 L88.978 438.812 L88.978 444.691 L84.0938 444.691 L84.0938 438.812 Z\" fill=\"#000000\" fill-rule=\"nonzero\" fill-opacity=\"1\" /><path clip-path=\"url(#clip540)\" d=\"M97.9826 410.131 L120.205 410.131 L120.205 412.122 L107.658 444.691 L102.774 444.691 L114.58 414.066 L97.9826 414.066 L97.9826 410.131 Z\" fill=\"#000000\" fill-rule=\"nonzero\" fill-opacity=\"1\" /><path clip-path=\"url(#clip540)\" d=\"M129.371 410.131 L147.728 410.131 L147.728 414.066 L133.654 414.066 L133.654 422.538 Q134.672 422.191 135.691 422.029 Q136.709 421.844 137.728 421.844 Q143.515 421.844 146.894 425.015 Q150.274 428.187 150.274 433.603 Q150.274 439.182 146.802 442.284 Q143.33 445.362 137.01 445.362 Q134.834 445.362 132.566 444.992 Q130.32 444.622 127.913 443.881 L127.913 439.182 Q129.996 440.316 132.219 440.872 Q134.441 441.427 136.918 441.427 Q140.922 441.427 143.26 439.321 Q145.598 437.214 145.598 433.603 Q145.598 429.992 143.26 427.886 Q140.922 425.779 136.918 425.779 Q135.043 425.779 133.168 426.196 Q131.316 426.613 129.371 427.492 L129.371 410.131 Z\" fill=\"#000000\" fill-rule=\"nonzero\" fill-opacity=\"1\" /><path clip-path=\"url(#clip540)\" d=\"M53.7467 101.321 L61.3856 101.321 L61.3856 74.9555 L53.0754 76.6222 L53.0754 72.3629 L61.3393 70.6963 L66.0152 70.6963 L66.0152 101.321 L73.654 101.321 L73.654 105.256 L53.7467 105.256 L53.7467 101.321 Z\" fill=\"#000000\" fill-rule=\"nonzero\" fill-opacity=\"1\" /><path clip-path=\"url(#clip540)\" d=\"M83.0984 99.3767 L87.9827 99.3767 L87.9827 105.256 L83.0984 105.256 L83.0984 99.3767 Z\" fill=\"#000000\" fill-rule=\"nonzero\" fill-opacity=\"1\" /><path clip-path=\"url(#clip540)\" d=\"M108.168 73.775 Q104.557 73.775 102.728 77.3398 Q100.922 80.8814 100.922 88.011 Q100.922 95.1174 102.728 98.6822 Q104.557 102.224 108.168 102.224 Q111.802 102.224 113.608 98.6822 Q115.436 95.1174 115.436 88.011 Q115.436 80.8814 113.608 77.3398 Q111.802 73.775 108.168 73.775 M108.168 70.0713 Q113.978 70.0713 117.033 74.6777 Q120.112 79.261 120.112 88.011 Q120.112 96.7378 117.033 101.344 Q113.978 105.928 108.168 105.928 Q102.358 105.928 99.2789 101.344 Q96.2234 96.7378 96.2234 88.011 Q96.2234 79.261 99.2789 74.6777 Q102.358 70.0713 108.168 70.0713 Z\" fill=\"#000000\" fill-rule=\"nonzero\" fill-opacity=\"1\" /><path clip-path=\"url(#clip540)\" d=\"M138.33 73.775 Q134.719 73.775 132.89 77.3398 Q131.084 80.8814 131.084 88.011 Q131.084 95.1174 132.89 98.6822 Q134.719 102.224 138.33 102.224 Q141.964 102.224 143.769 98.6822 Q145.598 95.1174 145.598 88.011 Q145.598 80.8814 143.769 77.3398 Q141.964 73.775 138.33 73.775 M138.33 70.0713 Q144.14 70.0713 147.195 74.6777 Q150.274 79.261 150.274 88.011 Q150.274 96.7378 147.195 101.344 Q144.14 105.928 138.33 105.928 Q132.519 105.928 129.441 101.344 Q126.385 96.7378 126.385 88.011 Q126.385 79.261 129.441 74.6777 Q132.519 70.0713 138.33 70.0713 Z\" fill=\"#000000\" fill-rule=\"nonzero\" fill-opacity=\"1\" /><polyline clip-path=\"url(#clip542)\" style=\"stroke:#009af9; stroke-linecap:round; stroke-linejoin:round; stroke-width:4; stroke-opacity:1; fill:none\" points=\"247.59,1445.72 257.809,1363.38 268.028,1288.03 278.247,1220.95 288.467,1163 298.686,1114.61 308.905,1075.81 319.124,1046.21 329.344,1025.11 339.563,1011.51 349.782,1004.21 360.001,1001.88 370.221,1003.14 380.44,1006.58 390.659,1010.87 400.878,1014.85 411.098,1017.57 421.317,1018.22 431.536,1016.16 441.755,1011.01 451.975,1002.7 462.194,991.433 472.413,977.416 482.632,961.038 492.852,942.804 503.071,923.334 513.29,903.342 523.509,883.414 533.729,864.177 543.948,846.188 554.167,829.884 564.386,815.582 574.606,803.45 584.825,793.664 595.044,786.31 605.263,781.327 615.483,778.503 625.702,777.48 635.921,777.868 646.14,779.411 656.36,781.737 666.579,784.489 676.798,787.332 687.017,789.955 697.237,792.139 707.456,793.679 717.675,794.379 727.894,794.134 738.114,792.929 748.333,790.838 758.552,788.015 768.771,784.55 778.991,780.566 789.21,776.216 799.429,771.662 809.649,767.082 819.868,762.663 830.087,758.591 840.306,754.923 850.526,751.763 860.745,749.195 870.964,747.256 881.183,745.939 891.403,745.186 901.622,744.909 911.841,745.055 922.06,745.561 932.28,746.351 942.499,747.341 952.718,748.435 962.937,749.531 973.157,750.514 983.376,751.286 993.595,751.864 1003.81,752.21 1014.03,752.287 1024.25,752.088 1034.47,751.628 1044.69,750.946 1054.91,750.107 1065.13,749.159 1075.35,748.124 1085.57,747.047 1095.79,745.969 1106.01,744.93 1116.23,743.969 1126.45,743.121 1136.66,742.42 1146.88,741.897 1157.1,741.541 1167.32,741.321 1177.54,741.243 1187.76,741.303 1197.98,741.487 1208.2,741.771 1218.42,742.121 1228.64,742.495 1238.86,742.839 1249.08,743.156 1259.3,743.445 1269.51,743.678 1279.73,743.838 1289.95,743.914 1300.17,743.902 1310.39,743.808 1320.61,743.642 1330.83,743.425 1341.05,743.182 1351.27,742.922 1361.49,742.65 1371.71,742.373 1381.93,742.097 1392.15,741.831 1402.37,741.582 1412.58,741.362 1422.8,741.18 1433.02,741.048 1443.24,740.978 1453.46,740.984 1463.68,741.078 1473.9,741.225 1484.12,741.39 1494.34,741.564 1504.56,741.739 1514.78,741.905 1525,742.057 1535.22,742.184 1545.43,742.28 1555.65,742.337 1565.87,742.347 1576.09,742.306 1586.31,742.24 1596.53,742.16 1606.75,742.063 1616.97,741.948 1627.19,741.817 1637.41,741.674 1647.63,741.525 1657.85,741.379 1668.07,741.245 1678.29,741.138 1688.5,741.07 1698.72,741.061 1708.94,741.091 1719.16,741.132 1729.38,741.188 1739.6,741.26 1749.82,741.349 1760.04,741.45 1770.26,741.561 1780.48,741.674 1790.7,741.781 1800.92,741.872 1811.14,741.934 1821.35,741.952 1831.57,741.929 1841.79,741.899 1852.01,741.86 1862.23,741.806 1872.45,741.738 1882.67,741.654 1892.89,741.557 1903.11,741.452 1913.33,741.345 1923.55,741.245 1933.77,741.162 1943.99,741.109 1954.2,741.1 1964.42,741.132 1974.64,741.168 1984.86,741.212 1995.08,741.267 2005.3,741.335 2015.52,741.415 2025.74,741.506 2035.96,741.603 2046.18,741.7 2056.4,741.79 2066.62,741.864 2076.84,741.909 2087.06,741.912 2097.27,741.865 2107.49,741.806 2117.71,741.741 2127.93,741.67 2138.15,741.59 2148.37,741.503 2158.59,741.411 2168.81,741.318 2179.03,741.228 2189.25,741.148 2199.47,741.085 2209.69,741.049 2219.91,741.051 2230.12,741.101 2240.34,741.19 2250.56,741.287 2260.78,741.385 2271,741.479 2281.22,741.565 2291.44,741.639 \"/>\n",
       "<polyline clip-path=\"url(#clip542)\" style=\"stroke:#e26f46; stroke-linecap:round; stroke-linejoin:round; stroke-width:4; stroke-opacity:1; fill:none\" points=\"247.59,1445.72 257.809,1445.54 268.028,1444.39 278.247,1441.47 288.467,1436.21 298.686,1428.25 308.905,1417.45 319.124,1403.89 329.344,1387.81 339.563,1369.61 349.782,1349.77 360.001,1328.88 370.221,1307.53 380.44,1286.36 390.659,1265.95 400.878,1246.81 411.098,1229.34 421.317,1213.88 431.536,1200.71 441.755,1189.94 451.975,1181.56 462.194,1175.43 472.413,1171.39 482.632,1169.2 492.852,1168.58 503.071,1169.16 513.29,1170.56 523.509,1172.46 533.729,1174.49 543.948,1176.37 554.167,1177.84 564.386,1178.71 574.606,1178.88 584.825,1178.24 595.044,1176.72 605.263,1174.33 615.483,1171.16 625.702,1167.36 635.921,1163.12 646.14,1158.55 656.36,1153.83 666.579,1149.1 676.798,1144.53 687.017,1140.27 697.237,1136.4 707.456,1133.03 717.675,1130.23 727.894,1128.06 738.114,1126.5 748.333,1125.52 758.552,1125.03 768.771,1124.98 778.991,1125.29 789.21,1125.89 799.429,1126.69 809.649,1127.59 819.868,1128.5 830.087,1129.31 840.306,1129.99 850.526,1130.49 860.745,1130.76 870.964,1130.77 881.183,1130.54 891.403,1130.07 901.622,1129.42 911.841,1128.61 922.06,1127.66 932.28,1126.61 942.499,1125.5 952.718,1124.38 962.937,1123.29 973.157,1122.29 983.376,1121.42 993.595,1120.69 1003.81,1120.09 1014.03,1119.66 1024.25,1119.39 1034.47,1119.27 1044.69,1119.28 1054.91,1119.39 1065.13,1119.58 1075.35,1119.82 1085.57,1120.11 1095.79,1120.41 1106.01,1120.7 1116.23,1120.97 1126.45,1121.2 1136.66,1121.36 1146.88,1121.45 1157.1,1121.46 1167.32,1121.42 1177.54,1121.31 1187.76,1121.15 1197.98,1120.93 1208.2,1120.67 1218.42,1120.38 1228.64,1120.09 1238.86,1119.82 1249.08,1119.56 1259.3,1119.33 1269.51,1119.13 1279.73,1118.98 1289.95,1118.86 1300.17,1118.8 1310.39,1118.79 1320.61,1118.81 1330.83,1118.86 1341.05,1118.93 1351.27,1119.01 1361.49,1119.1 1371.71,1119.19 1381.93,1119.29 1392.15,1119.38 1402.37,1119.47 1412.58,1119.55 1422.8,1119.61 1433.02,1119.64 1443.24,1119.65 1453.46,1119.62 1463.68,1119.55 1473.9,1119.45 1484.12,1119.35 1494.34,1119.24 1504.56,1119.13 1514.78,1119.03 1525,1118.94 1535.22,1118.86 1545.43,1118.8 1555.65,1118.75 1565.87,1118.74 1576.09,1118.74 1586.31,1118.76 1596.53,1118.79 1606.75,1118.83 1616.97,1118.88 1627.19,1118.94 1637.41,1119 1647.63,1119.07 1657.85,1119.13 1668.07,1119.19 1678.29,1119.24 1688.5,1119.27 1698.72,1119.26 1708.94,1119.24 1719.16,1119.22 1729.38,1119.18 1739.6,1119.14 1749.82,1119.1 1760.04,1119.04 1770.26,1118.98 1780.48,1118.92 1790.7,1118.86 1800.92,1118.82 1811.14,1118.78 1821.35,1118.77 1831.57,1118.78 1841.79,1118.79 1852.01,1118.81 1862.23,1118.83 1872.45,1118.87 1882.67,1118.91 1892.89,1118.95 1903.11,1119 1913.33,1119.06 1923.55,1119.1 1933.77,1119.14 1943.99,1119.17 1954.2,1119.17 1964.42,1119.16 1974.64,1119.14 1984.86,1119.11 1995.08,1119.09 2005.3,1119.05 2015.52,1119.01 2025.74,1118.96 2035.96,1118.91 2046.18,1118.86 2056.4,1118.82 2066.62,1118.78 2076.84,1118.76 2087.06,1118.76 2097.27,1118.78 2107.49,1118.81 2117.71,1118.84 2127.93,1118.88 2138.15,1118.91 2148.37,1118.96 2158.59,1119 2168.81,1119.05 2179.03,1119.09 2189.25,1119.13 2199.47,1119.17 2209.69,1119.18 2219.91,1119.18 2230.12,1119.16 2240.34,1119.11 2250.56,1119.06 2260.78,1119.01 2271,1118.97 2281.22,1118.92 2291.44,1118.89 \"/>\n",
       "<polyline clip-path=\"url(#clip542)\" style=\"stroke:#3da44d; stroke-linecap:round; stroke-linejoin:round; stroke-width:4; stroke-opacity:1; fill:none\" points=\"247.59,87.9763 257.809,170.661 268.028,248.31 278.247,321.23 288.467,389.71 298.686,454.019 308.905,514.412 319.124,571.127 329.344,624.389 339.563,674.406 349.782,721.378 360.001,765.489 370.221,806.914 380.44,845.816 390.659,882.349 400.878,916.657 411.098,948.876 421.317,979.134 431.536,1007.55 441.755,1034.23 451.975,1059.29 462.194,1082.82 472.413,1104.92 482.632,1125.68 492.852,1145.17 503.071,1163.47 513.29,1180.66 523.509,1196.8 533.729,1211.96 543.948,1226.19 554.167,1239.56 564.386,1252.12 574.606,1263.91 584.825,1274.98 595.044,1285.38 605.263,1295.14 615.483,1304.31 625.702,1312.92 635.921,1321.01 646.14,1328.6 656.36,1335.74 666.579,1342.43 676.798,1348.72 687.017,1354.63 697.237,1360.18 707.456,1365.39 717.675,1370.28 727.894,1374.87 738.114,1379.19 748.333,1383.24 758.552,1387.04 768.771,1390.62 778.991,1393.97 789.21,1397.12 799.429,1400.08 809.649,1402.86 819.868,1405.47 830.087,1407.92 840.306,1410.22 850.526,1412.38 860.745,1414.41 870.964,1416.32 881.183,1418.11 891.403,1419.79 901.622,1421.37 911.841,1422.85 922.06,1424.25 932.28,1425.55 942.499,1426.78 952.718,1427.93 962.937,1429.02 973.157,1430.03 983.376,1430.99 993.595,1431.89 1003.81,1432.73 1014.03,1433.52 1024.25,1434.26 1034.47,1434.96 1044.69,1435.61 1054.91,1436.23 1065.13,1436.81 1075.35,1437.35 1085.57,1437.86 1095.79,1438.34 1106.01,1438.79 1116.23,1439.21 1126.45,1439.6 1136.66,1439.98 1146.88,1440.33 1157.1,1440.65 1167.32,1440.96 1177.54,1441.25 1187.76,1441.52 1197.98,1441.78 1208.2,1442.02 1218.42,1442.24 1228.64,1442.46 1238.86,1442.65 1249.08,1442.84 1259.3,1443.02 1269.51,1443.18 1279.73,1443.33 1289.95,1443.48 1300.17,1443.62 1310.39,1443.74 1320.61,1443.86 1330.83,1443.98 1341.05,1444.08 1351.27,1444.18 1361.49,1444.28 1371.71,1444.36 1381.93,1444.45 1392.15,1444.52 1402.37,1444.6 1412.58,1444.66 1422.8,1444.73 1433.02,1444.79 1443.24,1444.84 1453.46,1444.9 1463.68,1444.95 1473.9,1444.99 1484.12,1445.04 1494.34,1445.08 1504.56,1445.12 1514.78,1445.15 1525,1445.19 1535.22,1445.22 1545.43,1445.25 1555.65,1445.28 1565.87,1445.31 1576.09,1445.33 1586.31,1445.35 1596.53,1445.38 1606.75,1445.4 1616.97,1445.42 1627.19,1445.43 1637.41,1445.45 1647.63,1445.47 1657.85,1445.48 1668.07,1445.5 1678.29,1445.51 1688.5,1445.52 1698.72,1445.53 1708.94,1445.55 1719.16,1445.56 1729.38,1445.57 1739.6,1445.57 1749.82,1445.58 1760.04,1445.59 1770.26,1445.6 1780.48,1445.61 1790.7,1445.61 1800.92,1445.62 1811.14,1445.62 1821.35,1445.63 1831.57,1445.64 1841.79,1445.64 1852.01,1445.65 1862.23,1445.65 1872.45,1445.65 1882.67,1445.66 1892.89,1445.66 1903.11,1445.66 1913.33,1445.67 1923.55,1445.67 1933.77,1445.67 1943.99,1445.68 1954.2,1445.68 1964.42,1445.68 1974.64,1445.68 1984.86,1445.68 1995.08,1445.69 2005.3,1445.69 2015.52,1445.69 2025.74,1445.69 2035.96,1445.69 2046.18,1445.69 2056.4,1445.7 2066.62,1445.7 2076.84,1445.7 2087.06,1445.7 2097.27,1445.7 2107.49,1445.7 2117.71,1445.7 2127.93,1445.7 2138.15,1445.7 2148.37,1445.7 2158.59,1445.7 2168.81,1445.71 2179.03,1445.71 2189.25,1445.71 2199.47,1445.71 2209.69,1445.71 2219.91,1445.71 2230.12,1445.71 2240.34,1445.71 2250.56,1445.71 2260.78,1445.71 2271,1445.71 2281.22,1445.71 2291.44,1445.71 \"/>\n",
       "<polyline clip-path=\"url(#clip542)\" style=\"stroke:#c271d2; stroke-linecap:round; stroke-linejoin:round; stroke-width:4; stroke-opacity:1; fill:none\" points=\"247.59,1445.72 257.809,1445.54 268.028,1444.39 278.247,1441.47 288.467,1436.21 298.686,1428.25 308.905,1417.45 319.124,1403.89 329.344,1387.81 339.563,1369.61 349.782,1349.77 360.001,1328.88 370.221,1307.53 380.44,1286.36 390.659,1265.95 400.878,1246.81 411.098,1229.34 421.317,1213.88 431.536,1200.71 441.755,1189.94 451.975,1181.56 462.194,1175.43 472.413,1171.39 482.632,1169.2 492.852,1168.58 503.071,1169.16 513.29,1170.56 523.509,1172.46 533.729,1174.49 543.948,1176.37 554.167,1177.84 564.386,1178.71 574.606,1178.88 584.825,1178.24 595.044,1176.72 605.263,1174.33 615.483,1171.16 625.702,1167.36 635.921,1163.12 646.14,1158.55 656.36,1153.83 666.579,1149.1 676.798,1144.53 687.017,1140.27 697.237,1136.4 707.456,1133.03 717.675,1130.23 727.894,1128.06 738.114,1126.5 748.333,1125.52 758.552,1125.03 768.771,1124.98 778.991,1125.29 789.21,1125.89 799.429,1126.69 809.649,1127.59 819.868,1128.5 830.087,1129.31 840.306,1129.99 850.526,1130.49 860.745,1130.76 870.964,1130.77 881.183,1130.54 891.403,1130.07 901.622,1129.42 911.841,1128.61 922.06,1127.66 932.28,1126.61 942.499,1125.5 952.718,1124.38 962.937,1123.29 973.157,1122.29 983.376,1121.42 993.595,1120.69 1003.81,1120.09 1014.03,1119.66 1024.25,1119.39 1034.47,1119.27 1044.69,1119.28 1054.91,1119.39 1065.13,1119.58 1075.35,1119.82 1085.57,1120.11 1095.79,1120.41 1106.01,1120.7 1116.23,1120.97 1126.45,1121.2 1136.66,1121.36 1146.88,1121.45 1157.1,1121.46 1167.32,1121.42 1177.54,1121.31 1187.76,1121.15 1197.98,1120.93 1208.2,1120.67 1218.42,1120.38 1228.64,1120.09 1238.86,1119.82 1249.08,1119.56 1259.3,1119.33 1269.51,1119.13 1279.73,1118.98 1289.95,1118.86 1300.17,1118.8 1310.39,1118.79 1320.61,1118.81 1330.83,1118.86 1341.05,1118.93 1351.27,1119.01 1361.49,1119.1 1371.71,1119.19 1381.93,1119.29 1392.15,1119.38 1402.37,1119.47 1412.58,1119.55 1422.8,1119.61 1433.02,1119.64 1443.24,1119.65 1453.46,1119.62 1463.68,1119.55 1473.9,1119.45 1484.12,1119.35 1494.34,1119.24 1504.56,1119.13 1514.78,1119.03 1525,1118.94 1535.22,1118.86 1545.43,1118.8 1555.65,1118.75 1565.87,1118.74 1576.09,1118.74 1586.31,1118.76 1596.53,1118.79 1606.75,1118.83 1616.97,1118.88 1627.19,1118.94 1637.41,1119 1647.63,1119.07 1657.85,1119.13 1668.07,1119.19 1678.29,1119.24 1688.5,1119.27 1698.72,1119.26 1708.94,1119.24 1719.16,1119.22 1729.38,1119.18 1739.6,1119.14 1749.82,1119.1 1760.04,1119.04 1770.26,1118.98 1780.48,1118.92 1790.7,1118.86 1800.92,1118.82 1811.14,1118.78 1821.35,1118.77 1831.57,1118.78 1841.79,1118.79 1852.01,1118.81 1862.23,1118.83 1872.45,1118.87 1882.67,1118.91 1892.89,1118.95 1903.11,1119 1913.33,1119.06 1923.55,1119.1 1933.77,1119.14 1943.99,1119.17 1954.2,1119.17 1964.42,1119.16 1974.64,1119.14 1984.86,1119.11 1995.08,1119.09 2005.3,1119.05 2015.52,1119.01 2025.74,1118.96 2035.96,1118.91 2046.18,1118.86 2056.4,1118.82 2066.62,1118.78 2076.84,1118.76 2087.06,1118.76 2097.27,1118.78 2107.49,1118.81 2117.71,1118.84 2127.93,1118.88 2138.15,1118.91 2148.37,1118.96 2158.59,1119 2168.81,1119.05 2179.03,1119.09 2189.25,1119.13 2199.47,1119.17 2209.69,1119.18 2219.91,1119.18 2230.12,1119.16 2240.34,1119.11 2250.56,1119.06 2260.78,1119.01 2271,1118.97 2281.22,1118.92 2291.44,1118.89 \"/>\n",
       "<path clip-path=\"url(#clip540)\" d=\"M2009.75 354.418 L2280.54 354.418 L2280.54 95.2176 L2009.75 95.2176  Z\" fill=\"#ffffff\" fill-rule=\"evenodd\" fill-opacity=\"1\"/>\n",
       "<polyline clip-path=\"url(#clip540)\" style=\"stroke:#000000; stroke-linecap:round; stroke-linejoin:round; stroke-width:4; stroke-opacity:1; fill:none\" points=\"2009.75,354.418 2280.54,354.418 2280.54,95.2176 2009.75,95.2176 2009.75,354.418 \"/>\n",
       "<polyline clip-path=\"url(#clip540)\" style=\"stroke:#009af9; stroke-linecap:round; stroke-linejoin:round; stroke-width:4; stroke-opacity:1; fill:none\" points=\"2033.82,147.058 2178.25,147.058 \"/>\n",
       "<path clip-path=\"url(#clip540)\" d=\"M2216.17 166.745 Q2214.36 171.375 2212.65 172.787 Q2210.94 174.199 2208.07 174.199 L2204.66 174.199 L2204.66 170.634 L2207.16 170.634 Q2208.92 170.634 2209.89 169.8 Q2210.87 168.967 2212.05 165.865 L2212.81 163.921 L2202.32 138.412 L2206.84 138.412 L2214.94 158.689 L2223.04 138.412 L2227.56 138.412 L2216.17 166.745 Z\" fill=\"#000000\" fill-rule=\"nonzero\" fill-opacity=\"1\" /><path clip-path=\"url(#clip540)\" d=\"M2234.85 160.402 L2242.49 160.402 L2242.49 134.037 L2234.18 135.703 L2234.18 131.444 L2242.44 129.778 L2247.12 129.778 L2247.12 160.402 L2254.75 160.402 L2254.75 164.338 L2234.85 164.338 L2234.85 160.402 Z\" fill=\"#000000\" fill-rule=\"nonzero\" fill-opacity=\"1\" /><polyline clip-path=\"url(#clip540)\" style=\"stroke:#e26f46; stroke-linecap:round; stroke-linejoin:round; stroke-width:4; stroke-opacity:1; fill:none\" points=\"2033.82,198.898 2178.25,198.898 \"/>\n",
       "<path clip-path=\"url(#clip540)\" d=\"M2216.17 218.585 Q2214.36 223.215 2212.65 224.627 Q2210.94 226.039 2208.07 226.039 L2204.66 226.039 L2204.66 222.474 L2207.16 222.474 Q2208.92 222.474 2209.89 221.64 Q2210.87 220.807 2212.05 217.705 L2212.81 215.761 L2202.32 190.252 L2206.84 190.252 L2214.94 210.529 L2223.04 190.252 L2227.56 190.252 L2216.17 218.585 Z\" fill=\"#000000\" fill-rule=\"nonzero\" fill-opacity=\"1\" /><path clip-path=\"url(#clip540)\" d=\"M2238.07 212.242 L2254.38 212.242 L2254.38 216.178 L2232.44 216.178 L2232.44 212.242 Q2235.1 209.488 2239.69 204.858 Q2244.29 200.205 2245.47 198.863 Q2247.72 196.34 2248.6 194.604 Q2249.5 192.844 2249.5 191.155 Q2249.5 188.4 2247.56 186.664 Q2245.63 184.928 2242.53 184.928 Q2240.33 184.928 2237.88 185.692 Q2235.45 186.455 2232.67 188.006 L2232.67 183.284 Q2235.5 182.15 2237.95 181.571 Q2240.4 180.993 2242.44 180.993 Q2247.81 180.993 2251 183.678 Q2254.2 186.363 2254.2 190.854 Q2254.2 192.983 2253.39 194.905 Q2252.6 196.803 2250.5 199.395 Q2249.92 200.067 2246.82 203.284 Q2243.71 206.479 2238.07 212.242 Z\" fill=\"#000000\" fill-rule=\"nonzero\" fill-opacity=\"1\" /><polyline clip-path=\"url(#clip540)\" style=\"stroke:#3da44d; stroke-linecap:round; stroke-linejoin:round; stroke-width:4; stroke-opacity:1; fill:none\" points=\"2033.82,250.738 2178.25,250.738 \"/>\n",
       "<path clip-path=\"url(#clip540)\" d=\"M2216.17 270.425 Q2214.36 275.055 2212.65 276.467 Q2210.94 277.879 2208.07 277.879 L2204.66 277.879 L2204.66 274.314 L2207.16 274.314 Q2208.92 274.314 2209.89 273.48 Q2210.87 272.647 2212.05 269.545 L2212.81 267.601 L2202.32 242.092 L2206.84 242.092 L2214.94 262.369 L2223.04 242.092 L2227.56 242.092 L2216.17 270.425 Z\" fill=\"#000000\" fill-rule=\"nonzero\" fill-opacity=\"1\" /><path clip-path=\"url(#clip540)\" d=\"M2248.2 249.383 Q2251.56 250.101 2253.44 252.369 Q2255.33 254.638 2255.33 257.971 Q2255.33 263.087 2251.82 265.888 Q2248.3 268.689 2241.82 268.689 Q2239.64 268.689 2237.32 268.249 Q2235.03 267.832 2232.58 266.976 L2232.58 262.462 Q2234.52 263.596 2236.84 264.175 Q2239.15 264.754 2241.68 264.754 Q2246.07 264.754 2248.37 263.018 Q2250.68 261.281 2250.68 257.971 Q2250.68 254.916 2248.53 253.203 Q2246.4 251.467 2242.58 251.467 L2238.55 251.467 L2238.55 247.624 L2242.76 247.624 Q2246.21 247.624 2248.04 246.258 Q2249.87 244.87 2249.87 242.277 Q2249.87 239.615 2247.97 238.203 Q2246.1 236.768 2242.58 236.768 Q2240.66 236.768 2238.46 237.184 Q2236.26 237.601 2233.62 238.481 L2233.62 234.314 Q2236.28 233.573 2238.6 233.203 Q2240.94 232.833 2243 232.833 Q2248.32 232.833 2251.42 235.263 Q2254.52 237.67 2254.52 241.791 Q2254.52 244.661 2252.88 246.652 Q2251.24 248.62 2248.2 249.383 Z\" fill=\"#000000\" fill-rule=\"nonzero\" fill-opacity=\"1\" /><polyline clip-path=\"url(#clip540)\" style=\"stroke:#c271d2; stroke-linecap:round; stroke-linejoin:round; stroke-width:4; stroke-opacity:1; fill:none\" points=\"2033.82,302.578 2178.25,302.578 \"/>\n",
       "<path clip-path=\"url(#clip540)\" d=\"M2216.17 322.265 Q2214.36 326.895 2212.65 328.307 Q2210.94 329.719 2208.07 329.719 L2204.66 329.719 L2204.66 326.154 L2207.16 326.154 Q2208.92 326.154 2209.89 325.32 Q2210.87 324.487 2212.05 321.385 L2212.81 319.441 L2202.32 293.932 L2206.84 293.932 L2214.94 314.209 L2223.04 293.932 L2227.56 293.932 L2216.17 322.265 Z\" fill=\"#000000\" fill-rule=\"nonzero\" fill-opacity=\"1\" /><path clip-path=\"url(#clip540)\" d=\"M2246.88 289.372 L2235.08 307.821 L2246.88 307.821 L2246.88 289.372 M2245.66 285.298 L2251.54 285.298 L2251.54 307.821 L2256.47 307.821 L2256.47 311.709 L2251.54 311.709 L2251.54 319.858 L2246.88 319.858 L2246.88 311.709 L2231.28 311.709 L2231.28 307.196 L2245.66 285.298 Z\" fill=\"#000000\" fill-rule=\"nonzero\" fill-opacity=\"1\" /></svg>\n"
      ]
     },
     "execution_count": 153,
     "metadata": {},
     "output_type": "execute_result"
    }
   ],
   "source": [
    "using Plots\n",
    "\n",
    "plot()\n",
    "for i ∈ 1:length(states)\n",
    "    plot!([real(u[i,i]) for u ∈ sol.u])\n",
    "end\n",
    "plot!()"
   ]
  },
  {
   "cell_type": "code",
   "execution_count": null,
   "id": "b1afc7bf-4a7c-486f-846c-0bbd8d42aac8",
   "metadata": {},
   "outputs": [],
   "source": []
  }
 ],
 "metadata": {
  "kernelspec": {
   "display_name": "Julia (20 threads) 1.9.3",
   "language": "julia",
   "name": "julia-_20-threads_-1.9"
  },
  "language_info": {
   "file_extension": ".jl",
   "mimetype": "application/julia",
   "name": "julia",
   "version": "1.9.3"
  }
 },
 "nbformat": 4,
 "nbformat_minor": 5
}
